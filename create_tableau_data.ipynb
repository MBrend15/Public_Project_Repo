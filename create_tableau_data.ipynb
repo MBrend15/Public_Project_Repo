{
 "cells": [
  {
   "cell_type": "code",
   "execution_count": 1,
   "id": "1c5002ac-9cf6-4082-bd31-0bd2befac188",
   "metadata": {
    "tags": []
   },
   "outputs": [
    {
     "name": "stderr",
     "output_type": "stream",
     "text": [
      "Warning: Ignoring non-Spark config property: fs.s3a.access.key\n",
      "Warning: Ignoring non-Spark config property: fs.s3a.secret.key\n"
     ]
    },
    {
     "name": "stdout",
     "output_type": "stream",
     "text": [
      ":: loading settings :: url = jar:file:/home/ec2-user/anaconda3/envs/python3/lib/python3.10/site-packages/pyspark/jars/ivy-2.5.0.jar!/org/apache/ivy/core/settings/ivysettings.xml\n"
     ]
    },
    {
     "name": "stderr",
     "output_type": "stream",
     "text": [
      "Ivy Default Cache set to: /home/ec2-user/.ivy2/cache\n",
      "The jars for the packages stored in: /home/ec2-user/.ivy2/jars\n",
      "graphframes#graphframes added as a dependency\n",
      ":: resolving dependencies :: org.apache.spark#spark-submit-parent-800bfd82-4891-4304-b947-51b0958ad07e;1.0\n",
      "\tconfs: [default]\n",
      "\tfound graphframes#graphframes;0.8.2-spark3.2-s_2.12 in spark-packages\n",
      "\tfound org.slf4j#slf4j-api;1.7.16 in central\n",
      ":: resolution report :: resolve 215ms :: artifacts dl 5ms\n",
      "\t:: modules in use:\n",
      "\tgraphframes#graphframes;0.8.2-spark3.2-s_2.12 from spark-packages in [default]\n",
      "\torg.slf4j#slf4j-api;1.7.16 from central in [default]\n",
      "\t---------------------------------------------------------------------\n",
      "\t|                  |            modules            ||   artifacts   |\n",
      "\t|       conf       | number| search|dwnlded|evicted|| number|dwnlded|\n",
      "\t---------------------------------------------------------------------\n",
      "\t|      default     |   2   |   0   |   0   |   0   ||   2   |   0   |\n",
      "\t---------------------------------------------------------------------\n",
      ":: retrieving :: org.apache.spark#spark-submit-parent-800bfd82-4891-4304-b947-51b0958ad07e\n",
      "\tconfs: [default]\n",
      "\t0 artifacts copied, 2 already retrieved (0kB/5ms)\n"
     ]
    },
    {
     "name": "stdout",
     "output_type": "stream",
     "text": [
      "23/03/11 08:27:20 WARN NativeCodeLoader: Unable to load native-hadoop library for your platform... using builtin-java classes where applicable\n"
     ]
    },
    {
     "name": "stderr",
     "output_type": "stream",
     "text": [
      "Setting default log level to \"WARN\".\n",
      "To adjust logging level use sc.setLogLevel(newLevel). For SparkR, use setLogLevel(newLevel).\n"
     ]
    },
    {
     "name": "stdout",
     "output_type": "stream",
     "text": [
      "23/03/11 08:27:20 WARN SparkConf: Note that spark.local.dir will be overridden by the value set by the cluster manager (via SPARK_LOCAL_DIRS in mesos/standalone/kubernetes and LOCAL_DIRS in YARN).\n"
     ]
    }
   ],
   "source": [
    "%run ./read_file.ipynb"
   ]
  },
  {
   "cell_type": "code",
   "execution_count": 2,
   "id": "16e819a0-bfe6-494a-8345-d1a02ba647b6",
   "metadata": {},
   "outputs": [],
   "source": [
    "from pyspark.sql import Window\n",
    "from pyspark.sql.functions import rank"
   ]
  },
  {
   "cell_type": "code",
   "execution_count": 3,
   "id": "0924c8cc-824e-45a6-8133-400fbeb80daa",
   "metadata": {
    "tags": []
   },
   "outputs": [
    {
     "name": "stderr",
     "output_type": "stream",
     "text": [
      "                                                                                \r"
     ]
    },
    {
     "name": "stdout",
     "output_type": "stream",
     "text": [
      " 8:27AM UTC on Mar 11, 2023 --- read and cache time: 10.411009073257446 seconds ---\n"
     ]
    }
   ],
   "source": [
    "df = readCheckpoint(size='test').cache()"
   ]
  },
  {
   "cell_type": "code",
   "execution_count": 4,
   "id": "0cfe452e-a171-4719-9241-67d26dcf3d59",
   "metadata": {
    "tags": []
   },
   "outputs": [
    {
     "name": "stdout",
     "output_type": "stream",
     "text": [
      "root\n",
      " |-- id: string (nullable = true)\n",
      " |-- timestamp: timestamp (nullable = true)\n",
      " |-- objectID: string (nullable = true)\n",
      " |-- actorID: string (nullable = true)\n",
      " |-- object: string (nullable = true)\n",
      " |-- action: string (nullable = true)\n",
      " |-- hostname: string (nullable = true)\n",
      " |-- user_name: string (nullable = true)\n",
      " |-- privileges: string (nullable = true)\n",
      " |-- image_path: string (nullable = true)\n",
      " |-- parent_image_path: string (nullable = true)\n",
      " |-- new_path: string (nullable = true)\n",
      " |-- file_path: string (nullable = true)\n",
      " |-- direction: string (nullable = true)\n",
      " |-- logon_id: string (nullable = true)\n",
      " |-- requesting_domain: string (nullable = true)\n",
      " |-- requesting_user: string (nullable = true)\n",
      " |-- event_minute: integer (nullable = true)\n",
      " |-- event_day: integer (nullable = true)\n",
      " |-- event_hour: integer (nullable = true)\n",
      " |-- malicious: integer (nullable = true)\n",
      "\n"
     ]
    }
   ],
   "source": [
    "df.printSchema()"
   ]
  },
  {
   "cell_type": "code",
   "execution_count": 5,
   "id": "96cce570-464f-4e4b-8223-1d50a412024f",
   "metadata": {
    "tags": []
   },
   "outputs": [
    {
     "name": "stderr",
     "output_type": "stream",
     "text": [
      "                                                                                \r"
     ]
    },
    {
     "data": {
      "text/plain": [
       "124142075"
      ]
     },
     "execution_count": 5,
     "metadata": {},
     "output_type": "execute_result"
    }
   ],
   "source": [
    "df.count()"
   ]
  },
  {
   "cell_type": "code",
   "execution_count": 6,
   "id": "d5480a00-45c7-47f1-b5d2-a5b712b5e8b1",
   "metadata": {
    "tags": []
   },
   "outputs": [],
   "source": [
    "#filter to 3 malicious hosts\n",
    "\n",
    "def get_firsts(df):\n",
    "    # this drops duplicates and gets the first appearance of each relationship entry\n",
    "    window = Window.partitionBy(\"relationship\").orderBy(\"timestamp\")\n",
    "    df_new = df.withColumn('relationship', concat(df.objectID, lit('->'),df.actorID) ) \\\n",
    "                .withColumn('rank', rank().over(window)) \\\n",
    "                .filter(col('rank') == 1) \\\n",
    "                .drop('rank') \\\n",
    "                .cache()\n",
    "    df.unpersist()\n",
    "    return df_new"
   ]
  },
  {
   "cell_type": "code",
   "execution_count": 7,
   "id": "72a8f84a-fa00-460d-86eb-2d9d04e4932b",
   "metadata": {},
   "outputs": [],
   "source": [
    "df = get_firsts(df)"
   ]
  },
  {
   "cell_type": "code",
   "execution_count": 8,
   "id": "bcaf32ed-5a6a-4645-b21e-9ad4f5542bfb",
   "metadata": {
    "tags": []
   },
   "outputs": [
    {
     "name": "stderr",
     "output_type": "stream",
     "text": [
      "                                                                                \r"
     ]
    },
    {
     "data": {
      "text/plain": [
       "60"
      ]
     },
     "execution_count": 8,
     "metadata": {},
     "output_type": "execute_result"
    }
   ],
   "source": [
    "ev_mins = [row.event_minute for row in df.select(\"event_minute\").distinct().collect()]\n",
    "len(ev_mins)\n",
    "# x is the number of hours\n",
    "# y is the maximum number of events for any hour in a graph\n",
    "# x_axis = 2*(x-1)+2\n",
    "# y_axis = 2*(y-1)+2"
   ]
  },
  {
   "cell_type": "code",
   "execution_count": 52,
   "id": "26ef2377",
   "metadata": {
    "tags": []
   },
   "outputs": [
    {
     "data": {
      "text/plain": [
       "11"
      ]
     },
     "execution_count": 52,
     "metadata": {},
     "output_type": "execute_result"
    }
   ],
   "source": [
    "<<<<<<< LOCAL CELL DELETED >>>>>>>\n",
    "ev_mins = [row.event_minute for row in df.select(\"event_minute\").distinct().collect()]\n",
    "len(ev_mins)\n",
    "# x = max events per min\n",
    "# y = total minutes\n",
    "# x_axis = 2*(x-1) + 2\n",
    "# y_axis = 2*(y+2)"
   ]
  },
  {
   "cell_type": "code",
   "execution_count": 9,
   "id": "95c3d08f-be85-4c86-ad22-6148888377ea",
   "metadata": {
    "tags": []
   },
   "outputs": [
    {
     "name": "stderr",
     "output_type": "stream",
     "text": [
      "/home/ec2-user/anaconda3/envs/python3/lib/python3.10/site-packages/pyspark/sql/pandas/conversion.py:248: FutureWarning: Passing unit-less datetime64 dtype to .astype is deprecated and will raise in a future version. Pass 'datetime64[ns]' instead\n",
      "  series = series.astype(t, copy=False)\n"
     ]
    },
    {
     "data": {
      "text/html": [
       "<div>\n",
       "<style scoped>\n",
       "    .dataframe tbody tr th:only-of-type {\n",
       "        vertical-align: middle;\n",
       "    }\n",
       "\n",
       "    .dataframe tbody tr th {\n",
       "        vertical-align: top;\n",
       "    }\n",
       "\n",
       "    .dataframe thead th {\n",
       "        text-align: right;\n",
       "    }\n",
       "</style>\n",
       "<table border=\"1\" class=\"dataframe\">\n",
       "  <thead>\n",
       "    <tr style=\"text-align: right;\">\n",
       "      <th></th>\n",
       "      <th>id</th>\n",
       "      <th>timestamp</th>\n",
       "      <th>objectID</th>\n",
       "      <th>actorID</th>\n",
       "      <th>object</th>\n",
       "      <th>action</th>\n",
       "      <th>hostname</th>\n",
       "      <th>user_name</th>\n",
       "      <th>privileges</th>\n",
       "      <th>image_path</th>\n",
       "      <th>...</th>\n",
       "      <th>file_path</th>\n",
       "      <th>direction</th>\n",
       "      <th>logon_id</th>\n",
       "      <th>requesting_domain</th>\n",
       "      <th>requesting_user</th>\n",
       "      <th>event_minute</th>\n",
       "      <th>event_day</th>\n",
       "      <th>event_hour</th>\n",
       "      <th>malicious</th>\n",
       "      <th>relationship</th>\n",
       "    </tr>\n",
       "  </thead>\n",
       "  <tbody>\n",
       "    <tr>\n",
       "      <th>0</th>\n",
       "      <td>01ab472d-19f4-4ff5-8af6-eb16da85ee45</td>\n",
       "      <td>2019-09-23 22:33:02.702</td>\n",
       "      <td>00008552-84cd-4238-a460-857b15abb0a6</td>\n",
       "      <td>d2c26be6-d5c4-48c0-b9ef-318a289020f1</td>\n",
       "      <td>FILE</td>\n",
       "      <td>READ</td>\n",
       "      <td>SysClient0006.systemia.com</td>\n",
       "      <td>None</td>\n",
       "      <td>None</td>\n",
       "      <td>\\Device\\HarddiskVolume1\\Windows\\SysWOW64\\OneDr...</td>\n",
       "      <td>...</td>\n",
       "      <td>\\Device\\HarddiskVolume1\\ncr\\kickoff\\ncr_utilit...</td>\n",
       "      <td>None</td>\n",
       "      <td>None</td>\n",
       "      <td>None</td>\n",
       "      <td>None</td>\n",
       "      <td>33</td>\n",
       "      <td>23</td>\n",
       "      <td>22</td>\n",
       "      <td>0</td>\n",
       "      <td>00008552-84cd-4238-a460-857b15abb0a6-&gt;d2c26be6...</td>\n",
       "    </tr>\n",
       "    <tr>\n",
       "      <th>1</th>\n",
       "      <td>7647f142-05ff-4cd9-b3ec-fa01f57370cc</td>\n",
       "      <td>2019-09-23 14:50:57.390</td>\n",
       "      <td>0001b62c-d8e6-499b-a127-2f1b5aeae906</td>\n",
       "      <td>4d83fca5-7044-496d-9bc0-3c7fd7d248ac</td>\n",
       "      <td>PROCESS</td>\n",
       "      <td>OPEN</td>\n",
       "      <td>SysClient0621.systemia.com</td>\n",
       "      <td>None</td>\n",
       "      <td>None</td>\n",
       "      <td>\\Device\\HarddiskVolume1\\Program Files (x86)\\Go...</td>\n",
       "      <td>...</td>\n",
       "      <td>None</td>\n",
       "      <td>None</td>\n",
       "      <td>None</td>\n",
       "      <td>None</td>\n",
       "      <td>None</td>\n",
       "      <td>50</td>\n",
       "      <td>23</td>\n",
       "      <td>14</td>\n",
       "      <td>0</td>\n",
       "      <td>0001b62c-d8e6-499b-a127-2f1b5aeae906-&gt;4d83fca5...</td>\n",
       "    </tr>\n",
       "    <tr>\n",
       "      <th>2</th>\n",
       "      <td>b736db13-c989-4518-92ab-d0eaeab37635</td>\n",
       "      <td>2019-09-23 14:50:57.390</td>\n",
       "      <td>0001b62c-d8e6-499b-a127-2f1b5aeae906</td>\n",
       "      <td>4d83fca5-7044-496d-9bc0-3c7fd7d248ac</td>\n",
       "      <td>PROCESS</td>\n",
       "      <td>OPEN</td>\n",
       "      <td>SysClient0621.systemia.com</td>\n",
       "      <td>None</td>\n",
       "      <td>None</td>\n",
       "      <td>\\Device\\HarddiskVolume1\\Program Files (x86)\\Go...</td>\n",
       "      <td>...</td>\n",
       "      <td>None</td>\n",
       "      <td>None</td>\n",
       "      <td>None</td>\n",
       "      <td>None</td>\n",
       "      <td>None</td>\n",
       "      <td>50</td>\n",
       "      <td>23</td>\n",
       "      <td>14</td>\n",
       "      <td>0</td>\n",
       "      <td>0001b62c-d8e6-499b-a127-2f1b5aeae906-&gt;4d83fca5...</td>\n",
       "    </tr>\n",
       "    <tr>\n",
       "      <th>3</th>\n",
       "      <td>742308b3-591b-4a0f-bfc6-ffd7561e8f3a</td>\n",
       "      <td>2019-09-23 13:44:17.181</td>\n",
       "      <td>0001e11a-ac5f-4469-9a7d-4d66dfdc5a2a</td>\n",
       "      <td>98d06282-e731-4bd3-902b-999ead640dfa</td>\n",
       "      <td>FILE</td>\n",
       "      <td>MODIFY</td>\n",
       "      <td>SysClient0417.systemia.com</td>\n",
       "      <td>None</td>\n",
       "      <td>None</td>\n",
       "      <td>System</td>\n",
       "      <td>...</td>\n",
       "      <td>\\Device\\HarddiskVolume1\\Program Files (x86)\\Mi...</td>\n",
       "      <td>None</td>\n",
       "      <td>None</td>\n",
       "      <td>None</td>\n",
       "      <td>None</td>\n",
       "      <td>44</td>\n",
       "      <td>23</td>\n",
       "      <td>13</td>\n",
       "      <td>0</td>\n",
       "      <td>0001e11a-ac5f-4469-9a7d-4d66dfdc5a2a-&gt;98d06282...</td>\n",
       "    </tr>\n",
       "    <tr>\n",
       "      <th>4</th>\n",
       "      <td>1893d0c9-00e4-4178-8827-0ddd35e8bf29</td>\n",
       "      <td>2019-09-23 17:22:06.808</td>\n",
       "      <td>00020875-07dd-48f2-aafd-0ed054ad6897</td>\n",
       "      <td>b56a9404-9fcb-444b-82c9-2ff05b41e2c5</td>\n",
       "      <td>FLOW</td>\n",
       "      <td>INFO</td>\n",
       "      <td>SysClient0816.systemia.com</td>\n",
       "      <td>None</td>\n",
       "      <td>None</td>\n",
       "      <td>None</td>\n",
       "      <td>...</td>\n",
       "      <td>None</td>\n",
       "      <td>None</td>\n",
       "      <td>None</td>\n",
       "      <td>None</td>\n",
       "      <td>None</td>\n",
       "      <td>22</td>\n",
       "      <td>23</td>\n",
       "      <td>17</td>\n",
       "      <td>0</td>\n",
       "      <td>00020875-07dd-48f2-aafd-0ed054ad6897-&gt;b56a9404...</td>\n",
       "    </tr>\n",
       "  </tbody>\n",
       "</table>\n",
       "<p>5 rows × 22 columns</p>\n",
       "</div>"
      ],
      "text/plain": [
       "                                     id               timestamp  \\\n",
       "0  01ab472d-19f4-4ff5-8af6-eb16da85ee45 2019-09-23 22:33:02.702   \n",
       "1  7647f142-05ff-4cd9-b3ec-fa01f57370cc 2019-09-23 14:50:57.390   \n",
       "2  b736db13-c989-4518-92ab-d0eaeab37635 2019-09-23 14:50:57.390   \n",
       "3  742308b3-591b-4a0f-bfc6-ffd7561e8f3a 2019-09-23 13:44:17.181   \n",
       "4  1893d0c9-00e4-4178-8827-0ddd35e8bf29 2019-09-23 17:22:06.808   \n",
       "\n",
       "                               objectID                               actorID  \\\n",
       "0  00008552-84cd-4238-a460-857b15abb0a6  d2c26be6-d5c4-48c0-b9ef-318a289020f1   \n",
       "1  0001b62c-d8e6-499b-a127-2f1b5aeae906  4d83fca5-7044-496d-9bc0-3c7fd7d248ac   \n",
       "2  0001b62c-d8e6-499b-a127-2f1b5aeae906  4d83fca5-7044-496d-9bc0-3c7fd7d248ac   \n",
       "3  0001e11a-ac5f-4469-9a7d-4d66dfdc5a2a  98d06282-e731-4bd3-902b-999ead640dfa   \n",
       "4  00020875-07dd-48f2-aafd-0ed054ad6897  b56a9404-9fcb-444b-82c9-2ff05b41e2c5   \n",
       "\n",
       "    object  action                    hostname user_name privileges  \\\n",
       "0     FILE    READ  SysClient0006.systemia.com      None       None   \n",
       "1  PROCESS    OPEN  SysClient0621.systemia.com      None       None   \n",
       "2  PROCESS    OPEN  SysClient0621.systemia.com      None       None   \n",
       "3     FILE  MODIFY  SysClient0417.systemia.com      None       None   \n",
       "4     FLOW    INFO  SysClient0816.systemia.com      None       None   \n",
       "\n",
       "                                          image_path  ...  \\\n",
       "0  \\Device\\HarddiskVolume1\\Windows\\SysWOW64\\OneDr...  ...   \n",
       "1  \\Device\\HarddiskVolume1\\Program Files (x86)\\Go...  ...   \n",
       "2  \\Device\\HarddiskVolume1\\Program Files (x86)\\Go...  ...   \n",
       "3                                             System  ...   \n",
       "4                                               None  ...   \n",
       "\n",
       "                                           file_path direction logon_id  \\\n",
       "0  \\Device\\HarddiskVolume1\\ncr\\kickoff\\ncr_utilit...      None     None   \n",
       "1                                               None      None     None   \n",
       "2                                               None      None     None   \n",
       "3  \\Device\\HarddiskVolume1\\Program Files (x86)\\Mi...      None     None   \n",
       "4                                               None      None     None   \n",
       "\n",
       "  requesting_domain requesting_user event_minute event_day  event_hour  \\\n",
       "0              None            None           33        23          22   \n",
       "1              None            None           50        23          14   \n",
       "2              None            None           50        23          14   \n",
       "3              None            None           44        23          13   \n",
       "4              None            None           22        23          17   \n",
       "\n",
       "   malicious                                       relationship  \n",
       "0          0  00008552-84cd-4238-a460-857b15abb0a6->d2c26be6...  \n",
       "1          0  0001b62c-d8e6-499b-a127-2f1b5aeae906->4d83fca5...  \n",
       "2          0  0001b62c-d8e6-499b-a127-2f1b5aeae906->4d83fca5...  \n",
       "3          0  0001e11a-ac5f-4469-9a7d-4d66dfdc5a2a->98d06282...  \n",
       "4          0  00020875-07dd-48f2-aafd-0ed054ad6897->b56a9404...  \n",
       "\n",
       "[5 rows x 22 columns]"
      ]
     },
     "execution_count": 9,
     "metadata": {},
     "output_type": "execute_result"
    }
   ],
   "source": [
    "df.limit(5).toPandas()"
   ]
  },
  {
   "cell_type": "code",
   "execution_count": 10,
   "id": "c042a899-4b99-45a4-a13d-90c4e2861f76",
   "metadata": {
    "tags": []
   },
   "outputs": [],
   "source": [
    "# create new dataframe to union and create duplicate rows\n",
    "df_dup = df.withColumn('id', lit(None).cast(StringType()))"
   ]
  },
  {
   "cell_type": "code",
   "execution_count": 11,
   "id": "e5d4873c-793e-40ba-8b0a-e62b72ec9a48",
   "metadata": {
    "tags": []
   },
   "outputs": [
    {
     "name": "stderr",
     "output_type": "stream",
     "text": [
      "/home/ec2-user/anaconda3/envs/python3/lib/python3.10/site-packages/pyspark/sql/pandas/conversion.py:248: FutureWarning: Passing unit-less datetime64 dtype to .astype is deprecated and will raise in a future version. Pass 'datetime64[ns]' instead\n",
      "  series = series.astype(t, copy=False)\n"
     ]
    },
    {
     "data": {
      "text/html": [
       "<div>\n",
       "<style scoped>\n",
       "    .dataframe tbody tr th:only-of-type {\n",
       "        vertical-align: middle;\n",
       "    }\n",
       "\n",
       "    .dataframe tbody tr th {\n",
       "        vertical-align: top;\n",
       "    }\n",
       "\n",
       "    .dataframe thead th {\n",
       "        text-align: right;\n",
       "    }\n",
       "</style>\n",
       "<table border=\"1\" class=\"dataframe\">\n",
       "  <thead>\n",
       "    <tr style=\"text-align: right;\">\n",
       "      <th></th>\n",
       "      <th>id</th>\n",
       "      <th>timestamp</th>\n",
       "      <th>objectID</th>\n",
       "      <th>actorID</th>\n",
       "      <th>object</th>\n",
       "      <th>action</th>\n",
       "      <th>hostname</th>\n",
       "      <th>user_name</th>\n",
       "      <th>privileges</th>\n",
       "      <th>image_path</th>\n",
       "      <th>...</th>\n",
       "      <th>file_path</th>\n",
       "      <th>direction</th>\n",
       "      <th>logon_id</th>\n",
       "      <th>requesting_domain</th>\n",
       "      <th>requesting_user</th>\n",
       "      <th>event_minute</th>\n",
       "      <th>event_day</th>\n",
       "      <th>event_hour</th>\n",
       "      <th>malicious</th>\n",
       "      <th>relationship</th>\n",
       "    </tr>\n",
       "  </thead>\n",
       "  <tbody>\n",
       "    <tr>\n",
       "      <th>0</th>\n",
       "      <td>None</td>\n",
       "      <td>2019-09-23 22:33:02.702</td>\n",
       "      <td>00008552-84cd-4238-a460-857b15abb0a6</td>\n",
       "      <td>d2c26be6-d5c4-48c0-b9ef-318a289020f1</td>\n",
       "      <td>FILE</td>\n",
       "      <td>READ</td>\n",
       "      <td>SysClient0006.systemia.com</td>\n",
       "      <td>None</td>\n",
       "      <td>None</td>\n",
       "      <td>\\Device\\HarddiskVolume1\\Windows\\SysWOW64\\OneDr...</td>\n",
       "      <td>...</td>\n",
       "      <td>\\Device\\HarddiskVolume1\\ncr\\kickoff\\ncr_utilit...</td>\n",
       "      <td>None</td>\n",
       "      <td>None</td>\n",
       "      <td>None</td>\n",
       "      <td>None</td>\n",
       "      <td>33</td>\n",
       "      <td>23</td>\n",
       "      <td>22</td>\n",
       "      <td>0</td>\n",
       "      <td>00008552-84cd-4238-a460-857b15abb0a6-&gt;d2c26be6...</td>\n",
       "    </tr>\n",
       "    <tr>\n",
       "      <th>1</th>\n",
       "      <td>None</td>\n",
       "      <td>2019-09-23 14:50:57.390</td>\n",
       "      <td>0001b62c-d8e6-499b-a127-2f1b5aeae906</td>\n",
       "      <td>4d83fca5-7044-496d-9bc0-3c7fd7d248ac</td>\n",
       "      <td>PROCESS</td>\n",
       "      <td>OPEN</td>\n",
       "      <td>SysClient0621.systemia.com</td>\n",
       "      <td>None</td>\n",
       "      <td>None</td>\n",
       "      <td>\\Device\\HarddiskVolume1\\Program Files (x86)\\Go...</td>\n",
       "      <td>...</td>\n",
       "      <td>None</td>\n",
       "      <td>None</td>\n",
       "      <td>None</td>\n",
       "      <td>None</td>\n",
       "      <td>None</td>\n",
       "      <td>50</td>\n",
       "      <td>23</td>\n",
       "      <td>14</td>\n",
       "      <td>0</td>\n",
       "      <td>0001b62c-d8e6-499b-a127-2f1b5aeae906-&gt;4d83fca5...</td>\n",
       "    </tr>\n",
       "    <tr>\n",
       "      <th>2</th>\n",
       "      <td>None</td>\n",
       "      <td>2019-09-23 14:50:57.390</td>\n",
       "      <td>0001b62c-d8e6-499b-a127-2f1b5aeae906</td>\n",
       "      <td>4d83fca5-7044-496d-9bc0-3c7fd7d248ac</td>\n",
       "      <td>PROCESS</td>\n",
       "      <td>OPEN</td>\n",
       "      <td>SysClient0621.systemia.com</td>\n",
       "      <td>None</td>\n",
       "      <td>None</td>\n",
       "      <td>\\Device\\HarddiskVolume1\\Program Files (x86)\\Go...</td>\n",
       "      <td>...</td>\n",
       "      <td>None</td>\n",
       "      <td>None</td>\n",
       "      <td>None</td>\n",
       "      <td>None</td>\n",
       "      <td>None</td>\n",
       "      <td>50</td>\n",
       "      <td>23</td>\n",
       "      <td>14</td>\n",
       "      <td>0</td>\n",
       "      <td>0001b62c-d8e6-499b-a127-2f1b5aeae906-&gt;4d83fca5...</td>\n",
       "    </tr>\n",
       "    <tr>\n",
       "      <th>3</th>\n",
       "      <td>None</td>\n",
       "      <td>2019-09-23 13:44:17.181</td>\n",
       "      <td>0001e11a-ac5f-4469-9a7d-4d66dfdc5a2a</td>\n",
       "      <td>98d06282-e731-4bd3-902b-999ead640dfa</td>\n",
       "      <td>FILE</td>\n",
       "      <td>MODIFY</td>\n",
       "      <td>SysClient0417.systemia.com</td>\n",
       "      <td>None</td>\n",
       "      <td>None</td>\n",
       "      <td>System</td>\n",
       "      <td>...</td>\n",
       "      <td>\\Device\\HarddiskVolume1\\Program Files (x86)\\Mi...</td>\n",
       "      <td>None</td>\n",
       "      <td>None</td>\n",
       "      <td>None</td>\n",
       "      <td>None</td>\n",
       "      <td>44</td>\n",
       "      <td>23</td>\n",
       "      <td>13</td>\n",
       "      <td>0</td>\n",
       "      <td>0001e11a-ac5f-4469-9a7d-4d66dfdc5a2a-&gt;98d06282...</td>\n",
       "    </tr>\n",
       "    <tr>\n",
       "      <th>4</th>\n",
       "      <td>None</td>\n",
       "      <td>2019-09-23 17:22:06.808</td>\n",
       "      <td>00020875-07dd-48f2-aafd-0ed054ad6897</td>\n",
       "      <td>b56a9404-9fcb-444b-82c9-2ff05b41e2c5</td>\n",
       "      <td>FLOW</td>\n",
       "      <td>INFO</td>\n",
       "      <td>SysClient0816.systemia.com</td>\n",
       "      <td>None</td>\n",
       "      <td>None</td>\n",
       "      <td>None</td>\n",
       "      <td>...</td>\n",
       "      <td>None</td>\n",
       "      <td>None</td>\n",
       "      <td>None</td>\n",
       "      <td>None</td>\n",
       "      <td>None</td>\n",
       "      <td>22</td>\n",
       "      <td>23</td>\n",
       "      <td>17</td>\n",
       "      <td>0</td>\n",
       "      <td>00020875-07dd-48f2-aafd-0ed054ad6897-&gt;b56a9404...</td>\n",
       "    </tr>\n",
       "  </tbody>\n",
       "</table>\n",
       "<p>5 rows × 22 columns</p>\n",
       "</div>"
      ],
      "text/plain": [
       "     id               timestamp                              objectID  \\\n",
       "0  None 2019-09-23 22:33:02.702  00008552-84cd-4238-a460-857b15abb0a6   \n",
       "1  None 2019-09-23 14:50:57.390  0001b62c-d8e6-499b-a127-2f1b5aeae906   \n",
       "2  None 2019-09-23 14:50:57.390  0001b62c-d8e6-499b-a127-2f1b5aeae906   \n",
       "3  None 2019-09-23 13:44:17.181  0001e11a-ac5f-4469-9a7d-4d66dfdc5a2a   \n",
       "4  None 2019-09-23 17:22:06.808  00020875-07dd-48f2-aafd-0ed054ad6897   \n",
       "\n",
       "                                actorID   object  action  \\\n",
       "0  d2c26be6-d5c4-48c0-b9ef-318a289020f1     FILE    READ   \n",
       "1  4d83fca5-7044-496d-9bc0-3c7fd7d248ac  PROCESS    OPEN   \n",
       "2  4d83fca5-7044-496d-9bc0-3c7fd7d248ac  PROCESS    OPEN   \n",
       "3  98d06282-e731-4bd3-902b-999ead640dfa     FILE  MODIFY   \n",
       "4  b56a9404-9fcb-444b-82c9-2ff05b41e2c5     FLOW    INFO   \n",
       "\n",
       "                     hostname user_name privileges  \\\n",
       "0  SysClient0006.systemia.com      None       None   \n",
       "1  SysClient0621.systemia.com      None       None   \n",
       "2  SysClient0621.systemia.com      None       None   \n",
       "3  SysClient0417.systemia.com      None       None   \n",
       "4  SysClient0816.systemia.com      None       None   \n",
       "\n",
       "                                          image_path  ...  \\\n",
       "0  \\Device\\HarddiskVolume1\\Windows\\SysWOW64\\OneDr...  ...   \n",
       "1  \\Device\\HarddiskVolume1\\Program Files (x86)\\Go...  ...   \n",
       "2  \\Device\\HarddiskVolume1\\Program Files (x86)\\Go...  ...   \n",
       "3                                             System  ...   \n",
       "4                                               None  ...   \n",
       "\n",
       "                                           file_path direction logon_id  \\\n",
       "0  \\Device\\HarddiskVolume1\\ncr\\kickoff\\ncr_utilit...      None     None   \n",
       "1                                               None      None     None   \n",
       "2                                               None      None     None   \n",
       "3  \\Device\\HarddiskVolume1\\Program Files (x86)\\Mi...      None     None   \n",
       "4                                               None      None     None   \n",
       "\n",
       "  requesting_domain requesting_user event_minute event_day  event_hour  \\\n",
       "0              None            None           33        23          22   \n",
       "1              None            None           50        23          14   \n",
       "2              None            None           50        23          14   \n",
       "3              None            None           44        23          13   \n",
       "4              None            None           22        23          17   \n",
       "\n",
       "   malicious                                       relationship  \n",
       "0          0  00008552-84cd-4238-a460-857b15abb0a6->d2c26be6...  \n",
       "1          0  0001b62c-d8e6-499b-a127-2f1b5aeae906->4d83fca5...  \n",
       "2          0  0001b62c-d8e6-499b-a127-2f1b5aeae906->4d83fca5...  \n",
       "3          0  0001e11a-ac5f-4469-9a7d-4d66dfdc5a2a->98d06282...  \n",
       "4          0  00020875-07dd-48f2-aafd-0ed054ad6897->b56a9404...  \n",
       "\n",
       "[5 rows x 22 columns]"
      ]
     },
     "execution_count": 11,
     "metadata": {},
     "output_type": "execute_result"
    }
   ],
   "source": [
    "df_dup.limit(5).toPandas()"
   ]
  },
  {
   "cell_type": "code",
   "execution_count": 12,
   "id": "0a2ef262-3b4b-4659-9e5a-ad65cd30257f",
   "metadata": {
    "tags": []
   },
   "outputs": [
    {
     "data": {
      "text/plain": [
       "DataFrame[id: string, timestamp: timestamp, objectID: string, actorID: string, object: string, action: string, hostname: string, user_name: string, privileges: string, image_path: string, parent_image_path: string, new_path: string, file_path: string, direction: string, logon_id: string, requesting_domain: string, requesting_user: string, event_minute: int, event_day: int, event_hour: int, malicious: int, relationship: string]"
      ]
     },
     "execution_count": 12,
     "metadata": {},
     "output_type": "execute_result"
    }
   ],
   "source": [
    "df_new = df.union(df_dup).sort(\"timestamp\").cache()\n",
    "df.unpersist()"
   ]
  },
  {
   "cell_type": "code",
   "execution_count": 13,
   "id": "d5da3e36-2e52-47b1-a84f-5eefcb4bc16b",
   "metadata": {
    "tags": []
   },
   "outputs": [
    {
     "name": "stderr",
     "output_type": "stream",
     "text": [
      "/home/ec2-user/anaconda3/envs/python3/lib/python3.10/site-packages/pyspark/sql/pandas/conversion.py:248: FutureWarning: Passing unit-less datetime64 dtype to .astype is deprecated and will raise in a future version. Pass 'datetime64[ns]' instead\n",
      "  series = series.astype(t, copy=False)\n"
     ]
    },
    {
     "data": {
      "text/html": [
       "<div>\n",
       "<style scoped>\n",
       "    .dataframe tbody tr th:only-of-type {\n",
       "        vertical-align: middle;\n",
       "    }\n",
       "\n",
       "    .dataframe tbody tr th {\n",
       "        vertical-align: top;\n",
       "    }\n",
       "\n",
       "    .dataframe thead th {\n",
       "        text-align: right;\n",
       "    }\n",
       "</style>\n",
       "<table border=\"1\" class=\"dataframe\">\n",
       "  <thead>\n",
       "    <tr style=\"text-align: right;\">\n",
       "      <th></th>\n",
       "      <th>id</th>\n",
       "      <th>timestamp</th>\n",
       "      <th>objectID</th>\n",
       "      <th>actorID</th>\n",
       "      <th>object</th>\n",
       "      <th>action</th>\n",
       "      <th>hostname</th>\n",
       "      <th>user_name</th>\n",
       "      <th>privileges</th>\n",
       "      <th>image_path</th>\n",
       "      <th>...</th>\n",
       "      <th>file_path</th>\n",
       "      <th>direction</th>\n",
       "      <th>logon_id</th>\n",
       "      <th>requesting_domain</th>\n",
       "      <th>requesting_user</th>\n",
       "      <th>event_minute</th>\n",
       "      <th>event_day</th>\n",
       "      <th>event_hour</th>\n",
       "      <th>malicious</th>\n",
       "      <th>relationship</th>\n",
       "    </tr>\n",
       "  </thead>\n",
       "  <tbody>\n",
       "    <tr>\n",
       "      <th>0</th>\n",
       "      <td>ec8b44f6-4bc6-49c6-bbb1-19486aa5a067</td>\n",
       "      <td>2019-09-23 03:22:03.283</td>\n",
       "      <td>05fd64e2-01e3-475d-867d-d2d28098ddcc</td>\n",
       "      <td>08f1cce5-dced-4f8c-a603-97df325538a8</td>\n",
       "      <td>FILE</td>\n",
       "      <td>WRITE</td>\n",
       "      <td>SysClient0213.systemia.com</td>\n",
       "      <td>None</td>\n",
       "      <td>None</td>\n",
       "      <td>\\Device\\HarddiskVolume1\\lwabeat\\\\lwabeat.exe</td>\n",
       "      <td>...</td>\n",
       "      <td>None</td>\n",
       "      <td>None</td>\n",
       "      <td>None</td>\n",
       "      <td>None</td>\n",
       "      <td>None</td>\n",
       "      <td>22</td>\n",
       "      <td>23</td>\n",
       "      <td>3</td>\n",
       "      <td>0</td>\n",
       "      <td>05fd64e2-01e3-475d-867d-d2d28098ddcc-&gt;08f1cce5...</td>\n",
       "    </tr>\n",
       "    <tr>\n",
       "      <th>1</th>\n",
       "      <td>None</td>\n",
       "      <td>2019-09-23 03:22:03.283</td>\n",
       "      <td>05fd64e2-01e3-475d-867d-d2d28098ddcc</td>\n",
       "      <td>08f1cce5-dced-4f8c-a603-97df325538a8</td>\n",
       "      <td>FILE</td>\n",
       "      <td>WRITE</td>\n",
       "      <td>SysClient0213.systemia.com</td>\n",
       "      <td>None</td>\n",
       "      <td>None</td>\n",
       "      <td>\\Device\\HarddiskVolume1\\lwabeat\\\\lwabeat.exe</td>\n",
       "      <td>...</td>\n",
       "      <td>None</td>\n",
       "      <td>None</td>\n",
       "      <td>None</td>\n",
       "      <td>None</td>\n",
       "      <td>None</td>\n",
       "      <td>22</td>\n",
       "      <td>23</td>\n",
       "      <td>3</td>\n",
       "      <td>0</td>\n",
       "      <td>05fd64e2-01e3-475d-867d-d2d28098ddcc-&gt;08f1cce5...</td>\n",
       "    </tr>\n",
       "    <tr>\n",
       "      <th>2</th>\n",
       "      <td>bc9af9c8-cbc3-4393-96b4-81b19a92465d</td>\n",
       "      <td>2019-09-23 03:22:03.389</td>\n",
       "      <td>05fd64e2-01e3-475d-867d-d2d28098ddcc</td>\n",
       "      <td>74ebc904-dbed-4c0b-b594-e72de07f59a1</td>\n",
       "      <td>FILE</td>\n",
       "      <td>WRITE</td>\n",
       "      <td>SysClient0213.systemia.com</td>\n",
       "      <td>None</td>\n",
       "      <td>None</td>\n",
       "      <td>\\Device\\HarddiskVolume1\\Windows\\System32\\svcho...</td>\n",
       "      <td>...</td>\n",
       "      <td>None</td>\n",
       "      <td>None</td>\n",
       "      <td>None</td>\n",
       "      <td>None</td>\n",
       "      <td>None</td>\n",
       "      <td>22</td>\n",
       "      <td>23</td>\n",
       "      <td>3</td>\n",
       "      <td>0</td>\n",
       "      <td>05fd64e2-01e3-475d-867d-d2d28098ddcc-&gt;74ebc904...</td>\n",
       "    </tr>\n",
       "    <tr>\n",
       "      <th>3</th>\n",
       "      <td>None</td>\n",
       "      <td>2019-09-23 03:22:03.389</td>\n",
       "      <td>05fd64e2-01e3-475d-867d-d2d28098ddcc</td>\n",
       "      <td>74ebc904-dbed-4c0b-b594-e72de07f59a1</td>\n",
       "      <td>FILE</td>\n",
       "      <td>WRITE</td>\n",
       "      <td>SysClient0213.systemia.com</td>\n",
       "      <td>None</td>\n",
       "      <td>None</td>\n",
       "      <td>\\Device\\HarddiskVolume1\\Windows\\System32\\svcho...</td>\n",
       "      <td>...</td>\n",
       "      <td>None</td>\n",
       "      <td>None</td>\n",
       "      <td>None</td>\n",
       "      <td>None</td>\n",
       "      <td>None</td>\n",
       "      <td>22</td>\n",
       "      <td>23</td>\n",
       "      <td>3</td>\n",
       "      <td>0</td>\n",
       "      <td>05fd64e2-01e3-475d-867d-d2d28098ddcc-&gt;74ebc904...</td>\n",
       "    </tr>\n",
       "    <tr>\n",
       "      <th>4</th>\n",
       "      <td>3f3f44ad-d3bf-41eb-a473-de80552439b5</td>\n",
       "      <td>2019-09-23 03:22:03.692</td>\n",
       "      <td>ebdb3daa-800c-4eac-bbcf-e9d06bd733d3</td>\n",
       "      <td>08f1cce5-dced-4f8c-a603-97df325538a8</td>\n",
       "      <td>PROCESS</td>\n",
       "      <td>OPEN</td>\n",
       "      <td>SysClient0213.systemia.com</td>\n",
       "      <td>None</td>\n",
       "      <td>None</td>\n",
       "      <td>\\Device\\HarddiskVolume1\\lwabeat\\\\lwabeat.exe</td>\n",
       "      <td>...</td>\n",
       "      <td>None</td>\n",
       "      <td>None</td>\n",
       "      <td>None</td>\n",
       "      <td>None</td>\n",
       "      <td>None</td>\n",
       "      <td>22</td>\n",
       "      <td>23</td>\n",
       "      <td>3</td>\n",
       "      <td>0</td>\n",
       "      <td>ebdb3daa-800c-4eac-bbcf-e9d06bd733d3-&gt;08f1cce5...</td>\n",
       "    </tr>\n",
       "  </tbody>\n",
       "</table>\n",
       "<p>5 rows × 22 columns</p>\n",
       "</div>"
      ],
      "text/plain": [
       "                                     id               timestamp  \\\n",
       "0  ec8b44f6-4bc6-49c6-bbb1-19486aa5a067 2019-09-23 03:22:03.283   \n",
       "1                                  None 2019-09-23 03:22:03.283   \n",
       "2  bc9af9c8-cbc3-4393-96b4-81b19a92465d 2019-09-23 03:22:03.389   \n",
       "3                                  None 2019-09-23 03:22:03.389   \n",
       "4  3f3f44ad-d3bf-41eb-a473-de80552439b5 2019-09-23 03:22:03.692   \n",
       "\n",
       "                               objectID                               actorID  \\\n",
       "0  05fd64e2-01e3-475d-867d-d2d28098ddcc  08f1cce5-dced-4f8c-a603-97df325538a8   \n",
       "1  05fd64e2-01e3-475d-867d-d2d28098ddcc  08f1cce5-dced-4f8c-a603-97df325538a8   \n",
       "2  05fd64e2-01e3-475d-867d-d2d28098ddcc  74ebc904-dbed-4c0b-b594-e72de07f59a1   \n",
       "3  05fd64e2-01e3-475d-867d-d2d28098ddcc  74ebc904-dbed-4c0b-b594-e72de07f59a1   \n",
       "4  ebdb3daa-800c-4eac-bbcf-e9d06bd733d3  08f1cce5-dced-4f8c-a603-97df325538a8   \n",
       "\n",
       "    object action                    hostname user_name privileges  \\\n",
       "0     FILE  WRITE  SysClient0213.systemia.com      None       None   \n",
       "1     FILE  WRITE  SysClient0213.systemia.com      None       None   \n",
       "2     FILE  WRITE  SysClient0213.systemia.com      None       None   \n",
       "3     FILE  WRITE  SysClient0213.systemia.com      None       None   \n",
       "4  PROCESS   OPEN  SysClient0213.systemia.com      None       None   \n",
       "\n",
       "                                          image_path  ... file_path direction  \\\n",
       "0       \\Device\\HarddiskVolume1\\lwabeat\\\\lwabeat.exe  ...      None      None   \n",
       "1       \\Device\\HarddiskVolume1\\lwabeat\\\\lwabeat.exe  ...      None      None   \n",
       "2  \\Device\\HarddiskVolume1\\Windows\\System32\\svcho...  ...      None      None   \n",
       "3  \\Device\\HarddiskVolume1\\Windows\\System32\\svcho...  ...      None      None   \n",
       "4       \\Device\\HarddiskVolume1\\lwabeat\\\\lwabeat.exe  ...      None      None   \n",
       "\n",
       "  logon_id requesting_domain requesting_user event_minute event_day  \\\n",
       "0     None              None            None           22        23   \n",
       "1     None              None            None           22        23   \n",
       "2     None              None            None           22        23   \n",
       "3     None              None            None           22        23   \n",
       "4     None              None            None           22        23   \n",
       "\n",
       "   event_hour  malicious                                       relationship  \n",
       "0           3          0  05fd64e2-01e3-475d-867d-d2d28098ddcc->08f1cce5...  \n",
       "1           3          0  05fd64e2-01e3-475d-867d-d2d28098ddcc->08f1cce5...  \n",
       "2           3          0  05fd64e2-01e3-475d-867d-d2d28098ddcc->74ebc904...  \n",
       "3           3          0  05fd64e2-01e3-475d-867d-d2d28098ddcc->74ebc904...  \n",
       "4           3          0  ebdb3daa-800c-4eac-bbcf-e9d06bd733d3->08f1cce5...  \n",
       "\n",
       "[5 rows x 22 columns]"
      ]
     },
     "execution_count": 13,
     "metadata": {},
     "output_type": "execute_result"
    }
   ],
   "source": [
    "df_new.limit(5).toPandas()"
   ]
  },
  {
   "cell_type": "code",
   "execution_count": 14,
   "id": "fb3abb18-b762-4e7d-b466-d9e5ee31f9f3",
   "metadata": {
    "tags": []
   },
   "outputs": [
    {
     "name": "stderr",
     "output_type": "stream",
     "text": [
      "[Stage 28:==============================>                         (16 + 9) / 29]\r"
     ]
    },
    {
     "name": "stdout",
     "output_type": "stream",
     "text": [
      "23/03/11 08:44:29 ERROR TaskSetManager: Total size of serialized results of 19 tasks (1055.6 MiB) is bigger than spark.driver.maxResultSize (1024.0 MiB)\n"
     ]
    },
    {
     "name": "stderr",
     "output_type": "stream",
     "text": [
      "[Stage 28:==============================>                        (16 + 11) / 29]\r"
     ]
    },
    {
     "name": "stdout",
     "output_type": "stream",
     "text": [
      "23/03/11 08:44:29 ERROR TaskSetManager: Total size of serialized results of 20 tasks (1111.2 MiB) is bigger than spark.driver.maxResultSize (1024.0 MiB)\n"
     ]
    },
    {
     "ename": "Py4JJavaError",
     "evalue": "An error occurred while calling o124.collectToPython.\n: org.apache.spark.SparkException: Job aborted due to stage failure: Total size of serialized results of 19 tasks (1055.6 MiB) is bigger than spark.driver.maxResultSize (1024.0 MiB)\n\tat org.apache.spark.scheduler.DAGScheduler.failJobAndIndependentStages(DAGScheduler.scala:2672)\n\tat org.apache.spark.scheduler.DAGScheduler.$anonfun$abortStage$2(DAGScheduler.scala:2608)\n\tat org.apache.spark.scheduler.DAGScheduler.$anonfun$abortStage$2$adapted(DAGScheduler.scala:2607)\n\tat scala.collection.mutable.ResizableArray.foreach(ResizableArray.scala:62)\n\tat scala.collection.mutable.ResizableArray.foreach$(ResizableArray.scala:55)\n\tat scala.collection.mutable.ArrayBuffer.foreach(ArrayBuffer.scala:49)\n\tat org.apache.spark.scheduler.DAGScheduler.abortStage(DAGScheduler.scala:2607)\n\tat org.apache.spark.scheduler.DAGScheduler.$anonfun$handleTaskSetFailed$1(DAGScheduler.scala:1182)\n\tat org.apache.spark.scheduler.DAGScheduler.$anonfun$handleTaskSetFailed$1$adapted(DAGScheduler.scala:1182)\n\tat scala.Option.foreach(Option.scala:407)\n\tat org.apache.spark.scheduler.DAGScheduler.handleTaskSetFailed(DAGScheduler.scala:1182)\n\tat org.apache.spark.scheduler.DAGSchedulerEventProcessLoop.doOnReceive(DAGScheduler.scala:2860)\n\tat org.apache.spark.scheduler.DAGSchedulerEventProcessLoop.onReceive(DAGScheduler.scala:2802)\n\tat org.apache.spark.scheduler.DAGSchedulerEventProcessLoop.onReceive(DAGScheduler.scala:2791)\n\tat org.apache.spark.util.EventLoop$$anon$1.run(EventLoop.scala:49)\n\tat org.apache.spark.scheduler.DAGScheduler.runJob(DAGScheduler.scala:952)\n\tat org.apache.spark.SparkContext.runJob(SparkContext.scala:2228)\n\tat org.apache.spark.SparkContext.runJob(SparkContext.scala:2249)\n\tat org.apache.spark.SparkContext.runJob(SparkContext.scala:2268)\n\tat org.apache.spark.SparkContext.runJob(SparkContext.scala:2293)\n\tat org.apache.spark.rdd.RDD.$anonfun$collect$1(RDD.scala:1021)\n\tat org.apache.spark.rdd.RDDOperationScope$.withScope(RDDOperationScope.scala:151)\n\tat org.apache.spark.rdd.RDDOperationScope$.withScope(RDDOperationScope.scala:112)\n\tat org.apache.spark.rdd.RDD.withScope(RDD.scala:406)\n\tat org.apache.spark.rdd.RDD.collect(RDD.scala:1020)\n\tat org.apache.spark.sql.execution.SparkPlan.executeCollect(SparkPlan.scala:424)\n\tat org.apache.spark.sql.execution.adaptive.AdaptiveSparkPlanExec.$anonfun$executeCollect$1(AdaptiveSparkPlanExec.scala:340)\n\tat org.apache.spark.sql.execution.adaptive.AdaptiveSparkPlanExec.withFinalPlanUpdate(AdaptiveSparkPlanExec.scala:368)\n\tat org.apache.spark.sql.execution.adaptive.AdaptiveSparkPlanExec.executeCollect(AdaptiveSparkPlanExec.scala:340)\n\tat org.apache.spark.sql.Dataset.$anonfun$collectToPython$1(Dataset.scala:3688)\n\tat org.apache.spark.sql.Dataset.$anonfun$withAction$2(Dataset.scala:3858)\n\tat org.apache.spark.sql.execution.QueryExecution$.withInternalError(QueryExecution.scala:510)\n\tat org.apache.spark.sql.Dataset.$anonfun$withAction$1(Dataset.scala:3856)\n\tat org.apache.spark.sql.execution.SQLExecution$.$anonfun$withNewExecutionId$6(SQLExecution.scala:109)\n\tat org.apache.spark.sql.execution.SQLExecution$.withSQLConfPropagated(SQLExecution.scala:169)\n\tat org.apache.spark.sql.execution.SQLExecution$.$anonfun$withNewExecutionId$1(SQLExecution.scala:95)\n\tat org.apache.spark.sql.SparkSession.withActive(SparkSession.scala:779)\n\tat org.apache.spark.sql.execution.SQLExecution$.withNewExecutionId(SQLExecution.scala:64)\n\tat org.apache.spark.sql.Dataset.withAction(Dataset.scala:3856)\n\tat org.apache.spark.sql.Dataset.collectToPython(Dataset.scala:3685)\n\tat sun.reflect.NativeMethodAccessorImpl.invoke0(Native Method)\n\tat sun.reflect.NativeMethodAccessorImpl.invoke(NativeMethodAccessorImpl.java:62)\n\tat sun.reflect.DelegatingMethodAccessorImpl.invoke(DelegatingMethodAccessorImpl.java:43)\n\tat java.lang.reflect.Method.invoke(Method.java:498)\n\tat py4j.reflection.MethodInvoker.invoke(MethodInvoker.java:244)\n\tat py4j.reflection.ReflectionEngine.invoke(ReflectionEngine.java:357)\n\tat py4j.Gateway.invoke(Gateway.java:282)\n\tat py4j.commands.AbstractCommand.invokeMethod(AbstractCommand.java:132)\n\tat py4j.commands.CallCommand.execute(CallCommand.java:79)\n\tat py4j.ClientServerConnection.waitForCommands(ClientServerConnection.java:182)\n\tat py4j.ClientServerConnection.run(ClientServerConnection.java:106)\n\tat java.lang.Thread.run(Thread.java:750)\n",
     "output_type": "error",
     "traceback": [
      "\u001b[0;31m---------------------------------------------------------------------------\u001b[0m",
      "\u001b[0;31mPy4JJavaError\u001b[0m                             Traceback (most recent call last)",
      "Cell \u001b[0;32mIn[14], line 1\u001b[0m\n\u001b[0;32m----> 1\u001b[0m \u001b[38;5;28mlen\u001b[39m(\u001b[43mdf_new\u001b[49m\u001b[38;5;241;43m.\u001b[39;49m\u001b[43mselect\u001b[49m\u001b[43m(\u001b[49m\u001b[38;5;124;43m'\u001b[39;49m\u001b[38;5;124;43mrelationship\u001b[39;49m\u001b[38;5;124;43m'\u001b[39;49m\u001b[43m)\u001b[49m\u001b[38;5;241;43m.\u001b[39;49m\u001b[43mdistinct\u001b[49m\u001b[43m(\u001b[49m\u001b[43m)\u001b[49m\u001b[38;5;241;43m.\u001b[39;49m\u001b[43mcollect\u001b[49m\u001b[43m(\u001b[49m\u001b[43m)\u001b[49m)\n",
      "File \u001b[0;32m~/anaconda3/envs/python3/lib/python3.10/site-packages/pyspark/sql/dataframe.py:817\u001b[0m, in \u001b[0;36mDataFrame.collect\u001b[0;34m(self)\u001b[0m\n\u001b[1;32m    807\u001b[0m \u001b[38;5;250m\u001b[39m\u001b[38;5;124;03m\"\"\"Returns all the records as a list of :class:`Row`.\u001b[39;00m\n\u001b[1;32m    808\u001b[0m \n\u001b[1;32m    809\u001b[0m \u001b[38;5;124;03m.. versionadded:: 1.3.0\u001b[39;00m\n\u001b[0;32m   (...)\u001b[0m\n\u001b[1;32m    814\u001b[0m \u001b[38;5;124;03m[Row(age=2, name='Alice'), Row(age=5, name='Bob')]\u001b[39;00m\n\u001b[1;32m    815\u001b[0m \u001b[38;5;124;03m\"\"\"\u001b[39;00m\n\u001b[1;32m    816\u001b[0m \u001b[38;5;28;01mwith\u001b[39;00m SCCallSiteSync(\u001b[38;5;28mself\u001b[39m\u001b[38;5;241m.\u001b[39m_sc):\n\u001b[0;32m--> 817\u001b[0m     sock_info \u001b[38;5;241m=\u001b[39m \u001b[38;5;28;43mself\u001b[39;49m\u001b[38;5;241;43m.\u001b[39;49m\u001b[43m_jdf\u001b[49m\u001b[38;5;241;43m.\u001b[39;49m\u001b[43mcollectToPython\u001b[49m\u001b[43m(\u001b[49m\u001b[43m)\u001b[49m\n\u001b[1;32m    818\u001b[0m \u001b[38;5;28;01mreturn\u001b[39;00m \u001b[38;5;28mlist\u001b[39m(_load_from_socket(sock_info, BatchedSerializer(CPickleSerializer())))\n",
      "File \u001b[0;32m~/anaconda3/envs/python3/lib/python3.10/site-packages/py4j/java_gateway.py:1321\u001b[0m, in \u001b[0;36mJavaMember.__call__\u001b[0;34m(self, *args)\u001b[0m\n\u001b[1;32m   1315\u001b[0m command \u001b[38;5;241m=\u001b[39m proto\u001b[38;5;241m.\u001b[39mCALL_COMMAND_NAME \u001b[38;5;241m+\u001b[39m\\\n\u001b[1;32m   1316\u001b[0m     \u001b[38;5;28mself\u001b[39m\u001b[38;5;241m.\u001b[39mcommand_header \u001b[38;5;241m+\u001b[39m\\\n\u001b[1;32m   1317\u001b[0m     args_command \u001b[38;5;241m+\u001b[39m\\\n\u001b[1;32m   1318\u001b[0m     proto\u001b[38;5;241m.\u001b[39mEND_COMMAND_PART\n\u001b[1;32m   1320\u001b[0m answer \u001b[38;5;241m=\u001b[39m \u001b[38;5;28mself\u001b[39m\u001b[38;5;241m.\u001b[39mgateway_client\u001b[38;5;241m.\u001b[39msend_command(command)\n\u001b[0;32m-> 1321\u001b[0m return_value \u001b[38;5;241m=\u001b[39m \u001b[43mget_return_value\u001b[49m\u001b[43m(\u001b[49m\n\u001b[1;32m   1322\u001b[0m \u001b[43m    \u001b[49m\u001b[43manswer\u001b[49m\u001b[43m,\u001b[49m\u001b[43m \u001b[49m\u001b[38;5;28;43mself\u001b[39;49m\u001b[38;5;241;43m.\u001b[39;49m\u001b[43mgateway_client\u001b[49m\u001b[43m,\u001b[49m\u001b[43m \u001b[49m\u001b[38;5;28;43mself\u001b[39;49m\u001b[38;5;241;43m.\u001b[39;49m\u001b[43mtarget_id\u001b[49m\u001b[43m,\u001b[49m\u001b[43m \u001b[49m\u001b[38;5;28;43mself\u001b[39;49m\u001b[38;5;241;43m.\u001b[39;49m\u001b[43mname\u001b[49m\u001b[43m)\u001b[49m\n\u001b[1;32m   1324\u001b[0m \u001b[38;5;28;01mfor\u001b[39;00m temp_arg \u001b[38;5;129;01min\u001b[39;00m temp_args:\n\u001b[1;32m   1325\u001b[0m     temp_arg\u001b[38;5;241m.\u001b[39m_detach()\n",
      "File \u001b[0;32m~/anaconda3/envs/python3/lib/python3.10/site-packages/pyspark/sql/utils.py:190\u001b[0m, in \u001b[0;36mcapture_sql_exception.<locals>.deco\u001b[0;34m(*a, **kw)\u001b[0m\n\u001b[1;32m    188\u001b[0m \u001b[38;5;28;01mdef\u001b[39;00m \u001b[38;5;21mdeco\u001b[39m(\u001b[38;5;241m*\u001b[39ma: Any, \u001b[38;5;241m*\u001b[39m\u001b[38;5;241m*\u001b[39mkw: Any) \u001b[38;5;241m-\u001b[39m\u001b[38;5;241m>\u001b[39m Any:\n\u001b[1;32m    189\u001b[0m     \u001b[38;5;28;01mtry\u001b[39;00m:\n\u001b[0;32m--> 190\u001b[0m         \u001b[38;5;28;01mreturn\u001b[39;00m \u001b[43mf\u001b[49m\u001b[43m(\u001b[49m\u001b[38;5;241;43m*\u001b[39;49m\u001b[43ma\u001b[49m\u001b[43m,\u001b[49m\u001b[43m \u001b[49m\u001b[38;5;241;43m*\u001b[39;49m\u001b[38;5;241;43m*\u001b[39;49m\u001b[43mkw\u001b[49m\u001b[43m)\u001b[49m\n\u001b[1;32m    191\u001b[0m     \u001b[38;5;28;01mexcept\u001b[39;00m Py4JJavaError \u001b[38;5;28;01mas\u001b[39;00m e:\n\u001b[1;32m    192\u001b[0m         converted \u001b[38;5;241m=\u001b[39m convert_exception(e\u001b[38;5;241m.\u001b[39mjava_exception)\n",
      "File \u001b[0;32m~/anaconda3/envs/python3/lib/python3.10/site-packages/py4j/protocol.py:326\u001b[0m, in \u001b[0;36mget_return_value\u001b[0;34m(answer, gateway_client, target_id, name)\u001b[0m\n\u001b[1;32m    324\u001b[0m value \u001b[38;5;241m=\u001b[39m OUTPUT_CONVERTER[\u001b[38;5;28mtype\u001b[39m](answer[\u001b[38;5;241m2\u001b[39m:], gateway_client)\n\u001b[1;32m    325\u001b[0m \u001b[38;5;28;01mif\u001b[39;00m answer[\u001b[38;5;241m1\u001b[39m] \u001b[38;5;241m==\u001b[39m REFERENCE_TYPE:\n\u001b[0;32m--> 326\u001b[0m     \u001b[38;5;28;01mraise\u001b[39;00m Py4JJavaError(\n\u001b[1;32m    327\u001b[0m         \u001b[38;5;124m\"\u001b[39m\u001b[38;5;124mAn error occurred while calling \u001b[39m\u001b[38;5;132;01m{0}\u001b[39;00m\u001b[38;5;132;01m{1}\u001b[39;00m\u001b[38;5;132;01m{2}\u001b[39;00m\u001b[38;5;124m.\u001b[39m\u001b[38;5;130;01m\\n\u001b[39;00m\u001b[38;5;124m\"\u001b[39m\u001b[38;5;241m.\u001b[39m\n\u001b[1;32m    328\u001b[0m         \u001b[38;5;28mformat\u001b[39m(target_id, \u001b[38;5;124m\"\u001b[39m\u001b[38;5;124m.\u001b[39m\u001b[38;5;124m\"\u001b[39m, name), value)\n\u001b[1;32m    329\u001b[0m \u001b[38;5;28;01melse\u001b[39;00m:\n\u001b[1;32m    330\u001b[0m     \u001b[38;5;28;01mraise\u001b[39;00m Py4JError(\n\u001b[1;32m    331\u001b[0m         \u001b[38;5;124m\"\u001b[39m\u001b[38;5;124mAn error occurred while calling \u001b[39m\u001b[38;5;132;01m{0}\u001b[39;00m\u001b[38;5;132;01m{1}\u001b[39;00m\u001b[38;5;132;01m{2}\u001b[39;00m\u001b[38;5;124m. Trace:\u001b[39m\u001b[38;5;130;01m\\n\u001b[39;00m\u001b[38;5;132;01m{3}\u001b[39;00m\u001b[38;5;130;01m\\n\u001b[39;00m\u001b[38;5;124m\"\u001b[39m\u001b[38;5;241m.\u001b[39m\n\u001b[1;32m    332\u001b[0m         \u001b[38;5;28mformat\u001b[39m(target_id, \u001b[38;5;124m\"\u001b[39m\u001b[38;5;124m.\u001b[39m\u001b[38;5;124m\"\u001b[39m, name, value))\n",
      "\u001b[0;31mPy4JJavaError\u001b[0m: An error occurred while calling o124.collectToPython.\n: org.apache.spark.SparkException: Job aborted due to stage failure: Total size of serialized results of 19 tasks (1055.6 MiB) is bigger than spark.driver.maxResultSize (1024.0 MiB)\n\tat org.apache.spark.scheduler.DAGScheduler.failJobAndIndependentStages(DAGScheduler.scala:2672)\n\tat org.apache.spark.scheduler.DAGScheduler.$anonfun$abortStage$2(DAGScheduler.scala:2608)\n\tat org.apache.spark.scheduler.DAGScheduler.$anonfun$abortStage$2$adapted(DAGScheduler.scala:2607)\n\tat scala.collection.mutable.ResizableArray.foreach(ResizableArray.scala:62)\n\tat scala.collection.mutable.ResizableArray.foreach$(ResizableArray.scala:55)\n\tat scala.collection.mutable.ArrayBuffer.foreach(ArrayBuffer.scala:49)\n\tat org.apache.spark.scheduler.DAGScheduler.abortStage(DAGScheduler.scala:2607)\n\tat org.apache.spark.scheduler.DAGScheduler.$anonfun$handleTaskSetFailed$1(DAGScheduler.scala:1182)\n\tat org.apache.spark.scheduler.DAGScheduler.$anonfun$handleTaskSetFailed$1$adapted(DAGScheduler.scala:1182)\n\tat scala.Option.foreach(Option.scala:407)\n\tat org.apache.spark.scheduler.DAGScheduler.handleTaskSetFailed(DAGScheduler.scala:1182)\n\tat org.apache.spark.scheduler.DAGSchedulerEventProcessLoop.doOnReceive(DAGScheduler.scala:2860)\n\tat org.apache.spark.scheduler.DAGSchedulerEventProcessLoop.onReceive(DAGScheduler.scala:2802)\n\tat org.apache.spark.scheduler.DAGSchedulerEventProcessLoop.onReceive(DAGScheduler.scala:2791)\n\tat org.apache.spark.util.EventLoop$$anon$1.run(EventLoop.scala:49)\n\tat org.apache.spark.scheduler.DAGScheduler.runJob(DAGScheduler.scala:952)\n\tat org.apache.spark.SparkContext.runJob(SparkContext.scala:2228)\n\tat org.apache.spark.SparkContext.runJob(SparkContext.scala:2249)\n\tat org.apache.spark.SparkContext.runJob(SparkContext.scala:2268)\n\tat org.apache.spark.SparkContext.runJob(SparkContext.scala:2293)\n\tat org.apache.spark.rdd.RDD.$anonfun$collect$1(RDD.scala:1021)\n\tat org.apache.spark.rdd.RDDOperationScope$.withScope(RDDOperationScope.scala:151)\n\tat org.apache.spark.rdd.RDDOperationScope$.withScope(RDDOperationScope.scala:112)\n\tat org.apache.spark.rdd.RDD.withScope(RDD.scala:406)\n\tat org.apache.spark.rdd.RDD.collect(RDD.scala:1020)\n\tat org.apache.spark.sql.execution.SparkPlan.executeCollect(SparkPlan.scala:424)\n\tat org.apache.spark.sql.execution.adaptive.AdaptiveSparkPlanExec.$anonfun$executeCollect$1(AdaptiveSparkPlanExec.scala:340)\n\tat org.apache.spark.sql.execution.adaptive.AdaptiveSparkPlanExec.withFinalPlanUpdate(AdaptiveSparkPlanExec.scala:368)\n\tat org.apache.spark.sql.execution.adaptive.AdaptiveSparkPlanExec.executeCollect(AdaptiveSparkPlanExec.scala:340)\n\tat org.apache.spark.sql.Dataset.$anonfun$collectToPython$1(Dataset.scala:3688)\n\tat org.apache.spark.sql.Dataset.$anonfun$withAction$2(Dataset.scala:3858)\n\tat org.apache.spark.sql.execution.QueryExecution$.withInternalError(QueryExecution.scala:510)\n\tat org.apache.spark.sql.Dataset.$anonfun$withAction$1(Dataset.scala:3856)\n\tat org.apache.spark.sql.execution.SQLExecution$.$anonfun$withNewExecutionId$6(SQLExecution.scala:109)\n\tat org.apache.spark.sql.execution.SQLExecution$.withSQLConfPropagated(SQLExecution.scala:169)\n\tat org.apache.spark.sql.execution.SQLExecution$.$anonfun$withNewExecutionId$1(SQLExecution.scala:95)\n\tat org.apache.spark.sql.SparkSession.withActive(SparkSession.scala:779)\n\tat org.apache.spark.sql.execution.SQLExecution$.withNewExecutionId(SQLExecution.scala:64)\n\tat org.apache.spark.sql.Dataset.withAction(Dataset.scala:3856)\n\tat org.apache.spark.sql.Dataset.collectToPython(Dataset.scala:3685)\n\tat sun.reflect.NativeMethodAccessorImpl.invoke0(Native Method)\n\tat sun.reflect.NativeMethodAccessorImpl.invoke(NativeMethodAccessorImpl.java:62)\n\tat sun.reflect.DelegatingMethodAccessorImpl.invoke(DelegatingMethodAccessorImpl.java:43)\n\tat java.lang.reflect.Method.invoke(Method.java:498)\n\tat py4j.reflection.MethodInvoker.invoke(MethodInvoker.java:244)\n\tat py4j.reflection.ReflectionEngine.invoke(ReflectionEngine.java:357)\n\tat py4j.Gateway.invoke(Gateway.java:282)\n\tat py4j.commands.AbstractCommand.invokeMethod(AbstractCommand.java:132)\n\tat py4j.commands.CallCommand.execute(CallCommand.java:79)\n\tat py4j.ClientServerConnection.waitForCommands(ClientServerConnection.java:182)\n\tat py4j.ClientServerConnection.run(ClientServerConnection.java:106)\n\tat java.lang.Thread.run(Thread.java:750)\n"
     ]
    }
   ],
   "source": [
    "len(df_new.select('relationship').distinct().collect())"
   ]
  },
  {
   "cell_type": "code",
   "execution_count": null,
   "id": "7b2bfd54-47a1-4b4c-8953-575c2d68c98f",
   "metadata": {},
   "outputs": [],
   "source": [
    "tot = df_new.count()"
   ]
  },
  {
   "cell_type": "code",
   "execution_count": null,
   "id": "464deab4-13be-4bb9-a48a-4d66d4384b0b",
   "metadata": {},
   "outputs": [],
   "source": [
    "df_ratios = df_new.groupBy(\"object\") \\\n",
    "              .count() \\\n",
    "              .withColumnRenamed('count', 'cnt_per_group') \\\n",
    "              .withColumn('perc_of_count_total', (col('cnt_per_group') / tot) * 100 ) \\\n",
    "              .cache()"
   ]
  },
  {
   "cell_type": "code",
   "execution_count": null,
   "id": "b25931e3-928c-4b1f-920b-79132f35b1e4",
   "metadata": {},
   "outputs": [],
   "source": [
    "df_ratios.limit(5).toPandas()"
   ]
  },
  {
   "cell_type": "code",
   "execution_count": null,
   "id": "8ec07a31-d23e-4d12-a41b-dd1898d38078",
   "metadata": {
    "tags": []
   },
   "outputs": [],
   "source": [
    "df_new.limit(5).toPandas()"
   ]
  },
  {
   "cell_type": "code",
   "execution_count": null,
   "id": "a0e1ad06-7612-48ed-b9bc-9ace19b7545f",
   "metadata": {},
   "outputs": [],
   "source": []
  },
  {
   "cell_type": "code",
   "execution_count": null,
   "id": "cce447ff-155c-42cf-ab20-911e59a77fd1",
   "metadata": {
    "tags": []
   },
   "outputs": [],
   "source": [
    "df_new.limit(10).write.option(\"maxRecordsPerFile\", 300000).option(\"header\",True).mode(\"overwrite\").csv(f\"{s3_url_trusted}/prod/graph/test\")"
   ]
  },
  {
   "cell_type": "code",
   "execution_count": null,
   "id": "9a210e73-7628-485d-b723-523a4b68d349",
   "metadata": {},
   "outputs": [],
   "source": []
  }
 ],
 "metadata": {
  "kernelspec": {
   "display_name": "conda_python3",
   "language": "python",
   "name": "conda_python3"
  },
  "language_info": {
   "codemirror_mode": {
    "name": "ipython",
    "version": 3
   },
   "file_extension": ".py",
   "mimetype": "text/x-python",
   "name": "python",
   "nbconvert_exporter": "python",
   "pygments_lexer": "ipython3",
   "version": "3.10.8"
  }
 },
 "nbformat": 4,
 "nbformat_minor": 5
}
