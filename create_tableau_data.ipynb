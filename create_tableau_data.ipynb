{
 "cells": [
  {
   "cell_type": "code",
   "execution_count": 1,
   "id": "970130b0-b08c-4536-936e-ca923cc595a9",
   "metadata": {
    "tags": []
   },
   "outputs": [],
   "source": [
    "#setup based on this: https://t-redactyl.io/blog/2020/08/reading-s3-data-into-a-spark-dataframe-using-sagemaker.html\n",
    "import os\n",
    "import boto3\n",
    "import json \n",
    "import time\n",
    "import pandas as pd\n",
    "from pyspark import SparkConf\n",
    "from pyspark.sql import SparkSession\n",
    "from pyspark.sql.functions import *\n",
    "from pyspark.sql.types import *\n",
    "import matplotlib.pyplot as plt\n",
    "import sagemaker_pyspark\n",
    "import botocore.session"
   ]
  },
  {
   "cell_type": "markdown",
   "id": "1e5ef5d6-368f-43af-b519-ba5112c87b79",
   "metadata": {},
   "source": [
    "## Set Spark Session Configuration"
   ]
  },
  {
   "cell_type": "code",
   "execution_count": 2,
   "id": "6d8e9008-6651-4c17-8c12-eef2b18e10fe",
   "metadata": {
    "tags": []
   },
   "outputs": [],
   "source": [
    "session = botocore.session.get_session()\n",
    "credentials = session.get_credentials()"
   ]
  },
  {
   "cell_type": "code",
   "execution_count": 3,
   "id": "7486ea00-f477-4f51-bf6e-b66a57f1a557",
   "metadata": {
    "tags": []
   },
   "outputs": [],
   "source": [
    "client = boto3.client('secretsmanager')\n",
    "response = client.get_secret_value(\n",
    "    SecretId='sapient-s3-access'\n",
    ")\n",
    "response = json.loads(response['SecretString'])\n",
    "access_key = response[\"aws_access_key_id\"]\n",
    "secret_key = response[\"aws_secret_access_key\"]"
   ]
  },
  {
   "cell_type": "code",
   "execution_count": 4,
   "id": "372553c2-9f17-4c4f-b253-275e30a1ef35",
   "metadata": {
    "tags": []
   },
   "outputs": [],
   "source": [
    "os.environ['PYSPARK_SUBMIT_ARGS'] = '--packages graphframes:graphframes:0.8.2-spark3.2-s_2.12 pyspark-shell'\n",
    "conf = (SparkConf()\n",
    "        .set(\"spark.driver.extraClassPath\", \":\".join(sagemaker_pyspark.classpath_jars())))"
   ]
  },
  {
   "cell_type": "code",
   "execution_count": 5,
   "id": "9392e443-f6d6-4a54-bbb8-2972eafaf97e",
   "metadata": {
    "tags": []
   },
   "outputs": [
    {
     "name": "stderr",
     "output_type": "stream",
     "text": [
      "Warning: Ignoring non-Spark config property: fs.s3a.access.key\n",
      "Warning: Ignoring non-Spark config property: fs.s3a.secret.key\n"
     ]
    },
    {
     "name": "stdout",
     "output_type": "stream",
     "text": [
      ":: loading settings :: url = jar:file:/home/ec2-user/anaconda3/envs/python3/lib/python3.10/site-packages/pyspark/jars/ivy-2.5.0.jar!/org/apache/ivy/core/settings/ivysettings.xml\n"
     ]
    },
    {
     "name": "stderr",
     "output_type": "stream",
     "text": [
      "Ivy Default Cache set to: /home/ec2-user/.ivy2/cache\n",
      "The jars for the packages stored in: /home/ec2-user/.ivy2/jars\n",
      "graphframes#graphframes added as a dependency\n",
      ":: resolving dependencies :: org.apache.spark#spark-submit-parent-5b2fbcbe-e998-4296-937e-9d50b3240e76;1.0\n",
      "\tconfs: [default]\n",
      "\tfound graphframes#graphframes;0.8.2-spark3.2-s_2.12 in spark-packages\n",
      "\tfound org.slf4j#slf4j-api;1.7.16 in central\n",
      ":: resolution report :: resolve 178ms :: artifacts dl 3ms\n",
      "\t:: modules in use:\n",
      "\tgraphframes#graphframes;0.8.2-spark3.2-s_2.12 from spark-packages in [default]\n",
      "\torg.slf4j#slf4j-api;1.7.16 from central in [default]\n",
      "\t---------------------------------------------------------------------\n",
      "\t|                  |            modules            ||   artifacts   |\n",
      "\t|       conf       | number| search|dwnlded|evicted|| number|dwnlded|\n",
      "\t---------------------------------------------------------------------\n",
      "\t|      default     |   2   |   0   |   0   |   0   ||   2   |   0   |\n",
      "\t---------------------------------------------------------------------\n",
      ":: retrieving :: org.apache.spark#spark-submit-parent-5b2fbcbe-e998-4296-937e-9d50b3240e76\n",
      "\tconfs: [default]\n",
      "\t0 artifacts copied, 2 already retrieved (0kB/4ms)\n"
     ]
    },
    {
     "name": "stdout",
     "output_type": "stream",
     "text": [
      "23/03/07 05:02:42 WARN NativeCodeLoader: Unable to load native-hadoop library for your platform... using builtin-java classes where applicable\n"
     ]
    },
    {
     "name": "stderr",
     "output_type": "stream",
     "text": [
      "Setting default log level to \"WARN\".\n",
      "To adjust logging level use sc.setLogLevel(newLevel). For SparkR, use setLogLevel(newLevel).\n"
     ]
    },
    {
     "name": "stdout",
     "output_type": "stream",
     "text": [
      "23/03/07 05:02:43 WARN SparkConf: Note that spark.local.dir will be overridden by the value set by the cluster manager (via SPARK_LOCAL_DIRS in mesos/standalone/kubernetes and LOCAL_DIRS in YARN).\n",
      "23/03/07 05:02:43 WARN Utils: Service 'SparkUI' could not bind on port 4040. Attempting port 4041.\n",
      "23/03/07 05:02:43 WARN Utils: Service 'SparkUI' could not bind on port 4041. Attempting port 4042.\n"
     ]
    }
   ],
   "source": [
    "# https://spark.apache.org/docs/latest/configuration.html#memory-management\n",
    "spark = (\n",
    "    SparkSession\n",
    "    .builder\n",
    "    .config(conf=conf) \\\n",
    "    .config('fs.s3a.access.key', access_key)\n",
    "    .config('fs.s3a.secret.key', secret_key)\n",
    "    .config('spark.network.timeout', 300)\n",
    "    .config('spark.local.dir', '/home/ec2-user/SageMaker/tmp')\n",
    "    .config(\"spark.executor.memory\", \"16g\")\n",
    "    .config(\"spark.driver.memory\", \"8g\")\n",
    "    .config(\"spark.memory.offHeap.enabled\", \"true\")\n",
    "    .config(\"spark.memory.offHeap.size\",\"20g\")\n",
    "    .appName(\"sapient\")\n",
    "    .getOrCreate()\n",
    ")\n",
    "spark.sparkContext.setLogLevel(\"ERROR\")"
   ]
  },
  {
   "cell_type": "markdown",
   "id": "322f0acc-5281-4b73-a33b-67ac7c05b96a",
   "metadata": {},
   "source": [
    "## Functions to Load and Read Data"
   ]
  },
  {
   "cell_type": "code",
   "execution_count": 18,
   "id": "4a5e8ea5-b6a8-4fdd-84d5-22e3b31c7340",
   "metadata": {
    "tags": []
   },
   "outputs": [],
   "source": [
    "# read from raw bucket + write to refined bucket + aggregate final to the trusted bucket\n",
    "s3_url_raw = \"s3a://sapient-bucket-raw/\"\n",
    "s3_url_refined = \"s3a://sapient-bucket-refined/\"\n",
    "s3_url_trusted = \"s3a://sapient-bucket-trusted/\"\n",
    "ecar_cols = ['id','timestamp','objectID','actorID','object','action','hostname', 'user_name']\n",
    "bro_cols_conn = ['ts', 'uid', 'id.orig_h', 'id.orig_p', 'id.resp_', 'id.resp_p', 'proto', 'service', 'duration', 'orig_bytes', 'resp_bytes', 'conn_state', \n",
    "                 'local_orig', 'local_resp', 'missed_bytes', 'history', 'orig_pkts', 'orig_ip_bytes', 'resp_pkts', 'resp_ip_bytes', 'tunnel_parents']\n",
    "bro_cols_rep = ['ts', 'level', 'message', 'location']"
   ]
  },
  {
   "cell_type": "code",
   "execution_count": 45,
   "id": "22f40b57-7603-413d-881e-fd397b934503",
   "metadata": {
    "tags": []
   },
   "outputs": [],
   "source": [
    "def readDev(type='ecar', env='dev'):\n",
    "    \"\"\"\n",
    "    type: ecar, ecar-bro, bro\n",
    "    \"\"\"\n",
    "    if type == 'labels':\n",
    "        s3_parquet_loc = f\"{s3_url_refined}/{env}/{type}\"\n",
    "    else:\n",
    "        s3_parquet_loc = f\"{s3_url_refined}/{env}/{type}\"\n",
    "    start_time = time.time()\n",
    "    df = spark.read.parquet(s3_parquet_loc) \\\n",
    "                   .select(*ecar_cols)\n",
    "    # rdd = spark.sparkContext.parallelize(df.take(1000))\n",
    "    # print(f\"Your dataframe has {rdd.count():,} rows.\")\n",
    "    print(time.strftime('%l:%M%p %Z on %b %d, %Y') + \" --- read and cache time: %s seconds ---\" % (time.time() - start_time))\n",
    "    return df"
   ]
  },
  {
   "cell_type": "code",
   "execution_count": 46,
   "id": "0c5d89b5-b19e-45cd-a57b-bb8a3c768c7c",
   "metadata": {
    "tags": []
   },
   "outputs": [
    {
     "name": "stdout",
     "output_type": "stream",
     "text": [
      " 6:32AM UTC on Mar 07, 2023 --- read and cache time: 0.40653538703918457 seconds ---\n"
     ]
    }
   ],
   "source": [
    "df = readDev().withColumn('event_minute', minute(col('timestamp'))) \\\n",
    "               .withColumn('event_day', dayofmonth(col('timestamp'))) \\\n",
    "               .withColumn('event_hour', hour(col('timestamp'))) \\\n",
    "               .cache()"
   ]
  },
  {
   "cell_type": "code",
   "execution_count": 52,
   "id": "bcaf32ed-5a6a-4645-b21e-9ad4f5542bfb",
   "metadata": {
    "tags": []
   },
   "outputs": [
    {
     "data": {
      "text/plain": [
       "11"
      ]
     },
     "execution_count": 52,
     "metadata": {},
     "output_type": "execute_result"
    }
   ],
   "source": [
    "ev_mins = [row.event_minute for row in df.select(\"event_minute\").distinct().collect()]\n",
    "len(ev_mins)\n",
    "# x = max events per min\n",
    "# y = total minutes\n",
    "# x_axis = 2*(x-1) + 2\n",
    "# y_axis = 2*(y+2)"
   ]
  },
  {
   "cell_type": "code",
   "execution_count": null,
   "id": "e8c21971-80c8-4e14-8166-15200a0424e9",
   "metadata": {},
   "outputs": [],
   "source": [
    "               .withColumn('x_axis', hour(col('timestamp'))) \\\n",
    "               .withColumn('y_axis', hour(col('timestamp'))) \\"
   ]
  },
  {
   "cell_type": "code",
   "execution_count": 21,
   "id": "95c3d08f-be85-4c86-ad22-6148888377ea",
   "metadata": {
    "tags": []
   },
   "outputs": [
    {
     "data": {
      "text/html": [
       "<div>\n",
       "<style scoped>\n",
       "    .dataframe tbody tr th:only-of-type {\n",
       "        vertical-align: middle;\n",
       "    }\n",
       "\n",
       "    .dataframe tbody tr th {\n",
       "        vertical-align: top;\n",
       "    }\n",
       "\n",
       "    .dataframe thead th {\n",
       "        text-align: right;\n",
       "    }\n",
       "</style>\n",
       "<table border=\"1\" class=\"dataframe\">\n",
       "  <thead>\n",
       "    <tr style=\"text-align: right;\">\n",
       "      <th></th>\n",
       "      <th>id</th>\n",
       "      <th>timestamp</th>\n",
       "      <th>objectID</th>\n",
       "      <th>actorID</th>\n",
       "      <th>object</th>\n",
       "      <th>action</th>\n",
       "      <th>hostname</th>\n",
       "      <th>user_name</th>\n",
       "    </tr>\n",
       "  </thead>\n",
       "  <tbody>\n",
       "    <tr>\n",
       "      <th>0</th>\n",
       "      <td>8fe97976-9e2d-4c1c-bd94-518fb45733c0</td>\n",
       "      <td>2019-09-23T09:11:20.548-04:00</td>\n",
       "      <td>b1b8b9bb-8d05-4be9-a9f6-61a571d6b175</td>\n",
       "      <td>aa240ddc-17cd-4f29-bb39-e40a51f088b2</td>\n",
       "      <td>FLOW</td>\n",
       "      <td>START</td>\n",
       "      <td>SysClient0004.systemia.com</td>\n",
       "      <td>None</td>\n",
       "    </tr>\n",
       "    <tr>\n",
       "      <th>1</th>\n",
       "      <td>4df8406d-e254-4652-a46c-0d9991b09cf4</td>\n",
       "      <td>2019-09-23T09:11:20.552-04:00</td>\n",
       "      <td>b1b8b9bb-8d05-4be9-a9f6-61a571d6b175</td>\n",
       "      <td>aa240ddc-17cd-4f29-bb39-e40a51f088b2</td>\n",
       "      <td>FLOW</td>\n",
       "      <td>START</td>\n",
       "      <td>SysClient0004.systemia.com</td>\n",
       "      <td>None</td>\n",
       "    </tr>\n",
       "    <tr>\n",
       "      <th>2</th>\n",
       "      <td>8f8797b4-809b-4fed-ad57-abfa51bbbe0a</td>\n",
       "      <td>2019-09-23T09:11:20.554-04:00</td>\n",
       "      <td>4f9297eb-314b-4188-b760-09d22bc786b4</td>\n",
       "      <td>aa240ddc-17cd-4f29-bb39-e40a51f088b2</td>\n",
       "      <td>FLOW</td>\n",
       "      <td>START</td>\n",
       "      <td>SysClient0004.systemia.com</td>\n",
       "      <td>None</td>\n",
       "    </tr>\n",
       "    <tr>\n",
       "      <th>3</th>\n",
       "      <td>17ffc85d-7f24-44ba-8968-82ce6826fb0a</td>\n",
       "      <td>2019-09-23T09:11:20.557-04:00</td>\n",
       "      <td>b1b8b9bb-8d05-4be9-a9f6-61a571d6b175</td>\n",
       "      <td>aa240ddc-17cd-4f29-bb39-e40a51f088b2</td>\n",
       "      <td>FLOW</td>\n",
       "      <td>START</td>\n",
       "      <td>SysClient0004.systemia.com</td>\n",
       "      <td>None</td>\n",
       "    </tr>\n",
       "    <tr>\n",
       "      <th>4</th>\n",
       "      <td>8c449f67-b36d-4caa-a354-4068108d8855</td>\n",
       "      <td>2019-09-23T09:11:20.56-04:00</td>\n",
       "      <td>4f9297eb-314b-4188-b760-09d22bc786b4</td>\n",
       "      <td>aa240ddc-17cd-4f29-bb39-e40a51f088b2</td>\n",
       "      <td>FLOW</td>\n",
       "      <td>START</td>\n",
       "      <td>SysClient0004.systemia.com</td>\n",
       "      <td>None</td>\n",
       "    </tr>\n",
       "  </tbody>\n",
       "</table>\n",
       "</div>"
      ],
      "text/plain": [
       "                                     id                      timestamp  \\\n",
       "0  8fe97976-9e2d-4c1c-bd94-518fb45733c0  2019-09-23T09:11:20.548-04:00   \n",
       "1  4df8406d-e254-4652-a46c-0d9991b09cf4  2019-09-23T09:11:20.552-04:00   \n",
       "2  8f8797b4-809b-4fed-ad57-abfa51bbbe0a  2019-09-23T09:11:20.554-04:00   \n",
       "3  17ffc85d-7f24-44ba-8968-82ce6826fb0a  2019-09-23T09:11:20.557-04:00   \n",
       "4  8c449f67-b36d-4caa-a354-4068108d8855   2019-09-23T09:11:20.56-04:00   \n",
       "\n",
       "                               objectID                               actorID  \\\n",
       "0  b1b8b9bb-8d05-4be9-a9f6-61a571d6b175  aa240ddc-17cd-4f29-bb39-e40a51f088b2   \n",
       "1  b1b8b9bb-8d05-4be9-a9f6-61a571d6b175  aa240ddc-17cd-4f29-bb39-e40a51f088b2   \n",
       "2  4f9297eb-314b-4188-b760-09d22bc786b4  aa240ddc-17cd-4f29-bb39-e40a51f088b2   \n",
       "3  b1b8b9bb-8d05-4be9-a9f6-61a571d6b175  aa240ddc-17cd-4f29-bb39-e40a51f088b2   \n",
       "4  4f9297eb-314b-4188-b760-09d22bc786b4  aa240ddc-17cd-4f29-bb39-e40a51f088b2   \n",
       "\n",
       "  object action                    hostname user_name  \n",
       "0   FLOW  START  SysClient0004.systemia.com      None  \n",
       "1   FLOW  START  SysClient0004.systemia.com      None  \n",
       "2   FLOW  START  SysClient0004.systemia.com      None  \n",
       "3   FLOW  START  SysClient0004.systemia.com      None  \n",
       "4   FLOW  START  SysClient0004.systemia.com      None  "
      ]
     },
     "execution_count": 21,
     "metadata": {},
     "output_type": "execute_result"
    }
   ],
   "source": [
    "df.limit(5).toPandas()"
   ]
  },
  {
   "cell_type": "code",
   "execution_count": 23,
   "id": "92fa1566-a213-4501-9f21-d10b25981074",
   "metadata": {
    "tags": []
   },
   "outputs": [],
   "source": [
    "actIDs = [row.actorID for row in df.select(\"actorID\").distinct().collect()]"
   ]
  },
  {
   "cell_type": "code",
   "execution_count": 24,
   "id": "f410bdcb-b489-4372-9dda-8c5ed23fceb5",
   "metadata": {
    "tags": []
   },
   "outputs": [
    {
     "data": {
      "text/plain": [
       "94"
      ]
     },
     "execution_count": 24,
     "metadata": {},
     "output_type": "execute_result"
    }
   ],
   "source": [
    "len(actIDs)"
   ]
  },
  {
   "cell_type": "code",
   "execution_count": 25,
   "id": "9e5b813f-0f1c-4f79-9e47-f9c595b1b3cd",
   "metadata": {
    "tags": []
   },
   "outputs": [],
   "source": [
    "objIDs = [row.objectID for row in df.select(\"objectID\").distinct().collect()]"
   ]
  },
  {
   "cell_type": "code",
   "execution_count": 26,
   "id": "0353bbe5-a063-4f09-a4e8-38c1af7e0226",
   "metadata": {
    "tags": []
   },
   "outputs": [
    {
     "data": {
      "text/plain": [
       "1525"
      ]
     },
     "execution_count": 26,
     "metadata": {},
     "output_type": "execute_result"
    }
   ],
   "source": [
    "len(objIDs)"
   ]
  },
  {
   "cell_type": "code",
   "execution_count": 31,
   "id": "ecacf978-062b-4fcb-9c5c-4cc4fe1aa3ee",
   "metadata": {
    "tags": []
   },
   "outputs": [
    {
     "data": {
      "text/plain": [
       "52"
      ]
     },
     "execution_count": 31,
     "metadata": {},
     "output_type": "execute_result"
    }
   ],
   "source": [
    "len(set(actIDs).intersection(objIDs))"
   ]
  },
  {
   "cell_type": "code",
   "execution_count": 39,
   "id": "c042a899-4b99-45a4-a13d-90c4e2861f76",
   "metadata": {
    "tags": []
   },
   "outputs": [],
   "source": [
    "df_dup = df.withColumn('id', lit(None).cast(StringType()))"
   ]
  },
  {
   "cell_type": "code",
   "execution_count": 40,
   "id": "e5d4873c-793e-40ba-8b0a-e62b72ec9a48",
   "metadata": {
    "tags": []
   },
   "outputs": [
    {
     "data": {
      "text/html": [
       "<div>\n",
       "<style scoped>\n",
       "    .dataframe tbody tr th:only-of-type {\n",
       "        vertical-align: middle;\n",
       "    }\n",
       "\n",
       "    .dataframe tbody tr th {\n",
       "        vertical-align: top;\n",
       "    }\n",
       "\n",
       "    .dataframe thead th {\n",
       "        text-align: right;\n",
       "    }\n",
       "</style>\n",
       "<table border=\"1\" class=\"dataframe\">\n",
       "  <thead>\n",
       "    <tr style=\"text-align: right;\">\n",
       "      <th></th>\n",
       "      <th>id</th>\n",
       "      <th>timestamp</th>\n",
       "      <th>objectID</th>\n",
       "      <th>actorID</th>\n",
       "      <th>object</th>\n",
       "      <th>action</th>\n",
       "      <th>hostname</th>\n",
       "      <th>user_name</th>\n",
       "    </tr>\n",
       "  </thead>\n",
       "  <tbody>\n",
       "    <tr>\n",
       "      <th>0</th>\n",
       "      <td>None</td>\n",
       "      <td>2019-09-23T09:11:20.548-04:00</td>\n",
       "      <td>b1b8b9bb-8d05-4be9-a9f6-61a571d6b175</td>\n",
       "      <td>aa240ddc-17cd-4f29-bb39-e40a51f088b2</td>\n",
       "      <td>FLOW</td>\n",
       "      <td>START</td>\n",
       "      <td>SysClient0004.systemia.com</td>\n",
       "      <td>None</td>\n",
       "    </tr>\n",
       "    <tr>\n",
       "      <th>1</th>\n",
       "      <td>None</td>\n",
       "      <td>2019-09-23T09:11:20.552-04:00</td>\n",
       "      <td>b1b8b9bb-8d05-4be9-a9f6-61a571d6b175</td>\n",
       "      <td>aa240ddc-17cd-4f29-bb39-e40a51f088b2</td>\n",
       "      <td>FLOW</td>\n",
       "      <td>START</td>\n",
       "      <td>SysClient0004.systemia.com</td>\n",
       "      <td>None</td>\n",
       "    </tr>\n",
       "    <tr>\n",
       "      <th>2</th>\n",
       "      <td>None</td>\n",
       "      <td>2019-09-23T09:11:20.554-04:00</td>\n",
       "      <td>4f9297eb-314b-4188-b760-09d22bc786b4</td>\n",
       "      <td>aa240ddc-17cd-4f29-bb39-e40a51f088b2</td>\n",
       "      <td>FLOW</td>\n",
       "      <td>START</td>\n",
       "      <td>SysClient0004.systemia.com</td>\n",
       "      <td>None</td>\n",
       "    </tr>\n",
       "    <tr>\n",
       "      <th>3</th>\n",
       "      <td>None</td>\n",
       "      <td>2019-09-23T09:11:20.557-04:00</td>\n",
       "      <td>b1b8b9bb-8d05-4be9-a9f6-61a571d6b175</td>\n",
       "      <td>aa240ddc-17cd-4f29-bb39-e40a51f088b2</td>\n",
       "      <td>FLOW</td>\n",
       "      <td>START</td>\n",
       "      <td>SysClient0004.systemia.com</td>\n",
       "      <td>None</td>\n",
       "    </tr>\n",
       "    <tr>\n",
       "      <th>4</th>\n",
       "      <td>None</td>\n",
       "      <td>2019-09-23T09:11:20.56-04:00</td>\n",
       "      <td>4f9297eb-314b-4188-b760-09d22bc786b4</td>\n",
       "      <td>aa240ddc-17cd-4f29-bb39-e40a51f088b2</td>\n",
       "      <td>FLOW</td>\n",
       "      <td>START</td>\n",
       "      <td>SysClient0004.systemia.com</td>\n",
       "      <td>None</td>\n",
       "    </tr>\n",
       "  </tbody>\n",
       "</table>\n",
       "</div>"
      ],
      "text/plain": [
       "     id                      timestamp                              objectID  \\\n",
       "0  None  2019-09-23T09:11:20.548-04:00  b1b8b9bb-8d05-4be9-a9f6-61a571d6b175   \n",
       "1  None  2019-09-23T09:11:20.552-04:00  b1b8b9bb-8d05-4be9-a9f6-61a571d6b175   \n",
       "2  None  2019-09-23T09:11:20.554-04:00  4f9297eb-314b-4188-b760-09d22bc786b4   \n",
       "3  None  2019-09-23T09:11:20.557-04:00  b1b8b9bb-8d05-4be9-a9f6-61a571d6b175   \n",
       "4  None   2019-09-23T09:11:20.56-04:00  4f9297eb-314b-4188-b760-09d22bc786b4   \n",
       "\n",
       "                                actorID object action  \\\n",
       "0  aa240ddc-17cd-4f29-bb39-e40a51f088b2   FLOW  START   \n",
       "1  aa240ddc-17cd-4f29-bb39-e40a51f088b2   FLOW  START   \n",
       "2  aa240ddc-17cd-4f29-bb39-e40a51f088b2   FLOW  START   \n",
       "3  aa240ddc-17cd-4f29-bb39-e40a51f088b2   FLOW  START   \n",
       "4  aa240ddc-17cd-4f29-bb39-e40a51f088b2   FLOW  START   \n",
       "\n",
       "                     hostname user_name  \n",
       "0  SysClient0004.systemia.com      None  \n",
       "1  SysClient0004.systemia.com      None  \n",
       "2  SysClient0004.systemia.com      None  \n",
       "3  SysClient0004.systemia.com      None  \n",
       "4  SysClient0004.systemia.com      None  "
      ]
     },
     "execution_count": 40,
     "metadata": {},
     "output_type": "execute_result"
    }
   ],
   "source": [
    "df_dup.limit(5).toPandas()"
   ]
  },
  {
   "cell_type": "code",
   "execution_count": 43,
   "id": "0a2ef262-3b4b-4659-9e5a-ad65cd30257f",
   "metadata": {
    "tags": []
   },
   "outputs": [],
   "source": [
    "df_new = df.union(df_dup).sort(\"timestamp\")"
   ]
  },
  {
   "cell_type": "code",
   "execution_count": 44,
   "id": "d5da3e36-2e52-47b1-a84f-5eefcb4bc16b",
   "metadata": {
    "tags": []
   },
   "outputs": [
    {
     "data": {
      "text/html": [
       "<div>\n",
       "<style scoped>\n",
       "    .dataframe tbody tr th:only-of-type {\n",
       "        vertical-align: middle;\n",
       "    }\n",
       "\n",
       "    .dataframe tbody tr th {\n",
       "        vertical-align: top;\n",
       "    }\n",
       "\n",
       "    .dataframe thead th {\n",
       "        text-align: right;\n",
       "    }\n",
       "</style>\n",
       "<table border=\"1\" class=\"dataframe\">\n",
       "  <thead>\n",
       "    <tr style=\"text-align: right;\">\n",
       "      <th></th>\n",
       "      <th>id</th>\n",
       "      <th>timestamp</th>\n",
       "      <th>objectID</th>\n",
       "      <th>actorID</th>\n",
       "      <th>object</th>\n",
       "      <th>action</th>\n",
       "      <th>hostname</th>\n",
       "      <th>user_name</th>\n",
       "    </tr>\n",
       "  </thead>\n",
       "  <tbody>\n",
       "    <tr>\n",
       "      <th>0</th>\n",
       "      <td>None</td>\n",
       "      <td>2019-09-23T09:06:23.238-04:00</td>\n",
       "      <td>febae102-2e7f-4c61-8ffa-6b1b6a66d209</td>\n",
       "      <td>a989aa42-152e-482b-b8aa-95b0dbf42b2f</td>\n",
       "      <td>PROCESS</td>\n",
       "      <td>OPEN</td>\n",
       "      <td>SysClient0021.systemia.com</td>\n",
       "      <td>None</td>\n",
       "    </tr>\n",
       "    <tr>\n",
       "      <th>1</th>\n",
       "      <td>3d842b72-5c2d-45a3-ac61-4d6d2e4bc7cc</td>\n",
       "      <td>2019-09-23T09:06:23.238-04:00</td>\n",
       "      <td>febae102-2e7f-4c61-8ffa-6b1b6a66d209</td>\n",
       "      <td>a989aa42-152e-482b-b8aa-95b0dbf42b2f</td>\n",
       "      <td>PROCESS</td>\n",
       "      <td>OPEN</td>\n",
       "      <td>SysClient0021.systemia.com</td>\n",
       "      <td>None</td>\n",
       "    </tr>\n",
       "    <tr>\n",
       "      <th>2</th>\n",
       "      <td>6703b5cb-ceb5-4279-a702-edaa90158c89</td>\n",
       "      <td>2019-09-23T09:06:23.238-04:00</td>\n",
       "      <td>febae102-2e7f-4c61-8ffa-6b1b6a66d209</td>\n",
       "      <td>a989aa42-152e-482b-b8aa-95b0dbf42b2f</td>\n",
       "      <td>PROCESS</td>\n",
       "      <td>OPEN</td>\n",
       "      <td>SysClient0021.systemia.com</td>\n",
       "      <td>None</td>\n",
       "    </tr>\n",
       "    <tr>\n",
       "      <th>3</th>\n",
       "      <td>1d3ad0d1-2f8b-41e3-ae8a-ec32413cf288</td>\n",
       "      <td>2019-09-23T09:06:23.238-04:00</td>\n",
       "      <td>febae102-2e7f-4c61-8ffa-6b1b6a66d209</td>\n",
       "      <td>a989aa42-152e-482b-b8aa-95b0dbf42b2f</td>\n",
       "      <td>PROCESS</td>\n",
       "      <td>CREATE</td>\n",
       "      <td>SysClient0021.systemia.com</td>\n",
       "      <td>None</td>\n",
       "    </tr>\n",
       "    <tr>\n",
       "      <th>4</th>\n",
       "      <td>None</td>\n",
       "      <td>2019-09-23T09:06:23.238-04:00</td>\n",
       "      <td>febae102-2e7f-4c61-8ffa-6b1b6a66d209</td>\n",
       "      <td>a989aa42-152e-482b-b8aa-95b0dbf42b2f</td>\n",
       "      <td>PROCESS</td>\n",
       "      <td>CREATE</td>\n",
       "      <td>SysClient0021.systemia.com</td>\n",
       "      <td>None</td>\n",
       "    </tr>\n",
       "  </tbody>\n",
       "</table>\n",
       "</div>"
      ],
      "text/plain": [
       "                                     id                      timestamp  \\\n",
       "0                                  None  2019-09-23T09:06:23.238-04:00   \n",
       "1  3d842b72-5c2d-45a3-ac61-4d6d2e4bc7cc  2019-09-23T09:06:23.238-04:00   \n",
       "2  6703b5cb-ceb5-4279-a702-edaa90158c89  2019-09-23T09:06:23.238-04:00   \n",
       "3  1d3ad0d1-2f8b-41e3-ae8a-ec32413cf288  2019-09-23T09:06:23.238-04:00   \n",
       "4                                  None  2019-09-23T09:06:23.238-04:00   \n",
       "\n",
       "                               objectID                               actorID  \\\n",
       "0  febae102-2e7f-4c61-8ffa-6b1b6a66d209  a989aa42-152e-482b-b8aa-95b0dbf42b2f   \n",
       "1  febae102-2e7f-4c61-8ffa-6b1b6a66d209  a989aa42-152e-482b-b8aa-95b0dbf42b2f   \n",
       "2  febae102-2e7f-4c61-8ffa-6b1b6a66d209  a989aa42-152e-482b-b8aa-95b0dbf42b2f   \n",
       "3  febae102-2e7f-4c61-8ffa-6b1b6a66d209  a989aa42-152e-482b-b8aa-95b0dbf42b2f   \n",
       "4  febae102-2e7f-4c61-8ffa-6b1b6a66d209  a989aa42-152e-482b-b8aa-95b0dbf42b2f   \n",
       "\n",
       "    object  action                    hostname user_name  \n",
       "0  PROCESS    OPEN  SysClient0021.systemia.com      None  \n",
       "1  PROCESS    OPEN  SysClient0021.systemia.com      None  \n",
       "2  PROCESS    OPEN  SysClient0021.systemia.com      None  \n",
       "3  PROCESS  CREATE  SysClient0021.systemia.com      None  \n",
       "4  PROCESS  CREATE  SysClient0021.systemia.com      None  "
      ]
     },
     "execution_count": 44,
     "metadata": {},
     "output_type": "execute_result"
    }
   ],
   "source": [
    "df_new.limit(5).toPandas()"
   ]
  },
  {
   "cell_type": "code",
   "execution_count": null,
   "id": "fb3abb18-b762-4e7d-b466-d9e5ee31f9f3",
   "metadata": {},
   "outputs": [],
   "source": []
  }
 ],
 "metadata": {
  "kernelspec": {
   "display_name": "conda_python3",
   "language": "python",
   "name": "conda_python3"
  },
  "language_info": {
   "codemirror_mode": {
    "name": "ipython",
    "version": 3
   },
   "file_extension": ".py",
   "mimetype": "text/x-python",
   "name": "python",
   "nbconvert_exporter": "python",
   "pygments_lexer": "ipython3",
   "version": "3.10.8"
  }
 },
 "nbformat": 4,
 "nbformat_minor": 5
}
