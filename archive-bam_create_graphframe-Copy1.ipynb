{
 "cells": [
  {
   "cell_type": "code",
   "execution_count": 1,
   "id": "1c5002ac-9cf6-4082-bd31-0bd2befac188",
   "metadata": {
    "tags": []
   },
   "outputs": [
    {
     "name": "stderr",
     "output_type": "stream",
     "text": [
      "Warning: Ignoring non-Spark config property: fs.s3a.access.key\n",
      "Warning: Ignoring non-Spark config property: fs.s3a.secret.key\n"
     ]
    },
    {
     "name": "stdout",
     "output_type": "stream",
     "text": [
      ":: loading settings :: url = jar:file:/home/ec2-user/anaconda3/envs/python3/lib/python3.10/site-packages/pyspark/jars/ivy-2.5.0.jar!/org/apache/ivy/core/settings/ivysettings.xml\n"
     ]
    },
    {
     "name": "stderr",
     "output_type": "stream",
     "text": [
      "Ivy Default Cache set to: /home/ec2-user/.ivy2/cache\n",
      "The jars for the packages stored in: /home/ec2-user/.ivy2/jars\n",
      "graphframes#graphframes added as a dependency\n",
      ":: resolving dependencies :: org.apache.spark#spark-submit-parent-a14ff970-596e-4b85-81e5-a01c8bef1c9a;1.0\n",
      "\tconfs: [default]\n",
      "\tfound graphframes#graphframes;0.8.2-spark3.2-s_2.12 in spark-packages\n",
      "\tfound org.slf4j#slf4j-api;1.7.16 in central\n",
      "downloading https://repos.spark-packages.org/graphframes/graphframes/0.8.2-spark3.2-s_2.12/graphframes-0.8.2-spark3.2-s_2.12.jar ...\n",
      "\t[SUCCESSFUL ] graphframes#graphframes;0.8.2-spark3.2-s_2.12!graphframes.jar (70ms)\n",
      "downloading https://repo1.maven.org/maven2/org/slf4j/slf4j-api/1.7.16/slf4j-api-1.7.16.jar ...\n",
      "\t[SUCCESSFUL ] org.slf4j#slf4j-api;1.7.16!slf4j-api.jar (30ms)\n",
      ":: resolution report :: resolve 649ms :: artifacts dl 102ms\n",
      "\t:: modules in use:\n",
      "\tgraphframes#graphframes;0.8.2-spark3.2-s_2.12 from spark-packages in [default]\n",
      "\torg.slf4j#slf4j-api;1.7.16 from central in [default]\n",
      "\t---------------------------------------------------------------------\n",
      "\t|                  |            modules            ||   artifacts   |\n",
      "\t|       conf       | number| search|dwnlded|evicted|| number|dwnlded|\n",
      "\t---------------------------------------------------------------------\n",
      "\t|      default     |   2   |   2   |   2   |   0   ||   2   |   2   |\n",
      "\t---------------------------------------------------------------------\n",
      ":: retrieving :: org.apache.spark#spark-submit-parent-a14ff970-596e-4b85-81e5-a01c8bef1c9a\n",
      "\tconfs: [default]\n",
      "\t2 artifacts copied, 0 already retrieved (281kB/5ms)\n"
     ]
    },
    {
     "name": "stdout",
     "output_type": "stream",
     "text": [
      "23/03/17 01:04:59 WARN NativeCodeLoader: Unable to load native-hadoop library for your platform... using builtin-java classes where applicable\n"
     ]
    },
    {
     "name": "stderr",
     "output_type": "stream",
     "text": [
      "Setting default log level to \"WARN\".\n",
      "To adjust logging level use sc.setLogLevel(newLevel). For SparkR, use setLogLevel(newLevel).\n"
     ]
    },
    {
     "name": "stdout",
     "output_type": "stream",
     "text": [
      "23/03/17 01:05:00 WARN SparkConf: Note that spark.local.dir will be overridden by the value set by the cluster manager (via SPARK_LOCAL_DIRS in mesos/standalone/kubernetes and LOCAL_DIRS in YARN).\n"
     ]
    }
   ],
   "source": [
    "%run ./read_file.ipynb"
   ]
  },
  {
   "cell_type": "code",
   "execution_count": 2,
   "id": "16e819a0-bfe6-494a-8345-d1a02ba647b6",
   "metadata": {
    "tags": []
   },
   "outputs": [],
   "source": [
    "from graphframes import GraphFrame"
   ]
  },
  {
   "cell_type": "code",
   "execution_count": null,
   "id": "7c106592-d960-4871-a3d0-fd85d16116f5",
   "metadata": {},
   "outputs": [],
   "source": []
  },
  {
   "cell_type": "code",
   "execution_count": null,
   "id": "0924c8cc-824e-45a6-8133-400fbeb80daa",
   "metadata": {
    "tags": []
   },
   "outputs": [],
   "source": [
    "# df = readCheckpoint(size='medium').cache()"
   ]
  },
  {
   "cell_type": "code",
   "execution_count": null,
   "id": "0cfe452e-a171-4719-9241-67d26dcf3d59",
   "metadata": {
    "tags": []
   },
   "outputs": [],
   "source": [
    "# df.printSchema()"
   ]
  },
  {
   "cell_type": "code",
   "execution_count": null,
   "id": "d5480a00-45c7-47f1-b5d2-a5b712b5e8b1",
   "metadata": {
    "tags": []
   },
   "outputs": [],
   "source": [
    "#filter to 3 malicious hosts"
   ]
  },
  {
   "cell_type": "code",
   "execution_count": null,
   "id": "72a8f84a-fa00-460d-86eb-2d9d04e4932b",
   "metadata": {},
   "outputs": [],
   "source": [
    "# df_first_events = get_firsts(df).cache()"
   ]
  },
  {
   "cell_type": "code",
   "execution_count": null,
   "id": "a3a37e65-72eb-4cc0-a554-8189db197e09",
   "metadata": {
    "tags": []
   },
   "outputs": [],
   "source": [
    "# df_first_events.count()"
   ]
  },
  {
   "cell_type": "code",
   "execution_count": null,
   "id": "bcaf32ed-5a6a-4645-b21e-9ad4f5542bfb",
   "metadata": {
    "tags": []
   },
   "outputs": [],
   "source": [
    "# x is the number of hours\n",
    "# y is the maximum number of events for any hour in a graph\n",
    "# x_axis = 2*(x-1)+2\n",
    "# y_axis = 2*(y-1)+2"
   ]
  },
  {
   "cell_type": "code",
   "execution_count": null,
   "id": "f853447f-613e-4a04-a723-48c705f53e5b",
   "metadata": {
    "tags": []
   },
   "outputs": [],
   "source": [
    "# df_first_events.write.option(\"maxRecordsPerFile\", 300000).mode(\"overwrite\").parquet(f\"{s3_url_trusted}/prod/graph/first_events\")"
   ]
  },
  {
   "cell_type": "code",
   "execution_count": 3,
   "id": "1d82b393-d259-425d-a67b-1b85b90b895d",
   "metadata": {
    "tags": []
   },
   "outputs": [
    {
     "name": "stderr",
     "output_type": "stream",
     "text": [
      "                                                                                \r"
     ]
    }
   ],
   "source": [
    "df = spark.read.parquet(f\"{s3_url_trusted}/prod/graph/first_events\")\\\n",
    "            .withColumn(\"image_path\", getFileUDF(col(\"image_path\"))) \\\n",
    "            .withColumn(\"parent_image_path\", getFileUDF(col(\"parent_image_path\"))) \\\n",
    "            .withColumn(\"new_path\", getFileUDF(col(\"new_path\"))) \\\n",
    "            .withColumn(\"file_path\", getFileUDF(col(\"file_path\"))) \\\n",
    "            .cache()"
   ]
  },
  {
   "cell_type": "code",
   "execution_count": 4,
   "id": "4bbd7c73-550b-4a71-af69-c8bc325144b6",
   "metadata": {
    "tags": []
   },
   "outputs": [
    {
     "name": "stderr",
     "output_type": "stream",
     "text": [
      "/home/ec2-user/anaconda3/envs/python3/lib/python3.10/site-packages/pyspark/sql/pandas/conversion.py:248: FutureWarning: Passing unit-less datetime64 dtype to .astype is deprecated and will raise in a future version. Pass 'datetime64[ns]' instead\n",
      "  series = series.astype(t, copy=False)\n"
     ]
    },
    {
     "data": {
      "text/html": [
       "<div>\n",
       "<style scoped>\n",
       "    .dataframe tbody tr th:only-of-type {\n",
       "        vertical-align: middle;\n",
       "    }\n",
       "\n",
       "    .dataframe tbody tr th {\n",
       "        vertical-align: top;\n",
       "    }\n",
       "\n",
       "    .dataframe thead th {\n",
       "        text-align: right;\n",
       "    }\n",
       "</style>\n",
       "<table border=\"1\" class=\"dataframe\">\n",
       "  <thead>\n",
       "    <tr style=\"text-align: right;\">\n",
       "      <th></th>\n",
       "      <th>id</th>\n",
       "      <th>timestamp</th>\n",
       "      <th>objectID</th>\n",
       "      <th>actorID</th>\n",
       "      <th>object</th>\n",
       "      <th>action</th>\n",
       "      <th>hostname</th>\n",
       "      <th>user_name</th>\n",
       "      <th>privileges</th>\n",
       "      <th>image_path</th>\n",
       "      <th>...</th>\n",
       "      <th>file_path</th>\n",
       "      <th>direction</th>\n",
       "      <th>logon_id</th>\n",
       "      <th>requesting_domain</th>\n",
       "      <th>requesting_user</th>\n",
       "      <th>event_minute</th>\n",
       "      <th>event_day</th>\n",
       "      <th>event_hour</th>\n",
       "      <th>malicious</th>\n",
       "      <th>relationship</th>\n",
       "    </tr>\n",
       "  </thead>\n",
       "  <tbody>\n",
       "    <tr>\n",
       "      <th>0</th>\n",
       "      <td>4cc78dc0-6326-4ec2-ba10-45e3de3a9fc9</td>\n",
       "      <td>2019-09-23 17:10:12.127</td>\n",
       "      <td>00008f39-ef23-4bbe-b016-6f38be0eb59e</td>\n",
       "      <td>22e33a78-6ee0-418c-89ee-51384377ac90</td>\n",
       "      <td>FILE</td>\n",
       "      <td>READ</td>\n",
       "      <td>SysClient0465.systemia.com</td>\n",
       "      <td>None</td>\n",
       "      <td>None</td>\n",
       "      <td>firefox.exe</td>\n",
       "      <td>...</td>\n",
       "      <td>fastprox.dll</td>\n",
       "      <td>None</td>\n",
       "      <td>None</td>\n",
       "      <td>None</td>\n",
       "      <td>None</td>\n",
       "      <td>10</td>\n",
       "      <td>23</td>\n",
       "      <td>17</td>\n",
       "      <td>0</td>\n",
       "      <td>00008f39-ef23-4bbe-b016-6f38be0eb59e-&gt;22e33a78...</td>\n",
       "    </tr>\n",
       "    <tr>\n",
       "      <th>1</th>\n",
       "      <td>3256faf6-8ca4-4229-b5b7-7891a326acad</td>\n",
       "      <td>2019-09-23 17:52:46.260</td>\n",
       "      <td>0000909a-c9bf-4842-a2a3-0d0b37c5164d</td>\n",
       "      <td>9699bec5-89d2-4982-8d45-b1e0bf318ed9</td>\n",
       "      <td>FILE</td>\n",
       "      <td>READ</td>\n",
       "      <td>SysClient0119.systemia.com</td>\n",
       "      <td>None</td>\n",
       "      <td>None</td>\n",
       "      <td>WScript.exe</td>\n",
       "      <td>...</td>\n",
       "      <td>desktop.ini</td>\n",
       "      <td>None</td>\n",
       "      <td>None</td>\n",
       "      <td>None</td>\n",
       "      <td>None</td>\n",
       "      <td>52</td>\n",
       "      <td>23</td>\n",
       "      <td>17</td>\n",
       "      <td>0</td>\n",
       "      <td>0000909a-c9bf-4842-a2a3-0d0b37c5164d-&gt;9699bec5...</td>\n",
       "    </tr>\n",
       "    <tr>\n",
       "      <th>2</th>\n",
       "      <td>b3ba2302-277a-4788-8216-96a51c276c56</td>\n",
       "      <td>2019-09-23 16:27:02.217</td>\n",
       "      <td>0000ec57-02e1-4a13-99c7-2a617fb8ac95</td>\n",
       "      <td>7eb5c010-7e92-4896-ba2f-6bc58f716626</td>\n",
       "      <td>FILE</td>\n",
       "      <td>READ</td>\n",
       "      <td>SysClient0667.systemia.com</td>\n",
       "      <td>None</td>\n",
       "      <td>None</td>\n",
       "      <td>conhost.exe</td>\n",
       "      <td>...</td>\n",
       "      <td>easy-install.pth</td>\n",
       "      <td>None</td>\n",
       "      <td>None</td>\n",
       "      <td>None</td>\n",
       "      <td>None</td>\n",
       "      <td>27</td>\n",
       "      <td>23</td>\n",
       "      <td>16</td>\n",
       "      <td>0</td>\n",
       "      <td>0000ec57-02e1-4a13-99c7-2a617fb8ac95-&gt;7eb5c010...</td>\n",
       "    </tr>\n",
       "    <tr>\n",
       "      <th>3</th>\n",
       "      <td>48964880-a761-4125-a6d5-e9b8a4f21009</td>\n",
       "      <td>2019-09-23 15:46:43.448</td>\n",
       "      <td>00018ce5-0c98-4366-b0e1-1739a7f816c7</td>\n",
       "      <td>0fb964c3-3809-42b3-b219-abb3e5e0060f</td>\n",
       "      <td>FLOW</td>\n",
       "      <td>INFO</td>\n",
       "      <td>SysClient0775.systemia.com</td>\n",
       "      <td>None</td>\n",
       "      <td>None</td>\n",
       "      <td>None</td>\n",
       "      <td>...</td>\n",
       "      <td>None</td>\n",
       "      <td>None</td>\n",
       "      <td>None</td>\n",
       "      <td>None</td>\n",
       "      <td>None</td>\n",
       "      <td>46</td>\n",
       "      <td>23</td>\n",
       "      <td>15</td>\n",
       "      <td>0</td>\n",
       "      <td>00018ce5-0c98-4366-b0e1-1739a7f816c7-&gt;0fb964c3...</td>\n",
       "    </tr>\n",
       "    <tr>\n",
       "      <th>4</th>\n",
       "      <td>4edf49e8-0cd7-4165-b0dd-ad15c7c5bad3</td>\n",
       "      <td>2019-09-23 19:12:03.396</td>\n",
       "      <td>0001cab7-a0ff-4873-a421-01c3dc18aa20</td>\n",
       "      <td>40d68792-8340-4ed9-b354-3992d19fe1ea</td>\n",
       "      <td>FILE</td>\n",
       "      <td>READ</td>\n",
       "      <td>SysClient0952.systemia.com</td>\n",
       "      <td>None</td>\n",
       "      <td>None</td>\n",
       "      <td>python.exe</td>\n",
       "      <td>...</td>\n",
       "      <td>action_runners</td>\n",
       "      <td>None</td>\n",
       "      <td>None</td>\n",
       "      <td>None</td>\n",
       "      <td>None</td>\n",
       "      <td>12</td>\n",
       "      <td>23</td>\n",
       "      <td>19</td>\n",
       "      <td>0</td>\n",
       "      <td>0001cab7-a0ff-4873-a421-01c3dc18aa20-&gt;40d68792...</td>\n",
       "    </tr>\n",
       "  </tbody>\n",
       "</table>\n",
       "<p>5 rows × 22 columns</p>\n",
       "</div>"
      ],
      "text/plain": [
       "                                     id               timestamp  \\\n",
       "0  4cc78dc0-6326-4ec2-ba10-45e3de3a9fc9 2019-09-23 17:10:12.127   \n",
       "1  3256faf6-8ca4-4229-b5b7-7891a326acad 2019-09-23 17:52:46.260   \n",
       "2  b3ba2302-277a-4788-8216-96a51c276c56 2019-09-23 16:27:02.217   \n",
       "3  48964880-a761-4125-a6d5-e9b8a4f21009 2019-09-23 15:46:43.448   \n",
       "4  4edf49e8-0cd7-4165-b0dd-ad15c7c5bad3 2019-09-23 19:12:03.396   \n",
       "\n",
       "                               objectID                               actorID  \\\n",
       "0  00008f39-ef23-4bbe-b016-6f38be0eb59e  22e33a78-6ee0-418c-89ee-51384377ac90   \n",
       "1  0000909a-c9bf-4842-a2a3-0d0b37c5164d  9699bec5-89d2-4982-8d45-b1e0bf318ed9   \n",
       "2  0000ec57-02e1-4a13-99c7-2a617fb8ac95  7eb5c010-7e92-4896-ba2f-6bc58f716626   \n",
       "3  00018ce5-0c98-4366-b0e1-1739a7f816c7  0fb964c3-3809-42b3-b219-abb3e5e0060f   \n",
       "4  0001cab7-a0ff-4873-a421-01c3dc18aa20  40d68792-8340-4ed9-b354-3992d19fe1ea   \n",
       "\n",
       "  object action                    hostname user_name privileges   image_path  \\\n",
       "0   FILE   READ  SysClient0465.systemia.com      None       None  firefox.exe   \n",
       "1   FILE   READ  SysClient0119.systemia.com      None       None  WScript.exe   \n",
       "2   FILE   READ  SysClient0667.systemia.com      None       None  conhost.exe   \n",
       "3   FLOW   INFO  SysClient0775.systemia.com      None       None         None   \n",
       "4   FILE   READ  SysClient0952.systemia.com      None       None   python.exe   \n",
       "\n",
       "   ...         file_path direction logon_id requesting_domain requesting_user  \\\n",
       "0  ...      fastprox.dll      None     None              None            None   \n",
       "1  ...       desktop.ini      None     None              None            None   \n",
       "2  ...  easy-install.pth      None     None              None            None   \n",
       "3  ...              None      None     None              None            None   \n",
       "4  ...    action_runners      None     None              None            None   \n",
       "\n",
       "  event_minute event_day  event_hour  malicious  \\\n",
       "0           10        23          17          0   \n",
       "1           52        23          17          0   \n",
       "2           27        23          16          0   \n",
       "3           46        23          15          0   \n",
       "4           12        23          19          0   \n",
       "\n",
       "                                        relationship  \n",
       "0  00008f39-ef23-4bbe-b016-6f38be0eb59e->22e33a78...  \n",
       "1  0000909a-c9bf-4842-a2a3-0d0b37c5164d->9699bec5...  \n",
       "2  0000ec57-02e1-4a13-99c7-2a617fb8ac95->7eb5c010...  \n",
       "3  00018ce5-0c98-4366-b0e1-1739a7f816c7->0fb964c3...  \n",
       "4  0001cab7-a0ff-4873-a421-01c3dc18aa20->40d68792...  \n",
       "\n",
       "[5 rows x 22 columns]"
      ]
     },
     "execution_count": 4,
     "metadata": {},
     "output_type": "execute_result"
    }
   ],
   "source": [
    "df.limit(5).toPandas()"
   ]
  },
  {
   "cell_type": "code",
   "execution_count": 5,
   "id": "5cbf0110-c347-40ec-9d2c-1dd0c50a8b89",
   "metadata": {
    "collapsed": true,
    "jupyter": {
     "outputs_hidden": true
    },
    "tags": []
   },
   "outputs": [
    {
     "name": "stdout",
     "output_type": "stream",
     "text": [
      "root\n",
      " |-- id: string (nullable = true)\n",
      " |-- timestamp: timestamp (nullable = true)\n",
      " |-- objectID: string (nullable = true)\n",
      " |-- actorID: string (nullable = true)\n",
      " |-- object: string (nullable = true)\n",
      " |-- action: string (nullable = true)\n",
      " |-- hostname: string (nullable = true)\n",
      " |-- user_name: string (nullable = true)\n",
      " |-- privileges: string (nullable = true)\n",
      " |-- image_path: string (nullable = true)\n",
      " |-- parent_image_path: string (nullable = true)\n",
      " |-- new_path: string (nullable = true)\n",
      " |-- file_path: string (nullable = true)\n",
      " |-- direction: string (nullable = true)\n",
      " |-- logon_id: string (nullable = true)\n",
      " |-- requesting_domain: string (nullable = true)\n",
      " |-- requesting_user: string (nullable = true)\n",
      " |-- event_minute: integer (nullable = true)\n",
      " |-- event_day: integer (nullable = true)\n",
      " |-- event_hour: integer (nullable = true)\n",
      " |-- malicious: integer (nullable = true)\n",
      " |-- relationship: string (nullable = true)\n",
      "\n"
     ]
    }
   ],
   "source": [
    "df.printSchema()"
   ]
  },
  {
   "cell_type": "code",
   "execution_count": 4,
   "id": "f92cc1f9-6151-4ebf-83dc-0315e0bfdf50",
   "metadata": {
    "tags": []
   },
   "outputs": [
    {
     "name": "stderr",
     "output_type": "stream",
     "text": [
      "                                                                                \r"
     ]
    },
    {
     "data": {
      "text/plain": [
       "31170587"
      ]
     },
     "execution_count": 4,
     "metadata": {},
     "output_type": "execute_result"
    }
   ],
   "source": [
    "#how big is this dataset with just first events? And how does the relationship work? \n",
    "df.count()"
   ]
  },
  {
   "cell_type": "code",
   "execution_count": 5,
   "id": "e63f6333-4d93-4abc-a338-1b8fba776ac0",
   "metadata": {
    "tags": []
   },
   "outputs": [
    {
     "name": "stdout",
     "output_type": "stream",
     "text": [
      "+---------+\n",
      "|event_day|\n",
      "+---------+\n",
      "|       23|\n",
      "+---------+\n",
      "\n"
     ]
    },
    {
     "name": "stderr",
     "output_type": "stream",
     "text": [
      "                                                                                \r"
     ]
    }
   ],
   "source": [
    "#What days are represented? \n",
    "df.select('event_day').distinct().show()"
   ]
  },
  {
   "cell_type": "code",
   "execution_count": 6,
   "id": "5780d679-e862-4ead-ae25-c6b22a9e7680",
   "metadata": {
    "tags": []
   },
   "outputs": [
    {
     "name": "stdout",
     "output_type": "stream",
     "text": [
      "+----------+\n",
      "|event_hour|\n",
      "+----------+\n",
      "|        12|\n",
      "|        22|\n",
      "|        13|\n",
      "|        16|\n",
      "|         6|\n",
      "|         3|\n",
      "|        20|\n",
      "|         5|\n",
      "|        19|\n",
      "|        15|\n",
      "|        17|\n",
      "|         9|\n",
      "|         4|\n",
      "|         8|\n",
      "|        23|\n",
      "|         7|\n",
      "|        10|\n",
      "|        21|\n",
      "|        11|\n",
      "|        14|\n",
      "+----------+\n",
      "only showing top 20 rows\n",
      "\n"
     ]
    }
   ],
   "source": [
    "#how many hours? \n",
    "df.select('event_hour').distinct().show()\n",
    "#I see all hours which means we likely filtered on 23 before we enmbarked on this journey. I think this might mean\n",
    "#we have all the events. Exciting. "
   ]
  },
  {
   "cell_type": "code",
   "execution_count": 7,
   "id": "5c76325b-0020-4990-bae7-98fcf33a5026",
   "metadata": {
    "tags": []
   },
   "outputs": [
    {
     "data": {
      "text/plain": [
       "31166945"
      ]
     },
     "execution_count": 7,
     "metadata": {},
     "output_type": "execute_result"
    }
   ],
   "source": [
    "df_benign = df.where(col('malicious') == 0)\n",
    "print(\"benign count: \" + str(df_benign.count())\n"
   ]
  },
  {
   "cell_type": "code",
   "execution_count": 96,
   "id": "3f069fd2-e9fa-4d6e-a2fb-da597c8f9782",
   "metadata": {
    "tags": []
   },
   "outputs": [],
   "source": [
    "df_benign_lim = df_benign.limit(500000)"
   ]
  },
  {
   "cell_type": "code",
   "execution_count": 8,
   "id": "f7181d9d-9752-40a7-8e03-2aa57e723b26",
   "metadata": {
    "tags": []
   },
   "outputs": [
    {
     "data": {
      "text/plain": [
       "3642"
      ]
     },
     "execution_count": 8,
     "metadata": {},
     "output_type": "execute_result"
    }
   ],
   "source": [
    "df_mal = df.where(col('malicious') == 1)\n",
    "df_mal.count()\n",
    "#I'm not thrilled that the malicious count isn't even close to what was shown in the paper"
   ]
  },
  {
   "cell_type": "code",
   "execution_count": 7,
   "id": "e003fe3c-d279-4a2c-8bfd-04a14c29e24c",
   "metadata": {
    "tags": []
   },
   "outputs": [
    {
     "name": "stderr",
     "output_type": "stream",
     "text": [
      "                                                                                \r"
     ]
    },
    {
     "name": "stdout",
     "output_type": "stream",
     "text": [
      "image path: 153\n",
      "image path: 151\n"
     ]
    }
   ],
   "source": [
    "print(\"image path: \"+str(df.select(\"image_path\").distinct().count()))\n",
    "print(\"image path: \"+str(df.select(\"parent_image_path\").distinct().count()))"
   ]
  },
  {
   "cell_type": "code",
   "execution_count": 9,
   "id": "4630d609-0c68-48cb-937d-62e34acba055",
   "metadata": {
    "tags": []
   },
   "outputs": [],
   "source": [
    "df = df.limit(1000).cache()"
   ]
  },
  {
   "cell_type": "code",
   "execution_count": 10,
   "id": "a0a38212-2419-45cc-aaf6-147214928c82",
   "metadata": {
    "tags": []
   },
   "outputs": [
    {
     "data": {
      "text/plain": [
       "1000"
      ]
     },
     "execution_count": 10,
     "metadata": {},
     "output_type": "execute_result"
    }
   ],
   "source": [
    "df.count()"
   ]
  },
  {
   "cell_type": "code",
   "execution_count": 97,
   "id": "d9682e4b-d89c-4e7d-8640-7bb7b29d3d80",
   "metadata": {
    "tags": []
   },
   "outputs": [
    {
     "name": "stderr",
     "output_type": "stream",
     "text": [
      "[Stage 1245:>                                                       (0 + 1) / 1]\r"
     ]
    }
   ],
   "source": [
    "# Create distinct vertices with source as actorid, destination as objectid\n",
    "src_vertices = df_benign_lim.selectExpr('actorID as id').distinct()\n",
    "dst_vertices = df_benign_lim.selectExpr('objectID as id').distinct()\n",
    "vertices = src_vertices.union(dst_vertices).distinct()\n",
    "\n",
    "# Create edges by using timestamp as an edge\n",
    "edges = df_benign_lim.selectExpr('actorID as src', 'objectID as dst', 'timestamp', 'object', 'action', 'hostname', 'user_name', 'privileges', 'image_path',\n",
    "                      'parent_image_path', 'new_path', 'file_path', 'direction', 'logon_id', 'requesting_domain', 'requesting_user', 'malicious')\n",
    "\n",
    "# Create GraphFrame\n",
    "g = GraphFrame(vertices, edges)"
   ]
  },
  {
   "cell_type": "code",
   "execution_count": 9,
   "id": "88890a54-58e8-4fd0-81c1-7e58f2321755",
   "metadata": {
    "tags": []
   },
   "outputs": [
    {
     "name": "stderr",
     "output_type": "stream",
     "text": [
      "/home/ec2-user/anaconda3/envs/python3/lib/python3.10/site-packages/pyspark/sql/dataframe.py:148: UserWarning: DataFrame.sql_ctx is an internal property, and will be removed in future releases. Use DataFrame.sparkSession instead.\n",
      "  warnings.warn(\n"
     ]
    }
   ],
   "source": [
    "# Create distinct vertices with source as actorid, destination as objectid for malicious\n",
    "src_vertices = df_mal.selectExpr('actorID as id').distinct()\n",
    "dst_vertices = df_mal.selectExpr('objectID as id').distinct()\n",
    "vertices = src_vertices.union(dst_vertices).distinct()\n",
    "\n",
    "# Create edges by using timestamp as an edge\n",
    "edges = df_mal.selectExpr('actorID as src', 'objectID as dst', 'timestamp', 'object', 'action', 'hostname', 'user_name', 'privileges', 'image_path',\n",
    "                      'parent_image_path', 'new_path', 'file_path', 'direction', 'logon_id', 'requesting_domain', 'requesting_user', 'malicious')\n",
    "\n",
    "# Create GraphFrame\n",
    "g = GraphFrame(vertices, edges)"
   ]
  },
  {
   "cell_type": "code",
   "execution_count": null,
   "id": "8c13cded-2d30-48d5-8d5a-2d0ee224a775",
   "metadata": {
    "tags": []
   },
   "outputs": [],
   "source": [
    "# display the vertices\n",
    "print(\"Vertices:\")\n",
    "g.vertices.show()"
   ]
  },
  {
   "cell_type": "code",
   "execution_count": null,
   "id": "c29d12c6-e084-4fe5-872d-e1f64b221a69",
   "metadata": {
    "tags": []
   },
   "outputs": [],
   "source": [
    "# display the edges\n",
    "print(\"Edges:\")\n",
    "g.edges.show(5)"
   ]
  },
  {
   "cell_type": "code",
   "execution_count": null,
   "id": "7c58e3ea-1a02-49de-8b36-b13e3e6e85a4",
   "metadata": {
    "tags": []
   },
   "outputs": [],
   "source": [
    "g.inDegrees.show(5)"
   ]
  },
  {
   "cell_type": "code",
   "execution_count": 98,
   "id": "c3ed0ae8-de35-47d6-b9b8-bc6ed6e52a9f",
   "metadata": {
    "tags": []
   },
   "outputs": [],
   "source": [
    "# find all paths of length 6 in the graph\n",
    "# Handling null values in shorter length \n",
    "motifs2 = g.find(\"(a)-[e1]->(b); (b)-[e2]->(c)\")\n",
    "#motifs6 = g.find(\"(a)-[e1]->(b); (b)-[e2]->(c); (c)-[e3]->(d)\")\n",
    "motifs6 = g.find(\"(a)-[e1]->(b); (b)-[e2]->(c); (c)-[e3]->(d); (d)-[e4]->(e); (e)-[e5]->(f); (f)-[e6]->(g)\")\n"
   ]
  },
  {
   "cell_type": "code",
   "execution_count": 94,
   "id": "1e3adb2a-6535-4d86-b201-29c4e0e2111a",
   "metadata": {
    "tags": []
   },
   "outputs": [
    {
     "name": "stderr",
     "output_type": "stream",
     "text": [
      "                                                                                \r"
     ]
    },
    {
     "data": {
      "text/plain": [
       "722309"
      ]
     },
     "execution_count": 94,
     "metadata": {},
     "output_type": "execute_result"
    }
   ],
   "source": [
    "# filter paths to only those where all edges are connected\n",
    "connected_paths_2 = motifs2.filter(\"e1.dst = e2.src\")# and e2.dst = e3.src and e3.dst = e4.src and e4.dst = e5.src and e5.dst = e6.src\")\n",
    "\n",
    "connected_paths_2.count()"
   ]
  },
  {
   "cell_type": "code",
   "execution_count": 99,
   "id": "9aa00d2b-2f75-4997-b738-5f496d1527c0",
   "metadata": {
    "tags": []
   },
   "outputs": [
    {
     "name": "stderr",
     "output_type": "stream",
     "text": [
      "                                                                                \r"
     ]
    },
    {
     "data": {
      "text/plain": [
       "1539441146"
      ]
     },
     "execution_count": 99,
     "metadata": {},
     "output_type": "execute_result"
    },
    {
     "name": "stderr",
     "output_type": "stream",
     "text": [
      "[Stage 1245:>                                                       (0 + 1) / 1]\r"
     ]
    }
   ],
   "source": [
    "# filter paths to only those where all edges are connected\n",
    "connected_paths = motifs6.filter(\"e1.dst = e2.src and e2.dst = e3.src and e3.dst = e4.src and e4.dst = e5.src and e5.dst = e6.src\")\n",
    "connected_paths.count()\n",
    "#interesting that motif of 6 returns so many more\n",
    "#for everyone's awareness, this took a long long time with 500000 benign events, so long that I had to shut it down\n"
   ]
  },
  {
   "cell_type": "code",
   "execution_count": null,
   "id": "4297ae5c-802a-4084-be1c-43c643a04114",
   "metadata": {},
   "outputs": [],
   "source": []
  },
  {
   "cell_type": "code",
   "execution_count": null,
   "id": "c1330b55-8ca0-42d1-abc9-8e98182c5bc5",
   "metadata": {
    "tags": []
   },
   "outputs": [],
   "source": [
    "# get the 6 edges in each path and convert to a pandas dataframe\n",
    "connected_paths.select(\"e1\").limit(1).collect()"
   ]
  },
  {
   "cell_type": "code",
   "execution_count": 11,
   "id": "a74c3dd0-0e37-47d2-a603-bf0469abdfdb",
   "metadata": {
    "tags": []
   },
   "outputs": [
    {
     "data": {
      "text/plain": [
       "pyspark.sql.dataframe.DataFrame"
      ]
     },
     "execution_count": 11,
     "metadata": {},
     "output_type": "execute_result"
    }
   ],
   "source": [
    "type(connected_paths)"
   ]
  },
  {
   "cell_type": "code",
   "execution_count": null,
   "id": "140b9481-5dec-479a-b362-1992f8c8db67",
   "metadata": {
    "tags": []
   },
   "outputs": [
    {
     "name": "stderr",
     "output_type": "stream",
     "text": [
      "[Stage 1453:>                                                       (0 + 1) / 1]\r"
     ]
    }
   ],
   "source": [
    "connected_paths.write.option(\"maxRecordsPerFile\", 300000).mode(\"overwrite\").parquet(f\"{s3_url_trusted}/prod/graph/test\")"
   ]
  },
  {
   "cell_type": "code",
   "execution_count": 18,
   "id": "2e04b021-682e-4444-9f9c-fc910fd48550",
   "metadata": {
    "tags": []
   },
   "outputs": [],
   "source": [
    "connected_paths = spark.read.parquet(f\"{s3_url_trusted}/prod/graph/test\").cache()"
   ]
  },
  {
   "cell_type": "code",
   "execution_count": 19,
   "id": "b22697e6-5408-4c34-aab0-879f8e6d8131",
   "metadata": {
    "tags": []
   },
   "outputs": [
    {
     "name": "stderr",
     "output_type": "stream",
     "text": [
      "                                                                                \r"
     ]
    },
    {
     "data": {
      "text/html": [
       "<div>\n",
       "<style scoped>\n",
       "    .dataframe tbody tr th:only-of-type {\n",
       "        vertical-align: middle;\n",
       "    }\n",
       "\n",
       "    .dataframe tbody tr th {\n",
       "        vertical-align: top;\n",
       "    }\n",
       "\n",
       "    .dataframe thead th {\n",
       "        text-align: right;\n",
       "    }\n",
       "</style>\n",
       "<table border=\"1\" class=\"dataframe\">\n",
       "  <thead>\n",
       "    <tr style=\"text-align: right;\">\n",
       "      <th></th>\n",
       "      <th>a</th>\n",
       "      <th>e1</th>\n",
       "      <th>b</th>\n",
       "      <th>e2</th>\n",
       "      <th>c</th>\n",
       "      <th>e3</th>\n",
       "      <th>d</th>\n",
       "      <th>e4</th>\n",
       "      <th>e</th>\n",
       "      <th>e5</th>\n",
       "      <th>f</th>\n",
       "      <th>e6</th>\n",
       "      <th>g</th>\n",
       "    </tr>\n",
       "  </thead>\n",
       "  <tbody>\n",
       "    <tr>\n",
       "      <th>0</th>\n",
       "      <td>(2d02ab42-4400-4049-baad-6dfae19c3c4c,)</td>\n",
       "      <td>(2d02ab42-4400-4049-baad-6dfae19c3c4c, 2d02ab4...</td>\n",
       "      <td>(2d02ab42-4400-4049-baad-6dfae19c3c4c,)</td>\n",
       "      <td>(2d02ab42-4400-4049-baad-6dfae19c3c4c, 2d02ab4...</td>\n",
       "      <td>(2d02ab42-4400-4049-baad-6dfae19c3c4c,)</td>\n",
       "      <td>(2d02ab42-4400-4049-baad-6dfae19c3c4c, 2d02ab4...</td>\n",
       "      <td>(2d02ab42-4400-4049-baad-6dfae19c3c4c,)</td>\n",
       "      <td>(2d02ab42-4400-4049-baad-6dfae19c3c4c, 2d02ab4...</td>\n",
       "      <td>(2d02ab42-4400-4049-baad-6dfae19c3c4c,)</td>\n",
       "      <td>(2d02ab42-4400-4049-baad-6dfae19c3c4c, 2d02ab4...</td>\n",
       "      <td>(2d02ab42-4400-4049-baad-6dfae19c3c4c,)</td>\n",
       "      <td>(2d02ab42-4400-4049-baad-6dfae19c3c4c, c3d7e86...</td>\n",
       "      <td>(c3d7e86e-fd61-4980-a2a4-8ddb7d5ce080,)</td>\n",
       "    </tr>\n",
       "    <tr>\n",
       "      <th>1</th>\n",
       "      <td>(2d02ab42-4400-4049-baad-6dfae19c3c4c,)</td>\n",
       "      <td>(2d02ab42-4400-4049-baad-6dfae19c3c4c, 2d02ab4...</td>\n",
       "      <td>(2d02ab42-4400-4049-baad-6dfae19c3c4c,)</td>\n",
       "      <td>(2d02ab42-4400-4049-baad-6dfae19c3c4c, 2d02ab4...</td>\n",
       "      <td>(2d02ab42-4400-4049-baad-6dfae19c3c4c,)</td>\n",
       "      <td>(2d02ab42-4400-4049-baad-6dfae19c3c4c, 2d02ab4...</td>\n",
       "      <td>(2d02ab42-4400-4049-baad-6dfae19c3c4c,)</td>\n",
       "      <td>(2d02ab42-4400-4049-baad-6dfae19c3c4c, 2d02ab4...</td>\n",
       "      <td>(2d02ab42-4400-4049-baad-6dfae19c3c4c,)</td>\n",
       "      <td>(2d02ab42-4400-4049-baad-6dfae19c3c4c, 2d02ab4...</td>\n",
       "      <td>(2d02ab42-4400-4049-baad-6dfae19c3c4c,)</td>\n",
       "      <td>(2d02ab42-4400-4049-baad-6dfae19c3c4c, 8ae4dd9...</td>\n",
       "      <td>(8ae4dd98-1e4c-4269-bba8-2823e84b439b,)</td>\n",
       "    </tr>\n",
       "    <tr>\n",
       "      <th>2</th>\n",
       "      <td>(2d02ab42-4400-4049-baad-6dfae19c3c4c,)</td>\n",
       "      <td>(2d02ab42-4400-4049-baad-6dfae19c3c4c, 2d02ab4...</td>\n",
       "      <td>(2d02ab42-4400-4049-baad-6dfae19c3c4c,)</td>\n",
       "      <td>(2d02ab42-4400-4049-baad-6dfae19c3c4c, 2d02ab4...</td>\n",
       "      <td>(2d02ab42-4400-4049-baad-6dfae19c3c4c,)</td>\n",
       "      <td>(2d02ab42-4400-4049-baad-6dfae19c3c4c, 2d02ab4...</td>\n",
       "      <td>(2d02ab42-4400-4049-baad-6dfae19c3c4c,)</td>\n",
       "      <td>(2d02ab42-4400-4049-baad-6dfae19c3c4c, 2d02ab4...</td>\n",
       "      <td>(2d02ab42-4400-4049-baad-6dfae19c3c4c,)</td>\n",
       "      <td>(2d02ab42-4400-4049-baad-6dfae19c3c4c, 2d02ab4...</td>\n",
       "      <td>(2d02ab42-4400-4049-baad-6dfae19c3c4c,)</td>\n",
       "      <td>(2d02ab42-4400-4049-baad-6dfae19c3c4c, 7a2784d...</td>\n",
       "      <td>(7a2784d1-606e-48a8-908f-91489f95b79e,)</td>\n",
       "    </tr>\n",
       "    <tr>\n",
       "      <th>3</th>\n",
       "      <td>(2d02ab42-4400-4049-baad-6dfae19c3c4c,)</td>\n",
       "      <td>(2d02ab42-4400-4049-baad-6dfae19c3c4c, 2d02ab4...</td>\n",
       "      <td>(2d02ab42-4400-4049-baad-6dfae19c3c4c,)</td>\n",
       "      <td>(2d02ab42-4400-4049-baad-6dfae19c3c4c, 2d02ab4...</td>\n",
       "      <td>(2d02ab42-4400-4049-baad-6dfae19c3c4c,)</td>\n",
       "      <td>(2d02ab42-4400-4049-baad-6dfae19c3c4c, 2d02ab4...</td>\n",
       "      <td>(2d02ab42-4400-4049-baad-6dfae19c3c4c,)</td>\n",
       "      <td>(2d02ab42-4400-4049-baad-6dfae19c3c4c, 2d02ab4...</td>\n",
       "      <td>(2d02ab42-4400-4049-baad-6dfae19c3c4c,)</td>\n",
       "      <td>(2d02ab42-4400-4049-baad-6dfae19c3c4c, 2d02ab4...</td>\n",
       "      <td>(2d02ab42-4400-4049-baad-6dfae19c3c4c,)</td>\n",
       "      <td>(2d02ab42-4400-4049-baad-6dfae19c3c4c, 479146b...</td>\n",
       "      <td>(479146bd-1a30-41d2-85c1-e3ba161295c9,)</td>\n",
       "    </tr>\n",
       "    <tr>\n",
       "      <th>4</th>\n",
       "      <td>(2d02ab42-4400-4049-baad-6dfae19c3c4c,)</td>\n",
       "      <td>(2d02ab42-4400-4049-baad-6dfae19c3c4c, 2d02ab4...</td>\n",
       "      <td>(2d02ab42-4400-4049-baad-6dfae19c3c4c,)</td>\n",
       "      <td>(2d02ab42-4400-4049-baad-6dfae19c3c4c, 2d02ab4...</td>\n",
       "      <td>(2d02ab42-4400-4049-baad-6dfae19c3c4c,)</td>\n",
       "      <td>(2d02ab42-4400-4049-baad-6dfae19c3c4c, 2d02ab4...</td>\n",
       "      <td>(2d02ab42-4400-4049-baad-6dfae19c3c4c,)</td>\n",
       "      <td>(2d02ab42-4400-4049-baad-6dfae19c3c4c, 2d02ab4...</td>\n",
       "      <td>(2d02ab42-4400-4049-baad-6dfae19c3c4c,)</td>\n",
       "      <td>(2d02ab42-4400-4049-baad-6dfae19c3c4c, 2d02ab4...</td>\n",
       "      <td>(2d02ab42-4400-4049-baad-6dfae19c3c4c,)</td>\n",
       "      <td>(2d02ab42-4400-4049-baad-6dfae19c3c4c, b8d04c1...</td>\n",
       "      <td>(b8d04c1a-ccdc-4e45-aa77-1c88f6dfab18,)</td>\n",
       "    </tr>\n",
       "  </tbody>\n",
       "</table>\n",
       "</div>"
      ],
      "text/plain": [
       "                                         a  \\\n",
       "0  (2d02ab42-4400-4049-baad-6dfae19c3c4c,)   \n",
       "1  (2d02ab42-4400-4049-baad-6dfae19c3c4c,)   \n",
       "2  (2d02ab42-4400-4049-baad-6dfae19c3c4c,)   \n",
       "3  (2d02ab42-4400-4049-baad-6dfae19c3c4c,)   \n",
       "4  (2d02ab42-4400-4049-baad-6dfae19c3c4c,)   \n",
       "\n",
       "                                                  e1  \\\n",
       "0  (2d02ab42-4400-4049-baad-6dfae19c3c4c, 2d02ab4...   \n",
       "1  (2d02ab42-4400-4049-baad-6dfae19c3c4c, 2d02ab4...   \n",
       "2  (2d02ab42-4400-4049-baad-6dfae19c3c4c, 2d02ab4...   \n",
       "3  (2d02ab42-4400-4049-baad-6dfae19c3c4c, 2d02ab4...   \n",
       "4  (2d02ab42-4400-4049-baad-6dfae19c3c4c, 2d02ab4...   \n",
       "\n",
       "                                         b  \\\n",
       "0  (2d02ab42-4400-4049-baad-6dfae19c3c4c,)   \n",
       "1  (2d02ab42-4400-4049-baad-6dfae19c3c4c,)   \n",
       "2  (2d02ab42-4400-4049-baad-6dfae19c3c4c,)   \n",
       "3  (2d02ab42-4400-4049-baad-6dfae19c3c4c,)   \n",
       "4  (2d02ab42-4400-4049-baad-6dfae19c3c4c,)   \n",
       "\n",
       "                                                  e2  \\\n",
       "0  (2d02ab42-4400-4049-baad-6dfae19c3c4c, 2d02ab4...   \n",
       "1  (2d02ab42-4400-4049-baad-6dfae19c3c4c, 2d02ab4...   \n",
       "2  (2d02ab42-4400-4049-baad-6dfae19c3c4c, 2d02ab4...   \n",
       "3  (2d02ab42-4400-4049-baad-6dfae19c3c4c, 2d02ab4...   \n",
       "4  (2d02ab42-4400-4049-baad-6dfae19c3c4c, 2d02ab4...   \n",
       "\n",
       "                                         c  \\\n",
       "0  (2d02ab42-4400-4049-baad-6dfae19c3c4c,)   \n",
       "1  (2d02ab42-4400-4049-baad-6dfae19c3c4c,)   \n",
       "2  (2d02ab42-4400-4049-baad-6dfae19c3c4c,)   \n",
       "3  (2d02ab42-4400-4049-baad-6dfae19c3c4c,)   \n",
       "4  (2d02ab42-4400-4049-baad-6dfae19c3c4c,)   \n",
       "\n",
       "                                                  e3  \\\n",
       "0  (2d02ab42-4400-4049-baad-6dfae19c3c4c, 2d02ab4...   \n",
       "1  (2d02ab42-4400-4049-baad-6dfae19c3c4c, 2d02ab4...   \n",
       "2  (2d02ab42-4400-4049-baad-6dfae19c3c4c, 2d02ab4...   \n",
       "3  (2d02ab42-4400-4049-baad-6dfae19c3c4c, 2d02ab4...   \n",
       "4  (2d02ab42-4400-4049-baad-6dfae19c3c4c, 2d02ab4...   \n",
       "\n",
       "                                         d  \\\n",
       "0  (2d02ab42-4400-4049-baad-6dfae19c3c4c,)   \n",
       "1  (2d02ab42-4400-4049-baad-6dfae19c3c4c,)   \n",
       "2  (2d02ab42-4400-4049-baad-6dfae19c3c4c,)   \n",
       "3  (2d02ab42-4400-4049-baad-6dfae19c3c4c,)   \n",
       "4  (2d02ab42-4400-4049-baad-6dfae19c3c4c,)   \n",
       "\n",
       "                                                  e4  \\\n",
       "0  (2d02ab42-4400-4049-baad-6dfae19c3c4c, 2d02ab4...   \n",
       "1  (2d02ab42-4400-4049-baad-6dfae19c3c4c, 2d02ab4...   \n",
       "2  (2d02ab42-4400-4049-baad-6dfae19c3c4c, 2d02ab4...   \n",
       "3  (2d02ab42-4400-4049-baad-6dfae19c3c4c, 2d02ab4...   \n",
       "4  (2d02ab42-4400-4049-baad-6dfae19c3c4c, 2d02ab4...   \n",
       "\n",
       "                                         e  \\\n",
       "0  (2d02ab42-4400-4049-baad-6dfae19c3c4c,)   \n",
       "1  (2d02ab42-4400-4049-baad-6dfae19c3c4c,)   \n",
       "2  (2d02ab42-4400-4049-baad-6dfae19c3c4c,)   \n",
       "3  (2d02ab42-4400-4049-baad-6dfae19c3c4c,)   \n",
       "4  (2d02ab42-4400-4049-baad-6dfae19c3c4c,)   \n",
       "\n",
       "                                                  e5  \\\n",
       "0  (2d02ab42-4400-4049-baad-6dfae19c3c4c, 2d02ab4...   \n",
       "1  (2d02ab42-4400-4049-baad-6dfae19c3c4c, 2d02ab4...   \n",
       "2  (2d02ab42-4400-4049-baad-6dfae19c3c4c, 2d02ab4...   \n",
       "3  (2d02ab42-4400-4049-baad-6dfae19c3c4c, 2d02ab4...   \n",
       "4  (2d02ab42-4400-4049-baad-6dfae19c3c4c, 2d02ab4...   \n",
       "\n",
       "                                         f  \\\n",
       "0  (2d02ab42-4400-4049-baad-6dfae19c3c4c,)   \n",
       "1  (2d02ab42-4400-4049-baad-6dfae19c3c4c,)   \n",
       "2  (2d02ab42-4400-4049-baad-6dfae19c3c4c,)   \n",
       "3  (2d02ab42-4400-4049-baad-6dfae19c3c4c,)   \n",
       "4  (2d02ab42-4400-4049-baad-6dfae19c3c4c,)   \n",
       "\n",
       "                                                  e6  \\\n",
       "0  (2d02ab42-4400-4049-baad-6dfae19c3c4c, c3d7e86...   \n",
       "1  (2d02ab42-4400-4049-baad-6dfae19c3c4c, 8ae4dd9...   \n",
       "2  (2d02ab42-4400-4049-baad-6dfae19c3c4c, 7a2784d...   \n",
       "3  (2d02ab42-4400-4049-baad-6dfae19c3c4c, 479146b...   \n",
       "4  (2d02ab42-4400-4049-baad-6dfae19c3c4c, b8d04c1...   \n",
       "\n",
       "                                         g  \n",
       "0  (c3d7e86e-fd61-4980-a2a4-8ddb7d5ce080,)  \n",
       "1  (8ae4dd98-1e4c-4269-bba8-2823e84b439b,)  \n",
       "2  (7a2784d1-606e-48a8-908f-91489f95b79e,)  \n",
       "3  (479146bd-1a30-41d2-85c1-e3ba161295c9,)  \n",
       "4  (b8d04c1a-ccdc-4e45-aa77-1c88f6dfab18,)  "
      ]
     },
     "execution_count": 19,
     "metadata": {},
     "output_type": "execute_result"
    }
   ],
   "source": [
    "connected_paths.limit(5).toPandas()"
   ]
  },
  {
   "cell_type": "code",
   "execution_count": 23,
   "id": "0ffa4c9d-6925-4124-be37-f4121bbacd7d",
   "metadata": {
    "tags": []
   },
   "outputs": [],
   "source": [
    "#transpose values first by creating a trace column\n",
    "# Add a new column \"new_col\" with ascending values starting at 1 before all other columns\n",
    "df_transp = connected_paths.withColumn(\"Trace\", (monotonically_increasing_id() + 1))\n",
    "df_transp = df_transp.select(\"Trace\", \n",
    "                             *[col for col in df_transp.columns if col != \"Trace\"])\n"
   ]
  },
  {
   "cell_type": "code",
   "execution_count": 21,
   "id": "9dcae884-ea9d-40dd-aa0d-7d67d29c7c45",
   "metadata": {
    "tags": []
   },
   "outputs": [
    {
     "data": {
      "text/html": [
       "<div>\n",
       "<style scoped>\n",
       "    .dataframe tbody tr th:only-of-type {\n",
       "        vertical-align: middle;\n",
       "    }\n",
       "\n",
       "    .dataframe tbody tr th {\n",
       "        vertical-align: top;\n",
       "    }\n",
       "\n",
       "    .dataframe thead th {\n",
       "        text-align: right;\n",
       "    }\n",
       "</style>\n",
       "<table border=\"1\" class=\"dataframe\">\n",
       "  <thead>\n",
       "    <tr style=\"text-align: right;\">\n",
       "      <th></th>\n",
       "      <th>Trace</th>\n",
       "      <th>a</th>\n",
       "      <th>e1</th>\n",
       "      <th>b</th>\n",
       "      <th>e2</th>\n",
       "      <th>c</th>\n",
       "      <th>e3</th>\n",
       "      <th>d</th>\n",
       "      <th>e4</th>\n",
       "      <th>e</th>\n",
       "      <th>e5</th>\n",
       "      <th>f</th>\n",
       "      <th>e6</th>\n",
       "      <th>g</th>\n",
       "    </tr>\n",
       "  </thead>\n",
       "  <tbody>\n",
       "    <tr>\n",
       "      <th>0</th>\n",
       "      <td>1</td>\n",
       "      <td>(2d02ab42-4400-4049-baad-6dfae19c3c4c,)</td>\n",
       "      <td>(2d02ab42-4400-4049-baad-6dfae19c3c4c, 2d02ab4...</td>\n",
       "      <td>(2d02ab42-4400-4049-baad-6dfae19c3c4c,)</td>\n",
       "      <td>(2d02ab42-4400-4049-baad-6dfae19c3c4c, 2d02ab4...</td>\n",
       "      <td>(2d02ab42-4400-4049-baad-6dfae19c3c4c,)</td>\n",
       "      <td>(2d02ab42-4400-4049-baad-6dfae19c3c4c, 2d02ab4...</td>\n",
       "      <td>(2d02ab42-4400-4049-baad-6dfae19c3c4c,)</td>\n",
       "      <td>(2d02ab42-4400-4049-baad-6dfae19c3c4c, 2d02ab4...</td>\n",
       "      <td>(2d02ab42-4400-4049-baad-6dfae19c3c4c,)</td>\n",
       "      <td>(2d02ab42-4400-4049-baad-6dfae19c3c4c, 2d02ab4...</td>\n",
       "      <td>(2d02ab42-4400-4049-baad-6dfae19c3c4c,)</td>\n",
       "      <td>(2d02ab42-4400-4049-baad-6dfae19c3c4c, c3d7e86...</td>\n",
       "      <td>(c3d7e86e-fd61-4980-a2a4-8ddb7d5ce080,)</td>\n",
       "    </tr>\n",
       "  </tbody>\n",
       "</table>\n",
       "</div>"
      ],
      "text/plain": [
       "   Trace                                        a  \\\n",
       "0      1  (2d02ab42-4400-4049-baad-6dfae19c3c4c,)   \n",
       "\n",
       "                                                  e1  \\\n",
       "0  (2d02ab42-4400-4049-baad-6dfae19c3c4c, 2d02ab4...   \n",
       "\n",
       "                                         b  \\\n",
       "0  (2d02ab42-4400-4049-baad-6dfae19c3c4c,)   \n",
       "\n",
       "                                                  e2  \\\n",
       "0  (2d02ab42-4400-4049-baad-6dfae19c3c4c, 2d02ab4...   \n",
       "\n",
       "                                         c  \\\n",
       "0  (2d02ab42-4400-4049-baad-6dfae19c3c4c,)   \n",
       "\n",
       "                                                  e3  \\\n",
       "0  (2d02ab42-4400-4049-baad-6dfae19c3c4c, 2d02ab4...   \n",
       "\n",
       "                                         d  \\\n",
       "0  (2d02ab42-4400-4049-baad-6dfae19c3c4c,)   \n",
       "\n",
       "                                                  e4  \\\n",
       "0  (2d02ab42-4400-4049-baad-6dfae19c3c4c, 2d02ab4...   \n",
       "\n",
       "                                         e  \\\n",
       "0  (2d02ab42-4400-4049-baad-6dfae19c3c4c,)   \n",
       "\n",
       "                                                  e5  \\\n",
       "0  (2d02ab42-4400-4049-baad-6dfae19c3c4c, 2d02ab4...   \n",
       "\n",
       "                                         f  \\\n",
       "0  (2d02ab42-4400-4049-baad-6dfae19c3c4c,)   \n",
       "\n",
       "                                                  e6  \\\n",
       "0  (2d02ab42-4400-4049-baad-6dfae19c3c4c, c3d7e86...   \n",
       "\n",
       "                                         g  \n",
       "0  (c3d7e86e-fd61-4980-a2a4-8ddb7d5ce080,)  "
      ]
     },
     "execution_count": 21,
     "metadata": {},
     "output_type": "execute_result"
    }
   ],
   "source": [
    "df_transp.limit(1).toPandas()"
   ]
  },
  {
   "cell_type": "code",
   "execution_count": 29,
   "id": "30ed3b3f-3d86-4ade-bb32-c91ffa1dd4df",
   "metadata": {
    "tags": []
   },
   "outputs": [],
   "source": [
    "#drop all vertices\n",
    "df_transp = df_transp.drop('a','b','c','d','e','f','g')"
   ]
  },
  {
   "cell_type": "code",
   "execution_count": 30,
   "id": "de4df892-e988-4bbf-82cf-b9aca719cc92",
   "metadata": {
    "collapsed": true,
    "jupyter": {
     "outputs_hidden": true
    },
    "tags": []
   },
   "outputs": [
    {
     "name": "stdout",
     "output_type": "stream",
     "text": [
      "root\n",
      " |-- Trace: long (nullable = false)\n",
      " |-- e1: struct (nullable = true)\n",
      " |    |-- src: string (nullable = true)\n",
      " |    |-- dst: string (nullable = true)\n",
      " |    |-- timestamp: timestamp (nullable = true)\n",
      " |    |-- object: string (nullable = true)\n",
      " |    |-- action: string (nullable = true)\n",
      " |    |-- hostname: string (nullable = true)\n",
      " |    |-- user_name: string (nullable = true)\n",
      " |    |-- privileges: string (nullable = true)\n",
      " |    |-- image_path: string (nullable = true)\n",
      " |    |-- parent_image_path: string (nullable = true)\n",
      " |    |-- new_path: string (nullable = true)\n",
      " |    |-- file_path: string (nullable = true)\n",
      " |    |-- direction: string (nullable = true)\n",
      " |    |-- logon_id: string (nullable = true)\n",
      " |    |-- requesting_domain: string (nullable = true)\n",
      " |    |-- requesting_user: string (nullable = true)\n",
      " |    |-- malicious: integer (nullable = true)\n",
      " |-- e2: struct (nullable = true)\n",
      " |    |-- src: string (nullable = true)\n",
      " |    |-- dst: string (nullable = true)\n",
      " |    |-- timestamp: timestamp (nullable = true)\n",
      " |    |-- object: string (nullable = true)\n",
      " |    |-- action: string (nullable = true)\n",
      " |    |-- hostname: string (nullable = true)\n",
      " |    |-- user_name: string (nullable = true)\n",
      " |    |-- privileges: string (nullable = true)\n",
      " |    |-- image_path: string (nullable = true)\n",
      " |    |-- parent_image_path: string (nullable = true)\n",
      " |    |-- new_path: string (nullable = true)\n",
      " |    |-- file_path: string (nullable = true)\n",
      " |    |-- direction: string (nullable = true)\n",
      " |    |-- logon_id: string (nullable = true)\n",
      " |    |-- requesting_domain: string (nullable = true)\n",
      " |    |-- requesting_user: string (nullable = true)\n",
      " |    |-- malicious: integer (nullable = true)\n",
      " |-- e3: struct (nullable = true)\n",
      " |    |-- src: string (nullable = true)\n",
      " |    |-- dst: string (nullable = true)\n",
      " |    |-- timestamp: timestamp (nullable = true)\n",
      " |    |-- object: string (nullable = true)\n",
      " |    |-- action: string (nullable = true)\n",
      " |    |-- hostname: string (nullable = true)\n",
      " |    |-- user_name: string (nullable = true)\n",
      " |    |-- privileges: string (nullable = true)\n",
      " |    |-- image_path: string (nullable = true)\n",
      " |    |-- parent_image_path: string (nullable = true)\n",
      " |    |-- new_path: string (nullable = true)\n",
      " |    |-- file_path: string (nullable = true)\n",
      " |    |-- direction: string (nullable = true)\n",
      " |    |-- logon_id: string (nullable = true)\n",
      " |    |-- requesting_domain: string (nullable = true)\n",
      " |    |-- requesting_user: string (nullable = true)\n",
      " |    |-- malicious: integer (nullable = true)\n",
      " |-- e4: struct (nullable = true)\n",
      " |    |-- src: string (nullable = true)\n",
      " |    |-- dst: string (nullable = true)\n",
      " |    |-- timestamp: timestamp (nullable = true)\n",
      " |    |-- object: string (nullable = true)\n",
      " |    |-- action: string (nullable = true)\n",
      " |    |-- hostname: string (nullable = true)\n",
      " |    |-- user_name: string (nullable = true)\n",
      " |    |-- privileges: string (nullable = true)\n",
      " |    |-- image_path: string (nullable = true)\n",
      " |    |-- parent_image_path: string (nullable = true)\n",
      " |    |-- new_path: string (nullable = true)\n",
      " |    |-- file_path: string (nullable = true)\n",
      " |    |-- direction: string (nullable = true)\n",
      " |    |-- logon_id: string (nullable = true)\n",
      " |    |-- requesting_domain: string (nullable = true)\n",
      " |    |-- requesting_user: string (nullable = true)\n",
      " |    |-- malicious: integer (nullable = true)\n",
      " |-- e5: struct (nullable = true)\n",
      " |    |-- src: string (nullable = true)\n",
      " |    |-- dst: string (nullable = true)\n",
      " |    |-- timestamp: timestamp (nullable = true)\n",
      " |    |-- object: string (nullable = true)\n",
      " |    |-- action: string (nullable = true)\n",
      " |    |-- hostname: string (nullable = true)\n",
      " |    |-- user_name: string (nullable = true)\n",
      " |    |-- privileges: string (nullable = true)\n",
      " |    |-- image_path: string (nullable = true)\n",
      " |    |-- parent_image_path: string (nullable = true)\n",
      " |    |-- new_path: string (nullable = true)\n",
      " |    |-- file_path: string (nullable = true)\n",
      " |    |-- direction: string (nullable = true)\n",
      " |    |-- logon_id: string (nullable = true)\n",
      " |    |-- requesting_domain: string (nullable = true)\n",
      " |    |-- requesting_user: string (nullable = true)\n",
      " |    |-- malicious: integer (nullable = true)\n",
      " |-- e6: struct (nullable = true)\n",
      " |    |-- src: string (nullable = true)\n",
      " |    |-- dst: string (nullable = true)\n",
      " |    |-- timestamp: timestamp (nullable = true)\n",
      " |    |-- object: string (nullable = true)\n",
      " |    |-- action: string (nullable = true)\n",
      " |    |-- hostname: string (nullable = true)\n",
      " |    |-- user_name: string (nullable = true)\n",
      " |    |-- privileges: string (nullable = true)\n",
      " |    |-- image_path: string (nullable = true)\n",
      " |    |-- parent_image_path: string (nullable = true)\n",
      " |    |-- new_path: string (nullable = true)\n",
      " |    |-- file_path: string (nullable = true)\n",
      " |    |-- direction: string (nullable = true)\n",
      " |    |-- logon_id: string (nullable = true)\n",
      " |    |-- requesting_domain: string (nullable = true)\n",
      " |    |-- requesting_user: string (nullable = true)\n",
      " |    |-- malicious: integer (nullable = true)\n",
      "\n"
     ]
    }
   ],
   "source": [
    "df_transp.printSchema()"
   ]
  },
  {
   "cell_type": "code",
   "execution_count": 31,
   "id": "f6e50e89-b45c-463e-ba11-a5a00b90c3ec",
   "metadata": {
    "tags": []
   },
   "outputs": [
    {
     "data": {
      "text/html": [
       "<div>\n",
       "<style scoped>\n",
       "    .dataframe tbody tr th:only-of-type {\n",
       "        vertical-align: middle;\n",
       "    }\n",
       "\n",
       "    .dataframe tbody tr th {\n",
       "        vertical-align: top;\n",
       "    }\n",
       "\n",
       "    .dataframe thead th {\n",
       "        text-align: right;\n",
       "    }\n",
       "</style>\n",
       "<table border=\"1\" class=\"dataframe\">\n",
       "  <thead>\n",
       "    <tr style=\"text-align: right;\">\n",
       "      <th></th>\n",
       "      <th>Trace</th>\n",
       "      <th>event</th>\n",
       "      <th>col</th>\n",
       "    </tr>\n",
       "  </thead>\n",
       "  <tbody>\n",
       "    <tr>\n",
       "      <th>0</th>\n",
       "      <td>1</td>\n",
       "      <td>e1</td>\n",
       "      <td>(2d02ab42-4400-4049-baad-6dfae19c3c4c, 2d02ab4...</td>\n",
       "    </tr>\n",
       "    <tr>\n",
       "      <th>1</th>\n",
       "      <td>1</td>\n",
       "      <td>e2</td>\n",
       "      <td>(2d02ab42-4400-4049-baad-6dfae19c3c4c, 2d02ab4...</td>\n",
       "    </tr>\n",
       "    <tr>\n",
       "      <th>2</th>\n",
       "      <td>1</td>\n",
       "      <td>e3</td>\n",
       "      <td>(2d02ab42-4400-4049-baad-6dfae19c3c4c, 2d02ab4...</td>\n",
       "    </tr>\n",
       "    <tr>\n",
       "      <th>3</th>\n",
       "      <td>1</td>\n",
       "      <td>e4</td>\n",
       "      <td>(2d02ab42-4400-4049-baad-6dfae19c3c4c, 2d02ab4...</td>\n",
       "    </tr>\n",
       "    <tr>\n",
       "      <th>4</th>\n",
       "      <td>1</td>\n",
       "      <td>e5</td>\n",
       "      <td>(2d02ab42-4400-4049-baad-6dfae19c3c4c, 2d02ab4...</td>\n",
       "    </tr>\n",
       "    <tr>\n",
       "      <th>5</th>\n",
       "      <td>1</td>\n",
       "      <td>e6</td>\n",
       "      <td>(2d02ab42-4400-4049-baad-6dfae19c3c4c, c3d7e86...</td>\n",
       "    </tr>\n",
       "    <tr>\n",
       "      <th>6</th>\n",
       "      <td>2</td>\n",
       "      <td>e1</td>\n",
       "      <td>(2d02ab42-4400-4049-baad-6dfae19c3c4c, 2d02ab4...</td>\n",
       "    </tr>\n",
       "  </tbody>\n",
       "</table>\n",
       "</div>"
      ],
      "text/plain": [
       "   Trace event                                                col\n",
       "0      1    e1  (2d02ab42-4400-4049-baad-6dfae19c3c4c, 2d02ab4...\n",
       "1      1    e2  (2d02ab42-4400-4049-baad-6dfae19c3c4c, 2d02ab4...\n",
       "2      1    e3  (2d02ab42-4400-4049-baad-6dfae19c3c4c, 2d02ab4...\n",
       "3      1    e4  (2d02ab42-4400-4049-baad-6dfae19c3c4c, 2d02ab4...\n",
       "4      1    e5  (2d02ab42-4400-4049-baad-6dfae19c3c4c, 2d02ab4...\n",
       "5      1    e6  (2d02ab42-4400-4049-baad-6dfae19c3c4c, c3d7e86...\n",
       "6      2    e1  (2d02ab42-4400-4049-baad-6dfae19c3c4c, 2d02ab4..."
      ]
     },
     "execution_count": 31,
     "metadata": {},
     "output_type": "execute_result"
    }
   ],
   "source": [
    "#transpose rows \n",
    "stacked_df = df_transp.selectExpr(\n",
    "    \"Trace\", \n",
    "    \"posexplode(array(e1, e2, e3, e4, e5, e6)) as (pos, col)\"\n",
    ").select(\n",
    "    \"Trace\", \n",
    "    expr('''CASE pos \n",
    "    WHEN 0 THEN 'e1' \n",
    "    WHEN 1 THEN 'e2'\n",
    "    WHEN 2 THEN 'e3'\n",
    "    WHEN 3 THEN 'e4'\n",
    "    WHEN 4 THEN 'e5'\n",
    "    ELSE 'e6' END''').alias(\"event\"),\n",
    "    \"col\"\n",
    ").orderBy(\"Trace\",\"event\")\n",
    "\n",
    "stacked_df.limit(7).toPandas()"
   ]
  },
  {
   "cell_type": "code",
   "execution_count": 32,
   "id": "4de7ca59-d090-4feb-addb-01e2f62ccccf",
   "metadata": {
    "collapsed": true,
    "jupyter": {
     "outputs_hidden": true
    },
    "tags": []
   },
   "outputs": [
    {
     "name": "stdout",
     "output_type": "stream",
     "text": [
      "root\n",
      " |-- Trace: long (nullable = false)\n",
      " |-- event: string (nullable = false)\n",
      " |-- col: struct (nullable = true)\n",
      " |    |-- src: string (nullable = true)\n",
      " |    |-- dst: string (nullable = true)\n",
      " |    |-- timestamp: timestamp (nullable = true)\n",
      " |    |-- object: string (nullable = true)\n",
      " |    |-- action: string (nullable = true)\n",
      " |    |-- hostname: string (nullable = true)\n",
      " |    |-- user_name: string (nullable = true)\n",
      " |    |-- privileges: string (nullable = true)\n",
      " |    |-- image_path: string (nullable = true)\n",
      " |    |-- parent_image_path: string (nullable = true)\n",
      " |    |-- new_path: string (nullable = true)\n",
      " |    |-- file_path: string (nullable = true)\n",
      " |    |-- direction: string (nullable = true)\n",
      " |    |-- logon_id: string (nullable = true)\n",
      " |    |-- requesting_domain: string (nullable = true)\n",
      " |    |-- requesting_user: string (nullable = true)\n",
      " |    |-- malicious: integer (nullable = true)\n",
      "\n"
     ]
    }
   ],
   "source": [
    "#explode columns\n",
    "stacked_df.printSchema()"
   ]
  },
  {
   "cell_type": "code",
   "execution_count": 33,
   "id": "1154667e-75dc-466a-8094-4dac946de6f2",
   "metadata": {
    "tags": []
   },
   "outputs": [],
   "source": [
    "#explode columns\n",
    "stacked_df = stacked_df.select(*stacked_df.columns, \"col.*\").drop('col')"
   ]
  },
  {
   "cell_type": "code",
   "execution_count": 34,
   "id": "9da2343d-25eb-4dfa-b1c7-3492cf11df81",
   "metadata": {
    "tags": []
   },
   "outputs": [
    {
     "name": "stdout",
     "output_type": "stream",
     "text": [
      "root\n",
      " |-- Trace: long (nullable = false)\n",
      " |-- event: string (nullable = false)\n",
      " |-- src: string (nullable = true)\n",
      " |-- dst: string (nullable = true)\n",
      " |-- timestamp: timestamp (nullable = true)\n",
      " |-- object: string (nullable = true)\n",
      " |-- action: string (nullable = true)\n",
      " |-- hostname: string (nullable = true)\n",
      " |-- user_name: string (nullable = true)\n",
      " |-- privileges: string (nullable = true)\n",
      " |-- image_path: string (nullable = true)\n",
      " |-- parent_image_path: string (nullable = true)\n",
      " |-- new_path: string (nullable = true)\n",
      " |-- file_path: string (nullable = true)\n",
      " |-- direction: string (nullable = true)\n",
      " |-- logon_id: string (nullable = true)\n",
      " |-- requesting_domain: string (nullable = true)\n",
      " |-- requesting_user: string (nullable = true)\n",
      " |-- malicious: integer (nullable = true)\n",
      "\n"
     ]
    }
   ],
   "source": [
    "stacked_df.printSchema()"
   ]
  },
  {
   "cell_type": "code",
   "execution_count": 37,
   "id": "258683ae-1171-4fa7-8dcf-c3b39f96bc98",
   "metadata": {
    "tags": []
   },
   "outputs": [
    {
     "name": "stderr",
     "output_type": "stream",
     "text": [
      "/home/ec2-user/anaconda3/envs/python3/lib/python3.10/site-packages/pyspark/sql/pandas/conversion.py:248: FutureWarning: Passing unit-less datetime64 dtype to .astype is deprecated and will raise in a future version. Pass 'datetime64[ns]' instead\n",
      "  series = series.astype(t, copy=False)\n"
     ]
    },
    {
     "data": {
      "text/html": [
       "<div>\n",
       "<style scoped>\n",
       "    .dataframe tbody tr th:only-of-type {\n",
       "        vertical-align: middle;\n",
       "    }\n",
       "\n",
       "    .dataframe tbody tr th {\n",
       "        vertical-align: top;\n",
       "    }\n",
       "\n",
       "    .dataframe thead th {\n",
       "        text-align: right;\n",
       "    }\n",
       "</style>\n",
       "<table border=\"1\" class=\"dataframe\">\n",
       "  <thead>\n",
       "    <tr style=\"text-align: right;\">\n",
       "      <th></th>\n",
       "      <th>Trace</th>\n",
       "      <th>event</th>\n",
       "      <th>src</th>\n",
       "      <th>dst</th>\n",
       "      <th>timestamp</th>\n",
       "      <th>object</th>\n",
       "      <th>action</th>\n",
       "      <th>hostname</th>\n",
       "      <th>user_name</th>\n",
       "      <th>privileges</th>\n",
       "      <th>image_path</th>\n",
       "      <th>parent_image_path</th>\n",
       "      <th>new_path</th>\n",
       "      <th>file_path</th>\n",
       "      <th>direction</th>\n",
       "      <th>logon_id</th>\n",
       "      <th>requesting_domain</th>\n",
       "      <th>requesting_user</th>\n",
       "      <th>malicious</th>\n",
       "    </tr>\n",
       "  </thead>\n",
       "  <tbody>\n",
       "    <tr>\n",
       "      <th>0</th>\n",
       "      <td>1</td>\n",
       "      <td>e1</td>\n",
       "      <td>2d02ab42-4400-4049-baad-6dfae19c3c4c</td>\n",
       "      <td>2d02ab42-4400-4049-baad-6dfae19c3c4c</td>\n",
       "      <td>2019-09-23 18:44:59.341</td>\n",
       "      <td>PROCESS</td>\n",
       "      <td>OPEN</td>\n",
       "      <td>SysClient0609.systemia.com</td>\n",
       "      <td>None</td>\n",
       "      <td>None</td>\n",
       "      <td>powershell.exe</td>\n",
       "      <td>powershell.exe</td>\n",
       "      <td>None</td>\n",
       "      <td>None</td>\n",
       "      <td>None</td>\n",
       "      <td>None</td>\n",
       "      <td>None</td>\n",
       "      <td>None</td>\n",
       "      <td>1</td>\n",
       "    </tr>\n",
       "    <tr>\n",
       "      <th>1</th>\n",
       "      <td>1</td>\n",
       "      <td>e2</td>\n",
       "      <td>2d02ab42-4400-4049-baad-6dfae19c3c4c</td>\n",
       "      <td>2d02ab42-4400-4049-baad-6dfae19c3c4c</td>\n",
       "      <td>2019-09-23 18:44:59.341</td>\n",
       "      <td>PROCESS</td>\n",
       "      <td>OPEN</td>\n",
       "      <td>SysClient0609.systemia.com</td>\n",
       "      <td>None</td>\n",
       "      <td>None</td>\n",
       "      <td>powershell.exe</td>\n",
       "      <td>powershell.exe</td>\n",
       "      <td>None</td>\n",
       "      <td>None</td>\n",
       "      <td>None</td>\n",
       "      <td>None</td>\n",
       "      <td>None</td>\n",
       "      <td>None</td>\n",
       "      <td>1</td>\n",
       "    </tr>\n",
       "    <tr>\n",
       "      <th>2</th>\n",
       "      <td>1</td>\n",
       "      <td>e3</td>\n",
       "      <td>2d02ab42-4400-4049-baad-6dfae19c3c4c</td>\n",
       "      <td>2d02ab42-4400-4049-baad-6dfae19c3c4c</td>\n",
       "      <td>2019-09-23 18:44:59.341</td>\n",
       "      <td>PROCESS</td>\n",
       "      <td>OPEN</td>\n",
       "      <td>SysClient0609.systemia.com</td>\n",
       "      <td>None</td>\n",
       "      <td>None</td>\n",
       "      <td>powershell.exe</td>\n",
       "      <td>powershell.exe</td>\n",
       "      <td>None</td>\n",
       "      <td>None</td>\n",
       "      <td>None</td>\n",
       "      <td>None</td>\n",
       "      <td>None</td>\n",
       "      <td>None</td>\n",
       "      <td>1</td>\n",
       "    </tr>\n",
       "    <tr>\n",
       "      <th>3</th>\n",
       "      <td>1</td>\n",
       "      <td>e4</td>\n",
       "      <td>2d02ab42-4400-4049-baad-6dfae19c3c4c</td>\n",
       "      <td>2d02ab42-4400-4049-baad-6dfae19c3c4c</td>\n",
       "      <td>2019-09-23 18:44:59.341</td>\n",
       "      <td>PROCESS</td>\n",
       "      <td>OPEN</td>\n",
       "      <td>SysClient0609.systemia.com</td>\n",
       "      <td>None</td>\n",
       "      <td>None</td>\n",
       "      <td>powershell.exe</td>\n",
       "      <td>powershell.exe</td>\n",
       "      <td>None</td>\n",
       "      <td>None</td>\n",
       "      <td>None</td>\n",
       "      <td>None</td>\n",
       "      <td>None</td>\n",
       "      <td>None</td>\n",
       "      <td>1</td>\n",
       "    </tr>\n",
       "    <tr>\n",
       "      <th>4</th>\n",
       "      <td>1</td>\n",
       "      <td>e5</td>\n",
       "      <td>2d02ab42-4400-4049-baad-6dfae19c3c4c</td>\n",
       "      <td>2d02ab42-4400-4049-baad-6dfae19c3c4c</td>\n",
       "      <td>2019-09-23 18:44:59.341</td>\n",
       "      <td>PROCESS</td>\n",
       "      <td>OPEN</td>\n",
       "      <td>SysClient0609.systemia.com</td>\n",
       "      <td>None</td>\n",
       "      <td>None</td>\n",
       "      <td>powershell.exe</td>\n",
       "      <td>powershell.exe</td>\n",
       "      <td>None</td>\n",
       "      <td>None</td>\n",
       "      <td>None</td>\n",
       "      <td>None</td>\n",
       "      <td>None</td>\n",
       "      <td>None</td>\n",
       "      <td>1</td>\n",
       "    </tr>\n",
       "    <tr>\n",
       "      <th>5</th>\n",
       "      <td>1</td>\n",
       "      <td>e6</td>\n",
       "      <td>2d02ab42-4400-4049-baad-6dfae19c3c4c</td>\n",
       "      <td>c3d7e86e-fd61-4980-a2a4-8ddb7d5ce080</td>\n",
       "      <td>2019-09-23 18:45:07.119</td>\n",
       "      <td>FILE</td>\n",
       "      <td>READ</td>\n",
       "      <td>SysClient0609.systemia.com</td>\n",
       "      <td>None</td>\n",
       "      <td>None</td>\n",
       "      <td>powershell.exe</td>\n",
       "      <td>None</td>\n",
       "      <td>None</td>\n",
       "      <td>Microsoft.PowerShell.Commands.Management.ni.dll</td>\n",
       "      <td>None</td>\n",
       "      <td>None</td>\n",
       "      <td>None</td>\n",
       "      <td>None</td>\n",
       "      <td>1</td>\n",
       "    </tr>\n",
       "    <tr>\n",
       "      <th>6</th>\n",
       "      <td>2</td>\n",
       "      <td>e1</td>\n",
       "      <td>2d02ab42-4400-4049-baad-6dfae19c3c4c</td>\n",
       "      <td>2d02ab42-4400-4049-baad-6dfae19c3c4c</td>\n",
       "      <td>2019-09-23 18:44:59.341</td>\n",
       "      <td>PROCESS</td>\n",
       "      <td>OPEN</td>\n",
       "      <td>SysClient0609.systemia.com</td>\n",
       "      <td>None</td>\n",
       "      <td>None</td>\n",
       "      <td>powershell.exe</td>\n",
       "      <td>powershell.exe</td>\n",
       "      <td>None</td>\n",
       "      <td>None</td>\n",
       "      <td>None</td>\n",
       "      <td>None</td>\n",
       "      <td>None</td>\n",
       "      <td>None</td>\n",
       "      <td>1</td>\n",
       "    </tr>\n",
       "    <tr>\n",
       "      <th>7</th>\n",
       "      <td>2</td>\n",
       "      <td>e2</td>\n",
       "      <td>2d02ab42-4400-4049-baad-6dfae19c3c4c</td>\n",
       "      <td>2d02ab42-4400-4049-baad-6dfae19c3c4c</td>\n",
       "      <td>2019-09-23 18:44:59.341</td>\n",
       "      <td>PROCESS</td>\n",
       "      <td>OPEN</td>\n",
       "      <td>SysClient0609.systemia.com</td>\n",
       "      <td>None</td>\n",
       "      <td>None</td>\n",
       "      <td>powershell.exe</td>\n",
       "      <td>powershell.exe</td>\n",
       "      <td>None</td>\n",
       "      <td>None</td>\n",
       "      <td>None</td>\n",
       "      <td>None</td>\n",
       "      <td>None</td>\n",
       "      <td>None</td>\n",
       "      <td>1</td>\n",
       "    </tr>\n",
       "    <tr>\n",
       "      <th>8</th>\n",
       "      <td>2</td>\n",
       "      <td>e3</td>\n",
       "      <td>2d02ab42-4400-4049-baad-6dfae19c3c4c</td>\n",
       "      <td>2d02ab42-4400-4049-baad-6dfae19c3c4c</td>\n",
       "      <td>2019-09-23 18:44:59.341</td>\n",
       "      <td>PROCESS</td>\n",
       "      <td>OPEN</td>\n",
       "      <td>SysClient0609.systemia.com</td>\n",
       "      <td>None</td>\n",
       "      <td>None</td>\n",
       "      <td>powershell.exe</td>\n",
       "      <td>powershell.exe</td>\n",
       "      <td>None</td>\n",
       "      <td>None</td>\n",
       "      <td>None</td>\n",
       "      <td>None</td>\n",
       "      <td>None</td>\n",
       "      <td>None</td>\n",
       "      <td>1</td>\n",
       "    </tr>\n",
       "    <tr>\n",
       "      <th>9</th>\n",
       "      <td>2</td>\n",
       "      <td>e4</td>\n",
       "      <td>2d02ab42-4400-4049-baad-6dfae19c3c4c</td>\n",
       "      <td>2d02ab42-4400-4049-baad-6dfae19c3c4c</td>\n",
       "      <td>2019-09-23 18:44:59.341</td>\n",
       "      <td>PROCESS</td>\n",
       "      <td>OPEN</td>\n",
       "      <td>SysClient0609.systemia.com</td>\n",
       "      <td>None</td>\n",
       "      <td>None</td>\n",
       "      <td>powershell.exe</td>\n",
       "      <td>powershell.exe</td>\n",
       "      <td>None</td>\n",
       "      <td>None</td>\n",
       "      <td>None</td>\n",
       "      <td>None</td>\n",
       "      <td>None</td>\n",
       "      <td>None</td>\n",
       "      <td>1</td>\n",
       "    </tr>\n",
       "  </tbody>\n",
       "</table>\n",
       "</div>"
      ],
      "text/plain": [
       "   Trace event                                   src  \\\n",
       "0      1    e1  2d02ab42-4400-4049-baad-6dfae19c3c4c   \n",
       "1      1    e2  2d02ab42-4400-4049-baad-6dfae19c3c4c   \n",
       "2      1    e3  2d02ab42-4400-4049-baad-6dfae19c3c4c   \n",
       "3      1    e4  2d02ab42-4400-4049-baad-6dfae19c3c4c   \n",
       "4      1    e5  2d02ab42-4400-4049-baad-6dfae19c3c4c   \n",
       "5      1    e6  2d02ab42-4400-4049-baad-6dfae19c3c4c   \n",
       "6      2    e1  2d02ab42-4400-4049-baad-6dfae19c3c4c   \n",
       "7      2    e2  2d02ab42-4400-4049-baad-6dfae19c3c4c   \n",
       "8      2    e3  2d02ab42-4400-4049-baad-6dfae19c3c4c   \n",
       "9      2    e4  2d02ab42-4400-4049-baad-6dfae19c3c4c   \n",
       "\n",
       "                                    dst               timestamp   object  \\\n",
       "0  2d02ab42-4400-4049-baad-6dfae19c3c4c 2019-09-23 18:44:59.341  PROCESS   \n",
       "1  2d02ab42-4400-4049-baad-6dfae19c3c4c 2019-09-23 18:44:59.341  PROCESS   \n",
       "2  2d02ab42-4400-4049-baad-6dfae19c3c4c 2019-09-23 18:44:59.341  PROCESS   \n",
       "3  2d02ab42-4400-4049-baad-6dfae19c3c4c 2019-09-23 18:44:59.341  PROCESS   \n",
       "4  2d02ab42-4400-4049-baad-6dfae19c3c4c 2019-09-23 18:44:59.341  PROCESS   \n",
       "5  c3d7e86e-fd61-4980-a2a4-8ddb7d5ce080 2019-09-23 18:45:07.119     FILE   \n",
       "6  2d02ab42-4400-4049-baad-6dfae19c3c4c 2019-09-23 18:44:59.341  PROCESS   \n",
       "7  2d02ab42-4400-4049-baad-6dfae19c3c4c 2019-09-23 18:44:59.341  PROCESS   \n",
       "8  2d02ab42-4400-4049-baad-6dfae19c3c4c 2019-09-23 18:44:59.341  PROCESS   \n",
       "9  2d02ab42-4400-4049-baad-6dfae19c3c4c 2019-09-23 18:44:59.341  PROCESS   \n",
       "\n",
       "  action                    hostname user_name privileges      image_path  \\\n",
       "0   OPEN  SysClient0609.systemia.com      None       None  powershell.exe   \n",
       "1   OPEN  SysClient0609.systemia.com      None       None  powershell.exe   \n",
       "2   OPEN  SysClient0609.systemia.com      None       None  powershell.exe   \n",
       "3   OPEN  SysClient0609.systemia.com      None       None  powershell.exe   \n",
       "4   OPEN  SysClient0609.systemia.com      None       None  powershell.exe   \n",
       "5   READ  SysClient0609.systemia.com      None       None  powershell.exe   \n",
       "6   OPEN  SysClient0609.systemia.com      None       None  powershell.exe   \n",
       "7   OPEN  SysClient0609.systemia.com      None       None  powershell.exe   \n",
       "8   OPEN  SysClient0609.systemia.com      None       None  powershell.exe   \n",
       "9   OPEN  SysClient0609.systemia.com      None       None  powershell.exe   \n",
       "\n",
       "  parent_image_path new_path                                        file_path  \\\n",
       "0    powershell.exe     None                                             None   \n",
       "1    powershell.exe     None                                             None   \n",
       "2    powershell.exe     None                                             None   \n",
       "3    powershell.exe     None                                             None   \n",
       "4    powershell.exe     None                                             None   \n",
       "5              None     None  Microsoft.PowerShell.Commands.Management.ni.dll   \n",
       "6    powershell.exe     None                                             None   \n",
       "7    powershell.exe     None                                             None   \n",
       "8    powershell.exe     None                                             None   \n",
       "9    powershell.exe     None                                             None   \n",
       "\n",
       "  direction logon_id requesting_domain requesting_user  malicious  \n",
       "0      None     None              None            None          1  \n",
       "1      None     None              None            None          1  \n",
       "2      None     None              None            None          1  \n",
       "3      None     None              None            None          1  \n",
       "4      None     None              None            None          1  \n",
       "5      None     None              None            None          1  \n",
       "6      None     None              None            None          1  \n",
       "7      None     None              None            None          1  \n",
       "8      None     None              None            None          1  \n",
       "9      None     None              None            None          1  "
      ]
     },
     "execution_count": 37,
     "metadata": {},
     "output_type": "execute_result"
    }
   ],
   "source": [
    "stacked_df.limit(10).toPandas()\n",
    "#TODO: we have a problem with graphframes, need to remove all traces that loop to themselves. "
   ]
  },
  {
   "cell_type": "code",
   "execution_count": 71,
   "id": "c64763eb-608d-4071-a81a-4176505d02b4",
   "metadata": {
    "tags": []
   },
   "outputs": [
    {
     "name": "stdout",
     "output_type": "stream",
     "text": [
      "only none\n"
     ]
    }
   ],
   "source": [
    "#lets do some onehot encoding. let's start with object. \n",
    "\n",
    "#create sparse vecotrs for child objects\n",
    "from pyspark.ml.feature import OneHotEncoder\n",
    "from pyspark.ml import Pipeline\n",
    "from pyspark.ml.feature import StringIndexer\n",
    "#turn into numeric index before encoding\n",
    "indexer = StringIndexer(inputCol='new_path', outputCol='np_numeric')\n",
    "indexer_fitted = indexer.fit(stacked_df)\n",
    "df_indexed = indexer_fitted.transform(stacked_df)\n",
    "\n",
    "if len(indexer_fitted.labels) > 0:\n",
    "\n",
    "    encoder = OneHotEncoder(inputCols=['np_numeric'], outputCols=['np_sparse'],dropLast=False)\n",
    "    df_onehot_np = encoder.fit(df_indexed).transform(df_indexed)\n",
    "    df_onehot_np = df_onehot_np.drop('np_numeric')\n",
    "    print(indexer_fitted.labels)\n",
    "    df_onehot_np.limit(1).show()\n",
    "else:\n",
    "    print('only none')\n",
    "\n"
   ]
  },
  {
   "cell_type": "code",
   "execution_count": 78,
   "id": "1b07defa-5132-4219-ba8e-df52cb387b9b",
   "metadata": {
    "tags": []
   },
   "outputs": [],
   "source": [
    "def oneHotCol(df, colm, dict_mapping):\n",
    "    \n",
    "    #now action\n",
    "    #turn into numeric index before encoding\n",
    "    \n",
    "    num = colm+'_numeric'\n",
    "    sparse = colm+'_sparse'\n",
    "    indexer = StringIndexer(inputCol=colm, outputCol=num, handleInvalid=\"keep\")\n",
    "    indexer_fitted = indexer.fit(df)\n",
    "    df_indexed = indexer_fitted.transform(df)\n",
    "\n",
    "    encoder = OneHotEncoder(inputCols=[num], outputCols=[sparse],dropLast=False)\n",
    "    df_onehot = encoder.fit(df_indexed).transform(df_indexed)\n",
    "    df_onehot = df_onehot.drop(colm, num)\n",
    "\n",
    "    #set dict to mapping\n",
    "    dict_mapping[colm] = indexer_fitted.labels\n",
    "        \n",
    "    return df_onehot, dict_mapping\n",
    "    "
   ]
  },
  {
   "cell_type": "code",
   "execution_count": 61,
   "id": "1d1d2b94-daf8-47c3-a61b-1a756be51b0e",
   "metadata": {
    "tags": []
   },
   "outputs": [
    {
     "name": "stdout",
     "output_type": "stream",
     "text": [
      "['PROCESS', 'FILE', 'SHELL']\n"
     ]
    },
    {
     "name": "stderr",
     "output_type": "stream",
     "text": [
      "/home/ec2-user/anaconda3/envs/python3/lib/python3.10/site-packages/pyspark/sql/pandas/conversion.py:248: FutureWarning: Passing unit-less datetime64 dtype to .astype is deprecated and will raise in a future version. Pass 'datetime64[ns]' instead\n",
      "  series = series.astype(t, copy=False)\n"
     ]
    },
    {
     "data": {
      "text/html": [
       "<div>\n",
       "<style scoped>\n",
       "    .dataframe tbody tr th:only-of-type {\n",
       "        vertical-align: middle;\n",
       "    }\n",
       "\n",
       "    .dataframe tbody tr th {\n",
       "        vertical-align: top;\n",
       "    }\n",
       "\n",
       "    .dataframe thead th {\n",
       "        text-align: right;\n",
       "    }\n",
       "</style>\n",
       "<table border=\"1\" class=\"dataframe\">\n",
       "  <thead>\n",
       "    <tr style=\"text-align: right;\">\n",
       "      <th></th>\n",
       "      <th>Trace</th>\n",
       "      <th>event</th>\n",
       "      <th>src</th>\n",
       "      <th>dst</th>\n",
       "      <th>timestamp</th>\n",
       "      <th>action</th>\n",
       "      <th>hostname</th>\n",
       "      <th>user_name</th>\n",
       "      <th>privileges</th>\n",
       "      <th>image_path</th>\n",
       "      <th>parent_image_path</th>\n",
       "      <th>new_path</th>\n",
       "      <th>file_path</th>\n",
       "      <th>direction</th>\n",
       "      <th>logon_id</th>\n",
       "      <th>requesting_domain</th>\n",
       "      <th>requesting_user</th>\n",
       "      <th>malicious</th>\n",
       "      <th>object_sparse</th>\n",
       "    </tr>\n",
       "  </thead>\n",
       "  <tbody>\n",
       "    <tr>\n",
       "      <th>0</th>\n",
       "      <td>1</td>\n",
       "      <td>e1</td>\n",
       "      <td>2d02ab42-4400-4049-baad-6dfae19c3c4c</td>\n",
       "      <td>2d02ab42-4400-4049-baad-6dfae19c3c4c</td>\n",
       "      <td>2019-09-23 18:44:59.341</td>\n",
       "      <td>OPEN</td>\n",
       "      <td>SysClient0609.systemia.com</td>\n",
       "      <td>None</td>\n",
       "      <td>None</td>\n",
       "      <td>powershell.exe</td>\n",
       "      <td>powershell.exe</td>\n",
       "      <td>None</td>\n",
       "      <td>None</td>\n",
       "      <td>None</td>\n",
       "      <td>None</td>\n",
       "      <td>None</td>\n",
       "      <td>None</td>\n",
       "      <td>1</td>\n",
       "      <td>(1.0, 0.0, 0.0)</td>\n",
       "    </tr>\n",
       "  </tbody>\n",
       "</table>\n",
       "</div>"
      ],
      "text/plain": [
       "   Trace event                                   src  \\\n",
       "0      1    e1  2d02ab42-4400-4049-baad-6dfae19c3c4c   \n",
       "\n",
       "                                    dst               timestamp action  \\\n",
       "0  2d02ab42-4400-4049-baad-6dfae19c3c4c 2019-09-23 18:44:59.341   OPEN   \n",
       "\n",
       "                     hostname user_name privileges      image_path  \\\n",
       "0  SysClient0609.systemia.com      None       None  powershell.exe   \n",
       "\n",
       "  parent_image_path new_path file_path direction logon_id requesting_domain  \\\n",
       "0    powershell.exe     None      None      None     None              None   \n",
       "\n",
       "  requesting_user  malicious    object_sparse  \n",
       "0            None          1  (1.0, 0.0, 0.0)  "
      ]
     },
     "execution_count": 61,
     "metadata": {},
     "output_type": "execute_result"
    }
   ],
   "source": [
    "#use function to create object ohe\n",
    "dict_mapping = {}\n",
    "df_onehot, dict_mapping = oneHotCol(stacked_df,'object', dict_mapping)\n",
    "print(dict_mapping['object'])\n",
    "df_onehot.limit(1).toPandas()"
   ]
  },
  {
   "cell_type": "code",
   "execution_count": 80,
   "id": "7bf4d96b-ae8f-4353-93ca-a9100c897bfb",
   "metadata": {
    "tags": []
   },
   "outputs": [
    {
     "name": "stdout",
     "output_type": "stream",
     "text": [
      "object\n",
      "action\n",
      "user_name\n",
      "privileges\n",
      "image_path\n",
      "parent_image_path\n",
      "new_path\n"
     ]
    },
    {
     "name": "stderr",
     "output_type": "stream",
     "text": [
      "                                                                                \r"
     ]
    },
    {
     "name": "stdout",
     "output_type": "stream",
     "text": [
      "direction\n",
      "logon_id\n",
      "requesting_domain\n",
      "requesting_user\n",
      "file_path\n",
      "dict_keys(['object', 'action', 'image_path', 'parent_image_path', 'new_path', 'user_name', 'file_path'])\n"
     ]
    },
    {
     "name": "stderr",
     "output_type": "stream",
     "text": [
      "/home/ec2-user/anaconda3/envs/python3/lib/python3.10/site-packages/pyspark/sql/pandas/conversion.py:248: FutureWarning: Passing unit-less datetime64 dtype to .astype is deprecated and will raise in a future version. Pass 'datetime64[ns]' instead\n",
      "  series = series.astype(t, copy=False)\n"
     ]
    },
    {
     "data": {
      "text/html": [
       "<div>\n",
       "<style scoped>\n",
       "    .dataframe tbody tr th:only-of-type {\n",
       "        vertical-align: middle;\n",
       "    }\n",
       "\n",
       "    .dataframe tbody tr th {\n",
       "        vertical-align: top;\n",
       "    }\n",
       "\n",
       "    .dataframe thead th {\n",
       "        text-align: right;\n",
       "    }\n",
       "</style>\n",
       "<table border=\"1\" class=\"dataframe\">\n",
       "  <thead>\n",
       "    <tr style=\"text-align: right;\">\n",
       "      <th></th>\n",
       "      <th>Trace</th>\n",
       "      <th>event</th>\n",
       "      <th>src</th>\n",
       "      <th>dst</th>\n",
       "      <th>timestamp</th>\n",
       "      <th>hostname</th>\n",
       "      <th>malicious</th>\n",
       "      <th>object_sparse</th>\n",
       "      <th>action_sparse</th>\n",
       "      <th>image_path_sparse</th>\n",
       "      <th>parent_image_path_sparse</th>\n",
       "      <th>file_path_sparse</th>\n",
       "    </tr>\n",
       "  </thead>\n",
       "  <tbody>\n",
       "    <tr>\n",
       "      <th>0</th>\n",
       "      <td>1</td>\n",
       "      <td>e1</td>\n",
       "      <td>2d02ab42-4400-4049-baad-6dfae19c3c4c</td>\n",
       "      <td>2d02ab42-4400-4049-baad-6dfae19c3c4c</td>\n",
       "      <td>2019-09-23 18:44:59.341</td>\n",
       "      <td>SysClient0609.systemia.com</td>\n",
       "      <td>1</td>\n",
       "      <td>(1.0, 0.0, 0.0, 0.0)</td>\n",
       "      <td>(1.0, 0.0, 0.0, 0.0, 0.0, 0.0, 0.0, 0.0)</td>\n",
       "      <td>(1.0, 0.0, 0.0, 0.0, 0.0, 0.0, 0.0, 0.0, 0.0, ...</td>\n",
       "      <td>(1.0, 0.0, 0.0, 0.0)</td>\n",
       "      <td>(0.0, 0.0, 0.0, 0.0, 0.0, 0.0, 0.0, 0.0, 0.0, ...</td>\n",
       "    </tr>\n",
       "  </tbody>\n",
       "</table>\n",
       "</div>"
      ],
      "text/plain": [
       "   Trace event                                   src  \\\n",
       "0      1    e1  2d02ab42-4400-4049-baad-6dfae19c3c4c   \n",
       "\n",
       "                                    dst               timestamp  \\\n",
       "0  2d02ab42-4400-4049-baad-6dfae19c3c4c 2019-09-23 18:44:59.341   \n",
       "\n",
       "                     hostname  malicious         object_sparse  \\\n",
       "0  SysClient0609.systemia.com          1  (1.0, 0.0, 0.0, 0.0)   \n",
       "\n",
       "                              action_sparse  \\\n",
       "0  (1.0, 0.0, 0.0, 0.0, 0.0, 0.0, 0.0, 0.0)   \n",
       "\n",
       "                                   image_path_sparse parent_image_path_sparse  \\\n",
       "0  (1.0, 0.0, 0.0, 0.0, 0.0, 0.0, 0.0, 0.0, 0.0, ...     (1.0, 0.0, 0.0, 0.0)   \n",
       "\n",
       "                                    file_path_sparse  \n",
       "0  (0.0, 0.0, 0.0, 0.0, 0.0, 0.0, 0.0, 0.0, 0.0, ...  "
      ]
     },
     "execution_count": 80,
     "metadata": {},
     "output_type": "execute_result"
    }
   ],
   "source": [
    "#now do it for all other columns\n",
    "list_cols = ['object','action','user_name', 'privileges',\n",
    "             'image_path','parent_image_path','new_path',\n",
    "             'direction','logon_id','requesting_domain',\n",
    "             'requesting_user','file_path']\n",
    "df_onehot = stacked_df\n",
    "for colm in list_cols:\n",
    "    df_onehot, dict_mapping = oneHotCol(df_onehot,colm, dict_mapping)\n",
    "    #print(dict_mapping[colm])\n",
    "    print(colm)\n",
    "\n",
    "print(dict_mapping.keys())\n",
    "df_onehot.limit(1).toPandas()\n",
    "    "
   ]
  },
  {
   "cell_type": "code",
   "execution_count": 82,
   "id": "a3d98dc8-2ce9-4ee4-bc7e-e8c97257e48b",
   "metadata": {
    "collapsed": true,
    "jupyter": {
     "outputs_hidden": true
    },
    "tags": []
   },
   "outputs": [
    {
     "data": {
      "text/plain": [
       "['ModuleAnalysisCache',\n",
       " 'Microsoft.Management.Infrastructure.ni.dll.aux',\n",
       " 'System.Data.ni.dll.aux',\n",
       " 'System.DirectoryServices.ni.dll.aux',\n",
       " 'System.Transactions.ni.dll.aux',\n",
       " 'System.Numerics.ni.dll.aux',\n",
       " 'System.Xml.ni.dll.aux',\n",
       " 'wbemprox.dll',\n",
       " 'System.Management.ni.dll.aux',\n",
       " 'pnrpnsp.dll',\n",
       " 'Microsoft-OneCore-CoreSystem-onecore-Package~31bf3856ad364e35~amd64~~10.0.15063.0.cat',\n",
       " 'Microsoft.CSharp.ni.dll.aux',\n",
       " 'System.Management.Automation.ni.dll.aux',\n",
       " 'wbemcomn.dll',\n",
       " 'System.Configuration.ni.dll.aux',\n",
       " 'Package_2715_for_KB4493474~31bf3856ad364e35~amd64~~10.0.1.5.cat',\n",
       " 'IPHLPAPI.DLL',\n",
       " 'Microsoft.PowerShell.Commands.Management.ni.dll.aux',\n",
       " 'Microsoft.PowerShell.Commands.Utility.ni.dll.aux',\n",
       " 'Microsoft.PowerShell.Management.psd1',\n",
       " 'Microsoft.PowerShell.Utility.psd1',\n",
       " 'Microsoft.PowerShell.Utility.psm1',\n",
       " 'System.Configuration.Install.ni.dll.aux',\n",
       " 'Microsoft-Windows-Client-Features-Package-AutoMerged-ds~31bf3856ad364e35~amd64~~10.0.15063.0.cat',\n",
       " 'BitLocker.psd1',\n",
       " 'Microsoft-Windows-PeerToPeer-Full-Package~31bf3856ad364e35~amd64~~10.0.15063.0.cat',\n",
       " 'Package_2630_for_KB4493474~31bf3856ad364e35~amd64~~10.0.1.5.cat',\n",
       " 'wbemsvc.dll',\n",
       " 'Microsoft-Windows-Client-Features-Package-AutoMerged-net~31bf3856ad364e35~amd64~~10.0.15063.0.cat',\n",
       " 'Microsoft.PowerShell.Commands.Management.ni.dll',\n",
       " 'Microsoft.PowerShell.Commands.Utility.ni.dll',\n",
       " 'Modules',\n",
       " 'Package_1731_for_KB4493474~31bf3856ad364e35~amd64~~10.0.1.5.cat',\n",
       " 'System.Configuration.Install.ni.dll',\n",
       " 'WINNSI.DLL',\n",
       " 'diasymreader.dll',\n",
       " 'fastprox.dll',\n",
       " 'mswsock.dll',\n",
       " 'rasadhlp.dll',\n",
       " 'BCRYPTPRIMITIVES.DLL',\n",
       " 'cryptnet.dll',\n",
       " '$UsnJrnl:$J',\n",
       " 'Package_2621_for_KB4493474~31bf3856ad364e35~amd64~~10.0.1.5.cat',\n",
       " 'amsi.dll',\n",
       " 'gpapi.dll',\n",
       " 'secur32.dll',\n",
       " 'dhcpcsvc.DLL',\n",
       " 'dhcpcsvc6.DLL',\n",
       " 'wmiutils.dll',\n",
       " 'Microsoft.PowerShell.Operation.Validation.psd1',\n",
       " 'Microsoft.PowerShell.Security.ni.dll.aux',\n",
       " 'POWERSHELL.EXE-59FC8F3D.pf',\n",
       " 'PSModule.psm1',\n",
       " 'PSReadline.psd1',\n",
       " 'PackageManagement.psd1',\n",
       " 'Pester.psd1',\n",
       " 'Pester.psm1',\n",
       " 'PowerShell',\n",
       " 'PowerShellGet.psd1',\n",
       " 'WMINet_Utils.dll::$EA',\n",
       " 'System.Management.Automation.dll',\n",
       " 'Documents',\n",
       " 'MICROSOFT.POWERSHELL.CONSOLEHOST.NI.DLL.AUX',\n",
       " 'MSCOREE.DLL',\n",
       " 'Microsoft-Windows-Client-Features-Package-AutoMerged-onecore~31bf3856ad364e35~amd64~~10.0.15063.0.cat',\n",
       " 'Microsoft.Management.Infrastructure.Native.ni.dll.aux',\n",
       " 'SYSTEM.CORE.NI.DLL.AUX',\n",
       " 'bcrypt.dll',\n",
       " 'Package_2577_for_KB4493474~31bf3856ad364e35~amd64~~10.0.1.5.cat',\n",
       " 'System.Data.ni.dll',\n",
       " 'Microsoft-Windows-ConsoleHost-Group-Package~31bf3856ad364e35~amd64~~10.0.15063.0.cat',\n",
       " '$SECURE:$SDH:$INDEX_ALLOCATION',\n",
       " 'Package_1641_for_KB4493474~31bf3856ad364e35~amd64~~10.0.1.5.cat',\n",
       " 'System.Data.dll',\n",
       " 'System.Transactions.ni.dll',\n",
       " 'CLR.DLL',\n",
       " 'Cabinet.dll',\n",
       " 'LOGONCLI.DLL',\n",
       " 'RSAENH.DLL',\n",
       " 'System.Transactions.dll::$EA',\n",
       " 'VERSION.dll',\n",
       " 'WINHTTP.DLL',\n",
       " 'WKSCLI.DLL',\n",
       " '__PSScriptPolicyTest_0vpqwpvj.y0x.psm1',\n",
       " '__PSScriptPolicyTest_byj5rvua.f4p.ps1',\n",
       " '__PSScriptPolicyTest_eipbzfxu.3b4.psm1',\n",
       " '__PSScriptPolicyTest_nfwzujit.ewx.ps1',\n",
       " '__PSScriptPolicyTest_yhzkh13m.ucz.psm1',\n",
       " 'cryptdll.dll',\n",
       " 'netutils.dll',\n",
       " 'r2te1030.0.cs',\n",
       " 'r2te1030.cmdline',\n",
       " 'srpapi.dll',\n",
       " 'srvcli.dll',\n",
       " 'System.DirectoryServices.ni.dll',\n",
       " 'napinsp.dll',\n",
       " 'ATL.DLL',\n",
       " 'CRYPTBASE.DLL',\n",
       " 'DNSAPI.DLL',\n",
       " 'KernelBase.dll',\n",
       " 'MSCORLIB.NI.DLL.AUX',\n",
       " 'SYSTEM.NI.DLL.AUX',\n",
       " 'System.Data.dll::$EA',\n",
       " 'System.Dynamic.dll',\n",
       " 'Microsoft.Management.Infrastructure.ni.dll',\n",
       " 'System.Transactions.dll',\n",
       " 'pagefile.sys',\n",
       " '{F750E6C3-38EE-11D1-85E5-00C04FC295EE}',\n",
       " 'PROFAPI.DLL',\n",
       " '$Mft',\n",
       " 'OnDemandConnRouteHelper.dll',\n",
       " 'ws2_32.dll',\n",
       " 'KERNEL32.DLL',\n",
       " 'WLDP.DLL',\n",
       " 'FWPUCLNT.DLL',\n",
       " 'NLAAPI.DLL',\n",
       " 'KdsCli.dll',\n",
       " 'Microsoft.AppV.AppvClientComConsumer.dll',\n",
       " 'Microsoft.Management.Infrastructure.Native.ni.dll',\n",
       " 'Microsoft.PowerShell.Commands.Diagnostics.ni.dll',\n",
       " 'Microsoft.PowerShell.Commands.Diagnostics.ni.dll.aux',\n",
       " 'Microsoft.WSMan.Management.ni.dll',\n",
       " 'Microsoft.WSMan.Management.ni.dll.aux',\n",
       " 'mscorlib.dll',\n",
       " 'propsys.dll',\n",
       " 'Microsoft.CSharp.ni.dll',\n",
       " '1.0.0.0',\n",
       " 'AppBackgroundTask',\n",
       " 'AppBackgroundTask.psd1',\n",
       " 'AppLocker.psd1',\n",
       " 'AppvClient',\n",
       " 'AppvClient.psd1',\n",
       " 'Appx.psd1',\n",
       " 'AssignedAccess.psd1',\n",
       " 'BitLocker',\n",
       " 'BitLocker.psm1',\n",
       " 'BitsTransfer.psd1',\n",
       " 'BranchCache',\n",
       " 'BranchCache.psd1',\n",
       " 'CimCmdlets.psd1',\n",
       " 'ConfigCI.psd1',\n",
       " 'Defender',\n",
       " 'Defender.psd1',\n",
       " 'DeliveryOptimization.psd1',\n",
       " 'DirectAccessClientComponents',\n",
       " 'DirectAccessClientComponents.psd1',\n",
       " 'Dism.psd1',\n",
       " 'DnsClient',\n",
       " 'DnsClient.psd1',\n",
       " 'EventTracingManagement',\n",
       " 'EventTracingManagement.psd1',\n",
       " 'ISE.psd1',\n",
       " 'International.psd1',\n",
       " 'Kds.psd1',\n",
       " 'MSFT_AutologgerConfig_v1.0.cdxml',\n",
       " 'MSFT_EtwTraceProvider_v1.0.cdxml',\n",
       " 'MSFT_EtwTraceSession_v1.0.cdxml',\n",
       " 'Microsoft-Windows-Client-Features-WOW64-Package-AutoMerged-ds~31bf3856ad364e35~amd64~~10.0.15063.0.cat',\n",
       " 'Microsoft-Windows-Client-Features-WOW64-Package-AutoMerged-shell~31bf3856ad364e35~amd64~~10.0.15063.0.cat',\n",
       " 'Microsoft-Windows-GroupPolicy-ClientTools-Group-WOW64-ds-Package~31bf3856ad364e35~amd64~~10.0.15063.0.cat',\n",
       " 'Microsoft-Windows-SecureStartup-Subsystem-base-Package~31bf3856ad364e35~amd64~en-US~10.0.15063.0.cat',\n",
       " 'Microsoft.AppV.AppVClientPowerShell.dll',\n",
       " 'Microsoft.AppV.AppvClientComConsumer.ni.dll',\n",
       " 'Microsoft.AppV.AppvClientComConsumer.ni.dll.aux',\n",
       " 'Microsoft.BitLocker.Structures.dll',\n",
       " 'Microsoft.KeyDistributionService.Cmdlets.dll',\n",
       " 'Microsoft.KeyDistributionService.Cmdlets.ni.dll',\n",
       " 'Microsoft.KeyDistributionService.Cmdlets.ni.dll.aux',\n",
       " 'Microsoft.PowerShell.Archive.psd1',\n",
       " 'Microsoft.PowerShell.Diagnostics.psd1',\n",
       " 'Microsoft.PowerShell.Host.psd1',\n",
       " 'Microsoft.PowerShell.LocalAccounts.psd1',\n",
       " 'Microsoft.PowerShell.ODataUtils',\n",
       " 'Microsoft.PowerShell.ODataUtils.psd1',\n",
       " 'Microsoft.PowerShell.Security.psd1',\n",
       " 'Microsoft.Powershell.LocalAccounts.dll',\n",
       " 'MsDtc',\n",
       " 'NetAdapter',\n",
       " 'NetConnection',\n",
       " 'NetEventPacketCapture',\n",
       " 'NetLbfo',\n",
       " 'NetNat',\n",
       " 'NetSecurity',\n",
       " 'NetSwitchTeam',\n",
       " 'NetTCPIP',\n",
       " 'NetworkConnectivityStatus',\n",
       " 'NetworkSwitchManager',\n",
       " 'NetworkTransition',\n",
       " 'PSDesiredStateConfiguration',\n",
       " 'Package_1772_for_KB4493474~31bf3856ad364e35~amd64~~10.0.1.5.cat',\n",
       " 'Package_2123_for_KB4493474~31bf3856ad364e35~amd64~~10.0.1.5.cat',\n",
       " 'Package_4224_for_KB4493474~31bf3856ad364e35~amd64~~10.0.1.5.cat',\n",
       " 'PnpDevice',\n",
       " 'PrintManagement',\n",
       " 'Provisioning',\n",
       " 'ScheduledTasks',\n",
       " 'SmbShare',\n",
       " 'Storage',\n",
       " 'System.Core.ni.dll.aux',\n",
       " 'System.ni.dll.aux',\n",
       " 'VpnClient',\n",
       " 'Wdac',\n",
       " 'conhost.exe',\n",
       " 'iSCSI',\n",
       " 'iSCSI.psd1',\n",
       " 'msiso.dll',\n",
       " 'sspicli.dll',\n",
       " 'MACHINE.CONFIG',\n",
       " 'Microsoft-Windows-Client-Features-Package-AutoMerged-onecoreuap~31bf3856ad364e35~amd64~~10.0.15063.0.cat',\n",
       " 'System.Core.dll',\n",
       " 'System.Management.Automation.ni.dll',\n",
       " 'System.dll',\n",
       " '9e3d72bf3905be69dc9d838e2113a3a3',\n",
       " 'COMBASE.DLL',\n",
       " 'DEVOBJ.dll',\n",
       " 'DSROLE.dll',\n",
       " 'FLTLIB.DLL',\n",
       " 'HID.DLL',\n",
       " 'Microsoft-Windows-Foundation-Group-onecore-Package~31bf3856ad364e35~amd64~~10.0.15063.0.cat',\n",
       " 'Microsoft-Windows-NetFx-Shared-Package~31bf3856ad364e35~amd64~~10.0.15063.0.cat',\n",
       " 'Microsoft.PowerShell.Commands.Utility.dll',\n",
       " 'NETAPI32.dll',\n",
       " 'NTDLL.DLL',\n",
       " 'OLEAUT32.DLL',\n",
       " 'Package_1770_for_KB4493474~31bf3856ad364e35~amd64~~10.0.1.5.cat',\n",
       " 'Package_2340_for_KB4493474~31bf3856ad364e35~amd64~~10.0.1.5.cat',\n",
       " 'Package_2625_for_KB4493474~31bf3856ad364e35~amd64~~10.0.1.5.cat',\n",
       " 'SAMLIB.dll',\n",
       " 'TSpkg.dll',\n",
       " 'Winsta.dll',\n",
       " '__PSScriptPolicyTest_ffw4jblv.nsd.ps1',\n",
       " 'activeds.dll.mui',\n",
       " 'adsldpc.dll',\n",
       " 'e15874c740094b5336395db875663e90',\n",
       " 'kerberos.dll',\n",
       " 'lsarpc',\n",
       " 'netapi32.dll',\n",
       " 'r2te1030.dll',\n",
       " 'r2te1030.out',\n",
       " 'wdigest.dll',\n",
       " 'wintypes.dll',\n",
       " 'System.Xml.ni.dll',\n",
       " 'WS2_32.DLL',\n",
       " 'fwpuclnt.dll',\n",
       " 'SspiCli.dll',\n",
       " 'MICROSOFT.POWERSHELL.CONSOLEHOST.NI.DLL',\n",
       " 'Microsoft.PowerShell.Security.ni.dll',\n",
       " 'NLAapi.dll',\n",
       " 'System.Numerics.ni.dll',\n",
       " 'cryptsp.dll',\n",
       " 'SCRIPT.APPLOCKER',\n",
       " 'wminet_utils.dll',\n",
       " 'CRYPTSP.DLL',\n",
       " 'ADVAPI32.DLL',\n",
       " 'DNSAPI.dll',\n",
       " 'GAC_MSIL',\n",
       " 'ONDEMANDCONNROUTEHELPER.DLL',\n",
       " 'Script.AppLocker',\n",
       " 'ondemandconnroutehelper.dll',\n",
       " 'MSVCR120_CLR0400.DLL',\n",
       " 'SCRIPT.AppLocker',\n",
       " '$Secure:$SDH:$INDEX_ALLOCATION',\n",
       " 'WINHTTP.dll',\n",
       " '999e0aedc13ce32df93b1e31d3c64045',\n",
       " 'CRYPTDLL.DLL',\n",
       " 'Conhost.exe',\n",
       " 'IERTUTIL.DLL',\n",
       " 'MICROSOFT-WINDOWS-CLIENT-FEATURES-PACKAGE-AUTOMERGED-DS~31BF3856AD364E35~AMD64~~10.0.15063.0.CAT',\n",
       " 'MMAgent.psd1',\n",
       " 'MSFT_3DPrinter_v1.0.cdxml',\n",
       " 'MSFT_DtcAdvancedHostSettingTask_v1.0.cdxml',\n",
       " 'MSFT_DtcAdvancedSettingTask_v1.0.cdxml',\n",
       " 'MSFT_DtcClusterDefaultTask_v1.0.cdxml',\n",
       " 'MSFT_DtcClusterTMMappingTask_v1.0.cdxml',\n",
       " 'MSFT_DtcDefaultTask_v1.0.cdxml',\n",
       " 'MSFT_DtcLogTask_v1.0.cdxml',\n",
       " 'MSFT_DtcNetworkSettingTask_v1.0.cdxml',\n",
       " 'MSFT_DtcTask_v1.0.cdxml',\n",
       " 'MSFT_DtcTransactionTask_v1.0.cdxml',\n",
       " 'MSFT_DtcTransactionsStatisticsTask_v1.0.cdxml',\n",
       " 'MSFT_DtcTransactionsTraceSessionTask_v1.0.cdxml',\n",
       " 'MSFT_DtcTransactionsTraceSettingTask_v1.0.cdxml',\n",
       " 'MSFT_LocalPrinterPort_v1.0.cdxml',\n",
       " 'MSFT_LprPrinterPort_v1.0.cdxml',\n",
       " 'MSFT_NetConnectionProfile.cdxml',\n",
       " 'MSFT_NetNat.cdxml',\n",
       " 'MSFT_NetNatExternalAddress.cdxml',\n",
       " 'MSFT_NetNatGlobal.cdxml',\n",
       " 'MSFT_NetNatSession.cdxml',\n",
       " 'MSFT_NetNatStaticMapping.cdxml',\n",
       " 'MSFT_NetQosPolicy.cdxml',\n",
       " 'MSFT_PrintJob_v1.0.cdxml',\n",
       " 'MSFT_PrinterConfiguration_v1.0.cdxml',\n",
       " 'MSFT_PrinterDriver_v1.0.cdxml',\n",
       " 'MSFT_PrinterNfcTagTasks_v1.0.cdxml',\n",
       " 'MSFT_PrinterNfcTag_v1.0.cdxml',\n",
       " 'MSFT_PrinterPortTasks_v1.0.cdxml',\n",
       " 'MSFT_PrinterPort_v1.0.cdxml',\n",
       " 'MSFT_PrinterProperty_v1.0.cdxml',\n",
       " 'MSFT_Printer_v1.0.cdxml',\n",
       " 'MSFT_TcpIpPrinterPort_v1.0.cdxml',\n",
       " 'MSFT_WsdPrinterPort_v1.0.cdxml',\n",
       " 'Microsoft-Windows-AppManagement-UEV-WOW64-Package~31bf3856ad364e35~amd64~~10.0.15063.0.cat',\n",
       " 'Microsoft-Windows-Client-Features-Package-AutoMerged-admin~31bf3856ad364e35~amd64~~10.0.15063.0.cat',\n",
       " 'Microsoft-Windows-Client-Features-WOW64-Package-AutoMerged-base~31bf3856ad364e35~amd64~~10.0.15063.0.cat',\n",
       " 'Microsoft-Windows-Client-Features-WOW64-Package-AutoMerged-com~31bf3856ad364e35~amd64~~10.0.15063.0.cat',\n",
       " 'Microsoft-Windows-Client-Features-WOW64-Package-AutoMerged-printscan~31bf3856ad364e35~amd64~~10.0.15063.0.cat',\n",
       " 'Microsoft-Windows-Client-Features-WOW64-Package-AutoMerged-windows~31bf3856ad364e35~amd64~~10.0.15063.0.cat',\n",
       " 'Microsoft-Windows-Network-QoS-onecore-Package~31bf3856ad364e35~amd64~~10.0.15063.0.cat',\n",
       " 'Microsoft.SecureBoot.Commands.ni.dll',\n",
       " 'Microsoft.SecureBoot.Commands.ni.dll.aux',\n",
       " 'Microsoft.Uev.Commands.dll',\n",
       " 'Microsoft.WSMan.Management.psd1',\n",
       " 'Microsoft.Windows.StartLayout.Commands.dll',\n",
       " 'Microsoft.WindowsAuthenticationProtocols.Commands.dll',\n",
       " 'Microsoft.WindowsAuthenticationProtocols.Commands.ni.dll',\n",
       " 'Microsoft.WindowsAuthenticationProtocols.Commands.ni.dll.aux',\n",
       " 'Microsoft.WindowsErrorReporting.PowerShell.dll',\n",
       " 'Microsoft.WindowsSearch.Commands.dll',\n",
       " 'Microsoft.WindowsSearch.Commands.ni.dll',\n",
       " 'Microsoft.WindowsSearch.Commands.ni.dll.aux',\n",
       " 'MsDtc.psd1',\n",
       " 'NetAdapter.psd1',\n",
       " 'NetConnection.psd1',\n",
       " 'NetEventPacketCapture.psd1',\n",
       " 'NetLbfo.psd1',\n",
       " 'NetNat.psd1',\n",
       " 'NetQos.psd1',\n",
       " 'NetSecurity.psd1',\n",
       " 'NetSwitchTeam.psd1',\n",
       " 'NetTCPIP.psd1',\n",
       " 'NetworkConnectivityStatus.psd1',\n",
       " 'NetworkSwitchManager.psd1',\n",
       " 'NetworkTransition.psd1',\n",
       " 'PING.EXE',\n",
       " 'PKI.psd1',\n",
       " 'PSDesiredStateConfiguration.psd1',\n",
       " 'PSDiagnostics.psd1',\n",
       " 'PSScheduledJob.psd1',\n",
       " 'PSWorkflow.psd1',\n",
       " 'PSWorkflowUtility.psd1',\n",
       " 'PcsvDevice.psd1',\n",
       " 'PnpDevice.psd1',\n",
       " 'PrintManagement.psd1',\n",
       " 'Provisioning.psd1',\n",
       " 'ScheduledTasks.psd1',\n",
       " 'SecureBoot.psd1',\n",
       " 'SmbShare.psd1',\n",
       " 'SmbWitness.psd1',\n",
       " 'StartLayout.psd1',\n",
       " 'Storage.psd1',\n",
       " 'TLS.psd1',\n",
       " 'TroubleshootingPack.psd1',\n",
       " 'TrustedPlatformModule.psd1',\n",
       " 'UEV.psd1',\n",
       " 'URLMON.DLL',\n",
       " 'VpnClient.psd1',\n",
       " 'WMINet_Utils.dll',\n",
       " 'Wdac.psd1',\n",
       " 'WindowsDeveloperLicense.psd1',\n",
       " 'WindowsErrorReporting.psd1',\n",
       " 'WindowsErrorReporting.psm1',\n",
       " 'WindowsSearch.psd1',\n",
       " 'WindowsUpdate.psd1',\n",
       " 'c0943ec187afe388ba7f92ff8e90b409',\n",
       " 'cca08fb02ed87c4afd26c1c594a68a77',\n",
       " 'iertutil.dll',\n",
       " 'kerberos.DLL',\n",
       " 'ncrypt.dll',\n",
       " 'urlmon.dll',\n",
       " 'desktop.ini',\n",
       " '.',\n",
       " '33b691dc9d00a8e387be5cd17ff1d4e8',\n",
       " '9a9d6f255b4937f6b2af4785c4aecda9',\n",
       " 'ACTIVEDS.TLB',\n",
       " 'Assertions',\n",
       " 'BROWCLI.DLL',\n",
       " 'CSCAPI.DLL',\n",
       " 'DAVCLNT.DLL',\n",
       " 'DAVHLPR.DLL',\n",
       " 'DPAPI.DLL',\n",
       " 'DRPROV.DLL',\n",
       " 'DSCResources',\n",
       " 'Functions',\n",
       " 'GDIPLUS.DLL',\n",
       " 'KERBEROS.DLL',\n",
       " 'LSASRV.DLL',\n",
       " 'MPR.dll',\n",
       " 'MSV1_0.DLL',\n",
       " 'Microsoft-Windows-Client-Features-Package-AutoMerged-termsrv~31bf3856ad364e35~amd64~~10.0.15063.0.cat',\n",
       " 'Microsoft-Windows-RemoteFS-Legacy-ds-Package~31bf3856ad364e35~amd64~~10.0.15063.0.cat',\n",
       " 'Microsoft.PowerShell.Commands.Management.dll',\n",
       " 'NTASN1.dll',\n",
       " 'NTLANMAN.DLL',\n",
       " 'NTMARTA.DLL',\n",
       " 'NtlmShared.dll::$EA',\n",
       " 'PACKAGE_1770_FOR_KB4493474~31BF3856AD364E35~AMD64~~10.0.1.5.CAT',\n",
       " 'PACKAGE_3065_FOR_KB4493474~31BF3856AD364E35~AMD64~~10.0.1.5.CAT',\n",
       " 'Package_2831_for_KB4493474~31bf3856ad364e35~amd64~~10.0.1.5.cat',\n",
       " 'RPCRT4.DLL',\n",
       " 'SAMCLI.DLL',\n",
       " 'SXS.DLL',\n",
       " 'Snippets',\n",
       " 'System.DirectoryServices.AccountManagement.dll',\n",
       " 'System.DirectoryServices.Protocols.dll',\n",
       " 'System.Drawing.ni.dll',\n",
       " 'System.Drawing.ni.dll.aux',\n",
       " 'System.Management.dll',\n",
       " 'System.Windows.Forms.ni.dll',\n",
       " 'System.Windows.Forms.ni.dll.aux',\n",
       " 'USERENV.DLL',\n",
       " 'WEBIO.DLL',\n",
       " 'WINDOWSCODECS.DLL',\n",
       " 'WININET.DLL',\n",
       " 'WININET.dll',\n",
       " 'WINSCARD.DLL',\n",
       " 'WINSTA.dll',\n",
       " 'WinSCard.dll',\n",
       " 'activeds.tlb',\n",
       " 'adsldp.dll',\n",
       " 'adsnt.dll',\n",
       " 'advapi32.dll',\n",
       " 'c49652e4293647d12b03fee5373481e5',\n",
       " 'cloudAP.dll',\n",
       " 'csc.exe',\n",
       " 'debug.bat',\n",
       " 'default.help.txt',\n",
       " 'dsparse.dll',\n",
       " 'en',\n",
       " 'iscsilog.dll::$ATTRIBUTE_LIST',\n",
       " 'lsasrv.dll',\n",
       " 'more.com',\n",
       " 'msv1_0.dll',\n",
       " 'namespace',\n",
       " 'net.exe',\n",
       " 'ngcpopkeysrv.dll',\n",
       " 'ntasn1.dll',\n",
       " 'r2te1030',\n",
       " 'r2te1030.err',\n",
       " 'r2te1030.tmp',\n",
       " 'sxs.dll',\n",
       " 'userenv.dll',\n",
       " 'vaultcli.DLL',\n",
       " 'vaultcli.dll',\n",
       " 'winspool.drv',\n",
       " 'wkssvc',\n",
       " 'wldp.dll',\n",
       " 'zipfldr.dll',\n",
       " 'CRYPTNET.DLL',\n",
       " 'NapiNSP.dll',\n",
       " 'System.Configuration.ni.dll',\n",
       " 'System.Security.dll',\n",
       " 'AMSI.DLL',\n",
       " 'GPAPI.DLL',\n",
       " 'WMIUTILS.DLL',\n",
       " 'clr.dll',\n",
       " 'DHCPCSVC.DLL',\n",
       " 'MSCOREEI.DLL',\n",
       " 'PNRPNSP.DLL',\n",
       " 'SECUR32.DLL',\n",
       " 'System.Management.ni.dll',\n",
       " 'mscoreei.dll',\n",
       " 'mscorrc.dll',\n",
       " 'msvcr120_clr0400.dll',\n",
       " 'CRYPTBASE.dll',\n",
       " 'DHCPCSVC6.DLL',\n",
       " 'MICROSOFT.CSHARP.NI.DLL',\n",
       " 'SRPAPI.DLL',\n",
       " 'SSPICLI.DLL',\n",
       " 'SYSTEM.MANAGEMENT.AUTOMATION.DLL',\n",
       " 'VERSION.DLL',\n",
       " '__PSScriptPolicyTest_2pkgnd2z.5h4.psm1',\n",
       " '__PSScriptPolicyTest_c4kcshqd.spz.psm1',\n",
       " '__PSScriptPolicyTest_ekfbguwq.flz.psm1',\n",
       " '__PSScriptPolicyTest_ipf3etdg.djp.psm1',\n",
       " '__PSScriptPolicyTest_jp1vp2co.bf1.psm1',\n",
       " '__PSScriptPolicyTest_lvikhshf.pxj.psm1',\n",
       " '__PSScriptPolicyTest_qeipksla.yx4.ps1',\n",
       " '__PSScriptPolicyTest_rxjol1nq.fua.psm1',\n",
       " '__PSScriptPolicyTest_tgtrn01f.n32.psm1',\n",
       " '__PSScriptPolicyTest_vf2q3n3y.bay.psm1',\n",
       " '__PSScriptPolicyTest_vkx5ckic.cpq.psm1',\n",
       " '__PSScriptPolicyTest_wqrl0ht0.y0z.psm1',\n",
       " '__PSScriptPolicyTest_xt0dcgcc.ybw.psm1',\n",
       " 'clrjit.dll',\n",
       " 'dhcpcsvc6.dll',\n",
       " 'mscorlib.ni.dll.aux',\n",
       " 'profapi.dll',\n",
       " 'rsaenh.dll',\n",
       " 'CRYPT32.DLL',\n",
       " 'FASTPROX.DLL',\n",
       " 'KERNELBASE.DLL',\n",
       " 'MSWSOCK.DLL',\n",
       " 'NAPINSP.DLL',\n",
       " 'RASADHLP.DLL',\n",
       " 'SYSTEM.DATA.DLL',\n",
       " 'SYSTEM.DATA.NI.DLL',\n",
       " 'SYSTEM.DIRECTORYSERVICES.NI.DLL',\n",
       " 'SYSTEM.TRANSACTIONS.DLL',\n",
       " '__PSScriptPolicyTest_0phe2fuv.w3m.psm1',\n",
       " '__PSScriptPolicyTest_bnmmie3f.acj.psm1',\n",
       " '__PSScriptPolicyTest_jwkva31r.t1t.ps1',\n",
       " '__PSScriptPolicyTest_qkf05ihl.b2w.psm1',\n",
       " '__PSScriptPolicyTest_vzzzgjep.hdv.psm1',\n",
       " '__PSScriptPolicyTest_zfqf2hod.aph.psm1',\n",
       " 'atl.dll',\n",
       " 'bcryptPrimitives.dll',\n",
       " 'bcryptprimitives.dll',\n",
       " 'dhcpcsvc.dll',\n",
       " 'nlaapi.dll',\n",
       " 'winnsi.dll',\n",
       " '$Secure:$SDS',\n",
       " 'BCRYPT.DLL',\n",
       " 'CRYPTSP.dll',\n",
       " 'GAC_64',\n",
       " 'KERNELBASE.dll',\n",
       " 'MICROSOFT.POWERSHELL.SECURITY.NI.DLL',\n",
       " 'MSCORLIB.NI.DLL',\n",
       " 'Microsoft-Windows-Client-Features-Package-AutoMerged-shellcommon~31bf3856ad364e35~amd64~~10.0.15063.0.cat',\n",
       " 'Microsoft-Windows-Client-Features-Package-AutoMerged-shell~31bf3856ad364e35~amd64~~10.0.15063.0.cat',\n",
       " 'Microsoft.PowerShell.ConsoleHost.ni.dll',\n",
       " 'Microsoft.PowerShell.ConsoleHost.ni.dll.aux',\n",
       " 'NTASN1.DLL',\n",
       " 'PACKAGE_1731_FOR_KB4493474~31BF3856AD364E35~AMD64~~10.0.1.5.CAT',\n",
       " 'SYSTEM.CONFIGURATION.NI.DLL',\n",
       " 'SYSTEM.CORE.NI.DLL',\n",
       " 'SYSTEM.MANAGEMENT.AUTOMATION.NI.DLL',\n",
       " 'SYSTEM.NI.DLL',\n",
       " 'SYSTEM.NUMERICS.NI.DLL',\n",
       " 'SYSTEM.TRANSACTIONS.NI.DLL',\n",
       " 'SYSTEM.XML.NI.DLL',\n",
       " 'Secur32.dll',\n",
       " 'StateRepository.Core.dll',\n",
       " 'UXTHEME.DLL',\n",
       " 'WBEMCOMN.DLL',\n",
       " 'WBEMPROX.DLL',\n",
       " 'WBEMSVC.DLL',\n",
       " 'Windows.StateRepository.dll',\n",
       " '__PSScriptPolicyTest_0aa40fqi.5y2.ps1',\n",
       " '__PSScriptPolicyTest_35egjzu0.zmf.ps1',\n",
       " '__PSScriptPolicyTest_3im5c3sn.d34.ps1',\n",
       " '__PSScriptPolicyTest_bhbfowq4.j4e.ps1',\n",
       " '__PSScriptPolicyTest_cgh2ktlg.px0.ps1',\n",
       " '__PSScriptPolicyTest_colkj3vz.vn2.ps1',\n",
       " '__PSScriptPolicyTest_eii34eor.dq4.ps1',\n",
       " '__PSScriptPolicyTest_fppdt2sc.dtg.ps1',\n",
       " '__PSScriptPolicyTest_hi4arcm1.1ud.ps1',\n",
       " '__PSScriptPolicyTest_jbexaxms.m1q.ps1',\n",
       " '__PSScriptPolicyTest_jrsyewju.ryx.ps1',\n",
       " '__PSScriptPolicyTest_q55oiveo.qnv.ps1',\n",
       " '__PSScriptPolicyTest_sburxwfd.0ry.ps1',\n",
       " '__PSScriptPolicyTest_snmbxncz.kqy.ps1',\n",
       " '__PSScriptPolicyTest_yiic2twi.1pt.ps1',\n",
       " 'combase.dll',\n",
       " 'crypt32.dll',\n",
       " 'cryptbase.dll',\n",
       " 'dnsapi.dll',\n",
       " 'edputil.dll',\n",
       " 'kernelbase.dll',\n",
       " 'machine.config',\n",
       " 'mscoree.dll',\n",
       " 'mscoreei.dll::$EA',\n",
       " 'powershell.exe.log',\n",
       " 'rtutils.dll',\n",
       " 'schtasks.exe',\n",
       " 'shell32.dll',\n",
       " 'taskkill.exe',\n",
       " 'whoami.exe',\n",
       " 'winhttp.dll',\n",
       " 'wininet.dll']"
      ]
     },
     "execution_count": 82,
     "metadata": {},
     "output_type": "execute_result"
    }
   ],
   "source": [
    "dict_mapping['file_path']"
   ]
  },
  {
   "cell_type": "code",
   "execution_count": 84,
   "id": "f4777825-a2fa-43db-8d03-8f7a74292311",
   "metadata": {
    "tags": []
   },
   "outputs": [],
   "source": [
    "#use new function to transpose and explode trace and then one hot all the columns you want. Return encoded df \n",
    "#and dropped columns. \n",
    "%run trace_encode.ipynb"
   ]
  },
  {
   "cell_type": "code",
   "execution_count": 86,
   "id": "6ded6d3f-e66e-4fa9-bc58-7cb298f16e9f",
   "metadata": {
    "tags": []
   },
   "outputs": [],
   "source": [
    "list_cols = ['object','action','user_name', 'privileges',\n",
    "             'image_path','parent_image_path','new_path',\n",
    "             'direction','logon_id','requesting_domain',\n",
    "             'requesting_user']\n",
    "df_test, dict_test = trace_encode(connected_paths,list_cols)"
   ]
  },
  {
   "cell_type": "code",
   "execution_count": 88,
   "id": "55ead8ed-42d2-4d1b-888e-c6947ead5e59",
   "metadata": {
    "tags": []
   },
   "outputs": [
    {
     "name": "stdout",
     "output_type": "stream",
     "text": [
      "dict_keys(['object', 'action', 'user_name', 'privileges', 'image_path', 'parent_image_path', 'new_path', 'direction', 'logon_id', 'requesting_domain', 'requesting_user'])\n"
     ]
    },
    {
     "name": "stderr",
     "output_type": "stream",
     "text": [
      "/home/ec2-user/anaconda3/envs/python3/lib/python3.10/site-packages/pyspark/sql/pandas/conversion.py:248: FutureWarning: Passing unit-less datetime64 dtype to .astype is deprecated and will raise in a future version. Pass 'datetime64[ns]' instead\n",
      "  series = series.astype(t, copy=False)\n"
     ]
    },
    {
     "data": {
      "text/html": [
       "<div>\n",
       "<style scoped>\n",
       "    .dataframe tbody tr th:only-of-type {\n",
       "        vertical-align: middle;\n",
       "    }\n",
       "\n",
       "    .dataframe tbody tr th {\n",
       "        vertical-align: top;\n",
       "    }\n",
       "\n",
       "    .dataframe thead th {\n",
       "        text-align: right;\n",
       "    }\n",
       "</style>\n",
       "<table border=\"1\" class=\"dataframe\">\n",
       "  <thead>\n",
       "    <tr style=\"text-align: right;\">\n",
       "      <th></th>\n",
       "      <th>Trace</th>\n",
       "      <th>event</th>\n",
       "      <th>src</th>\n",
       "      <th>dst</th>\n",
       "      <th>timestamp</th>\n",
       "      <th>hostname</th>\n",
       "      <th>file_path</th>\n",
       "      <th>malicious</th>\n",
       "      <th>object_sparse</th>\n",
       "      <th>action_sparse</th>\n",
       "      <th>user_name_sparse</th>\n",
       "      <th>privileges_sparse</th>\n",
       "      <th>image_path_sparse</th>\n",
       "      <th>parent_image_path_sparse</th>\n",
       "      <th>new_path_sparse</th>\n",
       "      <th>direction_sparse</th>\n",
       "      <th>logon_id_sparse</th>\n",
       "      <th>requesting_domain_sparse</th>\n",
       "      <th>requesting_user_sparse</th>\n",
       "    </tr>\n",
       "  </thead>\n",
       "  <tbody>\n",
       "    <tr>\n",
       "      <th>0</th>\n",
       "      <td>1</td>\n",
       "      <td>e1</td>\n",
       "      <td>2d02ab42-4400-4049-baad-6dfae19c3c4c</td>\n",
       "      <td>2d02ab42-4400-4049-baad-6dfae19c3c4c</td>\n",
       "      <td>2019-09-23 18:44:59.341</td>\n",
       "      <td>SysClient0609.systemia.com</td>\n",
       "      <td>None</td>\n",
       "      <td>1</td>\n",
       "      <td>(1.0, 0.0, 0.0, 0.0)</td>\n",
       "      <td>(1.0, 0.0, 0.0, 0.0, 0.0, 0.0, 0.0, 0.0)</td>\n",
       "      <td>(1.0)</td>\n",
       "      <td>(1.0)</td>\n",
       "      <td>(1.0, 0.0, 0.0, 0.0, 0.0, 0.0, 0.0, 0.0, 0.0, ...</td>\n",
       "      <td>(1.0, 0.0, 0.0, 0.0)</td>\n",
       "      <td>(1.0)</td>\n",
       "      <td>(1.0)</td>\n",
       "      <td>(1.0)</td>\n",
       "      <td>(1.0)</td>\n",
       "      <td>(1.0)</td>\n",
       "    </tr>\n",
       "  </tbody>\n",
       "</table>\n",
       "</div>"
      ],
      "text/plain": [
       "   Trace event                                   src  \\\n",
       "0      1    e1  2d02ab42-4400-4049-baad-6dfae19c3c4c   \n",
       "\n",
       "                                    dst               timestamp  \\\n",
       "0  2d02ab42-4400-4049-baad-6dfae19c3c4c 2019-09-23 18:44:59.341   \n",
       "\n",
       "                     hostname file_path  malicious         object_sparse  \\\n",
       "0  SysClient0609.systemia.com      None          1  (1.0, 0.0, 0.0, 0.0)   \n",
       "\n",
       "                              action_sparse user_name_sparse  \\\n",
       "0  (1.0, 0.0, 0.0, 0.0, 0.0, 0.0, 0.0, 0.0)            (1.0)   \n",
       "\n",
       "  privileges_sparse                                  image_path_sparse  \\\n",
       "0             (1.0)  (1.0, 0.0, 0.0, 0.0, 0.0, 0.0, 0.0, 0.0, 0.0, ...   \n",
       "\n",
       "  parent_image_path_sparse new_path_sparse direction_sparse logon_id_sparse  \\\n",
       "0     (1.0, 0.0, 0.0, 0.0)           (1.0)            (1.0)           (1.0)   \n",
       "\n",
       "  requesting_domain_sparse requesting_user_sparse  \n",
       "0                    (1.0)                  (1.0)  "
      ]
     },
     "execution_count": 88,
     "metadata": {},
     "output_type": "execute_result"
    }
   ],
   "source": [
    "print(dict_test.keys())\n",
    "df_test.limit(1).toPandas()"
   ]
  },
  {
   "cell_type": "code",
   "execution_count": 89,
   "id": "0957137d-43d8-44ec-a9b2-8764771fe8f4",
   "metadata": {
    "tags": []
   },
   "outputs": [
    {
     "data": {
      "text/plain": [
       "['powershell.exe',\n",
       " 'PING.EXE',\n",
       " 'conhost.exe',\n",
       " 'csc.exe',\n",
       " 'more.com',\n",
       " 'net.exe',\n",
       " 'whoami.exe',\n",
       " 'schtasks.exe',\n",
       " 'taskkill.exe']"
      ]
     },
     "execution_count": 89,
     "metadata": {},
     "output_type": "execute_result"
    }
   ],
   "source": [
    "dict_test['image_path']"
   ]
  },
  {
   "cell_type": "code",
   "execution_count": null,
   "id": "7c76aa64-e357-4d69-8e38-cdaa6eb0fdfb",
   "metadata": {},
   "outputs": [],
   "source": [
    "#so this is pretty fast for malicious connected, what about benign\n"
   ]
  },
  {
   "cell_type": "raw",
   "id": "3f0fbde2-3630-47d4-a987-b688e6e4c41c",
   "metadata": {
    "tags": []
   },
   "source": [
    "#combined code for transposing and exploding:\n",
    "\n",
    "#add \"trace index\" to keep track of traces. important for transposing back\n",
    "df_transp = connected_paths.withColumn(\"Trace\", (monotonically_increasing_id() + 1))\n",
    "df_transp = df_transp.select(\"Trace\", \n",
    "                             *[col for col in df_transp.columns if col != \"Trace\"])\n",
    "                             \n",
    "#drop all vertices\n",
    "df_transp = df_transp.drop('a','b','c','d','e','f','g')\n",
    "\n",
    "#transpose rows \n",
    "stacked_df = df_transp.selectExpr(\n",
    "    \"Trace\", \n",
    "    \"posexplode(array(e1, e2, e3, e4, e5, e6)) as (pos, col)\"\n",
    ").select(\n",
    "    \"Trace\", \n",
    "    expr('''CASE pos \n",
    "    WHEN 0 THEN 'e1' \n",
    "    WHEN 1 THEN 'e2'\n",
    "    WHEN 2 THEN 'e3'\n",
    "    WHEN 3 THEN 'e4'\n",
    "    WHEN 4 THEN 'e5'\n",
    "    ELSE 'e6' END''').alias(\"event\"),\n",
    "    \"col\"\n",
    ").orderBy(\"Trace\",\"event\")\n",
    "\n",
    "#explode columns\n",
    "stacked_df = stacked_df.select(*stacked_df.columns, \"col.*\").drop('col')\n"
   ]
  },
  {
   "cell_type": "code",
   "execution_count": 18,
   "id": "cf6cccdc-2427-460e-97a7-c5cda79f7de9",
   "metadata": {
    "tags": []
   },
   "outputs": [],
   "source": [
    "# using split and applying in ml with pypark\n",
    "train, test, val = connected_paths.randomSplit([0.80, 0.15, 0.05], seed=12345)"
   ]
  },
  {
   "cell_type": "code",
   "execution_count": 22,
   "id": "ac08c41e-e588-4bb1-8520-b46c1467e018",
   "metadata": {
    "tags": []
   },
   "outputs": [
    {
     "data": {
      "text/plain": [
       "9"
      ]
     },
     "execution_count": 22,
     "metadata": {},
     "output_type": "execute_result"
    }
   ],
   "source": [
    "val.count()"
   ]
  },
  {
   "cell_type": "code",
   "execution_count": null,
   "id": "52501454-e7dc-413c-890c-d5a4676d996e",
   "metadata": {},
   "outputs": [],
   "source": []
  },
  {
   "cell_type": "code",
   "execution_count": null,
   "id": "63672d40-ca27-4e80-9092-251214d6621f",
   "metadata": {},
   "outputs": [],
   "source": []
  },
  {
   "cell_type": "code",
   "execution_count": null,
   "id": "c042a899-4b99-45a4-a13d-90c4e2861f76",
   "metadata": {
    "tags": []
   },
   "outputs": [],
   "source": [
    "# create new dataframe to union and create duplicate rows\n",
    "df_dup = df.withColumn('id', lit(None).cast(StringType()))"
   ]
  },
  {
   "cell_type": "code",
   "execution_count": null,
   "id": "e5d4873c-793e-40ba-8b0a-e62b72ec9a48",
   "metadata": {
    "tags": []
   },
   "outputs": [],
   "source": [
    "df_dup.limit(5).toPandas()"
   ]
  },
  {
   "cell_type": "code",
   "execution_count": null,
   "id": "0a2ef262-3b4b-4659-9e5a-ad65cd30257f",
   "metadata": {
    "tags": []
   },
   "outputs": [],
   "source": [
    "df_new = df.union(df_dup).sort(\"timestamp\").cache()\n",
    "df.unpersist()"
   ]
  },
  {
   "cell_type": "code",
   "execution_count": null,
   "id": "d5da3e36-2e52-47b1-a84f-5eefcb4bc16b",
   "metadata": {
    "tags": []
   },
   "outputs": [],
   "source": [
    "df_new.limit(5).toPandas()"
   ]
  },
  {
   "cell_type": "code",
   "execution_count": null,
   "id": "fb3abb18-b762-4e7d-b466-d9e5ee31f9f3",
   "metadata": {
    "tags": []
   },
   "outputs": [],
   "source": [
    "# len(df_new.select('relationship').distinct().collect())"
   ]
  },
  {
   "cell_type": "code",
   "execution_count": null,
   "id": "7b2bfd54-47a1-4b4c-8953-575c2d68c98f",
   "metadata": {
    "tags": []
   },
   "outputs": [],
   "source": [
    "tot = df_new.count()"
   ]
  },
  {
   "cell_type": "code",
   "execution_count": null,
   "id": "464deab4-13be-4bb9-a48a-4d66d4384b0b",
   "metadata": {},
   "outputs": [],
   "source": [
    "df_ratios = df_new.groupBy(\"object\") \\\n",
    "              .count() \\\n",
    "              .withColumnRenamed('count', 'cnt_per_group') \\\n",
    "              .withColumn('perc_of_count_total', (col('cnt_per_group') / tot) * 100 ) \\\n",
    "              .cache()"
   ]
  },
  {
   "cell_type": "code",
   "execution_count": null,
   "id": "b25931e3-928c-4b1f-920b-79132f35b1e4",
   "metadata": {},
   "outputs": [],
   "source": [
    "df_ratios.limit(5).toPandas()"
   ]
  },
  {
   "cell_type": "code",
   "execution_count": null,
   "id": "8ec07a31-d23e-4d12-a41b-dd1898d38078",
   "metadata": {
    "tags": []
   },
   "outputs": [],
   "source": [
    "df_new.limit(5).toPandas()"
   ]
  },
  {
   "cell_type": "code",
   "execution_count": null,
   "id": "a0e1ad06-7612-48ed-b9bc-9ace19b7545f",
   "metadata": {},
   "outputs": [],
   "source": []
  },
  {
   "cell_type": "code",
   "execution_count": null,
   "id": "cce447ff-155c-42cf-ab20-911e59a77fd1",
   "metadata": {
    "tags": []
   },
   "outputs": [],
   "source": [
    "connected_paths.write.option(\"maxRecordsPerFile\", 300000).mode(\"overwrite\").parquet(f\"{s3_url_trusted}/prod/graph/test\")"
   ]
  },
  {
   "cell_type": "code",
   "execution_count": null,
   "id": "9a210e73-7628-485d-b723-523a4b68d349",
   "metadata": {},
   "outputs": [],
   "source": []
  }
 ],
 "metadata": {
  "kernelspec": {
   "display_name": "conda_python3",
   "language": "python",
   "name": "conda_python3"
  },
  "language_info": {
   "codemirror_mode": {
    "name": "ipython",
    "version": 3
   },
   "file_extension": ".py",
   "mimetype": "text/x-python",
   "name": "python",
   "nbconvert_exporter": "python",
   "pygments_lexer": "ipython3",
   "version": "3.10.8"
  }
 },
 "nbformat": 4,
 "nbformat_minor": 5
}
