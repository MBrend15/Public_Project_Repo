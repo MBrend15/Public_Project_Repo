{
 "cells": [
  {
   "cell_type": "code",
   "execution_count": 2,
   "id": "d101505b-bd38-4008-a881-db5901ba8123",
   "metadata": {
    "tags": []
   },
   "outputs": [
    {
     "name": "stderr",
     "output_type": "stream",
     "text": [
      "Warning: Ignoring non-Spark config property: fs.s3a.access.key\n",
      "Warning: Ignoring non-Spark config property: fs.s3a.secret.key\n"
     ]
    },
    {
     "name": "stdout",
     "output_type": "stream",
     "text": [
      ":: loading settings :: url = jar:file:/home/ec2-user/anaconda3/envs/python3/lib/python3.10/site-packages/pyspark/jars/ivy-2.5.0.jar!/org/apache/ivy/core/settings/ivysettings.xml\n"
     ]
    },
    {
     "name": "stderr",
     "output_type": "stream",
     "text": [
      "Ivy Default Cache set to: /home/ec2-user/.ivy2/cache\n",
      "The jars for the packages stored in: /home/ec2-user/.ivy2/jars\n",
      "graphframes#graphframes added as a dependency\n",
      ":: resolving dependencies :: org.apache.spark#spark-submit-parent-6a979f90-d9fb-4ae0-b538-fa00598ae025;1.0\n",
      "\tconfs: [default]\n",
      "\tfound graphframes#graphframes;0.8.2-spark3.2-s_2.12 in spark-packages\n",
      "\tfound org.slf4j#slf4j-api;1.7.16 in central\n",
      ":: resolution report :: resolve 195ms :: artifacts dl 4ms\n",
      "\t:: modules in use:\n",
      "\tgraphframes#graphframes;0.8.2-spark3.2-s_2.12 from spark-packages in [default]\n",
      "\torg.slf4j#slf4j-api;1.7.16 from central in [default]\n",
      "\t---------------------------------------------------------------------\n",
      "\t|                  |            modules            ||   artifacts   |\n",
      "\t|       conf       | number| search|dwnlded|evicted|| number|dwnlded|\n",
      "\t---------------------------------------------------------------------\n",
      "\t|      default     |   2   |   0   |   0   |   0   ||   2   |   0   |\n",
      "\t---------------------------------------------------------------------\n",
      ":: retrieving :: org.apache.spark#spark-submit-parent-6a979f90-d9fb-4ae0-b538-fa00598ae025\n",
      "\tconfs: [default]\n",
      "\t0 artifacts copied, 2 already retrieved (0kB/4ms)\n"
     ]
    },
    {
     "name": "stdout",
     "output_type": "stream",
     "text": [
      "23/03/05 17:01:45 WARN NativeCodeLoader: Unable to load native-hadoop library for your platform... using builtin-java classes where applicable\n"
     ]
    },
    {
     "name": "stderr",
     "output_type": "stream",
     "text": [
      "Setting default log level to \"WARN\".\n",
      "To adjust logging level use sc.setLogLevel(newLevel). For SparkR, use setLogLevel(newLevel).\n"
     ]
    },
    {
     "name": "stdout",
     "output_type": "stream",
     "text": [
      "23/03/05 17:01:45 WARN SparkConf: Note that spark.local.dir will be overridden by the value set by the cluster manager (via SPARK_LOCAL_DIRS in mesos/standalone/kubernetes and LOCAL_DIRS in YARN).\n",
      "23/03/05 17:01:46 WARN Utils: Service 'SparkUI' could not bind on port 4040. Attempting port 4041.\n"
     ]
    }
   ],
   "source": [
    "%run ./read_file.ipynb "
   ]
  },
  {
   "cell_type": "code",
   "execution_count": 3,
   "id": "e073712c-a6d2-427b-ae20-5303967551d1",
   "metadata": {
    "tags": []
   },
   "outputs": [
    {
     "name": "stderr",
     "output_type": "stream",
     "text": [
      "                                                                                \r"
     ]
    },
    {
     "name": "stdout",
     "output_type": "stream",
     "text": [
      " 5:01PM UTC on Mar 05, 2023 --- read and cache time: 7.392996311187744 seconds ---\n",
      "root\n",
      " |-- id: string (nullable = true)\n",
      " |-- objectID: string (nullable = true)\n",
      " |-- actorID: string (nullable = true)\n",
      " |-- object: string (nullable = true)\n",
      " |-- action: string (nullable = true)\n",
      " |-- hostname: string (nullable = true)\n",
      " |-- ts2: timestamp (nullable = true)\n",
      "\n"
     ]
    }
   ],
   "source": [
    "df_labels = readCheckpoint('labels')\n",
    "#create a timestamp column and drop the old timestamp - does not appear necessary\n",
    "df_labels = df_labels.withColumn('ts2', to_timestamp(col('timestamp'))).drop('timestamp')\n",
    "#check new col data types\n",
    "df_labels.printSchema()"
   ]
  },
  {
   "cell_type": "code",
   "execution_count": null,
   "id": "f2fa8920-22ac-4196-aca7-56f47575d99e",
   "metadata": {
    "tags": []
   },
   "outputs": [],
   "source": [
    "def build_adjaceny(df, dataset = 'ecar'):\n",
    "    \n",
    "    if dataset == 'labels':\n",
    "        df = df.sort(col(\"ts2\").asc())\n",
    "    else : \n",
    "        #first step sort the data and check\n",
    "        df = df.sort(col(\"timestamp\").asc())\n",
    "    \n",
    "    #now get overlapping connections\n",
    "\n",
    "    #build collections of each type of ID\n",
    "    #TODO make this one select statement\n",
    "    col_objID = df.select(\"objectID\").distinct().collect()\n",
    "    col_actID = df.select(\"actorID\").distinct().collect()\n",
    "\n",
    "    #put these columns into a dictionary and turn into a spark data frame\n",
    "    data = [{\"actorIDs\" : [row.actorID for row in col_actID], \\\n",
    "                   \"objectIDs\" : [row.objectID for row in col_objID]}]\n",
    "\n",
    "    id_intersect = spark.createDataFrame(data)\n",
    "\n",
    "    #compare ID pools to find actIDs that are nodes\n",
    "    id_intersect = id_intersect.withColumn(\"id_int\", \\\n",
    "                                           array_intersect(col(\"actorIDs\"),col(\"objectIDs\")))\n",
    "\n",
    "    #now build a list of the nodal actIDs and print the length\n",
    "    actIDs = [row.id_int for row in id_intersect.select(\"id_int\").collect()][0]\n",
    "    \n",
    "    #create ref dict\n",
    "    dict_node_edge_events = {}\n",
    "    \n",
    "    #for all actors in actIDs\n",
    "    for aID in actIDs: \n",
    "        first_id = df.where((col(\"objectID\") == aID) \\\n",
    "                               & (col(\"actorID\")!= aID)).limit(1).collect()[0]['id']\n",
    "        \n",
    "        #now add this to the dictionary as a key\n",
    "        first_event = str(aID+':'+first_id)\n",
    "        dict_node_edge_events[first_event] = []\n",
    "        \n",
    "        #now add all the events where the actorID is present but not the objectID, group by unique object ID\n",
    "        #and pull out the first event - and I checked and believe the sorting holds through grouping\n",
    "        col_select_children_events = df.select('objectID','id')\\\n",
    "        .where((col(\"actorID\") == aID) & \\\n",
    "                 (col(\"objectID\") != aID)).groupBy(\"objectID\").agg(first(\"id\")).collect() \n",
    "        \n",
    "        #add children objects into dictioinary \n",
    "        dict_node_edge_events[first_event] = [str(row[\"objectID\"]+':'+row[\"first(id)\"]) for row in col_select_children_events]\n",
    "        \n",
    "    return dict_node_edge_events"
   ]
  }
 ],
 "metadata": {
  "kernelspec": {
   "display_name": "conda_python3",
   "language": "python",
   "name": "conda_python3"
  },
  "language_info": {
   "codemirror_mode": {
    "name": "ipython",
    "version": 3
   },
   "file_extension": ".py",
   "mimetype": "text/x-python",
   "name": "python",
   "nbconvert_exporter": "python",
   "pygments_lexer": "ipython3",
   "version": "3.10.8"
  }
 },
 "nbformat": 4,
 "nbformat_minor": 5
}
