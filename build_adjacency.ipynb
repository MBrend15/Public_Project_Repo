{
 "cells": [
  {
   "cell_type": "code",
   "execution_count": 1,
   "id": "d101505b-bd38-4008-a881-db5901ba8123",
   "metadata": {
    "tags": []
   },
   "outputs": [
    {
     "name": "stderr",
     "output_type": "stream",
     "text": [
      "Warning: Ignoring non-Spark config property: fs.s3a.access.key\n",
      "Warning: Ignoring non-Spark config property: fs.s3a.secret.key\n"
     ]
    },
    {
     "name": "stdout",
     "output_type": "stream",
     "text": [
      ":: loading settings :: url = jar:file:/home/ec2-user/anaconda3/envs/python3/lib/python3.10/site-packages/pyspark/jars/ivy-2.5.0.jar!/org/apache/ivy/core/settings/ivysettings.xml\n"
     ]
    },
    {
     "name": "stderr",
     "output_type": "stream",
     "text": [
      "Ivy Default Cache set to: /home/ec2-user/.ivy2/cache\n",
      "The jars for the packages stored in: /home/ec2-user/.ivy2/jars\n",
      "graphframes#graphframes added as a dependency\n",
      ":: resolving dependencies :: org.apache.spark#spark-submit-parent-76ed3ecb-3b7a-424c-a346-96c2f470ff23;1.0\n",
      "\tconfs: [default]\n",
      "\tfound graphframes#graphframes;0.8.2-spark3.2-s_2.12 in spark-packages\n",
      "\tfound org.slf4j#slf4j-api;1.7.16 in central\n",
      "downloading https://repos.spark-packages.org/graphframes/graphframes/0.8.2-spark3.2-s_2.12/graphframes-0.8.2-spark3.2-s_2.12.jar ...\n",
      "\t[SUCCESSFUL ] graphframes#graphframes;0.8.2-spark3.2-s_2.12!graphframes.jar (830ms)\n",
      "downloading https://repo1.maven.org/maven2/org/slf4j/slf4j-api/1.7.16/slf4j-api-1.7.16.jar ...\n",
      "\t[SUCCESSFUL ] org.slf4j#slf4j-api;1.7.16!slf4j-api.jar (28ms)\n",
      ":: resolution report :: resolve 693ms :: artifacts dl 860ms\n",
      "\t:: modules in use:\n",
      "\tgraphframes#graphframes;0.8.2-spark3.2-s_2.12 from spark-packages in [default]\n",
      "\torg.slf4j#slf4j-api;1.7.16 from central in [default]\n",
      "\t---------------------------------------------------------------------\n",
      "\t|                  |            modules            ||   artifacts   |\n",
      "\t|       conf       | number| search|dwnlded|evicted|| number|dwnlded|\n",
      "\t---------------------------------------------------------------------\n",
      "\t|      default     |   2   |   2   |   2   |   0   ||   2   |   2   |\n",
      "\t---------------------------------------------------------------------\n",
      ":: retrieving :: org.apache.spark#spark-submit-parent-76ed3ecb-3b7a-424c-a346-96c2f470ff23\n",
      "\tconfs: [default]\n",
      "\t2 artifacts copied, 0 already retrieved (281kB/6ms)\n"
     ]
    },
    {
     "name": "stdout",
     "output_type": "stream",
     "text": [
      "23/03/12 14:15:12 WARN NativeCodeLoader: Unable to load native-hadoop library for your platform... using builtin-java classes where applicable\n"
     ]
    },
    {
     "name": "stderr",
     "output_type": "stream",
     "text": [
      "Setting default log level to \"WARN\".\n",
      "To adjust logging level use sc.setLogLevel(newLevel). For SparkR, use setLogLevel(newLevel).\n"
     ]
    },
    {
     "name": "stdout",
     "output_type": "stream",
     "text": [
      "23/03/12 14:15:13 WARN SparkConf: Note that spark.local.dir will be overridden by the value set by the cluster manager (via SPARK_LOCAL_DIRS in mesos/standalone/kubernetes and LOCAL_DIRS in YARN).\n"
     ]
    }
   ],
   "source": [
    "%run ./read_file.ipynb "
   ]
  },
  {
   "cell_type": "code",
   "execution_count": 2,
   "id": "f569d088-f253-46a9-94e2-392fd367f524",
   "metadata": {
    "tags": []
   },
   "outputs": [],
   "source": [
    "def explode_and_drop(df_final):\n",
    "        \n",
    "    df_final = df_final.withColumn(\"parent_objectid\", split(df_final[\"parent\"], \"\\^\")[0])\n",
    "    df_final = df_final.withColumn(\"parent_timestamp\", split(df_final[\"parent\"],\"\\^\")[1])\n",
    "    df_final = df_final.withColumn(\"parent_object\", split(df_final[\"parent\"], \"\\^\")[2])\n",
    "    df_final = df_final.withColumn(\"parent_parent_image_path\", split(df_final[\"parent\"], \"\\^\")[3])\n",
    "    df_final = df_final.withColumn(\"parent_image_path\", split(df_final[\"parent\"], \"\\^\")[4])\n",
    "    df_final = df_final.withColumn(\"parent_USER\", split(df_final[\"parent\"], \"\\^\")[5])\n",
    "\n",
    "    df_final = df_final.withColumn(\"child_objectid\", split(df_final[\"child\"], \"\\^\")[0])\n",
    "    df_final = df_final.withColumn(\"child_timestamp\", split(df_final[\"child\"], \"\\^\")[1])\n",
    "    df_final = df_final.withColumn(\"child_object\", split(df_final[\"child\"], \"\\^\")[2])\n",
    "    df_final = df_final.withColumn(\"child_parent_image_path\", split(df_final[\"child\"], \"\\^\")[3])\n",
    "    df_final = df_final.withColumn(\"child_image_path\", split(df_final[\"child\"], \"\\^\")[4])\n",
    "    df_final = df_final.withColumn(\"child_USER\", split(df_final[\"child\"], \"\\^\")[5])\n",
    "    \n",
    "    df_final = df_final.drop(\"parent\",\"child\")\n",
    "    \n",
    "    return df_final"
   ]
  },
  {
   "cell_type": "code",
   "execution_count": 4,
   "id": "f2fa8920-22ac-4196-aca7-56f47575d99e",
   "metadata": {
    "tags": []
   },
   "outputs": [],
   "source": [
    "def build_adjaceny(df, dataset = 'ecar'):\n",
    "    \n",
    "    start_time = time.time()\n",
    "    \n",
    "    if dataset == 'labels':\n",
    "        df = df.sort(col(\"ts2\").asc())\n",
    "    else : \n",
    "        #first step sort the data and check\n",
    "        df = df.sort(col(\"timestamp\").asc())\n",
    "    \n",
    "    #now get overlapping connections\n",
    "\n",
    "    #build collections of each type of ID\n",
    "    #TODO make this one select statement\n",
    "    col_objID = df.select(\"objectID\").distinct().collect()\n",
    "    col_actID = df.select(\"actorID\").distinct().collect()\n",
    "    \n",
    "    print(len(col_actID))\n",
    "\n",
    "    #put these columns into a dictionary and turn into a spark data frame\n",
    "    data = [{\"actorIDs\" : [row.actorID for row in col_actID], \\\n",
    "                   \"objectIDs\" : [row.objectID for row in col_objID]}]\n",
    "\n",
    "    id_intersect = spark.createDataFrame(data)\n",
    "\n",
    "    #compare ID pools to find actIDs that are nodes\n",
    "    id_intersect = id_intersect.withColumn(\"id_int\", \\\n",
    "                                           array_intersect(col(\"actorIDs\"),col(\"objectIDs\")))\n",
    "\n",
    "    #now build a list of the nodal actIDs and print the length\n",
    "    actIDs = [row.id_int for row in id_intersect.select(\"id_int\").collect()][0]\n",
    "    \n",
    "    print(\"length actIDs: \"+str(len(actIDs)))\n",
    "    print(\"elapsed time: \"+ str(time.time() - start_time))\n",
    "    #create ref dict\n",
    "    dict_node_edge_events = {}\n",
    "    count = 0 \n",
    "    \n",
    "    print(actIDs[0])\n",
    "    \n",
    "    #for all actors in actIDs\n",
    "    for aID in actIDs: \n",
    "        \n",
    "        #I think we can pull parent time here and record this in the dictionary somehow\n",
    "        birth_event = df.where((col(\"objectID\") == aID) \\\n",
    "                               & (col(\"actorID\")!= aID)).limit(1).collect()\n",
    "        \n",
    "        if len(birth_event) > 0: \n",
    "            str_first_id = birth_event[0]['id']\n",
    "\n",
    "            #now add this to the dictionary as a key\n",
    "            first_event = str(aID+'^'  \n",
    "                              +str(birth_event[0]['timestamp'])+\"^\" \n",
    "                              +str(birth_event[0]['object'])+\"^\" \n",
    "                              +str(birth_event[0]['parent_image_path'])+\"^\" \n",
    "                              +str(birth_event[0]['image_path'])+'^USER_placeholder')\n",
    "            \n",
    "            dict_node_edge_events[first_event] = []\n",
    "\n",
    "            #now add all the events where the actorID is present but not the objectID, group by unique object ID\n",
    "            #and pull out the first event - and I checked and believe the sorting holds through grouping\n",
    "            col_select_children_events = df.where((col(\"actorID\") == aID) & \\\n",
    "                     (col(\"objectID\") != aID)).groupBy(\"objectID\").agg(first(\"timestamp\"),\n",
    "                                                                      first('object'),\n",
    "                                                                       first('parent_image_path'),\n",
    "                                                                       first('image_path')).collect() \n",
    "\n",
    "            #add children objects into dictioinary \n",
    "            dict_node_edge_events[first_event] = [str(row[\"objectID\"]+'^'\n",
    "                                                      +str(row['first(timestamp)'])+'^'\n",
    "                                                      +str(row['first(object)'])+'^'\n",
    "                                                      +str(row['first(parent_image_path)'])+'^'\n",
    "                                                      +str(row['first(image_path)'])+'^'\n",
    "                                                      +'^USER_placeholder') \n",
    "                                                  for row in col_select_children_events]\n",
    "        else:\n",
    "            count += 1\n",
    "    \n",
    "    print(\"no birth event for \" + str(count)+\" events.\")\n",
    "    \n",
    "    # create a list of tuples from the dictionary\n",
    "    data_list = list(dict_node_edge_events.items())\n",
    "\n",
    "    # convert the list of tuples to a PySpark RDD\n",
    "    data_rdd = spark.sparkContext.parallelize(data_list)\n",
    "\n",
    "    # create a PySpark DataFrame from the RDD\n",
    "    df_final = data_rdd.toDF()\n",
    "    \n",
    "    #explode list into column, keeping position for some sort of rank just in case\n",
    "    df_final_exp = df_final.select(\"_1\",posexplode(\"_2\"))\n",
    "    df_final_exp_col = df_final_exp.selectExpr(\"_1 as parent\", \"pos as order\", \"col as child\")\n",
    "    \n",
    "    print(\"elapsed time 2: \"+ str(time.time() - start_time))\n",
    "    \n",
    "    df_final_exp_col = explode_and_drop(df_final_exp_col)\n",
    "    \n",
    "    return df_final_exp_col"
   ]
  }
 ],
 "metadata": {
  "kernelspec": {
   "display_name": "conda_python3",
   "language": "python",
   "name": "conda_python3"
  },
  "language_info": {
   "codemirror_mode": {
    "name": "ipython",
    "version": 3
   },
   "file_extension": ".py",
   "mimetype": "text/x-python",
   "name": "python",
   "nbconvert_exporter": "python",
   "pygments_lexer": "ipython3",
   "version": "3.10.8"
  }
 },
 "nbformat": 4,
 "nbformat_minor": 5
}
