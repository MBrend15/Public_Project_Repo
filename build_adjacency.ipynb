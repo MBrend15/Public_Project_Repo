{
 "cells": [
  {
   "cell_type": "code",
   "execution_count": 1,
   "id": "d101505b-bd38-4008-a881-db5901ba8123",
   "metadata": {
    "tags": []
   },
   "outputs": [
    {
     "name": "stderr",
     "output_type": "stream",
     "text": [
      "Warning: Ignoring non-Spark config property: fs.s3a.access.key\n",
      "Warning: Ignoring non-Spark config property: fs.s3a.secret.key\n"
     ]
    },
    {
     "name": "stdout",
     "output_type": "stream",
     "text": [
      ":: loading settings :: url = jar:file:/home/ec2-user/anaconda3/envs/python3/lib/python3.10/site-packages/pyspark/jars/ivy-2.5.0.jar!/org/apache/ivy/core/settings/ivysettings.xml\n"
     ]
    },
    {
     "name": "stderr",
     "output_type": "stream",
     "text": [
      "Ivy Default Cache set to: /home/ec2-user/.ivy2/cache\n",
      "The jars for the packages stored in: /home/ec2-user/.ivy2/jars\n",
      "graphframes#graphframes added as a dependency\n",
      ":: resolving dependencies :: org.apache.spark#spark-submit-parent-d18c5a14-0339-4921-a175-df862a3e23dd;1.0\n",
      "\tconfs: [default]\n",
      "\tfound graphframes#graphframes;0.8.2-spark3.2-s_2.12 in spark-packages\n",
      "\tfound org.slf4j#slf4j-api;1.7.16 in central\n",
      "downloading https://repos.spark-packages.org/graphframes/graphframes/0.8.2-spark3.2-s_2.12/graphframes-0.8.2-spark3.2-s_2.12.jar ...\n",
      "\t[SUCCESSFUL ] graphframes#graphframes;0.8.2-spark3.2-s_2.12!graphframes.jar (99ms)\n",
      "downloading https://repo1.maven.org/maven2/org/slf4j/slf4j-api/1.7.16/slf4j-api-1.7.16.jar ...\n",
      "\t[SUCCESSFUL ] org.slf4j#slf4j-api;1.7.16!slf4j-api.jar (35ms)\n",
      ":: resolution report :: resolve 837ms :: artifacts dl 136ms\n",
      "\t:: modules in use:\n",
      "\tgraphframes#graphframes;0.8.2-spark3.2-s_2.12 from spark-packages in [default]\n",
      "\torg.slf4j#slf4j-api;1.7.16 from central in [default]\n",
      "\t---------------------------------------------------------------------\n",
      "\t|                  |            modules            ||   artifacts   |\n",
      "\t|       conf       | number| search|dwnlded|evicted|| number|dwnlded|\n",
      "\t---------------------------------------------------------------------\n",
      "\t|      default     |   2   |   2   |   2   |   0   ||   2   |   2   |\n",
      "\t---------------------------------------------------------------------\n",
      ":: retrieving :: org.apache.spark#spark-submit-parent-d18c5a14-0339-4921-a175-df862a3e23dd\n",
      "\tconfs: [default]\n",
      "\t2 artifacts copied, 0 already retrieved (281kB/6ms)\n"
     ]
    },
    {
     "name": "stdout",
     "output_type": "stream",
     "text": [
      "23/03/09 01:52:04 WARN NativeCodeLoader: Unable to load native-hadoop library for your platform... using builtin-java classes where applicable\n"
     ]
    },
    {
     "name": "stderr",
     "output_type": "stream",
     "text": [
      "Setting default log level to \"WARN\".\n",
      "To adjust logging level use sc.setLogLevel(newLevel). For SparkR, use setLogLevel(newLevel).\n"
     ]
    },
    {
     "name": "stdout",
     "output_type": "stream",
     "text": [
      "23/03/09 01:52:05 WARN SparkConf: Note that spark.local.dir will be overridden by the value set by the cluster manager (via SPARK_LOCAL_DIRS in mesos/standalone/kubernetes and LOCAL_DIRS in YARN).\n"
     ]
    }
   ],
   "source": [
    "%run ./read_file.ipynb "
   ]
  },
  {
   "cell_type": "code",
   "execution_count": 39,
   "id": "f2fa8920-22ac-4196-aca7-56f47575d99e",
   "metadata": {
    "tags": []
   },
   "outputs": [],
   "source": [
    "def build_adjaceny(df, dataset = 'ecar'):\n",
    "    \n",
    "    start_time = time.time()\n",
    "    \n",
    "    if dataset == 'labels':\n",
    "        df = df.sort(col(\"ts2\").asc())\n",
    "    else : \n",
    "        #first step sort the data and check\n",
    "        df = df.sort(col(\"timestamp\").asc())\n",
    "    \n",
    "    #now get overlapping connections\n",
    "\n",
    "    #build collections of each type of ID\n",
    "    #TODO make this one select statement\n",
    "    col_objID = df.select(\"objectID\").distinct().collect()\n",
    "    col_actID = df.select(\"actorID\").distinct().collect()\n",
    "    \n",
    "    print(len(col_actID))\n",
    "\n",
    "    #put these columns into a dictionary and turn into a spark data frame\n",
    "    data = [{\"actorIDs\" : [row.actorID for row in col_actID], \\\n",
    "                   \"objectIDs\" : [row.objectID for row in col_objID]}]\n",
    "\n",
    "    id_intersect = spark.createDataFrame(data)\n",
    "\n",
    "    #compare ID pools to find actIDs that are nodes\n",
    "    id_intersect = id_intersect.withColumn(\"id_int\", \\\n",
    "                                           array_intersect(col(\"actorIDs\"),col(\"objectIDs\")))\n",
    "\n",
    "    #now build a list of the nodal actIDs and print the length\n",
    "    actIDs = [row.id_int for row in id_intersect.select(\"id_int\").collect()][0]\n",
    "    \n",
    "    print(\"length actIDs: \"+str(len(actIDs)))\n",
    "    print(\"elapsed time: \"+ str(time.time() - start_time))\n",
    "    #create ref dict\n",
    "    dict_node_edge_events = {}\n",
    "    count = 0 \n",
    "    \n",
    "    #for all actors in actIDs\n",
    "    for aID in actIDs: \n",
    "        \n",
    "        birth_event = df.where((col(\"objectID\") == aID) \\\n",
    "                               & (col(\"actorID\")!= aID)).limit(1).collect()\n",
    "        \n",
    "        if len(birth_event) > 0: \n",
    "            first_id = birth_event[0]['id']\n",
    "\n",
    "            #now add this to the dictionary as a key\n",
    "            first_event = str(aID+':'+first_id)\n",
    "            dict_node_edge_events[first_event] = []\n",
    "\n",
    "            #now add all the events where the actorID is present but not the objectID, group by unique object ID\n",
    "            #and pull out the first event - and I checked and believe the sorting holds through grouping\n",
    "            col_select_children_events = df.select('objectID','id')\\\n",
    "            .where((col(\"actorID\") == aID) & \\\n",
    "                     (col(\"objectID\") != aID)).groupBy(\"objectID\").agg(first(\"id\")).collect() \n",
    "\n",
    "            #add children objects into dictioinary \n",
    "            dict_node_edge_events[first_event] = [str(row[\"objectID\"]+':'+row[\"first(id)\"]) for row in col_select_children_events]\n",
    "        else:\n",
    "            count += 1\n",
    "    \n",
    "    print(\"no birth event for \" + str(count)+\" events.\")\n",
    "    \n",
    "    # create a list of tuples from the dictionary\n",
    "    data_list = list(dict_node_edge_events.items())\n",
    "\n",
    "    # convert the list of tuples to a PySpark RDD\n",
    "    data_rdd = spark.sparkContext.parallelize(data_tuples)\n",
    "\n",
    "    # create a PySpark DataFrame from the RDD\n",
    "    df_final = data_rdd.toDF()\n",
    "    \n",
    "    #explode list into column, keeping position for some sort of rank just in case\n",
    "    df_final_exp = df_final.select(\"_1\",posexplode(\"_2\"))\n",
    "    df_final_exp_col = df_final_exp.selectExpr(\"_1 as parent\", \"pos as order\", \"col as child\")\n",
    "    \n",
    "    print(\"elapsed time 2: \"+ str(time.time() - start_time))\n",
    "    return df_final_exp_col"
   ]
  },
  {
   "cell_type": "code",
   "execution_count": null,
   "id": "a25dbf1c-039f-4857-8358-a7d431725698",
   "metadata": {},
   "outputs": [],
   "source": [
    "df_labels = readCheckpoint_bcm('labels')\n",
    "#create a timestamp column and drop the old timestamp - does not appear necessary\n",
    "df_labels = df_labels.withColumn('ts2', to_timestamp(col('timestamp'))).drop('timestamp')\n",
    "print('event count' + str(df_labels.count()))\n",
    "#check new col data types\n",
    "df_labels.printSchema()"
   ]
  },
  {
   "cell_type": "code",
   "execution_count": 40,
   "id": "fc74a784-3a66-480f-98f7-f4309da5edda",
   "metadata": {
    "tags": []
   },
   "outputs": [
    {
     "name": "stdout",
     "output_type": "stream",
     "text": [
      "150\n",
      "length actIDs: 90\n",
      "elapsed time: 1.3366224765777588\n",
      "no birth event for 0 events.\n",
      "elapsed time 2: 25.059102296829224\n"
     ]
    }
   ],
   "source": [
    "#run code with labels dataframe\n",
    "df_labels_adj = build_adjaceny(df_labels, 'labels')"
   ]
  },
  {
   "cell_type": "code",
   "execution_count": 41,
   "id": "efe680e1-55b8-4a39-b7cd-093accf2b82e",
   "metadata": {
    "tags": []
   },
   "outputs": [
    {
     "name": "stdout",
     "output_type": "stream",
     "text": [
      "+--------------------+-----+--------------------+\n",
      "|              parent|order|               child|\n",
      "+--------------------+-----+--------------------+\n",
      "|d5846376-9596-428...|    0|000401b2-4413-4f2...|\n",
      "|d5846376-9596-428...|    1|00263384-6151-407...|\n",
      "|d5846376-9596-428...|    2|0093031c-0521-4e7...|\n",
      "|d5846376-9596-428...|    3|00979bf4-65da-491...|\n",
      "|d5846376-9596-428...|    4|00accb8e-39bf-40c...|\n",
      "+--------------------+-----+--------------------+\n",
      "\n"
     ]
    }
   ],
   "source": [
    "df_labels_adj.limit(5).show()"
   ]
  },
  {
   "cell_type": "code",
   "execution_count": 42,
   "id": "1d491c37-e114-4079-a54c-4be03efd88a8",
   "metadata": {
    "tags": []
   },
   "outputs": [
    {
     "data": {
      "text/plain": [
       "'d5846376-9596-4283-8505-8e6112abf1f2:e15537fe-fdb0-49d4-a1fd-de34e8215617'"
      ]
     },
     "execution_count": 42,
     "metadata": {},
     "output_type": "execute_result"
    }
   ],
   "source": [
    "df_labels_adj.limit(1).collect()[0]['parent']"
   ]
  }
 ],
 "metadata": {
  "kernelspec": {
   "display_name": "conda_python3",
   "language": "python",
   "name": "conda_python3"
  },
  "language_info": {
   "codemirror_mode": {
    "name": "ipython",
    "version": 3
   },
   "file_extension": ".py",
   "mimetype": "text/x-python",
   "name": "python",
   "nbconvert_exporter": "python",
   "pygments_lexer": "ipython3",
   "version": "3.10.8"
  }
 },
 "nbformat": 4,
 "nbformat_minor": 5
}
