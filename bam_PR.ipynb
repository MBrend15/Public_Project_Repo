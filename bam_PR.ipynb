{
 "cells": [
  {
   "cell_type": "code",
   "execution_count": 1,
   "id": "1c5002ac-9cf6-4082-bd31-0bd2befac188",
   "metadata": {
    "tags": []
   },
   "outputs": [
    {
     "name": "stderr",
     "output_type": "stream",
     "text": [
      "Warning: Ignoring non-Spark config property: fs.s3a.access.key\n",
      "Warning: Ignoring non-Spark config property: fs.s3a.secret.key\n"
     ]
    },
    {
     "name": "stdout",
     "output_type": "stream",
     "text": [
      ":: loading settings :: url = jar:file:/home/ec2-user/anaconda3/envs/python3/lib/python3.10/site-packages/pyspark/jars/ivy-2.5.0.jar!/org/apache/ivy/core/settings/ivysettings.xml\n"
     ]
    },
    {
     "name": "stderr",
     "output_type": "stream",
     "text": [
      "Ivy Default Cache set to: /home/ec2-user/.ivy2/cache\n",
      "The jars for the packages stored in: /home/ec2-user/.ivy2/jars\n",
      "graphframes#graphframes added as a dependency\n",
      ":: resolving dependencies :: org.apache.spark#spark-submit-parent-7f68ac86-3109-412b-b17c-6969ae90ff39;1.0\n",
      "\tconfs: [default]\n",
      "\tfound graphframes#graphframes;0.8.2-spark3.2-s_2.12 in spark-packages\n",
      "\tfound org.slf4j#slf4j-api;1.7.16 in central\n",
      "downloading https://repos.spark-packages.org/graphframes/graphframes/0.8.2-spark3.2-s_2.12/graphframes-0.8.2-spark3.2-s_2.12.jar ...\n",
      "\t[SUCCESSFUL ] graphframes#graphframes;0.8.2-spark3.2-s_2.12!graphframes.jar (45ms)\n",
      "downloading https://repo1.maven.org/maven2/org/slf4j/slf4j-api/1.7.16/slf4j-api-1.7.16.jar ...\n",
      "\t[SUCCESSFUL ] org.slf4j#slf4j-api;1.7.16!slf4j-api.jar (24ms)\n",
      ":: resolution report :: resolve 623ms :: artifacts dl 73ms\n",
      "\t:: modules in use:\n",
      "\tgraphframes#graphframes;0.8.2-spark3.2-s_2.12 from spark-packages in [default]\n",
      "\torg.slf4j#slf4j-api;1.7.16 from central in [default]\n",
      "\t---------------------------------------------------------------------\n",
      "\t|                  |            modules            ||   artifacts   |\n",
      "\t|       conf       | number| search|dwnlded|evicted|| number|dwnlded|\n",
      "\t---------------------------------------------------------------------\n",
      "\t|      default     |   2   |   2   |   2   |   0   ||   2   |   2   |\n",
      "\t---------------------------------------------------------------------\n",
      ":: retrieving :: org.apache.spark#spark-submit-parent-7f68ac86-3109-412b-b17c-6969ae90ff39\n",
      "\tconfs: [default]\n",
      "\t2 artifacts copied, 0 already retrieved (281kB/5ms)\n"
     ]
    },
    {
     "name": "stdout",
     "output_type": "stream",
     "text": [
      "23/03/30 22:02:26 WARN NativeCodeLoader: Unable to load native-hadoop library for your platform... using builtin-java classes where applicable\n"
     ]
    },
    {
     "name": "stderr",
     "output_type": "stream",
     "text": [
      "Setting default log level to \"WARN\".\n",
      "To adjust logging level use sc.setLogLevel(newLevel). For SparkR, use setLogLevel(newLevel).\n"
     ]
    },
    {
     "name": "stdout",
     "output_type": "stream",
     "text": [
      "23/03/30 22:02:26 WARN SparkConf: Note that spark.local.dir will be overridden by the value set by the cluster manager (via SPARK_LOCAL_DIRS in mesos/standalone/kubernetes and LOCAL_DIRS in YARN).\n"
     ]
    }
   ],
   "source": [
    "%run ./read_file.ipynb"
   ]
  },
  {
   "cell_type": "code",
   "execution_count": 2,
   "id": "16e819a0-bfe6-494a-8345-d1a02ba647b6",
   "metadata": {
    "tags": []
   },
   "outputs": [],
   "source": [
    "from graphframes import GraphFrame"
   ]
  },
  {
   "cell_type": "code",
   "execution_count": 3,
   "id": "1d82b393-d259-425d-a67b-1b85b90b895d",
   "metadata": {
    "tags": []
   },
   "outputs": [
    {
     "name": "stderr",
     "output_type": "stream",
     "text": [
      "                                                                                \r"
     ]
    },
    {
     "name": "stdout",
     "output_type": "stream",
     "text": [
      "10:02PM UTC on Mar 30, 2023 --- read time: 6.810409069061279 seconds ---\n"
     ]
    }
   ],
   "source": [
    "df = readFirstEvents().cache()"
   ]
  },
  {
   "cell_type": "code",
   "execution_count": 4,
   "id": "83ec62f6-3674-4052-9fbc-828f139cc006",
   "metadata": {
    "tags": []
   },
   "outputs": [
    {
     "name": "stderr",
     "output_type": "stream",
     "text": [
      "[Stage 1:=====================================================>   (15 + 1) / 16]\r"
     ]
    },
    {
     "name": "stdout",
     "output_type": "stream",
     "text": [
      "+---------+-------+\n",
      "|malicious|  count|\n",
      "+---------+-------+\n",
      "|        1|   8596|\n",
      "|        0|4587096|\n",
      "+---------+-------+\n",
      "\n"
     ]
    },
    {
     "name": "stderr",
     "output_type": "stream",
     "text": [
      "                                                                                \r"
     ]
    }
   ],
   "source": [
    "df.groupBy('malicious').count().show()"
   ]
  },
  {
   "cell_type": "code",
   "execution_count": 5,
   "id": "4bbd7c73-550b-4a71-af69-c8bc325144b6",
   "metadata": {
    "tags": []
   },
   "outputs": [
    {
     "name": "stderr",
     "output_type": "stream",
     "text": [
      "/home/ec2-user/anaconda3/envs/python3/lib/python3.10/site-packages/pyspark/sql/pandas/conversion.py:248: FutureWarning: Passing unit-less datetime64 dtype to .astype is deprecated and will raise in a future version. Pass 'datetime64[ns]' instead\n",
      "  series = series.astype(t, copy=False)\n"
     ]
    },
    {
     "data": {
      "text/html": [
       "<div>\n",
       "<style scoped>\n",
       "    .dataframe tbody tr th:only-of-type {\n",
       "        vertical-align: middle;\n",
       "    }\n",
       "\n",
       "    .dataframe tbody tr th {\n",
       "        vertical-align: top;\n",
       "    }\n",
       "\n",
       "    .dataframe thead th {\n",
       "        text-align: right;\n",
       "    }\n",
       "</style>\n",
       "<table border=\"1\" class=\"dataframe\">\n",
       "  <thead>\n",
       "    <tr style=\"text-align: right;\">\n",
       "      <th></th>\n",
       "      <th>id</th>\n",
       "      <th>timestamp</th>\n",
       "      <th>objectID</th>\n",
       "      <th>actorID</th>\n",
       "      <th>object</th>\n",
       "      <th>action</th>\n",
       "      <th>hostname</th>\n",
       "      <th>user_name</th>\n",
       "      <th>privileges</th>\n",
       "      <th>image_path</th>\n",
       "      <th>...</th>\n",
       "      <th>file_path</th>\n",
       "      <th>direction</th>\n",
       "      <th>logon_id</th>\n",
       "      <th>requesting_domain</th>\n",
       "      <th>requesting_user</th>\n",
       "      <th>event_minute</th>\n",
       "      <th>event_day</th>\n",
       "      <th>event_hour</th>\n",
       "      <th>malicious</th>\n",
       "      <th>relationship</th>\n",
       "    </tr>\n",
       "  </thead>\n",
       "  <tbody>\n",
       "    <tr>\n",
       "      <th>0</th>\n",
       "      <td>a6d975ba-5668-461b-bf1d-9eb73e4b9aec</td>\n",
       "      <td>2019-09-23 19:07:50.151</td>\n",
       "      <td>8b0a8788-d3bf-4a28-bfec-263be98860b3</td>\n",
       "      <td>0017062c-d130-46d7-816b-097845177ee4</td>\n",
       "      <td>FILE</td>\n",
       "      <td>READ</td>\n",
       "      <td>SysClient0351.systemia.com</td>\n",
       "      <td>None</td>\n",
       "      <td>None</td>\n",
       "      <td>\\Device\\HarddiskVolume1\\Program Files\\WindowsA...</td>\n",
       "      <td>...</td>\n",
       "      <td>\\Device\\HarddiskVolume1\\Users\\bbateman\\AppData...</td>\n",
       "      <td>None</td>\n",
       "      <td>None</td>\n",
       "      <td>None</td>\n",
       "      <td>None</td>\n",
       "      <td>7</td>\n",
       "      <td>23</td>\n",
       "      <td>19</td>\n",
       "      <td>0</td>\n",
       "      <td>0017062c-d130-46d7-816b-097845177ee4-&gt;8b0a8788...</td>\n",
       "    </tr>\n",
       "    <tr>\n",
       "      <th>1</th>\n",
       "      <td>42245fb4-1650-4671-a59f-4911ab5de377</td>\n",
       "      <td>2019-09-23 19:07:50.151</td>\n",
       "      <td>8b0a8788-d3bf-4a28-bfec-263be98860b3</td>\n",
       "      <td>0017062c-d130-46d7-816b-097845177ee4</td>\n",
       "      <td>FILE</td>\n",
       "      <td>MODIFY</td>\n",
       "      <td>SysClient0351.systemia.com</td>\n",
       "      <td>None</td>\n",
       "      <td>None</td>\n",
       "      <td>\\Device\\HarddiskVolume1\\Program Files\\WindowsA...</td>\n",
       "      <td>...</td>\n",
       "      <td>\\Device\\HarddiskVolume1\\Users\\bbateman\\AppData...</td>\n",
       "      <td>None</td>\n",
       "      <td>None</td>\n",
       "      <td>None</td>\n",
       "      <td>None</td>\n",
       "      <td>7</td>\n",
       "      <td>23</td>\n",
       "      <td>19</td>\n",
       "      <td>0</td>\n",
       "      <td>0017062c-d130-46d7-816b-097845177ee4-&gt;8b0a8788...</td>\n",
       "    </tr>\n",
       "  </tbody>\n",
       "</table>\n",
       "<p>2 rows × 22 columns</p>\n",
       "</div>"
      ],
      "text/plain": [
       "                                     id               timestamp  \\\n",
       "0  a6d975ba-5668-461b-bf1d-9eb73e4b9aec 2019-09-23 19:07:50.151   \n",
       "1  42245fb4-1650-4671-a59f-4911ab5de377 2019-09-23 19:07:50.151   \n",
       "\n",
       "                               objectID                               actorID  \\\n",
       "0  8b0a8788-d3bf-4a28-bfec-263be98860b3  0017062c-d130-46d7-816b-097845177ee4   \n",
       "1  8b0a8788-d3bf-4a28-bfec-263be98860b3  0017062c-d130-46d7-816b-097845177ee4   \n",
       "\n",
       "  object  action                    hostname user_name privileges  \\\n",
       "0   FILE    READ  SysClient0351.systemia.com      None       None   \n",
       "1   FILE  MODIFY  SysClient0351.systemia.com      None       None   \n",
       "\n",
       "                                          image_path  ...  \\\n",
       "0  \\Device\\HarddiskVolume1\\Program Files\\WindowsA...  ...   \n",
       "1  \\Device\\HarddiskVolume1\\Program Files\\WindowsA...  ...   \n",
       "\n",
       "                                           file_path direction logon_id  \\\n",
       "0  \\Device\\HarddiskVolume1\\Users\\bbateman\\AppData...      None     None   \n",
       "1  \\Device\\HarddiskVolume1\\Users\\bbateman\\AppData...      None     None   \n",
       "\n",
       "  requesting_domain requesting_user event_minute event_day  event_hour  \\\n",
       "0              None            None            7        23          19   \n",
       "1              None            None            7        23          19   \n",
       "\n",
       "   malicious                                       relationship  \n",
       "0          0  0017062c-d130-46d7-816b-097845177ee4->8b0a8788...  \n",
       "1          0  0017062c-d130-46d7-816b-097845177ee4->8b0a8788...  \n",
       "\n",
       "[2 rows x 22 columns]"
      ]
     },
     "execution_count": 5,
     "metadata": {},
     "output_type": "execute_result"
    }
   ],
   "source": [
    "df.limit(2).toPandas()"
   ]
  },
  {
   "cell_type": "code",
   "execution_count": 6,
   "id": "5cbf0110-c347-40ec-9d2c-1dd0c50a8b89",
   "metadata": {
    "tags": []
   },
   "outputs": [
    {
     "name": "stdout",
     "output_type": "stream",
     "text": [
      "root\n",
      " |-- id: string (nullable = true)\n",
      " |-- timestamp: timestamp (nullable = true)\n",
      " |-- objectID: string (nullable = true)\n",
      " |-- actorID: string (nullable = true)\n",
      " |-- object: string (nullable = true)\n",
      " |-- action: string (nullable = true)\n",
      " |-- hostname: string (nullable = true)\n",
      " |-- user_name: string (nullable = true)\n",
      " |-- privileges: string (nullable = true)\n",
      " |-- image_path: string (nullable = true)\n",
      " |-- parent_image_path: string (nullable = true)\n",
      " |-- new_path: string (nullable = true)\n",
      " |-- file_path: string (nullable = true)\n",
      " |-- direction: string (nullable = true)\n",
      " |-- logon_id: string (nullable = true)\n",
      " |-- requesting_domain: string (nullable = true)\n",
      " |-- requesting_user: string (nullable = true)\n",
      " |-- event_minute: integer (nullable = true)\n",
      " |-- event_day: integer (nullable = true)\n",
      " |-- event_hour: integer (nullable = true)\n",
      " |-- malicious: integer (nullable = true)\n",
      " |-- relationship: string (nullable = true)\n",
      "\n"
     ]
    }
   ],
   "source": [
    "df.printSchema()"
   ]
  },
  {
   "cell_type": "code",
   "execution_count": 6,
   "id": "f92cc1f9-6151-4ebf-83dc-0315e0bfdf50",
   "metadata": {
    "tags": []
   },
   "outputs": [
    {
     "data": {
      "text/plain": [
       "4595692"
      ]
     },
     "execution_count": 6,
     "metadata": {},
     "output_type": "execute_result"
    }
   ],
   "source": [
    "#how big is this dataset with just first events? And how does the relationship work? \n",
    "df.count()"
   ]
  },
  {
   "cell_type": "code",
   "execution_count": 7,
   "id": "e63f6333-4d93-4abc-a338-1b8fba776ac0",
   "metadata": {
    "tags": []
   },
   "outputs": [
    {
     "name": "stdout",
     "output_type": "stream",
     "text": [
      "+---------+\n",
      "|event_day|\n",
      "+---------+\n",
      "|       23|\n",
      "|       24|\n",
      "|       25|\n",
      "+---------+\n",
      "\n"
     ]
    }
   ],
   "source": [
    "#What days are represented? \n",
    "df.select('event_day').distinct().orderBy('event_day').show()"
   ]
  },
  {
   "cell_type": "code",
   "execution_count": 8,
   "id": "5780d679-e862-4ead-ae25-c6b22a9e7680",
   "metadata": {
    "tags": []
   },
   "outputs": [
    {
     "name": "stdout",
     "output_type": "stream",
     "text": [
      "+----------+\n",
      "|event_hour|\n",
      "+----------+\n",
      "|         0|\n",
      "|         1|\n",
      "|         2|\n",
      "|         3|\n",
      "|         4|\n",
      "|         5|\n",
      "|         6|\n",
      "|         7|\n",
      "|         8|\n",
      "|         9|\n",
      "|        10|\n",
      "|        11|\n",
      "|        12|\n",
      "|        13|\n",
      "|        14|\n",
      "|        15|\n",
      "|        16|\n",
      "|        17|\n",
      "|        18|\n",
      "|        19|\n",
      "|        20|\n",
      "|        21|\n",
      "|        22|\n",
      "|        23|\n",
      "+----------+\n",
      "\n"
     ]
    }
   ],
   "source": [
    "#how many hours? \n",
    "df.select('event_hour').distinct().orderBy('event_hour').show(25)\n",
    "#I see all hours which means we likely filtered on 23 before we enmbarked on this journey. I think this might mean\n",
    "#we have all the events. Exciting. "
   ]
  },
  {
   "cell_type": "code",
   "execution_count": 9,
   "id": "5c76325b-0020-4990-bae7-98fcf33a5026",
   "metadata": {
    "tags": []
   },
   "outputs": [
    {
     "data": {
      "text/plain": [
       "4587096"
      ]
     },
     "execution_count": 9,
     "metadata": {},
     "output_type": "execute_result"
    }
   ],
   "source": [
    "df_benign = df.where(col('malicious') == 0)\n",
    "df_benign.count()"
   ]
  },
  {
   "cell_type": "code",
   "execution_count": 10,
   "id": "3f069fd2-e9fa-4d6e-a2fb-da597c8f9782",
   "metadata": {
    "tags": []
   },
   "outputs": [],
   "source": [
    "df_benign_lim = df_benign.limit(500000)"
   ]
  },
  {
   "cell_type": "code",
   "execution_count": 11,
   "id": "f7181d9d-9752-40a7-8e03-2aa57e723b26",
   "metadata": {
    "tags": []
   },
   "outputs": [
    {
     "data": {
      "text/plain": [
       "8596"
      ]
     },
     "execution_count": 11,
     "metadata": {},
     "output_type": "execute_result"
    }
   ],
   "source": [
    "df_mal = df.where(col('malicious') == 1)\n",
    "df_mal.count()\n",
    "#I'm not thrilled that the malicious count isn't even close to what was shown in the paper"
   ]
  },
  {
   "cell_type": "code",
   "execution_count": 12,
   "id": "e003fe3c-d279-4a2c-8bfd-04a14c29e24c",
   "metadata": {
    "tags": []
   },
   "outputs": [
    {
     "name": "stdout",
     "output_type": "stream",
     "text": [
      "image paths: 252\n",
      "parent paths: 226\n"
     ]
    },
    {
     "name": "stderr",
     "output_type": "stream",
     "text": [
      "                                                                                \r"
     ]
    }
   ],
   "source": [
    "print(\"image paths: \" + str(df.select(\"image_path\").distinct().count()))\n",
    "print(\"parent paths: \" + str(df.select(\"parent_image_path\").distinct().count()))"
   ]
  },
  {
   "cell_type": "code",
   "execution_count": 13,
   "id": "4630d609-0c68-48cb-937d-62e34acba055",
   "metadata": {
    "tags": []
   },
   "outputs": [],
   "source": [
    "# df = df.limit(1000).cache()"
   ]
  },
  {
   "cell_type": "code",
   "execution_count": 14,
   "id": "a0a38212-2419-45cc-aaf6-147214928c82",
   "metadata": {
    "tags": []
   },
   "outputs": [
    {
     "data": {
      "text/plain": [
       "4595692"
      ]
     },
     "execution_count": 14,
     "metadata": {},
     "output_type": "execute_result"
    }
   ],
   "source": [
    "df.count()"
   ]
  },
  {
   "cell_type": "code",
   "execution_count": 15,
   "id": "d9682e4b-d89c-4e7d-8640-7bb7b29d3d80",
   "metadata": {
    "tags": []
   },
   "outputs": [
    {
     "name": "stderr",
     "output_type": "stream",
     "text": [
      "/home/ec2-user/anaconda3/envs/python3/lib/python3.10/site-packages/pyspark/sql/dataframe.py:148: UserWarning: DataFrame.sql_ctx is an internal property, and will be removed in future releases. Use DataFrame.sparkSession instead.\n",
      "  warnings.warn(\n"
     ]
    }
   ],
   "source": [
    "# Create distinct vertices with source as actorid, destination as objectid\n",
    "src_vertices = df_benign_lim.selectExpr('actorID as id').distinct()\n",
    "dst_vertices = df_benign_lim.selectExpr('objectID as id').distinct()\n",
    "vertices = src_vertices.union(dst_vertices).distinct()\n",
    "\n",
    "# Create edges by using timestamp as an edge\n",
    "edges = df_benign_lim.selectExpr('actorID as src', 'objectID as dst', 'timestamp', 'object', 'action', 'hostname', 'user_name', 'privileges', 'image_path',\n",
    "                      'parent_image_path', 'new_path', 'file_path', 'direction', 'logon_id', 'requesting_domain', 'requesting_user', 'malicious')\n",
    "\n",
    "# Create GraphFrame\n",
    "g = GraphFrame(vertices, edges)"
   ]
  },
  {
   "cell_type": "code",
   "execution_count": 16,
   "id": "88890a54-58e8-4fd0-81c1-7e58f2321755",
   "metadata": {
    "tags": []
   },
   "outputs": [],
   "source": [
    "# Create distinct vertices with source as actorid, destination as objectid for malicious\n",
    "src_vertices = df_mal.selectExpr('actorID as id').distinct()\n",
    "dst_vertices = df_mal.selectExpr('objectID as id').distinct()\n",
    "vertices = src_vertices.union(dst_vertices).distinct()\n",
    "\n",
    "# Create edges by using timestamp as an edge\n",
    "edges = df_mal.selectExpr('actorID as src', 'objectID as dst', 'timestamp', 'object', 'action', 'hostname', 'user_name', 'privileges', 'image_path',\n",
    "                      'parent_image_path', 'new_path', 'file_path', 'direction', 'logon_id', 'requesting_domain', 'requesting_user', 'malicious')\n",
    "\n",
    "# Create GraphFrame\n",
    "g = GraphFrame(vertices, edges)"
   ]
  },
  {
   "cell_type": "code",
   "execution_count": 17,
   "id": "8c13cded-2d30-48d5-8d5a-2d0ee224a775",
   "metadata": {
    "tags": []
   },
   "outputs": [
    {
     "name": "stdout",
     "output_type": "stream",
     "text": [
      "Vertices:\n"
     ]
    },
    {
     "data": {
      "text/html": [
       "<div>\n",
       "<style scoped>\n",
       "    .dataframe tbody tr th:only-of-type {\n",
       "        vertical-align: middle;\n",
       "    }\n",
       "\n",
       "    .dataframe tbody tr th {\n",
       "        vertical-align: top;\n",
       "    }\n",
       "\n",
       "    .dataframe thead th {\n",
       "        text-align: right;\n",
       "    }\n",
       "</style>\n",
       "<table border=\"1\" class=\"dataframe\">\n",
       "  <thead>\n",
       "    <tr style=\"text-align: right;\">\n",
       "      <th></th>\n",
       "      <th>id</th>\n",
       "    </tr>\n",
       "  </thead>\n",
       "  <tbody>\n",
       "    <tr>\n",
       "      <th>0</th>\n",
       "      <td>b9955edc-eccc-4948-8c2f-4cc6608c1e27</td>\n",
       "    </tr>\n",
       "    <tr>\n",
       "      <th>1</th>\n",
       "      <td>d5846376-9596-4283-8505-8e6112abf1f2</td>\n",
       "    </tr>\n",
       "  </tbody>\n",
       "</table>\n",
       "</div>"
      ],
      "text/plain": [
       "                                     id\n",
       "0  b9955edc-eccc-4948-8c2f-4cc6608c1e27\n",
       "1  d5846376-9596-4283-8505-8e6112abf1f2"
      ]
     },
     "execution_count": 17,
     "metadata": {},
     "output_type": "execute_result"
    }
   ],
   "source": [
    "# display the vertices\n",
    "print(\"Vertices:\")\n",
    "g.vertices.limit(2).toPandas()"
   ]
  },
  {
   "cell_type": "code",
   "execution_count": 18,
   "id": "c29d12c6-e084-4fe5-872d-e1f64b221a69",
   "metadata": {
    "tags": []
   },
   "outputs": [
    {
     "name": "stdout",
     "output_type": "stream",
     "text": [
      "Edges:\n"
     ]
    },
    {
     "name": "stderr",
     "output_type": "stream",
     "text": [
      "/home/ec2-user/anaconda3/envs/python3/lib/python3.10/site-packages/pyspark/sql/pandas/conversion.py:248: FutureWarning: Passing unit-less datetime64 dtype to .astype is deprecated and will raise in a future version. Pass 'datetime64[ns]' instead\n",
      "  series = series.astype(t, copy=False)\n"
     ]
    },
    {
     "data": {
      "text/html": [
       "<div>\n",
       "<style scoped>\n",
       "    .dataframe tbody tr th:only-of-type {\n",
       "        vertical-align: middle;\n",
       "    }\n",
       "\n",
       "    .dataframe tbody tr th {\n",
       "        vertical-align: top;\n",
       "    }\n",
       "\n",
       "    .dataframe thead th {\n",
       "        text-align: right;\n",
       "    }\n",
       "</style>\n",
       "<table border=\"1\" class=\"dataframe\">\n",
       "  <thead>\n",
       "    <tr style=\"text-align: right;\">\n",
       "      <th></th>\n",
       "      <th>src</th>\n",
       "      <th>dst</th>\n",
       "      <th>timestamp</th>\n",
       "      <th>object</th>\n",
       "      <th>action</th>\n",
       "      <th>hostname</th>\n",
       "      <th>user_name</th>\n",
       "      <th>privileges</th>\n",
       "      <th>image_path</th>\n",
       "      <th>parent_image_path</th>\n",
       "      <th>new_path</th>\n",
       "      <th>file_path</th>\n",
       "      <th>direction</th>\n",
       "      <th>logon_id</th>\n",
       "      <th>requesting_domain</th>\n",
       "      <th>requesting_user</th>\n",
       "      <th>malicious</th>\n",
       "    </tr>\n",
       "  </thead>\n",
       "  <tbody>\n",
       "    <tr>\n",
       "      <th>0</th>\n",
       "      <td>054df7d9-801e-49d0-b8cd-4f20b42a4305</td>\n",
       "      <td>a829facc-8645-4084-a606-e66f8f07c58c</td>\n",
       "      <td>2019-09-24 15:09:59.426</td>\n",
       "      <td>SHELL</td>\n",
       "      <td>COMMAND</td>\n",
       "      <td>SysClient0501.systemia.com</td>\n",
       "      <td>None</td>\n",
       "      <td>None</td>\n",
       "      <td>\\Device\\HarddiskVolume1\\Windows\\System32\\Windo...</td>\n",
       "      <td>None</td>\n",
       "      <td>None</td>\n",
       "      <td>None</td>\n",
       "      <td>None</td>\n",
       "      <td>None</td>\n",
       "      <td>None</td>\n",
       "      <td>None</td>\n",
       "      <td>1</td>\n",
       "    </tr>\n",
       "    <tr>\n",
       "      <th>1</th>\n",
       "      <td>266392d7-012e-479b-a43a-fd5190bf22ac</td>\n",
       "      <td>d831de20-4434-4791-8d07-aa27286766c7</td>\n",
       "      <td>2019-09-24 19:41:17.964</td>\n",
       "      <td>FILE</td>\n",
       "      <td>READ</td>\n",
       "      <td>SysClient0851.systemia.com</td>\n",
       "      <td>None</td>\n",
       "      <td>None</td>\n",
       "      <td>powershell.exe</td>\n",
       "      <td>None</td>\n",
       "      <td>None</td>\n",
       "      <td>\\Device\\HarddiskVolume1\\Windows\\Prefetch\\POWER...</td>\n",
       "      <td>None</td>\n",
       "      <td>None</td>\n",
       "      <td>None</td>\n",
       "      <td>None</td>\n",
       "      <td>1</td>\n",
       "    </tr>\n",
       "  </tbody>\n",
       "</table>\n",
       "</div>"
      ],
      "text/plain": [
       "                                    src                                   dst  \\\n",
       "0  054df7d9-801e-49d0-b8cd-4f20b42a4305  a829facc-8645-4084-a606-e66f8f07c58c   \n",
       "1  266392d7-012e-479b-a43a-fd5190bf22ac  d831de20-4434-4791-8d07-aa27286766c7   \n",
       "\n",
       "                timestamp object   action                    hostname  \\\n",
       "0 2019-09-24 15:09:59.426  SHELL  COMMAND  SysClient0501.systemia.com   \n",
       "1 2019-09-24 19:41:17.964   FILE     READ  SysClient0851.systemia.com   \n",
       "\n",
       "  user_name privileges                                         image_path  \\\n",
       "0      None       None  \\Device\\HarddiskVolume1\\Windows\\System32\\Windo...   \n",
       "1      None       None                                     powershell.exe   \n",
       "\n",
       "  parent_image_path new_path  \\\n",
       "0              None     None   \n",
       "1              None     None   \n",
       "\n",
       "                                           file_path direction logon_id  \\\n",
       "0                                               None      None     None   \n",
       "1  \\Device\\HarddiskVolume1\\Windows\\Prefetch\\POWER...      None     None   \n",
       "\n",
       "  requesting_domain requesting_user  malicious  \n",
       "0              None            None          1  \n",
       "1              None            None          1  "
      ]
     },
     "execution_count": 18,
     "metadata": {},
     "output_type": "execute_result"
    }
   ],
   "source": [
    "# display the edges\n",
    "print(\"Edges:\")\n",
    "g.edges.limit(2).toPandas()"
   ]
  },
  {
   "cell_type": "code",
   "execution_count": 19,
   "id": "7c58e3ea-1a02-49de-8b36-b13e3e6e85a4",
   "metadata": {
    "tags": []
   },
   "outputs": [
    {
     "name": "stderr",
     "output_type": "stream",
     "text": [
      "/home/ec2-user/anaconda3/envs/python3/lib/python3.10/site-packages/pyspark/sql/dataframe.py:127: UserWarning: DataFrame constructor is internal. Do not directly use it.\n",
      "  warnings.warn(\"DataFrame constructor is internal. Do not directly use it.\")\n"
     ]
    },
    {
     "data": {
      "text/html": [
       "<div>\n",
       "<style scoped>\n",
       "    .dataframe tbody tr th:only-of-type {\n",
       "        vertical-align: middle;\n",
       "    }\n",
       "\n",
       "    .dataframe tbody tr th {\n",
       "        vertical-align: top;\n",
       "    }\n",
       "\n",
       "    .dataframe thead th {\n",
       "        text-align: right;\n",
       "    }\n",
       "</style>\n",
       "<table border=\"1\" class=\"dataframe\">\n",
       "  <thead>\n",
       "    <tr style=\"text-align: right;\">\n",
       "      <th></th>\n",
       "      <th>id</th>\n",
       "      <th>inDegree</th>\n",
       "    </tr>\n",
       "  </thead>\n",
       "  <tbody>\n",
       "    <tr>\n",
       "      <th>0</th>\n",
       "      <td>3b37b7f2-8d76-484c-9b27-e9c9808ccb0f</td>\n",
       "      <td>1</td>\n",
       "    </tr>\n",
       "    <tr>\n",
       "      <th>1</th>\n",
       "      <td>5d2847ec-878c-4e52-93b3-61427344e69c</td>\n",
       "      <td>1</td>\n",
       "    </tr>\n",
       "  </tbody>\n",
       "</table>\n",
       "</div>"
      ],
      "text/plain": [
       "                                     id  inDegree\n",
       "0  3b37b7f2-8d76-484c-9b27-e9c9808ccb0f         1\n",
       "1  5d2847ec-878c-4e52-93b3-61427344e69c         1"
      ]
     },
     "execution_count": 19,
     "metadata": {},
     "output_type": "execute_result"
    }
   ],
   "source": [
    "g.inDegrees.limit(2).toPandas()"
   ]
  },
  {
   "cell_type": "code",
   "execution_count": 20,
   "id": "c3ed0ae8-de35-47d6-b9b8-bc6ed6e52a9f",
   "metadata": {
    "tags": []
   },
   "outputs": [
    {
     "name": "stderr",
     "output_type": "stream",
     "text": [
      "/home/ec2-user/anaconda3/envs/python3/lib/python3.10/site-packages/pyspark/sql/dataframe.py:127: UserWarning: DataFrame constructor is internal. Do not directly use it.\n",
      "  warnings.warn(\"DataFrame constructor is internal. Do not directly use it.\")\n"
     ]
    }
   ],
   "source": [
    "# find all paths of length 6 in the graph\n",
    "# Handling null values in shorter length \n",
    "motifs2 = g.find(\"(a)-[e1]->(b); (b)-[e2]->(c)\")\n",
    "#motifs6 = g.find(\"(a)-[e1]->(b); (b)-[e2]->(c); (c)-[e3]->(d)\")\n",
    "motifs6 = g.find(\"(a)-[e1]->(b); (b)-[e2]->(c); (c)-[e3]->(d); (d)-[e4]->(e); (e)-[e5]->(f); (f)-[e6]->(g)\")"
   ]
  },
  {
   "cell_type": "markdown",
   "id": "d8da63cb-161a-4902-9ed6-380d51f1decd",
   "metadata": {},
   "source": [
    "## PageRank"
   ]
  },
  {
   "cell_type": "markdown",
   "id": "20a643d1-38d7-4a32-a8c1-d0bff17f8643",
   "metadata": {},
   "source": [
    "PageRank is an algorithm to measure the importance of web pages based on the structure of the web. \n",
    "\n",
    "The core idea behind PageRank is that a link from one page to another can be considered as a \"vote\" for the destination page. A page with more votes (incoming links) is considered more important. However, not all votes are equal – a vote from a more important page carries more weight than a vote from a less important page."
   ]
  },
  {
   "cell_type": "markdown",
   "id": "3016b03e-ed4e-45a5-9a34-d1907c156481",
   "metadata": {},
   "source": [
    "Parameters:  resetProbability determines the probability of a random web surfer continuing to click on links, while maxIter sets the maximum number of iterations for the PageRank algorithm to converge."
   ]
  },
  {
   "cell_type": "markdown",
   "id": "69055217-da56-4b82-a63e-718e053e13e3",
   "metadata": {
    "tags": []
   },
   "source": [
    "#### PageRank on Graph Nodes"
   ]
  },
  {
   "cell_type": "code",
   "execution_count": 7,
   "id": "a29eee6f-9e59-4e41-87d6-9f4f3bc92952",
   "metadata": {
    "tags": []
   },
   "outputs": [
    {
     "ename": "NameError",
     "evalue": "name 'g' is not defined",
     "output_type": "error",
     "traceback": [
      "\u001b[0;31m---------------------------------------------------------------------------\u001b[0m",
      "\u001b[0;31mNameError\u001b[0m                                 Traceback (most recent call last)",
      "Cell \u001b[0;32mIn[7], line 1\u001b[0m\n\u001b[0;32m----> 1\u001b[0m pagerank \u001b[38;5;241m=\u001b[39m \u001b[43mg\u001b[49m\u001b[38;5;241m.\u001b[39mpageRank(resetProbability\u001b[38;5;241m=\u001b[39m\u001b[38;5;241m0.15\u001b[39m, maxIter\u001b[38;5;241m=\u001b[39m\u001b[38;5;241m10\u001b[39m)\n",
      "\u001b[0;31mNameError\u001b[0m: name 'g' is not defined"
     ]
    }
   ],
   "source": [
    "pagerank = g.pageRank(resetProbability=0.15, maxIter=10)\n"
   ]
  },
  {
   "cell_type": "code",
   "execution_count": null,
   "id": "5dca4420-aa85-4969-bf34-aa7b18bd177c",
   "metadata": {
    "tags": []
   },
   "outputs": [],
   "source": [
    "from pyspark.sql import functions as F\n",
    "\n",
    "sorted_pagerank_vertices = pagerank_vertices.orderBy(F.desc(\"pagerank\"))\n",
    "sorted_pagerank_vertices.show()\n"
   ]
  },
  {
   "cell_type": "markdown",
   "id": "064cb368-35d6-445e-8119-2c04aad47d9e",
   "metadata": {
    "tags": []
   },
   "source": [
    "#### PageRank on Motifs"
   ]
  },
  {
   "cell_type": "code",
   "execution_count": 38,
   "id": "9bb3b2b9-25ff-4591-a400-f21fcdef4d1d",
   "metadata": {
    "tags": []
   },
   "outputs": [],
   "source": [
    "motifs = g.find(\"(a)-[e1]->(b); (b)-[e2]->(c)\")"
   ]
  },
  {
   "cell_type": "code",
   "execution_count": 39,
   "id": "0ce8de63-1622-40cb-a552-98e215264dd2",
   "metadata": {
    "tags": []
   },
   "outputs": [],
   "source": [
    "motif_vertices = (\n",
    "    motifs.selectExpr(\"a.id as id\")\n",
    "    .union(motifs.selectExpr(\"b.id as id\"))\n",
    "    .union(motifs.selectExpr(\"c.id as id\"))\n",
    "    .distinct()\n",
    ")\n",
    "motif_edges = (\n",
    "    motifs.selectExpr(\"e1.src as src\", \"e1.dst as dst\")\n",
    "    .union(motifs.selectExpr(\"e2.src as src\", \"e2.dst as dst\"))\n",
    "    .distinct()\n",
    ")"
   ]
  },
  {
   "cell_type": "code",
   "execution_count": 40,
   "id": "0afda367-96b6-45eb-9ea2-1685675c43cd",
   "metadata": {
    "tags": []
   },
   "outputs": [
    {
     "name": "stderr",
     "output_type": "stream",
     "text": [
      "                                                                                ]\r"
     ]
    }
   ],
   "source": [
    "motif_graph = GraphFrame(motif_vertices, motif_edges)\n",
    "motif_pagerank = motif_graph.pageRank(resetProbability=0.15, maxIter=10)\n"
   ]
  },
  {
   "cell_type": "code",
   "execution_count": 42,
   "id": "6aae369e-0d71-4732-8599-496ff7940f49",
   "metadata": {
    "tags": []
   },
   "outputs": [
    {
     "name": "stderr",
     "output_type": "stream",
     "text": [
      "                                                                                ]\r"
     ]
    },
    {
     "name": "stdout",
     "output_type": "stream",
     "text": [
      "+--------------------+------------------+\n",
      "|                  id|          pagerank|\n",
      "+--------------------+------------------+\n",
      "|b9955edc-eccc-494...|1.1587142223627234|\n",
      "|1006f812-b221-46f...|0.9891875357789084|\n",
      "|8916c2f9-2179-4e6...|1.0036714635584423|\n",
      "|054df7d9-801e-49d...|0.9980742101958321|\n",
      "|91cf6eed-6ee7-43a...|1.8323340295619621|\n",
      "|443c9039-ae6b-41a...|0.9972158034342056|\n",
      "|45b923f4-4f3a-4f0...| 1.001411402808524|\n",
      "|a9fda05d-c2e2-466...|0.9891875357789084|\n",
      "|03d91181-4d5e-473...|0.9891875357789084|\n",
      "|e0375037-23c7-4b9...|0.9891875357789084|\n",
      "|e68ba31f-8c2d-471...|0.9891875357789084|\n",
      "|003b14a0-43d3-488...|1.8299969411909802|\n",
      "|776b447e-7c07-44a...|0.9891875357789084|\n",
      "|1415fe71-91a1-423...|0.9891875357789084|\n",
      "|4b7c800a-1689-494...|0.9891875357789084|\n",
      "|c290c75e-a7ce-48b...|1.0224316379438259|\n",
      "|b2b03ca8-504e-48f...|1.4130353967922633|\n",
      "|97cfe185-0a9c-48d...|0.9891875357789084|\n",
      "|c239b575-3fc2-481...|0.9891875357789084|\n",
      "|f5d1c003-1f65-4a8...|0.9916131586956938|\n",
      "+--------------------+------------------+\n",
      "only showing top 20 rows\n",
      "\n"
     ]
    }
   ],
   "source": [
    "motif_pagerank_vertices = motif_pagerank.vertices\n",
    "motif_pagerank_vertices.show()\n"
   ]
  },
  {
   "cell_type": "code",
   "execution_count": 43,
   "id": "28a15bf5-adea-4c3d-bcd8-200c8e57b87f",
   "metadata": {
    "tags": []
   },
   "outputs": [
    {
     "name": "stderr",
     "output_type": "stream",
     "text": [
      "                                                                                ]\r"
     ]
    },
    {
     "data": {
      "text/html": [
       "<div>\n",
       "<style scoped>\n",
       "    .dataframe tbody tr th:only-of-type {\n",
       "        vertical-align: middle;\n",
       "    }\n",
       "\n",
       "    .dataframe tbody tr th {\n",
       "        vertical-align: top;\n",
       "    }\n",
       "\n",
       "    .dataframe thead th {\n",
       "        text-align: right;\n",
       "    }\n",
       "</style>\n",
       "<table border=\"1\" class=\"dataframe\">\n",
       "  <thead>\n",
       "    <tr style=\"text-align: right;\">\n",
       "      <th></th>\n",
       "      <th>id</th>\n",
       "      <th>pagerank</th>\n",
       "    </tr>\n",
       "  </thead>\n",
       "  <tbody>\n",
       "    <tr>\n",
       "      <th>35</th>\n",
       "      <td>3eea9071-9ceb-468a-ad89-9e3890833e52</td>\n",
       "      <td>1.833158</td>\n",
       "    </tr>\n",
       "    <tr>\n",
       "      <th>4</th>\n",
       "      <td>91cf6eed-6ee7-43aa-a2d0-62e81ca89e2e</td>\n",
       "      <td>1.832334</td>\n",
       "    </tr>\n",
       "    <tr>\n",
       "      <th>24</th>\n",
       "      <td>a52f6519-6265-4437-9f6c-3402fb245cc7</td>\n",
       "      <td>1.832059</td>\n",
       "    </tr>\n",
       "    <tr>\n",
       "      <th>31</th>\n",
       "      <td>5a60d1b7-1b06-4f19-b8df-fa8719a6d817</td>\n",
       "      <td>1.829997</td>\n",
       "    </tr>\n",
       "    <tr>\n",
       "      <th>51</th>\n",
       "      <td>70ba4f9c-e27b-4a34-8dce-303c00c227c2</td>\n",
       "      <td>1.829997</td>\n",
       "    </tr>\n",
       "    <tr>\n",
       "      <th>...</th>\n",
       "      <td>...</td>\n",
       "      <td>...</td>\n",
       "    </tr>\n",
       "    <tr>\n",
       "      <th>14</th>\n",
       "      <td>4b7c800a-1689-4941-adef-7365885e9859</td>\n",
       "      <td>0.989188</td>\n",
       "    </tr>\n",
       "    <tr>\n",
       "      <th>23</th>\n",
       "      <td>03b283ab-a1a0-42f2-9509-5c0cae5cadec</td>\n",
       "      <td>0.989188</td>\n",
       "    </tr>\n",
       "    <tr>\n",
       "      <th>42</th>\n",
       "      <td>8a6bcace-4bdc-4b4b-a544-7c4125181cf1</td>\n",
       "      <td>0.989188</td>\n",
       "    </tr>\n",
       "    <tr>\n",
       "      <th>25</th>\n",
       "      <td>22008aa6-3d47-43b2-9a1d-a7394dfc46c6</td>\n",
       "      <td>0.989188</td>\n",
       "    </tr>\n",
       "    <tr>\n",
       "      <th>10</th>\n",
       "      <td>e68ba31f-8c2d-4718-b479-5800199d4bbe</td>\n",
       "      <td>0.989188</td>\n",
       "    </tr>\n",
       "  </tbody>\n",
       "</table>\n",
       "<p>7501 rows × 2 columns</p>\n",
       "</div>"
      ],
      "text/plain": [
       "                                      id  pagerank\n",
       "35  3eea9071-9ceb-468a-ad89-9e3890833e52  1.833158\n",
       "4   91cf6eed-6ee7-43aa-a2d0-62e81ca89e2e  1.832334\n",
       "24  a52f6519-6265-4437-9f6c-3402fb245cc7  1.832059\n",
       "31  5a60d1b7-1b06-4f19-b8df-fa8719a6d817  1.829997\n",
       "51  70ba4f9c-e27b-4a34-8dce-303c00c227c2  1.829997\n",
       "..                                   ...       ...\n",
       "14  4b7c800a-1689-4941-adef-7365885e9859  0.989188\n",
       "23  03b283ab-a1a0-42f2-9509-5c0cae5cadec  0.989188\n",
       "42  8a6bcace-4bdc-4b4b-a544-7c4125181cf1  0.989188\n",
       "25  22008aa6-3d47-43b2-9a1d-a7394dfc46c6  0.989188\n",
       "10  e68ba31f-8c2d-4718-b479-5800199d4bbe  0.989188\n",
       "\n",
       "[7501 rows x 2 columns]"
      ]
     },
     "execution_count": 43,
     "metadata": {},
     "output_type": "execute_result"
    }
   ],
   "source": [
    "motif_pagerank_vertices.toPandas().sort_values(by='pagerank', ascending=False)\n"
   ]
  },
  {
   "cell_type": "code",
   "execution_count": 44,
   "id": "3971db47-b618-4d2b-bb42-7ae9ca07c2f9",
   "metadata": {
    "tags": []
   },
   "outputs": [
    {
     "data": {
      "text/html": [
       "<div>\n",
       "<style scoped>\n",
       "    .dataframe tbody tr th:only-of-type {\n",
       "        vertical-align: middle;\n",
       "    }\n",
       "\n",
       "    .dataframe tbody tr th {\n",
       "        vertical-align: top;\n",
       "    }\n",
       "\n",
       "    .dataframe thead th {\n",
       "        text-align: right;\n",
       "    }\n",
       "</style>\n",
       "<table border=\"1\" class=\"dataframe\">\n",
       "  <thead>\n",
       "    <tr style=\"text-align: right;\">\n",
       "      <th></th>\n",
       "      <th>id</th>\n",
       "      <th>pagerank</th>\n",
       "    </tr>\n",
       "  </thead>\n",
       "  <tbody>\n",
       "    <tr>\n",
       "      <th>23</th>\n",
       "      <td>03b283ab-a1a0-42f2-9509-5c0cae5cadec</td>\n",
       "      <td>0.989188</td>\n",
       "    </tr>\n",
       "    <tr>\n",
       "      <th>29</th>\n",
       "      <td>00fc2f36-4e80-441e-863f-2981650310d4</td>\n",
       "      <td>0.989188</td>\n",
       "    </tr>\n",
       "    <tr>\n",
       "      <th>28</th>\n",
       "      <td>7c2e762b-2b1c-48ca-ac35-b420fad104bf</td>\n",
       "      <td>0.989188</td>\n",
       "    </tr>\n",
       "    <tr>\n",
       "      <th>33</th>\n",
       "      <td>ceac4f73-2e78-425b-a119-e0caef83a15c</td>\n",
       "      <td>0.989188</td>\n",
       "    </tr>\n",
       "    <tr>\n",
       "      <th>26</th>\n",
       "      <td>ff233001-a7c6-438f-9e81-9a0a5a5fbb9b</td>\n",
       "      <td>0.989188</td>\n",
       "    </tr>\n",
       "    <tr>\n",
       "      <th>...</th>\n",
       "      <td>...</td>\n",
       "      <td>...</td>\n",
       "    </tr>\n",
       "    <tr>\n",
       "      <th>50</th>\n",
       "      <td>2d02ab42-4400-4049-baad-6dfae19c3c4c</td>\n",
       "      <td>1.829997</td>\n",
       "    </tr>\n",
       "    <tr>\n",
       "      <th>48</th>\n",
       "      <td>473d7954-6271-43b8-9984-702378220af2</td>\n",
       "      <td>1.829997</td>\n",
       "    </tr>\n",
       "    <tr>\n",
       "      <th>24</th>\n",
       "      <td>a52f6519-6265-4437-9f6c-3402fb245cc7</td>\n",
       "      <td>1.832059</td>\n",
       "    </tr>\n",
       "    <tr>\n",
       "      <th>4</th>\n",
       "      <td>91cf6eed-6ee7-43aa-a2d0-62e81ca89e2e</td>\n",
       "      <td>1.832334</td>\n",
       "    </tr>\n",
       "    <tr>\n",
       "      <th>35</th>\n",
       "      <td>3eea9071-9ceb-468a-ad89-9e3890833e52</td>\n",
       "      <td>1.833158</td>\n",
       "    </tr>\n",
       "  </tbody>\n",
       "</table>\n",
       "<p>7501 rows × 2 columns</p>\n",
       "</div>"
      ],
      "text/plain": [
       "                                      id  pagerank\n",
       "23  03b283ab-a1a0-42f2-9509-5c0cae5cadec  0.989188\n",
       "29  00fc2f36-4e80-441e-863f-2981650310d4  0.989188\n",
       "28  7c2e762b-2b1c-48ca-ac35-b420fad104bf  0.989188\n",
       "33  ceac4f73-2e78-425b-a119-e0caef83a15c  0.989188\n",
       "26  ff233001-a7c6-438f-9e81-9a0a5a5fbb9b  0.989188\n",
       "..                                   ...       ...\n",
       "50  2d02ab42-4400-4049-baad-6dfae19c3c4c  1.829997\n",
       "48  473d7954-6271-43b8-9984-702378220af2  1.829997\n",
       "24  a52f6519-6265-4437-9f6c-3402fb245cc7  1.832059\n",
       "4   91cf6eed-6ee7-43aa-a2d0-62e81ca89e2e  1.832334\n",
       "35  3eea9071-9ceb-468a-ad89-9e3890833e52  1.833158\n",
       "\n",
       "[7501 rows x 2 columns]"
      ]
     },
     "execution_count": 44,
     "metadata": {},
     "output_type": "execute_result"
    }
   ],
   "source": [
    "motif_pagerank_vertices.toPandas().sort_values(by='pagerank', ascending=True)"
   ]
  },
  {
   "cell_type": "markdown",
   "id": "4cb43d31-7d98-4f40-9e33-a6b8500b83bd",
   "metadata": {},
   "source": [
    "#### PageRank on entire graph"
   ]
  },
  {
   "cell_type": "code",
   "execution_count": 8,
   "id": "4d76fb14-aaa6-4198-892a-a2a80aac754b",
   "metadata": {
    "tags": []
   },
   "outputs": [
    {
     "name": "stderr",
     "output_type": "stream",
     "text": [
      "/home/ec2-user/anaconda3/envs/python3/lib/python3.10/site-packages/pyspark/sql/dataframe.py:148: UserWarning: DataFrame.sql_ctx is an internal property, and will be removed in future releases. Use DataFrame.sparkSession instead.\n",
      "  warnings.warn(\n"
     ]
    }
   ],
   "source": [
    "# Create distinct vertices with source as actorid, destination as objectid for malicious\n",
    "src_vertices = df.selectExpr('actorID as id').distinct()\n",
    "dst_vertices = df.selectExpr('objectID as id').distinct()\n",
    "vertices = src_vertices.union(dst_vertices).distinct()\n",
    "\n",
    "# Create edges by using timestamp as an edge\n",
    "edges = df.selectExpr('actorID as src', 'objectID as dst', 'timestamp', 'object', 'action', 'hostname', 'user_name', 'privileges', 'image_path',\n",
    "                      'parent_image_path', 'new_path', 'file_path', 'direction', 'logon_id', 'requesting_domain', 'requesting_user', 'malicious')\n",
    "\n",
    "# Create GraphFrame\n",
    "g = GraphFrame(vertices, edges)"
   ]
  },
  {
   "cell_type": "code",
   "execution_count": 9,
   "id": "0a10bb01-255b-4396-a521-8063572b35a1",
   "metadata": {
    "tags": []
   },
   "outputs": [
    {
     "name": "stderr",
     "output_type": "stream",
     "text": [
      "/home/ec2-user/anaconda3/envs/python3/lib/python3.10/site-packages/pyspark/sql/dataframe.py:127: UserWarning: DataFrame constructor is internal. Do not directly use it.\n",
      "  warnings.warn(\"DataFrame constructor is internal. Do not directly use it.\")\n"
     ]
    }
   ],
   "source": [
    "pagerank = g.pageRank(resetProbability=0.15, maxIter=10)\n"
   ]
  },
  {
   "cell_type": "code",
   "execution_count": 10,
   "id": "2e502634-e473-4a1b-8bfb-526023c10f44",
   "metadata": {
    "tags": []
   },
   "outputs": [
    {
     "name": "stderr",
     "output_type": "stream",
     "text": [
      "[Stage 470:===============================================>    (182 + 16) / 200]\r"
     ]
    },
    {
     "name": "stdout",
     "output_type": "stream",
     "text": [
      "+--------------------+------------------+\n",
      "|                  id|          pagerank|\n",
      "+--------------------+------------------+\n",
      "|000b6bbf-fddd-456...|0.7854181229490625|\n",
      "|00337abe-e61a-457...|0.7888185397157303|\n",
      "|009219d6-7a35-4b3...|0.7852968205119447|\n",
      "|00a9cd41-86da-47e...| 0.879210792864403|\n",
      "|00c9b78d-0976-407...|0.7863278023727065|\n",
      "|00d3180f-06c7-4aa...|0.7851355192126952|\n",
      "|0174d4d5-8c21-42f...|0.7853588175147581|\n",
      "|01c8b545-a730-401...|0.7855657324093682|\n",
      "|02261431-586c-4af...|0.7859869985533963|\n",
      "|03449652-f5b6-40e...|0.8499556501632949|\n",
      "|034a631a-d0f6-40e...|0.7914663631809927|\n",
      "|03f4bd3c-71e1-4c7...|0.7857893282667743|\n",
      "|04a95155-956e-431...|0.7858269640192371|\n",
      "|04f70a16-3008-4e4...|0.7855729950912167|\n",
      "|05a0ce8a-eff2-4a7...|0.7863529178971133|\n",
      "|05afe004-e76a-45c...|0.7878043775510711|\n",
      "|05b585f3-b8ec-4cf...|0.7878487180315622|\n",
      "|06561b96-23fe-41f...|0.7863117655137813|\n",
      "|06bf7bb8-532d-4c7...|0.7863328372834931|\n",
      "|06dc22ec-20cb-406...|0.7863869556667812|\n",
      "+--------------------+------------------+\n",
      "only showing top 20 rows\n",
      "\n"
     ]
    },
    {
     "name": "stderr",
     "output_type": "stream",
     "text": [
      "                                                                                \r"
     ]
    }
   ],
   "source": [
    "pagerank_vertices = pagerank.vertices\n",
    "pagerank_vertices.show()"
   ]
  },
  {
   "cell_type": "code",
   "execution_count": 11,
   "id": "4e1d5277-f161-4494-8e14-67f4289561d7",
   "metadata": {
    "tags": []
   },
   "outputs": [
    {
     "name": "stderr",
     "output_type": "stream",
     "text": [
      "                                                                                \r"
     ]
    },
    {
     "data": {
      "text/html": [
       "<div>\n",
       "<style scoped>\n",
       "    .dataframe tbody tr th:only-of-type {\n",
       "        vertical-align: middle;\n",
       "    }\n",
       "\n",
       "    .dataframe tbody tr th {\n",
       "        vertical-align: top;\n",
       "    }\n",
       "\n",
       "    .dataframe thead th {\n",
       "        text-align: right;\n",
       "    }\n",
       "</style>\n",
       "<table border=\"1\" class=\"dataframe\">\n",
       "  <thead>\n",
       "    <tr style=\"text-align: right;\">\n",
       "      <th></th>\n",
       "      <th>id</th>\n",
       "      <th>pagerank</th>\n",
       "    </tr>\n",
       "  </thead>\n",
       "  <tbody>\n",
       "    <tr>\n",
       "      <th>740158</th>\n",
       "      <td>df1e0448-d7e4-477d-8dbd-bb340d5a5316</td>\n",
       "      <td>760.874201</td>\n",
       "    </tr>\n",
       "    <tr>\n",
       "      <th>813105</th>\n",
       "      <td>96462285-60f5-4bf5-ba28-1fd441e7c5ae</td>\n",
       "      <td>513.036925</td>\n",
       "    </tr>\n",
       "    <tr>\n",
       "      <th>80932</th>\n",
       "      <td>52a9dec7-7fa4-4f54-8b6b-ed718737d8c2</td>\n",
       "      <td>504.581668</td>\n",
       "    </tr>\n",
       "    <tr>\n",
       "      <th>132270</th>\n",
       "      <td>79cb2b56-5926-4e3a-99d5-422200eeec75</td>\n",
       "      <td>503.292320</td>\n",
       "    </tr>\n",
       "    <tr>\n",
       "      <th>820967</th>\n",
       "      <td>2bb87777-9820-4c13-9cb9-b5f974b1a1b9</td>\n",
       "      <td>501.703641</td>\n",
       "    </tr>\n",
       "    <tr>\n",
       "      <th>...</th>\n",
       "      <td>...</td>\n",
       "      <td>...</td>\n",
       "    </tr>\n",
       "    <tr>\n",
       "      <th>190706</th>\n",
       "      <td>8a5822dc-f306-4620-b33f-6d293a4f32f7</td>\n",
       "      <td>0.785136</td>\n",
       "    </tr>\n",
       "    <tr>\n",
       "      <th>1266162</th>\n",
       "      <td>f79ab80f-51e7-4b6a-969d-2a9087069762</td>\n",
       "      <td>0.785136</td>\n",
       "    </tr>\n",
       "    <tr>\n",
       "      <th>190794</th>\n",
       "      <td>b8e2ac68-ae6a-484d-9578-39b9684d0b8f</td>\n",
       "      <td>0.785136</td>\n",
       "    </tr>\n",
       "    <tr>\n",
       "      <th>718084</th>\n",
       "      <td>54da1d84-ace4-4363-8725-b922c6102caa</td>\n",
       "      <td>0.785136</td>\n",
       "    </tr>\n",
       "    <tr>\n",
       "      <th>486871</th>\n",
       "      <td>ab90859b-ad0f-40a3-9e64-674475e2eb75</td>\n",
       "      <td>0.785136</td>\n",
       "    </tr>\n",
       "  </tbody>\n",
       "</table>\n",
       "<p>1766942 rows × 2 columns</p>\n",
       "</div>"
      ],
      "text/plain": [
       "                                           id    pagerank\n",
       "740158   df1e0448-d7e4-477d-8dbd-bb340d5a5316  760.874201\n",
       "813105   96462285-60f5-4bf5-ba28-1fd441e7c5ae  513.036925\n",
       "80932    52a9dec7-7fa4-4f54-8b6b-ed718737d8c2  504.581668\n",
       "132270   79cb2b56-5926-4e3a-99d5-422200eeec75  503.292320\n",
       "820967   2bb87777-9820-4c13-9cb9-b5f974b1a1b9  501.703641\n",
       "...                                       ...         ...\n",
       "190706   8a5822dc-f306-4620-b33f-6d293a4f32f7    0.785136\n",
       "1266162  f79ab80f-51e7-4b6a-969d-2a9087069762    0.785136\n",
       "190794   b8e2ac68-ae6a-484d-9578-39b9684d0b8f    0.785136\n",
       "718084   54da1d84-ace4-4363-8725-b922c6102caa    0.785136\n",
       "486871   ab90859b-ad0f-40a3-9e64-674475e2eb75    0.785136\n",
       "\n",
       "[1766942 rows x 2 columns]"
      ]
     },
     "execution_count": 11,
     "metadata": {},
     "output_type": "execute_result"
    }
   ],
   "source": [
    "pagerank_vertices.toPandas().sort_values(by='pagerank', ascending=False)"
   ]
  },
  {
   "cell_type": "code",
   "execution_count": 57,
   "id": "e5408cbe-ec8f-44ff-a5da-8a33941d8ada",
   "metadata": {
    "tags": []
   },
   "outputs": [
    {
     "name": "stderr",
     "output_type": "stream",
     "text": [
      "[Stage 6063:========================================>          (160 + 16) / 200]\r"
     ]
    },
    {
     "name": "stdout",
     "output_type": "stream",
     "text": [
      "+--------------------+------------------+----+\n",
      "|                  id|          pagerank|bins|\n",
      "+--------------------+------------------+----+\n",
      "|000b6bbf-fddd-456...|0.7854181229490625| 1.0|\n",
      "|00337abe-e61a-457...|0.7888185397157303| 1.0|\n",
      "|009219d6-7a35-4b3...|0.7852968205119447| 1.0|\n",
      "|00a9cd41-86da-47e...| 0.879210792864403| 1.0|\n",
      "|00c9b78d-0976-407...|0.7863278023727065| 1.0|\n",
      "|00d3180f-06c7-4aa...|0.7851355192126952| 1.0|\n",
      "|0174d4d5-8c21-42f...|0.7853588175147581| 1.0|\n",
      "|01c8b545-a730-401...|0.7855657324093682| 1.0|\n",
      "|02261431-586c-4af...|0.7859869985533963| 1.0|\n",
      "|03449652-f5b6-40e...|0.8499556501632949| 1.0|\n",
      "|034a631a-d0f6-40e...|0.7914663631809927| 1.0|\n",
      "|03f4bd3c-71e1-4c7...|0.7857893282667743| 1.0|\n",
      "|04a95155-956e-431...|0.7858269640192371| 1.0|\n",
      "|04f70a16-3008-4e4...|0.7855729950912167| 1.0|\n",
      "|05a0ce8a-eff2-4a7...|0.7863529178971133| 1.0|\n",
      "|05afe004-e76a-45c...|0.7878043775510711| 1.0|\n",
      "|05b585f3-b8ec-4cf...|0.7878487180315622| 1.0|\n",
      "|06561b96-23fe-41f...|0.7863117655137813| 1.0|\n",
      "|06bf7bb8-532d-4c7...|0.7863328372834931| 1.0|\n",
      "|06dc22ec-20cb-406...|0.7863869556667812| 1.0|\n",
      "+--------------------+------------------+----+\n",
      "only showing top 20 rows\n",
      "\n"
     ]
    },
    {
     "name": "stderr",
     "output_type": "stream",
     "text": [
      "                                                                                \r"
     ]
    }
   ],
   "source": [
    "from pyspark.ml.feature import Bucketizer\n",
    "from pyspark.sql.functions import col\n",
    "\n",
    "# if timestamp_bins exists then drop the column\n",
    "pagerank_vertices = pagerank_vertices.drop(\"bins\")\n",
    "\n",
    "# Calculate the bin size\n",
    "bin_size = (max_score - min_score) / 10\n",
    "\n",
    "# Create a Bucketizer to group the PageRank scores into 10 bins\n",
    "bucketizer = Bucketizer(splits=[float('-inf')] + [min_score + i*bin_size for i in range(1,10)] + [float('inf')], inputCol=\"pagerank\", outputCol=\"bins\")\n",
    "\n",
    "# Apply the Bucketizer to the DataFrame and add the new column\n",
    "pagerank_vertices = bucketizer.transform(pagerank_vertices)\n",
    "pagerank_vertices = pagerank_vertices.withColumn(\"bins\", col(\"bins\")+1)\n",
    "\n",
    "# Show the results\n",
    "pagerank_vertices.show()"
   ]
  },
  {
   "cell_type": "code",
   "execution_count": 58,
   "id": "08dd80b1-67c8-41ae-a594-8cdc2e1113f9",
   "metadata": {
    "tags": []
   },
   "outputs": [
    {
     "name": "stderr",
     "output_type": "stream",
     "text": [
      "                                                                                \r"
     ]
    },
    {
     "data": {
      "text/html": [
       "<div>\n",
       "<style scoped>\n",
       "    .dataframe tbody tr th:only-of-type {\n",
       "        vertical-align: middle;\n",
       "    }\n",
       "\n",
       "    .dataframe tbody tr th {\n",
       "        vertical-align: top;\n",
       "    }\n",
       "\n",
       "    .dataframe thead th {\n",
       "        text-align: right;\n",
       "    }\n",
       "</style>\n",
       "<table border=\"1\" class=\"dataframe\">\n",
       "  <thead>\n",
       "    <tr style=\"text-align: right;\">\n",
       "      <th></th>\n",
       "      <th>id</th>\n",
       "      <th>pagerank</th>\n",
       "      <th>bins</th>\n",
       "    </tr>\n",
       "  </thead>\n",
       "  <tbody>\n",
       "    <tr>\n",
       "      <th>740158</th>\n",
       "      <td>df1e0448-d7e4-477d-8dbd-bb340d5a5316</td>\n",
       "      <td>760.874201</td>\n",
       "      <td>10.0</td>\n",
       "    </tr>\n",
       "    <tr>\n",
       "      <th>813105</th>\n",
       "      <td>96462285-60f5-4bf5-ba28-1fd441e7c5ae</td>\n",
       "      <td>513.036925</td>\n",
       "      <td>7.0</td>\n",
       "    </tr>\n",
       "    <tr>\n",
       "      <th>80932</th>\n",
       "      <td>52a9dec7-7fa4-4f54-8b6b-ed718737d8c2</td>\n",
       "      <td>504.581668</td>\n",
       "      <td>7.0</td>\n",
       "    </tr>\n",
       "    <tr>\n",
       "      <th>132270</th>\n",
       "      <td>79cb2b56-5926-4e3a-99d5-422200eeec75</td>\n",
       "      <td>503.292320</td>\n",
       "      <td>7.0</td>\n",
       "    </tr>\n",
       "    <tr>\n",
       "      <th>820967</th>\n",
       "      <td>2bb87777-9820-4c13-9cb9-b5f974b1a1b9</td>\n",
       "      <td>501.703641</td>\n",
       "      <td>7.0</td>\n",
       "    </tr>\n",
       "    <tr>\n",
       "      <th>...</th>\n",
       "      <td>...</td>\n",
       "      <td>...</td>\n",
       "      <td>...</td>\n",
       "    </tr>\n",
       "    <tr>\n",
       "      <th>190706</th>\n",
       "      <td>8a5822dc-f306-4620-b33f-6d293a4f32f7</td>\n",
       "      <td>0.785136</td>\n",
       "      <td>1.0</td>\n",
       "    </tr>\n",
       "    <tr>\n",
       "      <th>1266162</th>\n",
       "      <td>f79ab80f-51e7-4b6a-969d-2a9087069762</td>\n",
       "      <td>0.785136</td>\n",
       "      <td>1.0</td>\n",
       "    </tr>\n",
       "    <tr>\n",
       "      <th>190794</th>\n",
       "      <td>b8e2ac68-ae6a-484d-9578-39b9684d0b8f</td>\n",
       "      <td>0.785136</td>\n",
       "      <td>1.0</td>\n",
       "    </tr>\n",
       "    <tr>\n",
       "      <th>718084</th>\n",
       "      <td>54da1d84-ace4-4363-8725-b922c6102caa</td>\n",
       "      <td>0.785136</td>\n",
       "      <td>1.0</td>\n",
       "    </tr>\n",
       "    <tr>\n",
       "      <th>486871</th>\n",
       "      <td>ab90859b-ad0f-40a3-9e64-674475e2eb75</td>\n",
       "      <td>0.785136</td>\n",
       "      <td>1.0</td>\n",
       "    </tr>\n",
       "  </tbody>\n",
       "</table>\n",
       "<p>1766942 rows × 3 columns</p>\n",
       "</div>"
      ],
      "text/plain": [
       "                                           id    pagerank  bins\n",
       "740158   df1e0448-d7e4-477d-8dbd-bb340d5a5316  760.874201  10.0\n",
       "813105   96462285-60f5-4bf5-ba28-1fd441e7c5ae  513.036925   7.0\n",
       "80932    52a9dec7-7fa4-4f54-8b6b-ed718737d8c2  504.581668   7.0\n",
       "132270   79cb2b56-5926-4e3a-99d5-422200eeec75  503.292320   7.0\n",
       "820967   2bb87777-9820-4c13-9cb9-b5f974b1a1b9  501.703641   7.0\n",
       "...                                       ...         ...   ...\n",
       "190706   8a5822dc-f306-4620-b33f-6d293a4f32f7    0.785136   1.0\n",
       "1266162  f79ab80f-51e7-4b6a-969d-2a9087069762    0.785136   1.0\n",
       "190794   b8e2ac68-ae6a-484d-9578-39b9684d0b8f    0.785136   1.0\n",
       "718084   54da1d84-ace4-4363-8725-b922c6102caa    0.785136   1.0\n",
       "486871   ab90859b-ad0f-40a3-9e64-674475e2eb75    0.785136   1.0\n",
       "\n",
       "[1766942 rows x 3 columns]"
      ]
     },
     "execution_count": 58,
     "metadata": {},
     "output_type": "execute_result"
    }
   ],
   "source": [
    "pagerank_vertices.toPandas().sort_values(by='pagerank', ascending=False)"
   ]
  },
  {
   "cell_type": "code",
   "execution_count": 59,
   "id": "ee729d55-1aa5-4eda-80a6-4cde5bdc7463",
   "metadata": {
    "tags": []
   },
   "outputs": [
    {
     "name": "stderr",
     "output_type": "stream",
     "text": [
      "                                                                                \r"
     ]
    },
    {
     "data": {
      "image/png": "[encoded data removed]",
      "text/plain": [
       "<Figure size 640x480 with 1 Axes>"
      ]
     },
     "metadata": {},
     "output_type": "display_data"
    }
   ],
   "source": [
    "import matplotlib.pyplot as plt\n",
    "\n",
    "# Group the DataFrame by the bins and count the number of rows in each group\n",
    "hist_data = pagerank_vertices.groupBy(\"bins\").count().orderBy(\"bins\").collect()\n",
    "\n",
    "# Extract the bin numbers and counts from the DataFrame\n",
    "bins = [row[\"bins\"] for row in hist_data]\n",
    "counts = [row[\"count\"] for row in hist_data]\n",
    "\n",
    "# Create a bar plot of the histogram data\n",
    "plt.bar(bins, counts, align='center')\n",
    "plt.xticks(range(1, 11))\n",
    "plt.xlabel('Bins')\n",
    "plt.ylabel('Frequency')\n",
    "plt.title('Histogram of PageRank Scores')\n",
    "plt.show()\n"
   ]
  },
  {
   "cell_type": "code",
   "execution_count": 60,
   "id": "5284f4b4-239e-443a-8138-9fcf344c941e",
   "metadata": {
    "tags": []
   },
   "outputs": [
    {
     "name": "stderr",
     "output_type": "stream",
     "text": [
      "[Stage 6484:==================================================> (194 + 6) / 200]\r"
     ]
    },
    {
     "name": "stdout",
     "output_type": "stream",
     "text": [
      "+----+-------+\n",
      "|bins|  count|\n",
      "+----+-------+\n",
      "| 1.0|1766866|\n",
      "| 2.0|     21|\n",
      "| 3.0|      2|\n",
      "| 5.0|      5|\n",
      "| 6.0|     15|\n",
      "| 7.0|     32|\n",
      "|10.0|      1|\n",
      "+----+-------+\n",
      "\n"
     ]
    },
    {
     "name": "stderr",
     "output_type": "stream",
     "text": [
      "                                                                                \r"
     ]
    }
   ],
   "source": [
    "from pyspark.sql.functions import count\n",
    "\n",
    "# Group the DataFrame by the bins and count the number of rows in each group\n",
    "bin_counts = pagerank_vertices.groupBy(\"bins\").agg(count(\"*\").alias(\"count\")).orderBy(\"bins\")\n",
    "\n",
    "# Show the results\n",
    "bin_counts.show()\n"
   ]
  },
  {
   "cell_type": "markdown",
   "id": "cff497d8-0179-423e-80b2-2a5ae6d07fb3",
   "metadata": {},
   "source": [
    "#### Quartiles"
   ]
  },
  {
   "cell_type": "code",
   "execution_count": 15,
   "id": "5acc51fb-ceb3-4ea9-9056-8e4ec77d8ee2",
   "metadata": {
    "tags": []
   },
   "outputs": [
    {
     "name": "stderr",
     "output_type": "stream",
     "text": [
      "                                                                                \r"
     ]
    }
   ],
   "source": [
    "from pyspark.sql.functions import col, udf\n",
    "from pyspark.sql.types import StringType\n",
    "import numpy as np\n",
    "\n",
    "\n",
    "pagerank_values = pagerank.vertices.select(\"pagerank\").rdd.flatMap(lambda x: x).collect()\n",
    "\n",
    "sorted_pagerank_values = sorted(pagerank_values)\n",
    "\n",
    "Q1 = np.percentile(sorted_pagerank_values, 25)\n",
    "Q2 = np.percentile(sorted_pagerank_values, 50)\n",
    "Q3 = np.percentile(sorted_pagerank_values, 75)\n",
    "\n",
    "def assign_quartile(score):\n",
    "    if score <= Q1:\n",
    "        return 'Q1'\n",
    "    elif score <= Q2:\n",
    "        return 'Q2'\n",
    "    elif score <= Q3:\n",
    "        return 'Q3'\n",
    "    else:\n",
    "        return 'Q4'\n",
    "\n",
    "quartile_udf = udf(assign_quartile, StringType())\n",
    "\n",
    "pagerank_with_quartiles = pagerank.vertices.withColumn(\"quartile\", quartile_udf(col(\"pagerank\")))\n",
    "\n"
   ]
  },
  {
   "cell_type": "code",
   "execution_count": 16,
   "id": "7a08eea1-196d-42cc-a9ff-1ff017f2ac04",
   "metadata": {
    "tags": []
   },
   "outputs": [
    {
     "name": "stderr",
     "output_type": "stream",
     "text": [
      "                                                                                \r"
     ]
    },
    {
     "data": {
      "text/html": [
       "<div>\n",
       "<style scoped>\n",
       "    .dataframe tbody tr th:only-of-type {\n",
       "        vertical-align: middle;\n",
       "    }\n",
       "\n",
       "    .dataframe tbody tr th {\n",
       "        vertical-align: top;\n",
       "    }\n",
       "\n",
       "    .dataframe thead th {\n",
       "        text-align: right;\n",
       "    }\n",
       "</style>\n",
       "<table border=\"1\" class=\"dataframe\">\n",
       "  <thead>\n",
       "    <tr style=\"text-align: right;\">\n",
       "      <th></th>\n",
       "      <th>id</th>\n",
       "      <th>pagerank</th>\n",
       "      <th>quartile</th>\n",
       "    </tr>\n",
       "  </thead>\n",
       "  <tbody>\n",
       "    <tr>\n",
       "      <th>0</th>\n",
       "      <td>000b6bbf-fddd-456d-806b-a47919bcab24</td>\n",
       "      <td>0.785418</td>\n",
       "      <td>Q1</td>\n",
       "    </tr>\n",
       "    <tr>\n",
       "      <th>1</th>\n",
       "      <td>00337abe-e61a-4570-bf01-3584647a760a</td>\n",
       "      <td>0.788819</td>\n",
       "      <td>Q3</td>\n",
       "    </tr>\n",
       "    <tr>\n",
       "      <th>2</th>\n",
       "      <td>009219d6-7a35-4b3a-9561-f8624d9c6d0c</td>\n",
       "      <td>0.785297</td>\n",
       "      <td>Q1</td>\n",
       "    </tr>\n",
       "    <tr>\n",
       "      <th>3</th>\n",
       "      <td>00a9cd41-86da-47ec-9c3d-3e4c7721ff0f</td>\n",
       "      <td>0.879211</td>\n",
       "      <td>Q4</td>\n",
       "    </tr>\n",
       "    <tr>\n",
       "      <th>4</th>\n",
       "      <td>00c9b78d-0976-407d-ad6b-af7b14492485</td>\n",
       "      <td>0.786328</td>\n",
       "      <td>Q2</td>\n",
       "    </tr>\n",
       "    <tr>\n",
       "      <th>...</th>\n",
       "      <td>...</td>\n",
       "      <td>...</td>\n",
       "      <td>...</td>\n",
       "    </tr>\n",
       "    <tr>\n",
       "      <th>1766937</th>\n",
       "      <td>faa53506-4f36-4fb0-85a0-c65077de2e23</td>\n",
       "      <td>13.581664</td>\n",
       "      <td>Q4</td>\n",
       "    </tr>\n",
       "    <tr>\n",
       "      <th>1766938</th>\n",
       "      <td>faaa4bee-28d4-45ad-8e9f-daff5ed02e4d</td>\n",
       "      <td>0.786916</td>\n",
       "      <td>Q3</td>\n",
       "    </tr>\n",
       "    <tr>\n",
       "      <th>1766939</th>\n",
       "      <td>fc1f2163-5b38-423b-8c24-a53d5f35451f</td>\n",
       "      <td>0.785492</td>\n",
       "      <td>Q1</td>\n",
       "    </tr>\n",
       "    <tr>\n",
       "      <th>1766940</th>\n",
       "      <td>ff145f92-ede1-4332-aee0-ec89b6bf9c40</td>\n",
       "      <td>0.787091</td>\n",
       "      <td>Q3</td>\n",
       "    </tr>\n",
       "    <tr>\n",
       "      <th>1766941</th>\n",
       "      <td>ff63a24f-9958-46cd-84a6-08c2e6023172</td>\n",
       "      <td>0.798018</td>\n",
       "      <td>Q4</td>\n",
       "    </tr>\n",
       "  </tbody>\n",
       "</table>\n",
       "<p>1766942 rows × 3 columns</p>\n",
       "</div>"
      ],
      "text/plain": [
       "                                           id   pagerank quartile\n",
       "0        000b6bbf-fddd-456d-806b-a47919bcab24   0.785418       Q1\n",
       "1        00337abe-e61a-4570-bf01-3584647a760a   0.788819       Q3\n",
       "2        009219d6-7a35-4b3a-9561-f8624d9c6d0c   0.785297       Q1\n",
       "3        00a9cd41-86da-47ec-9c3d-3e4c7721ff0f   0.879211       Q4\n",
       "4        00c9b78d-0976-407d-ad6b-af7b14492485   0.786328       Q2\n",
       "...                                       ...        ...      ...\n",
       "1766937  faa53506-4f36-4fb0-85a0-c65077de2e23  13.581664       Q4\n",
       "1766938  faaa4bee-28d4-45ad-8e9f-daff5ed02e4d   0.786916       Q3\n",
       "1766939  fc1f2163-5b38-423b-8c24-a53d5f35451f   0.785492       Q1\n",
       "1766940  ff145f92-ede1-4332-aee0-ec89b6bf9c40   0.787091       Q3\n",
       "1766941  ff63a24f-9958-46cd-84a6-08c2e6023172   0.798018       Q4\n",
       "\n",
       "[1766942 rows x 3 columns]"
      ]
     },
     "execution_count": 16,
     "metadata": {},
     "output_type": "execute_result"
    }
   ],
   "source": [
    "pagerank_with_quartiles.toPandas()"
   ]
  },
  {
   "cell_type": "code",
   "execution_count": 19,
   "id": "67334f7f-7427-464c-81df-935c42fc217c",
   "metadata": {
    "tags": []
   },
   "outputs": [
    {
     "name": "stderr",
     "output_type": "stream",
     "text": [
      "[Stage 1369:============>                                         (4 + 13) / 17]\r"
     ]
    },
    {
     "name": "stdout",
     "output_type": "stream",
     "text": [
      "+--------+------+\n",
      "|quartile| count|\n",
      "+--------+------+\n",
      "|      Q1|441944|\n",
      "|      Q2|441824|\n",
      "|      Q3|441443|\n",
      "|      Q4|441731|\n",
      "+--------+------+\n",
      "\n"
     ]
    },
    {
     "name": "stderr",
     "output_type": "stream",
     "text": [
      "                                                                                \r"
     ]
    }
   ],
   "source": [
    "from pyspark.sql.functions import count\n",
    "quartile_counts = pagerank_with_quartiles.groupBy(\"quartile\").agg(count(\"*\").alias(\"count\"))\n",
    "quartile_counts.sort(\"quartile\").show()\n",
    "\n"
   ]
  },
  {
   "cell_type": "code",
   "execution_count": null,
   "id": "b65334f5-2b19-4271-874d-c9e9725a88f4",
   "metadata": {},
   "outputs": [],
   "source": []
  }
 ],
 "metadata": {
  "kernelspec": {
   "display_name": "conda_python3",
   "language": "python",
   "name": "conda_python3"
  },
  "language_info": {
   "codemirror_mode": {
    "name": "ipython",
    "version": 3
   },
   "file_extension": ".py",
   "mimetype": "text/x-python",
   "name": "python",
   "nbconvert_exporter": "python",
   "pygments_lexer": "ipython3",
   "version": "3.10.8"
  }
 },
 "nbformat": 4,
 "nbformat_minor": 5
}
