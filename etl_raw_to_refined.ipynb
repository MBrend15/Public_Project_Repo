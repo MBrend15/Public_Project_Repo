{
 "cells": [
  {
   "cell_type": "code",
   "execution_count": 1,
   "id": "970130b0-b08c-4536-936e-ca923cc595a9",
   "metadata": {
    "tags": []
   },
   "outputs": [],
   "source": [
    "#setup based on this: https://t-redactyl.io/blog/2020/08/reading-s3-data-into-a-spark-dataframe-using-sagemaker.html\n",
    "import boto3\n",
    "import json \n",
    "import time\n",
    "import pandas as pd\n",
    "from pyspark import SparkConf\n",
    "from pyspark.sql import SparkSession\n",
    "from pyspark.sql.types import *\n",
    "from pyspark.sql.functions import *\n",
    "import matplotlib.pyplot as plt\n",
    "import sagemaker_pyspark\n",
    "import botocore.session"
   ]
  },
  {
   "cell_type": "markdown",
   "id": "1e5ef5d6-368f-43af-b519-ba5112c87b79",
   "metadata": {},
   "source": [
    "## Set Spark Session Configuration"
   ]
  },
  {
   "cell_type": "code",
   "execution_count": 2,
   "id": "6d8e9008-6651-4c17-8c12-eef2b18e10fe",
   "metadata": {
    "tags": []
   },
   "outputs": [],
   "source": [
    "session = botocore.session.get_session()\n",
    "credentials = session.get_credentials()"
   ]
  },
  {
   "cell_type": "code",
   "execution_count": 3,
   "id": "7486ea00-f477-4f51-bf6e-b66a57f1a557",
   "metadata": {
    "tags": []
   },
   "outputs": [],
   "source": [
    "client = boto3.client('secretsmanager')\n",
    "response = client.get_secret_value(\n",
    "    SecretId='sapient-s3-access'\n",
    ")\n",
    "response = json.loads(response['SecretString'])\n",
    "access_key = response[\"aws_access_key_id\"]\n",
    "secret_key = response[\"aws_secret_access_key\"]"
   ]
  },
  {
   "cell_type": "code",
   "execution_count": 4,
   "id": "372553c2-9f17-4c4f-b253-275e30a1ef35",
   "metadata": {
    "tags": []
   },
   "outputs": [],
   "source": [
    "conf = (SparkConf()\n",
    "        .set(\"spark.driver.extraClassPath\", \":\".join(sagemaker_pyspark.classpath_jars()))\n",
    "       )"
   ]
  },
  {
   "cell_type": "code",
   "execution_count": 5,
   "id": "9392e443-f6d6-4a54-bbb8-2972eafaf97e",
   "metadata": {
    "tags": []
   },
   "outputs": [
    {
     "name": "stderr",
     "output_type": "stream",
     "text": [
      "Warning: Ignoring non-Spark config property: fs.s3a.access.key\n",
      "Warning: Ignoring non-Spark config property: fs.s3a.secret.key\n",
      "Setting default log level to \"WARN\".\n",
      "To adjust logging level use sc.setLogLevel(newLevel). For SparkR, use setLogLevel(newLevel).\n"
     ]
    },
    {
     "name": "stdout",
     "output_type": "stream",
     "text": [
      "23/03/08 23:18:06 WARN NativeCodeLoader: Unable to load native-hadoop library for your platform... using builtin-java classes where applicable\n",
      "23/03/08 23:18:06 WARN SparkConf: Note that spark.local.dir will be overridden by the value set by the cluster manager (via SPARK_LOCAL_DIRS in mesos/standalone/kubernetes and LOCAL_DIRS in YARN).\n"
     ]
    }
   ],
   "source": [
    "# https://spark.apache.org/docs/latest/configuration.html#memory-management\n",
    "spark = (\n",
    "    SparkSession\n",
    "    .builder\n",
    "    .config(conf=conf) \\\n",
    "    .config('fs.s3a.access.key', access_key)\n",
    "    .config('fs.s3a.secret.key', secret_key)\n",
    "    .config('spark.network.timeout', 300)\n",
    "    .config('spark.local.dir', '/home/ec2-user/SageMaker/tmp')\n",
    "    .config(\"spark.executor.memory\", \"80g\")\n",
    "    .config(\"spark.driver.memory\", \"60g\")\n",
    "    .config(\"spark.memory.offHeap.enabled\", \"true\")\n",
    "    .config(\"spark.memory.offHeap.size\",\"60g\")\n",
    "    .appName(\"sapient\")\n",
    "    .getOrCreate()\n",
    ")\n",
    "spark.sparkContext.setLogLevel(\"ERROR\")"
   ]
  },
  {
   "cell_type": "markdown",
   "id": "322f0acc-5281-4b73-a33b-67ac7c05b96a",
   "metadata": {},
   "source": [
    "## Functions to Load and Read Data"
   ]
  },
  {
   "cell_type": "code",
   "execution_count": 6,
   "id": "4a5e8ea5-b6a8-4fdd-84d5-22e3b31c7340",
   "metadata": {
    "tags": []
   },
   "outputs": [],
   "source": [
    "# read from raw bucket + write to refined bucket + aggregate final to the trusted bucket\n",
    "s3_url_raw = \"s3a://sapient-bucket-raw/\"\n",
    "s3_url_refined = \"s3a://sapient-bucket-refined/\"\n",
    "s3_url_trusted = \"s3a://sapient-bucket-trusted/\"\n",
    "bro_cols_conn = ['ts', 'uid', 'id.orig_h', 'id.orig_p', 'id.resp_', 'id.resp_p', 'proto', 'service', 'duration', 'orig_bytes', 'resp_bytes', 'conn_state', \n",
    "                 'local_orig', 'local_resp', 'missed_bytes', 'history', 'orig_pkts', 'orig_ip_bytes', 'resp_pkts', 'resp_ip_bytes', 'tunnel_parents']\n",
    "bro_cols_rep = ['ts', 'level', 'message', 'location']"
   ]
  },
  {
   "cell_type": "code",
   "execution_count": 7,
   "id": "8ad42778-7a18-4857-a75a-91f383bfa81d",
   "metadata": {
    "tags": []
   },
   "outputs": [],
   "source": [
    "# schemas to reduce read times for spark \n",
    "bro_schema = StructType([\n",
    "        StructField('ts', StringType(), True),\n",
    "        StructField('uid', StringType(), True),\n",
    "        StructField('id.orig_h', StringType(), True),\n",
    "        StructField('id.orig_p', IntegerType(), True),\n",
    "        StructField('id.resp_', StringType(), True),\n",
    "        StructField('id.resp_p', IntegerType(), True),\n",
    "        StructField('proto', StringType(), True),\n",
    "        StructField('service', StringType(), True),\n",
    "        StructField('duration', StringType(), True),\n",
    "        StructField('orig_bytes', IntegerType(), True),\n",
    "        StructField('resp_bytes', IntegerType(), True),\n",
    "        StructField('conn_state', StringType(), True),\n",
    "        StructField('local_orig', StringType(), True),\n",
    "        StructField('local_resp', StringType(), True),\n",
    "        StructField('missed_bytes', IntegerType(), True),\n",
    "        StructField('history', StringType(), True),\n",
    "        StructField('orig_pkts', IntegerType(), True),\n",
    "        StructField('orig_ip_bytes', IntegerType(), True),\n",
    "        StructField('resp_pkts', IntegerType(), True),\n",
    "        StructField('resp_ip_bytes', IntegerType(), True),\n",
    "        StructField('tunnel_parents', StringType(), True)\n",
    "    ])\n",
    "\n",
    "ecar_bro_schema = StructType([\n",
    "        StructField('action', StringType(), True),\n",
    "        StructField('actorID', StringType(), True),\n",
    "        StructField('hostname', StringType(), True),\n",
    "        StructField('id', StringType(), True),\n",
    "        StructField('object', StringType(), True),\n",
    "        StructField('objectID', StringType(), True),\n",
    "        StructField('pid', IntegerType(), True),\n",
    "        StructField('ppid', IntegerType(), True),\n",
    "        StructField('principal', StringType(), True),\n",
    "        StructField('properties', StructType([\n",
    "            StructField('acuity_level', StringType(), True),\n",
    "            StructField('bro_uid', StringType(), True),\n",
    "            StructField('dest_ip', StringType(), True),\n",
    "            StructField('dest_port', IntegerType(), True),\n",
    "            StructField('direction', StringType(), True),\n",
    "            StructField('image_path', StringType(), True),\n",
    "            StructField('l4protocol', StringType(), True),\n",
    "            StructField('src_ip', StringType(), True),\n",
    "            StructField('src_port', IntegerType(), True),\n",
    "            ])),\n",
    "        StructField('tid', IntegerType(), True),\n",
    "        StructField('timestamp', TimestampType(), True)\n",
    "    ])\n",
    "\n",
    "ecar_schema = StructType([\n",
    "        StructField('action', StringType(), True),\n",
    "        StructField('actorID', StringType(), True),\n",
    "        StructField('hostname', StringType(), True),\n",
    "        StructField('id', StringType(), True),\n",
    "        StructField('object', StringType(), True),\n",
    "        StructField('objectID', StringType(), True),\n",
    "        StructField('pid', IntegerType(), True),\n",
    "        StructField('ppid', IntegerType(), True),\n",
    "        StructField('principal', StringType(), True),\n",
    "        StructField('properties', StructType([\n",
    "            StructField('acuity_level', StringType(), True),\n",
    "            StructField('base_address', StringType(), True),\n",
    "            StructField('command_line', StringType(), True),\n",
    "            StructField('context_info', StringType(), True),\n",
    "            StructField('data', StringType(), True),\n",
    "            StructField('dest_port', IntegerType(), True),\n",
    "            StructField('direction', StringType(), True),\n",
    "            StructField('end_time', TimestampType(), True),\n",
    "            StructField('file_path', StringType(), True),\n",
    "            StructField('image_path', StringType(), True),\n",
    "            StructField('info_class', StringType(), True),\n",
    "            StructField('key', StringType(), True),\n",
    "            StructField('l4protocol', StringType(), True),\n",
    "            StructField('logon_id', StringType(), True),\n",
    "            StructField('module_path', StringType(), True),\n",
    "            StructField('new_path', StringType(), True),\n",
    "            StructField('parent_image_path', StringType(), True),\n",
    "            StructField('path', StringType(), True),\n",
    "            StructField('payload', StringType(), True),\n",
    "            StructField('privileges', StringType(), True),\n",
    "            StructField('requesting_domain', StringType(), True),\n",
    "            StructField('requesting_logon_id', StringType(), True),\n",
    "            StructField('requesting_user', StringType(), True),\n",
    "            StructField('sid', StringType(), True),\n",
    "            StructField('size', StringType(), True),\n",
    "            StructField('src_ip', StringType(), True),\n",
    "            StructField('src_pid', IntegerType(), True),\n",
    "            StructField('src_port', IntegerType(), True),\n",
    "            StructField('src_tid', StringType(), True),\n",
    "            StructField('stack_base', StringType(), True),\n",
    "            StructField('stack_limit', StringType(), True),\n",
    "            StructField('start_address', StringType(), True),\n",
    "            StructField('start_time', TimestampType(), True),\n",
    "            StructField('subprocess_tag', StringType(), True),\n",
    "            StructField('task_name', StringType(), True),\n",
    "            StructField('task_pid', IntegerType(), True),\n",
    "            StructField('task_process_uuid', StringType(), True),\n",
    "            StructField('tgt_pid', IntegerType(), True),\n",
    "            StructField('tgt_pid_uuid', StringType(), True),\n",
    "            StructField('tgt_tid', IntegerType(), True),\n",
    "            StructField('type', StringType(), True),\n",
    "            StructField('user', StringType(), True),\n",
    "            StructField('user_name', StringType(), True),\n",
    "            StructField('user_stack_base', StringType(), True),\n",
    "            StructField('user_stack_limit', StringType(), True),\n",
    "            StructField('value', StringType(), True)\n",
    "            ])),\n",
    "        StructField('tid', IntegerType(), True),\n",
    "        StructField('timestamp', TimestampType(), True)\n",
    "    ])\n",
    "\n",
    "labels_schema = StructType([\n",
    "        StructField('hostname', StringType(), True),    \n",
    "        StructField('id', StringType(), True),\n",
    "        StructField('objectID', StringType(), True),\n",
    "        StructField('actorID', StringType(), True),\n",
    "        StructField('timestamp', TimestampType(), True),\n",
    "        StructField('object', StringType(), True),\n",
    "        StructField('action', StringType(), True)\n",
    "        \n",
    "    ])"
   ]
  },
  {
   "cell_type": "code",
   "execution_count": 8,
   "id": "0bcc137e-74bf-4490-b0ac-4460fbefb212",
   "metadata": {
    "tags": []
   },
   "outputs": [],
   "source": [
    "def get_ecar_files():\n",
    "    env = 'prod'\n",
    "    type = 'car'\n",
    "    paths=['23Sep19-red',\n",
    "           '24Sep19',\n",
    "           '25Sep'\n",
    "          ]\n",
    "    s3 = boto3.client('s3')\n",
    "    response = s3.list_objects_v2(\n",
    "        Bucket = 'sapient-bucket-raw',\n",
    "        Prefix = f'{env}/')\n",
    "\n",
    "    all_files = []\n",
    "    for p in paths:\n",
    "        files = []\n",
    "        for content in response.get('Contents', []):\n",
    "            files.append(content['Key'])\n",
    "        files = [f\"{s3_url_raw}/\" + f for f in files if p in f]\n",
    "        all_files = all_files + files\n",
    "    return all_files"
   ]
  },
  {
   "cell_type": "code",
   "execution_count": 9,
   "id": "c1c66ccc-912c-489f-94c5-bf2665bb1bda",
   "metadata": {
    "tags": []
   },
   "outputs": [],
   "source": [
    "def get_count(type='ecar', env='prod'):\n",
    "    \"\"\"\n",
    "    type: ecar, ecar-bro, bro, labels\n",
    "    This function reads a file from json or log text and writes it as a parquet.\n",
    "    \"\"\"\n",
    "    ecar_fil = [(\"FLOW\"), (\"PROCESS\"), (\"FILE\"),(\"SHELL\")]\n",
    "    start_time = time.time()\n",
    "    ecar_files = get_ecar_files()\n",
    "    df = spark.read.schema(ecar_schema).json(ecar_files).filter(col(\"object\").isin(ecar_fil)).cache()\n",
    "    \n",
    "    print(time.strftime('%l:%M%p %Z on %b %d, %Y') + \" -- read time: --- %s seconds ---\" % (time.time() - start_time))\n",
    "    row_count = df.count()\n",
    "    \n",
    "    print(time.strftime('%l:%M%p %Z on %b %d, %Y') + f\" -- Your new dataframe has {row_count:,} rows.\")\n",
    "    df.unpersist()\n",
    "    return row_count"
   ]
  },
  {
   "cell_type": "code",
   "execution_count": 10,
   "id": "948047f5-3308-49ad-b9c7-f281aabb8c6d",
   "metadata": {
    "tags": []
   },
   "outputs": [],
   "source": [
    "def raw_to_refined(type='ecar-bro', env='prod', read_lim=10000000, limit=True):\n",
    "    \"\"\"\n",
    "    type: ecar, ecar-bro, bro, labels\n",
    "    This function reads a file from json or log text and writes it as a parquet.\n",
    "    \"\"\"\n",
    "    ecar_fil = [(\"FLOW\"), (\"PROCESS\"), (\"FILE\"),(\"SHELL\")]\n",
    "    start_time = time.time()\n",
    "    if type in ('ecar', 'car'):\n",
    "        if env == 'prod':\n",
    "            ecar_files = get_ecar_files()\n",
    "            df = spark.read.schema(ecar_schema).json(ecar_files).filter(col(\"object\").isin(ecar_fil)).cache()\n",
    "        else:\n",
    "            df = spark.read.schema(ecar_schema).json(f\"{s3_url_raw}/{env}/{type}/**/**/**/*.json\").filter(col(\"object\").isin(ecar_fil)).cache()\n",
    "        print(time.strftime('%l:%M%p %Z on %b %d, %Y') + \" -- read time: --- %s seconds ---\" % (time.time() - start_time))\n",
    "        \n",
    "        start_time = time.time()\n",
    "        if limit:\n",
    "            df = df.limit(read_lim)\n",
    "        else: \n",
    "            pass\n",
    "        df = df.select(*df.columns, \"properties.*\").drop('properties')\n",
    "        df = df.withColumn('event_minute', minute(col('timestamp'))) \\\n",
    "               .withColumn('event_day', dayofmonth(col('timestamp'))) \\\n",
    "               .withColumn('event_hour', hour(col('timestamp'))) \\\n",
    "               .cache()\n",
    "        \n",
    "        print(time.strftime('%l:%M%p %Z on %b %d, %Y') + \" -- schema expansion time: --- %s seconds ---\" % (time.time() - start_time))  \n",
    "        start_time = time.time()\n",
    "        df.write.option(\"maxRecordsPerFile\", 300000).mode(\"overwrite\").partitionBy(\"event_day\", \"event_hour\").parquet(f\"{s3_url_refined}/{env}/ecar/\")\n",
    "    elif type in ('ecar-bro','car-bro'):\n",
    "        df = spark.read.schema(ecar_bro_schema).json(f\"{s3_url_raw}/{env}/{type}/**/**/**/*.json\").cache()\n",
    "        # this will extract and flatten nested properties column\n",
    "        print(time.strftime('%l:%M%p %Z on %b %d, %Y') + \" -- read time: --- %s seconds ---\" % (time.time() - start_time))\n",
    "        #print(time.strftime('%l:%M%p %Z on %b %d, %Y') + f\" -- Your new dataframe has {df.count():,} rows.\")\n",
    "        start_time = time.time()\n",
    "        df = df.select(*df.columns, \"properties.*\").drop('properties')\n",
    "        df = df.withColumn('event_minute', minute(col('timestamp'))) \\\n",
    "               .withColumn('event_day', dayofmonth(col('timestamp'))) \\\n",
    "               .withColumn('event_hour', hour(col('timestamp')))\n",
    "        df.write.option(\"maxRecordsPerFile\", 300000).mode(\"overwrite\").partitionBy(\"event_day\", \"event_hour\").parquet(f\"{s3_url_refined}/{env}/ecar-bro/\")\n",
    "    elif type == 'bro':\n",
    "        df = spark.read.schema(bro_schema).csv(f\"{s3_url_raw}/{env}/**/**/conn*.log\", sep=\"\\t\", comment=\"#\", header=False).cache()\n",
    "        df = df.toDF(*bro_cols_conn)\n",
    "        print(time.strftime('%l:%M%p %Z on %b %d, %Y') + \" -- read time: --- %s seconds ---\" % (time.time() - start_time))\n",
    "        #print(time.strftime('%l:%M%p %Z on %b %d, %Y') + f\" -- Your new dataframe has {df.count():,} rows.\")\n",
    "        start_time = time.time()\n",
    "        df.write.option(\"maxRecordsPerFile\", 300000).mode(\"overwrite\").parquet(f\"{s3_url_refined}/{env}/bro/\")\n",
    "    elif type == 'labels':\n",
    "        df = spark.read.schema(labels_schema).csv(f\"{s3_url_raw}/{type}/*.csv\", sep=\",\", header=True).cache()\n",
    "        df.write.option(\"maxRecordsPerFile\", 300000).mode(\"overwrite\").parquet(f\"{s3_url_refined}/{env}/labels\")\n",
    "    print(time.strftime('%l:%M%p %Z on %b %d, %Y') + \" -- write time: --- %s seconds ---\" % (time.time() - start_time))\n",
    "    df.unpersist()"
   ]
  },
  {
   "cell_type": "code",
   "execution_count": 11,
   "id": "c5ee57e1-0d17-4b96-bdc9-ce32d2d2e9b0",
   "metadata": {
    "tags": []
   },
   "outputs": [],
   "source": [
    "env='prod'\n",
    "size='small'\n",
    "# this is here because the prod ecar/ecar-bro are missing the \"e\"s and is a short term fix\n",
    "if env == 'prod':\n",
    "    ftype = 'car'\n",
    "else:\n",
    "    ftype = 'ecar'"
   ]
  },
  {
   "cell_type": "code",
   "execution_count": 12,
   "id": "9d3a75de-d679-4351-af14-4c65f7f02b1a",
   "metadata": {
    "tags": []
   },
   "outputs": [],
   "source": [
    "ecar_fil = [(\"FLOW\"), (\"PROCESS\"), (\"FILE\"),(\"SHELL\")]\n",
    "start_time = time.time()\n",
    "ecar_files = get_ecar_files()"
   ]
  },
  {
   "cell_type": "code",
   "execution_count": 13,
   "id": "4c74c41f-3d80-4448-ae48-92b95b5126bb",
   "metadata": {
    "tags": []
   },
   "outputs": [],
   "source": [
    "# # get the max count of rows, show time\n",
    "# start_time = time.time()\n",
    "# df = spark.read.schema(ecar_schema).json(ecar_files).filter(col(\"object\").isin(ecar_fil)).cache()\n",
    "# print(time.strftime('%l:%M%p %Z on %b %d, %Y') + \" -- read time: --- %s seconds ---\" % (time.time() - start_time))\n",
    "# start_time = time.time()\n",
    "# df = df.limit(100)\n",
    "# row_count = df.count()\n",
    "# print(time.strftime('%l:%M%p %Z on %b %d, %Y') + f\" -- Your new dataframe has {row_count:,} rows.\")\n",
    "# print(time.strftime('%l:%M%p %Z on %b %d, %Y') + \" -- read time: --- %s seconds ---\" % (time.time() - start_time))"
   ]
  },
  {
   "cell_type": "code",
   "execution_count": null,
   "id": "1c65f033-6c24-4e5f-af11-d405a71f8836",
   "metadata": {},
   "outputs": [],
   "source": []
  },
  {
   "cell_type": "code",
   "execution_count": null,
   "id": "262a67a8-2601-4d5b-8cbf-b9ee25a4862c",
   "metadata": {
    "tags": []
   },
   "outputs": [
    {
     "name": "stderr",
     "output_type": "stream",
     "text": [
      "                                                                                \r"
     ]
    },
    {
     "name": "stdout",
     "output_type": "stream",
     "text": [
      "11:18PM UTC on Mar 08, 2023 -- read time: --- 10.423123836517334 seconds ---\n"
     ]
    },
    {
     "name": "stderr",
     "output_type": "stream",
     "text": [
      "[Stage 1:=====================>                             (5554 + 72) / 13021]\r"
     ]
    }
   ],
   "source": [
    "max_rows = get_count('ecar')"
   ]
  },
  {
   "cell_type": "code",
   "execution_count": null,
   "id": "dd29748c-11a0-453d-9773-2578a7b2a6c9",
   "metadata": {
    "tags": []
   },
   "outputs": [],
   "source": [
    "raw_to_refined('labels', env=env)   "
   ]
  },
  {
   "cell_type": "code",
   "execution_count": null,
   "id": "076e564e-88a3-4937-80ea-b46392b4d2b6",
   "metadata": {
    "tags": []
   },
   "outputs": [
    {
     "name": "stderr",
     "output_type": "stream",
     "text": [
      "                                                                                \r"
     ]
    }
   ],
   "source": [
    "raw_to_refined(f'{ftype}', env=env, limit=False)"
   ]
  },
  {
   "cell_type": "code",
   "execution_count": null,
   "id": "dd132811-26c3-4753-a674-48f5eb29c235",
   "metadata": {},
   "outputs": [],
   "source": []
  }
 ],
 "metadata": {
  "kernelspec": {
   "display_name": "conda_python3",
   "language": "python",
   "name": "conda_python3"
  },
  "language_info": {
   "codemirror_mode": {
    "name": "ipython",
    "version": 3
   },
   "file_extension": ".py",
   "mimetype": "text/x-python",
   "name": "python",
   "nbconvert_exporter": "python",
   "pygments_lexer": "ipython3",
   "version": "3.10.8"
  }
 },
 "nbformat": 4,
 "nbformat_minor": 5
}
