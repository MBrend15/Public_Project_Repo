{
 "cells": [
  {
   "cell_type": "code",
   "execution_count": 1,
   "id": "64379c39-b074-422b-8dec-32a9e47950e6",
   "metadata": {
    "collapsed": true,
    "jupyter": {
     "outputs_hidden": true
    },
    "tags": []
   },
   "outputs": [
    {
     "name": "stderr",
     "output_type": "stream",
     "text": [
      "Warning: Ignoring non-Spark config property: fs.s3a.access.key\n",
      "Warning: Ignoring non-Spark config property: fs.s3a.secret.key\n"
     ]
    },
    {
     "name": "stdout",
     "output_type": "stream",
     "text": [
      ":: loading settings :: url = jar:file:/home/ec2-user/anaconda3/envs/python3/lib/python3.10/site-packages/pyspark/jars/ivy-2.5.0.jar!/org/apache/ivy/core/settings/ivysettings.xml\n"
     ]
    },
    {
     "name": "stderr",
     "output_type": "stream",
     "text": [
      "Ivy Default Cache set to: /home/ec2-user/.ivy2/cache\n",
      "The jars for the packages stored in: /home/ec2-user/.ivy2/jars\n",
      "graphframes#graphframes added as a dependency\n",
      ":: resolving dependencies :: org.apache.spark#spark-submit-parent-6901e609-6140-42ca-8455-fda4abbd82ce;1.0\n",
      "\tconfs: [default]\n",
      "\tfound graphframes#graphframes;0.8.2-spark3.2-s_2.12 in spark-packages\n",
      "\tfound org.slf4j#slf4j-api;1.7.16 in central\n",
      ":: resolution report :: resolve 104ms :: artifacts dl 4ms\n",
      "\t:: modules in use:\n",
      "\tgraphframes#graphframes;0.8.2-spark3.2-s_2.12 from spark-packages in [default]\n",
      "\torg.slf4j#slf4j-api;1.7.16 from central in [default]\n",
      "\t---------------------------------------------------------------------\n",
      "\t|                  |            modules            ||   artifacts   |\n",
      "\t|       conf       | number| search|dwnlded|evicted|| number|dwnlded|\n",
      "\t---------------------------------------------------------------------\n",
      "\t|      default     |   2   |   0   |   0   |   0   ||   2   |   0   |\n",
      "\t---------------------------------------------------------------------\n",
      ":: retrieving :: org.apache.spark#spark-submit-parent-6901e609-6140-42ca-8455-fda4abbd82ce\n",
      "\tconfs: [default]\n",
      "\t0 artifacts copied, 2 already retrieved (0kB/4ms)\n"
     ]
    },
    {
     "name": "stdout",
     "output_type": "stream",
     "text": [
      "23/03/23 00:30:34 WARN NativeCodeLoader: Unable to load native-hadoop library for your platform... using builtin-java classes where applicable\n"
     ]
    },
    {
     "name": "stderr",
     "output_type": "stream",
     "text": [
      "Setting default log level to \"WARN\".\n",
      "To adjust logging level use sc.setLogLevel(newLevel). For SparkR, use setLogLevel(newLevel).\n"
     ]
    },
    {
     "name": "stdout",
     "output_type": "stream",
     "text": [
      "23/03/23 00:30:34 WARN SparkConf: Note that spark.local.dir will be overridden by the value set by the cluster manager (via SPARK_LOCAL_DIRS in mesos/standalone/kubernetes and LOCAL_DIRS in YARN).\n",
      "23/03/23 00:30:35 WARN Utils: Service 'SparkUI' could not bind on port 4040. Attempting port 4041.\n"
     ]
    }
   ],
   "source": [
    "%run read_file.ipynb"
   ]
  },
  {
   "cell_type": "code",
   "execution_count": 2,
   "id": "a72e5efa-c652-4c0d-b395-88f5cf3251f2",
   "metadata": {
    "tags": []
   },
   "outputs": [],
   "source": [
    "%run trace_encode.ipynb"
   ]
  },
  {
   "cell_type": "code",
   "execution_count": 3,
   "id": "f7ab225a-bfa1-439d-8d35-0a0bccfd5028",
   "metadata": {
    "tags": []
   },
   "outputs": [
    {
     "name": "stderr",
     "output_type": "stream",
     "text": [
      "                                                                                \r"
     ]
    },
    {
     "name": "stdout",
     "output_type": "stream",
     "text": [
      "12:30AM UTC on Mar 23, 2023 --- read time: 5.271172046661377 seconds ---\n"
     ]
    }
   ],
   "source": [
    "#first question I have is how many events do I have when I call readfirst\n",
    "df = readFirstEvents()"
   ]
  },
  {
   "cell_type": "code",
   "execution_count": 4,
   "id": "2d250d2d-fa9f-42a9-82ef-1bdc3304ba66",
   "metadata": {
    "tags": []
   },
   "outputs": [
    {
     "name": "stderr",
     "output_type": "stream",
     "text": [
      "                                                                                \r"
     ]
    },
    {
     "data": {
      "text/plain": [
       "4595692"
      ]
     },
     "execution_count": 4,
     "metadata": {},
     "output_type": "execute_result"
    }
   ],
   "source": [
    "#what is our count\n",
    "df.count()"
   ]
  },
  {
   "cell_type": "code",
   "execution_count": 5,
   "id": "7d99d91e-8f93-4d06-9b4f-2ce1a8e8fe9b",
   "metadata": {
    "tags": []
   },
   "outputs": [
    {
     "name": "stderr",
     "output_type": "stream",
     "text": [
      "[Stage 4:=====================================================>   (15 + 1) / 16]\r"
     ]
    },
    {
     "name": "stdout",
     "output_type": "stream",
     "text": [
      "+---------+\n",
      "|event_day|\n",
      "+---------+\n",
      "|       23|\n",
      "|       25|\n",
      "|       24|\n",
      "+---------+\n",
      "\n"
     ]
    },
    {
     "name": "stderr",
     "output_type": "stream",
     "text": [
      "                                                                                \r"
     ]
    }
   ],
   "source": [
    "#how many days do we have\n",
    "df.select('event_day').distinct().show()"
   ]
  },
  {
   "cell_type": "code",
   "execution_count": 6,
   "id": "ad44cb42-cce6-421b-b869-6e51f71eaf3e",
   "metadata": {
    "tags": []
   },
   "outputs": [
    {
     "name": "stderr",
     "output_type": "stream",
     "text": [
      "[Stage 7:=======================================>                 (11 + 5) / 16]\r"
     ]
    },
    {
     "name": "stdout",
     "output_type": "stream",
     "text": [
      "+----------+\n",
      "|event_hour|\n",
      "+----------+\n",
      "|        12|\n",
      "|        22|\n",
      "|         1|\n",
      "|        13|\n",
      "|        16|\n",
      "|         6|\n",
      "|         3|\n",
      "|        20|\n",
      "|         5|\n",
      "|        19|\n",
      "|        15|\n",
      "|        17|\n",
      "|         9|\n",
      "|         4|\n",
      "|         8|\n",
      "|        23|\n",
      "|         7|\n",
      "|        10|\n",
      "|        21|\n",
      "|        11|\n",
      "+----------+\n",
      "only showing top 20 rows\n",
      "\n"
     ]
    },
    {
     "name": "stderr",
     "output_type": "stream",
     "text": [
      "                                                                                \r"
     ]
    }
   ],
   "source": [
    "#how many hours\n",
    "df.select('event_hour').distinct().show()"
   ]
  },
  {
   "cell_type": "code",
   "execution_count": 7,
   "id": "7fdc312f-be21-48db-9ab0-efde129ad997",
   "metadata": {
    "tags": []
   },
   "outputs": [
    {
     "name": "stderr",
     "output_type": "stream",
     "text": [
      "                                                                                \r"
     ]
    },
    {
     "name": "stdout",
     "output_type": "stream",
     "text": [
      "mal count: 8596\n"
     ]
    },
    {
     "name": "stderr",
     "output_type": "stream",
     "text": [
      "[Stage 13:==========>                                             (3 + 13) / 16]\r"
     ]
    },
    {
     "name": "stdout",
     "output_type": "stream",
     "text": [
      "benign count: 4587096\n"
     ]
    },
    {
     "name": "stderr",
     "output_type": "stream",
     "text": [
      "                                                                                \r"
     ]
    }
   ],
   "source": [
    "#how many malicious events do you have? \n",
    "df_m = df.where(col('malicious') == 1)\n",
    "print(\"mal count: \" +str(df_m.count()))\n",
    "#how many benign events do you have? \n",
    "df_b = df.where(col('malicious') == 0)\n",
    "print(\"benign count: \" +str(df_b.count()))"
   ]
  },
  {
   "cell_type": "code",
   "execution_count": 8,
   "id": "d1f1be18-a9c4-4b20-9596-d333de65868a",
   "metadata": {
    "tags": []
   },
   "outputs": [
    {
     "name": "stdout",
     "output_type": "stream",
     "text": [
      "mal_prop = 0.18739524963070317\n"
     ]
    }
   ],
   "source": [
    "#compare proportions with original work, orig proportion is .0016%\n",
    "print('mal_prop = ' + str((8596/4587096)*100))\n"
   ]
  },
  {
   "cell_type": "code",
   "execution_count": 12,
   "id": "a71ee35f-6775-4efc-836b-37f81ddcb4f1",
   "metadata": {
    "tags": []
   },
   "outputs": [
    {
     "name": "stderr",
     "output_type": "stream",
     "text": [
      "[Stage 28:=================================================>      (14 + 2) / 16]\r"
     ]
    },
    {
     "name": "stdout",
     "output_type": "stream",
     "text": [
      "+---------+-----+\n",
      "|event_day|count|\n",
      "+---------+-----+\n",
      "|       23| 3624|\n",
      "|       25|  459|\n",
      "|       24| 4513|\n",
      "+---------+-----+\n",
      "\n"
     ]
    },
    {
     "name": "stderr",
     "output_type": "stream",
     "text": [
      "                                                                                \r"
     ]
    }
   ],
   "source": [
    "#so the prop is higher than the orig. We can live with that, how many mal events are on each day\n",
    "df_m.groupBy('event_day').count().show()#.select('event_day').agg('count').distinct().count()\n",
    "#I see these counts as generally in line with what the ANUBIS authors found."
   ]
  },
  {
   "cell_type": "code",
   "execution_count": 13,
   "id": "a5848add-15a5-4ec6-bafa-0a0505292e0c",
   "metadata": {
    "tags": []
   },
   "outputs": [
    {
     "name": "stderr",
     "output_type": "stream",
     "text": [
      "[Stage 31:====================================================>   (15 + 1) / 16]\r"
     ]
    },
    {
     "name": "stdout",
     "output_type": "stream",
     "text": [
      "+---------+-------+\n",
      "|event_day|  count|\n",
      "+---------+-------+\n",
      "|       23|1437108|\n",
      "|       25|1347693|\n",
      "|       24|1802295|\n",
      "+---------+-------+\n",
      "\n"
     ]
    },
    {
     "name": "stderr",
     "output_type": "stream",
     "text": [
      "                                                                                \r"
     ]
    }
   ],
   "source": [
    "df_b.groupBy('event_day').count().show()"
   ]
  },
  {
   "cell_type": "code",
   "execution_count": 65,
   "id": "289fc0c2-8503-4cda-ac94-7c9476485bbf",
   "metadata": {
    "tags": []
   },
   "outputs": [],
   "source": [
    "#function to generate fake data\n",
    "from pyspark.sql.types import StringType\n",
    "import random\n",
    "\n",
    "def gen_dummy_data(out,size):\n",
    "    start_time = time.time()\n",
    "    \n",
    "    if out == 'b':\n",
    "        # Define a function to generate binary strings with length 25\n",
    "        def generate_binary_string():\n",
    "            return format(random.randint(54360,33554432),'b').zfill(25)\n",
    "    else:\n",
    "        def generate_binary_string():\n",
    "            return format(random.randint(1,10000000),'b').zfill(25)\n",
    "        \n",
    "    # Create a list of column names\n",
    "    columns = ['col1', 'col2', 'col3', 'col4', 'col5', 'col6']\n",
    "    \n",
    "    # Create a list of row data, each containing six binary strings\n",
    "    data = [[generate_binary_string() for i in range(6)] for j in range(size)]\n",
    "\n",
    "    # Create a PySpark dataframe from the row data and column names\n",
    "    df = spark.createDataFrame(data, columns)\n",
    "    \n",
    "    #create an array of all the traces, combine in one column, and drop all the other\n",
    "    #columns\n",
    "    df = df.select(array('col1', 'col2',\n",
    "                           'col3','col4', \n",
    "                           'col5', 'col6').alias('event_sequence'))\n",
    "    \n",
    "    #add the right malicious column\n",
    "    if out == 'b':\n",
    "        df = df.withColumn(\"malicious\", lit(0))\n",
    "        df = df.select(\"malicious\", 'event_sequence')\n",
    "        \n",
    "    else: \n",
    "        df = df.withColumn(\"malicious\", lit(1))\n",
    "        df = df.select(\"malicious\", 'event_sequence')\n",
    "    \n",
    "    #add a trace column in the front of the df\n",
    "    df = df.withColumn(\"Trace\", (monotonically_increasing_id() + 1))\n",
    "    df = df.select(\"Trace\", \"malicious\", 'event_sequence')\n",
    "    \n",
    "    print(\"elapsed: \"+ str(time.time() - start_time))\n",
    "    \n",
    "    return df\n",
    "\n",
    "\n",
    "    "
   ]
  },
  {
   "cell_type": "code",
   "execution_count": 59,
   "id": "753a5739-3f44-44d7-b9f5-75626fefa5d5",
   "metadata": {
    "tags": []
   },
   "outputs": [
    {
     "name": "stdout",
     "output_type": "stream",
     "text": [
      "elapsed: 0.07620739936828613\n",
      "+-----+---------+--------------------+\n",
      "|Trace|malicious|      event_sequence|\n",
      "+-----+---------+--------------------+\n",
      "|    1|        0|[0011110011010001...|\n",
      "|    2|        0|[0110000100111000...|\n",
      "|    3|        0|[1011110110110110...|\n",
      "|    4|        0|[1011100110101010...|\n",
      "|    5|        0|[0100001100111010...|\n",
      "|    6|        0|[0011111010100010...|\n",
      "|    7|        0|[1110100101001111...|\n",
      "|    8|        0|[1110111011100101...|\n",
      "|    9|        0|[0010111111110010...|\n",
      "|   10|        0|[1001101101111000...|\n",
      "+-----+---------+--------------------+\n",
      "\n",
      "6\n",
      "25\n"
     ]
    },
    {
     "data": {
      "text/plain": [
       "DataFrame[Trace: bigint, malicious: int, event_sequence: array<string>]"
      ]
     },
     "execution_count": 59,
     "metadata": {},
     "output_type": "execute_result"
    }
   ],
   "source": [
    "df_samp_b = gen_dummy_data('b',1000)\n",
    "df_samp_b.limit(10).show()\n",
    "test = df_samp_b.limit(10).select('event_sequence').collect()\n",
    "print(len(test[0][0]))\n",
    "print(len(test[0][0][3]))\n",
    "df_samp_b.unpersist()"
   ]
  },
  {
   "cell_type": "code",
   "execution_count": 60,
   "id": "ee14b02f-c2d9-47be-a7e8-e6941ca51054",
   "metadata": {
    "tags": []
   },
   "outputs": [
    {
     "name": "stdout",
     "output_type": "stream",
     "text": [
      "elapsed: 18.098712921142578\n"
     ]
    }
   ],
   "source": [
    "#now generate all the real data\n",
    "df_samp_b500k = gen_dummy_data('b',500000)"
   ]
  },
  {
   "cell_type": "code",
   "execution_count": 61,
   "id": "48da494d-2cc7-4f0b-a57b-9b851ef2b9d9",
   "metadata": {
    "tags": []
   },
   "outputs": [
    {
     "name": "stdout",
     "output_type": "stream",
     "text": [
      "elapsed: 74.34329056739807\n",
      "elapsed: 0.2696566581726074\n"
     ]
    }
   ],
   "source": [
    "df_samp_brest = gen_dummy_data('b',2091594)"
   ]
  },
  {
   "cell_type": "code",
   "execution_count": 66,
   "id": "d4eb65ab-89d4-445d-a9aa-0e7c9fc6c1ba",
   "metadata": {
    "tags": []
   },
   "outputs": [
    {
     "name": "stdout",
     "output_type": "stream",
     "text": [
      "elapsed: 0.26936888694763184\n",
      "+-----+---------+--------------------+\n",
      "|Trace|malicious|      event_sequence|\n",
      "+-----+---------+--------------------+\n",
      "|    1|        1|[0100000101010000...|\n",
      "|    2|        1|[0100011100110001...|\n",
      "|    3|        1|[0010111100010100...|\n",
      "+-----+---------+--------------------+\n",
      "\n"
     ]
    }
   ],
   "source": [
    "df_samp_m = gen_dummy_data('m',6517)\n",
    "df_samp_m.limit(3).show()"
   ]
  },
  {
   "cell_type": "code",
   "execution_count": 62,
   "id": "c56c943b-365b-48c9-87dd-29ad14da718d",
   "metadata": {
    "tags": []
   },
   "outputs": [
    {
     "name": "stderr",
     "output_type": "stream",
     "text": [
      "                                                                                \r"
     ]
    },
    {
     "name": "stdout",
     "output_type": "stream",
     "text": [
      "+-----+---------+--------------------+\n",
      "|Trace|malicious|      event_sequence|\n",
      "+-----+---------+--------------------+\n",
      "|    1|        0|[1100111110101110...|\n",
      "|    2|        0|[1110111001110011...|\n",
      "|    3|        0|[1110000000110100...|\n",
      "+-----+---------+--------------------+\n",
      "\n",
      "+-----+---------+--------------------+\n",
      "|Trace|malicious|      event_sequence|\n",
      "+-----+---------+--------------------+\n",
      "|    1|        1|[0000000001110101...|\n",
      "|    2|        1|[0000000000111100...|\n",
      "|    3|        1|[0000000000010001...|\n",
      "+-----+---------+--------------------+\n",
      "\n"
     ]
    }
   ],
   "source": [
    "#union it all and then write it to parquet\n",
    "df_samp_b_all = df_samp_b500k.union(df_samp_brest)\n",
    "#show me some sample rows to be sure\n",
    "df_samp_b_all.limit(3).show()"
   ]
  },
  {
   "cell_type": "code",
   "execution_count": 67,
   "id": "f5cd08bf-a8b1-41c6-a6e4-c53ca8d644f3",
   "metadata": {
    "tags": []
   },
   "outputs": [],
   "source": [
    "df_samp_all = df_samp_b_all.union(df_samp_m)"
   ]
  },
  {
   "cell_type": "code",
   "execution_count": 69,
   "id": "b1e5dfaa-28a8-4188-9841-bffd7fce5325",
   "metadata": {
    "tags": []
   },
   "outputs": [
    {
     "name": "stderr",
     "output_type": "stream",
     "text": [
      "                                                                                \r"
     ]
    }
   ],
   "source": [
    "#now write the first set to parquet as a train test dataset\n",
    "df_samp_all.write.option(\"maxRecordsPerFile\", 300000).mode(\"overwrite\")\\\n",
    ".parquet(f'{s3_url_trusted}/prod/tensor_sample_data/train_val')"
   ]
  },
  {
   "cell_type": "code",
   "execution_count": 70,
   "id": "6520b201-9a58-4595-b4cb-315f3de26257",
   "metadata": {
    "tags": []
   },
   "outputs": [
    {
     "name": "stdout",
     "output_type": "stream",
     "text": [
      "elapsed: 47.36942958831787\n",
      "elapsed: 0.053705453872680664\n"
     ]
    },
    {
     "name": "stderr",
     "output_type": "stream",
     "text": [
      "                                                                                \r"
     ]
    }
   ],
   "source": [
    "#now we do this all over again for the holdout set\n",
    "df_b = gen_dummy_data('b',1347693)\n",
    "df_m = gen_dummy_data('m', 459)\n",
    "df_all = df_b.union(df_m)\n",
    "df_samp_all.write.option(\"maxRecordsPerFile\", 300000).mode(\"overwrite\")\\\n",
    ".parquet(f'{s3_url_trusted}/prod/tensor_sample_data/test_holdout')"
   ]
  },
  {
   "cell_type": "code",
   "execution_count": 9,
   "id": "265bf0fe-3a60-4807-83b4-3fb7699097b4",
   "metadata": {
    "tags": []
   },
   "outputs": [
    {
     "name": "stderr",
     "output_type": "stream",
     "text": [
      "/home/ec2-user/anaconda3/envs/python3/lib/python3.10/site-packages/pyspark/sql/dataframe.py:148: UserWarning: DataFrame.sql_ctx is an internal property, and will be removed in future releases. Use DataFrame.sparkSession instead.\n",
      "  warnings.warn(\n",
      "/home/ec2-user/anaconda3/envs/python3/lib/python3.10/site-packages/pyspark/sql/dataframe.py:127: UserWarning: DataFrame constructor is internal. Do not directly use it.\n",
      "  warnings.warn(\"DataFrame constructor is internal. Do not directly use it.\")\n",
      "[Stage 64:====================================>                (137 + 17) / 200]\r"
     ]
    },
    {
     "name": "stdout",
     "output_type": "stream",
     "text": [
      "event traces: 1261\n"
     ]
    },
    {
     "name": "stderr",
     "output_type": "stream",
     "text": [
      "                                                                                \r"
     ]
    }
   ],
   "source": [
    "#does first events work now on data duplication\n",
    "cg = create_graph(df_m)"
   ]
  },
  {
   "cell_type": "code",
   "execution_count": 10,
   "id": "c071118f-b78c-41f6-931a-e17ee2cb654f",
   "metadata": {
    "collapsed": true,
    "jupyter": {
     "outputs_hidden": true
    },
    "tags": []
   },
   "outputs": [
    {
     "data": {
      "text/html": [
       "<div>\n",
       "<style scoped>\n",
       "    .dataframe tbody tr th:only-of-type {\n",
       "        vertical-align: middle;\n",
       "    }\n",
       "\n",
       "    .dataframe tbody tr th {\n",
       "        vertical-align: top;\n",
       "    }\n",
       "\n",
       "    .dataframe thead th {\n",
       "        text-align: right;\n",
       "    }\n",
       "</style>\n",
       "<table border=\"1\" class=\"dataframe\">\n",
       "  <thead>\n",
       "    <tr style=\"text-align: right;\">\n",
       "      <th></th>\n",
       "      <th>a</th>\n",
       "      <th>e1</th>\n",
       "      <th>b</th>\n",
       "      <th>e2</th>\n",
       "      <th>c</th>\n",
       "      <th>e3</th>\n",
       "      <th>d</th>\n",
       "      <th>e4</th>\n",
       "      <th>e</th>\n",
       "      <th>e5</th>\n",
       "      <th>f</th>\n",
       "      <th>e6</th>\n",
       "      <th>g</th>\n",
       "    </tr>\n",
       "  </thead>\n",
       "  <tbody>\n",
       "    <tr>\n",
       "      <th>0</th>\n",
       "      <td>(f5d1c003-1f65-4a8a-ba8c-413da99d70f2,)</td>\n",
       "      <td>(f5d1c003-1f65-4a8a-ba8c-413da99d70f2, a52f651...</td>\n",
       "      <td>(a52f6519-6265-4437-9f6c-3402fb245cc7,)</td>\n",
       "      <td>(a52f6519-6265-4437-9f6c-3402fb245cc7, f5d1c00...</td>\n",
       "      <td>(f5d1c003-1f65-4a8a-ba8c-413da99d70f2,)</td>\n",
       "      <td>(f5d1c003-1f65-4a8a-ba8c-413da99d70f2, a52f651...</td>\n",
       "      <td>(a52f6519-6265-4437-9f6c-3402fb245cc7,)</td>\n",
       "      <td>(a52f6519-6265-4437-9f6c-3402fb245cc7, f5d1c00...</td>\n",
       "      <td>(f5d1c003-1f65-4a8a-ba8c-413da99d70f2,)</td>\n",
       "      <td>(f5d1c003-1f65-4a8a-ba8c-413da99d70f2, a52f651...</td>\n",
       "      <td>(a52f6519-6265-4437-9f6c-3402fb245cc7,)</td>\n",
       "      <td>(a52f6519-6265-4437-9f6c-3402fb245cc7, 36d062d...</td>\n",
       "      <td>(36d062d4-1f69-4dcc-9791-46b5c07dadef,)</td>\n",
       "    </tr>\n",
       "    <tr>\n",
       "      <th>1</th>\n",
       "      <td>(4aec5900-4572-4d09-81e6-fbc227a7f58d,)</td>\n",
       "      <td>(4aec5900-4572-4d09-81e6-fbc227a7f58d, 3eea907...</td>\n",
       "      <td>(3eea9071-9ceb-468a-ad89-9e3890833e52,)</td>\n",
       "      <td>(3eea9071-9ceb-468a-ad89-9e3890833e52, 4aec590...</td>\n",
       "      <td>(4aec5900-4572-4d09-81e6-fbc227a7f58d,)</td>\n",
       "      <td>(4aec5900-4572-4d09-81e6-fbc227a7f58d, 3eea907...</td>\n",
       "      <td>(3eea9071-9ceb-468a-ad89-9e3890833e52,)</td>\n",
       "      <td>(3eea9071-9ceb-468a-ad89-9e3890833e52, 4aec590...</td>\n",
       "      <td>(4aec5900-4572-4d09-81e6-fbc227a7f58d,)</td>\n",
       "      <td>(4aec5900-4572-4d09-81e6-fbc227a7f58d, 3eea907...</td>\n",
       "      <td>(3eea9071-9ceb-468a-ad89-9e3890833e52,)</td>\n",
       "      <td>(3eea9071-9ceb-468a-ad89-9e3890833e52, 4b9755a...</td>\n",
       "      <td>(4b9755ad-05bb-458e-b9ff-27852eb51860,)</td>\n",
       "    </tr>\n",
       "    <tr>\n",
       "      <th>2</th>\n",
       "      <td>(4aec5900-4572-4d09-81e6-fbc227a7f58d,)</td>\n",
       "      <td>(4aec5900-4572-4d09-81e6-fbc227a7f58d, 3eea907...</td>\n",
       "      <td>(3eea9071-9ceb-468a-ad89-9e3890833e52,)</td>\n",
       "      <td>(3eea9071-9ceb-468a-ad89-9e3890833e52, 4aec590...</td>\n",
       "      <td>(4aec5900-4572-4d09-81e6-fbc227a7f58d,)</td>\n",
       "      <td>(4aec5900-4572-4d09-81e6-fbc227a7f58d, 3eea907...</td>\n",
       "      <td>(3eea9071-9ceb-468a-ad89-9e3890833e52,)</td>\n",
       "      <td>(3eea9071-9ceb-468a-ad89-9e3890833e52, 4aec590...</td>\n",
       "      <td>(4aec5900-4572-4d09-81e6-fbc227a7f58d,)</td>\n",
       "      <td>(4aec5900-4572-4d09-81e6-fbc227a7f58d, 3eea907...</td>\n",
       "      <td>(3eea9071-9ceb-468a-ad89-9e3890833e52,)</td>\n",
       "      <td>(3eea9071-9ceb-468a-ad89-9e3890833e52, 50ac366...</td>\n",
       "      <td>(50ac366a-4500-4ef0-8579-22adacaf6438,)</td>\n",
       "    </tr>\n",
       "    <tr>\n",
       "      <th>3</th>\n",
       "      <td>(4aec5900-4572-4d09-81e6-fbc227a7f58d,)</td>\n",
       "      <td>(4aec5900-4572-4d09-81e6-fbc227a7f58d, 3eea907...</td>\n",
       "      <td>(3eea9071-9ceb-468a-ad89-9e3890833e52,)</td>\n",
       "      <td>(3eea9071-9ceb-468a-ad89-9e3890833e52, 4aec590...</td>\n",
       "      <td>(4aec5900-4572-4d09-81e6-fbc227a7f58d,)</td>\n",
       "      <td>(4aec5900-4572-4d09-81e6-fbc227a7f58d, 3eea907...</td>\n",
       "      <td>(3eea9071-9ceb-468a-ad89-9e3890833e52,)</td>\n",
       "      <td>(3eea9071-9ceb-468a-ad89-9e3890833e52, 4aec590...</td>\n",
       "      <td>(4aec5900-4572-4d09-81e6-fbc227a7f58d,)</td>\n",
       "      <td>(4aec5900-4572-4d09-81e6-fbc227a7f58d, 3eea907...</td>\n",
       "      <td>(3eea9071-9ceb-468a-ad89-9e3890833e52,)</td>\n",
       "      <td>(3eea9071-9ceb-468a-ad89-9e3890833e52, 6fba2e2...</td>\n",
       "      <td>(6fba2e2c-1552-41ad-80ee-fffdfbe58d29,)</td>\n",
       "    </tr>\n",
       "    <tr>\n",
       "      <th>4</th>\n",
       "      <td>(4aec5900-4572-4d09-81e6-fbc227a7f58d,)</td>\n",
       "      <td>(4aec5900-4572-4d09-81e6-fbc227a7f58d, 3eea907...</td>\n",
       "      <td>(3eea9071-9ceb-468a-ad89-9e3890833e52,)</td>\n",
       "      <td>(3eea9071-9ceb-468a-ad89-9e3890833e52, 4aec590...</td>\n",
       "      <td>(4aec5900-4572-4d09-81e6-fbc227a7f58d,)</td>\n",
       "      <td>(4aec5900-4572-4d09-81e6-fbc227a7f58d, 3eea907...</td>\n",
       "      <td>(3eea9071-9ceb-468a-ad89-9e3890833e52,)</td>\n",
       "      <td>(3eea9071-9ceb-468a-ad89-9e3890833e52, 4aec590...</td>\n",
       "      <td>(4aec5900-4572-4d09-81e6-fbc227a7f58d,)</td>\n",
       "      <td>(4aec5900-4572-4d09-81e6-fbc227a7f58d, 3eea907...</td>\n",
       "      <td>(3eea9071-9ceb-468a-ad89-9e3890833e52,)</td>\n",
       "      <td>(3eea9071-9ceb-468a-ad89-9e3890833e52, 75c93ca...</td>\n",
       "      <td>(75c93ca7-955f-4e24-b728-cb5dd9ed1d2e,)</td>\n",
       "    </tr>\n",
       "    <tr>\n",
       "      <th>5</th>\n",
       "      <td>(f5d1c003-1f65-4a8a-ba8c-413da99d70f2,)</td>\n",
       "      <td>(f5d1c003-1f65-4a8a-ba8c-413da99d70f2, a52f651...</td>\n",
       "      <td>(a52f6519-6265-4437-9f6c-3402fb245cc7,)</td>\n",
       "      <td>(a52f6519-6265-4437-9f6c-3402fb245cc7, f5d1c00...</td>\n",
       "      <td>(f5d1c003-1f65-4a8a-ba8c-413da99d70f2,)</td>\n",
       "      <td>(f5d1c003-1f65-4a8a-ba8c-413da99d70f2, a52f651...</td>\n",
       "      <td>(a52f6519-6265-4437-9f6c-3402fb245cc7,)</td>\n",
       "      <td>(a52f6519-6265-4437-9f6c-3402fb245cc7, f5d1c00...</td>\n",
       "      <td>(f5d1c003-1f65-4a8a-ba8c-413da99d70f2,)</td>\n",
       "      <td>(f5d1c003-1f65-4a8a-ba8c-413da99d70f2, a52f651...</td>\n",
       "      <td>(a52f6519-6265-4437-9f6c-3402fb245cc7,)</td>\n",
       "      <td>(a52f6519-6265-4437-9f6c-3402fb245cc7, 7f91e81...</td>\n",
       "      <td>(7f91e814-3f77-4ee9-bfee-01d796b8f424,)</td>\n",
       "    </tr>\n",
       "    <tr>\n",
       "      <th>6</th>\n",
       "      <td>(f5d1c003-1f65-4a8a-ba8c-413da99d70f2,)</td>\n",
       "      <td>(f5d1c003-1f65-4a8a-ba8c-413da99d70f2, a52f651...</td>\n",
       "      <td>(a52f6519-6265-4437-9f6c-3402fb245cc7,)</td>\n",
       "      <td>(a52f6519-6265-4437-9f6c-3402fb245cc7, f5d1c00...</td>\n",
       "      <td>(f5d1c003-1f65-4a8a-ba8c-413da99d70f2,)</td>\n",
       "      <td>(f5d1c003-1f65-4a8a-ba8c-413da99d70f2, a52f651...</td>\n",
       "      <td>(a52f6519-6265-4437-9f6c-3402fb245cc7,)</td>\n",
       "      <td>(a52f6519-6265-4437-9f6c-3402fb245cc7, f5d1c00...</td>\n",
       "      <td>(f5d1c003-1f65-4a8a-ba8c-413da99d70f2,)</td>\n",
       "      <td>(f5d1c003-1f65-4a8a-ba8c-413da99d70f2, a52f651...</td>\n",
       "      <td>(a52f6519-6265-4437-9f6c-3402fb245cc7,)</td>\n",
       "      <td>(a52f6519-6265-4437-9f6c-3402fb245cc7, 7f91e81...</td>\n",
       "      <td>(7f91e814-3f77-4ee9-bfee-01d796b8f424,)</td>\n",
       "    </tr>\n",
       "    <tr>\n",
       "      <th>7</th>\n",
       "      <td>(f5d1c003-1f65-4a8a-ba8c-413da99d70f2,)</td>\n",
       "      <td>(f5d1c003-1f65-4a8a-ba8c-413da99d70f2, a52f651...</td>\n",
       "      <td>(a52f6519-6265-4437-9f6c-3402fb245cc7,)</td>\n",
       "      <td>(a52f6519-6265-4437-9f6c-3402fb245cc7, f5d1c00...</td>\n",
       "      <td>(f5d1c003-1f65-4a8a-ba8c-413da99d70f2,)</td>\n",
       "      <td>(f5d1c003-1f65-4a8a-ba8c-413da99d70f2, a52f651...</td>\n",
       "      <td>(a52f6519-6265-4437-9f6c-3402fb245cc7,)</td>\n",
       "      <td>(a52f6519-6265-4437-9f6c-3402fb245cc7, f5d1c00...</td>\n",
       "      <td>(f5d1c003-1f65-4a8a-ba8c-413da99d70f2,)</td>\n",
       "      <td>(f5d1c003-1f65-4a8a-ba8c-413da99d70f2, a52f651...</td>\n",
       "      <td>(a52f6519-6265-4437-9f6c-3402fb245cc7,)</td>\n",
       "      <td>(a52f6519-6265-4437-9f6c-3402fb245cc7, 7f91e81...</td>\n",
       "      <td>(7f91e814-3f77-4ee9-bfee-01d796b8f424,)</td>\n",
       "    </tr>\n",
       "    <tr>\n",
       "      <th>8</th>\n",
       "      <td>(f5d1c003-1f65-4a8a-ba8c-413da99d70f2,)</td>\n",
       "      <td>(f5d1c003-1f65-4a8a-ba8c-413da99d70f2, a52f651...</td>\n",
       "      <td>(a52f6519-6265-4437-9f6c-3402fb245cc7,)</td>\n",
       "      <td>(a52f6519-6265-4437-9f6c-3402fb245cc7, f5d1c00...</td>\n",
       "      <td>(f5d1c003-1f65-4a8a-ba8c-413da99d70f2,)</td>\n",
       "      <td>(f5d1c003-1f65-4a8a-ba8c-413da99d70f2, a52f651...</td>\n",
       "      <td>(a52f6519-6265-4437-9f6c-3402fb245cc7,)</td>\n",
       "      <td>(a52f6519-6265-4437-9f6c-3402fb245cc7, f5d1c00...</td>\n",
       "      <td>(f5d1c003-1f65-4a8a-ba8c-413da99d70f2,)</td>\n",
       "      <td>(f5d1c003-1f65-4a8a-ba8c-413da99d70f2, a52f651...</td>\n",
       "      <td>(a52f6519-6265-4437-9f6c-3402fb245cc7,)</td>\n",
       "      <td>(a52f6519-6265-4437-9f6c-3402fb245cc7, 95daee8...</td>\n",
       "      <td>(95daee89-9905-4d51-9c4f-e1adbf747788,)</td>\n",
       "    </tr>\n",
       "    <tr>\n",
       "      <th>9</th>\n",
       "      <td>(4aec5900-4572-4d09-81e6-fbc227a7f58d,)</td>\n",
       "      <td>(4aec5900-4572-4d09-81e6-fbc227a7f58d, 3eea907...</td>\n",
       "      <td>(3eea9071-9ceb-468a-ad89-9e3890833e52,)</td>\n",
       "      <td>(3eea9071-9ceb-468a-ad89-9e3890833e52, 4aec590...</td>\n",
       "      <td>(4aec5900-4572-4d09-81e6-fbc227a7f58d,)</td>\n",
       "      <td>(4aec5900-4572-4d09-81e6-fbc227a7f58d, 3eea907...</td>\n",
       "      <td>(3eea9071-9ceb-468a-ad89-9e3890833e52,)</td>\n",
       "      <td>(3eea9071-9ceb-468a-ad89-9e3890833e52, 4aec590...</td>\n",
       "      <td>(4aec5900-4572-4d09-81e6-fbc227a7f58d,)</td>\n",
       "      <td>(4aec5900-4572-4d09-81e6-fbc227a7f58d, 3eea907...</td>\n",
       "      <td>(3eea9071-9ceb-468a-ad89-9e3890833e52,)</td>\n",
       "      <td>(3eea9071-9ceb-468a-ad89-9e3890833e52, 164c6ff...</td>\n",
       "      <td>(164c6ffb-52f2-4224-a72d-7d249938a5ea,)</td>\n",
       "    </tr>\n",
       "  </tbody>\n",
       "</table>\n",
       "</div>"
      ],
      "text/plain": [
       "                                         a  \\\n",
       "0  (f5d1c003-1f65-4a8a-ba8c-413da99d70f2,)   \n",
       "1  (4aec5900-4572-4d09-81e6-fbc227a7f58d,)   \n",
       "2  (4aec5900-4572-4d09-81e6-fbc227a7f58d,)   \n",
       "3  (4aec5900-4572-4d09-81e6-fbc227a7f58d,)   \n",
       "4  (4aec5900-4572-4d09-81e6-fbc227a7f58d,)   \n",
       "5  (f5d1c003-1f65-4a8a-ba8c-413da99d70f2,)   \n",
       "6  (f5d1c003-1f65-4a8a-ba8c-413da99d70f2,)   \n",
       "7  (f5d1c003-1f65-4a8a-ba8c-413da99d70f2,)   \n",
       "8  (f5d1c003-1f65-4a8a-ba8c-413da99d70f2,)   \n",
       "9  (4aec5900-4572-4d09-81e6-fbc227a7f58d,)   \n",
       "\n",
       "                                                  e1  \\\n",
       "0  (f5d1c003-1f65-4a8a-ba8c-413da99d70f2, a52f651...   \n",
       "1  (4aec5900-4572-4d09-81e6-fbc227a7f58d, 3eea907...   \n",
       "2  (4aec5900-4572-4d09-81e6-fbc227a7f58d, 3eea907...   \n",
       "3  (4aec5900-4572-4d09-81e6-fbc227a7f58d, 3eea907...   \n",
       "4  (4aec5900-4572-4d09-81e6-fbc227a7f58d, 3eea907...   \n",
       "5  (f5d1c003-1f65-4a8a-ba8c-413da99d70f2, a52f651...   \n",
       "6  (f5d1c003-1f65-4a8a-ba8c-413da99d70f2, a52f651...   \n",
       "7  (f5d1c003-1f65-4a8a-ba8c-413da99d70f2, a52f651...   \n",
       "8  (f5d1c003-1f65-4a8a-ba8c-413da99d70f2, a52f651...   \n",
       "9  (4aec5900-4572-4d09-81e6-fbc227a7f58d, 3eea907...   \n",
       "\n",
       "                                         b  \\\n",
       "0  (a52f6519-6265-4437-9f6c-3402fb245cc7,)   \n",
       "1  (3eea9071-9ceb-468a-ad89-9e3890833e52,)   \n",
       "2  (3eea9071-9ceb-468a-ad89-9e3890833e52,)   \n",
       "3  (3eea9071-9ceb-468a-ad89-9e3890833e52,)   \n",
       "4  (3eea9071-9ceb-468a-ad89-9e3890833e52,)   \n",
       "5  (a52f6519-6265-4437-9f6c-3402fb245cc7,)   \n",
       "6  (a52f6519-6265-4437-9f6c-3402fb245cc7,)   \n",
       "7  (a52f6519-6265-4437-9f6c-3402fb245cc7,)   \n",
       "8  (a52f6519-6265-4437-9f6c-3402fb245cc7,)   \n",
       "9  (3eea9071-9ceb-468a-ad89-9e3890833e52,)   \n",
       "\n",
       "                                                  e2  \\\n",
       "0  (a52f6519-6265-4437-9f6c-3402fb245cc7, f5d1c00...   \n",
       "1  (3eea9071-9ceb-468a-ad89-9e3890833e52, 4aec590...   \n",
       "2  (3eea9071-9ceb-468a-ad89-9e3890833e52, 4aec590...   \n",
       "3  (3eea9071-9ceb-468a-ad89-9e3890833e52, 4aec590...   \n",
       "4  (3eea9071-9ceb-468a-ad89-9e3890833e52, 4aec590...   \n",
       "5  (a52f6519-6265-4437-9f6c-3402fb245cc7, f5d1c00...   \n",
       "6  (a52f6519-6265-4437-9f6c-3402fb245cc7, f5d1c00...   \n",
       "7  (a52f6519-6265-4437-9f6c-3402fb245cc7, f5d1c00...   \n",
       "8  (a52f6519-6265-4437-9f6c-3402fb245cc7, f5d1c00...   \n",
       "9  (3eea9071-9ceb-468a-ad89-9e3890833e52, 4aec590...   \n",
       "\n",
       "                                         c  \\\n",
       "0  (f5d1c003-1f65-4a8a-ba8c-413da99d70f2,)   \n",
       "1  (4aec5900-4572-4d09-81e6-fbc227a7f58d,)   \n",
       "2  (4aec5900-4572-4d09-81e6-fbc227a7f58d,)   \n",
       "3  (4aec5900-4572-4d09-81e6-fbc227a7f58d,)   \n",
       "4  (4aec5900-4572-4d09-81e6-fbc227a7f58d,)   \n",
       "5  (f5d1c003-1f65-4a8a-ba8c-413da99d70f2,)   \n",
       "6  (f5d1c003-1f65-4a8a-ba8c-413da99d70f2,)   \n",
       "7  (f5d1c003-1f65-4a8a-ba8c-413da99d70f2,)   \n",
       "8  (f5d1c003-1f65-4a8a-ba8c-413da99d70f2,)   \n",
       "9  (4aec5900-4572-4d09-81e6-fbc227a7f58d,)   \n",
       "\n",
       "                                                  e3  \\\n",
       "0  (f5d1c003-1f65-4a8a-ba8c-413da99d70f2, a52f651...   \n",
       "1  (4aec5900-4572-4d09-81e6-fbc227a7f58d, 3eea907...   \n",
       "2  (4aec5900-4572-4d09-81e6-fbc227a7f58d, 3eea907...   \n",
       "3  (4aec5900-4572-4d09-81e6-fbc227a7f58d, 3eea907...   \n",
       "4  (4aec5900-4572-4d09-81e6-fbc227a7f58d, 3eea907...   \n",
       "5  (f5d1c003-1f65-4a8a-ba8c-413da99d70f2, a52f651...   \n",
       "6  (f5d1c003-1f65-4a8a-ba8c-413da99d70f2, a52f651...   \n",
       "7  (f5d1c003-1f65-4a8a-ba8c-413da99d70f2, a52f651...   \n",
       "8  (f5d1c003-1f65-4a8a-ba8c-413da99d70f2, a52f651...   \n",
       "9  (4aec5900-4572-4d09-81e6-fbc227a7f58d, 3eea907...   \n",
       "\n",
       "                                         d  \\\n",
       "0  (a52f6519-6265-4437-9f6c-3402fb245cc7,)   \n",
       "1  (3eea9071-9ceb-468a-ad89-9e3890833e52,)   \n",
       "2  (3eea9071-9ceb-468a-ad89-9e3890833e52,)   \n",
       "3  (3eea9071-9ceb-468a-ad89-9e3890833e52,)   \n",
       "4  (3eea9071-9ceb-468a-ad89-9e3890833e52,)   \n",
       "5  (a52f6519-6265-4437-9f6c-3402fb245cc7,)   \n",
       "6  (a52f6519-6265-4437-9f6c-3402fb245cc7,)   \n",
       "7  (a52f6519-6265-4437-9f6c-3402fb245cc7,)   \n",
       "8  (a52f6519-6265-4437-9f6c-3402fb245cc7,)   \n",
       "9  (3eea9071-9ceb-468a-ad89-9e3890833e52,)   \n",
       "\n",
       "                                                  e4  \\\n",
       "0  (a52f6519-6265-4437-9f6c-3402fb245cc7, f5d1c00...   \n",
       "1  (3eea9071-9ceb-468a-ad89-9e3890833e52, 4aec590...   \n",
       "2  (3eea9071-9ceb-468a-ad89-9e3890833e52, 4aec590...   \n",
       "3  (3eea9071-9ceb-468a-ad89-9e3890833e52, 4aec590...   \n",
       "4  (3eea9071-9ceb-468a-ad89-9e3890833e52, 4aec590...   \n",
       "5  (a52f6519-6265-4437-9f6c-3402fb245cc7, f5d1c00...   \n",
       "6  (a52f6519-6265-4437-9f6c-3402fb245cc7, f5d1c00...   \n",
       "7  (a52f6519-6265-4437-9f6c-3402fb245cc7, f5d1c00...   \n",
       "8  (a52f6519-6265-4437-9f6c-3402fb245cc7, f5d1c00...   \n",
       "9  (3eea9071-9ceb-468a-ad89-9e3890833e52, 4aec590...   \n",
       "\n",
       "                                         e  \\\n",
       "0  (f5d1c003-1f65-4a8a-ba8c-413da99d70f2,)   \n",
       "1  (4aec5900-4572-4d09-81e6-fbc227a7f58d,)   \n",
       "2  (4aec5900-4572-4d09-81e6-fbc227a7f58d,)   \n",
       "3  (4aec5900-4572-4d09-81e6-fbc227a7f58d,)   \n",
       "4  (4aec5900-4572-4d09-81e6-fbc227a7f58d,)   \n",
       "5  (f5d1c003-1f65-4a8a-ba8c-413da99d70f2,)   \n",
       "6  (f5d1c003-1f65-4a8a-ba8c-413da99d70f2,)   \n",
       "7  (f5d1c003-1f65-4a8a-ba8c-413da99d70f2,)   \n",
       "8  (f5d1c003-1f65-4a8a-ba8c-413da99d70f2,)   \n",
       "9  (4aec5900-4572-4d09-81e6-fbc227a7f58d,)   \n",
       "\n",
       "                                                  e5  \\\n",
       "0  (f5d1c003-1f65-4a8a-ba8c-413da99d70f2, a52f651...   \n",
       "1  (4aec5900-4572-4d09-81e6-fbc227a7f58d, 3eea907...   \n",
       "2  (4aec5900-4572-4d09-81e6-fbc227a7f58d, 3eea907...   \n",
       "3  (4aec5900-4572-4d09-81e6-fbc227a7f58d, 3eea907...   \n",
       "4  (4aec5900-4572-4d09-81e6-fbc227a7f58d, 3eea907...   \n",
       "5  (f5d1c003-1f65-4a8a-ba8c-413da99d70f2, a52f651...   \n",
       "6  (f5d1c003-1f65-4a8a-ba8c-413da99d70f2, a52f651...   \n",
       "7  (f5d1c003-1f65-4a8a-ba8c-413da99d70f2, a52f651...   \n",
       "8  (f5d1c003-1f65-4a8a-ba8c-413da99d70f2, a52f651...   \n",
       "9  (4aec5900-4572-4d09-81e6-fbc227a7f58d, 3eea907...   \n",
       "\n",
       "                                         f  \\\n",
       "0  (a52f6519-6265-4437-9f6c-3402fb245cc7,)   \n",
       "1  (3eea9071-9ceb-468a-ad89-9e3890833e52,)   \n",
       "2  (3eea9071-9ceb-468a-ad89-9e3890833e52,)   \n",
       "3  (3eea9071-9ceb-468a-ad89-9e3890833e52,)   \n",
       "4  (3eea9071-9ceb-468a-ad89-9e3890833e52,)   \n",
       "5  (a52f6519-6265-4437-9f6c-3402fb245cc7,)   \n",
       "6  (a52f6519-6265-4437-9f6c-3402fb245cc7,)   \n",
       "7  (a52f6519-6265-4437-9f6c-3402fb245cc7,)   \n",
       "8  (a52f6519-6265-4437-9f6c-3402fb245cc7,)   \n",
       "9  (3eea9071-9ceb-468a-ad89-9e3890833e52,)   \n",
       "\n",
       "                                                  e6  \\\n",
       "0  (a52f6519-6265-4437-9f6c-3402fb245cc7, 36d062d...   \n",
       "1  (3eea9071-9ceb-468a-ad89-9e3890833e52, 4b9755a...   \n",
       "2  (3eea9071-9ceb-468a-ad89-9e3890833e52, 50ac366...   \n",
       "3  (3eea9071-9ceb-468a-ad89-9e3890833e52, 6fba2e2...   \n",
       "4  (3eea9071-9ceb-468a-ad89-9e3890833e52, 75c93ca...   \n",
       "5  (a52f6519-6265-4437-9f6c-3402fb245cc7, 7f91e81...   \n",
       "6  (a52f6519-6265-4437-9f6c-3402fb245cc7, 7f91e81...   \n",
       "7  (a52f6519-6265-4437-9f6c-3402fb245cc7, 7f91e81...   \n",
       "8  (a52f6519-6265-4437-9f6c-3402fb245cc7, 95daee8...   \n",
       "9  (3eea9071-9ceb-468a-ad89-9e3890833e52, 164c6ff...   \n",
       "\n",
       "                                         g  \n",
       "0  (36d062d4-1f69-4dcc-9791-46b5c07dadef,)  \n",
       "1  (4b9755ad-05bb-458e-b9ff-27852eb51860,)  \n",
       "2  (50ac366a-4500-4ef0-8579-22adacaf6438,)  \n",
       "3  (6fba2e2c-1552-41ad-80ee-fffdfbe58d29,)  \n",
       "4  (75c93ca7-955f-4e24-b728-cb5dd9ed1d2e,)  \n",
       "5  (7f91e814-3f77-4ee9-bfee-01d796b8f424,)  \n",
       "6  (7f91e814-3f77-4ee9-bfee-01d796b8f424,)  \n",
       "7  (7f91e814-3f77-4ee9-bfee-01d796b8f424,)  \n",
       "8  (95daee89-9905-4d51-9c4f-e1adbf747788,)  \n",
       "9  (164c6ffb-52f2-4224-a72d-7d249938a5ea,)  "
      ]
     },
     "execution_count": 10,
     "metadata": {},
     "output_type": "execute_result"
    }
   ],
   "source": [
    "cg.limit(10).toPandas()\n",
    "#answer I belive it did. "
   ]
  }
 ],
 "metadata": {
  "kernelspec": {
   "display_name": "conda_python3",
   "language": "python",
   "name": "conda_python3"
  },
  "language_info": {
   "codemirror_mode": {
    "name": "ipython",
    "version": 3
   },
   "file_extension": ".py",
   "mimetype": "text/x-python",
   "name": "python",
   "nbconvert_exporter": "python",
   "pygments_lexer": "ipython3",
   "version": "3.10.8"
  }
 },
 "nbformat": 4,
 "nbformat_minor": 5
}
