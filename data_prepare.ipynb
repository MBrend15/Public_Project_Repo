{
 "cells": [
  {
   "cell_type": "code",
   "execution_count": 1,
   "id": "64379c39-b074-422b-8dec-32a9e47950e6",
   "metadata": {
    "collapsed": true,
    "jupyter": {
     "outputs_hidden": true
    },
    "tags": []
   },
   "outputs": [
    {
     "name": "stderr",
     "output_type": "stream",
     "text": [
      "Warning: Ignoring non-Spark config property: fs.s3a.access.key\n",
      "Warning: Ignoring non-Spark config property: fs.s3a.secret.key\n"
     ]
    },
    {
     "name": "stdout",
     "output_type": "stream",
     "text": [
      ":: loading settings :: url = jar:file:/home/ec2-user/anaconda3/envs/python3/lib/python3.10/site-packages/pyspark/jars/ivy-2.5.0.jar!/org/apache/ivy/core/settings/ivysettings.xml\n"
     ]
    },
    {
     "name": "stderr",
     "output_type": "stream",
     "text": [
      "Ivy Default Cache set to: /home/ec2-user/.ivy2/cache\n",
      "The jars for the packages stored in: /home/ec2-user/.ivy2/jars\n",
      "graphframes#graphframes added as a dependency\n",
      ":: resolving dependencies :: org.apache.spark#spark-submit-parent-557077ab-3e77-461f-abd8-8868ce34cf39;1.0\n",
      "\tconfs: [default]\n",
      "\tfound graphframes#graphframes;0.8.2-spark3.2-s_2.12 in spark-packages\n",
      "\tfound org.slf4j#slf4j-api;1.7.16 in central\n",
      "downloading https://repos.spark-packages.org/graphframes/graphframes/0.8.2-spark3.2-s_2.12/graphframes-0.8.2-spark3.2-s_2.12.jar ...\n",
      "\t[SUCCESSFUL ] graphframes#graphframes;0.8.2-spark3.2-s_2.12!graphframes.jar (133ms)\n",
      "downloading https://repo1.maven.org/maven2/org/slf4j/slf4j-api/1.7.16/slf4j-api-1.7.16.jar ...\n",
      "\t[SUCCESSFUL ] org.slf4j#slf4j-api;1.7.16!slf4j-api.jar (33ms)\n",
      ":: resolution report :: resolve 732ms :: artifacts dl 169ms\n",
      "\t:: modules in use:\n",
      "\tgraphframes#graphframes;0.8.2-spark3.2-s_2.12 from spark-packages in [default]\n",
      "\torg.slf4j#slf4j-api;1.7.16 from central in [default]\n",
      "\t---------------------------------------------------------------------\n",
      "\t|                  |            modules            ||   artifacts   |\n",
      "\t|       conf       | number| search|dwnlded|evicted|| number|dwnlded|\n",
      "\t---------------------------------------------------------------------\n",
      "\t|      default     |   2   |   2   |   2   |   0   ||   2   |   2   |\n",
      "\t---------------------------------------------------------------------\n",
      ":: retrieving :: org.apache.spark#spark-submit-parent-557077ab-3e77-461f-abd8-8868ce34cf39\n",
      "\tconfs: [default]\n",
      "\t2 artifacts copied, 0 already retrieved (281kB/5ms)\n"
     ]
    },
    {
     "name": "stdout",
     "output_type": "stream",
     "text": [
      "23/03/22 01:32:08 WARN NativeCodeLoader: Unable to load native-hadoop library for your platform... using builtin-java classes where applicable\n"
     ]
    },
    {
     "name": "stderr",
     "output_type": "stream",
     "text": [
      "Setting default log level to \"WARN\".\n",
      "To adjust logging level use sc.setLogLevel(newLevel). For SparkR, use setLogLevel(newLevel).\n"
     ]
    },
    {
     "name": "stdout",
     "output_type": "stream",
     "text": [
      "23/03/22 01:32:09 WARN SparkConf: Note that spark.local.dir will be overridden by the value set by the cluster manager (via SPARK_LOCAL_DIRS in mesos/standalone/kubernetes and LOCAL_DIRS in YARN).\n"
     ]
    }
   ],
   "source": [
    "%run read_file.ipynb"
   ]
  },
  {
   "cell_type": "code",
   "execution_count": 7,
   "id": "a72e5efa-c652-4c0d-b395-88f5cf3251f2",
   "metadata": {
    "tags": []
   },
   "outputs": [],
   "source": [
    "%run trace_encode.ipynb"
   ]
  },
  {
   "cell_type": "code",
   "execution_count": 2,
   "id": "f7ab225a-bfa1-439d-8d35-0a0bccfd5028",
   "metadata": {
    "tags": []
   },
   "outputs": [
    {
     "name": "stderr",
     "output_type": "stream",
     "text": [
      "                                                                                \r"
     ]
    },
    {
     "name": "stdout",
     "output_type": "stream",
     "text": [
      " 1:38AM UTC on Mar 22, 2023 --- read time: 30.113750457763672 seconds ---\n"
     ]
    }
   ],
   "source": [
    "#first question I have is how many events do I have when I call readfirst\n",
    "df = readFirstEvents()"
   ]
  },
  {
   "cell_type": "code",
   "execution_count": 4,
   "id": "2d250d2d-fa9f-42a9-82ef-1bdc3304ba66",
   "metadata": {
    "tags": []
   },
   "outputs": [
    {
     "data": {
      "text/plain": [
       "948334"
      ]
     },
     "execution_count": 4,
     "metadata": {},
     "output_type": "execute_result"
    }
   ],
   "source": [
    "#what is our count\n",
    "df.count()"
   ]
  },
  {
   "cell_type": "code",
   "execution_count": 3,
   "id": "7d99d91e-8f93-4d06-9b4f-2ce1a8e8fe9b",
   "metadata": {
    "tags": []
   },
   "outputs": [
    {
     "name": "stderr",
     "output_type": "stream",
     "text": [
      "[Stage 4:======================================================>  (48 + 2) / 50]\r"
     ]
    },
    {
     "name": "stdout",
     "output_type": "stream",
     "text": [
      "+---------+\n",
      "|event_day|\n",
      "+---------+\n",
      "|       23|\n",
      "+---------+\n",
      "\n"
     ]
    },
    {
     "name": "stderr",
     "output_type": "stream",
     "text": [
      "                                                                                \r"
     ]
    }
   ],
   "source": [
    "#how many days do we have\n",
    "df.select('event_day').distinct().show()"
   ]
  },
  {
   "cell_type": "code",
   "execution_count": 5,
   "id": "ad44cb42-cce6-421b-b869-6e51f71eaf3e",
   "metadata": {
    "tags": []
   },
   "outputs": [
    {
     "name": "stdout",
     "output_type": "stream",
     "text": [
      "+----------+\n",
      "|event_hour|\n",
      "+----------+\n",
      "|        13|\n",
      "|        16|\n",
      "|        19|\n",
      "|        15|\n",
      "|        17|\n",
      "|        14|\n",
      "|        18|\n",
      "+----------+\n",
      "\n"
     ]
    }
   ],
   "source": [
    "#how many hours\n",
    "df.select('event_hour').distinct().show()"
   ]
  },
  {
   "cell_type": "code",
   "execution_count": 8,
   "id": "7fdc312f-be21-48db-9ab0-efde129ad997",
   "metadata": {
    "tags": []
   },
   "outputs": [
    {
     "data": {
      "text/plain": [
       "3624"
      ]
     },
     "execution_count": 8,
     "metadata": {},
     "output_type": "execute_result"
    }
   ],
   "source": [
    "#how many malicious events do you have? \n",
    "df_m = df.where(col('malicious') == 1)\n",
    "df_m.count()"
   ]
  },
  {
   "cell_type": "code",
   "execution_count": 9,
   "id": "265bf0fe-3a60-4807-83b4-3fb7699097b4",
   "metadata": {
    "tags": []
   },
   "outputs": [
    {
     "name": "stderr",
     "output_type": "stream",
     "text": [
      "/home/ec2-user/anaconda3/envs/python3/lib/python3.10/site-packages/pyspark/sql/dataframe.py:148: UserWarning: DataFrame.sql_ctx is an internal property, and will be removed in future releases. Use DataFrame.sparkSession instead.\n",
      "  warnings.warn(\n",
      "/home/ec2-user/anaconda3/envs/python3/lib/python3.10/site-packages/pyspark/sql/dataframe.py:127: UserWarning: DataFrame constructor is internal. Do not directly use it.\n",
      "  warnings.warn(\"DataFrame constructor is internal. Do not directly use it.\")\n",
      "[Stage 64:====================================>                (137 + 17) / 200]\r"
     ]
    },
    {
     "name": "stdout",
     "output_type": "stream",
     "text": [
      "event traces: 1261\n"
     ]
    },
    {
     "name": "stderr",
     "output_type": "stream",
     "text": [
      "                                                                                \r"
     ]
    }
   ],
   "source": [
    "#does first events work now on data duplication\n",
    "cg = create_graph(df_m)"
   ]
  },
  {
   "cell_type": "code",
   "execution_count": 10,
   "id": "c071118f-b78c-41f6-931a-e17ee2cb654f",
   "metadata": {
    "collapsed": true,
    "jupyter": {
     "outputs_hidden": true
    },
    "tags": []
   },
   "outputs": [
    {
     "data": {
      "text/html": [
       "<div>\n",
       "<style scoped>\n",
       "    .dataframe tbody tr th:only-of-type {\n",
       "        vertical-align: middle;\n",
       "    }\n",
       "\n",
       "    .dataframe tbody tr th {\n",
       "        vertical-align: top;\n",
       "    }\n",
       "\n",
       "    .dataframe thead th {\n",
       "        text-align: right;\n",
       "    }\n",
       "</style>\n",
       "<table border=\"1\" class=\"dataframe\">\n",
       "  <thead>\n",
       "    <tr style=\"text-align: right;\">\n",
       "      <th></th>\n",
       "      <th>a</th>\n",
       "      <th>e1</th>\n",
       "      <th>b</th>\n",
       "      <th>e2</th>\n",
       "      <th>c</th>\n",
       "      <th>e3</th>\n",
       "      <th>d</th>\n",
       "      <th>e4</th>\n",
       "      <th>e</th>\n",
       "      <th>e5</th>\n",
       "      <th>f</th>\n",
       "      <th>e6</th>\n",
       "      <th>g</th>\n",
       "    </tr>\n",
       "  </thead>\n",
       "  <tbody>\n",
       "    <tr>\n",
       "      <th>0</th>\n",
       "      <td>(f5d1c003-1f65-4a8a-ba8c-413da99d70f2,)</td>\n",
       "      <td>(f5d1c003-1f65-4a8a-ba8c-413da99d70f2, a52f651...</td>\n",
       "      <td>(a52f6519-6265-4437-9f6c-3402fb245cc7,)</td>\n",
       "      <td>(a52f6519-6265-4437-9f6c-3402fb245cc7, f5d1c00...</td>\n",
       "      <td>(f5d1c003-1f65-4a8a-ba8c-413da99d70f2,)</td>\n",
       "      <td>(f5d1c003-1f65-4a8a-ba8c-413da99d70f2, a52f651...</td>\n",
       "      <td>(a52f6519-6265-4437-9f6c-3402fb245cc7,)</td>\n",
       "      <td>(a52f6519-6265-4437-9f6c-3402fb245cc7, f5d1c00...</td>\n",
       "      <td>(f5d1c003-1f65-4a8a-ba8c-413da99d70f2,)</td>\n",
       "      <td>(f5d1c003-1f65-4a8a-ba8c-413da99d70f2, a52f651...</td>\n",
       "      <td>(a52f6519-6265-4437-9f6c-3402fb245cc7,)</td>\n",
       "      <td>(a52f6519-6265-4437-9f6c-3402fb245cc7, 36d062d...</td>\n",
       "      <td>(36d062d4-1f69-4dcc-9791-46b5c07dadef,)</td>\n",
       "    </tr>\n",
       "    <tr>\n",
       "      <th>1</th>\n",
       "      <td>(4aec5900-4572-4d09-81e6-fbc227a7f58d,)</td>\n",
       "      <td>(4aec5900-4572-4d09-81e6-fbc227a7f58d, 3eea907...</td>\n",
       "      <td>(3eea9071-9ceb-468a-ad89-9e3890833e52,)</td>\n",
       "      <td>(3eea9071-9ceb-468a-ad89-9e3890833e52, 4aec590...</td>\n",
       "      <td>(4aec5900-4572-4d09-81e6-fbc227a7f58d,)</td>\n",
       "      <td>(4aec5900-4572-4d09-81e6-fbc227a7f58d, 3eea907...</td>\n",
       "      <td>(3eea9071-9ceb-468a-ad89-9e3890833e52,)</td>\n",
       "      <td>(3eea9071-9ceb-468a-ad89-9e3890833e52, 4aec590...</td>\n",
       "      <td>(4aec5900-4572-4d09-81e6-fbc227a7f58d,)</td>\n",
       "      <td>(4aec5900-4572-4d09-81e6-fbc227a7f58d, 3eea907...</td>\n",
       "      <td>(3eea9071-9ceb-468a-ad89-9e3890833e52,)</td>\n",
       "      <td>(3eea9071-9ceb-468a-ad89-9e3890833e52, 4b9755a...</td>\n",
       "      <td>(4b9755ad-05bb-458e-b9ff-27852eb51860,)</td>\n",
       "    </tr>\n",
       "    <tr>\n",
       "      <th>2</th>\n",
       "      <td>(4aec5900-4572-4d09-81e6-fbc227a7f58d,)</td>\n",
       "      <td>(4aec5900-4572-4d09-81e6-fbc227a7f58d, 3eea907...</td>\n",
       "      <td>(3eea9071-9ceb-468a-ad89-9e3890833e52,)</td>\n",
       "      <td>(3eea9071-9ceb-468a-ad89-9e3890833e52, 4aec590...</td>\n",
       "      <td>(4aec5900-4572-4d09-81e6-fbc227a7f58d,)</td>\n",
       "      <td>(4aec5900-4572-4d09-81e6-fbc227a7f58d, 3eea907...</td>\n",
       "      <td>(3eea9071-9ceb-468a-ad89-9e3890833e52,)</td>\n",
       "      <td>(3eea9071-9ceb-468a-ad89-9e3890833e52, 4aec590...</td>\n",
       "      <td>(4aec5900-4572-4d09-81e6-fbc227a7f58d,)</td>\n",
       "      <td>(4aec5900-4572-4d09-81e6-fbc227a7f58d, 3eea907...</td>\n",
       "      <td>(3eea9071-9ceb-468a-ad89-9e3890833e52,)</td>\n",
       "      <td>(3eea9071-9ceb-468a-ad89-9e3890833e52, 50ac366...</td>\n",
       "      <td>(50ac366a-4500-4ef0-8579-22adacaf6438,)</td>\n",
       "    </tr>\n",
       "    <tr>\n",
       "      <th>3</th>\n",
       "      <td>(4aec5900-4572-4d09-81e6-fbc227a7f58d,)</td>\n",
       "      <td>(4aec5900-4572-4d09-81e6-fbc227a7f58d, 3eea907...</td>\n",
       "      <td>(3eea9071-9ceb-468a-ad89-9e3890833e52,)</td>\n",
       "      <td>(3eea9071-9ceb-468a-ad89-9e3890833e52, 4aec590...</td>\n",
       "      <td>(4aec5900-4572-4d09-81e6-fbc227a7f58d,)</td>\n",
       "      <td>(4aec5900-4572-4d09-81e6-fbc227a7f58d, 3eea907...</td>\n",
       "      <td>(3eea9071-9ceb-468a-ad89-9e3890833e52,)</td>\n",
       "      <td>(3eea9071-9ceb-468a-ad89-9e3890833e52, 4aec590...</td>\n",
       "      <td>(4aec5900-4572-4d09-81e6-fbc227a7f58d,)</td>\n",
       "      <td>(4aec5900-4572-4d09-81e6-fbc227a7f58d, 3eea907...</td>\n",
       "      <td>(3eea9071-9ceb-468a-ad89-9e3890833e52,)</td>\n",
       "      <td>(3eea9071-9ceb-468a-ad89-9e3890833e52, 6fba2e2...</td>\n",
       "      <td>(6fba2e2c-1552-41ad-80ee-fffdfbe58d29,)</td>\n",
       "    </tr>\n",
       "    <tr>\n",
       "      <th>4</th>\n",
       "      <td>(4aec5900-4572-4d09-81e6-fbc227a7f58d,)</td>\n",
       "      <td>(4aec5900-4572-4d09-81e6-fbc227a7f58d, 3eea907...</td>\n",
       "      <td>(3eea9071-9ceb-468a-ad89-9e3890833e52,)</td>\n",
       "      <td>(3eea9071-9ceb-468a-ad89-9e3890833e52, 4aec590...</td>\n",
       "      <td>(4aec5900-4572-4d09-81e6-fbc227a7f58d,)</td>\n",
       "      <td>(4aec5900-4572-4d09-81e6-fbc227a7f58d, 3eea907...</td>\n",
       "      <td>(3eea9071-9ceb-468a-ad89-9e3890833e52,)</td>\n",
       "      <td>(3eea9071-9ceb-468a-ad89-9e3890833e52, 4aec590...</td>\n",
       "      <td>(4aec5900-4572-4d09-81e6-fbc227a7f58d,)</td>\n",
       "      <td>(4aec5900-4572-4d09-81e6-fbc227a7f58d, 3eea907...</td>\n",
       "      <td>(3eea9071-9ceb-468a-ad89-9e3890833e52,)</td>\n",
       "      <td>(3eea9071-9ceb-468a-ad89-9e3890833e52, 75c93ca...</td>\n",
       "      <td>(75c93ca7-955f-4e24-b728-cb5dd9ed1d2e,)</td>\n",
       "    </tr>\n",
       "    <tr>\n",
       "      <th>5</th>\n",
       "      <td>(f5d1c003-1f65-4a8a-ba8c-413da99d70f2,)</td>\n",
       "      <td>(f5d1c003-1f65-4a8a-ba8c-413da99d70f2, a52f651...</td>\n",
       "      <td>(a52f6519-6265-4437-9f6c-3402fb245cc7,)</td>\n",
       "      <td>(a52f6519-6265-4437-9f6c-3402fb245cc7, f5d1c00...</td>\n",
       "      <td>(f5d1c003-1f65-4a8a-ba8c-413da99d70f2,)</td>\n",
       "      <td>(f5d1c003-1f65-4a8a-ba8c-413da99d70f2, a52f651...</td>\n",
       "      <td>(a52f6519-6265-4437-9f6c-3402fb245cc7,)</td>\n",
       "      <td>(a52f6519-6265-4437-9f6c-3402fb245cc7, f5d1c00...</td>\n",
       "      <td>(f5d1c003-1f65-4a8a-ba8c-413da99d70f2,)</td>\n",
       "      <td>(f5d1c003-1f65-4a8a-ba8c-413da99d70f2, a52f651...</td>\n",
       "      <td>(a52f6519-6265-4437-9f6c-3402fb245cc7,)</td>\n",
       "      <td>(a52f6519-6265-4437-9f6c-3402fb245cc7, 7f91e81...</td>\n",
       "      <td>(7f91e814-3f77-4ee9-bfee-01d796b8f424,)</td>\n",
       "    </tr>\n",
       "    <tr>\n",
       "      <th>6</th>\n",
       "      <td>(f5d1c003-1f65-4a8a-ba8c-413da99d70f2,)</td>\n",
       "      <td>(f5d1c003-1f65-4a8a-ba8c-413da99d70f2, a52f651...</td>\n",
       "      <td>(a52f6519-6265-4437-9f6c-3402fb245cc7,)</td>\n",
       "      <td>(a52f6519-6265-4437-9f6c-3402fb245cc7, f5d1c00...</td>\n",
       "      <td>(f5d1c003-1f65-4a8a-ba8c-413da99d70f2,)</td>\n",
       "      <td>(f5d1c003-1f65-4a8a-ba8c-413da99d70f2, a52f651...</td>\n",
       "      <td>(a52f6519-6265-4437-9f6c-3402fb245cc7,)</td>\n",
       "      <td>(a52f6519-6265-4437-9f6c-3402fb245cc7, f5d1c00...</td>\n",
       "      <td>(f5d1c003-1f65-4a8a-ba8c-413da99d70f2,)</td>\n",
       "      <td>(f5d1c003-1f65-4a8a-ba8c-413da99d70f2, a52f651...</td>\n",
       "      <td>(a52f6519-6265-4437-9f6c-3402fb245cc7,)</td>\n",
       "      <td>(a52f6519-6265-4437-9f6c-3402fb245cc7, 7f91e81...</td>\n",
       "      <td>(7f91e814-3f77-4ee9-bfee-01d796b8f424,)</td>\n",
       "    </tr>\n",
       "    <tr>\n",
       "      <th>7</th>\n",
       "      <td>(f5d1c003-1f65-4a8a-ba8c-413da99d70f2,)</td>\n",
       "      <td>(f5d1c003-1f65-4a8a-ba8c-413da99d70f2, a52f651...</td>\n",
       "      <td>(a52f6519-6265-4437-9f6c-3402fb245cc7,)</td>\n",
       "      <td>(a52f6519-6265-4437-9f6c-3402fb245cc7, f5d1c00...</td>\n",
       "      <td>(f5d1c003-1f65-4a8a-ba8c-413da99d70f2,)</td>\n",
       "      <td>(f5d1c003-1f65-4a8a-ba8c-413da99d70f2, a52f651...</td>\n",
       "      <td>(a52f6519-6265-4437-9f6c-3402fb245cc7,)</td>\n",
       "      <td>(a52f6519-6265-4437-9f6c-3402fb245cc7, f5d1c00...</td>\n",
       "      <td>(f5d1c003-1f65-4a8a-ba8c-413da99d70f2,)</td>\n",
       "      <td>(f5d1c003-1f65-4a8a-ba8c-413da99d70f2, a52f651...</td>\n",
       "      <td>(a52f6519-6265-4437-9f6c-3402fb245cc7,)</td>\n",
       "      <td>(a52f6519-6265-4437-9f6c-3402fb245cc7, 7f91e81...</td>\n",
       "      <td>(7f91e814-3f77-4ee9-bfee-01d796b8f424,)</td>\n",
       "    </tr>\n",
       "    <tr>\n",
       "      <th>8</th>\n",
       "      <td>(f5d1c003-1f65-4a8a-ba8c-413da99d70f2,)</td>\n",
       "      <td>(f5d1c003-1f65-4a8a-ba8c-413da99d70f2, a52f651...</td>\n",
       "      <td>(a52f6519-6265-4437-9f6c-3402fb245cc7,)</td>\n",
       "      <td>(a52f6519-6265-4437-9f6c-3402fb245cc7, f5d1c00...</td>\n",
       "      <td>(f5d1c003-1f65-4a8a-ba8c-413da99d70f2,)</td>\n",
       "      <td>(f5d1c003-1f65-4a8a-ba8c-413da99d70f2, a52f651...</td>\n",
       "      <td>(a52f6519-6265-4437-9f6c-3402fb245cc7,)</td>\n",
       "      <td>(a52f6519-6265-4437-9f6c-3402fb245cc7, f5d1c00...</td>\n",
       "      <td>(f5d1c003-1f65-4a8a-ba8c-413da99d70f2,)</td>\n",
       "      <td>(f5d1c003-1f65-4a8a-ba8c-413da99d70f2, a52f651...</td>\n",
       "      <td>(a52f6519-6265-4437-9f6c-3402fb245cc7,)</td>\n",
       "      <td>(a52f6519-6265-4437-9f6c-3402fb245cc7, 95daee8...</td>\n",
       "      <td>(95daee89-9905-4d51-9c4f-e1adbf747788,)</td>\n",
       "    </tr>\n",
       "    <tr>\n",
       "      <th>9</th>\n",
       "      <td>(4aec5900-4572-4d09-81e6-fbc227a7f58d,)</td>\n",
       "      <td>(4aec5900-4572-4d09-81e6-fbc227a7f58d, 3eea907...</td>\n",
       "      <td>(3eea9071-9ceb-468a-ad89-9e3890833e52,)</td>\n",
       "      <td>(3eea9071-9ceb-468a-ad89-9e3890833e52, 4aec590...</td>\n",
       "      <td>(4aec5900-4572-4d09-81e6-fbc227a7f58d,)</td>\n",
       "      <td>(4aec5900-4572-4d09-81e6-fbc227a7f58d, 3eea907...</td>\n",
       "      <td>(3eea9071-9ceb-468a-ad89-9e3890833e52,)</td>\n",
       "      <td>(3eea9071-9ceb-468a-ad89-9e3890833e52, 4aec590...</td>\n",
       "      <td>(4aec5900-4572-4d09-81e6-fbc227a7f58d,)</td>\n",
       "      <td>(4aec5900-4572-4d09-81e6-fbc227a7f58d, 3eea907...</td>\n",
       "      <td>(3eea9071-9ceb-468a-ad89-9e3890833e52,)</td>\n",
       "      <td>(3eea9071-9ceb-468a-ad89-9e3890833e52, 164c6ff...</td>\n",
       "      <td>(164c6ffb-52f2-4224-a72d-7d249938a5ea,)</td>\n",
       "    </tr>\n",
       "  </tbody>\n",
       "</table>\n",
       "</div>"
      ],
      "text/plain": [
       "                                         a  \\\n",
       "0  (f5d1c003-1f65-4a8a-ba8c-413da99d70f2,)   \n",
       "1  (4aec5900-4572-4d09-81e6-fbc227a7f58d,)   \n",
       "2  (4aec5900-4572-4d09-81e6-fbc227a7f58d,)   \n",
       "3  (4aec5900-4572-4d09-81e6-fbc227a7f58d,)   \n",
       "4  (4aec5900-4572-4d09-81e6-fbc227a7f58d,)   \n",
       "5  (f5d1c003-1f65-4a8a-ba8c-413da99d70f2,)   \n",
       "6  (f5d1c003-1f65-4a8a-ba8c-413da99d70f2,)   \n",
       "7  (f5d1c003-1f65-4a8a-ba8c-413da99d70f2,)   \n",
       "8  (f5d1c003-1f65-4a8a-ba8c-413da99d70f2,)   \n",
       "9  (4aec5900-4572-4d09-81e6-fbc227a7f58d,)   \n",
       "\n",
       "                                                  e1  \\\n",
       "0  (f5d1c003-1f65-4a8a-ba8c-413da99d70f2, a52f651...   \n",
       "1  (4aec5900-4572-4d09-81e6-fbc227a7f58d, 3eea907...   \n",
       "2  (4aec5900-4572-4d09-81e6-fbc227a7f58d, 3eea907...   \n",
       "3  (4aec5900-4572-4d09-81e6-fbc227a7f58d, 3eea907...   \n",
       "4  (4aec5900-4572-4d09-81e6-fbc227a7f58d, 3eea907...   \n",
       "5  (f5d1c003-1f65-4a8a-ba8c-413da99d70f2, a52f651...   \n",
       "6  (f5d1c003-1f65-4a8a-ba8c-413da99d70f2, a52f651...   \n",
       "7  (f5d1c003-1f65-4a8a-ba8c-413da99d70f2, a52f651...   \n",
       "8  (f5d1c003-1f65-4a8a-ba8c-413da99d70f2, a52f651...   \n",
       "9  (4aec5900-4572-4d09-81e6-fbc227a7f58d, 3eea907...   \n",
       "\n",
       "                                         b  \\\n",
       "0  (a52f6519-6265-4437-9f6c-3402fb245cc7,)   \n",
       "1  (3eea9071-9ceb-468a-ad89-9e3890833e52,)   \n",
       "2  (3eea9071-9ceb-468a-ad89-9e3890833e52,)   \n",
       "3  (3eea9071-9ceb-468a-ad89-9e3890833e52,)   \n",
       "4  (3eea9071-9ceb-468a-ad89-9e3890833e52,)   \n",
       "5  (a52f6519-6265-4437-9f6c-3402fb245cc7,)   \n",
       "6  (a52f6519-6265-4437-9f6c-3402fb245cc7,)   \n",
       "7  (a52f6519-6265-4437-9f6c-3402fb245cc7,)   \n",
       "8  (a52f6519-6265-4437-9f6c-3402fb245cc7,)   \n",
       "9  (3eea9071-9ceb-468a-ad89-9e3890833e52,)   \n",
       "\n",
       "                                                  e2  \\\n",
       "0  (a52f6519-6265-4437-9f6c-3402fb245cc7, f5d1c00...   \n",
       "1  (3eea9071-9ceb-468a-ad89-9e3890833e52, 4aec590...   \n",
       "2  (3eea9071-9ceb-468a-ad89-9e3890833e52, 4aec590...   \n",
       "3  (3eea9071-9ceb-468a-ad89-9e3890833e52, 4aec590...   \n",
       "4  (3eea9071-9ceb-468a-ad89-9e3890833e52, 4aec590...   \n",
       "5  (a52f6519-6265-4437-9f6c-3402fb245cc7, f5d1c00...   \n",
       "6  (a52f6519-6265-4437-9f6c-3402fb245cc7, f5d1c00...   \n",
       "7  (a52f6519-6265-4437-9f6c-3402fb245cc7, f5d1c00...   \n",
       "8  (a52f6519-6265-4437-9f6c-3402fb245cc7, f5d1c00...   \n",
       "9  (3eea9071-9ceb-468a-ad89-9e3890833e52, 4aec590...   \n",
       "\n",
       "                                         c  \\\n",
       "0  (f5d1c003-1f65-4a8a-ba8c-413da99d70f2,)   \n",
       "1  (4aec5900-4572-4d09-81e6-fbc227a7f58d,)   \n",
       "2  (4aec5900-4572-4d09-81e6-fbc227a7f58d,)   \n",
       "3  (4aec5900-4572-4d09-81e6-fbc227a7f58d,)   \n",
       "4  (4aec5900-4572-4d09-81e6-fbc227a7f58d,)   \n",
       "5  (f5d1c003-1f65-4a8a-ba8c-413da99d70f2,)   \n",
       "6  (f5d1c003-1f65-4a8a-ba8c-413da99d70f2,)   \n",
       "7  (f5d1c003-1f65-4a8a-ba8c-413da99d70f2,)   \n",
       "8  (f5d1c003-1f65-4a8a-ba8c-413da99d70f2,)   \n",
       "9  (4aec5900-4572-4d09-81e6-fbc227a7f58d,)   \n",
       "\n",
       "                                                  e3  \\\n",
       "0  (f5d1c003-1f65-4a8a-ba8c-413da99d70f2, a52f651...   \n",
       "1  (4aec5900-4572-4d09-81e6-fbc227a7f58d, 3eea907...   \n",
       "2  (4aec5900-4572-4d09-81e6-fbc227a7f58d, 3eea907...   \n",
       "3  (4aec5900-4572-4d09-81e6-fbc227a7f58d, 3eea907...   \n",
       "4  (4aec5900-4572-4d09-81e6-fbc227a7f58d, 3eea907...   \n",
       "5  (f5d1c003-1f65-4a8a-ba8c-413da99d70f2, a52f651...   \n",
       "6  (f5d1c003-1f65-4a8a-ba8c-413da99d70f2, a52f651...   \n",
       "7  (f5d1c003-1f65-4a8a-ba8c-413da99d70f2, a52f651...   \n",
       "8  (f5d1c003-1f65-4a8a-ba8c-413da99d70f2, a52f651...   \n",
       "9  (4aec5900-4572-4d09-81e6-fbc227a7f58d, 3eea907...   \n",
       "\n",
       "                                         d  \\\n",
       "0  (a52f6519-6265-4437-9f6c-3402fb245cc7,)   \n",
       "1  (3eea9071-9ceb-468a-ad89-9e3890833e52,)   \n",
       "2  (3eea9071-9ceb-468a-ad89-9e3890833e52,)   \n",
       "3  (3eea9071-9ceb-468a-ad89-9e3890833e52,)   \n",
       "4  (3eea9071-9ceb-468a-ad89-9e3890833e52,)   \n",
       "5  (a52f6519-6265-4437-9f6c-3402fb245cc7,)   \n",
       "6  (a52f6519-6265-4437-9f6c-3402fb245cc7,)   \n",
       "7  (a52f6519-6265-4437-9f6c-3402fb245cc7,)   \n",
       "8  (a52f6519-6265-4437-9f6c-3402fb245cc7,)   \n",
       "9  (3eea9071-9ceb-468a-ad89-9e3890833e52,)   \n",
       "\n",
       "                                                  e4  \\\n",
       "0  (a52f6519-6265-4437-9f6c-3402fb245cc7, f5d1c00...   \n",
       "1  (3eea9071-9ceb-468a-ad89-9e3890833e52, 4aec590...   \n",
       "2  (3eea9071-9ceb-468a-ad89-9e3890833e52, 4aec590...   \n",
       "3  (3eea9071-9ceb-468a-ad89-9e3890833e52, 4aec590...   \n",
       "4  (3eea9071-9ceb-468a-ad89-9e3890833e52, 4aec590...   \n",
       "5  (a52f6519-6265-4437-9f6c-3402fb245cc7, f5d1c00...   \n",
       "6  (a52f6519-6265-4437-9f6c-3402fb245cc7, f5d1c00...   \n",
       "7  (a52f6519-6265-4437-9f6c-3402fb245cc7, f5d1c00...   \n",
       "8  (a52f6519-6265-4437-9f6c-3402fb245cc7, f5d1c00...   \n",
       "9  (3eea9071-9ceb-468a-ad89-9e3890833e52, 4aec590...   \n",
       "\n",
       "                                         e  \\\n",
       "0  (f5d1c003-1f65-4a8a-ba8c-413da99d70f2,)   \n",
       "1  (4aec5900-4572-4d09-81e6-fbc227a7f58d,)   \n",
       "2  (4aec5900-4572-4d09-81e6-fbc227a7f58d,)   \n",
       "3  (4aec5900-4572-4d09-81e6-fbc227a7f58d,)   \n",
       "4  (4aec5900-4572-4d09-81e6-fbc227a7f58d,)   \n",
       "5  (f5d1c003-1f65-4a8a-ba8c-413da99d70f2,)   \n",
       "6  (f5d1c003-1f65-4a8a-ba8c-413da99d70f2,)   \n",
       "7  (f5d1c003-1f65-4a8a-ba8c-413da99d70f2,)   \n",
       "8  (f5d1c003-1f65-4a8a-ba8c-413da99d70f2,)   \n",
       "9  (4aec5900-4572-4d09-81e6-fbc227a7f58d,)   \n",
       "\n",
       "                                                  e5  \\\n",
       "0  (f5d1c003-1f65-4a8a-ba8c-413da99d70f2, a52f651...   \n",
       "1  (4aec5900-4572-4d09-81e6-fbc227a7f58d, 3eea907...   \n",
       "2  (4aec5900-4572-4d09-81e6-fbc227a7f58d, 3eea907...   \n",
       "3  (4aec5900-4572-4d09-81e6-fbc227a7f58d, 3eea907...   \n",
       "4  (4aec5900-4572-4d09-81e6-fbc227a7f58d, 3eea907...   \n",
       "5  (f5d1c003-1f65-4a8a-ba8c-413da99d70f2, a52f651...   \n",
       "6  (f5d1c003-1f65-4a8a-ba8c-413da99d70f2, a52f651...   \n",
       "7  (f5d1c003-1f65-4a8a-ba8c-413da99d70f2, a52f651...   \n",
       "8  (f5d1c003-1f65-4a8a-ba8c-413da99d70f2, a52f651...   \n",
       "9  (4aec5900-4572-4d09-81e6-fbc227a7f58d, 3eea907...   \n",
       "\n",
       "                                         f  \\\n",
       "0  (a52f6519-6265-4437-9f6c-3402fb245cc7,)   \n",
       "1  (3eea9071-9ceb-468a-ad89-9e3890833e52,)   \n",
       "2  (3eea9071-9ceb-468a-ad89-9e3890833e52,)   \n",
       "3  (3eea9071-9ceb-468a-ad89-9e3890833e52,)   \n",
       "4  (3eea9071-9ceb-468a-ad89-9e3890833e52,)   \n",
       "5  (a52f6519-6265-4437-9f6c-3402fb245cc7,)   \n",
       "6  (a52f6519-6265-4437-9f6c-3402fb245cc7,)   \n",
       "7  (a52f6519-6265-4437-9f6c-3402fb245cc7,)   \n",
       "8  (a52f6519-6265-4437-9f6c-3402fb245cc7,)   \n",
       "9  (3eea9071-9ceb-468a-ad89-9e3890833e52,)   \n",
       "\n",
       "                                                  e6  \\\n",
       "0  (a52f6519-6265-4437-9f6c-3402fb245cc7, 36d062d...   \n",
       "1  (3eea9071-9ceb-468a-ad89-9e3890833e52, 4b9755a...   \n",
       "2  (3eea9071-9ceb-468a-ad89-9e3890833e52, 50ac366...   \n",
       "3  (3eea9071-9ceb-468a-ad89-9e3890833e52, 6fba2e2...   \n",
       "4  (3eea9071-9ceb-468a-ad89-9e3890833e52, 75c93ca...   \n",
       "5  (a52f6519-6265-4437-9f6c-3402fb245cc7, 7f91e81...   \n",
       "6  (a52f6519-6265-4437-9f6c-3402fb245cc7, 7f91e81...   \n",
       "7  (a52f6519-6265-4437-9f6c-3402fb245cc7, 7f91e81...   \n",
       "8  (a52f6519-6265-4437-9f6c-3402fb245cc7, 95daee8...   \n",
       "9  (3eea9071-9ceb-468a-ad89-9e3890833e52, 164c6ff...   \n",
       "\n",
       "                                         g  \n",
       "0  (36d062d4-1f69-4dcc-9791-46b5c07dadef,)  \n",
       "1  (4b9755ad-05bb-458e-b9ff-27852eb51860,)  \n",
       "2  (50ac366a-4500-4ef0-8579-22adacaf6438,)  \n",
       "3  (6fba2e2c-1552-41ad-80ee-fffdfbe58d29,)  \n",
       "4  (75c93ca7-955f-4e24-b728-cb5dd9ed1d2e,)  \n",
       "5  (7f91e814-3f77-4ee9-bfee-01d796b8f424,)  \n",
       "6  (7f91e814-3f77-4ee9-bfee-01d796b8f424,)  \n",
       "7  (7f91e814-3f77-4ee9-bfee-01d796b8f424,)  \n",
       "8  (95daee89-9905-4d51-9c4f-e1adbf747788,)  \n",
       "9  (164c6ffb-52f2-4224-a72d-7d249938a5ea,)  "
      ]
     },
     "execution_count": 10,
     "metadata": {},
     "output_type": "execute_result"
    }
   ],
   "source": [
    "cg.limit(10).toPandas()\n",
    "#answer I belive it did. "
   ]
  }
 ],
 "metadata": {
  "kernelspec": {
   "display_name": "conda_python3",
   "language": "python",
   "name": "conda_python3"
  },
  "language_info": {
   "codemirror_mode": {
    "name": "ipython",
    "version": 3
   },
   "file_extension": ".py",
   "mimetype": "text/x-python",
   "name": "python",
   "nbconvert_exporter": "python",
   "pygments_lexer": "ipython3",
   "version": "3.10.8"
  }
 },
 "nbformat": 4,
 "nbformat_minor": 5
}
