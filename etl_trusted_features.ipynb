{
 "cells": [
  {
   "cell_type": "code",
   "execution_count": 1,
   "id": "970130b0-b08c-4536-936e-ca923cc595a9",
   "metadata": {
    "tags": []
   },
   "outputs": [],
   "source": [
    "#setup based on this: https://t-redactyl.io/blog/2020/08/reading-s3-data-into-a-spark-dataframe-using-sagemaker.html\n",
    "import boto3\n",
    "import json \n",
    "import time\n",
    "import ntpath\n",
    "import pandas as pd\n",
    "from pyspark import SparkConf\n",
    "from pyspark.sql import SparkSession\n",
    "from pyspark.sql import Window\n",
    "from pyspark.sql.types import *\n",
    "from pyspark.sql.functions import *\n",
    "import matplotlib.pyplot as plt\n",
    "import sagemaker_pyspark\n",
    "import botocore.session"
   ]
  },
  {
   "cell_type": "markdown",
   "id": "1e5ef5d6-368f-43af-b519-ba5112c87b79",
   "metadata": {},
   "source": [
    "## Set Spark Session Configuration"
   ]
  },
  {
   "cell_type": "code",
   "execution_count": 2,
   "id": "6d8e9008-6651-4c17-8c12-eef2b18e10fe",
   "metadata": {
    "tags": []
   },
   "outputs": [],
   "source": [
    "session = botocore.session.get_session()\n",
    "credentials = session.get_credentials()"
   ]
  },
  {
   "cell_type": "code",
   "execution_count": 3,
   "id": "7486ea00-f477-4f51-bf6e-b66a57f1a557",
   "metadata": {
    "tags": []
   },
   "outputs": [],
   "source": [
    "client = boto3.client('secretsmanager')\n",
    "response = client.get_secret_value(\n",
    "    SecretId='sapient-s3-access'\n",
    ")\n",
    "response = json.loads(response['SecretString'])\n",
    "access_key = response[\"aws_access_key_id\"]\n",
    "secret_key = response[\"aws_secret_access_key\"]"
   ]
  },
  {
   "cell_type": "code",
   "execution_count": 4,
   "id": "372553c2-9f17-4c4f-b253-275e30a1ef35",
   "metadata": {
    "tags": []
   },
   "outputs": [],
   "source": [
    "conf = (SparkConf()\n",
    "        .set(\"spark.driver.extraClassPath\", \":\".join(sagemaker_pyspark.classpath_jars()))\n",
    "       )"
   ]
  },
  {
   "cell_type": "code",
   "execution_count": 5,
   "id": "9392e443-f6d6-4a54-bbb8-2972eafaf97e",
   "metadata": {
    "tags": []
   },
   "outputs": [
    {
     "name": "stderr",
     "output_type": "stream",
     "text": [
      "Warning: Ignoring non-Spark config property: fs.s3a.access.key\n",
      "Warning: Ignoring non-Spark config property: fs.s3a.secret.key\n",
      "Setting default log level to \"WARN\".\n",
      "To adjust logging level use sc.setLogLevel(newLevel). For SparkR, use setLogLevel(newLevel).\n"
     ]
    },
    {
     "name": "stdout",
     "output_type": "stream",
     "text": [
      "23/03/15 07:06:44 WARN NativeCodeLoader: Unable to load native-hadoop library for your platform... using builtin-java classes where applicable\n",
      "23/03/15 07:06:44 WARN SparkConf: Note that spark.local.dir will be overridden by the value set by the cluster manager (via SPARK_LOCAL_DIRS in mesos/standalone/kubernetes and LOCAL_DIRS in YARN).\n",
      "23/03/15 07:06:45 WARN Utils: Service 'SparkUI' could not bind on port 4040. Attempting port 4041.\n"
     ]
    }
   ],
   "source": [
    "# https://spark.apache.org/docs/latest/configuration.html#memory-management\n",
    "spark = (\n",
    "    SparkSession\n",
    "    .builder\n",
    "    .config(conf=conf) \\\n",
    "    .config('fs.s3a.access.key', access_key)\n",
    "    .config('fs.s3a.secret.key', secret_key)\n",
    "    .config('spark.network.timeout', 300)\n",
    "    .config('spark.local.dir', '/home/ec2-user/SageMaker/tmp')\n",
    "    .config(\"spark.executor.memory\", \"25g\")\n",
    "    .config(\"spark.driver.memory\", \"20g\")\n",
    "    .config(\"spark.memory.offHeap.enabled\", \"true\")\n",
    "    .config(\"spark.memory.offHeap.size\",\"20g\")\n",
    "    .appName(\"sapient\")\n",
    "    .getOrCreate()\n",
    ")\n",
    "spark.sparkContext.setLogLevel(\"ERROR\")"
   ]
  },
  {
   "cell_type": "markdown",
   "id": "322f0acc-5281-4b73-a33b-67ac7c05b96a",
   "metadata": {},
   "source": [
    "## Functions to Load and Read Data"
   ]
  },
  {
   "cell_type": "code",
   "execution_count": 6,
   "id": "4a5e8ea5-b6a8-4fdd-84d5-22e3b31c7340",
   "metadata": {
    "tags": []
   },
   "outputs": [],
   "source": [
    "# read from raw bucket + write to refined bucket + aggregate final to the trusted bucket\n",
    "s3_url_raw = \"s3a://sapient-bucket-raw/\"\n",
    "s3_url_refined = \"s3a://sapient-bucket-refined/\"\n",
    "s3_url_trusted = \"s3a://sapient-bucket-trusted/\"\n",
    "ecar_cols = [\n",
    "    'id','timestamp','objectID','actorID','object','action','hostname', 'user_name', 'privileges', 'image_path', \n",
    "    'parent_image_path', 'new_path', 'file_path', 'direction', 'logon_id', 'requesting_domain', 'requesting_user'\n",
    "            ]\n",
    "bro_cols_conn = ['ts', 'uid', 'id.orig_h', 'id.orig_p', 'id.resp_', 'id.resp_p', 'proto', 'service', 'duration', 'orig_bytes', 'resp_bytes', 'conn_state', \n",
    "                 'local_orig', 'local_resp', 'missed_bytes', 'history', 'orig_pkts', 'orig_ip_bytes', 'resp_pkts', 'resp_ip_bytes', 'tunnel_parents']\n",
    "bro_cols_rep = ['ts', 'level', 'message', 'location']"
   ]
  },
  {
   "cell_type": "code",
   "execution_count": 7,
   "id": "481fb69e-f75d-4b6c-bbfc-7b02c0f1264f",
   "metadata": {},
   "outputs": [
    {
     "name": "stderr",
     "output_type": "stream",
     "text": [
      "                                                                                \r"
     ]
    },
    {
     "data": {
      "text/plain": [
       "DataFrame[hostname: string, id: string, objectID: string, actorID: string, timestamp: timestamp, object: string, action: string]"
      ]
     },
     "execution_count": 7,
     "metadata": {},
     "output_type": "execute_result"
    }
   ],
   "source": [
    "# Create a new dataframe with distinct objectIDs to identify malcious ObjectIds\n",
    "df_labels = spark.read.parquet(f\"{s3_url_refined}/prod/labels\").cache()\n",
    "df_malcious_objectIDs = df_labels.select('id').distinct()\n",
    "df_labels.unpersist()"
   ]
  },
  {
   "cell_type": "code",
   "execution_count": 8,
   "id": "1a79f608-d3ad-41ca-8804-cfc6e725a2b3",
   "metadata": {},
   "outputs": [],
   "source": [
    "def readCheckpoint(type='ecar', env='prod', size='small'):\n",
    "    \"\"\"\n",
    "    type: ecar, ecar-bro, bro\n",
    "    \"\"\"\n",
    "    if type == 'labels':\n",
    "        s3_parquet_loc = f\"{s3_url_trusted}/{env}/{type}\"\n",
    "    else:\n",
    "        s3_parquet_loc = f\"{s3_url_trusted}/{env}/{type}/{size}\"\n",
    "    start_time = time.time()\n",
    "    df = spark.read.parquet(s3_parquet_loc).cache()\n",
    "    print(time.strftime('%l:%M%p %Z on %b %d, %Y') + \" --- read and cache time: %s seconds ---\" % (time.time() - start_time))\n",
    "    return df"
   ]
  },
  {
   "cell_type": "code",
   "execution_count": 9,
   "id": "a7064e41-3fbf-40ba-b097-85c6cebef667",
   "metadata": {},
   "outputs": [],
   "source": [
    "def getFirstEvents(df):\n",
    "    \"\"\"\n",
    "    this creates then drops duplicates and gets the first appearance of each relationship entry\n",
    "    input - dataframe with columns objectID and actorID\n",
    "    output dataframe\n",
    "    \"\"\"\n",
    "    window = Window.partitionBy(\"relationship\").orderBy(\"timestamp\")\n",
    "    df_new = df.withColumn('relationship', concat(df.actorID, lit('->'),df.objectID) ) \\\n",
    "                .withColumn('rank', rank().over(window)) \\\n",
    "                .filter(col('rank') == 1) \\\n",
    "                .drop('rank')\n",
    "    return df_new"
   ]
  },
  {
   "cell_type": "code",
   "execution_count": 10,
   "id": "1b765892-5020-4680-ad84-aa6d2a06a1f3",
   "metadata": {},
   "outputs": [],
   "source": [
    "def write_firsts(size='all'):\n",
    "    \"\"\"\n",
    "    this creates then drops duplicates and writes them to file in S3\n",
    "    \"\"\"\n",
    "    start_time = time.time()\n",
    "    df = readCheckpoint(size=size).cache()\n",
    "    df_first_events = get_firsts(df)\n",
    "    df_first_events.write.option(\"maxRecordsPerFile\", 300000).mode(\"overwrite\").parquet(f\"{s3_url_trusted}/prod/graph/first_events\")\n",
    "    print(time.strftime('%l:%M%p %Z on %b %d, %Y') + \" --- read and write time: %s seconds ---\" % (time.time() - start_time))"
   ]
  },
  {
   "cell_type": "code",
   "execution_count": 11,
   "id": "1b3f2729-6144-4bf8-ab82-efce5f847966",
   "metadata": {},
   "outputs": [],
   "source": [
    "def writeFirstEvents(size='all'):\n",
    "    \"\"\"\n",
    "    this creates then drops duplicates and writes them to file in S3\n",
    "    \"\"\"\n",
    "    start_time = time.time()\n",
    "    df = readCheckpoint(size=size).cache()\n",
    "    df_first_events = getFirstEvents(df)\n",
    "    df_first_events.write.option(\"maxRecordsPerFile\", 300000).mode(\"overwrite\").parquet(f\"{s3_url_trusted}/prod/graph/first_events\")\n",
    "    print(time.strftime('%l:%M%p %Z on %b %d, %Y') + \" --- read and write time: %s seconds ---\" % (time.time() - start_time))"
   ]
  },
  {
   "cell_type": "code",
   "execution_count": 12,
   "id": "4c2febd7-e719-47bd-b68a-aa532a601c8d",
   "metadata": {
    "tags": []
   },
   "outputs": [],
   "source": [
    "def getFile(str):\n",
    "    \"\"\"\n",
    "    udf to get the file from a full file path\n",
    "    similar udf (non-windows): https://stackoverflow.com/questions/40848681/udf-to-extract-only-the-file-name-from-path-in-spark-sql\n",
    "    \"\"\"\n",
    "    if str == None:\n",
    "        pass\n",
    "    else:\n",
    "        new_str = ntpath.basename(str)\n",
    "        return new_str\n",
    "getFileUDF = udf(lambda z: getFile(z),StringType())"
   ]
  },
  {
   "cell_type": "code",
   "execution_count": 13,
   "id": "593da080-d725-4f08-be7b-5a8519e6719a",
   "metadata": {},
   "outputs": [],
   "source": [
    "def readFirstEvents():\n",
    "    start_time = time.time()\n",
    "    df = spark.read.parquet(f\"{s3_url_trusted}/prod/graph/first_events\")\\\n",
    "            .withColumn(\"image_path\", getFileUDF(col(\"image_path\"))) \\\n",
    "            .withColumn(\"parent_image_path\", getFileUDF(col(\"parent_image_path\"))) \\\n",
    "            .withColumn(\"new_path\", getFileUDF(col(\"new_path\"))) \\\n",
    "            .withColumn(\"file_path\", getFileUDF(col(\"file_path\")))\n",
    "    # filter first event hosts to only those with malicious events\n",
    "    mal_hosts = list(df.select('hostname').filter( col('malicious') == 1 ).distinct().toPandas()['hostname'])\n",
    "    df = df.filter(col(\"hostname\").isin(mal_hosts)).cache()\n",
    "    print(time.strftime('%l:%M%p %Z on %b %d, %Y') + \" --- read time: %s seconds ---\" % (time.time() - start_time))\n",
    "    return df"
   ]
  },
  {
   "cell_type": "code",
   "execution_count": 14,
   "id": "d185654a-db6d-4aa0-ac46-8e9ddd42e2da",
   "metadata": {
    "tags": []
   },
   "outputs": [],
   "source": [
    "# writeFirstEvents()"
   ]
  },
  {
   "cell_type": "code",
   "execution_count": 15,
   "id": "1be084d6-dddb-4936-9e7c-fe7cbe5c8119",
   "metadata": {},
   "outputs": [
    {
     "name": "stderr",
     "output_type": "stream",
     "text": [
      "                                                                                \r"
     ]
    },
    {
     "name": "stdout",
     "output_type": "stream",
     "text": [
      " 7:07AM UTC on Mar 15, 2023 --- read time: 14.19411849975586 seconds ---\n"
     ]
    }
   ],
   "source": [
    "# df = readFirstEvents().cache()"
   ]
  },
  {
   "cell_type": "code",
   "execution_count": null,
   "id": "84a4ed77-b750-4ea8-a744-69e641f920e9",
   "metadata": {},
   "outputs": [],
   "source": []
  },
  {
   "cell_type": "code",
   "execution_count": null,
   "id": "32b68a64-fb9b-4af5-822a-c19b98a8cca5",
   "metadata": {},
   "outputs": [],
   "source": []
  },
  {
   "cell_type": "code",
   "execution_count": null,
   "id": "b306c1f8-5397-47b8-809b-894123b2ef14",
   "metadata": {},
   "outputs": [],
   "source": []
  }
 ],
 "metadata": {
  "kernelspec": {
   "display_name": "conda_python3",
   "language": "python",
   "name": "conda_python3"
  },
  "language_info": {
   "codemirror_mode": {
    "name": "ipython",
    "version": 3
   },
   "file_extension": ".py",
   "mimetype": "text/x-python",
   "name": "python",
   "nbconvert_exporter": "python",
   "pygments_lexer": "ipython3",
   "version": "3.10.8"
  }
 },
 "nbformat": 4,
 "nbformat_minor": 5
}
