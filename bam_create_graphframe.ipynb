{
 "cells": [
  {
   "cell_type": "code",
   "execution_count": 2,
   "id": "1c5002ac-9cf6-4082-bd31-0bd2befac188",
   "metadata": {
    "tags": []
   },
   "outputs": [],
   "source": [
    "%run ./read_file.ipynb"
   ]
  },
  {
   "cell_type": "code",
   "execution_count": 3,
   "id": "16e819a0-bfe6-494a-8345-d1a02ba647b6",
   "metadata": {
    "tags": []
   },
   "outputs": [],
   "source": [
    "from graphframes import GraphFrame"
   ]
  },
  {
   "cell_type": "code",
   "execution_count": null,
   "id": "7c106592-d960-4871-a3d0-fd85d16116f5",
   "metadata": {},
   "outputs": [],
   "source": []
  },
  {
   "cell_type": "code",
   "execution_count": null,
   "id": "0924c8cc-824e-45a6-8133-400fbeb80daa",
   "metadata": {
    "tags": []
   },
   "outputs": [],
   "source": [
    "# df = readCheckpoint(size='medium').cache()"
   ]
  },
  {
   "cell_type": "code",
   "execution_count": null,
   "id": "0cfe452e-a171-4719-9241-67d26dcf3d59",
   "metadata": {
    "tags": []
   },
   "outputs": [],
   "source": [
    "# df.printSchema()"
   ]
  },
  {
   "cell_type": "code",
   "execution_count": null,
   "id": "d5480a00-45c7-47f1-b5d2-a5b712b5e8b1",
   "metadata": {
    "tags": []
   },
   "outputs": [],
   "source": [
    "#filter to 3 malicious hosts"
   ]
  },
  {
   "cell_type": "code",
   "execution_count": null,
   "id": "72a8f84a-fa00-460d-86eb-2d9d04e4932b",
   "metadata": {},
   "outputs": [],
   "source": [
    "# df_first_events = get_firsts(df).cache()"
   ]
  },
  {
   "cell_type": "code",
   "execution_count": null,
   "id": "a3a37e65-72eb-4cc0-a554-8189db197e09",
   "metadata": {
    "tags": []
   },
   "outputs": [],
   "source": [
    "# df_first_events.count()"
   ]
  },
  {
   "cell_type": "code",
   "execution_count": null,
   "id": "bcaf32ed-5a6a-4645-b21e-9ad4f5542bfb",
   "metadata": {
    "tags": []
   },
   "outputs": [],
   "source": [
    "# x is the number of hours\n",
    "# y is the maximum number of events for any hour in a graph\n",
    "# x_axis = 2*(x-1)+2\n",
    "# y_axis = 2*(y-1)+2"
   ]
  },
  {
   "cell_type": "code",
   "execution_count": null,
   "id": "f853447f-613e-4a04-a723-48c705f53e5b",
   "metadata": {
    "tags": []
   },
   "outputs": [],
   "source": [
    "# df_first_events.write.option(\"maxRecordsPerFile\", 300000).mode(\"overwrite\").parquet(f\"{s3_url_trusted}/prod/graph/first_events\")"
   ]
  },
  {
   "cell_type": "code",
   "execution_count": 4,
   "id": "1d82b393-d259-425d-a67b-1b85b90b895d",
   "metadata": {
    "tags": []
   },
   "outputs": [
    {
     "name": "stderr",
     "output_type": "stream",
     "text": [
      "                                                                                \r"
     ]
    }
   ],
   "source": [
    "df = spark.read.parquet(f\"{s3_url_trusted}/prod/graph/first_events\")\\\n",
    "            .withColumn(\"image_path\", getFileUDF(col(\"image_path\"))) \\\n",
    "            .withColumn(\"parent_image_path\", getFileUDF(col(\"parent_image_path\"))) \\\n",
    "            .withColumn(\"new_path\", getFileUDF(col(\"new_path\"))) \\\n",
    "            .withColumn(\"file_path\", getFileUDF(col(\"file_path\"))) \\\n",
    "            .cache()"
   ]
  },
  {
   "cell_type": "code",
   "execution_count": 4,
   "id": "4bbd7c73-550b-4a71-af69-c8bc325144b6",
   "metadata": {
    "tags": []
   },
   "outputs": [
    {
     "name": "stderr",
     "output_type": "stream",
     "text": [
      "/home/ec2-user/anaconda3/envs/python3/lib/python3.10/site-packages/pyspark/sql/pandas/conversion.py:248: FutureWarning: Passing unit-less datetime64 dtype to .astype is deprecated and will raise in a future version. Pass 'datetime64[ns]' instead\n",
      "  series = series.astype(t, copy=False)\n"
     ]
    },
    {
     "data": {
      "text/html": [
       "<div>\n",
       "<style scoped>\n",
       "    .dataframe tbody tr th:only-of-type {\n",
       "        vertical-align: middle;\n",
       "    }\n",
       "\n",
       "    .dataframe tbody tr th {\n",
       "        vertical-align: top;\n",
       "    }\n",
       "\n",
       "    .dataframe thead th {\n",
       "        text-align: right;\n",
       "    }\n",
       "</style>\n",
       "<table border=\"1\" class=\"dataframe\">\n",
       "  <thead>\n",
       "    <tr style=\"text-align: right;\">\n",
       "      <th></th>\n",
       "      <th>id</th>\n",
       "      <th>timestamp</th>\n",
       "      <th>objectID</th>\n",
       "      <th>actorID</th>\n",
       "      <th>object</th>\n",
       "      <th>action</th>\n",
       "      <th>hostname</th>\n",
       "      <th>user_name</th>\n",
       "      <th>privileges</th>\n",
       "      <th>image_path</th>\n",
       "      <th>...</th>\n",
       "      <th>file_path</th>\n",
       "      <th>direction</th>\n",
       "      <th>logon_id</th>\n",
       "      <th>requesting_domain</th>\n",
       "      <th>requesting_user</th>\n",
       "      <th>event_minute</th>\n",
       "      <th>event_day</th>\n",
       "      <th>event_hour</th>\n",
       "      <th>malicious</th>\n",
       "      <th>relationship</th>\n",
       "    </tr>\n",
       "  </thead>\n",
       "  <tbody>\n",
       "    <tr>\n",
       "      <th>0</th>\n",
       "      <td>4cc78dc0-6326-4ec2-ba10-45e3de3a9fc9</td>\n",
       "      <td>2019-09-23 17:10:12.127</td>\n",
       "      <td>00008f39-ef23-4bbe-b016-6f38be0eb59e</td>\n",
       "      <td>22e33a78-6ee0-418c-89ee-51384377ac90</td>\n",
       "      <td>FILE</td>\n",
       "      <td>READ</td>\n",
       "      <td>SysClient0465.systemia.com</td>\n",
       "      <td>None</td>\n",
       "      <td>None</td>\n",
       "      <td>firefox.exe</td>\n",
       "      <td>...</td>\n",
       "      <td>fastprox.dll</td>\n",
       "      <td>None</td>\n",
       "      <td>None</td>\n",
       "      <td>None</td>\n",
       "      <td>None</td>\n",
       "      <td>10</td>\n",
       "      <td>23</td>\n",
       "      <td>17</td>\n",
       "      <td>0</td>\n",
       "      <td>00008f39-ef23-4bbe-b016-6f38be0eb59e-&gt;22e33a78...</td>\n",
       "    </tr>\n",
       "    <tr>\n",
       "      <th>1</th>\n",
       "      <td>3256faf6-8ca4-4229-b5b7-7891a326acad</td>\n",
       "      <td>2019-09-23 17:52:46.260</td>\n",
       "      <td>0000909a-c9bf-4842-a2a3-0d0b37c5164d</td>\n",
       "      <td>9699bec5-89d2-4982-8d45-b1e0bf318ed9</td>\n",
       "      <td>FILE</td>\n",
       "      <td>READ</td>\n",
       "      <td>SysClient0119.systemia.com</td>\n",
       "      <td>None</td>\n",
       "      <td>None</td>\n",
       "      <td>WScript.exe</td>\n",
       "      <td>...</td>\n",
       "      <td>desktop.ini</td>\n",
       "      <td>None</td>\n",
       "      <td>None</td>\n",
       "      <td>None</td>\n",
       "      <td>None</td>\n",
       "      <td>52</td>\n",
       "      <td>23</td>\n",
       "      <td>17</td>\n",
       "      <td>0</td>\n",
       "      <td>0000909a-c9bf-4842-a2a3-0d0b37c5164d-&gt;9699bec5...</td>\n",
       "    </tr>\n",
       "    <tr>\n",
       "      <th>2</th>\n",
       "      <td>b3ba2302-277a-4788-8216-96a51c276c56</td>\n",
       "      <td>2019-09-23 16:27:02.217</td>\n",
       "      <td>0000ec57-02e1-4a13-99c7-2a617fb8ac95</td>\n",
       "      <td>7eb5c010-7e92-4896-ba2f-6bc58f716626</td>\n",
       "      <td>FILE</td>\n",
       "      <td>READ</td>\n",
       "      <td>SysClient0667.systemia.com</td>\n",
       "      <td>None</td>\n",
       "      <td>None</td>\n",
       "      <td>conhost.exe</td>\n",
       "      <td>...</td>\n",
       "      <td>easy-install.pth</td>\n",
       "      <td>None</td>\n",
       "      <td>None</td>\n",
       "      <td>None</td>\n",
       "      <td>None</td>\n",
       "      <td>27</td>\n",
       "      <td>23</td>\n",
       "      <td>16</td>\n",
       "      <td>0</td>\n",
       "      <td>0000ec57-02e1-4a13-99c7-2a617fb8ac95-&gt;7eb5c010...</td>\n",
       "    </tr>\n",
       "    <tr>\n",
       "      <th>3</th>\n",
       "      <td>48964880-a761-4125-a6d5-e9b8a4f21009</td>\n",
       "      <td>2019-09-23 15:46:43.448</td>\n",
       "      <td>00018ce5-0c98-4366-b0e1-1739a7f816c7</td>\n",
       "      <td>0fb964c3-3809-42b3-b219-abb3e5e0060f</td>\n",
       "      <td>FLOW</td>\n",
       "      <td>INFO</td>\n",
       "      <td>SysClient0775.systemia.com</td>\n",
       "      <td>None</td>\n",
       "      <td>None</td>\n",
       "      <td>None</td>\n",
       "      <td>...</td>\n",
       "      <td>None</td>\n",
       "      <td>None</td>\n",
       "      <td>None</td>\n",
       "      <td>None</td>\n",
       "      <td>None</td>\n",
       "      <td>46</td>\n",
       "      <td>23</td>\n",
       "      <td>15</td>\n",
       "      <td>0</td>\n",
       "      <td>00018ce5-0c98-4366-b0e1-1739a7f816c7-&gt;0fb964c3...</td>\n",
       "    </tr>\n",
       "    <tr>\n",
       "      <th>4</th>\n",
       "      <td>4edf49e8-0cd7-4165-b0dd-ad15c7c5bad3</td>\n",
       "      <td>2019-09-23 19:12:03.396</td>\n",
       "      <td>0001cab7-a0ff-4873-a421-01c3dc18aa20</td>\n",
       "      <td>40d68792-8340-4ed9-b354-3992d19fe1ea</td>\n",
       "      <td>FILE</td>\n",
       "      <td>READ</td>\n",
       "      <td>SysClient0952.systemia.com</td>\n",
       "      <td>None</td>\n",
       "      <td>None</td>\n",
       "      <td>python.exe</td>\n",
       "      <td>...</td>\n",
       "      <td>action_runners</td>\n",
       "      <td>None</td>\n",
       "      <td>None</td>\n",
       "      <td>None</td>\n",
       "      <td>None</td>\n",
       "      <td>12</td>\n",
       "      <td>23</td>\n",
       "      <td>19</td>\n",
       "      <td>0</td>\n",
       "      <td>0001cab7-a0ff-4873-a421-01c3dc18aa20-&gt;40d68792...</td>\n",
       "    </tr>\n",
       "  </tbody>\n",
       "</table>\n",
       "<p>5 rows × 22 columns</p>\n",
       "</div>"
      ],
      "text/plain": [
       "                                     id               timestamp  \\\n",
       "0  4cc78dc0-6326-4ec2-ba10-45e3de3a9fc9 2019-09-23 17:10:12.127   \n",
       "1  3256faf6-8ca4-4229-b5b7-7891a326acad 2019-09-23 17:52:46.260   \n",
       "2  b3ba2302-277a-4788-8216-96a51c276c56 2019-09-23 16:27:02.217   \n",
       "3  48964880-a761-4125-a6d5-e9b8a4f21009 2019-09-23 15:46:43.448   \n",
       "4  4edf49e8-0cd7-4165-b0dd-ad15c7c5bad3 2019-09-23 19:12:03.396   \n",
       "\n",
       "                               objectID                               actorID  \\\n",
       "0  00008f39-ef23-4bbe-b016-6f38be0eb59e  22e33a78-6ee0-418c-89ee-51384377ac90   \n",
       "1  0000909a-c9bf-4842-a2a3-0d0b37c5164d  9699bec5-89d2-4982-8d45-b1e0bf318ed9   \n",
       "2  0000ec57-02e1-4a13-99c7-2a617fb8ac95  7eb5c010-7e92-4896-ba2f-6bc58f716626   \n",
       "3  00018ce5-0c98-4366-b0e1-1739a7f816c7  0fb964c3-3809-42b3-b219-abb3e5e0060f   \n",
       "4  0001cab7-a0ff-4873-a421-01c3dc18aa20  40d68792-8340-4ed9-b354-3992d19fe1ea   \n",
       "\n",
       "  object action                    hostname user_name privileges   image_path  \\\n",
       "0   FILE   READ  SysClient0465.systemia.com      None       None  firefox.exe   \n",
       "1   FILE   READ  SysClient0119.systemia.com      None       None  WScript.exe   \n",
       "2   FILE   READ  SysClient0667.systemia.com      None       None  conhost.exe   \n",
       "3   FLOW   INFO  SysClient0775.systemia.com      None       None         None   \n",
       "4   FILE   READ  SysClient0952.systemia.com      None       None   python.exe   \n",
       "\n",
       "   ...         file_path direction logon_id requesting_domain requesting_user  \\\n",
       "0  ...      fastprox.dll      None     None              None            None   \n",
       "1  ...       desktop.ini      None     None              None            None   \n",
       "2  ...  easy-install.pth      None     None              None            None   \n",
       "3  ...              None      None     None              None            None   \n",
       "4  ...    action_runners      None     None              None            None   \n",
       "\n",
       "  event_minute event_day  event_hour  malicious  \\\n",
       "0           10        23          17          0   \n",
       "1           52        23          17          0   \n",
       "2           27        23          16          0   \n",
       "3           46        23          15          0   \n",
       "4           12        23          19          0   \n",
       "\n",
       "                                        relationship  \n",
       "0  00008f39-ef23-4bbe-b016-6f38be0eb59e->22e33a78...  \n",
       "1  0000909a-c9bf-4842-a2a3-0d0b37c5164d->9699bec5...  \n",
       "2  0000ec57-02e1-4a13-99c7-2a617fb8ac95->7eb5c010...  \n",
       "3  00018ce5-0c98-4366-b0e1-1739a7f816c7->0fb964c3...  \n",
       "4  0001cab7-a0ff-4873-a421-01c3dc18aa20->40d68792...  \n",
       "\n",
       "[5 rows x 22 columns]"
      ]
     },
     "execution_count": 4,
     "metadata": {},
     "output_type": "execute_result"
    }
   ],
   "source": [
    "df.limit(5).toPandas()"
   ]
  },
  {
   "cell_type": "code",
   "execution_count": 5,
   "id": "5cbf0110-c347-40ec-9d2c-1dd0c50a8b89",
   "metadata": {
    "tags": []
   },
   "outputs": [
    {
     "name": "stdout",
     "output_type": "stream",
     "text": [
      "root\n",
      " |-- id: string (nullable = true)\n",
      " |-- timestamp: timestamp (nullable = true)\n",
      " |-- objectID: string (nullable = true)\n",
      " |-- actorID: string (nullable = true)\n",
      " |-- object: string (nullable = true)\n",
      " |-- action: string (nullable = true)\n",
      " |-- hostname: string (nullable = true)\n",
      " |-- user_name: string (nullable = true)\n",
      " |-- privileges: string (nullable = true)\n",
      " |-- image_path: string (nullable = true)\n",
      " |-- parent_image_path: string (nullable = true)\n",
      " |-- new_path: string (nullable = true)\n",
      " |-- file_path: string (nullable = true)\n",
      " |-- direction: string (nullable = true)\n",
      " |-- logon_id: string (nullable = true)\n",
      " |-- requesting_domain: string (nullable = true)\n",
      " |-- requesting_user: string (nullable = true)\n",
      " |-- event_minute: integer (nullable = true)\n",
      " |-- event_day: integer (nullable = true)\n",
      " |-- event_hour: integer (nullable = true)\n",
      " |-- malicious: integer (nullable = true)\n",
      " |-- relationship: string (nullable = true)\n",
      "\n"
     ]
    }
   ],
   "source": [
    "df.printSchema()"
   ]
  },
  {
   "cell_type": "code",
   "execution_count": 8,
   "id": "f92cc1f9-6151-4ebf-83dc-0315e0bfdf50",
   "metadata": {
    "tags": []
   },
   "outputs": [
    {
     "data": {
      "text/plain": [
       "31170587"
      ]
     },
     "execution_count": 8,
     "metadata": {},
     "output_type": "execute_result"
    }
   ],
   "source": [
    "df.count()"
   ]
  },
  {
   "cell_type": "code",
   "execution_count": 7,
   "id": "e003fe3c-d279-4a2c-8bfd-04a14c29e24c",
   "metadata": {
    "tags": []
   },
   "outputs": [
    {
     "name": "stderr",
     "output_type": "stream",
     "text": [
      "                                                                                \r"
     ]
    },
    {
     "name": "stdout",
     "output_type": "stream",
     "text": [
      "image path: 153\n",
      "image path: 151\n"
     ]
    }
   ],
   "source": [
    "print(\"image path: \"+str(df.select(\"image_path\").distinct().count()))\n",
    "print(\"image path: \"+str(df.select(\"parent_image_path\").distinct().count()))"
   ]
  },
  {
   "cell_type": "code",
   "execution_count": 9,
   "id": "4630d609-0c68-48cb-937d-62e34acba055",
   "metadata": {
    "tags": []
   },
   "outputs": [],
   "source": [
    "df = df.limit(1000).cache()"
   ]
  },
  {
   "cell_type": "code",
   "execution_count": 10,
   "id": "a0a38212-2419-45cc-aaf6-147214928c82",
   "metadata": {
    "tags": []
   },
   "outputs": [
    {
     "data": {
      "text/plain": [
       "1000"
      ]
     },
     "execution_count": 10,
     "metadata": {},
     "output_type": "execute_result"
    }
   ],
   "source": [
    "df.count()"
   ]
  },
  {
   "cell_type": "code",
   "execution_count": 11,
   "id": "88890a54-58e8-4fd0-81c1-7e58f2321755",
   "metadata": {
    "tags": []
   },
   "outputs": [
    {
     "name": "stderr",
     "output_type": "stream",
     "text": [
      "/home/ec2-user/anaconda3/envs/python3/lib/python3.10/site-packages/pyspark/sql/dataframe.py:148: UserWarning: DataFrame.sql_ctx is an internal property, and will be removed in future releases. Use DataFrame.sparkSession instead.\n",
      "  warnings.warn(\n"
     ]
    }
   ],
   "source": [
    "# Create distinct vertices with source as actorid, destination as objectid\n",
    "src_vertices = df.selectExpr('actorID as id').distinct()\n",
    "dst_vertices = df.selectExpr('objectID as id').distinct()\n",
    "vertices = src_vertices.union(dst_vertices).distinct()\n",
    "\n",
    "# Create edges by using timestamp as an edge\n",
    "edges = df.selectExpr('actorID as src', 'objectID as dst', 'timestamp', 'object', 'action', 'hostname', 'user_name', 'privileges', 'image_path',\n",
    "                      'parent_image_path', 'new_path', 'file_path', 'direction', 'logon_id', 'requesting_domain', 'requesting_user', 'malicious')\n",
    "\n",
    "# Create GraphFrame\n",
    "g = GraphFrame(vertices, edges)"
   ]
  },
  {
   "cell_type": "code",
   "execution_count": null,
   "id": "8c13cded-2d30-48d5-8d5a-2d0ee224a775",
   "metadata": {
    "tags": []
   },
   "outputs": [],
   "source": [
    "# display the vertices\n",
    "print(\"Vertices:\")\n",
    "g.vertices.show()"
   ]
  },
  {
   "cell_type": "code",
   "execution_count": null,
   "id": "c29d12c6-e084-4fe5-872d-e1f64b221a69",
   "metadata": {
    "tags": []
   },
   "outputs": [],
   "source": [
    "# display the edges\n",
    "print(\"Edges:\")\n",
    "g.edges.show(5)"
   ]
  },
  {
   "cell_type": "code",
   "execution_count": null,
   "id": "7c58e3ea-1a02-49de-8b36-b13e3e6e85a4",
   "metadata": {
    "tags": []
   },
   "outputs": [],
   "source": [
    "g.inDegrees.show(5)"
   ]
  },
  {
   "cell_type": "code",
   "execution_count": 21,
   "id": "c3ed0ae8-de35-47d6-b9b8-bc6ed6e52a9f",
   "metadata": {
    "tags": []
   },
   "outputs": [
    {
     "name": "stderr",
     "output_type": "stream",
     "text": [
      "/home/ec2-user/anaconda3/envs/python3/lib/python3.10/site-packages/pyspark/sql/dataframe.py:127: UserWarning: DataFrame constructor is internal. Do not directly use it.\n",
      "  warnings.warn(\"DataFrame constructor is internal. Do not directly use it.\")\n"
     ]
    }
   ],
   "source": [
    "# find all paths of length 6 in the graph\n",
    "# Handling null values in shorter length \n",
    "motifs2 = g.find(\"(a)-[e1]->(b); (b)-[e2]->(c)\")\n",
    "#motifs6 = g.find(\"(a)-[e1]->(b); (b)-[e2]->(c); (c)-[e3]->(d)\")\n",
    "motifs6 = g.find(\"(a)-[e1]->(b); (b)-[e2]->(c); (c)-[e3]->(d); (d)-[e4]->(e); (e)-[e5]->(f); (f)-[e6]->(g)\")\n"
   ]
  },
  {
   "cell_type": "code",
   "execution_count": 15,
   "id": "1e3adb2a-6535-4d86-b201-29c4e0e2111a",
   "metadata": {
    "tags": []
   },
   "outputs": [],
   "source": [
    "# filter paths to only those where all edges are connected\n",
    "connected_paths = motifs2.filter(\"e1.dst = e2.src\")# and e2.dst = e3.src and e3.dst = e4.src and e4.dst = e5.src and e5.dst = e6.src\")\n",
    "\n"
   ]
  },
  {
   "cell_type": "code",
   "execution_count": 22,
   "id": "9aa00d2b-2f75-4997-b738-5f496d1527c0",
   "metadata": {
    "tags": []
   },
   "outputs": [],
   "source": [
    "# filter paths to only those where all edges are connected\n",
    "connected_paths = motifs6.filter(\"e1.dst = e2.src and e2.dst = e3.src and e3.dst = e4.src and e4.dst = e5.src and e5.dst = e6.src\")\n"
   ]
  },
  {
   "cell_type": "code",
   "execution_count": null,
   "id": "c1330b55-8ca0-42d1-abc9-8e98182c5bc5",
   "metadata": {
    "tags": []
   },
   "outputs": [],
   "source": [
    "# get the 6 edges in each path and convert to a pandas dataframe\n",
    "connected_paths.select(\"e1\").limit(1).collect()"
   ]
  },
  {
   "cell_type": "code",
   "execution_count": 11,
   "id": "a74c3dd0-0e37-47d2-a603-bf0469abdfdb",
   "metadata": {
    "tags": []
   },
   "outputs": [
    {
     "data": {
      "text/plain": [
       "pyspark.sql.dataframe.DataFrame"
      ]
     },
     "execution_count": 11,
     "metadata": {},
     "output_type": "execute_result"
    }
   ],
   "source": [
    "type(connected_paths)"
   ]
  },
  {
   "cell_type": "code",
   "execution_count": 23,
   "id": "140b9481-5dec-479a-b362-1992f8c8db67",
   "metadata": {
    "tags": []
   },
   "outputs": [
    {
     "name": "stderr",
     "output_type": "stream",
     "text": [
      "                                                                                \r"
     ]
    }
   ],
   "source": [
    "connected_paths.write.option(\"maxRecordsPerFile\", 300000).mode(\"overwrite\").parquet(f\"{s3_url_trusted}/prod/graph/test\")"
   ]
  },
  {
   "cell_type": "code",
   "execution_count": 24,
   "id": "2e04b021-682e-4444-9f9c-fc910fd48550",
   "metadata": {
    "tags": []
   },
   "outputs": [],
   "source": [
    "connected_paths = spark.read.parquet(f\"{s3_url_trusted}/prod/graph/test\").cache()"
   ]
  },
  {
   "cell_type": "code",
   "execution_count": 25,
   "id": "b22697e6-5408-4c34-aab0-879f8e6d8131",
   "metadata": {
    "tags": []
   },
   "outputs": [
    {
     "data": {
      "text/html": [
       "<div>\n",
       "<style scoped>\n",
       "    .dataframe tbody tr th:only-of-type {\n",
       "        vertical-align: middle;\n",
       "    }\n",
       "\n",
       "    .dataframe tbody tr th {\n",
       "        vertical-align: top;\n",
       "    }\n",
       "\n",
       "    .dataframe thead th {\n",
       "        text-align: right;\n",
       "    }\n",
       "</style>\n",
       "<table border=\"1\" class=\"dataframe\">\n",
       "  <thead>\n",
       "    <tr style=\"text-align: right;\">\n",
       "      <th></th>\n",
       "      <th>a</th>\n",
       "      <th>e1</th>\n",
       "      <th>b</th>\n",
       "      <th>e2</th>\n",
       "      <th>c</th>\n",
       "      <th>e3</th>\n",
       "      <th>d</th>\n",
       "      <th>e4</th>\n",
       "      <th>e</th>\n",
       "      <th>e5</th>\n",
       "      <th>f</th>\n",
       "      <th>e6</th>\n",
       "      <th>g</th>\n",
       "    </tr>\n",
       "  </thead>\n",
       "  <tbody>\n",
       "    <tr>\n",
       "      <th>0</th>\n",
       "      <td>(0005a73d-e2af-4e57-b432-d8cd419ae274,)</td>\n",
       "      <td>(0005a73d-e2af-4e57-b432-d8cd419ae274, 0005a73...</td>\n",
       "      <td>(0005a73d-e2af-4e57-b432-d8cd419ae274,)</td>\n",
       "      <td>(0005a73d-e2af-4e57-b432-d8cd419ae274, 0005a73...</td>\n",
       "      <td>(0005a73d-e2af-4e57-b432-d8cd419ae274,)</td>\n",
       "      <td>(0005a73d-e2af-4e57-b432-d8cd419ae274, 0005a73...</td>\n",
       "      <td>(0005a73d-e2af-4e57-b432-d8cd419ae274,)</td>\n",
       "      <td>(0005a73d-e2af-4e57-b432-d8cd419ae274, 0005a73...</td>\n",
       "      <td>(0005a73d-e2af-4e57-b432-d8cd419ae274,)</td>\n",
       "      <td>(0005a73d-e2af-4e57-b432-d8cd419ae274, 0005a73...</td>\n",
       "      <td>(0005a73d-e2af-4e57-b432-d8cd419ae274,)</td>\n",
       "      <td>(0005a73d-e2af-4e57-b432-d8cd419ae274, 0005a73...</td>\n",
       "      <td>(0005a73d-e2af-4e57-b432-d8cd419ae274,)</td>\n",
       "    </tr>\n",
       "    <tr>\n",
       "      <th>1</th>\n",
       "      <td>(0006e259-0f61-4bbd-b9dc-9c4a7f30004e,)</td>\n",
       "      <td>(0006e259-0f61-4bbd-b9dc-9c4a7f30004e, 0006e25...</td>\n",
       "      <td>(0006e259-0f61-4bbd-b9dc-9c4a7f30004e,)</td>\n",
       "      <td>(0006e259-0f61-4bbd-b9dc-9c4a7f30004e, 0006e25...</td>\n",
       "      <td>(0006e259-0f61-4bbd-b9dc-9c4a7f30004e,)</td>\n",
       "      <td>(0006e259-0f61-4bbd-b9dc-9c4a7f30004e, 0006e25...</td>\n",
       "      <td>(0006e259-0f61-4bbd-b9dc-9c4a7f30004e,)</td>\n",
       "      <td>(0006e259-0f61-4bbd-b9dc-9c4a7f30004e, 0006e25...</td>\n",
       "      <td>(0006e259-0f61-4bbd-b9dc-9c4a7f30004e,)</td>\n",
       "      <td>(0006e259-0f61-4bbd-b9dc-9c4a7f30004e, 0006e25...</td>\n",
       "      <td>(0006e259-0f61-4bbd-b9dc-9c4a7f30004e,)</td>\n",
       "      <td>(0006e259-0f61-4bbd-b9dc-9c4a7f30004e, 0006e25...</td>\n",
       "      <td>(0006e259-0f61-4bbd-b9dc-9c4a7f30004e,)</td>\n",
       "    </tr>\n",
       "    <tr>\n",
       "      <th>2</th>\n",
       "      <td>(000ab363-f760-47f6-a369-60c14ac9dcde,)</td>\n",
       "      <td>(000ab363-f760-47f6-a369-60c14ac9dcde, 000ab36...</td>\n",
       "      <td>(000ab363-f760-47f6-a369-60c14ac9dcde,)</td>\n",
       "      <td>(000ab363-f760-47f6-a369-60c14ac9dcde, 000ab36...</td>\n",
       "      <td>(000ab363-f760-47f6-a369-60c14ac9dcde,)</td>\n",
       "      <td>(000ab363-f760-47f6-a369-60c14ac9dcde, 000ab36...</td>\n",
       "      <td>(000ab363-f760-47f6-a369-60c14ac9dcde,)</td>\n",
       "      <td>(000ab363-f760-47f6-a369-60c14ac9dcde, 000ab36...</td>\n",
       "      <td>(000ab363-f760-47f6-a369-60c14ac9dcde,)</td>\n",
       "      <td>(000ab363-f760-47f6-a369-60c14ac9dcde, 000ab36...</td>\n",
       "      <td>(000ab363-f760-47f6-a369-60c14ac9dcde,)</td>\n",
       "      <td>(000ab363-f760-47f6-a369-60c14ac9dcde, 000ab36...</td>\n",
       "      <td>(000ab363-f760-47f6-a369-60c14ac9dcde,)</td>\n",
       "    </tr>\n",
       "    <tr>\n",
       "      <th>3</th>\n",
       "      <td>(000ab363-f760-47f6-a369-60c14ac9dcde,)</td>\n",
       "      <td>(000ab363-f760-47f6-a369-60c14ac9dcde, 000ab36...</td>\n",
       "      <td>(000ab363-f760-47f6-a369-60c14ac9dcde,)</td>\n",
       "      <td>(000ab363-f760-47f6-a369-60c14ac9dcde, 000ab36...</td>\n",
       "      <td>(000ab363-f760-47f6-a369-60c14ac9dcde,)</td>\n",
       "      <td>(000ab363-f760-47f6-a369-60c14ac9dcde, 000ab36...</td>\n",
       "      <td>(000ab363-f760-47f6-a369-60c14ac9dcde,)</td>\n",
       "      <td>(000ab363-f760-47f6-a369-60c14ac9dcde, 000ab36...</td>\n",
       "      <td>(000ab363-f760-47f6-a369-60c14ac9dcde,)</td>\n",
       "      <td>(000ab363-f760-47f6-a369-60c14ac9dcde, 000ab36...</td>\n",
       "      <td>(000ab363-f760-47f6-a369-60c14ac9dcde,)</td>\n",
       "      <td>(000ab363-f760-47f6-a369-60c14ac9dcde, 000ab36...</td>\n",
       "      <td>(000ab363-f760-47f6-a369-60c14ac9dcde,)</td>\n",
       "    </tr>\n",
       "    <tr>\n",
       "      <th>4</th>\n",
       "      <td>(000ab363-f760-47f6-a369-60c14ac9dcde,)</td>\n",
       "      <td>(000ab363-f760-47f6-a369-60c14ac9dcde, 000ab36...</td>\n",
       "      <td>(000ab363-f760-47f6-a369-60c14ac9dcde,)</td>\n",
       "      <td>(000ab363-f760-47f6-a369-60c14ac9dcde, 000ab36...</td>\n",
       "      <td>(000ab363-f760-47f6-a369-60c14ac9dcde,)</td>\n",
       "      <td>(000ab363-f760-47f6-a369-60c14ac9dcde, 000ab36...</td>\n",
       "      <td>(000ab363-f760-47f6-a369-60c14ac9dcde,)</td>\n",
       "      <td>(000ab363-f760-47f6-a369-60c14ac9dcde, 000ab36...</td>\n",
       "      <td>(000ab363-f760-47f6-a369-60c14ac9dcde,)</td>\n",
       "      <td>(000ab363-f760-47f6-a369-60c14ac9dcde, 000ab36...</td>\n",
       "      <td>(000ab363-f760-47f6-a369-60c14ac9dcde,)</td>\n",
       "      <td>(000ab363-f760-47f6-a369-60c14ac9dcde, 000ab36...</td>\n",
       "      <td>(000ab363-f760-47f6-a369-60c14ac9dcde,)</td>\n",
       "    </tr>\n",
       "  </tbody>\n",
       "</table>\n",
       "</div>"
      ],
      "text/plain": [
       "                                         a  \\\n",
       "0  (0005a73d-e2af-4e57-b432-d8cd419ae274,)   \n",
       "1  (0006e259-0f61-4bbd-b9dc-9c4a7f30004e,)   \n",
       "2  (000ab363-f760-47f6-a369-60c14ac9dcde,)   \n",
       "3  (000ab363-f760-47f6-a369-60c14ac9dcde,)   \n",
       "4  (000ab363-f760-47f6-a369-60c14ac9dcde,)   \n",
       "\n",
       "                                                  e1  \\\n",
       "0  (0005a73d-e2af-4e57-b432-d8cd419ae274, 0005a73...   \n",
       "1  (0006e259-0f61-4bbd-b9dc-9c4a7f30004e, 0006e25...   \n",
       "2  (000ab363-f760-47f6-a369-60c14ac9dcde, 000ab36...   \n",
       "3  (000ab363-f760-47f6-a369-60c14ac9dcde, 000ab36...   \n",
       "4  (000ab363-f760-47f6-a369-60c14ac9dcde, 000ab36...   \n",
       "\n",
       "                                         b  \\\n",
       "0  (0005a73d-e2af-4e57-b432-d8cd419ae274,)   \n",
       "1  (0006e259-0f61-4bbd-b9dc-9c4a7f30004e,)   \n",
       "2  (000ab363-f760-47f6-a369-60c14ac9dcde,)   \n",
       "3  (000ab363-f760-47f6-a369-60c14ac9dcde,)   \n",
       "4  (000ab363-f760-47f6-a369-60c14ac9dcde,)   \n",
       "\n",
       "                                                  e2  \\\n",
       "0  (0005a73d-e2af-4e57-b432-d8cd419ae274, 0005a73...   \n",
       "1  (0006e259-0f61-4bbd-b9dc-9c4a7f30004e, 0006e25...   \n",
       "2  (000ab363-f760-47f6-a369-60c14ac9dcde, 000ab36...   \n",
       "3  (000ab363-f760-47f6-a369-60c14ac9dcde, 000ab36...   \n",
       "4  (000ab363-f760-47f6-a369-60c14ac9dcde, 000ab36...   \n",
       "\n",
       "                                         c  \\\n",
       "0  (0005a73d-e2af-4e57-b432-d8cd419ae274,)   \n",
       "1  (0006e259-0f61-4bbd-b9dc-9c4a7f30004e,)   \n",
       "2  (000ab363-f760-47f6-a369-60c14ac9dcde,)   \n",
       "3  (000ab363-f760-47f6-a369-60c14ac9dcde,)   \n",
       "4  (000ab363-f760-47f6-a369-60c14ac9dcde,)   \n",
       "\n",
       "                                                  e3  \\\n",
       "0  (0005a73d-e2af-4e57-b432-d8cd419ae274, 0005a73...   \n",
       "1  (0006e259-0f61-4bbd-b9dc-9c4a7f30004e, 0006e25...   \n",
       "2  (000ab363-f760-47f6-a369-60c14ac9dcde, 000ab36...   \n",
       "3  (000ab363-f760-47f6-a369-60c14ac9dcde, 000ab36...   \n",
       "4  (000ab363-f760-47f6-a369-60c14ac9dcde, 000ab36...   \n",
       "\n",
       "                                         d  \\\n",
       "0  (0005a73d-e2af-4e57-b432-d8cd419ae274,)   \n",
       "1  (0006e259-0f61-4bbd-b9dc-9c4a7f30004e,)   \n",
       "2  (000ab363-f760-47f6-a369-60c14ac9dcde,)   \n",
       "3  (000ab363-f760-47f6-a369-60c14ac9dcde,)   \n",
       "4  (000ab363-f760-47f6-a369-60c14ac9dcde,)   \n",
       "\n",
       "                                                  e4  \\\n",
       "0  (0005a73d-e2af-4e57-b432-d8cd419ae274, 0005a73...   \n",
       "1  (0006e259-0f61-4bbd-b9dc-9c4a7f30004e, 0006e25...   \n",
       "2  (000ab363-f760-47f6-a369-60c14ac9dcde, 000ab36...   \n",
       "3  (000ab363-f760-47f6-a369-60c14ac9dcde, 000ab36...   \n",
       "4  (000ab363-f760-47f6-a369-60c14ac9dcde, 000ab36...   \n",
       "\n",
       "                                         e  \\\n",
       "0  (0005a73d-e2af-4e57-b432-d8cd419ae274,)   \n",
       "1  (0006e259-0f61-4bbd-b9dc-9c4a7f30004e,)   \n",
       "2  (000ab363-f760-47f6-a369-60c14ac9dcde,)   \n",
       "3  (000ab363-f760-47f6-a369-60c14ac9dcde,)   \n",
       "4  (000ab363-f760-47f6-a369-60c14ac9dcde,)   \n",
       "\n",
       "                                                  e5  \\\n",
       "0  (0005a73d-e2af-4e57-b432-d8cd419ae274, 0005a73...   \n",
       "1  (0006e259-0f61-4bbd-b9dc-9c4a7f30004e, 0006e25...   \n",
       "2  (000ab363-f760-47f6-a369-60c14ac9dcde, 000ab36...   \n",
       "3  (000ab363-f760-47f6-a369-60c14ac9dcde, 000ab36...   \n",
       "4  (000ab363-f760-47f6-a369-60c14ac9dcde, 000ab36...   \n",
       "\n",
       "                                         f  \\\n",
       "0  (0005a73d-e2af-4e57-b432-d8cd419ae274,)   \n",
       "1  (0006e259-0f61-4bbd-b9dc-9c4a7f30004e,)   \n",
       "2  (000ab363-f760-47f6-a369-60c14ac9dcde,)   \n",
       "3  (000ab363-f760-47f6-a369-60c14ac9dcde,)   \n",
       "4  (000ab363-f760-47f6-a369-60c14ac9dcde,)   \n",
       "\n",
       "                                                  e6  \\\n",
       "0  (0005a73d-e2af-4e57-b432-d8cd419ae274, 0005a73...   \n",
       "1  (0006e259-0f61-4bbd-b9dc-9c4a7f30004e, 0006e25...   \n",
       "2  (000ab363-f760-47f6-a369-60c14ac9dcde, 000ab36...   \n",
       "3  (000ab363-f760-47f6-a369-60c14ac9dcde, 000ab36...   \n",
       "4  (000ab363-f760-47f6-a369-60c14ac9dcde, 000ab36...   \n",
       "\n",
       "                                         g  \n",
       "0  (0005a73d-e2af-4e57-b432-d8cd419ae274,)  \n",
       "1  (0006e259-0f61-4bbd-b9dc-9c4a7f30004e,)  \n",
       "2  (000ab363-f760-47f6-a369-60c14ac9dcde,)  \n",
       "3  (000ab363-f760-47f6-a369-60c14ac9dcde,)  \n",
       "4  (000ab363-f760-47f6-a369-60c14ac9dcde,)  "
      ]
     },
     "execution_count": 25,
     "metadata": {},
     "output_type": "execute_result"
    }
   ],
   "source": [
    "connected_paths.limit(5).toPandas()"
   ]
  },
  {
   "cell_type": "code",
   "execution_count": 26,
   "id": "2ccfbd61-718e-45d9-9f35-57a545866c79",
   "metadata": {
    "tags": []
   },
   "outputs": [
    {
     "data": {
      "text/plain": [
       "273"
      ]
     },
     "execution_count": 26,
     "metadata": {},
     "output_type": "execute_result"
    }
   ],
   "source": [
    "connected_paths.count()"
   ]
  },
  {
   "cell_type": "code",
   "execution_count": 39,
   "id": "0ffa4c9d-6925-4124-be37-f4121bbacd7d",
   "metadata": {
    "tags": []
   },
   "outputs": [],
   "source": [
    "#transpose values first by creating a trace column\n",
    "# Add a new column \"new_col\" with ascending values starting at 1 before all other columns\n",
    "df_transp = connected_paths.withColumn(\"Trace\", (monotonically_increasing_id() + 1))\n",
    "df_transp = df_transp.select(\"Trace\", \n",
    "                             *[col for col in df_transp.columns if col != \"Trace\"])\n"
   ]
  },
  {
   "cell_type": "code",
   "execution_count": 40,
   "id": "9dcae884-ea9d-40dd-aa0d-7d67d29c7c45",
   "metadata": {
    "tags": []
   },
   "outputs": [
    {
     "data": {
      "text/html": [
       "<div>\n",
       "<style scoped>\n",
       "    .dataframe tbody tr th:only-of-type {\n",
       "        vertical-align: middle;\n",
       "    }\n",
       "\n",
       "    .dataframe tbody tr th {\n",
       "        vertical-align: top;\n",
       "    }\n",
       "\n",
       "    .dataframe thead th {\n",
       "        text-align: right;\n",
       "    }\n",
       "</style>\n",
       "<table border=\"1\" class=\"dataframe\">\n",
       "  <thead>\n",
       "    <tr style=\"text-align: right;\">\n",
       "      <th></th>\n",
       "      <th>Trace</th>\n",
       "      <th>a</th>\n",
       "      <th>e1</th>\n",
       "      <th>b</th>\n",
       "      <th>e2</th>\n",
       "      <th>c</th>\n",
       "      <th>e3</th>\n",
       "      <th>d</th>\n",
       "      <th>e4</th>\n",
       "      <th>e</th>\n",
       "      <th>e5</th>\n",
       "      <th>f</th>\n",
       "      <th>e6</th>\n",
       "      <th>g</th>\n",
       "    </tr>\n",
       "  </thead>\n",
       "  <tbody>\n",
       "    <tr>\n",
       "      <th>0</th>\n",
       "      <td>1</td>\n",
       "      <td>(0005a73d-e2af-4e57-b432-d8cd419ae274,)</td>\n",
       "      <td>(0005a73d-e2af-4e57-b432-d8cd419ae274, 0005a73...</td>\n",
       "      <td>(0005a73d-e2af-4e57-b432-d8cd419ae274,)</td>\n",
       "      <td>(0005a73d-e2af-4e57-b432-d8cd419ae274, 0005a73...</td>\n",
       "      <td>(0005a73d-e2af-4e57-b432-d8cd419ae274,)</td>\n",
       "      <td>(0005a73d-e2af-4e57-b432-d8cd419ae274, 0005a73...</td>\n",
       "      <td>(0005a73d-e2af-4e57-b432-d8cd419ae274,)</td>\n",
       "      <td>(0005a73d-e2af-4e57-b432-d8cd419ae274, 0005a73...</td>\n",
       "      <td>(0005a73d-e2af-4e57-b432-d8cd419ae274,)</td>\n",
       "      <td>(0005a73d-e2af-4e57-b432-d8cd419ae274, 0005a73...</td>\n",
       "      <td>(0005a73d-e2af-4e57-b432-d8cd419ae274,)</td>\n",
       "      <td>(0005a73d-e2af-4e57-b432-d8cd419ae274, 0005a73...</td>\n",
       "      <td>(0005a73d-e2af-4e57-b432-d8cd419ae274,)</td>\n",
       "    </tr>\n",
       "  </tbody>\n",
       "</table>\n",
       "</div>"
      ],
      "text/plain": [
       "   Trace                                        a  \\\n",
       "0      1  (0005a73d-e2af-4e57-b432-d8cd419ae274,)   \n",
       "\n",
       "                                                  e1  \\\n",
       "0  (0005a73d-e2af-4e57-b432-d8cd419ae274, 0005a73...   \n",
       "\n",
       "                                         b  \\\n",
       "0  (0005a73d-e2af-4e57-b432-d8cd419ae274,)   \n",
       "\n",
       "                                                  e2  \\\n",
       "0  (0005a73d-e2af-4e57-b432-d8cd419ae274, 0005a73...   \n",
       "\n",
       "                                         c  \\\n",
       "0  (0005a73d-e2af-4e57-b432-d8cd419ae274,)   \n",
       "\n",
       "                                                  e3  \\\n",
       "0  (0005a73d-e2af-4e57-b432-d8cd419ae274, 0005a73...   \n",
       "\n",
       "                                         d  \\\n",
       "0  (0005a73d-e2af-4e57-b432-d8cd419ae274,)   \n",
       "\n",
       "                                                  e4  \\\n",
       "0  (0005a73d-e2af-4e57-b432-d8cd419ae274, 0005a73...   \n",
       "\n",
       "                                         e  \\\n",
       "0  (0005a73d-e2af-4e57-b432-d8cd419ae274,)   \n",
       "\n",
       "                                                  e5  \\\n",
       "0  (0005a73d-e2af-4e57-b432-d8cd419ae274, 0005a73...   \n",
       "\n",
       "                                         f  \\\n",
       "0  (0005a73d-e2af-4e57-b432-d8cd419ae274,)   \n",
       "\n",
       "                                                  e6  \\\n",
       "0  (0005a73d-e2af-4e57-b432-d8cd419ae274, 0005a73...   \n",
       "\n",
       "                                         g  \n",
       "0  (0005a73d-e2af-4e57-b432-d8cd419ae274,)  "
      ]
     },
     "execution_count": 40,
     "metadata": {},
     "output_type": "execute_result"
    }
   ],
   "source": [
    "df_transp.limit(1).toPandas()"
   ]
  },
  {
   "cell_type": "code",
   "execution_count": 41,
   "id": "30ed3b3f-3d86-4ade-bb32-c91ffa1dd4df",
   "metadata": {
    "tags": []
   },
   "outputs": [],
   "source": [
    "#drop all vertices\n",
    "df_transp = df_transp.drop('a','b','c','d','e','f','g')"
   ]
  },
  {
   "cell_type": "code",
   "execution_count": 42,
   "id": "de4df892-e988-4bbf-82cf-b9aca719cc92",
   "metadata": {
    "collapsed": true,
    "jupyter": {
     "outputs_hidden": true
    },
    "tags": []
   },
   "outputs": [
    {
     "name": "stdout",
     "output_type": "stream",
     "text": [
      "root\n",
      " |-- Trace: long (nullable = false)\n",
      " |-- e1: struct (nullable = true)\n",
      " |    |-- src: string (nullable = true)\n",
      " |    |-- dst: string (nullable = true)\n",
      " |    |-- timestamp: timestamp (nullable = true)\n",
      " |    |-- object: string (nullable = true)\n",
      " |    |-- action: string (nullable = true)\n",
      " |    |-- hostname: string (nullable = true)\n",
      " |    |-- user_name: string (nullable = true)\n",
      " |    |-- privileges: string (nullable = true)\n",
      " |    |-- image_path: string (nullable = true)\n",
      " |    |-- parent_image_path: string (nullable = true)\n",
      " |    |-- new_path: string (nullable = true)\n",
      " |    |-- file_path: string (nullable = true)\n",
      " |    |-- direction: string (nullable = true)\n",
      " |    |-- logon_id: string (nullable = true)\n",
      " |    |-- requesting_domain: string (nullable = true)\n",
      " |    |-- requesting_user: string (nullable = true)\n",
      " |    |-- malicious: integer (nullable = true)\n",
      " |-- e2: struct (nullable = true)\n",
      " |    |-- src: string (nullable = true)\n",
      " |    |-- dst: string (nullable = true)\n",
      " |    |-- timestamp: timestamp (nullable = true)\n",
      " |    |-- object: string (nullable = true)\n",
      " |    |-- action: string (nullable = true)\n",
      " |    |-- hostname: string (nullable = true)\n",
      " |    |-- user_name: string (nullable = true)\n",
      " |    |-- privileges: string (nullable = true)\n",
      " |    |-- image_path: string (nullable = true)\n",
      " |    |-- parent_image_path: string (nullable = true)\n",
      " |    |-- new_path: string (nullable = true)\n",
      " |    |-- file_path: string (nullable = true)\n",
      " |    |-- direction: string (nullable = true)\n",
      " |    |-- logon_id: string (nullable = true)\n",
      " |    |-- requesting_domain: string (nullable = true)\n",
      " |    |-- requesting_user: string (nullable = true)\n",
      " |    |-- malicious: integer (nullable = true)\n",
      " |-- e3: struct (nullable = true)\n",
      " |    |-- src: string (nullable = true)\n",
      " |    |-- dst: string (nullable = true)\n",
      " |    |-- timestamp: timestamp (nullable = true)\n",
      " |    |-- object: string (nullable = true)\n",
      " |    |-- action: string (nullable = true)\n",
      " |    |-- hostname: string (nullable = true)\n",
      " |    |-- user_name: string (nullable = true)\n",
      " |    |-- privileges: string (nullable = true)\n",
      " |    |-- image_path: string (nullable = true)\n",
      " |    |-- parent_image_path: string (nullable = true)\n",
      " |    |-- new_path: string (nullable = true)\n",
      " |    |-- file_path: string (nullable = true)\n",
      " |    |-- direction: string (nullable = true)\n",
      " |    |-- logon_id: string (nullable = true)\n",
      " |    |-- requesting_domain: string (nullable = true)\n",
      " |    |-- requesting_user: string (nullable = true)\n",
      " |    |-- malicious: integer (nullable = true)\n",
      " |-- e4: struct (nullable = true)\n",
      " |    |-- src: string (nullable = true)\n",
      " |    |-- dst: string (nullable = true)\n",
      " |    |-- timestamp: timestamp (nullable = true)\n",
      " |    |-- object: string (nullable = true)\n",
      " |    |-- action: string (nullable = true)\n",
      " |    |-- hostname: string (nullable = true)\n",
      " |    |-- user_name: string (nullable = true)\n",
      " |    |-- privileges: string (nullable = true)\n",
      " |    |-- image_path: string (nullable = true)\n",
      " |    |-- parent_image_path: string (nullable = true)\n",
      " |    |-- new_path: string (nullable = true)\n",
      " |    |-- file_path: string (nullable = true)\n",
      " |    |-- direction: string (nullable = true)\n",
      " |    |-- logon_id: string (nullable = true)\n",
      " |    |-- requesting_domain: string (nullable = true)\n",
      " |    |-- requesting_user: string (nullable = true)\n",
      " |    |-- malicious: integer (nullable = true)\n",
      " |-- e5: struct (nullable = true)\n",
      " |    |-- src: string (nullable = true)\n",
      " |    |-- dst: string (nullable = true)\n",
      " |    |-- timestamp: timestamp (nullable = true)\n",
      " |    |-- object: string (nullable = true)\n",
      " |    |-- action: string (nullable = true)\n",
      " |    |-- hostname: string (nullable = true)\n",
      " |    |-- user_name: string (nullable = true)\n",
      " |    |-- privileges: string (nullable = true)\n",
      " |    |-- image_path: string (nullable = true)\n",
      " |    |-- parent_image_path: string (nullable = true)\n",
      " |    |-- new_path: string (nullable = true)\n",
      " |    |-- file_path: string (nullable = true)\n",
      " |    |-- direction: string (nullable = true)\n",
      " |    |-- logon_id: string (nullable = true)\n",
      " |    |-- requesting_domain: string (nullable = true)\n",
      " |    |-- requesting_user: string (nullable = true)\n",
      " |    |-- malicious: integer (nullable = true)\n",
      " |-- e6: struct (nullable = true)\n",
      " |    |-- src: string (nullable = true)\n",
      " |    |-- dst: string (nullable = true)\n",
      " |    |-- timestamp: timestamp (nullable = true)\n",
      " |    |-- object: string (nullable = true)\n",
      " |    |-- action: string (nullable = true)\n",
      " |    |-- hostname: string (nullable = true)\n",
      " |    |-- user_name: string (nullable = true)\n",
      " |    |-- privileges: string (nullable = true)\n",
      " |    |-- image_path: string (nullable = true)\n",
      " |    |-- parent_image_path: string (nullable = true)\n",
      " |    |-- new_path: string (nullable = true)\n",
      " |    |-- file_path: string (nullable = true)\n",
      " |    |-- direction: string (nullable = true)\n",
      " |    |-- logon_id: string (nullable = true)\n",
      " |    |-- requesting_domain: string (nullable = true)\n",
      " |    |-- requesting_user: string (nullable = true)\n",
      " |    |-- malicious: integer (nullable = true)\n",
      "\n"
     ]
    }
   ],
   "source": [
    "df_transp.printSchema()"
   ]
  },
  {
   "cell_type": "code",
   "execution_count": 50,
   "id": "f6e50e89-b45c-463e-ba11-a5a00b90c3ec",
   "metadata": {
    "tags": []
   },
   "outputs": [
    {
     "data": {
      "text/html": [
       "<div>\n",
       "<style scoped>\n",
       "    .dataframe tbody tr th:only-of-type {\n",
       "        vertical-align: middle;\n",
       "    }\n",
       "\n",
       "    .dataframe tbody tr th {\n",
       "        vertical-align: top;\n",
       "    }\n",
       "\n",
       "    .dataframe thead th {\n",
       "        text-align: right;\n",
       "    }\n",
       "</style>\n",
       "<table border=\"1\" class=\"dataframe\">\n",
       "  <thead>\n",
       "    <tr style=\"text-align: right;\">\n",
       "      <th></th>\n",
       "      <th>Trace</th>\n",
       "      <th>event</th>\n",
       "      <th>col</th>\n",
       "    </tr>\n",
       "  </thead>\n",
       "  <tbody>\n",
       "    <tr>\n",
       "      <th>0</th>\n",
       "      <td>1</td>\n",
       "      <td>e1</td>\n",
       "      <td>(0005a73d-e2af-4e57-b432-d8cd419ae274, 0005a73...</td>\n",
       "    </tr>\n",
       "    <tr>\n",
       "      <th>1</th>\n",
       "      <td>1</td>\n",
       "      <td>e2</td>\n",
       "      <td>(0005a73d-e2af-4e57-b432-d8cd419ae274, 0005a73...</td>\n",
       "    </tr>\n",
       "    <tr>\n",
       "      <th>2</th>\n",
       "      <td>1</td>\n",
       "      <td>e3</td>\n",
       "      <td>(0005a73d-e2af-4e57-b432-d8cd419ae274, 0005a73...</td>\n",
       "    </tr>\n",
       "    <tr>\n",
       "      <th>3</th>\n",
       "      <td>1</td>\n",
       "      <td>e4</td>\n",
       "      <td>(0005a73d-e2af-4e57-b432-d8cd419ae274, 0005a73...</td>\n",
       "    </tr>\n",
       "    <tr>\n",
       "      <th>4</th>\n",
       "      <td>1</td>\n",
       "      <td>e5</td>\n",
       "      <td>(0005a73d-e2af-4e57-b432-d8cd419ae274, 0005a73...</td>\n",
       "    </tr>\n",
       "    <tr>\n",
       "      <th>5</th>\n",
       "      <td>1</td>\n",
       "      <td>e6</td>\n",
       "      <td>(0005a73d-e2af-4e57-b432-d8cd419ae274, 0005a73...</td>\n",
       "    </tr>\n",
       "    <tr>\n",
       "      <th>6</th>\n",
       "      <td>2</td>\n",
       "      <td>e1</td>\n",
       "      <td>(0006e259-0f61-4bbd-b9dc-9c4a7f30004e, 0006e25...</td>\n",
       "    </tr>\n",
       "  </tbody>\n",
       "</table>\n",
       "</div>"
      ],
      "text/plain": [
       "   Trace event                                                col\n",
       "0      1    e1  (0005a73d-e2af-4e57-b432-d8cd419ae274, 0005a73...\n",
       "1      1    e2  (0005a73d-e2af-4e57-b432-d8cd419ae274, 0005a73...\n",
       "2      1    e3  (0005a73d-e2af-4e57-b432-d8cd419ae274, 0005a73...\n",
       "3      1    e4  (0005a73d-e2af-4e57-b432-d8cd419ae274, 0005a73...\n",
       "4      1    e5  (0005a73d-e2af-4e57-b432-d8cd419ae274, 0005a73...\n",
       "5      1    e6  (0005a73d-e2af-4e57-b432-d8cd419ae274, 0005a73...\n",
       "6      2    e1  (0006e259-0f61-4bbd-b9dc-9c4a7f30004e, 0006e25..."
      ]
     },
     "execution_count": 50,
     "metadata": {},
     "output_type": "execute_result"
    }
   ],
   "source": [
    "#transpose rows \n",
    "stacked_df = df_transp.selectExpr(\n",
    "    \"Trace\", \n",
    "    \"posexplode(array(e1, e2, e3, e4, e5, e6)) as (pos, col)\"\n",
    ").select(\n",
    "    \"Trace\", \n",
    "    expr('''CASE pos \n",
    "    WHEN 0 THEN 'e1' \n",
    "    WHEN 1 THEN 'e2'\n",
    "    WHEN 2 THEN 'e3'\n",
    "    WHEN 3 THEN 'e4'\n",
    "    WHEN 4 THEN 'e5'\n",
    "    ELSE 'e6' END''').alias(\"event\"),\n",
    "    \"col\"\n",
    ").orderBy(\"Trace\",\"event\")\n",
    "\n",
    "stacked_df.limit(7).toPandas()"
   ]
  },
  {
   "cell_type": "code",
   "execution_count": 51,
   "id": "4de7ca59-d090-4feb-addb-01e2f62ccccf",
   "metadata": {
    "tags": []
   },
   "outputs": [
    {
     "name": "stdout",
     "output_type": "stream",
     "text": [
      "root\n",
      " |-- Trace: long (nullable = false)\n",
      " |-- event: string (nullable = false)\n",
      " |-- col: struct (nullable = true)\n",
      " |    |-- src: string (nullable = true)\n",
      " |    |-- dst: string (nullable = true)\n",
      " |    |-- timestamp: timestamp (nullable = true)\n",
      " |    |-- object: string (nullable = true)\n",
      " |    |-- action: string (nullable = true)\n",
      " |    |-- hostname: string (nullable = true)\n",
      " |    |-- user_name: string (nullable = true)\n",
      " |    |-- privileges: string (nullable = true)\n",
      " |    |-- image_path: string (nullable = true)\n",
      " |    |-- parent_image_path: string (nullable = true)\n",
      " |    |-- new_path: string (nullable = true)\n",
      " |    |-- file_path: string (nullable = true)\n",
      " |    |-- direction: string (nullable = true)\n",
      " |    |-- logon_id: string (nullable = true)\n",
      " |    |-- requesting_domain: string (nullable = true)\n",
      " |    |-- requesting_user: string (nullable = true)\n",
      " |    |-- malicious: integer (nullable = true)\n",
      "\n"
     ]
    }
   ],
   "source": [
    "#explode columns\n",
    "df.select(*df.columns, \"properties.*\").drop('properties')"
   ]
  },
  {
   "cell_type": "code",
   "execution_count": 18,
   "id": "cf6cccdc-2427-460e-97a7-c5cda79f7de9",
   "metadata": {
    "tags": []
   },
   "outputs": [],
   "source": [
    "# using split and applying in ml with pypark\n",
    "train, test, val = connected_paths.randomSplit([0.80, 0.15, 0.05], seed=12345)"
   ]
  },
  {
   "cell_type": "code",
   "execution_count": 22,
   "id": "ac08c41e-e588-4bb1-8520-b46c1467e018",
   "metadata": {
    "tags": []
   },
   "outputs": [
    {
     "data": {
      "text/plain": [
       "9"
      ]
     },
     "execution_count": 22,
     "metadata": {},
     "output_type": "execute_result"
    }
   ],
   "source": [
    "val.count()"
   ]
  },
  {
   "cell_type": "code",
   "execution_count": null,
   "id": "52501454-e7dc-413c-890c-d5a4676d996e",
   "metadata": {},
   "outputs": [],
   "source": []
  },
  {
   "cell_type": "code",
   "execution_count": null,
   "id": "63672d40-ca27-4e80-9092-251214d6621f",
   "metadata": {},
   "outputs": [],
   "source": []
  },
  {
   "cell_type": "code",
   "execution_count": null,
   "id": "c042a899-4b99-45a4-a13d-90c4e2861f76",
   "metadata": {
    "tags": []
   },
   "outputs": [],
   "source": [
    "# create new dataframe to union and create duplicate rows\n",
    "df_dup = df.withColumn('id', lit(None).cast(StringType()))"
   ]
  },
  {
   "cell_type": "code",
   "execution_count": null,
   "id": "e5d4873c-793e-40ba-8b0a-e62b72ec9a48",
   "metadata": {
    "tags": []
   },
   "outputs": [],
   "source": [
    "df_dup.limit(5).toPandas()"
   ]
  },
  {
   "cell_type": "code",
   "execution_count": null,
   "id": "0a2ef262-3b4b-4659-9e5a-ad65cd30257f",
   "metadata": {
    "tags": []
   },
   "outputs": [],
   "source": [
    "df_new = df.union(df_dup).sort(\"timestamp\").cache()\n",
    "df.unpersist()"
   ]
  },
  {
   "cell_type": "code",
   "execution_count": null,
   "id": "d5da3e36-2e52-47b1-a84f-5eefcb4bc16b",
   "metadata": {
    "tags": []
   },
   "outputs": [],
   "source": [
    "df_new.limit(5).toPandas()"
   ]
  },
  {
   "cell_type": "code",
   "execution_count": null,
   "id": "fb3abb18-b762-4e7d-b466-d9e5ee31f9f3",
   "metadata": {
    "tags": []
   },
   "outputs": [],
   "source": [
    "# len(df_new.select('relationship').distinct().collect())"
   ]
  },
  {
   "cell_type": "code",
   "execution_count": null,
   "id": "7b2bfd54-47a1-4b4c-8953-575c2d68c98f",
   "metadata": {},
   "outputs": [],
   "source": [
    "tot = df_new.count()"
   ]
  },
  {
   "cell_type": "code",
   "execution_count": null,
   "id": "464deab4-13be-4bb9-a48a-4d66d4384b0b",
   "metadata": {},
   "outputs": [],
   "source": [
    "df_ratios = df_new.groupBy(\"object\") \\\n",
    "              .count() \\\n",
    "              .withColumnRenamed('count', 'cnt_per_group') \\\n",
    "              .withColumn('perc_of_count_total', (col('cnt_per_group') / tot) * 100 ) \\\n",
    "              .cache()"
   ]
  },
  {
   "cell_type": "code",
   "execution_count": null,
   "id": "b25931e3-928c-4b1f-920b-79132f35b1e4",
   "metadata": {},
   "outputs": [],
   "source": [
    "df_ratios.limit(5).toPandas()"
   ]
  },
  {
   "cell_type": "code",
   "execution_count": null,
   "id": "8ec07a31-d23e-4d12-a41b-dd1898d38078",
   "metadata": {
    "tags": []
   },
   "outputs": [],
   "source": [
    "df_new.limit(5).toPandas()"
   ]
  },
  {
   "cell_type": "code",
   "execution_count": null,
   "id": "a0e1ad06-7612-48ed-b9bc-9ace19b7545f",
   "metadata": {},
   "outputs": [],
   "source": []
  },
  {
   "cell_type": "code",
   "execution_count": null,
   "id": "cce447ff-155c-42cf-ab20-911e59a77fd1",
   "metadata": {
    "tags": []
   },
   "outputs": [],
   "source": [
    "connected_paths.write.option(\"maxRecordsPerFile\", 300000).mode(\"overwrite\").parquet(f\"{s3_url_trusted}/prod/graph/test\")"
   ]
  },
  {
   "cell_type": "code",
   "execution_count": null,
   "id": "9a210e73-7628-485d-b723-523a4b68d349",
   "metadata": {},
   "outputs": [],
   "source": []
  }
 ],
 "metadata": {
  "kernelspec": {
   "display_name": "conda_python3",
   "language": "python",
   "name": "conda_python3"
  },
  "language_info": {
   "codemirror_mode": {
    "name": "ipython",
    "version": 3
   },
   "file_extension": ".py",
   "mimetype": "text/x-python",
   "name": "python",
   "nbconvert_exporter": "python",
   "pygments_lexer": "ipython3",
   "version": "3.10.8"
  }
 },
 "nbformat": 4,
 "nbformat_minor": 5
}
