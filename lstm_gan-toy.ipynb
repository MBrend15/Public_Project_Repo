{
 "cells": [
  {
   "cell_type": "code",
   "execution_count": 1,
   "id": "c605132c-ae51-48ff-98bf-b7028d120233",
   "metadata": {
    "tags": []
   },
   "outputs": [],
   "source": [
    "# https://towardsdatascience.com/hands-on-generative-adversarial-networks-gan-for-signal-processing-with-python-ff5b8d78bd28"
   ]
  },
  {
   "cell_type": "code",
   "execution_count": 2,
   "id": "8a675010-0fd6-47bf-b96f-8f2bb887bc15",
   "metadata": {
    "tags": []
   },
   "outputs": [],
   "source": [
    "from numpy import hstack\n",
    "from numpy import zeros\n",
    "from numpy import ones\n",
    "from numpy.random import rand\n",
    "from numpy.random import randn\n",
    "import numpy as np\n",
    "import pandas as pd\n",
    "from sklearn.utils import resample\n",
    "from sklearn.model_selection import KFold\n",
    "from sklearn.model_selection import train_test_split\n",
    "from sklearn.preprocessing import LabelBinarizer\n",
    "from sklearn.preprocessing import LabelEncoder\n",
    "from collections import Counter\n",
    "import tensorflow as tf\n",
    "from tensorflow import keras\n",
    "from tensorflow.keras import Input\n",
    "from tensorflow.keras import layers\n",
    "from tensorflow.keras.models import Sequential\n",
    "from tensorflow.keras.layers import Dense,LSTM\n",
    "from matplotlib import pyplot\n",
    "import matplotlib.pyplot as plt"
   ]
  },
  {
   "cell_type": "code",
   "execution_count": null,
   "id": "dc5b8591-fead-439f-82fa-1570ce196154",
   "metadata": {},
   "outputs": [],
   "source": []
  },
  {
   "cell_type": "code",
   "execution_count": 3,
   "id": "9c2b902e-30fe-4959-ae55-af69f8df4a2e",
   "metadata": {
    "tags": []
   },
   "outputs": [],
   "source": [
    "# https://stackoverflow.com/questions/68036975/valueerror-shape-must-be-at-least-rank-3-but-is-rank-2-for-node-biasadd\n",
    "# config for rank error in lstm\n",
    "tf.keras.backend.set_image_data_format(\"channels_last\")\n",
    "\n",
    "pd.set_option('display.max_columns', None)"
   ]
  },
  {
   "cell_type": "code",
   "execution_count": 4,
   "id": "477221b0-0fd1-49cf-8b4b-ffeb00d5f407",
   "metadata": {},
   "outputs": [],
   "source": [
    "tokenizer = tf.keras.preprocessing.text.Tokenizer()\n",
    "sequences = [\n",
    "    ['apple', 'banana'],\n",
    "    ['apple', 'orange', ],\n",
    "    ['orange', 'pear'],\n",
    "    ['banana', 'pear'],\n",
    "    ['apple', 'pear'],\n",
    "]\n",
    "vocab = list(set(value for sequence in sequences for value in sequence))\n",
    "\n",
    "tokenizer.fit_on_texts(vocab)\n",
    "word_index = tokenizer.word_index\n",
    "vocab_count = len(vocab)\n",
    "\n",
    "seq_enc = tokenizer.texts_to_sequences(sequences)\n",
    "seq_enc_tensor = tf.one_hot(seq_enc, vocab_count)"
   ]
  },
  {
   "cell_type": "code",
   "execution_count": 5,
   "id": "a67766b1-52e5-490b-a8ef-f0374e70055f",
   "metadata": {
    "tags": []
   },
   "outputs": [
    {
     "data": {
      "text/plain": [
       "[[1, 2], [1, 4], [4, 3], [2, 3], [1, 3]]"
      ]
     },
     "execution_count": 5,
     "metadata": {},
     "output_type": "execute_result"
    }
   ],
   "source": [
    "seq_enc"
   ]
  },
  {
   "cell_type": "code",
   "execution_count": 6,
   "id": "5b13ccb8-4878-4a18-8d6b-523d98960f2f",
   "metadata": {
    "tags": []
   },
   "outputs": [
    {
     "data": {
      "text/plain": [
       "TensorShape([5, 2, 4])"
      ]
     },
     "execution_count": 6,
     "metadata": {},
     "output_type": "execute_result"
    }
   ],
   "source": [
    "seq_enc_tensor.shape"
   ]
  },
  {
   "cell_type": "code",
   "execution_count": 7,
   "id": "c5a2d52d-cea5-4c5e-be64-96837a0a0720",
   "metadata": {
    "tags": []
   },
   "outputs": [
    {
     "data": {
      "text/plain": [
       "['apple', 'banana', 'pear', 'orange']"
      ]
     },
     "execution_count": 7,
     "metadata": {},
     "output_type": "execute_result"
    }
   ],
   "source": [
    "vocab"
   ]
  },
  {
   "cell_type": "code",
   "execution_count": 8,
   "id": "0842ecdb-06a1-4469-85bd-91dc0059f1a0",
   "metadata": {
    "tags": []
   },
   "outputs": [],
   "source": [
    "seq_enc_tensor.shape\n",
    "# shape - (input_len, sequence_length, vocab_size)\n",
    "input_len = seq_enc_tensor.shape[0]\n",
    "sequence_length = seq_enc_tensor.shape[1]"
   ]
  },
  {
   "cell_type": "code",
   "execution_count": 9,
   "id": "f76b6f5d-1ae6-4632-8570-8b0751b5f695",
   "metadata": {
    "tags": []
   },
   "outputs": [],
   "source": [
    "def define_generator():\n",
    "    model = tf.keras.Sequential([\n",
    "    tf.keras.layers.Input(shape=(sequence_length, vocab_count)),\n",
    "    tf.keras.layers.LSTM(128, return_sequences=True),\n",
    "    tf.keras.layers.TimeDistributed(tf.keras.layers.Dense(vocab_count, activation='softmax')),\n",
    "    ])\n",
    "\n",
    "    # Compile the model\n",
    "    model.compile(loss='categorical_crossentropy', optimizer='adam')\n",
    "\n",
    "    return model\n",
    "\n",
    "def define_discriminator():\n",
    "    model = tf.keras.Sequential([\n",
    "            tf.keras.layers.Input(shape=(sequence_length, vocab_count)),\n",
    "            tf.keras.layers.LSTM(128, return_sequences=False),\n",
    "            tf.keras.layers.Dense(2, activation='softmax'),\n",
    "    ])\n",
    "\n",
    "    # Compile the model\n",
    "    model.compile(loss='sparse_categorical_crossentropy', optimizer='adam')\n",
    "\n",
    "    return model\n",
    "\n",
    "def define_gan(generator, discriminator):\n",
    "    discriminator.trainable = False\n",
    "    model = tf.keras.Sequential()\n",
    "    model.add(generator)\n",
    "    model.add(discriminator)\n",
    "    model.compile(loss='sparse_categorical_crossentropy', optimizer='adam')\n",
    "    \n",
    "    return model\n",
    "\n",
    "def generate_latent_space():\n",
    "    n = tf.random.uniform(shape=[input_len, sequence_length, vocab_count], minval=1, maxval=vocab_count, dtype=tf.int32)\n",
    "    return n\n",
    "\n",
    "def generate_fake_samples(generator):\n",
    "    # generate points in latent space & pass through generator\n",
    "    x = generator.predict(generate_latent_space(), verbose=0)\n",
    "    # create class labels\n",
    "    y = zeros((input_len,1))\n",
    "    return x, y\n",
    "\n",
    "def generate_real_samples():\n",
    "    x = seq_enc_tensor\n",
    "    # create class labels\n",
    "    y = ones((input_len,1))\n",
    "    return x, y\n",
    "\n",
    "def train(g_model, d_model, gan_model, epochs=5, n_eval=20):\n",
    "    d_acc_history = []\n",
    "    d_loss_history = []\n",
    "    g_acc_history = []\n",
    "    g_loss_history = []\n",
    "\n",
    "    d_metric = tf.keras.metrics.SparseCategoricalAccuracy()\n",
    "    g_metric = tf.keras.metrics.CategoricalAccuracy()\n",
    "\n",
    "    # manually enumerate epochs\n",
    "    for i in range(epochs):\n",
    "        # prepare real samples\n",
    "        x_real, y_real = generate_fake_samples(g_model)\n",
    "        # prepare fake examples using the generator\n",
    "        x_fake, y_fake = generate_fake_samples(g_model)\n",
    "\n",
    "        # update discriminator\n",
    "        d_real_loss = d_model.train_on_batch(x_real, y_real)\n",
    "        d_fake_loss = d_model.train_on_batch(x_fake, y_fake)\n",
    "        d_loss = 0.5 * (d_real_loss + d_fake_loss)\n",
    "\n",
    "        d_real_pred = d_model.predict_on_batch(x_real)\n",
    "        d_fake_pred = d_model.predict_on_batch(x_fake)\n",
    "\n",
    "        d_metric.update_state(tf.concat([y_real, y_fake], axis=0), tf.concat([d_real_pred, d_fake_pred], axis=0))\n",
    "        d_acc = d_metric.result().numpy()\n",
    "\n",
    "        # prepare points in latent space as input for the generator\n",
    "        x_gan = generate_latent_space()\n",
    "        y_gan = ones((input_len, 1))\n",
    "        g_loss = gan_model.train_on_batch(x_gan, y_gan)\n",
    "\n",
    "        # update the generator via the discriminator's error\n",
    "        gan_pred = gan_model.predict_on_batch(x_gan)\n",
    "        g_metric.update_state(tf.one_hot(tf.cast(y_gan, tf.int32), depth=2), gan_pred)\n",
    "        g_acc = g_metric.result().numpy()\n",
    "\n",
    "        d_acc_history.append(d_acc)\n",
    "        d_loss_history.append(d_loss)\n",
    "        g_acc_history.append(g_acc)\n",
    "        g_loss_history.append(g_loss)\n",
    "\n",
    "        if i % n_eval == 0:\n",
    "            print(f\"Epoch {i}: Discriminator Loss: {d_loss}, Discriminator Accuracy: {d_acc}, Generator Loss: {g_loss}, Generator Accuracy: {g_acc}\")\n",
    "\n",
    "    return d_acc_history, d_loss_history, g_acc_history, g_loss_history"
   ]
  },
  {
   "cell_type": "code",
   "execution_count": null,
   "id": "7bb2bc25-832b-4b86-bf51-609dde91aa96",
   "metadata": {},
   "outputs": [],
   "source": []
  },
  {
   "cell_type": "code",
   "execution_count": 10,
   "id": "3a4068c3-bd4a-4228-9991-43cbdb8fce24",
   "metadata": {
    "tags": []
   },
   "outputs": [],
   "source": [
    "generator = define_generator()\n",
    "discriminator = define_discriminator()\n",
    "gan = define_gan(generator, discriminator)"
   ]
  },
  {
   "cell_type": "code",
   "execution_count": 11,
   "id": "5ac1bc0d-2473-4ce0-97d7-2d04f20aaf8d",
   "metadata": {
    "tags": []
   },
   "outputs": [
    {
     "name": "stdout",
     "output_type": "stream",
     "text": [
      "1/1 [==============================] - 2s 2s/step\n"
     ]
    }
   ],
   "source": [
    "# Generate a new sequence\n",
    "new_seq = generator.predict(seq_enc_tensor)"
   ]
  },
  {
   "cell_type": "code",
   "execution_count": 12,
   "id": "dc3d1929-f02c-42cb-864b-1176b16fa72a",
   "metadata": {
    "tags": []
   },
   "outputs": [
    {
     "data": {
      "text/plain": [
       "1.1095787286758423"
      ]
     },
     "execution_count": 12,
     "metadata": {},
     "output_type": "execute_result"
    }
   ],
   "source": [
    "generator.train_on_batch(seq_enc_tensor, seq_enc_tensor)"
   ]
  },
  {
   "cell_type": "code",
   "execution_count": 13,
   "id": "05ae0fdd-386e-420e-ac51-1d5821653eea",
   "metadata": {
    "tags": []
   },
   "outputs": [
    {
     "name": "stdout",
     "output_type": "stream",
     "text": [
      "1/1 [==============================] - 0s 21ms/step\n"
     ]
    }
   ],
   "source": [
    "# Generate a new sequence using the generator model\n",
    "new_seq_enc_tensor = generator.predict(seq_enc_tensor)\n",
    "new_seq_enc = tf.argmax(new_seq_enc_tensor, axis=-1)\n",
    "new_seq_texts = tokenizer.sequences_to_texts(new_seq_enc.numpy())"
   ]
  },
  {
   "cell_type": "code",
   "execution_count": 14,
   "id": "5d9e5ec2-d8ef-4250-9071-1027daafa267",
   "metadata": {
    "tags": []
   },
   "outputs": [],
   "source": [
    "real_labels = np.ones((input_len,1))"
   ]
  },
  {
   "cell_type": "code",
   "execution_count": 15,
   "id": "b126e79e-ed10-4117-a5f1-02165a3fb772",
   "metadata": {
    "tags": []
   },
   "outputs": [
    {
     "data": {
      "text/plain": [
       "<tf.Tensor: shape=(5, 2, 4), dtype=float32, numpy=\n",
       "array([[[0., 1., 0., 0.],\n",
       "        [0., 0., 1., 0.]],\n",
       "\n",
       "       [[0., 1., 0., 0.],\n",
       "        [0., 0., 0., 0.]],\n",
       "\n",
       "       [[0., 0., 0., 0.],\n",
       "        [0., 0., 0., 1.]],\n",
       "\n",
       "       [[0., 0., 1., 0.],\n",
       "        [0., 0., 0., 1.]],\n",
       "\n",
       "       [[0., 1., 0., 0.],\n",
       "        [0., 0., 0., 1.]]], dtype=float32)>"
      ]
     },
     "execution_count": 15,
     "metadata": {},
     "output_type": "execute_result"
    }
   ],
   "source": [
    "seq_enc_tensor"
   ]
  },
  {
   "cell_type": "code",
   "execution_count": 16,
   "id": "96b86dda-bc30-4591-b94a-80d61b7c1616",
   "metadata": {
    "tags": []
   },
   "outputs": [
    {
     "data": {
      "text/plain": [
       "array([[[0.24749671, 0.24695508, 0.2520284 , 0.25351977],\n",
       "        [0.24564628, 0.24318549, 0.26012933, 0.25103888]],\n",
       "\n",
       "       [[0.24749671, 0.24695508, 0.2520284 , 0.25351977],\n",
       "        [0.24683884, 0.24743982, 0.2517634 , 0.25395796]],\n",
       "\n",
       "       [[0.24914975, 0.25025812, 0.24979632, 0.25079584],\n",
       "        [0.2524308 , 0.2535434 , 0.24316075, 0.25086504]],\n",
       "\n",
       "       [[0.24788973, 0.24606329, 0.25815824, 0.24788876],\n",
       "        [0.25159085, 0.2492618 , 0.24942091, 0.24972649]],\n",
       "\n",
       "       [[0.24749671, 0.24695508, 0.2520284 , 0.25351977],\n",
       "        [0.2505057 , 0.25078425, 0.24492256, 0.25378746]]], dtype=float32)"
      ]
     },
     "execution_count": 16,
     "metadata": {},
     "output_type": "execute_result"
    }
   ],
   "source": [
    "new_seq_enc_tensor"
   ]
  },
  {
   "cell_type": "code",
   "execution_count": 17,
   "id": "142072af-ce41-42d2-8520-0429fbf9d8f5",
   "metadata": {
    "tags": []
   },
   "outputs": [
    {
     "data": {
      "text/plain": [
       "array([[[0.2490241 , 0.2455668 , 0.2525806 , 0.25282848],\n",
       "        [0.24844112, 0.24314   , 0.25874022, 0.24967867]],\n",
       "\n",
       "       [[0.2490241 , 0.2455668 , 0.2525806 , 0.25282848],\n",
       "        [0.24913265, 0.2468731 , 0.25150618, 0.25248805]],\n",
       "\n",
       "       [[0.25      , 0.25      , 0.25      , 0.25      ],\n",
       "        [0.25412452, 0.2535715 , 0.24379282, 0.24851115]],\n",
       "\n",
       "       [[0.24923672, 0.24631013, 0.25728127, 0.2471719 ],\n",
       "        [0.25387284, 0.24972843, 0.24972226, 0.24667647]],\n",
       "\n",
       "       [[0.2490241 , 0.2455668 , 0.2525806 , 0.25282848],\n",
       "        [0.25323537, 0.25048652, 0.24514382, 0.2511343 ]]], dtype=float32)"
      ]
     },
     "execution_count": 17,
     "metadata": {},
     "output_type": "execute_result"
    }
   ],
   "source": [
    "new_seq"
   ]
  },
  {
   "cell_type": "code",
   "execution_count": 18,
   "id": "3232e704-7c87-42bb-b847-76d5b44f6029",
   "metadata": {
    "tags": []
   },
   "outputs": [],
   "source": [
    "new_seq_enc_list = new_seq_enc_tensor.tolist()"
   ]
  },
  {
   "cell_type": "code",
   "execution_count": 19,
   "id": "af5d74b2-2656-4713-8898-30762b8cf7ef",
   "metadata": {
    "tags": []
   },
   "outputs": [
    {
     "data": {
      "text/plain": [
       "[array([3, 2]), array([3, 3]), array([3, 1]), array([2, 0]), array([3, 3])]"
      ]
     },
     "execution_count": 19,
     "metadata": {},
     "output_type": "execute_result"
    }
   ],
   "source": [
    "# [i.argmax(-1) for i in new_seq_enc_tensor]\n",
    "[np.argmax(i, axis=-1) for i in new_seq_enc_list]"
   ]
  },
  {
   "cell_type": "code",
   "execution_count": 20,
   "id": "6d355924-7490-42f8-8556-b8bb592d6931",
   "metadata": {},
   "outputs": [
    {
     "name": "stdout",
     "output_type": "stream",
     "text": [
      "['pear banana', 'pear pear', 'pear apple', 'banana', 'pear pear']\n"
     ]
    }
   ],
   "source": [
    "print(new_seq_texts)"
   ]
  },
  {
   "cell_type": "code",
   "execution_count": 21,
   "id": "e6dba014-e9bc-4f64-8a85-a0f0b69ffade",
   "metadata": {
    "tags": []
   },
   "outputs": [
    {
     "data": {
      "text/plain": [
       "['apple', 'banana', 'pear', 'orange']"
      ]
     },
     "execution_count": 21,
     "metadata": {},
     "output_type": "execute_result"
    }
   ],
   "source": [
    "vocab"
   ]
  },
  {
   "cell_type": "code",
   "execution_count": 22,
   "id": "9c55b181-7e07-4add-8cec-7b071fc0740a",
   "metadata": {
    "tags": []
   },
   "outputs": [
    {
     "data": {
      "text/plain": [
       "0.6923435926437378"
      ]
     },
     "execution_count": 22,
     "metadata": {},
     "output_type": "execute_result"
    }
   ],
   "source": [
    "discriminator.train_on_batch(new_seq_enc_tensor, real_labels)"
   ]
  },
  {
   "cell_type": "code",
   "execution_count": 23,
   "id": "04b66965-b009-4a50-ab8d-bc1a16e86c46",
   "metadata": {
    "tags": []
   },
   "outputs": [
    {
     "name": "stdout",
     "output_type": "stream",
     "text": [
      "1/1 [==============================] - 0s 293ms/step\n"
     ]
    },
    {
     "data": {
      "text/plain": [
       "array([[0.49306732, 0.50693274],\n",
       "       [0.49305943, 0.5069406 ],\n",
       "       [0.49314326, 0.50685674],\n",
       "       [0.49315545, 0.5068446 ],\n",
       "       [0.49309367, 0.50690633]], dtype=float32)"
      ]
     },
     "execution_count": 23,
     "metadata": {},
     "output_type": "execute_result"
    }
   ],
   "source": [
    "discriminator.predict(new_seq_enc_tensor)"
   ]
  },
  {
   "cell_type": "code",
   "execution_count": null,
   "id": "f23b836b-11fe-4164-a40a-b96a55f0392d",
   "metadata": {},
   "outputs": [],
   "source": []
  },
  {
   "cell_type": "code",
   "execution_count": null,
   "id": "e569faa1-b00f-4c68-ac4e-9bb10ea924cf",
   "metadata": {
    "tags": []
   },
   "outputs": [],
   "source": []
  },
  {
   "cell_type": "code",
   "execution_count": 24,
   "id": "a5c36d90-948d-4afe-a7fe-4cc5ceffa0fa",
   "metadata": {
    "tags": []
   },
   "outputs": [
    {
     "data": {
      "text/plain": [
       "0.6793762445449829"
      ]
     },
     "execution_count": 24,
     "metadata": {},
     "output_type": "execute_result"
    }
   ],
   "source": [
    "gan.train_on_batch(new_seq_enc_tensor, real_labels)"
   ]
  },
  {
   "cell_type": "code",
   "execution_count": 25,
   "id": "e7ab7c04-e0cd-4e7e-9226-43ac91672f4c",
   "metadata": {
    "tags": []
   },
   "outputs": [
    {
     "name": "stdout",
     "output_type": "stream",
     "text": [
      "WARNING:tensorflow:5 out of the last 8 calls to <function Model.make_predict_function.<locals>.predict_function at 0x7f769c160700> triggered tf.function retracing. Tracing is expensive and the excessive number of tracings could be due to (1) creating @tf.function repeatedly in a loop, (2) passing tensors with different shapes, (3) passing Python objects instead of tensors. For (1), please define your @tf.function outside of the loop. For (2), @tf.function has reduce_retracing=True option that can avoid unnecessary retracing. For (3), please refer to https://www.tensorflow.org/guide/function#controlling_retracing and https://www.tensorflow.org/api_docs/python/tf/function for  more details.\n",
      "Epoch 0: Discriminator Loss: 0.7077134549617767, Discriminator Accuracy: 0.0, Generator Loss: 0.6845381259918213, Generator Accuracy: 1.0\n",
      "Epoch 20: Discriminator Loss: 0.18330558389425278, Discriminator Accuracy: 0.9523809552192688, Generator Loss: 1.8977231979370117, Generator Accuracy: 0.0476190485060215\n",
      "Epoch 40: Discriminator Loss: 0.005718537140637636, Discriminator Accuracy: 0.9756097793579102, Generator Loss: 5.25046968460083, Generator Accuracy: 0.024390242993831635\n",
      "Epoch 60: Discriminator Loss: 0.001959964050911367, Discriminator Accuracy: 0.9836065769195557, Generator Loss: 6.279886722564697, Generator Accuracy: 0.016393441706895828\n",
      "Epoch 80: Discriminator Loss: 0.0007954412139952183, Discriminator Accuracy: 0.9876543283462524, Generator Loss: 7.159928798675537, Generator Accuracy: 0.012345679104328156\n",
      "Epoch 100: Discriminator Loss: 0.0007036950846668333, Discriminator Accuracy: 0.9900990128517151, Generator Loss: 7.284654140472412, Generator Accuracy: 0.009900989942252636\n"
     ]
    }
   ],
   "source": [
    "epochs = 101\n",
    "d_acc_history, d_loss_history, g_acc_history, g_loss_history = train(generator, discriminator, gan, epochs=epochs)"
   ]
  },
  {
   "cell_type": "code",
   "execution_count": 26,
   "id": "18db84c0-205d-48e6-8cb0-9eed0fca944d",
   "metadata": {
    "tags": []
   },
   "outputs": [
    {
     "data": {
      "image/png": "[encoded data removed]",
      "text/plain": [
       "<Figure size 1200x400 with 2 Axes>"
      ]
     },
     "metadata": {},
     "output_type": "display_data"
    }
   ],
   "source": [
    "fig, (ax1, ax2) = plt.subplots(1, 2, figsize=(12, 4))\n",
    "\n",
    "ax1.plot(range(1, epochs + 1), d_loss_history, label='Discriminator Loss')\n",
    "ax1.plot(range(1, epochs + 1), g_loss_history, label='Generator Loss')\n",
    "ax1.set_xlabel('Epochs')\n",
    "ax1.set_ylabel('Loss')\n",
    "ax1.legend()\n",
    "\n",
    "ax2.plot(range(1, epochs + 1), d_acc_history, label='Discriminator Accuracy')\n",
    "ax2.set_xlabel('Epochs')\n",
    "ax2.set_ylabel('Accuracy')\n",
    "ax2.legend()\n",
    "\n",
    "plt.show()"
   ]
  },
  {
   "cell_type": "code",
   "execution_count": null,
   "id": "63a4b995-caab-4e73-9b5a-752cd170f276",
   "metadata": {},
   "outputs": [],
   "source": []
  },
  {
   "cell_type": "code",
   "execution_count": null,
   "id": "5df1ae20-85d4-4ada-ab51-c5ed09ccf502",
   "metadata": {},
   "outputs": [],
   "source": []
  },
  {
   "cell_type": "code",
   "execution_count": null,
   "id": "06485880-166d-4d86-8584-c17036bcc3ce",
   "metadata": {},
   "outputs": [],
   "source": []
  }
 ],
 "metadata": {
  "kernelspec": {
   "display_name": "conda_tensorflow2_p310",
   "language": "python",
   "name": "conda_tensorflow2_p310"
  },
  "language_info": {
   "codemirror_mode": {
    "name": "ipython",
    "version": 3
   },
   "file_extension": ".py",
   "mimetype": "text/x-python",
   "name": "python",
   "nbconvert_exporter": "python",
   "pygments_lexer": "ipython3",
   "version": "3.10.8"
  }
 },
 "nbformat": 4,
 "nbformat_minor": 5
}
