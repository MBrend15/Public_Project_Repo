{
 "cells": [
  {
   "cell_type": "code",
   "execution_count": 3,
   "id": "1c5002ac-9cf6-4082-bd31-0bd2befac188",
   "metadata": {
    "tags": []
   },
   "outputs": [
    {
     "name": "stderr",
     "output_type": "stream",
     "text": [
      "Warning: Ignoring non-Spark config property: fs.s3a.access.key\n",
      "Warning: Ignoring non-Spark config property: fs.s3a.secret.key\n"
     ]
    },
    {
     "name": "stdout",
     "output_type": "stream",
     "text": [
      ":: loading settings :: url = jar:file:/home/ec2-user/anaconda3/envs/python3/lib/python3.10/site-packages/pyspark/jars/ivy-2.5.0.jar!/org/apache/ivy/core/settings/ivysettings.xml\n"
     ]
    },
    {
     "name": "stderr",
     "output_type": "stream",
     "text": [
      "Ivy Default Cache set to: /home/ec2-user/.ivy2/cache\n",
      "The jars for the packages stored in: /home/ec2-user/.ivy2/jars\n",
      "graphframes#graphframes added as a dependency\n",
      ":: resolving dependencies :: org.apache.spark#spark-submit-parent-d60b18ff-3eb1-404f-9340-fb795d95eca7;1.0\n",
      "\tconfs: [default]\n",
      "\tfound graphframes#graphframes;0.8.2-spark3.2-s_2.12 in spark-packages\n",
      "\tfound org.slf4j#slf4j-api;1.7.16 in central\n",
      ":: resolution report :: resolve 144ms :: artifacts dl 5ms\n",
      "\t:: modules in use:\n",
      "\tgraphframes#graphframes;0.8.2-spark3.2-s_2.12 from spark-packages in [default]\n",
      "\torg.slf4j#slf4j-api;1.7.16 from central in [default]\n",
      "\t---------------------------------------------------------------------\n",
      "\t|                  |            modules            ||   artifacts   |\n",
      "\t|       conf       | number| search|dwnlded|evicted|| number|dwnlded|\n",
      "\t---------------------------------------------------------------------\n",
      "\t|      default     |   2   |   0   |   0   |   0   ||   2   |   0   |\n",
      "\t---------------------------------------------------------------------\n",
      ":: retrieving :: org.apache.spark#spark-submit-parent-d60b18ff-3eb1-404f-9340-fb795d95eca7\n",
      "\tconfs: [default]\n",
      "\t0 artifacts copied, 2 already retrieved (0kB/5ms)\n"
     ]
    },
    {
     "name": "stdout",
     "output_type": "stream",
     "text": [
      "23/03/27 17:43:59 WARN NativeCodeLoader: Unable to load native-hadoop library for your platform... using builtin-java classes where applicable\n"
     ]
    },
    {
     "name": "stderr",
     "output_type": "stream",
     "text": [
      "Setting default log level to \"WARN\".\n",
      "To adjust logging level use sc.setLogLevel(newLevel). For SparkR, use setLogLevel(newLevel).\n"
     ]
    },
    {
     "name": "stdout",
     "output_type": "stream",
     "text": [
      "23/03/27 17:43:59 WARN SparkConf: Note that spark.local.dir will be overridden by the value set by the cluster manager (via SPARK_LOCAL_DIRS in mesos/standalone/kubernetes and LOCAL_DIRS in YARN).\n"
     ]
    }
   ],
   "source": [
    "%run ./read_file.ipynb"
   ]
  },
  {
   "cell_type": "code",
   "execution_count": 4,
   "id": "16e819a0-bfe6-494a-8345-d1a02ba647b6",
   "metadata": {
    "tags": []
   },
   "outputs": [],
   "source": [
    "from graphframes import GraphFrame"
   ]
  },
  {
   "cell_type": "code",
   "execution_count": null,
   "id": "7c106592-d960-4871-a3d0-fd85d16116f5",
   "metadata": {},
   "outputs": [],
   "source": []
  },
  {
   "cell_type": "code",
   "execution_count": null,
   "id": "0924c8cc-824e-45a6-8133-400fbeb80daa",
   "metadata": {
    "tags": []
   },
   "outputs": [],
   "source": [
    "# df = readCheckpoint(size='medium').cache()"
   ]
  },
  {
   "cell_type": "code",
   "execution_count": null,
   "id": "0cfe452e-a171-4719-9241-67d26dcf3d59",
   "metadata": {
    "tags": []
   },
   "outputs": [],
   "source": [
    "# df.printSchema()"
   ]
  },
  {
   "cell_type": "code",
   "execution_count": null,
   "id": "d5480a00-45c7-47f1-b5d2-a5b712b5e8b1",
   "metadata": {
    "tags": []
   },
   "outputs": [],
   "source": [
    "#filter to 3 malicious hosts"
   ]
  },
  {
   "cell_type": "code",
   "execution_count": null,
   "id": "72a8f84a-fa00-460d-86eb-2d9d04e4932b",
   "metadata": {},
   "outputs": [],
   "source": [
    "# df_first_events = get_firsts(df).cache()"
   ]
  },
  {
   "cell_type": "code",
   "execution_count": null,
   "id": "a3a37e65-72eb-4cc0-a554-8189db197e09",
   "metadata": {
    "tags": []
   },
   "outputs": [],
   "source": [
    "# df_first_events.count()"
   ]
  },
  {
   "cell_type": "code",
   "execution_count": null,
   "id": "bcaf32ed-5a6a-4645-b21e-9ad4f5542bfb",
   "metadata": {
    "tags": []
   },
   "outputs": [],
   "source": [
    "# x is the number of hours\n",
    "# y is the maximum number of events for any hour in a graph\n",
    "# x_axis = 2*(x-1)+2\n",
    "# y_axis = 2*(y-1)+2"
   ]
  },
  {
   "cell_type": "code",
   "execution_count": null,
   "id": "f853447f-613e-4a04-a723-48c705f53e5b",
   "metadata": {
    "tags": []
   },
   "outputs": [],
   "source": [
    "# df_first_events.write.option(\"maxRecordsPerFile\", 300000).mode(\"overwrite\").parquet(f\"{s3_url_trusted}/prod/graph/first_events\")"
   ]
  },
  {
   "cell_type": "code",
   "execution_count": 5,
   "id": "1d82b393-d259-425d-a67b-1b85b90b895d",
   "metadata": {
    "tags": []
   },
   "outputs": [
    {
     "name": "stderr",
     "output_type": "stream",
     "text": [
      "                                                                                \r"
     ]
    },
    {
     "name": "stdout",
     "output_type": "stream",
     "text": [
      " 5:44PM UTC on Mar 27, 2023 --- read time: 6.246866226196289 seconds ---\n"
     ]
    }
   ],
   "source": [
    "window = Window.partitionBy(\"relationship\").orderBy(\"timestamp\")\n",
    "df = readFirstEvents().withColumn(\"relationship\", sort_array(array(\"actorID\", \"objectID\")) )  \\\n",
    "                .withColumn('rank', rank().over(window)) \\\n",
    "                .filter(col('rank') == 1) \\\n",
    "                .drop('rank').cache()"
   ]
  },
  {
   "cell_type": "code",
   "execution_count": 6,
   "id": "93db8dd0-0a49-4627-bcd4-04c7d94e8fac",
   "metadata": {
    "tags": []
   },
   "outputs": [
    {
     "name": "stderr",
     "output_type": "stream",
     "text": [
      "                                                                                \r"
     ]
    },
    {
     "data": {
      "text/plain": [
       "4539381"
      ]
     },
     "execution_count": 6,
     "metadata": {},
     "output_type": "execute_result"
    }
   ],
   "source": [
    "df.count()"
   ]
  },
  {
   "cell_type": "code",
   "execution_count": 7,
   "id": "4bbd7c73-550b-4a71-af69-c8bc325144b6",
   "metadata": {
    "tags": []
   },
   "outputs": [
    {
     "name": "stderr",
     "output_type": "stream",
     "text": [
      "/home/ec2-user/anaconda3/envs/python3/lib/python3.10/site-packages/pyspark/sql/pandas/conversion.py:248: FutureWarning: Passing unit-less datetime64 dtype to .astype is deprecated and will raise in a future version. Pass 'datetime64[ns]' instead\n",
      "  series = series.astype(t, copy=False)\n"
     ]
    },
    {
     "data": {
      "text/html": [
       "<div>\n",
       "<style scoped>\n",
       "    .dataframe tbody tr th:only-of-type {\n",
       "        vertical-align: middle;\n",
       "    }\n",
       "\n",
       "    .dataframe tbody tr th {\n",
       "        vertical-align: top;\n",
       "    }\n",
       "\n",
       "    .dataframe thead th {\n",
       "        text-align: right;\n",
       "    }\n",
       "</style>\n",
       "<table border=\"1\" class=\"dataframe\">\n",
       "  <thead>\n",
       "    <tr style=\"text-align: right;\">\n",
       "      <th></th>\n",
       "      <th>id</th>\n",
       "      <th>timestamp</th>\n",
       "      <th>objectID</th>\n",
       "      <th>actorID</th>\n",
       "      <th>object</th>\n",
       "      <th>action</th>\n",
       "      <th>hostname</th>\n",
       "      <th>user_name</th>\n",
       "      <th>privileges</th>\n",
       "      <th>image_path</th>\n",
       "      <th>...</th>\n",
       "      <th>file_path</th>\n",
       "      <th>direction</th>\n",
       "      <th>logon_id</th>\n",
       "      <th>requesting_domain</th>\n",
       "      <th>requesting_user</th>\n",
       "      <th>event_minute</th>\n",
       "      <th>event_day</th>\n",
       "      <th>event_hour</th>\n",
       "      <th>malicious</th>\n",
       "      <th>relationship</th>\n",
       "    </tr>\n",
       "  </thead>\n",
       "  <tbody>\n",
       "    <tr>\n",
       "      <th>0</th>\n",
       "      <td>7d8ab102-1142-4fa4-a628-1323bbf0f212</td>\n",
       "      <td>2019-09-24 14:24:25.177</td>\n",
       "      <td>0000e8e2-c112-4610-9ddf-00b24a3fbdc5</td>\n",
       "      <td>73d89b62-3424-41ea-9cb9-f2219035997d</td>\n",
       "      <td>FILE</td>\n",
       "      <td>MODIFY</td>\n",
       "      <td>SysClient0419.systemia.com</td>\n",
       "      <td>None</td>\n",
       "      <td>None</td>\n",
       "      <td>System</td>\n",
       "      <td>...</td>\n",
       "      <td>\\Device\\HarddiskVolume1\\Users\\khendricks\\AppDa...</td>\n",
       "      <td>None</td>\n",
       "      <td>None</td>\n",
       "      <td>None</td>\n",
       "      <td>None</td>\n",
       "      <td>24</td>\n",
       "      <td>24</td>\n",
       "      <td>14</td>\n",
       "      <td>0</td>\n",
       "      <td>[0000e8e2-c112-4610-9ddf-00b24a3fbdc5, 73d89b6...</td>\n",
       "    </tr>\n",
       "    <tr>\n",
       "      <th>1</th>\n",
       "      <td>feee1ea1-422a-474e-93b5-7ddc7edfe7ce</td>\n",
       "      <td>2019-09-25 13:24:00.114</td>\n",
       "      <td>00010fc7-3f0a-4d7f-a7b8-6f98d9a579d7</td>\n",
       "      <td>dd0741ca-63be-4e12-b5de-ad2818c2237d</td>\n",
       "      <td>PROCESS</td>\n",
       "      <td>CREATE</td>\n",
       "      <td>SysClient0201.systemia.com</td>\n",
       "      <td>None</td>\n",
       "      <td>None</td>\n",
       "      <td>\\Device\\HarddiskVolume1\\Windows\\system32\\conho...</td>\n",
       "      <td>...</td>\n",
       "      <td>None</td>\n",
       "      <td>None</td>\n",
       "      <td>None</td>\n",
       "      <td>None</td>\n",
       "      <td>None</td>\n",
       "      <td>24</td>\n",
       "      <td>25</td>\n",
       "      <td>13</td>\n",
       "      <td>0</td>\n",
       "      <td>[00010fc7-3f0a-4d7f-a7b8-6f98d9a579d7, dd0741c...</td>\n",
       "    </tr>\n",
       "    <tr>\n",
       "      <th>2</th>\n",
       "      <td>4e5de99a-9dc4-4118-b646-b38764cdb0c0</td>\n",
       "      <td>2019-09-25 13:24:00.114</td>\n",
       "      <td>00010fc7-3f0a-4d7f-a7b8-6f98d9a579d7</td>\n",
       "      <td>dd0741ca-63be-4e12-b5de-ad2818c2237d</td>\n",
       "      <td>PROCESS</td>\n",
       "      <td>OPEN</td>\n",
       "      <td>SysClient0201.systemia.com</td>\n",
       "      <td>None</td>\n",
       "      <td>None</td>\n",
       "      <td>\\Device\\HarddiskVolume1\\Windows\\SYSTEM32\\cmd.exe</td>\n",
       "      <td>...</td>\n",
       "      <td>None</td>\n",
       "      <td>None</td>\n",
       "      <td>None</td>\n",
       "      <td>None</td>\n",
       "      <td>None</td>\n",
       "      <td>24</td>\n",
       "      <td>25</td>\n",
       "      <td>13</td>\n",
       "      <td>0</td>\n",
       "      <td>[00010fc7-3f0a-4d7f-a7b8-6f98d9a579d7, dd0741c...</td>\n",
       "    </tr>\n",
       "    <tr>\n",
       "      <th>3</th>\n",
       "      <td>c8b0d80b-cbb9-4c73-a991-2d670db86ead</td>\n",
       "      <td>2019-09-25 13:24:00.114</td>\n",
       "      <td>00010fc7-3f0a-4d7f-a7b8-6f98d9a579d7</td>\n",
       "      <td>dd0741ca-63be-4e12-b5de-ad2818c2237d</td>\n",
       "      <td>PROCESS</td>\n",
       "      <td>OPEN</td>\n",
       "      <td>SysClient0201.systemia.com</td>\n",
       "      <td>None</td>\n",
       "      <td>None</td>\n",
       "      <td>\\Device\\HarddiskVolume1\\Windows\\SYSTEM32\\cmd.exe</td>\n",
       "      <td>...</td>\n",
       "      <td>None</td>\n",
       "      <td>None</td>\n",
       "      <td>None</td>\n",
       "      <td>None</td>\n",
       "      <td>None</td>\n",
       "      <td>24</td>\n",
       "      <td>25</td>\n",
       "      <td>13</td>\n",
       "      <td>0</td>\n",
       "      <td>[00010fc7-3f0a-4d7f-a7b8-6f98d9a579d7, dd0741c...</td>\n",
       "    </tr>\n",
       "    <tr>\n",
       "      <th>4</th>\n",
       "      <td>d9822c16-e0a4-44ce-86e5-75bbc8fcd17b</td>\n",
       "      <td>2019-09-25 10:33:00.358</td>\n",
       "      <td>0004bb55-8f31-4c03-8cc7-6a83e7e4dcf7</td>\n",
       "      <td>792078e4-350a-49ed-bae0-4d1ee73c80f5</td>\n",
       "      <td>FILE</td>\n",
       "      <td>CREATE</td>\n",
       "      <td>SysClient0255.systemia.com</td>\n",
       "      <td>None</td>\n",
       "      <td>None</td>\n",
       "      <td>\\Device\\HarddiskVolume1\\Python27\\python.EXE</td>\n",
       "      <td>...</td>\n",
       "      <td>\\Device\\HarddiskVolume1\\Windows\\SysWOW64\\confi...</td>\n",
       "      <td>None</td>\n",
       "      <td>None</td>\n",
       "      <td>None</td>\n",
       "      <td>None</td>\n",
       "      <td>33</td>\n",
       "      <td>25</td>\n",
       "      <td>10</td>\n",
       "      <td>0</td>\n",
       "      <td>[0004bb55-8f31-4c03-8cc7-6a83e7e4dcf7, 792078e...</td>\n",
       "    </tr>\n",
       "  </tbody>\n",
       "</table>\n",
       "<p>5 rows × 22 columns</p>\n",
       "</div>"
      ],
      "text/plain": [
       "                                     id               timestamp  \\\n",
       "0  7d8ab102-1142-4fa4-a628-1323bbf0f212 2019-09-24 14:24:25.177   \n",
       "1  feee1ea1-422a-474e-93b5-7ddc7edfe7ce 2019-09-25 13:24:00.114   \n",
       "2  4e5de99a-9dc4-4118-b646-b38764cdb0c0 2019-09-25 13:24:00.114   \n",
       "3  c8b0d80b-cbb9-4c73-a991-2d670db86ead 2019-09-25 13:24:00.114   \n",
       "4  d9822c16-e0a4-44ce-86e5-75bbc8fcd17b 2019-09-25 10:33:00.358   \n",
       "\n",
       "                               objectID                               actorID  \\\n",
       "0  0000e8e2-c112-4610-9ddf-00b24a3fbdc5  73d89b62-3424-41ea-9cb9-f2219035997d   \n",
       "1  00010fc7-3f0a-4d7f-a7b8-6f98d9a579d7  dd0741ca-63be-4e12-b5de-ad2818c2237d   \n",
       "2  00010fc7-3f0a-4d7f-a7b8-6f98d9a579d7  dd0741ca-63be-4e12-b5de-ad2818c2237d   \n",
       "3  00010fc7-3f0a-4d7f-a7b8-6f98d9a579d7  dd0741ca-63be-4e12-b5de-ad2818c2237d   \n",
       "4  0004bb55-8f31-4c03-8cc7-6a83e7e4dcf7  792078e4-350a-49ed-bae0-4d1ee73c80f5   \n",
       "\n",
       "    object  action                    hostname user_name privileges  \\\n",
       "0     FILE  MODIFY  SysClient0419.systemia.com      None       None   \n",
       "1  PROCESS  CREATE  SysClient0201.systemia.com      None       None   \n",
       "2  PROCESS    OPEN  SysClient0201.systemia.com      None       None   \n",
       "3  PROCESS    OPEN  SysClient0201.systemia.com      None       None   \n",
       "4     FILE  CREATE  SysClient0255.systemia.com      None       None   \n",
       "\n",
       "                                          image_path  ...  \\\n",
       "0                                             System  ...   \n",
       "1  \\Device\\HarddiskVolume1\\Windows\\system32\\conho...  ...   \n",
       "2   \\Device\\HarddiskVolume1\\Windows\\SYSTEM32\\cmd.exe  ...   \n",
       "3   \\Device\\HarddiskVolume1\\Windows\\SYSTEM32\\cmd.exe  ...   \n",
       "4        \\Device\\HarddiskVolume1\\Python27\\python.EXE  ...   \n",
       "\n",
       "                                           file_path direction logon_id  \\\n",
       "0  \\Device\\HarddiskVolume1\\Users\\khendricks\\AppDa...      None     None   \n",
       "1                                               None      None     None   \n",
       "2                                               None      None     None   \n",
       "3                                               None      None     None   \n",
       "4  \\Device\\HarddiskVolume1\\Windows\\SysWOW64\\confi...      None     None   \n",
       "\n",
       "  requesting_domain requesting_user event_minute event_day  event_hour  \\\n",
       "0              None            None           24        24          14   \n",
       "1              None            None           24        25          13   \n",
       "2              None            None           24        25          13   \n",
       "3              None            None           24        25          13   \n",
       "4              None            None           33        25          10   \n",
       "\n",
       "   malicious                                       relationship  \n",
       "0          0  [0000e8e2-c112-4610-9ddf-00b24a3fbdc5, 73d89b6...  \n",
       "1          0  [00010fc7-3f0a-4d7f-a7b8-6f98d9a579d7, dd0741c...  \n",
       "2          0  [00010fc7-3f0a-4d7f-a7b8-6f98d9a579d7, dd0741c...  \n",
       "3          0  [00010fc7-3f0a-4d7f-a7b8-6f98d9a579d7, dd0741c...  \n",
       "4          0  [0004bb55-8f31-4c03-8cc7-6a83e7e4dcf7, 792078e...  \n",
       "\n",
       "[5 rows x 22 columns]"
      ]
     },
     "execution_count": 7,
     "metadata": {},
     "output_type": "execute_result"
    }
   ],
   "source": [
    "df.limit(5).toPandas()"
   ]
  },
  {
   "cell_type": "code",
   "execution_count": 8,
   "id": "5cbf0110-c347-40ec-9d2c-1dd0c50a8b89",
   "metadata": {
    "tags": []
   },
   "outputs": [
    {
     "name": "stdout",
     "output_type": "stream",
     "text": [
      "root\n",
      " |-- id: string (nullable = true)\n",
      " |-- timestamp: timestamp (nullable = true)\n",
      " |-- objectID: string (nullable = true)\n",
      " |-- actorID: string (nullable = true)\n",
      " |-- object: string (nullable = true)\n",
      " |-- action: string (nullable = true)\n",
      " |-- hostname: string (nullable = true)\n",
      " |-- user_name: string (nullable = true)\n",
      " |-- privileges: string (nullable = true)\n",
      " |-- image_path: string (nullable = true)\n",
      " |-- parent_image_path: string (nullable = true)\n",
      " |-- new_path: string (nullable = true)\n",
      " |-- file_path: string (nullable = true)\n",
      " |-- direction: string (nullable = true)\n",
      " |-- logon_id: string (nullable = true)\n",
      " |-- requesting_domain: string (nullable = true)\n",
      " |-- requesting_user: string (nullable = true)\n",
      " |-- event_minute: integer (nullable = true)\n",
      " |-- event_day: integer (nullable = true)\n",
      " |-- event_hour: integer (nullable = true)\n",
      " |-- malicious: integer (nullable = true)\n",
      " |-- relationship: array (nullable = false)\n",
      " |    |-- element: string (containsNull = true)\n",
      "\n"
     ]
    }
   ],
   "source": [
    "df.printSchema()"
   ]
  },
  {
   "cell_type": "code",
   "execution_count": 9,
   "id": "e003fe3c-d279-4a2c-8bfd-04a14c29e24c",
   "metadata": {
    "tags": []
   },
   "outputs": [
    {
     "name": "stderr",
     "output_type": "stream",
     "text": [
      "                                                                                \r"
     ]
    },
    {
     "name": "stdout",
     "output_type": "stream",
     "text": [
      "image path: 252\n"
     ]
    },
    {
     "name": "stderr",
     "output_type": "stream",
     "text": [
      "[Stage 18:==================================================>   (188 + 8) / 200]\r"
     ]
    },
    {
     "name": "stdout",
     "output_type": "stream",
     "text": [
      "image path: 224\n"
     ]
    },
    {
     "name": "stderr",
     "output_type": "stream",
     "text": [
      "                                                                                \r"
     ]
    }
   ],
   "source": [
    "print(\"image path: \"+str(df.select(\"image_path\").distinct().count()))\n",
    "print(\"image path: \"+str(df.select(\"parent_image_path\").distinct().count()))"
   ]
  },
  {
   "cell_type": "code",
   "execution_count": 10,
   "id": "4630d609-0c68-48cb-937d-62e34acba055",
   "metadata": {
    "tags": []
   },
   "outputs": [],
   "source": [
    "df = df.limit(100000).cache()"
   ]
  },
  {
   "cell_type": "code",
   "execution_count": 11,
   "id": "a0a38212-2419-45cc-aaf6-147214928c82",
   "metadata": {
    "tags": []
   },
   "outputs": [
    {
     "name": "stderr",
     "output_type": "stream",
     "text": [
      "                                                                                \r"
     ]
    },
    {
     "data": {
      "text/plain": [
       "100000"
      ]
     },
     "execution_count": 11,
     "metadata": {},
     "output_type": "execute_result"
    }
   ],
   "source": [
    "df.count()"
   ]
  },
  {
   "cell_type": "code",
   "execution_count": 12,
   "id": "88890a54-58e8-4fd0-81c1-7e58f2321755",
   "metadata": {
    "tags": []
   },
   "outputs": [
    {
     "name": "stderr",
     "output_type": "stream",
     "text": [
      "/home/ec2-user/anaconda3/envs/python3/lib/python3.10/site-packages/pyspark/sql/dataframe.py:148: UserWarning: DataFrame.sql_ctx is an internal property, and will be removed in future releases. Use DataFrame.sparkSession instead.\n",
      "  warnings.warn(\n"
     ]
    }
   ],
   "source": [
    "# Create distinct vertices with source as actorid, destination as objectid\n",
    "src_vertices = df.selectExpr('actorID as id').distinct()\n",
    "dst_vertices = df.selectExpr('objectID as id').distinct()\n",
    "vertices = src_vertices.union(dst_vertices).distinct()\n",
    "\n",
    "# Create edges by using timestamp as an edge\n",
    "edges = df.selectExpr('actorID as src', 'objectID as dst', 'timestamp', 'object', 'action', 'hostname', 'user_name', 'privileges', 'image_path',\n",
    "                      'parent_image_path', 'new_path', 'file_path', 'direction', 'logon_id', 'requesting_domain', 'requesting_user', 'malicious')\n",
    "\n",
    "# Create GraphFrame\n",
    "g = GraphFrame(vertices, edges)"
   ]
  },
  {
   "cell_type": "code",
   "execution_count": 13,
   "id": "8c13cded-2d30-48d5-8d5a-2d0ee224a775",
   "metadata": {
    "tags": []
   },
   "outputs": [
    {
     "name": "stdout",
     "output_type": "stream",
     "text": [
      "Vertices:\n",
      "+--------------------+\n",
      "|                  id|\n",
      "+--------------------+\n",
      "|74fa9c45-fb97-447...|\n",
      "|76269410-b376-416...|\n",
      "|0844e602-c28c-4ff...|\n",
      "|47be1d43-98e3-4d1...|\n",
      "|08ca327d-85f6-4fe...|\n",
      "|0a1c3d68-f678-46e...|\n",
      "|0b840b3b-336e-460...|\n",
      "|0bd4f4f1-7c85-4d5...|\n",
      "|f7daa5be-d3e3-4c1...|\n",
      "|b3c4e673-7662-456...|\n",
      "|1134edf6-e2a4-41a...|\n",
      "|12c5e76d-e26e-4eb...|\n",
      "|8bd099cf-5bcc-437...|\n",
      "|1604c531-2dfa-43f...|\n",
      "|4ef22254-0006-437...|\n",
      "|2baf6d0b-6e83-486...|\n",
      "|25b541ee-4ae7-446...|\n",
      "|99b2b14f-e990-4ee...|\n",
      "|28731de7-1db6-492...|\n",
      "|29289b94-46d8-49f...|\n",
      "+--------------------+\n",
      "only showing top 20 rows\n",
      "\n"
     ]
    }
   ],
   "source": [
    "# display the vertices\n",
    "print(\"Vertices:\")\n",
    "g.vertices.show()"
   ]
  },
  {
   "cell_type": "code",
   "execution_count": 14,
   "id": "c29d12c6-e084-4fe5-872d-e1f64b221a69",
   "metadata": {
    "tags": []
   },
   "outputs": [
    {
     "name": "stdout",
     "output_type": "stream",
     "text": [
      "Edges:\n",
      "+--------------------+--------------------+--------------------+-------+------+--------------------+---------+----------+--------------------+--------------------+--------+--------------------+---------+--------+-----------------+---------------+---------+\n",
      "|                 src|                 dst|           timestamp| object|action|            hostname|user_name|privileges|          image_path|   parent_image_path|new_path|           file_path|direction|logon_id|requesting_domain|requesting_user|malicious|\n",
      "+--------------------+--------------------+--------------------+-------+------+--------------------+---------+----------+--------------------+--------------------+--------+--------------------+---------+--------+-----------------+---------------+---------+\n",
      "|73d89b62-3424-41e...|0000e8e2-c112-461...|2019-09-24 14:24:...|   FILE|MODIFY|SysClient0419.sys...|     null|      null|              System|                null|    null|\\Device\\HarddiskV...|     null|    null|             null|           null|        0|\n",
      "|dd0741ca-63be-4e1...|00010fc7-3f0a-4d7...|2019-09-25 13:24:...|PROCESS|CREATE|SysClient0201.sys...|     null|      null|\\Device\\HarddiskV...|\\Device\\HarddiskV...|    null|                null|     null|    null|             null|           null|        0|\n",
      "|dd0741ca-63be-4e1...|00010fc7-3f0a-4d7...|2019-09-25 13:24:...|PROCESS|  OPEN|SysClient0201.sys...|     null|      null|\\Device\\HarddiskV...|\\Device\\HarddiskV...|    null|                null|     null|    null|             null|           null|        0|\n",
      "|dd0741ca-63be-4e1...|00010fc7-3f0a-4d7...|2019-09-25 13:24:...|PROCESS|  OPEN|SysClient0201.sys...|     null|      null|\\Device\\HarddiskV...|\\Device\\HarddiskV...|    null|                null|     null|    null|             null|           null|        0|\n",
      "|792078e4-350a-49e...|0004bb55-8f31-4c0...|2019-09-25 10:33:...|   FILE|CREATE|SysClient0255.sys...|     null|      null|\\Device\\HarddiskV...|                null|    null|\\Device\\HarddiskV...|     null|    null|             null|           null|        0|\n",
      "+--------------------+--------------------+--------------------+-------+------+--------------------+---------+----------+--------------------+--------------------+--------+--------------------+---------+--------+-----------------+---------------+---------+\n",
      "only showing top 5 rows\n",
      "\n"
     ]
    }
   ],
   "source": [
    "# display the edges\n",
    "print(\"Edges:\")\n",
    "g.edges.show(5)"
   ]
  },
  {
   "cell_type": "code",
   "execution_count": 15,
   "id": "7c58e3ea-1a02-49de-8b36-b13e3e6e85a4",
   "metadata": {
    "tags": []
   },
   "outputs": [
    {
     "name": "stderr",
     "output_type": "stream",
     "text": [
      "/home/ec2-user/anaconda3/envs/python3/lib/python3.10/site-packages/pyspark/sql/dataframe.py:127: UserWarning: DataFrame constructor is internal. Do not directly use it.\n",
      "  warnings.warn(\"DataFrame constructor is internal. Do not directly use it.\")\n"
     ]
    },
    {
     "name": "stdout",
     "output_type": "stream",
     "text": [
      "+--------------------+--------+\n",
      "|                  id|inDegree|\n",
      "+--------------------+--------+\n",
      "|0000e8e2-c112-461...|       1|\n",
      "|00010fc7-3f0a-4d7...|       3|\n",
      "|0004bb55-8f31-4c0...|       1|\n",
      "|1ab5790a-9ca1-4e4...|       1|\n",
      "|c5e98af6-4bbe-4b3...|       1|\n",
      "+--------------------+--------+\n",
      "only showing top 5 rows\n",
      "\n"
     ]
    }
   ],
   "source": [
    "g.inDegrees.show(5)"
   ]
  },
  {
   "cell_type": "code",
   "execution_count": 16,
   "id": "c3ed0ae8-de35-47d6-b9b8-bc6ed6e52a9f",
   "metadata": {
    "tags": []
   },
   "outputs": [],
   "source": [
    "# find all paths of length 6 in the graph\n",
    "# Handling null values in shorter length \n",
    "motifs2 = g.find(\"(a)-[e1]->(b); (b)-[e2]->(c)\")\n",
    "motifs6 = g.find(\"(a)-[e1]->(b); (b)-[e2]->(c); (c)-[e3]->(d)\")\n",
    "motifs6 = g.find(\"(a)-[e1]->(b); (b)-[e2]->(c); (c)-[e3]->(d); (d)-[e4]->(e); (e)-[e5]->(f); (f)-[e6]->(g)\")"
   ]
  },
  {
   "cell_type": "code",
   "execution_count": 17,
   "id": "3ee9c0a0-f8dd-445e-b06d-b11027a36b00",
   "metadata": {
    "tags": []
   },
   "outputs": [
    {
     "data": {
      "text/plain": [
       "63245"
      ]
     },
     "execution_count": 17,
     "metadata": {},
     "output_type": "execute_result"
    }
   ],
   "source": [
    "motifs2.count()"
   ]
  },
  {
   "cell_type": "code",
   "execution_count": 18,
   "id": "cb5c2e9c-d7b1-48c8-ac2d-ce58820f447e",
   "metadata": {
    "tags": []
   },
   "outputs": [
    {
     "name": "stderr",
     "output_type": "stream",
     "text": [
      "                                                                                \r"
     ]
    },
    {
     "data": {
      "text/plain": [
       "1322"
      ]
     },
     "execution_count": 18,
     "metadata": {},
     "output_type": "execute_result"
    }
   ],
   "source": [
    "motifs6.count()"
   ]
  },
  {
   "cell_type": "code",
   "execution_count": 9,
   "id": "1e3adb2a-6535-4d86-b201-29c4e0e2111a",
   "metadata": {
    "tags": []
   },
   "outputs": [],
   "source": [
    "# filter paths to only those where all edges are connected\n",
    "connected_paths = motifs.filter(\"e1.dst = e2.src and e2.dst = e3.src and e3.dst = e4.src and e4.dst = e5.src and e5.dst = e6.src\")\n",
    "\n"
   ]
  },
  {
   "cell_type": "code",
   "execution_count": null,
   "id": "c1330b55-8ca0-42d1-abc9-8e98182c5bc5",
   "metadata": {
    "tags": []
   },
   "outputs": [],
   "source": [
    "# get the 6 edges in each path and convert to a pandas dataframe\n",
    "connected_paths.select(\"e1\").limit(1).collect()"
   ]
  },
  {
   "cell_type": "code",
   "execution_count": 11,
   "id": "a74c3dd0-0e37-47d2-a603-bf0469abdfdb",
   "metadata": {
    "tags": []
   },
   "outputs": [
    {
     "data": {
      "text/plain": [
       "pyspark.sql.dataframe.DataFrame"
      ]
     },
     "execution_count": 11,
     "metadata": {},
     "output_type": "execute_result"
    }
   ],
   "source": [
    "type(connected_paths)"
   ]
  },
  {
   "cell_type": "code",
   "execution_count": 12,
   "id": "140b9481-5dec-479a-b362-1992f8c8db67",
   "metadata": {
    "tags": []
   },
   "outputs": [
    {
     "name": "stderr",
     "output_type": "stream",
     "text": [
      "                                                                                \r"
     ]
    }
   ],
   "source": [
    "connected_paths.write.option(\"maxRecordsPerFile\", 300000).mode(\"overwrite\").parquet(f\"{s3_url_trusted}/prod/graph/test\")"
   ]
  },
  {
   "cell_type": "code",
   "execution_count": 14,
   "id": "2e04b021-682e-4444-9f9c-fc910fd48550",
   "metadata": {
    "tags": []
   },
   "outputs": [],
   "source": [
    "connected_paths = spark.read.parquet(f\"{s3_url_trusted}/prod/graph/test\").cache()"
   ]
  },
  {
   "cell_type": "code",
   "execution_count": 15,
   "id": "b22697e6-5408-4c34-aab0-879f8e6d8131",
   "metadata": {
    "tags": []
   },
   "outputs": [
    {
     "data": {
      "text/html": [
       "<div>\n",
       "<style scoped>\n",
       "    .dataframe tbody tr th:only-of-type {\n",
       "        vertical-align: middle;\n",
       "    }\n",
       "\n",
       "    .dataframe tbody tr th {\n",
       "        vertical-align: top;\n",
       "    }\n",
       "\n",
       "    .dataframe thead th {\n",
       "        text-align: right;\n",
       "    }\n",
       "</style>\n",
       "<table border=\"1\" class=\"dataframe\">\n",
       "  <thead>\n",
       "    <tr style=\"text-align: right;\">\n",
       "      <th></th>\n",
       "      <th>a</th>\n",
       "      <th>e1</th>\n",
       "      <th>b</th>\n",
       "      <th>e2</th>\n",
       "      <th>c</th>\n",
       "      <th>e3</th>\n",
       "      <th>d</th>\n",
       "      <th>e4</th>\n",
       "      <th>e</th>\n",
       "      <th>e5</th>\n",
       "      <th>f</th>\n",
       "      <th>e6</th>\n",
       "      <th>g</th>\n",
       "    </tr>\n",
       "  </thead>\n",
       "  <tbody>\n",
       "    <tr>\n",
       "      <th>0</th>\n",
       "      <td>(0005a73d-e2af-4e57-b432-d8cd419ae274,)</td>\n",
       "      <td>(0005a73d-e2af-4e57-b432-d8cd419ae274, 0005a73...</td>\n",
       "      <td>(0005a73d-e2af-4e57-b432-d8cd419ae274,)</td>\n",
       "      <td>(0005a73d-e2af-4e57-b432-d8cd419ae274, 0005a73...</td>\n",
       "      <td>(0005a73d-e2af-4e57-b432-d8cd419ae274,)</td>\n",
       "      <td>(0005a73d-e2af-4e57-b432-d8cd419ae274, 0005a73...</td>\n",
       "      <td>(0005a73d-e2af-4e57-b432-d8cd419ae274,)</td>\n",
       "      <td>(0005a73d-e2af-4e57-b432-d8cd419ae274, 0005a73...</td>\n",
       "      <td>(0005a73d-e2af-4e57-b432-d8cd419ae274,)</td>\n",
       "      <td>(0005a73d-e2af-4e57-b432-d8cd419ae274, 0005a73...</td>\n",
       "      <td>(0005a73d-e2af-4e57-b432-d8cd419ae274,)</td>\n",
       "      <td>(0005a73d-e2af-4e57-b432-d8cd419ae274, 0005a73...</td>\n",
       "      <td>(0005a73d-e2af-4e57-b432-d8cd419ae274,)</td>\n",
       "    </tr>\n",
       "    <tr>\n",
       "      <th>1</th>\n",
       "      <td>(0006e259-0f61-4bbd-b9dc-9c4a7f30004e,)</td>\n",
       "      <td>(0006e259-0f61-4bbd-b9dc-9c4a7f30004e, 0006e25...</td>\n",
       "      <td>(0006e259-0f61-4bbd-b9dc-9c4a7f30004e,)</td>\n",
       "      <td>(0006e259-0f61-4bbd-b9dc-9c4a7f30004e, 0006e25...</td>\n",
       "      <td>(0006e259-0f61-4bbd-b9dc-9c4a7f30004e,)</td>\n",
       "      <td>(0006e259-0f61-4bbd-b9dc-9c4a7f30004e, 0006e25...</td>\n",
       "      <td>(0006e259-0f61-4bbd-b9dc-9c4a7f30004e,)</td>\n",
       "      <td>(0006e259-0f61-4bbd-b9dc-9c4a7f30004e, 0006e25...</td>\n",
       "      <td>(0006e259-0f61-4bbd-b9dc-9c4a7f30004e,)</td>\n",
       "      <td>(0006e259-0f61-4bbd-b9dc-9c4a7f30004e, 0006e25...</td>\n",
       "      <td>(0006e259-0f61-4bbd-b9dc-9c4a7f30004e,)</td>\n",
       "      <td>(0006e259-0f61-4bbd-b9dc-9c4a7f30004e, 0006e25...</td>\n",
       "      <td>(0006e259-0f61-4bbd-b9dc-9c4a7f30004e,)</td>\n",
       "    </tr>\n",
       "    <tr>\n",
       "      <th>2</th>\n",
       "      <td>(000ab363-f760-47f6-a369-60c14ac9dcde,)</td>\n",
       "      <td>(000ab363-f760-47f6-a369-60c14ac9dcde, 000ab36...</td>\n",
       "      <td>(000ab363-f760-47f6-a369-60c14ac9dcde,)</td>\n",
       "      <td>(000ab363-f760-47f6-a369-60c14ac9dcde, 000ab36...</td>\n",
       "      <td>(000ab363-f760-47f6-a369-60c14ac9dcde,)</td>\n",
       "      <td>(000ab363-f760-47f6-a369-60c14ac9dcde, 000ab36...</td>\n",
       "      <td>(000ab363-f760-47f6-a369-60c14ac9dcde,)</td>\n",
       "      <td>(000ab363-f760-47f6-a369-60c14ac9dcde, 000ab36...</td>\n",
       "      <td>(000ab363-f760-47f6-a369-60c14ac9dcde,)</td>\n",
       "      <td>(000ab363-f760-47f6-a369-60c14ac9dcde, 000ab36...</td>\n",
       "      <td>(000ab363-f760-47f6-a369-60c14ac9dcde,)</td>\n",
       "      <td>(000ab363-f760-47f6-a369-60c14ac9dcde, 000ab36...</td>\n",
       "      <td>(000ab363-f760-47f6-a369-60c14ac9dcde,)</td>\n",
       "    </tr>\n",
       "    <tr>\n",
       "      <th>3</th>\n",
       "      <td>(000ab363-f760-47f6-a369-60c14ac9dcde,)</td>\n",
       "      <td>(000ab363-f760-47f6-a369-60c14ac9dcde, 000ab36...</td>\n",
       "      <td>(000ab363-f760-47f6-a369-60c14ac9dcde,)</td>\n",
       "      <td>(000ab363-f760-47f6-a369-60c14ac9dcde, 000ab36...</td>\n",
       "      <td>(000ab363-f760-47f6-a369-60c14ac9dcde,)</td>\n",
       "      <td>(000ab363-f760-47f6-a369-60c14ac9dcde, 000ab36...</td>\n",
       "      <td>(000ab363-f760-47f6-a369-60c14ac9dcde,)</td>\n",
       "      <td>(000ab363-f760-47f6-a369-60c14ac9dcde, 000ab36...</td>\n",
       "      <td>(000ab363-f760-47f6-a369-60c14ac9dcde,)</td>\n",
       "      <td>(000ab363-f760-47f6-a369-60c14ac9dcde, 000ab36...</td>\n",
       "      <td>(000ab363-f760-47f6-a369-60c14ac9dcde,)</td>\n",
       "      <td>(000ab363-f760-47f6-a369-60c14ac9dcde, 000ab36...</td>\n",
       "      <td>(000ab363-f760-47f6-a369-60c14ac9dcde,)</td>\n",
       "    </tr>\n",
       "    <tr>\n",
       "      <th>4</th>\n",
       "      <td>(000ab363-f760-47f6-a369-60c14ac9dcde,)</td>\n",
       "      <td>(000ab363-f760-47f6-a369-60c14ac9dcde, 000ab36...</td>\n",
       "      <td>(000ab363-f760-47f6-a369-60c14ac9dcde,)</td>\n",
       "      <td>(000ab363-f760-47f6-a369-60c14ac9dcde, 000ab36...</td>\n",
       "      <td>(000ab363-f760-47f6-a369-60c14ac9dcde,)</td>\n",
       "      <td>(000ab363-f760-47f6-a369-60c14ac9dcde, 000ab36...</td>\n",
       "      <td>(000ab363-f760-47f6-a369-60c14ac9dcde,)</td>\n",
       "      <td>(000ab363-f760-47f6-a369-60c14ac9dcde, 000ab36...</td>\n",
       "      <td>(000ab363-f760-47f6-a369-60c14ac9dcde,)</td>\n",
       "      <td>(000ab363-f760-47f6-a369-60c14ac9dcde, 000ab36...</td>\n",
       "      <td>(000ab363-f760-47f6-a369-60c14ac9dcde,)</td>\n",
       "      <td>(000ab363-f760-47f6-a369-60c14ac9dcde, 000ab36...</td>\n",
       "      <td>(000ab363-f760-47f6-a369-60c14ac9dcde,)</td>\n",
       "    </tr>\n",
       "  </tbody>\n",
       "</table>\n",
       "</div>"
      ],
      "text/plain": [
       "                                         a  \\\n",
       "0  (0005a73d-e2af-4e57-b432-d8cd419ae274,)   \n",
       "1  (0006e259-0f61-4bbd-b9dc-9c4a7f30004e,)   \n",
       "2  (000ab363-f760-47f6-a369-60c14ac9dcde,)   \n",
       "3  (000ab363-f760-47f6-a369-60c14ac9dcde,)   \n",
       "4  (000ab363-f760-47f6-a369-60c14ac9dcde,)   \n",
       "\n",
       "                                                  e1  \\\n",
       "0  (0005a73d-e2af-4e57-b432-d8cd419ae274, 0005a73...   \n",
       "1  (0006e259-0f61-4bbd-b9dc-9c4a7f30004e, 0006e25...   \n",
       "2  (000ab363-f760-47f6-a369-60c14ac9dcde, 000ab36...   \n",
       "3  (000ab363-f760-47f6-a369-60c14ac9dcde, 000ab36...   \n",
       "4  (000ab363-f760-47f6-a369-60c14ac9dcde, 000ab36...   \n",
       "\n",
       "                                         b  \\\n",
       "0  (0005a73d-e2af-4e57-b432-d8cd419ae274,)   \n",
       "1  (0006e259-0f61-4bbd-b9dc-9c4a7f30004e,)   \n",
       "2  (000ab363-f760-47f6-a369-60c14ac9dcde,)   \n",
       "3  (000ab363-f760-47f6-a369-60c14ac9dcde,)   \n",
       "4  (000ab363-f760-47f6-a369-60c14ac9dcde,)   \n",
       "\n",
       "                                                  e2  \\\n",
       "0  (0005a73d-e2af-4e57-b432-d8cd419ae274, 0005a73...   \n",
       "1  (0006e259-0f61-4bbd-b9dc-9c4a7f30004e, 0006e25...   \n",
       "2  (000ab363-f760-47f6-a369-60c14ac9dcde, 000ab36...   \n",
       "3  (000ab363-f760-47f6-a369-60c14ac9dcde, 000ab36...   \n",
       "4  (000ab363-f760-47f6-a369-60c14ac9dcde, 000ab36...   \n",
       "\n",
       "                                         c  \\\n",
       "0  (0005a73d-e2af-4e57-b432-d8cd419ae274,)   \n",
       "1  (0006e259-0f61-4bbd-b9dc-9c4a7f30004e,)   \n",
       "2  (000ab363-f760-47f6-a369-60c14ac9dcde,)   \n",
       "3  (000ab363-f760-47f6-a369-60c14ac9dcde,)   \n",
       "4  (000ab363-f760-47f6-a369-60c14ac9dcde,)   \n",
       "\n",
       "                                                  e3  \\\n",
       "0  (0005a73d-e2af-4e57-b432-d8cd419ae274, 0005a73...   \n",
       "1  (0006e259-0f61-4bbd-b9dc-9c4a7f30004e, 0006e25...   \n",
       "2  (000ab363-f760-47f6-a369-60c14ac9dcde, 000ab36...   \n",
       "3  (000ab363-f760-47f6-a369-60c14ac9dcde, 000ab36...   \n",
       "4  (000ab363-f760-47f6-a369-60c14ac9dcde, 000ab36...   \n",
       "\n",
       "                                         d  \\\n",
       "0  (0005a73d-e2af-4e57-b432-d8cd419ae274,)   \n",
       "1  (0006e259-0f61-4bbd-b9dc-9c4a7f30004e,)   \n",
       "2  (000ab363-f760-47f6-a369-60c14ac9dcde,)   \n",
       "3  (000ab363-f760-47f6-a369-60c14ac9dcde,)   \n",
       "4  (000ab363-f760-47f6-a369-60c14ac9dcde,)   \n",
       "\n",
       "                                                  e4  \\\n",
       "0  (0005a73d-e2af-4e57-b432-d8cd419ae274, 0005a73...   \n",
       "1  (0006e259-0f61-4bbd-b9dc-9c4a7f30004e, 0006e25...   \n",
       "2  (000ab363-f760-47f6-a369-60c14ac9dcde, 000ab36...   \n",
       "3  (000ab363-f760-47f6-a369-60c14ac9dcde, 000ab36...   \n",
       "4  (000ab363-f760-47f6-a369-60c14ac9dcde, 000ab36...   \n",
       "\n",
       "                                         e  \\\n",
       "0  (0005a73d-e2af-4e57-b432-d8cd419ae274,)   \n",
       "1  (0006e259-0f61-4bbd-b9dc-9c4a7f30004e,)   \n",
       "2  (000ab363-f760-47f6-a369-60c14ac9dcde,)   \n",
       "3  (000ab363-f760-47f6-a369-60c14ac9dcde,)   \n",
       "4  (000ab363-f760-47f6-a369-60c14ac9dcde,)   \n",
       "\n",
       "                                                  e5  \\\n",
       "0  (0005a73d-e2af-4e57-b432-d8cd419ae274, 0005a73...   \n",
       "1  (0006e259-0f61-4bbd-b9dc-9c4a7f30004e, 0006e25...   \n",
       "2  (000ab363-f760-47f6-a369-60c14ac9dcde, 000ab36...   \n",
       "3  (000ab363-f760-47f6-a369-60c14ac9dcde, 000ab36...   \n",
       "4  (000ab363-f760-47f6-a369-60c14ac9dcde, 000ab36...   \n",
       "\n",
       "                                         f  \\\n",
       "0  (0005a73d-e2af-4e57-b432-d8cd419ae274,)   \n",
       "1  (0006e259-0f61-4bbd-b9dc-9c4a7f30004e,)   \n",
       "2  (000ab363-f760-47f6-a369-60c14ac9dcde,)   \n",
       "3  (000ab363-f760-47f6-a369-60c14ac9dcde,)   \n",
       "4  (000ab363-f760-47f6-a369-60c14ac9dcde,)   \n",
       "\n",
       "                                                  e6  \\\n",
       "0  (0005a73d-e2af-4e57-b432-d8cd419ae274, 0005a73...   \n",
       "1  (0006e259-0f61-4bbd-b9dc-9c4a7f30004e, 0006e25...   \n",
       "2  (000ab363-f760-47f6-a369-60c14ac9dcde, 000ab36...   \n",
       "3  (000ab363-f760-47f6-a369-60c14ac9dcde, 000ab36...   \n",
       "4  (000ab363-f760-47f6-a369-60c14ac9dcde, 000ab36...   \n",
       "\n",
       "                                         g  \n",
       "0  (0005a73d-e2af-4e57-b432-d8cd419ae274,)  \n",
       "1  (0006e259-0f61-4bbd-b9dc-9c4a7f30004e,)  \n",
       "2  (000ab363-f760-47f6-a369-60c14ac9dcde,)  \n",
       "3  (000ab363-f760-47f6-a369-60c14ac9dcde,)  \n",
       "4  (000ab363-f760-47f6-a369-60c14ac9dcde,)  "
      ]
     },
     "execution_count": 15,
     "metadata": {},
     "output_type": "execute_result"
    }
   ],
   "source": [
    "connected_paths.limit(5).toPandas()"
   ]
  },
  {
   "cell_type": "code",
   "execution_count": 20,
   "id": "2ccfbd61-718e-45d9-9f35-57a545866c79",
   "metadata": {
    "tags": []
   },
   "outputs": [
    {
     "data": {
      "text/plain": [
       "273"
      ]
     },
     "execution_count": 20,
     "metadata": {},
     "output_type": "execute_result"
    }
   ],
   "source": [
    "connected_paths.count()"
   ]
  },
  {
   "cell_type": "code",
   "execution_count": 18,
   "id": "cf6cccdc-2427-460e-97a7-c5cda79f7de9",
   "metadata": {
    "tags": []
   },
   "outputs": [],
   "source": [
    "# using split and applying in ml with pypark\n",
    "train, test, val = connected_paths.randomSplit([0.80, 0.15, 0.05], seed=12345)"
   ]
  },
  {
   "cell_type": "code",
   "execution_count": 22,
   "id": "ac08c41e-e588-4bb1-8520-b46c1467e018",
   "metadata": {
    "tags": []
   },
   "outputs": [
    {
     "data": {
      "text/plain": [
       "9"
      ]
     },
     "execution_count": 22,
     "metadata": {},
     "output_type": "execute_result"
    }
   ],
   "source": [
    "val.count()"
   ]
  },
  {
   "cell_type": "code",
   "execution_count": null,
   "id": "52501454-e7dc-413c-890c-d5a4676d996e",
   "metadata": {},
   "outputs": [],
   "source": []
  },
  {
   "cell_type": "code",
   "execution_count": null,
   "id": "63672d40-ca27-4e80-9092-251214d6621f",
   "metadata": {},
   "outputs": [],
   "source": []
  },
  {
   "cell_type": "code",
   "execution_count": null,
   "id": "c042a899-4b99-45a4-a13d-90c4e2861f76",
   "metadata": {
    "tags": []
   },
   "outputs": [],
   "source": [
    "# create new dataframe to union and create duplicate rows\n",
    "df_dup = df.withColumn('id', lit(None).cast(StringType()))"
   ]
  },
  {
   "cell_type": "code",
   "execution_count": null,
   "id": "e5d4873c-793e-40ba-8b0a-e62b72ec9a48",
   "metadata": {
    "tags": []
   },
   "outputs": [],
   "source": [
    "df_dup.limit(5).toPandas()"
   ]
  },
  {
   "cell_type": "code",
   "execution_count": null,
   "id": "0a2ef262-3b4b-4659-9e5a-ad65cd30257f",
   "metadata": {
    "tags": []
   },
   "outputs": [],
   "source": [
    "df_new = df.union(df_dup).sort(\"timestamp\").cache()\n",
    "df.unpersist()"
   ]
  },
  {
   "cell_type": "code",
   "execution_count": null,
   "id": "d5da3e36-2e52-47b1-a84f-5eefcb4bc16b",
   "metadata": {
    "tags": []
   },
   "outputs": [],
   "source": [
    "df_new.limit(5).toPandas()"
   ]
  },
  {
   "cell_type": "code",
   "execution_count": null,
   "id": "fb3abb18-b762-4e7d-b466-d9e5ee31f9f3",
   "metadata": {
    "tags": []
   },
   "outputs": [],
   "source": [
    "# len(df_new.select('relationship').distinct().collect())"
   ]
  },
  {
   "cell_type": "code",
   "execution_count": null,
   "id": "7b2bfd54-47a1-4b4c-8953-575c2d68c98f",
   "metadata": {},
   "outputs": [],
   "source": [
    "tot = df_new.count()"
   ]
  },
  {
   "cell_type": "code",
   "execution_count": null,
   "id": "464deab4-13be-4bb9-a48a-4d66d4384b0b",
   "metadata": {},
   "outputs": [],
   "source": [
    "df_ratios = df_new.groupBy(\"object\") \\\n",
    "              .count() \\\n",
    "              .withColumnRenamed('count', 'cnt_per_group') \\\n",
    "              .withColumn('perc_of_count_total', (col('cnt_per_group') / tot) * 100 ) \\\n",
    "              .cache()"
   ]
  },
  {
   "cell_type": "code",
   "execution_count": null,
   "id": "b25931e3-928c-4b1f-920b-79132f35b1e4",
   "metadata": {},
   "outputs": [],
   "source": [
    "df_ratios.limit(5).toPandas()"
   ]
  },
  {
   "cell_type": "code",
   "execution_count": null,
   "id": "8ec07a31-d23e-4d12-a41b-dd1898d38078",
   "metadata": {
    "tags": []
   },
   "outputs": [],
   "source": [
    "df_new.limit(5).toPandas()"
   ]
  },
  {
   "cell_type": "code",
   "execution_count": null,
   "id": "a0e1ad06-7612-48ed-b9bc-9ace19b7545f",
   "metadata": {},
   "outputs": [],
   "source": []
  },
  {
   "cell_type": "code",
   "execution_count": null,
   "id": "cce447ff-155c-42cf-ab20-911e59a77fd1",
   "metadata": {
    "tags": []
   },
   "outputs": [],
   "source": [
    "connected_paths.write.option(\"maxRecordsPerFile\", 300000).mode(\"overwrite\").parquet(f\"{s3_url_trusted}/prod/graph/test\")"
   ]
  },
  {
   "cell_type": "code",
   "execution_count": null,
   "id": "9a210e73-7628-485d-b723-523a4b68d349",
   "metadata": {},
   "outputs": [],
   "source": []
  }
 ],
 "metadata": {
  "kernelspec": {
   "display_name": "conda_python3",
   "language": "python",
   "name": "conda_python3"
  },
  "language_info": {
   "codemirror_mode": {
    "name": "ipython",
    "version": 3
   },
   "file_extension": ".py",
   "mimetype": "text/x-python",
   "name": "python",
   "nbconvert_exporter": "python",
   "pygments_lexer": "ipython3",
   "version": "3.10.8"
  }
 },
 "nbformat": 4,
 "nbformat_minor": 5
}
