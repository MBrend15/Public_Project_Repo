{
 "cells": [
  {
   "cell_type": "code",
   "execution_count": 3,
   "id": "1c5002ac-9cf6-4082-bd31-0bd2befac188",
   "metadata": {
    "collapsed": true,
    "jupyter": {
     "outputs_hidden": true
    },
    "tags": []
   },
   "outputs": [
    {
     "name": "stderr",
     "output_type": "stream",
     "text": [
      "Warning: Ignoring non-Spark config property: fs.s3a.access.key\n",
      "Warning: Ignoring non-Spark config property: fs.s3a.secret.key\n"
     ]
    },
    {
     "name": "stdout",
     "output_type": "stream",
     "text": [
      ":: loading settings :: url = jar:file:/home/ec2-user/anaconda3/envs/python3/lib/python3.10/site-packages/pyspark/jars/ivy-2.5.0.jar!/org/apache/ivy/core/settings/ivysettings.xml\n"
     ]
    },
    {
     "name": "stderr",
     "output_type": "stream",
     "text": [
      "Ivy Default Cache set to: /home/ec2-user/.ivy2/cache\n",
      "The jars for the packages stored in: /home/ec2-user/.ivy2/jars\n",
      "graphframes#graphframes added as a dependency\n",
      ":: resolving dependencies :: org.apache.spark#spark-submit-parent-630b7fbc-ed09-4b29-912d-7c1458aa6b13;1.0\n",
      "\tconfs: [default]\n",
      "\tfound graphframes#graphframes;0.8.2-spark3.2-s_2.12 in spark-packages\n",
      "\tfound org.slf4j#slf4j-api;1.7.16 in central\n",
      ":: resolution report :: resolve 118ms :: artifacts dl 3ms\n",
      "\t:: modules in use:\n",
      "\tgraphframes#graphframes;0.8.2-spark3.2-s_2.12 from spark-packages in [default]\n",
      "\torg.slf4j#slf4j-api;1.7.16 from central in [default]\n",
      "\t---------------------------------------------------------------------\n",
      "\t|                  |            modules            ||   artifacts   |\n",
      "\t|       conf       | number| search|dwnlded|evicted|| number|dwnlded|\n",
      "\t---------------------------------------------------------------------\n",
      "\t|      default     |   2   |   0   |   0   |   0   ||   2   |   0   |\n",
      "\t---------------------------------------------------------------------\n",
      ":: retrieving :: org.apache.spark#spark-submit-parent-630b7fbc-ed09-4b29-912d-7c1458aa6b13\n",
      "\tconfs: [default]\n",
      "\t0 artifacts copied, 2 already retrieved (0kB/4ms)\n"
     ]
    },
    {
     "name": "stdout",
     "output_type": "stream",
     "text": [
      "23/03/30 01:43:03 WARN NativeCodeLoader: Unable to load native-hadoop library for your platform... using builtin-java classes where applicable\n"
     ]
    },
    {
     "name": "stderr",
     "output_type": "stream",
     "text": [
      "Setting default log level to \"WARN\".\n",
      "To adjust logging level use sc.setLogLevel(newLevel). For SparkR, use setLogLevel(newLevel).\n"
     ]
    },
    {
     "name": "stdout",
     "output_type": "stream",
     "text": [
      "23/03/30 01:43:04 WARN SparkConf: Note that spark.local.dir will be overridden by the value set by the cluster manager (via SPARK_LOCAL_DIRS in mesos/standalone/kubernetes and LOCAL_DIRS in YARN).\n",
      "23/03/30 01:43:06 WARN Utils: Service 'SparkUI' could not bind on port 4040. Attempting port 4041.\n"
     ]
    }
   ],
   "source": [
    "%run ./read_file.ipynb"
   ]
  },
  {
   "cell_type": "code",
   "execution_count": 2,
   "id": "16e819a0-bfe6-494a-8345-d1a02ba647b6",
   "metadata": {
    "tags": []
   },
   "outputs": [],
   "source": [
    "from graphframes import GraphFrame"
   ]
  },
  {
   "cell_type": "code",
   "execution_count": null,
   "id": "7c106592-d960-4871-a3d0-fd85d16116f5",
   "metadata": {},
   "outputs": [],
   "source": []
  },
  {
   "cell_type": "code",
   "execution_count": null,
   "id": "1d82b393-d259-425d-a67b-1b85b90b895d",
   "metadata": {
    "tags": []
   },
   "outputs": [],
   "source": [
    "window = Window.partitionBy(\"relationship\").orderBy(\"timestamp\")\n",
    "df = readFirstEvents().withColumn(\"relationship\", sort_array(array(\"actorID\", \"objectID\")) )  \\\n",
    "                .withColumn('rank', rank().over(window)) \\\n",
    "                .filter(col('rank') == 1).cache()# \\\n",
    "                #.drop('rank').cache()"
   ]
  },
  {
   "cell_type": "code",
   "execution_count": 5,
   "id": "793e7013-2c69-4ce7-b921-c06123dc206a",
   "metadata": {
    "tags": []
   },
   "outputs": [],
   "source": [
    "df = df.withColumn(\"image_path_ext\", regexp_extract(\"image_path\", \"\\.[0-9a-z]+$\", 0)) \\\n",
    "        .withColumn(\"parent_path_ext\", regexp_extract(\"parent_image_path\", \"\\.[0-9a-z]+$\", 0)) \\\n",
    "        .withColumn(\"new_path_ext\", regexp_extract(\"new_path\", \"\\.[0-9a-z]+$\", 0)) \\\n",
    "        .withColumn(\"file_path_ext\", regexp_extract(\"file_path\", \"\\.[0-9a-z]+$\", 0))"
   ]
  },
  {
   "cell_type": "code",
   "execution_count": 6,
   "id": "93db8dd0-0a49-4627-bcd4-04c7d94e8fac",
   "metadata": {
    "tags": []
   },
   "outputs": [
    {
     "name": "stderr",
     "output_type": "stream",
     "text": [
      "                                                                                \r"
     ]
    },
    {
     "data": {
      "text/plain": [
       "3756864"
      ]
     },
     "execution_count": 6,
     "metadata": {},
     "output_type": "execute_result"
    }
   ],
   "source": [
    "df.count()"
   ]
  },
  {
   "cell_type": "code",
   "execution_count": null,
   "id": "4bbd7c73-550b-4a71-af69-c8bc325144b6",
   "metadata": {
    "tags": []
   },
   "outputs": [],
   "source": [
    "df.limit(10).toPandas()"
   ]
  },
  {
   "cell_type": "code",
   "execution_count": 4,
   "id": "40e153e3-b374-481a-86c8-791dac3cef34",
   "metadata": {
    "tags": []
   },
   "outputs": [
    {
     "name": "stderr",
     "output_type": "stream",
     "text": [
      "                                                                                \r"
     ]
    },
    {
     "name": "stdout",
     "output_type": "stream",
     "text": [
      " 1:44AM UTC on Mar 30, 2023 --- read time: 7.198557138442993 seconds ---\n"
     ]
    }
   ],
   "source": [
    "window = Window.partitionBy(\"relationship\").orderBy(\"timestamp\")\n",
    "df = readFirstEvents().sort(\"timestamp\").withColumn(\"relationship\", sort_array(array(\"actorID\", \"objectID\")) )  \\\n",
    "                .withColumn(\"row_num\", row_number().over(window)) \\\n",
    "                .filter(col(\"row_num\") == 1).cache()"
   ]
  },
  {
   "cell_type": "code",
   "execution_count": null,
   "id": "0c1d43c3-f8e6-494f-a02e-f7fa11c83c99",
   "metadata": {
    "tags": []
   },
   "outputs": [],
   "source": [
    "df_2.count()"
   ]
  },
  {
   "cell_type": "code",
   "execution_count": 9,
   "id": "ab8cb4e4-c392-47bb-8a98-014beee66b7e",
   "metadata": {
    "tags": []
   },
   "outputs": [],
   "source": [
    "df_23 = df.where((col('event_day') == 23) & (col('event_hour') == 14)\n",
    "                & (col('event_minute') > 30)).cache()"
   ]
  },
  {
   "cell_type": "code",
   "execution_count": 10,
   "id": "501e0d88-878d-4b8d-8c78-fa63d864a596",
   "metadata": {
    "tags": []
   },
   "outputs": [
    {
     "name": "stderr",
     "output_type": "stream",
     "text": [
      "                                                                                \r"
     ]
    },
    {
     "data": {
      "text/plain": [
       "108062"
      ]
     },
     "execution_count": 10,
     "metadata": {},
     "output_type": "execute_result"
    }
   ],
   "source": [
    "df_23.drop('row_num','relationship')\n",
    "df_23.count()"
   ]
  },
  {
   "cell_type": "code",
   "execution_count": 11,
   "id": "5cbf0110-c347-40ec-9d2c-1dd0c50a8b89",
   "metadata": {
    "collapsed": true,
    "jupyter": {
     "outputs_hidden": true
    },
    "tags": []
   },
   "outputs": [
    {
     "name": "stdout",
     "output_type": "stream",
     "text": [
      "root\n",
      " |-- id: string (nullable = true)\n",
      " |-- timestamp: timestamp (nullable = true)\n",
      " |-- objectID: string (nullable = true)\n",
      " |-- actorID: string (nullable = true)\n",
      " |-- object: string (nullable = true)\n",
      " |-- action: string (nullable = true)\n",
      " |-- hostname: string (nullable = true)\n",
      " |-- user_name: string (nullable = true)\n",
      " |-- privileges: string (nullable = true)\n",
      " |-- image_path: string (nullable = true)\n",
      " |-- parent_image_path: string (nullable = true)\n",
      " |-- new_path: string (nullable = true)\n",
      " |-- file_path: string (nullable = true)\n",
      " |-- direction: string (nullable = true)\n",
      " |-- logon_id: string (nullable = true)\n",
      " |-- requesting_domain: string (nullable = true)\n",
      " |-- requesting_user: string (nullable = true)\n",
      " |-- event_minute: integer (nullable = true)\n",
      " |-- event_day: integer (nullable = true)\n",
      " |-- event_hour: integer (nullable = true)\n",
      " |-- malicious: integer (nullable = true)\n",
      " |-- relationship: array (nullable = false)\n",
      " |    |-- element: string (containsNull = true)\n",
      " |-- row_num: integer (nullable = false)\n",
      " |-- image_path_ext: string (nullable = true)\n",
      " |-- parent_path_ext: string (nullable = true)\n",
      " |-- new_path_ext: string (nullable = true)\n",
      " |-- file_path_ext: string (nullable = true)\n",
      "\n"
     ]
    }
   ],
   "source": [
    "df_23.printSchema()"
   ]
  },
  {
   "cell_type": "code",
   "execution_count": null,
   "id": "8092b1ef-ad29-4f6f-9967-a50ace3a57d2",
   "metadata": {
    "tags": []
   },
   "outputs": [],
   "source": [
    "df_2 = df_2.withColumn(\"image_path_ext\", regexp_extract(\"image_path\", \"\\.[0-9a-z]+$\", 0)) \\\n",
    "        .withColumn(\"parent_path_ext\", regexp_extract(\"parent_image_path\", \"\\.[0-9a-z]+$\", 0)) \\\n",
    "        .withColumn(\"new_path_ext\", regexp_extract(\"new_path\", \"\\.[0-9a-z]+$\", 0)) \\\n",
    "        .withColumn(\"file_path_ext\", regexp_extract(\"file_path\", \"\\.[0-9a-z]+$\", 0)) \\\n",
    "        .drop('row_num','relationship')"
   ]
  },
  {
   "cell_type": "code",
   "execution_count": null,
   "id": "5b0d9d97-eb99-4261-90fd-c2eee001ce01",
   "metadata": {},
   "outputs": [],
   "source": []
  },
  {
   "cell_type": "code",
   "execution_count": null,
   "id": "e003fe3c-d279-4a2c-8bfd-04a14c29e24c",
   "metadata": {
    "tags": []
   },
   "outputs": [],
   "source": [
    "print(\"image path: \"+str(df.select(\"image_path\").distinct().count()))\n",
    "print(\"image path: \"+str(df.select(\"parent_image_path\").distinct().count()))"
   ]
  },
  {
   "cell_type": "code",
   "execution_count": null,
   "id": "4630d609-0c68-48cb-937d-62e34acba055",
   "metadata": {
    "tags": []
   },
   "outputs": [],
   "source": [
    "df_100k = df.limit(100000).cache()\n",
    "df_2_100k = df_2.limit(100000).cache()"
   ]
  },
  {
   "cell_type": "code",
   "execution_count": null,
   "id": "a0a38212-2419-45cc-aaf6-147214928c82",
   "metadata": {
    "tags": []
   },
   "outputs": [],
   "source": [
    "df.count()"
   ]
  },
  {
   "cell_type": "code",
   "execution_count": 12,
   "id": "88890a54-58e8-4fd0-81c1-7e58f2321755",
   "metadata": {
    "tags": []
   },
   "outputs": [
    {
     "name": "stderr",
     "output_type": "stream",
     "text": [
      "/home/ec2-user/anaconda3/envs/python3/lib/python3.10/site-packages/pyspark/sql/dataframe.py:148: UserWarning: DataFrame.sql_ctx is an internal property, and will be removed in future releases. Use DataFrame.sparkSession instead.\n",
      "  warnings.warn(\n"
     ]
    }
   ],
   "source": [
    "# Create distinct vertices with source as actorid, destination as objectid\n",
    "src_vertices = df_23.selectExpr('actorID as id').distinct()\n",
    "dst_vertices = df_23.selectExpr('objectID as id').distinct()\n",
    "vertices = src_vertices.union(dst_vertices).distinct()\n",
    "\n",
    "# Create edges by using timestamp as an edge\n",
    "edges = df_23.selectExpr('actorID as src', 'objectID as dst', 'timestamp', 'object', 'action', 'hostname', 'user_name', 'privileges', 'image_path',\n",
    "                      'parent_image_path', 'new_path', 'file_path', 'direction', 'logon_id', 'requesting_domain', 'requesting_user', 'malicious')\n",
    "\n",
    "# Create GraphFrame\n",
    "g = GraphFrame(vertices, edges)"
   ]
  },
  {
   "cell_type": "code",
   "execution_count": null,
   "id": "366cd026-9d7c-4562-93b0-225dc1e02a54",
   "metadata": {
    "tags": []
   },
   "outputs": [],
   "source": [
    "# Create distinct vertices with source as actorid, destination as objectid\n",
    "src_vertices = df_2_100k.sort('timestamp').selectExpr('actorID as id').distinct()\n",
    "dst_vertices = df_2_100k.sort('timestamp').selectExpr('objectID as id').distinct()\n",
    "vertices = src_vertices.union(dst_vertices).distinct()\n",
    "\n",
    "# Create edges by using timestamp as an edge\n",
    "edges = df_2_100k.sort('timestamp').selectExpr('actorID as src', 'objectID as dst', 'timestamp', 'object', 'action', 'hostname', 'user_name', 'privileges', 'image_path',\n",
    "                      'parent_image_path', 'new_path', 'file_path', 'direction', 'logon_id', 'requesting_domain', 'requesting_user', 'malicious')\n",
    "\n",
    "edges.sort('timestamp')\n",
    "\n",
    "# Create GraphFrame\n",
    "g_2 = GraphFrame(vertices, edges)"
   ]
  },
  {
   "cell_type": "code",
   "execution_count": null,
   "id": "8c13cded-2d30-48d5-8d5a-2d0ee224a775",
   "metadata": {
    "tags": []
   },
   "outputs": [],
   "source": [
    "# display the vertices\n",
    "print(\"Vertices:\")\n",
    "g.vertices.show()"
   ]
  },
  {
   "cell_type": "code",
   "execution_count": null,
   "id": "c29d12c6-e084-4fe5-872d-e1f64b221a69",
   "metadata": {
    "tags": []
   },
   "outputs": [],
   "source": [
    "# display the edges\n",
    "print(\"Edges:\")\n",
    "g.edges.show(5)"
   ]
  },
  {
   "cell_type": "code",
   "execution_count": null,
   "id": "7c58e3ea-1a02-49de-8b36-b13e3e6e85a4",
   "metadata": {
    "tags": []
   },
   "outputs": [],
   "source": [
    "g.inDegrees.show(5)"
   ]
  },
  {
   "cell_type": "code",
   "execution_count": 13,
   "id": "c3ed0ae8-de35-47d6-b9b8-bc6ed6e52a9f",
   "metadata": {
    "tags": []
   },
   "outputs": [
    {
     "name": "stderr",
     "output_type": "stream",
     "text": [
      "/home/ec2-user/anaconda3/envs/python3/lib/python3.10/site-packages/pyspark/sql/dataframe.py:127: UserWarning: DataFrame constructor is internal. Do not directly use it.\n",
      "  warnings.warn(\"DataFrame constructor is internal. Do not directly use it.\")\n"
     ]
    }
   ],
   "source": [
    "# find all paths of length 6 in the graph\n",
    "# Handling null values in shorter length \n",
    "motifs2_1 = g.find(\"(a)-[e1]->(b); (b)-[e2]->(c)\")\n",
    "#motifs6 = g.find(\"(a)-[e1]->(b); (b)-[e2]->(c); (c)-[e3]->(d)\")\n",
    "motifs6_1 = g.find(\"(a)-[e1]->(b); (b)-[e2]->(c); (c)-[e3]->(d); (d)-[e4]->(e); (e)-[e5]->(f); (f)-[e6]->(g)\")"
   ]
  },
  {
   "cell_type": "code",
   "execution_count": 14,
   "id": "3ee9c0a0-f8dd-445e-b06d-b11027a36b00",
   "metadata": {
    "tags": []
   },
   "outputs": [
    {
     "name": "stderr",
     "output_type": "stream",
     "text": [
      "                                                                                \r"
     ]
    },
    {
     "data": {
      "text/plain": [
       "515764"
      ]
     },
     "execution_count": 14,
     "metadata": {},
     "output_type": "execute_result"
    }
   ],
   "source": [
    "motifs2_1.count()"
   ]
  },
  {
   "cell_type": "code",
   "execution_count": 15,
   "id": "cb5c2e9c-d7b1-48c8-ac2d-ce58820f447e",
   "metadata": {
    "tags": []
   },
   "outputs": [
    {
     "name": "stderr",
     "output_type": "stream",
     "text": [
      "                                                                                \r"
     ]
    },
    {
     "data": {
      "text/plain": [
       "29051144"
      ]
     },
     "execution_count": 15,
     "metadata": {},
     "output_type": "execute_result"
    }
   ],
   "source": [
    "motifs6_1.count()"
   ]
  },
  {
   "cell_type": "code",
   "execution_count": 23,
   "id": "fbfacf57-db0b-42a6-9237-0da7906160d7",
   "metadata": {
    "tags": []
   },
   "outputs": [],
   "source": [
    "filter_21 = motifs2_1.filter(\"e1.timestamp <= e2.timestamp\")# and e2.dst = e3.src and e3.dst = e4.src and e4.dst = e5.src and e5.dst = e6.src\")"
   ]
  },
  {
   "cell_type": "code",
   "execution_count": 24,
   "id": "2fb3bb94-d79a-4905-9f34-5d33e1f554b6",
   "metadata": {
    "tags": []
   },
   "outputs": [
    {
     "name": "stderr",
     "output_type": "stream",
     "text": [
      "                                                                                \r"
     ]
    },
    {
     "data": {
      "text/plain": [
       "334886"
      ]
     },
     "execution_count": 24,
     "metadata": {},
     "output_type": "execute_result"
    }
   ],
   "source": [
    "filter_21.count()"
   ]
  },
  {
   "cell_type": "code",
   "execution_count": 25,
   "id": "7543920e-7d95-4c6f-a5af-ceaf56bad342",
   "metadata": {
    "tags": []
   },
   "outputs": [],
   "source": [
    "filter_61 = motifs6_1.filter('''e1.timestamp <= e2.timestamp and e2.timestamp <= e3.timestamp and \n",
    "                                e3.timestamp <= e4.timestamp and e4.timestamp <= e5.timestamp and \n",
    "                                e5.timestamp <= e6.timestamp''')"
   ]
  },
  {
   "cell_type": "code",
   "execution_count": 26,
   "id": "da18a310-6086-4eb5-8fde-02b3017145c1",
   "metadata": {
    "tags": []
   },
   "outputs": [
    {
     "name": "stderr",
     "output_type": "stream",
     "text": [
      "                                                                                \r"
     ]
    },
    {
     "data": {
      "text/plain": [
       "2686166"
      ]
     },
     "execution_count": 26,
     "metadata": {},
     "output_type": "execute_result"
    }
   ],
   "source": [
    "filter_61.count()"
   ]
  },
  {
   "cell_type": "code",
   "execution_count": 30,
   "id": "c1632531-77d6-4839-998b-ce4e07c42959",
   "metadata": {
    "tags": []
   },
   "outputs": [],
   "source": [
    "filter_61 = transp_expl(filter_61).cache()"
   ]
  },
  {
   "cell_type": "code",
   "execution_count": 31,
   "id": "6d5e2294-ed2d-4440-b06b-7268f300b112",
   "metadata": {
    "tags": []
   },
   "outputs": [
    {
     "name": "stderr",
     "output_type": "stream",
     "text": [
      "/home/ec2-user/anaconda3/envs/python3/lib/python3.10/site-packages/pyspark/sql/pandas/conversion.py:248: FutureWarning: Passing unit-less datetime64 dtype to .astype is deprecated and will raise in a future version. Pass 'datetime64[ns]' instead\n",
      "  series = series.astype(t, copy=False)\n"
     ]
    },
    {
     "data": {
      "text/html": [
       "<div>\n",
       "<style scoped>\n",
       "    .dataframe tbody tr th:only-of-type {\n",
       "        vertical-align: middle;\n",
       "    }\n",
       "\n",
       "    .dataframe tbody tr th {\n",
       "        vertical-align: top;\n",
       "    }\n",
       "\n",
       "    .dataframe thead th {\n",
       "        text-align: right;\n",
       "    }\n",
       "</style>\n",
       "<table border=\"1\" class=\"dataframe\">\n",
       "  <thead>\n",
       "    <tr style=\"text-align: right;\">\n",
       "      <th></th>\n",
       "      <th>Trace</th>\n",
       "      <th>event</th>\n",
       "      <th>src</th>\n",
       "      <th>dst</th>\n",
       "      <th>timestamp</th>\n",
       "      <th>object</th>\n",
       "      <th>action</th>\n",
       "      <th>hostname</th>\n",
       "      <th>user_name</th>\n",
       "      <th>privileges</th>\n",
       "      <th>image_path</th>\n",
       "      <th>parent_image_path</th>\n",
       "      <th>new_path</th>\n",
       "      <th>file_path</th>\n",
       "      <th>direction</th>\n",
       "      <th>logon_id</th>\n",
       "      <th>requesting_domain</th>\n",
       "      <th>requesting_user</th>\n",
       "      <th>malicious</th>\n",
       "    </tr>\n",
       "  </thead>\n",
       "  <tbody>\n",
       "    <tr>\n",
       "      <th>0</th>\n",
       "      <td>1</td>\n",
       "      <td>e1</td>\n",
       "      <td>1fbee5f8-32b4-46c6-84b3-e4da0e508a52</td>\n",
       "      <td>55d3db82-c7be-46cf-8cec-953977555241</td>\n",
       "      <td>2019-09-23 14:44:28.257</td>\n",
       "      <td>PROCESS</td>\n",
       "      <td>OPEN</td>\n",
       "      <td>SysClient0851.systemia.com</td>\n",
       "      <td>None</td>\n",
       "      <td>None</td>\n",
       "      <td>%SystemRoot%\\system32\\csrss.exe</td>\n",
       "      <td>%SystemRoot%\\system32\\csrss.exe</td>\n",
       "      <td>None</td>\n",
       "      <td>None</td>\n",
       "      <td>None</td>\n",
       "      <td>None</td>\n",
       "      <td>None</td>\n",
       "      <td>None</td>\n",
       "      <td>0</td>\n",
       "    </tr>\n",
       "    <tr>\n",
       "      <th>1</th>\n",
       "      <td>1</td>\n",
       "      <td>e2</td>\n",
       "      <td>55d3db82-c7be-46cf-8cec-953977555241</td>\n",
       "      <td>4d7129e7-36c9-4b0a-8a65-c636fb7eee17</td>\n",
       "      <td>2019-09-23 14:45:20.644</td>\n",
       "      <td>PROCESS</td>\n",
       "      <td>OPEN</td>\n",
       "      <td>SysClient0851.systemia.com</td>\n",
       "      <td>None</td>\n",
       "      <td>None</td>\n",
       "      <td>\\Device\\HarddiskVolume1\\Program Files (x86)\\Go...</td>\n",
       "      <td>\\Device\\HarddiskVolume1\\Program Files (x86)\\Go...</td>\n",
       "      <td>None</td>\n",
       "      <td>None</td>\n",
       "      <td>None</td>\n",
       "      <td>None</td>\n",
       "      <td>None</td>\n",
       "      <td>None</td>\n",
       "      <td>0</td>\n",
       "    </tr>\n",
       "    <tr>\n",
       "      <th>2</th>\n",
       "      <td>1</td>\n",
       "      <td>e3</td>\n",
       "      <td>4d7129e7-36c9-4b0a-8a65-c636fb7eee17</td>\n",
       "      <td>a5fe2d21-3b96-4cc1-97d2-50cc6b306bdd</td>\n",
       "      <td>2019-09-23 14:45:20.864</td>\n",
       "      <td>PROCESS</td>\n",
       "      <td>OPEN</td>\n",
       "      <td>SysClient0851.systemia.com</td>\n",
       "      <td>None</td>\n",
       "      <td>None</td>\n",
       "      <td>\\Device\\HarddiskVolume1\\Windows\\system32\\lsass...</td>\n",
       "      <td>\\Device\\HarddiskVolume1\\Windows\\system32\\lsass...</td>\n",
       "      <td>None</td>\n",
       "      <td>None</td>\n",
       "      <td>None</td>\n",
       "      <td>None</td>\n",
       "      <td>None</td>\n",
       "      <td>None</td>\n",
       "      <td>0</td>\n",
       "    </tr>\n",
       "    <tr>\n",
       "      <th>3</th>\n",
       "      <td>1</td>\n",
       "      <td>e4</td>\n",
       "      <td>a5fe2d21-3b96-4cc1-97d2-50cc6b306bdd</td>\n",
       "      <td>b31c0f9d-1b6a-457f-a505-50fbf1f9a4bb</td>\n",
       "      <td>2019-09-23 14:45:41.982</td>\n",
       "      <td>PROCESS</td>\n",
       "      <td>OPEN</td>\n",
       "      <td>SysClient0851.systemia.com</td>\n",
       "      <td>None</td>\n",
       "      <td>None</td>\n",
       "      <td>\\Device\\HarddiskVolume1\\Program Files (x86)\\Go...</td>\n",
       "      <td>\\Device\\HarddiskVolume1\\Program Files (x86)\\Go...</td>\n",
       "      <td>None</td>\n",
       "      <td>None</td>\n",
       "      <td>None</td>\n",
       "      <td>None</td>\n",
       "      <td>None</td>\n",
       "      <td>None</td>\n",
       "      <td>0</td>\n",
       "    </tr>\n",
       "    <tr>\n",
       "      <th>4</th>\n",
       "      <td>1</td>\n",
       "      <td>e5</td>\n",
       "      <td>b31c0f9d-1b6a-457f-a505-50fbf1f9a4bb</td>\n",
       "      <td>02b83f6a-375c-4f00-bfe6-de500101f5ba</td>\n",
       "      <td>2019-09-23 14:56:59.989</td>\n",
       "      <td>PROCESS</td>\n",
       "      <td>CREATE</td>\n",
       "      <td>SysClient0851.systemia.com</td>\n",
       "      <td>None</td>\n",
       "      <td>None</td>\n",
       "      <td>\\Device\\HarddiskVolume1\\Windows\\SYSTEM32\\cmd.exe</td>\n",
       "      <td>\\Device\\HarddiskVolume1\\Windows\\system32\\svcho...</td>\n",
       "      <td>None</td>\n",
       "      <td>None</td>\n",
       "      <td>None</td>\n",
       "      <td>None</td>\n",
       "      <td>None</td>\n",
       "      <td>None</td>\n",
       "      <td>0</td>\n",
       "    </tr>\n",
       "    <tr>\n",
       "      <th>5</th>\n",
       "      <td>1</td>\n",
       "      <td>e6</td>\n",
       "      <td>02b83f6a-375c-4f00-bfe6-de500101f5ba</td>\n",
       "      <td>a4a15731-4f90-480a-be3f-788887f2bbc9</td>\n",
       "      <td>2019-09-23 14:56:59.996</td>\n",
       "      <td>PROCESS</td>\n",
       "      <td>CREATE</td>\n",
       "      <td>SysClient0851.systemia.com</td>\n",
       "      <td>None</td>\n",
       "      <td>None</td>\n",
       "      <td>\\Device\\HarddiskVolume1\\Windows\\system32\\conho...</td>\n",
       "      <td>\\Device\\HarddiskVolume1\\Windows\\SYSTEM32\\cmd.exe</td>\n",
       "      <td>None</td>\n",
       "      <td>None</td>\n",
       "      <td>None</td>\n",
       "      <td>None</td>\n",
       "      <td>None</td>\n",
       "      <td>None</td>\n",
       "      <td>0</td>\n",
       "    </tr>\n",
       "    <tr>\n",
       "      <th>6</th>\n",
       "      <td>2</td>\n",
       "      <td>e1</td>\n",
       "      <td>137016c1-ce0c-4483-85f2-6b7d2c24d7cd</td>\n",
       "      <td>55d3db82-c7be-46cf-8cec-953977555241</td>\n",
       "      <td>2019-09-23 14:44:28.256</td>\n",
       "      <td>PROCESS</td>\n",
       "      <td>OPEN</td>\n",
       "      <td>SysClient0851.systemia.com</td>\n",
       "      <td>None</td>\n",
       "      <td>None</td>\n",
       "      <td>\\Device\\HarddiskVolume1\\Program Files (x86)\\Go...</td>\n",
       "      <td>\\Device\\HarddiskVolume1\\Program Files (x86)\\Go...</td>\n",
       "      <td>None</td>\n",
       "      <td>None</td>\n",
       "      <td>None</td>\n",
       "      <td>None</td>\n",
       "      <td>None</td>\n",
       "      <td>None</td>\n",
       "      <td>0</td>\n",
       "    </tr>\n",
       "    <tr>\n",
       "      <th>7</th>\n",
       "      <td>2</td>\n",
       "      <td>e2</td>\n",
       "      <td>55d3db82-c7be-46cf-8cec-953977555241</td>\n",
       "      <td>4d7129e7-36c9-4b0a-8a65-c636fb7eee17</td>\n",
       "      <td>2019-09-23 14:45:20.644</td>\n",
       "      <td>PROCESS</td>\n",
       "      <td>OPEN</td>\n",
       "      <td>SysClient0851.systemia.com</td>\n",
       "      <td>None</td>\n",
       "      <td>None</td>\n",
       "      <td>\\Device\\HarddiskVolume1\\Program Files (x86)\\Go...</td>\n",
       "      <td>\\Device\\HarddiskVolume1\\Program Files (x86)\\Go...</td>\n",
       "      <td>None</td>\n",
       "      <td>None</td>\n",
       "      <td>None</td>\n",
       "      <td>None</td>\n",
       "      <td>None</td>\n",
       "      <td>None</td>\n",
       "      <td>0</td>\n",
       "    </tr>\n",
       "    <tr>\n",
       "      <th>8</th>\n",
       "      <td>2</td>\n",
       "      <td>e3</td>\n",
       "      <td>4d7129e7-36c9-4b0a-8a65-c636fb7eee17</td>\n",
       "      <td>a5fe2d21-3b96-4cc1-97d2-50cc6b306bdd</td>\n",
       "      <td>2019-09-23 14:45:20.864</td>\n",
       "      <td>PROCESS</td>\n",
       "      <td>OPEN</td>\n",
       "      <td>SysClient0851.systemia.com</td>\n",
       "      <td>None</td>\n",
       "      <td>None</td>\n",
       "      <td>\\Device\\HarddiskVolume1\\Windows\\system32\\lsass...</td>\n",
       "      <td>\\Device\\HarddiskVolume1\\Windows\\system32\\lsass...</td>\n",
       "      <td>None</td>\n",
       "      <td>None</td>\n",
       "      <td>None</td>\n",
       "      <td>None</td>\n",
       "      <td>None</td>\n",
       "      <td>None</td>\n",
       "      <td>0</td>\n",
       "    </tr>\n",
       "    <tr>\n",
       "      <th>9</th>\n",
       "      <td>2</td>\n",
       "      <td>e4</td>\n",
       "      <td>a5fe2d21-3b96-4cc1-97d2-50cc6b306bdd</td>\n",
       "      <td>b31c0f9d-1b6a-457f-a505-50fbf1f9a4bb</td>\n",
       "      <td>2019-09-23 14:45:41.982</td>\n",
       "      <td>PROCESS</td>\n",
       "      <td>OPEN</td>\n",
       "      <td>SysClient0851.systemia.com</td>\n",
       "      <td>None</td>\n",
       "      <td>None</td>\n",
       "      <td>\\Device\\HarddiskVolume1\\Program Files (x86)\\Go...</td>\n",
       "      <td>\\Device\\HarddiskVolume1\\Program Files (x86)\\Go...</td>\n",
       "      <td>None</td>\n",
       "      <td>None</td>\n",
       "      <td>None</td>\n",
       "      <td>None</td>\n",
       "      <td>None</td>\n",
       "      <td>None</td>\n",
       "      <td>0</td>\n",
       "    </tr>\n",
       "    <tr>\n",
       "      <th>10</th>\n",
       "      <td>2</td>\n",
       "      <td>e5</td>\n",
       "      <td>b31c0f9d-1b6a-457f-a505-50fbf1f9a4bb</td>\n",
       "      <td>02b83f6a-375c-4f00-bfe6-de500101f5ba</td>\n",
       "      <td>2019-09-23 14:56:59.989</td>\n",
       "      <td>PROCESS</td>\n",
       "      <td>CREATE</td>\n",
       "      <td>SysClient0851.systemia.com</td>\n",
       "      <td>None</td>\n",
       "      <td>None</td>\n",
       "      <td>\\Device\\HarddiskVolume1\\Windows\\SYSTEM32\\cmd.exe</td>\n",
       "      <td>\\Device\\HarddiskVolume1\\Windows\\system32\\svcho...</td>\n",
       "      <td>None</td>\n",
       "      <td>None</td>\n",
       "      <td>None</td>\n",
       "      <td>None</td>\n",
       "      <td>None</td>\n",
       "      <td>None</td>\n",
       "      <td>0</td>\n",
       "    </tr>\n",
       "    <tr>\n",
       "      <th>11</th>\n",
       "      <td>2</td>\n",
       "      <td>e6</td>\n",
       "      <td>02b83f6a-375c-4f00-bfe6-de500101f5ba</td>\n",
       "      <td>a4a15731-4f90-480a-be3f-788887f2bbc9</td>\n",
       "      <td>2019-09-23 14:56:59.996</td>\n",
       "      <td>PROCESS</td>\n",
       "      <td>CREATE</td>\n",
       "      <td>SysClient0851.systemia.com</td>\n",
       "      <td>None</td>\n",
       "      <td>None</td>\n",
       "      <td>\\Device\\HarddiskVolume1\\Windows\\system32\\conho...</td>\n",
       "      <td>\\Device\\HarddiskVolume1\\Windows\\SYSTEM32\\cmd.exe</td>\n",
       "      <td>None</td>\n",
       "      <td>None</td>\n",
       "      <td>None</td>\n",
       "      <td>None</td>\n",
       "      <td>None</td>\n",
       "      <td>None</td>\n",
       "      <td>0</td>\n",
       "    </tr>\n",
       "  </tbody>\n",
       "</table>\n",
       "</div>"
      ],
      "text/plain": [
       "    Trace event                                   src  \\\n",
       "0       1    e1  1fbee5f8-32b4-46c6-84b3-e4da0e508a52   \n",
       "1       1    e2  55d3db82-c7be-46cf-8cec-953977555241   \n",
       "2       1    e3  4d7129e7-36c9-4b0a-8a65-c636fb7eee17   \n",
       "3       1    e4  a5fe2d21-3b96-4cc1-97d2-50cc6b306bdd   \n",
       "4       1    e5  b31c0f9d-1b6a-457f-a505-50fbf1f9a4bb   \n",
       "5       1    e6  02b83f6a-375c-4f00-bfe6-de500101f5ba   \n",
       "6       2    e1  137016c1-ce0c-4483-85f2-6b7d2c24d7cd   \n",
       "7       2    e2  55d3db82-c7be-46cf-8cec-953977555241   \n",
       "8       2    e3  4d7129e7-36c9-4b0a-8a65-c636fb7eee17   \n",
       "9       2    e4  a5fe2d21-3b96-4cc1-97d2-50cc6b306bdd   \n",
       "10      2    e5  b31c0f9d-1b6a-457f-a505-50fbf1f9a4bb   \n",
       "11      2    e6  02b83f6a-375c-4f00-bfe6-de500101f5ba   \n",
       "\n",
       "                                     dst               timestamp   object  \\\n",
       "0   55d3db82-c7be-46cf-8cec-953977555241 2019-09-23 14:44:28.257  PROCESS   \n",
       "1   4d7129e7-36c9-4b0a-8a65-c636fb7eee17 2019-09-23 14:45:20.644  PROCESS   \n",
       "2   a5fe2d21-3b96-4cc1-97d2-50cc6b306bdd 2019-09-23 14:45:20.864  PROCESS   \n",
       "3   b31c0f9d-1b6a-457f-a505-50fbf1f9a4bb 2019-09-23 14:45:41.982  PROCESS   \n",
       "4   02b83f6a-375c-4f00-bfe6-de500101f5ba 2019-09-23 14:56:59.989  PROCESS   \n",
       "5   a4a15731-4f90-480a-be3f-788887f2bbc9 2019-09-23 14:56:59.996  PROCESS   \n",
       "6   55d3db82-c7be-46cf-8cec-953977555241 2019-09-23 14:44:28.256  PROCESS   \n",
       "7   4d7129e7-36c9-4b0a-8a65-c636fb7eee17 2019-09-23 14:45:20.644  PROCESS   \n",
       "8   a5fe2d21-3b96-4cc1-97d2-50cc6b306bdd 2019-09-23 14:45:20.864  PROCESS   \n",
       "9   b31c0f9d-1b6a-457f-a505-50fbf1f9a4bb 2019-09-23 14:45:41.982  PROCESS   \n",
       "10  02b83f6a-375c-4f00-bfe6-de500101f5ba 2019-09-23 14:56:59.989  PROCESS   \n",
       "11  a4a15731-4f90-480a-be3f-788887f2bbc9 2019-09-23 14:56:59.996  PROCESS   \n",
       "\n",
       "    action                    hostname user_name privileges  \\\n",
       "0     OPEN  SysClient0851.systemia.com      None       None   \n",
       "1     OPEN  SysClient0851.systemia.com      None       None   \n",
       "2     OPEN  SysClient0851.systemia.com      None       None   \n",
       "3     OPEN  SysClient0851.systemia.com      None       None   \n",
       "4   CREATE  SysClient0851.systemia.com      None       None   \n",
       "5   CREATE  SysClient0851.systemia.com      None       None   \n",
       "6     OPEN  SysClient0851.systemia.com      None       None   \n",
       "7     OPEN  SysClient0851.systemia.com      None       None   \n",
       "8     OPEN  SysClient0851.systemia.com      None       None   \n",
       "9     OPEN  SysClient0851.systemia.com      None       None   \n",
       "10  CREATE  SysClient0851.systemia.com      None       None   \n",
       "11  CREATE  SysClient0851.systemia.com      None       None   \n",
       "\n",
       "                                           image_path  \\\n",
       "0                     %SystemRoot%\\system32\\csrss.exe   \n",
       "1   \\Device\\HarddiskVolume1\\Program Files (x86)\\Go...   \n",
       "2   \\Device\\HarddiskVolume1\\Windows\\system32\\lsass...   \n",
       "3   \\Device\\HarddiskVolume1\\Program Files (x86)\\Go...   \n",
       "4    \\Device\\HarddiskVolume1\\Windows\\SYSTEM32\\cmd.exe   \n",
       "5   \\Device\\HarddiskVolume1\\Windows\\system32\\conho...   \n",
       "6   \\Device\\HarddiskVolume1\\Program Files (x86)\\Go...   \n",
       "7   \\Device\\HarddiskVolume1\\Program Files (x86)\\Go...   \n",
       "8   \\Device\\HarddiskVolume1\\Windows\\system32\\lsass...   \n",
       "9   \\Device\\HarddiskVolume1\\Program Files (x86)\\Go...   \n",
       "10   \\Device\\HarddiskVolume1\\Windows\\SYSTEM32\\cmd.exe   \n",
       "11  \\Device\\HarddiskVolume1\\Windows\\system32\\conho...   \n",
       "\n",
       "                                    parent_image_path new_path file_path  \\\n",
       "0                     %SystemRoot%\\system32\\csrss.exe     None      None   \n",
       "1   \\Device\\HarddiskVolume1\\Program Files (x86)\\Go...     None      None   \n",
       "2   \\Device\\HarddiskVolume1\\Windows\\system32\\lsass...     None      None   \n",
       "3   \\Device\\HarddiskVolume1\\Program Files (x86)\\Go...     None      None   \n",
       "4   \\Device\\HarddiskVolume1\\Windows\\system32\\svcho...     None      None   \n",
       "5    \\Device\\HarddiskVolume1\\Windows\\SYSTEM32\\cmd.exe     None      None   \n",
       "6   \\Device\\HarddiskVolume1\\Program Files (x86)\\Go...     None      None   \n",
       "7   \\Device\\HarddiskVolume1\\Program Files (x86)\\Go...     None      None   \n",
       "8   \\Device\\HarddiskVolume1\\Windows\\system32\\lsass...     None      None   \n",
       "9   \\Device\\HarddiskVolume1\\Program Files (x86)\\Go...     None      None   \n",
       "10  \\Device\\HarddiskVolume1\\Windows\\system32\\svcho...     None      None   \n",
       "11   \\Device\\HarddiskVolume1\\Windows\\SYSTEM32\\cmd.exe     None      None   \n",
       "\n",
       "   direction logon_id requesting_domain requesting_user  malicious  \n",
       "0       None     None              None            None          0  \n",
       "1       None     None              None            None          0  \n",
       "2       None     None              None            None          0  \n",
       "3       None     None              None            None          0  \n",
       "4       None     None              None            None          0  \n",
       "5       None     None              None            None          0  \n",
       "6       None     None              None            None          0  \n",
       "7       None     None              None            None          0  \n",
       "8       None     None              None            None          0  \n",
       "9       None     None              None            None          0  \n",
       "10      None     None              None            None          0  \n",
       "11      None     None              None            None          0  "
      ]
     },
     "execution_count": 31,
     "metadata": {},
     "output_type": "execute_result"
    }
   ],
   "source": [
    "filter_61.limit(12).toPandas()"
   ]
  },
  {
   "cell_type": "code",
   "execution_count": null,
   "id": "dfe1827f-9385-4c83-891e-581547658ffb",
   "metadata": {
    "tags": []
   },
   "outputs": [],
   "source": [
    "# find all paths of length 6 in the graph\n",
    "# Handling null values in shorter length \n",
    "motifs2_2 = g_2.find(\"(a)-[e1]->(b); (b)-[e2]->(c)\")\n",
    "#motifs6 = g.find(\"(a)-[e1]->(b); (b)-[e2]->(c); (c)-[e3]->(d)\")\n",
    "motifs6_2 = g_2.find(\"(a)-[e1]->(b); (b)-[e2]->(c); (c)-[e3]->(d); (d)-[e4]->(e); (e)-[e5]->(f); (f)-[e6]->(g)\")"
   ]
  },
  {
   "cell_type": "code",
   "execution_count": null,
   "id": "d74bdb39-fb2b-493a-a25b-c7adec65ccbf",
   "metadata": {
    "tags": []
   },
   "outputs": [],
   "source": [
    "print(motifs2_2.count())\n",
    "print(motifs6_2.count())"
   ]
  },
  {
   "cell_type": "code",
   "execution_count": null,
   "id": "65e7902f-4c75-4129-9ce4-af28e7513029",
   "metadata": {
    "tags": []
   },
   "outputs": [],
   "source": [
    "#filter the motif2 to check the theory of timestamp increasing\n",
    "cp3 = motifs2_2.filter(\"e1.timestamp < e2.timestamp\")# and e2.dst = e3.src and e3.dst = e4.src and e4.dst = e5.src and e5.dst = e6.src\")"
   ]
  },
  {
   "cell_type": "code",
   "execution_count": null,
   "id": "05a19d23-b4cd-41be-890c-548d1ac56453",
   "metadata": {
    "tags": []
   },
   "outputs": [],
   "source": [
    "cp3.limit(2).toPandas()"
   ]
  },
  {
   "cell_type": "code",
   "execution_count": null,
   "id": "555bb67e-2f0c-4210-ae1c-cdd6e8ac8342",
   "metadata": {
    "tags": []
   },
   "outputs": [],
   "source": [
    "#explode it and see what you got\n",
    "df_transp = cp3.withColumn(\"Trace\", (monotonically_increasing_id() + 1))\n",
    "df_transp = df_transp.select(\"Trace\", \n",
    "                             *[col for col in df_transp.columns if col != \"Trace\"])\n",
    "\n",
    "#drop all vertices\n",
    "df_transp = df_transp.drop('a','b','c')\n",
    "\n",
    "#transpose rows \n",
    "stacked_df = df_transp.selectExpr(\n",
    "    \"Trace\", \n",
    "    \"posexplode(array(e1, e2)) as (pos, col)\"\n",
    ").select(\n",
    "    \"Trace\", \n",
    "    expr('''CASE pos \n",
    "    WHEN 0 THEN 'e1' \n",
    "    ELSE 'e2' END''').alias(\"event\"),\n",
    "    \"col\"\n",
    ").orderBy(\"Trace\",\"event\")\n",
    "\n",
    "#explode columns\n",
    "df_onehot = stacked_df.select(*stacked_df.columns, \"col.*\").drop('col')"
   ]
  },
  {
   "cell_type": "code",
   "execution_count": null,
   "id": "2a551679-202d-4a8a-8a60-8f2ab45079bc",
   "metadata": {
    "tags": []
   },
   "outputs": [],
   "source": [
    "df_onehot.limit(6).toPandas()"
   ]
  },
  {
   "cell_type": "code",
   "execution_count": null,
   "id": "1e3adb2a-6535-4d86-b201-29c4e0e2111a",
   "metadata": {
    "tags": []
   },
   "outputs": [],
   "source": [
    "# filter paths to only those where all edges are connected\n",
    "cp_1 = motifs6_1.filter(\"e1.dst = e2.src and e2.dst = e3.src and e3.dst = e4.src and e4.dst = e5.src and e5.dst = e6.src\")\n",
    "cp_2 = motifs6_2.filter('''e1.timestamp <= e2.timestamp and \n",
    "                            e2.timestamp <= e3.timestamp and \n",
    "                            e3.timestamp <= e4.timestamp and \n",
    "                            e4.timestamp <= e5.timestamp and \n",
    "                            e5.timestamp <= e6.timestamp''')"
   ]
  },
  {
   "cell_type": "code",
   "execution_count": null,
   "id": "8b17e66f-96d5-466e-8f14-b6a83c3a0045",
   "metadata": {
    "tags": []
   },
   "outputs": [],
   "source": [
    "print(cp_1.count())\n",
    "print(cp_2.count())"
   ]
  },
  {
   "cell_type": "code",
   "execution_count": null,
   "id": "9e371283-5a6e-4be4-9e08-302be78d772a",
   "metadata": {
    "tags": []
   },
   "outputs": [],
   "source": [
    "motifs6_2.limit(1).toPandas()"
   ]
  },
  {
   "cell_type": "code",
   "execution_count": null,
   "id": "03cb309e-29d8-46a1-9691-d8afba58707c",
   "metadata": {
    "tags": []
   },
   "outputs": [
    {
     "name": "stdout",
     "output_type": "stream",
     "text": [
      "Vertices:\n",
      "+--------------------+\n",
      "|                  id|\n",
      "+--------------------+\n",
      "|74fa9c45-fb97-447...|\n",
      "|76269410-b376-416...|\n",
      "|0844e602-c28c-4ff...|\n",
      "|47be1d43-98e3-4d1...|\n",
      "|08ca327d-85f6-4fe...|\n",
      "|0a1c3d68-f678-46e...|\n",
      "|0b840b3b-336e-460...|\n",
      "|0bd4f4f1-7c85-4d5...|\n",
      "|f7daa5be-d3e3-4c1...|\n",
      "|b3c4e673-7662-456...|\n",
      "|1134edf6-e2a4-41a...|\n",
      "|12c5e76d-e26e-4eb...|\n",
      "|8bd099cf-5bcc-437...|\n",
      "|1604c531-2dfa-43f...|\n",
      "|4ef22254-0006-437...|\n",
      "|2baf6d0b-6e83-486...|\n",
      "|25b541ee-4ae7-446...|\n",
      "|99b2b14f-e990-4ee...|\n",
      "|28731de7-1db6-492...|\n",
      "|29289b94-46d8-49f...|\n",
      "+--------------------+\n",
      "only showing top 20 rows\n",
      "\n"
     ]
    }
   ],
   "source": [
    "cp_2.limit(12).toPandas()"
   ]
  },
  {
   "cell_type": "code",
   "execution_count": 29,
   "id": "d261cbaa-fda0-43cf-b325-3c09d19ef9f3",
   "metadata": {
    "tags": []
   },
   "outputs": [],
   "source": [
    "#run transp explode on both and see what we have. first run it on both motif and then filter. this is on fully de-duped\n",
    "#data.\n",
    "%run trace_encode.ipynb"
   ]
  },
  {
   "cell_type": "code",
   "execution_count": null,
   "id": "92c77700-5a42-4884-923d-a81604f6a6ed",
   "metadata": {
    "tags": []
   },
   "outputs": [
    {
     "name": "stdout",
     "output_type": "stream",
     "text": [
      "Edges:\n",
      "+--------------------+--------------------+--------------------+-------+------+--------------------+---------+----------+--------------------+--------------------+--------+--------------------+---------+--------+-----------------+---------------+---------+\n",
      "|                 src|                 dst|           timestamp| object|action|            hostname|user_name|privileges|          image_path|   parent_image_path|new_path|           file_path|direction|logon_id|requesting_domain|requesting_user|malicious|\n",
      "+--------------------+--------------------+--------------------+-------+------+--------------------+---------+----------+--------------------+--------------------+--------+--------------------+---------+--------+-----------------+---------------+---------+\n",
      "|73d89b62-3424-41e...|0000e8e2-c112-461...|2019-09-24 14:24:...|   FILE|MODIFY|SysClient0419.sys...|     null|      null|              System|                null|    null|\\Device\\HarddiskV...|     null|    null|             null|           null|        0|\n",
      "|dd0741ca-63be-4e1...|00010fc7-3f0a-4d7...|2019-09-25 13:24:...|PROCESS|CREATE|SysClient0201.sys...|     null|      null|\\Device\\HarddiskV...|\\Device\\HarddiskV...|    null|                null|     null|    null|             null|           null|        0|\n",
      "|dd0741ca-63be-4e1...|00010fc7-3f0a-4d7...|2019-09-25 13:24:...|PROCESS|  OPEN|SysClient0201.sys...|     null|      null|\\Device\\HarddiskV...|\\Device\\HarddiskV...|    null|                null|     null|    null|             null|           null|        0|\n",
      "|dd0741ca-63be-4e1...|00010fc7-3f0a-4d7...|2019-09-25 13:24:...|PROCESS|  OPEN|SysClient0201.sys...|     null|      null|\\Device\\HarddiskV...|\\Device\\HarddiskV...|    null|                null|     null|    null|             null|           null|        0|\n",
      "|792078e4-350a-49e...|0004bb55-8f31-4c0...|2019-09-25 10:33:...|   FILE|CREATE|SysClient0255.sys...|     null|      null|\\Device\\HarddiskV...|                null|    null|\\Device\\HarddiskV...|     null|    null|             null|           null|        0|\n",
      "+--------------------+--------------------+--------------------+-------+------+--------------------+---------+----------+--------------------+--------------------+--------+--------------------+---------+--------+-----------------+---------------+---------+\n",
      "only showing top 5 rows\n",
      "\n"
     ]
    }
   ],
   "source": [
    "te_2a = transp_expl(motifs6_2)\n",
    "te_2b = transp_expl(cp_2)\n",
    "#the results of the above are the same, no need to filter"
   ]
  },
  {
   "cell_type": "code",
   "execution_count": null,
   "id": "48834d02-5e04-43e9-aadb-fe46424c0b73",
   "metadata": {
    "tags": []
   },
   "outputs": [
    {
     "name": "stderr",
     "output_type": "stream",
     "text": [
      "/home/ec2-user/anaconda3/envs/python3/lib/python3.10/site-packages/pyspark/sql/dataframe.py:127: UserWarning: DataFrame constructor is internal. Do not directly use it.\n",
      "  warnings.warn(\"DataFrame constructor is internal. Do not directly use it.\")\n"
     ]
    },
    {
     "name": "stdout",
     "output_type": "stream",
     "text": [
      "+--------------------+--------+\n",
      "|                  id|inDegree|\n",
      "+--------------------+--------+\n",
      "|0000e8e2-c112-461...|       1|\n",
      "|00010fc7-3f0a-4d7...|       3|\n",
      "|0004bb55-8f31-4c0...|       1|\n",
      "|1ab5790a-9ca1-4e4...|       1|\n",
      "|c5e98af6-4bbe-4b3...|       1|\n",
      "+--------------------+--------+\n",
      "only showing top 5 rows\n",
      "\n"
     ]
    }
   ],
   "source": [
    "te_2b.limit(12).toPandas()"
   ]
  },
  {
   "cell_type": "code",
   "execution_count": 9,
   "id": "340d4c93-e879-4a26-9483-d98890d44f7c",
   "metadata": {
    "tags": []
   },
   "outputs": [],
   "source": [
    "# find all paths of length 6 in the graph\n",
    "# Handling null values in shorter length \n",
    "motifs2 = g.find(\"(a)-[e1]->(b); (b)-[e2]->(c)\")\n",
    "motifs6 = g.find(\"(a)-[e1]->(b); (b)-[e2]->(c); (c)-[e3]->(d)\")\n",
    "motifs6 = g.find(\"(a)-[e1]->(b); (b)-[e2]->(c); (c)-[e3]->(d); (d)-[e4]->(e); (e)-[e5]->(f); (f)-[e6]->(g)\")"
   ]
  },
  {
   "cell_type": "code",
   "execution_count": 17,
   "id": "3ee9c0a0-f8dd-445e-b06d-b11027a36b00",
   "metadata": {
    "tags": []
   },
   "outputs": [
    {
     "data": {
      "text/plain": [
       "63245"
      ]
     },
     "execution_count": 17,
     "metadata": {},
     "output_type": "execute_result"
    }
   ],
   "source": [
    "motifs2.count()"
   ]
  },
  {
   "cell_type": "code",
   "execution_count": 18,
   "id": "cb5c2e9c-d7b1-48c8-ac2d-ce58820f447e",
   "metadata": {
    "tags": []
   },
   "outputs": [
    {
     "name": "stderr",
     "output_type": "stream",
     "text": [
      "[Stage 2:>   (0 + 0) / 16][Stage 3:>  (0 + 0) / 200][Stage 237:>(1 + 16) / 17]\r"
     ]
    },
    {
     "name": "stdout",
     "output_type": "stream",
     "text": [
      "found connections: 1.3243827819824219\n"
     ]
    },
    {
     "name": "stderr",
     "output_type": "stream",
     "text": [
      "[Stage 2:>   (0 + 0) / 16][Stage 3:>  (0 + 0) / 200][Stage 237:>(6 + 11) / 17]\r"
     ]
    },
    {
     "name": "stdout",
     "output_type": "stream",
     "text": [
      "elapsed time: 2.5701472759246826\n"
     ]
    },
    {
     "name": "stderr",
     "output_type": "stream",
     "text": [
      "[Stage 2:>   (0 + 0) / 16][Stage 3:>  (0 + 0) / 200][Stage 261:>(2 + 16) / 67]7]\r"
     ]
    },
    {
     "data": {
      "text/plain": [
       "1322"
      ]
     },
     "execution_count": 18,
     "metadata": {},
     "output_type": "execute_result"
    }
   ],
   "source": [
    "#now run everything on all the data from 23Sep to see how long it takes\n",
    "start_time = time.time()\n",
    "# Create distinct vertices with source as actorid, destination as objectid\n",
    "src_vertices = df_23.selectExpr('actorID as id').distinct()\n",
    "dst_vertices = df_23.selectExpr('objectID as id').distinct()\n",
    "vertices = src_vertices.union(dst_vertices).distinct()\n",
    "\n",
    "# Create edges by using timestamp as an edge\n",
    "edges = df_23.selectExpr('actorID as src', 'objectID as dst', 'timestamp', 'object', 'action', 'hostname', 'user_name', 'privileges', 'image_path',\n",
    "                      'parent_image_path', 'new_path', 'file_path', 'direction', 'logon_id', 'requesting_domain', 'requesting_user', 'malicious')\n",
    "# Create GraphFrame\n",
    "g = GraphFrame(vertices, edges)\n",
    "\n",
    "#motifs\n",
    "motifs6_23 = g.find(\"(a)-[e1]->(b); (b)-[e2]->(c); (c)-[e3]->(d); (d)-[e4]->(e); (e)-[e5]->(f); (f)-[e6]->(g)\")\n",
    "#end time\n",
    "print(\"found connections: \"+ str(time.time() - start_time))\n",
    "#filter on time to generate final connected paths\n",
    "cp = motifs6_23.filter('''e1.timestamp <= e2.timestamp and \n",
    "                            e2.timestamp <= e3.timestamp and \n",
    "                            e3.timestamp <= e4.timestamp and \n",
    "                            e4.timestamp <= e5.timestamp and \n",
    "                            e5.timestamp <= e6.timestamp''').cache()\n",
    "\n",
    "#transpose and explode\n",
    "te_23 = transp_expl(cp).cache()\n",
    "\n",
    "#end time\n",
    "print(\"elapsed time: \"+ str(time.time() - start_time))"
   ]
  },
  {
   "cell_type": "code",
   "execution_count": 10,
   "id": "54c052f3-fc55-4829-8afa-a262537edfc7",
   "metadata": {
    "tags": []
   },
   "outputs": [
    {
     "name": "stdout",
     "output_type": "stream",
     "text": [
      "root\n",
      " |-- Trace: long (nullable = false)\n",
      " |-- event: string (nullable = false)\n",
      " |-- src: string (nullable = true)\n",
      " |-- dst: string (nullable = true)\n",
      " |-- timestamp: timestamp (nullable = true)\n",
      " |-- object: string (nullable = true)\n",
      " |-- action: string (nullable = true)\n",
      " |-- hostname: string (nullable = true)\n",
      " |-- user_name: string (nullable = true)\n",
      " |-- privileges: string (nullable = true)\n",
      " |-- image_path: string (nullable = true)\n",
      " |-- parent_image_path: string (nullable = true)\n",
      " |-- new_path: string (nullable = true)\n",
      " |-- file_path: string (nullable = true)\n",
      " |-- direction: string (nullable = true)\n",
      " |-- logon_id: string (nullable = true)\n",
      " |-- requesting_domain: string (nullable = true)\n",
      " |-- requesting_user: string (nullable = true)\n",
      " |-- malicious: integer (nullable = true)\n",
      "\n"
     ]
    },
    {
     "name": "stderr",
     "output_type": "stream",
     "text": [
      "[Stage 2:>   (0 + 0) / 16][Stage 3:>  (0 + 0) / 200][Stage 261:>(4 + 16) / 67]\r"
     ]
    }
   ],
   "source": [
    "te_23.printSchema()"
   ]
  },
  {
   "cell_type": "code",
   "execution_count": null,
   "id": "c1330b55-8ca0-42d1-abc9-8e98182c5bc5",
   "metadata": {
    "tags": []
   },
   "outputs": [],
   "source": [
    "# get the 6 edges in each path and convert to a pandas dataframe\n",
    "connected_paths.select(\"e1\").limit(1).collect()"
   ]
  },
  {
   "cell_type": "code",
   "execution_count": null,
   "id": "a74c3dd0-0e37-47d2-a603-bf0469abdfdb",
   "metadata": {
    "tags": []
   },
   "outputs": [],
   "source": [
    "type(connected_paths)"
   ]
  },
  {
   "cell_type": "code",
   "execution_count": null,
   "id": "140b9481-5dec-479a-b362-1992f8c8db67",
   "metadata": {
    "tags": []
   },
   "outputs": [],
   "source": [
    "connected_paths.write.option(\"maxRecordsPerFile\", 300000).mode(\"overwrite\").parquet(f\"{s3_url_trusted}/prod/graph/test\")"
   ]
  },
  {
   "cell_type": "code",
   "execution_count": null,
   "id": "2e04b021-682e-4444-9f9c-fc910fd48550",
   "metadata": {
    "tags": []
   },
   "outputs": [],
   "source": [
    "connected_paths = spark.read.parquet(f\"{s3_url_trusted}/prod/graph/test\").cache()"
   ]
  },
  {
   "cell_type": "code",
   "execution_count": null,
   "id": "b22697e6-5408-4c34-aab0-879f8e6d8131",
   "metadata": {
    "tags": []
   },
   "outputs": [],
   "source": [
    "connected_paths.limit(5).toPandas()"
   ]
  },
  {
   "cell_type": "code",
   "execution_count": null,
   "id": "2ccfbd61-718e-45d9-9f35-57a545866c79",
   "metadata": {
    "tags": []
   },
   "outputs": [],
   "source": [
    "connected_paths.count()"
   ]
  },
  {
   "cell_type": "code",
   "execution_count": null,
   "id": "cf6cccdc-2427-460e-97a7-c5cda79f7de9",
   "metadata": {
    "tags": []
   },
   "outputs": [],
   "source": [
    "# using split and applying in ml with pypark\n",
    "train, test, val = connected_paths.randomSplit([0.80, 0.15, 0.05], seed=12345)"
   ]
  },
  {
   "cell_type": "code",
   "execution_count": null,
   "id": "ac08c41e-e588-4bb1-8520-b46c1467e018",
   "metadata": {
    "tags": []
   },
   "outputs": [],
   "source": [
    "val.count()"
   ]
  },
  {
   "cell_type": "code",
   "execution_count": null,
   "id": "52501454-e7dc-413c-890c-d5a4676d996e",
   "metadata": {},
   "outputs": [],
   "source": []
  },
  {
   "cell_type": "code",
   "execution_count": null,
   "id": "63672d40-ca27-4e80-9092-251214d6621f",
   "metadata": {},
   "outputs": [],
   "source": []
  },
  {
   "cell_type": "code",
   "execution_count": null,
   "id": "c042a899-4b99-45a4-a13d-90c4e2861f76",
   "metadata": {
    "tags": []
   },
   "outputs": [],
   "source": [
    "# create new dataframe to union and create duplicate rows\n",
    "df_dup = df.withColumn('id', lit(None).cast(StringType()))"
   ]
  },
  {
   "cell_type": "code",
   "execution_count": null,
   "id": "e5d4873c-793e-40ba-8b0a-e62b72ec9a48",
   "metadata": {
    "tags": []
   },
   "outputs": [],
   "source": [
    "df_dup.limit(5).toPandas()"
   ]
  },
  {
   "cell_type": "code",
   "execution_count": null,
   "id": "0a2ef262-3b4b-4659-9e5a-ad65cd30257f",
   "metadata": {
    "tags": []
   },
   "outputs": [],
   "source": [
    "df_new = df.union(df_dup).sort(\"timestamp\").cache()\n",
    "df.unpersist()"
   ]
  },
  {
   "cell_type": "code",
   "execution_count": null,
   "id": "d5da3e36-2e52-47b1-a84f-5eefcb4bc16b",
   "metadata": {
    "tags": []
   },
   "outputs": [],
   "source": [
    "df_new.limit(5).toPandas()"
   ]
  },
  {
   "cell_type": "code",
   "execution_count": null,
   "id": "fb3abb18-b762-4e7d-b466-d9e5ee31f9f3",
   "metadata": {
    "tags": []
   },
   "outputs": [],
   "source": [
    "# len(df_new.select('relationship').distinct().collect())"
   ]
  },
  {
   "cell_type": "code",
   "execution_count": null,
   "id": "7b2bfd54-47a1-4b4c-8953-575c2d68c98f",
   "metadata": {
    "tags": []
   },
   "outputs": [],
   "source": [
    "tot = df_new.count()"
   ]
  },
  {
   "cell_type": "code",
   "execution_count": null,
   "id": "cb21acb5-8baf-4eb0-8649-25eb43bbeb0d",
   "metadata": {},
   "outputs": [],
   "source": [
    "df"
   ]
  },
  {
   "cell_type": "code",
   "execution_count": null,
   "id": "464deab4-13be-4bb9-a48a-4d66d4384b0b",
   "metadata": {
    "tags": []
   },
   "outputs": [],
   "source": [
    "df_ratios = df.groupBy(\"object\", \"event_day\", \"malicious\") \\\n",
    "              .count() \\\n",
    "              .withColumnRenamed('count', 'cnt_per_group') \\\n",
    "              .withColumn('perc_of_count_total', (col('cnt_per_group') / tot) * 100 ) \\\n",
    "              .sort(\"event_day\", \"malicious\",  \"perc_of_count_total\", \"object\") \\\n",
    "              .cache()"
   ]
  },
  {
   "cell_type": "code",
   "execution_count": null,
   "id": "b25931e3-928c-4b1f-920b-79132f35b1e4",
   "metadata": {
    "tags": []
   },
   "outputs": [],
   "source": [
    "df_ratios.limit(20).toPandas()"
   ]
  },
  {
   "cell_type": "code",
   "execution_count": null,
   "id": "8ec07a31-d23e-4d12-a41b-dd1898d38078",
   "metadata": {
    "tags": []
   },
   "outputs": [],
   "source": [
    "df_new.limit(5).toPandas()"
   ]
  },
  {
   "cell_type": "code",
   "execution_count": null,
   "id": "a0e1ad06-7612-48ed-b9bc-9ace19b7545f",
   "metadata": {},
   "outputs": [],
   "source": []
  },
  {
   "cell_type": "code",
   "execution_count": null,
   "id": "cce447ff-155c-42cf-ab20-911e59a77fd1",
   "metadata": {
    "tags": []
   },
   "outputs": [],
   "source": [
    "connected_paths.write.option(\"maxRecordsPerFile\", 300000).mode(\"overwrite\").parquet(f\"{s3_url_trusted}/prod/graph/test\")"
   ]
  },
  {
   "cell_type": "code",
   "execution_count": null,
   "id": "9a210e73-7628-485d-b723-523a4b68d349",
   "metadata": {},
   "outputs": [],
   "source": []
  }
 ],
 "metadata": {
  "kernelspec": {
   "display_name": "conda_python3",
   "language": "python",
   "name": "conda_python3"
  },
  "language_info": {
   "codemirror_mode": {
    "name": "ipython",
    "version": 3
   },
   "file_extension": ".py",
   "mimetype": "text/x-python",
   "name": "python",
   "nbconvert_exporter": "python",
   "pygments_lexer": "ipython3",
   "version": "3.10.8"
  }
 },
 "nbformat": 4,
 "nbformat_minor": 5
}
