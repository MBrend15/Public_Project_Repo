{
 "cells": [
  {
   "cell_type": "code",
   "execution_count": 1,
   "id": "970130b0-b08c-4536-936e-ca923cc595a9",
   "metadata": {},
   "outputs": [],
   "source": [
    "#setup based on this: https://t-redactyl.io/blog/2020/08/reading-s3-data-into-a-spark-dataframe-using-sagemaker.html\n",
    "import boto3\n",
    "import json \n",
    "import time\n",
    "import pandas as pd\n",
    "from pyspark import SparkConf\n",
    "from pyspark.sql import SparkSession\n",
    "from pyspark.sql.functions import explode, split, isnan, when, count, col\n",
    "import matplotlib.pyplot as plt\n",
    "import sagemaker_pyspark\n",
    "import botocore.session"
   ]
  },
  {
   "cell_type": "markdown",
   "id": "1e5ef5d6-368f-43af-b519-ba5112c87b79",
   "metadata": {},
   "source": [
    "## Set Spark Session Configuration"
   ]
  },
  {
   "cell_type": "code",
   "execution_count": 2,
   "id": "6d8e9008-6651-4c17-8c12-eef2b18e10fe",
   "metadata": {
    "tags": []
   },
   "outputs": [],
   "source": [
    "session = botocore.session.get_session()\n",
    "credentials = session.get_credentials()"
   ]
  },
  {
   "cell_type": "code",
   "execution_count": 3,
   "id": "7486ea00-f477-4f51-bf6e-b66a57f1a557",
   "metadata": {
    "tags": []
   },
   "outputs": [],
   "source": [
    "client = boto3.client('secretsmanager')\n",
    "response = client.get_secret_value(\n",
    "    SecretId='sapient-s3-access'\n",
    ")\n",
    "response = json.loads(response['SecretString'])\n",
    "access_key = response[\"aws_access_key_id\"]\n",
    "secret_key = response[\"aws_secret_access_key\"]"
   ]
  },
  {
   "cell_type": "code",
   "execution_count": 4,
   "id": "372553c2-9f17-4c4f-b253-275e30a1ef35",
   "metadata": {
    "tags": []
   },
   "outputs": [],
   "source": [
    "conf = (SparkConf()\n",
    "        .set(\"spark.driver.extraClassPath\", \":\".join(sagemaker_pyspark.classpath_jars())))"
   ]
  },
  {
   "cell_type": "code",
   "execution_count": 5,
   "id": "9392e443-f6d6-4a54-bbb8-2972eafaf97e",
   "metadata": {
    "tags": []
   },
   "outputs": [
    {
     "name": "stderr",
     "output_type": "stream",
     "text": [
      "Warning: Ignoring non-Spark config property: fs.s3a.access.key\n",
      "Warning: Ignoring non-Spark config property: fs.s3a.secret.key\n",
      "Setting default log level to \"WARN\".\n",
      "To adjust logging level use sc.setLogLevel(newLevel). For SparkR, use setLogLevel(newLevel).\n"
     ]
    },
    {
     "name": "stdout",
     "output_type": "stream",
     "text": [
      "23/02/22 20:07:42 WARN NativeCodeLoader: Unable to load native-hadoop library for your platform... using builtin-java classes where applicable\n",
      "23/02/22 20:07:43 WARN Utils: Service 'SparkUI' could not bind on port 4040. Attempting port 4041.\n"
     ]
    }
   ],
   "source": [
    "spark = (\n",
    "    SparkSession\n",
    "    .builder\n",
    "    .config(conf=conf) \\\n",
    "    .config('fs.s3a.access.key', access_key)\n",
    "    .config('fs.s3a.secret.key', secret_key)\n",
    "    .config('spark.network.timeout', 300)\n",
    "    .config('spark.memory.offHeap.size','4g')\n",
    "    .config('spark.executor.memory', '16g')\n",
    "    .appName(\"sapient\")\n",
    "    .getOrCreate()\n",
    ")"
   ]
  },
  {
   "cell_type": "markdown",
   "id": "322f0acc-5281-4b73-a33b-67ac7c05b96a",
   "metadata": {},
   "source": [
    "## Functions to Load and Read Data"
   ]
  },
  {
   "cell_type": "code",
   "execution_count": 6,
   "id": "4a5e8ea5-b6a8-4fdd-84d5-22e3b31c7340",
   "metadata": {},
   "outputs": [],
   "source": [
    "# read from raw bucket + write to refined bucket + aggregate final to the trusted bucket\n",
    "s3_url_raw = \"s3a://sapient-bucket-raw/\"\n",
    "s3_url_refined = \"s3a://sapient-bucket-refined/\"\n",
    "s3_url_trusted = \"s3a://sapient-bucket-trusted/\"\n",
    "bro_cols_conn = ['ts', 'uid', 'id.orig_h', 'id.orig_p', 'id.resp_', 'id.resp_p', 'proto', 'service', 'duration', 'orig_bytes', 'resp_bytes', 'conn_state', \n",
    "                 'local_orig', 'local_resp', 'missed_bytes', 'history', 'orig_pkts', 'orig_ip_bytes', 'resp_pkts', 'resp_ip_bytes', 'tunnel_parents']\n",
    "bro_cols_rep = ['ts', 'level', 'message', 'location']"
   ]
  },
  {
   "cell_type": "code",
   "execution_count": 7,
   "id": "22f40b57-7603-413d-881e-fd397b934503",
   "metadata": {
    "tags": []
   },
   "outputs": [],
   "source": [
    "def readCheckpoint(type='ecar-bro', env='dev', size='small'):\n",
    "    \"\"\"\n",
    "    type: ecar, ecar-bro, bro\n",
    "    \"\"\"\n",
    "    s3_parquet_loc = f\"{s3_url_refined}/{size}/{env}/{type}\"\n",
    "    start_time = time.time()\n",
    "    df = spark.read.parquet(s3_parquet_loc)\n",
    "    # rdd = spark.sparkContext.parallelize(df.take(1000))\n",
    "    # print(f\"Your dataframe has {rdd.count():,} rows.\")\n",
    "    print(\"--- %s seconds ---\" % (time.time() - start_time))\n",
    "    return df"
   ]
  },
  {
   "cell_type": "code",
   "execution_count": null,
   "id": "dc1dc1f3-183b-48e2-b545-3caae0a75888",
   "metadata": {},
   "outputs": [],
   "source": []
  },
  {
   "cell_type": "code",
   "execution_count": 12,
   "id": "732e83f9-a7b4-4b61-bd17-f24e9b4b4dc6",
   "metadata": {
    "tags": []
   },
   "outputs": [
    {
     "name": "stdout",
     "output_type": "stream",
     "text": [
      "--- 0.45285868644714355 seconds ---\n"
     ]
    }
   ],
   "source": [
    "df = readCheckpoint('ecar-bro', 'dev', 'small')"
   ]
  },
  {
   "cell_type": "code",
   "execution_count": 13,
   "id": "8d798e49-6a71-4b2d-a189-f2b7addded02",
   "metadata": {
    "tags": []
   },
   "outputs": [
    {
     "name": "stdout",
     "output_type": "stream",
     "text": [
      "root\n",
      " |-- action: string (nullable = true)\n",
      " |-- actorID: string (nullable = true)\n",
      " |-- hostname: string (nullable = true)\n",
      " |-- id: string (nullable = true)\n",
      " |-- object: string (nullable = true)\n",
      " |-- objectID: string (nullable = true)\n",
      " |-- pid: long (nullable = true)\n",
      " |-- ppid: long (nullable = true)\n",
      " |-- principal: string (nullable = true)\n",
      " |-- tid: long (nullable = true)\n",
      " |-- timestamp: string (nullable = true)\n",
      " |-- acuity_level: string (nullable = true)\n",
      " |-- bro_uid: string (nullable = true)\n",
      " |-- dest_ip: string (nullable = true)\n",
      " |-- dest_port: string (nullable = true)\n",
      " |-- direction: string (nullable = true)\n",
      " |-- image_path: string (nullable = true)\n",
      " |-- l4protocol: string (nullable = true)\n",
      " |-- src_ip: string (nullable = true)\n",
      " |-- src_port: string (nullable = true)\n",
      "\n"
     ]
    }
   ],
   "source": [
    "df.printSchema()"
   ]
  },
  {
   "cell_type": "code",
   "execution_count": 14,
   "id": "4bc5bda2-b45c-48a7-ab89-723354e5e3f4",
   "metadata": {
    "tags": []
   },
   "outputs": [
    {
     "name": "stdout",
     "output_type": "stream",
     "text": [
      "--- 0.5135655403137207 seconds ---\n"
     ]
    }
   ],
   "source": [
    "df = readCheckpoint('ecar', 'dev', 'small')"
   ]
  },
  {
   "cell_type": "code",
   "execution_count": 15,
   "id": "1e9a27a4-d4f3-42ce-8b93-a51264d27a36",
   "metadata": {
    "tags": []
   },
   "outputs": [
    {
     "name": "stdout",
     "output_type": "stream",
     "text": [
      "root\n",
      " |-- action: string (nullable = true)\n",
      " |-- actorID: string (nullable = true)\n",
      " |-- hostname: string (nullable = true)\n",
      " |-- id: string (nullable = true)\n",
      " |-- object: string (nullable = true)\n",
      " |-- objectID: string (nullable = true)\n",
      " |-- pid: long (nullable = true)\n",
      " |-- ppid: long (nullable = true)\n",
      " |-- principal: string (nullable = true)\n",
      " |-- tid: long (nullable = true)\n",
      " |-- timestamp: string (nullable = true)\n",
      " |-- acuity_level: string (nullable = true)\n",
      " |-- base_address: string (nullable = true)\n",
      " |-- command_line: string (nullable = true)\n",
      " |-- context_info: string (nullable = true)\n",
      " |-- data: string (nullable = true)\n",
      " |-- dest_ip: string (nullable = true)\n",
      " |-- dest_port: string (nullable = true)\n",
      " |-- direction: string (nullable = true)\n",
      " |-- end_time: string (nullable = true)\n",
      " |-- file_path: string (nullable = true)\n",
      " |-- image_path: string (nullable = true)\n",
      " |-- info_class: string (nullable = true)\n",
      " |-- key: string (nullable = true)\n",
      " |-- l4protocol: string (nullable = true)\n",
      " |-- logon_id: string (nullable = true)\n",
      " |-- module_path: string (nullable = true)\n",
      " |-- new_path: string (nullable = true)\n",
      " |-- parent_image_path: string (nullable = true)\n",
      " |-- path: string (nullable = true)\n",
      " |-- payload: string (nullable = true)\n",
      " |-- privileges: string (nullable = true)\n",
      " |-- requesting_domain: string (nullable = true)\n",
      " |-- requesting_logon_id: string (nullable = true)\n",
      " |-- requesting_user: string (nullable = true)\n",
      " |-- sid: string (nullable = true)\n",
      " |-- size: string (nullable = true)\n",
      " |-- src_ip: string (nullable = true)\n",
      " |-- src_pid: string (nullable = true)\n",
      " |-- src_port: string (nullable = true)\n",
      " |-- src_tid: string (nullable = true)\n",
      " |-- stack_base: string (nullable = true)\n",
      " |-- stack_limit: string (nullable = true)\n",
      " |-- start_address: string (nullable = true)\n",
      " |-- start_time: string (nullable = true)\n",
      " |-- subprocess_tag: string (nullable = true)\n",
      " |-- task_name: string (nullable = true)\n",
      " |-- task_pid: string (nullable = true)\n",
      " |-- task_process_uuid: string (nullable = true)\n",
      " |-- tgt_pid: string (nullable = true)\n",
      " |-- tgt_pid_uuid: string (nullable = true)\n",
      " |-- tgt_tid: string (nullable = true)\n",
      " |-- type: string (nullable = true)\n",
      " |-- user: string (nullable = true)\n",
      " |-- user_name: string (nullable = true)\n",
      " |-- user_stack_base: string (nullable = true)\n",
      " |-- user_stack_limit: string (nullable = true)\n",
      " |-- value: string (nullable = true)\n",
      "\n"
     ]
    }
   ],
   "source": [
    "df.printSchema()"
   ]
  },
  {
   "cell_type": "code",
   "execution_count": null,
   "id": "9e9d9a73-cfac-4bbe-b956-18febdf38e8b",
   "metadata": {},
   "outputs": [],
   "source": []
  }
 ],
 "metadata": {
  "kernelspec": {
   "display_name": "conda_python3",
   "language": "python",
   "name": "conda_python3"
  },
  "language_info": {
   "codemirror_mode": {
    "name": "ipython",
    "version": 3
   },
   "file_extension": ".py",
   "mimetype": "text/x-python",
   "name": "python",
   "nbconvert_exporter": "python",
   "pygments_lexer": "ipython3",
   "version": "3.10.8"
  }
 },
 "nbformat": 4,
 "nbformat_minor": 5
}
