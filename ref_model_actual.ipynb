{
 "cells": [
  {
   "cell_type": "code",
   "execution_count": 94,
   "id": "9432adf3-300e-4650-a4f4-082b1959e7c0",
   "metadata": {
    "tags": []
   },
   "outputs": [],
   "source": [
    "from graphframes import GraphFrame"
   ]
  },
  {
   "cell_type": "code",
   "execution_count": null,
   "id": "de117979-93f0-4a4a-b189-c58c0deb2e64",
   "metadata": {
    "tags": []
   },
   "outputs": [],
   "source": [
    "#%run ./etl_trusted_features.ipynb\n",
    "#df = readFirstEvents()"
   ]
  },
  {
   "cell_type": "code",
   "execution_count": 2,
   "id": "3ea0c6ae-1565-417d-ab65-0d7bab8d227e",
   "metadata": {
    "tags": []
   },
   "outputs": [
    {
     "name": "stderr",
     "output_type": "stream",
     "text": [
      "Warning: Ignoring non-Spark config property: fs.s3a.access.key\n",
      "Warning: Ignoring non-Spark config property: fs.s3a.secret.key\n"
     ]
    },
    {
     "name": "stdout",
     "output_type": "stream",
     "text": [
      ":: loading settings :: url = jar:file:/home/ec2-user/anaconda3/envs/python3/lib/python3.10/site-packages/pyspark/jars/ivy-2.5.0.jar!/org/apache/ivy/core/settings/ivysettings.xml\n"
     ]
    },
    {
     "name": "stderr",
     "output_type": "stream",
     "text": [
      "Ivy Default Cache set to: /home/ec2-user/.ivy2/cache\n",
      "The jars for the packages stored in: /home/ec2-user/.ivy2/jars\n",
      "graphframes#graphframes added as a dependency\n",
      ":: resolving dependencies :: org.apache.spark#spark-submit-parent-58076c5b-3452-4736-ae91-032e376b6d5c;1.0\n",
      "\tconfs: [default]\n",
      "\tfound graphframes#graphframes;0.8.2-spark3.2-s_2.12 in spark-packages\n",
      "\tfound org.slf4j#slf4j-api;1.7.16 in central\n",
      ":: resolution report :: resolve 140ms :: artifacts dl 5ms\n",
      "\t:: modules in use:\n",
      "\tgraphframes#graphframes;0.8.2-spark3.2-s_2.12 from spark-packages in [default]\n",
      "\torg.slf4j#slf4j-api;1.7.16 from central in [default]\n",
      "\t---------------------------------------------------------------------\n",
      "\t|                  |            modules            ||   artifacts   |\n",
      "\t|       conf       | number| search|dwnlded|evicted|| number|dwnlded|\n",
      "\t---------------------------------------------------------------------\n",
      "\t|      default     |   2   |   0   |   0   |   0   ||   2   |   0   |\n",
      "\t---------------------------------------------------------------------\n",
      ":: retrieving :: org.apache.spark#spark-submit-parent-58076c5b-3452-4736-ae91-032e376b6d5c\n",
      "\tconfs: [default]\n",
      "\t0 artifacts copied, 2 already retrieved (0kB/4ms)\n"
     ]
    },
    {
     "name": "stdout",
     "output_type": "stream",
     "text": [
      "23/03/19 21:54:07 WARN NativeCodeLoader: Unable to load native-hadoop library for your platform... using builtin-java classes where applicable\n"
     ]
    },
    {
     "name": "stderr",
     "output_type": "stream",
     "text": [
      "Setting default log level to \"WARN\".\n",
      "To adjust logging level use sc.setLogLevel(newLevel). For SparkR, use setLogLevel(newLevel).\n"
     ]
    },
    {
     "name": "stdout",
     "output_type": "stream",
     "text": [
      "23/03/19 21:54:07 WARN SparkConf: Note that spark.local.dir will be overridden by the value set by the cluster manager (via SPARK_LOCAL_DIRS in mesos/standalone/kubernetes and LOCAL_DIRS in YARN).\n",
      "23/03/19 21:54:08 WARN Utils: Service 'SparkUI' could not bind on port 4040. Attempting port 4041.\n",
      "23/03/19 21:54:08 WARN Utils: Service 'SparkUI' could not bind on port 4041. Attempting port 4042.\n",
      "23/03/19 21:54:08 WARN Utils: Service 'SparkUI' could not bind on port 4042. Attempting port 4043.\n"
     ]
    },
    {
     "name": "stderr",
     "output_type": "stream",
     "text": [
      "                                                                                \r"
     ]
    }
   ],
   "source": [
    "%run ./read_file.ipynb\n",
    "df = spark.read.parquet(f\"{s3_url_trusted}/prod/graph/first_events\")\\\n",
    "            .withColumn(\"image_path\", getFileUDF(col(\"image_path\"))) \\\n",
    "            .withColumn(\"parent_image_path\", getFileUDF(col(\"parent_image_path\"))) \\\n",
    "            .withColumn(\"new_path\", getFileUDF(col(\"new_path\"))) \\\n",
    "            .withColumn(\"file_path\", getFileUDF(col(\"file_path\"))) \\\n",
    "            .cache()"
   ]
  },
  {
   "cell_type": "code",
   "execution_count": 3,
   "id": "1d496cc4-cfa5-4522-a000-d94d911c27a5",
   "metadata": {
    "tags": []
   },
   "outputs": [
    {
     "name": "stderr",
     "output_type": "stream",
     "text": [
      "[Stage 1:=======================================================> (49 + 1) / 50]\r"
     ]
    },
    {
     "name": "stdout",
     "output_type": "stream",
     "text": [
      "mal count: 3642\n"
     ]
    },
    {
     "name": "stderr",
     "output_type": "stream",
     "text": [
      "                                                                                \r"
     ]
    }
   ],
   "source": [
    "df_mal = df.where(col('malicious') == 1)\n",
    "print(\"mal count: \" +str(df_mal.count()))"
   ]
  },
  {
   "cell_type": "code",
   "execution_count": 95,
   "id": "1618b11a-40d8-48c6-b950-82ea61546826",
   "metadata": {
    "tags": []
   },
   "outputs": [
    {
     "data": {
      "text/plain": [
       "72711"
      ]
     },
     "execution_count": 95,
     "metadata": {},
     "output_type": "execute_result"
    }
   ],
   "source": [
    "#down select to match time windown between benign and malicious\n",
    "df_b = df.where(col('malicious') == 0)\n",
    "mal_hosts = list(df.select('hostname').filter( col('malicious') == 1 ).distinct().toPandas()['hostname'])\n",
    "df_b = df_b.filter(col(\"hostname\").isin(mal_hosts)).cache()\n",
    "df_b_ds = df_b.where((col('event_hour') == 16) & (col('event_minute') > 29)).cache()\n",
    "df_b_ds_4 = df_b_ds.limit(4000) \n",
    "df_b_ds.count()"
   ]
  },
  {
   "cell_type": "code",
   "execution_count": 96,
   "id": "02655ba7-2d8b-4174-8c6e-f196e42ebf60",
   "metadata": {
    "tags": []
   },
   "outputs": [],
   "source": [
    "df_b_ds2 = df_b.where((col('event_hour') == 16) & (col('event_minute') < 30)).cache()\n",
    "df_b_ds_4b = df_b_ds2.limit(4000) "
   ]
  },
  {
   "cell_type": "code",
   "execution_count": 97,
   "id": "d144592e-a1ae-494f-9130-577b47a2917c",
   "metadata": {
    "tags": []
   },
   "outputs": [
    {
     "name": "stderr",
     "output_type": "stream",
     "text": [
      "/home/ec2-user/anaconda3/envs/python3/lib/python3.10/site-packages/pyspark/sql/dataframe.py:148: UserWarning: DataFrame.sql_ctx is an internal property, and will be removed in future releases. Use DataFrame.sparkSession instead.\n",
      "  warnings.warn(\n"
     ]
    },
    {
     "name": "stdout",
     "output_type": "stream",
     "text": [
      "event traces: 1882\n"
     ]
    },
    {
     "name": "stderr",
     "output_type": "stream",
     "text": [
      "/home/ec2-user/anaconda3/envs/python3/lib/python3.10/site-packages/pyspark/sql/dataframe.py:127: UserWarning: DataFrame constructor is internal. Do not directly use it.\n",
      "  warnings.warn(\"DataFrame constructor is internal. Do not directly use it.\")\n"
     ]
    }
   ],
   "source": [
    "# Create distinct vertices with source as actorid, destination as objectid for bengin\n",
    "src_vertices = df_b_ds_4.selectExpr('actorID as id').distinct()\n",
    "dst_vertices = df_b_ds_4.selectExpr('objectID as id').distinct()\n",
    "vertices = src_vertices.union(dst_vertices).distinct()\n",
    "\n",
    "# Create edges by using timestamp as an edge\n",
    "edges = df_b_ds_4.selectExpr('actorID as src', 'objectID as dst', 'timestamp', 'object', 'action', 'hostname', 'user_name', 'privileges', 'image_path',\n",
    "                      'parent_image_path', 'new_path', 'file_path', 'direction', 'logon_id', 'requesting_domain', 'requesting_user', 'malicious')\n",
    "\n",
    "# Create GraphFrame\n",
    "g = GraphFrame(vertices, edges)\n",
    "motifs6 = g.find(\"(a)-[e1]->(b); (b)-[e2]->(c); (c)-[e3]->(d); (d)-[e4]->(e); (e)-[e5]->(f); (f)-[e6]->(g)\")\n",
    "\n",
    "#create paths and count\n",
    "# filter paths to only those where all edges are connected\n",
    "graph_b_4 = motifs6.filter(\"e1.dst = e2.src and e2.dst = e3.src and e3.dst = e4.src and e4.dst = e5.src and e5.dst = e6.src\").cache()\n",
    "print(\"event traces: \"+str(graph_b_4.count()))"
   ]
  },
  {
   "cell_type": "code",
   "execution_count": 98,
   "id": "8429e5b6-7bd8-4e2c-a5a3-328460e0e75e",
   "metadata": {
    "tags": []
   },
   "outputs": [
    {
     "name": "stdout",
     "output_type": "stream",
     "text": [
      "event traces: 1500\n"
     ]
    }
   ],
   "source": [
    "# Create distinct vertices with source as actorid, destination as objectid for bengin 10k\n",
    "src_vertices = df_b_ds_4b.selectExpr('actorID as id').distinct()\n",
    "dst_vertices = df_b_ds_4b.selectExpr('objectID as id').distinct()\n",
    "vertices = src_vertices.union(dst_vertices).distinct()\n",
    "\n",
    "# Create edges by using timestamp as an edge\n",
    "edges = df_b_ds_4b.selectExpr('actorID as src', 'objectID as dst', 'timestamp', 'object', 'action', 'hostname', 'user_name', 'privileges', 'image_path',\n",
    "                      'parent_image_path', 'new_path', 'file_path', 'direction', 'logon_id', 'requesting_domain', 'requesting_user', 'malicious')\n",
    "\n",
    "# Create GraphFrame\n",
    "g = GraphFrame(vertices, edges)\n",
    "motifs6 = g.find(\"(a)-[e1]->(b); (b)-[e2]->(c); (c)-[e3]->(d); (d)-[e4]->(e); (e)-[e5]->(f); (f)-[e6]->(g)\")\n",
    "\n",
    "#create paths and count\n",
    "# filter paths to only those where all edges are connected\n",
    "graph_b_4b = motifs6.filter(\"e1.dst = e2.src and e2.dst = e3.src and e3.dst = e4.src and e4.dst = e5.src and e5.dst = e6.src\").cache()\n",
    "print(\"event traces: \"+str(graph_b_4b.count()))"
   ]
  },
  {
   "cell_type": "code",
   "execution_count": 99,
   "id": "49aede04-e990-4c4f-9407-91c5998688e8",
   "metadata": {
    "tags": []
   },
   "outputs": [],
   "source": [
    "%run trace_encode.ipynb"
   ]
  },
  {
   "cell_type": "code",
   "execution_count": 9,
   "id": "393cdc82-f6a3-4a0d-8097-98ba043c5c6e",
   "metadata": {
    "tags": []
   },
   "outputs": [
    {
     "name": "stderr",
     "output_type": "stream",
     "text": [
      "[Stage 134:============================================>       (171 + 16) / 200]\r"
     ]
    },
    {
     "name": "stdout",
     "output_type": "stream",
     "text": [
      "event traces: 21135\n"
     ]
    },
    {
     "name": "stderr",
     "output_type": "stream",
     "text": [
      "                                                                                \r"
     ]
    }
   ],
   "source": [
    "graph_mal = create_graph(df_mal)"
   ]
  },
  {
   "cell_type": "code",
   "execution_count": 56,
   "id": "45bb9d77-15d3-41af-99f2-c419e80eccf6",
   "metadata": {
    "tags": []
   },
   "outputs": [
    {
     "name": "stderr",
     "output_type": "stream",
     "text": [
      "/home/ec2-user/anaconda3/envs/python3/lib/python3.10/site-packages/pyspark/sql/dataframe.py:148: UserWarning: DataFrame.sql_ctx is an internal property, and will be removed in future releases. Use DataFrame.sparkSession instead.\n",
      "  warnings.warn(\n",
      "/home/ec2-user/anaconda3/envs/python3/lib/python3.10/site-packages/pyspark/sql/dataframe.py:127: UserWarning: DataFrame constructor is internal. Do not directly use it.\n",
      "  warnings.warn(\"DataFrame constructor is internal. Do not directly use it.\")\n"
     ]
    },
    {
     "name": "stdout",
     "output_type": "stream",
     "text": [
      "event traces: 21135\n"
     ]
    }
   ],
   "source": [
    "graph_b_5b = create_graph(df_mal)"
   ]
  },
  {
   "cell_type": "code",
   "execution_count": 58,
   "id": "e970142b-5719-4c6a-8e91-53f147280159",
   "metadata": {
    "tags": []
   },
   "outputs": [
    {
     "data": {
      "text/html": [
       "<div>\n",
       "<style scoped>\n",
       "    .dataframe tbody tr th:only-of-type {\n",
       "        vertical-align: middle;\n",
       "    }\n",
       "\n",
       "    .dataframe tbody tr th {\n",
       "        vertical-align: top;\n",
       "    }\n",
       "\n",
       "    .dataframe thead th {\n",
       "        text-align: right;\n",
       "    }\n",
       "</style>\n",
       "<table border=\"1\" class=\"dataframe\">\n",
       "  <thead>\n",
       "    <tr style=\"text-align: right;\">\n",
       "      <th></th>\n",
       "      <th>a</th>\n",
       "      <th>e1</th>\n",
       "      <th>b</th>\n",
       "      <th>e2</th>\n",
       "      <th>c</th>\n",
       "      <th>e3</th>\n",
       "      <th>d</th>\n",
       "      <th>e4</th>\n",
       "      <th>e</th>\n",
       "      <th>e5</th>\n",
       "      <th>f</th>\n",
       "      <th>e6</th>\n",
       "      <th>g</th>\n",
       "    </tr>\n",
       "  </thead>\n",
       "  <tbody>\n",
       "    <tr>\n",
       "      <th>0</th>\n",
       "      <td>(063fc5a9-02d0-4b48-8738-d4af953d55cd,)</td>\n",
       "      <td>(063fc5a9-02d0-4b48-8738-d4af953d55cd, 063fc5a...</td>\n",
       "      <td>(063fc5a9-02d0-4b48-8738-d4af953d55cd,)</td>\n",
       "      <td>(063fc5a9-02d0-4b48-8738-d4af953d55cd, 063fc5a...</td>\n",
       "      <td>(063fc5a9-02d0-4b48-8738-d4af953d55cd,)</td>\n",
       "      <td>(063fc5a9-02d0-4b48-8738-d4af953d55cd, 063fc5a...</td>\n",
       "      <td>(063fc5a9-02d0-4b48-8738-d4af953d55cd,)</td>\n",
       "      <td>(063fc5a9-02d0-4b48-8738-d4af953d55cd, 063fc5a...</td>\n",
       "      <td>(063fc5a9-02d0-4b48-8738-d4af953d55cd,)</td>\n",
       "      <td>(063fc5a9-02d0-4b48-8738-d4af953d55cd, 063fc5a...</td>\n",
       "      <td>(063fc5a9-02d0-4b48-8738-d4af953d55cd,)</td>\n",
       "      <td>(063fc5a9-02d0-4b48-8738-d4af953d55cd, 063fc5a...</td>\n",
       "      <td>(063fc5a9-02d0-4b48-8738-d4af953d55cd,)</td>\n",
       "    </tr>\n",
       "  </tbody>\n",
       "</table>\n",
       "</div>"
      ],
      "text/plain": [
       "                                         a  \\\n",
       "0  (063fc5a9-02d0-4b48-8738-d4af953d55cd,)   \n",
       "\n",
       "                                                  e1  \\\n",
       "0  (063fc5a9-02d0-4b48-8738-d4af953d55cd, 063fc5a...   \n",
       "\n",
       "                                         b  \\\n",
       "0  (063fc5a9-02d0-4b48-8738-d4af953d55cd,)   \n",
       "\n",
       "                                                  e2  \\\n",
       "0  (063fc5a9-02d0-4b48-8738-d4af953d55cd, 063fc5a...   \n",
       "\n",
       "                                         c  \\\n",
       "0  (063fc5a9-02d0-4b48-8738-d4af953d55cd,)   \n",
       "\n",
       "                                                  e3  \\\n",
       "0  (063fc5a9-02d0-4b48-8738-d4af953d55cd, 063fc5a...   \n",
       "\n",
       "                                         d  \\\n",
       "0  (063fc5a9-02d0-4b48-8738-d4af953d55cd,)   \n",
       "\n",
       "                                                  e4  \\\n",
       "0  (063fc5a9-02d0-4b48-8738-d4af953d55cd, 063fc5a...   \n",
       "\n",
       "                                         e  \\\n",
       "0  (063fc5a9-02d0-4b48-8738-d4af953d55cd,)   \n",
       "\n",
       "                                                  e5  \\\n",
       "0  (063fc5a9-02d0-4b48-8738-d4af953d55cd, 063fc5a...   \n",
       "\n",
       "                                         f  \\\n",
       "0  (063fc5a9-02d0-4b48-8738-d4af953d55cd,)   \n",
       "\n",
       "                                                  e6  \\\n",
       "0  (063fc5a9-02d0-4b48-8738-d4af953d55cd, 063fc5a...   \n",
       "\n",
       "                                         g  \n",
       "0  (063fc5a9-02d0-4b48-8738-d4af953d55cd,)  "
      ]
     },
     "execution_count": 58,
     "metadata": {},
     "output_type": "execute_result"
    }
   ],
   "source": [
    "graph_b_4b.limit(1).toPandas()"
   ]
  },
  {
   "cell_type": "code",
   "execution_count": 100,
   "id": "e0a2a20c-518c-4701-a1dd-cfe7b48fc944",
   "metadata": {
    "tags": []
   },
   "outputs": [
    {
     "data": {
      "text/plain": [
       "3382"
      ]
     },
     "execution_count": 100,
     "metadata": {},
     "output_type": "execute_result"
    }
   ],
   "source": [
    "#create dataframes for processing \n",
    "graph_b = graph_b_4b.union(graph_b_4)\n",
    "graph_b.count()"
   ]
  },
  {
   "cell_type": "code",
   "execution_count": 59,
   "id": "aebaa10b-11c3-4086-9bfc-79e3629c1fee",
   "metadata": {
    "tags": []
   },
   "outputs": [
    {
     "data": {
      "text/html": [
       "<div>\n",
       "<style scoped>\n",
       "    .dataframe tbody tr th:only-of-type {\n",
       "        vertical-align: middle;\n",
       "    }\n",
       "\n",
       "    .dataframe tbody tr th {\n",
       "        vertical-align: top;\n",
       "    }\n",
       "\n",
       "    .dataframe thead th {\n",
       "        text-align: right;\n",
       "    }\n",
       "</style>\n",
       "<table border=\"1\" class=\"dataframe\">\n",
       "  <thead>\n",
       "    <tr style=\"text-align: right;\">\n",
       "      <th></th>\n",
       "      <th>a</th>\n",
       "      <th>e1</th>\n",
       "      <th>b</th>\n",
       "      <th>e2</th>\n",
       "      <th>c</th>\n",
       "      <th>e3</th>\n",
       "      <th>d</th>\n",
       "      <th>e4</th>\n",
       "      <th>e</th>\n",
       "      <th>e5</th>\n",
       "      <th>f</th>\n",
       "      <th>e6</th>\n",
       "      <th>g</th>\n",
       "    </tr>\n",
       "  </thead>\n",
       "  <tbody>\n",
       "    <tr>\n",
       "      <th>0</th>\n",
       "      <td>(063fc5a9-02d0-4b48-8738-d4af953d55cd,)</td>\n",
       "      <td>(063fc5a9-02d0-4b48-8738-d4af953d55cd, 063fc5a...</td>\n",
       "      <td>(063fc5a9-02d0-4b48-8738-d4af953d55cd,)</td>\n",
       "      <td>(063fc5a9-02d0-4b48-8738-d4af953d55cd, 063fc5a...</td>\n",
       "      <td>(063fc5a9-02d0-4b48-8738-d4af953d55cd,)</td>\n",
       "      <td>(063fc5a9-02d0-4b48-8738-d4af953d55cd, 063fc5a...</td>\n",
       "      <td>(063fc5a9-02d0-4b48-8738-d4af953d55cd,)</td>\n",
       "      <td>(063fc5a9-02d0-4b48-8738-d4af953d55cd, 063fc5a...</td>\n",
       "      <td>(063fc5a9-02d0-4b48-8738-d4af953d55cd,)</td>\n",
       "      <td>(063fc5a9-02d0-4b48-8738-d4af953d55cd, 063fc5a...</td>\n",
       "      <td>(063fc5a9-02d0-4b48-8738-d4af953d55cd,)</td>\n",
       "      <td>(063fc5a9-02d0-4b48-8738-d4af953d55cd, 063fc5a...</td>\n",
       "      <td>(063fc5a9-02d0-4b48-8738-d4af953d55cd,)</td>\n",
       "    </tr>\n",
       "  </tbody>\n",
       "</table>\n",
       "</div>"
      ],
      "text/plain": [
       "                                         a  \\\n",
       "0  (063fc5a9-02d0-4b48-8738-d4af953d55cd,)   \n",
       "\n",
       "                                                  e1  \\\n",
       "0  (063fc5a9-02d0-4b48-8738-d4af953d55cd, 063fc5a...   \n",
       "\n",
       "                                         b  \\\n",
       "0  (063fc5a9-02d0-4b48-8738-d4af953d55cd,)   \n",
       "\n",
       "                                                  e2  \\\n",
       "0  (063fc5a9-02d0-4b48-8738-d4af953d55cd, 063fc5a...   \n",
       "\n",
       "                                         c  \\\n",
       "0  (063fc5a9-02d0-4b48-8738-d4af953d55cd,)   \n",
       "\n",
       "                                                  e3  \\\n",
       "0  (063fc5a9-02d0-4b48-8738-d4af953d55cd, 063fc5a...   \n",
       "\n",
       "                                         d  \\\n",
       "0  (063fc5a9-02d0-4b48-8738-d4af953d55cd,)   \n",
       "\n",
       "                                                  e4  \\\n",
       "0  (063fc5a9-02d0-4b48-8738-d4af953d55cd, 063fc5a...   \n",
       "\n",
       "                                         e  \\\n",
       "0  (063fc5a9-02d0-4b48-8738-d4af953d55cd,)   \n",
       "\n",
       "                                                  e5  \\\n",
       "0  (063fc5a9-02d0-4b48-8738-d4af953d55cd, 063fc5a...   \n",
       "\n",
       "                                         f  \\\n",
       "0  (063fc5a9-02d0-4b48-8738-d4af953d55cd,)   \n",
       "\n",
       "                                                  e6  \\\n",
       "0  (063fc5a9-02d0-4b48-8738-d4af953d55cd, 063fc5a...   \n",
       "\n",
       "                                         g  \n",
       "0  (063fc5a9-02d0-4b48-8738-d4af953d55cd,)  "
      ]
     },
     "execution_count": 59,
     "metadata": {},
     "output_type": "execute_result"
    }
   ],
   "source": [
    "graph_b.limit(1).toPandas()"
   ]
  },
  {
   "cell_type": "code",
   "execution_count": 101,
   "id": "3b8a4c93-25d3-4afe-8279-400b3505448c",
   "metadata": {
    "tags": []
   },
   "outputs": [],
   "source": [
    "#randomly select event traces from graph_mal\n",
    "graph_mal_sel = graph_mal.distinct().orderBy(rand()).limit(3382)"
   ]
  },
  {
   "cell_type": "code",
   "execution_count": 12,
   "id": "cd24833c-0e71-4d41-bc77-07097ff2ef9b",
   "metadata": {
    "tags": []
   },
   "outputs": [
    {
     "name": "stderr",
     "output_type": "stream",
     "text": [
      "                                                                                \r"
     ]
    },
    {
     "data": {
      "text/plain": [
       "3382"
      ]
     },
     "execution_count": 12,
     "metadata": {},
     "output_type": "execute_result"
    }
   ],
   "source": [
    "#check count\n",
    "graph_mal_sel.count()"
   ]
  },
  {
   "cell_type": "code",
   "execution_count": 102,
   "id": "632ecd21-6bfd-4409-b0f1-9102ecaf76b8",
   "metadata": {
    "tags": []
   },
   "outputs": [],
   "source": [
    "all_events = graph_mal_sel.union(graph_b)"
   ]
  },
  {
   "cell_type": "code",
   "execution_count": 103,
   "id": "6ae6013d-bc56-431c-b94e-0bb80360d361",
   "metadata": {
    "tags": []
   },
   "outputs": [
    {
     "name": "stdout",
     "output_type": "stream",
     "text": [
      "transposed explode: 0.5826127529144287\n"
     ]
    },
    {
     "name": "stderr",
     "output_type": "stream",
     "text": [
      "                                                                                \r"
     ]
    },
    {
     "name": "stdout",
     "output_type": "stream",
     "text": [
      "one-hot time: 11.336900472640991\n"
     ]
    },
    {
     "name": "stderr",
     "output_type": "stream",
     "text": [
      "                                                                                \r"
     ]
    },
    {
     "name": "stdout",
     "output_type": "stream",
     "text": [
      "total elapsed time: 14.083482027053833\n"
     ]
    }
   ],
   "source": [
    "df_total, map_total = trace_encode(all_events, ['object','action',\n",
    "             'image_path','parent_image_path'], output = 'vec')"
   ]
  },
  {
   "cell_type": "code",
   "execution_count": 104,
   "id": "6566dd14-8811-40d9-b127-58bf3f0a586c",
   "metadata": {
    "tags": []
   },
   "outputs": [
    {
     "data": {
      "text/plain": [
       "['powershell.exe',\n",
       " 'cmd.exe',\n",
       " 'conhost.exe',\n",
       " 'PING.EXE',\n",
       " 'taskkill.exe',\n",
       " 'SearchProtocolHost.exe',\n",
       " 'DllHost.exe',\n",
       " 'GoogleUpdate.exe',\n",
       " 'firefox.exe',\n",
       " 'svchost.exe',\n",
       " 'geckodriver.exe',\n",
       " 'python.EXE',\n",
       " 'python.exe',\n",
       " 'reg.exe',\n",
       " 'OneDriveSetup.exe',\n",
       " 'schtasks.exe',\n",
       " 'csrss.exe',\n",
       " 'services.exe',\n",
       " 'taskhostw.exe',\n",
       " 'EXCEL.EXE',\n",
       " 'sppsvc.exe',\n",
       " 'TiWorker.exe',\n",
       " 'TrustedInstaller.exe',\n",
       " 'WinStore.App.exe',\n",
       " 'winlogon.exe',\n",
       " 'sc.exe',\n",
       " 'AcroRd32.exe',\n",
       " 'Explorer.EXE',\n",
       " 'gpupdate.exe',\n",
       " 'msoia.exe',\n",
       " 'SearchFilterHost.exe',\n",
       " 'bcdedit.exe',\n",
       " 'InstallAgent.exe',\n",
       " 'mantra.exe',\n",
       " 'net.exe',\n",
       " 'csc.exe',\n",
       " 'fontdrvhost.exe']"
      ]
     },
     "execution_count": 104,
     "metadata": {},
     "output_type": "execute_result"
    }
   ],
   "source": [
    "map_total['image_path']"
   ]
  },
  {
   "cell_type": "code",
   "execution_count": 105,
   "id": "5e71c66d-52ad-4303-82f0-1cb0f76cf74b",
   "metadata": {
    "tags": []
   },
   "outputs": [
    {
     "data": {
      "text/plain": [
       "['powershell.exe',\n",
       " 'cmd.exe',\n",
       " 'conhost.exe',\n",
       " 'PING.EXE',\n",
       " 'wmiprvse.exe',\n",
       " 'taskkill.exe',\n",
       " 'SearchProtocolHost.exe',\n",
       " 'DllHost.exe',\n",
       " 'GoogleUpdate.exe',\n",
       " 'svchost.exe',\n",
       " 'firefox.exe',\n",
       " 'geckodriver.exe',\n",
       " 'python.exe',\n",
       " 'OneDriveSetup.exe',\n",
       " 'csrss.exe',\n",
       " 'schtasks.exe',\n",
       " 'python.EXE',\n",
       " 'services.exe',\n",
       " 'sppsvc.exe',\n",
       " 'EXCEL.EXE',\n",
       " 'taskhostw.exe',\n",
       " 'TiWorker.exe',\n",
       " 'TrustedInstaller.exe',\n",
       " 'winlogon.exe',\n",
       " 'WinStore.App.exe',\n",
       " 'reg.exe',\n",
       " 'sc.exe',\n",
       " 'Explorer.EXE',\n",
       " 'AcroRd32.exe',\n",
       " 'msoia.exe',\n",
       " 'SearchFilterHost.exe',\n",
       " 'bcdedit.exe',\n",
       " 'InstallAgent.exe',\n",
       " 'gpupdate.exe',\n",
       " 'mantra.exe',\n",
       " 'SearchIndexer.exe']"
      ]
     },
     "execution_count": 105,
     "metadata": {},
     "output_type": "execute_result"
    }
   ],
   "source": [
    "map_total['parent_image_path']"
   ]
  },
  {
   "cell_type": "code",
   "execution_count": 78,
   "id": "c3788c97-c63d-4a9b-ab49-6057fb910f32",
   "metadata": {
    "tags": []
   },
   "outputs": [
    {
     "name": "stderr",
     "output_type": "stream",
     "text": [
      "                                                                                \r"
     ]
    },
    {
     "name": "stdout",
     "output_type": "stream",
     "text": [
      "6764\n"
     ]
    },
    {
     "name": "stderr",
     "output_type": "stream",
     "text": [
      "                                                                                \r"
     ]
    },
    {
     "name": "stdout",
     "output_type": "stream",
     "text": [
      "3382\n"
     ]
    },
    {
     "name": "stderr",
     "output_type": "stream",
     "text": [
      "                                                                                \r"
     ]
    },
    {
     "name": "stdout",
     "output_type": "stream",
     "text": [
      "3382\n"
     ]
    }
   ],
   "source": [
    "print(df_total.count())\n",
    "print(df_total.where(col('malicious') == 1).count())\n",
    "print(df_total.where(col('malicious') == 0).count())"
   ]
  },
  {
   "cell_type": "code",
   "execution_count": 79,
   "id": "8d74378c-c809-421b-adc3-d18f06716f67",
   "metadata": {
    "tags": []
   },
   "outputs": [
    {
     "name": "stderr",
     "output_type": "stream",
     "text": [
      "                                                                                \r"
     ]
    },
    {
     "data": {
      "text/html": [
       "<div>\n",
       "<style scoped>\n",
       "    .dataframe tbody tr th:only-of-type {\n",
       "        vertical-align: middle;\n",
       "    }\n",
       "\n",
       "    .dataframe tbody tr th {\n",
       "        vertical-align: top;\n",
       "    }\n",
       "\n",
       "    .dataframe thead th {\n",
       "        text-align: right;\n",
       "    }\n",
       "</style>\n",
       "<table border=\"1\" class=\"dataframe\">\n",
       "  <thead>\n",
       "    <tr style=\"text-align: right;\">\n",
       "      <th></th>\n",
       "      <th>Trace</th>\n",
       "      <th>malicious</th>\n",
       "      <th>event_sequence</th>\n",
       "    </tr>\n",
       "  </thead>\n",
       "  <tbody>\n",
       "    <tr>\n",
       "      <th>0</th>\n",
       "      <td>8589934593</td>\n",
       "      <td>0</td>\n",
       "      <td>[100001000000000001000000000000000000000000000...</td>\n",
       "    </tr>\n",
       "  </tbody>\n",
       "</table>\n",
       "</div>"
      ],
      "text/plain": [
       "        Trace  malicious                                     event_sequence\n",
       "0  8589934593          0  [100001000000000001000000000000000000000000000..."
      ]
     },
     "execution_count": 79,
     "metadata": {},
     "output_type": "execute_result"
    }
   ],
   "source": [
    "df_total.where(col('malicious') == 0).limit(1).toPandas()"
   ]
  },
  {
   "cell_type": "code",
   "execution_count": 80,
   "id": "5633dccf-3bd4-4c96-b492-b21f351b6b80",
   "metadata": {
    "tags": []
   },
   "outputs": [
    {
     "name": "stderr",
     "output_type": "stream",
     "text": [
      "                                                                                \r"
     ]
    },
    {
     "data": {
      "text/html": [
       "<div>\n",
       "<style scoped>\n",
       "    .dataframe tbody tr th:only-of-type {\n",
       "        vertical-align: middle;\n",
       "    }\n",
       "\n",
       "    .dataframe tbody tr th {\n",
       "        vertical-align: top;\n",
       "    }\n",
       "\n",
       "    .dataframe thead th {\n",
       "        text-align: right;\n",
       "    }\n",
       "</style>\n",
       "<table border=\"1\" class=\"dataframe\">\n",
       "  <thead>\n",
       "    <tr style=\"text-align: right;\">\n",
       "      <th></th>\n",
       "      <th>Trace</th>\n",
       "      <th>malicious</th>\n",
       "      <th>event_sequence</th>\n",
       "    </tr>\n",
       "  </thead>\n",
       "  <tbody>\n",
       "    <tr>\n",
       "      <th>0</th>\n",
       "      <td>1</td>\n",
       "      <td>1</td>\n",
       "      <td>[100010000000001000000000000000000000000000000...</td>\n",
       "    </tr>\n",
       "  </tbody>\n",
       "</table>\n",
       "</div>"
      ],
      "text/plain": [
       "   Trace  malicious                                     event_sequence\n",
       "0      1          1  [100010000000001000000000000000000000000000000..."
      ]
     },
     "execution_count": 80,
     "metadata": {},
     "output_type": "execute_result"
    }
   ],
   "source": [
    "df_total.where(col('malicious') == 1).limit(1).toPandas()"
   ]
  },
  {
   "cell_type": "code",
   "execution_count": 83,
   "id": "a4ec283e-1859-466d-acdf-34dd40340689",
   "metadata": {
    "tags": []
   },
   "outputs": [
    {
     "name": "stderr",
     "output_type": "stream",
     "text": [
      "                                                                                \r"
     ]
    },
    {
     "data": {
      "text/plain": [
       "91"
      ]
     },
     "execution_count": 83,
     "metadata": {},
     "output_type": "execute_result"
    }
   ],
   "source": [
    "len(df_total.where(col('malicious') == 0).limit(1).toPandas()['event_sequence'][0][0])"
   ]
  },
  {
   "cell_type": "code",
   "execution_count": 84,
   "id": "ba5a4872-cf3f-4710-a824-1a8fdaae8c3d",
   "metadata": {
    "tags": []
   },
   "outputs": [
    {
     "name": "stderr",
     "output_type": "stream",
     "text": [
      "                                                                                \r"
     ]
    },
    {
     "data": {
      "text/plain": [
       "91"
      ]
     },
     "execution_count": 84,
     "metadata": {},
     "output_type": "execute_result"
    }
   ],
   "source": [
    "len(df_total.where(col('malicious') == 1).limit(1).toPandas()['event_sequence'][0][0])"
   ]
  },
  {
   "cell_type": "code",
   "execution_count": 61,
   "id": "674fbd93-7525-4204-af39-96a3af086231",
   "metadata": {
    "tags": []
   },
   "outputs": [
    {
     "name": "stdout",
     "output_type": "stream",
     "text": [
      "transposed explode: 0.2352433204650879\n"
     ]
    },
    {
     "name": "stderr",
     "output_type": "stream",
     "text": [
      "                                                                                \r"
     ]
    },
    {
     "name": "stdout",
     "output_type": "stream",
     "text": [
      "one-hot time: 6.5506391525268555\n"
     ]
    },
    {
     "name": "stderr",
     "output_type": "stream",
     "text": [
      "                                                                                \r"
     ]
    },
    {
     "name": "stdout",
     "output_type": "stream",
     "text": [
      "total elapsed time: 8.141122102737427\n"
     ]
    },
    {
     "name": "stderr",
     "output_type": "stream",
     "text": [
      "                                                                                \r"
     ]
    },
    {
     "data": {
      "text/plain": [
       "0    [100010000000100000001000, 1000100000001000000...\n",
       "Name: event_sequence, dtype: object"
      ]
     },
     "execution_count": 61,
     "metadata": {},
     "output_type": "execute_result"
    }
   ],
   "source": [
    "#process everything\n",
    "te_m = trace_encode(graph_mal_sel, ['object','action',\n",
    "             'image_path','parent_image_path'], output = 'vec')\n",
    "te_m[0].limit(1).toPandas()['event_sequence']"
   ]
  },
  {
   "cell_type": "code",
   "execution_count": 85,
   "id": "870cc8b8-451d-4927-88e4-8e53088553d7",
   "metadata": {
    "tags": []
   },
   "outputs": [
    {
     "name": "stderr",
     "output_type": "stream",
     "text": [
      "                                                                                \r"
     ]
    },
    {
     "name": "stdout",
     "output_type": "stream",
     "text": [
      "24\n"
     ]
    },
    {
     "name": "stderr",
     "output_type": "stream",
     "text": [
      "[Stage 13132:>                                                      (0 + 1) / 1]\r"
     ]
    },
    {
     "name": "stdout",
     "output_type": "stream",
     "text": [
      "82\n"
     ]
    },
    {
     "name": "stderr",
     "output_type": "stream",
     "text": [
      "                                                                                \r"
     ]
    }
   ],
   "source": [
    "print(len(te_m[0].limit(1).toPandas()['event_sequence'][0][0]))\n",
    "print(len(te_b[0].limit(1).toPandas()['event_sequence'][0][0]))"
   ]
  },
  {
   "cell_type": "code",
   "execution_count": 62,
   "id": "2e3584b0-4445-4d21-bd4a-1054087a5493",
   "metadata": {
    "tags": []
   },
   "outputs": [
    {
     "name": "stdout",
     "output_type": "stream",
     "text": [
      "transposed explode: 0.43525028228759766\n",
      "one-hot time: 4.052865505218506\n",
      "total elapsed time: 5.023257493972778\n"
     ]
    },
    {
     "name": "stderr",
     "output_type": "stream",
     "text": [
      "                                                                                \r"
     ]
    },
    {
     "data": {
      "text/plain": [
       "0    [100010000000001000000000000000000000000000000...\n",
       "Name: event_sequence, dtype: object"
      ]
     },
     "execution_count": 62,
     "metadata": {},
     "output_type": "execute_result"
    }
   ],
   "source": [
    "#process everything\n",
    "te_b = trace_encode(graph_b, ['object','action',\n",
    "             'image_path','parent_image_path'], output = 'vec')\n",
    "te_b[0].limit(1).toPandas()['event_sequence']"
   ]
  },
  {
   "cell_type": "code",
   "execution_count": 63,
   "id": "93d02e79-104a-4e2b-84cd-7833056b0be2",
   "metadata": {
    "tags": []
   },
   "outputs": [
    {
     "name": "stdout",
     "output_type": "stream",
     "text": [
      "transposed explode: 0.2649877071380615\n",
      "one-hot time: 1.5210518836975098\n",
      "total elapsed time: 1.8901464939117432\n"
     ]
    },
    {
     "name": "stderr",
     "output_type": "stream",
     "text": [
      "                                                                                \r"
     ]
    },
    {
     "data": {
      "text/plain": [
       "0    [100010000001000000000000000000000000001000000...\n",
       "Name: event_sequence, dtype: object"
      ]
     },
     "execution_count": 63,
     "metadata": {},
     "output_type": "execute_result"
    }
   ],
   "source": [
    "te_b2 = trace_encode(graph_b_4b, ['object','action',\n",
    "             'image_path','parent_image_path'], output = 'vec')\n",
    "te_b2[0].limit(1).toPandas()['event_sequence']"
   ]
  },
  {
   "cell_type": "code",
   "execution_count": 50,
   "id": "cb7862e8-ae5e-4f7e-8b43-9aa07a221087",
   "metadata": {
    "tags": []
   },
   "outputs": [
    {
     "name": "stdout",
     "output_type": "stream",
     "text": [
      "3382\n"
     ]
    },
    {
     "name": "stderr",
     "output_type": "stream",
     "text": [
      "                                                                                \r"
     ]
    },
    {
     "data": {
      "text/html": [
       "<div>\n",
       "<style scoped>\n",
       "    .dataframe tbody tr th:only-of-type {\n",
       "        vertical-align: middle;\n",
       "    }\n",
       "\n",
       "    .dataframe tbody tr th {\n",
       "        vertical-align: top;\n",
       "    }\n",
       "\n",
       "    .dataframe thead th {\n",
       "        text-align: right;\n",
       "    }\n",
       "</style>\n",
       "<table border=\"1\" class=\"dataframe\">\n",
       "  <thead>\n",
       "    <tr style=\"text-align: right;\">\n",
       "      <th></th>\n",
       "      <th>Trace</th>\n",
       "      <th>malicious</th>\n",
       "      <th>event_sequence</th>\n",
       "    </tr>\n",
       "  </thead>\n",
       "  <tbody>\n",
       "    <tr>\n",
       "      <th>0</th>\n",
       "      <td>1</td>\n",
       "      <td>0</td>\n",
       "      <td>[100010000000001000000000000000000000000000000...</td>\n",
       "    </tr>\n",
       "    <tr>\n",
       "      <th>1</th>\n",
       "      <td>2</td>\n",
       "      <td>0</td>\n",
       "      <td>[100100000000010000000000000000000000000000000...</td>\n",
       "    </tr>\n",
       "  </tbody>\n",
       "</table>\n",
       "</div>"
      ],
      "text/plain": [
       "   Trace  malicious                                     event_sequence\n",
       "0      1          0  [100010000000001000000000000000000000000000000...\n",
       "1      2          0  [100100000000010000000000000000000000000000000..."
      ]
     },
     "execution_count": 50,
     "metadata": {},
     "output_type": "execute_result"
    }
   ],
   "source": [
    "print(te_b[0].count())\n",
    "te_b[0].limit(2).toPandas()"
   ]
  },
  {
   "cell_type": "code",
   "execution_count": 51,
   "id": "ce9eb3f7-7f2a-41b8-ab1e-9820404e65b8",
   "metadata": {
    "tags": []
   },
   "outputs": [
    {
     "name": "stderr",
     "output_type": "stream",
     "text": [
      "                                                                                \r"
     ]
    },
    {
     "name": "stdout",
     "output_type": "stream",
     "text": [
      "3382\n"
     ]
    },
    {
     "name": "stderr",
     "output_type": "stream",
     "text": [
      "                                                                                \r"
     ]
    },
    {
     "data": {
      "text/html": [
       "<div>\n",
       "<style scoped>\n",
       "    .dataframe tbody tr th:only-of-type {\n",
       "        vertical-align: middle;\n",
       "    }\n",
       "\n",
       "    .dataframe tbody tr th {\n",
       "        vertical-align: top;\n",
       "    }\n",
       "\n",
       "    .dataframe thead th {\n",
       "        text-align: right;\n",
       "    }\n",
       "</style>\n",
       "<table border=\"1\" class=\"dataframe\">\n",
       "  <thead>\n",
       "    <tr style=\"text-align: right;\">\n",
       "      <th></th>\n",
       "      <th>Trace</th>\n",
       "      <th>malicious</th>\n",
       "      <th>event_sequence</th>\n",
       "    </tr>\n",
       "  </thead>\n",
       "  <tbody>\n",
       "    <tr>\n",
       "      <th>0</th>\n",
       "      <td>1</td>\n",
       "      <td>1</td>\n",
       "      <td>[100010000000100000001000, 1000100000001000000...</td>\n",
       "    </tr>\n",
       "    <tr>\n",
       "      <th>1</th>\n",
       "      <td>2</td>\n",
       "      <td>1</td>\n",
       "      <td>[100001000000100000000100, 1000100000001000000...</td>\n",
       "    </tr>\n",
       "  </tbody>\n",
       "</table>\n",
       "</div>"
      ],
      "text/plain": [
       "   Trace  malicious                                     event_sequence\n",
       "0      1          1  [100010000000100000001000, 1000100000001000000...\n",
       "1      2          1  [100001000000100000000100, 1000100000001000000..."
      ]
     },
     "execution_count": 51,
     "metadata": {},
     "output_type": "execute_result"
    }
   ],
   "source": [
    "print(te_m[0].count())\n",
    "te_m[0].limit(2).toPandas()"
   ]
  },
  {
   "cell_type": "code",
   "execution_count": 64,
   "id": "16fd4fc2-f87c-43d0-ae9a-8d42c93939de",
   "metadata": {
    "tags": []
   },
   "outputs": [
    {
     "name": "stderr",
     "output_type": "stream",
     "text": [
      "                                                                                \r"
     ]
    },
    {
     "name": "stdout",
     "output_type": "stream",
     "text": [
      "6764\n"
     ]
    },
    {
     "name": "stderr",
     "output_type": "stream",
     "text": [
      "                                                                                \r"
     ]
    },
    {
     "name": "stdout",
     "output_type": "stream",
     "text": [
      "3382\n"
     ]
    },
    {
     "name": "stderr",
     "output_type": "stream",
     "text": [
      "                                                                                \r"
     ]
    },
    {
     "name": "stdout",
     "output_type": "stream",
     "text": [
      "3382\n"
     ]
    },
    {
     "name": "stderr",
     "output_type": "stream",
     "text": [
      "                                                                                \r"
     ]
    },
    {
     "data": {
      "text/html": [
       "<div>\n",
       "<style scoped>\n",
       "    .dataframe tbody tr th:only-of-type {\n",
       "        vertical-align: middle;\n",
       "    }\n",
       "\n",
       "    .dataframe tbody tr th {\n",
       "        vertical-align: top;\n",
       "    }\n",
       "\n",
       "    .dataframe thead th {\n",
       "        text-align: right;\n",
       "    }\n",
       "</style>\n",
       "<table border=\"1\" class=\"dataframe\">\n",
       "  <thead>\n",
       "    <tr style=\"text-align: right;\">\n",
       "      <th></th>\n",
       "      <th>Trace</th>\n",
       "      <th>malicious</th>\n",
       "      <th>event_sequence</th>\n",
       "    </tr>\n",
       "  </thead>\n",
       "  <tbody>\n",
       "    <tr>\n",
       "      <th>0</th>\n",
       "      <td>1</td>\n",
       "      <td>0</td>\n",
       "      <td>[100010000000001000000000000000000000000000000...</td>\n",
       "    </tr>\n",
       "    <tr>\n",
       "      <th>1</th>\n",
       "      <td>2</td>\n",
       "      <td>0</td>\n",
       "      <td>[100100000000010000000000000000000000000000000...</td>\n",
       "    </tr>\n",
       "  </tbody>\n",
       "</table>\n",
       "</div>"
      ],
      "text/plain": [
       "   Trace  malicious                                     event_sequence\n",
       "0      1          0  [100010000000001000000000000000000000000000000...\n",
       "1      2          0  [100100000000010000000000000000000000000000000..."
      ]
     },
     "execution_count": 64,
     "metadata": {},
     "output_type": "execute_result"
    }
   ],
   "source": [
    "#first combine both te dfs\n",
    "df_all = te_b[0].unionByName(te_m[0])\n",
    "print(df_all.count())\n",
    "print(df_all.where(col('malicious') == 1).count())\n",
    "print(df_all.where(col('malicious') == 0).count())\n",
    "df_all.limit(2).toPandas()"
   ]
  },
  {
   "cell_type": "code",
   "execution_count": 30,
   "id": "0c4357e6-c16b-4eee-b70b-9e8d0b2e1323",
   "metadata": {
    "tags": []
   },
   "outputs": [],
   "source": [
    "#first expand vector list into one string (TODO: do this earlier)\n",
    "str_create_udf = udf(lambda l: ' '.join(l), StringType())\n",
    "# Convert the \"event_sequence\" column into a string\n",
    "df_all = df_all.withColumn(\"event_sequence_str\", str_create_udf(df_all[\"event_sequence\"]))\n",
    "#df_all = df_all.drop('event_sequence')"
   ]
  },
  {
   "cell_type": "code",
   "execution_count": 27,
   "id": "07b57c32-c140-42a2-80b1-a60eb043bffc",
   "metadata": {
    "tags": []
   },
   "outputs": [],
   "source": [
    "from pyspark.ml.classification import NaiveBayes\n",
    "from pyspark.ml.feature import CountVectorizer"
   ]
  },
  {
   "cell_type": "code",
   "execution_count": 86,
   "id": "15eaae5f-4d52-44e4-8cec-ee583f2050b5",
   "metadata": {
    "tags": []
   },
   "outputs": [
    {
     "name": "stderr",
     "output_type": "stream",
     "text": [
      "                                                                                \r"
     ]
    }
   ],
   "source": [
    "# Use CountVectorizer to convert the \"event_sequence_str\" column into a feature vector\n",
    "cv = CountVectorizer(inputCol=\"event_sequence\", outputCol=\"features\")\n",
    "model = cv.fit(df_total)\n",
    "df_all = model.transform(df_total)"
   ]
  },
  {
   "cell_type": "code",
   "execution_count": 87,
   "id": "cb8ddb0e-0d6d-4a7d-93ed-03010a976fe6",
   "metadata": {
    "tags": []
   },
   "outputs": [
    {
     "name": "stderr",
     "output_type": "stream",
     "text": [
      "[Stage 13637:>                                                      (0 + 1) / 1]\r"
     ]
    },
    {
     "name": "stdout",
     "output_type": "stream",
     "text": [
      "+-----+---------+--------------------+--------------------+\n",
      "|Trace|malicious|      event_sequence|            features|\n",
      "+-----+---------+--------------------+--------------------+\n",
      "|    1|        1|[1000100000000010...|(99,[0,4,5],[4.0,...|\n",
      "|    2|        1|[1000001000000010...|(99,[0,4,5],[4.0,...|\n",
      "+-----+---------+--------------------+--------------------+\n",
      "\n"
     ]
    },
    {
     "name": "stderr",
     "output_type": "stream",
     "text": [
      "                                                                                \r"
     ]
    }
   ],
   "source": [
    "#just kidding turns out you need a string array, onto the train test split but first let me take a peek\n",
    "df_all.limit(2).show() "
   ]
  },
  {
   "cell_type": "code",
   "execution_count": 69,
   "id": "60c62ffe-ecb3-4b07-b79f-4b5260655860",
   "metadata": {
    "tags": []
   },
   "outputs": [
    {
     "name": "stderr",
     "output_type": "stream",
     "text": [
      "                                                                                \r"
     ]
    },
    {
     "name": "stdout",
     "output_type": "stream",
     "text": [
      "3382\n"
     ]
    },
    {
     "name": "stderr",
     "output_type": "stream",
     "text": [
      "[Stage 8381:===========>(196 + 4) / 200][Stage 8385:>               (0 + 1) / 1]\r"
     ]
    },
    {
     "name": "stdout",
     "output_type": "stream",
     "text": [
      "3382\n"
     ]
    },
    {
     "name": "stderr",
     "output_type": "stream",
     "text": [
      "                                                                                \r"
     ]
    }
   ],
   "source": [
    "print(df_all.where(col('malicious') == 1).count())\n",
    "print(df_all.where(col('malicious') == 0).count())"
   ]
  },
  {
   "cell_type": "code",
   "execution_count": 88,
   "id": "f1bf2e54-294f-4b36-ba59-743986d33380",
   "metadata": {
    "tags": []
   },
   "outputs": [],
   "source": [
    "#split everything for train test split then re-attach\n",
    "df_m = df_all.where(col('malicious') == 1)\n",
    "df_b = df_all.where(col('malicious') == 0)\n",
    "(train_m, test_m) = df_m.randomSplit([0.7, 0.3])\n",
    "(train_b, test_b) = df_b.randomSplit([0.7, 0.3])\n",
    "train_all = train_m.union(train_b)\n",
    "test_all = test_m.union(test_b)\n",
    "\n",
    "\n"
   ]
  },
  {
   "cell_type": "code",
   "execution_count": 89,
   "id": "02bfb81a-4322-4582-97ee-c68bf9dbd610",
   "metadata": {
    "tags": []
   },
   "outputs": [],
   "source": [
    "retrain, retest = df_all.randomSplit([0.7, 0.3])"
   ]
  },
  {
   "cell_type": "code",
   "execution_count": 90,
   "id": "d3b503a9-eecf-44f2-95b3-49308630e26a",
   "metadata": {
    "tags": []
   },
   "outputs": [
    {
     "name": "stderr",
     "output_type": "stream",
     "text": [
      "                                                                                \r"
     ]
    }
   ],
   "source": [
    "#train the model\n",
    "nb = NaiveBayes(featuresCol=\"features\", labelCol=\"malicious\")\n",
    "nbModel = nb.fit(train_all)"
   ]
  },
  {
   "cell_type": "code",
   "execution_count": 91,
   "id": "a7b528e2-9e56-4e84-b47a-9432d0af29b2",
   "metadata": {
    "tags": []
   },
   "outputs": [],
   "source": [
    "#develop predictions using model\n",
    "pred = nbModel.transform(test_all)"
   ]
  },
  {
   "cell_type": "code",
   "execution_count": 73,
   "id": "1e0d8eec-1078-4997-b4e0-013f8c93e147",
   "metadata": {
    "collapsed": true,
    "jupyter": {
     "outputs_hidden": true
    },
    "tags": []
   },
   "outputs": [
    {
     "name": "stderr",
     "output_type": "stream",
     "text": [
      "                                                                                \r"
     ]
    },
    {
     "data": {
      "text/html": [
       "<div>\n",
       "<style scoped>\n",
       "    .dataframe tbody tr th:only-of-type {\n",
       "        vertical-align: middle;\n",
       "    }\n",
       "\n",
       "    .dataframe tbody tr th {\n",
       "        vertical-align: top;\n",
       "    }\n",
       "\n",
       "    .dataframe thead th {\n",
       "        text-align: right;\n",
       "    }\n",
       "</style>\n",
       "<table border=\"1\" class=\"dataframe\">\n",
       "  <thead>\n",
       "    <tr style=\"text-align: right;\">\n",
       "      <th></th>\n",
       "      <th>Trace</th>\n",
       "      <th>malicious</th>\n",
       "      <th>event_sequence</th>\n",
       "      <th>features</th>\n",
       "      <th>rawPrediction</th>\n",
       "      <th>probability</th>\n",
       "      <th>prediction</th>\n",
       "    </tr>\n",
       "  </thead>\n",
       "  <tbody>\n",
       "    <tr>\n",
       "      <th>0</th>\n",
       "      <td>3</td>\n",
       "      <td>0</td>\n",
       "      <td>[100010000000100000000000000000000000000000000...</td>\n",
       "      <td>(0.0, 6.0, 0.0, 0.0, 0.0, 0.0, 0.0, 0.0, 0.0, ...</td>\n",
       "      <td>[-9.25832875179826, -58.11690855625178]</td>\n",
       "      <td>[1.0, 6.039324943717724e-22]</td>\n",
       "      <td>0.0</td>\n",
       "    </tr>\n",
       "    <tr>\n",
       "      <th>1</th>\n",
       "      <td>9</td>\n",
       "      <td>0</td>\n",
       "      <td>[100100000000000000100000000000000000000000000...</td>\n",
       "      <td>(0.0, 0.0, 0.0, 0.0, 0.0, 0.0, 0.0, 0.0, 0.0, ...</td>\n",
       "      <td>[-29.265416651545117, -58.11690855625177]</td>\n",
       "      <td>[0.9999999999997049, 2.9509120858695996e-13]</td>\n",
       "      <td>0.0</td>\n",
       "    </tr>\n",
       "    <tr>\n",
       "      <th>2</th>\n",
       "      <td>12</td>\n",
       "      <td>0</td>\n",
       "      <td>[100100000000000000100000000000000000000000000...</td>\n",
       "      <td>(0.0, 0.0, 0.0, 0.0, 0.0, 0.0, 0.0, 0.0, 0.0, ...</td>\n",
       "      <td>[-29.265416651545117, -58.11690855625177]</td>\n",
       "      <td>[0.9999999999997049, 2.9509120858695996e-13]</td>\n",
       "      <td>0.0</td>\n",
       "    </tr>\n",
       "    <tr>\n",
       "      <th>3</th>\n",
       "      <td>15</td>\n",
       "      <td>0</td>\n",
       "      <td>[100100000000000000100000000000000000000000000...</td>\n",
       "      <td>(0.0, 0.0, 0.0, 0.0, 0.0, 0.0, 0.0, 0.0, 0.0, ...</td>\n",
       "      <td>[-30.151170659559188, -58.11690855625177]</td>\n",
       "      <td>[0.9999999999992844, 7.155407125507849e-13]</td>\n",
       "      <td>0.0</td>\n",
       "    </tr>\n",
       "    <tr>\n",
       "      <th>4</th>\n",
       "      <td>16</td>\n",
       "      <td>0</td>\n",
       "      <td>[100100000000000000100000000000000000000000000...</td>\n",
       "      <td>(0.0, 0.0, 0.0, 0.0, 0.0, 0.0, 0.0, 0.0, 0.0, ...</td>\n",
       "      <td>[-26.14383747432672, -58.11690855625177]</td>\n",
       "      <td>[0.9999999999999869, 1.3009831137296168e-14]</td>\n",
       "      <td>0.0</td>\n",
       "    </tr>\n",
       "  </tbody>\n",
       "</table>\n",
       "</div>"
      ],
      "text/plain": [
       "   Trace  malicious                                     event_sequence  \\\n",
       "0      3          0  [100010000000100000000000000000000000000000000...   \n",
       "1      9          0  [100100000000000000100000000000000000000000000...   \n",
       "2     12          0  [100100000000000000100000000000000000000000000...   \n",
       "3     15          0  [100100000000000000100000000000000000000000000...   \n",
       "4     16          0  [100100000000000000100000000000000000000000000...   \n",
       "\n",
       "                                            features  \\\n",
       "0  (0.0, 6.0, 0.0, 0.0, 0.0, 0.0, 0.0, 0.0, 0.0, ...   \n",
       "1  (0.0, 0.0, 0.0, 0.0, 0.0, 0.0, 0.0, 0.0, 0.0, ...   \n",
       "2  (0.0, 0.0, 0.0, 0.0, 0.0, 0.0, 0.0, 0.0, 0.0, ...   \n",
       "3  (0.0, 0.0, 0.0, 0.0, 0.0, 0.0, 0.0, 0.0, 0.0, ...   \n",
       "4  (0.0, 0.0, 0.0, 0.0, 0.0, 0.0, 0.0, 0.0, 0.0, ...   \n",
       "\n",
       "                               rawPrediction  \\\n",
       "0    [-9.25832875179826, -58.11690855625178]   \n",
       "1  [-29.265416651545117, -58.11690855625177]   \n",
       "2  [-29.265416651545117, -58.11690855625177]   \n",
       "3  [-30.151170659559188, -58.11690855625177]   \n",
       "4   [-26.14383747432672, -58.11690855625177]   \n",
       "\n",
       "                                    probability  prediction  \n",
       "0                  [1.0, 6.039324943717724e-22]         0.0  \n",
       "1  [0.9999999999997049, 2.9509120858695996e-13]         0.0  \n",
       "2  [0.9999999999997049, 2.9509120858695996e-13]         0.0  \n",
       "3   [0.9999999999992844, 7.155407125507849e-13]         0.0  \n",
       "4  [0.9999999999999869, 1.3009831137296168e-14]         0.0  "
      ]
     },
     "execution_count": 73,
     "metadata": {},
     "output_type": "execute_result"
    }
   ],
   "source": [
    "pred.limit(5).toPandas()"
   ]
  },
  {
   "cell_type": "code",
   "execution_count": 92,
   "id": "5db00bab-12f1-4548-828f-a056f1f10dc8",
   "metadata": {
    "tags": []
   },
   "outputs": [
    {
     "name": "stderr",
     "output_type": "stream",
     "text": [
      "                                                                                \r"
     ]
    },
    {
     "name": "stdout",
     "output_type": "stream",
     "text": [
      "Test set accuracy = 0.9975550122249389\n"
     ]
    },
    {
     "name": "stderr",
     "output_type": "stream",
     "text": [
      "                                                                                \r"
     ]
    },
    {
     "name": "stdout",
     "output_type": "stream",
     "text": [
      "Test set weightedPrecision = 0.9975666550238678\n"
     ]
    },
    {
     "name": "stderr",
     "output_type": "stream",
     "text": [
      "[Stage 14938:>                                                      (0 + 1) / 1]\r"
     ]
    },
    {
     "name": "stdout",
     "output_type": "stream",
     "text": [
      "Test set weightedRecall = 0.9975550122249388\n"
     ]
    },
    {
     "name": "stderr",
     "output_type": "stream",
     "text": [
      "                                                                                \r"
     ]
    }
   ],
   "source": [
    "# Evaluate the performance of the classifier\n",
    "from pyspark.ml.evaluation import MulticlassClassificationEvaluator\n",
    "for metric in [\"accuracy\", \"weightedPrecision\",\"weightedRecall\"]: \n",
    "    evaluator = MulticlassClassificationEvaluator(labelCol=\"malicious\", predictionCol=\"prediction\",\n",
    "                                                  metricName=metric)\n",
    "    results = evaluator.evaluate(pred)\n",
    "    print(\"Test set \" + metric+\" = \" + str(results))"
   ]
  },
  {
   "cell_type": "code",
   "execution_count": 93,
   "id": "7331f910-3400-4e9f-9378-ce30c621bb99",
   "metadata": {
    "tags": []
   },
   "outputs": [
    {
     "name": "stderr",
     "output_type": "stream",
     "text": [
      "                                                                                \r"
     ]
    },
    {
     "name": "stdout",
     "output_type": "stream",
     "text": [
      "Re-test set accuracy = 0.9980879541108987\n"
     ]
    },
    {
     "name": "stderr",
     "output_type": "stream",
     "text": [
      "                                                                                \r"
     ]
    },
    {
     "name": "stdout",
     "output_type": "stream",
     "text": [
      "Re-test set weightedPrecision = 0.9980951830178517\n"
     ]
    },
    {
     "name": "stderr",
     "output_type": "stream",
     "text": [
      "[Stage 16187:>                                                      (0 + 1) / 1]\r"
     ]
    },
    {
     "name": "stdout",
     "output_type": "stream",
     "text": [
      "Re-test set weightedRecall = 0.9980879541108987\n"
     ]
    },
    {
     "name": "stderr",
     "output_type": "stream",
     "text": [
      "                                                                                \r"
     ]
    }
   ],
   "source": [
    "#train the model\n",
    "nb = NaiveBayes(featuresCol=\"features\", labelCol=\"malicious\")\n",
    "nbModel = nb.fit(retrain)\n",
    "#develop predictions using model\n",
    "repred = nbModel.transform(retest)\n",
    "# Evaluate the performance of the classifier\n",
    "from pyspark.ml.evaluation import MulticlassClassificationEvaluator\n",
    "for metric in [\"accuracy\", \"weightedPrecision\",\"weightedRecall\"]: \n",
    "    evaluator = MulticlassClassificationEvaluator(labelCol=\"malicious\", predictionCol=\"prediction\",\n",
    "                                                  metricName=metric)\n",
    "    results = evaluator.evaluate(repred)\n",
    "    print(\"Re-test set \" + metric+\" = \" + str(results))"
   ]
  },
  {
   "cell_type": "markdown",
   "id": "65993877-496e-40d2-937f-328d0e63c419",
   "metadata": {},
   "source": [
    "## run reference model with new data. first read in the data\n"
   ]
  },
  {
   "cell_type": "code",
   "execution_count": 1,
   "id": "ce28157e-d78e-47c0-85e2-0545c71b8933",
   "metadata": {
    "collapsed": true,
    "jupyter": {
     "outputs_hidden": true
    },
    "tags": []
   },
   "outputs": [
    {
     "name": "stderr",
     "output_type": "stream",
     "text": [
      "Warning: Ignoring non-Spark config property: fs.s3a.access.key\n",
      "Warning: Ignoring non-Spark config property: fs.s3a.secret.key\n"
     ]
    },
    {
     "name": "stdout",
     "output_type": "stream",
     "text": [
      ":: loading settings :: url = jar:file:/home/ec2-user/anaconda3/envs/python3/lib/python3.10/site-packages/pyspark/jars/ivy-2.5.0.jar!/org/apache/ivy/core/settings/ivysettings.xml\n"
     ]
    },
    {
     "name": "stderr",
     "output_type": "stream",
     "text": [
      "Ivy Default Cache set to: /home/ec2-user/.ivy2/cache\n",
      "The jars for the packages stored in: /home/ec2-user/.ivy2/jars\n",
      "graphframes#graphframes added as a dependency\n",
      ":: resolving dependencies :: org.apache.spark#spark-submit-parent-57cc1c93-f00a-40d3-b237-b9aed874e309;1.0\n",
      "\tconfs: [default]\n",
      "\tfound graphframes#graphframes;0.8.2-spark3.2-s_2.12 in spark-packages\n",
      "\tfound org.slf4j#slf4j-api;1.7.16 in central\n",
      "downloading https://repos.spark-packages.org/graphframes/graphframes/0.8.2-spark3.2-s_2.12/graphframes-0.8.2-spark3.2-s_2.12.jar ...\n",
      "\t[SUCCESSFUL ] graphframes#graphframes;0.8.2-spark3.2-s_2.12!graphframes.jar (41ms)\n",
      "downloading https://repo1.maven.org/maven2/org/slf4j/slf4j-api/1.7.16/slf4j-api-1.7.16.jar ...\n",
      "\t[SUCCESSFUL ] org.slf4j#slf4j-api;1.7.16!slf4j-api.jar (28ms)\n",
      ":: resolution report :: resolve 587ms :: artifacts dl 71ms\n",
      "\t:: modules in use:\n",
      "\tgraphframes#graphframes;0.8.2-spark3.2-s_2.12 from spark-packages in [default]\n",
      "\torg.slf4j#slf4j-api;1.7.16 from central in [default]\n",
      "\t---------------------------------------------------------------------\n",
      "\t|                  |            modules            ||   artifacts   |\n",
      "\t|       conf       | number| search|dwnlded|evicted|| number|dwnlded|\n",
      "\t---------------------------------------------------------------------\n",
      "\t|      default     |   2   |   2   |   2   |   0   ||   2   |   2   |\n",
      "\t---------------------------------------------------------------------\n",
      ":: retrieving :: org.apache.spark#spark-submit-parent-57cc1c93-f00a-40d3-b237-b9aed874e309\n",
      "\tconfs: [default]\n",
      "\t2 artifacts copied, 0 already retrieved (281kB/6ms)\n"
     ]
    },
    {
     "name": "stdout",
     "output_type": "stream",
     "text": [
      "23/03/31 23:33:17 WARN NativeCodeLoader: Unable to load native-hadoop library for your platform... using builtin-java classes where applicable\n"
     ]
    },
    {
     "name": "stderr",
     "output_type": "stream",
     "text": [
      "Setting default log level to \"WARN\".\n",
      "To adjust logging level use sc.setLogLevel(newLevel). For SparkR, use setLogLevel(newLevel).\n"
     ]
    },
    {
     "name": "stdout",
     "output_type": "stream",
     "text": [
      "23/03/31 23:33:18 WARN SparkConf: Note that spark.local.dir will be overridden by the value set by the cluster manager (via SPARK_LOCAL_DIRS in mesos/standalone/kubernetes and LOCAL_DIRS in YARN).\n"
     ]
    },
    {
     "name": "stderr",
     "output_type": "stream",
     "text": [
      "                                                                                \r"
     ]
    }
   ],
   "source": [
    "%run ./read_file.ipynb\n",
    "s3_url_trusted = \"s3a://sapient-bucket-trusted/\"\n",
    "trace_23_3 = spark.read.parquet(f\"{s3_url_trusted}/prod/graph/encoded/real/23Sep3\").drop('malicious').cache()"
   ]
  },
  {
   "cell_type": "code",
   "execution_count": 3,
   "id": "3a288af5-d4a3-45ca-a2a6-430fc97df833",
   "metadata": {
    "tags": []
   },
   "outputs": [
    {
     "name": "stdout",
     "output_type": "stream",
     "text": [
      "root\n",
      " |-- Trace: long (nullable = true)\n",
      " |-- mal_trace: integer (nullable = true)\n",
      " |-- event_sequence: array (nullable = true)\n",
      " |    |-- element: string (containsNull = true)\n",
      "\n"
     ]
    }
   ],
   "source": [
    "trace_23_3.printSchema()"
   ]
  },
  {
   "cell_type": "code",
   "execution_count": 4,
   "id": "7f0a4feb-fa54-481a-b095-6cc76fa13c3b",
   "metadata": {
    "tags": []
   },
   "outputs": [
    {
     "name": "stderr",
     "output_type": "stream",
     "text": [
      "                                                                                \r"
     ]
    },
    {
     "data": {
      "text/plain": [
       "17373568"
      ]
     },
     "execution_count": 4,
     "metadata": {},
     "output_type": "execute_result"
    }
   ],
   "source": [
    "trace_23_3.count()"
   ]
  },
  {
   "cell_type": "code",
   "execution_count": 5,
   "id": "96f20185-2ecd-4d2c-94cb-c22925fb7d1c",
   "metadata": {
    "tags": []
   },
   "outputs": [],
   "source": [
    "from pyspark.ml.classification import NaiveBayes\n",
    "from pyspark.ml.feature import CountVectorizer\n",
    "from pyspark.ml.evaluation import MulticlassClassificationEvaluator\n",
    "from sklearn.metrics import classification_report, confusion_matrix"
   ]
  },
  {
   "cell_type": "code",
   "execution_count": 7,
   "id": "633010c0-050b-4511-b848-466caef0a3bd",
   "metadata": {
    "tags": []
   },
   "outputs": [
    {
     "name": "stderr",
     "output_type": "stream",
     "text": [
      "                                                                                \r"
     ]
    }
   ],
   "source": [
    "# Use CountVectorizer to convert the \"event_sequence_str\" column into a feature vector\n",
    "cv = CountVectorizer(inputCol=\"event_sequence\", outputCol=\"features\")\n",
    "model = cv.fit(trace_23_3)\n",
    "trace_23_3 = model.transform(trace_23_3).cache()"
   ]
  },
  {
   "cell_type": "code",
   "execution_count": 8,
   "id": "2391a9ad-8bf8-49af-816a-3a1c912240c5",
   "metadata": {
    "tags": []
   },
   "outputs": [
    {
     "name": "stderr",
     "output_type": "stream",
     "text": [
      "[Stage 8:=====================================================>   (27 + 2) / 29]\r"
     ]
    },
    {
     "name": "stdout",
     "output_type": "stream",
     "text": [
      "+-----+---------+--------------------+--------------------+\n",
      "|Trace|mal_trace|      event_sequence|            features|\n",
      "+-----+---------+--------------------+--------------------+\n",
      "|   41|        0|[0100000000010000...|(111,[3,5,12],[1....|\n",
      "|  499|        0|[0001000000010000...|(111,[2,8,12],[1....|\n",
      "|  907|        0|[0100000000001000...|(111,[1,3,15],[1....|\n",
      "+-----+---------+--------------------+--------------------+\n",
      "\n"
     ]
    },
    {
     "name": "stderr",
     "output_type": "stream",
     "text": [
      "                                                                                \r"
     ]
    }
   ],
   "source": [
    "trace_23_3.limit(3).show()"
   ]
  },
  {
   "cell_type": "code",
   "execution_count": 9,
   "id": "795deb45-2dbd-48d1-8cda-04822e5a9abc",
   "metadata": {
    "tags": []
   },
   "outputs": [
    {
     "name": "stdout",
     "output_type": "stream",
     "text": [
      "118763\n",
      "17254805\n"
     ]
    }
   ],
   "source": [
    "print(trace_23_3.where(col('mal_trace')==1).count())\n",
    "print(trace_23_3.where(col('mal_trace')==0).count())"
   ]
  },
  {
   "cell_type": "code",
   "execution_count": 10,
   "id": "593250c9-3d54-4764-bfdd-0bbf05472f32",
   "metadata": {
    "tags": []
   },
   "outputs": [],
   "source": [
    "#split everything for train test split then re-attach\n",
    "df_m = trace_23_3.where(col('mal_trace') == 1)\n",
    "df_b = trace_23_3.where(col('mal_trace') == 0)\n",
    "(train_m, test_m) = df_m.randomSplit([0.7, 0.3])\n",
    "(train_b, test_b) = df_b.randomSplit([0.7, 0.3])\n",
    "train_all = train_m.union(train_b)\n",
    "test_all = test_m.union(test_b)"
   ]
  },
  {
   "cell_type": "code",
   "execution_count": 13,
   "id": "1f7ea9e3-1ddf-4835-9f3f-db886f1ea265",
   "metadata": {
    "tags": []
   },
   "outputs": [
    {
     "name": "stderr",
     "output_type": "stream",
     "text": [
      "                                                                                \r"
     ]
    }
   ],
   "source": [
    "#train the model\n",
    "nb = NaiveBayes(featuresCol=\"features\", labelCol=\"mal_trace\")\n",
    "nbModel = nb.fit(train_all)\n",
    "pred = nbModel.transform(test_all)"
   ]
  },
  {
   "cell_type": "code",
   "execution_count": 16,
   "id": "22a446c0-7983-4d33-9ede-f4a7a5c363fb",
   "metadata": {
    "tags": []
   },
   "outputs": [
    {
     "name": "stderr",
     "output_type": "stream",
     "text": [
      "                                                                                \r"
     ]
    },
    {
     "name": "stdout",
     "output_type": "stream",
     "text": [
      "Test set accuracy = 0.9932324467306498\n"
     ]
    },
    {
     "name": "stderr",
     "output_type": "stream",
     "text": [
      "                                                                                \r"
     ]
    },
    {
     "name": "stdout",
     "output_type": "stream",
     "text": [
      "Test set weightedPrecision = 0.9916294182749649\n"
     ]
    },
    {
     "name": "stderr",
     "output_type": "stream",
     "text": [
      "[Stage 27:========================================>              (43 + 15) / 58]\r"
     ]
    },
    {
     "name": "stdout",
     "output_type": "stream",
     "text": [
      "Test set weightedRecall = 0.9932324467306498\n"
     ]
    },
    {
     "name": "stderr",
     "output_type": "stream",
     "text": [
      "                                                                                \r"
     ]
    }
   ],
   "source": [
    "for metric in [\"accuracy\", \"weightedPrecision\",\"weightedRecall\"]: \n",
    "    evaluator = MulticlassClassificationEvaluator(labelCol=\"mal_trace\", predictionCol=\"prediction\",\n",
    "                                                  metricName=metric)\n",
    "    results = evaluator.evaluate(pred)\n",
    "    print(\"Test set \" + metric+\" = \" + str(results))"
   ]
  },
  {
   "cell_type": "code",
   "execution_count": 18,
   "id": "a2ce0305-553f-438e-9f49-c8daa68fa745",
   "metadata": {
    "tags": []
   },
   "outputs": [
    {
     "name": "stderr",
     "output_type": "stream",
     "text": [
      "[Stage 29:=========================================>             (44 + 14) / 58]\r"
     ]
    },
    {
     "name": "stdout",
     "output_type": "stream",
     "text": [
      "+------+---------+--------------------+--------------------+--------------------+--------------------+----------+\n",
      "| Trace|mal_trace|      event_sequence|            features|       rawPrediction|         probability|prediction|\n",
      "+------+---------+--------------------+--------------------+--------------------+--------------------+----------+\n",
      "|132489|        1|[1000000000001000...|(111,[0,4,34],[1....|[-10.508846329598...|[0.96975449670258...|       0.0|\n",
      "|132497|        1|[1000000000001000...|(111,[0,4,34],[1....|[-10.508846329598...|[0.96975449670258...|       0.0|\n",
      "+------+---------+--------------------+--------------------+--------------------+--------------------+----------+\n",
      "\n"
     ]
    },
    {
     "name": "stderr",
     "output_type": "stream",
     "text": [
      "                                                                                \r"
     ]
    }
   ],
   "source": [
    "pred.limit(2).show()"
   ]
  },
  {
   "cell_type": "code",
   "execution_count": 20,
   "id": "54043333-0930-43ce-bd30-41710a0393f2",
   "metadata": {
    "tags": []
   },
   "outputs": [
    {
     "name": "stderr",
     "output_type": "stream",
     "text": [
      "                                                                                \r"
     ]
    },
    {
     "name": "stdout",
     "output_type": "stream",
     "text": [
      "              precision    recall  f1-score   support\n",
      "\n",
      "           0       0.99      1.00      1.00   5177201\n",
      "           1       0.76      0.00      0.00     35318\n",
      "\n",
      "    accuracy                           0.99   5212519\n",
      "   macro avg       0.87      0.50      0.50   5212519\n",
      "weighted avg       0.99      0.99      0.99   5212519\n",
      "\n"
     ]
    }
   ],
   "source": [
    "y_true = pred.select(['mal_trace']).collect()\n",
    "y_pred = pred.select(['prediction']).collect()\n",
    "\n",
    "print(classification_report(y_true, y_pred))"
   ]
  },
  {
   "cell_type": "code",
   "execution_count": 24,
   "id": "56406e88-8d4a-499b-b0d8-b6ee24cc894f",
   "metadata": {
    "tags": []
   },
   "outputs": [
    {
     "name": "stderr",
     "output_type": "stream",
     "text": [
      "[Stage 36:===================================>                   (37 + 21) / 58]\r"
     ]
    },
    {
     "name": "stdout",
     "output_type": "stream",
     "text": [
      "Confusion matrix:\n",
      "pred-actual: count\n",
      "(0, 1): 35256\n",
      "(1, 1): 62\n",
      "(0, 0): 5177181\n",
      "(1, 0): 20\n"
     ]
    },
    {
     "name": "stderr",
     "output_type": "stream",
     "text": [
      "                                                                                \r"
     ]
    }
   ],
   "source": [
    "predictionsAndLabels = pred.select(\"prediction\", \"mal_trace\")\n",
    "confusionMatrix = predictionsAndLabels.rdd.map(lambda x: (x[0], x[1])).countByValue()\n",
    "print(\"Confusion matrix:\")\n",
    "print(\"pred-actual: count\")\n",
    "for ((predicted, actual), count) in confusionMatrix.items():\n",
    "    print(\"(%d, %d): %d\" % (predicted, actual, count))"
   ]
  },
  {
   "cell_type": "code",
   "execution_count": 3,
   "id": "566217d8-0bf7-46f5-9a48-571c002712fe",
   "metadata": {
    "tags": []
   },
   "outputs": [],
   "source": [
    "#rerun with even data set\n",
    "#first randomly select benign traces\n",
    "df_b_trunc = trace_23_3.where(col('mal_trace')==0)\n",
    "df_b_trunc = df_b_trunc.distinct().orderBy(rand()).limit(118763)\n",
    "df_m = trace_23_3.where(col('mal_trace')==1)\n",
    "#combine datasets to re-run tokenizer\n",
    "df_all_even = df_m.union(df_b_trunc)"
   ]
  },
  {
   "cell_type": "code",
   "execution_count": 31,
   "id": "03a1b267-dac1-4779-bc62-d0f9b92df3af",
   "metadata": {
    "tags": []
   },
   "outputs": [],
   "source": [
    "df_all_even = df_all_even.drop('features')"
   ]
  },
  {
   "cell_type": "code",
   "execution_count": 6,
   "id": "d5d8161f-030a-4c3f-b900-f71b2df13762",
   "metadata": {
    "tags": []
   },
   "outputs": [
    {
     "name": "stderr",
     "output_type": "stream",
     "text": [
      "                                                                                \r"
     ]
    }
   ],
   "source": [
    "#rerun everything\n",
    "# Use CountVectorizer to convert the \"event_sequence_str\" column into a feature vector\n",
    "cv = CountVectorizer(inputCol=\"event_sequence\", outputCol=\"features\")\n",
    "model = cv.fit(df_all_even)\n",
    "df_all_even = model.transform(df_all_even).cache()"
   ]
  },
  {
   "cell_type": "code",
   "execution_count": 7,
   "id": "8b6edd53-e722-48ee-9baf-eaad97bc3cbd",
   "metadata": {
    "tags": []
   },
   "outputs": [],
   "source": [
    "#split everything for train test split then re-attach\n",
    "df_m = df_all_even.where(col('mal_trace') == 1)\n",
    "df_b = df_all_even.where(col('mal_trace') == 0)\n",
    "(train_m, test_m) = df_m.randomSplit([0.7, 0.3])\n",
    "(train_b, test_b) = df_b.randomSplit([0.7, 0.3])"
   ]
  },
  {
   "cell_type": "code",
   "execution_count": null,
   "id": "a9a49edf-f97a-4d08-9918-2d4272f0a4bc",
   "metadata": {},
   "outputs": [],
   "source": [
    "train_all = train_m.union(train_b)\n",
    "test_all = test_m.union(test_b)\n",
    "#train the model\n",
    "nb = NaiveBayes(featuresCol=\"features\", labelCol=\"mal_trace\")\n",
    "nbModel = nb.fit(train_all)\n",
    "pred = nbModel.transform(test_all)"
   ]
  },
  {
   "cell_type": "code",
   "execution_count": 34,
   "id": "984c6f18-4e92-4a0c-a083-e23d28e202d9",
   "metadata": {
    "tags": []
   },
   "outputs": [
    {
     "name": "stdout",
     "output_type": "stream",
     "text": [
      "              precision    recall  f1-score   support\n",
      "\n",
      "           0       0.75      0.69      0.72     35580\n",
      "           1       0.72      0.77      0.74     35824\n",
      "\n",
      "    accuracy                           0.73     71404\n",
      "   macro avg       0.73      0.73      0.73     71404\n",
      "weighted avg       0.73      0.73      0.73     71404\n",
      "\n",
      "Confusion matrix:\n",
      "pred-actual: count\n",
      "(0, 1): 8141\n",
      "(1, 1): 27683\n",
      "(0, 0): 24632\n",
      "(1, 0): 10948\n"
     ]
    },
    {
     "name": "stderr",
     "output_type": "stream",
     "text": [
      "                                                                                \r"
     ]
    }
   ],
   "source": [
    "y_true = pred.select(['mal_trace']).collect()\n",
    "y_pred = pred.select(['prediction']).collect()\n",
    "\n",
    "print(classification_report(y_true, y_pred))\n",
    "\n",
    "predictionsAndLabels = pred.select(\"prediction\", \"mal_trace\")\n",
    "confusionMatrix = predictionsAndLabels.rdd.map(lambda x: (x[0], x[1])).countByValue()\n",
    "print(\"Confusion matrix:\")\n",
    "print(\"pred-actual: count\")\n",
    "for ((predicted, actual), count) in confusionMatrix.items():\n",
    "    print(\"(%d, %d): %d\" % (predicted, actual, count))"
   ]
  },
  {
   "cell_type": "code",
   "execution_count": 11,
   "id": "3ed18006-b935-4b10-99e1-91d637a667bd",
   "metadata": {
    "tags": []
   },
   "outputs": [],
   "source": [
    "#35849 count for test benign\n",
    "test_m_r = test_m.distinct().orderBy(rand()).limit(359)"
   ]
  },
  {
   "cell_type": "code",
   "execution_count": 12,
   "id": "774a1df8-6b20-47d5-90f1-ea5d8c995962",
   "metadata": {
    "tags": []
   },
   "outputs": [],
   "source": [
    "#train and test with a 99% reduction in malicious test data\n",
    "train_all = train_m.union(train_b)\n",
    "test_all = test_m_r.union(test_b)\n",
    "#train the model\n",
    "nb = NaiveBayes(featuresCol=\"features\", labelCol=\"mal_trace\")\n",
    "nbModel = nb.fit(train_all)\n",
    "pred = nbModel.transform(test_all)"
   ]
  },
  {
   "cell_type": "code",
   "execution_count": 13,
   "id": "62dbb668-fc73-4da7-88fb-93cb0b8869f4",
   "metadata": {
    "tags": []
   },
   "outputs": [
    {
     "name": "stdout",
     "output_type": "stream",
     "text": [
      "              precision    recall  f1-score   support\n",
      "\n",
      "           0       1.00      0.69      0.82     35849\n",
      "           1       0.02      0.74      0.05       359\n",
      "\n",
      "    accuracy                           0.69     36208\n",
      "   macro avg       0.51      0.72      0.43     36208\n",
      "weighted avg       0.99      0.69      0.81     36208\n",
      "\n"
     ]
    },
    {
     "name": "stderr",
     "output_type": "stream",
     "text": [
      "[Stage 54:================================================>       (27 + 4) / 31]\r"
     ]
    },
    {
     "name": "stdout",
     "output_type": "stream",
     "text": [
      "Confusion matrix:\n",
      "pred-actual: count\n",
      "(0, 1): 94\n",
      "(1, 1): 265\n",
      "(0, 0): 24892\n",
      "(1, 0): 10957\n"
     ]
    },
    {
     "name": "stderr",
     "output_type": "stream",
     "text": [
      "                                                                                \r"
     ]
    }
   ],
   "source": [
    "y_true = pred.select(['mal_trace']).collect()\n",
    "y_pred = pred.select(['prediction']).collect()\n",
    "\n",
    "print(classification_report(y_true, y_pred))\n",
    "\n",
    "predictionsAndLabels = pred.select(\"prediction\", \"mal_trace\")\n",
    "confusionMatrix = predictionsAndLabels.rdd.map(lambda x: (x[0], x[1])).countByValue()\n",
    "print(\"Confusion matrix:\")\n",
    "print(\"pred-actual: count\")\n",
    "for ((predicted, actual), count) in confusionMatrix.items():\n",
    "    print(\"(%d, %d): %d\" % (predicted, actual, count))"
   ]
  },
  {
   "cell_type": "markdown",
   "id": "bceefdc3-96c3-4484-beaa-5fefcea0e41c",
   "metadata": {},
   "source": [
    "### run model based on expanded image path columns"
   ]
  },
  {
   "cell_type": "code",
   "execution_count": 14,
   "id": "f9bc2216-4b1a-4c47-8b29-6c557ef7eb04",
   "metadata": {
    "tags": []
   },
   "outputs": [],
   "source": [
    "s3_url_trusted = \"s3a://sapient-bucket-trusted/\"\n",
    "trace_23_3_p = spark.read.parquet(f\"{s3_url_trusted}/prod/graph/encoded/real/23Sep3_paths\").drop('malicious').cache()"
   ]
  },
  {
   "cell_type": "code",
   "execution_count": 16,
   "id": "55c621c2-eb00-4d9a-8157-af9be9a9f4c3",
   "metadata": {
    "tags": []
   },
   "outputs": [],
   "source": [
    "#rerun with even data set\n",
    "#first randomly select benign traces\n",
    "df_b_trunc = trace_23_3_p.where(col('mal_trace')==0)\n",
    "df_b_trunc = df_b_trunc.distinct().orderBy(rand()).limit(118763)\n",
    "df_m = trace_23_3_p.where(col('mal_trace')==1)\n",
    "#combine datasets to re-run tokenizer\n",
    "df_all_even = df_m.union(df_b_trunc)"
   ]
  },
  {
   "cell_type": "code",
   "execution_count": 17,
   "id": "1ba0acd2-7bbd-4161-986f-05d1d221bea9",
   "metadata": {
    "tags": []
   },
   "outputs": [
    {
     "name": "stderr",
     "output_type": "stream",
     "text": [
      "                                                                                \r"
     ]
    }
   ],
   "source": [
    "#rerun everything\n",
    "# Use CountVectorizer to convert the \"event_sequence_str\" column into a feature vector\n",
    "cv = CountVectorizer(inputCol=\"event_sequence\", outputCol=\"features\")\n",
    "model = cv.fit(df_all_even)\n",
    "df_all_even = model.transform(df_all_even).cache()"
   ]
  },
  {
   "cell_type": "code",
   "execution_count": 18,
   "id": "23d378e2-fabe-4f06-9538-b8b34a3036e4",
   "metadata": {
    "tags": []
   },
   "outputs": [],
   "source": [
    "#split everything for train test split then re-attach\n",
    "df_m = df_all_even.where(col('mal_trace') == 1)\n",
    "df_b = df_all_even.where(col('mal_trace') == 0)\n",
    "(train_m, test_m) = df_m.randomSplit([0.7, 0.3])\n",
    "(train_b, test_b) = df_b.randomSplit([0.7, 0.3])"
   ]
  },
  {
   "cell_type": "code",
   "execution_count": 19,
   "id": "646bcbd0-5694-471b-844a-5e58053570cf",
   "metadata": {
    "tags": []
   },
   "outputs": [
    {
     "name": "stderr",
     "output_type": "stream",
     "text": [
      "                                                                                \r"
     ]
    }
   ],
   "source": [
    "train_all = train_m.union(train_b)\n",
    "test_all = test_m.union(test_b)\n",
    "#train the model\n",
    "nb = NaiveBayes(featuresCol=\"features\", labelCol=\"mal_trace\")\n",
    "nbModel = nb.fit(train_all)\n",
    "pred = nbModel.transform(test_all)"
   ]
  },
  {
   "cell_type": "code",
   "execution_count": 20,
   "id": "119371e8-9bca-48ff-bed7-a2ad10787e3e",
   "metadata": {
    "tags": []
   },
   "outputs": [
    {
     "name": "stdout",
     "output_type": "stream",
     "text": [
      "              precision    recall  f1-score   support\n",
      "\n",
      "           0       0.84      0.81      0.82     35752\n",
      "           1       0.81      0.84      0.83     35561\n",
      "\n",
      "    accuracy                           0.82     71313\n",
      "   macro avg       0.82      0.82      0.82     71313\n",
      "weighted avg       0.82      0.82      0.82     71313\n",
      "\n",
      "Confusion matrix:\n",
      "pred-actual: count\n",
      "(0, 1): 5655\n",
      "(1, 1): 29906\n",
      "(0, 0): 28877\n",
      "(1, 0): 6875\n"
     ]
    }
   ],
   "source": [
    "y_true = pred.select(['mal_trace']).collect()\n",
    "y_pred = pred.select(['prediction']).collect()\n",
    "\n",
    "print(classification_report(y_true, y_pred))\n",
    "\n",
    "predictionsAndLabels = pred.select(\"prediction\", \"mal_trace\")\n",
    "confusionMatrix = predictionsAndLabels.rdd.map(lambda x: (x[0], x[1])).countByValue()\n",
    "print(\"Confusion matrix:\")\n",
    "print(\"pred-actual: count\")\n",
    "for ((predicted, actual), count) in confusionMatrix.items():\n",
    "    print(\"(%d, %d): %d\" % (predicted, actual, count))"
   ]
  },
  {
   "cell_type": "code",
   "execution_count": 11,
   "id": "8a4590db-a9dc-464a-8cbc-58e8c572ba6f",
   "metadata": {
    "tags": []
   },
   "outputs": [],
   "source": [
    "#NB function\n",
    "def ref_NB(df):\n",
    "    #rerun with even data set\n",
    "    #first randomly select benign traces\n",
    "    df_b_trunc = df.where(col('mal_trace')==0).cache()\n",
    "    print(\"benign traces: \" + str(df_b_trunc.count()))\n",
    "    df_m = df.where(col('mal_trace')==1).cache()\n",
    "    trunc = df_m.count()\n",
    "    print(\"malicious traces: \" + str(trunc))\n",
    "    df_b_trunc = df_b_trunc.distinct().orderBy(rand()).limit(trunc).cache()\n",
    "    #combine datasets to re-run tokenizer\n",
    "    df_all_even = df_m.union(df_b_trunc).cache()\n",
    "    # Use CountVectorizer to convert the \"event_sequence_str\" column into a feature vector\n",
    "    cv = CountVectorizer(inputCol=\"event_sequence\", outputCol=\"features\")\n",
    "    model = cv.fit(df_all_even)\n",
    "    df_all_even = model.transform(df_all_even).cache()\n",
    "    #split everything for train test split then re-attach\n",
    "    df_m = df_all_even.where(col('mal_trace') == 1).cache()\n",
    "    df_b = df_all_even.where(col('mal_trace') == 0).cache()\n",
    "    (train_m, test_m) = df_m.randomSplit([0.7, 0.3])\n",
    "    (train_b, test_b) = df_b.randomSplit([0.7, 0.3])\n",
    "    train_all = train_m.union(train_b).cache()\n",
    "    test_all = test_m.union(test_b).cache()\n",
    "    #train the model\n",
    "    nb = NaiveBayes(featuresCol=\"features\", labelCol=\"mal_trace\")\n",
    "    nbModel = nb.fit(train_all)\n",
    "    pred = nbModel.transform(test_all).cache()\n",
    "    y_true = pred.select(['mal_trace']).collect()\n",
    "    y_pred = pred.select(['prediction']).collect()\n",
    "\n",
    "    print(classification_report(y_true, y_pred))\n",
    "\n",
    "    predictionsAndLabels = pred.select(\"prediction\", \"mal_trace\")\n",
    "    confusionMatrix = predictionsAndLabels.rdd.map(lambda x: (x[0], x[1])).countByValue()\n",
    "    print(\"Confusion matrix:\")\n",
    "    print(\"pred-actual: count\")\n",
    "    for ((predicted, actual), count) in confusionMatrix.items():\n",
    "        print(\"(%d, %d): %d\" % (predicted, actual, count))\n",
    "    "
   ]
  },
  {
   "cell_type": "markdown",
   "id": "8e314043-4989-437b-996e-a16bfb4483cc",
   "metadata": {
    "tags": []
   },
   "source": [
    "### Now test on a full 6 event trace from Day 1"
   ]
  },
  {
   "cell_type": "code",
   "execution_count": 2,
   "id": "ffd5ebdb-3749-47e4-9c2b-eddd24559a88",
   "metadata": {
    "collapsed": true,
    "jupyter": {
     "outputs_hidden": true
    },
    "tags": []
   },
   "outputs": [
    {
     "name": "stderr",
     "output_type": "stream",
     "text": [
      "Warning: Ignoring non-Spark config property: fs.s3a.access.key\n",
      "Warning: Ignoring non-Spark config property: fs.s3a.secret.key\n"
     ]
    },
    {
     "name": "stdout",
     "output_type": "stream",
     "text": [
      ":: loading settings :: url = jar:file:/home/ec2-user/anaconda3/envs/python3/lib/python3.10/site-packages/pyspark/jars/ivy-2.5.0.jar!/org/apache/ivy/core/settings/ivysettings.xml\n"
     ]
    },
    {
     "name": "stderr",
     "output_type": "stream",
     "text": [
      "Ivy Default Cache set to: /home/ec2-user/.ivy2/cache\n",
      "The jars for the packages stored in: /home/ec2-user/.ivy2/jars\n",
      "graphframes#graphframes added as a dependency\n",
      ":: resolving dependencies :: org.apache.spark#spark-submit-parent-45095160-48dc-4902-be79-6eeb5a975499;1.0\n",
      "\tconfs: [default]\n",
      "\tfound graphframes#graphframes;0.8.2-spark3.2-s_2.12 in spark-packages\n",
      "\tfound org.slf4j#slf4j-api;1.7.16 in central\n",
      ":: resolution report :: resolve 178ms :: artifacts dl 4ms\n",
      "\t:: modules in use:\n",
      "\tgraphframes#graphframes;0.8.2-spark3.2-s_2.12 from spark-packages in [default]\n",
      "\torg.slf4j#slf4j-api;1.7.16 from central in [default]\n",
      "\t---------------------------------------------------------------------\n",
      "\t|                  |            modules            ||   artifacts   |\n",
      "\t|       conf       | number| search|dwnlded|evicted|| number|dwnlded|\n",
      "\t---------------------------------------------------------------------\n",
      "\t|      default     |   2   |   0   |   0   |   0   ||   2   |   0   |\n",
      "\t---------------------------------------------------------------------\n",
      ":: retrieving :: org.apache.spark#spark-submit-parent-45095160-48dc-4902-be79-6eeb5a975499\n",
      "\tconfs: [default]\n",
      "\t0 artifacts copied, 2 already retrieved (0kB/4ms)\n"
     ]
    },
    {
     "name": "stdout",
     "output_type": "stream",
     "text": [
      "23/04/01 14:08:04 WARN NativeCodeLoader: Unable to load native-hadoop library for your platform... using builtin-java classes where applicable\n"
     ]
    },
    {
     "name": "stderr",
     "output_type": "stream",
     "text": [
      "Setting default log level to \"WARN\".\n",
      "To adjust logging level use sc.setLogLevel(newLevel). For SparkR, use setLogLevel(newLevel).\n"
     ]
    },
    {
     "name": "stdout",
     "output_type": "stream",
     "text": [
      "23/04/01 14:08:04 WARN SparkConf: Note that spark.local.dir will be overridden by the value set by the cluster manager (via SPARK_LOCAL_DIRS in mesos/standalone/kubernetes and LOCAL_DIRS in YARN).\n",
      "23/04/01 14:08:05 WARN Utils: Service 'SparkUI' could not bind on port 4040. Attempting port 4041.\n"
     ]
    }
   ],
   "source": [
    "%run ./read_file.ipynb"
   ]
  },
  {
   "cell_type": "code",
   "execution_count": 5,
   "id": "06cb7dbb-2a21-4e6f-8261-2cdc0c37662e",
   "metadata": {
    "tags": []
   },
   "outputs": [],
   "source": [
    "from pyspark.ml.classification import NaiveBayes\n",
    "from pyspark.ml.feature import CountVectorizer\n",
    "from pyspark.ml.evaluation import MulticlassClassificationEvaluator\n",
    "from sklearn.metrics import classification_report, confusion_matrix"
   ]
  },
  {
   "cell_type": "code",
   "execution_count": 3,
   "id": "f5aaac9f-c14b-491f-be9c-ff08f1768390",
   "metadata": {
    "tags": []
   },
   "outputs": [
    {
     "name": "stderr",
     "output_type": "stream",
     "text": [
      "                                                                                \r"
     ]
    }
   ],
   "source": [
    "s3_url_trusted = \"s3a://sapient-bucket-trusted/\"\n",
    "trace_23_6 = spark.read.parquet(f\"{s3_url_trusted}/prod/graph/encoded/real/23Sep6\").drop('malicious').cache()"
   ]
  },
  {
   "cell_type": "code",
   "execution_count": 6,
   "id": "2caea405-02ce-41ae-a15e-9ad53fd747cd",
   "metadata": {
    "tags": []
   },
   "outputs": [
    {
     "name": "stderr",
     "output_type": "stream",
     "text": [
      "                                                                                \r"
     ]
    },
    {
     "name": "stdout",
     "output_type": "stream",
     "text": [
      "              precision    recall  f1-score   support\n",
      "\n",
      "           0       0.82      0.84      0.83     35587\n",
      "           1       0.85      0.83      0.84     38686\n",
      "\n",
      "    accuracy                           0.84     74273\n",
      "   macro avg       0.84      0.84      0.84     74273\n",
      "weighted avg       0.84      0.84      0.84     74273\n",
      "\n"
     ]
    },
    {
     "name": "stderr",
     "output_type": "stream",
     "text": [
      "[Stage 28:=======================================================>(59 + 1) / 60]\r"
     ]
    },
    {
     "name": "stdout",
     "output_type": "stream",
     "text": [
      "Confusion matrix:\n",
      "pred-actual: count\n",
      "(0, 1): 6496\n",
      "(1, 1): 32190\n",
      "(0, 0): 29977\n",
      "(1, 0): 5610\n"
     ]
    },
    {
     "name": "stderr",
     "output_type": "stream",
     "text": [
      "                                                                                \r"
     ]
    }
   ],
   "source": [
    "#results with old truncation\n",
    "ref_NB(trace_23_6)"
   ]
  },
  {
   "cell_type": "code",
   "execution_count": 12,
   "id": "0551b663-aa52-4cf7-9d7c-c45768ddf5d2",
   "metadata": {
    "tags": []
   },
   "outputs": [
    {
     "name": "stderr",
     "output_type": "stream",
     "text": [
      "                                                                                \r"
     ]
    },
    {
     "name": "stdout",
     "output_type": "stream",
     "text": [
      "benign traces: 14256314\n",
      "malicious traces: 128364\n"
     ]
    },
    {
     "name": "stderr",
     "output_type": "stream",
     "text": [
      "                                                                                \r"
     ]
    },
    {
     "name": "stdout",
     "output_type": "stream",
     "text": [
      "              precision    recall  f1-score   support\n",
      "\n",
      "           0       0.81      0.85      0.83     38572\n",
      "           1       0.84      0.80      0.82     38498\n",
      "\n",
      "    accuracy                           0.82     77070\n",
      "   macro avg       0.83      0.82      0.82     77070\n",
      "weighted avg       0.83      0.82      0.82     77070\n",
      "\n",
      "Confusion matrix:\n",
      "pred-actual: count\n",
      "(0, 1): 7591\n",
      "(1, 1): 30907\n",
      "(0, 0): 32654\n",
      "(1, 0): 5918\n"
     ]
    }
   ],
   "source": [
    "#results with new truncation\n",
    "ref_NB(trace_23_6)"
   ]
  },
  {
   "cell_type": "code",
   "execution_count": null,
   "id": "cdd18424-809f-4be6-8cc8-853a21ccf604",
   "metadata": {},
   "outputs": [],
   "source": []
  }
 ],
 "metadata": {
  "kernelspec": {
   "display_name": "conda_python3",
   "language": "python",
   "name": "conda_python3"
  },
  "language_info": {
   "codemirror_mode": {
    "name": "ipython",
    "version": 3
   },
   "file_extension": ".py",
   "mimetype": "text/x-python",
   "name": "python",
   "nbconvert_exporter": "python",
   "pygments_lexer": "ipython3",
   "version": "3.10.8"
  }
 },
 "nbformat": 4,
 "nbformat_minor": 5
}
