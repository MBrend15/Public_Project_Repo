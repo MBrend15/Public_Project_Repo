{
 "cells": [
  {
   "cell_type": "markdown",
   "id": "4bf5c4bf-fb79-4859-9252-8bce5d1a274a",
   "metadata": {},
   "source": [
    "# Preliminary EDA\n",
    "\n",
    "### An Advanced Persistent Threat (APT) is a type of cyber attack where an attacker gains unauthorized access to a network and remains undetected for an extended period of time. The goal of an APT is usually to steal sensitive information or to disrupt critical systems. APT attacks are usually carried out by well-funded and highly skilled attackers, such as nation-state actors or organized criminal groups.\n",
    "\n",
    "### The objective of this project is to identify an APT and determine remedial actions"
   ]
  },
  {
   "cell_type": "code",
   "execution_count": 21,
   "id": "fb7532ca-b742-457d-8705-23367a5d3f2b",
   "metadata": {
    "tags": []
   },
   "outputs": [],
   "source": [
    "## Import Functions and Spark Config\n",
    "from pyspark.sql.functions import sum\n",
    "from pyspark.sql.functions import avg\n",
    "from pyspark.sql.functions import desc\n",
    "import pyspark.sql.functions as F\n",
    "import matplotlib.pyplot as plt\n",
    "import pandas as pd"
   ]
  },
  {
   "cell_type": "code",
   "execution_count": 22,
   "id": "23f44f59-fff5-41aa-9be8-02412de8c4ec",
   "metadata": {
    "tags": []
   },
   "outputs": [],
   "source": [
    "%run ./read_file.ipynb"
   ]
  },
  {
   "cell_type": "markdown",
   "id": "322f0acc-5281-4b73-a33b-67ac7c05b96a",
   "metadata": {},
   "source": [
    "## Set Environment"
   ]
  },
  {
   "cell_type": "code",
   "execution_count": 23,
   "id": "3660605e-699c-4b64-b7c4-2211454666a6",
   "metadata": {
    "tags": []
   },
   "outputs": [],
   "source": [
    "# env - dev / prod\n",
    "# size - small / medium / large\n",
    "env='prod'\n",
    "size='small'\n"
   ]
  },
  {
   "cell_type": "markdown",
   "id": "c8ecd4b8-755b-404f-8fd0-42b934bdef28",
   "metadata": {},
   "source": [
    "## Part 1: Load Data"
   ]
  },
  {
   "cell_type": "markdown",
   "id": "a9c1eee6-0f38-41a9-8dfd-51f7092d1e30",
   "metadata": {},
   "source": [
    "#### Load bro data (Network Data)"
   ]
  },
  {
   "cell_type": "code",
   "execution_count": 34,
   "id": "2d2b2c39-6d40-48c9-b62a-8999d776c31f",
   "metadata": {
    "tags": []
   },
   "outputs": [
    {
     "ename": "AnalysisException",
     "evalue": "Path does not exist: s3a://sapient-bucket-refined/prod/bro/small",
     "output_type": "error",
     "traceback": [
      "\u001b[0;31m---------------------------------------------------------------------------\u001b[0m",
      "\u001b[0;31mAnalysisException\u001b[0m                         Traceback (most recent call last)",
      "Cell \u001b[0;32mIn[34], line 1\u001b[0m\n\u001b[0;32m----> 1\u001b[0m df_bro \u001b[38;5;241m=\u001b[39m \u001b[43mreadCheckpoint\u001b[49m\u001b[43m(\u001b[49m\u001b[38;5;124;43m'\u001b[39;49m\u001b[38;5;124;43mbro\u001b[39;49m\u001b[38;5;124;43m'\u001b[39;49m\u001b[43m,\u001b[49m\u001b[43m \u001b[49m\u001b[43menv\u001b[49m\u001b[43m)\u001b[49m\n",
      "File \u001b[0;32m/tmp/ipykernel_6607/474605217.py:7\u001b[0m, in \u001b[0;36mreadCheckpoint\u001b[0;34m(type, env, size)\u001b[0m\n\u001b[1;32m      5\u001b[0m s3_parquet_loc \u001b[38;5;241m=\u001b[39m \u001b[38;5;124mf\u001b[39m\u001b[38;5;124m\"\u001b[39m\u001b[38;5;132;01m{\u001b[39;00ms3_url_refined\u001b[38;5;132;01m}\u001b[39;00m\u001b[38;5;124m/\u001b[39m\u001b[38;5;132;01m{\u001b[39;00menv\u001b[38;5;132;01m}\u001b[39;00m\u001b[38;5;124m/\u001b[39m\u001b[38;5;132;01m{\u001b[39;00m\u001b[38;5;28mtype\u001b[39m\u001b[38;5;132;01m}\u001b[39;00m\u001b[38;5;124m/\u001b[39m\u001b[38;5;132;01m{\u001b[39;00msize\u001b[38;5;132;01m}\u001b[39;00m\u001b[38;5;124m\"\u001b[39m\n\u001b[1;32m      6\u001b[0m start_time \u001b[38;5;241m=\u001b[39m time\u001b[38;5;241m.\u001b[39mtime()\n\u001b[0;32m----> 7\u001b[0m df \u001b[38;5;241m=\u001b[39m \u001b[43mspark\u001b[49m\u001b[38;5;241;43m.\u001b[39;49m\u001b[43mread\u001b[49m\u001b[38;5;241;43m.\u001b[39;49m\u001b[43mparquet\u001b[49m\u001b[43m(\u001b[49m\u001b[43ms3_parquet_loc\u001b[49m\u001b[43m)\u001b[49m\n\u001b[1;32m      8\u001b[0m \u001b[38;5;66;03m# rdd = spark.sparkContext.parallelize(df.take(1000))\u001b[39;00m\n\u001b[1;32m      9\u001b[0m \u001b[38;5;66;03m# print(f\"Your dataframe has {rdd.count():,} rows.\")\u001b[39;00m\n\u001b[1;32m     10\u001b[0m \u001b[38;5;28mprint\u001b[39m(\u001b[38;5;124m\"\u001b[39m\u001b[38;5;124m--- \u001b[39m\u001b[38;5;132;01m%s\u001b[39;00m\u001b[38;5;124m seconds ---\u001b[39m\u001b[38;5;124m\"\u001b[39m \u001b[38;5;241m%\u001b[39m (time\u001b[38;5;241m.\u001b[39mtime() \u001b[38;5;241m-\u001b[39m start_time))\n",
      "File \u001b[0;32m~/anaconda3/envs/python3/lib/python3.10/site-packages/pyspark/sql/readwriter.py:364\u001b[0m, in \u001b[0;36mDataFrameReader.parquet\u001b[0;34m(self, *paths, **options)\u001b[0m\n\u001b[1;32m    353\u001b[0m int96RebaseMode \u001b[38;5;241m=\u001b[39m options\u001b[38;5;241m.\u001b[39mget(\u001b[38;5;124m\"\u001b[39m\u001b[38;5;124mint96RebaseMode\u001b[39m\u001b[38;5;124m\"\u001b[39m, \u001b[38;5;28;01mNone\u001b[39;00m)\n\u001b[1;32m    354\u001b[0m \u001b[38;5;28mself\u001b[39m\u001b[38;5;241m.\u001b[39m_set_opts(\n\u001b[1;32m    355\u001b[0m     mergeSchema\u001b[38;5;241m=\u001b[39mmergeSchema,\n\u001b[1;32m    356\u001b[0m     pathGlobFilter\u001b[38;5;241m=\u001b[39mpathGlobFilter,\n\u001b[0;32m   (...)\u001b[0m\n\u001b[1;32m    361\u001b[0m     int96RebaseMode\u001b[38;5;241m=\u001b[39mint96RebaseMode,\n\u001b[1;32m    362\u001b[0m )\n\u001b[0;32m--> 364\u001b[0m \u001b[38;5;28;01mreturn\u001b[39;00m \u001b[38;5;28mself\u001b[39m\u001b[38;5;241m.\u001b[39m_df(\u001b[38;5;28;43mself\u001b[39;49m\u001b[38;5;241;43m.\u001b[39;49m\u001b[43m_jreader\u001b[49m\u001b[38;5;241;43m.\u001b[39;49m\u001b[43mparquet\u001b[49m\u001b[43m(\u001b[49m\u001b[43m_to_seq\u001b[49m\u001b[43m(\u001b[49m\u001b[38;5;28;43mself\u001b[39;49m\u001b[38;5;241;43m.\u001b[39;49m\u001b[43m_spark\u001b[49m\u001b[38;5;241;43m.\u001b[39;49m\u001b[43m_sc\u001b[49m\u001b[43m,\u001b[49m\u001b[43m \u001b[49m\u001b[43mpaths\u001b[49m\u001b[43m)\u001b[49m\u001b[43m)\u001b[49m)\n",
      "File \u001b[0;32m~/anaconda3/envs/python3/lib/python3.10/site-packages/py4j/java_gateway.py:1321\u001b[0m, in \u001b[0;36mJavaMember.__call__\u001b[0;34m(self, *args)\u001b[0m\n\u001b[1;32m   1315\u001b[0m command \u001b[38;5;241m=\u001b[39m proto\u001b[38;5;241m.\u001b[39mCALL_COMMAND_NAME \u001b[38;5;241m+\u001b[39m\\\n\u001b[1;32m   1316\u001b[0m     \u001b[38;5;28mself\u001b[39m\u001b[38;5;241m.\u001b[39mcommand_header \u001b[38;5;241m+\u001b[39m\\\n\u001b[1;32m   1317\u001b[0m     args_command \u001b[38;5;241m+\u001b[39m\\\n\u001b[1;32m   1318\u001b[0m     proto\u001b[38;5;241m.\u001b[39mEND_COMMAND_PART\n\u001b[1;32m   1320\u001b[0m answer \u001b[38;5;241m=\u001b[39m \u001b[38;5;28mself\u001b[39m\u001b[38;5;241m.\u001b[39mgateway_client\u001b[38;5;241m.\u001b[39msend_command(command)\n\u001b[0;32m-> 1321\u001b[0m return_value \u001b[38;5;241m=\u001b[39m \u001b[43mget_return_value\u001b[49m\u001b[43m(\u001b[49m\n\u001b[1;32m   1322\u001b[0m \u001b[43m    \u001b[49m\u001b[43manswer\u001b[49m\u001b[43m,\u001b[49m\u001b[43m \u001b[49m\u001b[38;5;28;43mself\u001b[39;49m\u001b[38;5;241;43m.\u001b[39;49m\u001b[43mgateway_client\u001b[49m\u001b[43m,\u001b[49m\u001b[43m \u001b[49m\u001b[38;5;28;43mself\u001b[39;49m\u001b[38;5;241;43m.\u001b[39;49m\u001b[43mtarget_id\u001b[49m\u001b[43m,\u001b[49m\u001b[43m \u001b[49m\u001b[38;5;28;43mself\u001b[39;49m\u001b[38;5;241;43m.\u001b[39;49m\u001b[43mname\u001b[49m\u001b[43m)\u001b[49m\n\u001b[1;32m   1324\u001b[0m \u001b[38;5;28;01mfor\u001b[39;00m temp_arg \u001b[38;5;129;01min\u001b[39;00m temp_args:\n\u001b[1;32m   1325\u001b[0m     temp_arg\u001b[38;5;241m.\u001b[39m_detach()\n",
      "File \u001b[0;32m~/anaconda3/envs/python3/lib/python3.10/site-packages/pyspark/sql/utils.py:196\u001b[0m, in \u001b[0;36mcapture_sql_exception.<locals>.deco\u001b[0;34m(*a, **kw)\u001b[0m\n\u001b[1;32m    192\u001b[0m converted \u001b[38;5;241m=\u001b[39m convert_exception(e\u001b[38;5;241m.\u001b[39mjava_exception)\n\u001b[1;32m    193\u001b[0m \u001b[38;5;28;01mif\u001b[39;00m \u001b[38;5;129;01mnot\u001b[39;00m \u001b[38;5;28misinstance\u001b[39m(converted, UnknownException):\n\u001b[1;32m    194\u001b[0m     \u001b[38;5;66;03m# Hide where the exception came from that shows a non-Pythonic\u001b[39;00m\n\u001b[1;32m    195\u001b[0m     \u001b[38;5;66;03m# JVM exception message.\u001b[39;00m\n\u001b[0;32m--> 196\u001b[0m     \u001b[38;5;28;01mraise\u001b[39;00m converted \u001b[38;5;28;01mfrom\u001b[39;00m \u001b[38;5;28mNone\u001b[39m\n\u001b[1;32m    197\u001b[0m \u001b[38;5;28;01melse\u001b[39;00m:\n\u001b[1;32m    198\u001b[0m     \u001b[38;5;28;01mraise\u001b[39;00m\n",
      "\u001b[0;31mAnalysisException\u001b[0m: Path does not exist: s3a://sapient-bucket-refined/prod/bro/small"
     ]
    }
   ],
   "source": [
    "df_bro = readCheckpoint('bro', env)"
   ]
  },
  {
   "cell_type": "code",
   "execution_count": 25,
   "id": "37ad8cbc-ae4b-4c5a-b39b-53d104e412f2",
   "metadata": {
    "tags": []
   },
   "outputs": [
    {
     "ename": "NameError",
     "evalue": "name 'df_bro' is not defined",
     "output_type": "error",
     "traceback": [
      "\u001b[0;31m---------------------------------------------------------------------------\u001b[0m",
      "\u001b[0;31mNameError\u001b[0m                                 Traceback (most recent call last)",
      "Cell \u001b[0;32mIn[25], line 1\u001b[0m\n\u001b[0;32m----> 1\u001b[0m \u001b[43mdf_bro\u001b[49m\u001b[38;5;241m.\u001b[39mprintSchema()\n",
      "\u001b[0;31mNameError\u001b[0m: name 'df_bro' is not defined"
     ]
    }
   ],
   "source": [
    "df_bro.printSchema()"
   ]
  },
  {
   "cell_type": "markdown",
   "id": "7ea55fb9-f33c-48e4-b0b4-b7fe856af20f",
   "metadata": {},
   "source": [
    "#### Business Glossary for Network Data\n",
    "\n",
    "| Column Name   | Description                                                                                   |\n",
    "|---------------|-----------------------------------------------------------------------------------------------|\n",
    "| ts            | Timestamp                                                           |\n",
    "| uid           | A unique identifier for each connection                                                        |\n",
    "| id.orig_h     | IP address of the host that initiated the connection                                          |\n",
    "| id.orig_p     | Port number used by the host that initiated the connection                                     |\n",
    "| id.resp_h     | IP address of the host that received the connection                                            |\n",
    "| id.resp_p     | Port number used by the host that received the connection                                      |\n",
    "| proto         | Network protocol used for the connection (e.g. TCP, UDP)                                       |\n",
    "| service       | Service used for the connection (e.g. http, ftp)                                               |\n",
    "| duration      | Length of time (in seconds) that the connection was active                                     |\n",
    "| orig_bytes    | Number of bytes transmitted by the host that initiated the connection                         |\n",
    "| resp_bytes    | Number of bytes transmitted by the host that received the connection                          |\n",
    "| conn_state    | Current state of the connection                                                               |\n",
    "| local_orig    | Indicates whether the connection was initiated by a local host                                |\n",
    "| local_resp    | Indicates whether the connection was received by a local host                                 |\n",
    "| missed_bytes  | Number of bytes that were lost during transmission                                             |\n",
    "| history       | Record of the connection history                                                              |\n",
    "| orig_pkts     | Number of packets transmitted by the host that initiated the connection                       |\n",
    "| orig_ip_bytes | Number of IP bytes transmitted by the host that initiated the connection                       |\n",
    "| resp_pkts     | Number of packets transmitted by the host that received the connection                        |\n",
    "| resp_ip_bytes | Number of IP bytes transmitted by the host that received the connection                        |\n",
    "| tunnel_parents| Identifies any parent connections for the connection (if any)                                  |\n"
   ]
  },
  {
   "cell_type": "markdown",
   "id": "919b827d-7a33-4993-ac3e-9c74b0c565e3",
   "metadata": {},
   "source": [
    "#### Load ecarbro data (Link Data between records in the ecar stream and bro tables)"
   ]
  },
  {
   "cell_type": "code",
   "execution_count": 33,
   "id": "85ea208b-c82a-45f8-ad13-e2d76e35d3fa",
   "metadata": {
    "tags": []
   },
   "outputs": [
    {
     "name": "stdout",
     "output_type": "stream",
     "text": [
      "--- 0.6302971839904785 seconds ---\n"
     ]
    }
   ],
   "source": [
    "df_ecarbro = readCheckpoint('ecar-bro', env)"
   ]
  },
  {
   "cell_type": "code",
   "execution_count": 27,
   "id": "0cfdcbdb-2856-47e7-be5d-57fcb0bf471b",
   "metadata": {
    "tags": []
   },
   "outputs": [
    {
     "name": "stdout",
     "output_type": "stream",
     "text": [
      "root\n",
      " |-- action: string (nullable = true)\n",
      " |-- actorID: string (nullable = true)\n",
      " |-- hostname: string (nullable = true)\n",
      " |-- id: string (nullable = true)\n",
      " |-- object: string (nullable = true)\n",
      " |-- objectID: string (nullable = true)\n",
      " |-- pid: integer (nullable = true)\n",
      " |-- ppid: integer (nullable = true)\n",
      " |-- principal: string (nullable = true)\n",
      " |-- tid: integer (nullable = true)\n",
      " |-- timestamp: timestamp (nullable = true)\n",
      " |-- acuity_level: string (nullable = true)\n",
      " |-- bro_uid: string (nullable = true)\n",
      " |-- dest_ip: string (nullable = true)\n",
      " |-- dest_port: integer (nullable = true)\n",
      " |-- direction: string (nullable = true)\n",
      " |-- image_path: string (nullable = true)\n",
      " |-- l4protocol: string (nullable = true)\n",
      " |-- src_ip: string (nullable = true)\n",
      " |-- src_port: integer (nullable = true)\n",
      " |-- event_minute: integer (nullable = true)\n",
      " |-- event_day: integer (nullable = true)\n",
      " |-- event_hour: integer (nullable = true)\n",
      "\n"
     ]
    }
   ],
   "source": [
    "df_ecarbro.printSchema()"
   ]
  },
  {
   "cell_type": "markdown",
   "id": "317d6fbc-63cd-404c-82a3-5d0a14ae24a2",
   "metadata": {
    "tags": []
   },
   "source": [
    "#### Business Glossary for Link Data\n",
    "\n",
    "\n",
    "| Column Name  | Description                                                                                     |\n",
    "|--------------|-------------------------------------------------------------------------------------------------|\n",
    "| action       | Action performed in the event                                                                   |\n",
    "| actorID      | Unique ID of the actor who performed the action                                                 |\n",
    "| hostname     | Hostname of the system where the action was performed                                           |\n",
    "| id           | ID associated with the event                                                                    |\n",
    "| object       | Object related to the event                                                                     |\n",
    "| objectID     | Unique ID of the object related to the event                                                    |\n",
    "| pid          | Process ID associated with the event                                                            |\n",
    "| ppid         | Parent process ID associated with the event                                                     |\n",
    "| principal    | Principal associated with the event                                                              |\n",
    "| tid          | Thread ID associated with the event                                                              |\n",
    "| timestamp    | Time when the event occurred                                                                    |\n",
    "| acuity_level | Acuity level associated with the event                                                           |\n",
    "| bro_uid      | Bro unique identifier associated with the event                                                 |\n",
    "| dest_ip      | IP address of the destination of the event                                                       |\n",
    "| dest_port    | Port number of the destination of the event                                                      |\n",
    "| direction    | Direction of the event (inbound/outbound)                                                        |\n",
    "| image_path   | Path of the image associated with the event                                                      |\n",
    "| l4protocol   | Layer 4 protocol used in the event                                                               |\n",
    "| src_ip       | IP address of the source of the event                                                            |\n",
    "| src_port     | Port number of the source of the event                                                           |\n",
    "| event_minute| Minute of the event\n",
    "| event_day| Day of the event\n",
    "| event_hour| Hour of the event"
   ]
  },
  {
   "cell_type": "markdown",
   "id": "fedf6cf1-7c4a-4260-8fbe-95d33e4d1f13",
   "metadata": {},
   "source": [
    "#### Load ecar data (Endpoint Data, e.g. PC, Smartphone, Router, IOT device, etc.)"
   ]
  },
  {
   "cell_type": "code",
   "execution_count": 28,
   "id": "5cdbab49-aa87-43dc-a8bb-2c4137909923",
   "metadata": {
    "tags": []
   },
   "outputs": [
    {
     "name": "stdout",
     "output_type": "stream",
     "text": [
      "--- 4.522921800613403 seconds ---\n"
     ]
    }
   ],
   "source": [
    "df_ecar = readCheckpoint('ecar', env, size).cache()"
   ]
  },
  {
   "cell_type": "code",
   "execution_count": 29,
   "id": "1dc73a86-49e0-46cf-924e-5a02e956a685",
   "metadata": {
    "tags": []
   },
   "outputs": [
    {
     "name": "stdout",
     "output_type": "stream",
     "text": [
      "root\n",
      " |-- action: string (nullable = true)\n",
      " |-- actorID: string (nullable = true)\n",
      " |-- hostname: string (nullable = true)\n",
      " |-- id: string (nullable = true)\n",
      " |-- object: string (nullable = true)\n",
      " |-- objectID: string (nullable = true)\n",
      " |-- pid: integer (nullable = true)\n",
      " |-- ppid: integer (nullable = true)\n",
      " |-- principal: string (nullable = true)\n",
      " |-- tid: integer (nullable = true)\n",
      " |-- timestamp: timestamp (nullable = true)\n",
      " |-- acuity_level: string (nullable = true)\n",
      " |-- base_address: string (nullable = true)\n",
      " |-- command_line: string (nullable = true)\n",
      " |-- context_info: string (nullable = true)\n",
      " |-- data: string (nullable = true)\n",
      " |-- dest_port: integer (nullable = true)\n",
      " |-- direction: string (nullable = true)\n",
      " |-- end_time: timestamp (nullable = true)\n",
      " |-- file_path: string (nullable = true)\n",
      " |-- image_path: string (nullable = true)\n",
      " |-- info_class: string (nullable = true)\n",
      " |-- key: string (nullable = true)\n",
      " |-- l4protocol: string (nullable = true)\n",
      " |-- logon_id: string (nullable = true)\n",
      " |-- module_path: string (nullable = true)\n",
      " |-- new_path: string (nullable = true)\n",
      " |-- parent_image_path: string (nullable = true)\n",
      " |-- path: string (nullable = true)\n",
      " |-- payload: string (nullable = true)\n",
      " |-- privileges: string (nullable = true)\n",
      " |-- requesting_domain: string (nullable = true)\n",
      " |-- requesting_logon_id: string (nullable = true)\n",
      " |-- requesting_user: string (nullable = true)\n",
      " |-- sid: string (nullable = true)\n",
      " |-- size: string (nullable = true)\n",
      " |-- src_ip: string (nullable = true)\n",
      " |-- src_pid: integer (nullable = true)\n",
      " |-- src_port: integer (nullable = true)\n",
      " |-- src_tid: string (nullable = true)\n",
      " |-- stack_base: string (nullable = true)\n",
      " |-- stack_limit: string (nullable = true)\n",
      " |-- start_address: string (nullable = true)\n",
      " |-- start_time: timestamp (nullable = true)\n",
      " |-- subprocess_tag: string (nullable = true)\n",
      " |-- task_name: string (nullable = true)\n",
      " |-- task_pid: integer (nullable = true)\n",
      " |-- task_process_uuid: string (nullable = true)\n",
      " |-- tgt_pid: integer (nullable = true)\n",
      " |-- tgt_pid_uuid: string (nullable = true)\n",
      " |-- tgt_tid: integer (nullable = true)\n",
      " |-- type: string (nullable = true)\n",
      " |-- user: string (nullable = true)\n",
      " |-- user_name: string (nullable = true)\n",
      " |-- user_stack_base: string (nullable = true)\n",
      " |-- user_stack_limit: string (nullable = true)\n",
      " |-- value: string (nullable = true)\n",
      " |-- event_day: integer (nullable = true)\n",
      " |-- event_hour: integer (nullable = true)\n",
      " |-- event_minute: integer (nullable = true)\n",
      "\n"
     ]
    }
   ],
   "source": [
    "df_ecar.printSchema()"
   ]
  },
  {
   "cell_type": "markdown",
   "id": "b9f6f92e-3c11-471a-b541-a4d0987c0fc2",
   "metadata": {
    "tags": []
   },
   "source": [
    "| Field          | Definition                                                                                                                                                                                                                                                                                                                                                                                                                                                                                                                                                                                                                                                                                                                                                                                                                                                                                                                                                                                                                                          |\n",
    "|----------------|-------------------------------------------------------------------------------------------------------------------------------------------------------------------------------------------------------------------------------------------------------------------------------------------------------------------------------------------------------------------------------------------------------------------------------------------------------------------------------------------------------------------------------------------------------------------------------------------------------------------------------------------------------------------------------------------------------------------------------------------------------------------------------------------------------------------------------------------------------------------------------------------------------------------------------------------------------------------------------------|\n",
    "| action         | The type of action taken, e.g. START, MODIFY, etc.                                                                                                                                                                                                                                                                                                                                                                                                                                                                                                                                                                                                                                                                                                                                                                                                                                                                                                                                                             |\n",
    "| actorID        | The ID of the actor responsible for the action.                                                                                                                                                                                                                                                                                                                                                                                                                                                                                                                                                                                                                                                                                                                                                                                                                                                                                                                                         |\n",
    "| hostname       | The hostname of the device where the action occurred.                                                                                                                                                                                                                                                                                                                                                                                                                                                                                                                                                                                                                                                                                                                                                                                                                                                                                                                                  |\n",
    "| id             | The ID of the event.                                                                                                                                                                                                                                                                                                                                                                                                                                                                                                                                                                                                                                                                                                                                                                                                                                                                                                                                                                    |\n",
    "| object         | The object associated with the event.                                                                                                                                                                                                                                                                                                                                                                                                                                                                                                                                                                                                                                                                                                                                                                                                                                                                                                                                                  |\n",
    "| objectID       | The ID of the object associated with the event.                                                                                                                                                                                                                                                                                                                                                                                                                                                                                                                                                                                                                                                                                                                                                                                                                                                                                                                                         |\n",
    "| pid            | The process ID associated with the event.                                                                                                                                                                                                                                                                                                                                                                                                                                                                                                                                                                                                                                                                                                                                                                                                                                                                                                                                               |\n",
    "| ppid           | The parent process ID associated with the event.                                                                                                                                                                                                                                                                                                                                                                                                                                                                                                                                                                                                                                                                                                                                                                                                                                                                                                                                        |\n",
    "| principal      | The user or account associated with the event.                                                                                                                                                                                                                                                                                                                                                                                                                                                                                                                                                                                                                                                                                                                                                                                                                                                                                                                                           |\n",
    "| tid            | The thread ID associated with the event.                                                                                                                                                                                                                                                                                                                                                                                                                                                                                                                                                                                                                                                                                                                                                                                                                                                                                                                                                 |\n",
    "| timestamp      | The timestamp of the event.                                                                                                                                                                                                                                                                                                                                                                                                                                                                                                                                                                                                                                                                                                                                                                                                                                                                                                                                                              |\n",
    "| acuity_level   | The severity of the event.                                                                                                                                                                                                                                                                                                                                                                                                                                                                                                                                                                                                                                                                                                                                                                                                                                                                                                                                                               |\n",
    "| base_address   | The base address of the object associated with the event.                                                                                                                                                                                                                                                                                                                                                                                                                                                                                                                                                                                                                                                                                                                                                                                                                                                                                                                               |\n",
    "| command_line   | The command line associated with the event.                                                                                                                                                                                                                                                                                                                                                                                                                                                                                                                                                                                                                                                                                                                                                                                                                                                                                                                                              |\n",
    "| context_info   | Additional context information associated with the event.                                                                                                                                                                                                                                                                                                                                                                                                                                                                                                                                                                                                                                                                                                                                                                                                                                                                                                                               |\n",
    "| data           | Additional data associated with the event.                                                                                                                                                                                                                                                                                                                                                                                                                                                                                                                                                                                                                                                                                                                                                                                                                                                                                                                                               |\n",
    "| dest_port      | The destination port associated with the event.                                                                                                                                                                                                                                                                                                                                                                                                                                                                                                                                                                                                                                                                                                                                                                                                                                                                                                                                          |\n",
    "| direction      | The direction of the event (e.g. inbound/outbound).                                                                                                                                                                                                                                                                                                                                                                                                                                                                                                                                                                                                                                                                                                                                                                                                                                                                                                                                       |\n",
    "| end_time       | The end time of the event.                                                                                                                                                                                                                                                                                                                                                                                                                                                                                                                                                                                                                                                                                                                                                                                                                                                                                                                                                                |\n",
    "| file_path      | The file path associated with the event.                                                                                                                                                                                                                                                                                                                                                                                                                                                                                                                                                                                                                                                                                                                                                                                                                                                                                                                                                  |\n",
    "| image_path     | The image path associated with the event.                                                                                                                                                                                                                                                                                                                                                                                                                                                                                                                                                                                                                                                                                                                                                                                                                                                                                                                                                 |\n",
    "| info_class     | The information class associated with the event.                                                                                                                                                                                                                                                                                                                                                                                                                                                                                                                                                                                                                                                                                                                                                                                                                                                                                                                                         |\n",
    "| key            | The registry key associated with the event.                                                                                                                                                                                                                                                                                                                                                                                                                                                                                                                                                                                                                                                                                                                                                                                                                                                                                                                                              |\n",
    "| l4protocol     | The layer 4 protocol associated with the event.                                                                                                                                                                                                                                                                                                                                                                                                                                                                                                                                                                                                                                                                                                                                                                                                                                                                                                                                           |\n",
    "| logon_id       | The logon ID associated with the event.                                                                                                                                                                                                                                                                                                                                                                                                                                                                                                                                                                                                                                                                                                                                                                                                                                                                                                                                                  |\n",
    "| module_path    | The module path associated with the event.                                                                                                                                                                                                                                                                                                                                                                                                                                                                                                                                                                                                                                                                                                                                                                                                                                                                                                                                               |\n",
    "| new_path       | The new path associated with the event.                                                                                                                                                                                                                                                                                                                                                                                                                                                                                                                                                                                                                                                                                                                                                                                                                                                                                                                                                  |\n",
    "| parent_image_path | The parent image path associated with the event.                                                                                                                                                                                                                                                                                                                                                                                                                                                                                                                                                                                                                                                                                                                                                                                                                                                                                                                                         |\n",
    "| path           | The path associated with the event.                                                                                                                                                                                                                                                                                                                                                                                                                                                                                                                                                                                                                                                                                                                                                                                                                                                                                                                                                       |\n",
    "| payload        | The payload associated with the event.                                                                                                                                                                                                                                                                                                                                                                                                                                                                                                                                                                                                                                                                                                                                                                                                                                                                                                                                                   |\n",
    "| privileges     | The privileges associated with the event.                                                                                                                                                                                                                                                                                                                                                                                                                                                                                                                                                                                                                                                                                                                                                                                                                                                                                                                                                |\n",
    "| requesting_domain | The domain of the account that made the request.                                                                                                                                                                                                                                                                                                                                                                                                                                                                                                                                                                                                                                                                                                                                                                                                                                                                                                                                        |\n",
    "| requesting_logon_id | The logon ID of the account\n",
    "| stack_base | The base address of the stack for the thread that generated the event |\n",
    "| stack_limit | The limit of the stack for the thread that generated the event |\n",
    "| start_address | The starting address of the process that generated the event |\n",
    "| start_time | The time at which the process that generated the event started |\n",
    "| subprocess_tag | A unique tag that identifies the subprocess that generated the event |\n",
    "| task_name | The name of the task that generated the event |\n",
    "| task_pid | The process ID of the task that generated the event |\n",
    "| task_process_uuid | The UUID of the process that generated the event |\n",
    "| tgt_pid | The process ID of the target of the event |\n",
    "| tgt_pid_uuid | The UUID of the target process of the event |\n",
    "| tgt_tid | The thread ID of the target of the event |\n",
    "| type | The type of event that was generated |\n",
    "| user | The user associated with the event |\n",
    "| user_name | The name of the user associated with the event |\n",
    "| user_stack_base | The base address of the stack for the user associated with the event |\n",
    "| user_stack_limit | The limit of the stack for the user associated with the event |\n",
    "| value | The value associated with the event |\n",
    "| event_day | The day on which the event occurred |\n",
    "| event_hour | The hour at which the event occurred |\n",
    "| event_minute | The minute at which the event occurred |\n"
   ]
  },
  {
   "cell_type": "markdown",
   "id": "f3c14636-7d91-42c9-9834-02873c706300",
   "metadata": {},
   "source": [
    "## Part 2: EDA"
   ]
  },
  {
   "cell_type": "markdown",
   "id": "6af79a36-cadd-4c5d-bd8d-d3add271615e",
   "metadata": {},
   "source": [
    "#### Network Data (bro)"
   ]
  },
  {
   "cell_type": "code",
   "execution_count": 16,
   "id": "accb118e-3d77-49ff-8634-82f7a1d97820",
   "metadata": {
    "tags": []
   },
   "outputs": [
    {
     "name": "stdout",
     "output_type": "stream",
     "text": [
      "Total number of rows: 1000000\n"
     ]
    },
    {
     "name": "stderr",
     "output_type": "stream",
     "text": [
      "                                                                                \r"
     ]
    },
    {
     "data": {
      "text/html": [
       "<div>\n",
       "<style scoped>\n",
       "    .dataframe tbody tr th:only-of-type {\n",
       "        vertical-align: middle;\n",
       "    }\n",
       "\n",
       "    .dataframe tbody tr th {\n",
       "        vertical-align: top;\n",
       "    }\n",
       "\n",
       "    .dataframe thead th {\n",
       "        text-align: right;\n",
       "    }\n",
       "</style>\n",
       "<table border=\"1\" class=\"dataframe\">\n",
       "  <thead>\n",
       "    <tr style=\"text-align: right;\">\n",
       "      <th></th>\n",
       "      <th>ts</th>\n",
       "      <th>uid</th>\n",
       "      <th>id_orig_h</th>\n",
       "      <th>id_orig_p</th>\n",
       "      <th>id_resp_h</th>\n",
       "      <th>id_resp_p</th>\n",
       "      <th>proto</th>\n",
       "      <th>service</th>\n",
       "      <th>duration</th>\n",
       "      <th>orig_bytes</th>\n",
       "      <th>...</th>\n",
       "      <th>conn_state</th>\n",
       "      <th>local_orig</th>\n",
       "      <th>local_resp</th>\n",
       "      <th>missed_bytes</th>\n",
       "      <th>history</th>\n",
       "      <th>orig_pkts</th>\n",
       "      <th>orig_ip_bytes</th>\n",
       "      <th>resp_pkts</th>\n",
       "      <th>resp_ip_bytes</th>\n",
       "      <th>tunnel_parents</th>\n",
       "    </tr>\n",
       "  </thead>\n",
       "  <tbody>\n",
       "    <tr>\n",
       "      <th>0</th>\n",
       "      <td>1569229902.160783</td>\n",
       "      <td>C5YpaP3EG1o5wZlzd2</td>\n",
       "      <td>142.20.57.68</td>\n",
       "      <td>59819</td>\n",
       "      <td>77.31.181.5</td>\n",
       "      <td>443</td>\n",
       "      <td>tcp</td>\n",
       "      <td>ssl</td>\n",
       "      <td>0.011506</td>\n",
       "      <td>1013</td>\n",
       "      <td>...</td>\n",
       "      <td>SF</td>\n",
       "      <td>F</td>\n",
       "      <td>F</td>\n",
       "      <td>0</td>\n",
       "      <td>ShADadfF</td>\n",
       "      <td>8</td>\n",
       "      <td>1345</td>\n",
       "      <td>8</td>\n",
       "      <td>1228</td>\n",
       "      <td>(empty)</td>\n",
       "    </tr>\n",
       "    <tr>\n",
       "      <th>1</th>\n",
       "      <td>1569229902.731024</td>\n",
       "      <td>CTE0AV32kyqDXu11b8</td>\n",
       "      <td>142.20.58.37</td>\n",
       "      <td>58367</td>\n",
       "      <td>86.62.223.5</td>\n",
       "      <td>443</td>\n",
       "      <td>tcp</td>\n",
       "      <td>ssl</td>\n",
       "      <td>0.016421</td>\n",
       "      <td>1141</td>\n",
       "      <td>...</td>\n",
       "      <td>SF</td>\n",
       "      <td>F</td>\n",
       "      <td>F</td>\n",
       "      <td>0</td>\n",
       "      <td>ShADadfF</td>\n",
       "      <td>7</td>\n",
       "      <td>1433</td>\n",
       "      <td>13</td>\n",
       "      <td>10644</td>\n",
       "      <td>(empty)</td>\n",
       "    </tr>\n",
       "    <tr>\n",
       "      <th>2</th>\n",
       "      <td>1569229901.914922</td>\n",
       "      <td>CY9kka27oiscS8BlBk</td>\n",
       "      <td>88.232.210.103</td>\n",
       "      <td>46402</td>\n",
       "      <td>142.20.61.158</td>\n",
       "      <td>443</td>\n",
       "      <td>tcp</td>\n",
       "      <td>ssl</td>\n",
       "      <td>0.039084</td>\n",
       "      <td>1023</td>\n",
       "      <td>...</td>\n",
       "      <td>SF</td>\n",
       "      <td>F</td>\n",
       "      <td>F</td>\n",
       "      <td>0</td>\n",
       "      <td>ShADadfF</td>\n",
       "      <td>9</td>\n",
       "      <td>1499</td>\n",
       "      <td>12</td>\n",
       "      <td>8116</td>\n",
       "      <td>(empty)</td>\n",
       "    </tr>\n",
       "    <tr>\n",
       "      <th>3</th>\n",
       "      <td>1569229901.953978</td>\n",
       "      <td>C32MZ42jecrtyBex2c</td>\n",
       "      <td>142.20.59.164</td>\n",
       "      <td>50297</td>\n",
       "      <td>165.101.35.5</td>\n",
       "      <td>443</td>\n",
       "      <td>tcp</td>\n",
       "      <td>ssl</td>\n",
       "      <td>0.007827</td>\n",
       "      <td>917</td>\n",
       "      <td>...</td>\n",
       "      <td>SF</td>\n",
       "      <td>F</td>\n",
       "      <td>F</td>\n",
       "      <td>0</td>\n",
       "      <td>ShADadfF</td>\n",
       "      <td>8</td>\n",
       "      <td>1249</td>\n",
       "      <td>8</td>\n",
       "      <td>1084</td>\n",
       "      <td>(empty)</td>\n",
       "    </tr>\n",
       "    <tr>\n",
       "      <th>4</th>\n",
       "      <td>1569229901.924342</td>\n",
       "      <td>Cp0EV73HoT13cVkU0f</td>\n",
       "      <td>142.20.57.68</td>\n",
       "      <td>59783</td>\n",
       "      <td>77.31.181.5</td>\n",
       "      <td>443</td>\n",
       "      <td>tcp</td>\n",
       "      <td>ssl</td>\n",
       "      <td>0.038845</td>\n",
       "      <td>949</td>\n",
       "      <td>...</td>\n",
       "      <td>SF</td>\n",
       "      <td>F</td>\n",
       "      <td>F</td>\n",
       "      <td>0</td>\n",
       "      <td>ShADadfF</td>\n",
       "      <td>33</td>\n",
       "      <td>2281</td>\n",
       "      <td>197</td>\n",
       "      <td>247930</td>\n",
       "      <td>(empty)</td>\n",
       "    </tr>\n",
       "  </tbody>\n",
       "</table>\n",
       "<p>5 rows × 21 columns</p>\n",
       "</div>"
      ],
      "text/plain": [
       "                  ts                 uid       id_orig_h  id_orig_p  \\\n",
       "0  1569229902.160783  C5YpaP3EG1o5wZlzd2    142.20.57.68      59819   \n",
       "1  1569229902.731024  CTE0AV32kyqDXu11b8    142.20.58.37      58367   \n",
       "2  1569229901.914922  CY9kka27oiscS8BlBk  88.232.210.103      46402   \n",
       "3  1569229901.953978  C32MZ42jecrtyBex2c   142.20.59.164      50297   \n",
       "4  1569229901.924342  Cp0EV73HoT13cVkU0f    142.20.57.68      59783   \n",
       "\n",
       "       id_resp_h  id_resp_p proto service  duration  orig_bytes  ...  \\\n",
       "0    77.31.181.5        443   tcp     ssl  0.011506        1013  ...   \n",
       "1    86.62.223.5        443   tcp     ssl  0.016421        1141  ...   \n",
       "2  142.20.61.158        443   tcp     ssl  0.039084        1023  ...   \n",
       "3   165.101.35.5        443   tcp     ssl  0.007827         917  ...   \n",
       "4    77.31.181.5        443   tcp     ssl  0.038845         949  ...   \n",
       "\n",
       "   conn_state local_orig local_resp missed_bytes   history orig_pkts  \\\n",
       "0          SF          F          F            0  ShADadfF         8   \n",
       "1          SF          F          F            0  ShADadfF         7   \n",
       "2          SF          F          F            0  ShADadfF         9   \n",
       "3          SF          F          F            0  ShADadfF         8   \n",
       "4          SF          F          F            0  ShADadfF        33   \n",
       "\n",
       "   orig_ip_bytes  resp_pkts  resp_ip_bytes  tunnel_parents  \n",
       "0           1345          8           1228         (empty)  \n",
       "1           1433         13          10644         (empty)  \n",
       "2           1499         12           8116         (empty)  \n",
       "3           1249          8           1084         (empty)  \n",
       "4           2281        197         247930         (empty)  \n",
       "\n",
       "[5 rows x 21 columns]"
      ]
     },
     "execution_count": 16,
     "metadata": {},
     "output_type": "execute_result"
    }
   ],
   "source": [
    "# Count the number of rows in the DataFrame\n",
    "print('Total number of rows:', df_bro.count())\n",
    "\n",
    "# update column names from period to underscore\n",
    "df_bro = df_bro.withColumnRenamed(\"id.orig_h\", \"id_orig_h\") \\\n",
    "               .withColumnRenamed(\"id.orig_p\", \"id_orig_p\") \\\n",
    "               .withColumnRenamed(\"id.resp_\", \"id_resp_h\") \\\n",
    "               .withColumnRenamed(\"id.resp_p\", \"id_resp_p\")\n",
    "\n",
    "# Show the first 5 rows of the DataFrame\n",
    "df_bro.limit(5).toPandas()"
   ]
  },
  {
   "cell_type": "code",
   "execution_count": 17,
   "id": "88cdbe36-22a5-4e79-9965-a3d1b2a31f33",
   "metadata": {
    "tags": []
   },
   "outputs": [
    {
     "name": "stderr",
     "output_type": "stream",
     "text": [
      "[Stage 12:=============================>                            (2 + 2) / 4]\r"
     ]
    },
    {
     "name": "stdout",
     "output_type": "stream",
     "text": [
      "                    duration         orig_bytes missed_bytes  \\\n",
      "summary                                                        \n",
      "count                1000000             999902      1000000   \n",
      "mean     0.45781839208142383  1049.174824132765          0.0   \n",
      "stddev     5.986019914647287  3821.249823948936          0.0   \n",
      "min                        -                  0            0   \n",
      "max                99.993716            2015732            0   \n",
      "\n",
      "                 orig_pkts       orig_ip_bytes           resp_pkts  \\\n",
      "summary                                                              \n",
      "count              1000000             1000000             1000000   \n",
      "mean             10.282347         1503.159897           27.220008   \n",
      "stddev   12.77868930941242  4039.7019754288954  113.90481994537306   \n",
      "min                      1                  52                   0   \n",
      "max                   1672             2080825                7992   \n",
      "\n",
      "             resp_ip_bytes  \n",
      "summary                     \n",
      "count              1000000  \n",
      "mean          26791.034246  \n",
      "stddev   147551.6359708725  \n",
      "min                      0  \n",
      "max               10370539  \n"
     ]
    },
    {
     "name": "stderr",
     "output_type": "stream",
     "text": [
      "                                                                                \r"
     ]
    }
   ],
   "source": [
    "# Describe the numerical columns of the DataFrame\n",
    "description = df_bro.select('duration', 'orig_bytes', 'missed_bytes', 'orig_pkts', 'orig_ip_bytes', 'resp_pkts', 'resp_ip_bytes').describe()\n",
    "\n",
    "# Convert the describe dataframe to a pandas dataframe\n",
    "pandas_df = description.toPandas()\n",
    "\n",
    "# Set the index to the statistics\n",
    "pandas_df.set_index('summary', inplace=True)\n",
    "\n",
    "# Print the pandas dataframe\n",
    "print(pandas_df)\n",
    "\n"
   ]
  },
  {
   "cell_type": "code",
   "execution_count": 26,
   "id": "12c04b69-51e8-40e9-95d1-73989009fa3e",
   "metadata": {
    "tags": []
   },
   "outputs": [
    {
     "name": "stdout",
     "output_type": "stream",
     "text": [
      "\u001b[1mCommentary:\u001b[0m A protocol is like a set of rules that computers use to talk to each other and send information over the internet. Think of it like a secret code that helps the computers understand each other and send the right information. In our data, we see different types of protocols and will investigate if any protocol is more conducive to malicious activity.\n",
      "+-----+------+\n",
      "|proto| count|\n",
      "+-----+------+\n",
      "|  tcp|995775|\n",
      "|  udp|  4202|\n",
      "| icmp|    23|\n",
      "+-----+------+\n",
      "\n",
      "\u001b[1mCommentary:\u001b[0m Services are used by computers to communicate with each other over the internet.\n",
      "+--------+------+\n",
      "| service| count|\n",
      "+--------+------+\n",
      "|     ssl|942229|\n",
      "|    http| 49922|\n",
      "|     dns|  4198|\n",
      "|       -|  3065|\n",
      "|ssl,smtp|   315|\n",
      "|smtp,ssl|   271|\n",
      "+--------+------+\n",
      "\n",
      "\u001b[1mCommentary:\u001b[0m Top 5 host pairs with the highest number of connections\n",
      "+-------------+------------+-----+\n",
      "|    id_orig_h|   id_resp_h|count|\n",
      "+-------------+------------+-----+\n",
      "|142.20.57.186|165.101.35.5| 9159|\n",
      "| 142.20.56.17|165.101.35.5| 5659|\n",
      "|142.20.59.101|165.101.35.5| 5249|\n",
      "| 142.20.58.37|165.101.35.5| 4789|\n",
      "|142.20.57.144|165.101.35.5| 4640|\n",
      "+-------------+------------+-----+\n",
      "only showing top 5 rows\n",
      "\n",
      "\u001b[1mCommentary:\u001b[0m Total number of bytes sent and received for each host\n",
      "+-------------+----------------+----------------+\n",
      "|    id_orig_h|total_orig_bytes|total_resp_bytes|\n",
      "+-------------+----------------+----------------+\n",
      "|  142.20.61.3|        12244542|          783563|\n",
      "|142.20.57.186|         8824177|        17417616|\n",
      "|142.20.59.101|         7292601|        84621482|\n",
      "|142.20.57.166|         7153236|       115886195|\n",
      "|142.20.57.191|         6970356|       112082252|\n",
      "| 142.20.56.17|         5953388|        40776693|\n",
      "|  142.20.59.1|         5835108|        76544167|\n",
      "|142.20.58.187|         5765198|       104806961|\n",
      "|142.20.58.137|         5438883|       123399116|\n",
      "| 142.20.58.37|         5315661|        44739486|\n",
      "|142.20.58.221|         5307926|         4404713|\n",
      "|142.20.59.148|         5265345|       114991505|\n",
      "|142.20.56.166|         5158763|        31805355|\n",
      "|142.20.57.144|         5102425|        37585355|\n",
      "|142.20.57.170|         5023734|        94752242|\n",
      "| 142.20.58.13|         4989509|        65512949|\n",
      "|142.20.58.233|         4892798|        58720126|\n",
      "| 142.20.59.49|         4835456|        55194408|\n",
      "|142.20.58.104|         4811787|        65410503|\n",
      "|142.20.58.154|         4802301|        34081608|\n",
      "+-------------+----------------+----------------+\n",
      "only showing top 20 rows\n",
      "\n",
      "\u001b[1mCommentary:\u001b[0m Average duration of connections for each service\n",
      "+--------+--------------------+\n",
      "| service|        avg_duration|\n",
      "+--------+--------------------+\n",
      "|    http|    8.01658660654624|\n",
      "|ssl,smtp|   3.453596504761905|\n",
      "|smtp,ssl|  2.8917511881918814|\n",
      "|       -|  1.2104134379730167|\n",
      "|     ssl|  0.0552030650892721|\n",
      "|     dns|0.001349147358216...|\n",
      "+--------+--------------------+\n",
      "\n"
     ]
    }
   ],
   "source": [
    "# Group the DataFrame by protocol and count the number of occurrences for each protocol\n",
    "print(\"\\033[1mCommentary:\\033[0m A protocol is like a set of rules that computers use to talk to each other and send information over the internet. Think of it like a secret code that helps the computers understand each other and send the right information. In our data, we see different types of protocols and will investigate if any protocol is more conducive to malicious activity.\")\n",
    "df_bro.groupBy('proto').count().orderBy(desc('count')).show()\n",
    "\n",
    "# Group the DataFrame by service and count the number of occurrences for each service\n",
    "print(\"\\033[1mCommentary:\\033[0m Services are used by computers to communicate with each other over the internet.\")\n",
    "df_bro.groupBy('service').count().orderBy(desc('count')).show()\n",
    "\n",
    "# Find the top 5 host pairs with the highest number of connections\n",
    "print(\"\\033[1mCommentary:\\033[0m Top 5 host pairs with the highest number of connections\")\n",
    "df_bro.groupBy('id_orig_h', 'id_resp_h').count().orderBy(desc('count')).show(5)\n",
    "\n",
    "# Find the total number of bytes sent and received for each host\n",
    "print(\"\\033[1mCommentary:\\033[0m Total number of bytes sent and received for each host\")\n",
    "df_bro.groupBy('id_orig_h')\\\n",
    "      .agg(sum('orig_bytes').alias('total_orig_bytes'), \\\n",
    "           sum('resp_bytes').alias('total_resp_bytes'))\\\n",
    "      .orderBy('total_orig_bytes', ascending=False)\\\n",
    "      .show()\n",
    "\n",
    "# Find the average duration of connections for each service\n",
    "print(\"\\033[1mCommentary:\\033[0m Average duration of connections for each service\")\n",
    "df_bro.groupBy('service').agg(avg('duration').alias('avg_duration')).orderBy(desc('avg_duration')).show()\n"
   ]
  },
  {
   "cell_type": "code",
   "execution_count": 32,
   "id": "01a48169-aef6-4a4c-a1f0-e9164300baea",
   "metadata": {
    "tags": []
   },
   "outputs": [
    {
     "data": {
      "image/png": "[encoded data removed]",
      "text/plain": [
       "<Figure size 640x480 with 1 Axes>"
      ]
     },
     "metadata": {},
     "output_type": "display_data"
    }
   ],
   "source": [
    "# Group by the data by id_orig_h and count, then sort count\n",
    "id_orig_h_counts = df_bro.groupBy('id_orig_h').agg(F.count('id_orig_h').alias('count')).orderBy('count', ascending=False)\n",
    "\n",
    "# Select the top 20 values and output to a Pandas dataframe\n",
    "top_20_id_orig_h = id_orig_h_counts.limit(20).toPandas()\n",
    "\n",
    "# Plot a histogram of the top 20 id_orig_h values\n",
    "top_20_id_orig_h.plot(kind='bar', x='id_orig_h', y='count')\n",
    "\n",
    "# set the title and axis labels\n",
    "plt.title('Top 20 IP addresses of the hosts that initiated the connection')\n",
    "plt.xlabel('Host IP')\n",
    "plt.ylabel('Frequency')\n",
    "\n",
    "# display the plot\n",
    "plt.show()\n"
   ]
  },
  {
   "cell_type": "code",
   "execution_count": 33,
   "id": "493530f6-a529-4d3e-9719-8ccea4906986",
   "metadata": {
    "tags": []
   },
   "outputs": [
    {
     "data": {
      "image/png": "[encoded data removed]",
      "text/plain": [
       "<Figure size 640x480 with 1 Axes>"
      ]
     },
     "metadata": {},
     "output_type": "display_data"
    }
   ],
   "source": [
    "# Group by the data by id_resp_h and count, then sort count\n",
    "id_resp_h_counts = df_bro.select('id_resp_h').groupBy('id_resp_h').count().orderBy(desc('count'))\n",
    "\n",
    "# select the top 20 values\n",
    "top_20_id_resp_h = id_resp_h_counts.limit(20).toPandas()\n",
    "\n",
    "# plot a histogram of the top 20 id_resp_h values\n",
    "top_20_id_resp_h.plot(kind='bar', x='id_resp_h', y='count')\n",
    "\n",
    "# set the title and axis labels\n",
    "plt.title('Top 20 IP addresses of the hosts that received the connection')\n",
    "plt.xlabel('Host IP')\n",
    "plt.ylabel('Frequency')\n",
    "\n",
    "# display the plot\n",
    "plt.show()\n",
    "\n"
   ]
  },
  {
   "cell_type": "markdown",
   "id": "1364ebc8-dbda-47bc-be7c-2ddad5c5258f",
   "metadata": {
    "tags": []
   },
   "source": [
    "#### Link Data (ecarbro)"
   ]
  },
  {
   "cell_type": "code",
   "execution_count": 19,
   "id": "8e4eb8c8-f6f0-43d9-b019-13ce59220f5f",
   "metadata": {
    "tags": []
   },
   "outputs": [
    {
     "name": "stderr",
     "output_type": "stream",
     "text": [
      "                                                                                \r"
     ]
    },
    {
     "name": "stdout",
     "output_type": "stream",
     "text": [
      "Total number of rows: 175840\n"
     ]
    },
    {
     "name": "stderr",
     "output_type": "stream",
     "text": [
      "/home/ec2-user/anaconda3/envs/python3/lib/python3.10/site-packages/pyspark/sql/pandas/conversion.py:248: FutureWarning: Passing unit-less datetime64 dtype to .astype is deprecated and will raise in a future version. Pass 'datetime64[ns]' instead\n",
      "  series = series.astype(t, copy=False)\n"
     ]
    },
    {
     "data": {
      "text/html": [
       "<div>\n",
       "<style scoped>\n",
       "    .dataframe tbody tr th:only-of-type {\n",
       "        vertical-align: middle;\n",
       "    }\n",
       "\n",
       "    .dataframe tbody tr th {\n",
       "        vertical-align: top;\n",
       "    }\n",
       "\n",
       "    .dataframe thead th {\n",
       "        text-align: right;\n",
       "    }\n",
       "</style>\n",
       "<table border=\"1\" class=\"dataframe\">\n",
       "  <thead>\n",
       "    <tr style=\"text-align: right;\">\n",
       "      <th></th>\n",
       "      <th>action</th>\n",
       "      <th>actorID</th>\n",
       "      <th>hostname</th>\n",
       "      <th>id</th>\n",
       "      <th>object</th>\n",
       "      <th>objectID</th>\n",
       "      <th>pid</th>\n",
       "      <th>ppid</th>\n",
       "      <th>principal</th>\n",
       "      <th>tid</th>\n",
       "      <th>...</th>\n",
       "      <th>dest_ip</th>\n",
       "      <th>dest_port</th>\n",
       "      <th>direction</th>\n",
       "      <th>image_path</th>\n",
       "      <th>l4protocol</th>\n",
       "      <th>src_ip</th>\n",
       "      <th>src_port</th>\n",
       "      <th>event_minute</th>\n",
       "      <th>event_day</th>\n",
       "      <th>event_hour</th>\n",
       "    </tr>\n",
       "  </thead>\n",
       "  <tbody>\n",
       "    <tr>\n",
       "      <th>0</th>\n",
       "      <td>INFO</td>\n",
       "      <td>c446795c-b73f-458a-9175-dfdfe19f7266</td>\n",
       "      <td>SysClient0003.systemia.com</td>\n",
       "      <td>94734cc3-2451-47b2-887a-3194affc2384</td>\n",
       "      <td>FLOW</td>\n",
       "      <td>18124da7-1115-4f2c-9628-cc91927fd8dd</td>\n",
       "      <td>3708</td>\n",
       "      <td>1760</td>\n",
       "      <td>SYSTEMIACOM\\wcaldwell</td>\n",
       "      <td>-1</td>\n",
       "      <td>...</td>\n",
       "      <td>None</td>\n",
       "      <td>NaN</td>\n",
       "      <td>None</td>\n",
       "      <td>None</td>\n",
       "      <td>None</td>\n",
       "      <td>None</td>\n",
       "      <td>NaN</td>\n",
       "      <td>0</td>\n",
       "      <td>23</td>\n",
       "      <td>18</td>\n",
       "    </tr>\n",
       "    <tr>\n",
       "      <th>1</th>\n",
       "      <td>INFO</td>\n",
       "      <td>c446795c-b73f-458a-9175-dfdfe19f7266</td>\n",
       "      <td>SysClient0003.systemia.com</td>\n",
       "      <td>3b96029d-81dd-4dbd-b218-5960dea386d2</td>\n",
       "      <td>FLOW</td>\n",
       "      <td>8fd457f9-3ff4-439e-8a3c-cff43a4c81ed</td>\n",
       "      <td>3708</td>\n",
       "      <td>1760</td>\n",
       "      <td>SYSTEMIACOM\\wcaldwell</td>\n",
       "      <td>-1</td>\n",
       "      <td>...</td>\n",
       "      <td>None</td>\n",
       "      <td>NaN</td>\n",
       "      <td>None</td>\n",
       "      <td>None</td>\n",
       "      <td>None</td>\n",
       "      <td>None</td>\n",
       "      <td>NaN</td>\n",
       "      <td>0</td>\n",
       "      <td>23</td>\n",
       "      <td>18</td>\n",
       "    </tr>\n",
       "    <tr>\n",
       "      <th>2</th>\n",
       "      <td>INFO</td>\n",
       "      <td>c446795c-b73f-458a-9175-dfdfe19f7266</td>\n",
       "      <td>SysClient0003.systemia.com</td>\n",
       "      <td>f1992ec6-05b5-4d53-8f52-4a83d31aacab</td>\n",
       "      <td>FLOW</td>\n",
       "      <td>81c5860c-030b-441c-84ab-e4cd113129b5</td>\n",
       "      <td>3708</td>\n",
       "      <td>1760</td>\n",
       "      <td>SYSTEMIACOM\\wcaldwell</td>\n",
       "      <td>-1</td>\n",
       "      <td>...</td>\n",
       "      <td>None</td>\n",
       "      <td>NaN</td>\n",
       "      <td>None</td>\n",
       "      <td>None</td>\n",
       "      <td>None</td>\n",
       "      <td>None</td>\n",
       "      <td>NaN</td>\n",
       "      <td>0</td>\n",
       "      <td>23</td>\n",
       "      <td>18</td>\n",
       "    </tr>\n",
       "    <tr>\n",
       "      <th>3</th>\n",
       "      <td>INFO</td>\n",
       "      <td>c446795c-b73f-458a-9175-dfdfe19f7266</td>\n",
       "      <td>SysClient0003.systemia.com</td>\n",
       "      <td>290fbc4d-87ed-4fdc-817c-6f29b6ff1f6a</td>\n",
       "      <td>FLOW</td>\n",
       "      <td>0a799da7-37b3-4f6a-9acb-1ca908464a68</td>\n",
       "      <td>3708</td>\n",
       "      <td>1760</td>\n",
       "      <td>SYSTEMIACOM\\wcaldwell</td>\n",
       "      <td>-1</td>\n",
       "      <td>...</td>\n",
       "      <td>None</td>\n",
       "      <td>NaN</td>\n",
       "      <td>None</td>\n",
       "      <td>None</td>\n",
       "      <td>None</td>\n",
       "      <td>None</td>\n",
       "      <td>NaN</td>\n",
       "      <td>0</td>\n",
       "      <td>23</td>\n",
       "      <td>18</td>\n",
       "    </tr>\n",
       "    <tr>\n",
       "      <th>4</th>\n",
       "      <td>INFO</td>\n",
       "      <td>c446795c-b73f-458a-9175-dfdfe19f7266</td>\n",
       "      <td>SysClient0003.systemia.com</td>\n",
       "      <td>51619eb9-3932-4196-b3e6-945b7aa4001b</td>\n",
       "      <td>FLOW</td>\n",
       "      <td>18434bf4-f39d-4fcd-9cc4-1b8bd436dd3a</td>\n",
       "      <td>3708</td>\n",
       "      <td>1760</td>\n",
       "      <td>SYSTEMIACOM\\wcaldwell</td>\n",
       "      <td>-1</td>\n",
       "      <td>...</td>\n",
       "      <td>None</td>\n",
       "      <td>NaN</td>\n",
       "      <td>None</td>\n",
       "      <td>None</td>\n",
       "      <td>None</td>\n",
       "      <td>None</td>\n",
       "      <td>NaN</td>\n",
       "      <td>0</td>\n",
       "      <td>23</td>\n",
       "      <td>18</td>\n",
       "    </tr>\n",
       "  </tbody>\n",
       "</table>\n",
       "<p>5 rows × 23 columns</p>\n",
       "</div>"
      ],
      "text/plain": [
       "  action                               actorID                    hostname  \\\n",
       "0   INFO  c446795c-b73f-458a-9175-dfdfe19f7266  SysClient0003.systemia.com   \n",
       "1   INFO  c446795c-b73f-458a-9175-dfdfe19f7266  SysClient0003.systemia.com   \n",
       "2   INFO  c446795c-b73f-458a-9175-dfdfe19f7266  SysClient0003.systemia.com   \n",
       "3   INFO  c446795c-b73f-458a-9175-dfdfe19f7266  SysClient0003.systemia.com   \n",
       "4   INFO  c446795c-b73f-458a-9175-dfdfe19f7266  SysClient0003.systemia.com   \n",
       "\n",
       "                                     id object  \\\n",
       "0  94734cc3-2451-47b2-887a-3194affc2384   FLOW   \n",
       "1  3b96029d-81dd-4dbd-b218-5960dea386d2   FLOW   \n",
       "2  f1992ec6-05b5-4d53-8f52-4a83d31aacab   FLOW   \n",
       "3  290fbc4d-87ed-4fdc-817c-6f29b6ff1f6a   FLOW   \n",
       "4  51619eb9-3932-4196-b3e6-945b7aa4001b   FLOW   \n",
       "\n",
       "                               objectID   pid  ppid              principal  \\\n",
       "0  18124da7-1115-4f2c-9628-cc91927fd8dd  3708  1760  SYSTEMIACOM\\wcaldwell   \n",
       "1  8fd457f9-3ff4-439e-8a3c-cff43a4c81ed  3708  1760  SYSTEMIACOM\\wcaldwell   \n",
       "2  81c5860c-030b-441c-84ab-e4cd113129b5  3708  1760  SYSTEMIACOM\\wcaldwell   \n",
       "3  0a799da7-37b3-4f6a-9acb-1ca908464a68  3708  1760  SYSTEMIACOM\\wcaldwell   \n",
       "4  18434bf4-f39d-4fcd-9cc4-1b8bd436dd3a  3708  1760  SYSTEMIACOM\\wcaldwell   \n",
       "\n",
       "   tid  ... dest_ip dest_port direction image_path  l4protocol src_ip  \\\n",
       "0   -1  ...    None       NaN      None       None        None   None   \n",
       "1   -1  ...    None       NaN      None       None        None   None   \n",
       "2   -1  ...    None       NaN      None       None        None   None   \n",
       "3   -1  ...    None       NaN      None       None        None   None   \n",
       "4   -1  ...    None       NaN      None       None        None   None   \n",
       "\n",
       "  src_port event_minute event_day  event_hour  \n",
       "0      NaN            0        23          18  \n",
       "1      NaN            0        23          18  \n",
       "2      NaN            0        23          18  \n",
       "3      NaN            0        23          18  \n",
       "4      NaN            0        23          18  \n",
       "\n",
       "[5 rows x 23 columns]"
      ]
     },
     "execution_count": 19,
     "metadata": {},
     "output_type": "execute_result"
    }
   ],
   "source": [
    "# Count the number of rows in the DataFrame\n",
    "print('Total number of rows:', df_ecarbro.count())\n",
    "\n",
    "# Show the first 5 rows of the DataFrame\n",
    "df_ecarbro.limit(5).toPandas()"
   ]
  },
  {
   "cell_type": "code",
   "execution_count": 20,
   "id": "d928455c-7220-4a2d-9cc5-e5dcc3322cfa",
   "metadata": {
    "tags": []
   },
   "outputs": [
    {
     "name": "stderr",
     "output_type": "stream",
     "text": [
      "[Stage 34:===========================================>              (3 + 1) / 4]\r"
     ]
    },
    {
     "name": "stdout",
     "output_type": "stream",
     "text": [
      "+------+------+------+\n",
      "|object|action| count|\n",
      "+------+------+------+\n",
      "|  FLOW|  INFO|175840|\n",
      "+------+------+------+\n",
      "\n"
     ]
    },
    {
     "name": "stderr",
     "output_type": "stream",
     "text": [
      "                                                                                \r"
     ]
    }
   ],
   "source": [
    "# Types of object/action pairs and their count\n",
    "\n",
    "df_ecarbro.groupBy(\"object\",\"action\").count().show()"
   ]
  },
  {
   "cell_type": "markdown",
   "id": "5962ae70-01ac-4e80-8de9-fb59e767836a",
   "metadata": {
    "tags": []
   },
   "source": [
    "#### Endpoint Data (ecarbro)"
   ]
  },
  {
   "cell_type": "code",
   "execution_count": 38,
   "id": "89e4bac9-d381-4c08-bbd1-1c8d14deb12c",
   "metadata": {
    "tags": []
   },
   "outputs": [
    {
     "name": "stderr",
     "output_type": "stream",
     "text": [
      "                                                                                \r"
     ]
    },
    {
     "name": "stdout",
     "output_type": "stream",
     "text": [
      "Total number of rows: 1000000\n"
     ]
    },
    {
     "data": {
      "text/html": [
       "<div>\n",
       "<style scoped>\n",
       "    .dataframe tbody tr th:only-of-type {\n",
       "        vertical-align: middle;\n",
       "    }\n",
       "\n",
       "    .dataframe tbody tr th {\n",
       "        vertical-align: top;\n",
       "    }\n",
       "\n",
       "    .dataframe thead th {\n",
       "        text-align: right;\n",
       "    }\n",
       "</style>\n",
       "<table border=\"1\" class=\"dataframe\">\n",
       "  <thead>\n",
       "    <tr style=\"text-align: right;\">\n",
       "      <th></th>\n",
       "      <th>action</th>\n",
       "      <th>actorID</th>\n",
       "      <th>hostname</th>\n",
       "      <th>id</th>\n",
       "      <th>object</th>\n",
       "      <th>objectID</th>\n",
       "      <th>pid</th>\n",
       "      <th>ppid</th>\n",
       "      <th>principal</th>\n",
       "      <th>tid</th>\n",
       "      <th>timestamp</th>\n",
       "      <th>acuity_level</th>\n",
       "      <th>base_address</th>\n",
       "      <th>command_line</th>\n",
       "      <th>context_info</th>\n",
       "      <th>data</th>\n",
       "      <th>dest_port</th>\n",
       "      <th>direction</th>\n",
       "      <th>end_time</th>\n",
       "      <th>file_path</th>\n",
       "      <th>image_path</th>\n",
       "      <th>info_class</th>\n",
       "      <th>key</th>\n",
       "      <th>l4protocol</th>\n",
       "      <th>logon_id</th>\n",
       "      <th>module_path</th>\n",
       "      <th>new_path</th>\n",
       "      <th>parent_image_path</th>\n",
       "      <th>path</th>\n",
       "      <th>payload</th>\n",
       "      <th>privileges</th>\n",
       "      <th>requesting_domain</th>\n",
       "      <th>requesting_logon_id</th>\n",
       "      <th>requesting_user</th>\n",
       "      <th>sid</th>\n",
       "      <th>size</th>\n",
       "      <th>src_ip</th>\n",
       "      <th>src_pid</th>\n",
       "      <th>src_port</th>\n",
       "      <th>src_tid</th>\n",
       "      <th>stack_base</th>\n",
       "      <th>stack_limit</th>\n",
       "      <th>start_address</th>\n",
       "      <th>start_time</th>\n",
       "      <th>subprocess_tag</th>\n",
       "      <th>task_name</th>\n",
       "      <th>task_pid</th>\n",
       "      <th>task_process_uuid</th>\n",
       "      <th>tgt_pid</th>\n",
       "      <th>tgt_pid_uuid</th>\n",
       "      <th>tgt_tid</th>\n",
       "      <th>type</th>\n",
       "      <th>user</th>\n",
       "      <th>user_name</th>\n",
       "      <th>user_stack_base</th>\n",
       "      <th>user_stack_limit</th>\n",
       "      <th>value</th>\n",
       "      <th>event_day</th>\n",
       "      <th>event_hour</th>\n",
       "      <th>event_minute</th>\n",
       "    </tr>\n",
       "  </thead>\n",
       "  <tbody>\n",
       "    <tr>\n",
       "      <th>0</th>\n",
       "      <td>START</td>\n",
       "      <td>43c9a912-533a-475c-b3c4-2bfb93892dfd</td>\n",
       "      <td>SysClient0024.systemia.com</td>\n",
       "      <td>66f12aed-8a6f-48b9-a244-3ff5b1da593f</td>\n",
       "      <td>FLOW</td>\n",
       "      <td>7992ee1d-96c2-4afc-8ff9-3a19c7c4e760</td>\n",
       "      <td>916</td>\n",
       "      <td>-1</td>\n",
       "      <td></td>\n",
       "      <td>NaN</td>\n",
       "      <td>NaT</td>\n",
       "      <td>None</td>\n",
       "      <td>None</td>\n",
       "      <td>None</td>\n",
       "      <td>None</td>\n",
       "      <td>None</td>\n",
       "      <td>NaN</td>\n",
       "      <td>None</td>\n",
       "      <td>NaT</td>\n",
       "      <td>None</td>\n",
       "      <td>None</td>\n",
       "      <td>None</td>\n",
       "      <td>None</td>\n",
       "      <td>None</td>\n",
       "      <td>None</td>\n",
       "      <td>None</td>\n",
       "      <td>None</td>\n",
       "      <td>None</td>\n",
       "      <td>None</td>\n",
       "      <td>None</td>\n",
       "      <td>None</td>\n",
       "      <td>None</td>\n",
       "      <td>None</td>\n",
       "      <td>None</td>\n",
       "      <td>None</td>\n",
       "      <td>None</td>\n",
       "      <td>None</td>\n",
       "      <td>NaN</td>\n",
       "      <td>NaN</td>\n",
       "      <td>None</td>\n",
       "      <td>None</td>\n",
       "      <td>None</td>\n",
       "      <td>None</td>\n",
       "      <td>NaT</td>\n",
       "      <td>None</td>\n",
       "      <td>None</td>\n",
       "      <td>NaN</td>\n",
       "      <td>None</td>\n",
       "      <td>NaN</td>\n",
       "      <td>None</td>\n",
       "      <td>NaN</td>\n",
       "      <td>None</td>\n",
       "      <td>None</td>\n",
       "      <td>None</td>\n",
       "      <td>None</td>\n",
       "      <td>None</td>\n",
       "      <td>None</td>\n",
       "      <td>NaN</td>\n",
       "      <td>NaN</td>\n",
       "      <td>NaN</td>\n",
       "    </tr>\n",
       "    <tr>\n",
       "      <th>1</th>\n",
       "      <td>START</td>\n",
       "      <td>c9d2265d-1868-4a7f-9767-73b6724b4b77</td>\n",
       "      <td>SysClient0009.systemia.com</td>\n",
       "      <td>89d45da5-12e5-44f6-919f-454839185072</td>\n",
       "      <td>FLOW</td>\n",
       "      <td>3fea8024-1873-4b74-9521-4fe0b4be9afa</td>\n",
       "      <td>912</td>\n",
       "      <td>-1</td>\n",
       "      <td></td>\n",
       "      <td>NaN</td>\n",
       "      <td>NaT</td>\n",
       "      <td>None</td>\n",
       "      <td>None</td>\n",
       "      <td>None</td>\n",
       "      <td>None</td>\n",
       "      <td>None</td>\n",
       "      <td>NaN</td>\n",
       "      <td>None</td>\n",
       "      <td>NaT</td>\n",
       "      <td>None</td>\n",
       "      <td>None</td>\n",
       "      <td>None</td>\n",
       "      <td>None</td>\n",
       "      <td>None</td>\n",
       "      <td>None</td>\n",
       "      <td>None</td>\n",
       "      <td>None</td>\n",
       "      <td>None</td>\n",
       "      <td>None</td>\n",
       "      <td>None</td>\n",
       "      <td>None</td>\n",
       "      <td>None</td>\n",
       "      <td>None</td>\n",
       "      <td>None</td>\n",
       "      <td>None</td>\n",
       "      <td>None</td>\n",
       "      <td>None</td>\n",
       "      <td>NaN</td>\n",
       "      <td>NaN</td>\n",
       "      <td>None</td>\n",
       "      <td>None</td>\n",
       "      <td>None</td>\n",
       "      <td>None</td>\n",
       "      <td>NaT</td>\n",
       "      <td>None</td>\n",
       "      <td>None</td>\n",
       "      <td>NaN</td>\n",
       "      <td>None</td>\n",
       "      <td>NaN</td>\n",
       "      <td>None</td>\n",
       "      <td>NaN</td>\n",
       "      <td>None</td>\n",
       "      <td>None</td>\n",
       "      <td>None</td>\n",
       "      <td>None</td>\n",
       "      <td>None</td>\n",
       "      <td>None</td>\n",
       "      <td>NaN</td>\n",
       "      <td>NaN</td>\n",
       "      <td>NaN</td>\n",
       "    </tr>\n",
       "    <tr>\n",
       "      <th>2</th>\n",
       "      <td>START</td>\n",
       "      <td>43c9a912-533a-475c-b3c4-2bfb93892dfd</td>\n",
       "      <td>SysClient0024.systemia.com</td>\n",
       "      <td>134be215-040e-4afc-8f90-8d6ec5abee29</td>\n",
       "      <td>FLOW</td>\n",
       "      <td>ecb96be3-d831-4a25-ab13-05e6f0b9763a</td>\n",
       "      <td>916</td>\n",
       "      <td>-1</td>\n",
       "      <td></td>\n",
       "      <td>NaN</td>\n",
       "      <td>NaT</td>\n",
       "      <td>None</td>\n",
       "      <td>None</td>\n",
       "      <td>None</td>\n",
       "      <td>None</td>\n",
       "      <td>None</td>\n",
       "      <td>NaN</td>\n",
       "      <td>None</td>\n",
       "      <td>NaT</td>\n",
       "      <td>None</td>\n",
       "      <td>None</td>\n",
       "      <td>None</td>\n",
       "      <td>None</td>\n",
       "      <td>None</td>\n",
       "      <td>None</td>\n",
       "      <td>None</td>\n",
       "      <td>None</td>\n",
       "      <td>None</td>\n",
       "      <td>None</td>\n",
       "      <td>None</td>\n",
       "      <td>None</td>\n",
       "      <td>None</td>\n",
       "      <td>None</td>\n",
       "      <td>None</td>\n",
       "      <td>None</td>\n",
       "      <td>None</td>\n",
       "      <td>None</td>\n",
       "      <td>NaN</td>\n",
       "      <td>NaN</td>\n",
       "      <td>None</td>\n",
       "      <td>None</td>\n",
       "      <td>None</td>\n",
       "      <td>None</td>\n",
       "      <td>NaT</td>\n",
       "      <td>None</td>\n",
       "      <td>None</td>\n",
       "      <td>NaN</td>\n",
       "      <td>None</td>\n",
       "      <td>NaN</td>\n",
       "      <td>None</td>\n",
       "      <td>NaN</td>\n",
       "      <td>None</td>\n",
       "      <td>None</td>\n",
       "      <td>None</td>\n",
       "      <td>None</td>\n",
       "      <td>None</td>\n",
       "      <td>None</td>\n",
       "      <td>NaN</td>\n",
       "      <td>NaN</td>\n",
       "      <td>NaN</td>\n",
       "    </tr>\n",
       "    <tr>\n",
       "      <th>3</th>\n",
       "      <td>START</td>\n",
       "      <td>c9d2265d-1868-4a7f-9767-73b6724b4b77</td>\n",
       "      <td>SysClient0009.systemia.com</td>\n",
       "      <td>fa37801b-659b-4d4a-9edb-cd889db96343</td>\n",
       "      <td>FLOW</td>\n",
       "      <td>5dae789f-6b8b-4beb-ab74-9226cc6a1ef0</td>\n",
       "      <td>912</td>\n",
       "      <td>-1</td>\n",
       "      <td></td>\n",
       "      <td>NaN</td>\n",
       "      <td>NaT</td>\n",
       "      <td>None</td>\n",
       "      <td>None</td>\n",
       "      <td>None</td>\n",
       "      <td>None</td>\n",
       "      <td>None</td>\n",
       "      <td>NaN</td>\n",
       "      <td>None</td>\n",
       "      <td>NaT</td>\n",
       "      <td>None</td>\n",
       "      <td>None</td>\n",
       "      <td>None</td>\n",
       "      <td>None</td>\n",
       "      <td>None</td>\n",
       "      <td>None</td>\n",
       "      <td>None</td>\n",
       "      <td>None</td>\n",
       "      <td>None</td>\n",
       "      <td>None</td>\n",
       "      <td>None</td>\n",
       "      <td>None</td>\n",
       "      <td>None</td>\n",
       "      <td>None</td>\n",
       "      <td>None</td>\n",
       "      <td>None</td>\n",
       "      <td>None</td>\n",
       "      <td>None</td>\n",
       "      <td>NaN</td>\n",
       "      <td>NaN</td>\n",
       "      <td>None</td>\n",
       "      <td>None</td>\n",
       "      <td>None</td>\n",
       "      <td>None</td>\n",
       "      <td>NaT</td>\n",
       "      <td>None</td>\n",
       "      <td>None</td>\n",
       "      <td>NaN</td>\n",
       "      <td>None</td>\n",
       "      <td>NaN</td>\n",
       "      <td>None</td>\n",
       "      <td>NaN</td>\n",
       "      <td>None</td>\n",
       "      <td>None</td>\n",
       "      <td>None</td>\n",
       "      <td>None</td>\n",
       "      <td>None</td>\n",
       "      <td>None</td>\n",
       "      <td>NaN</td>\n",
       "      <td>NaN</td>\n",
       "      <td>NaN</td>\n",
       "    </tr>\n",
       "    <tr>\n",
       "      <th>4</th>\n",
       "      <td>START</td>\n",
       "      <td>43c9a912-533a-475c-b3c4-2bfb93892dfd</td>\n",
       "      <td>SysClient0024.systemia.com</td>\n",
       "      <td>c6e12392-1d80-4c29-aa31-654d409be012</td>\n",
       "      <td>FLOW</td>\n",
       "      <td>4c653859-dce3-4879-9961-28f588eb262e</td>\n",
       "      <td>916</td>\n",
       "      <td>-1</td>\n",
       "      <td></td>\n",
       "      <td>NaN</td>\n",
       "      <td>NaT</td>\n",
       "      <td>None</td>\n",
       "      <td>None</td>\n",
       "      <td>None</td>\n",
       "      <td>None</td>\n",
       "      <td>None</td>\n",
       "      <td>NaN</td>\n",
       "      <td>None</td>\n",
       "      <td>NaT</td>\n",
       "      <td>None</td>\n",
       "      <td>None</td>\n",
       "      <td>None</td>\n",
       "      <td>None</td>\n",
       "      <td>None</td>\n",
       "      <td>None</td>\n",
       "      <td>None</td>\n",
       "      <td>None</td>\n",
       "      <td>None</td>\n",
       "      <td>None</td>\n",
       "      <td>None</td>\n",
       "      <td>None</td>\n",
       "      <td>None</td>\n",
       "      <td>None</td>\n",
       "      <td>None</td>\n",
       "      <td>None</td>\n",
       "      <td>None</td>\n",
       "      <td>None</td>\n",
       "      <td>NaN</td>\n",
       "      <td>NaN</td>\n",
       "      <td>None</td>\n",
       "      <td>None</td>\n",
       "      <td>None</td>\n",
       "      <td>None</td>\n",
       "      <td>NaT</td>\n",
       "      <td>None</td>\n",
       "      <td>None</td>\n",
       "      <td>NaN</td>\n",
       "      <td>None</td>\n",
       "      <td>NaN</td>\n",
       "      <td>None</td>\n",
       "      <td>NaN</td>\n",
       "      <td>None</td>\n",
       "      <td>None</td>\n",
       "      <td>None</td>\n",
       "      <td>None</td>\n",
       "      <td>None</td>\n",
       "      <td>None</td>\n",
       "      <td>NaN</td>\n",
       "      <td>NaN</td>\n",
       "      <td>NaN</td>\n",
       "    </tr>\n",
       "  </tbody>\n",
       "</table>\n",
       "</div>"
      ],
      "text/plain": [
       "  action                               actorID                    hostname  \\\n",
       "0  START  43c9a912-533a-475c-b3c4-2bfb93892dfd  SysClient0024.systemia.com   \n",
       "1  START  c9d2265d-1868-4a7f-9767-73b6724b4b77  SysClient0009.systemia.com   \n",
       "2  START  43c9a912-533a-475c-b3c4-2bfb93892dfd  SysClient0024.systemia.com   \n",
       "3  START  c9d2265d-1868-4a7f-9767-73b6724b4b77  SysClient0009.systemia.com   \n",
       "4  START  43c9a912-533a-475c-b3c4-2bfb93892dfd  SysClient0024.systemia.com   \n",
       "\n",
       "                                     id object  \\\n",
       "0  66f12aed-8a6f-48b9-a244-3ff5b1da593f   FLOW   \n",
       "1  89d45da5-12e5-44f6-919f-454839185072   FLOW   \n",
       "2  134be215-040e-4afc-8f90-8d6ec5abee29   FLOW   \n",
       "3  fa37801b-659b-4d4a-9edb-cd889db96343   FLOW   \n",
       "4  c6e12392-1d80-4c29-aa31-654d409be012   FLOW   \n",
       "\n",
       "                               objectID  pid  ppid principal  tid timestamp  \\\n",
       "0  7992ee1d-96c2-4afc-8ff9-3a19c7c4e760  916    -1            NaN       NaT   \n",
       "1  3fea8024-1873-4b74-9521-4fe0b4be9afa  912    -1            NaN       NaT   \n",
       "2  ecb96be3-d831-4a25-ab13-05e6f0b9763a  916    -1            NaN       NaT   \n",
       "3  5dae789f-6b8b-4beb-ab74-9226cc6a1ef0  912    -1            NaN       NaT   \n",
       "4  4c653859-dce3-4879-9961-28f588eb262e  916    -1            NaN       NaT   \n",
       "\n",
       "  acuity_level base_address command_line context_info  data  dest_port  \\\n",
       "0         None         None         None         None  None        NaN   \n",
       "1         None         None         None         None  None        NaN   \n",
       "2         None         None         None         None  None        NaN   \n",
       "3         None         None         None         None  None        NaN   \n",
       "4         None         None         None         None  None        NaN   \n",
       "\n",
       "  direction end_time file_path image_path info_class   key l4protocol  \\\n",
       "0      None      NaT      None       None       None  None       None   \n",
       "1      None      NaT      None       None       None  None       None   \n",
       "2      None      NaT      None       None       None  None       None   \n",
       "3      None      NaT      None       None       None  None       None   \n",
       "4      None      NaT      None       None       None  None       None   \n",
       "\n",
       "  logon_id module_path new_path parent_image_path  path payload privileges  \\\n",
       "0     None        None     None              None  None    None       None   \n",
       "1     None        None     None              None  None    None       None   \n",
       "2     None        None     None              None  None    None       None   \n",
       "3     None        None     None              None  None    None       None   \n",
       "4     None        None     None              None  None    None       None   \n",
       "\n",
       "  requesting_domain requesting_logon_id requesting_user   sid  size src_ip  \\\n",
       "0              None                None            None  None  None   None   \n",
       "1              None                None            None  None  None   None   \n",
       "2              None                None            None  None  None   None   \n",
       "3              None                None            None  None  None   None   \n",
       "4              None                None            None  None  None   None   \n",
       "\n",
       "   src_pid  src_port src_tid stack_base stack_limit start_address start_time  \\\n",
       "0      NaN       NaN    None       None        None          None        NaT   \n",
       "1      NaN       NaN    None       None        None          None        NaT   \n",
       "2      NaN       NaN    None       None        None          None        NaT   \n",
       "3      NaN       NaN    None       None        None          None        NaT   \n",
       "4      NaN       NaN    None       None        None          None        NaT   \n",
       "\n",
       "  subprocess_tag task_name  task_pid task_process_uuid  tgt_pid tgt_pid_uuid  \\\n",
       "0           None      None       NaN              None      NaN         None   \n",
       "1           None      None       NaN              None      NaN         None   \n",
       "2           None      None       NaN              None      NaN         None   \n",
       "3           None      None       NaN              None      NaN         None   \n",
       "4           None      None       NaN              None      NaN         None   \n",
       "\n",
       "   tgt_tid  type  user user_name user_stack_base user_stack_limit value  \\\n",
       "0      NaN  None  None      None            None             None  None   \n",
       "1      NaN  None  None      None            None             None  None   \n",
       "2      NaN  None  None      None            None             None  None   \n",
       "3      NaN  None  None      None            None             None  None   \n",
       "4      NaN  None  None      None            None             None  None   \n",
       "\n",
       "   event_day  event_hour  event_minute  \n",
       "0        NaN         NaN           NaN  \n",
       "1        NaN         NaN           NaN  \n",
       "2        NaN         NaN           NaN  \n",
       "3        NaN         NaN           NaN  \n",
       "4        NaN         NaN           NaN  "
      ]
     },
     "execution_count": 38,
     "metadata": {},
     "output_type": "execute_result"
    }
   ],
   "source": [
    "# Count the number of rows in the DataFrame\n",
    "pd.options.display.max_columns = None\n",
    "print('Total number of rows:', df_ecar.count())\n",
    "\n",
    "# Show the first 5 rows of the DataFrame\n",
    "df_ecar.limit(5).toPandas()"
   ]
  },
  {
   "cell_type": "code",
   "execution_count": 22,
   "id": "fe8a088b-8e1e-4b3d-8dff-0b4ad5457a66",
   "metadata": {
    "tags": []
   },
   "outputs": [
    {
     "name": "stderr",
     "output_type": "stream",
     "text": [
      "[Stage 41:===========================================>              (3 + 1) / 4]\r"
     ]
    },
    {
     "name": "stdout",
     "output_type": "stream",
     "text": [
      "+-------+---------+------+\n",
      "| object|   action| count|\n",
      "+-------+---------+------+\n",
      "|   FLOW|    START|606774|\n",
      "|   FLOW|  MESSAGE|235713|\n",
      "|   FILE|   MODIFY| 52552|\n",
      "|   FILE|    WRITE| 32940|\n",
      "|   FILE|     READ| 30041|\n",
      "|PROCESS|     OPEN| 17150|\n",
      "|   FILE|   CREATE| 11908|\n",
      "|   FILE|   RENAME|  4709|\n",
      "|   FILE|   DELETE|  2702|\n",
      "|   FLOW|     OPEN|  1685|\n",
      "|PROCESS|   CREATE|  1381|\n",
      "|PROCESS|TERMINATE|  1350|\n",
      "|  SHELL|  COMMAND|  1095|\n",
      "+-------+---------+------+\n",
      "\n"
     ]
    },
    {
     "name": "stderr",
     "output_type": "stream",
     "text": [
      "                                                                                \r"
     ]
    }
   ],
   "source": [
    "# Types of object/action pairs and their count\n",
    "\n",
    "df_ecar.groupBy(\"object\", \"action\").count().orderBy(desc(\"count\")).show()"
   ]
  },
  {
   "cell_type": "code",
   "execution_count": 41,
   "id": "75244828-40d7-4e64-8703-6101cdd6c831",
   "metadata": {
    "tags": []
   },
   "outputs": [
    {
     "name": "stderr",
     "output_type": "stream",
     "text": [
      "                                                                                \r"
     ]
    },
    {
     "data": {
      "image/png": "[encoded data removed]",
      "text/plain": [
       "<Figure size 640x480 with 1 Axes>"
      ]
     },
     "metadata": {},
     "output_type": "display_data"
    }
   ],
   "source": [
    "# Group and aggregate data\n",
    "df_grouped = df_ecar.groupBy(\"object\").agg(F.count(\"*\").alias(\"count\"))\n",
    "\n",
    "# Calculate percentage of total count\n",
    "total_count = df_grouped.agg(F.sum(\"count\")).collect()[0][0]\n",
    "df_grouped = df_grouped.withColumn(\"percentage\", F.round((F.col(\"count\")/total_count)*100, 2))\n",
    "\n",
    "# Order by count\n",
    "df_grouped = df_grouped.orderBy(desc(\"count\"))\n",
    "\n",
    "# Convert PySpark DataFrame to Pandas DataFrame\n",
    "df_pd = df_grouped.toPandas()\n",
    "\n",
    "# Plot bar chart\n",
    "df_pd.plot(x='object', y='percentage', kind='bar')\n",
    "plt.xlabel('Object')\n",
    "plt.ylabel('Percentage of Total Count')\n",
    "plt.title('Percentage of Objects')\n",
    "plt.show()\n"
   ]
  },
  {
   "cell_type": "code",
   "execution_count": 43,
   "id": "0f021ccf-417b-4410-ba56-60b283100a43",
   "metadata": {
    "tags": []
   },
   "outputs": [
    {
     "name": "stderr",
     "output_type": "stream",
     "text": [
      "                                                                                \r"
     ]
    },
    {
     "data": {
      "image/png": "[encoded data removed]",
      "text/plain": [
       "<Figure size 640x480 with 1 Axes>"
      ]
     },
     "metadata": {},
     "output_type": "display_data"
    }
   ],
   "source": [
    "# Create new column for user/application\n",
    "df_ecar = df_ecar.withColumn('user_or_app', F.when(F.col('user').isNull(), 'Application').otherwise('User'))\n",
    "\n",
    "# Convert PySpark DataFrame to Pandas DataFrame\n",
    "pandas_df = df_ecar.groupBy(\"user_or_app\").count().orderBy(desc(\"count\")).toPandas()\n",
    "\n",
    "# Plot bar chart\n",
    "pandas_df.plot(kind=\"bar\", x=\"user_or_app\", y=\"count\")\n",
    "plt.show()\n",
    "\n"
   ]
  },
  {
   "cell_type": "code",
   "execution_count": 48,
   "id": "7eb78f09-a298-4061-b4ee-45b6694f489c",
   "metadata": {
    "tags": []
   },
   "outputs": [
    {
     "name": "stderr",
     "output_type": "stream",
     "text": [
      "[Stage 19:===========================================>            (10 + 3) / 13]\r"
     ]
    },
    {
     "name": "stdout",
     "output_type": "stream",
     "text": [
      "+------+--------------------+-----+----------+\n",
      "|object|             actorID|count|percentage|\n",
      "+------+--------------------+-----+----------+\n",
      "|  FLOW|dc638440-c1e5-4bf...|44750|      4.48|\n",
      "|  FLOW|5dfd694f-adf6-45d...|31934|      3.19|\n",
      "|  FLOW|45b62774-dc52-4ca...|27036|       2.7|\n",
      "|  FLOW|cc3fed27-1902-426...|20784|      2.08|\n",
      "|  FLOW|7a4d2279-2d4b-431...|20160|      2.02|\n",
      "+------+--------------------+-----+----------+\n",
      "\n"
     ]
    },
    {
     "name": "stderr",
     "output_type": "stream",
     "text": [
      "                                                                                \r"
     ]
    }
   ],
   "source": [
    "# Calculate the object and actorID pairs relative to the total number of events\n",
    "\n",
    "# Compute total count of events\n",
    "total_count = df_ecar.count()\n",
    "\n",
    "# Group by object and actorID, and count the number of events\n",
    "df_grouped = df_ecar.groupBy(\"object\", \"actorID\").agg(F.count(\"*\").alias(\"count\"))\n",
    "\n",
    "# Calculate percentage of total count\n",
    "df_grouped = df_grouped.withColumn(\"percentage\", F.round((F.col(\"count\")/total_count)*100, 2))\n",
    "\n",
    "# Order by count in descending order and display top 5\n",
    "df_top_5 = df_grouped.orderBy(F.desc(\"count\")).limit(5)\n",
    "\n",
    "# Show the result\n",
    "df_top_5.show()"
   ]
  },
  {
   "cell_type": "code",
   "execution_count": 35,
   "id": "b9a96621-5e8b-402f-a58c-b4a05a58f9ea",
   "metadata": {
    "tags": []
   },
   "outputs": [
    {
     "name": "stderr",
     "output_type": "stream",
     "text": [
      "[Stage 12:==================================================>       (7 + 1) / 8]\r"
     ]
    },
    {
     "name": "stdout",
     "output_type": "stream",
     "text": [
      "+------+-------+--------+---+------+--------+---+----+---------+---+---------+------------+------------+------------+------------+----+---------+---------+--------+---------+----------+----------+---+----------+--------+-----------+--------+-----------------+----+-------+----------+-----------------+-------------------+---------------+---+----+------+-------+--------+-------+----------+-----------+-------------+----------+--------------+---------+--------+-----------------+-------+------------+-------+----+----+---------+---------------+----------------+-----+---------+----------+------------+\n",
      "|action|actorID|hostname| id|object|objectID|pid|ppid|principal|tid|timestamp|acuity_level|base_address|command_line|context_info|data|dest_port|direction|end_time|file_path|image_path|info_class|key|l4protocol|logon_id|module_path|new_path|parent_image_path|path|payload|privileges|requesting_domain|requesting_logon_id|requesting_user|sid|size|src_ip|src_pid|src_port|src_tid|stack_base|stack_limit|start_address|start_time|subprocess_tag|task_name|task_pid|task_process_uuid|tgt_pid|tgt_pid_uuid|tgt_tid|type|user|user_name|user_stack_base|user_stack_limit|value|event_day|event_hour|event_minute|\n",
      "+------+-------+--------+---+------+--------+---+----+---------+---+---------+------------+------------+------------+------------+----+---------+---------+--------+---------+----------+----------+---+----------+--------+-----------+--------+-----------------+----+-------+----------+-----------------+-------------------+---------------+---+----+------+-------+--------+-------+----------+-----------+-------------+----------+--------------+---------+--------+-----------------+-------+------------+-------+----+----+---------+---------------+----------------+-----+---------+----------+------------+\n",
      "+------+-------+--------+---+------+--------+---+----+---------+---+---------+------------+------------+------------+------------+----+---------+---------+--------+---------+----------+----------+---+----------+--------+-----------+--------+-----------------+----+-------+----------+-----------------+-------------------+---------------+---+----+------+-------+--------+-------+----------+-----------+-------------+----------+--------------+---------+--------+-----------------+-------+------------+-------+----+----+---------+---------------+----------------+-----+---------+----------+------------+\n",
      "\n"
     ]
    },
    {
     "name": "stderr",
     "output_type": "stream",
     "text": [
      "                                                                                \r"
     ]
    }
   ],
   "source": [
    "from pyspark.sql.functions import col\n",
    "\n",
    "# Filter the dataframe where l4protocol is not null and display the first 5 rows\n",
    "df_ecar.filter(col(\"l4protocol\").isNotNull()).show(5)"
   ]
  },
  {
   "cell_type": "markdown",
   "id": "cc284cc8-cd24-42f7-ab3d-059fed854118",
   "metadata": {},
   "source": [
    "#### Label Data"
   ]
  },
  {
   "cell_type": "code",
   "execution_count": 45,
   "id": "5cb4fd45-de31-47ec-a891-c2107234406b",
   "metadata": {
    "tags": []
   },
   "outputs": [
    {
     "name": "stdout",
     "output_type": "stream",
     "text": [
      "--- 0.32008862495422363 seconds ---\n"
     ]
    }
   ],
   "source": [
    "df_labels = readCheckpoint('labels', env, size)"
   ]
  },
  {
   "cell_type": "code",
   "execution_count": 46,
   "id": "0a49a9d9-f2de-43fe-9a21-dc0a26252767",
   "metadata": {
    "tags": []
   },
   "outputs": [
    {
     "data": {
      "text/html": [
       "<div>\n",
       "<style scoped>\n",
       "    .dataframe tbody tr th:only-of-type {\n",
       "        vertical-align: middle;\n",
       "    }\n",
       "\n",
       "    .dataframe tbody tr th {\n",
       "        vertical-align: top;\n",
       "    }\n",
       "\n",
       "    .dataframe thead th {\n",
       "        text-align: right;\n",
       "    }\n",
       "</style>\n",
       "<table border=\"1\" class=\"dataframe\">\n",
       "  <thead>\n",
       "    <tr style=\"text-align: right;\">\n",
       "      <th></th>\n",
       "      <th>hostname</th>\n",
       "      <th>id</th>\n",
       "      <th>objectID</th>\n",
       "      <th>actorID</th>\n",
       "      <th>timestamp</th>\n",
       "      <th>object</th>\n",
       "      <th>action</th>\n",
       "    </tr>\n",
       "  </thead>\n",
       "  <tbody>\n",
       "    <tr>\n",
       "      <th>0</th>\n",
       "      <td>SysClient0955.systemia.com</td>\n",
       "      <td>3e350ce3-c4b3-4640-92d9-feaea0274cab</td>\n",
       "      <td>83f11800-88a3-4fa9-8c51-a469d66fca16</td>\n",
       "      <td>473d7954-6271-43b8-9984-702378220af2</td>\n",
       "      <td>2019-09-23T14:58:28.051-04:00</td>\n",
       "      <td>SHELL</td>\n",
       "      <td>COMMAND</td>\n",
       "    </tr>\n",
       "    <tr>\n",
       "      <th>1</th>\n",
       "      <td>SysClient0955.systemia.com</td>\n",
       "      <td>7a396cde-6485-40b4-baa2-8d7848fa02a3</td>\n",
       "      <td>83f11800-88a3-4fa9-8c51-a469d66fca16</td>\n",
       "      <td>473d7954-6271-43b8-9984-702378220af2</td>\n",
       "      <td>2019-09-23T14:58:33.139-04:00</td>\n",
       "      <td>SHELL</td>\n",
       "      <td>COMMAND</td>\n",
       "    </tr>\n",
       "    <tr>\n",
       "      <th>2</th>\n",
       "      <td>SysClient0955.systemia.com</td>\n",
       "      <td>2f33f5e3-1714-4069-850f-863680edbdef</td>\n",
       "      <td>83f11800-88a3-4fa9-8c51-a469d66fca16</td>\n",
       "      <td>473d7954-6271-43b8-9984-702378220af2</td>\n",
       "      <td>2019-09-23T14:58:33.141-04:00</td>\n",
       "      <td>SHELL</td>\n",
       "      <td>COMMAND</td>\n",
       "    </tr>\n",
       "    <tr>\n",
       "      <th>3</th>\n",
       "      <td>SysClient0955.systemia.com</td>\n",
       "      <td>725ad9a5-c876-4dc2-9c32-12dc6bb4da66</td>\n",
       "      <td>83f11800-88a3-4fa9-8c51-a469d66fca16</td>\n",
       "      <td>473d7954-6271-43b8-9984-702378220af2</td>\n",
       "      <td>2019-09-23T14:58:33.159-04:00</td>\n",
       "      <td>SHELL</td>\n",
       "      <td>COMMAND</td>\n",
       "    </tr>\n",
       "    <tr>\n",
       "      <th>4</th>\n",
       "      <td>SysClient0955.systemia.com</td>\n",
       "      <td>a8a78df2-a996-4c16-90f7-6455091eb91d</td>\n",
       "      <td>83f11800-88a3-4fa9-8c51-a469d66fca16</td>\n",
       "      <td>473d7954-6271-43b8-9984-702378220af2</td>\n",
       "      <td>2019-09-23T14:58:33.158-04:00</td>\n",
       "      <td>SHELL</td>\n",
       "      <td>COMMAND</td>\n",
       "    </tr>\n",
       "  </tbody>\n",
       "</table>\n",
       "</div>"
      ],
      "text/plain": [
       "                     hostname                                    id  \\\n",
       "0  SysClient0955.systemia.com  3e350ce3-c4b3-4640-92d9-feaea0274cab   \n",
       "1  SysClient0955.systemia.com  7a396cde-6485-40b4-baa2-8d7848fa02a3   \n",
       "2  SysClient0955.systemia.com  2f33f5e3-1714-4069-850f-863680edbdef   \n",
       "3  SysClient0955.systemia.com  725ad9a5-c876-4dc2-9c32-12dc6bb4da66   \n",
       "4  SysClient0955.systemia.com  a8a78df2-a996-4c16-90f7-6455091eb91d   \n",
       "\n",
       "                               objectID                               actorID  \\\n",
       "0  83f11800-88a3-4fa9-8c51-a469d66fca16  473d7954-6271-43b8-9984-702378220af2   \n",
       "1  83f11800-88a3-4fa9-8c51-a469d66fca16  473d7954-6271-43b8-9984-702378220af2   \n",
       "2  83f11800-88a3-4fa9-8c51-a469d66fca16  473d7954-6271-43b8-9984-702378220af2   \n",
       "3  83f11800-88a3-4fa9-8c51-a469d66fca16  473d7954-6271-43b8-9984-702378220af2   \n",
       "4  83f11800-88a3-4fa9-8c51-a469d66fca16  473d7954-6271-43b8-9984-702378220af2   \n",
       "\n",
       "                       timestamp object   action  \n",
       "0  2019-09-23T14:58:28.051-04:00  SHELL  COMMAND  \n",
       "1  2019-09-23T14:58:33.139-04:00  SHELL  COMMAND  \n",
       "2  2019-09-23T14:58:33.141-04:00  SHELL  COMMAND  \n",
       "3  2019-09-23T14:58:33.159-04:00  SHELL  COMMAND  \n",
       "4  2019-09-23T14:58:33.158-04:00  SHELL  COMMAND  "
      ]
     },
     "execution_count": 46,
     "metadata": {},
     "output_type": "execute_result"
    }
   ],
   "source": [
    "df_labels.limit(5).toPandas()"
   ]
  },
  {
   "cell_type": "code",
   "execution_count": 60,
   "id": "533599fc-e4de-4dec-9147-6434c0f08533",
   "metadata": {
    "tags": []
   },
   "outputs": [
    {
     "name": "stderr",
     "output_type": "stream",
     "text": [
      "                                                                                \r"
     ]
    },
    {
     "name": "stdout",
     "output_type": "stream",
     "text": [
      "+------+-------+--------+---+------+--------+---+----+---------+---+---------+------------+------------+------------+------------+----+---------+---------+--------+---------+----------+----------+---+----------+--------+-----------+--------+-----------------+----+-------+----------+-----------------+-------------------+---------------+---+----+------+-------+--------+-------+----------+-----------+-------------+----------+--------------+---------+--------+-----------------+-------+------------+-------+----+----+---------+---------------+----------------+-----+---------+----------+------------+--------+---+--------+-------+---------+------+------+\n",
      "|action|actorID|hostname| id|object|objectID|pid|ppid|principal|tid|timestamp|acuity_level|base_address|command_line|context_info|data|dest_port|direction|end_time|file_path|image_path|info_class|key|l4protocol|logon_id|module_path|new_path|parent_image_path|path|payload|privileges|requesting_domain|requesting_logon_id|requesting_user|sid|size|src_ip|src_pid|src_port|src_tid|stack_base|stack_limit|start_address|start_time|subprocess_tag|task_name|task_pid|task_process_uuid|tgt_pid|tgt_pid_uuid|tgt_tid|type|user|user_name|user_stack_base|user_stack_limit|value|event_day|event_hour|event_minute|hostname| id|objectID|actorID|timestamp|object|action|\n",
      "+------+-------+--------+---+------+--------+---+----+---------+---+---------+------------+------------+------------+------------+----+---------+---------+--------+---------+----------+----------+---+----------+--------+-----------+--------+-----------------+----+-------+----------+-----------------+-------------------+---------------+---+----+------+-------+--------+-------+----------+-----------+-------------+----------+--------------+---------+--------+-----------------+-------+------------+-------+----+----+---------+---------------+----------------+-----+---------+----------+------------+--------+---+--------+-------+---------+------+------+\n",
      "+------+-------+--------+---+------+--------+---+----+---------+---+---------+------------+------------+------------+------------+----+---------+---------+--------+---------+----------+----------+---+----------+--------+-----------+--------+-----------------+----+-------+----------+-----------------+-------------------+---------------+---+----+------+-------+--------+-------+----------+-----------+-------------+----------+--------------+---------+--------+-----------------+-------+------------+-------+----+----+---------+---------------+----------------+-----+---------+----------+------------+--------+---+--------+-------+---------+------+------+\n",
      "\n"
     ]
    },
    {
     "name": "stderr",
     "output_type": "stream",
     "text": [
      "                                                                                \r"
     ]
    }
   ],
   "source": [
    "from pyspark.sql.functions import col\n",
    "\n",
    "# define the join conditions\n",
    "join_conditions = [\n",
    "                   df_ecar.id == df_labels.id]\n",
    "\n",
    "# perform the left join\n",
    "joined_df = df_ecar.join(df_labels, join_conditions, how='inner')\n",
    "\n",
    "\n",
    "joined_df.show()\n"
   ]
  },
  {
   "cell_type": "code",
   "execution_count": null,
   "id": "8ecb03db-7d54-4355-a789-efcc24af0342",
   "metadata": {
    "tags": []
   },
   "outputs": [],
   "source": [
    "print(joined_df_pd.head(5))"
   ]
  },
  {
   "cell_type": "code",
   "execution_count": null,
   "id": "11f4e62a-de3c-44b4-8723-fe09631f2b6b",
   "metadata": {},
   "outputs": [],
   "source": []
  }
 ],
 "metadata": {
  "kernelspec": {
   "display_name": "conda_python3",
   "language": "python",
   "name": "conda_python3"
  },
  "language_info": {
   "codemirror_mode": {
    "name": "ipython",
    "version": 3
   },
   "file_extension": ".py",
   "mimetype": "text/x-python",
   "name": "python",
   "nbconvert_exporter": "python",
   "pygments_lexer": "ipython3",
   "version": "3.10.8"
  }
 },
 "nbformat": 4,
 "nbformat_minor": 5
}
