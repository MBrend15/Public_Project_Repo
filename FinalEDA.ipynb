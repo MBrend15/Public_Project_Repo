{
 "cells": [
  {
   "cell_type": "markdown",
   "id": "4bf5c4bf-fb79-4859-9252-8bce5d1a274a",
   "metadata": {},
   "source": [
    "# Preliminary EDA\n",
    "\n",
    "### An Advanced Persistent Threat (APT) is a type of cyber attack where an attacker gains unauthorized access to a network and remains undetected for an extended period of time. The goal of an APT is usually to steal sensitive information or to disrupt critical systems. APT attacks are usually carried out by well-funded and highly skilled attackers, such as nation-state actors or organized criminal groups.\n",
    "\n",
    "### The objective of this project is to identify an APT and determine remedial actions"
   ]
  },
  {
   "cell_type": "code",
   "execution_count": 1,
   "id": "fb7532ca-b742-457d-8705-23367a5d3f2b",
   "metadata": {
    "tags": []
   },
   "outputs": [],
   "source": [
    "## Import Functions and Spark Config\n",
    "from pyspark.sql.functions import sum\n",
    "from pyspark.sql.functions import avg\n",
    "from pyspark.sql.functions import desc\n",
    "import pyspark.sql.functions as F\n",
    "import matplotlib.pyplot as plt"
   ]
  },
  {
   "cell_type": "code",
   "execution_count": 2,
   "id": "23f44f59-fff5-41aa-9be8-02412de8c4ec",
   "metadata": {
    "tags": []
   },
   "outputs": [
    {
     "name": "stderr",
     "output_type": "stream",
     "text": [
      "Warning: Ignoring non-Spark config property: fs.s3a.access.key\n",
      "Warning: Ignoring non-Spark config property: fs.s3a.secret.key\n",
      "Setting default log level to \"WARN\".\n",
      "To adjust logging level use sc.setLogLevel(newLevel). For SparkR, use setLogLevel(newLevel).\n"
     ]
    },
    {
     "name": "stdout",
     "output_type": "stream",
     "text": [
      "23/02/18 18:07:03 WARN NativeCodeLoader: Unable to load native-hadoop library for your platform... using builtin-java classes where applicable\n",
      "23/02/18 18:07:05 WARN Utils: Service 'SparkUI' could not bind on port 4040. Attempting port 4041.\n"
     ]
    }
   ],
   "source": [
    "%run ./read_file.ipynb"
   ]
  },
  {
   "cell_type": "markdown",
   "id": "322f0acc-5281-4b73-a33b-67ac7c05b96a",
   "metadata": {},
   "source": [
    "## Set Environment"
   ]
  },
  {
   "cell_type": "code",
   "execution_count": 3,
   "id": "3660605e-699c-4b64-b7c4-2211454666a6",
   "metadata": {
    "tags": []
   },
   "outputs": [],
   "source": [
    "# env can be dev or prod\n",
    "env = \"dev\""
   ]
  },
  {
   "cell_type": "markdown",
   "id": "c8ecd4b8-755b-404f-8fd0-42b934bdef28",
   "metadata": {},
   "source": [
    "## Part 1: Load Data"
   ]
  },
  {
   "cell_type": "markdown",
   "id": "a9c1eee6-0f38-41a9-8dfd-51f7092d1e30",
   "metadata": {},
   "source": [
    "#### Load bro data (Network Data)"
   ]
  },
  {
   "cell_type": "code",
   "execution_count": 4,
   "id": "2d2b2c39-6d40-48c9-b62a-8999d776c31f",
   "metadata": {
    "tags": []
   },
   "outputs": [
    {
     "name": "stdout",
     "output_type": "stream",
     "text": [
      "23/02/18 18:07:11 WARN MetricsConfig: Cannot locate configuration: tried hadoop-metrics2-s3a-file-system.properties,hadoop-metrics2.properties\n"
     ]
    },
    {
     "name": "stderr",
     "output_type": "stream",
     "text": [
      "                                                                                \r"
     ]
    },
    {
     "name": "stdout",
     "output_type": "stream",
     "text": [
      "--- 9.886786699295044 seconds ---\n"
     ]
    }
   ],
   "source": [
    "df_bro = readCheckpoint('bro', env)"
   ]
  },
  {
   "cell_type": "code",
   "execution_count": 5,
   "id": "37ad8cbc-ae4b-4c5a-b39b-53d104e412f2",
   "metadata": {
    "tags": []
   },
   "outputs": [
    {
     "name": "stdout",
     "output_type": "stream",
     "text": [
      "root\n",
      " |-- ts: string (nullable = true)\n",
      " |-- uid: string (nullable = true)\n",
      " |-- id.orig_h: string (nullable = true)\n",
      " |-- id.orig_p: string (nullable = true)\n",
      " |-- id.resp_: string (nullable = true)\n",
      " |-- id.resp_p: string (nullable = true)\n",
      " |-- proto: string (nullable = true)\n",
      " |-- service: string (nullable = true)\n",
      " |-- duration: string (nullable = true)\n",
      " |-- orig_bytes: string (nullable = true)\n",
      " |-- resp_bytes: string (nullable = true)\n",
      " |-- conn_state: string (nullable = true)\n",
      " |-- local_orig: string (nullable = true)\n",
      " |-- local_resp: string (nullable = true)\n",
      " |-- missed_bytes: string (nullable = true)\n",
      " |-- history: string (nullable = true)\n",
      " |-- orig_pkts: string (nullable = true)\n",
      " |-- orig_ip_bytes: string (nullable = true)\n",
      " |-- resp_pkts: string (nullable = true)\n",
      " |-- resp_ip_bytes: string (nullable = true)\n",
      " |-- tunnel_parents: string (nullable = true)\n",
      "\n"
     ]
    }
   ],
   "source": [
    "df_bro.printSchema()"
   ]
  },
  {
   "cell_type": "markdown",
   "id": "7ea55fb9-f33c-48e4-b0b4-b7fe856af20f",
   "metadata": {},
   "source": [
    "#### Business Glossary for Network Data\n",
    "\n",
    "| Column Name   | Description                                                                                   |\n",
    "|---------------|-----------------------------------------------------------------------------------------------|\n",
    "| ts            | Unix timestamp (seconds since epoch)                                                          |\n",
    "| uid           | A unique identifier for each connection                                                        |\n",
    "| id.orig_h     | IP address of the host that initiated the connection                                          |\n",
    "| id.orig_p     | Port number used by the host that initiated the connection                                     |\n",
    "| id.resp_h     | IP address of the host that received the connection                                            |\n",
    "| id.resp_p     | Port number used by the host that received the connection                                      |\n",
    "| proto         | Network protocol used for the connection (e.g. TCP, UDP)                                       |\n",
    "| service       | Service used for the connection (e.g. http, ftp)                                               |\n",
    "| duration      | Length of time (in seconds) that the connection was active                                     |\n",
    "| orig_bytes    | Number of bytes transmitted by the host that initiated the connection                         |\n",
    "| resp_bytes    | Number of bytes transmitted by the host that received the connection                          |\n",
    "| conn_state    | Current state of the connection                                                               |\n",
    "| local_orig    | Indicates whether the connection was initiated by a local host                                |\n",
    "| local_resp    | Indicates whether the connection was received by a local host                                 |\n",
    "| missed_bytes  | Number of bytes that were lost during transmission                                             |\n",
    "| history       | Record of the connection history                                                              |\n",
    "| orig_pkts     | Number of packets transmitted by the host that initiated the connection                       |\n",
    "| orig_ip_bytes | Number of IP bytes transmitted by the host that initiated the connection                       |\n",
    "| resp_pkts     | Number of packets transmitted by the host that received the connection                        |\n",
    "| resp_ip_bytes | Number of IP bytes transmitted by the host that received the connection                        |\n",
    "| tunnel_parents| Identifies any parent connections for the connection (if any)                                  |\n"
   ]
  },
  {
   "cell_type": "markdown",
   "id": "919b827d-7a33-4993-ac3e-9c74b0c565e3",
   "metadata": {},
   "source": [
    "#### Load ecarbro data (Link Data between records in the ecar stream and bro tables)"
   ]
  },
  {
   "cell_type": "code",
   "execution_count": 59,
   "id": "85ea208b-c82a-45f8-ad13-e2d76e35d3fa",
   "metadata": {
    "tags": []
   },
   "outputs": [
    {
     "name": "stdout",
     "output_type": "stream",
     "text": [
      "--- 0.38562464714050293 seconds ---\n"
     ]
    }
   ],
   "source": [
    "df_ecarbro = readCheckpoint('ecar-bro', env)"
   ]
  },
  {
   "cell_type": "code",
   "execution_count": 60,
   "id": "0cfdcbdb-2856-47e7-be5d-57fcb0bf471b",
   "metadata": {
    "tags": []
   },
   "outputs": [
    {
     "name": "stdout",
     "output_type": "stream",
     "text": [
      "root\n",
      " |-- action: string (nullable = true)\n",
      " |-- actorID: string (nullable = true)\n",
      " |-- hostname: string (nullable = true)\n",
      " |-- id: string (nullable = true)\n",
      " |-- object: string (nullable = true)\n",
      " |-- objectID: string (nullable = true)\n",
      " |-- pid: long (nullable = true)\n",
      " |-- ppid: long (nullable = true)\n",
      " |-- principal: string (nullable = true)\n",
      " |-- tid: long (nullable = true)\n",
      " |-- timestamp: string (nullable = true)\n",
      " |-- acuity_level: string (nullable = true)\n",
      " |-- bro_uid: string (nullable = true)\n",
      " |-- dest_ip: string (nullable = true)\n",
      " |-- dest_port: string (nullable = true)\n",
      " |-- direction: string (nullable = true)\n",
      " |-- image_path: string (nullable = true)\n",
      " |-- l4protocol: string (nullable = true)\n",
      " |-- src_ip: string (nullable = true)\n",
      " |-- src_port: string (nullable = true)\n",
      "\n"
     ]
    }
   ],
   "source": [
    "df_ecarbro.printSchema()"
   ]
  },
  {
   "cell_type": "markdown",
   "id": "317d6fbc-63cd-404c-82a3-5d0a14ae24a2",
   "metadata": {
    "tags": []
   },
   "source": [
    "#### Business Glossary for Link Data\n",
    "\n",
    "\n",
    "| Column Name  | Description                                                                                     |\n",
    "|--------------|-------------------------------------------------------------------------------------------------|\n",
    "| action       | Action performed in the event                                                                   |\n",
    "| actorID      | Unique ID of the actor who performed the action                                                 |\n",
    "| hostname     | Hostname of the system where the action was performed                                           |\n",
    "| id           | ID associated with the event                                                                    |\n",
    "| object       | Object related to the event                                                                     |\n",
    "| objectID     | Unique ID of the object related to the event                                                    |\n",
    "| pid          | Process ID associated with the event                                                            |\n",
    "| ppid         | Parent process ID associated with the event                                                     |\n",
    "| principal    | Principal associated with the event                                                              |\n",
    "| tid          | Thread ID associated with the event                                                              |\n",
    "| timestamp    | Time when the event occurred                                                                    |\n",
    "| acuity_level | Acuity level associated with the event                                                           |\n",
    "| bro_uid      | Bro unique identifier associated with the event                                                 |\n",
    "| dest_ip      | IP address of the destination of the event                                                       |\n",
    "| dest_port    | Port number of the destination of the event                                                      |\n",
    "| direction    | Direction of the event (inbound/outbound)                                                        |\n",
    "| image_path   | Path of the image associated with the event                                                      |\n",
    "| l4protocol   | Layer 4 protocol used in the event                                                               |\n",
    "| src_ip       | IP address of the source of the event                                                            |\n",
    "| src_port     | Port number of the source of the event                                                           |\n"
   ]
  },
  {
   "cell_type": "markdown",
   "id": "fedf6cf1-7c4a-4260-8fbe-95d33e4d1f13",
   "metadata": {},
   "source": [
    "#### Load ecar data (Endpoint Data, e.g. PC, Smartphone, Router, IOT device, etc.)"
   ]
  },
  {
   "cell_type": "code",
   "execution_count": 61,
   "id": "5cdbab49-aa87-43dc-a8bb-2c4137909923",
   "metadata": {
    "tags": []
   },
   "outputs": [
    {
     "name": "stdout",
     "output_type": "stream",
     "text": [
      "--- 0.34322047233581543 seconds ---\n"
     ]
    }
   ],
   "source": [
    "df_ecar = readCheckpoint('ecar', env)"
   ]
  },
  {
   "cell_type": "code",
   "execution_count": 62,
   "id": "1dc73a86-49e0-46cf-924e-5a02e956a685",
   "metadata": {
    "tags": []
   },
   "outputs": [
    {
     "name": "stdout",
     "output_type": "stream",
     "text": [
      "root\n",
      " |-- action: string (nullable = true)\n",
      " |-- actorID: string (nullable = true)\n",
      " |-- hostname: string (nullable = true)\n",
      " |-- id: string (nullable = true)\n",
      " |-- object: string (nullable = true)\n",
      " |-- objectID: string (nullable = true)\n",
      " |-- pid: long (nullable = true)\n",
      " |-- ppid: long (nullable = true)\n",
      " |-- principal: string (nullable = true)\n",
      " |-- tid: long (nullable = true)\n",
      " |-- timestamp: string (nullable = true)\n",
      " |-- acuity_level: string (nullable = true)\n",
      " |-- base_address: string (nullable = true)\n",
      " |-- command_line: string (nullable = true)\n",
      " |-- context_info: string (nullable = true)\n",
      " |-- data: string (nullable = true)\n",
      " |-- dest_ip: string (nullable = true)\n",
      " |-- dest_port: string (nullable = true)\n",
      " |-- direction: string (nullable = true)\n",
      " |-- end_time: string (nullable = true)\n",
      " |-- file_path: string (nullable = true)\n",
      " |-- image_path: string (nullable = true)\n",
      " |-- info_class: string (nullable = true)\n",
      " |-- key: string (nullable = true)\n",
      " |-- l4protocol: string (nullable = true)\n",
      " |-- logon_id: string (nullable = true)\n",
      " |-- module_path: string (nullable = true)\n",
      " |-- new_path: string (nullable = true)\n",
      " |-- parent_image_path: string (nullable = true)\n",
      " |-- path: string (nullable = true)\n",
      " |-- payload: string (nullable = true)\n",
      " |-- privileges: string (nullable = true)\n",
      " |-- requesting_domain: string (nullable = true)\n",
      " |-- requesting_logon_id: string (nullable = true)\n",
      " |-- requesting_user: string (nullable = true)\n",
      " |-- sid: string (nullable = true)\n",
      " |-- size: string (nullable = true)\n",
      " |-- src_ip: string (nullable = true)\n",
      " |-- src_pid: string (nullable = true)\n",
      " |-- src_port: string (nullable = true)\n",
      " |-- src_tid: string (nullable = true)\n",
      " |-- stack_base: string (nullable = true)\n",
      " |-- stack_limit: string (nullable = true)\n",
      " |-- start_address: string (nullable = true)\n",
      " |-- start_time: string (nullable = true)\n",
      " |-- subprocess_tag: string (nullable = true)\n",
      " |-- task_name: string (nullable = true)\n",
      " |-- task_pid: string (nullable = true)\n",
      " |-- task_process_uuid: string (nullable = true)\n",
      " |-- tgt_pid: string (nullable = true)\n",
      " |-- tgt_pid_uuid: string (nullable = true)\n",
      " |-- tgt_tid: string (nullable = true)\n",
      " |-- type: string (nullable = true)\n",
      " |-- user: string (nullable = true)\n",
      " |-- user_name: string (nullable = true)\n",
      " |-- user_stack_base: string (nullable = true)\n",
      " |-- user_stack_limit: string (nullable = true)\n",
      " |-- value: string (nullable = true)\n",
      "\n"
     ]
    }
   ],
   "source": [
    "df_ecar.printSchema()"
   ]
  },
  {
   "cell_type": "markdown",
   "id": "b9f6f92e-3c11-471a-b541-a4d0987c0fc2",
   "metadata": {
    "tags": []
   },
   "source": [
    "#### Business Glossary for Endpoint Data\n",
    "\n",
    "| Column Name      | Description                                                |\n",
    "|------------------|------------------------------------------------------------|\n",
    "| action           | The type of action performed (e.g. CREATE, REMOTE_CREATE)   |\n",
    "| actorID          | A unique identifier for the entity that initiated the action|\n",
    "| hostname         | The name of the host where the action was performed         |\n",
    "| id               | A unique identifier for the action                          |\n",
    "| object           | The type of object affected by the action (e.g. THREAD)     |\n",
    "| objectID         | A unique identifier for the object affected by the action   |\n",
    "| pid              | The process ID of the process that initiated the action     |\n",
    "| ppid             | The parent process ID of the process that initiated the action|\n",
    "| principal        | The identity of the user or application that performed the action|\n",
    "| tid              | The thread ID of the thread that initiated the action        |\n",
    "| task_process_uuid| A unique identifier for the process in which the action was performed|\n",
    "| tgt_pid          | The process ID of the target process affected by the action |\n",
    "| tgt_pid_uuid     | A unique identifier for the target process affected by the action|\n",
    "| tgt_tid          | The thread ID of the target thread affected by the action    |\n",
    "| type             | The type of action performed (e.g. THREAD)                  |\n",
    "| user             | The identity of the user that performed the action           |\n",
    "| user_name        | The name of the user that performed the action               |\n",
    "| user_stack_base  | The base address of the stack for the user that performed the action|\n",
    "| user_stack_limit | The limit address of the stack for the user that performed the action|\n",
    "| value            | The value associated with the action                         |\n"
   ]
  },
  {
   "cell_type": "markdown",
   "id": "f3c14636-7d91-42c9-9834-02873c706300",
   "metadata": {},
   "source": [
    "## Part 2: EDA"
   ]
  },
  {
   "cell_type": "markdown",
   "id": "6af79a36-cadd-4c5d-bd8d-d3add271615e",
   "metadata": {},
   "source": [
    "#### Network Data (bro)"
   ]
  },
  {
   "cell_type": "code",
   "execution_count": 63,
   "id": "accb118e-3d77-49ff-8634-82f7a1d97820",
   "metadata": {
    "tags": []
   },
   "outputs": [
    {
     "name": "stderr",
     "output_type": "stream",
     "text": [
      "                                                                                \r"
     ]
    },
    {
     "name": "stdout",
     "output_type": "stream",
     "text": [
      "Total number of rows: 1638512\n"
     ]
    },
    {
     "data": {
      "text/html": [
       "<div>\n",
       "<style scoped>\n",
       "    .dataframe tbody tr th:only-of-type {\n",
       "        vertical-align: middle;\n",
       "    }\n",
       "\n",
       "    .dataframe tbody tr th {\n",
       "        vertical-align: top;\n",
       "    }\n",
       "\n",
       "    .dataframe thead th {\n",
       "        text-align: right;\n",
       "    }\n",
       "</style>\n",
       "<table border=\"1\" class=\"dataframe\">\n",
       "  <thead>\n",
       "    <tr style=\"text-align: right;\">\n",
       "      <th></th>\n",
       "      <th>ts</th>\n",
       "      <th>uid</th>\n",
       "      <th>id_orig_h</th>\n",
       "      <th>id_orig_p</th>\n",
       "      <th>id_resp_h</th>\n",
       "      <th>id_resp_p</th>\n",
       "      <th>proto</th>\n",
       "      <th>service</th>\n",
       "      <th>duration</th>\n",
       "      <th>orig_bytes</th>\n",
       "      <th>...</th>\n",
       "      <th>conn_state</th>\n",
       "      <th>local_orig</th>\n",
       "      <th>local_resp</th>\n",
       "      <th>missed_bytes</th>\n",
       "      <th>history</th>\n",
       "      <th>orig_pkts</th>\n",
       "      <th>orig_ip_bytes</th>\n",
       "      <th>resp_pkts</th>\n",
       "      <th>resp_ip_bytes</th>\n",
       "      <th>tunnel_parents</th>\n",
       "    </tr>\n",
       "  </thead>\n",
       "  <tbody>\n",
       "    <tr>\n",
       "      <th>0</th>\n",
       "      <td>1569229689.859149</td>\n",
       "      <td>CfyCKh3MsRTpugdvj</td>\n",
       "      <td>142.20.59.103</td>\n",
       "      <td>50833</td>\n",
       "      <td>211.25.186.5</td>\n",
       "      <td>80</td>\n",
       "      <td>tcp</td>\n",
       "      <td>http</td>\n",
       "      <td>0.006784</td>\n",
       "      <td>283</td>\n",
       "      <td>...</td>\n",
       "      <td>SF</td>\n",
       "      <td>F</td>\n",
       "      <td>F</td>\n",
       "      <td>0</td>\n",
       "      <td>ShADadfF</td>\n",
       "      <td>5</td>\n",
       "      <td>495</td>\n",
       "      <td>5</td>\n",
       "      <td>824</td>\n",
       "      <td>(empty)</td>\n",
       "    </tr>\n",
       "    <tr>\n",
       "      <th>1</th>\n",
       "      <td>1569229689.855722</td>\n",
       "      <td>Cz0OEs4TjedsnhJXBe</td>\n",
       "      <td>142.20.57.200</td>\n",
       "      <td>50491</td>\n",
       "      <td>165.101.35.5</td>\n",
       "      <td>443</td>\n",
       "      <td>tcp</td>\n",
       "      <td>ssl</td>\n",
       "      <td>0.012456</td>\n",
       "      <td>917</td>\n",
       "      <td>...</td>\n",
       "      <td>SF</td>\n",
       "      <td>F</td>\n",
       "      <td>F</td>\n",
       "      <td>0</td>\n",
       "      <td>ShADadfF</td>\n",
       "      <td>7</td>\n",
       "      <td>1209</td>\n",
       "      <td>8</td>\n",
       "      <td>1084</td>\n",
       "      <td>(empty)</td>\n",
       "    </tr>\n",
       "    <tr>\n",
       "      <th>2</th>\n",
       "      <td>1569229689.890041</td>\n",
       "      <td>Ceom8t1Bh1ckezFB4l</td>\n",
       "      <td>142.20.57.200</td>\n",
       "      <td>50495</td>\n",
       "      <td>165.101.35.5</td>\n",
       "      <td>443</td>\n",
       "      <td>tcp</td>\n",
       "      <td>ssl</td>\n",
       "      <td>0.011329</td>\n",
       "      <td>917</td>\n",
       "      <td>...</td>\n",
       "      <td>SF</td>\n",
       "      <td>F</td>\n",
       "      <td>F</td>\n",
       "      <td>0</td>\n",
       "      <td>ShADadfF</td>\n",
       "      <td>7</td>\n",
       "      <td>1209</td>\n",
       "      <td>8</td>\n",
       "      <td>1084</td>\n",
       "      <td>(empty)</td>\n",
       "    </tr>\n",
       "    <tr>\n",
       "      <th>3</th>\n",
       "      <td>1569229682.895720</td>\n",
       "      <td>CdjoLx4lc0kxqLCP46</td>\n",
       "      <td>142.20.58.204</td>\n",
       "      <td>56854</td>\n",
       "      <td>5.221.97.162</td>\n",
       "      <td>80</td>\n",
       "      <td>tcp</td>\n",
       "      <td>http</td>\n",
       "      <td>7.019516</td>\n",
       "      <td>3534</td>\n",
       "      <td>...</td>\n",
       "      <td>SF</td>\n",
       "      <td>F</td>\n",
       "      <td>F</td>\n",
       "      <td>0</td>\n",
       "      <td>ShADadfF</td>\n",
       "      <td>50</td>\n",
       "      <td>5546</td>\n",
       "      <td>375</td>\n",
       "      <td>474840</td>\n",
       "      <td>(empty)</td>\n",
       "    </tr>\n",
       "    <tr>\n",
       "      <th>4</th>\n",
       "      <td>1569229690.002058</td>\n",
       "      <td>CCRq341myqJPGvb04f</td>\n",
       "      <td>142.20.59.103</td>\n",
       "      <td>50839</td>\n",
       "      <td>211.25.186.5</td>\n",
       "      <td>80</td>\n",
       "      <td>tcp</td>\n",
       "      <td>http</td>\n",
       "      <td>0.004701</td>\n",
       "      <td>283</td>\n",
       "      <td>...</td>\n",
       "      <td>SF</td>\n",
       "      <td>F</td>\n",
       "      <td>F</td>\n",
       "      <td>0</td>\n",
       "      <td>ShADadfF</td>\n",
       "      <td>5</td>\n",
       "      <td>495</td>\n",
       "      <td>5</td>\n",
       "      <td>824</td>\n",
       "      <td>(empty)</td>\n",
       "    </tr>\n",
       "  </tbody>\n",
       "</table>\n",
       "<p>5 rows × 21 columns</p>\n",
       "</div>"
      ],
      "text/plain": [
       "                  ts                 uid      id_orig_h id_orig_p  \\\n",
       "0  1569229689.859149   CfyCKh3MsRTpugdvj  142.20.59.103     50833   \n",
       "1  1569229689.855722  Cz0OEs4TjedsnhJXBe  142.20.57.200     50491   \n",
       "2  1569229689.890041  Ceom8t1Bh1ckezFB4l  142.20.57.200     50495   \n",
       "3  1569229682.895720  CdjoLx4lc0kxqLCP46  142.20.58.204     56854   \n",
       "4  1569229690.002058  CCRq341myqJPGvb04f  142.20.59.103     50839   \n",
       "\n",
       "      id_resp_h id_resp_p proto service  duration orig_bytes  ... conn_state  \\\n",
       "0  211.25.186.5        80   tcp    http  0.006784        283  ...         SF   \n",
       "1  165.101.35.5       443   tcp     ssl  0.012456        917  ...         SF   \n",
       "2  165.101.35.5       443   tcp     ssl  0.011329        917  ...         SF   \n",
       "3  5.221.97.162        80   tcp    http  7.019516       3534  ...         SF   \n",
       "4  211.25.186.5        80   tcp    http  0.004701        283  ...         SF   \n",
       "\n",
       "  local_orig local_resp missed_bytes   history orig_pkts orig_ip_bytes  \\\n",
       "0          F          F            0  ShADadfF         5           495   \n",
       "1          F          F            0  ShADadfF         7          1209   \n",
       "2          F          F            0  ShADadfF         7          1209   \n",
       "3          F          F            0  ShADadfF        50          5546   \n",
       "4          F          F            0  ShADadfF         5           495   \n",
       "\n",
       "  resp_pkts resp_ip_bytes tunnel_parents  \n",
       "0         5           824        (empty)  \n",
       "1         8          1084        (empty)  \n",
       "2         8          1084        (empty)  \n",
       "3       375        474840        (empty)  \n",
       "4         5           824        (empty)  \n",
       "\n",
       "[5 rows x 21 columns]"
      ]
     },
     "execution_count": 63,
     "metadata": {},
     "output_type": "execute_result"
    }
   ],
   "source": [
    "# Count the number of rows in the DataFrame\n",
    "print('Total number of rows:', df_bro.count())\n",
    "\n",
    "# update column names from period to underscore\n",
    "df_bro = df_bro.withColumnRenamed(\"id.orig_h\", \"id_orig_h\") \\\n",
    "               .withColumnRenamed(\"id.orig_p\", \"id_orig_p\") \\\n",
    "               .withColumnRenamed(\"id.resp_\", \"id_resp_h\") \\\n",
    "               .withColumnRenamed(\"id.resp_p\", \"id_resp_p\")\n",
    "\n",
    "# Show the first 5 rows of the DataFrame\n",
    "df_bro.limit(5).toPandas()"
   ]
  },
  {
   "cell_type": "code",
   "execution_count": 64,
   "id": "88cdbe36-22a5-4e79-9965-a3d1b2a31f33",
   "metadata": {
    "tags": []
   },
   "outputs": [
    {
     "name": "stderr",
     "output_type": "stream",
     "text": [
      "[Stage 196:==================================================>     (9 + 1) / 10]\r"
     ]
    },
    {
     "name": "stdout",
     "output_type": "stream",
     "text": [
      "                  duration          orig_bytes missed_bytes  \\\n",
      "summary                                                       \n",
      "count              1638512             1638512      1638512   \n",
      "mean     0.452717434888676  1046.1982514584404          0.0   \n",
      "stddev   5.934483768224415   3241.688502450323          0.0   \n",
      "min                      -                   -            0   \n",
      "max              99.993716                9998            0   \n",
      "\n",
      "                  orig_pkts       orig_ip_bytes           resp_pkts  \\\n",
      "summary                                                               \n",
      "count               1638512             1638512             1638512   \n",
      "mean     10.279075771187516  1499.3708431796654  27.273308343179664   \n",
      "stddev   12.827937693393125  3459.1386051086124  115.63798628076405   \n",
      "min                       1                1000                   0   \n",
      "max                      99                9999                 999   \n",
      "\n",
      "              resp_ip_bytes  \n",
      "summary                      \n",
      "count               1638512  \n",
      "mean      26854.68479998926  \n",
      "stddev   149792.07283254672  \n",
      "min                       0  \n",
      "max                  999975  \n"
     ]
    },
    {
     "name": "stderr",
     "output_type": "stream",
     "text": [
      "                                                                                \r"
     ]
    }
   ],
   "source": [
    "# Describe the numerical columns of the DataFrame\n",
    "description = df_bro.select('duration', 'orig_bytes', 'missed_bytes', 'orig_pkts', 'orig_ip_bytes', 'resp_pkts', 'resp_ip_bytes').describe()\n",
    "\n",
    "# Convert the describe dataframe to a pandas dataframe\n",
    "pandas_df = description.toPandas()\n",
    "\n",
    "# Set the index to the statistics\n",
    "pandas_df.set_index('summary', inplace=True)\n",
    "\n",
    "# Print the pandas dataframe\n",
    "print(pandas_df)\n",
    "\n"
   ]
  },
  {
   "cell_type": "code",
   "execution_count": 65,
   "id": "12c04b69-51e8-40e9-95d1-73989009fa3e",
   "metadata": {
    "tags": []
   },
   "outputs": [
    {
     "name": "stdout",
     "output_type": "stream",
     "text": [
      "\u001b[1mCommentary:\u001b[0m A protocol is like a set of rules that computers use to talk to each other and send information over the internet. Think of it like a secret code that helps the computers understand each other and send the right information. In our data, we see different types of protocols and will investigate if any protocol is more conducive to malicious activity.\n"
     ]
    },
    {
     "name": "stderr",
     "output_type": "stream",
     "text": [
      "                                                                                \r"
     ]
    },
    {
     "name": "stdout",
     "output_type": "stream",
     "text": [
      "+-----+-------+\n",
      "|proto|  count|\n",
      "+-----+-------+\n",
      "|  tcp|1632124|\n",
      "|  udp|   6345|\n",
      "| icmp|     43|\n",
      "+-----+-------+\n",
      "\n",
      "\u001b[1mCommentary:\u001b[0m Services are used by computers to communicate with each other over the internet.\n"
     ]
    },
    {
     "name": "stderr",
     "output_type": "stream",
     "text": [
      "                                                                                \r"
     ]
    },
    {
     "name": "stdout",
     "output_type": "stream",
     "text": [
      "+--------+-------+\n",
      "| service|  count|\n",
      "+--------+-------+\n",
      "|     ssl|1543302|\n",
      "|    http|  82258|\n",
      "|     dns|   6339|\n",
      "|       -|   5679|\n",
      "|ssl,smtp|    515|\n",
      "|smtp,ssl|    419|\n",
      "+--------+-------+\n",
      "\n"
     ]
    },
    {
     "name": "stderr",
     "output_type": "stream",
     "text": [
      "                                                                                \r"
     ]
    },
    {
     "name": "stdout",
     "output_type": "stream",
     "text": [
      "+-------------+------------+-----+\n",
      "|    id_orig_h|   id_resp_h|count|\n",
      "+-------------+------------+-----+\n",
      "|142.20.57.186|165.101.35.5|14361|\n",
      "| 142.20.58.37|165.101.35.5| 9806|\n",
      "|142.20.57.191|165.101.35.5| 9383|\n",
      "| 142.20.56.17|165.101.35.5| 7389|\n",
      "|142.20.56.166|165.101.35.5| 7324|\n",
      "+-------------+------------+-----+\n",
      "only showing top 5 rows\n",
      "\n"
     ]
    },
    {
     "name": "stderr",
     "output_type": "stream",
     "text": [
      "                                                                                \r"
     ]
    },
    {
     "name": "stdout",
     "output_type": "stream",
     "text": [
      "+-------------+----------------+----------------+\n",
      "|    id_orig_h|total_orig_bytes|total_resp_bytes|\n",
      "+-------------+----------------+----------------+\n",
      "|  142.20.61.3|     1.8028047E7|       1253215.0|\n",
      "|142.20.57.186|     1.3627406E7|     2.1404376E7|\n",
      "|142.20.57.191|     1.1802049E7|    1.16068112E8|\n",
      "| 142.20.58.37|     1.1147826E7|    1.16560545E8|\n",
      "|142.20.59.101|       9953407.0|    1.67103282E8|\n",
      "|142.20.57.166|       9677542.0|    1.21657509E8|\n",
      "|  142.20.59.1|       9201655.0|     9.4671044E7|\n",
      "| 142.20.56.17|       9156803.0|     9.5098735E7|\n",
      "| 142.20.57.43|       9012681.0|    1.15895796E8|\n",
      "|142.20.58.221|       8997579.0|       7433034.0|\n",
      "|142.20.56.143|       8711087.0|    1.03977266E8|\n",
      "|142.20.56.166|       8562912.0|     8.4115092E7|\n",
      "|142.20.58.233|       8561463.0|     6.9078277E7|\n",
      "|142.20.58.137|       7888560.0|    1.26267582E8|\n",
      "| 142.20.58.83|       7802983.0|     6.5331777E7|\n",
      "|142.20.57.144|       7695684.0|     4.3577907E7|\n",
      "| 142.20.59.57|       7147499.0|    1.96279479E8|\n",
      "|142.20.57.188|       7078317.0|    1.00956377E8|\n",
      "|142.20.57.170|       6936430.0|    1.14186642E8|\n",
      "|142.20.56.168|       6934630.0|     7.4327536E7|\n",
      "+-------------+----------------+----------------+\n",
      "only showing top 20 rows\n",
      "\n"
     ]
    },
    {
     "name": "stderr",
     "output_type": "stream",
     "text": [
      "[Stage 211:==================================================>     (9 + 1) / 10]\r"
     ]
    },
    {
     "name": "stdout",
     "output_type": "stream",
     "text": [
      "+--------+--------------------+\n",
      "| service|        avg_duration|\n",
      "+--------+--------------------+\n",
      "|    http|  7.9022473594179345|\n",
      "|smtp,ssl|  3.0048657040572793|\n",
      "|ssl,smtp|  2.9483941223300962|\n",
      "|       -|   1.037497518551394|\n",
      "|     ssl|  0.0538303094630861|\n",
      "|     dns|0.001333372586564...|\n",
      "+--------+--------------------+\n",
      "\n"
     ]
    },
    {
     "name": "stderr",
     "output_type": "stream",
     "text": [
      "                                                                                \r"
     ]
    }
   ],
   "source": [
    "# Group the DataFrame by protocol and count the number of occurrences for each protocol\n",
    "print(\"\\033[1mCommentary:\\033[0m A protocol is like a set of rules that computers use to talk to each other and send information over the internet. Think of it like a secret code that helps the computers understand each other and send the right information. In our data, we see different types of protocols and will investigate if any protocol is more conducive to malicious activity.\")\n",
    "df_bro.groupBy('proto').count().orderBy(desc('count')).show()\n",
    "\n",
    "# Group the DataFrame by service and count the number of occurrences for each service\n",
    "print(\"\\033[1mCommentary:\\033[0m Services are used by computers to communicate with each other over the internet.\")\n",
    "df_bro.groupBy('service').count().orderBy(desc('count')).show()\n",
    "\n",
    "# Find the top 5 host pairs with the highest number of connections\n",
    "df_bro.groupBy('id_orig_h', 'id_resp_h').count().orderBy(desc('count')).show(5)\n",
    "\n",
    "# Find the total number of bytes sent and received for each host\n",
    "df_bro.groupBy('id_orig_h')\\\n",
    "      .agg(sum('orig_bytes').alias('total_orig_bytes'), \\\n",
    "           sum('resp_bytes').alias('total_resp_bytes'))\\\n",
    "      .orderBy('total_orig_bytes', ascending=False)\\\n",
    "      .show()\n",
    "\n",
    "# Find the average duration of connections for each service\n",
    "from pyspark.sql.functions import avg\n",
    "df_bro.groupBy('service').agg(avg('duration').alias('avg_duration')).orderBy(desc('avg_duration')).show()\n"
   ]
  },
  {
   "cell_type": "markdown",
   "id": "1364ebc8-dbda-47bc-be7c-2ddad5c5258f",
   "metadata": {
    "tags": []
   },
   "source": [
    "#### Link Data (ecarbro)"
   ]
  },
  {
   "cell_type": "code",
   "execution_count": 20,
   "id": "8e4eb8c8-f6f0-43d9-b019-13ce59220f5f",
   "metadata": {
    "tags": []
   },
   "outputs": [
    {
     "name": "stdout",
     "output_type": "stream",
     "text": [
      "Total number of rows: 1000\n"
     ]
    },
    {
     "data": {
      "text/html": [
       "<div>\n",
       "<style scoped>\n",
       "    .dataframe tbody tr th:only-of-type {\n",
       "        vertical-align: middle;\n",
       "    }\n",
       "\n",
       "    .dataframe tbody tr th {\n",
       "        vertical-align: top;\n",
       "    }\n",
       "\n",
       "    .dataframe thead th {\n",
       "        text-align: right;\n",
       "    }\n",
       "</style>\n",
       "<table border=\"1\" class=\"dataframe\">\n",
       "  <thead>\n",
       "    <tr style=\"text-align: right;\">\n",
       "      <th></th>\n",
       "      <th>action</th>\n",
       "      <th>actorID</th>\n",
       "      <th>hostname</th>\n",
       "      <th>id</th>\n",
       "      <th>object</th>\n",
       "      <th>objectID</th>\n",
       "      <th>pid</th>\n",
       "      <th>ppid</th>\n",
       "      <th>principal</th>\n",
       "      <th>tid</th>\n",
       "      <th>timestamp</th>\n",
       "      <th>acuity_level</th>\n",
       "      <th>bro_uid</th>\n",
       "      <th>dest_ip</th>\n",
       "      <th>dest_port</th>\n",
       "      <th>direction</th>\n",
       "      <th>image_path</th>\n",
       "      <th>l4protocol</th>\n",
       "      <th>src_ip</th>\n",
       "      <th>src_port</th>\n",
       "    </tr>\n",
       "  </thead>\n",
       "  <tbody>\n",
       "    <tr>\n",
       "      <th>0</th>\n",
       "      <td>INFO</td>\n",
       "      <td>4767c80e-1e6b-412e-9432-fad5898fa7db</td>\n",
       "      <td>SysClient0024.systemia.com</td>\n",
       "      <td>2ea7d45b-0a28-4d92-8ca7-58502d1ba631</td>\n",
       "      <td>FLOW</td>\n",
       "      <td>dfaf05b2-4d7c-408d-bb0f-d56f52b07f12</td>\n",
       "      <td>5920</td>\n",
       "      <td>-1</td>\n",
       "      <td></td>\n",
       "      <td>-1</td>\n",
       "      <td>2019-09-23T09:10:15.593-04:00</td>\n",
       "      <td>1</td>\n",
       "      <td>C46Z8E9qAFrZ8Iks4</td>\n",
       "      <td>195.219.101.2</td>\n",
       "      <td>80</td>\n",
       "      <td>outbound</td>\n",
       "      <td>None</td>\n",
       "      <td>6</td>\n",
       "      <td>142.20.56.25</td>\n",
       "      <td>63394</td>\n",
       "    </tr>\n",
       "    <tr>\n",
       "      <th>1</th>\n",
       "      <td>INFO</td>\n",
       "      <td>4767c80e-1e6b-412e-9432-fad5898fa7db</td>\n",
       "      <td>SysClient0024.systemia.com</td>\n",
       "      <td>264c42c4-7914-4e76-809f-982fe0b241d0</td>\n",
       "      <td>FLOW</td>\n",
       "      <td>6ea8ef0c-6450-4e39-b473-c7d3d53578f3</td>\n",
       "      <td>5920</td>\n",
       "      <td>-1</td>\n",
       "      <td></td>\n",
       "      <td>-1</td>\n",
       "      <td>2019-09-23T09:10:15.623-04:00</td>\n",
       "      <td>1</td>\n",
       "      <td>Chrr5B4nTDEYBgYjme</td>\n",
       "      <td>195.219.101.5</td>\n",
       "      <td>80</td>\n",
       "      <td>outbound</td>\n",
       "      <td>None</td>\n",
       "      <td>6</td>\n",
       "      <td>142.20.56.25</td>\n",
       "      <td>63395</td>\n",
       "    </tr>\n",
       "    <tr>\n",
       "      <th>2</th>\n",
       "      <td>INFO</td>\n",
       "      <td>4767c80e-1e6b-412e-9432-fad5898fa7db</td>\n",
       "      <td>SysClient0024.systemia.com</td>\n",
       "      <td>3f057bc7-a39e-487e-8490-eb77f5bb6ed6</td>\n",
       "      <td>FLOW</td>\n",
       "      <td>6558c991-e5a0-409d-b5b9-96a3e44c747a</td>\n",
       "      <td>5920</td>\n",
       "      <td>-1</td>\n",
       "      <td></td>\n",
       "      <td>-1</td>\n",
       "      <td>2019-09-23T09:10:15.635-04:00</td>\n",
       "      <td>1</td>\n",
       "      <td>CvZy4E919XjWUGVD4</td>\n",
       "      <td>195.219.101.5</td>\n",
       "      <td>443</td>\n",
       "      <td>outbound</td>\n",
       "      <td>None</td>\n",
       "      <td>6</td>\n",
       "      <td>142.20.56.25</td>\n",
       "      <td>63396</td>\n",
       "    </tr>\n",
       "    <tr>\n",
       "      <th>3</th>\n",
       "      <td>INFO</td>\n",
       "      <td>4767c80e-1e6b-412e-9432-fad5898fa7db</td>\n",
       "      <td>SysClient0024.systemia.com</td>\n",
       "      <td>71978192-53c8-4cfa-a79f-193d760c3b01</td>\n",
       "      <td>FLOW</td>\n",
       "      <td>d57caaa4-66ec-400a-b305-049fa912b1dd</td>\n",
       "      <td>5920</td>\n",
       "      <td>-1</td>\n",
       "      <td></td>\n",
       "      <td>-1</td>\n",
       "      <td>2019-09-23T09:10:15.789-04:00</td>\n",
       "      <td>1</td>\n",
       "      <td>CXUYLX9hxem2or1bh</td>\n",
       "      <td>195.219.101.5</td>\n",
       "      <td>443</td>\n",
       "      <td>outbound</td>\n",
       "      <td>None</td>\n",
       "      <td>6</td>\n",
       "      <td>142.20.56.25</td>\n",
       "      <td>63397</td>\n",
       "    </tr>\n",
       "    <tr>\n",
       "      <th>4</th>\n",
       "      <td>INFO</td>\n",
       "      <td>4767c80e-1e6b-412e-9432-fad5898fa7db</td>\n",
       "      <td>SysClient0024.systemia.com</td>\n",
       "      <td>d02151e6-c183-46e2-82e0-0ed9eded3c92</td>\n",
       "      <td>FLOW</td>\n",
       "      <td>54530c7c-0b65-4ba9-a0c1-891d3e4e4efa</td>\n",
       "      <td>5920</td>\n",
       "      <td>-1</td>\n",
       "      <td></td>\n",
       "      <td>-1</td>\n",
       "      <td>2019-09-23T09:10:15.79-04:00</td>\n",
       "      <td>1</td>\n",
       "      <td>Cv9qwV2jFSOU4wpBu9</td>\n",
       "      <td>195.219.101.5</td>\n",
       "      <td>443</td>\n",
       "      <td>outbound</td>\n",
       "      <td>None</td>\n",
       "      <td>6</td>\n",
       "      <td>142.20.56.25</td>\n",
       "      <td>63398</td>\n",
       "    </tr>\n",
       "  </tbody>\n",
       "</table>\n",
       "</div>"
      ],
      "text/plain": [
       "  action                               actorID                    hostname  \\\n",
       "0   INFO  4767c80e-1e6b-412e-9432-fad5898fa7db  SysClient0024.systemia.com   \n",
       "1   INFO  4767c80e-1e6b-412e-9432-fad5898fa7db  SysClient0024.systemia.com   \n",
       "2   INFO  4767c80e-1e6b-412e-9432-fad5898fa7db  SysClient0024.systemia.com   \n",
       "3   INFO  4767c80e-1e6b-412e-9432-fad5898fa7db  SysClient0024.systemia.com   \n",
       "4   INFO  4767c80e-1e6b-412e-9432-fad5898fa7db  SysClient0024.systemia.com   \n",
       "\n",
       "                                     id object  \\\n",
       "0  2ea7d45b-0a28-4d92-8ca7-58502d1ba631   FLOW   \n",
       "1  264c42c4-7914-4e76-809f-982fe0b241d0   FLOW   \n",
       "2  3f057bc7-a39e-487e-8490-eb77f5bb6ed6   FLOW   \n",
       "3  71978192-53c8-4cfa-a79f-193d760c3b01   FLOW   \n",
       "4  d02151e6-c183-46e2-82e0-0ed9eded3c92   FLOW   \n",
       "\n",
       "                               objectID   pid  ppid principal  tid  \\\n",
       "0  dfaf05b2-4d7c-408d-bb0f-d56f52b07f12  5920    -1             -1   \n",
       "1  6ea8ef0c-6450-4e39-b473-c7d3d53578f3  5920    -1             -1   \n",
       "2  6558c991-e5a0-409d-b5b9-96a3e44c747a  5920    -1             -1   \n",
       "3  d57caaa4-66ec-400a-b305-049fa912b1dd  5920    -1             -1   \n",
       "4  54530c7c-0b65-4ba9-a0c1-891d3e4e4efa  5920    -1             -1   \n",
       "\n",
       "                       timestamp acuity_level             bro_uid  \\\n",
       "0  2019-09-23T09:10:15.593-04:00            1   C46Z8E9qAFrZ8Iks4   \n",
       "1  2019-09-23T09:10:15.623-04:00            1  Chrr5B4nTDEYBgYjme   \n",
       "2  2019-09-23T09:10:15.635-04:00            1   CvZy4E919XjWUGVD4   \n",
       "3  2019-09-23T09:10:15.789-04:00            1   CXUYLX9hxem2or1bh   \n",
       "4   2019-09-23T09:10:15.79-04:00            1  Cv9qwV2jFSOU4wpBu9   \n",
       "\n",
       "         dest_ip dest_port direction image_path l4protocol        src_ip  \\\n",
       "0  195.219.101.2        80  outbound       None          6  142.20.56.25   \n",
       "1  195.219.101.5        80  outbound       None          6  142.20.56.25   \n",
       "2  195.219.101.5       443  outbound       None          6  142.20.56.25   \n",
       "3  195.219.101.5       443  outbound       None          6  142.20.56.25   \n",
       "4  195.219.101.5       443  outbound       None          6  142.20.56.25   \n",
       "\n",
       "  src_port  \n",
       "0    63394  \n",
       "1    63395  \n",
       "2    63396  \n",
       "3    63397  \n",
       "4    63398  "
      ]
     },
     "execution_count": 20,
     "metadata": {},
     "output_type": "execute_result"
    }
   ],
   "source": [
    "# Count the number of rows in the DataFrame\n",
    "print('Total number of rows:', df_ecarbro.count())\n",
    "\n",
    "# Show the first 5 rows of the DataFrame\n",
    "df_ecarbro.limit(5).toPandas()"
   ]
  },
  {
   "cell_type": "code",
   "execution_count": 21,
   "id": "d928455c-7220-4a2d-9cc5-e5dcc3322cfa",
   "metadata": {
    "tags": []
   },
   "outputs": [
    {
     "name": "stdout",
     "output_type": "stream",
     "text": [
      "+------+------+-----+\n",
      "|object|action|count|\n",
      "+------+------+-----+\n",
      "|  FLOW|  INFO| 1000|\n",
      "+------+------+-----+\n",
      "\n"
     ]
    }
   ],
   "source": [
    "# Types of object/action pairs and their count\n",
    "\n",
    "df_ecarbro.groupBy(\"object\",\"action\").count().show()"
   ]
  },
  {
   "cell_type": "markdown",
   "id": "5962ae70-01ac-4e80-8de9-fb59e767836a",
   "metadata": {
    "tags": []
   },
   "source": [
    "#### Endpoint Data (ecarbro)"
   ]
  },
  {
   "cell_type": "code",
   "execution_count": 22,
   "id": "89e4bac9-d381-4c08-bbd1-1c8d14deb12c",
   "metadata": {
    "tags": []
   },
   "outputs": [
    {
     "name": "stdout",
     "output_type": "stream",
     "text": [
      "Total number of rows: 1000\n",
      "23/02/18 17:13:35 WARN package: Truncated the string representation of a plan since it was too large. This behavior can be adjusted by setting 'spark.sql.debug.maxToStringFields'.\n"
     ]
    },
    {
     "data": {
      "text/html": [
       "<div>\n",
       "<style scoped>\n",
       "    .dataframe tbody tr th:only-of-type {\n",
       "        vertical-align: middle;\n",
       "    }\n",
       "\n",
       "    .dataframe tbody tr th {\n",
       "        vertical-align: top;\n",
       "    }\n",
       "\n",
       "    .dataframe thead th {\n",
       "        text-align: right;\n",
       "    }\n",
       "</style>\n",
       "<table border=\"1\" class=\"dataframe\">\n",
       "  <thead>\n",
       "    <tr style=\"text-align: right;\">\n",
       "      <th></th>\n",
       "      <th>action</th>\n",
       "      <th>actorID</th>\n",
       "      <th>hostname</th>\n",
       "      <th>id</th>\n",
       "      <th>object</th>\n",
       "      <th>objectID</th>\n",
       "      <th>pid</th>\n",
       "      <th>ppid</th>\n",
       "      <th>principal</th>\n",
       "      <th>tid</th>\n",
       "      <th>...</th>\n",
       "      <th>task_process_uuid</th>\n",
       "      <th>tgt_pid</th>\n",
       "      <th>tgt_pid_uuid</th>\n",
       "      <th>tgt_tid</th>\n",
       "      <th>type</th>\n",
       "      <th>user</th>\n",
       "      <th>user_name</th>\n",
       "      <th>user_stack_base</th>\n",
       "      <th>user_stack_limit</th>\n",
       "      <th>value</th>\n",
       "    </tr>\n",
       "  </thead>\n",
       "  <tbody>\n",
       "    <tr>\n",
       "      <th>0</th>\n",
       "      <td>CREATE</td>\n",
       "      <td>89f91b70-9613-4e70-9473-23bb029e3889</td>\n",
       "      <td>SysClient0004.systemia.com</td>\n",
       "      <td>97e0d110-cc53-4baf-a293-4646e6d967a9</td>\n",
       "      <td>THREAD</td>\n",
       "      <td>9e902e20-df97-4120-8ed5-01b61980bab8</td>\n",
       "      <td>312</td>\n",
       "      <td>-1</td>\n",
       "      <td></td>\n",
       "      <td>4548</td>\n",
       "      <td>...</td>\n",
       "      <td>None</td>\n",
       "      <td>312</td>\n",
       "      <td>None</td>\n",
       "      <td>3332</td>\n",
       "      <td>None</td>\n",
       "      <td>None</td>\n",
       "      <td>None</td>\n",
       "      <td>3631f00000</td>\n",
       "      <td>3631ef8000</td>\n",
       "      <td>None</td>\n",
       "    </tr>\n",
       "    <tr>\n",
       "      <th>1</th>\n",
       "      <td>CREATE</td>\n",
       "      <td>89f91b70-9613-4e70-9473-23bb029e3889</td>\n",
       "      <td>SysClient0004.systemia.com</td>\n",
       "      <td>9adb7fc5-73f3-4567-8f6b-adbbc4a9ba3d</td>\n",
       "      <td>THREAD</td>\n",
       "      <td>bafe59cd-d8af-4be1-96b1-e7c727c1aec8</td>\n",
       "      <td>312</td>\n",
       "      <td>-1</td>\n",
       "      <td></td>\n",
       "      <td>4548</td>\n",
       "      <td>...</td>\n",
       "      <td>None</td>\n",
       "      <td>312</td>\n",
       "      <td>None</td>\n",
       "      <td>3188</td>\n",
       "      <td>None</td>\n",
       "      <td>None</td>\n",
       "      <td>None</td>\n",
       "      <td>3632000000</td>\n",
       "      <td>3631ff8000</td>\n",
       "      <td>None</td>\n",
       "    </tr>\n",
       "    <tr>\n",
       "      <th>2</th>\n",
       "      <td>CREATE</td>\n",
       "      <td>89f91b70-9613-4e70-9473-23bb029e3889</td>\n",
       "      <td>SysClient0004.systemia.com</td>\n",
       "      <td>4fc209b1-c5e4-49a2-94ec-d2310f211a02</td>\n",
       "      <td>THREAD</td>\n",
       "      <td>99e6ee71-6469-421e-b0c4-198a8e508488</td>\n",
       "      <td>312</td>\n",
       "      <td>-1</td>\n",
       "      <td></td>\n",
       "      <td>1640</td>\n",
       "      <td>...</td>\n",
       "      <td>None</td>\n",
       "      <td>312</td>\n",
       "      <td>None</td>\n",
       "      <td>2140</td>\n",
       "      <td>None</td>\n",
       "      <td>None</td>\n",
       "      <td>None</td>\n",
       "      <td>3632100000</td>\n",
       "      <td>36320f8000</td>\n",
       "      <td>None</td>\n",
       "    </tr>\n",
       "    <tr>\n",
       "      <th>3</th>\n",
       "      <td>REMOTE_CREATE</td>\n",
       "      <td>ff8a4d62-eb4a-4cfc-aea2-1870d4dba3f1</td>\n",
       "      <td>SysClient0004.systemia.com</td>\n",
       "      <td>a7624d42-57d8-4c31-bc71-191f8be09a49</td>\n",
       "      <td>THREAD</td>\n",
       "      <td>2d085a9f-c563-4fad-b86c-b035ba199f0b</td>\n",
       "      <td>1880</td>\n",
       "      <td>-1</td>\n",
       "      <td></td>\n",
       "      <td>2776</td>\n",
       "      <td>...</td>\n",
       "      <td>None</td>\n",
       "      <td>4</td>\n",
       "      <td>aa240ddc-17cd-4f29-bb39-e40a51f088b2</td>\n",
       "      <td>3676</td>\n",
       "      <td>None</td>\n",
       "      <td>None</td>\n",
       "      <td>None</td>\n",
       "      <td>0</td>\n",
       "      <td>0</td>\n",
       "      <td>None</td>\n",
       "    </tr>\n",
       "    <tr>\n",
       "      <th>4</th>\n",
       "      <td>CREATE</td>\n",
       "      <td>88984aa1-d004-41d9-a498-8e9eab111f62</td>\n",
       "      <td>SysClient0022.systemia.com</td>\n",
       "      <td>77bb2643-59a8-45e0-ad50-b198a4d8e5f0</td>\n",
       "      <td>THREAD</td>\n",
       "      <td>0ef70c6e-6aa3-4d5c-b74a-e902b630b25d</td>\n",
       "      <td>364</td>\n",
       "      <td>-1</td>\n",
       "      <td></td>\n",
       "      <td>2612</td>\n",
       "      <td>...</td>\n",
       "      <td>None</td>\n",
       "      <td>364</td>\n",
       "      <td>None</td>\n",
       "      <td>4352</td>\n",
       "      <td>None</td>\n",
       "      <td>None</td>\n",
       "      <td>None</td>\n",
       "      <td>6b08500000</td>\n",
       "      <td>6b084f8000</td>\n",
       "      <td>None</td>\n",
       "    </tr>\n",
       "  </tbody>\n",
       "</table>\n",
       "<p>5 rows × 58 columns</p>\n",
       "</div>"
      ],
      "text/plain": [
       "          action                               actorID  \\\n",
       "0         CREATE  89f91b70-9613-4e70-9473-23bb029e3889   \n",
       "1         CREATE  89f91b70-9613-4e70-9473-23bb029e3889   \n",
       "2         CREATE  89f91b70-9613-4e70-9473-23bb029e3889   \n",
       "3  REMOTE_CREATE  ff8a4d62-eb4a-4cfc-aea2-1870d4dba3f1   \n",
       "4         CREATE  88984aa1-d004-41d9-a498-8e9eab111f62   \n",
       "\n",
       "                     hostname                                    id  object  \\\n",
       "0  SysClient0004.systemia.com  97e0d110-cc53-4baf-a293-4646e6d967a9  THREAD   \n",
       "1  SysClient0004.systemia.com  9adb7fc5-73f3-4567-8f6b-adbbc4a9ba3d  THREAD   \n",
       "2  SysClient0004.systemia.com  4fc209b1-c5e4-49a2-94ec-d2310f211a02  THREAD   \n",
       "3  SysClient0004.systemia.com  a7624d42-57d8-4c31-bc71-191f8be09a49  THREAD   \n",
       "4  SysClient0022.systemia.com  77bb2643-59a8-45e0-ad50-b198a4d8e5f0  THREAD   \n",
       "\n",
       "                               objectID   pid  ppid principal   tid  ...  \\\n",
       "0  9e902e20-df97-4120-8ed5-01b61980bab8   312    -1            4548  ...   \n",
       "1  bafe59cd-d8af-4be1-96b1-e7c727c1aec8   312    -1            4548  ...   \n",
       "2  99e6ee71-6469-421e-b0c4-198a8e508488   312    -1            1640  ...   \n",
       "3  2d085a9f-c563-4fad-b86c-b035ba199f0b  1880    -1            2776  ...   \n",
       "4  0ef70c6e-6aa3-4d5c-b74a-e902b630b25d   364    -1            2612  ...   \n",
       "\n",
       "  task_process_uuid tgt_pid                          tgt_pid_uuid tgt_tid  \\\n",
       "0              None     312                                  None    3332   \n",
       "1              None     312                                  None    3188   \n",
       "2              None     312                                  None    2140   \n",
       "3              None       4  aa240ddc-17cd-4f29-bb39-e40a51f088b2    3676   \n",
       "4              None     364                                  None    4352   \n",
       "\n",
       "   type  user user_name user_stack_base user_stack_limit value  \n",
       "0  None  None      None      3631f00000       3631ef8000  None  \n",
       "1  None  None      None      3632000000       3631ff8000  None  \n",
       "2  None  None      None      3632100000       36320f8000  None  \n",
       "3  None  None      None               0                0  None  \n",
       "4  None  None      None      6b08500000       6b084f8000  None  \n",
       "\n",
       "[5 rows x 58 columns]"
      ]
     },
     "execution_count": 22,
     "metadata": {},
     "output_type": "execute_result"
    }
   ],
   "source": [
    "# Count the number of rows in the DataFrame\n",
    "print('Total number of rows:', df_ecar.count())\n",
    "\n",
    "# Show the first 5 rows of the DataFrame\n",
    "df_ecar.limit(5).toPandas()"
   ]
  },
  {
   "cell_type": "code",
   "execution_count": 23,
   "id": "fe8a088b-8e1e-4b3d-8dff-0b4ad5457a66",
   "metadata": {
    "tags": []
   },
   "outputs": [
    {
     "name": "stdout",
     "output_type": "stream",
     "text": [
      "+------------+-------------+-----+\n",
      "|      object|       action|count|\n",
      "+------------+-------------+-----+\n",
      "|        FLOW|        START|  350|\n",
      "|      MODULE|         LOAD|  229|\n",
      "|      THREAD|       CREATE|  114|\n",
      "|        FLOW|      MESSAGE|  112|\n",
      "|      THREAD|    TERMINATE|  105|\n",
      "|      THREAD|REMOTE_CREATE|   22|\n",
      "|    REGISTRY|         EDIT|   13|\n",
      "|     PROCESS|         OPEN|   13|\n",
      "|     PROCESS|    TERMINATE|   12|\n",
      "|     PROCESS|       CREATE|   11|\n",
      "|        FILE|       DELETE|    6|\n",
      "|        FILE|         READ|    4|\n",
      "|        FILE|       CREATE|    3|\n",
      "|USER_SESSION|        GRANT|    2|\n",
      "|        FILE|        WRITE|    2|\n",
      "|USER_SESSION|        LOGIN|    2|\n",
      "+------------+-------------+-----+\n",
      "\n"
     ]
    }
   ],
   "source": [
    "# Types of object/action pairs and their count\n",
    "\n",
    "df_ecar.groupBy(\"object\", \"action\").count().orderBy(desc(\"count\")).show()"
   ]
  },
  {
   "cell_type": "code",
   "execution_count": 26,
   "id": "75244828-40d7-4e64-8703-6101cdd6c831",
   "metadata": {
    "tags": []
   },
   "outputs": [
    {
     "data": {
      "image/png": "[encoded data removed]",
      "text/plain": [
       "<Figure size 640x480 with 1 Axes>"
      ]
     },
     "metadata": {},
     "output_type": "display_data"
    }
   ],
   "source": [
    "# Import necessary libraries\n",
    "import pyspark.sql.functions as F\n",
    "import pandas as pd\n",
    "import matplotlib.pyplot as plt\n",
    "\n",
    "# Group and aggregate data\n",
    "df_grouped = df_ecar.groupBy(\"object\").agg(F.count(\"*\").alias(\"count\"))\n",
    "\n",
    "# Calculate percentage of total count\n",
    "total_count = df_grouped.agg(F.sum(\"count\")).collect()[0][0]\n",
    "df_grouped = df_grouped.withColumn(\"percentage\", F.round((F.col(\"count\")/total_count)*100, 2))\n",
    "\n",
    "# Order by count\n",
    "df_grouped = df_grouped.orderBy(desc(\"count\"))\n",
    "\n",
    "# Convert PySpark DataFrame to Pandas DataFrame\n",
    "df_pd = df_grouped.toPandas()\n",
    "\n",
    "# Plot bar chart\n",
    "df_pd.plot(x='object', y='percentage', kind='bar')\n",
    "plt.xlabel('Object')\n",
    "plt.ylabel('Percentage of Total Count')\n",
    "plt.title('Percentage of Objects')\n",
    "plt.show()\n"
   ]
  },
  {
   "cell_type": "code",
   "execution_count": 29,
   "id": "0f021ccf-417b-4410-ba56-60b283100a43",
   "metadata": {
    "tags": []
   },
   "outputs": [
    {
     "data": {
      "image/png": "[encoded data removed]",
      "text/plain": [
       "<Figure size 640x480 with 1 Axes>"
      ]
     },
     "metadata": {},
     "output_type": "display_data"
    }
   ],
   "source": [
    "# Create new column for user/application\n",
    "df_ecar = df_ecar.withColumn('user_or_app', F.when(F.col('user').isNull(), 'Application').otherwise('User'))\n",
    "\n",
    "# Convert PySpark DataFrame to Pandas DataFrame\n",
    "pandas_df = df_ecar.groupBy(\"user_or_app\").count().orderBy(desc(\"count\")).toPandas()\n",
    "\n",
    "# Plot bar chart\n",
    "pandas_df.plot(kind=\"bar\", x=\"user_or_app\", y=\"count\")\n",
    "plt.show()\n",
    "\n"
   ]
  },
  {
   "cell_type": "code",
   "execution_count": 31,
   "id": "7eb78f09-a298-4061-b4ee-45b6694f489c",
   "metadata": {
    "tags": []
   },
   "outputs": [
    {
     "name": "stdout",
     "output_type": "stream",
     "text": [
      "+------+--------------------+-----+----------+\n",
      "|object|             actorID|count|percentage|\n",
      "+------+--------------------+-----+----------+\n",
      "|  FLOW|dc86e012-8306-46d...|  255|      25.5|\n",
      "|  FLOW|aa240ddc-17cd-4f2...|  164|      16.4|\n",
      "|THREAD|88984aa1-d004-41d...|   77|       7.7|\n",
      "|THREAD|89f91b70-9613-4e7...|   40|       4.0|\n",
      "|MODULE|f84b7804-d1b3-4ff...|   35|       3.5|\n",
      "+------+--------------------+-----+----------+\n",
      "\n"
     ]
    }
   ],
   "source": [
    "# Calculate the object and actorID pairs relative to the total number of events\n",
    "\n",
    "# Compute total count of events\n",
    "total_count = df_ecar.count()\n",
    "\n",
    "# Group by object and actorID, and count the number of events\n",
    "df_grouped = df_ecar.groupBy(\"object\", \"actorID\").agg(F.count(\"*\").alias(\"count\"))\n",
    "\n",
    "# Calculate percentage of total count\n",
    "df_grouped = df_grouped.withColumn(\"percentage\", F.round((F.col(\"count\")/total_count)*100, 2))\n",
    "\n",
    "# Order by count in descending order and display top 5\n",
    "df_top_5 = df_grouped.orderBy(F.desc(\"count\")).limit(5)\n",
    "\n",
    "# Show the result\n",
    "df_top_5.show()"
   ]
  },
  {
   "cell_type": "code",
   "execution_count": null,
   "id": "b9a96621-5e8b-402f-a58c-b4a05a58f9ea",
   "metadata": {},
   "outputs": [],
   "source": []
  },
  {
   "cell_type": "code",
   "execution_count": null,
   "id": "b60d4d48-deb2-46a3-8cd0-6e2138c5afb8",
   "metadata": {},
   "outputs": [],
   "source": []
  },
  {
   "cell_type": "code",
   "execution_count": null,
   "id": "5cb4fd45-de31-47ec-a891-c2107234406b",
   "metadata": {},
   "outputs": [],
   "source": []
  }
 ],
 "metadata": {
  "kernelspec": {
   "display_name": "conda_python3",
   "language": "python",
   "name": "conda_python3"
  },
  "language_info": {
   "codemirror_mode": {
    "name": "ipython",
    "version": 3
   },
   "file_extension": ".py",
   "mimetype": "text/x-python",
   "name": "python",
   "nbconvert_exporter": "python",
   "pygments_lexer": "ipython3",
   "version": "3.10.8"
  }
 },
 "nbformat": 4,
 "nbformat_minor": 5
}
