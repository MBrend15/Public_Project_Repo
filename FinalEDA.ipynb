{
 "cells": [
  {
   "cell_type": "markdown",
   "id": "4bf5c4bf-fb79-4859-9252-8bce5d1a274a",
   "metadata": {},
   "source": [
    "# Preliminary EDA\n",
    "\n",
    "### An Advanced Persistent Threat (APT) is a type of cyber attack where an attacker gains unauthorized access to a network and remains undetected for an extended period of time. The goal of an APT is usually to steal sensitive information or to disrupt critical systems. APT attacks are usually carried out by well-funded and highly skilled attackers, such as nation-state actors or organized criminal groups.\n",
    "\n",
    "### The objective of this project is to identify an APT and determine remedial actions"
   ]
  },
  {
   "cell_type": "code",
   "execution_count": 2,
   "id": "fb7532ca-b742-457d-8705-23367a5d3f2b",
   "metadata": {
    "tags": []
   },
   "outputs": [],
   "source": [
    "## Import Functions and Spark Config\n",
    "from pyspark.sql.functions import sum\n",
    "from pyspark.sql.functions import avg\n",
    "from pyspark.sql.functions import desc\n",
    "import pyspark.sql.functions as F\n",
    "import matplotlib.pyplot as plt\n",
    "import pandas as pd"
   ]
  },
  {
   "cell_type": "code",
   "execution_count": 3,
   "id": "23f44f59-fff5-41aa-9be8-02412de8c4ec",
   "metadata": {
    "tags": []
   },
   "outputs": [
    {
     "name": "stderr",
     "output_type": "stream",
     "text": [
      "Warning: Ignoring non-Spark config property: fs.s3a.access.key\n",
      "Warning: Ignoring non-Spark config property: fs.s3a.secret.key\n"
     ]
    },
    {
     "name": "stdout",
     "output_type": "stream",
     "text": [
      ":: loading settings :: url = jar:file:/home/ec2-user/anaconda3/envs/python3/lib/python3.10/site-packages/pyspark/jars/ivy-2.5.0.jar!/org/apache/ivy/core/settings/ivysettings.xml\n"
     ]
    },
    {
     "name": "stderr",
     "output_type": "stream",
     "text": [
      "Ivy Default Cache set to: /home/ec2-user/.ivy2/cache\n",
      "The jars for the packages stored in: /home/ec2-user/.ivy2/jars\n",
      "graphframes#graphframes added as a dependency\n",
      ":: resolving dependencies :: org.apache.spark#spark-submit-parent-ac1f95d6-2408-4e70-8e30-c58c1703bac2;1.0\n",
      "\tconfs: [default]\n",
      "\tfound graphframes#graphframes;0.8.2-spark3.2-s_2.12 in spark-packages\n",
      "\tfound org.slf4j#slf4j-api;1.7.16 in central\n",
      ":: resolution report :: resolve 255ms :: artifacts dl 4ms\n",
      "\t:: modules in use:\n",
      "\tgraphframes#graphframes;0.8.2-spark3.2-s_2.12 from spark-packages in [default]\n",
      "\torg.slf4j#slf4j-api;1.7.16 from central in [default]\n",
      "\t---------------------------------------------------------------------\n",
      "\t|                  |            modules            ||   artifacts   |\n",
      "\t|       conf       | number| search|dwnlded|evicted|| number|dwnlded|\n",
      "\t---------------------------------------------------------------------\n",
      "\t|      default     |   2   |   0   |   0   |   0   ||   2   |   0   |\n",
      "\t---------------------------------------------------------------------\n",
      ":: retrieving :: org.apache.spark#spark-submit-parent-ac1f95d6-2408-4e70-8e30-c58c1703bac2\n",
      "\tconfs: [default]\n",
      "\t0 artifacts copied, 2 already retrieved (0kB/4ms)\n"
     ]
    },
    {
     "name": "stdout",
     "output_type": "stream",
     "text": [
      "23/03/11 00:35:35 WARN NativeCodeLoader: Unable to load native-hadoop library for your platform... using builtin-java classes where applicable\n"
     ]
    },
    {
     "name": "stderr",
     "output_type": "stream",
     "text": [
      "Setting default log level to \"WARN\".\n",
      "To adjust logging level use sc.setLogLevel(newLevel). For SparkR, use setLogLevel(newLevel).\n"
     ]
    },
    {
     "name": "stdout",
     "output_type": "stream",
     "text": [
      "23/03/11 00:35:35 WARN SparkConf: Note that spark.local.dir will be overridden by the value set by the cluster manager (via SPARK_LOCAL_DIRS in mesos/standalone/kubernetes and LOCAL_DIRS in YARN).\n"
     ]
    }
   ],
   "source": [
    "%run ./read_file.ipynb"
   ]
  },
  {
   "cell_type": "markdown",
   "id": "322f0acc-5281-4b73-a33b-67ac7c05b96a",
   "metadata": {},
   "source": [
    "## Set Environment"
   ]
  },
  {
   "cell_type": "code",
   "execution_count": 3,
   "id": "3660605e-699c-4b64-b7c4-2211454666a6",
   "metadata": {
    "tags": []
   },
   "outputs": [],
   "source": [
    "# env - dev / prod\n",
    "# size - small / medium / large\n",
    "env='prod'\n",
    "size='medium'\n"
   ]
  },
  {
   "cell_type": "markdown",
   "id": "c8ecd4b8-755b-404f-8fd0-42b934bdef28",
   "metadata": {},
   "source": [
    "## Part 1: Load Data"
   ]
  },
  {
   "cell_type": "markdown",
   "id": "a9c1eee6-0f38-41a9-8dfd-51f7092d1e30",
   "metadata": {},
   "source": [
    "#### Load bro data (Network Data)"
   ]
  },
  {
   "cell_type": "code",
   "execution_count": 4,
   "id": "2d2b2c39-6d40-48c9-b62a-8999d776c31f",
   "metadata": {
    "tags": []
   },
   "outputs": [],
   "source": [
    "# df_bro = readCheckpoint('bro', env)"
   ]
  },
  {
   "cell_type": "code",
   "execution_count": null,
   "id": "37ad8cbc-ae4b-4c5a-b39b-53d104e412f2",
   "metadata": {
    "tags": []
   },
   "outputs": [],
   "source": [
    "df_bro.printSchema()"
   ]
  },
  {
   "cell_type": "markdown",
   "id": "7ea55fb9-f33c-48e4-b0b4-b7fe856af20f",
   "metadata": {},
   "source": [
    "#### Business Glossary for Network Data\n",
    "\n",
    "| Column Name   | Description                                                                                   |\n",
    "|---------------|-----------------------------------------------------------------------------------------------|\n",
    "| ts            | Timestamp                                                           |\n",
    "| uid           | A unique identifier for each connection                                                        |\n",
    "| id.orig_h     | IP address of the host that initiated the connection                                          |\n",
    "| id.orig_p     | Port number used by the host that initiated the connection                                     |\n",
    "| id.resp_h     | IP address of the host that received the connection                                            |\n",
    "| id.resp_p     | Port number used by the host that received the connection                                      |\n",
    "| proto         | Network protocol used for the connection (e.g. TCP, UDP)                                       |\n",
    "| service       | Service used for the connection (e.g. http, ftp)                                               |\n",
    "| duration      | Length of time (in seconds) that the connection was active                                     |\n",
    "| orig_bytes    | Number of bytes transmitted by the host that initiated the connection                         |\n",
    "| resp_bytes    | Number of bytes transmitted by the host that received the connection                          |\n",
    "| conn_state    | Current state of the connection                                                               |\n",
    "| local_orig    | Indicates whether the connection was initiated by a local host                                |\n",
    "| local_resp    | Indicates whether the connection was received by a local host                                 |\n",
    "| missed_bytes  | Number of bytes that were lost during transmission                                             |\n",
    "| history       | Record of the connection history                                                              |\n",
    "| orig_pkts     | Number of packets transmitted by the host that initiated the connection                       |\n",
    "| orig_ip_bytes | Number of IP bytes transmitted by the host that initiated the connection                       |\n",
    "| resp_pkts     | Number of packets transmitted by the host that received the connection                        |\n",
    "| resp_ip_bytes | Number of IP bytes transmitted by the host that received the connection                        |\n",
    "| tunnel_parents| Identifies any parent connections for the connection (if any)                                  |\n"
   ]
  },
  {
   "cell_type": "markdown",
   "id": "919b827d-7a33-4993-ac3e-9c74b0c565e3",
   "metadata": {},
   "source": [
    "#### Load ecarbro data (Link Data between records in the ecar stream and bro tables)"
   ]
  },
  {
   "cell_type": "code",
   "execution_count": 5,
   "id": "85ea208b-c82a-45f8-ad13-e2d76e35d3fa",
   "metadata": {
    "tags": []
   },
   "outputs": [
    {
     "name": "stderr",
     "output_type": "stream",
     "text": [
      "                                                                                \r"
     ]
    },
    {
     "name": "stdout",
     "output_type": "stream",
     "text": [
      " 4:29AM UTC on Mar 06, 2023 --- read and cache time: 8.570740938186646 seconds ---\n"
     ]
    }
   ],
   "source": [
    "df_ecarbro = readCheckpoint('ecar-bro', env)"
   ]
  },
  {
   "cell_type": "code",
   "execution_count": 6,
   "id": "0cfdcbdb-2856-47e7-be5d-57fcb0bf471b",
   "metadata": {
    "tags": []
   },
   "outputs": [
    {
     "name": "stdout",
     "output_type": "stream",
     "text": [
      "root\n",
      " |-- id: string (nullable = true)\n",
      " |-- timestamp: timestamp (nullable = true)\n",
      " |-- objectID: string (nullable = true)\n",
      " |-- actorID: string (nullable = true)\n",
      " |-- object: string (nullable = true)\n",
      " |-- action: string (nullable = true)\n",
      " |-- hostname: string (nullable = true)\n",
      "\n"
     ]
    }
   ],
   "source": [
    "df_ecarbro.printSchema()"
   ]
  },
  {
   "cell_type": "markdown",
   "id": "317d6fbc-63cd-404c-82a3-5d0a14ae24a2",
   "metadata": {
    "tags": []
   },
   "source": [
    "#### Business Glossary for Link Data\n",
    "\n",
    "\n",
    "| Column Name  | Description                                                                                     |\n",
    "|--------------|-------------------------------------------------------------------------------------------------|\n",
    "| action       | Action performed in the event                                                                   |\n",
    "| actorID      | Unique ID of the actor who performed the action                                                 |\n",
    "| hostname     | Hostname of the system where the action was performed                                           |\n",
    "| id           | ID associated with the event                                                                    |\n",
    "| object       | Object related to the event                                                                     |\n",
    "| objectID     | Unique ID of the object related to the event                                                    |\n",
    "| pid          | Process ID associated with the event                                                            |\n",
    "| ppid         | Parent process ID associated with the event                                                     |\n",
    "| principal    | Principal associated with the event                                                              |\n",
    "| tid          | Thread ID associated with the event                                                              |\n",
    "| timestamp    | Time when the event occurred                                                                    |\n",
    "| acuity_level | Acuity level associated with the event                                                           |\n",
    "| bro_uid      | Bro unique identifier associated with the event                                                 |\n",
    "| dest_ip      | IP address of the destination of the event                                                       |\n",
    "| dest_port    | Port number of the destination of the event                                                      |\n",
    "| direction    | Direction of the event (inbound/outbound)                                                        |\n",
    "| image_path   | Path of the image associated with the event                                                      |\n",
    "| l4protocol   | Layer 4 protocol used in the event                                                               |\n",
    "| src_ip       | IP address of the source of the event                                                            |\n",
    "| src_port     | Port number of the source of the event                                                           |\n",
    "| event_minute| Minute of the event\n",
    "| event_day| Day of the event\n",
    "| event_hour| Hour of the event"
   ]
  },
  {
   "cell_type": "markdown",
   "id": "fedf6cf1-7c4a-4260-8fbe-95d33e4d1f13",
   "metadata": {},
   "source": [
    "#### Load ecar data (Endpoint Data, e.g. PC, Smartphone, Router, IOT device, etc.)"
   ]
  },
  {
   "cell_type": "code",
   "execution_count": 1,
   "id": "5cdbab49-aa87-43dc-a8bb-2c4137909923",
   "metadata": {
    "tags": []
   },
   "outputs": [],
   "source": [
    "df_ecar = readCheckpoint('ecar', env, size).cache()"
   ]
  },
  {
   "cell_type": "code",
   "execution_count": null,
   "id": "1dc73a86-49e0-46cf-924e-5a02e956a685",
   "metadata": {
    "tags": []
   },
   "outputs": [
    {
     "name": "stdout",
     "output_type": "stream",
     "text": [
      "root\n",
      " |-- id: string (nullable = true)\n",
      " |-- timestamp: timestamp (nullable = true)\n",
      " |-- objectID: string (nullable = true)\n",
      " |-- actorID: string (nullable = true)\n",
      " |-- object: string (nullable = true)\n",
      " |-- action: string (nullable = true)\n",
      " |-- hostname: string (nullable = true)\n",
      "\n"
     ]
    }
   ],
   "source": [
    "df_ecar.printSchema()"
   ]
  },
  {
   "cell_type": "markdown",
   "id": "b9f6f92e-3c11-471a-b541-a4d0987c0fc2",
   "metadata": {
    "tags": []
   },
   "source": [
    "| Field          | Definition                                                                                                                                                                                                                                                                                                                                                                                                                                                                                                                                                                                                                                                                                                                                                                                                                                                                                                                                                                                                                                          |\n",
    "|----------------|-------------------------------------------------------------------------------------------------------------------------------------------------------------------------------------------------------------------------------------------------------------------------------------------------------------------------------------------------------------------------------------------------------------------------------------------------------------------------------------------------------------------------------------------------------------------------------------------------------------------------------------------------------------------------------------------------------------------------------------------------------------------------------------------------------------------------------------------------------------------------------------------------------------------------------------------------------------------------------------|\n",
    "| action         | The type of action taken, e.g. START, MODIFY, etc.                                                                                                                                                                                                                                                                                                                                                                                                                                                                                                                                                                                                                                                                                                                                                                                                                                                                                                                                                             |\n",
    "| actorID        | The ID of the actor responsible for the action.                                                                                                                                                                                                                                                                                                                                                                                                                                                                                                                                                                                                                                                                                                                                                                                                                                                                                                                                         |\n",
    "| hostname       | The hostname of the device where the action occurred.                                                                                                                                                                                                                                                                                                                                                                                                                                                                                                                                                                                                                                                                                                                                                                                                                                                                                                                                  |\n",
    "| id             | The ID of the event.                                                                                                                                                                                                                                                                                                                                                                                                                                                                                                                                                                                                                                                                                                                                                                                                                                                                                                                                                                    |\n",
    "| object         | The object associated with the event.                                                                                                                                                                                                                                                                                                                                                                                                                                                                                                                                                                                                                                                                                                                                                                                                                                                                                                                                                  |\n",
    "| objectID       | The ID of the object associated with the event.                                                                                                                                                                                                                                                                                                                                                                                                                                                                                                                                                                                                                                                                                                                                                                                                                                                                                                                                         |\n",
    "| pid            | The process ID associated with the event.                                                                                                                                                                                                                                                                                                                                                                                                                                                                                                                                                                                                                                                                                                                                                                                                                                                                                                                                               |\n",
    "| ppid           | The parent process ID associated with the event.                                                                                                                                                                                                                                                                                                                                                                                                                                                                                                                                                                                                                                                                                                                                                                                                                                                                                                                                        |\n",
    "| principal      | The user or account associated with the event.                                                                                                                                                                                                                                                                                                                                                                                                                                                                                                                                                                                                                                                                                                                                                                                                                                                                                                                                           |\n",
    "| tid            | The thread ID associated with the event.                                                                                                                                                                                                                                                                                                                                                                                                                                                                                                                                                                                                                                                                                                                                                                                                                                                                                                                                                 |\n",
    "| timestamp      | The timestamp of the event.                                                                                                                                                                                                                                                                                                                                                                                                                                                                                                                                                                                                                                                                                                                                                                                                                                                                                                                                                              |\n",
    "| acuity_level   | The severity of the event.                                                                                                                                                                                                                                                                                                                                                                                                                                                                                                                                                                                                                                                                                                                                                                                                                                                                                                                                                               |\n",
    "| base_address   | The base address of the object associated with the event.                                                                                                                                                                                                                                                                                                                                                                                                                                                                                                                                                                                                                                                                                                                                                                                                                                                                                                                               |\n",
    "| command_line   | The command line associated with the event.                                                                                                                                                                                                                                                                                                                                                                                                                                                                                                                                                                                                                                                                                                                                                                                                                                                                                                                                              |\n",
    "| context_info   | Additional context information associated with the event.                                                                                                                                                                                                                                                                                                                                                                                                                                                                                                                                                                                                                                                                                                                                                                                                                                                                                                                               |\n",
    "| data           | Additional data associated with the event.                                                                                                                                                                                                                                                                                                                                                                                                                                                                                                                                                                                                                                                                                                                                                                                                                                                                                                                                               |\n",
    "| dest_port      | The destination port associated with the event.                                                                                                                                                                                                                                                                                                                                                                                                                                                                                                                                                                                                                                                                                                                                                                                                                                                                                                                                          |\n",
    "| direction      | The direction of the event (e.g. inbound/outbound).                                                                                                                                                                                                                                                                                                                                                                                                                                                                                                                                                                                                                                                                                                                                                                                                                                                                                                                                       |\n",
    "| end_time       | The end time of the event.                                                                                                                                                                                                                                                                                                                                                                                                                                                                                                                                                                                                                                                                                                                                                                                                                                                                                                                                                                |\n",
    "| file_path      | The file path associated with the event.                                                                                                                                                                                                                                                                                                                                                                                                                                                                                                                                                                                                                                                                                                                                                                                                                                                                                                                                                  |\n",
    "| image_path     | The image path associated with the event.                                                                                                                                                                                                                                                                                                                                                                                                                                                                                                                                                                                                                                                                                                                                                                                                                                                                                                                                                 |\n",
    "| info_class     | The information class associated with the event.                                                                                                                                                                                                                                                                                                                                                                                                                                                                                                                                                                                                                                                                                                                                                                                                                                                                                                                                         |\n",
    "| key            | The registry key associated with the event.                                                                                                                                                                                                                                                                                                                                                                                                                                                                                                                                                                                                                                                                                                                                                                                                                                                                                                                                              |\n",
    "| l4protocol     | The layer 4 protocol associated with the event.                                                                                                                                                                                                                                                                                                                                                                                                                                                                                                                                                                                                                                                                                                                                                                                                                                                                                                                                           |\n",
    "| logon_id       | The logon ID associated with the event.                                                                                                                                                                                                                                                                                                                                                                                                                                                                                                                                                                                                                                                                                                                                                                                                                                                                                                                                                  |\n",
    "| module_path    | The module path associated with the event.                                                                                                                                                                                                                                                                                                                                                                                                                                                                                                                                                                                                                                                                                                                                                                                                                                                                                                                                               |\n",
    "| new_path       | The new path associated with the event.                                                                                                                                                                                                                                                                                                                                                                                                                                                                                                                                                                                                                                                                                                                                                                                                                                                                                                                                                  |\n",
    "| parent_image_path | The parent image path associated with the event.                                                                                                                                                                                                                                                                                                                                                                                                                                                                                                                                                                                                                                                                                                                                                                                                                                                                                                                                         |\n",
    "| path           | The path associated with the event.                                                                                                                                                                                                                                                                                                                                                                                                                                                                                                                                                                                                                                                                                                                                                                                                                                                                                                                                                       |\n",
    "| payload        | The payload associated with the event.                                                                                                                                                                                                                                                                                                                                                                                                                                                                                                                                                                                                                                                                                                                                                                                                                                                                                                                                                   |\n",
    "| privileges     | The privileges associated with the event.                                                                                                                                                                                                                                                                                                                                                                                                                                                                                                                                                                                                                                                                                                                                                                                                                                                                                                                                                |\n",
    "| requesting_domain | The domain of the account that made the request.                                                                                                                                                                                                                                                                                                                                                                                                                                                                                                                                                                                                                                                                                                                                                                                                                                                                                                                                        |\n",
    "| requesting_logon_id | The logon ID of the account\n",
    "| stack_base | The base address of the stack for the thread that generated the event |\n",
    "| stack_limit | The limit of the stack for the thread that generated the event |\n",
    "| start_address | The starting address of the process that generated the event |\n",
    "| start_time | The time at which the process that generated the event started |\n",
    "| subprocess_tag | A unique tag that identifies the subprocess that generated the event |\n",
    "| task_name | The name of the task that generated the event |\n",
    "| task_pid | The process ID of the task that generated the event |\n",
    "| task_process_uuid | The UUID of the process that generated the event |\n",
    "| tgt_pid | The process ID of the target of the event |\n",
    "| tgt_pid_uuid | The UUID of the target process of the event |\n",
    "| tgt_tid | The thread ID of the target of the event |\n",
    "| type | The type of event that was generated |\n",
    "| user | The user associated with the event |\n",
    "| user_name | The name of the user associated with the event |\n",
    "| user_stack_base | The base address of the stack for the user associated with the event |\n",
    "| user_stack_limit | The limit of the stack for the user associated with the event |\n",
    "| value | The value associated with the event |\n",
    "| event_day | The day on which the event occurred |\n",
    "| event_hour | The hour at which the event occurred |\n",
    "| event_minute | The minute at which the event occurred |\n"
   ]
  },
  {
   "cell_type": "markdown",
   "id": "f3c14636-7d91-42c9-9834-02873c706300",
   "metadata": {},
   "source": [
    "## Part 2: EDA"
   ]
  },
  {
   "cell_type": "markdown",
   "id": "6af79a36-cadd-4c5d-bd8d-d3add271615e",
   "metadata": {},
   "source": [
    "#### Network Data (bro)"
   ]
  },
  {
   "cell_type": "code",
   "execution_count": 13,
   "id": "accb118e-3d77-49ff-8634-82f7a1d97820",
   "metadata": {
    "tags": []
   },
   "outputs": [
    {
     "ename": "NameError",
     "evalue": "name 'df_bro' is not defined",
     "output_type": "error",
     "traceback": [
      "\u001b[0;31m---------------------------------------------------------------------------\u001b[0m",
      "\u001b[0;31mNameError\u001b[0m                                 Traceback (most recent call last)",
      "Cell \u001b[0;32mIn[13], line 2\u001b[0m\n\u001b[1;32m      1\u001b[0m \u001b[38;5;66;03m# Count the number of rows in the DataFrame\u001b[39;00m\n\u001b[0;32m----> 2\u001b[0m \u001b[38;5;28mprint\u001b[39m(\u001b[38;5;124m'\u001b[39m\u001b[38;5;124mTotal number of rows:\u001b[39m\u001b[38;5;124m'\u001b[39m, \u001b[43mdf_bro\u001b[49m\u001b[38;5;241m.\u001b[39mcount())\n\u001b[1;32m      4\u001b[0m \u001b[38;5;66;03m# update column names from period to underscore\u001b[39;00m\n\u001b[1;32m      5\u001b[0m df_bro \u001b[38;5;241m=\u001b[39m df_bro\u001b[38;5;241m.\u001b[39mwithColumnRenamed(\u001b[38;5;124m\"\u001b[39m\u001b[38;5;124mid.orig_h\u001b[39m\u001b[38;5;124m\"\u001b[39m, \u001b[38;5;124m\"\u001b[39m\u001b[38;5;124mid_orig_h\u001b[39m\u001b[38;5;124m\"\u001b[39m) \\\n\u001b[1;32m      6\u001b[0m                \u001b[38;5;241m.\u001b[39mwithColumnRenamed(\u001b[38;5;124m\"\u001b[39m\u001b[38;5;124mid.orig_p\u001b[39m\u001b[38;5;124m\"\u001b[39m, \u001b[38;5;124m\"\u001b[39m\u001b[38;5;124mid_orig_p\u001b[39m\u001b[38;5;124m\"\u001b[39m) \\\n\u001b[1;32m      7\u001b[0m                \u001b[38;5;241m.\u001b[39mwithColumnRenamed(\u001b[38;5;124m\"\u001b[39m\u001b[38;5;124mid.resp_\u001b[39m\u001b[38;5;124m\"\u001b[39m, \u001b[38;5;124m\"\u001b[39m\u001b[38;5;124mid_resp_h\u001b[39m\u001b[38;5;124m\"\u001b[39m) \\\n\u001b[1;32m      8\u001b[0m                \u001b[38;5;241m.\u001b[39mwithColumnRenamed(\u001b[38;5;124m\"\u001b[39m\u001b[38;5;124mid.resp_p\u001b[39m\u001b[38;5;124m\"\u001b[39m, \u001b[38;5;124m\"\u001b[39m\u001b[38;5;124mid_resp_p\u001b[39m\u001b[38;5;124m\"\u001b[39m)\n",
      "\u001b[0;31mNameError\u001b[0m: name 'df_bro' is not defined"
     ]
    }
   ],
   "source": [
    "# Count the number of rows in the DataFrame\n",
    "print('Total number of rows:', df_bro.count())\n",
    "\n",
    "# update column names from period to underscore\n",
    "df_bro = df_bro.withColumnRenamed(\"id.orig_h\", \"id_orig_h\") \\\n",
    "               .withColumnRenamed(\"id.orig_p\", \"id_orig_p\") \\\n",
    "               .withColumnRenamed(\"id.resp_\", \"id_resp_h\") \\\n",
    "               .withColumnRenamed(\"id.resp_p\", \"id_resp_p\")\n",
    "\n",
    "# Show the first 5 rows of the DataFrame\n",
    "df_bro.limit(5).toPandas()"
   ]
  },
  {
   "cell_type": "code",
   "execution_count": 14,
   "id": "88cdbe36-22a5-4e79-9965-a3d1b2a31f33",
   "metadata": {
    "tags": []
   },
   "outputs": [
    {
     "ename": "NameError",
     "evalue": "name 'df_bro' is not defined",
     "output_type": "error",
     "traceback": [
      "\u001b[0;31m---------------------------------------------------------------------------\u001b[0m",
      "\u001b[0;31mNameError\u001b[0m                                 Traceback (most recent call last)",
      "Cell \u001b[0;32mIn[14], line 2\u001b[0m\n\u001b[1;32m      1\u001b[0m \u001b[38;5;66;03m# Describe the numerical columns of the DataFrame\u001b[39;00m\n\u001b[0;32m----> 2\u001b[0m description \u001b[38;5;241m=\u001b[39m \u001b[43mdf_bro\u001b[49m\u001b[38;5;241m.\u001b[39mselect(\u001b[38;5;124m'\u001b[39m\u001b[38;5;124mduration\u001b[39m\u001b[38;5;124m'\u001b[39m, \u001b[38;5;124m'\u001b[39m\u001b[38;5;124morig_bytes\u001b[39m\u001b[38;5;124m'\u001b[39m, \u001b[38;5;124m'\u001b[39m\u001b[38;5;124mmissed_bytes\u001b[39m\u001b[38;5;124m'\u001b[39m, \u001b[38;5;124m'\u001b[39m\u001b[38;5;124morig_pkts\u001b[39m\u001b[38;5;124m'\u001b[39m, \u001b[38;5;124m'\u001b[39m\u001b[38;5;124morig_ip_bytes\u001b[39m\u001b[38;5;124m'\u001b[39m, \u001b[38;5;124m'\u001b[39m\u001b[38;5;124mresp_pkts\u001b[39m\u001b[38;5;124m'\u001b[39m, \u001b[38;5;124m'\u001b[39m\u001b[38;5;124mresp_ip_bytes\u001b[39m\u001b[38;5;124m'\u001b[39m)\u001b[38;5;241m.\u001b[39mdescribe()\n\u001b[1;32m      4\u001b[0m \u001b[38;5;66;03m# Convert the describe dataframe to a pandas dataframe\u001b[39;00m\n\u001b[1;32m      5\u001b[0m pandas_df \u001b[38;5;241m=\u001b[39m description\u001b[38;5;241m.\u001b[39mtoPandas()\n",
      "\u001b[0;31mNameError\u001b[0m: name 'df_bro' is not defined"
     ]
    }
   ],
   "source": [
    "# Describe the numerical columns of the DataFrame\n",
    "description = df_bro.select('duration', 'orig_bytes', 'missed_bytes', 'orig_pkts', 'orig_ip_bytes', 'resp_pkts', 'resp_ip_bytes').describe()\n",
    "\n",
    "# Convert the describe dataframe to a pandas dataframe\n",
    "pandas_df = description.toPandas()\n",
    "\n",
    "# Set the index to the statistics\n",
    "pandas_df.set_index('summary', inplace=True)\n",
    "\n",
    "# Print the pandas dataframe\n",
    "print(pandas_df)\n",
    "\n"
   ]
  },
  {
   "cell_type": "code",
   "execution_count": 26,
   "id": "12c04b69-51e8-40e9-95d1-73989009fa3e",
   "metadata": {
    "tags": []
   },
   "outputs": [
    {
     "name": "stdout",
     "output_type": "stream",
     "text": [
      "\u001b[1mCommentary:\u001b[0m A protocol is like a set of rules that computers use to talk to each other and send information over the internet. Think of it like a secret code that helps the computers understand each other and send the right information. In our data, we see different types of protocols and will investigate if any protocol is more conducive to malicious activity.\n",
      "+-----+------+\n",
      "|proto| count|\n",
      "+-----+------+\n",
      "|  tcp|995775|\n",
      "|  udp|  4202|\n",
      "| icmp|    23|\n",
      "+-----+------+\n",
      "\n",
      "\u001b[1mCommentary:\u001b[0m Services are used by computers to communicate with each other over the internet.\n",
      "+--------+------+\n",
      "| service| count|\n",
      "+--------+------+\n",
      "|     ssl|942229|\n",
      "|    http| 49922|\n",
      "|     dns|  4198|\n",
      "|       -|  3065|\n",
      "|ssl,smtp|   315|\n",
      "|smtp,ssl|   271|\n",
      "+--------+------+\n",
      "\n",
      "\u001b[1mCommentary:\u001b[0m Top 5 host pairs with the highest number of connections\n",
      "+-------------+------------+-----+\n",
      "|    id_orig_h|   id_resp_h|count|\n",
      "+-------------+------------+-----+\n",
      "|142.20.57.186|165.101.35.5| 9159|\n",
      "| 142.20.56.17|165.101.35.5| 5659|\n",
      "|142.20.59.101|165.101.35.5| 5249|\n",
      "| 142.20.58.37|165.101.35.5| 4789|\n",
      "|142.20.57.144|165.101.35.5| 4640|\n",
      "+-------------+------------+-----+\n",
      "only showing top 5 rows\n",
      "\n",
      "\u001b[1mCommentary:\u001b[0m Total number of bytes sent and received for each host\n",
      "+-------------+----------------+----------------+\n",
      "|    id_orig_h|total_orig_bytes|total_resp_bytes|\n",
      "+-------------+----------------+----------------+\n",
      "|  142.20.61.3|        12244542|          783563|\n",
      "|142.20.57.186|         8824177|        17417616|\n",
      "|142.20.59.101|         7292601|        84621482|\n",
      "|142.20.57.166|         7153236|       115886195|\n",
      "|142.20.57.191|         6970356|       112082252|\n",
      "| 142.20.56.17|         5953388|        40776693|\n",
      "|  142.20.59.1|         5835108|        76544167|\n",
      "|142.20.58.187|         5765198|       104806961|\n",
      "|142.20.58.137|         5438883|       123399116|\n",
      "| 142.20.58.37|         5315661|        44739486|\n",
      "|142.20.58.221|         5307926|         4404713|\n",
      "|142.20.59.148|         5265345|       114991505|\n",
      "|142.20.56.166|         5158763|        31805355|\n",
      "|142.20.57.144|         5102425|        37585355|\n",
      "|142.20.57.170|         5023734|        94752242|\n",
      "| 142.20.58.13|         4989509|        65512949|\n",
      "|142.20.58.233|         4892798|        58720126|\n",
      "| 142.20.59.49|         4835456|        55194408|\n",
      "|142.20.58.104|         4811787|        65410503|\n",
      "|142.20.58.154|         4802301|        34081608|\n",
      "+-------------+----------------+----------------+\n",
      "only showing top 20 rows\n",
      "\n",
      "\u001b[1mCommentary:\u001b[0m Average duration of connections for each service\n",
      "+--------+--------------------+\n",
      "| service|        avg_duration|\n",
      "+--------+--------------------+\n",
      "|    http|    8.01658660654624|\n",
      "|ssl,smtp|   3.453596504761905|\n",
      "|smtp,ssl|  2.8917511881918814|\n",
      "|       -|  1.2104134379730167|\n",
      "|     ssl|  0.0552030650892721|\n",
      "|     dns|0.001349147358216...|\n",
      "+--------+--------------------+\n",
      "\n"
     ]
    }
   ],
   "source": [
    "# Group the DataFrame by protocol and count the number of occurrences for each protocol\n",
    "print(\"\\033[1mCommentary:\\033[0m A protocol is like a set of rules that computers use to talk to each other and send information over the internet. Think of it like a secret code that helps the computers understand each other and send the right information. In our data, we see different types of protocols and will investigate if any protocol is more conducive to malicious activity.\")\n",
    "df_bro.groupBy('proto').count().orderBy(desc('count')).show()\n",
    "\n",
    "# Group the DataFrame by service and count the number of occurrences for each service\n",
    "print(\"\\033[1mCommentary:\\033[0m Services are used by computers to communicate with each other over the internet.\")\n",
    "df_bro.groupBy('service').count().orderBy(desc('count')).show()\n",
    "\n",
    "# Find the top 5 host pairs with the highest number of connections\n",
    "print(\"\\033[1mCommentary:\\033[0m Top 5 host pairs with the highest number of connections\")\n",
    "df_bro.groupBy('id_orig_h', 'id_resp_h').count().orderBy(desc('count')).show(5)\n",
    "\n",
    "# Find the total number of bytes sent and received for each host\n",
    "print(\"\\033[1mCommentary:\\033[0m Total number of bytes sent and received for each host\")\n",
    "df_bro.groupBy('id_orig_h')\\\n",
    "      .agg(sum('orig_bytes').alias('total_orig_bytes'), \\\n",
    "           sum('resp_bytes').alias('total_resp_bytes'))\\\n",
    "      .orderBy('total_orig_bytes', ascending=False)\\\n",
    "      .show()\n",
    "\n",
    "# Find the average duration of connections for each service\n",
    "print(\"\\033[1mCommentary:\\033[0m Average duration of connections for each service\")\n",
    "df_bro.groupBy('service').agg(avg('duration').alias('avg_duration')).orderBy(desc('avg_duration')).show()\n"
   ]
  },
  {
   "cell_type": "code",
   "execution_count": 32,
   "id": "01a48169-aef6-4a4c-a1f0-e9164300baea",
   "metadata": {
    "tags": []
   },
   "outputs": [
    {
     "data": {
      "image/png": "[encoded data removed]",
      "text/plain": [
       "<Figure size 640x480 with 1 Axes>"
      ]
     },
     "metadata": {},
     "output_type": "display_data"
    }
   ],
   "source": [
    "# Group by the data by id_orig_h and count, then sort count\n",
    "id_orig_h_counts = df_bro.groupBy('id_orig_h').agg(F.count('id_orig_h').alias('count')).orderBy('count', ascending=False)\n",
    "\n",
    "# Select the top 20 values and output to a Pandas dataframe\n",
    "top_20_id_orig_h = id_orig_h_counts.limit(20).toPandas()\n",
    "\n",
    "# Plot a histogram of the top 20 id_orig_h values\n",
    "top_20_id_orig_h.plot(kind='bar', x='id_orig_h', y='count')\n",
    "\n",
    "# set the title and axis labels\n",
    "plt.title('Top 20 IP addresses of the hosts that initiated the connection')\n",
    "plt.xlabel('Host IP')\n",
    "plt.ylabel('Frequency')\n",
    "\n",
    "# display the plot\n",
    "plt.show()\n"
   ]
  },
  {
   "cell_type": "code",
   "execution_count": 33,
   "id": "493530f6-a529-4d3e-9719-8ccea4906986",
   "metadata": {
    "tags": []
   },
   "outputs": [
    {
     "data": {
      "image/png": "[encoded data removed]",
      "text/plain": [
       "<Figure size 640x480 with 1 Axes>"
      ]
     },
     "metadata": {},
     "output_type": "display_data"
    }
   ],
   "source": [
    "# Group by the data by id_resp_h and count, then sort count\n",
    "id_resp_h_counts = df_bro.select('id_resp_h').groupBy('id_resp_h').count().orderBy(desc('count'))\n",
    "\n",
    "# select the top 20 values\n",
    "top_20_id_resp_h = id_resp_h_counts.limit(20).toPandas()\n",
    "\n",
    "# plot a histogram of the top 20 id_resp_h values\n",
    "top_20_id_resp_h.plot(kind='bar', x='id_resp_h', y='count')\n",
    "\n",
    "# set the title and axis labels\n",
    "plt.title('Top 20 IP addresses of the hosts that received the connection')\n",
    "plt.xlabel('Host IP')\n",
    "plt.ylabel('Frequency')\n",
    "\n",
    "# display the plot\n",
    "plt.show()\n",
    "\n"
   ]
  },
  {
   "cell_type": "markdown",
   "id": "1364ebc8-dbda-47bc-be7c-2ddad5c5258f",
   "metadata": {
    "tags": []
   },
   "source": [
    "#### Link Data (ecarbro)"
   ]
  },
  {
   "cell_type": "code",
   "execution_count": 19,
   "id": "8e4eb8c8-f6f0-43d9-b019-13ce59220f5f",
   "metadata": {
    "tags": []
   },
   "outputs": [
    {
     "name": "stderr",
     "output_type": "stream",
     "text": [
      "                                                                                \r"
     ]
    },
    {
     "name": "stdout",
     "output_type": "stream",
     "text": [
      "Total number of rows: 175840\n"
     ]
    },
    {
     "name": "stderr",
     "output_type": "stream",
     "text": [
      "/home/ec2-user/anaconda3/envs/python3/lib/python3.10/site-packages/pyspark/sql/pandas/conversion.py:248: FutureWarning: Passing unit-less datetime64 dtype to .astype is deprecated and will raise in a future version. Pass 'datetime64[ns]' instead\n",
      "  series = series.astype(t, copy=False)\n"
     ]
    },
    {
     "data": {
      "text/html": [
       "<div>\n",
       "<style scoped>\n",
       "    .dataframe tbody tr th:only-of-type {\n",
       "        vertical-align: middle;\n",
       "    }\n",
       "\n",
       "    .dataframe tbody tr th {\n",
       "        vertical-align: top;\n",
       "    }\n",
       "\n",
       "    .dataframe thead th {\n",
       "        text-align: right;\n",
       "    }\n",
       "</style>\n",
       "<table border=\"1\" class=\"dataframe\">\n",
       "  <thead>\n",
       "    <tr style=\"text-align: right;\">\n",
       "      <th></th>\n",
       "      <th>action</th>\n",
       "      <th>actorID</th>\n",
       "      <th>hostname</th>\n",
       "      <th>id</th>\n",
       "      <th>object</th>\n",
       "      <th>objectID</th>\n",
       "      <th>pid</th>\n",
       "      <th>ppid</th>\n",
       "      <th>principal</th>\n",
       "      <th>tid</th>\n",
       "      <th>...</th>\n",
       "      <th>dest_ip</th>\n",
       "      <th>dest_port</th>\n",
       "      <th>direction</th>\n",
       "      <th>image_path</th>\n",
       "      <th>l4protocol</th>\n",
       "      <th>src_ip</th>\n",
       "      <th>src_port</th>\n",
       "      <th>event_minute</th>\n",
       "      <th>event_day</th>\n",
       "      <th>event_hour</th>\n",
       "    </tr>\n",
       "  </thead>\n",
       "  <tbody>\n",
       "    <tr>\n",
       "      <th>0</th>\n",
       "      <td>INFO</td>\n",
       "      <td>c446795c-b73f-458a-9175-dfdfe19f7266</td>\n",
       "      <td>SysClient0003.systemia.com</td>\n",
       "      <td>94734cc3-2451-47b2-887a-3194affc2384</td>\n",
       "      <td>FLOW</td>\n",
       "      <td>18124da7-1115-4f2c-9628-cc91927fd8dd</td>\n",
       "      <td>3708</td>\n",
       "      <td>1760</td>\n",
       "      <td>SYSTEMIACOM\\wcaldwell</td>\n",
       "      <td>-1</td>\n",
       "      <td>...</td>\n",
       "      <td>None</td>\n",
       "      <td>NaN</td>\n",
       "      <td>None</td>\n",
       "      <td>None</td>\n",
       "      <td>None</td>\n",
       "      <td>None</td>\n",
       "      <td>NaN</td>\n",
       "      <td>0</td>\n",
       "      <td>23</td>\n",
       "      <td>18</td>\n",
       "    </tr>\n",
       "    <tr>\n",
       "      <th>1</th>\n",
       "      <td>INFO</td>\n",
       "      <td>c446795c-b73f-458a-9175-dfdfe19f7266</td>\n",
       "      <td>SysClient0003.systemia.com</td>\n",
       "      <td>3b96029d-81dd-4dbd-b218-5960dea386d2</td>\n",
       "      <td>FLOW</td>\n",
       "      <td>8fd457f9-3ff4-439e-8a3c-cff43a4c81ed</td>\n",
       "      <td>3708</td>\n",
       "      <td>1760</td>\n",
       "      <td>SYSTEMIACOM\\wcaldwell</td>\n",
       "      <td>-1</td>\n",
       "      <td>...</td>\n",
       "      <td>None</td>\n",
       "      <td>NaN</td>\n",
       "      <td>None</td>\n",
       "      <td>None</td>\n",
       "      <td>None</td>\n",
       "      <td>None</td>\n",
       "      <td>NaN</td>\n",
       "      <td>0</td>\n",
       "      <td>23</td>\n",
       "      <td>18</td>\n",
       "    </tr>\n",
       "    <tr>\n",
       "      <th>2</th>\n",
       "      <td>INFO</td>\n",
       "      <td>c446795c-b73f-458a-9175-dfdfe19f7266</td>\n",
       "      <td>SysClient0003.systemia.com</td>\n",
       "      <td>f1992ec6-05b5-4d53-8f52-4a83d31aacab</td>\n",
       "      <td>FLOW</td>\n",
       "      <td>81c5860c-030b-441c-84ab-e4cd113129b5</td>\n",
       "      <td>3708</td>\n",
       "      <td>1760</td>\n",
       "      <td>SYSTEMIACOM\\wcaldwell</td>\n",
       "      <td>-1</td>\n",
       "      <td>...</td>\n",
       "      <td>None</td>\n",
       "      <td>NaN</td>\n",
       "      <td>None</td>\n",
       "      <td>None</td>\n",
       "      <td>None</td>\n",
       "      <td>None</td>\n",
       "      <td>NaN</td>\n",
       "      <td>0</td>\n",
       "      <td>23</td>\n",
       "      <td>18</td>\n",
       "    </tr>\n",
       "    <tr>\n",
       "      <th>3</th>\n",
       "      <td>INFO</td>\n",
       "      <td>c446795c-b73f-458a-9175-dfdfe19f7266</td>\n",
       "      <td>SysClient0003.systemia.com</td>\n",
       "      <td>290fbc4d-87ed-4fdc-817c-6f29b6ff1f6a</td>\n",
       "      <td>FLOW</td>\n",
       "      <td>0a799da7-37b3-4f6a-9acb-1ca908464a68</td>\n",
       "      <td>3708</td>\n",
       "      <td>1760</td>\n",
       "      <td>SYSTEMIACOM\\wcaldwell</td>\n",
       "      <td>-1</td>\n",
       "      <td>...</td>\n",
       "      <td>None</td>\n",
       "      <td>NaN</td>\n",
       "      <td>None</td>\n",
       "      <td>None</td>\n",
       "      <td>None</td>\n",
       "      <td>None</td>\n",
       "      <td>NaN</td>\n",
       "      <td>0</td>\n",
       "      <td>23</td>\n",
       "      <td>18</td>\n",
       "    </tr>\n",
       "    <tr>\n",
       "      <th>4</th>\n",
       "      <td>INFO</td>\n",
       "      <td>c446795c-b73f-458a-9175-dfdfe19f7266</td>\n",
       "      <td>SysClient0003.systemia.com</td>\n",
       "      <td>51619eb9-3932-4196-b3e6-945b7aa4001b</td>\n",
       "      <td>FLOW</td>\n",
       "      <td>18434bf4-f39d-4fcd-9cc4-1b8bd436dd3a</td>\n",
       "      <td>3708</td>\n",
       "      <td>1760</td>\n",
       "      <td>SYSTEMIACOM\\wcaldwell</td>\n",
       "      <td>-1</td>\n",
       "      <td>...</td>\n",
       "      <td>None</td>\n",
       "      <td>NaN</td>\n",
       "      <td>None</td>\n",
       "      <td>None</td>\n",
       "      <td>None</td>\n",
       "      <td>None</td>\n",
       "      <td>NaN</td>\n",
       "      <td>0</td>\n",
       "      <td>23</td>\n",
       "      <td>18</td>\n",
       "    </tr>\n",
       "  </tbody>\n",
       "</table>\n",
       "<p>5 rows × 23 columns</p>\n",
       "</div>"
      ],
      "text/plain": [
       "  action                               actorID                    hostname  \\\n",
       "0   INFO  c446795c-b73f-458a-9175-dfdfe19f7266  SysClient0003.systemia.com   \n",
       "1   INFO  c446795c-b73f-458a-9175-dfdfe19f7266  SysClient0003.systemia.com   \n",
       "2   INFO  c446795c-b73f-458a-9175-dfdfe19f7266  SysClient0003.systemia.com   \n",
       "3   INFO  c446795c-b73f-458a-9175-dfdfe19f7266  SysClient0003.systemia.com   \n",
       "4   INFO  c446795c-b73f-458a-9175-dfdfe19f7266  SysClient0003.systemia.com   \n",
       "\n",
       "                                     id object  \\\n",
       "0  94734cc3-2451-47b2-887a-3194affc2384   FLOW   \n",
       "1  3b96029d-81dd-4dbd-b218-5960dea386d2   FLOW   \n",
       "2  f1992ec6-05b5-4d53-8f52-4a83d31aacab   FLOW   \n",
       "3  290fbc4d-87ed-4fdc-817c-6f29b6ff1f6a   FLOW   \n",
       "4  51619eb9-3932-4196-b3e6-945b7aa4001b   FLOW   \n",
       "\n",
       "                               objectID   pid  ppid              principal  \\\n",
       "0  18124da7-1115-4f2c-9628-cc91927fd8dd  3708  1760  SYSTEMIACOM\\wcaldwell   \n",
       "1  8fd457f9-3ff4-439e-8a3c-cff43a4c81ed  3708  1760  SYSTEMIACOM\\wcaldwell   \n",
       "2  81c5860c-030b-441c-84ab-e4cd113129b5  3708  1760  SYSTEMIACOM\\wcaldwell   \n",
       "3  0a799da7-37b3-4f6a-9acb-1ca908464a68  3708  1760  SYSTEMIACOM\\wcaldwell   \n",
       "4  18434bf4-f39d-4fcd-9cc4-1b8bd436dd3a  3708  1760  SYSTEMIACOM\\wcaldwell   \n",
       "\n",
       "   tid  ... dest_ip dest_port direction image_path  l4protocol src_ip  \\\n",
       "0   -1  ...    None       NaN      None       None        None   None   \n",
       "1   -1  ...    None       NaN      None       None        None   None   \n",
       "2   -1  ...    None       NaN      None       None        None   None   \n",
       "3   -1  ...    None       NaN      None       None        None   None   \n",
       "4   -1  ...    None       NaN      None       None        None   None   \n",
       "\n",
       "  src_port event_minute event_day  event_hour  \n",
       "0      NaN            0        23          18  \n",
       "1      NaN            0        23          18  \n",
       "2      NaN            0        23          18  \n",
       "3      NaN            0        23          18  \n",
       "4      NaN            0        23          18  \n",
       "\n",
       "[5 rows x 23 columns]"
      ]
     },
     "execution_count": 19,
     "metadata": {},
     "output_type": "execute_result"
    }
   ],
   "source": [
    "# Count the number of rows in the DataFrame\n",
    "print('Total number of rows:', df_ecarbro.count())\n",
    "\n",
    "# Show the first 5 rows of the DataFrame\n",
    "df_ecarbro.limit(5).toPandas()"
   ]
  },
  {
   "cell_type": "code",
   "execution_count": 20,
   "id": "d928455c-7220-4a2d-9cc5-e5dcc3322cfa",
   "metadata": {
    "tags": []
   },
   "outputs": [
    {
     "name": "stderr",
     "output_type": "stream",
     "text": [
      "[Stage 34:===========================================>              (3 + 1) / 4]\r"
     ]
    },
    {
     "name": "stdout",
     "output_type": "stream",
     "text": [
      "+------+------+------+\n",
      "|object|action| count|\n",
      "+------+------+------+\n",
      "|  FLOW|  INFO|175840|\n",
      "+------+------+------+\n",
      "\n"
     ]
    },
    {
     "name": "stderr",
     "output_type": "stream",
     "text": [
      "                                                                                \r"
     ]
    }
   ],
   "source": [
    "# Types of object/action pairs and their count\n",
    "\n",
    "df_ecarbro.groupBy(\"object\",\"action\").count().show()"
   ]
  },
  {
   "cell_type": "markdown",
   "id": "5962ae70-01ac-4e80-8de9-fb59e767836a",
   "metadata": {
    "tags": []
   },
   "source": [
    "#### Endpoint Data (ecarbro)"
   ]
  },
  {
   "cell_type": "code",
   "execution_count": 38,
   "id": "89e4bac9-d381-4c08-bbd1-1c8d14deb12c",
   "metadata": {
    "tags": []
   },
   "outputs": [
    {
     "name": "stderr",
     "output_type": "stream",
     "text": [
      "                                                                                \r"
     ]
    },
    {
     "name": "stdout",
     "output_type": "stream",
     "text": [
      "Total number of rows: 1000000\n"
     ]
    },
    {
     "data": {
      "text/html": [
       "<div>\n",
       "<style scoped>\n",
       "    .dataframe tbody tr th:only-of-type {\n",
       "        vertical-align: middle;\n",
       "    }\n",
       "\n",
       "    .dataframe tbody tr th {\n",
       "        vertical-align: top;\n",
       "    }\n",
       "\n",
       "    .dataframe thead th {\n",
       "        text-align: right;\n",
       "    }\n",
       "</style>\n",
       "<table border=\"1\" class=\"dataframe\">\n",
       "  <thead>\n",
       "    <tr style=\"text-align: right;\">\n",
       "      <th></th>\n",
       "      <th>action</th>\n",
       "      <th>actorID</th>\n",
       "      <th>hostname</th>\n",
       "      <th>id</th>\n",
       "      <th>object</th>\n",
       "      <th>objectID</th>\n",
       "      <th>pid</th>\n",
       "      <th>ppid</th>\n",
       "      <th>principal</th>\n",
       "      <th>tid</th>\n",
       "      <th>timestamp</th>\n",
       "      <th>acuity_level</th>\n",
       "      <th>base_address</th>\n",
       "      <th>command_line</th>\n",
       "      <th>context_info</th>\n",
       "      <th>data</th>\n",
       "      <th>dest_port</th>\n",
       "      <th>direction</th>\n",
       "      <th>end_time</th>\n",
       "      <th>file_path</th>\n",
       "      <th>image_path</th>\n",
       "      <th>info_class</th>\n",
       "      <th>key</th>\n",
       "      <th>l4protocol</th>\n",
       "      <th>logon_id</th>\n",
       "      <th>module_path</th>\n",
       "      <th>new_path</th>\n",
       "      <th>parent_image_path</th>\n",
       "      <th>path</th>\n",
       "      <th>payload</th>\n",
       "      <th>privileges</th>\n",
       "      <th>requesting_domain</th>\n",
       "      <th>requesting_logon_id</th>\n",
       "      <th>requesting_user</th>\n",
       "      <th>sid</th>\n",
       "      <th>size</th>\n",
       "      <th>src_ip</th>\n",
       "      <th>src_pid</th>\n",
       "      <th>src_port</th>\n",
       "      <th>src_tid</th>\n",
       "      <th>stack_base</th>\n",
       "      <th>stack_limit</th>\n",
       "      <th>start_address</th>\n",
       "      <th>start_time</th>\n",
       "      <th>subprocess_tag</th>\n",
       "      <th>task_name</th>\n",
       "      <th>task_pid</th>\n",
       "      <th>task_process_uuid</th>\n",
       "      <th>tgt_pid</th>\n",
       "      <th>tgt_pid_uuid</th>\n",
       "      <th>tgt_tid</th>\n",
       "      <th>type</th>\n",
       "      <th>user</th>\n",
       "      <th>user_name</th>\n",
       "      <th>user_stack_base</th>\n",
       "      <th>user_stack_limit</th>\n",
       "      <th>value</th>\n",
       "      <th>event_day</th>\n",
       "      <th>event_hour</th>\n",
       "      <th>event_minute</th>\n",
       "    </tr>\n",
       "  </thead>\n",
       "  <tbody>\n",
       "    <tr>\n",
       "      <th>0</th>\n",
       "      <td>START</td>\n",
       "      <td>43c9a912-533a-475c-b3c4-2bfb93892dfd</td>\n",
       "      <td>SysClient0024.systemia.com</td>\n",
       "      <td>66f12aed-8a6f-48b9-a244-3ff5b1da593f</td>\n",
       "      <td>FLOW</td>\n",
       "      <td>7992ee1d-96c2-4afc-8ff9-3a19c7c4e760</td>\n",
       "      <td>916</td>\n",
       "      <td>-1</td>\n",
       "      <td></td>\n",
       "      <td>NaN</td>\n",
       "      <td>NaT</td>\n",
       "      <td>None</td>\n",
       "      <td>None</td>\n",
       "      <td>None</td>\n",
       "      <td>None</td>\n",
       "      <td>None</td>\n",
       "      <td>NaN</td>\n",
       "      <td>None</td>\n",
       "      <td>NaT</td>\n",
       "      <td>None</td>\n",
       "      <td>None</td>\n",
       "      <td>None</td>\n",
       "      <td>None</td>\n",
       "      <td>None</td>\n",
       "      <td>None</td>\n",
       "      <td>None</td>\n",
       "      <td>None</td>\n",
       "      <td>None</td>\n",
       "      <td>None</td>\n",
       "      <td>None</td>\n",
       "      <td>None</td>\n",
       "      <td>None</td>\n",
       "      <td>None</td>\n",
       "      <td>None</td>\n",
       "      <td>None</td>\n",
       "      <td>None</td>\n",
       "      <td>None</td>\n",
       "      <td>NaN</td>\n",
       "      <td>NaN</td>\n",
       "      <td>None</td>\n",
       "      <td>None</td>\n",
       "      <td>None</td>\n",
       "      <td>None</td>\n",
       "      <td>NaT</td>\n",
       "      <td>None</td>\n",
       "      <td>None</td>\n",
       "      <td>NaN</td>\n",
       "      <td>None</td>\n",
       "      <td>NaN</td>\n",
       "      <td>None</td>\n",
       "      <td>NaN</td>\n",
       "      <td>None</td>\n",
       "      <td>None</td>\n",
       "      <td>None</td>\n",
       "      <td>None</td>\n",
       "      <td>None</td>\n",
       "      <td>None</td>\n",
       "      <td>NaN</td>\n",
       "      <td>NaN</td>\n",
       "      <td>NaN</td>\n",
       "    </tr>\n",
       "    <tr>\n",
       "      <th>1</th>\n",
       "      <td>START</td>\n",
       "      <td>c9d2265d-1868-4a7f-9767-73b6724b4b77</td>\n",
       "      <td>SysClient0009.systemia.com</td>\n",
       "      <td>89d45da5-12e5-44f6-919f-454839185072</td>\n",
       "      <td>FLOW</td>\n",
       "      <td>3fea8024-1873-4b74-9521-4fe0b4be9afa</td>\n",
       "      <td>912</td>\n",
       "      <td>-1</td>\n",
       "      <td></td>\n",
       "      <td>NaN</td>\n",
       "      <td>NaT</td>\n",
       "      <td>None</td>\n",
       "      <td>None</td>\n",
       "      <td>None</td>\n",
       "      <td>None</td>\n",
       "      <td>None</td>\n",
       "      <td>NaN</td>\n",
       "      <td>None</td>\n",
       "      <td>NaT</td>\n",
       "      <td>None</td>\n",
       "      <td>None</td>\n",
       "      <td>None</td>\n",
       "      <td>None</td>\n",
       "      <td>None</td>\n",
       "      <td>None</td>\n",
       "      <td>None</td>\n",
       "      <td>None</td>\n",
       "      <td>None</td>\n",
       "      <td>None</td>\n",
       "      <td>None</td>\n",
       "      <td>None</td>\n",
       "      <td>None</td>\n",
       "      <td>None</td>\n",
       "      <td>None</td>\n",
       "      <td>None</td>\n",
       "      <td>None</td>\n",
       "      <td>None</td>\n",
       "      <td>NaN</td>\n",
       "      <td>NaN</td>\n",
       "      <td>None</td>\n",
       "      <td>None</td>\n",
       "      <td>None</td>\n",
       "      <td>None</td>\n",
       "      <td>NaT</td>\n",
       "      <td>None</td>\n",
       "      <td>None</td>\n",
       "      <td>NaN</td>\n",
       "      <td>None</td>\n",
       "      <td>NaN</td>\n",
       "      <td>None</td>\n",
       "      <td>NaN</td>\n",
       "      <td>None</td>\n",
       "      <td>None</td>\n",
       "      <td>None</td>\n",
       "      <td>None</td>\n",
       "      <td>None</td>\n",
       "      <td>None</td>\n",
       "      <td>NaN</td>\n",
       "      <td>NaN</td>\n",
       "      <td>NaN</td>\n",
       "    </tr>\n",
       "    <tr>\n",
       "      <th>2</th>\n",
       "      <td>START</td>\n",
       "      <td>43c9a912-533a-475c-b3c4-2bfb93892dfd</td>\n",
       "      <td>SysClient0024.systemia.com</td>\n",
       "      <td>134be215-040e-4afc-8f90-8d6ec5abee29</td>\n",
       "      <td>FLOW</td>\n",
       "      <td>ecb96be3-d831-4a25-ab13-05e6f0b9763a</td>\n",
       "      <td>916</td>\n",
       "      <td>-1</td>\n",
       "      <td></td>\n",
       "      <td>NaN</td>\n",
       "      <td>NaT</td>\n",
       "      <td>None</td>\n",
       "      <td>None</td>\n",
       "      <td>None</td>\n",
       "      <td>None</td>\n",
       "      <td>None</td>\n",
       "      <td>NaN</td>\n",
       "      <td>None</td>\n",
       "      <td>NaT</td>\n",
       "      <td>None</td>\n",
       "      <td>None</td>\n",
       "      <td>None</td>\n",
       "      <td>None</td>\n",
       "      <td>None</td>\n",
       "      <td>None</td>\n",
       "      <td>None</td>\n",
       "      <td>None</td>\n",
       "      <td>None</td>\n",
       "      <td>None</td>\n",
       "      <td>None</td>\n",
       "      <td>None</td>\n",
       "      <td>None</td>\n",
       "      <td>None</td>\n",
       "      <td>None</td>\n",
       "      <td>None</td>\n",
       "      <td>None</td>\n",
       "      <td>None</td>\n",
       "      <td>NaN</td>\n",
       "      <td>NaN</td>\n",
       "      <td>None</td>\n",
       "      <td>None</td>\n",
       "      <td>None</td>\n",
       "      <td>None</td>\n",
       "      <td>NaT</td>\n",
       "      <td>None</td>\n",
       "      <td>None</td>\n",
       "      <td>NaN</td>\n",
       "      <td>None</td>\n",
       "      <td>NaN</td>\n",
       "      <td>None</td>\n",
       "      <td>NaN</td>\n",
       "      <td>None</td>\n",
       "      <td>None</td>\n",
       "      <td>None</td>\n",
       "      <td>None</td>\n",
       "      <td>None</td>\n",
       "      <td>None</td>\n",
       "      <td>NaN</td>\n",
       "      <td>NaN</td>\n",
       "      <td>NaN</td>\n",
       "    </tr>\n",
       "    <tr>\n",
       "      <th>3</th>\n",
       "      <td>START</td>\n",
       "      <td>c9d2265d-1868-4a7f-9767-73b6724b4b77</td>\n",
       "      <td>SysClient0009.systemia.com</td>\n",
       "      <td>fa37801b-659b-4d4a-9edb-cd889db96343</td>\n",
       "      <td>FLOW</td>\n",
       "      <td>5dae789f-6b8b-4beb-ab74-9226cc6a1ef0</td>\n",
       "      <td>912</td>\n",
       "      <td>-1</td>\n",
       "      <td></td>\n",
       "      <td>NaN</td>\n",
       "      <td>NaT</td>\n",
       "      <td>None</td>\n",
       "      <td>None</td>\n",
       "      <td>None</td>\n",
       "      <td>None</td>\n",
       "      <td>None</td>\n",
       "      <td>NaN</td>\n",
       "      <td>None</td>\n",
       "      <td>NaT</td>\n",
       "      <td>None</td>\n",
       "      <td>None</td>\n",
       "      <td>None</td>\n",
       "      <td>None</td>\n",
       "      <td>None</td>\n",
       "      <td>None</td>\n",
       "      <td>None</td>\n",
       "      <td>None</td>\n",
       "      <td>None</td>\n",
       "      <td>None</td>\n",
       "      <td>None</td>\n",
       "      <td>None</td>\n",
       "      <td>None</td>\n",
       "      <td>None</td>\n",
       "      <td>None</td>\n",
       "      <td>None</td>\n",
       "      <td>None</td>\n",
       "      <td>None</td>\n",
       "      <td>NaN</td>\n",
       "      <td>NaN</td>\n",
       "      <td>None</td>\n",
       "      <td>None</td>\n",
       "      <td>None</td>\n",
       "      <td>None</td>\n",
       "      <td>NaT</td>\n",
       "      <td>None</td>\n",
       "      <td>None</td>\n",
       "      <td>NaN</td>\n",
       "      <td>None</td>\n",
       "      <td>NaN</td>\n",
       "      <td>None</td>\n",
       "      <td>NaN</td>\n",
       "      <td>None</td>\n",
       "      <td>None</td>\n",
       "      <td>None</td>\n",
       "      <td>None</td>\n",
       "      <td>None</td>\n",
       "      <td>None</td>\n",
       "      <td>NaN</td>\n",
       "      <td>NaN</td>\n",
       "      <td>NaN</td>\n",
       "    </tr>\n",
       "    <tr>\n",
       "      <th>4</th>\n",
       "      <td>START</td>\n",
       "      <td>43c9a912-533a-475c-b3c4-2bfb93892dfd</td>\n",
       "      <td>SysClient0024.systemia.com</td>\n",
       "      <td>c6e12392-1d80-4c29-aa31-654d409be012</td>\n",
       "      <td>FLOW</td>\n",
       "      <td>4c653859-dce3-4879-9961-28f588eb262e</td>\n",
       "      <td>916</td>\n",
       "      <td>-1</td>\n",
       "      <td></td>\n",
       "      <td>NaN</td>\n",
       "      <td>NaT</td>\n",
       "      <td>None</td>\n",
       "      <td>None</td>\n",
       "      <td>None</td>\n",
       "      <td>None</td>\n",
       "      <td>None</td>\n",
       "      <td>NaN</td>\n",
       "      <td>None</td>\n",
       "      <td>NaT</td>\n",
       "      <td>None</td>\n",
       "      <td>None</td>\n",
       "      <td>None</td>\n",
       "      <td>None</td>\n",
       "      <td>None</td>\n",
       "      <td>None</td>\n",
       "      <td>None</td>\n",
       "      <td>None</td>\n",
       "      <td>None</td>\n",
       "      <td>None</td>\n",
       "      <td>None</td>\n",
       "      <td>None</td>\n",
       "      <td>None</td>\n",
       "      <td>None</td>\n",
       "      <td>None</td>\n",
       "      <td>None</td>\n",
       "      <td>None</td>\n",
       "      <td>None</td>\n",
       "      <td>NaN</td>\n",
       "      <td>NaN</td>\n",
       "      <td>None</td>\n",
       "      <td>None</td>\n",
       "      <td>None</td>\n",
       "      <td>None</td>\n",
       "      <td>NaT</td>\n",
       "      <td>None</td>\n",
       "      <td>None</td>\n",
       "      <td>NaN</td>\n",
       "      <td>None</td>\n",
       "      <td>NaN</td>\n",
       "      <td>None</td>\n",
       "      <td>NaN</td>\n",
       "      <td>None</td>\n",
       "      <td>None</td>\n",
       "      <td>None</td>\n",
       "      <td>None</td>\n",
       "      <td>None</td>\n",
       "      <td>None</td>\n",
       "      <td>NaN</td>\n",
       "      <td>NaN</td>\n",
       "      <td>NaN</td>\n",
       "    </tr>\n",
       "  </tbody>\n",
       "</table>\n",
       "</div>"
      ],
      "text/plain": [
       "  action                               actorID                    hostname  \\\n",
       "0  START  43c9a912-533a-475c-b3c4-2bfb93892dfd  SysClient0024.systemia.com   \n",
       "1  START  c9d2265d-1868-4a7f-9767-73b6724b4b77  SysClient0009.systemia.com   \n",
       "2  START  43c9a912-533a-475c-b3c4-2bfb93892dfd  SysClient0024.systemia.com   \n",
       "3  START  c9d2265d-1868-4a7f-9767-73b6724b4b77  SysClient0009.systemia.com   \n",
       "4  START  43c9a912-533a-475c-b3c4-2bfb93892dfd  SysClient0024.systemia.com   \n",
       "\n",
       "                                     id object  \\\n",
       "0  66f12aed-8a6f-48b9-a244-3ff5b1da593f   FLOW   \n",
       "1  89d45da5-12e5-44f6-919f-454839185072   FLOW   \n",
       "2  134be215-040e-4afc-8f90-8d6ec5abee29   FLOW   \n",
       "3  fa37801b-659b-4d4a-9edb-cd889db96343   FLOW   \n",
       "4  c6e12392-1d80-4c29-aa31-654d409be012   FLOW   \n",
       "\n",
       "                               objectID  pid  ppid principal  tid timestamp  \\\n",
       "0  7992ee1d-96c2-4afc-8ff9-3a19c7c4e760  916    -1            NaN       NaT   \n",
       "1  3fea8024-1873-4b74-9521-4fe0b4be9afa  912    -1            NaN       NaT   \n",
       "2  ecb96be3-d831-4a25-ab13-05e6f0b9763a  916    -1            NaN       NaT   \n",
       "3  5dae789f-6b8b-4beb-ab74-9226cc6a1ef0  912    -1            NaN       NaT   \n",
       "4  4c653859-dce3-4879-9961-28f588eb262e  916    -1            NaN       NaT   \n",
       "\n",
       "  acuity_level base_address command_line context_info  data  dest_port  \\\n",
       "0         None         None         None         None  None        NaN   \n",
       "1         None         None         None         None  None        NaN   \n",
       "2         None         None         None         None  None        NaN   \n",
       "3         None         None         None         None  None        NaN   \n",
       "4         None         None         None         None  None        NaN   \n",
       "\n",
       "  direction end_time file_path image_path info_class   key l4protocol  \\\n",
       "0      None      NaT      None       None       None  None       None   \n",
       "1      None      NaT      None       None       None  None       None   \n",
       "2      None      NaT      None       None       None  None       None   \n",
       "3      None      NaT      None       None       None  None       None   \n",
       "4      None      NaT      None       None       None  None       None   \n",
       "\n",
       "  logon_id module_path new_path parent_image_path  path payload privileges  \\\n",
       "0     None        None     None              None  None    None       None   \n",
       "1     None        None     None              None  None    None       None   \n",
       "2     None        None     None              None  None    None       None   \n",
       "3     None        None     None              None  None    None       None   \n",
       "4     None        None     None              None  None    None       None   \n",
       "\n",
       "  requesting_domain requesting_logon_id requesting_user   sid  size src_ip  \\\n",
       "0              None                None            None  None  None   None   \n",
       "1              None                None            None  None  None   None   \n",
       "2              None                None            None  None  None   None   \n",
       "3              None                None            None  None  None   None   \n",
       "4              None                None            None  None  None   None   \n",
       "\n",
       "   src_pid  src_port src_tid stack_base stack_limit start_address start_time  \\\n",
       "0      NaN       NaN    None       None        None          None        NaT   \n",
       "1      NaN       NaN    None       None        None          None        NaT   \n",
       "2      NaN       NaN    None       None        None          None        NaT   \n",
       "3      NaN       NaN    None       None        None          None        NaT   \n",
       "4      NaN       NaN    None       None        None          None        NaT   \n",
       "\n",
       "  subprocess_tag task_name  task_pid task_process_uuid  tgt_pid tgt_pid_uuid  \\\n",
       "0           None      None       NaN              None      NaN         None   \n",
       "1           None      None       NaN              None      NaN         None   \n",
       "2           None      None       NaN              None      NaN         None   \n",
       "3           None      None       NaN              None      NaN         None   \n",
       "4           None      None       NaN              None      NaN         None   \n",
       "\n",
       "   tgt_tid  type  user user_name user_stack_base user_stack_limit value  \\\n",
       "0      NaN  None  None      None            None             None  None   \n",
       "1      NaN  None  None      None            None             None  None   \n",
       "2      NaN  None  None      None            None             None  None   \n",
       "3      NaN  None  None      None            None             None  None   \n",
       "4      NaN  None  None      None            None             None  None   \n",
       "\n",
       "   event_day  event_hour  event_minute  \n",
       "0        NaN         NaN           NaN  \n",
       "1        NaN         NaN           NaN  \n",
       "2        NaN         NaN           NaN  \n",
       "3        NaN         NaN           NaN  \n",
       "4        NaN         NaN           NaN  "
      ]
     },
     "execution_count": 38,
     "metadata": {},
     "output_type": "execute_result"
    }
   ],
   "source": [
    "# Count the number of rows in the DataFrame\n",
    "pd.options.display.max_columns = None\n",
    "print('Total number of rows:', df_ecar.count())\n",
    "\n",
    "# Show the first 5 rows of the DataFrame\n",
    "df_ecar.limit(5).toPandas()"
   ]
  },
  {
   "cell_type": "code",
   "execution_count": 13,
   "id": "fe8a088b-8e1e-4b3d-8dff-0b4ad5457a66",
   "metadata": {
    "tags": []
   },
   "outputs": [
    {
     "name": "stdout",
     "output_type": "stream",
     "text": [
      "+------+------+-------+\n",
      "|object|action|  count|\n",
      "+------+------+-------+\n",
      "|  FLOW|  INFO|1000000|\n",
      "+------+------+-------+\n",
      "\n"
     ]
    }
   ],
   "source": [
    "# Types of object/action pairs and their count\n",
    "\n",
    "df_ecar.groupBy(\"object\", \"action\").count().orderBy(desc(\"count\")).show()"
   ]
  },
  {
   "cell_type": "code",
   "execution_count": 41,
   "id": "75244828-40d7-4e64-8703-6101cdd6c831",
   "metadata": {
    "tags": []
   },
   "outputs": [
    {
     "name": "stderr",
     "output_type": "stream",
     "text": [
      "                                                                                \r"
     ]
    },
    {
     "data": {
      "image/png": "[encoded data removed]",
      "text/plain": [
       "<Figure size 640x480 with 1 Axes>"
      ]
     },
     "metadata": {},
     "output_type": "display_data"
    }
   ],
   "source": [
    "# Group and aggregate data\n",
    "df_grouped = df_ecar.groupBy(\"object\").agg(F.count(\"*\").alias(\"count\"))\n",
    "\n",
    "# Calculate percentage of total count\n",
    "total_count = df_grouped.agg(F.sum(\"count\")).collect()[0][0]\n",
    "df_grouped = df_grouped.withColumn(\"percentage\", F.round((F.col(\"count\")/total_count)*100, 2))\n",
    "\n",
    "# Order by count\n",
    "df_grouped = df_grouped.orderBy(desc(\"count\"))\n",
    "\n",
    "# Convert PySpark DataFrame to Pandas DataFrame\n",
    "df_pd = df_grouped.toPandas()\n",
    "\n",
    "# Plot bar chart\n",
    "df_pd.plot(x='object', y='percentage', kind='bar')\n",
    "plt.xlabel('Object')\n",
    "plt.ylabel('Percentage of Total Count')\n",
    "plt.title('Percentage of Objects')\n",
    "plt.show()\n"
   ]
  },
  {
   "cell_type": "code",
   "execution_count": 13,
   "id": "0f021ccf-417b-4410-ba56-60b283100a43",
   "metadata": {
    "tags": []
   },
   "outputs": [
    {
     "ename": "ConnectionRefusedError",
     "evalue": "[Errno 111] Connection refused",
     "output_type": "error",
     "traceback": [
      "\u001b[0;31m---------------------------------------------------------------------------\u001b[0m",
      "\u001b[0;31mConnectionRefusedError\u001b[0m                    Traceback (most recent call last)",
      "Cell \u001b[0;32mIn[13], line 2\u001b[0m\n\u001b[1;32m      1\u001b[0m \u001b[38;5;66;03m# Create new column for user/application\u001b[39;00m\n\u001b[0;32m----> 2\u001b[0m df_ecar \u001b[38;5;241m=\u001b[39m df_ecar\u001b[38;5;241m.\u001b[39mwithColumn(\u001b[38;5;124m'\u001b[39m\u001b[38;5;124muser_or_app\u001b[39m\u001b[38;5;124m'\u001b[39m, F\u001b[38;5;241m.\u001b[39mwhen(\u001b[43mF\u001b[49m\u001b[38;5;241;43m.\u001b[39;49m\u001b[43mcol\u001b[49m\u001b[43m(\u001b[49m\u001b[38;5;124;43m'\u001b[39;49m\u001b[38;5;124;43muser\u001b[39;49m\u001b[38;5;124;43m'\u001b[39;49m\u001b[43m)\u001b[49m\u001b[38;5;241m.\u001b[39misNull(), \u001b[38;5;124m'\u001b[39m\u001b[38;5;124mApplication\u001b[39m\u001b[38;5;124m'\u001b[39m)\u001b[38;5;241m.\u001b[39motherwise(\u001b[38;5;124m'\u001b[39m\u001b[38;5;124mUser\u001b[39m\u001b[38;5;124m'\u001b[39m))\n\u001b[1;32m      4\u001b[0m \u001b[38;5;66;03m# Convert PySpark DataFrame to Pandas DataFrame\u001b[39;00m\n\u001b[1;32m      5\u001b[0m pandas_df \u001b[38;5;241m=\u001b[39m df_ecar\u001b[38;5;241m.\u001b[39mgroupBy(\u001b[38;5;124m\"\u001b[39m\u001b[38;5;124muser_or_app\u001b[39m\u001b[38;5;124m\"\u001b[39m)\u001b[38;5;241m.\u001b[39mcount()\u001b[38;5;241m.\u001b[39morderBy(desc(\u001b[38;5;124m\"\u001b[39m\u001b[38;5;124mcount\u001b[39m\u001b[38;5;124m\"\u001b[39m))\u001b[38;5;241m.\u001b[39mtoPandas()\n",
      "File \u001b[0;32m~/anaconda3/envs/python3/lib/python3.10/site-packages/pyspark/sql/functions.py:151\u001b[0m, in \u001b[0;36mcol\u001b[0;34m(col)\u001b[0m\n\u001b[1;32m    140\u001b[0m \u001b[38;5;129m@since\u001b[39m(\u001b[38;5;241m1.3\u001b[39m)\n\u001b[1;32m    141\u001b[0m \u001b[38;5;28;01mdef\u001b[39;00m \u001b[38;5;21mcol\u001b[39m(col: \u001b[38;5;28mstr\u001b[39m) \u001b[38;5;241m-\u001b[39m\u001b[38;5;241m>\u001b[39m Column:\n\u001b[1;32m    142\u001b[0m \u001b[38;5;250m    \u001b[39m\u001b[38;5;124;03m\"\"\"\u001b[39;00m\n\u001b[1;32m    143\u001b[0m \u001b[38;5;124;03m    Returns a :class:`~pyspark.sql.Column` based on the given column name.'\u001b[39;00m\n\u001b[1;32m    144\u001b[0m \u001b[38;5;124;03m    Examples\u001b[39;00m\n\u001b[0;32m   (...)\u001b[0m\n\u001b[1;32m    149\u001b[0m \u001b[38;5;124;03m    Column<'x'>\u001b[39;00m\n\u001b[1;32m    150\u001b[0m \u001b[38;5;124;03m    \"\"\"\u001b[39;00m\n\u001b[0;32m--> 151\u001b[0m     \u001b[38;5;28;01mreturn\u001b[39;00m \u001b[43m_invoke_function\u001b[49m\u001b[43m(\u001b[49m\u001b[38;5;124;43m\"\u001b[39;49m\u001b[38;5;124;43mcol\u001b[39;49m\u001b[38;5;124;43m\"\u001b[39;49m\u001b[43m,\u001b[49m\u001b[43m \u001b[49m\u001b[43mcol\u001b[49m\u001b[43m)\u001b[49m\n",
      "File \u001b[0;32m~/anaconda3/envs/python3/lib/python3.10/site-packages/pyspark/sql/functions.py:84\u001b[0m, in \u001b[0;36m_invoke_function\u001b[0;34m(name, *args)\u001b[0m\n\u001b[1;32m     79\u001b[0m \u001b[38;5;250m\u001b[39m\u001b[38;5;124;03m\"\"\"\u001b[39;00m\n\u001b[1;32m     80\u001b[0m \u001b[38;5;124;03mInvokes JVM function identified by name with args\u001b[39;00m\n\u001b[1;32m     81\u001b[0m \u001b[38;5;124;03mand wraps the result with :class:`~pyspark.sql.Column`.\u001b[39;00m\n\u001b[1;32m     82\u001b[0m \u001b[38;5;124;03m\"\"\"\u001b[39;00m\n\u001b[1;32m     83\u001b[0m \u001b[38;5;28;01massert\u001b[39;00m SparkContext\u001b[38;5;241m.\u001b[39m_active_spark_context \u001b[38;5;129;01mis\u001b[39;00m \u001b[38;5;129;01mnot\u001b[39;00m \u001b[38;5;28;01mNone\u001b[39;00m\n\u001b[0;32m---> 84\u001b[0m jf \u001b[38;5;241m=\u001b[39m \u001b[43m_get_jvm_function\u001b[49m\u001b[43m(\u001b[49m\u001b[43mname\u001b[49m\u001b[43m,\u001b[49m\u001b[43m \u001b[49m\u001b[43mSparkContext\u001b[49m\u001b[38;5;241;43m.\u001b[39;49m\u001b[43m_active_spark_context\u001b[49m\u001b[43m)\u001b[49m\n\u001b[1;32m     85\u001b[0m \u001b[38;5;28;01mreturn\u001b[39;00m Column(jf(\u001b[38;5;241m*\u001b[39margs))\n",
      "File \u001b[0;32m~/anaconda3/envs/python3/lib/python3.10/site-packages/pyspark/sql/functions.py:75\u001b[0m, in \u001b[0;36m_get_jvm_function\u001b[0;34m(name, sc)\u001b[0m\n\u001b[1;32m     70\u001b[0m \u001b[38;5;250m\u001b[39m\u001b[38;5;124;03m\"\"\"\u001b[39;00m\n\u001b[1;32m     71\u001b[0m \u001b[38;5;124;03mRetrieves JVM function identified by name from\u001b[39;00m\n\u001b[1;32m     72\u001b[0m \u001b[38;5;124;03mJava gateway associated with sc.\u001b[39;00m\n\u001b[1;32m     73\u001b[0m \u001b[38;5;124;03m\"\"\"\u001b[39;00m\n\u001b[1;32m     74\u001b[0m \u001b[38;5;28;01massert\u001b[39;00m sc\u001b[38;5;241m.\u001b[39m_jvm \u001b[38;5;129;01mis\u001b[39;00m \u001b[38;5;129;01mnot\u001b[39;00m \u001b[38;5;28;01mNone\u001b[39;00m\n\u001b[0;32m---> 75\u001b[0m \u001b[38;5;28;01mreturn\u001b[39;00m \u001b[38;5;28mgetattr\u001b[39m(\u001b[43msc\u001b[49m\u001b[38;5;241;43m.\u001b[39;49m\u001b[43m_jvm\u001b[49m\u001b[38;5;241;43m.\u001b[39;49m\u001b[43mfunctions\u001b[49m, name)\n",
      "File \u001b[0;32m~/anaconda3/envs/python3/lib/python3.10/site-packages/py4j/java_gateway.py:1709\u001b[0m, in \u001b[0;36mJVMView.__getattr__\u001b[0;34m(self, name)\u001b[0m\n\u001b[1;32m   1706\u001b[0m \u001b[38;5;28;01mif\u001b[39;00m name \u001b[38;5;241m==\u001b[39m UserHelpAutoCompletion\u001b[38;5;241m.\u001b[39mKEY:\n\u001b[1;32m   1707\u001b[0m     \u001b[38;5;28;01mreturn\u001b[39;00m UserHelpAutoCompletion()\n\u001b[0;32m-> 1709\u001b[0m answer \u001b[38;5;241m=\u001b[39m \u001b[38;5;28;43mself\u001b[39;49m\u001b[38;5;241;43m.\u001b[39;49m\u001b[43m_gateway_client\u001b[49m\u001b[38;5;241;43m.\u001b[39;49m\u001b[43msend_command\u001b[49m\u001b[43m(\u001b[49m\n\u001b[1;32m   1710\u001b[0m \u001b[43m    \u001b[49m\u001b[43mproto\u001b[49m\u001b[38;5;241;43m.\u001b[39;49m\u001b[43mREFLECTION_COMMAND_NAME\u001b[49m\u001b[43m \u001b[49m\u001b[38;5;241;43m+\u001b[39;49m\n\u001b[1;32m   1711\u001b[0m \u001b[43m    \u001b[49m\u001b[43mproto\u001b[49m\u001b[38;5;241;43m.\u001b[39;49m\u001b[43mREFL_GET_UNKNOWN_SUB_COMMAND_NAME\u001b[49m\u001b[43m \u001b[49m\u001b[38;5;241;43m+\u001b[39;49m\u001b[43m \u001b[49m\u001b[43mname\u001b[49m\u001b[43m \u001b[49m\u001b[38;5;241;43m+\u001b[39;49m\u001b[43m \u001b[49m\u001b[38;5;124;43m\"\u001b[39;49m\u001b[38;5;130;43;01m\\n\u001b[39;49;00m\u001b[38;5;124;43m\"\u001b[39;49m\u001b[43m \u001b[49m\u001b[38;5;241;43m+\u001b[39;49m\u001b[43m \u001b[49m\u001b[38;5;28;43mself\u001b[39;49m\u001b[38;5;241;43m.\u001b[39;49m\u001b[43m_id\u001b[49m\u001b[43m \u001b[49m\u001b[38;5;241;43m+\u001b[39;49m\n\u001b[1;32m   1712\u001b[0m \u001b[43m    \u001b[49m\u001b[38;5;124;43m\"\u001b[39;49m\u001b[38;5;130;43;01m\\n\u001b[39;49;00m\u001b[38;5;124;43m\"\u001b[39;49m\u001b[43m \u001b[49m\u001b[38;5;241;43m+\u001b[39;49m\u001b[43m \u001b[49m\u001b[43mproto\u001b[49m\u001b[38;5;241;43m.\u001b[39;49m\u001b[43mEND_COMMAND_PART\u001b[49m\u001b[43m)\u001b[49m\n\u001b[1;32m   1713\u001b[0m \u001b[38;5;28;01mif\u001b[39;00m answer \u001b[38;5;241m==\u001b[39m proto\u001b[38;5;241m.\u001b[39mSUCCESS_PACKAGE:\n\u001b[1;32m   1714\u001b[0m     \u001b[38;5;28;01mreturn\u001b[39;00m JavaPackage(name, \u001b[38;5;28mself\u001b[39m\u001b[38;5;241m.\u001b[39m_gateway_client, jvm_id\u001b[38;5;241m=\u001b[39m\u001b[38;5;28mself\u001b[39m\u001b[38;5;241m.\u001b[39m_id)\n",
      "File \u001b[0;32m~/anaconda3/envs/python3/lib/python3.10/site-packages/py4j/java_gateway.py:1036\u001b[0m, in \u001b[0;36mGatewayClient.send_command\u001b[0;34m(self, command, retry, binary)\u001b[0m\n\u001b[1;32m   1015\u001b[0m \u001b[38;5;28;01mdef\u001b[39;00m \u001b[38;5;21msend_command\u001b[39m(\u001b[38;5;28mself\u001b[39m, command, retry\u001b[38;5;241m=\u001b[39m\u001b[38;5;28;01mTrue\u001b[39;00m, binary\u001b[38;5;241m=\u001b[39m\u001b[38;5;28;01mFalse\u001b[39;00m):\n\u001b[1;32m   1016\u001b[0m \u001b[38;5;250m    \u001b[39m\u001b[38;5;124;03m\"\"\"Sends a command to the JVM. This method is not intended to be\u001b[39;00m\n\u001b[1;32m   1017\u001b[0m \u001b[38;5;124;03m       called directly by Py4J users. It is usually called by\u001b[39;00m\n\u001b[1;32m   1018\u001b[0m \u001b[38;5;124;03m       :class:`JavaMember` instances.\u001b[39;00m\n\u001b[0;32m   (...)\u001b[0m\n\u001b[1;32m   1034\u001b[0m \u001b[38;5;124;03m     if `binary` is `True`.\u001b[39;00m\n\u001b[1;32m   1035\u001b[0m \u001b[38;5;124;03m    \"\"\"\u001b[39;00m\n\u001b[0;32m-> 1036\u001b[0m     connection \u001b[38;5;241m=\u001b[39m \u001b[38;5;28;43mself\u001b[39;49m\u001b[38;5;241;43m.\u001b[39;49m\u001b[43m_get_connection\u001b[49m\u001b[43m(\u001b[49m\u001b[43m)\u001b[49m\n\u001b[1;32m   1037\u001b[0m     \u001b[38;5;28;01mtry\u001b[39;00m:\n\u001b[1;32m   1038\u001b[0m         response \u001b[38;5;241m=\u001b[39m connection\u001b[38;5;241m.\u001b[39msend_command(command)\n",
      "File \u001b[0;32m~/anaconda3/envs/python3/lib/python3.10/site-packages/py4j/clientserver.py:284\u001b[0m, in \u001b[0;36mJavaClient._get_connection\u001b[0;34m(self)\u001b[0m\n\u001b[1;32m    281\u001b[0m     \u001b[38;5;28;01mpass\u001b[39;00m\n\u001b[1;32m    283\u001b[0m \u001b[38;5;28;01mif\u001b[39;00m connection \u001b[38;5;129;01mis\u001b[39;00m \u001b[38;5;28;01mNone\u001b[39;00m \u001b[38;5;129;01mor\u001b[39;00m connection\u001b[38;5;241m.\u001b[39msocket \u001b[38;5;129;01mis\u001b[39;00m \u001b[38;5;28;01mNone\u001b[39;00m:\n\u001b[0;32m--> 284\u001b[0m     connection \u001b[38;5;241m=\u001b[39m \u001b[38;5;28;43mself\u001b[39;49m\u001b[38;5;241;43m.\u001b[39;49m\u001b[43m_create_new_connection\u001b[49m\u001b[43m(\u001b[49m\u001b[43m)\u001b[49m\n\u001b[1;32m    285\u001b[0m \u001b[38;5;28;01mreturn\u001b[39;00m connection\n",
      "File \u001b[0;32m~/anaconda3/envs/python3/lib/python3.10/site-packages/py4j/clientserver.py:291\u001b[0m, in \u001b[0;36mJavaClient._create_new_connection\u001b[0;34m(self)\u001b[0m\n\u001b[1;32m    287\u001b[0m \u001b[38;5;28;01mdef\u001b[39;00m \u001b[38;5;21m_create_new_connection\u001b[39m(\u001b[38;5;28mself\u001b[39m):\n\u001b[1;32m    288\u001b[0m     connection \u001b[38;5;241m=\u001b[39m ClientServerConnection(\n\u001b[1;32m    289\u001b[0m         \u001b[38;5;28mself\u001b[39m\u001b[38;5;241m.\u001b[39mjava_parameters, \u001b[38;5;28mself\u001b[39m\u001b[38;5;241m.\u001b[39mpython_parameters,\n\u001b[1;32m    290\u001b[0m         \u001b[38;5;28mself\u001b[39m\u001b[38;5;241m.\u001b[39mgateway_property, \u001b[38;5;28mself\u001b[39m)\n\u001b[0;32m--> 291\u001b[0m     \u001b[43mconnection\u001b[49m\u001b[38;5;241;43m.\u001b[39;49m\u001b[43mconnect_to_java_server\u001b[49m\u001b[43m(\u001b[49m\u001b[43m)\u001b[49m\n\u001b[1;32m    292\u001b[0m     \u001b[38;5;28mself\u001b[39m\u001b[38;5;241m.\u001b[39mset_thread_connection(connection)\n\u001b[1;32m    293\u001b[0m     \u001b[38;5;28;01mreturn\u001b[39;00m connection\n",
      "File \u001b[0;32m~/anaconda3/envs/python3/lib/python3.10/site-packages/py4j/clientserver.py:438\u001b[0m, in \u001b[0;36mClientServerConnection.connect_to_java_server\u001b[0;34m(self)\u001b[0m\n\u001b[1;32m    435\u001b[0m \u001b[38;5;28;01mif\u001b[39;00m \u001b[38;5;28mself\u001b[39m\u001b[38;5;241m.\u001b[39mssl_context:\n\u001b[1;32m    436\u001b[0m     \u001b[38;5;28mself\u001b[39m\u001b[38;5;241m.\u001b[39msocket \u001b[38;5;241m=\u001b[39m \u001b[38;5;28mself\u001b[39m\u001b[38;5;241m.\u001b[39mssl_context\u001b[38;5;241m.\u001b[39mwrap_socket(\n\u001b[1;32m    437\u001b[0m         \u001b[38;5;28mself\u001b[39m\u001b[38;5;241m.\u001b[39msocket, server_hostname\u001b[38;5;241m=\u001b[39m\u001b[38;5;28mself\u001b[39m\u001b[38;5;241m.\u001b[39mjava_address)\n\u001b[0;32m--> 438\u001b[0m \u001b[38;5;28;43mself\u001b[39;49m\u001b[38;5;241;43m.\u001b[39;49m\u001b[43msocket\u001b[49m\u001b[38;5;241;43m.\u001b[39;49m\u001b[43mconnect\u001b[49m\u001b[43m(\u001b[49m\u001b[43m(\u001b[49m\u001b[38;5;28;43mself\u001b[39;49m\u001b[38;5;241;43m.\u001b[39;49m\u001b[43mjava_address\u001b[49m\u001b[43m,\u001b[49m\u001b[43m \u001b[49m\u001b[38;5;28;43mself\u001b[39;49m\u001b[38;5;241;43m.\u001b[39;49m\u001b[43mjava_port\u001b[49m\u001b[43m)\u001b[49m\u001b[43m)\u001b[49m\n\u001b[1;32m    439\u001b[0m \u001b[38;5;28mself\u001b[39m\u001b[38;5;241m.\u001b[39mstream \u001b[38;5;241m=\u001b[39m \u001b[38;5;28mself\u001b[39m\u001b[38;5;241m.\u001b[39msocket\u001b[38;5;241m.\u001b[39mmakefile(\u001b[38;5;124m\"\u001b[39m\u001b[38;5;124mrb\u001b[39m\u001b[38;5;124m\"\u001b[39m)\n\u001b[1;32m    440\u001b[0m \u001b[38;5;28mself\u001b[39m\u001b[38;5;241m.\u001b[39mis_connected \u001b[38;5;241m=\u001b[39m \u001b[38;5;28;01mTrue\u001b[39;00m\n",
      "\u001b[0;31mConnectionRefusedError\u001b[0m: [Errno 111] Connection refused"
     ]
    }
   ],
   "source": [
    "# Create new column for user/application\n",
    "df_ecar = df_ecar.withColumn('user_or_app', F.when(F.col('user').isNull(), 'Application').otherwise('User'))\n",
    "\n",
    "# Convert PySpark DataFrame to Pandas DataFrame\n",
    "pandas_df = df_ecar.groupBy(\"user_or_app\").count().orderBy(desc(\"count\")).toPandas()\n",
    "\n",
    "# Plot bar chart\n",
    "pandas_df.plot(kind=\"bar\", x=\"user_or_app\", y=\"count\")\n",
    "plt.show()\n",
    "\n"
   ]
  },
  {
   "cell_type": "code",
   "execution_count": 48,
   "id": "7eb78f09-a298-4061-b4ee-45b6694f489c",
   "metadata": {
    "tags": []
   },
   "outputs": [
    {
     "name": "stderr",
     "output_type": "stream",
     "text": [
      "[Stage 19:===========================================>            (10 + 3) / 13]\r"
     ]
    },
    {
     "name": "stdout",
     "output_type": "stream",
     "text": [
      "+------+--------------------+-----+----------+\n",
      "|object|             actorID|count|percentage|\n",
      "+------+--------------------+-----+----------+\n",
      "|  FLOW|dc638440-c1e5-4bf...|44750|      4.48|\n",
      "|  FLOW|5dfd694f-adf6-45d...|31934|      3.19|\n",
      "|  FLOW|45b62774-dc52-4ca...|27036|       2.7|\n",
      "|  FLOW|cc3fed27-1902-426...|20784|      2.08|\n",
      "|  FLOW|7a4d2279-2d4b-431...|20160|      2.02|\n",
      "+------+--------------------+-----+----------+\n",
      "\n"
     ]
    },
    {
     "name": "stderr",
     "output_type": "stream",
     "text": [
      "                                                                                \r"
     ]
    }
   ],
   "source": [
    "# Calculate the object and actorID pairs relative to the total number of events\n",
    "\n",
    "# Compute total count of events\n",
    "total_count = df_ecar.count()\n",
    "\n",
    "# Group by object and actorID, and count the number of events\n",
    "df_grouped = df_ecar.groupBy(\"object\", \"actorID\").agg(F.count(\"*\").alias(\"count\"))\n",
    "\n",
    "# Calculate percentage of total count\n",
    "df_grouped = df_grouped.withColumn(\"percentage\", F.round((F.col(\"count\")/total_count)*100, 2))\n",
    "\n",
    "# Order by count in descending order and display top 5\n",
    "df_top_5 = df_grouped.orderBy(F.desc(\"count\")).limit(5)\n",
    "\n",
    "# Show the result\n",
    "df_top_5.show()"
   ]
  },
  {
   "cell_type": "code",
   "execution_count": 35,
   "id": "b9a96621-5e8b-402f-a58c-b4a05a58f9ea",
   "metadata": {
    "tags": []
   },
   "outputs": [
    {
     "name": "stderr",
     "output_type": "stream",
     "text": [
      "[Stage 12:==================================================>       (7 + 1) / 8]\r"
     ]
    },
    {
     "name": "stdout",
     "output_type": "stream",
     "text": [
      "+------+-------+--------+---+------+--------+---+----+---------+---+---------+------------+------------+------------+------------+----+---------+---------+--------+---------+----------+----------+---+----------+--------+-----------+--------+-----------------+----+-------+----------+-----------------+-------------------+---------------+---+----+------+-------+--------+-------+----------+-----------+-------------+----------+--------------+---------+--------+-----------------+-------+------------+-------+----+----+---------+---------------+----------------+-----+---------+----------+------------+\n",
      "|action|actorID|hostname| id|object|objectID|pid|ppid|principal|tid|timestamp|acuity_level|base_address|command_line|context_info|data|dest_port|direction|end_time|file_path|image_path|info_class|key|l4protocol|logon_id|module_path|new_path|parent_image_path|path|payload|privileges|requesting_domain|requesting_logon_id|requesting_user|sid|size|src_ip|src_pid|src_port|src_tid|stack_base|stack_limit|start_address|start_time|subprocess_tag|task_name|task_pid|task_process_uuid|tgt_pid|tgt_pid_uuid|tgt_tid|type|user|user_name|user_stack_base|user_stack_limit|value|event_day|event_hour|event_minute|\n",
      "+------+-------+--------+---+------+--------+---+----+---------+---+---------+------------+------------+------------+------------+----+---------+---------+--------+---------+----------+----------+---+----------+--------+-----------+--------+-----------------+----+-------+----------+-----------------+-------------------+---------------+---+----+------+-------+--------+-------+----------+-----------+-------------+----------+--------------+---------+--------+-----------------+-------+------------+-------+----+----+---------+---------------+----------------+-----+---------+----------+------------+\n",
      "+------+-------+--------+---+------+--------+---+----+---------+---+---------+------------+------------+------------+------------+----+---------+---------+--------+---------+----------+----------+---+----------+--------+-----------+--------+-----------------+----+-------+----------+-----------------+-------------------+---------------+---+----+------+-------+--------+-------+----------+-----------+-------------+----------+--------------+---------+--------+-----------------+-------+------------+-------+----+----+---------+---------------+----------------+-----+---------+----------+------------+\n",
      "\n"
     ]
    },
    {
     "name": "stderr",
     "output_type": "stream",
     "text": [
      "                                                                                \r"
     ]
    }
   ],
   "source": [
    "from pyspark.sql.functions import col\n",
    "\n",
    "# Filter the dataframe where l4protocol is not null and display the first 5 rows\n",
    "df_ecar.filter(col(\"l4protocol\").isNotNull()).show(5)"
   ]
  },
  {
   "cell_type": "markdown",
   "id": "cc284cc8-cd24-42f7-ab3d-059fed854118",
   "metadata": {},
   "source": [
    "#### Label Data"
   ]
  },
  {
   "cell_type": "code",
   "execution_count": 5,
   "id": "5cb4fd45-de31-47ec-a891-c2107234406b",
   "metadata": {
    "tags": []
   },
   "outputs": [
    {
     "name": "stderr",
     "output_type": "stream",
     "text": [
      "                                                                                \r"
     ]
    },
    {
     "name": "stdout",
     "output_type": "stream",
     "text": [
      "10:55PM UTC on Mar 09, 2023 --- read and cache time: 1.6450881958007812e-05 seconds ---\n"
     ]
    }
   ],
   "source": [
    "#df_labels = readCheckpoint('labels', env, size)\n",
    "df_labels = readCheckpoint_bcm('labels')"
   ]
  },
  {
   "cell_type": "code",
   "execution_count": 6,
   "id": "6bc9749f-0e78-4ff8-8300-53182395b2a0",
   "metadata": {
    "tags": []
   },
   "outputs": [
    {
     "ename": "NameError",
     "evalue": "name 'df_ecar' is not defined",
     "output_type": "error",
     "traceback": [
      "\u001b[0;31m---------------------------------------------------------------------------\u001b[0m",
      "\u001b[0;31mNameError\u001b[0m                                 Traceback (most recent call last)",
      "Cell \u001b[0;32mIn[6], line 1\u001b[0m\n\u001b[0;32m----> 1\u001b[0m \u001b[43mdf_ecar\u001b[49m\u001b[38;5;241m.\u001b[39mlimit(\u001b[38;5;241m5\u001b[39m)\u001b[38;5;241m.\u001b[39mtoPandas()\n",
      "\u001b[0;31mNameError\u001b[0m: name 'df_ecar' is not defined"
     ]
    }
   ],
   "source": [
    "df_ecar.limit(5).toPandas()"
   ]
  },
  {
   "cell_type": "code",
   "execution_count": 7,
   "id": "0a49a9d9-f2de-43fe-9a21-dc0a26252767",
   "metadata": {
    "tags": []
   },
   "outputs": [
    {
     "name": "stderr",
     "output_type": "stream",
     "text": [
      "                                                                                \r"
     ]
    },
    {
     "data": {
      "text/html": [
       "<div>\n",
       "<style scoped>\n",
       "    .dataframe tbody tr th:only-of-type {\n",
       "        vertical-align: middle;\n",
       "    }\n",
       "\n",
       "    .dataframe tbody tr th {\n",
       "        vertical-align: top;\n",
       "    }\n",
       "\n",
       "    .dataframe thead th {\n",
       "        text-align: right;\n",
       "    }\n",
       "</style>\n",
       "<table border=\"1\" class=\"dataframe\">\n",
       "  <thead>\n",
       "    <tr style=\"text-align: right;\">\n",
       "      <th></th>\n",
       "      <th>hostname</th>\n",
       "      <th>id</th>\n",
       "      <th>objectID</th>\n",
       "      <th>actorID</th>\n",
       "      <th>timestamp</th>\n",
       "      <th>object</th>\n",
       "      <th>action</th>\n",
       "    </tr>\n",
       "  </thead>\n",
       "  <tbody>\n",
       "    <tr>\n",
       "      <th>0</th>\n",
       "      <td>SysClient0201.systemia.com</td>\n",
       "      <td>43fb9623-3cd1-45ec-ab22-dbe46e75240e</td>\n",
       "      <td>96913629-c1c9-4503-9586-4a91de0e7311</td>\n",
       "      <td>af6b49d5-f648-41a4-946d-d92b174bae47</td>\n",
       "      <td>2019-09-23T11:23:55.857-04:00</td>\n",
       "      <td>PROCESS</td>\n",
       "      <td>CREATE</td>\n",
       "    </tr>\n",
       "    <tr>\n",
       "      <th>1</th>\n",
       "      <td>SysClient0201.systemia.com</td>\n",
       "      <td>78fccbc8-58d1-4598-ae21-99f57ee57ed8</td>\n",
       "      <td>b53c1986-842c-493a-910c-78b55da2575f</td>\n",
       "      <td>96913629-c1c9-4503-9586-4a91de0e7311</td>\n",
       "      <td>2019-09-23T11:25:26.418-04:00</td>\n",
       "      <td>SHELL</td>\n",
       "      <td>COMMAND</td>\n",
       "    </tr>\n",
       "    <tr>\n",
       "      <th>2</th>\n",
       "      <td>SysClient0201.systemia.com</td>\n",
       "      <td>fb89e8be-47a1-418c-9bb8-a4c702694c74</td>\n",
       "      <td>b53c1986-842c-493a-910c-78b55da2575f</td>\n",
       "      <td>96913629-c1c9-4503-9586-4a91de0e7311</td>\n",
       "      <td>2019-09-23T11:25:26.416-04:00</td>\n",
       "      <td>SHELL</td>\n",
       "      <td>COMMAND</td>\n",
       "    </tr>\n",
       "    <tr>\n",
       "      <th>3</th>\n",
       "      <td>SysClient0201.systemia.com</td>\n",
       "      <td>05e5bde3-8db5-410a-ad75-de676bd14ebb</td>\n",
       "      <td>b53c1986-842c-493a-910c-78b55da2575f</td>\n",
       "      <td>96913629-c1c9-4503-9586-4a91de0e7311</td>\n",
       "      <td>2019-09-23T11:25:26.436-04:00</td>\n",
       "      <td>SHELL</td>\n",
       "      <td>COMMAND</td>\n",
       "    </tr>\n",
       "    <tr>\n",
       "      <th>4</th>\n",
       "      <td>SysClient0201.systemia.com</td>\n",
       "      <td>1bdb7482-a548-40f2-b648-ea258e6c2448</td>\n",
       "      <td>b53c1986-842c-493a-910c-78b55da2575f</td>\n",
       "      <td>96913629-c1c9-4503-9586-4a91de0e7311</td>\n",
       "      <td>2019-09-23T11:25:26.434-04:00</td>\n",
       "      <td>SHELL</td>\n",
       "      <td>COMMAND</td>\n",
       "    </tr>\n",
       "  </tbody>\n",
       "</table>\n",
       "</div>"
      ],
      "text/plain": [
       "                     hostname                                    id  \\\n",
       "0  SysClient0201.systemia.com  43fb9623-3cd1-45ec-ab22-dbe46e75240e   \n",
       "1  SysClient0201.systemia.com  78fccbc8-58d1-4598-ae21-99f57ee57ed8   \n",
       "2  SysClient0201.systemia.com  fb89e8be-47a1-418c-9bb8-a4c702694c74   \n",
       "3  SysClient0201.systemia.com  05e5bde3-8db5-410a-ad75-de676bd14ebb   \n",
       "4  SysClient0201.systemia.com  1bdb7482-a548-40f2-b648-ea258e6c2448   \n",
       "\n",
       "                               objectID                               actorID  \\\n",
       "0  96913629-c1c9-4503-9586-4a91de0e7311  af6b49d5-f648-41a4-946d-d92b174bae47   \n",
       "1  b53c1986-842c-493a-910c-78b55da2575f  96913629-c1c9-4503-9586-4a91de0e7311   \n",
       "2  b53c1986-842c-493a-910c-78b55da2575f  96913629-c1c9-4503-9586-4a91de0e7311   \n",
       "3  b53c1986-842c-493a-910c-78b55da2575f  96913629-c1c9-4503-9586-4a91de0e7311   \n",
       "4  b53c1986-842c-493a-910c-78b55da2575f  96913629-c1c9-4503-9586-4a91de0e7311   \n",
       "\n",
       "                       timestamp   object   action  \n",
       "0  2019-09-23T11:23:55.857-04:00  PROCESS   CREATE  \n",
       "1  2019-09-23T11:25:26.418-04:00    SHELL  COMMAND  \n",
       "2  2019-09-23T11:25:26.416-04:00    SHELL  COMMAND  \n",
       "3  2019-09-23T11:25:26.436-04:00    SHELL  COMMAND  \n",
       "4  2019-09-23T11:25:26.434-04:00    SHELL  COMMAND  "
      ]
     },
     "execution_count": 7,
     "metadata": {},
     "output_type": "execute_result"
    }
   ],
   "source": [
    "df_labels.limit(5).toPandas()"
   ]
  },
  {
   "cell_type": "code",
   "execution_count": 20,
   "id": "533599fc-e4de-4dec-9147-6434c0f08533",
   "metadata": {
    "tags": []
   },
   "outputs": [
    {
     "name": "stderr",
     "output_type": "stream",
     "text": [
      "                                                                                \r"
     ]
    }
   ],
   "source": [
    "# Create a new dataframe with distinct objectIDs to identify malcious ObjectIds\n",
    "df_malcious_objectIDs = df_labels.select('id').distinct()\n",
    "\n",
    "# Create a new column called 'malicious' in df_ecar to label malicious records\n",
    "df_ecar = df_ecar.withColumn('malicious', when(col('id').isin(df_malcious_objectIDs.rdd.flatMap(lambda x: x).collect()), 1).otherwise(0))"
   ]
  },
  {
   "cell_type": "code",
   "execution_count": 21,
   "id": "8ecb03db-7d54-4355-a789-efcc24af0342",
   "metadata": {
    "tags": []
   },
   "outputs": [
    {
     "name": "stderr",
     "output_type": "stream",
     "text": [
      "/home/ec2-user/anaconda3/envs/python3/lib/python3.10/site-packages/pyspark/sql/pandas/conversion.py:248: FutureWarning: Passing unit-less datetime64 dtype to .astype is deprecated and will raise in a future version. Pass 'datetime64[ns]' instead\n",
      "  series = series.astype(t, copy=False)\n"
     ]
    },
    {
     "data": {
      "text/html": [
       "<div>\n",
       "<style scoped>\n",
       "    .dataframe tbody tr th:only-of-type {\n",
       "        vertical-align: middle;\n",
       "    }\n",
       "\n",
       "    .dataframe tbody tr th {\n",
       "        vertical-align: top;\n",
       "    }\n",
       "\n",
       "    .dataframe thead th {\n",
       "        text-align: right;\n",
       "    }\n",
       "</style>\n",
       "<table border=\"1\" class=\"dataframe\">\n",
       "  <thead>\n",
       "    <tr style=\"text-align: right;\">\n",
       "      <th></th>\n",
       "      <th>id</th>\n",
       "      <th>timestamp</th>\n",
       "      <th>objectID</th>\n",
       "      <th>actorID</th>\n",
       "      <th>object</th>\n",
       "      <th>action</th>\n",
       "      <th>hostname</th>\n",
       "      <th>malicious</th>\n",
       "    </tr>\n",
       "  </thead>\n",
       "  <tbody>\n",
       "    <tr>\n",
       "      <th>0</th>\n",
       "      <td>e361c4b8-de66-4c15-8525-17d819ce855d</td>\n",
       "      <td>2019-09-23 15:31:08.522</td>\n",
       "      <td>44b31f0d-7a69-4031-90de-5bacc521938f</td>\n",
       "      <td>a52f6519-6265-4437-9f6c-3402fb245cc7</td>\n",
       "      <td>SHELL</td>\n",
       "      <td>COMMAND</td>\n",
       "      <td>SysClient0201.systemia.com</td>\n",
       "      <td>1</td>\n",
       "    </tr>\n",
       "    <tr>\n",
       "      <th>1</th>\n",
       "      <td>987a5ad7-e502-474c-9403-ea2360b880ba</td>\n",
       "      <td>2019-09-23 15:31:08.523</td>\n",
       "      <td>44b31f0d-7a69-4031-90de-5bacc521938f</td>\n",
       "      <td>a52f6519-6265-4437-9f6c-3402fb245cc7</td>\n",
       "      <td>SHELL</td>\n",
       "      <td>COMMAND</td>\n",
       "      <td>SysClient0201.systemia.com</td>\n",
       "      <td>1</td>\n",
       "    </tr>\n",
       "    <tr>\n",
       "      <th>2</th>\n",
       "      <td>35db42d9-7b81-4670-a549-0d4a1d5474c8</td>\n",
       "      <td>2019-09-23 15:31:08.526</td>\n",
       "      <td>44b31f0d-7a69-4031-90de-5bacc521938f</td>\n",
       "      <td>a52f6519-6265-4437-9f6c-3402fb245cc7</td>\n",
       "      <td>SHELL</td>\n",
       "      <td>COMMAND</td>\n",
       "      <td>SysClient0201.systemia.com</td>\n",
       "      <td>1</td>\n",
       "    </tr>\n",
       "    <tr>\n",
       "      <th>3</th>\n",
       "      <td>788f2164-f53f-461e-bc92-360da7c68703</td>\n",
       "      <td>2019-09-23 15:31:08.527</td>\n",
       "      <td>44b31f0d-7a69-4031-90de-5bacc521938f</td>\n",
       "      <td>a52f6519-6265-4437-9f6c-3402fb245cc7</td>\n",
       "      <td>SHELL</td>\n",
       "      <td>COMMAND</td>\n",
       "      <td>SysClient0201.systemia.com</td>\n",
       "      <td>1</td>\n",
       "    </tr>\n",
       "    <tr>\n",
       "      <th>4</th>\n",
       "      <td>24f2f923-f099-4d9d-9e0b-8dba052daeab</td>\n",
       "      <td>2019-09-23 15:31:13.667</td>\n",
       "      <td>44b31f0d-7a69-4031-90de-5bacc521938f</td>\n",
       "      <td>a52f6519-6265-4437-9f6c-3402fb245cc7</td>\n",
       "      <td>SHELL</td>\n",
       "      <td>COMMAND</td>\n",
       "      <td>SysClient0201.systemia.com</td>\n",
       "      <td>1</td>\n",
       "    </tr>\n",
       "  </tbody>\n",
       "</table>\n",
       "</div>"
      ],
      "text/plain": [
       "                                     id               timestamp  \\\n",
       "0  e361c4b8-de66-4c15-8525-17d819ce855d 2019-09-23 15:31:08.522   \n",
       "1  987a5ad7-e502-474c-9403-ea2360b880ba 2019-09-23 15:31:08.523   \n",
       "2  35db42d9-7b81-4670-a549-0d4a1d5474c8 2019-09-23 15:31:08.526   \n",
       "3  788f2164-f53f-461e-bc92-360da7c68703 2019-09-23 15:31:08.527   \n",
       "4  24f2f923-f099-4d9d-9e0b-8dba052daeab 2019-09-23 15:31:13.667   \n",
       "\n",
       "                               objectID                               actorID  \\\n",
       "0  44b31f0d-7a69-4031-90de-5bacc521938f  a52f6519-6265-4437-9f6c-3402fb245cc7   \n",
       "1  44b31f0d-7a69-4031-90de-5bacc521938f  a52f6519-6265-4437-9f6c-3402fb245cc7   \n",
       "2  44b31f0d-7a69-4031-90de-5bacc521938f  a52f6519-6265-4437-9f6c-3402fb245cc7   \n",
       "3  44b31f0d-7a69-4031-90de-5bacc521938f  a52f6519-6265-4437-9f6c-3402fb245cc7   \n",
       "4  44b31f0d-7a69-4031-90de-5bacc521938f  a52f6519-6265-4437-9f6c-3402fb245cc7   \n",
       "\n",
       "  object   action                    hostname  malicious  \n",
       "0  SHELL  COMMAND  SysClient0201.systemia.com          1  \n",
       "1  SHELL  COMMAND  SysClient0201.systemia.com          1  \n",
       "2  SHELL  COMMAND  SysClient0201.systemia.com          1  \n",
       "3  SHELL  COMMAND  SysClient0201.systemia.com          1  \n",
       "4  SHELL  COMMAND  SysClient0201.systemia.com          1  "
      ]
     },
     "execution_count": 21,
     "metadata": {},
     "output_type": "execute_result"
    }
   ],
   "source": [
    "# Filter the rows where malicious column equals 1 to test code \n",
    "df_malicious = df_ecar.filter(col('malicious') == 1)\n",
    "\n",
    "# Show 5 malicous records\n",
    "df_malicious.limit(5).toPandas()"
   ]
  },
  {
   "cell_type": "code",
   "execution_count": 22,
   "id": "91f7ae95-1172-4ae6-a23d-2a47ad8b2da4",
   "metadata": {
    "tags": []
   },
   "outputs": [
    {
     "name": "stderr",
     "output_type": "stream",
     "text": [
      "/home/ec2-user/anaconda3/envs/python3/lib/python3.10/site-packages/pyspark/sql/pandas/conversion.py:248: FutureWarning: Passing unit-less datetime64 dtype to .astype is deprecated and will raise in a future version. Pass 'datetime64[ns]' instead\n",
      "  series = series.astype(t, copy=False)\n"
     ]
    },
    {
     "data": {
      "text/html": [
       "<div>\n",
       "<style scoped>\n",
       "    .dataframe tbody tr th:only-of-type {\n",
       "        vertical-align: middle;\n",
       "    }\n",
       "\n",
       "    .dataframe tbody tr th {\n",
       "        vertical-align: top;\n",
       "    }\n",
       "\n",
       "    .dataframe thead th {\n",
       "        text-align: right;\n",
       "    }\n",
       "</style>\n",
       "<table border=\"1\" class=\"dataframe\">\n",
       "  <thead>\n",
       "    <tr style=\"text-align: right;\">\n",
       "      <th></th>\n",
       "      <th>id</th>\n",
       "      <th>timestamp</th>\n",
       "      <th>objectID</th>\n",
       "      <th>actorID</th>\n",
       "      <th>object</th>\n",
       "      <th>action</th>\n",
       "      <th>hostname</th>\n",
       "      <th>malicious</th>\n",
       "    </tr>\n",
       "  </thead>\n",
       "  <tbody>\n",
       "    <tr>\n",
       "      <th>0</th>\n",
       "      <td>fbea6675-4397-4189-b8ef-76b8e9a4a726</td>\n",
       "      <td>2019-09-23 15:33:00.321</td>\n",
       "      <td>4249f4db-106f-4439-93cd-44ef97eabc6b</td>\n",
       "      <td>6b2883bf-2851-49ba-b30c-e342e5710fbd</td>\n",
       "      <td>FILE</td>\n",
       "      <td>CREATE</td>\n",
       "      <td>SysClient0066.systemia.com</td>\n",
       "      <td>0</td>\n",
       "    </tr>\n",
       "    <tr>\n",
       "      <th>1</th>\n",
       "      <td>3c843dbc-a027-459a-bae7-de588f21d7c9</td>\n",
       "      <td>2019-09-23 15:33:01.411</td>\n",
       "      <td>a4c90607-1cdd-41f2-9a98-408c58122341</td>\n",
       "      <td>4e733055-c663-4823-8d48-4ab1defb97dc</td>\n",
       "      <td>FLOW</td>\n",
       "      <td>INFO</td>\n",
       "      <td>SysClient0116.systemia.com</td>\n",
       "      <td>0</td>\n",
       "    </tr>\n",
       "    <tr>\n",
       "      <th>2</th>\n",
       "      <td>9d7af6e0-3f80-4432-8de1-00a638f3de03</td>\n",
       "      <td>2019-09-23 15:33:00.007</td>\n",
       "      <td>95530c9a-9088-464c-9b57-043787bdbd8c</td>\n",
       "      <td>b2e4fa76-67f4-4d78-b136-86f3b63cf5aa</td>\n",
       "      <td>PROCESS</td>\n",
       "      <td>OPEN</td>\n",
       "      <td>SysClient0057.systemia.com</td>\n",
       "      <td>0</td>\n",
       "    </tr>\n",
       "    <tr>\n",
       "      <th>3</th>\n",
       "      <td>6ebe4aa7-3ac7-4d29-a0e5-9e2d20b3894f</td>\n",
       "      <td>2019-09-23 15:33:01.441</td>\n",
       "      <td>28d680f7-7bbd-4327-8635-3035686313b3</td>\n",
       "      <td>4e733055-c663-4823-8d48-4ab1defb97dc</td>\n",
       "      <td>FLOW</td>\n",
       "      <td>INFO</td>\n",
       "      <td>SysClient0116.systemia.com</td>\n",
       "      <td>0</td>\n",
       "    </tr>\n",
       "    <tr>\n",
       "      <th>4</th>\n",
       "      <td>ed8bdf7c-6c43-4956-8ed1-009c42469d99</td>\n",
       "      <td>2019-09-23 15:33:00.227</td>\n",
       "      <td>d36946ba-34ed-4c91-8099-338400dce1f0</td>\n",
       "      <td>c5868956-b7af-4373-a9cc-d41608f11e2a</td>\n",
       "      <td>FILE</td>\n",
       "      <td>MODIFY</td>\n",
       "      <td>SysClient0055.systemia.com</td>\n",
       "      <td>0</td>\n",
       "    </tr>\n",
       "  </tbody>\n",
       "</table>\n",
       "</div>"
      ],
      "text/plain": [
       "                                     id               timestamp  \\\n",
       "0  fbea6675-4397-4189-b8ef-76b8e9a4a726 2019-09-23 15:33:00.321   \n",
       "1  3c843dbc-a027-459a-bae7-de588f21d7c9 2019-09-23 15:33:01.411   \n",
       "2  9d7af6e0-3f80-4432-8de1-00a638f3de03 2019-09-23 15:33:00.007   \n",
       "3  6ebe4aa7-3ac7-4d29-a0e5-9e2d20b3894f 2019-09-23 15:33:01.441   \n",
       "4  ed8bdf7c-6c43-4956-8ed1-009c42469d99 2019-09-23 15:33:00.227   \n",
       "\n",
       "                               objectID                               actorID  \\\n",
       "0  4249f4db-106f-4439-93cd-44ef97eabc6b  6b2883bf-2851-49ba-b30c-e342e5710fbd   \n",
       "1  a4c90607-1cdd-41f2-9a98-408c58122341  4e733055-c663-4823-8d48-4ab1defb97dc   \n",
       "2  95530c9a-9088-464c-9b57-043787bdbd8c  b2e4fa76-67f4-4d78-b136-86f3b63cf5aa   \n",
       "3  28d680f7-7bbd-4327-8635-3035686313b3  4e733055-c663-4823-8d48-4ab1defb97dc   \n",
       "4  d36946ba-34ed-4c91-8099-338400dce1f0  c5868956-b7af-4373-a9cc-d41608f11e2a   \n",
       "\n",
       "    object  action                    hostname  malicious  \n",
       "0     FILE  CREATE  SysClient0066.systemia.com          0  \n",
       "1     FLOW    INFO  SysClient0116.systemia.com          0  \n",
       "2  PROCESS    OPEN  SysClient0057.systemia.com          0  \n",
       "3     FLOW    INFO  SysClient0116.systemia.com          0  \n",
       "4     FILE  MODIFY  SysClient0055.systemia.com          0  "
      ]
     },
     "execution_count": 22,
     "metadata": {},
     "output_type": "execute_result"
    }
   ],
   "source": [
    "# Filter the rows where malicious column equals 0 to test code\n",
    "df_non_malicious = df_ecar.filter(col('malicious') == 0)\n",
    "\n",
    "# Show 5 malicous records\n",
    "df_non_malicious.limit(5).toPandas()"
   ]
  },
  {
   "cell_type": "code",
   "execution_count": null,
   "id": "6cca88fd-8b6d-4df1-98f2-b185700019ec",
   "metadata": {},
   "outputs": [],
   "source": [
    "source is actorid, destination is objectid\n",
    "\n"
   ]
  },
  {
   "cell_type": "code",
   "execution_count": 27,
   "id": "015e0d18-6239-4008-b572-7e3065d9da90",
   "metadata": {
    "tags": []
   },
   "outputs": [],
   "source": [
    "from graphframes import GraphFrame\n",
    "\n",
    "# Create distinct vertices with source as actorid, destination as objectid\n",
    "src_vertices = df_ecar.selectExpr('actorID as id').distinct()\n",
    "dst_vertices = df_ecar.selectExpr('objectID as id').distinct()\n",
    "vertices = src_vertices.union(dst_vertices).distinct()\n",
    "\n",
    "# Create edges by using timestamp as an edge\n",
    "edges = df_ecar.selectExpr('actorID as src', 'objectID as dst', 'timestamp')\n",
    "\n",
    "# Create GraphFrame\n",
    "g = GraphFrame(vertices, edges)"
   ]
  },
  {
   "cell_type": "code",
   "execution_count": 28,
   "id": "2a02f156-1342-496e-9c5f-034314b36c5d",
   "metadata": {
    "collapsed": true,
    "jupyter": {
     "outputs_hidden": true
    },
    "tags": []
   },
   "outputs": [
    {
     "name": "stdout",
     "output_type": "stream",
     "text": [
      "Vertices:\n",
      "23/03/05 17:53:21 ERROR Executor: Exception in task 39.0 in stage 47.0 (TID 1837)\n",
      "java.io.FileNotFoundException: \n",
      "No such file or directory: s3a://sapient-bucket-refined/prod/ecar/medium/event_day=23/event_hour=13/event_minute=22/part-00000-ebd3d2f8-6297-4672-9283-316d7cb49014.c000.snappy.parquet\n",
      "\n",
      "It is possible the underlying files have been updated. You can explicitly invalidate\n",
      "the cache in Spark by running 'REFRESH TABLE tableName' command in SQL or by\n",
      "recreating the Dataset/DataFrame involved.\n",
      "       \n",
      "\tat org.apache.spark.sql.errors.QueryExecutionErrors$.readCurrentFileNotFoundError(QueryExecutionErrors.scala:648)\n",
      "\tat org.apache.spark.sql.execution.datasources.FileScanRDD$$anon$1.org$apache$spark$sql$execution$datasources$FileScanRDD$$anon$$readCurrentFile(FileScanRDD.scala:212)\n",
      "\tat org.apache.spark.sql.execution.datasources.FileScanRDD$$anon$1.nextIterator(FileScanRDD.scala:270)\n",
      "\tat org.apache.spark.sql.execution.datasources.FileScanRDD$$anon$1.hasNext(FileScanRDD.scala:116)\n",
      "\tat org.apache.spark.sql.execution.FileSourceScanExec$$anon$1.hasNext(DataSourceScanExec.scala:553)\n",
      "\tat org.apache.spark.sql.catalyst.expressions.GeneratedClass$GeneratedIteratorForCodegenStage1.columnartorow_nextBatch_0$(Unknown Source)\n",
      "\tat org.apache.spark.sql.catalyst.expressions.GeneratedClass$GeneratedIteratorForCodegenStage1.processNext(Unknown Source)\n",
      "\tat org.apache.spark.sql.execution.BufferedRowIterator.hasNext(BufferedRowIterator.java:43)\n",
      "\tat org.apache.spark.sql.execution.WholeStageCodegenExec$$anon$1.hasNext(WholeStageCodegenExec.scala:760)\n",
      "\tat org.apache.spark.sql.execution.columnar.DefaultCachedBatchSerializer$$anon$1.hasNext(InMemoryRelation.scala:118)\n",
      "\tat scala.collection.Iterator$$anon$10.hasNext(Iterator.scala:460)\n",
      "\tat org.apache.spark.storage.memory.MemoryStore.putIterator(MemoryStore.scala:223)\n",
      "\tat org.apache.spark.storage.memory.MemoryStore.putIteratorAsValues(MemoryStore.scala:302)\n",
      "\tat org.apache.spark.storage.BlockManager.$anonfun$doPutIterator$1(BlockManager.scala:1508)\n",
      "\tat org.apache.spark.storage.BlockManager.org$apache$spark$storage$BlockManager$$doPut(BlockManager.scala:1435)\n",
      "\tat org.apache.spark.storage.BlockManager.doPutIterator(BlockManager.scala:1499)\n",
      "\tat org.apache.spark.storage.BlockManager.getOrElseUpdate(BlockManager.scala:1322)\n",
      "\tat org.apache.spark.rdd.RDD.getOrCompute(RDD.scala:376)\n",
      "\tat org.apache.spark.rdd.RDD.iterator(RDD.scala:327)\n",
      "\tat org.apache.spark.rdd.MapPartitionsRDD.compute(MapPartitionsRDD.scala:52)\n",
      "\tat org.apache.spark.rdd.RDD.computeOrReadCheckpoint(RDD.scala:365)\n",
      "\tat org.apache.spark.rdd.RDD.iterator(RDD.scala:329)\n",
      "\tat org.apache.spark.rdd.MapPartitionsRDD.compute(MapPartitionsRDD.scala:52)\n",
      "\tat org.apache.spark.rdd.RDD.computeOrReadCheckpoint(RDD.scala:365)\n",
      "\tat org.apache.spark.rdd.RDD.iterator(RDD.scala:329)\n",
      "\tat org.apache.spark.rdd.MapPartitionsRDD.compute(MapPartitionsRDD.scala:52)\n",
      "\tat org.apache.spark.rdd.RDD.computeOrReadCheckpoint(RDD.scala:365)\n",
      "\tat org.apache.spark.rdd.RDD.iterator(RDD.scala:329)\n",
      "\tat org.apache.spark.rdd.MapPartitionsRDD.compute(MapPartitionsRDD.scala:52)\n",
      "\tat org.apache.spark.rdd.RDD.computeOrReadCheckpoint(RDD.scala:365)\n",
      "\tat org.apache.spark.rdd.RDD.iterator(RDD.scala:329)\n",
      "\tat org.apache.spark.rdd.MapPartitionsRDD.compute(MapPartitionsRDD.scala:52)\n",
      "\tat org.apache.spark.rdd.RDD.computeOrReadCheckpoint(RDD.scala:365)\n",
      "\tat org.apache.spark.rdd.RDD.iterator(RDD.scala:329)\n",
      "\tat org.apache.spark.shuffle.ShuffleWriteProcessor.write(ShuffleWriteProcessor.scala:59)\n",
      "\tat org.apache.spark.scheduler.ShuffleMapTask.runTask(ShuffleMapTask.scala:99)\n",
      "\tat org.apache.spark.scheduler.ShuffleMapTask.runTask(ShuffleMapTask.scala:52)\n",
      "\tat org.apache.spark.scheduler.Task.run(Task.scala:136)\n",
      "\tat org.apache.spark.executor.Executor$TaskRunner.$anonfun$run$3(Executor.scala:548)\n",
      "\tat org.apache.spark.util.Utils$.tryWithSafeFinally(Utils.scala:1504)\n",
      "\tat org.apache.spark.executor.Executor$TaskRunner.run(Executor.scala:551)\n",
      "\tat java.util.concurrent.ThreadPoolExecutor.runWorker(ThreadPoolExecutor.java:1149)\n",
      "\tat java.util.concurrent.ThreadPoolExecutor$Worker.run(ThreadPoolExecutor.java:624)\n",
      "\tat java.lang.Thread.run(Thread.java:750)\n",
      "23/03/05 17:53:21 ERROR TaskSetManager: Task 39 in stage 47.0 failed 1 times; aborting job\n",
      "23/03/05 17:53:21 ERROR Executor: Exception in task 22.0 in stage 47.0 (TID 1820)\n",
      "java.io.FileNotFoundException: \n",
      "No such file or directory: s3a://sapient-bucket-refined/prod/ecar/medium/event_day=23/event_hour=16/event_minute=42/part-00000-ebd3d2f8-6297-4672-9283-316d7cb49014.c000.snappy.parquet\n",
      "\n",
      "It is possible the underlying files have been updated. You can explicitly invalidate\n",
      "the cache in Spark by running 'REFRESH TABLE tableName' command in SQL or by\n",
      "recreating the Dataset/DataFrame involved.\n",
      "       \n",
      "\tat org.apache.spark.sql.errors.QueryExecutionErrors$.readCurrentFileNotFoundError(QueryExecutionErrors.scala:648)\n",
      "\tat org.apache.spark.sql.execution.datasources.FileScanRDD$$anon$1.org$apache$spark$sql$execution$datasources$FileScanRDD$$anon$$readCurrentFile(FileScanRDD.scala:212)\n",
      "\tat org.apache.spark.sql.execution.datasources.FileScanRDD$$anon$1.nextIterator(FileScanRDD.scala:270)\n",
      "\tat org.apache.spark.sql.execution.datasources.FileScanRDD$$anon$1.hasNext(FileScanRDD.scala:116)\n",
      "\tat org.apache.spark.sql.execution.FileSourceScanExec$$anon$1.hasNext(DataSourceScanExec.scala:553)\n",
      "\tat org.apache.spark.sql.catalyst.expressions.GeneratedClass$GeneratedIteratorForCodegenStage1.columnartorow_nextBatch_0$(Unknown Source)\n",
      "\tat org.apache.spark.sql.catalyst.expressions.GeneratedClass$GeneratedIteratorForCodegenStage1.processNext(Unknown Source)\n",
      "\tat org.apache.spark.sql.execution.BufferedRowIterator.hasNext(BufferedRowIterator.java:43)\n",
      "\tat org.apache.spark.sql.execution.WholeStageCodegenExec$$anon$1.hasNext(WholeStageCodegenExec.scala:760)\n",
      "\tat org.apache.spark.sql.execution.columnar.DefaultCachedBatchSerializer$$anon$1.hasNext(InMemoryRelation.scala:118)\n",
      "\tat scala.collection.Iterator$$anon$10.hasNext(Iterator.scala:460)\n",
      "\tat org.apache.spark.storage.memory.MemoryStore.putIterator(MemoryStore.scala:223)\n",
      "\tat org.apache.spark.storage.memory.MemoryStore.putIteratorAsValues(MemoryStore.scala:302)\n",
      "\tat org.apache.spark.storage.BlockManager.$anonfun$doPutIterator$1(BlockManager.scala:1508)\n",
      "\tat org.apache.spark.storage.BlockManager.org$apache$spark$storage$BlockManager$$doPut(BlockManager.scala:1435)\n",
      "\tat org.apache.spark.storage.BlockManager.doPutIterator(BlockManager.scala:1499)\n",
      "\tat org.apache.spark.storage.BlockManager.getOrElseUpdate(BlockManager.scala:1322)\n",
      "\tat org.apache.spark.rdd.RDD.getOrCompute(RDD.scala:376)\n",
      "\tat org.apache.spark.rdd.RDD.iterator(RDD.scala:327)\n",
      "\tat org.apache.spark.rdd.MapPartitionsRDD.compute(MapPartitionsRDD.scala:52)\n",
      "\tat org.apache.spark.rdd.RDD.computeOrReadCheckpoint(RDD.scala:365)\n",
      "\tat org.apache.spark.rdd.RDD.iterator(RDD.scala:329)\n",
      "\tat org.apache.spark.rdd.MapPartitionsRDD.compute(MapPartitionsRDD.scala:52)\n",
      "\tat org.apache.spark.rdd.RDD.computeOrReadCheckpoint(RDD.scala:365)\n",
      "\tat org.apache.spark.rdd.RDD.iterator(RDD.scala:329)\n",
      "\tat org.apache.spark.rdd.MapPartitionsRDD.compute(MapPartitionsRDD.scala:52)\n",
      "\tat org.apache.spark.rdd.RDD.computeOrReadCheckpoint(RDD.scala:365)\n",
      "\tat org.apache.spark.rdd.RDD.iterator(RDD.scala:329)\n",
      "\tat org.apache.spark.rdd.MapPartitionsRDD.compute(MapPartitionsRDD.scala:52)\n",
      "\tat org.apache.spark.rdd.RDD.computeOrReadCheckpoint(RDD.scala:365)\n",
      "\tat org.apache.spark.rdd.RDD.iterator(RDD.scala:329)\n",
      "\tat org.apache.spark.rdd.MapPartitionsRDD.compute(MapPartitionsRDD.scala:52)\n",
      "\tat org.apache.spark.rdd.RDD.computeOrReadCheckpoint(RDD.scala:365)\n",
      "\tat org.apache.spark.rdd.RDD.iterator(RDD.scala:329)\n",
      "\tat org.apache.spark.shuffle.ShuffleWriteProcessor.write(ShuffleWriteProcessor.scala:59)\n",
      "\tat org.apache.spark.scheduler.ShuffleMapTask.runTask(ShuffleMapTask.scala:99)\n",
      "\tat org.apache.spark.scheduler.ShuffleMapTask.runTask(ShuffleMapTask.scala:52)\n",
      "\tat org.apache.spark.scheduler.Task.run(Task.scala:136)\n",
      "\tat org.apache.spark.executor.Executor$TaskRunner.$anonfun$run$3(Executor.scala:548)\n",
      "\tat org.apache.spark.util.Utils$.tryWithSafeFinally(Utils.scala:1504)\n",
      "\tat org.apache.spark.executor.Executor$TaskRunner.run(Executor.scala:551)\n",
      "\tat java.util.concurrent.ThreadPoolExecutor.runWorker(ThreadPoolExecutor.java:1149)\n",
      "\tat java.util.concurrent.ThreadPoolExecutor$Worker.run(ThreadPoolExecutor.java:624)\n",
      "\tat java.lang.Thread.run(Thread.java:750)\n",
      "23/03/05 17:53:21 ERROR Executor: Exception in task 58.0 in stage 47.0 (TID 1856)\n",
      "java.io.FileNotFoundException: \n",
      "No such file or directory: s3a://sapient-bucket-refined/prod/ecar/medium/event_day=23/event_hour=18/event_minute=42/part-00000-ebd3d2f8-6297-4672-9283-316d7cb49014.c000.snappy.parquet\n",
      "\n",
      "It is possible the underlying files have been updated. You can explicitly invalidate\n",
      "the cache in Spark by running 'REFRESH TABLE tableName' command in SQL or by\n",
      "recreating the Dataset/DataFrame involved.\n",
      "       \n",
      "\tat org.apache.spark.sql.errors.QueryExecutionErrors$.readCurrentFileNotFoundError(QueryExecutionErrors.scala:648)\n",
      "\tat org.apache.spark.sql.execution.datasources.FileScanRDD$$anon$1.org$apache$spark$sql$execution$datasources$FileScanRDD$$anon$$readCurrentFile(FileScanRDD.scala:212)\n",
      "\tat org.apache.spark.sql.execution.datasources.FileScanRDD$$anon$1.nextIterator(FileScanRDD.scala:270)\n",
      "\tat org.apache.spark.sql.execution.datasources.FileScanRDD$$anon$1.hasNext(FileScanRDD.scala:116)\n",
      "\tat org.apache.spark.sql.execution.FileSourceScanExec$$anon$1.hasNext(DataSourceScanExec.scala:553)\n",
      "\tat org.apache.spark.sql.catalyst.expressions.GeneratedClass$GeneratedIteratorForCodegenStage1.columnartorow_nextBatch_0$(Unknown Source)\n",
      "\tat org.apache.spark.sql.catalyst.expressions.GeneratedClass$GeneratedIteratorForCodegenStage1.processNext(Unknown Source)\n",
      "\tat org.apache.spark.sql.execution.BufferedRowIterator.hasNext(BufferedRowIterator.java:43)\n",
      "\tat org.apache.spark.sql.execution.WholeStageCodegenExec$$anon$1.hasNext(WholeStageCodegenExec.scala:760)\n",
      "\tat org.apache.spark.sql.execution.columnar.DefaultCachedBatchSerializer$$anon$1.hasNext(InMemoryRelation.scala:118)\n",
      "\tat scala.collection.Iterator$$anon$10.hasNext(Iterator.scala:460)\n",
      "\tat org.apache.spark.storage.memory.MemoryStore.putIterator(MemoryStore.scala:223)\n",
      "\tat org.apache.spark.storage.memory.MemoryStore.putIteratorAsValues(MemoryStore.scala:302)\n",
      "\tat org.apache.spark.storage.BlockManager.$anonfun$doPutIterator$1(BlockManager.scala:1508)\n",
      "\tat org.apache.spark.storage.BlockManager.org$apache$spark$storage$BlockManager$$doPut(BlockManager.scala:1435)\n",
      "\tat org.apache.spark.storage.BlockManager.doPutIterator(BlockManager.scala:1499)\n",
      "\tat org.apache.spark.storage.BlockManager.getOrElseUpdate(BlockManager.scala:1322)\n",
      "\tat org.apache.spark.rdd.RDD.getOrCompute(RDD.scala:376)\n",
      "\tat org.apache.spark.rdd.RDD.iterator(RDD.scala:327)\n",
      "\tat org.apache.spark.rdd.MapPartitionsRDD.compute(MapPartitionsRDD.scala:52)\n",
      "\tat org.apache.spark.rdd.RDD.computeOrReadCheckpoint(RDD.scala:365)\n",
      "\tat org.apache.spark.rdd.RDD.iterator(RDD.scala:329)\n",
      "\tat org.apache.spark.rdd.MapPartitionsRDD.compute(MapPartitionsRDD.scala:52)\n",
      "\tat org.apache.spark.rdd.RDD.computeOrReadCheckpoint(RDD.scala:365)\n",
      "\tat org.apache.spark.rdd.RDD.iterator(RDD.scala:329)\n",
      "\tat org.apache.spark.rdd.MapPartitionsRDD.compute(MapPartitionsRDD.scala:52)\n",
      "\tat org.apache.spark.rdd.RDD.computeOrReadCheckpoint(RDD.scala:365)\n",
      "\tat org.apache.spark.rdd.RDD.iterator(RDD.scala:329)\n",
      "\tat org.apache.spark.rdd.MapPartitionsRDD.compute(MapPartitionsRDD.scala:52)\n",
      "\tat org.apache.spark.rdd.RDD.computeOrReadCheckpoint(RDD.scala:365)\n",
      "\tat org.apache.spark.rdd.RDD.iterator(RDD.scala:329)\n",
      "\tat org.apache.spark.rdd.MapPartitionsRDD.compute(MapPartitionsRDD.scala:52)\n",
      "\tat org.apache.spark.rdd.RDD.computeOrReadCheckpoint(RDD.scala:365)\n",
      "\tat org.apache.spark.rdd.RDD.iterator(RDD.scala:329)\n",
      "\tat org.apache.spark.shuffle.ShuffleWriteProcessor.write(ShuffleWriteProcessor.scala:59)\n",
      "\tat org.apache.spark.scheduler.ShuffleMapTask.runTask(ShuffleMapTask.scala:99)\n",
      "\tat org.apache.spark.scheduler.ShuffleMapTask.runTask(ShuffleMapTask.scala:52)\n",
      "\tat org.apache.spark.scheduler.Task.run(Task.scala:136)\n",
      "\tat org.apache.spark.executor.Executor$TaskRunner.$anonfun$run$3(Executor.scala:548)\n",
      "\tat org.apache.spark.util.Utils$.tryWithSafeFinally(Utils.scala:1504)\n",
      "\tat org.apache.spark.executor.Executor$TaskRunner.run(Executor.scala:551)\n",
      "\tat java.util.concurrent.ThreadPoolExecutor.runWorker(ThreadPoolExecutor.java:1149)\n",
      "\tat java.util.concurrent.ThreadPoolExecutor$Worker.run(ThreadPoolExecutor.java:624)\n",
      "\tat java.lang.Thread.run(Thread.java:750)\n",
      "23/03/05 17:53:21 ERROR Executor: Exception in task 40.0 in stage 47.0 (TID 1838)\n",
      "java.io.FileNotFoundException: \n",
      "No such file or directory: s3a://sapient-bucket-refined/prod/ecar/medium/event_day=23/event_hour=19/event_minute=6/part-00000-ebd3d2f8-6297-4672-9283-316d7cb49014.c000.snappy.parquet\n",
      "\n",
      "It is possible the underlying files have been updated. You can explicitly invalidate\n",
      "the cache in Spark by running 'REFRESH TABLE tableName' command in SQL or by\n",
      "recreating the Dataset/DataFrame involved.\n",
      "       \n",
      "\tat org.apache.spark.sql.errors.QueryExecutionErrors$.readCurrentFileNotFoundError(QueryExecutionErrors.scala:648)\n",
      "\tat org.apache.spark.sql.execution.datasources.FileScanRDD$$anon$1.org$apache$spark$sql$execution$datasources$FileScanRDD$$anon$$readCurrentFile(FileScanRDD.scala:212)\n",
      "\tat org.apache.spark.sql.execution.datasources.FileScanRDD$$anon$1.nextIterator(FileScanRDD.scala:270)\n",
      "\tat org.apache.spark.sql.execution.datasources.FileScanRDD$$anon$1.hasNext(FileScanRDD.scala:116)\n",
      "\tat org.apache.spark.sql.execution.FileSourceScanExec$$anon$1.hasNext(DataSourceScanExec.scala:553)\n",
      "\tat org.apache.spark.sql.catalyst.expressions.GeneratedClass$GeneratedIteratorForCodegenStage1.columnartorow_nextBatch_0$(Unknown Source)\n",
      "\tat org.apache.spark.sql.catalyst.expressions.GeneratedClass$GeneratedIteratorForCodegenStage1.processNext(Unknown Source)\n",
      "\tat org.apache.spark.sql.execution.BufferedRowIterator.hasNext(BufferedRowIterator.java:43)\n",
      "\tat org.apache.spark.sql.execution.WholeStageCodegenExec$$anon$1.hasNext(WholeStageCodegenExec.scala:760)\n",
      "\tat org.apache.spark.sql.execution.columnar.DefaultCachedBatchSerializer$$anon$1.hasNext(InMemoryRelation.scala:118)\n",
      "\tat scala.collection.Iterator$$anon$10.hasNext(Iterator.scala:460)\n",
      "\tat org.apache.spark.storage.memory.MemoryStore.putIterator(MemoryStore.scala:223)\n",
      "\tat org.apache.spark.storage.memory.MemoryStore.putIteratorAsValues(MemoryStore.scala:302)\n",
      "\tat org.apache.spark.storage.BlockManager.$anonfun$doPutIterator$1(BlockManager.scala:1508)\n",
      "\tat org.apache.spark.storage.BlockManager.org$apache$spark$storage$BlockManager$$doPut(BlockManager.scala:1435)\n",
      "\tat org.apache.spark.storage.BlockManager.doPutIterator(BlockManager.scala:1499)\n",
      "\tat org.apache.spark.storage.BlockManager.getOrElseUpdate(BlockManager.scala:1322)\n",
      "\tat org.apache.spark.rdd.RDD.getOrCompute(RDD.scala:376)\n",
      "\tat org.apache.spark.rdd.RDD.iterator(RDD.scala:327)\n",
      "\tat org.apache.spark.rdd.MapPartitionsRDD.compute(MapPartitionsRDD.scala:52)\n",
      "\tat org.apache.spark.rdd.RDD.computeOrReadCheckpoint(RDD.scala:365)\n",
      "\tat org.apache.spark.rdd.RDD.iterator(RDD.scala:329)\n",
      "\tat org.apache.spark.rdd.MapPartitionsRDD.compute(MapPartitionsRDD.scala:52)\n",
      "\tat org.apache.spark.rdd.RDD.computeOrReadCheckpoint(RDD.scala:365)\n",
      "\tat org.apache.spark.rdd.RDD.iterator(RDD.scala:329)\n",
      "\tat org.apache.spark.rdd.MapPartitionsRDD.compute(MapPartitionsRDD.scala:52)\n",
      "\tat org.apache.spark.rdd.RDD.computeOrReadCheckpoint(RDD.scala:365)\n",
      "\tat org.apache.spark.rdd.RDD.iterator(RDD.scala:329)\n",
      "\tat org.apache.spark.rdd.MapPartitionsRDD.compute(MapPartitionsRDD.scala:52)\n",
      "\tat org.apache.spark.rdd.RDD.computeOrReadCheckpoint(RDD.scala:365)\n",
      "\tat org.apache.spark.rdd.RDD.iterator(RDD.scala:329)\n",
      "\tat org.apache.spark.rdd.MapPartitionsRDD.compute(MapPartitionsRDD.scala:52)\n",
      "\tat org.apache.spark.rdd.RDD.computeOrReadCheckpoint(RDD.scala:365)\n",
      "\tat org.apache.spark.rdd.RDD.iterator(RDD.scala:329)\n",
      "\tat org.apache.spark.shuffle.ShuffleWriteProcessor.write(ShuffleWriteProcessor.scala:59)\n",
      "\tat org.apache.spark.scheduler.ShuffleMapTask.runTask(ShuffleMapTask.scala:99)\n",
      "\tat org.apache.spark.scheduler.ShuffleMapTask.runTask(ShuffleMapTask.scala:52)\n",
      "\tat org.apache.spark.scheduler.Task.run(Task.scala:136)\n",
      "\tat org.apache.spark.executor.Executor$TaskRunner.$anonfun$run$3(Executor.scala:548)\n",
      "\tat org.apache.spark.util.Utils$.tryWithSafeFinally(Utils.scala:1504)\n",
      "\tat org.apache.spark.executor.Executor$TaskRunner.run(Executor.scala:551)\n",
      "\tat java.util.concurrent.ThreadPoolExecutor.runWorker(ThreadPoolExecutor.java:1149)\n",
      "\tat java.util.concurrent.ThreadPoolExecutor$Worker.run(ThreadPoolExecutor.java:624)\n",
      "\tat java.lang.Thread.run(Thread.java:750)\n"
     ]
    },
    {
     "ename": "Py4JJavaError",
     "evalue": "An error occurred while calling o140031.showString.\n: org.apache.spark.SparkException: Job aborted due to stage failure: Task 39 in stage 47.0 failed 1 times, most recent failure: Lost task 39.0 in stage 47.0 (TID 1837) (ip-172-16-66-18.us-west-2.compute.internal executor driver): java.io.FileNotFoundException: \nNo such file or directory: s3a://sapient-bucket-refined/prod/ecar/medium/event_day=23/event_hour=13/event_minute=22/part-00000-ebd3d2f8-6297-4672-9283-316d7cb49014.c000.snappy.parquet\n\nIt is possible the underlying files have been updated. You can explicitly invalidate\nthe cache in Spark by running 'REFRESH TABLE tableName' command in SQL or by\nrecreating the Dataset/DataFrame involved.\n       \n\tat org.apache.spark.sql.errors.QueryExecutionErrors$.readCurrentFileNotFoundError(QueryExecutionErrors.scala:648)\n\tat org.apache.spark.sql.execution.datasources.FileScanRDD$$anon$1.org$apache$spark$sql$execution$datasources$FileScanRDD$$anon$$readCurrentFile(FileScanRDD.scala:212)\n\tat org.apache.spark.sql.execution.datasources.FileScanRDD$$anon$1.nextIterator(FileScanRDD.scala:270)\n\tat org.apache.spark.sql.execution.datasources.FileScanRDD$$anon$1.hasNext(FileScanRDD.scala:116)\n\tat org.apache.spark.sql.execution.FileSourceScanExec$$anon$1.hasNext(DataSourceScanExec.scala:553)\n\tat org.apache.spark.sql.catalyst.expressions.GeneratedClass$GeneratedIteratorForCodegenStage1.columnartorow_nextBatch_0$(Unknown Source)\n\tat org.apache.spark.sql.catalyst.expressions.GeneratedClass$GeneratedIteratorForCodegenStage1.processNext(Unknown Source)\n\tat org.apache.spark.sql.execution.BufferedRowIterator.hasNext(BufferedRowIterator.java:43)\n\tat org.apache.spark.sql.execution.WholeStageCodegenExec$$anon$1.hasNext(WholeStageCodegenExec.scala:760)\n\tat org.apache.spark.sql.execution.columnar.DefaultCachedBatchSerializer$$anon$1.hasNext(InMemoryRelation.scala:118)\n\tat scala.collection.Iterator$$anon$10.hasNext(Iterator.scala:460)\n\tat org.apache.spark.storage.memory.MemoryStore.putIterator(MemoryStore.scala:223)\n\tat org.apache.spark.storage.memory.MemoryStore.putIteratorAsValues(MemoryStore.scala:302)\n\tat org.apache.spark.storage.BlockManager.$anonfun$doPutIterator$1(BlockManager.scala:1508)\n\tat org.apache.spark.storage.BlockManager.org$apache$spark$storage$BlockManager$$doPut(BlockManager.scala:1435)\n\tat org.apache.spark.storage.BlockManager.doPutIterator(BlockManager.scala:1499)\n\tat org.apache.spark.storage.BlockManager.getOrElseUpdate(BlockManager.scala:1322)\n\tat org.apache.spark.rdd.RDD.getOrCompute(RDD.scala:376)\n\tat org.apache.spark.rdd.RDD.iterator(RDD.scala:327)\n\tat org.apache.spark.rdd.MapPartitionsRDD.compute(MapPartitionsRDD.scala:52)\n\tat org.apache.spark.rdd.RDD.computeOrReadCheckpoint(RDD.scala:365)\n\tat org.apache.spark.rdd.RDD.iterator(RDD.scala:329)\n\tat org.apache.spark.rdd.MapPartitionsRDD.compute(MapPartitionsRDD.scala:52)\n\tat org.apache.spark.rdd.RDD.computeOrReadCheckpoint(RDD.scala:365)\n\tat org.apache.spark.rdd.RDD.iterator(RDD.scala:329)\n\tat org.apache.spark.rdd.MapPartitionsRDD.compute(MapPartitionsRDD.scala:52)\n\tat org.apache.spark.rdd.RDD.computeOrReadCheckpoint(RDD.scala:365)\n\tat org.apache.spark.rdd.RDD.iterator(RDD.scala:329)\n\tat org.apache.spark.rdd.MapPartitionsRDD.compute(MapPartitionsRDD.scala:52)\n\tat org.apache.spark.rdd.RDD.computeOrReadCheckpoint(RDD.scala:365)\n\tat org.apache.spark.rdd.RDD.iterator(RDD.scala:329)\n\tat org.apache.spark.rdd.MapPartitionsRDD.compute(MapPartitionsRDD.scala:52)\n\tat org.apache.spark.rdd.RDD.computeOrReadCheckpoint(RDD.scala:365)\n\tat org.apache.spark.rdd.RDD.iterator(RDD.scala:329)\n\tat org.apache.spark.shuffle.ShuffleWriteProcessor.write(ShuffleWriteProcessor.scala:59)\n\tat org.apache.spark.scheduler.ShuffleMapTask.runTask(ShuffleMapTask.scala:99)\n\tat org.apache.spark.scheduler.ShuffleMapTask.runTask(ShuffleMapTask.scala:52)\n\tat org.apache.spark.scheduler.Task.run(Task.scala:136)\n\tat org.apache.spark.executor.Executor$TaskRunner.$anonfun$run$3(Executor.scala:548)\n\tat org.apache.spark.util.Utils$.tryWithSafeFinally(Utils.scala:1504)\n\tat org.apache.spark.executor.Executor$TaskRunner.run(Executor.scala:551)\n\tat java.util.concurrent.ThreadPoolExecutor.runWorker(ThreadPoolExecutor.java:1149)\n\tat java.util.concurrent.ThreadPoolExecutor$Worker.run(ThreadPoolExecutor.java:624)\n\tat java.lang.Thread.run(Thread.java:750)\n\nDriver stacktrace:\n\tat org.apache.spark.scheduler.DAGScheduler.failJobAndIndependentStages(DAGScheduler.scala:2672)\n\tat org.apache.spark.scheduler.DAGScheduler.$anonfun$abortStage$2(DAGScheduler.scala:2608)\n\tat org.apache.spark.scheduler.DAGScheduler.$anonfun$abortStage$2$adapted(DAGScheduler.scala:2607)\n\tat scala.collection.mutable.ResizableArray.foreach(ResizableArray.scala:62)\n\tat scala.collection.mutable.ResizableArray.foreach$(ResizableArray.scala:55)\n\tat scala.collection.mutable.ArrayBuffer.foreach(ArrayBuffer.scala:49)\n\tat org.apache.spark.scheduler.DAGScheduler.abortStage(DAGScheduler.scala:2607)\n\tat org.apache.spark.scheduler.DAGScheduler.$anonfun$handleTaskSetFailed$1(DAGScheduler.scala:1182)\n\tat org.apache.spark.scheduler.DAGScheduler.$anonfun$handleTaskSetFailed$1$adapted(DAGScheduler.scala:1182)\n\tat scala.Option.foreach(Option.scala:407)\n\tat org.apache.spark.scheduler.DAGScheduler.handleTaskSetFailed(DAGScheduler.scala:1182)\n\tat org.apache.spark.scheduler.DAGSchedulerEventProcessLoop.doOnReceive(DAGScheduler.scala:2860)\n\tat org.apache.spark.scheduler.DAGSchedulerEventProcessLoop.onReceive(DAGScheduler.scala:2802)\n\tat org.apache.spark.scheduler.DAGSchedulerEventProcessLoop.onReceive(DAGScheduler.scala:2791)\n\tat org.apache.spark.util.EventLoop$$anon$1.run(EventLoop.scala:49)\nCaused by: java.io.FileNotFoundException: \nNo such file or directory: s3a://sapient-bucket-refined/prod/ecar/medium/event_day=23/event_hour=13/event_minute=22/part-00000-ebd3d2f8-6297-4672-9283-316d7cb49014.c000.snappy.parquet\n\nIt is possible the underlying files have been updated. You can explicitly invalidate\nthe cache in Spark by running 'REFRESH TABLE tableName' command in SQL or by\nrecreating the Dataset/DataFrame involved.\n       \n\tat org.apache.spark.sql.errors.QueryExecutionErrors$.readCurrentFileNotFoundError(QueryExecutionErrors.scala:648)\n\tat org.apache.spark.sql.execution.datasources.FileScanRDD$$anon$1.org$apache$spark$sql$execution$datasources$FileScanRDD$$anon$$readCurrentFile(FileScanRDD.scala:212)\n\tat org.apache.spark.sql.execution.datasources.FileScanRDD$$anon$1.nextIterator(FileScanRDD.scala:270)\n\tat org.apache.spark.sql.execution.datasources.FileScanRDD$$anon$1.hasNext(FileScanRDD.scala:116)\n\tat org.apache.spark.sql.execution.FileSourceScanExec$$anon$1.hasNext(DataSourceScanExec.scala:553)\n\tat org.apache.spark.sql.catalyst.expressions.GeneratedClass$GeneratedIteratorForCodegenStage1.columnartorow_nextBatch_0$(Unknown Source)\n\tat org.apache.spark.sql.catalyst.expressions.GeneratedClass$GeneratedIteratorForCodegenStage1.processNext(Unknown Source)\n\tat org.apache.spark.sql.execution.BufferedRowIterator.hasNext(BufferedRowIterator.java:43)\n\tat org.apache.spark.sql.execution.WholeStageCodegenExec$$anon$1.hasNext(WholeStageCodegenExec.scala:760)\n\tat org.apache.spark.sql.execution.columnar.DefaultCachedBatchSerializer$$anon$1.hasNext(InMemoryRelation.scala:118)\n\tat scala.collection.Iterator$$anon$10.hasNext(Iterator.scala:460)\n\tat org.apache.spark.storage.memory.MemoryStore.putIterator(MemoryStore.scala:223)\n\tat org.apache.spark.storage.memory.MemoryStore.putIteratorAsValues(MemoryStore.scala:302)\n\tat org.apache.spark.storage.BlockManager.$anonfun$doPutIterator$1(BlockManager.scala:1508)\n\tat org.apache.spark.storage.BlockManager.org$apache$spark$storage$BlockManager$$doPut(BlockManager.scala:1435)\n\tat org.apache.spark.storage.BlockManager.doPutIterator(BlockManager.scala:1499)\n\tat org.apache.spark.storage.BlockManager.getOrElseUpdate(BlockManager.scala:1322)\n\tat org.apache.spark.rdd.RDD.getOrCompute(RDD.scala:376)\n\tat org.apache.spark.rdd.RDD.iterator(RDD.scala:327)\n\tat org.apache.spark.rdd.MapPartitionsRDD.compute(MapPartitionsRDD.scala:52)\n\tat org.apache.spark.rdd.RDD.computeOrReadCheckpoint(RDD.scala:365)\n\tat org.apache.spark.rdd.RDD.iterator(RDD.scala:329)\n\tat org.apache.spark.rdd.MapPartitionsRDD.compute(MapPartitionsRDD.scala:52)\n\tat org.apache.spark.rdd.RDD.computeOrReadCheckpoint(RDD.scala:365)\n\tat org.apache.spark.rdd.RDD.iterator(RDD.scala:329)\n\tat org.apache.spark.rdd.MapPartitionsRDD.compute(MapPartitionsRDD.scala:52)\n\tat org.apache.spark.rdd.RDD.computeOrReadCheckpoint(RDD.scala:365)\n\tat org.apache.spark.rdd.RDD.iterator(RDD.scala:329)\n\tat org.apache.spark.rdd.MapPartitionsRDD.compute(MapPartitionsRDD.scala:52)\n\tat org.apache.spark.rdd.RDD.computeOrReadCheckpoint(RDD.scala:365)\n\tat org.apache.spark.rdd.RDD.iterator(RDD.scala:329)\n\tat org.apache.spark.rdd.MapPartitionsRDD.compute(MapPartitionsRDD.scala:52)\n\tat org.apache.spark.rdd.RDD.computeOrReadCheckpoint(RDD.scala:365)\n\tat org.apache.spark.rdd.RDD.iterator(RDD.scala:329)\n\tat org.apache.spark.shuffle.ShuffleWriteProcessor.write(ShuffleWriteProcessor.scala:59)\n\tat org.apache.spark.scheduler.ShuffleMapTask.runTask(ShuffleMapTask.scala:99)\n\tat org.apache.spark.scheduler.ShuffleMapTask.runTask(ShuffleMapTask.scala:52)\n\tat org.apache.spark.scheduler.Task.run(Task.scala:136)\n\tat org.apache.spark.executor.Executor$TaskRunner.$anonfun$run$3(Executor.scala:548)\n\tat org.apache.spark.util.Utils$.tryWithSafeFinally(Utils.scala:1504)\n\tat org.apache.spark.executor.Executor$TaskRunner.run(Executor.scala:551)\n\tat java.util.concurrent.ThreadPoolExecutor.runWorker(ThreadPoolExecutor.java:1149)\n\tat java.util.concurrent.ThreadPoolExecutor$Worker.run(ThreadPoolExecutor.java:624)\n\tat java.lang.Thread.run(Thread.java:750)\n",
     "output_type": "error",
     "traceback": [
      "\u001b[0;31m---------------------------------------------------------------------------\u001b[0m",
      "\u001b[0;31mPy4JJavaError\u001b[0m                             Traceback (most recent call last)",
      "Cell \u001b[0;32mIn[28], line 3\u001b[0m\n\u001b[1;32m      1\u001b[0m \u001b[38;5;66;03m# display the vertices\u001b[39;00m\n\u001b[1;32m      2\u001b[0m \u001b[38;5;28mprint\u001b[39m(\u001b[38;5;124m\"\u001b[39m\u001b[38;5;124mVertices:\u001b[39m\u001b[38;5;124m\"\u001b[39m)\n\u001b[0;32m----> 3\u001b[0m \u001b[43mg\u001b[49m\u001b[38;5;241;43m.\u001b[39;49m\u001b[43mvertices\u001b[49m\u001b[38;5;241;43m.\u001b[39;49m\u001b[43mshow\u001b[49m\u001b[43m(\u001b[49m\u001b[43m)\u001b[49m\n\u001b[1;32m      5\u001b[0m \u001b[38;5;66;03m# display the edges\u001b[39;00m\n\u001b[1;32m      6\u001b[0m \u001b[38;5;28mprint\u001b[39m(\u001b[38;5;124m\"\u001b[39m\u001b[38;5;124mEdges:\u001b[39m\u001b[38;5;124m\"\u001b[39m)\n",
      "File \u001b[0;32m~/anaconda3/envs/python3/lib/python3.10/site-packages/pyspark/sql/dataframe.py:606\u001b[0m, in \u001b[0;36mDataFrame.show\u001b[0;34m(self, n, truncate, vertical)\u001b[0m\n\u001b[1;32m    603\u001b[0m     \u001b[38;5;28;01mraise\u001b[39;00m \u001b[38;5;167;01mTypeError\u001b[39;00m(\u001b[38;5;124m\"\u001b[39m\u001b[38;5;124mParameter \u001b[39m\u001b[38;5;124m'\u001b[39m\u001b[38;5;124mvertical\u001b[39m\u001b[38;5;124m'\u001b[39m\u001b[38;5;124m must be a bool\u001b[39m\u001b[38;5;124m\"\u001b[39m)\n\u001b[1;32m    605\u001b[0m \u001b[38;5;28;01mif\u001b[39;00m \u001b[38;5;28misinstance\u001b[39m(truncate, \u001b[38;5;28mbool\u001b[39m) \u001b[38;5;129;01mand\u001b[39;00m truncate:\n\u001b[0;32m--> 606\u001b[0m     \u001b[38;5;28mprint\u001b[39m(\u001b[38;5;28;43mself\u001b[39;49m\u001b[38;5;241;43m.\u001b[39;49m\u001b[43m_jdf\u001b[49m\u001b[38;5;241;43m.\u001b[39;49m\u001b[43mshowString\u001b[49m\u001b[43m(\u001b[49m\u001b[43mn\u001b[49m\u001b[43m,\u001b[49m\u001b[43m \u001b[49m\u001b[38;5;241;43m20\u001b[39;49m\u001b[43m,\u001b[49m\u001b[43m \u001b[49m\u001b[43mvertical\u001b[49m\u001b[43m)\u001b[49m)\n\u001b[1;32m    607\u001b[0m \u001b[38;5;28;01melse\u001b[39;00m:\n\u001b[1;32m    608\u001b[0m     \u001b[38;5;28;01mtry\u001b[39;00m:\n",
      "File \u001b[0;32m~/anaconda3/envs/python3/lib/python3.10/site-packages/py4j/java_gateway.py:1321\u001b[0m, in \u001b[0;36mJavaMember.__call__\u001b[0;34m(self, *args)\u001b[0m\n\u001b[1;32m   1315\u001b[0m command \u001b[38;5;241m=\u001b[39m proto\u001b[38;5;241m.\u001b[39mCALL_COMMAND_NAME \u001b[38;5;241m+\u001b[39m\\\n\u001b[1;32m   1316\u001b[0m     \u001b[38;5;28mself\u001b[39m\u001b[38;5;241m.\u001b[39mcommand_header \u001b[38;5;241m+\u001b[39m\\\n\u001b[1;32m   1317\u001b[0m     args_command \u001b[38;5;241m+\u001b[39m\\\n\u001b[1;32m   1318\u001b[0m     proto\u001b[38;5;241m.\u001b[39mEND_COMMAND_PART\n\u001b[1;32m   1320\u001b[0m answer \u001b[38;5;241m=\u001b[39m \u001b[38;5;28mself\u001b[39m\u001b[38;5;241m.\u001b[39mgateway_client\u001b[38;5;241m.\u001b[39msend_command(command)\n\u001b[0;32m-> 1321\u001b[0m return_value \u001b[38;5;241m=\u001b[39m \u001b[43mget_return_value\u001b[49m\u001b[43m(\u001b[49m\n\u001b[1;32m   1322\u001b[0m \u001b[43m    \u001b[49m\u001b[43manswer\u001b[49m\u001b[43m,\u001b[49m\u001b[43m \u001b[49m\u001b[38;5;28;43mself\u001b[39;49m\u001b[38;5;241;43m.\u001b[39;49m\u001b[43mgateway_client\u001b[49m\u001b[43m,\u001b[49m\u001b[43m \u001b[49m\u001b[38;5;28;43mself\u001b[39;49m\u001b[38;5;241;43m.\u001b[39;49m\u001b[43mtarget_id\u001b[49m\u001b[43m,\u001b[49m\u001b[43m \u001b[49m\u001b[38;5;28;43mself\u001b[39;49m\u001b[38;5;241;43m.\u001b[39;49m\u001b[43mname\u001b[49m\u001b[43m)\u001b[49m\n\u001b[1;32m   1324\u001b[0m \u001b[38;5;28;01mfor\u001b[39;00m temp_arg \u001b[38;5;129;01min\u001b[39;00m temp_args:\n\u001b[1;32m   1325\u001b[0m     temp_arg\u001b[38;5;241m.\u001b[39m_detach()\n",
      "File \u001b[0;32m~/anaconda3/envs/python3/lib/python3.10/site-packages/pyspark/sql/utils.py:190\u001b[0m, in \u001b[0;36mcapture_sql_exception.<locals>.deco\u001b[0;34m(*a, **kw)\u001b[0m\n\u001b[1;32m    188\u001b[0m \u001b[38;5;28;01mdef\u001b[39;00m \u001b[38;5;21mdeco\u001b[39m(\u001b[38;5;241m*\u001b[39ma: Any, \u001b[38;5;241m*\u001b[39m\u001b[38;5;241m*\u001b[39mkw: Any) \u001b[38;5;241m-\u001b[39m\u001b[38;5;241m>\u001b[39m Any:\n\u001b[1;32m    189\u001b[0m     \u001b[38;5;28;01mtry\u001b[39;00m:\n\u001b[0;32m--> 190\u001b[0m         \u001b[38;5;28;01mreturn\u001b[39;00m \u001b[43mf\u001b[49m\u001b[43m(\u001b[49m\u001b[38;5;241;43m*\u001b[39;49m\u001b[43ma\u001b[49m\u001b[43m,\u001b[49m\u001b[43m \u001b[49m\u001b[38;5;241;43m*\u001b[39;49m\u001b[38;5;241;43m*\u001b[39;49m\u001b[43mkw\u001b[49m\u001b[43m)\u001b[49m\n\u001b[1;32m    191\u001b[0m     \u001b[38;5;28;01mexcept\u001b[39;00m Py4JJavaError \u001b[38;5;28;01mas\u001b[39;00m e:\n\u001b[1;32m    192\u001b[0m         converted \u001b[38;5;241m=\u001b[39m convert_exception(e\u001b[38;5;241m.\u001b[39mjava_exception)\n",
      "File \u001b[0;32m~/anaconda3/envs/python3/lib/python3.10/site-packages/py4j/protocol.py:326\u001b[0m, in \u001b[0;36mget_return_value\u001b[0;34m(answer, gateway_client, target_id, name)\u001b[0m\n\u001b[1;32m    324\u001b[0m value \u001b[38;5;241m=\u001b[39m OUTPUT_CONVERTER[\u001b[38;5;28mtype\u001b[39m](answer[\u001b[38;5;241m2\u001b[39m:], gateway_client)\n\u001b[1;32m    325\u001b[0m \u001b[38;5;28;01mif\u001b[39;00m answer[\u001b[38;5;241m1\u001b[39m] \u001b[38;5;241m==\u001b[39m REFERENCE_TYPE:\n\u001b[0;32m--> 326\u001b[0m     \u001b[38;5;28;01mraise\u001b[39;00m Py4JJavaError(\n\u001b[1;32m    327\u001b[0m         \u001b[38;5;124m\"\u001b[39m\u001b[38;5;124mAn error occurred while calling \u001b[39m\u001b[38;5;132;01m{0}\u001b[39;00m\u001b[38;5;132;01m{1}\u001b[39;00m\u001b[38;5;132;01m{2}\u001b[39;00m\u001b[38;5;124m.\u001b[39m\u001b[38;5;130;01m\\n\u001b[39;00m\u001b[38;5;124m\"\u001b[39m\u001b[38;5;241m.\u001b[39m\n\u001b[1;32m    328\u001b[0m         \u001b[38;5;28mformat\u001b[39m(target_id, \u001b[38;5;124m\"\u001b[39m\u001b[38;5;124m.\u001b[39m\u001b[38;5;124m\"\u001b[39m, name), value)\n\u001b[1;32m    329\u001b[0m \u001b[38;5;28;01melse\u001b[39;00m:\n\u001b[1;32m    330\u001b[0m     \u001b[38;5;28;01mraise\u001b[39;00m Py4JError(\n\u001b[1;32m    331\u001b[0m         \u001b[38;5;124m\"\u001b[39m\u001b[38;5;124mAn error occurred while calling \u001b[39m\u001b[38;5;132;01m{0}\u001b[39;00m\u001b[38;5;132;01m{1}\u001b[39;00m\u001b[38;5;132;01m{2}\u001b[39;00m\u001b[38;5;124m. Trace:\u001b[39m\u001b[38;5;130;01m\\n\u001b[39;00m\u001b[38;5;132;01m{3}\u001b[39;00m\u001b[38;5;130;01m\\n\u001b[39;00m\u001b[38;5;124m\"\u001b[39m\u001b[38;5;241m.\u001b[39m\n\u001b[1;32m    332\u001b[0m         \u001b[38;5;28mformat\u001b[39m(target_id, \u001b[38;5;124m\"\u001b[39m\u001b[38;5;124m.\u001b[39m\u001b[38;5;124m\"\u001b[39m, name, value))\n",
      "\u001b[0;31mPy4JJavaError\u001b[0m: An error occurred while calling o140031.showString.\n: org.apache.spark.SparkException: Job aborted due to stage failure: Task 39 in stage 47.0 failed 1 times, most recent failure: Lost task 39.0 in stage 47.0 (TID 1837) (ip-172-16-66-18.us-west-2.compute.internal executor driver): java.io.FileNotFoundException: \nNo such file or directory: s3a://sapient-bucket-refined/prod/ecar/medium/event_day=23/event_hour=13/event_minute=22/part-00000-ebd3d2f8-6297-4672-9283-316d7cb49014.c000.snappy.parquet\n\nIt is possible the underlying files have been updated. You can explicitly invalidate\nthe cache in Spark by running 'REFRESH TABLE tableName' command in SQL or by\nrecreating the Dataset/DataFrame involved.\n       \n\tat org.apache.spark.sql.errors.QueryExecutionErrors$.readCurrentFileNotFoundError(QueryExecutionErrors.scala:648)\n\tat org.apache.spark.sql.execution.datasources.FileScanRDD$$anon$1.org$apache$spark$sql$execution$datasources$FileScanRDD$$anon$$readCurrentFile(FileScanRDD.scala:212)\n\tat org.apache.spark.sql.execution.datasources.FileScanRDD$$anon$1.nextIterator(FileScanRDD.scala:270)\n\tat org.apache.spark.sql.execution.datasources.FileScanRDD$$anon$1.hasNext(FileScanRDD.scala:116)\n\tat org.apache.spark.sql.execution.FileSourceScanExec$$anon$1.hasNext(DataSourceScanExec.scala:553)\n\tat org.apache.spark.sql.catalyst.expressions.GeneratedClass$GeneratedIteratorForCodegenStage1.columnartorow_nextBatch_0$(Unknown Source)\n\tat org.apache.spark.sql.catalyst.expressions.GeneratedClass$GeneratedIteratorForCodegenStage1.processNext(Unknown Source)\n\tat org.apache.spark.sql.execution.BufferedRowIterator.hasNext(BufferedRowIterator.java:43)\n\tat org.apache.spark.sql.execution.WholeStageCodegenExec$$anon$1.hasNext(WholeStageCodegenExec.scala:760)\n\tat org.apache.spark.sql.execution.columnar.DefaultCachedBatchSerializer$$anon$1.hasNext(InMemoryRelation.scala:118)\n\tat scala.collection.Iterator$$anon$10.hasNext(Iterator.scala:460)\n\tat org.apache.spark.storage.memory.MemoryStore.putIterator(MemoryStore.scala:223)\n\tat org.apache.spark.storage.memory.MemoryStore.putIteratorAsValues(MemoryStore.scala:302)\n\tat org.apache.spark.storage.BlockManager.$anonfun$doPutIterator$1(BlockManager.scala:1508)\n\tat org.apache.spark.storage.BlockManager.org$apache$spark$storage$BlockManager$$doPut(BlockManager.scala:1435)\n\tat org.apache.spark.storage.BlockManager.doPutIterator(BlockManager.scala:1499)\n\tat org.apache.spark.storage.BlockManager.getOrElseUpdate(BlockManager.scala:1322)\n\tat org.apache.spark.rdd.RDD.getOrCompute(RDD.scala:376)\n\tat org.apache.spark.rdd.RDD.iterator(RDD.scala:327)\n\tat org.apache.spark.rdd.MapPartitionsRDD.compute(MapPartitionsRDD.scala:52)\n\tat org.apache.spark.rdd.RDD.computeOrReadCheckpoint(RDD.scala:365)\n\tat org.apache.spark.rdd.RDD.iterator(RDD.scala:329)\n\tat org.apache.spark.rdd.MapPartitionsRDD.compute(MapPartitionsRDD.scala:52)\n\tat org.apache.spark.rdd.RDD.computeOrReadCheckpoint(RDD.scala:365)\n\tat org.apache.spark.rdd.RDD.iterator(RDD.scala:329)\n\tat org.apache.spark.rdd.MapPartitionsRDD.compute(MapPartitionsRDD.scala:52)\n\tat org.apache.spark.rdd.RDD.computeOrReadCheckpoint(RDD.scala:365)\n\tat org.apache.spark.rdd.RDD.iterator(RDD.scala:329)\n\tat org.apache.spark.rdd.MapPartitionsRDD.compute(MapPartitionsRDD.scala:52)\n\tat org.apache.spark.rdd.RDD.computeOrReadCheckpoint(RDD.scala:365)\n\tat org.apache.spark.rdd.RDD.iterator(RDD.scala:329)\n\tat org.apache.spark.rdd.MapPartitionsRDD.compute(MapPartitionsRDD.scala:52)\n\tat org.apache.spark.rdd.RDD.computeOrReadCheckpoint(RDD.scala:365)\n\tat org.apache.spark.rdd.RDD.iterator(RDD.scala:329)\n\tat org.apache.spark.shuffle.ShuffleWriteProcessor.write(ShuffleWriteProcessor.scala:59)\n\tat org.apache.spark.scheduler.ShuffleMapTask.runTask(ShuffleMapTask.scala:99)\n\tat org.apache.spark.scheduler.ShuffleMapTask.runTask(ShuffleMapTask.scala:52)\n\tat org.apache.spark.scheduler.Task.run(Task.scala:136)\n\tat org.apache.spark.executor.Executor$TaskRunner.$anonfun$run$3(Executor.scala:548)\n\tat org.apache.spark.util.Utils$.tryWithSafeFinally(Utils.scala:1504)\n\tat org.apache.spark.executor.Executor$TaskRunner.run(Executor.scala:551)\n\tat java.util.concurrent.ThreadPoolExecutor.runWorker(ThreadPoolExecutor.java:1149)\n\tat java.util.concurrent.ThreadPoolExecutor$Worker.run(ThreadPoolExecutor.java:624)\n\tat java.lang.Thread.run(Thread.java:750)\n\nDriver stacktrace:\n\tat org.apache.spark.scheduler.DAGScheduler.failJobAndIndependentStages(DAGScheduler.scala:2672)\n\tat org.apache.spark.scheduler.DAGScheduler.$anonfun$abortStage$2(DAGScheduler.scala:2608)\n\tat org.apache.spark.scheduler.DAGScheduler.$anonfun$abortStage$2$adapted(DAGScheduler.scala:2607)\n\tat scala.collection.mutable.ResizableArray.foreach(ResizableArray.scala:62)\n\tat scala.collection.mutable.ResizableArray.foreach$(ResizableArray.scala:55)\n\tat scala.collection.mutable.ArrayBuffer.foreach(ArrayBuffer.scala:49)\n\tat org.apache.spark.scheduler.DAGScheduler.abortStage(DAGScheduler.scala:2607)\n\tat org.apache.spark.scheduler.DAGScheduler.$anonfun$handleTaskSetFailed$1(DAGScheduler.scala:1182)\n\tat org.apache.spark.scheduler.DAGScheduler.$anonfun$handleTaskSetFailed$1$adapted(DAGScheduler.scala:1182)\n\tat scala.Option.foreach(Option.scala:407)\n\tat org.apache.spark.scheduler.DAGScheduler.handleTaskSetFailed(DAGScheduler.scala:1182)\n\tat org.apache.spark.scheduler.DAGSchedulerEventProcessLoop.doOnReceive(DAGScheduler.scala:2860)\n\tat org.apache.spark.scheduler.DAGSchedulerEventProcessLoop.onReceive(DAGScheduler.scala:2802)\n\tat org.apache.spark.scheduler.DAGSchedulerEventProcessLoop.onReceive(DAGScheduler.scala:2791)\n\tat org.apache.spark.util.EventLoop$$anon$1.run(EventLoop.scala:49)\nCaused by: java.io.FileNotFoundException: \nNo such file or directory: s3a://sapient-bucket-refined/prod/ecar/medium/event_day=23/event_hour=13/event_minute=22/part-00000-ebd3d2f8-6297-4672-9283-316d7cb49014.c000.snappy.parquet\n\nIt is possible the underlying files have been updated. You can explicitly invalidate\nthe cache in Spark by running 'REFRESH TABLE tableName' command in SQL or by\nrecreating the Dataset/DataFrame involved.\n       \n\tat org.apache.spark.sql.errors.QueryExecutionErrors$.readCurrentFileNotFoundError(QueryExecutionErrors.scala:648)\n\tat org.apache.spark.sql.execution.datasources.FileScanRDD$$anon$1.org$apache$spark$sql$execution$datasources$FileScanRDD$$anon$$readCurrentFile(FileScanRDD.scala:212)\n\tat org.apache.spark.sql.execution.datasources.FileScanRDD$$anon$1.nextIterator(FileScanRDD.scala:270)\n\tat org.apache.spark.sql.execution.datasources.FileScanRDD$$anon$1.hasNext(FileScanRDD.scala:116)\n\tat org.apache.spark.sql.execution.FileSourceScanExec$$anon$1.hasNext(DataSourceScanExec.scala:553)\n\tat org.apache.spark.sql.catalyst.expressions.GeneratedClass$GeneratedIteratorForCodegenStage1.columnartorow_nextBatch_0$(Unknown Source)\n\tat org.apache.spark.sql.catalyst.expressions.GeneratedClass$GeneratedIteratorForCodegenStage1.processNext(Unknown Source)\n\tat org.apache.spark.sql.execution.BufferedRowIterator.hasNext(BufferedRowIterator.java:43)\n\tat org.apache.spark.sql.execution.WholeStageCodegenExec$$anon$1.hasNext(WholeStageCodegenExec.scala:760)\n\tat org.apache.spark.sql.execution.columnar.DefaultCachedBatchSerializer$$anon$1.hasNext(InMemoryRelation.scala:118)\n\tat scala.collection.Iterator$$anon$10.hasNext(Iterator.scala:460)\n\tat org.apache.spark.storage.memory.MemoryStore.putIterator(MemoryStore.scala:223)\n\tat org.apache.spark.storage.memory.MemoryStore.putIteratorAsValues(MemoryStore.scala:302)\n\tat org.apache.spark.storage.BlockManager.$anonfun$doPutIterator$1(BlockManager.scala:1508)\n\tat org.apache.spark.storage.BlockManager.org$apache$spark$storage$BlockManager$$doPut(BlockManager.scala:1435)\n\tat org.apache.spark.storage.BlockManager.doPutIterator(BlockManager.scala:1499)\n\tat org.apache.spark.storage.BlockManager.getOrElseUpdate(BlockManager.scala:1322)\n\tat org.apache.spark.rdd.RDD.getOrCompute(RDD.scala:376)\n\tat org.apache.spark.rdd.RDD.iterator(RDD.scala:327)\n\tat org.apache.spark.rdd.MapPartitionsRDD.compute(MapPartitionsRDD.scala:52)\n\tat org.apache.spark.rdd.RDD.computeOrReadCheckpoint(RDD.scala:365)\n\tat org.apache.spark.rdd.RDD.iterator(RDD.scala:329)\n\tat org.apache.spark.rdd.MapPartitionsRDD.compute(MapPartitionsRDD.scala:52)\n\tat org.apache.spark.rdd.RDD.computeOrReadCheckpoint(RDD.scala:365)\n\tat org.apache.spark.rdd.RDD.iterator(RDD.scala:329)\n\tat org.apache.spark.rdd.MapPartitionsRDD.compute(MapPartitionsRDD.scala:52)\n\tat org.apache.spark.rdd.RDD.computeOrReadCheckpoint(RDD.scala:365)\n\tat org.apache.spark.rdd.RDD.iterator(RDD.scala:329)\n\tat org.apache.spark.rdd.MapPartitionsRDD.compute(MapPartitionsRDD.scala:52)\n\tat org.apache.spark.rdd.RDD.computeOrReadCheckpoint(RDD.scala:365)\n\tat org.apache.spark.rdd.RDD.iterator(RDD.scala:329)\n\tat org.apache.spark.rdd.MapPartitionsRDD.compute(MapPartitionsRDD.scala:52)\n\tat org.apache.spark.rdd.RDD.computeOrReadCheckpoint(RDD.scala:365)\n\tat org.apache.spark.rdd.RDD.iterator(RDD.scala:329)\n\tat org.apache.spark.shuffle.ShuffleWriteProcessor.write(ShuffleWriteProcessor.scala:59)\n\tat org.apache.spark.scheduler.ShuffleMapTask.runTask(ShuffleMapTask.scala:99)\n\tat org.apache.spark.scheduler.ShuffleMapTask.runTask(ShuffleMapTask.scala:52)\n\tat org.apache.spark.scheduler.Task.run(Task.scala:136)\n\tat org.apache.spark.executor.Executor$TaskRunner.$anonfun$run$3(Executor.scala:548)\n\tat org.apache.spark.util.Utils$.tryWithSafeFinally(Utils.scala:1504)\n\tat org.apache.spark.executor.Executor$TaskRunner.run(Executor.scala:551)\n\tat java.util.concurrent.ThreadPoolExecutor.runWorker(ThreadPoolExecutor.java:1149)\n\tat java.util.concurrent.ThreadPoolExecutor$Worker.run(ThreadPoolExecutor.java:624)\n\tat java.lang.Thread.run(Thread.java:750)\n"
     ]
    }
   ],
   "source": [
    "# display the vertices\n",
    "print(\"Vertices:\")\n",
    "g.vertices.show()\n",
    "\n",
    "# display the edges\n",
    "print(\"Edges:\")\n",
    "g.edges.show()"
   ]
  },
  {
   "cell_type": "code",
   "execution_count": null,
   "id": "733f5da0-4e5a-4c0c-8294-01b82ce264ed",
   "metadata": {
    "tags": []
   },
   "outputs": [],
   "source": [
    "g.inDegrees.show()"
   ]
  },
  {
   "cell_type": "code",
   "execution_count": 9,
   "id": "ca80cb4e-6bae-4c44-8163-ab51b383636f",
   "metadata": {
    "tags": []
   },
   "outputs": [
    {
     "name": "stderr",
     "output_type": "stream",
     "text": [
      "/home/ec2-user/anaconda3/envs/python3/lib/python3.10/site-packages/networkx/drawing/layout.py:548: RuntimeWarning: divide by zero encountered in true_divide\n",
      "  \"ijk,ij->ik\", delta, (k * k / distance**2 - A * distance / k)\n"
     ]
    },
    {
     "data": {
      "image/png": "[encoded data removed]",
      "text/plain": [
       "<Figure size 640x480 with 1 Axes>"
      ]
     },
     "metadata": {},
     "output_type": "display_data"
    }
   ],
   "source": [
    "# Stackoverflow: https://stackoverflow.com/questions/54204062/how-to-display-visualize-a-graph-created-by-graphframe\n",
    "\n",
    "import networkx as nx\n",
    "from graphframes import GraphFrame\n",
    "\n",
    "def PlotGraph(edge_list):\n",
    "    Gplot=nx.Graph()\n",
    "    for row in edge_list.select('src','dst').take(10):\n",
    "        Gplot.add_edge(row['src'],row['dst'])\n",
    "\n",
    "    plt.subplot(121)\n",
    "    nx.draw(Gplot)\n",
    "    \n",
    "    \n",
    "PlotGraph(g.edges)"
   ]
  },
  {
   "cell_type": "code",
   "execution_count": null,
   "id": "6259fb3e-404a-483b-8900-8730b1caf6b5",
   "metadata": {
    "tags": []
   },
   "outputs": [
    {
     "name": "stderr",
     "output_type": "stream",
     "text": [
      "/home/ec2-user/anaconda3/envs/python3/lib/python3.10/site-packages/pyspark/sql/pandas/conversion.py:248: FutureWarning: Passing unit-less datetime64 dtype to .astype is deprecated and will raise in a future version. Pass 'datetime64[ns]' instead\n",
      "  series = series.astype(t, copy=False)\n",
      "/home/ec2-user/anaconda3/envs/python3/lib/python3.10/site-packages/networkx/drawing/layout.py:625: RuntimeWarning: divide by zero encountered in true_divide\n",
      "  delta * (k * k / distance**2 - Ai * distance / k)\n"
     ]
    }
   ],
   "source": [
    "import networkx as nx\n",
    "import matplotlib.pyplot as plt\n",
    "\n",
    "# Get vertices and edges DataFrames\n",
    "vertices = g.vertices.toPandas()\n",
    "edges = g.edges.toPandas()\n",
    "\n",
    "# Convert vertices and edges DataFrames to NetworkX graph\n",
    "nx_graph = nx.from_pandas_edgelist(edges, 'src', 'dst', create_using=nx.DiGraph())\n",
    "nx_graph.add_nodes_from(vertices['id'])\n",
    "\n",
    "# Draw the graph using Matplotlib\n",
    "pos = nx.spring_layout(nx_graph)\n",
    "nx.draw(nx_graph, pos, with_labels=True)\n",
    "plt.show()"
   ]
  },
  {
   "cell_type": "markdown",
   "id": "2a6d30bf-5a6c-4321-9514-ac17dbea15db",
   "metadata": {},
   "source": [
    "#### Build Agency Graph"
   ]
  },
  {
   "cell_type": "code",
   "execution_count": 4,
   "id": "7ef6fadf-b895-45dd-b9e5-820c868e0ef4",
   "metadata": {
    "tags": []
   },
   "outputs": [],
   "source": [
    "%run ./read_file.ipynb "
   ]
  },
  {
   "cell_type": "code",
   "execution_count": 5,
   "id": "d3061bb6-6577-46f6-918a-9626dd31d280",
   "metadata": {
    "tags": []
   },
   "outputs": [],
   "source": [
    "def build_adjaceny(df, dataset = 'ecar'):\n",
    "    \n",
    "    start_time = time.time()\n",
    "    \n",
    "    if dataset == 'labels':\n",
    "        df = df.sort(col(\"ts2\").asc())\n",
    "    else : \n",
    "        #first step sort the data and check\n",
    "        df = df.sort(col(\"timestamp\").asc())\n",
    "    \n",
    "    #now get overlapping connections\n",
    "\n",
    "    #build collections of each type of ID\n",
    "    #TODO make this one select statement\n",
    "    col_objID = df.select(\"objectID\").distinct().collect()\n",
    "    col_actID = df.select(\"actorID\").distinct().collect()\n",
    "    \n",
    "    print(len(col_actID))\n",
    "\n",
    "    #put these columns into a dictionary and turn into a spark data frame\n",
    "    data = [{\"actorIDs\" : [row.actorID for row in col_actID], \\\n",
    "                   \"objectIDs\" : [row.objectID for row in col_objID]}]\n",
    "\n",
    "    id_intersect = spark.createDataFrame(data)\n",
    "\n",
    "    #compare ID pools to find actIDs that are nodes\n",
    "    id_intersect = id_intersect.withColumn(\"id_int\", \\\n",
    "                                           array_intersect(col(\"actorIDs\"),col(\"objectIDs\")))\n",
    "\n",
    "    #now build a list of the nodal actIDs and print the length\n",
    "    actIDs = [row.id_int for row in id_intersect.select(\"id_int\").collect()][0]\n",
    "    \n",
    "    print(\"length actIDs: \"+str(len(actIDs)))\n",
    "    print(\"elapsed time: \"+ str(time.time() - start_time))\n",
    "    #create ref dict\n",
    "    dict_node_edge_events = {}\n",
    "    count = 0 \n",
    "    \n",
    "    #for all actors in actIDs\n",
    "    for aID in actIDs: \n",
    "        \n",
    "        birth_event = df.where((col(\"objectID\") == aID) \\\n",
    "                               & (col(\"actorID\")!= aID)).limit(1).collect()\n",
    "        \n",
    "        if len(birth_event) > 0: \n",
    "            first_id = birth_event[0]['id']\n",
    "\n",
    "            #now add this to the dictionary as a key\n",
    "            first_event = str(aID+':'+first_id)\n",
    "            dict_node_edge_events[first_event] = []\n",
    "\n",
    "            #now add all the events where the actorID is present but not the objectID, group by unique object ID\n",
    "            #and pull out the first event - and I checked and believe the sorting holds through grouping\n",
    "            col_select_children_events = df.select('objectID','id')\\\n",
    "            .where((col(\"actorID\") == aID) & \\\n",
    "                     (col(\"objectID\") != aID)).groupBy(\"objectID\").agg(first(\"id\")).collect() \n",
    "\n",
    "            #add children objects into dictioinary \n",
    "            dict_node_edge_events[first_event] = [str(row[\"objectID\"]+':'+row[\"first(id)\"]) for row in col_select_children_events]\n",
    "        else:\n",
    "            count += 1\n",
    "    \n",
    "    print(\"no birth event for \" + str(count)+\" events.\")\n",
    "    \n",
    "    # create a list of tuples from the dictionary\n",
    "    data_list = list(dict_node_edge_events.items())\n",
    "\n",
    "    # convert the list of tuples to a PySpark RDD\n",
    "    data_rdd = spark.sparkContext.parallelize(data_list)\n",
    "\n",
    "    # create a PySpark DataFrame from the RDD\n",
    "    df_final = data_rdd.toDF()\n",
    "    \n",
    "    #explode list into column, keeping position for some sort of rank just in case\n",
    "    df_final_exp = df_final.select(\"_1\",posexplode(\"_2\"))\n",
    "    df_final_exp_col = df_final_exp.selectExpr(\"_1 as parent\", \"pos as order\", \"col as child\")\n",
    "    \n",
    "    print(\"elapsed time 2: \"+ str(time.time() - start_time))\n",
    "    return df_final_exp_col"
   ]
  },
  {
   "cell_type": "code",
   "execution_count": 6,
   "id": "f5c7bff6-d12f-4c06-bfab-15d47d16d332",
   "metadata": {
    "tags": []
   },
   "outputs": [
    {
     "name": "stderr",
     "output_type": "stream",
     "text": [
      "                                                                                \r"
     ]
    },
    {
     "name": "stdout",
     "output_type": "stream",
     "text": [
      "12:35AM UTC on Mar 11, 2023 --- read and cache time: 1.6450881958007812e-05 seconds ---\n"
     ]
    },
    {
     "name": "stderr",
     "output_type": "stream",
     "text": [
      "[Stage 1:=======================================>                   (4 + 2) / 6]\r"
     ]
    },
    {
     "name": "stdout",
     "output_type": "stream",
     "text": [
      "event count292367\n",
      "root\n",
      " |-- hostname: string (nullable = true)\n",
      " |-- id: string (nullable = true)\n",
      " |-- objectID: string (nullable = true)\n",
      " |-- actorID: string (nullable = true)\n",
      " |-- object: string (nullable = true)\n",
      " |-- action: string (nullable = true)\n",
      " |-- ts2: timestamp (nullable = true)\n",
      "\n"
     ]
    },
    {
     "name": "stderr",
     "output_type": "stream",
     "text": [
      "                                                                                \r"
     ]
    }
   ],
   "source": [
    "df_labels = readCheckpoint_bcm('labels')\n",
    "#create a timestamp column and drop the old timestamp - does not appear necessary\n",
    "df_labels = df_labels.withColumn('ts2', to_timestamp(col('timestamp'))).drop('timestamp')\n",
    "print('event count' + str(df_labels.count()))\n",
    "#check new col data types\n",
    "df_labels.printSchema()"
   ]
  },
  {
   "cell_type": "code",
   "execution_count": 7,
   "id": "c76dfa2e-7cef-43c3-9691-e894f1f49d41",
   "metadata": {
    "tags": []
   },
   "outputs": [
    {
     "name": "stdout",
     "output_type": "stream",
     "text": [
      "150\n"
     ]
    },
    {
     "name": "stderr",
     "output_type": "stream",
     "text": [
      "                                                                                \r"
     ]
    },
    {
     "name": "stdout",
     "output_type": "stream",
     "text": [
      "length actIDs: 90\n",
      "elapsed time: 2.7630774974823\n",
      "no birth event for 0 events.\n",
      "elapsed time 2: 30.785664796829224\n"
     ]
    }
   ],
   "source": [
    "#run code with labels dataframe\n",
    "df_labels_adj = build_adjaceny(df_labels, 'labels')"
   ]
  },
  {
   "cell_type": "code",
   "execution_count": 8,
   "id": "1047f9d7-fdd3-451f-a061-78816a158d63",
   "metadata": {
    "tags": []
   },
   "outputs": [
    {
     "name": "stdout",
     "output_type": "stream",
     "text": [
      "+--------------------+-----+--------------------+\n",
      "|              parent|order|               child|\n",
      "+--------------------+-----+--------------------+\n",
      "|d5846376-9596-428...|    0|000401b2-4413-4f2...|\n",
      "|d5846376-9596-428...|    1|00263384-6151-407...|\n",
      "|d5846376-9596-428...|    2|0093031c-0521-4e7...|\n",
      "|d5846376-9596-428...|    3|00979bf4-65da-491...|\n",
      "|d5846376-9596-428...|    4|00accb8e-39bf-40c...|\n",
      "+--------------------+-----+--------------------+\n",
      "\n"
     ]
    }
   ],
   "source": [
    "df_labels_adj.limit(5).show()"
   ]
  },
  {
   "cell_type": "code",
   "execution_count": 9,
   "id": "031ce154-d9c4-4b25-aff4-d554abf3aa88",
   "metadata": {
    "tags": []
   },
   "outputs": [
    {
     "data": {
      "text/plain": [
       "'d5846376-9596-4283-8505-8e6112abf1f2:e15537fe-fdb0-49d4-a1fd-de34e8215617'"
      ]
     },
     "execution_count": 9,
     "metadata": {},
     "output_type": "execute_result"
    }
   ],
   "source": [
    "df_labels_adj.limit(1).collect()[0]['parent']"
   ]
  },
  {
   "cell_type": "code",
   "execution_count": 10,
   "id": "12dcd381-ef53-4d2c-99c2-d5c6e84dca6c",
   "metadata": {
    "tags": []
   },
   "outputs": [],
   "source": [
    "# split parent and child fields to get objectids and eventids\n",
    "\n",
    "from pyspark.sql.functions import split\n",
    "\n",
    "df_labels_adj = df_labels_adj.withColumn(\"parent_objectid\", split(df_labels_adj[\"parent\"], \":\")[0])\n",
    "df_labels_adj = df_labels_adj.withColumn(\"parent_eventid\", split(df_labels_adj[\"parent\"], \":\")[1])\n",
    "df_labels_adj = df_labels_adj.withColumn(\"child_objectid\", split(df_labels_adj[\"child\"], \":\")[0])\n",
    "df_labels_adj = df_labels_adj.withColumn(\"child_eventid\", split(df_labels_adj[\"child\"], \":\")[1])\n",
    "\n"
   ]
  },
  {
   "cell_type": "code",
   "execution_count": 11,
   "id": "0bf1420a-1b95-4165-8447-3d3b78b81518",
   "metadata": {
    "tags": []
   },
   "outputs": [
    {
     "data": {
      "text/html": [
       "<div>\n",
       "<style scoped>\n",
       "    .dataframe tbody tr th:only-of-type {\n",
       "        vertical-align: middle;\n",
       "    }\n",
       "\n",
       "    .dataframe tbody tr th {\n",
       "        vertical-align: top;\n",
       "    }\n",
       "\n",
       "    .dataframe thead th {\n",
       "        text-align: right;\n",
       "    }\n",
       "</style>\n",
       "<table border=\"1\" class=\"dataframe\">\n",
       "  <thead>\n",
       "    <tr style=\"text-align: right;\">\n",
       "      <th></th>\n",
       "      <th>parent</th>\n",
       "      <th>order</th>\n",
       "      <th>child</th>\n",
       "      <th>parent_objectid</th>\n",
       "      <th>parent_eventid</th>\n",
       "      <th>child_objectid</th>\n",
       "      <th>child_eventid</th>\n",
       "    </tr>\n",
       "  </thead>\n",
       "  <tbody>\n",
       "    <tr>\n",
       "      <th>0</th>\n",
       "      <td>d5846376-9596-4283-8505-8e6112abf1f2:e15537fe-...</td>\n",
       "      <td>0</td>\n",
       "      <td>000401b2-4413-4f26-9943-75877fd855df:3b7351a9-...</td>\n",
       "      <td>d5846376-9596-4283-8505-8e6112abf1f2</td>\n",
       "      <td>e15537fe-fdb0-49d4-a1fd-de34e8215617</td>\n",
       "      <td>000401b2-4413-4f26-9943-75877fd855df</td>\n",
       "      <td>3b7351a9-abe1-4e29-a7dc-18c0aafdb68c</td>\n",
       "    </tr>\n",
       "    <tr>\n",
       "      <th>1</th>\n",
       "      <td>d5846376-9596-4283-8505-8e6112abf1f2:e15537fe-...</td>\n",
       "      <td>1</td>\n",
       "      <td>00263384-6151-407f-a38e-6f2c423610b8:a4ecbb2c-...</td>\n",
       "      <td>d5846376-9596-4283-8505-8e6112abf1f2</td>\n",
       "      <td>e15537fe-fdb0-49d4-a1fd-de34e8215617</td>\n",
       "      <td>00263384-6151-407f-a38e-6f2c423610b8</td>\n",
       "      <td>a4ecbb2c-e24d-46df-892f-db41b0b48bc2</td>\n",
       "    </tr>\n",
       "    <tr>\n",
       "      <th>2</th>\n",
       "      <td>d5846376-9596-4283-8505-8e6112abf1f2:e15537fe-...</td>\n",
       "      <td>2</td>\n",
       "      <td>0093031c-0521-4e72-a4a1-69840fb738c5:dcede018-...</td>\n",
       "      <td>d5846376-9596-4283-8505-8e6112abf1f2</td>\n",
       "      <td>e15537fe-fdb0-49d4-a1fd-de34e8215617</td>\n",
       "      <td>0093031c-0521-4e72-a4a1-69840fb738c5</td>\n",
       "      <td>dcede018-9ca8-499b-a71f-c8e3446bf19e</td>\n",
       "    </tr>\n",
       "    <tr>\n",
       "      <th>3</th>\n",
       "      <td>d5846376-9596-4283-8505-8e6112abf1f2:e15537fe-...</td>\n",
       "      <td>3</td>\n",
       "      <td>00979bf4-65da-4911-a4f5-a1f56a1b20bb:6b7d1a66-...</td>\n",
       "      <td>d5846376-9596-4283-8505-8e6112abf1f2</td>\n",
       "      <td>e15537fe-fdb0-49d4-a1fd-de34e8215617</td>\n",
       "      <td>00979bf4-65da-4911-a4f5-a1f56a1b20bb</td>\n",
       "      <td>6b7d1a66-75d2-46da-9135-9d73bf6e7b9e</td>\n",
       "    </tr>\n",
       "    <tr>\n",
       "      <th>4</th>\n",
       "      <td>d5846376-9596-4283-8505-8e6112abf1f2:e15537fe-...</td>\n",
       "      <td>4</td>\n",
       "      <td>00accb8e-39bf-40c0-8d52-4abe7aac5f64:4b7b2f74-...</td>\n",
       "      <td>d5846376-9596-4283-8505-8e6112abf1f2</td>\n",
       "      <td>e15537fe-fdb0-49d4-a1fd-de34e8215617</td>\n",
       "      <td>00accb8e-39bf-40c0-8d52-4abe7aac5f64</td>\n",
       "      <td>4b7b2f74-723c-4728-84a7-ae1ca87a9959</td>\n",
       "    </tr>\n",
       "  </tbody>\n",
       "</table>\n",
       "</div>"
      ],
      "text/plain": [
       "                                              parent  order  \\\n",
       "0  d5846376-9596-4283-8505-8e6112abf1f2:e15537fe-...      0   \n",
       "1  d5846376-9596-4283-8505-8e6112abf1f2:e15537fe-...      1   \n",
       "2  d5846376-9596-4283-8505-8e6112abf1f2:e15537fe-...      2   \n",
       "3  d5846376-9596-4283-8505-8e6112abf1f2:e15537fe-...      3   \n",
       "4  d5846376-9596-4283-8505-8e6112abf1f2:e15537fe-...      4   \n",
       "\n",
       "                                               child  \\\n",
       "0  000401b2-4413-4f26-9943-75877fd855df:3b7351a9-...   \n",
       "1  00263384-6151-407f-a38e-6f2c423610b8:a4ecbb2c-...   \n",
       "2  0093031c-0521-4e72-a4a1-69840fb738c5:dcede018-...   \n",
       "3  00979bf4-65da-4911-a4f5-a1f56a1b20bb:6b7d1a66-...   \n",
       "4  00accb8e-39bf-40c0-8d52-4abe7aac5f64:4b7b2f74-...   \n",
       "\n",
       "                        parent_objectid                        parent_eventid  \\\n",
       "0  d5846376-9596-4283-8505-8e6112abf1f2  e15537fe-fdb0-49d4-a1fd-de34e8215617   \n",
       "1  d5846376-9596-4283-8505-8e6112abf1f2  e15537fe-fdb0-49d4-a1fd-de34e8215617   \n",
       "2  d5846376-9596-4283-8505-8e6112abf1f2  e15537fe-fdb0-49d4-a1fd-de34e8215617   \n",
       "3  d5846376-9596-4283-8505-8e6112abf1f2  e15537fe-fdb0-49d4-a1fd-de34e8215617   \n",
       "4  d5846376-9596-4283-8505-8e6112abf1f2  e15537fe-fdb0-49d4-a1fd-de34e8215617   \n",
       "\n",
       "                         child_objectid                         child_eventid  \n",
       "0  000401b2-4413-4f26-9943-75877fd855df  3b7351a9-abe1-4e29-a7dc-18c0aafdb68c  \n",
       "1  00263384-6151-407f-a38e-6f2c423610b8  a4ecbb2c-e24d-46df-892f-db41b0b48bc2  \n",
       "2  0093031c-0521-4e72-a4a1-69840fb738c5  dcede018-9ca8-499b-a71f-c8e3446bf19e  \n",
       "3  00979bf4-65da-4911-a4f5-a1f56a1b20bb  6b7d1a66-75d2-46da-9135-9d73bf6e7b9e  \n",
       "4  00accb8e-39bf-40c0-8d52-4abe7aac5f64  4b7b2f74-723c-4728-84a7-ae1ca87a9959  "
      ]
     },
     "execution_count": 11,
     "metadata": {},
     "output_type": "execute_result"
    }
   ],
   "source": [
    "df_labels_adj.limit(5).toPandas()"
   ]
  },
  {
   "cell_type": "code",
   "execution_count": 12,
   "id": "1ec55be6-0ec9-4cbb-b058-a3f15302148e",
   "metadata": {
    "tags": []
   },
   "outputs": [
    {
     "name": "stderr",
     "output_type": "stream",
     "text": [
      "/home/ec2-user/anaconda3/envs/python3/lib/python3.10/site-packages/pyspark/sql/dataframe.py:148: UserWarning: DataFrame.sql_ctx is an internal property, and will be removed in future releases. Use DataFrame.sparkSession instead.\n",
      "  warnings.warn(\n"
     ]
    }
   ],
   "source": [
    "from graphframes import GraphFrame\n",
    "\n",
    "# Create distinct vertices with source as actorid, destination as objectid\n",
    "src_vertices = df_labels_adj.selectExpr('parent_objectid as id').distinct()\n",
    "dst_vertices = df_labels_adj.selectExpr('child_objectid as id').distinct()\n",
    "vertices = src_vertices.union(dst_vertices).distinct()\n",
    "\n",
    "# Create edges by using timestamp as an edge\n",
    "edges = df_labels_adj.selectExpr('parent_objectid as src', 'child_objectid as dst', 'child_eventid')\n",
    "\n",
    "# Create GraphFrame\n",
    "g = GraphFrame(vertices, edges)"
   ]
  },
  {
   "cell_type": "code",
   "execution_count": 13,
   "id": "589a5e28-33d8-45af-b048-4b26b4154e2b",
   "metadata": {
    "tags": []
   },
   "outputs": [
    {
     "name": "stdout",
     "output_type": "stream",
     "text": [
      "Vertices:\n",
      "+--------------------+\n",
      "|                  id|\n",
      "+--------------------+\n",
      "|b9955edc-eccc-494...|\n",
      "|d5846376-9596-428...|\n",
      "|6bb11cd4-bb6c-49c...|\n",
      "|4a3392b6-acc8-4c2...|\n",
      "|1106edff-d104-48c...|\n",
      "|d0c2c702-a256-46b...|\n",
      "|c2730252-3ab3-40f...|\n",
      "|64c0966e-66f8-452...|\n",
      "|8916c2f9-2179-4e6...|\n",
      "|27aec587-671d-4e6...|\n",
      "|72fd4fed-89f1-499...|\n",
      "|bff0865c-96aa-4fb...|\n",
      "|96913629-c1c9-450...|\n",
      "|473d7954-6271-43b...|\n",
      "|b6ddb414-05b7-43c...|\n",
      "|15357384-f34d-4ff...|\n",
      "|9cd219ed-ecc9-442...|\n",
      "|2d02ab42-4400-404...|\n",
      "|054df7d9-801e-49d...|\n",
      "|91cf6eed-6ee7-43a...|\n",
      "+--------------------+\n",
      "only showing top 20 rows\n",
      "\n",
      "Edges:\n",
      "+--------------------+--------------------+--------------------+\n",
      "|                 src|                 dst|       child_eventid|\n",
      "+--------------------+--------------------+--------------------+\n",
      "|d5846376-9596-428...|000401b2-4413-4f2...|3b7351a9-abe1-4e2...|\n",
      "|d5846376-9596-428...|00263384-6151-407...|a4ecbb2c-e24d-46d...|\n",
      "|d5846376-9596-428...|0093031c-0521-4e7...|dcede018-9ca8-499...|\n",
      "|d5846376-9596-428...|00979bf4-65da-491...|6b7d1a66-75d2-46d...|\n",
      "|d5846376-9596-428...|00accb8e-39bf-40c...|4b7b2f74-723c-472...|\n",
      "|d5846376-9596-428...|00cf05ff-21bb-44a...|f76774ec-09e7-438...|\n",
      "|d5846376-9596-428...|011fa97b-1f64-420...|ff82928e-2ff2-43c...|\n",
      "|d5846376-9596-428...|0214ec5c-2079-4aa...|953db9fc-968c-412...|\n",
      "|d5846376-9596-428...|02232c90-e527-448...|1e1cd93f-7698-452...|\n",
      "|d5846376-9596-428...|02489373-dcc4-433...|47a1c593-8e76-487...|\n",
      "|d5846376-9596-428...|026cacdd-d372-4a7...|93a25d70-c59e-492...|\n",
      "|d5846376-9596-428...|02ac9b74-e1c9-4ae...|277bfc93-1fb4-4f5...|\n",
      "|d5846376-9596-428...|02c03f97-6313-477...|7f807ad8-81ad-44a...|\n",
      "|d5846376-9596-428...|0349ffe6-0aff-449...|e79c43d2-2703-4a7...|\n",
      "|d5846376-9596-428...|03a7f794-34ce-41e...|743d588b-d561-44c...|\n",
      "|d5846376-9596-428...|03f4b095-e191-439...|d7242933-c4af-4fa...|\n",
      "|d5846376-9596-428...|0454c7cb-391e-460...|bb24a96d-4a66-426...|\n",
      "|d5846376-9596-428...|0487e062-1253-4b9...|61cca43b-1659-485...|\n",
      "|d5846376-9596-428...|050775b8-2da6-46b...|ac981293-17a4-46f...|\n",
      "|d5846376-9596-428...|051f538a-80ac-49c...|8810e0aa-1a5e-427...|\n",
      "+--------------------+--------------------+--------------------+\n",
      "only showing top 20 rows\n",
      "\n"
     ]
    }
   ],
   "source": [
    "# display the vertices\n",
    "print(\"Vertices:\")\n",
    "g.vertices.show()\n",
    "\n",
    "# display the edges\n",
    "print(\"Edges:\")\n",
    "g.edges.show()"
   ]
  },
  {
   "cell_type": "code",
   "execution_count": 12,
   "id": "ea3f7aed-94ec-48ae-ba26-82f8c121bfab",
   "metadata": {
    "tags": []
   },
   "outputs": [
    {
     "name": "stderr",
     "output_type": "stream",
     "text": [
      "/home/ec2-user/anaconda3/envs/python3/lib/python3.10/site-packages/pyspark/sql/dataframe.py:127: UserWarning: DataFrame constructor is internal. Do not directly use it.\n",
      "  warnings.warn(\"DataFrame constructor is internal. Do not directly use it.\")\n"
     ]
    },
    {
     "name": "stdout",
     "output_type": "stream",
     "text": [
      "+--------------------+--------+\n",
      "|                  id|inDegree|\n",
      "+--------------------+--------+\n",
      "|1f1621b3-29fa-4a4...|       1|\n",
      "|78cc15e6-f0f5-452...|       1|\n",
      "|adecaad5-5d90-44c...|       1|\n",
      "|bacc46d9-d2ba-403...|       1|\n",
      "|dca08133-628f-4ff...|       1|\n",
      "|0b033ccb-53d8-41d...|       1|\n",
      "|189ccab8-1c95-46b...|       1|\n",
      "|68856534-2f9a-471...|       1|\n",
      "|8c5444f3-c33f-4fd...|       1|\n",
      "|8e3ae437-58a6-42f...|       1|\n",
      "|a8b3ca65-c915-410...|       1|\n",
      "|229c828f-fe77-4cc...|       1|\n",
      "|3c26a28f-6f6c-44b...|       1|\n",
      "|c4c7fc08-406c-4c6...|       1|\n",
      "|40afcf64-5fad-48b...|       1|\n",
      "|8a7a7c79-93d7-4d8...|       1|\n",
      "|b569c7c2-be7a-455...|       1|\n",
      "|0fdc5360-36ae-4dd...|       1|\n",
      "|1d83724a-0c5f-44a...|       1|\n",
      "|6581c3bd-94f3-48e...|       1|\n",
      "+--------------------+--------+\n",
      "only showing top 20 rows\n",
      "\n"
     ]
    }
   ],
   "source": [
    "g.inDegrees.show()"
   ]
  },
  {
   "cell_type": "code",
   "execution_count": 35,
   "id": "b2a67e5d-b3b0-4ef8-8fa5-05b786f5338c",
   "metadata": {
    "tags": []
   },
   "outputs": [
    {
     "name": "stderr",
     "output_type": "stream",
     "text": [
      "/home/ec2-user/anaconda3/envs/python3/lib/python3.10/site-packages/networkx/drawing/layout.py:553: RuntimeWarning: divide by zero encountered in true_divide\n",
      "  delta_pos = np.einsum(\"ij,i->ij\", displacement, t / length)\n",
      "/home/ec2-user/anaconda3/envs/python3/lib/python3.10/site-packages/networkx/drawing/layout.py:548: RuntimeWarning: divide by zero encountered in true_divide\n",
      "  \"ijk,ij->ik\", delta, (k * k / distance**2 - A * distance / k)\n"
     ]
    },
    {
     "data": {
      "image/png": "[encoded data removed]",
      "text/plain": [
       "<Figure size 640x480 with 1 Axes>"
      ]
     },
     "metadata": {},
     "output_type": "display_data"
    }
   ],
   "source": [
    "# Stackoverflow: https://stackoverflow.com/questions/54204062/how-to-display-visualize-a-graph-created-by-graphframe\n",
    "\n",
    "import networkx as nx\n",
    "from graphframes import GraphFrame\n",
    "\n",
    "def PlotGraph(edge_list):\n",
    "    Gplot=nx.Graph()\n",
    "    for row in edge_list.select('src','dst').take(100):\n",
    "        Gplot.add_edge(row['src'],row['dst'])\n",
    "\n",
    "    plt.subplot(121)\n",
    "    nx.draw(Gplot)\n",
    "    \n",
    "    \n",
    "PlotGraph(g.edges)"
   ]
  },
  {
   "cell_type": "code",
   "execution_count": 13,
   "id": "fa23f726-dbdf-4fd0-87f1-05a6de76ac52",
   "metadata": {
    "tags": []
   },
   "outputs": [
    {
     "name": "stdout",
     "output_type": "stream",
     "text": [
      "+--------------------+--------+\n",
      "|                  id|inDegree|\n",
      "+--------------------+--------+\n",
      "|b15e00e9-e286-483...|       7|\n",
      "|337b2a67-296e-433...|       7|\n",
      "|02904fc8-2825-4ed...|       6|\n",
      "|b865bab2-f482-43d...|       6|\n",
      "|e7e9e82f-b4dc-45d...|       6|\n",
      "|2113944a-3da7-497...|       6|\n",
      "|3e111ee0-3167-4c2...|       6|\n",
      "|371dd713-1e8c-4d0...|       6|\n",
      "|6ddd691e-30f4-4bf...|       6|\n",
      "|f19156c4-3ec4-47f...|       6|\n",
      "|bbf83587-f890-455...|       6|\n",
      "|4831e4ec-79b4-4d0...|       6|\n",
      "|142d959c-693f-4a8...|       6|\n",
      "|0fcfb540-495f-439...|       6|\n",
      "|4ca53370-eb3a-46d...|       6|\n",
      "|9f17b17e-5f0a-4f8...|       6|\n",
      "|a7408fe6-a5e2-486...|       6|\n",
      "|1ccc1417-a469-49f...|       6|\n",
      "|6bc73e9b-444c-4a4...|       6|\n",
      "|66cd9f21-e63b-49f...|       6|\n",
      "+--------------------+--------+\n",
      "only showing top 20 rows\n",
      "\n"
     ]
    }
   ],
   "source": [
    "g.inDegrees.orderBy(\"inDegree\", ascending=False).show()"
   ]
  },
  {
   "cell_type": "code",
   "execution_count": 15,
   "id": "e78c1ab5-6a7f-442d-bc56-20fe398ca509",
   "metadata": {
    "tags": []
   },
   "outputs": [
    {
     "name": "stdout",
     "output_type": "stream",
     "text": [
      "+--------------------+---------+\n",
      "|                  id|outDegree|\n",
      "+--------------------+---------+\n",
      "|054df7d9-801e-49d...|     6256|\n",
      "|a52f6519-6265-443...|     5328|\n",
      "|f247d0d1-6ce4-4f8...|     4491|\n",
      "|266392d7-012e-479...|     4490|\n",
      "|9211f414-ef00-4aa...|     4488|\n",
      "|c2730252-3ab3-40f...|     4487|\n",
      "|3a3de01b-44d0-4a1...|     4484|\n",
      "|a80f73dc-5713-460...|     4480|\n",
      "|60f28094-a2f7-49e...|     4120|\n",
      "|281edc04-1ee7-4f6...|     3319|\n",
      "|e490633e-4e82-4bb...|     2558|\n",
      "|3eea9071-9ceb-468...|     1417|\n",
      "|d359ffa5-8bf5-4f1...|     1343|\n",
      "|0c38ecf1-faac-446...|     1195|\n",
      "|d057ca93-553e-46f...|     1159|\n",
      "|ee99fcf7-84fa-49f...|     1154|\n",
      "|83279f19-6af6-453...|     1154|\n",
      "|bff0865c-96aa-4fb...|     1145|\n",
      "|70ba4f9c-e27b-4a3...|     1144|\n",
      "|d5846376-9596-428...|     1139|\n",
      "+--------------------+---------+\n",
      "only showing top 20 rows\n",
      "\n"
     ]
    }
   ],
   "source": [
    "g.outDegrees.orderBy(\"outDegree\", ascending=False).show()"
   ]
  },
  {
   "cell_type": "code",
   "execution_count": 27,
   "id": "42d7cd57-bbf3-46f7-922c-94c240479795",
   "metadata": {
    "tags": []
   },
   "outputs": [
    {
     "name": "stderr",
     "output_type": "stream",
     "text": [
      "[Stage 923:======================================>                  (2 + 1) / 3]\r"
     ]
    },
    {
     "name": "stdout",
     "output_type": "stream",
     "text": [
      "+--------------------+-----+\n",
      "|                  id|count|\n",
      "+--------------------+-----+\n",
      "|b9955edc-eccc-494...|  168|\n",
      "|d5846376-9596-428...|    0|\n",
      "|6bb11cd4-bb6c-49c...|    0|\n",
      "|4a3392b6-acc8-4c2...|    0|\n",
      "|1106edff-d104-48c...|    0|\n",
      "|d0c2c702-a256-46b...|    0|\n",
      "|c2730252-3ab3-40f...|    0|\n",
      "|64c0966e-66f8-452...|    0|\n",
      "|8916c2f9-2179-4e6...|  337|\n",
      "|27aec587-671d-4e6...|   11|\n",
      "|72fd4fed-89f1-499...|    0|\n",
      "|bff0865c-96aa-4fb...|    0|\n",
      "|96913629-c1c9-450...|    0|\n",
      "|473d7954-6271-43b...|    0|\n",
      "|b6ddb414-05b7-43c...|    0|\n",
      "|15357384-f34d-4ff...|    0|\n",
      "|9cd219ed-ecc9-442...|    0|\n",
      "|2d02ab42-4400-404...|    0|\n",
      "|054df7d9-801e-49d...|  275|\n",
      "|91cf6eed-6ee7-43a...|  106|\n",
      "+--------------------+-----+\n",
      "only showing top 20 rows\n",
      "\n"
     ]
    },
    {
     "name": "stderr",
     "output_type": "stream",
     "text": [
      "                                                                                \r"
     ]
    }
   ],
   "source": [
    "results = g.triangleCount()\n",
    "results.select(\"id\", \"count\").show()"
   ]
  },
  {
   "cell_type": "code",
   "execution_count": 59,
   "id": "cefde2f4-030f-48a1-99c4-8d54cf4f2759",
   "metadata": {
    "tags": []
   },
   "outputs": [
    {
     "name": "stderr",
     "output_type": "stream",
     "text": [
      "/home/ec2-user/anaconda3/envs/python3/lib/python3.10/site-packages/pyspark/sql/dataframe.py:127: UserWarning: DataFrame constructor is internal. Do not directly use it.\n",
      "  warnings.warn(\"DataFrame constructor is internal. Do not directly use it.\")\n",
      "                                                                                \r"
     ]
    },
    {
     "data": {
      "text/html": [
       "<div>\n",
       "<style scoped>\n",
       "    .dataframe tbody tr th:only-of-type {\n",
       "        vertical-align: middle;\n",
       "    }\n",
       "\n",
       "    .dataframe tbody tr th {\n",
       "        vertical-align: top;\n",
       "    }\n",
       "\n",
       "    .dataframe thead th {\n",
       "        text-align: right;\n",
       "    }\n",
       "</style>\n",
       "<table border=\"1\" class=\"dataframe\">\n",
       "  <thead>\n",
       "    <tr style=\"text-align: right;\">\n",
       "      <th></th>\n",
       "      <th>id</th>\n",
       "      <th>id</th>\n",
       "      <th>id</th>\n",
       "      <th>id</th>\n",
       "      <th>id</th>\n",
       "      <th>id</th>\n",
       "    </tr>\n",
       "  </thead>\n",
       "  <tbody>\n",
       "    <tr>\n",
       "      <th>0</th>\n",
       "      <td>b9955edc-eccc-4948-8c2f-4cc6608c1e27</td>\n",
       "      <td>8916c2f9-2179-4e6a-bfa0-483a26c6ae6d</td>\n",
       "      <td>054df7d9-801e-49d0-b8cd-4f20b42a4305</td>\n",
       "      <td>91cf6eed-6ee7-43aa-a2d0-62e81ca89e2e</td>\n",
       "      <td>443c9039-ae6b-41a8-ba53-a197d0ce57e9</td>\n",
       "      <td>fb64aa05-c24f-415d-aa14-dcd9c58d90ba</td>\n",
       "    </tr>\n",
       "    <tr>\n",
       "      <th>1</th>\n",
       "      <td>b9955edc-eccc-4948-8c2f-4cc6608c1e27</td>\n",
       "      <td>8916c2f9-2179-4e6a-bfa0-483a26c6ae6d</td>\n",
       "      <td>054df7d9-801e-49d0-b8cd-4f20b42a4305</td>\n",
       "      <td>91cf6eed-6ee7-43aa-a2d0-62e81ca89e2e</td>\n",
       "      <td>443c9039-ae6b-41a8-ba53-a197d0ce57e9</td>\n",
       "      <td>fb265837-47f3-41ca-a191-6fd891960c7d</td>\n",
       "    </tr>\n",
       "    <tr>\n",
       "      <th>2</th>\n",
       "      <td>b9955edc-eccc-4948-8c2f-4cc6608c1e27</td>\n",
       "      <td>8916c2f9-2179-4e6a-bfa0-483a26c6ae6d</td>\n",
       "      <td>054df7d9-801e-49d0-b8cd-4f20b42a4305</td>\n",
       "      <td>91cf6eed-6ee7-43aa-a2d0-62e81ca89e2e</td>\n",
       "      <td>443c9039-ae6b-41a8-ba53-a197d0ce57e9</td>\n",
       "      <td>e7e9e82f-b4dc-45d7-96ef-042f514c7922</td>\n",
       "    </tr>\n",
       "    <tr>\n",
       "      <th>3</th>\n",
       "      <td>b9955edc-eccc-4948-8c2f-4cc6608c1e27</td>\n",
       "      <td>8916c2f9-2179-4e6a-bfa0-483a26c6ae6d</td>\n",
       "      <td>054df7d9-801e-49d0-b8cd-4f20b42a4305</td>\n",
       "      <td>91cf6eed-6ee7-43aa-a2d0-62e81ca89e2e</td>\n",
       "      <td>443c9039-ae6b-41a8-ba53-a197d0ce57e9</td>\n",
       "      <td>e1fd3179-46d9-431c-a697-d21805b9e714</td>\n",
       "    </tr>\n",
       "    <tr>\n",
       "      <th>4</th>\n",
       "      <td>b9955edc-eccc-4948-8c2f-4cc6608c1e27</td>\n",
       "      <td>8916c2f9-2179-4e6a-bfa0-483a26c6ae6d</td>\n",
       "      <td>054df7d9-801e-49d0-b8cd-4f20b42a4305</td>\n",
       "      <td>91cf6eed-6ee7-43aa-a2d0-62e81ca89e2e</td>\n",
       "      <td>443c9039-ae6b-41a8-ba53-a197d0ce57e9</td>\n",
       "      <td>dd2f5060-2516-459b-ba6f-473488e3e429</td>\n",
       "    </tr>\n",
       "    <tr>\n",
       "      <th>...</th>\n",
       "      <td>...</td>\n",
       "      <td>...</td>\n",
       "      <td>...</td>\n",
       "      <td>...</td>\n",
       "      <td>...</td>\n",
       "      <td>...</td>\n",
       "    </tr>\n",
       "    <tr>\n",
       "      <th>20846</th>\n",
       "      <td>3eea9071-9ceb-468a-ad89-9e3890833e52</td>\n",
       "      <td>4aec5900-4572-4d09-81e6-fbc227a7f58d</td>\n",
       "      <td>3eea9071-9ceb-468a-ad89-9e3890833e52</td>\n",
       "      <td>4aec5900-4572-4d09-81e6-fbc227a7f58d</td>\n",
       "      <td>3eea9071-9ceb-468a-ad89-9e3890833e52</td>\n",
       "      <td>01576e70-ec1f-4f07-8c19-0104cccb8561</td>\n",
       "    </tr>\n",
       "    <tr>\n",
       "      <th>20847</th>\n",
       "      <td>3eea9071-9ceb-468a-ad89-9e3890833e52</td>\n",
       "      <td>4aec5900-4572-4d09-81e6-fbc227a7f58d</td>\n",
       "      <td>3eea9071-9ceb-468a-ad89-9e3890833e52</td>\n",
       "      <td>4aec5900-4572-4d09-81e6-fbc227a7f58d</td>\n",
       "      <td>3eea9071-9ceb-468a-ad89-9e3890833e52</td>\n",
       "      <td>01178a88-4974-4a9e-b224-c8b29967e302</td>\n",
       "    </tr>\n",
       "    <tr>\n",
       "      <th>20848</th>\n",
       "      <td>3eea9071-9ceb-468a-ad89-9e3890833e52</td>\n",
       "      <td>4aec5900-4572-4d09-81e6-fbc227a7f58d</td>\n",
       "      <td>3eea9071-9ceb-468a-ad89-9e3890833e52</td>\n",
       "      <td>4aec5900-4572-4d09-81e6-fbc227a7f58d</td>\n",
       "      <td>3eea9071-9ceb-468a-ad89-9e3890833e52</td>\n",
       "      <td>00f1b836-719b-4c45-bdc8-e6233ce5cffd</td>\n",
       "    </tr>\n",
       "    <tr>\n",
       "      <th>20849</th>\n",
       "      <td>3eea9071-9ceb-468a-ad89-9e3890833e52</td>\n",
       "      <td>4aec5900-4572-4d09-81e6-fbc227a7f58d</td>\n",
       "      <td>3eea9071-9ceb-468a-ad89-9e3890833e52</td>\n",
       "      <td>4aec5900-4572-4d09-81e6-fbc227a7f58d</td>\n",
       "      <td>3eea9071-9ceb-468a-ad89-9e3890833e52</td>\n",
       "      <td>00d26d32-947b-4374-90e9-557c2e4332d4</td>\n",
       "    </tr>\n",
       "    <tr>\n",
       "      <th>20850</th>\n",
       "      <td>4aec5900-4572-4d09-81e6-fbc227a7f58d</td>\n",
       "      <td>3eea9071-9ceb-468a-ad89-9e3890833e52</td>\n",
       "      <td>4aec5900-4572-4d09-81e6-fbc227a7f58d</td>\n",
       "      <td>3eea9071-9ceb-468a-ad89-9e3890833e52</td>\n",
       "      <td>4aec5900-4572-4d09-81e6-fbc227a7f58d</td>\n",
       "      <td>3eea9071-9ceb-468a-ad89-9e3890833e52</td>\n",
       "    </tr>\n",
       "  </tbody>\n",
       "</table>\n",
       "<p>20851 rows × 6 columns</p>\n",
       "</div>"
      ],
      "text/plain": [
       "                                         id  \\\n",
       "0      b9955edc-eccc-4948-8c2f-4cc6608c1e27   \n",
       "1      b9955edc-eccc-4948-8c2f-4cc6608c1e27   \n",
       "2      b9955edc-eccc-4948-8c2f-4cc6608c1e27   \n",
       "3      b9955edc-eccc-4948-8c2f-4cc6608c1e27   \n",
       "4      b9955edc-eccc-4948-8c2f-4cc6608c1e27   \n",
       "...                                     ...   \n",
       "20846  3eea9071-9ceb-468a-ad89-9e3890833e52   \n",
       "20847  3eea9071-9ceb-468a-ad89-9e3890833e52   \n",
       "20848  3eea9071-9ceb-468a-ad89-9e3890833e52   \n",
       "20849  3eea9071-9ceb-468a-ad89-9e3890833e52   \n",
       "20850  4aec5900-4572-4d09-81e6-fbc227a7f58d   \n",
       "\n",
       "                                         id  \\\n",
       "0      8916c2f9-2179-4e6a-bfa0-483a26c6ae6d   \n",
       "1      8916c2f9-2179-4e6a-bfa0-483a26c6ae6d   \n",
       "2      8916c2f9-2179-4e6a-bfa0-483a26c6ae6d   \n",
       "3      8916c2f9-2179-4e6a-bfa0-483a26c6ae6d   \n",
       "4      8916c2f9-2179-4e6a-bfa0-483a26c6ae6d   \n",
       "...                                     ...   \n",
       "20846  4aec5900-4572-4d09-81e6-fbc227a7f58d   \n",
       "20847  4aec5900-4572-4d09-81e6-fbc227a7f58d   \n",
       "20848  4aec5900-4572-4d09-81e6-fbc227a7f58d   \n",
       "20849  4aec5900-4572-4d09-81e6-fbc227a7f58d   \n",
       "20850  3eea9071-9ceb-468a-ad89-9e3890833e52   \n",
       "\n",
       "                                         id  \\\n",
       "0      054df7d9-801e-49d0-b8cd-4f20b42a4305   \n",
       "1      054df7d9-801e-49d0-b8cd-4f20b42a4305   \n",
       "2      054df7d9-801e-49d0-b8cd-4f20b42a4305   \n",
       "3      054df7d9-801e-49d0-b8cd-4f20b42a4305   \n",
       "4      054df7d9-801e-49d0-b8cd-4f20b42a4305   \n",
       "...                                     ...   \n",
       "20846  3eea9071-9ceb-468a-ad89-9e3890833e52   \n",
       "20847  3eea9071-9ceb-468a-ad89-9e3890833e52   \n",
       "20848  3eea9071-9ceb-468a-ad89-9e3890833e52   \n",
       "20849  3eea9071-9ceb-468a-ad89-9e3890833e52   \n",
       "20850  4aec5900-4572-4d09-81e6-fbc227a7f58d   \n",
       "\n",
       "                                         id  \\\n",
       "0      91cf6eed-6ee7-43aa-a2d0-62e81ca89e2e   \n",
       "1      91cf6eed-6ee7-43aa-a2d0-62e81ca89e2e   \n",
       "2      91cf6eed-6ee7-43aa-a2d0-62e81ca89e2e   \n",
       "3      91cf6eed-6ee7-43aa-a2d0-62e81ca89e2e   \n",
       "4      91cf6eed-6ee7-43aa-a2d0-62e81ca89e2e   \n",
       "...                                     ...   \n",
       "20846  4aec5900-4572-4d09-81e6-fbc227a7f58d   \n",
       "20847  4aec5900-4572-4d09-81e6-fbc227a7f58d   \n",
       "20848  4aec5900-4572-4d09-81e6-fbc227a7f58d   \n",
       "20849  4aec5900-4572-4d09-81e6-fbc227a7f58d   \n",
       "20850  3eea9071-9ceb-468a-ad89-9e3890833e52   \n",
       "\n",
       "                                         id  \\\n",
       "0      443c9039-ae6b-41a8-ba53-a197d0ce57e9   \n",
       "1      443c9039-ae6b-41a8-ba53-a197d0ce57e9   \n",
       "2      443c9039-ae6b-41a8-ba53-a197d0ce57e9   \n",
       "3      443c9039-ae6b-41a8-ba53-a197d0ce57e9   \n",
       "4      443c9039-ae6b-41a8-ba53-a197d0ce57e9   \n",
       "...                                     ...   \n",
       "20846  3eea9071-9ceb-468a-ad89-9e3890833e52   \n",
       "20847  3eea9071-9ceb-468a-ad89-9e3890833e52   \n",
       "20848  3eea9071-9ceb-468a-ad89-9e3890833e52   \n",
       "20849  3eea9071-9ceb-468a-ad89-9e3890833e52   \n",
       "20850  4aec5900-4572-4d09-81e6-fbc227a7f58d   \n",
       "\n",
       "                                         id  \n",
       "0      fb64aa05-c24f-415d-aa14-dcd9c58d90ba  \n",
       "1      fb265837-47f3-41ca-a191-6fd891960c7d  \n",
       "2      e7e9e82f-b4dc-45d7-96ef-042f514c7922  \n",
       "3      e1fd3179-46d9-431c-a697-d21805b9e714  \n",
       "4      dd2f5060-2516-459b-ba6f-473488e3e429  \n",
       "...                                     ...  \n",
       "20846  01576e70-ec1f-4f07-8c19-0104cccb8561  \n",
       "20847  01178a88-4974-4a9e-b224-c8b29967e302  \n",
       "20848  00f1b836-719b-4c45-bdc8-e6233ce5cffd  \n",
       "20849  00d26d32-947b-4374-90e9-557c2e4332d4  \n",
       "20850  3eea9071-9ceb-468a-ad89-9e3890833e52  \n",
       "\n",
       "[20851 rows x 6 columns]"
      ]
     },
     "execution_count": 59,
     "metadata": {},
     "output_type": "execute_result"
    }
   ],
   "source": [
    "from graphframes import *\n",
    "import pyspark.sql.functions as F\n",
    "\n",
    "# find connected edges\n",
    "connected_edges = g.find(\"(a)-[]->(b); (b)-[]->(c); (c)-[]->(d); (d)-[]->(e); (e)-[]->(f)\")\n",
    "\n",
    "# display six connected edges\n",
    "connected_edges.select(F.col(\"a.id\"), F.col(\"b.id\"), F.col(\"c.id\"), F.col(\"d.id\"), F.col(\"e.id\"), F.col(\"f.id\")).toPandas()\n"
   ]
  },
  {
   "cell_type": "code",
   "execution_count": 63,
   "id": "a5118b45-86a9-4a45-8f2f-a13d88d6c3c0",
   "metadata": {
    "tags": []
   },
   "outputs": [
    {
     "name": "stderr",
     "output_type": "stream",
     "text": [
      "/home/ec2-user/anaconda3/envs/python3/lib/python3.10/site-packages/pyspark/sql/dataframe.py:127: UserWarning: DataFrame constructor is internal. Do not directly use it.\n",
      "  warnings.warn(\"DataFrame constructor is internal. Do not directly use it.\")\n",
      "                                                                                \r"
     ]
    },
    {
     "data": {
      "text/html": [
       "<div>\n",
       "<style scoped>\n",
       "    .dataframe tbody tr th:only-of-type {\n",
       "        vertical-align: middle;\n",
       "    }\n",
       "\n",
       "    .dataframe tbody tr th {\n",
       "        vertical-align: top;\n",
       "    }\n",
       "\n",
       "    .dataframe thead th {\n",
       "        text-align: right;\n",
       "    }\n",
       "</style>\n",
       "<table border=\"1\" class=\"dataframe\">\n",
       "  <thead>\n",
       "    <tr style=\"text-align: right;\">\n",
       "      <th></th>\n",
       "      <th>ab</th>\n",
       "      <th>bc</th>\n",
       "      <th>cd</th>\n",
       "      <th>de</th>\n",
       "      <th>ef</th>\n",
       "    </tr>\n",
       "  </thead>\n",
       "  <tbody>\n",
       "    <tr>\n",
       "      <th>0</th>\n",
       "      <td>(0c38ecf1-faac-4464-8905-ca951cc96f32, e152d28...</td>\n",
       "      <td>(e152d28f-5add-4799-8e46-d65f6fa599cf, 89d8a0b...</td>\n",
       "      <td>(89d8a0b2-5b72-402a-b50a-66f596583f53, 4986cc3...</td>\n",
       "      <td>(4986cc39-9cde-46cf-a6b1-d851afe7b42f, 0c38ecf...</td>\n",
       "      <td>(0c38ecf1-faac-4464-8905-ca951cc96f32, 00714b7...</td>\n",
       "    </tr>\n",
       "    <tr>\n",
       "      <th>1</th>\n",
       "      <td>(0c38ecf1-faac-4464-8905-ca951cc96f32, e152d28...</td>\n",
       "      <td>(e152d28f-5add-4799-8e46-d65f6fa599cf, 89d8a0b...</td>\n",
       "      <td>(89d8a0b2-5b72-402a-b50a-66f596583f53, 4986cc3...</td>\n",
       "      <td>(4986cc39-9cde-46cf-a6b1-d851afe7b42f, 0c38ecf...</td>\n",
       "      <td>(0c38ecf1-faac-4464-8905-ca951cc96f32, 00832b6...</td>\n",
       "    </tr>\n",
       "    <tr>\n",
       "      <th>2</th>\n",
       "      <td>(0c38ecf1-faac-4464-8905-ca951cc96f32, e152d28...</td>\n",
       "      <td>(e152d28f-5add-4799-8e46-d65f6fa599cf, 89d8a0b...</td>\n",
       "      <td>(89d8a0b2-5b72-402a-b50a-66f596583f53, 4986cc3...</td>\n",
       "      <td>(4986cc39-9cde-46cf-a6b1-d851afe7b42f, 0c38ecf...</td>\n",
       "      <td>(0c38ecf1-faac-4464-8905-ca951cc96f32, 00be128...</td>\n",
       "    </tr>\n",
       "    <tr>\n",
       "      <th>3</th>\n",
       "      <td>(0c38ecf1-faac-4464-8905-ca951cc96f32, e152d28...</td>\n",
       "      <td>(e152d28f-5add-4799-8e46-d65f6fa599cf, 89d8a0b...</td>\n",
       "      <td>(89d8a0b2-5b72-402a-b50a-66f596583f53, 4986cc3...</td>\n",
       "      <td>(4986cc39-9cde-46cf-a6b1-d851afe7b42f, 0c38ecf...</td>\n",
       "      <td>(0c38ecf1-faac-4464-8905-ca951cc96f32, 00cd1b7...</td>\n",
       "    </tr>\n",
       "    <tr>\n",
       "      <th>4</th>\n",
       "      <td>(0c38ecf1-faac-4464-8905-ca951cc96f32, e152d28...</td>\n",
       "      <td>(e152d28f-5add-4799-8e46-d65f6fa599cf, 89d8a0b...</td>\n",
       "      <td>(89d8a0b2-5b72-402a-b50a-66f596583f53, 4986cc3...</td>\n",
       "      <td>(4986cc39-9cde-46cf-a6b1-d851afe7b42f, 0c38ecf...</td>\n",
       "      <td>(0c38ecf1-faac-4464-8905-ca951cc96f32, 00f99e3...</td>\n",
       "    </tr>\n",
       "    <tr>\n",
       "      <th>...</th>\n",
       "      <td>...</td>\n",
       "      <td>...</td>\n",
       "      <td>...</td>\n",
       "      <td>...</td>\n",
       "      <td>...</td>\n",
       "    </tr>\n",
       "    <tr>\n",
       "      <th>20846</th>\n",
       "      <td>(f5d1c003-1f65-4a8a-ba8c-413da99d70f2, a52f651...</td>\n",
       "      <td>(a52f6519-6265-4437-9f6c-3402fb245cc7, f5d1c00...</td>\n",
       "      <td>(f5d1c003-1f65-4a8a-ba8c-413da99d70f2, a52f651...</td>\n",
       "      <td>(a52f6519-6265-4437-9f6c-3402fb245cc7, f5d1c00...</td>\n",
       "      <td>(f5d1c003-1f65-4a8a-ba8c-413da99d70f2, a52f651...</td>\n",
       "    </tr>\n",
       "    <tr>\n",
       "      <th>20847</th>\n",
       "      <td>(d0c2c702-a256-46be-9f95-f33e16feff24, 5091c65...</td>\n",
       "      <td>(5091c65f-71d1-4a26-9aa2-3514525271ab, 39be10b...</td>\n",
       "      <td>(39be10bb-2c30-4eeb-ba8b-e5685f72ef80, 102b922...</td>\n",
       "      <td>(102b9229-0606-42f3-a5d9-b508cad95720, ff9f6df...</td>\n",
       "      <td>(ff9f6df1-61d0-4497-822b-35a401116fe4, 8c5cd15...</td>\n",
       "    </tr>\n",
       "    <tr>\n",
       "      <th>20848</th>\n",
       "      <td>(4986cc39-9cde-46cf-a6b1-d851afe7b42f, 0c38ecf...</td>\n",
       "      <td>(0c38ecf1-faac-4464-8905-ca951cc96f32, 39be10b...</td>\n",
       "      <td>(39be10bb-2c30-4eeb-ba8b-e5685f72ef80, 102b922...</td>\n",
       "      <td>(102b9229-0606-42f3-a5d9-b508cad95720, ff9f6df...</td>\n",
       "      <td>(ff9f6df1-61d0-4497-822b-35a401116fe4, 8c5cd15...</td>\n",
       "    </tr>\n",
       "    <tr>\n",
       "      <th>20849</th>\n",
       "      <td>(d0c2c702-a256-46be-9f95-f33e16feff24, 5091c65...</td>\n",
       "      <td>(5091c65f-71d1-4a26-9aa2-3514525271ab, 39be10b...</td>\n",
       "      <td>(39be10bb-2c30-4eeb-ba8b-e5685f72ef80, 102b922...</td>\n",
       "      <td>(102b9229-0606-42f3-a5d9-b508cad95720, ffea2b8...</td>\n",
       "      <td>(ffea2b80-71eb-46cf-8e9c-c4f868d662f1, e88d6a9...</td>\n",
       "    </tr>\n",
       "    <tr>\n",
       "      <th>20850</th>\n",
       "      <td>(4986cc39-9cde-46cf-a6b1-d851afe7b42f, 0c38ecf...</td>\n",
       "      <td>(0c38ecf1-faac-4464-8905-ca951cc96f32, 39be10b...</td>\n",
       "      <td>(39be10bb-2c30-4eeb-ba8b-e5685f72ef80, 102b922...</td>\n",
       "      <td>(102b9229-0606-42f3-a5d9-b508cad95720, ffea2b8...</td>\n",
       "      <td>(ffea2b80-71eb-46cf-8e9c-c4f868d662f1, e88d6a9...</td>\n",
       "    </tr>\n",
       "  </tbody>\n",
       "</table>\n",
       "<p>20851 rows × 5 columns</p>\n",
       "</div>"
      ],
      "text/plain": [
       "                                                      ab  \\\n",
       "0      (0c38ecf1-faac-4464-8905-ca951cc96f32, e152d28...   \n",
       "1      (0c38ecf1-faac-4464-8905-ca951cc96f32, e152d28...   \n",
       "2      (0c38ecf1-faac-4464-8905-ca951cc96f32, e152d28...   \n",
       "3      (0c38ecf1-faac-4464-8905-ca951cc96f32, e152d28...   \n",
       "4      (0c38ecf1-faac-4464-8905-ca951cc96f32, e152d28...   \n",
       "...                                                  ...   \n",
       "20846  (f5d1c003-1f65-4a8a-ba8c-413da99d70f2, a52f651...   \n",
       "20847  (d0c2c702-a256-46be-9f95-f33e16feff24, 5091c65...   \n",
       "20848  (4986cc39-9cde-46cf-a6b1-d851afe7b42f, 0c38ecf...   \n",
       "20849  (d0c2c702-a256-46be-9f95-f33e16feff24, 5091c65...   \n",
       "20850  (4986cc39-9cde-46cf-a6b1-d851afe7b42f, 0c38ecf...   \n",
       "\n",
       "                                                      bc  \\\n",
       "0      (e152d28f-5add-4799-8e46-d65f6fa599cf, 89d8a0b...   \n",
       "1      (e152d28f-5add-4799-8e46-d65f6fa599cf, 89d8a0b...   \n",
       "2      (e152d28f-5add-4799-8e46-d65f6fa599cf, 89d8a0b...   \n",
       "3      (e152d28f-5add-4799-8e46-d65f6fa599cf, 89d8a0b...   \n",
       "4      (e152d28f-5add-4799-8e46-d65f6fa599cf, 89d8a0b...   \n",
       "...                                                  ...   \n",
       "20846  (a52f6519-6265-4437-9f6c-3402fb245cc7, f5d1c00...   \n",
       "20847  (5091c65f-71d1-4a26-9aa2-3514525271ab, 39be10b...   \n",
       "20848  (0c38ecf1-faac-4464-8905-ca951cc96f32, 39be10b...   \n",
       "20849  (5091c65f-71d1-4a26-9aa2-3514525271ab, 39be10b...   \n",
       "20850  (0c38ecf1-faac-4464-8905-ca951cc96f32, 39be10b...   \n",
       "\n",
       "                                                      cd  \\\n",
       "0      (89d8a0b2-5b72-402a-b50a-66f596583f53, 4986cc3...   \n",
       "1      (89d8a0b2-5b72-402a-b50a-66f596583f53, 4986cc3...   \n",
       "2      (89d8a0b2-5b72-402a-b50a-66f596583f53, 4986cc3...   \n",
       "3      (89d8a0b2-5b72-402a-b50a-66f596583f53, 4986cc3...   \n",
       "4      (89d8a0b2-5b72-402a-b50a-66f596583f53, 4986cc3...   \n",
       "...                                                  ...   \n",
       "20846  (f5d1c003-1f65-4a8a-ba8c-413da99d70f2, a52f651...   \n",
       "20847  (39be10bb-2c30-4eeb-ba8b-e5685f72ef80, 102b922...   \n",
       "20848  (39be10bb-2c30-4eeb-ba8b-e5685f72ef80, 102b922...   \n",
       "20849  (39be10bb-2c30-4eeb-ba8b-e5685f72ef80, 102b922...   \n",
       "20850  (39be10bb-2c30-4eeb-ba8b-e5685f72ef80, 102b922...   \n",
       "\n",
       "                                                      de  \\\n",
       "0      (4986cc39-9cde-46cf-a6b1-d851afe7b42f, 0c38ecf...   \n",
       "1      (4986cc39-9cde-46cf-a6b1-d851afe7b42f, 0c38ecf...   \n",
       "2      (4986cc39-9cde-46cf-a6b1-d851afe7b42f, 0c38ecf...   \n",
       "3      (4986cc39-9cde-46cf-a6b1-d851afe7b42f, 0c38ecf...   \n",
       "4      (4986cc39-9cde-46cf-a6b1-d851afe7b42f, 0c38ecf...   \n",
       "...                                                  ...   \n",
       "20846  (a52f6519-6265-4437-9f6c-3402fb245cc7, f5d1c00...   \n",
       "20847  (102b9229-0606-42f3-a5d9-b508cad95720, ff9f6df...   \n",
       "20848  (102b9229-0606-42f3-a5d9-b508cad95720, ff9f6df...   \n",
       "20849  (102b9229-0606-42f3-a5d9-b508cad95720, ffea2b8...   \n",
       "20850  (102b9229-0606-42f3-a5d9-b508cad95720, ffea2b8...   \n",
       "\n",
       "                                                      ef  \n",
       "0      (0c38ecf1-faac-4464-8905-ca951cc96f32, 00714b7...  \n",
       "1      (0c38ecf1-faac-4464-8905-ca951cc96f32, 00832b6...  \n",
       "2      (0c38ecf1-faac-4464-8905-ca951cc96f32, 00be128...  \n",
       "3      (0c38ecf1-faac-4464-8905-ca951cc96f32, 00cd1b7...  \n",
       "4      (0c38ecf1-faac-4464-8905-ca951cc96f32, 00f99e3...  \n",
       "...                                                  ...  \n",
       "20846  (f5d1c003-1f65-4a8a-ba8c-413da99d70f2, a52f651...  \n",
       "20847  (ff9f6df1-61d0-4497-822b-35a401116fe4, 8c5cd15...  \n",
       "20848  (ff9f6df1-61d0-4497-822b-35a401116fe4, 8c5cd15...  \n",
       "20849  (ffea2b80-71eb-46cf-8e9c-c4f868d662f1, e88d6a9...  \n",
       "20850  (ffea2b80-71eb-46cf-8e9c-c4f868d662f1, e88d6a9...  \n",
       "\n",
       "[20851 rows x 5 columns]"
      ]
     },
     "execution_count": 63,
     "metadata": {},
     "output_type": "execute_result"
    }
   ],
   "source": [
    "import pandas as pd\n",
    "from pyspark.sql.functions import *\n",
    "from graphframes import *\n",
    "\n",
    "# find all paths of length 6 in the graph\n",
    "paths = g.find(\"(a)-[ab]->(b); (b)-[bc]->(c); (c)-[cd]->(d); (d)-[de]->(e); (e)-[ef]->(f)\")\n",
    "\n",
    "# filter paths to only those where all edges are connected\n",
    "connected_paths = paths.filter(\"ab.dst = bc.src and bc.dst = cd.src and cd.dst = de.src and de.dst = ef.src\")\n",
    "\n",
    "# get the 6 edges in each path and convert to a pandas dataframe\n",
    "connected_paths.select(\"ab\", \"bc\", \"cd\", \"de\", \"ef\").toPandas()\n",
    "\n"
   ]
  },
  {
   "cell_type": "code",
   "execution_count": null,
   "id": "86396660-204c-4b5d-89c8-e444eacfaba1",
   "metadata": {},
   "outputs": [],
   "source": []
  }
 ],
 "metadata": {
  "kernelspec": {
   "display_name": "conda_python3",
   "language": "python",
   "name": "conda_python3"
  },
  "language_info": {
   "codemirror_mode": {
    "name": "ipython",
    "version": 3
   },
   "file_extension": ".py",
   "mimetype": "text/x-python",
   "name": "python",
   "nbconvert_exporter": "python",
   "pygments_lexer": "ipython3",
   "version": "3.10.8"
  }
 },
 "nbformat": 4,
 "nbformat_minor": 5
}
