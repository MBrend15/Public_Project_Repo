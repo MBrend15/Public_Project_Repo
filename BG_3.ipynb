{
 "cells": [
  {
   "cell_type": "code",
   "execution_count": 1,
   "id": "87f24504-2df2-4a9d-9ee7-349fa331b8e6",
   "metadata": {
    "tags": []
   },
   "outputs": [
    {
     "name": "stderr",
     "output_type": "stream",
     "text": [
      "Warning: Ignoring non-Spark config property: fs.s3a.access.key\n",
      "Warning: Ignoring non-Spark config property: fs.s3a.secret.key\n"
     ]
    },
    {
     "name": "stdout",
     "output_type": "stream",
     "text": [
      ":: loading settings :: url = jar:file:/home/ec2-user/anaconda3/envs/python3/lib/python3.10/site-packages/pyspark/jars/ivy-2.5.0.jar!/org/apache/ivy/core/settings/ivysettings.xml\n"
     ]
    },
    {
     "name": "stderr",
     "output_type": "stream",
     "text": [
      "Ivy Default Cache set to: /home/ec2-user/.ivy2/cache\n",
      "The jars for the packages stored in: /home/ec2-user/.ivy2/jars\n",
      "graphframes#graphframes added as a dependency\n",
      ":: resolving dependencies :: org.apache.spark#spark-submit-parent-609ecd63-5e99-479d-9140-a81db41f2b78;1.0\n",
      "\tconfs: [default]\n",
      "\tfound graphframes#graphframes;0.8.2-spark3.2-s_2.12 in spark-packages\n",
      "\tfound org.slf4j#slf4j-api;1.7.16 in central\n",
      ":: resolution report :: resolve 177ms :: artifacts dl 17ms\n",
      "\t:: modules in use:\n",
      "\tgraphframes#graphframes;0.8.2-spark3.2-s_2.12 from spark-packages in [default]\n",
      "\torg.slf4j#slf4j-api;1.7.16 from central in [default]\n",
      "\t---------------------------------------------------------------------\n",
      "\t|                  |            modules            ||   artifacts   |\n",
      "\t|       conf       | number| search|dwnlded|evicted|| number|dwnlded|\n",
      "\t---------------------------------------------------------------------\n",
      "\t|      default     |   2   |   0   |   0   |   0   ||   2   |   0   |\n",
      "\t---------------------------------------------------------------------\n",
      ":: retrieving :: org.apache.spark#spark-submit-parent-609ecd63-5e99-479d-9140-a81db41f2b78\n",
      "\tconfs: [default]\n",
      "\t0 artifacts copied, 2 already retrieved (0kB/6ms)\n"
     ]
    },
    {
     "name": "stdout",
     "output_type": "stream",
     "text": [
      "23/03/03 22:51:51 WARN NativeCodeLoader: Unable to load native-hadoop library for your platform... using builtin-java classes where applicable\n"
     ]
    },
    {
     "name": "stderr",
     "output_type": "stream",
     "text": [
      "Setting default log level to \"WARN\".\n",
      "To adjust logging level use sc.setLogLevel(newLevel). For SparkR, use setLogLevel(newLevel).\n"
     ]
    },
    {
     "name": "stdout",
     "output_type": "stream",
     "text": [
      "23/03/03 22:51:52 WARN SparkConf: Note that spark.local.dir will be overridden by the value set by the cluster manager (via SPARK_LOCAL_DIRS in mesos/standalone/kubernetes and LOCAL_DIRS in YARN).\n",
      "23/03/03 22:51:53 WARN Utils: Service 'SparkUI' could not bind on port 4040. Attempting port 4041.\n"
     ]
    }
   ],
   "source": [
    "%run ./read_file.ipynb"
   ]
  },
  {
   "cell_type": "code",
   "execution_count": 2,
   "id": "d72cf0be-897e-46bf-90f2-52c5d35d02ca",
   "metadata": {
    "tags": []
   },
   "outputs": [
    {
     "name": "stderr",
     "output_type": "stream",
     "text": [
      "                                                                                \r"
     ]
    },
    {
     "name": "stdout",
     "output_type": "stream",
     "text": [
      "10:52PM UTC on Mar 03, 2023 --- read and cache time: 15.306923627853394 seconds ---\n"
     ]
    }
   ],
   "source": [
    "df = readCheckpoint('ecar', 'prod', 'small')"
   ]
  },
  {
   "cell_type": "code",
   "execution_count": 3,
   "id": "c3fc0c65-6cdc-46e5-9bf3-5f6da65eab48",
   "metadata": {
    "tags": []
   },
   "outputs": [],
   "source": [
    "def build_adgaceny(df):\n",
    "    #first step sort the data and check\n",
    "    df = df.sort(col(\"timestamp\").asc())\n",
    "    #df.select(\"timestamp\").limit(10).toPandas()\n",
    "    \n",
    "    #now get overlapping connections\n",
    "\n",
    "    #build collections of each type of ID\n",
    "    col_objID = df.select(\"objectID\").distinct().collect()\n",
    "    col_actID = df.select(\"actorID\").distinct().collect()\n",
    "\n",
    "    #put these columns into a dictionary and turn into a spark data frame\n",
    "    data = [{\"actorIDs\" : [row.actorID for row in col_actID], \\\n",
    "                   \"objectIDs\" : [row.objectID for row in col_objID]}]\n",
    "\n",
    "    id_intersect = spark.createDataFrame(data)\n",
    "\n",
    "    #compare ID pools to find actIDs that are nodes\n",
    "    id_intersect = id_intersect.withColumn(\"id_int\", \\\n",
    "                                           array_intersect(col(\"actorIDs\"),col(\"objectIDs\")))\n",
    "\n",
    "    #now build a list of the nodal actIDs and print the length\n",
    "    actIDs = [row.id_int for row in id_intersect.select(\"id_int\").collect()][0]\n",
    "    \n",
    "    print(actIDs)\n",
    "    \n",
    "    #for all actors in actIDs\n",
    "    #for aID in actID: \n",
    "     #   first_actor = actIDs[0]\n",
    "      #  print(first_actor)\n",
    "       # print(df.where(col(\"objectID\") == first_actor).count())\n",
    "       # df.select('id','timestamp','objectID','actorID', 'object').where(col(\"objectID\") == first_actor)\n",
    "    \n",
    "    \n",
    "    \n",
    "    \n",
    "    "
   ]
  },
  {
   "cell_type": "code",
   "execution_count": 4,
   "id": "c188807d-488e-4df5-aaf2-c40fa778bac0",
   "metadata": {
    "tags": []
   },
   "outputs": [
    {
     "name": "stderr",
     "output_type": "stream",
     "text": [
      "[Stage 14:===========================================>              (3 + 1) / 4]\r"
     ]
    },
    {
     "name": "stdout",
     "output_type": "stream",
     "text": [
      "[]\n"
     ]
    },
    {
     "name": "stderr",
     "output_type": "stream",
     "text": [
      "                                                                                \r"
     ]
    }
   ],
   "source": [
    "build_adgaceny(df)"
   ]
  }
 ],
 "metadata": {
  "kernelspec": {
   "display_name": "conda_python3",
   "language": "python",
   "name": "conda_python3"
  },
  "language_info": {
   "codemirror_mode": {
    "name": "ipython",
    "version": 3
   },
   "file_extension": ".py",
   "mimetype": "text/x-python",
   "name": "python",
   "nbconvert_exporter": "python",
   "pygments_lexer": "ipython3",
   "version": "3.10.8"
  }
 },
 "nbformat": 4,
 "nbformat_minor": 5
}
