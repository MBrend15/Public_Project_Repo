{
 "cells": [
  {
   "cell_type": "code",
   "execution_count": 1,
   "id": "970130b0-b08c-4536-936e-ca923cc595a9",
   "metadata": {
    "tags": []
   },
   "outputs": [],
   "source": [
    "#setup based on this: https://t-redactyl.io/blog/2020/08/reading-s3-data-into-a-spark-dataframe-using-sagemaker.html\n",
    "import boto3\n",
    "import json \n",
    "import time\n",
    "import pandas as pd\n",
    "from pyspark import SparkConf\n",
    "from pyspark.sql import SparkSession\n",
    "from pyspark.sql.types import *\n",
    "from pyspark.sql.functions import *\n",
    "import matplotlib.pyplot as plt\n",
    "import sagemaker_pyspark\n",
    "import botocore.session"
   ]
  },
  {
   "cell_type": "markdown",
   "id": "1e5ef5d6-368f-43af-b519-ba5112c87b79",
   "metadata": {},
   "source": [
    "## Set Spark Session Configuration"
   ]
  },
  {
   "cell_type": "code",
   "execution_count": 2,
   "id": "6d8e9008-6651-4c17-8c12-eef2b18e10fe",
   "metadata": {
    "tags": []
   },
   "outputs": [],
   "source": [
    "session = botocore.session.get_session()\n",
    "credentials = session.get_credentials()"
   ]
  },
  {
   "cell_type": "code",
   "execution_count": 3,
   "id": "7486ea00-f477-4f51-bf6e-b66a57f1a557",
   "metadata": {
    "tags": []
   },
   "outputs": [],
   "source": [
    "client = boto3.client('secretsmanager')\n",
    "response = client.get_secret_value(\n",
    "    SecretId='sapient-s3-access'\n",
    ")\n",
    "response = json.loads(response['SecretString'])\n",
    "access_key = response[\"aws_access_key_id\"]\n",
    "secret_key = response[\"aws_secret_access_key\"]"
   ]
  },
  {
   "cell_type": "code",
   "execution_count": 4,
   "id": "372553c2-9f17-4c4f-b253-275e30a1ef35",
   "metadata": {
    "tags": []
   },
   "outputs": [],
   "source": [
    "conf = (SparkConf()\n",
    "        .set(\"spark.driver.extraClassPath\", \":\".join(sagemaker_pyspark.classpath_jars()))\n",
    "       )"
   ]
  },
  {
   "cell_type": "code",
   "execution_count": 5,
   "id": "9392e443-f6d6-4a54-bbb8-2972eafaf97e",
   "metadata": {
    "tags": []
   },
   "outputs": [
    {
     "name": "stderr",
     "output_type": "stream",
     "text": [
      "Warning: Ignoring non-Spark config property: fs.s3a.access.key\n",
      "Warning: Ignoring non-Spark config property: fs.s3a.secret.key\n",
      "Setting default log level to \"WARN\".\n",
      "To adjust logging level use sc.setLogLevel(newLevel). For SparkR, use setLogLevel(newLevel).\n"
     ]
    },
    {
     "name": "stdout",
     "output_type": "stream",
     "text": [
      "23/03/22 06:40:00 WARN NativeCodeLoader: Unable to load native-hadoop library for your platform... using builtin-java classes where applicable\n",
      "23/03/22 06:40:01 WARN SparkConf: Note that spark.local.dir will be overridden by the value set by the cluster manager (via SPARK_LOCAL_DIRS in mesos/standalone/kubernetes and LOCAL_DIRS in YARN).\n"
     ]
    }
   ],
   "source": [
    "# https://spark.apache.org/docs/latest/configuration.html#memory-management\n",
    "spark = (\n",
    "    SparkSession\n",
    "    .builder\n",
    "    .config(conf=conf) \\\n",
    "    .config('fs.s3a.access.key', access_key)\n",
    "    .config('fs.s3a.secret.key', secret_key)\n",
    "    .config('spark.network.timeout', 300)\n",
    "    .config('spark.local.dir', '/home/ec2-user/SageMaker/tmp')\n",
    "    .config(\"spark.executor.memory\", \"400g\")\n",
    "    .config(\"spark.driver.memory\", \"80g\")\n",
    "    .config(\"spark.memory.offHeap.enabled\", \"true\")\n",
    "    .config(\"spark.memory.offHeap.size\",\"50g\")\n",
    "    .appName(\"sapient\")\n",
    "    .getOrCreate()\n",
    ")\n",
    "spark.sparkContext.setLogLevel(\"ERROR\")"
   ]
  },
  {
   "cell_type": "markdown",
   "id": "322f0acc-5281-4b73-a33b-67ac7c05b96a",
   "metadata": {},
   "source": [
    "## Functions to Load and Read Data"
   ]
  },
  {
   "cell_type": "code",
   "execution_count": 6,
   "id": "4a5e8ea5-b6a8-4fdd-84d5-22e3b31c7340",
   "metadata": {
    "tags": []
   },
   "outputs": [],
   "source": [
    "# read from raw bucket + write to refined bucket + aggregate final to the trusted bucket\n",
    "s3_url_raw = \"s3a://sapient-bucket-raw/\"\n",
    "s3_url_refined = \"s3a://sapient-bucket-refined/\"\n",
    "s3_url_trusted = \"s3a://sapient-bucket-trusted/\"\n",
    "ecar_cols = [\n",
    "    'id','timestamp','objectID','actorID','object','action','hostname', 'user_name', 'privileges', 'image_path', \n",
    "    'parent_image_path', 'new_path', 'file_path', 'direction', 'logon_id', 'requesting_domain', 'requesting_user'\n",
    "            ]\n",
    "bro_cols_conn = ['ts', 'uid', 'id.orig_h', 'id.orig_p', 'id.resp_', 'id.resp_p', 'proto', 'service', 'duration', 'orig_bytes', 'resp_bytes', 'conn_state', \n",
    "                 'local_orig', 'local_resp', 'missed_bytes', 'history', 'orig_pkts', 'orig_ip_bytes', 'resp_pkts', 'resp_ip_bytes', 'tunnel_parents']\n",
    "bro_cols_rep = ['ts', 'level', 'message', 'location']"
   ]
  },
  {
   "cell_type": "code",
   "execution_count": null,
   "id": "77306fdd-eba1-4c6e-a41d-ab3a206ea6a6",
   "metadata": {},
   "outputs": [],
   "source": []
  },
  {
   "cell_type": "code",
   "execution_count": 7,
   "id": "566b39b8-f90b-4deb-888f-50b69977aefb",
   "metadata": {
    "tags": []
   },
   "outputs": [],
   "source": [
    "def get_count(type='ecar', env='prod'):\n",
    "    \"\"\"\n",
    "    type: ecar, ecar-bro, bro\n",
    "    \"\"\"\n",
    "    s3_read_loc = f\"{s3_url_refined}/{env}/{type}\"\n",
    "    if type == 'labels':\n",
    "        s3_write_loc = f\"{s3_url_trusted}/{env}/{type}\"\n",
    "        df = spark.read.parquet(s3_read_loc).cache()\n",
    "    else:\n",
    "        s3_write_loc = f\"{s3_url_trusted}/{env}/{type}/{size}\"\n",
    "        start_time = time.time()\n",
    "        df = spark.read.parquet(s3_read_loc)\\\n",
    "                    .select(*ecar_cols) \\\n",
    "                    .cache()\n",
    "        df = df.withColumn('event_minute', minute(col('timestamp'))) \\\n",
    "               .withColumn('event_day', dayofmonth(col('timestamp'))) \\\n",
    "               .withColumn('event_hour', hour(col('timestamp')))\n",
    "    print(time.strftime('%l:%M%p %Z on %b %d, %Y') + \" --- read and cache time: %s seconds ---\" % (time.time() - start_time))\n",
    "    row_count = df.count()\n",
    "    print(time.strftime('%l:%M%p %Z on %b %d, %Y') + f\" -- Your new dataframe has {row_count:,} rows.\")\n",
    "    df.unpersist()\n",
    "    return row_count"
   ]
  },
  {
   "cell_type": "code",
   "execution_count": 8,
   "id": "3da36833-09fd-4c65-bc6b-a416a0b7dec0",
   "metadata": {
    "tags": []
   },
   "outputs": [],
   "source": [
    "def refined_to_trusted(type='ecar-bro', env='prod', size='test', read_lim=10000000):\n",
    "    \"\"\"\n",
    "    type: ecar, ecar-bro, bro\n",
    "    \"\"\"\n",
    "    s3_read_loc = f\"{s3_url_refined}/{env}/{type}\"\n",
    "    if type == 'labels':\n",
    "        s3_write_loc = f\"{s3_url_trusted}/{env}/{type}\"\n",
    "        df = spark.read.parquet(s3_read_loc).cache()\n",
    "    else:\n",
    "        s3_write_loc = f\"{s3_url_trusted}/{env}/{type}/{size}\"\n",
    "        start_time = time.time()\n",
    "        df = spark.read.parquet(s3_read_loc)\\\n",
    "                    .select(*ecar_cols) \\\n",
    "                    .filter((dayofmonth(col('timestamp')).isin( [23,24,25]) )) \\\n",
    "                    .where( col('actorID') != col('objectID') ) \\\n",
    "                    .cache()\n",
    "        df = df.withColumn('event_minute', minute(col('timestamp'))) \\\n",
    "               .withColumn('event_day', dayofmonth(col('timestamp'))) \\\n",
    "               .withColumn('event_hour', hour(col('timestamp')))\n",
    "        if size == 'all':\n",
    "            pass\n",
    "        else:\n",
    "            df = df.limit(read_lim)\n",
    "    print(time.strftime('%l:%M%p %Z on %b %d, %Y') + \" --- read and cache time: %s seconds ---\" % (time.time() - start_time))\n",
    "    start_time = time.time()\n",
    "    df.write.option(\"maxRecordsPerFile\", 300000).mode(\"overwrite\").parquet(s3_write_loc)\n",
    "    print(time.strftime('%l:%M%p %Z on %b %d, %Y') + \" --- write time: %s seconds ---\" % (time.time() - start_time))"
   ]
  },
  {
   "cell_type": "code",
   "execution_count": 9,
   "id": "071172e7-81b2-4bf0-b1cd-fcceb2ab5bef",
   "metadata": {
    "tags": []
   },
   "outputs": [],
   "source": [
    "# max_rows = get_count('ecar')"
   ]
  },
  {
   "cell_type": "code",
   "execution_count": 10,
   "id": "4ac7384d-bf68-4197-bcd4-dc4af9c6c18f",
   "metadata": {
    "tags": []
   },
   "outputs": [
    {
     "name": "stderr",
     "output_type": "stream",
     "text": [
      "                                                                                \r"
     ]
    },
    {
     "name": "stdout",
     "output_type": "stream",
     "text": [
      " 6:40AM UTC on Mar 22, 2023 --- read and cache time: 12.170194387435913 seconds ---\n"
     ]
    },
    {
     "name": "stderr",
     "output_type": "stream",
     "text": [
      "                                                                                \r"
     ]
    },
    {
     "name": "stdout",
     "output_type": "stream",
     "text": [
      " 6:47AM UTC on Mar 22, 2023 --- write time: 433.9069962501526 seconds ---\n"
     ]
    }
   ],
   "source": [
    "refined_to_trusted('ecar', size='test',   read_lim=1000)"
   ]
  },
  {
   "cell_type": "code",
   "execution_count": 11,
   "id": "bdc70013-b2b4-4cb1-8765-4ab02c913b31",
   "metadata": {},
   "outputs": [
    {
     "name": "stdout",
     "output_type": "stream",
     "text": [
      " 6:47AM UTC on Mar 22, 2023 --- read and cache time: 3.806011438369751 seconds ---\n"
     ]
    },
    {
     "name": "stderr",
     "output_type": "stream",
     "text": [
      "                                                                                \r"
     ]
    },
    {
     "name": "stdout",
     "output_type": "stream",
     "text": [
      " 7:11AM UTC on Mar 22, 2023 --- write time: 1456.450703382492 seconds ---\n"
     ]
    }
   ],
   "source": [
    "refined_to_trusted('ecar', size='all')"
   ]
  },
  {
   "cell_type": "code",
   "execution_count": 12,
   "id": "78af8e7b-3a37-45cc-87a3-446aa02dddc1",
   "metadata": {
    "tags": []
   },
   "outputs": [],
   "source": [
    "# refined_to_trusted('ecar', size='small',  read_lim=10000000)"
   ]
  },
  {
   "cell_type": "code",
   "execution_count": 13,
   "id": "b164961f-99bc-48be-9d9a-907149dfe7d3",
   "metadata": {
    "tags": []
   },
   "outputs": [],
   "source": [
    "# refined_to_trusted('ecar', size='medium', read_lim=100000000)"
   ]
  },
  {
   "cell_type": "code",
   "execution_count": 14,
   "id": "c2a4a6e5-c5de-4601-ad40-0935fe9cf3cb",
   "metadata": {},
   "outputs": [],
   "source": [
    "# refined_to_trusted('ecar', size='large',  read_lim=500000000)"
   ]
  },
  {
   "cell_type": "code",
   "execution_count": 15,
   "id": "fccc8c75-eebe-4fda-ab6e-3a4061a1d797",
   "metadata": {
    "tags": []
   },
   "outputs": [],
   "source": [
    "# s3_read_loc = f\"{s3_url_refined}/prod/ecar\"\n",
    "# df = spark.read.parquet(s3_read_loc)\\\n",
    "#                     .cache()"
   ]
  },
  {
   "cell_type": "code",
   "execution_count": 16,
   "id": "6027beda-f3f8-4788-920d-e4f7fdb2043b",
   "metadata": {
    "tags": []
   },
   "outputs": [],
   "source": [
    "# df.count()"
   ]
  }
 ],
 "metadata": {
  "kernelspec": {
   "display_name": "conda_python3",
   "language": "python",
   "name": "conda_python3"
  },
  "language_info": {
   "codemirror_mode": {
    "name": "ipython",
    "version": 3
   },
   "file_extension": ".py",
   "mimetype": "text/x-python",
   "name": "python",
   "nbconvert_exporter": "python",
   "pygments_lexer": "ipython3",
   "version": "3.10.8"
  }
 },
 "nbformat": 4,
 "nbformat_minor": 5
}
