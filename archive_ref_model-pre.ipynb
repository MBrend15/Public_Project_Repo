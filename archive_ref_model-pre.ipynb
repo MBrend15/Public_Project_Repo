{
 "cells": [
  {
   "cell_type": "code",
   "execution_count": 1,
   "id": "00840703-0e6d-425b-a98c-9acd216c475e",
   "metadata": {
    "tags": []
   },
   "outputs": [],
   "source": [
    "#%pip install graphframes"
   ]
  },
  {
   "cell_type": "code",
   "execution_count": 2,
   "id": "1a292fdb-79e5-43fe-bf02-1bc1e9333db6",
   "metadata": {
    "tags": []
   },
   "outputs": [
    {
     "name": "stderr",
     "output_type": "stream",
     "text": [
      "Warning: Ignoring non-Spark config property: fs.s3a.access.key\n",
      "Warning: Ignoring non-Spark config property: fs.s3a.secret.key\n"
     ]
    },
    {
     "name": "stdout",
     "output_type": "stream",
     "text": [
      ":: loading settings :: url = jar:file:/home/ec2-user/anaconda3/envs/python3/lib/python3.10/site-packages/pyspark/jars/ivy-2.5.0.jar!/org/apache/ivy/core/settings/ivysettings.xml\n"
     ]
    },
    {
     "name": "stderr",
     "output_type": "stream",
     "text": [
      "Ivy Default Cache set to: /home/ec2-user/.ivy2/cache\n",
      "The jars for the packages stored in: /home/ec2-user/.ivy2/jars\n",
      "graphframes#graphframes added as a dependency\n",
      ":: resolving dependencies :: org.apache.spark#spark-submit-parent-64bcb3c2-3004-4229-ac1f-b7602fc41d05;1.0\n",
      "\tconfs: [default]\n",
      "\tfound graphframes#graphframes;0.8.2-spark3.2-s_2.12 in spark-packages\n",
      "\tfound org.slf4j#slf4j-api;1.7.16 in central\n",
      ":: resolution report :: resolve 129ms :: artifacts dl 3ms\n",
      "\t:: modules in use:\n",
      "\tgraphframes#graphframes;0.8.2-spark3.2-s_2.12 from spark-packages in [default]\n",
      "\torg.slf4j#slf4j-api;1.7.16 from central in [default]\n",
      "\t---------------------------------------------------------------------\n",
      "\t|                  |            modules            ||   artifacts   |\n",
      "\t|       conf       | number| search|dwnlded|evicted|| number|dwnlded|\n",
      "\t---------------------------------------------------------------------\n",
      "\t|      default     |   2   |   0   |   0   |   0   ||   2   |   0   |\n",
      "\t---------------------------------------------------------------------\n",
      ":: retrieving :: org.apache.spark#spark-submit-parent-64bcb3c2-3004-4229-ac1f-b7602fc41d05\n",
      "\tconfs: [default]\n",
      "\t0 artifacts copied, 2 already retrieved (0kB/4ms)\n"
     ]
    },
    {
     "name": "stdout",
     "output_type": "stream",
     "text": [
      "23/03/19 23:54:28 WARN NativeCodeLoader: Unable to load native-hadoop library for your platform... using builtin-java classes where applicable\n"
     ]
    },
    {
     "name": "stderr",
     "output_type": "stream",
     "text": [
      "Setting default log level to \"WARN\".\n",
      "To adjust logging level use sc.setLogLevel(newLevel). For SparkR, use setLogLevel(newLevel).\n"
     ]
    },
    {
     "name": "stdout",
     "output_type": "stream",
     "text": [
      "23/03/19 23:54:28 WARN SparkConf: Note that spark.local.dir will be overridden by the value set by the cluster manager (via SPARK_LOCAL_DIRS in mesos/standalone/kubernetes and LOCAL_DIRS in YARN).\n",
      "23/03/19 23:54:29 WARN Utils: Service 'SparkUI' could not bind on port 4040. Attempting port 4041.\n",
      "23/03/19 23:54:29 WARN Utils: Service 'SparkUI' could not bind on port 4041. Attempting port 4042.\n"
     ]
    }
   ],
   "source": [
    "#run dependent notebooks\n",
    "# %run ./etl_trusted_features.ipynb\n",
    "%run ./read_file.ipynb\n",
    "from graphframes import GraphFrame"
   ]
  },
  {
   "cell_type": "code",
   "execution_count": 3,
   "id": "de1b2517-6b3c-4ac1-8700-f6ba4b6d73bf",
   "metadata": {
    "tags": []
   },
   "outputs": [
    {
     "name": "stderr",
     "output_type": "stream",
     "text": [
      "                                                                                \r"
     ]
    },
    {
     "name": "stdout",
     "output_type": "stream",
     "text": [
      "11:54PM UTC on Mar 19, 2023 --- read time: 16.14694881439209 seconds ---\n"
     ]
    }
   ],
   "source": [
    "#read in filtered data\n",
    "df = readFirstEvents()"
   ]
  },
  {
   "cell_type": "code",
   "execution_count": 4,
   "id": "df9356dc-d2b0-41f8-b1aa-3fe4868a15d4",
   "metadata": {
    "tags": []
   },
   "outputs": [
    {
     "name": "stderr",
     "output_type": "stream",
     "text": [
      "                                                                                \r"
     ]
    },
    {
     "data": {
      "text/plain": [
       "948334"
      ]
     },
     "execution_count": 4,
     "metadata": {},
     "output_type": "execute_result"
    }
   ],
   "source": [
    "#get a total count \n",
    "df.count()"
   ]
  },
  {
   "cell_type": "code",
   "execution_count": 5,
   "id": "9fc101b1-3988-4bf1-8a40-0925d4ce16aa",
   "metadata": {
    "tags": []
   },
   "outputs": [
    {
     "name": "stdout",
     "output_type": "stream",
     "text": [
      "root\n",
      " |-- id: string (nullable = true)\n",
      " |-- timestamp: timestamp (nullable = true)\n",
      " |-- objectID: string (nullable = true)\n",
      " |-- actorID: string (nullable = true)\n",
      " |-- object: string (nullable = true)\n",
      " |-- action: string (nullable = true)\n",
      " |-- hostname: string (nullable = true)\n",
      " |-- user_name: string (nullable = true)\n",
      " |-- privileges: string (nullable = true)\n",
      " |-- image_path: string (nullable = true)\n",
      " |-- parent_image_path: string (nullable = true)\n",
      " |-- new_path: string (nullable = true)\n",
      " |-- file_path: string (nullable = true)\n",
      " |-- direction: string (nullable = true)\n",
      " |-- logon_id: string (nullable = true)\n",
      " |-- requesting_domain: string (nullable = true)\n",
      " |-- requesting_user: string (nullable = true)\n",
      " |-- event_minute: integer (nullable = true)\n",
      " |-- event_day: integer (nullable = true)\n",
      " |-- event_hour: integer (nullable = true)\n",
      " |-- malicious: integer (nullable = true)\n",
      " |-- relationship: string (nullable = true)\n",
      "\n"
     ]
    }
   ],
   "source": [
    "#reminder of shcema\n",
    "df.printSchema()"
   ]
  },
  {
   "cell_type": "code",
   "execution_count": 6,
   "id": "80c3a5bf-6b78-4631-87fa-0f8115962355",
   "metadata": {
    "tags": []
   },
   "outputs": [],
   "source": [
    "#split into df_b and df_m for benign and malicious\n",
    "df_m = df.where(col('malicious') == 1)\n",
    "df_b = df.where(col('malicious') == 0)"
   ]
  },
  {
   "cell_type": "code",
   "execution_count": 7,
   "id": "801e7e4c-10e7-47ea-9b3a-daee6db76144",
   "metadata": {
    "tags": []
   },
   "outputs": [
    {
     "name": "stdout",
     "output_type": "stream",
     "text": [
      "+---------+\n",
      "|event_day|\n",
      "+---------+\n",
      "|       23|\n",
      "+---------+\n",
      "\n",
      "+----------+\n",
      "|event_hour|\n",
      "+----------+\n",
      "|        19|\n",
      "|        15|\n",
      "|        17|\n",
      "|        18|\n",
      "|        16|\n",
      "+----------+\n",
      "\n",
      "mal day: Nonemal hour: None\n",
      "+---------+\n",
      "|event_day|\n",
      "+---------+\n",
      "|       23|\n",
      "+---------+\n",
      "\n",
      "+----------+\n",
      "|event_hour|\n",
      "+----------+\n",
      "|        13|\n",
      "|        16|\n",
      "|        19|\n",
      "|        15|\n",
      "|        17|\n",
      "|        14|\n",
      "|        18|\n",
      "+----------+\n",
      "\n",
      "ben day: Noneben hour: None\n"
     ]
    }
   ],
   "source": [
    "#understand the day time spread of each\n",
    "print('mal day: '+str(df_m.select('event_day').distinct().show()) + \n",
    "      'mal hour: '+str(df_m.select('event_hour').distinct().show()))\n",
    "print('ben day: '+str(df_b.select('event_day').distinct().show()) + \n",
    "      'ben hour: '+str(df_b.select('event_hour').distinct().show()))"
   ]
  },
  {
   "cell_type": "code",
   "execution_count": 8,
   "id": "5f601d7b-d946-4e39-b89e-2c014fa0f273",
   "metadata": {
    "tags": []
   },
   "outputs": [],
   "source": [
    "#down select benign events to those that occured the same time at malicious events\n",
    "\n",
    "df_b_ds = df_b.where((col('event_hour')<=19) & (col('event_hour')>=15))"
   ]
  },
  {
   "cell_type": "code",
   "execution_count": 9,
   "id": "156c47d8-9bd1-4f45-84c4-09603d68c768",
   "metadata": {
    "tags": []
   },
   "outputs": [
    {
     "name": "stdout",
     "output_type": "stream",
     "text": [
      "b: 633914\n",
      "m: 3624\n"
     ]
    }
   ],
   "source": [
    "#and count these events and malicious events\n",
    "print(\"b: \"+str(df_b_ds.count()))\n",
    "print(\"m: \"+str(df_m.count()))"
   ]
  },
  {
   "cell_type": "code",
   "execution_count": 10,
   "id": "82454107-99b9-4c10-a8d0-94e760d7b9bf",
   "metadata": {
    "tags": []
   },
   "outputs": [],
   "source": [
    "\n",
    "# Create distinct vertices with source as actorid, destination as objectid\n",
    "src_vertices = df_m.selectExpr('actorID as id').distinct()\n",
    "dst_vertices = df_m.selectExpr('objectID as id').distinct()\n",
    "vertices = src_vertices.union(dst_vertices).distinct()\n",
    "\n",
    "# Create edges by using timestamp as an edge\n",
    "edges = df_m.selectExpr('actorID as src', 'objectID as dst', 'timestamp', 'object', 'action', 'hostname', 'user_name', 'privileges', 'image_path',\n",
    "                      'parent_image_path', 'new_path', 'file_path', 'direction', 'logon_id', 'requesting_domain', 'requesting_user', 'malicious')\n",
    "\n"
   ]
  },
  {
   "cell_type": "code",
   "execution_count": 11,
   "id": "578168ce-3bd9-4ba5-8f40-a2e023a17ae3",
   "metadata": {
    "tags": []
   },
   "outputs": [
    {
     "name": "stdout",
     "output_type": "stream",
     "text": [
      "+--------------------+\n",
      "|                  id|\n",
      "+--------------------+\n",
      "|d5846376-9596-428...|\n",
      "|4a3392b6-acc8-4c2...|\n",
      "|64c0966e-66f8-452...|\n",
      "|bff0865c-96aa-4fb...|\n",
      "|96913629-c1c9-450...|\n",
      "+--------------------+\n",
      "\n",
      "+--------------------+\n",
      "|                  id|\n",
      "+--------------------+\n",
      "|bd92be9f-1823-465...|\n",
      "|3ddb5f5d-9a09-415...|\n",
      "|ff43a0aa-4930-468...|\n",
      "|db532b31-916a-428...|\n",
      "|bb90307d-0998-403...|\n",
      "+--------------------+\n",
      "\n",
      "+--------------------+\n",
      "|                  id|\n",
      "+--------------------+\n",
      "|d5846376-9596-428...|\n",
      "|4a3392b6-acc8-4c2...|\n",
      "|1006f812-b221-46f...|\n",
      "|64c0966e-66f8-452...|\n",
      "|bff0865c-96aa-4fb...|\n",
      "+--------------------+\n",
      "\n",
      "+--------------------+--------------------+--------------------+-------+------+--------------------+---------+----------+--------------+-----------------+--------+--------------------+---------+--------+-----------------+---------------+---------+\n",
      "|                 src|                 dst|           timestamp| object|action|            hostname|user_name|privileges|    image_path|parent_image_path|new_path|           file_path|direction|logon_id|requesting_domain|requesting_user|malicious|\n",
      "+--------------------+--------------------+--------------------+-------+------+--------------------+---------+----------+--------------+-----------------+--------+--------------------+---------+--------+-----------------+---------------+---------+\n",
      "|3eea9071-9ceb-468...|64baa9d3-17e2-4f9...|2019-09-23 17:55:...|   FILE|  READ|SysClient0660.sys...|     null|      null|powershell.exe|             null|    null|MSFT_WsdPrinterPo...|     null|    null|             null|           null|        1|\n",
      "|3eea9071-9ceb-468...|93f72472-0d23-413...|2019-09-23 17:43:...|PROCESS|  OPEN|SysClient0660.sys...|     null|      null|powershell.exe|   powershell.exe|    null|                null|     null|    null|             null|           null|        1|\n",
      "|83279f19-6af6-453...|c040c837-d7d6-405...|2019-09-23 18:44:...|   FILE|  READ|SysClient0321.sys...|     null|      null|powershell.exe|             null|    null|     MSCORLIB.NI.DLL|     null|    null|             null|           null|        1|\n",
      "|8c371c26-73a6-420...|ea18dfb8-f0f0-4ec...|2019-09-23 18:45:...|   FILE|  READ|SysClient0771.sys...|     null|      null|powershell.exe|             null|    null|       DHCPCSVC6.DLL|     null|    null|             null|           null|        1|\n",
      "|96913629-c1c9-450...|3bf94434-c521-463...|2019-09-23 15:24:...|   FILE|  READ|SysClient0201.sys...|     null|      null|powershell.exe|             null|    null|        wbemprox.dll|     null|    null|             null|           null|        1|\n",
      "+--------------------+--------------------+--------------------+-------+------+--------------------+---------+----------+--------------+-----------------+--------+--------------------+---------+--------+-----------------+---------------+---------+\n",
      "\n"
     ]
    }
   ],
   "source": [
    "src_vertices.limit(5).show()\n",
    "dst_vertices.limit(5).show()\n",
    "vertices.limit(5).show()\n",
    "edges.limit(5).show()"
   ]
  },
  {
   "cell_type": "code",
   "execution_count": 12,
   "id": "0117202e-ce52-4346-95bd-a090869e387e",
   "metadata": {
    "tags": []
   },
   "outputs": [
    {
     "name": "stderr",
     "output_type": "stream",
     "text": [
      "/home/ec2-user/anaconda3/envs/python3/lib/python3.10/site-packages/pyspark/sql/dataframe.py:148: UserWarning: DataFrame.sql_ctx is an internal property, and will be removed in future releases. Use DataFrame.sparkSession instead.\n",
      "  warnings.warn(\n"
     ]
    }
   ],
   "source": [
    "# Create GraphFrame\n",
    "g = GraphFrame(vertices, edges)"
   ]
  },
  {
   "cell_type": "code",
   "execution_count": null,
   "id": "e7319f37-c68a-49e2-b8c7-b62b1cc74b71",
   "metadata": {},
   "outputs": [],
   "source": []
  }
 ],
 "metadata": {
  "kernelspec": {
   "display_name": "conda_python3",
   "language": "python",
   "name": "conda_python3"
  },
  "language_info": {
   "codemirror_mode": {
    "name": "ipython",
    "version": 3
   },
   "file_extension": ".py",
   "mimetype": "text/x-python",
   "name": "python",
   "nbconvert_exporter": "python",
   "pygments_lexer": "ipython3",
   "version": "3.10.8"
  }
 },
 "nbformat": 4,
 "nbformat_minor": 5
}
