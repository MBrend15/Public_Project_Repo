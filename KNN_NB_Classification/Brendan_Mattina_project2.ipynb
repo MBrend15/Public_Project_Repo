{
 "cells": [
  {
   "cell_type": "markdown",
   "metadata": {
    "id": "iNALzZOKTzOS"
   },
   "source": [
    "# Project 2: Digit Classification Naive Bayes\n",
    "\n",
    "**Solution**"
   ]
  },
  {
   "cell_type": "markdown",
   "metadata": {
    "id": "EBRkdIUUTzOV"
   },
   "source": [
    "# Intro\n",
    "---\n",
    "In this project, you'll continue working on your own image recognition system for classifying digits. Read through the code and the instructions carefully and add your own code where indicated. Each problem can be addressed succinctly with the included packages -- please don't add any more. \n",
    "As always, you're welcome to work on the project in groups and discuss ideas over Slack, but <b> please prepare your own write-up (with your own code). </b>\n",
    "\n",
    "\n",
    "## Grading\n",
    "---\n",
    " - Make sure to answer every part in every question.\n",
    " - There are 6 questions, each equally weighted and an additional bonus question.\n",
    " - The extra credit question will be graded based on your attempts at feature engineering and resulting improved accuracy.\n",
    " - Read carefully what is asked including the notes.\n",
    " - Additional points may be deducted if:\n",
    "   - the code is not clean, well commented,\n",
    "  -  if the functions or answers are too long.\n",
    "\n",
    "## Requirements:\n",
    "---\n",
    "1. Comment your code.\n",
    "1. All graphs should have titles, label for each axis, and if needed a legend. It should be understandable on its own.\n",
    "1. All code must run on colab.research.google.com\n",
    "1. You should not import any additional libraries.\n",
    "1. Try and minimize the use of the global namespace (meaning keep things in functions).\n",
    "\n",
    "## Additional Reading and notes\n",
    "---\n",
    "If you're interested, check out these links related to digit recognition:\n",
    "\n",
    "* Yann Lecun's MNIST benchmarks: http://yann.lecun.com/exdb/mnist/\n",
    "* Stanford Streetview research and data: http://ufldl.stanford.edu/housenumbers/\n",
    "\n",
    "Finally, if you'd like to get started with Tensorflow, you can read through this tutorial: https://www.tensorflow.org/tutorials/keras/basic_classification. It uses a dataset called \"fashion_mnist\", which is identical in structure to the original digit mnist, but uses images of clothing rather than images of digits. The number of training examples and number of labels is the same. In fact, you can simply replace the code that loads \"fashion_mnist\" with \"mnist\" and everything should work fine."
   ]
  },
  {
   "cell_type": "code",
   "execution_count": 1,
   "metadata": {
    "id": "r8u7GmsDTzOX"
   },
   "outputs": [],
   "source": [
    "# This tells matplotlib not to try opening a new window for each plot.\n",
    "%matplotlib inline\n",
    "\n",
    "# Import a bunch of libraries.\n",
    "import time\n",
    "import numpy as np\n",
    "import pandas as pd\n",
    "import matplotlib.pyplot as plt\n",
    "from matplotlib.ticker import MultipleLocator\n",
    "from sklearn.pipeline import Pipeline\n",
    "from sklearn.datasets import fetch_openml\n",
    "from sklearn.neighbors import KNeighborsClassifier\n",
    "from sklearn.metrics import confusion_matrix\n",
    "from sklearn.linear_model import LinearRegression\n",
    "from sklearn.naive_bayes import BernoulliNB\n",
    "from sklearn.naive_bayes import MultinomialNB\n",
    "from sklearn.naive_bayes import GaussianNB\n",
    "from sklearn.model_selection import GridSearchCV\n",
    "from sklearn.metrics import classification_report\n",
    "\n",
    "# Set the randomizer seed so results are the same each time.\n",
    "np.random.seed(0)"
   ]
  },
  {
   "cell_type": "code",
   "execution_count": 2,
   "metadata": {
    "id": "bWOWoq_dTzOY"
   },
   "outputs": [
    {
     "data": {
      "text/plain": [
       "'1.0.2'"
      ]
     },
     "execution_count": 2,
     "metadata": {},
     "output_type": "execute_result"
    }
   ],
   "source": [
    "import sklearn\n",
    "sklearn.__version__"
   ]
  },
  {
   "cell_type": "markdown",
   "metadata": {
    "id": "J1-CAjA9TzOa"
   },
   "source": [
    "Load the data. Notice that the data gets partitioned into training, development, and test sets. Also, a small subset of the training data called mini_train_data and mini_train_labels gets defined, which you should use in all the experiments below, unless otherwise noted."
   ]
  },
  {
   "cell_type": "code",
   "execution_count": 3,
   "metadata": {
    "id": "f9kPmCW0TzOb"
   },
   "outputs": [
    {
     "name": "stdout",
     "output_type": "stream",
     "text": [
      "data shape:  (70000, 784)\n",
      "label shape: (70000,)\n"
     ]
    }
   ],
   "source": [
    "# Load the digit data from https://www.openml.org/d/554 or from default local location '~/scikit_learn_data/...'\n",
    "X, Y = fetch_openml(name='mnist_784', return_X_y=True, as_frame=False, cache=False)\n",
    "\n",
    "# Rescale grayscale values to [0,1].\n",
    "X = X / 255.0\n",
    "\n",
    "# Shuffle the input: create a random permutation of the integers between 0 and the number of data points and apply this\n",
    "# permutation to X and Y.\n",
    "# NOTE: Each time you run this cell, you'll re-shuffle the data, resulting in a different ordering.\n",
    "shuffle = np.random.permutation(np.arange(X.shape[0]))\n",
    "X, Y = X[shuffle], Y[shuffle]\n",
    "\n",
    "print('data shape: ', X.shape)\n",
    "print('label shape:', Y.shape)\n",
    "\n",
    "# Set some variables to hold test, dev, and training data.\n",
    "test_data, test_labels = X[61000:], Y[61000:]\n",
    "dev_data, dev_labels = X[60000:61000], Y[60000:61000]\n",
    "train_data, train_labels = X[:60000], Y[:60000]\n",
    "mini_train_data, mini_train_labels = X[:1000], Y[:1000]"
   ]
  },
  {
   "cell_type": "markdown",
   "metadata": {
    "id": "gr40-NstTzOl"
   },
   "source": [
    "### Question 1: Applying a smoothing using numpy.\n",
    "---\n",
    "\n",
    "A common image processing technique is to smooth an image by **blurring**. The idea is that the value of a particular pixel is estimated as the weighted combination of the original value and the values around it. Typically, the blurring is Gaussian, i.e., the weight of a pixel's influence is determined by a Gaussian function over the distance to the relevant pixel.\n",
    "\n",
    "1. Implement a simplified Gaussian blur filter by just using the 8 neighboring pixels like this: the smoothed value of a pixel is a weighted combination of the original value and the 8 neighboring values.\n",
    "1. Choose some weights as a starting point. Produce and evaluate four 1-Nearest Neighbor models by applying your blur filter in these ways:\n",
    "  1. Do not use the filter\n",
    "  1. Filter the training data but not the dev data\n",
    "  1. Filter the dev data but not the training data\n",
    "  1. Filter both training data and dev data\n",
    "1. Show the accuracies of the four models evaluated as described. What do you see? Can you explain why this is?\n",
    "1. Experiment with weights that makes one model's accuracy at least 0.9.\n",
    "\n",
    "Notes:\n",
    "* Train on the (filtered) mini train set.\n",
    "* Evaluate performance on the (filtered) dev set.\n",
    "* A good trick to simplify your code is to use numpy's pad function to add 0s around your original array so you don't have to deal with \"edge cases\".\n",
    "* In addition, you can use numpy to multiply and sum slices of two arrays.\n",
    "* [This notebook](https://colab.research.google.com/drive/1eJXTQLtREXQjQIsLOA9uCrBl6B049-pO) might help shows some example numpy code.\n",
    "* In general, [numpy operations will be much faster than for loops](https://colab.research.google.com/drive/1KJI4JtuIqVdyZHTTe_mAlKYA5XdLFp3_). \n",
    "* There are other Guassian blur filters available, for example in `scipy.ndimage.filters`. You are welcome to experiment with those, but in this question, please implement your own."
   ]
  },
  {
   "cell_type": "code",
   "execution_count": 84,
   "metadata": {
    "id": "ebHGUU0eTzOl"
   },
   "outputs": [
    {
     "name": "stdout",
     "output_type": "stream",
     "text": [
      "Unfiltered: 0.884\n",
      "Filter Training: 0.9\n",
      "Filtered Dev: 0.818\n",
      "Both filtered: 0.904\n"
     ]
    }
   ],
   "source": [
    "def Q1():\n",
    "    \n",
    "### STUDENT START ###\n",
    "    #define function that accepts a one dimensional array and resizes as a square\n",
    "    def sf(x):\n",
    "        #derive the dimensions for a square array\n",
    "        y = np.int16(np.sqrt(x.shape[0]))\n",
    "        #reshape the array into a square\n",
    "        x = x.reshape(y,y)\n",
    "        #pad the array with zeros \n",
    "        x = np.pad(x, (1,1), 'constant', constant_values = (0,))\n",
    "        #create a temp zero array of the same size as the original array\n",
    "        temp = np.zeros((y,y))\n",
    "        #generate average weight filter\n",
    "        w = .8\n",
    "        f = np.array([[1*w,1*w,1*w],[1*w,1,1*w],[1*w,1*w,1*w]])\n",
    "        #for all elements in the matrix\n",
    "        for i in range(1,y+1):\n",
    "            for j in range(1,y+1):\n",
    "                #apply the filter element-wise, take the average across the 3x3 grid\n",
    "                #assign the average value to corresponding elements in temp\n",
    "                temp[i-1,j-1] = np.average(f*x[i-1:i+2,j-1:j+2])\n",
    "        temp = temp.reshape(y**2)\n",
    "        return temp\n",
    "    \n",
    "    #unfiltered accuracy \n",
    "    #build and train classifier\n",
    "    knn = KNeighborsClassifier(n_neighbors=1)\n",
    "    knn.fit(mini_train_data,mini_train_labels)\n",
    "    #predict on dev_data\n",
    "    pred = knn.predict(dev_data)\n",
    "    #print accuracy\n",
    "    print(\"Unfiltered: \"+str(classification_report(dev_labels,pred,output_dict=True)[\"accuracy\"]))\n",
    "    \n",
    "    #filtered training data\n",
    "    #create a temp arrach for results\n",
    "    temp_train = np.zeros(mini_train_data.shape)\n",
    "    #apply that function to every element in the training data to generate square, padded matrices \n",
    "    temp_train = np.apply_along_axis(sf, 1, mini_train_data)\n",
    "    knn.fit(temp_train, mini_train_labels)\n",
    "    pred = knn.predict(dev_data)\n",
    "    print(\"Filter Training: \"+str(classification_report(dev_labels,pred,output_dict=True)[\"accuracy\"]))\n",
    "\n",
    "    #filtered dev data\n",
    "    temp_dev = np.zeros(dev_data.shape)\n",
    "    temp_dev = np.apply_along_axis(sf, 1, dev_data)\n",
    "    knn.fit(mini_train_data, mini_train_labels)\n",
    "    pred = knn.predict(temp_dev)\n",
    "    print(\"Filtered Dev: \"+str(classification_report(dev_labels,pred,output_dict=True)[\"accuracy\"]))\n",
    "    \n",
    "    #Both filtered\n",
    "    knn.fit(temp_train,mini_train_labels)\n",
    "    pred = knn.predict(temp_dev)\n",
    "    print(\"Both filtered: \"+str(classification_report(dev_labels,pred,output_dict=True)[\"accuracy\"]))\n",
    "    \n",
    "### STUDENT END ###\n",
    "\n",
    "Q1()"
   ]
  },
  {
   "cell_type": "markdown",
   "metadata": {},
   "source": [
    "### My written response: \n",
    "The results are what I expect to see as blurring in the training data makes the model more generalizable to the dev data; however, blurring the dev data and not the training data makes the model worse overall. "
   ]
  },
  {
   "cell_type": "markdown",
   "metadata": {
    "id": "aN3HZPGuTzOn"
   },
   "source": [
    "### Question 2: Modeling your data and experimenting with different Naive Bayes models. \n",
    "---\n",
    "\n",
    "1. Produce two Naive Bayes models and evaluate their performances.  Recall that Naive Bayes estimates P(feature|label), where each label is a categorical, not a real number.\n",
    "  1. For the first model, map pixel values to either 0 or 1, representing white or black - you should pre-process the data or use `BernoulliNB`'s `binarize` parameter to set the white/black separation threshold to 0.1.  Use `BernoulliNB` to produce the model.\n",
    "  1. For the second model, map pixel values to either 0, 1, or 2, representing white, gray, or black - you should pre-process the data, seting the white/gray/black separation thresholds to 0.1 and 0.9.  Here you'll likely need to implement a `trianarize` helper function. Since we are going beyond the binary representation of our features, you should use `MultinomialNB` to produce the model.\n",
    "1. Show the Bernoulli model accuracy and the Multinomial model accuracy.\n",
    "1. Does the multinomial version improve the results? Why or why not?\n",
    "\n",
    "Notes:\n",
    "* Train on the mini train set.\n",
    "* Evaluate performance on the dev set.\n",
    "\n"
   ]
  },
  {
   "cell_type": "code",
   "execution_count": 22,
   "metadata": {
    "id": "_1edM3ehTzOn"
   },
   "outputs": [
    {
     "name": "stdout",
     "output_type": "stream",
     "text": [
      "Bernouli Accuracy: 0.814\n",
      "Multinomial accuracy: 0.807\n"
     ]
    }
   ],
   "source": [
    "# Solution with binarization by explicit binarize function\n",
    "\n",
    "def Q2():\n",
    "\n",
    "### STUDENT START ###\n",
    "    #build NB calssifier with binarize at threshold of .1\n",
    "    NB_class = BernoulliNB(binarize=.1)\n",
    "    #fit the model\n",
    "    NB_class.fit(mini_train_data, mini_train_labels)\n",
    "    #score the model and print results\n",
    "    print(\"Bernouli Accuracy: \" +  \n",
    "          str(NB_class.score(dev_data,dev_labels)))\n",
    "    \n",
    "    #helper function\n",
    "    def trianarize(arr):\n",
    "        \n",
    "        #define int function to apply to each element in the input array\n",
    "        def int_func(y):\n",
    "            #for pixels between .1 and .9, assign 1\n",
    "            if y > .1 and y <= .9:\n",
    "                return 1\n",
    "            #pixels greater than .9 assign 2\n",
    "            elif y > .9:\n",
    "                return 2\n",
    "            #pixels less than .1 assign 0\n",
    "            else:\n",
    "                return 0\n",
    "        \n",
    "        #vectorize function for application along a vector \n",
    "        int_func_v = np.vectorize(int_func)\n",
    "        \n",
    "        #return modified array using our vectorized int function\n",
    "        return int_func_v(arr)\n",
    "        \n",
    "    #pre-process data\n",
    "    temp_mini = np.apply_along_axis(trianarize, 1, mini_train_data)\n",
    "    temp_dev = np.apply_along_axis(trianarize, 1, dev_data)\n",
    "    \n",
    "    #train multinomial model\n",
    "    MN_Class = MultinomialNB()\n",
    "    MN_Class.fit(temp_mini, mini_train_labels)\n",
    "    #print accuracy\n",
    "    print(\"Multinomial accuracy: \" + \n",
    "          str(MN_Class.score(temp_dev,dev_labels)))\n",
    "    \n",
    "### STUDENT END ###\n",
    "\n",
    "Q2()"
   ]
  },
  {
   "cell_type": "markdown",
   "metadata": {
    "id": "Bbbpzl5ETzOp"
   },
   "source": [
    "### My Answer:\n",
    "The multinonmial classifier does not appreciably improve the accuracy of the model as multiple categories do not add information when classifying a set of inputs. "
   ]
  },
  {
   "cell_type": "markdown",
   "metadata": {
    "id": "ymzuQZwsTzOp"
   },
   "source": [
    "### Question 3: Applying the grid search technique.\n",
    "1. Search across several values of the LaPlace smoothing parameter (alpha) to find its effect on a Bernoulli Naive Bayes model's performance.  Show the accuracy at each alpha value.\n",
    "1. What is the best value for alpha? What is the accuracy when alpha is near 0? Is this what you'd expect?\n",
    "\n",
    "Notes:\n",
    "* Set binarization threshold to 0.\n",
    "* Train on the mini train set.\n",
    "* Evaluate performance by 5-fold cross-validation. \n",
    "* Use `GridSearchCV(..., ..., cv=..., scoring='accuracy', iid=False)` to vary alpha and evaluate performance by cross-validation.\n",
    "* Cross-validation is based on partitions of the training data, so results will be a bit different than if you had used the dev set to evaluate performance.\n",
    "\n"
   ]
  },
  {
   "cell_type": "code",
   "execution_count": 31,
   "metadata": {
    "id": "1qc1fG0OTzOq"
   },
   "outputs": [
    {
     "name": "stdout",
     "output_type": "stream",
     "text": [
      "Results (alpha - accuracy): \n",
      "\n",
      "1e-10 - 0.8139999999999998\n",
      "0.0001 - 0.819\n",
      "0.001 - 0.825\n",
      "0.01 - 0.8219999999999998\n",
      "0.1 - 0.818\n",
      "0.5 - 0.8130000000000001\n",
      "1.0 - 0.8089999999999999\n",
      "2.0 - 0.8049999999999999\n",
      "10.0 - 0.783\n",
      "\n",
      "Best Paramter: {'alpha': 0.001}\n"
     ]
    }
   ],
   "source": [
    "def Q3(alphas):\n",
    "\n",
    "### STUDENT START ###\n",
    "    NB_GS = GridSearchCV(BernoulliNB(), alphas, \n",
    "                         scoring = \"accuracy\", cv = 5) #, iid = False)\n",
    "    \n",
    "    #now train model\n",
    "    NB_GS.fit(mini_train_data, mini_train_labels)\n",
    "    \n",
    "    #show accuracty of all parameters\n",
    "    print(\"Results (alpha - accuracy): \\n\")\n",
    "    for i in range(len(alphas.get('alpha'))):\n",
    "        print(str(alphas.get('alpha')[i]) + \" - \" +\n",
    "              str(NB_GS.cv_results_['mean_test_score'][i]))\n",
    "    \n",
    "    #print best parameter\n",
    "    print(\"\\nBest Paramter: \"+ str(NB_GS.best_params_))\n",
    "    \n",
    "    \n",
    "### STUDENT END ###\n",
    "\n",
    "alphas = {'alpha': [1.0e-10, 0.0001, 0.001, 0.01, 0.1, 0.5, 1.0, 2.0, 10.0]}\n",
    "Q3(alphas)\n"
   ]
  },
  {
   "cell_type": "markdown",
   "metadata": {
    "id": "6g4fnGFPTzOq"
   },
   "source": [
    "ANSWER: The best alpha parameter is .001. When alpha is 'near' zero the accuracy approaches that of the un-modified model, which is to be expected. "
   ]
  },
  {
   "cell_type": "markdown",
   "metadata": {
    "id": "aQ6MaDU6TzOr"
   },
   "source": [
    "### Question 4: Experimenting with Gaussian Naive Bayes\n",
    "---\n",
    "1. Produce a model using Guassian Naive Bayes, which is intended for real-valued features, and evaluate performance. You will notice that it does not work so well. \n",
    "1. Diagnose and explain the problem.\n",
    "1. Apply a simple fix so that the model accuracy is around the same as for a Bernoulli Naive Bayes model. \n",
    "1. Show the model accuracy before your fix and the model accuracy after your fix.  \n",
    "1. Explain your solution.\n",
    "\n",
    "Notes:\n",
    "* Train on the mini train set.\n",
    "* Evaluate performance on the dev set.\n",
    "* Take a look at var_smoothing argument for GaussianNB.\n",
    "* Feel free to  examine theta and sigma to better understand what's happening. In general though, **it is not a good idea to mess with internal variables of the model**. These are stored in the model's `theta_` and `sigma_` attributes."
   ]
  },
  {
   "cell_type": "code",
   "execution_count": 41,
   "metadata": {
    "id": "XqW86YbKTzOr"
   },
   "outputs": [
    {
     "name": "stdout",
     "output_type": "stream",
     "text": [
      "Initial Gaussian NB accuracy: 0.593\n",
      "\n",
      "Adjusted results (smoothing - accuracy): \n",
      "\n",
      "0.001 - 0.7310000000000001\n",
      "0.01 - 0.7709999999999999\n",
      "0.1 - 0.786\n",
      "0.2 - 0.7809999999999999\n",
      "0.3 - 0.777\n",
      "0.5 - 0.7619999999999999\n",
      "1 - 0.734\n",
      "2 - 0.695\n",
      "\n",
      "Best Paramter: {'var_smoothing': 0.1}\n"
     ]
    }
   ],
   "source": [
    "def Q4():\n",
    "\n",
    "### STUDENT END ###\n",
    "    \n",
    "    #train GaussianNB model\n",
    "    Gaus_NB = GaussianNB()\n",
    "    Gaus_NB.fit(mini_train_data, mini_train_labels)\n",
    "    \n",
    "    #score Gaussian NB\n",
    "    print(\"Initial Gaussian NB accuracy: \" + \n",
    "          str(Gaus_NB.score(dev_data, dev_labels)))\n",
    "    \n",
    "    #use grid search to find values for smoothing that will yield \n",
    "    #better accuracy\n",
    "    var_smoothing = {'var_smoothing':[0.001, 0.01, 0.1, .2, .3, .5, 1, 2]}\n",
    "    Gaus_NB2 = GridSearchCV(GaussianNB(), var_smoothing, \n",
    "                           scoring = 'accuracy', cv=5) \n",
    "    Gaus_NB2.fit(mini_train_data, mini_train_labels)\n",
    "    \n",
    "    #score new Gaussian NB and print results\n",
    "    #show accuracty of all parameters\n",
    "    print(\"\\nAdjusted results (smoothing - accuracy): \\n\")\n",
    "    for i in range(len(var_smoothing.get('var_smoothing'))):\n",
    "        print(str(var_smoothing.get('var_smoothing')[i]) + \" - \" +\n",
    "              str(Gaus_NB2.cv_results_['mean_test_score'][i]))\n",
    "    \n",
    "    #print best parameter\n",
    "    print(\"\\nBest Paramter: \"+ str(Gaus_NB2.best_params_))\n",
    "\n",
    "### STUDENT END ###\n",
    "\n",
    "Q4()"
   ]
  },
  {
   "cell_type": "markdown",
   "metadata": {
    "id": "wE5eQXsPTzOs"
   },
   "source": [
    "ANSWER: I added smoothing improving the accuracy of the Gaussian Naive Bayes classifier which improved it's accuracy. The best smoothing value of the values I tried was .1. Smoothing was likely successful because seldom used pixels skewed the conditional probabilities of a particular number given that pixel was \"on\". "
   ]
  },
  {
   "cell_type": "markdown",
   "metadata": {
    "id": "AXx4SGNeTzOs"
   },
   "source": [
    "### Question 5: Naive Bayes as a generative model\n",
    "---\n",
    "Because Naive Bayes produces a generative model, you can use it to generate digit images.\n",
    "\n",
    "1. Produce a Bernoulli Naive Bayes model and then use it to generate a 10x10 grid with 10 example images of each digit. Each pixel output will be either 0 or 1: randomly generating a number and then comparing it to the estimated probability of the pixel being either 0 or 1.  Show the grid.\n",
    "1. How do the generated digit images compare to the training digit images?\n",
    "\n",
    "Notes:\n",
    "* You can use np.random.rand() to generate random numbers from a uniform distribution.\n",
    "* The estimated probability of each pixel being 0 or 1 is stored in the model's `feature_log_prob_` attribute. You can use `np.exp()` to convert a log probability back to a probability.\n",
    "\n"
   ]
  },
  {
   "cell_type": "code",
   "execution_count": 50,
   "metadata": {
    "id": "WDCNbv7ETzOt",
    "scrolled": false
   },
   "outputs": [
    {
     "data": {
      "image/png": "[encoded data removed]",
      "text/plain": [
       "<Figure size 1440x1440 with 100 Axes>"
      ]
     },
     "metadata": {
      "needs_background": "light"
     },
     "output_type": "display_data"
    }
   ],
   "source": [
    "def Q5(num_examples):\n",
    "\n",
    "### STUDENT START ###\n",
    "\n",
    "    #train model\n",
    "    NB = BernoulliNB(binarize=.1)\n",
    "    NB.fit(train_data, train_labels)\n",
    "\n",
    "    #create an empty list to store the generated images\n",
    "    images = list()\n",
    "    \n",
    "    #for numbers 0 thru 9\n",
    "    for i in range(10):\n",
    "      #create the prob matrix for whatever number we're on\n",
    "      prob_mat = np.exp(NB.feature_log_prob_[i])\n",
    "      #to create 20 images\n",
    "      for j in range(num_examples):\n",
    "        #generate a sample matrix, zero it out, then fill it with random values\n",
    "        samp = np.zeros(784)\n",
    "        samp = np.random.rand(784)\n",
    "        #compare those random values with our prob matrix to generate a boolen matrix\n",
    "        #then multiply by 1 to fill in certain pixels, also reshape, then add to images  \n",
    "        images.append(((prob_mat > samp)*1).reshape(28,28))\n",
    "\n",
    "    #create a figure\n",
    "    fig = plt.figure(figsize=(20,20))\n",
    "    #print all the image arrays\n",
    "    for m in range(len(images)):\n",
    "      plt.subplot(10, 10, (m+1))\n",
    "      plt.imshow(images[m], cmap=plt.cm.binary) \n",
    "\n",
    "### STUDENT END ###\n",
    "\n",
    "Q5(10)"
   ]
  },
  {
   "cell_type": "markdown",
   "metadata": {
    "id": "2ENXdzngTzOu"
   },
   "source": [
    "ANSWER: The images are not as crisp as those in the actual data set. The numbers with the worst resolution correspond to the numbers with the worst score in the confusion matrix from project 1."
   ]
  },
  {
   "cell_type": "markdown",
   "metadata": {
    "id": "CRkUEi50TzOu"
   },
   "source": [
    "### Question 6: Model Calibraiton\n",
    "---\n",
    "Recall that:\n",
    " * a **strongly calibrated** classifier is rougly 90% accurate when it says it is 90% accurate. The model's estimated posterior probability of the predicted class is indeed 0.9. \n",
    " * A **weakly calibrated** classifier is more accurate when it \"says\" it is more accurate. The actual accuracy is higher when the model's estimated posterior probability is higher.\n",
    " * A **poorly calibrated** classifier has no positive correlation between the model's estimate posterior probability and the actual accuracy.\n",
    "\n",
    "1. Produce a Bernoulli Naive Bayes model.  \n",
    "1. Evaluate performance: \n",
    "  1. Partition the dev set into several buckets based on the estimated posterior probabilities of the predicted classes (predict_proba)\n",
    "    - Think of it as a bin in a histogram, where each bin groups a range of estimated posterior probabilities of the predicted classes (predict_proba).\n",
    "    - Then estimate the actual accuracy the classifier achieved for each bucket. \n",
    "    - So, for each prediction:\n",
    "       - Find the bucket whose range includes the estimated posterior probability, \n",
    "       - and update \"correct\" and \"total\" counters accordingly. \n",
    "       - Show the accuracy for each bucket.\n",
    "1. How would you characterize the calibration for this Bernoulli Naive Bayes model according to the definitions above?\n",
    "\n",
    "Notes:\n",
    "* Set LaPlace smoothing (alpha) to the optimal value (from part 8).\n",
    "* Set binarization threshold to 0.\n",
    "* Train on the mini train set.\n",
    "* Evaluate perfromance on the dev set.\n",
    "\n"
   ]
  },
  {
   "cell_type": "code",
   "execution_count": 28,
   "metadata": {
    "id": "3Gz3NDY9TzOu"
   },
   "outputs": [
    {
     "name": "stdout",
     "output_type": "stream",
     "text": [
      "Bin: 0.5 Total: 0 Correct: 0\n",
      "Bin: 0.9 Total: 31 Correct: 11\n",
      "Bin: 0.999 Total: 67 Correct: 29\n",
      "Bin: 0.99999 Total: 59 Correct: 27\n",
      "Bin: 0.9999999 Total: 46 Correct: 30\n",
      "Bin: 0.999999999 Total: 62 Correct: 48\n",
      "Bin: 0.99999999999 Total: 33 Correct: 26\n",
      "Bin: 0.9999999999999 Total: 43 Correct: 34\n",
      "Bin: 1.0 Total: 659 Correct: 618\n",
      "\n",
      "Bin Accuracies (Bin - Accuracy): \n",
      "\n",
      "0.5 - 0.0\n",
      "0.9 - 0.3548387096774194\n",
      "0.999 - 0.43283582089552236\n",
      "0.99999 - 0.4576271186440678\n",
      "0.9999999 - 0.6521739130434783\n",
      "0.999999999 - 0.7741935483870968\n",
      "0.99999999999 - 0.7878787878787878\n",
      "0.9999999999999 - 0.7906976744186046\n",
      "1.0 - 0.9377845220030349\n"
     ]
    },
    {
     "name": "stderr",
     "output_type": "stream",
     "text": [
      "/var/folders/q8/dr03k5ws7mj8d8hx7mjgmw3h0000gn/T/ipykernel_817/940512297.py:30: RuntimeWarning: invalid value encountered in true_divide\n",
      "  acc = np.array(correct)/np.array(total)\n"
     ]
    }
   ],
   "source": [
    "def Q6(buckets, correct, total):\n",
    "    \n",
    "### STUDENT START ###\n",
    "\n",
    "    #train models\n",
    "    NB = BernoulliNB(alpha = .001)\n",
    "    NB.fit(mini_train_data, mini_train_labels)\n",
    "    \n",
    "    #generate accuracy at each \n",
    "    pred_prob = NB.predict_proba(dev_data)\n",
    "\n",
    "    #place each entry into a bin based on max predicted probability in each row\n",
    "    binned = np.digitize([np.max(i) for i in pred_prob], buckets, right = True)\n",
    "    \n",
    "    #use value in binned to increment total\n",
    "    for i in binned:\n",
    "        total[i] += 1\n",
    "    \n",
    "    #generate a prediction to compare to actual label.  \n",
    "    pred = NB.predict(dev_data)\n",
    "    \n",
    "    #for loop to compare prediction and labels for correctness and then increment each bin \n",
    "    for i in range(len(binned)):\n",
    "        #if pred matches actual label\n",
    "        if pred[i] == dev_labels[i]:\n",
    "            #add one to the right bin in correct\n",
    "            correct[binned[i]] += 1\n",
    "    \n",
    "    #generate an accuracy list\n",
    "    acc = np.array(correct)/np.array(total)\n",
    "    for k in range(len(correct)):\n",
    "        print(\"Bin: \" + str(buckets[k]) +\n",
    "             \" Total: \" + str(total[k])+ \n",
    "             \" Correct: \" + str(correct[k]))\n",
    "        \n",
    "    \n",
    "    #show the correct and total bin numbers\n",
    "    \n",
    "    #print accuracies with corresponding bin \n",
    "    print(\"\\nBin Accuracies (Bin - Accuracy): \\n\")\n",
    "    print(\"0.5 - 0.0\")\n",
    "    for k in range(1,len(acc)):\n",
    "        print(str(buckets[k]) + \" - \"+str(acc[k]))\n",
    "\n",
    "### STUDENT END ###\n",
    "\n",
    "buckets = [0.5, 0.9, 0.999, 0.99999, 0.9999999, 0.999999999, 0.99999999999, 0.9999999999999, 1.0]\n",
    "correct = [0 for i in buckets]\n",
    "total = [0 for i in buckets]\n",
    "\n",
    "Q6(buckets, correct, total)"
   ]
  },
  {
   "cell_type": "markdown",
   "metadata": {
    "id": "7PYLz-1STzOu"
   },
   "source": [
    "ANSWER: The Bernouli Naive Bayes classifier is a weakly calibrated classifier."
   ]
  },
  {
   "cell_type": "markdown",
   "metadata": {
    "id": "tIeZGen1TzOv"
   },
   "source": [
    "### Question 7 EXTRA CREDIT: Feature generation\n",
    "---\n",
    "1. Design new features to see if you can produce a Bernoulli Naive Bayes model with better performance.\n",
    "1. Show the accuracy of a model based on the original features and the accuracy of the model based on the new features.\n",
    "\n",
    "**Note that improving results is actually hard.**\n",
    "\n",
    "Here are a few ideas to get you started:\n",
    "- Try summing or averaging the pixel values in each row.\n",
    "- Try summing or averaging the pixel values in each column.\n",
    "- Try summing or averaging the pixel values in each square block. (pick various block sizes)\n",
    "- Try implementing [*maxpool*](https://computersciencewiki.org/index.php/Max-pooling_/_Pooling) features, taking a rolling maximum over sub-regions of a the image. \n",
    "- In any case, you can either transform the original data or add new \"features\" to it.\n",
    "\n",
    "Notes:\n",
    "* Train on the mini train set (enhanced to comprise the new features).\n",
    "* Evaulate performance on the dev set.\n",
    "* Ensure that your code is well commented."
   ]
  },
  {
   "cell_type": "code",
   "execution_count": null,
   "metadata": {
    "id": "6GtYu5ezTzOv"
   },
   "outputs": [],
   "source": [
    "def Q7():\n",
    "\n",
    "### STUDENT START ###\n",
    "\n",
    "### STUDENT END ###\n",
    "\n",
    "Q7()"
   ]
  },
  {
   "cell_type": "code",
   "execution_count": null,
   "metadata": {
    "id": "4hOkGA6Rufd6"
   },
   "outputs": [],
   "source": []
  }
 ],
 "metadata": {
  "colab": {
   "collapsed_sections": [],
   "name": "firstname_lastname_project2.ipynb",
   "provenance": []
  },
  "kernelspec": {
   "display_name": "Python 3 (ipykernel)",
   "language": "python",
   "name": "python3"
  },
  "language_info": {
   "codemirror_mode": {
    "name": "ipython",
    "version": 3
   },
   "file_extension": ".py",
   "mimetype": "text/x-python",
   "name": "python",
   "nbconvert_exporter": "python",
   "pygments_lexer": "ipython3",
   "version": "3.8.12"
  },
  "toc": {
   "base_numbering": 1,
   "nav_menu": {},
   "number_sections": false,
   "sideBar": true,
   "skip_h1_title": true,
   "title_cell": "Table of Contents",
   "title_sidebar": "Contents",
   "toc_cell": false,
   "toc_position": {},
   "toc_section_display": true,
   "toc_window_display": false
  }
 },
 "nbformat": 4,
 "nbformat_minor": 1
}
