{
 "cells": [
  {
   "cell_type": "code",
   "execution_count": 5,
   "id": "1c5002ac-9cf6-4082-bd31-0bd2befac188",
   "metadata": {
    "tags": []
   },
   "outputs": [],
   "source": [
    "%run ./read_file.ipynb"
   ]
  },
  {
   "cell_type": "code",
   "execution_count": 6,
   "id": "16e819a0-bfe6-494a-8345-d1a02ba647b6",
   "metadata": {
    "tags": []
   },
   "outputs": [],
   "source": [
    "from graphframes import GraphFrame"
   ]
  },
  {
   "cell_type": "code",
   "execution_count": null,
   "id": "7c106592-d960-4871-a3d0-fd85d16116f5",
   "metadata": {},
   "outputs": [],
   "source": []
  },
  {
   "cell_type": "code",
   "execution_count": 7,
   "id": "d5480a00-45c7-47f1-b5d2-a5b712b5e8b1",
   "metadata": {
    "tags": []
   },
   "outputs": [],
   "source": [
    "#filter to 3 malicious hosts"
   ]
  },
  {
   "cell_type": "code",
   "execution_count": 8,
   "id": "72a8f84a-fa00-460d-86eb-2d9d04e4932b",
   "metadata": {
    "tags": []
   },
   "outputs": [],
   "source": [
    "# df_first_events = get_firsts(df).cache()"
   ]
  },
  {
   "cell_type": "code",
   "execution_count": 9,
   "id": "a3a37e65-72eb-4cc0-a554-8189db197e09",
   "metadata": {
    "tags": []
   },
   "outputs": [],
   "source": [
    "# df_first_events.count()"
   ]
  },
  {
   "cell_type": "code",
   "execution_count": 10,
   "id": "bcaf32ed-5a6a-4645-b21e-9ad4f5542bfb",
   "metadata": {
    "tags": []
   },
   "outputs": [],
   "source": [
    "# x is the number of hours\n",
    "# y is the maximum number of events for any hour in a graph\n",
    "# x_axis = 2*(x-1)+2\n",
    "# y_axis = 2*(y-1)+2"
   ]
  },
  {
   "cell_type": "code",
   "execution_count": 11,
   "id": "f853447f-613e-4a04-a723-48c705f53e5b",
   "metadata": {
    "tags": []
   },
   "outputs": [],
   "source": [
    "# df_first_events.write.option(\"maxRecordsPerFile\", 300000).mode(\"overwrite\").parquet(f\"{s3_url_trusted}/prod/graph/first_events\")"
   ]
  },
  {
   "cell_type": "code",
   "execution_count": 12,
   "id": "1d82b393-d259-425d-a67b-1b85b90b895d",
   "metadata": {
    "tags": []
   },
   "outputs": [
    {
     "name": "stderr",
     "output_type": "stream",
     "text": [
      "                                                                                \r"
     ]
    },
    {
     "name": "stdout",
     "output_type": "stream",
     "text": [
      " 4:32PM UTC on Mar 25, 2023 --- read time: 4.6053149700164795 seconds ---\n"
     ]
    }
   ],
   "source": [
    "df = readFirstEvents().cache()"
   ]
  },
  {
   "cell_type": "code",
   "execution_count": 13,
   "id": "83ec62f6-3674-4052-9fbc-828f139cc006",
   "metadata": {
    "tags": []
   },
   "outputs": [
    {
     "name": "stderr",
     "output_type": "stream",
     "text": [
      "[Stage 1:=====================================================>   (15 + 1) / 16]\r"
     ]
    },
    {
     "name": "stdout",
     "output_type": "stream",
     "text": [
      "+---------+-------+\n",
      "|malicious|  count|\n",
      "+---------+-------+\n",
      "|        1|   8596|\n",
      "|        0|4587096|\n",
      "+---------+-------+\n",
      "\n"
     ]
    },
    {
     "name": "stderr",
     "output_type": "stream",
     "text": [
      "                                                                                \r"
     ]
    }
   ],
   "source": [
    "df.groupBy('malicious').count().show()"
   ]
  },
  {
   "cell_type": "code",
   "execution_count": 14,
   "id": "4bbd7c73-550b-4a71-af69-c8bc325144b6",
   "metadata": {
    "tags": []
   },
   "outputs": [
    {
     "name": "stderr",
     "output_type": "stream",
     "text": [
      "/home/ec2-user/anaconda3/envs/python3/lib/python3.10/site-packages/pyspark/sql/pandas/conversion.py:248: FutureWarning: Passing unit-less datetime64 dtype to .astype is deprecated and will raise in a future version. Pass 'datetime64[ns]' instead\n",
      "  series = series.astype(t, copy=False)\n"
     ]
    },
    {
     "data": {
      "text/html": [
       "<div>\n",
       "<style scoped>\n",
       "    .dataframe tbody tr th:only-of-type {\n",
       "        vertical-align: middle;\n",
       "    }\n",
       "\n",
       "    .dataframe tbody tr th {\n",
       "        vertical-align: top;\n",
       "    }\n",
       "\n",
       "    .dataframe thead th {\n",
       "        text-align: right;\n",
       "    }\n",
       "</style>\n",
       "<table border=\"1\" class=\"dataframe\">\n",
       "  <thead>\n",
       "    <tr style=\"text-align: right;\">\n",
       "      <th></th>\n",
       "      <th>id</th>\n",
       "      <th>timestamp</th>\n",
       "      <th>objectID</th>\n",
       "      <th>actorID</th>\n",
       "      <th>object</th>\n",
       "      <th>action</th>\n",
       "      <th>hostname</th>\n",
       "      <th>user_name</th>\n",
       "      <th>privileges</th>\n",
       "      <th>image_path</th>\n",
       "      <th>...</th>\n",
       "      <th>file_path</th>\n",
       "      <th>direction</th>\n",
       "      <th>logon_id</th>\n",
       "      <th>requesting_domain</th>\n",
       "      <th>requesting_user</th>\n",
       "      <th>event_minute</th>\n",
       "      <th>event_day</th>\n",
       "      <th>event_hour</th>\n",
       "      <th>malicious</th>\n",
       "      <th>relationship</th>\n",
       "    </tr>\n",
       "  </thead>\n",
       "  <tbody>\n",
       "    <tr>\n",
       "      <th>0</th>\n",
       "      <td>a6d975ba-5668-461b-bf1d-9eb73e4b9aec</td>\n",
       "      <td>2019-09-23 19:07:50.151</td>\n",
       "      <td>8b0a8788-d3bf-4a28-bfec-263be98860b3</td>\n",
       "      <td>0017062c-d130-46d7-816b-097845177ee4</td>\n",
       "      <td>FILE</td>\n",
       "      <td>READ</td>\n",
       "      <td>SysClient0351.systemia.com</td>\n",
       "      <td>None</td>\n",
       "      <td>None</td>\n",
       "      <td>\\Device\\HarddiskVolume1\\Program Files\\WindowsA...</td>\n",
       "      <td>...</td>\n",
       "      <td>\\Device\\HarddiskVolume1\\Users\\bbateman\\AppData...</td>\n",
       "      <td>None</td>\n",
       "      <td>None</td>\n",
       "      <td>None</td>\n",
       "      <td>None</td>\n",
       "      <td>7</td>\n",
       "      <td>23</td>\n",
       "      <td>19</td>\n",
       "      <td>0</td>\n",
       "      <td>0017062c-d130-46d7-816b-097845177ee4-&gt;8b0a8788...</td>\n",
       "    </tr>\n",
       "    <tr>\n",
       "      <th>1</th>\n",
       "      <td>42245fb4-1650-4671-a59f-4911ab5de377</td>\n",
       "      <td>2019-09-23 19:07:50.151</td>\n",
       "      <td>8b0a8788-d3bf-4a28-bfec-263be98860b3</td>\n",
       "      <td>0017062c-d130-46d7-816b-097845177ee4</td>\n",
       "      <td>FILE</td>\n",
       "      <td>MODIFY</td>\n",
       "      <td>SysClient0351.systemia.com</td>\n",
       "      <td>None</td>\n",
       "      <td>None</td>\n",
       "      <td>\\Device\\HarddiskVolume1\\Program Files\\WindowsA...</td>\n",
       "      <td>...</td>\n",
       "      <td>\\Device\\HarddiskVolume1\\Users\\bbateman\\AppData...</td>\n",
       "      <td>None</td>\n",
       "      <td>None</td>\n",
       "      <td>None</td>\n",
       "      <td>None</td>\n",
       "      <td>7</td>\n",
       "      <td>23</td>\n",
       "      <td>19</td>\n",
       "      <td>0</td>\n",
       "      <td>0017062c-d130-46d7-816b-097845177ee4-&gt;8b0a8788...</td>\n",
       "    </tr>\n",
       "  </tbody>\n",
       "</table>\n",
       "<p>2 rows × 22 columns</p>\n",
       "</div>"
      ],
      "text/plain": [
       "                                     id               timestamp  \\\n",
       "0  a6d975ba-5668-461b-bf1d-9eb73e4b9aec 2019-09-23 19:07:50.151   \n",
       "1  42245fb4-1650-4671-a59f-4911ab5de377 2019-09-23 19:07:50.151   \n",
       "\n",
       "                               objectID                               actorID  \\\n",
       "0  8b0a8788-d3bf-4a28-bfec-263be98860b3  0017062c-d130-46d7-816b-097845177ee4   \n",
       "1  8b0a8788-d3bf-4a28-bfec-263be98860b3  0017062c-d130-46d7-816b-097845177ee4   \n",
       "\n",
       "  object  action                    hostname user_name privileges  \\\n",
       "0   FILE    READ  SysClient0351.systemia.com      None       None   \n",
       "1   FILE  MODIFY  SysClient0351.systemia.com      None       None   \n",
       "\n",
       "                                          image_path  ...  \\\n",
       "0  \\Device\\HarddiskVolume1\\Program Files\\WindowsA...  ...   \n",
       "1  \\Device\\HarddiskVolume1\\Program Files\\WindowsA...  ...   \n",
       "\n",
       "                                           file_path direction logon_id  \\\n",
       "0  \\Device\\HarddiskVolume1\\Users\\bbateman\\AppData...      None     None   \n",
       "1  \\Device\\HarddiskVolume1\\Users\\bbateman\\AppData...      None     None   \n",
       "\n",
       "  requesting_domain requesting_user event_minute event_day  event_hour  \\\n",
       "0              None            None            7        23          19   \n",
       "1              None            None            7        23          19   \n",
       "\n",
       "   malicious                                       relationship  \n",
       "0          0  0017062c-d130-46d7-816b-097845177ee4->8b0a8788...  \n",
       "1          0  0017062c-d130-46d7-816b-097845177ee4->8b0a8788...  \n",
       "\n",
       "[2 rows x 22 columns]"
      ]
     },
     "execution_count": 14,
     "metadata": {},
     "output_type": "execute_result"
    }
   ],
   "source": [
    "df.limit(2).toPandas()"
   ]
  },
  {
   "cell_type": "code",
   "execution_count": 15,
   "id": "5cbf0110-c347-40ec-9d2c-1dd0c50a8b89",
   "metadata": {
    "tags": []
   },
   "outputs": [
    {
     "name": "stdout",
     "output_type": "stream",
     "text": [
      "root\n",
      " |-- id: string (nullable = true)\n",
      " |-- timestamp: timestamp (nullable = true)\n",
      " |-- objectID: string (nullable = true)\n",
      " |-- actorID: string (nullable = true)\n",
      " |-- object: string (nullable = true)\n",
      " |-- action: string (nullable = true)\n",
      " |-- hostname: string (nullable = true)\n",
      " |-- user_name: string (nullable = true)\n",
      " |-- privileges: string (nullable = true)\n",
      " |-- image_path: string (nullable = true)\n",
      " |-- parent_image_path: string (nullable = true)\n",
      " |-- new_path: string (nullable = true)\n",
      " |-- file_path: string (nullable = true)\n",
      " |-- direction: string (nullable = true)\n",
      " |-- logon_id: string (nullable = true)\n",
      " |-- requesting_domain: string (nullable = true)\n",
      " |-- requesting_user: string (nullable = true)\n",
      " |-- event_minute: integer (nullable = true)\n",
      " |-- event_day: integer (nullable = true)\n",
      " |-- event_hour: integer (nullable = true)\n",
      " |-- malicious: integer (nullable = true)\n",
      " |-- relationship: string (nullable = true)\n",
      "\n"
     ]
    }
   ],
   "source": [
    "df.printSchema()"
   ]
  },
  {
   "cell_type": "code",
   "execution_count": 16,
   "id": "f92cc1f9-6151-4ebf-83dc-0315e0bfdf50",
   "metadata": {
    "tags": []
   },
   "outputs": [
    {
     "data": {
      "text/plain": [
       "4595692"
      ]
     },
     "execution_count": 16,
     "metadata": {},
     "output_type": "execute_result"
    }
   ],
   "source": [
    "#how big is this dataset with just first events? And how does the relationship work? \n",
    "df.count()"
   ]
  },
  {
   "cell_type": "code",
   "execution_count": 17,
   "id": "e63f6333-4d93-4abc-a338-1b8fba776ac0",
   "metadata": {
    "tags": []
   },
   "outputs": [
    {
     "name": "stdout",
     "output_type": "stream",
     "text": [
      "+---------+\n",
      "|event_day|\n",
      "+---------+\n",
      "|       23|\n",
      "|       24|\n",
      "|       25|\n",
      "+---------+\n",
      "\n"
     ]
    }
   ],
   "source": [
    "#What days are represented? \n",
    "df.select('event_day').distinct().orderBy('event_day').show()"
   ]
  },
  {
   "cell_type": "code",
   "execution_count": 18,
   "id": "5780d679-e862-4ead-ae25-c6b22a9e7680",
   "metadata": {
    "tags": []
   },
   "outputs": [
    {
     "name": "stdout",
     "output_type": "stream",
     "text": [
      "+----------+\n",
      "|event_hour|\n",
      "+----------+\n",
      "|         0|\n",
      "|         1|\n",
      "|         2|\n",
      "|         3|\n",
      "|         4|\n",
      "|         5|\n",
      "|         6|\n",
      "|         7|\n",
      "|         8|\n",
      "|         9|\n",
      "|        10|\n",
      "|        11|\n",
      "|        12|\n",
      "|        13|\n",
      "|        14|\n",
      "|        15|\n",
      "|        16|\n",
      "|        17|\n",
      "|        18|\n",
      "|        19|\n",
      "|        20|\n",
      "|        21|\n",
      "|        22|\n",
      "|        23|\n",
      "+----------+\n",
      "\n"
     ]
    }
   ],
   "source": [
    "#how many hours? \n",
    "df.select('event_hour').distinct().orderBy('event_hour').show(25)\n",
    "#I see all hours which means we likely filtered on 23 before we enmbarked on this journey. I think this might mean\n",
    "#we have all the events. Exciting. "
   ]
  },
  {
   "cell_type": "code",
   "execution_count": 19,
   "id": "5c76325b-0020-4990-bae7-98fcf33a5026",
   "metadata": {
    "tags": []
   },
   "outputs": [
    {
     "data": {
      "text/plain": [
       "4587096"
      ]
     },
     "execution_count": 19,
     "metadata": {},
     "output_type": "execute_result"
    }
   ],
   "source": [
    "df_benign = df.where(col('malicious') == 0)\n",
    "df_benign.count()"
   ]
  },
  {
   "cell_type": "code",
   "execution_count": 20,
   "id": "3f069fd2-e9fa-4d6e-a2fb-da597c8f9782",
   "metadata": {
    "tags": []
   },
   "outputs": [],
   "source": [
    "df_benign_lim = df_benign.limit(500000)"
   ]
  },
  {
   "cell_type": "code",
   "execution_count": 21,
   "id": "f7181d9d-9752-40a7-8e03-2aa57e723b26",
   "metadata": {
    "tags": []
   },
   "outputs": [
    {
     "data": {
      "text/plain": [
       "8596"
      ]
     },
     "execution_count": 21,
     "metadata": {},
     "output_type": "execute_result"
    }
   ],
   "source": [
    "df_mal = df.where(col('malicious') == 1)\n",
    "df_mal.count()\n",
    "#I'm not thrilled that the malicious count isn't even close to what was shown in the paper"
   ]
  },
  {
   "cell_type": "code",
   "execution_count": 22,
   "id": "e003fe3c-d279-4a2c-8bfd-04a14c29e24c",
   "metadata": {
    "tags": []
   },
   "outputs": [
    {
     "name": "stdout",
     "output_type": "stream",
     "text": [
      "image paths: 252\n",
      "parent paths: 226\n"
     ]
    }
   ],
   "source": [
    "print(\"image paths: \" + str(df.select(\"image_path\").distinct().count()))\n",
    "print(\"parent paths: \" + str(df.select(\"parent_image_path\").distinct().count()))"
   ]
  },
  {
   "cell_type": "code",
   "execution_count": 23,
   "id": "4630d609-0c68-48cb-937d-62e34acba055",
   "metadata": {
    "tags": []
   },
   "outputs": [],
   "source": [
    "# df = df.limit(1000).cache()"
   ]
  },
  {
   "cell_type": "code",
   "execution_count": 24,
   "id": "a0a38212-2419-45cc-aaf6-147214928c82",
   "metadata": {
    "tags": []
   },
   "outputs": [
    {
     "data": {
      "text/plain": [
       "4595692"
      ]
     },
     "execution_count": 24,
     "metadata": {},
     "output_type": "execute_result"
    }
   ],
   "source": [
    "df.count()"
   ]
  },
  {
   "cell_type": "code",
   "execution_count": 21,
   "id": "d9682e4b-d89c-4e7d-8640-7bb7b29d3d80",
   "metadata": {
    "tags": []
   },
   "outputs": [
    {
     "name": "stderr",
     "output_type": "stream",
     "text": [
      "/home/ec2-user/anaconda3/envs/python3/lib/python3.10/site-packages/pyspark/sql/dataframe.py:148: UserWarning: DataFrame.sql_ctx is an internal property, and will be removed in future releases. Use DataFrame.sparkSession instead.\n",
      "  warnings.warn(\n"
     ]
    }
   ],
   "source": [
    "# Create distinct vertices with source as actorid, destination as objectid\n",
    "src_vertices = df_benign_lim.selectExpr('actorID as id').distinct()\n",
    "dst_vertices = df_benign_lim.selectExpr('objectID as id').distinct()\n",
    "vertices = src_vertices.union(dst_vertices).distinct()\n",
    "\n",
    "# Create edges by using timestamp as an edge\n",
    "edges = df_benign_lim.selectExpr('actorID as src', 'objectID as dst', 'timestamp', 'object', 'action', 'hostname', 'user_name', 'privileges', 'image_path',\n",
    "                      'parent_image_path', 'new_path', 'file_path', 'direction', 'logon_id', 'requesting_domain', 'requesting_user', 'malicious')\n",
    "\n",
    "# Create GraphFrame\n",
    "g = GraphFrame(vertices, edges)"
   ]
  },
  {
   "cell_type": "code",
   "execution_count": 22,
   "id": "88890a54-58e8-4fd0-81c1-7e58f2321755",
   "metadata": {
    "tags": []
   },
   "outputs": [],
   "source": [
    "# Create distinct vertices with source as actorid, destination as objectid for malicious\n",
    "src_vertices = df_mal.selectExpr('actorID as id').distinct()\n",
    "dst_vertices = df_mal.selectExpr('objectID as id').distinct()\n",
    "vertices = src_vertices.union(dst_vertices).distinct()\n",
    "\n",
    "# Create edges by using timestamp as an edge\n",
    "edges = df_mal.selectExpr('actorID as src', 'objectID as dst', 'timestamp', 'object', 'action', 'hostname', 'user_name', 'privileges', 'image_path',\n",
    "                      'parent_image_path', 'new_path', 'file_path', 'direction', 'logon_id', 'requesting_domain', 'requesting_user', 'malicious')\n",
    "\n",
    "# Create GraphFrame\n",
    "g = GraphFrame(vertices, edges)"
   ]
  },
  {
   "cell_type": "code",
   "execution_count": 23,
   "id": "8c13cded-2d30-48d5-8d5a-2d0ee224a775",
   "metadata": {
    "tags": []
   },
   "outputs": [
    {
     "name": "stdout",
     "output_type": "stream",
     "text": [
      "Vertices:\n"
     ]
    },
    {
     "data": {
      "text/html": [
       "<div>\n",
       "<style scoped>\n",
       "    .dataframe tbody tr th:only-of-type {\n",
       "        vertical-align: middle;\n",
       "    }\n",
       "\n",
       "    .dataframe tbody tr th {\n",
       "        vertical-align: top;\n",
       "    }\n",
       "\n",
       "    .dataframe thead th {\n",
       "        text-align: right;\n",
       "    }\n",
       "</style>\n",
       "<table border=\"1\" class=\"dataframe\">\n",
       "  <thead>\n",
       "    <tr style=\"text-align: right;\">\n",
       "      <th></th>\n",
       "      <th>id</th>\n",
       "    </tr>\n",
       "  </thead>\n",
       "  <tbody>\n",
       "    <tr>\n",
       "      <th>0</th>\n",
       "      <td>b9955edc-eccc-4948-8c2f-4cc6608c1e27</td>\n",
       "    </tr>\n",
       "    <tr>\n",
       "      <th>1</th>\n",
       "      <td>d5846376-9596-4283-8505-8e6112abf1f2</td>\n",
       "    </tr>\n",
       "  </tbody>\n",
       "</table>\n",
       "</div>"
      ],
      "text/plain": [
       "                                     id\n",
       "0  b9955edc-eccc-4948-8c2f-4cc6608c1e27\n",
       "1  d5846376-9596-4283-8505-8e6112abf1f2"
      ]
     },
     "execution_count": 23,
     "metadata": {},
     "output_type": "execute_result"
    }
   ],
   "source": [
    "# display the vertices\n",
    "print(\"Vertices:\")\n",
    "g.vertices.limit(2).toPandas()"
   ]
  },
  {
   "cell_type": "code",
   "execution_count": 24,
   "id": "c29d12c6-e084-4fe5-872d-e1f64b221a69",
   "metadata": {
    "tags": []
   },
   "outputs": [
    {
     "name": "stdout",
     "output_type": "stream",
     "text": [
      "Edges:\n"
     ]
    },
    {
     "name": "stderr",
     "output_type": "stream",
     "text": [
      "/home/ec2-user/anaconda3/envs/python3/lib/python3.10/site-packages/pyspark/sql/pandas/conversion.py:248: FutureWarning: Passing unit-less datetime64 dtype to .astype is deprecated and will raise in a future version. Pass 'datetime64[ns]' instead\n",
      "  series = series.astype(t, copy=False)\n"
     ]
    },
    {
     "data": {
      "text/html": [
       "<div>\n",
       "<style scoped>\n",
       "    .dataframe tbody tr th:only-of-type {\n",
       "        vertical-align: middle;\n",
       "    }\n",
       "\n",
       "    .dataframe tbody tr th {\n",
       "        vertical-align: top;\n",
       "    }\n",
       "\n",
       "    .dataframe thead th {\n",
       "        text-align: right;\n",
       "    }\n",
       "</style>\n",
       "<table border=\"1\" class=\"dataframe\">\n",
       "  <thead>\n",
       "    <tr style=\"text-align: right;\">\n",
       "      <th></th>\n",
       "      <th>src</th>\n",
       "      <th>dst</th>\n",
       "      <th>timestamp</th>\n",
       "      <th>object</th>\n",
       "      <th>action</th>\n",
       "      <th>hostname</th>\n",
       "      <th>user_name</th>\n",
       "      <th>privileges</th>\n",
       "      <th>image_path</th>\n",
       "      <th>parent_image_path</th>\n",
       "      <th>new_path</th>\n",
       "      <th>file_path</th>\n",
       "      <th>direction</th>\n",
       "      <th>logon_id</th>\n",
       "      <th>requesting_domain</th>\n",
       "      <th>requesting_user</th>\n",
       "      <th>malicious</th>\n",
       "    </tr>\n",
       "  </thead>\n",
       "  <tbody>\n",
       "    <tr>\n",
       "      <th>0</th>\n",
       "      <td>054df7d9-801e-49d0-b8cd-4f20b42a4305</td>\n",
       "      <td>a829facc-8645-4084-a606-e66f8f07c58c</td>\n",
       "      <td>2019-09-24 15:09:59.426</td>\n",
       "      <td>SHELL</td>\n",
       "      <td>COMMAND</td>\n",
       "      <td>SysClient0501.systemia.com</td>\n",
       "      <td>None</td>\n",
       "      <td>None</td>\n",
       "      <td>\\Device\\HarddiskVolume1\\Windows\\System32\\Windo...</td>\n",
       "      <td>None</td>\n",
       "      <td>None</td>\n",
       "      <td>None</td>\n",
       "      <td>None</td>\n",
       "      <td>None</td>\n",
       "      <td>None</td>\n",
       "      <td>None</td>\n",
       "      <td>1</td>\n",
       "    </tr>\n",
       "    <tr>\n",
       "      <th>1</th>\n",
       "      <td>266392d7-012e-479b-a43a-fd5190bf22ac</td>\n",
       "      <td>d831de20-4434-4791-8d07-aa27286766c7</td>\n",
       "      <td>2019-09-24 19:41:17.964</td>\n",
       "      <td>FILE</td>\n",
       "      <td>READ</td>\n",
       "      <td>SysClient0851.systemia.com</td>\n",
       "      <td>None</td>\n",
       "      <td>None</td>\n",
       "      <td>powershell.exe</td>\n",
       "      <td>None</td>\n",
       "      <td>None</td>\n",
       "      <td>\\Device\\HarddiskVolume1\\Windows\\Prefetch\\POWER...</td>\n",
       "      <td>None</td>\n",
       "      <td>None</td>\n",
       "      <td>None</td>\n",
       "      <td>None</td>\n",
       "      <td>1</td>\n",
       "    </tr>\n",
       "  </tbody>\n",
       "</table>\n",
       "</div>"
      ],
      "text/plain": [
       "                                    src                                   dst  \\\n",
       "0  054df7d9-801e-49d0-b8cd-4f20b42a4305  a829facc-8645-4084-a606-e66f8f07c58c   \n",
       "1  266392d7-012e-479b-a43a-fd5190bf22ac  d831de20-4434-4791-8d07-aa27286766c7   \n",
       "\n",
       "                timestamp object   action                    hostname  \\\n",
       "0 2019-09-24 15:09:59.426  SHELL  COMMAND  SysClient0501.systemia.com   \n",
       "1 2019-09-24 19:41:17.964   FILE     READ  SysClient0851.systemia.com   \n",
       "\n",
       "  user_name privileges                                         image_path  \\\n",
       "0      None       None  \\Device\\HarddiskVolume1\\Windows\\System32\\Windo...   \n",
       "1      None       None                                     powershell.exe   \n",
       "\n",
       "  parent_image_path new_path  \\\n",
       "0              None     None   \n",
       "1              None     None   \n",
       "\n",
       "                                           file_path direction logon_id  \\\n",
       "0                                               None      None     None   \n",
       "1  \\Device\\HarddiskVolume1\\Windows\\Prefetch\\POWER...      None     None   \n",
       "\n",
       "  requesting_domain requesting_user  malicious  \n",
       "0              None            None          1  \n",
       "1              None            None          1  "
      ]
     },
     "execution_count": 24,
     "metadata": {},
     "output_type": "execute_result"
    }
   ],
   "source": [
    "# display the edges\n",
    "print(\"Edges:\")\n",
    "g.edges.limit(2).toPandas()"
   ]
  },
  {
   "cell_type": "code",
   "execution_count": 25,
   "id": "7c58e3ea-1a02-49de-8b36-b13e3e6e85a4",
   "metadata": {
    "tags": []
   },
   "outputs": [
    {
     "name": "stderr",
     "output_type": "stream",
     "text": [
      "/home/ec2-user/anaconda3/envs/python3/lib/python3.10/site-packages/pyspark/sql/dataframe.py:127: UserWarning: DataFrame constructor is internal. Do not directly use it.\n",
      "  warnings.warn(\"DataFrame constructor is internal. Do not directly use it.\")\n"
     ]
    },
    {
     "data": {
      "text/html": [
       "<div>\n",
       "<style scoped>\n",
       "    .dataframe tbody tr th:only-of-type {\n",
       "        vertical-align: middle;\n",
       "    }\n",
       "\n",
       "    .dataframe tbody tr th {\n",
       "        vertical-align: top;\n",
       "    }\n",
       "\n",
       "    .dataframe thead th {\n",
       "        text-align: right;\n",
       "    }\n",
       "</style>\n",
       "<table border=\"1\" class=\"dataframe\">\n",
       "  <thead>\n",
       "    <tr style=\"text-align: right;\">\n",
       "      <th></th>\n",
       "      <th>id</th>\n",
       "      <th>inDegree</th>\n",
       "    </tr>\n",
       "  </thead>\n",
       "  <tbody>\n",
       "    <tr>\n",
       "      <th>0</th>\n",
       "      <td>3b37b7f2-8d76-484c-9b27-e9c9808ccb0f</td>\n",
       "      <td>1</td>\n",
       "    </tr>\n",
       "    <tr>\n",
       "      <th>1</th>\n",
       "      <td>5d2847ec-878c-4e52-93b3-61427344e69c</td>\n",
       "      <td>1</td>\n",
       "    </tr>\n",
       "  </tbody>\n",
       "</table>\n",
       "</div>"
      ],
      "text/plain": [
       "                                     id  inDegree\n",
       "0  3b37b7f2-8d76-484c-9b27-e9c9808ccb0f         1\n",
       "1  5d2847ec-878c-4e52-93b3-61427344e69c         1"
      ]
     },
     "execution_count": 25,
     "metadata": {},
     "output_type": "execute_result"
    }
   ],
   "source": [
    "g.inDegrees.limit(2).toPandas()"
   ]
  },
  {
   "cell_type": "code",
   "execution_count": 26,
   "id": "c3ed0ae8-de35-47d6-b9b8-bc6ed6e52a9f",
   "metadata": {
    "tags": []
   },
   "outputs": [
    {
     "name": "stderr",
     "output_type": "stream",
     "text": [
      "/home/ec2-user/anaconda3/envs/python3/lib/python3.10/site-packages/pyspark/sql/dataframe.py:127: UserWarning: DataFrame constructor is internal. Do not directly use it.\n",
      "  warnings.warn(\"DataFrame constructor is internal. Do not directly use it.\")\n"
     ]
    }
   ],
   "source": [
    "# find all paths of length 6 in the graph\n",
    "# Handling null values in shorter length \n",
    "motifs2 = g.find(\"(a)-[e1]->(b); (b)-[e2]->(c)\")\n",
    "#motifs6 = g.find(\"(a)-[e1]->(b); (b)-[e2]->(c); (c)-[e3]->(d)\")\n",
    "motifs6 = g.find(\"(a)-[e1]->(b); (b)-[e2]->(c); (c)-[e3]->(d); (d)-[e4]->(e); (e)-[e5]->(f); (f)-[e6]->(g)\")"
   ]
  },
  {
   "cell_type": "markdown",
   "id": "d8da63cb-161a-4902-9ed6-380d51f1decd",
   "metadata": {},
   "source": [
    "## Motif Analysis"
   ]
  },
  {
   "cell_type": "code",
   "execution_count": 27,
   "id": "536bf0be-671e-4605-a6c8-3435f3d5413b",
   "metadata": {
    "tags": []
   },
   "outputs": [
    {
     "name": "stderr",
     "output_type": "stream",
     "text": [
      "/home/ec2-user/anaconda3/envs/python3/lib/python3.10/site-packages/pyspark/sql/dataframe.py:148: UserWarning: DataFrame.sql_ctx is an internal property, and will be removed in future releases. Use DataFrame.sparkSession instead.\n",
      "  warnings.warn(\n"
     ]
    }
   ],
   "source": [
    "g.unpersist()\n",
    "\n",
    "# Create distinct vertices with source as actorid, destination as objectid\n",
    "src_vertices = df_benign_lim.selectExpr('actorID as id').distinct()\n",
    "dst_vertices = df_benign_lim.selectExpr('objectID as id').distinct()\n",
    "vertices = src_vertices.union(dst_vertices).distinct()\n",
    "\n",
    "# Create edges by using timestamp as an edge\n",
    "edges = df_benign_lim.selectExpr('actorID as src', 'objectID as dst', 'timestamp', 'object', 'action', 'hostname', 'user_name', 'privileges', 'image_path',\n",
    "                      'parent_image_path', 'new_path', 'file_path', 'direction', 'logon_id', 'requesting_domain', 'requesting_user', 'malicious')\n",
    "\n",
    "# Create GraphFrame\n",
    "g = GraphFrame(vertices, edges)"
   ]
  },
  {
   "cell_type": "code",
   "execution_count": 28,
   "id": "f66e1651-0381-435f-82d8-1061104767a0",
   "metadata": {
    "tags": []
   },
   "outputs": [],
   "source": [
    "# find all paths of length 6 in the graph\n",
    "# Handling null values in shorter length \n",
    "motifs2 = g.find(\"(a)-[e1]->(b); (b)-[e2]->(c)\")\n",
    "#motifs6 = g.find(\"(a)-[e1]->(b); (b)-[e2]->(c); (c)-[e3]->(d)\")\n",
    "motifs6 = g.find(\"(a)-[e1]->(b); (b)-[e2]->(c); (c)-[e3]->(d); (d)-[e4]->(e); (e)-[e5]->(f); (f)-[e6]->(g)\")"
   ]
  },
  {
   "cell_type": "code",
   "execution_count": 29,
   "id": "520d8ba6-378a-455b-a256-08ec2b6525d0",
   "metadata": {
    "tags": []
   },
   "outputs": [
    {
     "data": {
      "text/plain": [
       "0"
      ]
     },
     "execution_count": 29,
     "metadata": {},
     "output_type": "execute_result"
    }
   ],
   "source": [
    "df_benign_lim.filter( col('actorID') == col('objectID')).count()"
   ]
  },
  {
   "cell_type": "code",
   "execution_count": 30,
   "id": "5b02fada-96a5-4aaf-aae1-a6efcbd572fc",
   "metadata": {
    "tags": []
   },
   "outputs": [
    {
     "name": "stderr",
     "output_type": "stream",
     "text": [
      "                                                                                \r"
     ]
    },
    {
     "data": {
      "text/plain": [
       "1810342"
      ]
     },
     "execution_count": 30,
     "metadata": {},
     "output_type": "execute_result"
    }
   ],
   "source": [
    "motifs2.count()"
   ]
  },
  {
   "cell_type": "code",
   "execution_count": 31,
   "id": "398137dd-aab7-4385-b83a-7c7e489b1009",
   "metadata": {
    "tags": []
   },
   "outputs": [
    {
     "name": "stderr",
     "output_type": "stream",
     "text": [
      "                                                                                \r"
     ]
    },
    {
     "data": {
      "text/plain": [
       "91566945"
      ]
     },
     "execution_count": 31,
     "metadata": {},
     "output_type": "execute_result"
    }
   ],
   "source": [
    "motifs6.count()"
   ]
  },
  {
   "cell_type": "code",
   "execution_count": 25,
   "id": "9d166b13-ccad-4304-962e-a9ccf881a02e",
   "metadata": {
    "tags": []
   },
   "outputs": [
    {
     "name": "stderr",
     "output_type": "stream",
     "text": [
      "/home/ec2-user/anaconda3/envs/python3/lib/python3.10/site-packages/pyspark/sql/dataframe.py:148: UserWarning: DataFrame.sql_ctx is an internal property, and will be removed in future releases. Use DataFrame.sparkSession instead.\n",
      "  warnings.warn(\n"
     ]
    }
   ],
   "source": [
    "#g.unpersist()\n",
    "\n",
    "# Create distinct vertices with source as actorid, destination as objectid for malicious\n",
    "src_vertices = df_mal.selectExpr('actorID as id').distinct()\n",
    "dst_vertices = df_mal.selectExpr('objectID as id').distinct()\n",
    "vertices = src_vertices.union(dst_vertices).distinct()\n",
    "\n",
    "# Create edges by using timestamp as an edge\n",
    "edges = df_mal.selectExpr('actorID as src', 'objectID as dst', 'timestamp', 'object', 'action', 'hostname', 'user_name', 'privileges', 'image_path',\n",
    "                      'parent_image_path', 'new_path', 'file_path', 'direction', 'logon_id', 'requesting_domain', 'requesting_user', 'malicious')\n",
    "\n",
    "# Create GraphFrame\n",
    "g = GraphFrame(vertices, edges)"
   ]
  },
  {
   "cell_type": "code",
   "execution_count": 26,
   "id": "b5907e65-7804-4785-bc71-59dc5e358979",
   "metadata": {
    "tags": []
   },
   "outputs": [
    {
     "name": "stderr",
     "output_type": "stream",
     "text": [
      "/home/ec2-user/anaconda3/envs/python3/lib/python3.10/site-packages/pyspark/sql/dataframe.py:127: UserWarning: DataFrame constructor is internal. Do not directly use it.\n",
      "  warnings.warn(\"DataFrame constructor is internal. Do not directly use it.\")\n"
     ]
    }
   ],
   "source": [
    "# find all paths of length 6 in the graph\n",
    "# Handling null values in shorter length \n",
    "motifs2 = g.find(\"(a)-[e1]->(b); (b)-[e2]->(c)\")\n",
    "#motifs6 = g.find(\"(a)-[e1]->(b); (b)-[e2]->(c); (c)-[e3]->(d)\")\n",
    "motifs6 = g.find(\"(a)-[e1]->(b); (b)-[e2]->(c); (c)-[e3]->(d); (d)-[e4]->(e); (e)-[e5]->(f); (f)-[e6]->(g)\")"
   ]
  },
  {
   "cell_type": "code",
   "execution_count": 27,
   "id": "78ab1293-f39c-4897-aa84-93587ba2bf74",
   "metadata": {
    "tags": []
   },
   "outputs": [
    {
     "name": "stderr",
     "output_type": "stream",
     "text": [
      "                                                                                \r"
     ]
    },
    {
     "data": {
      "text/plain": [
       "9083"
      ]
     },
     "execution_count": 27,
     "metadata": {},
     "output_type": "execute_result"
    }
   ],
   "source": [
    "motifs2.count()"
   ]
  },
  {
   "cell_type": "code",
   "execution_count": 28,
   "id": "55b2e361-7531-44a1-9411-c9782bd70a1d",
   "metadata": {
    "tags": []
   },
   "outputs": [
    {
     "name": "stderr",
     "output_type": "stream",
     "text": [
      "                                                                                \r"
     ]
    },
    {
     "data": {
      "text/plain": [
       "10357"
      ]
     },
     "execution_count": 28,
     "metadata": {},
     "output_type": "execute_result"
    }
   ],
   "source": [
    "motifs6.count()"
   ]
  },
  {
   "cell_type": "code",
   "execution_count": 50,
   "id": "6e0d3c6b-cc6c-4575-82c1-999e9944e791",
   "metadata": {
    "tags": []
   },
   "outputs": [
    {
     "name": "stderr",
     "output_type": "stream",
     "text": [
      "                                                                                \r"
     ]
    },
    {
     "data": {
      "text/plain": [
       "9083"
      ]
     },
     "execution_count": 50,
     "metadata": {},
     "output_type": "execute_result"
    }
   ],
   "source": [
    "motifx = g.find(\"(a)-[e1]->(b); (b)-[e2]->(c)\").filter(\"e1.timestamp != e2.timestamp\")\n",
    "motifx.count()"
   ]
  },
  {
   "cell_type": "code",
   "execution_count": 51,
   "id": "d4c68004-1d24-416c-befb-2904f2e98942",
   "metadata": {
    "tags": []
   },
   "outputs": [
    {
     "name": "stderr",
     "output_type": "stream",
     "text": [
      "                                                                                \r"
     ]
    },
    {
     "data": {
      "text/plain": [
       "10357"
      ]
     },
     "execution_count": 51,
     "metadata": {},
     "output_type": "execute_result"
    }
   ],
   "source": [
    "motifsy = g.find(\"(a)-[e1]->(b); (b)-[e2]->(c); (c)-[e3]->(d); (d)-[e4]->(e); (e)-[e5]->(f); (f)-[e6]->(g)\").filter(\"e1.timestamp != e2.timestamp and e2.timestamp != e3.timestamp and e3.timestamp != e4.timestamp and e4.timestamp != e5.timestamp and e5.timestamp != e6.timestamp\")\n",
    "motifsy.count()"
   ]
  },
  {
   "cell_type": "code",
   "execution_count": 52,
   "id": "d84fefcb-3ac1-4f5a-b03c-0f3caa690dec",
   "metadata": {
    "tags": []
   },
   "outputs": [
    {
     "name": "stderr",
     "output_type": "stream",
     "text": [
      "                                                                                \r"
     ]
    },
    {
     "data": {
      "text/plain": [
       "9073"
      ]
     },
     "execution_count": 52,
     "metadata": {},
     "output_type": "execute_result"
    }
   ],
   "source": [
    "motifz = g.find(\"(a)-[e1]->(b); (b)-[e2]->(c)\").filter(\"e1.timestamp != e2.timestamp and e1.src != e2.dst\")\n",
    "motifz.count()"
   ]
  },
  {
   "cell_type": "code",
   "execution_count": 53,
   "id": "cfdefe08-2341-4bf1-8faf-c0c74945660e",
   "metadata": {
    "tags": []
   },
   "outputs": [],
   "source": [
    "g.unpersist()\n",
    "\n",
    "# Create distinct vertices with source as actorid, destination as objectid for malicious\n",
    "src_vertices = df_mal.selectExpr('objectID as id').distinct()\n",
    "dst_vertices = df_mal.selectExpr('actorID as id').distinct()\n",
    "vertices = src_vertices.union(dst_vertices).distinct()\n",
    "\n",
    "# Create edges by using timestamp as an edge\n",
    "edges = df_mal.selectExpr('objectID  as src', 'actorID as dst', 'timestamp', 'object', 'action', 'hostname', 'user_name', 'privileges', 'image_path',\n",
    "                      'parent_image_path', 'new_path', 'file_path', 'direction', 'logon_id', 'requesting_domain', 'requesting_user', 'malicious')\n",
    "\n",
    "# Create GraphFrame\n",
    "l = GraphFrame(vertices, edges)"
   ]
  },
  {
   "cell_type": "code",
   "execution_count": 54,
   "id": "bd958604-ce8a-4367-b8d5-640e13a37ac9",
   "metadata": {
    "tags": []
   },
   "outputs": [],
   "source": [
    "# find all paths of length 6 in the graph\n",
    "# Handling null values in shorter length \n",
    "motifs2 = l.find(\"(a)-[e1]->(b); (b)-[e2]->(c)\")\n",
    "#motifs6 = g.find(\"(a)-[e1]->(b); (b)-[e2]->(c); (c)-[e3]->(d)\")\n",
    "motifs6 = l.find(\"(a)-[e1]->(b); (b)-[e2]->(c); (c)-[e3]->(d); (d)-[e4]->(e); (e)-[e5]->(f); (f)-[e6]->(g)\")\n"
   ]
  },
  {
   "cell_type": "code",
   "execution_count": 55,
   "id": "05b67942-61c6-4666-a6d0-9d0b55ac3584",
   "metadata": {
    "tags": []
   },
   "outputs": [
    {
     "name": "stderr",
     "output_type": "stream",
     "text": [
      "                                                                                \r"
     ]
    },
    {
     "data": {
      "text/plain": [
       "9083"
      ]
     },
     "execution_count": 55,
     "metadata": {},
     "output_type": "execute_result"
    }
   ],
   "source": [
    "motifs2.count()"
   ]
  },
  {
   "cell_type": "code",
   "execution_count": 56,
   "id": "0833fac8-853e-4de6-b9bd-ac312f9f6063",
   "metadata": {
    "tags": []
   },
   "outputs": [
    {
     "name": "stderr",
     "output_type": "stream",
     "text": [
      "                                                                                \r"
     ]
    },
    {
     "data": {
      "text/plain": [
       "10357"
      ]
     },
     "execution_count": 56,
     "metadata": {},
     "output_type": "execute_result"
    }
   ],
   "source": [
    "motifs6.count()"
   ]
  },
  {
   "cell_type": "code",
   "execution_count": 57,
   "id": "479556cb-d247-4ca7-84af-cd998f6bc0ce",
   "metadata": {
    "tags": []
   },
   "outputs": [
    {
     "name": "stderr",
     "output_type": "stream",
     "text": [
      "/home/ec2-user/anaconda3/envs/python3/lib/python3.10/site-packages/pyspark/sql/pandas/conversion.py:248: FutureWarning: Passing unit-less datetime64 dtype to .astype is deprecated and will raise in a future version. Pass 'datetime64[ns]' instead\n",
      "  series = series.astype(t, copy=False)\n"
     ]
    },
    {
     "data": {
      "text/html": [
       "<div>\n",
       "<style scoped>\n",
       "    .dataframe tbody tr th:only-of-type {\n",
       "        vertical-align: middle;\n",
       "    }\n",
       "\n",
       "    .dataframe tbody tr th {\n",
       "        vertical-align: top;\n",
       "    }\n",
       "\n",
       "    .dataframe thead th {\n",
       "        text-align: right;\n",
       "    }\n",
       "</style>\n",
       "<table border=\"1\" class=\"dataframe\">\n",
       "  <thead>\n",
       "    <tr style=\"text-align: right;\">\n",
       "      <th></th>\n",
       "      <th>id</th>\n",
       "      <th>timestamp</th>\n",
       "      <th>objectID</th>\n",
       "      <th>actorID</th>\n",
       "      <th>object</th>\n",
       "      <th>action</th>\n",
       "      <th>hostname</th>\n",
       "      <th>user_name</th>\n",
       "      <th>privileges</th>\n",
       "      <th>image_path</th>\n",
       "      <th>...</th>\n",
       "      <th>file_path</th>\n",
       "      <th>direction</th>\n",
       "      <th>logon_id</th>\n",
       "      <th>requesting_domain</th>\n",
       "      <th>requesting_user</th>\n",
       "      <th>event_minute</th>\n",
       "      <th>event_day</th>\n",
       "      <th>event_hour</th>\n",
       "      <th>malicious</th>\n",
       "      <th>relationship</th>\n",
       "    </tr>\n",
       "  </thead>\n",
       "  <tbody>\n",
       "    <tr>\n",
       "      <th>0</th>\n",
       "      <td>10dc20ca-0dee-4a74-8e3e-3d7192c9443e</td>\n",
       "      <td>2019-09-24 15:09:59.426</td>\n",
       "      <td>a829facc-8645-4084-a606-e66f8f07c58c</td>\n",
       "      <td>054df7d9-801e-49d0-b8cd-4f20b42a4305</td>\n",
       "      <td>SHELL</td>\n",
       "      <td>COMMAND</td>\n",
       "      <td>SysClient0501.systemia.com</td>\n",
       "      <td>None</td>\n",
       "      <td>None</td>\n",
       "      <td>\\Device\\HarddiskVolume1\\Windows\\System32\\Windo...</td>\n",
       "      <td>...</td>\n",
       "      <td>None</td>\n",
       "      <td>None</td>\n",
       "      <td>None</td>\n",
       "      <td>None</td>\n",
       "      <td>None</td>\n",
       "      <td>9</td>\n",
       "      <td>24</td>\n",
       "      <td>15</td>\n",
       "      <td>1</td>\n",
       "      <td>054df7d9-801e-49d0-b8cd-4f20b42a4305-&gt;a829facc...</td>\n",
       "    </tr>\n",
       "    <tr>\n",
       "      <th>1</th>\n",
       "      <td>ba7cbb42-cd05-4908-8cdc-1e1cc6452ebb</td>\n",
       "      <td>2019-09-24 19:41:17.964</td>\n",
       "      <td>d831de20-4434-4791-8d07-aa27286766c7</td>\n",
       "      <td>266392d7-012e-479b-a43a-fd5190bf22ac</td>\n",
       "      <td>FILE</td>\n",
       "      <td>READ</td>\n",
       "      <td>SysClient0851.systemia.com</td>\n",
       "      <td>None</td>\n",
       "      <td>None</td>\n",
       "      <td>powershell.exe</td>\n",
       "      <td>...</td>\n",
       "      <td>\\Device\\HarddiskVolume1\\Windows\\Prefetch\\POWER...</td>\n",
       "      <td>None</td>\n",
       "      <td>None</td>\n",
       "      <td>None</td>\n",
       "      <td>None</td>\n",
       "      <td>41</td>\n",
       "      <td>24</td>\n",
       "      <td>19</td>\n",
       "      <td>1</td>\n",
       "      <td>266392d7-012e-479b-a43a-fd5190bf22ac-&gt;d831de20...</td>\n",
       "    </tr>\n",
       "  </tbody>\n",
       "</table>\n",
       "<p>2 rows × 22 columns</p>\n",
       "</div>"
      ],
      "text/plain": [
       "                                     id               timestamp  \\\n",
       "0  10dc20ca-0dee-4a74-8e3e-3d7192c9443e 2019-09-24 15:09:59.426   \n",
       "1  ba7cbb42-cd05-4908-8cdc-1e1cc6452ebb 2019-09-24 19:41:17.964   \n",
       "\n",
       "                               objectID                               actorID  \\\n",
       "0  a829facc-8645-4084-a606-e66f8f07c58c  054df7d9-801e-49d0-b8cd-4f20b42a4305   \n",
       "1  d831de20-4434-4791-8d07-aa27286766c7  266392d7-012e-479b-a43a-fd5190bf22ac   \n",
       "\n",
       "  object   action                    hostname user_name privileges  \\\n",
       "0  SHELL  COMMAND  SysClient0501.systemia.com      None       None   \n",
       "1   FILE     READ  SysClient0851.systemia.com      None       None   \n",
       "\n",
       "                                          image_path  ...  \\\n",
       "0  \\Device\\HarddiskVolume1\\Windows\\System32\\Windo...  ...   \n",
       "1                                     powershell.exe  ...   \n",
       "\n",
       "                                           file_path direction logon_id  \\\n",
       "0                                               None      None     None   \n",
       "1  \\Device\\HarddiskVolume1\\Windows\\Prefetch\\POWER...      None     None   \n",
       "\n",
       "  requesting_domain requesting_user event_minute event_day  event_hour  \\\n",
       "0              None            None            9        24          15   \n",
       "1              None            None           41        24          19   \n",
       "\n",
       "   malicious                                       relationship  \n",
       "0          1  054df7d9-801e-49d0-b8cd-4f20b42a4305->a829facc...  \n",
       "1          1  266392d7-012e-479b-a43a-fd5190bf22ac->d831de20...  \n",
       "\n",
       "[2 rows x 22 columns]"
      ]
     },
     "execution_count": 57,
     "metadata": {},
     "output_type": "execute_result"
    }
   ],
   "source": [
    "df_mal.limit(2).toPandas()"
   ]
  },
  {
   "cell_type": "code",
   "execution_count": 58,
   "id": "a336a820-5e75-4b3a-a03d-e6489d00a79b",
   "metadata": {
    "tags": []
   },
   "outputs": [
    {
     "data": {
      "text/html": [
       "<div>\n",
       "<style scoped>\n",
       "    .dataframe tbody tr th:only-of-type {\n",
       "        vertical-align: middle;\n",
       "    }\n",
       "\n",
       "    .dataframe tbody tr th {\n",
       "        vertical-align: top;\n",
       "    }\n",
       "\n",
       "    .dataframe thead th {\n",
       "        text-align: right;\n",
       "    }\n",
       "</style>\n",
       "<table border=\"1\" class=\"dataframe\">\n",
       "  <thead>\n",
       "    <tr style=\"text-align: right;\">\n",
       "      <th></th>\n",
       "      <th>ObjectID</th>\n",
       "      <th>count</th>\n",
       "    </tr>\n",
       "  </thead>\n",
       "  <tbody>\n",
       "    <tr>\n",
       "      <th>0</th>\n",
       "      <td>5f8a2b40-e660-456c-bde7-0a117452809e</td>\n",
       "      <td>9</td>\n",
       "    </tr>\n",
       "    <tr>\n",
       "      <th>1</th>\n",
       "      <td>3463e44f-6662-4b77-a5c8-3e1f28af3f7c</td>\n",
       "      <td>6</td>\n",
       "    </tr>\n",
       "  </tbody>\n",
       "</table>\n",
       "</div>"
      ],
      "text/plain": [
       "                               ObjectID  count\n",
       "0  5f8a2b40-e660-456c-bde7-0a117452809e      9\n",
       "1  3463e44f-6662-4b77-a5c8-3e1f28af3f7c      6"
      ]
     },
     "execution_count": 58,
     "metadata": {},
     "output_type": "execute_result"
    }
   ],
   "source": [
    "result1 = df_mal.groupBy(\"ObjectID\").count().orderBy(\"count\", ascending=False)\n",
    "\n",
    "result1.limit(2).toPandas()"
   ]
  },
  {
   "cell_type": "code",
   "execution_count": 59,
   "id": "666c361b-1455-40fd-be23-46b808bc88d5",
   "metadata": {
    "tags": []
   },
   "outputs": [
    {
     "name": "stderr",
     "output_type": "stream",
     "text": [
      "/home/ec2-user/anaconda3/envs/python3/lib/python3.10/site-packages/pyspark/sql/pandas/conversion.py:248: FutureWarning: Passing unit-less datetime64 dtype to .astype is deprecated and will raise in a future version. Pass 'datetime64[ns]' instead\n",
      "  series = series.astype(t, copy=False)\n"
     ]
    },
    {
     "data": {
      "text/html": [
       "<div>\n",
       "<style scoped>\n",
       "    .dataframe tbody tr th:only-of-type {\n",
       "        vertical-align: middle;\n",
       "    }\n",
       "\n",
       "    .dataframe tbody tr th {\n",
       "        vertical-align: top;\n",
       "    }\n",
       "\n",
       "    .dataframe thead th {\n",
       "        text-align: right;\n",
       "    }\n",
       "</style>\n",
       "<table border=\"1\" class=\"dataframe\">\n",
       "  <thead>\n",
       "    <tr style=\"text-align: right;\">\n",
       "      <th></th>\n",
       "      <th>id</th>\n",
       "      <th>timestamp</th>\n",
       "      <th>objectID</th>\n",
       "      <th>actorID</th>\n",
       "      <th>object</th>\n",
       "      <th>action</th>\n",
       "      <th>hostname</th>\n",
       "      <th>user_name</th>\n",
       "      <th>privileges</th>\n",
       "      <th>image_path</th>\n",
       "      <th>...</th>\n",
       "      <th>file_path</th>\n",
       "      <th>direction</th>\n",
       "      <th>logon_id</th>\n",
       "      <th>requesting_domain</th>\n",
       "      <th>requesting_user</th>\n",
       "      <th>event_minute</th>\n",
       "      <th>event_day</th>\n",
       "      <th>event_hour</th>\n",
       "      <th>malicious</th>\n",
       "      <th>relationship</th>\n",
       "    </tr>\n",
       "  </thead>\n",
       "  <tbody>\n",
       "    <tr>\n",
       "      <th>0</th>\n",
       "      <td>6ddbfe14-ec48-486a-affb-3e757a3de0be</td>\n",
       "      <td>2019-09-23 17:34:20.279</td>\n",
       "      <td>b3736e65-b300-4f92-9d15-2b0b59cb5d9d</td>\n",
       "      <td>3eea9071-9ceb-468a-ad89-9e3890833e52</td>\n",
       "      <td>FILE</td>\n",
       "      <td>CREATE</td>\n",
       "      <td>SysClient0660.systemia.com</td>\n",
       "      <td>None</td>\n",
       "      <td>None</td>\n",
       "      <td>powershell.exe</td>\n",
       "      <td>...</td>\n",
       "      <td>\\Device\\HarddiskVolume1\\Windows\\TEMP\\__PSScrip...</td>\n",
       "      <td>None</td>\n",
       "      <td>None</td>\n",
       "      <td>None</td>\n",
       "      <td>None</td>\n",
       "      <td>34</td>\n",
       "      <td>23</td>\n",
       "      <td>17</td>\n",
       "      <td>1</td>\n",
       "      <td>3eea9071-9ceb-468a-ad89-9e3890833e52-&gt;b3736e65...</td>\n",
       "    </tr>\n",
       "    <tr>\n",
       "      <th>1</th>\n",
       "      <td>c87fc3a2-66f4-4156-8c0d-0cbf5c430c6e</td>\n",
       "      <td>2019-09-23 17:34:20.279</td>\n",
       "      <td>b3736e65-b300-4f92-9d15-2b0b59cb5d9d</td>\n",
       "      <td>3eea9071-9ceb-468a-ad89-9e3890833e52</td>\n",
       "      <td>FILE</td>\n",
       "      <td>CREATE</td>\n",
       "      <td>SysClient0660.systemia.com</td>\n",
       "      <td>None</td>\n",
       "      <td>None</td>\n",
       "      <td>powershell.exe</td>\n",
       "      <td>...</td>\n",
       "      <td>\\Device\\HarddiskVolume1\\Windows\\TEMP\\__PSScrip...</td>\n",
       "      <td>None</td>\n",
       "      <td>None</td>\n",
       "      <td>None</td>\n",
       "      <td>None</td>\n",
       "      <td>34</td>\n",
       "      <td>23</td>\n",
       "      <td>17</td>\n",
       "      <td>1</td>\n",
       "      <td>3eea9071-9ceb-468a-ad89-9e3890833e52-&gt;b3736e65...</td>\n",
       "    </tr>\n",
       "    <tr>\n",
       "      <th>2</th>\n",
       "      <td>51eab365-a413-4fbd-a640-a7265885faeb</td>\n",
       "      <td>2019-09-23 17:34:20.279</td>\n",
       "      <td>b3736e65-b300-4f92-9d15-2b0b59cb5d9d</td>\n",
       "      <td>3eea9071-9ceb-468a-ad89-9e3890833e52</td>\n",
       "      <td>FILE</td>\n",
       "      <td>WRITE</td>\n",
       "      <td>SysClient0660.systemia.com</td>\n",
       "      <td>None</td>\n",
       "      <td>None</td>\n",
       "      <td>powershell.exe</td>\n",
       "      <td>...</td>\n",
       "      <td>\\Device\\HarddiskVolume1\\Windows\\TEMP\\__PSScrip...</td>\n",
       "      <td>None</td>\n",
       "      <td>None</td>\n",
       "      <td>None</td>\n",
       "      <td>None</td>\n",
       "      <td>34</td>\n",
       "      <td>23</td>\n",
       "      <td>17</td>\n",
       "      <td>1</td>\n",
       "      <td>3eea9071-9ceb-468a-ad89-9e3890833e52-&gt;b3736e65...</td>\n",
       "    </tr>\n",
       "  </tbody>\n",
       "</table>\n",
       "<p>3 rows × 22 columns</p>\n",
       "</div>"
      ],
      "text/plain": [
       "                                     id               timestamp  \\\n",
       "0  6ddbfe14-ec48-486a-affb-3e757a3de0be 2019-09-23 17:34:20.279   \n",
       "1  c87fc3a2-66f4-4156-8c0d-0cbf5c430c6e 2019-09-23 17:34:20.279   \n",
       "2  51eab365-a413-4fbd-a640-a7265885faeb 2019-09-23 17:34:20.279   \n",
       "\n",
       "                               objectID                               actorID  \\\n",
       "0  b3736e65-b300-4f92-9d15-2b0b59cb5d9d  3eea9071-9ceb-468a-ad89-9e3890833e52   \n",
       "1  b3736e65-b300-4f92-9d15-2b0b59cb5d9d  3eea9071-9ceb-468a-ad89-9e3890833e52   \n",
       "2  b3736e65-b300-4f92-9d15-2b0b59cb5d9d  3eea9071-9ceb-468a-ad89-9e3890833e52   \n",
       "\n",
       "  object  action                    hostname user_name privileges  \\\n",
       "0   FILE  CREATE  SysClient0660.systemia.com      None       None   \n",
       "1   FILE  CREATE  SysClient0660.systemia.com      None       None   \n",
       "2   FILE   WRITE  SysClient0660.systemia.com      None       None   \n",
       "\n",
       "       image_path  ...                                          file_path  \\\n",
       "0  powershell.exe  ...  \\Device\\HarddiskVolume1\\Windows\\TEMP\\__PSScrip...   \n",
       "1  powershell.exe  ...  \\Device\\HarddiskVolume1\\Windows\\TEMP\\__PSScrip...   \n",
       "2  powershell.exe  ...  \\Device\\HarddiskVolume1\\Windows\\TEMP\\__PSScrip...   \n",
       "\n",
       "  direction logon_id requesting_domain requesting_user event_minute event_day  \\\n",
       "0      None     None              None            None           34        23   \n",
       "1      None     None              None            None           34        23   \n",
       "2      None     None              None            None           34        23   \n",
       "\n",
       "   event_hour  malicious                                       relationship  \n",
       "0          17          1  3eea9071-9ceb-468a-ad89-9e3890833e52->b3736e65...  \n",
       "1          17          1  3eea9071-9ceb-468a-ad89-9e3890833e52->b3736e65...  \n",
       "2          17          1  3eea9071-9ceb-468a-ad89-9e3890833e52->b3736e65...  \n",
       "\n",
       "[3 rows x 22 columns]"
      ]
     },
     "execution_count": 59,
     "metadata": {},
     "output_type": "execute_result"
    }
   ],
   "source": [
    "result2 = df_mal.where(df_mal.objectID == 'b3736e65-b300-4f92-9d15-2b0b59cb5d9d')\n",
    "result2.toPandas()"
   ]
  },
  {
   "cell_type": "code",
   "execution_count": 60,
   "id": "b2f65415-2f45-4781-88e7-7559867d2dea",
   "metadata": {
    "tags": []
   },
   "outputs": [
    {
     "name": "stderr",
     "output_type": "stream",
     "text": [
      "/home/ec2-user/anaconda3/envs/python3/lib/python3.10/site-packages/pyspark/sql/pandas/conversion.py:248: FutureWarning: Passing unit-less datetime64 dtype to .astype is deprecated and will raise in a future version. Pass 'datetime64[ns]' instead\n",
      "  series = series.astype(t, copy=False)\n"
     ]
    },
    {
     "data": {
      "text/html": [
       "<div>\n",
       "<style scoped>\n",
       "    .dataframe tbody tr th:only-of-type {\n",
       "        vertical-align: middle;\n",
       "    }\n",
       "\n",
       "    .dataframe tbody tr th {\n",
       "        vertical-align: top;\n",
       "    }\n",
       "\n",
       "    .dataframe thead th {\n",
       "        text-align: right;\n",
       "    }\n",
       "</style>\n",
       "<table border=\"1\" class=\"dataframe\">\n",
       "  <thead>\n",
       "    <tr style=\"text-align: right;\">\n",
       "      <th></th>\n",
       "      <th>src</th>\n",
       "      <th>dst</th>\n",
       "      <th>timestamp</th>\n",
       "      <th>object</th>\n",
       "      <th>action</th>\n",
       "      <th>hostname</th>\n",
       "      <th>user_name</th>\n",
       "      <th>privileges</th>\n",
       "      <th>image_path</th>\n",
       "      <th>parent_image_path</th>\n",
       "      <th>new_path</th>\n",
       "      <th>file_path</th>\n",
       "      <th>direction</th>\n",
       "      <th>logon_id</th>\n",
       "      <th>requesting_domain</th>\n",
       "      <th>requesting_user</th>\n",
       "      <th>malicious</th>\n",
       "    </tr>\n",
       "  </thead>\n",
       "  <tbody>\n",
       "    <tr>\n",
       "      <th>0</th>\n",
       "      <td>3eea9071-9ceb-468a-ad89-9e3890833e52</td>\n",
       "      <td>4aec5900-4572-4d09-81e6-fbc227a7f58d</td>\n",
       "      <td>2019-09-23 17:34:17.240</td>\n",
       "      <td>PROCESS</td>\n",
       "      <td>CREATE</td>\n",
       "      <td>SysClient0660.systemia.com</td>\n",
       "      <td>None</td>\n",
       "      <td>None</td>\n",
       "      <td>powershell.exe</td>\n",
       "      <td>\\Device\\HarddiskVolume1\\Windows\\system32\\wbem\\...</td>\n",
       "      <td>None</td>\n",
       "      <td>None</td>\n",
       "      <td>None</td>\n",
       "      <td>None</td>\n",
       "      <td>None</td>\n",
       "      <td>None</td>\n",
       "      <td>1</td>\n",
       "    </tr>\n",
       "  </tbody>\n",
       "</table>\n",
       "</div>"
      ],
      "text/plain": [
       "                                    src                                   dst  \\\n",
       "0  3eea9071-9ceb-468a-ad89-9e3890833e52  4aec5900-4572-4d09-81e6-fbc227a7f58d   \n",
       "\n",
       "                timestamp   object  action                    hostname  \\\n",
       "0 2019-09-23 17:34:17.240  PROCESS  CREATE  SysClient0660.systemia.com   \n",
       "\n",
       "  user_name privileges      image_path  \\\n",
       "0      None       None  powershell.exe   \n",
       "\n",
       "                                   parent_image_path new_path file_path  \\\n",
       "0  \\Device\\HarddiskVolume1\\Windows\\system32\\wbem\\...     None      None   \n",
       "\n",
       "  direction logon_id requesting_domain requesting_user  malicious  \n",
       "0      None     None              None            None          1  "
      ]
     },
     "execution_count": 60,
     "metadata": {},
     "output_type": "execute_result"
    }
   ],
   "source": [
    "from pyspark.sql.functions import col\n",
    "\n",
    "result3 = l.edges.filter(col(\"src\") == \"3eea9071-9ceb-468a-ad89-9e3890833e52\")\n",
    "result3.toPandas()"
   ]
  },
  {
   "cell_type": "code",
   "execution_count": 61,
   "id": "86c0a957-557b-4888-a1c7-5f0b1e3524d8",
   "metadata": {
    "tags": []
   },
   "outputs": [
    {
     "name": "stderr",
     "output_type": "stream",
     "text": [
      "/home/ec2-user/anaconda3/envs/python3/lib/python3.10/site-packages/pyspark/sql/pandas/conversion.py:248: FutureWarning: Passing unit-less datetime64 dtype to .astype is deprecated and will raise in a future version. Pass 'datetime64[ns]' instead\n",
      "  series = series.astype(t, copy=False)\n"
     ]
    },
    {
     "data": {
      "text/html": [
       "<div>\n",
       "<style scoped>\n",
       "    .dataframe tbody tr th:only-of-type {\n",
       "        vertical-align: middle;\n",
       "    }\n",
       "\n",
       "    .dataframe tbody tr th {\n",
       "        vertical-align: top;\n",
       "    }\n",
       "\n",
       "    .dataframe thead th {\n",
       "        text-align: right;\n",
       "    }\n",
       "</style>\n",
       "<table border=\"1\" class=\"dataframe\">\n",
       "  <thead>\n",
       "    <tr style=\"text-align: right;\">\n",
       "      <th></th>\n",
       "      <th>src</th>\n",
       "      <th>dst</th>\n",
       "      <th>timestamp</th>\n",
       "      <th>object</th>\n",
       "      <th>action</th>\n",
       "      <th>hostname</th>\n",
       "      <th>user_name</th>\n",
       "      <th>privileges</th>\n",
       "      <th>image_path</th>\n",
       "      <th>parent_image_path</th>\n",
       "      <th>new_path</th>\n",
       "      <th>file_path</th>\n",
       "      <th>direction</th>\n",
       "      <th>logon_id</th>\n",
       "      <th>requesting_domain</th>\n",
       "      <th>requesting_user</th>\n",
       "      <th>malicious</th>\n",
       "    </tr>\n",
       "  </thead>\n",
       "  <tbody>\n",
       "    <tr>\n",
       "      <th>0</th>\n",
       "      <td>b3736e65-b300-4f92-9d15-2b0b59cb5d9d</td>\n",
       "      <td>3eea9071-9ceb-468a-ad89-9e3890833e52</td>\n",
       "      <td>2019-09-23 17:34:20.279</td>\n",
       "      <td>FILE</td>\n",
       "      <td>CREATE</td>\n",
       "      <td>SysClient0660.systemia.com</td>\n",
       "      <td>None</td>\n",
       "      <td>None</td>\n",
       "      <td>powershell.exe</td>\n",
       "      <td>None</td>\n",
       "      <td>None</td>\n",
       "      <td>\\Device\\HarddiskVolume1\\Windows\\TEMP\\__PSScrip...</td>\n",
       "      <td>None</td>\n",
       "      <td>None</td>\n",
       "      <td>None</td>\n",
       "      <td>None</td>\n",
       "      <td>1</td>\n",
       "    </tr>\n",
       "    <tr>\n",
       "      <th>1</th>\n",
       "      <td>b3736e65-b300-4f92-9d15-2b0b59cb5d9d</td>\n",
       "      <td>3eea9071-9ceb-468a-ad89-9e3890833e52</td>\n",
       "      <td>2019-09-23 17:34:20.279</td>\n",
       "      <td>FILE</td>\n",
       "      <td>CREATE</td>\n",
       "      <td>SysClient0660.systemia.com</td>\n",
       "      <td>None</td>\n",
       "      <td>None</td>\n",
       "      <td>powershell.exe</td>\n",
       "      <td>None</td>\n",
       "      <td>None</td>\n",
       "      <td>\\Device\\HarddiskVolume1\\Windows\\TEMP\\__PSScrip...</td>\n",
       "      <td>None</td>\n",
       "      <td>None</td>\n",
       "      <td>None</td>\n",
       "      <td>None</td>\n",
       "      <td>1</td>\n",
       "    </tr>\n",
       "  </tbody>\n",
       "</table>\n",
       "</div>"
      ],
      "text/plain": [
       "                                    src                                   dst  \\\n",
       "0  b3736e65-b300-4f92-9d15-2b0b59cb5d9d  3eea9071-9ceb-468a-ad89-9e3890833e52   \n",
       "1  b3736e65-b300-4f92-9d15-2b0b59cb5d9d  3eea9071-9ceb-468a-ad89-9e3890833e52   \n",
       "\n",
       "                timestamp object  action                    hostname  \\\n",
       "0 2019-09-23 17:34:20.279   FILE  CREATE  SysClient0660.systemia.com   \n",
       "1 2019-09-23 17:34:20.279   FILE  CREATE  SysClient0660.systemia.com   \n",
       "\n",
       "  user_name privileges      image_path parent_image_path new_path  \\\n",
       "0      None       None  powershell.exe              None     None   \n",
       "1      None       None  powershell.exe              None     None   \n",
       "\n",
       "                                           file_path direction logon_id  \\\n",
       "0  \\Device\\HarddiskVolume1\\Windows\\TEMP\\__PSScrip...      None     None   \n",
       "1  \\Device\\HarddiskVolume1\\Windows\\TEMP\\__PSScrip...      None     None   \n",
       "\n",
       "  requesting_domain requesting_user  malicious  \n",
       "0              None            None          1  \n",
       "1              None            None          1  "
      ]
     },
     "execution_count": 61,
     "metadata": {},
     "output_type": "execute_result"
    }
   ],
   "source": [
    "from pyspark.sql.functions import col\n",
    "\n",
    "result4 = l.edges.filter(col(\"src\").isin(\"b3736e65-b300-4f92-9d15-2b0b59cb5d9d\", \"3eea9071-9ceb-468a-ad89-9e3890833e52\",\"4aec5900-4572-4d09-81e6-fbc227a7f58d\", \"<other-src>\"))\n",
    "result4.limit(2).toPandas()"
   ]
  },
  {
   "cell_type": "code",
   "execution_count": 62,
   "id": "c42ab19f-596a-4d43-b805-4d4fadd835f5",
   "metadata": {
    "tags": []
   },
   "outputs": [
    {
     "name": "stderr",
     "output_type": "stream",
     "text": [
      "/home/ec2-user/anaconda3/envs/python3/lib/python3.10/site-packages/pyspark/sql/dataframe.py:148: UserWarning: DataFrame.sql_ctx is an internal property, and will be removed in future releases. Use DataFrame.sparkSession instead.\n",
      "  warnings.warn(\n",
      "/home/ec2-user/anaconda3/envs/python3/lib/python3.10/site-packages/pyspark/sql/dataframe.py:127: UserWarning: DataFrame constructor is internal. Do not directly use it.\n",
      "  warnings.warn(\"DataFrame constructor is internal. Do not directly use it.\")\n"
     ]
    }
   ],
   "source": [
    "from graphframes import GraphFrame\n",
    "\n",
    "# Create vertices from distinct src and dst values\n",
    "vertices = result4.selectExpr(\"src as id\").distinct().union(result4.selectExpr(\"dst as id\").distinct()).distinct()\n",
    "\n",
    "# Create edges from the result4 DataFrame\n",
    "edges = result4.selectExpr(\"src\", \"dst\", \"timestamp\", \"object\", \"action\", \"hostname\", \"user_name\", \"privileges\", \"image_path\",\n",
    "                           \"parent_image_path\", \"new_path\", \"file_path\", \"direction\", \"logon_id\", \"requesting_domain\",\n",
    "                           \"requesting_user\", \"malicious\")\n",
    "\n",
    "# Create GraphFrame\n",
    "g = GraphFrame(vertices, edges)\n",
    "\n",
    "\n",
    "\n",
    "# find all paths of length 6 in the graph\n",
    "# Handling null values in shorter length \n",
    "motifs2 = g.find(\"(a)-[e1]->(b); (b)-[e2]->(c)\")\n",
    "#motifs6 = g.find(\"(a)-[e1]->(b); (b)-[e2]->(c); (c)-[e3]->(d)\")\n",
    "motifs6 = g.find(\"(a)-[e1]->(b); (b)-[e2]->(c); (c)-[e3]->(d); (d)-[e4]->(e); (e)-[e5]->(f); (f)-[e6]->(g)\")"
   ]
  },
  {
   "cell_type": "code",
   "execution_count": 63,
   "id": "43b1bebb-e2bb-4b9c-8451-a57284ddcd7e",
   "metadata": {
    "tags": []
   },
   "outputs": [
    {
     "name": "stderr",
     "output_type": "stream",
     "text": [
      "                                                                                \r"
     ]
    },
    {
     "data": {
      "text/plain": [
       "5"
      ]
     },
     "execution_count": 63,
     "metadata": {},
     "output_type": "execute_result"
    }
   ],
   "source": [
    "motifs2.count()"
   ]
  },
  {
   "cell_type": "code",
   "execution_count": 64,
   "id": "66147f2a-80e2-49c6-855d-2ab704d6a580",
   "metadata": {
    "tags": []
   },
   "outputs": [
    {
     "name": "stderr",
     "output_type": "stream",
     "text": [
      "                                                                                \r"
     ]
    },
    {
     "data": {
      "text/plain": [
       "5"
      ]
     },
     "execution_count": 64,
     "metadata": {},
     "output_type": "execute_result"
    }
   ],
   "source": [
    "motifs6.count()"
   ]
  },
  {
   "cell_type": "code",
   "execution_count": 65,
   "id": "eddec8a9-c252-470e-8083-9f691bc7533e",
   "metadata": {
    "tags": []
   },
   "outputs": [
    {
     "data": {
      "text/html": [
       "<div>\n",
       "<style scoped>\n",
       "    .dataframe tbody tr th:only-of-type {\n",
       "        vertical-align: middle;\n",
       "    }\n",
       "\n",
       "    .dataframe tbody tr th {\n",
       "        vertical-align: top;\n",
       "    }\n",
       "\n",
       "    .dataframe thead th {\n",
       "        text-align: right;\n",
       "    }\n",
       "</style>\n",
       "<table border=\"1\" class=\"dataframe\">\n",
       "  <thead>\n",
       "    <tr style=\"text-align: right;\">\n",
       "      <th></th>\n",
       "      <th>id</th>\n",
       "    </tr>\n",
       "  </thead>\n",
       "  <tbody>\n",
       "    <tr>\n",
       "      <th>0</th>\n",
       "      <td>b3736e65-b300-4f92-9d15-2b0b59cb5d9d</td>\n",
       "    </tr>\n",
       "    <tr>\n",
       "      <th>1</th>\n",
       "      <td>3eea9071-9ceb-468a-ad89-9e3890833e52</td>\n",
       "    </tr>\n",
       "    <tr>\n",
       "      <th>2</th>\n",
       "      <td>4aec5900-4572-4d09-81e6-fbc227a7f58d</td>\n",
       "    </tr>\n",
       "  </tbody>\n",
       "</table>\n",
       "</div>"
      ],
      "text/plain": [
       "                                     id\n",
       "0  b3736e65-b300-4f92-9d15-2b0b59cb5d9d\n",
       "1  3eea9071-9ceb-468a-ad89-9e3890833e52\n",
       "2  4aec5900-4572-4d09-81e6-fbc227a7f58d"
      ]
     },
     "execution_count": 65,
     "metadata": {},
     "output_type": "execute_result"
    }
   ],
   "source": [
    "g.vertices.limit(6).toPandas()"
   ]
  },
  {
   "cell_type": "code",
   "execution_count": 66,
   "id": "38810234-8f57-4f1c-8696-5e7f06c059df",
   "metadata": {
    "tags": []
   },
   "outputs": [
    {
     "name": "stderr",
     "output_type": "stream",
     "text": [
      "/home/ec2-user/anaconda3/envs/python3/lib/python3.10/site-packages/pyspark/sql/pandas/conversion.py:248: FutureWarning: Passing unit-less datetime64 dtype to .astype is deprecated and will raise in a future version. Pass 'datetime64[ns]' instead\n",
      "  series = series.astype(t, copy=False)\n"
     ]
    },
    {
     "data": {
      "text/html": [
       "<div>\n",
       "<style scoped>\n",
       "    .dataframe tbody tr th:only-of-type {\n",
       "        vertical-align: middle;\n",
       "    }\n",
       "\n",
       "    .dataframe tbody tr th {\n",
       "        vertical-align: top;\n",
       "    }\n",
       "\n",
       "    .dataframe thead th {\n",
       "        text-align: right;\n",
       "    }\n",
       "</style>\n",
       "<table border=\"1\" class=\"dataframe\">\n",
       "  <thead>\n",
       "    <tr style=\"text-align: right;\">\n",
       "      <th></th>\n",
       "      <th>src</th>\n",
       "      <th>dst</th>\n",
       "      <th>timestamp</th>\n",
       "      <th>object</th>\n",
       "      <th>action</th>\n",
       "      <th>hostname</th>\n",
       "      <th>user_name</th>\n",
       "      <th>privileges</th>\n",
       "      <th>image_path</th>\n",
       "      <th>parent_image_path</th>\n",
       "      <th>new_path</th>\n",
       "      <th>file_path</th>\n",
       "      <th>direction</th>\n",
       "      <th>logon_id</th>\n",
       "      <th>requesting_domain</th>\n",
       "      <th>requesting_user</th>\n",
       "      <th>malicious</th>\n",
       "    </tr>\n",
       "  </thead>\n",
       "  <tbody>\n",
       "    <tr>\n",
       "      <th>0</th>\n",
       "      <td>b3736e65-b300-4f92-9d15-2b0b59cb5d9d</td>\n",
       "      <td>3eea9071-9ceb-468a-ad89-9e3890833e52</td>\n",
       "      <td>2019-09-23 17:34:20.279</td>\n",
       "      <td>FILE</td>\n",
       "      <td>CREATE</td>\n",
       "      <td>SysClient0660.systemia.com</td>\n",
       "      <td>None</td>\n",
       "      <td>None</td>\n",
       "      <td>powershell.exe</td>\n",
       "      <td>None</td>\n",
       "      <td>None</td>\n",
       "      <td>\\Device\\HarddiskVolume1\\Windows\\TEMP\\__PSScrip...</td>\n",
       "      <td>None</td>\n",
       "      <td>None</td>\n",
       "      <td>None</td>\n",
       "      <td>None</td>\n",
       "      <td>1</td>\n",
       "    </tr>\n",
       "    <tr>\n",
       "      <th>1</th>\n",
       "      <td>b3736e65-b300-4f92-9d15-2b0b59cb5d9d</td>\n",
       "      <td>3eea9071-9ceb-468a-ad89-9e3890833e52</td>\n",
       "      <td>2019-09-23 17:34:20.279</td>\n",
       "      <td>FILE</td>\n",
       "      <td>CREATE</td>\n",
       "      <td>SysClient0660.systemia.com</td>\n",
       "      <td>None</td>\n",
       "      <td>None</td>\n",
       "      <td>powershell.exe</td>\n",
       "      <td>None</td>\n",
       "      <td>None</td>\n",
       "      <td>\\Device\\HarddiskVolume1\\Windows\\TEMP\\__PSScrip...</td>\n",
       "      <td>None</td>\n",
       "      <td>None</td>\n",
       "      <td>None</td>\n",
       "      <td>None</td>\n",
       "      <td>1</td>\n",
       "    </tr>\n",
       "  </tbody>\n",
       "</table>\n",
       "</div>"
      ],
      "text/plain": [
       "                                    src                                   dst  \\\n",
       "0  b3736e65-b300-4f92-9d15-2b0b59cb5d9d  3eea9071-9ceb-468a-ad89-9e3890833e52   \n",
       "1  b3736e65-b300-4f92-9d15-2b0b59cb5d9d  3eea9071-9ceb-468a-ad89-9e3890833e52   \n",
       "\n",
       "                timestamp object  action                    hostname  \\\n",
       "0 2019-09-23 17:34:20.279   FILE  CREATE  SysClient0660.systemia.com   \n",
       "1 2019-09-23 17:34:20.279   FILE  CREATE  SysClient0660.systemia.com   \n",
       "\n",
       "  user_name privileges      image_path parent_image_path new_path  \\\n",
       "0      None       None  powershell.exe              None     None   \n",
       "1      None       None  powershell.exe              None     None   \n",
       "\n",
       "                                           file_path direction logon_id  \\\n",
       "0  \\Device\\HarddiskVolume1\\Windows\\TEMP\\__PSScrip...      None     None   \n",
       "1  \\Device\\HarddiskVolume1\\Windows\\TEMP\\__PSScrip...      None     None   \n",
       "\n",
       "  requesting_domain requesting_user  malicious  \n",
       "0              None            None          1  \n",
       "1              None            None          1  "
      ]
     },
     "execution_count": 66,
     "metadata": {},
     "output_type": "execute_result"
    }
   ],
   "source": [
    "g.edges.limit(2).toPandas()"
   ]
  },
  {
   "cell_type": "code",
   "execution_count": 67,
   "id": "84667d37-5168-4126-b305-13c5da7e3800",
   "metadata": {
    "tags": []
   },
   "outputs": [
    {
     "name": "stderr",
     "output_type": "stream",
     "text": [
      "                                                                                \r"
     ]
    },
    {
     "data": {
      "text/html": [
       "<div>\n",
       "<style scoped>\n",
       "    .dataframe tbody tr th:only-of-type {\n",
       "        vertical-align: middle;\n",
       "    }\n",
       "\n",
       "    .dataframe tbody tr th {\n",
       "        vertical-align: top;\n",
       "    }\n",
       "\n",
       "    .dataframe thead th {\n",
       "        text-align: right;\n",
       "    }\n",
       "</style>\n",
       "<table border=\"1\" class=\"dataframe\">\n",
       "  <thead>\n",
       "    <tr style=\"text-align: right;\">\n",
       "      <th></th>\n",
       "      <th>a</th>\n",
       "      <th>e1</th>\n",
       "      <th>b</th>\n",
       "      <th>e2</th>\n",
       "      <th>c</th>\n",
       "    </tr>\n",
       "  </thead>\n",
       "  <tbody>\n",
       "    <tr>\n",
       "      <th>0</th>\n",
       "      <td>(b3736e65-b300-4f92-9d15-2b0b59cb5d9d,)</td>\n",
       "      <td>(b3736e65-b300-4f92-9d15-2b0b59cb5d9d, 3eea907...</td>\n",
       "      <td>(3eea9071-9ceb-468a-ad89-9e3890833e52,)</td>\n",
       "      <td>(3eea9071-9ceb-468a-ad89-9e3890833e52, 4aec590...</td>\n",
       "      <td>(4aec5900-4572-4d09-81e6-fbc227a7f58d,)</td>\n",
       "    </tr>\n",
       "    <tr>\n",
       "      <th>1</th>\n",
       "      <td>(b3736e65-b300-4f92-9d15-2b0b59cb5d9d,)</td>\n",
       "      <td>(b3736e65-b300-4f92-9d15-2b0b59cb5d9d, 3eea907...</td>\n",
       "      <td>(3eea9071-9ceb-468a-ad89-9e3890833e52,)</td>\n",
       "      <td>(3eea9071-9ceb-468a-ad89-9e3890833e52, 4aec590...</td>\n",
       "      <td>(4aec5900-4572-4d09-81e6-fbc227a7f58d,)</td>\n",
       "    </tr>\n",
       "  </tbody>\n",
       "</table>\n",
       "</div>"
      ],
      "text/plain": [
       "                                         a  \\\n",
       "0  (b3736e65-b300-4f92-9d15-2b0b59cb5d9d,)   \n",
       "1  (b3736e65-b300-4f92-9d15-2b0b59cb5d9d,)   \n",
       "\n",
       "                                                  e1  \\\n",
       "0  (b3736e65-b300-4f92-9d15-2b0b59cb5d9d, 3eea907...   \n",
       "1  (b3736e65-b300-4f92-9d15-2b0b59cb5d9d, 3eea907...   \n",
       "\n",
       "                                         b  \\\n",
       "0  (3eea9071-9ceb-468a-ad89-9e3890833e52,)   \n",
       "1  (3eea9071-9ceb-468a-ad89-9e3890833e52,)   \n",
       "\n",
       "                                                  e2  \\\n",
       "0  (3eea9071-9ceb-468a-ad89-9e3890833e52, 4aec590...   \n",
       "1  (3eea9071-9ceb-468a-ad89-9e3890833e52, 4aec590...   \n",
       "\n",
       "                                         c  \n",
       "0  (4aec5900-4572-4d09-81e6-fbc227a7f58d,)  \n",
       "1  (4aec5900-4572-4d09-81e6-fbc227a7f58d,)  "
      ]
     },
     "execution_count": 67,
     "metadata": {},
     "output_type": "execute_result"
    }
   ],
   "source": [
    "motifs2.limit(2).toPandas()"
   ]
  },
  {
   "cell_type": "code",
   "execution_count": 68,
   "id": "60c6e691-fd0f-4285-9d88-aa813d414adb",
   "metadata": {
    "tags": []
   },
   "outputs": [
    {
     "data": {
      "image/png": "[encoded data removed]",
      "text/plain": [
       "<Figure size 1800x1200 with 1 Axes>"
      ]
     },
     "metadata": {},
     "output_type": "display_data"
    }
   ],
   "source": [
    "import networkx as nx\n",
    "import matplotlib.pyplot as plt\n",
    "\n",
    "# Convert GraphFrame to NetworkX graph manually\n",
    "edges = [(r['src'], r['dst']) for r in g.edges.select('src', 'dst').collect()]\n",
    "nxg = nx.DiGraph(edges)\n",
    "\n",
    "# Add vertex labels\n",
    "labels = {r['id']: r['id'] for r in g.vertices.collect()}\n",
    "\n",
    "# Draw the graph using NetworkX\n",
    "fig, ax = plt.subplots(figsize=(12, 8))\n",
    "pos = nx.spring_layout(nxg, k=0.3, iterations=100)\n",
    "nx.draw(nxg, pos, labels=labels, node_color='lightblue', node_size=1000, font_size=14, width=0.5)\n",
    "\n",
    "# Adjust the figure size and font size\n",
    "fig.set_size_inches(18, 12)\n",
    "plt.rcParams.update({'font.size': 18})\n",
    "\n",
    "# Show the graph using Matplotlib\n",
    "plt.show()"
   ]
  },
  {
   "cell_type": "code",
   "execution_count": null,
   "id": "c141deed-ef87-4477-a9f8-4eb4a7ad0be8",
   "metadata": {
    "tags": []
   },
   "outputs": [],
   "source": [
    "motifs6.limit(2).toPandas()"
   ]
  },
  {
   "cell_type": "code",
   "execution_count": null,
   "id": "8c563334-2d65-4d93-be10-d71eee9a1416",
   "metadata": {
    "tags": []
   },
   "outputs": [],
   "source": [
    "from graphframes import *\n",
    "\n",
    "# Define the vertices\n",
    "vertices = spark.createDataFrame([\n",
    "    (\"A\",),\n",
    "    (\"B\",),\n",
    "    (\"C\",)\n",
    "], [\"id\"])\n",
    "\n",
    "# Define the edges\n",
    "edges = spark.createDataFrame([\n",
    "    (\"A\", \"B\"),\n",
    "    (\"B\", \"B\"),\n",
    "    (\"B\", \"C\"),\n",
    "    (\"C\", \"B\")\n",
    "], [\"src\", \"dst\"])\n",
    "\n",
    "# Create the GraphFrame\n",
    "m = GraphFrame(vertices, edges)"
   ]
  },
  {
   "cell_type": "code",
   "execution_count": null,
   "id": "075e906a-fbe4-4541-b87e-78917abbc202",
   "metadata": {
    "tags": []
   },
   "outputs": [],
   "source": [
    "from graphframes import *\n",
    "import networkx as nx\n",
    "\n",
    "# Define the vertices\n",
    "vertices = spark.createDataFrame([\n",
    "    (\"A\",),\n",
    "    (\"B\",),\n",
    "    (\"C\",)\n",
    "], [\"id\"])\n",
    "\n",
    "# Define the edges\n",
    "edges = spark.createDataFrame([\n",
    "    (\"A\", \"B\"),\n",
    "    (\"B\", \"B\"),\n",
    "    (\"B\", \"C\"),\n",
    "    (\"C\", \"B\")\n",
    "], [\"src\", \"dst\"])\n",
    "\n",
    "# Create the GraphFrame\n",
    "m = GraphFrame(vertices, edges)\n",
    "\n",
    "# Convert vertices and edges data frames to NetworkX graph object\n",
    "v = vertices.toPandas()\n",
    "e = edges.toPandas()\n",
    "nxg = nx.DiGraph()\n",
    "nxg.add_nodes_from(v[\"id\"])\n",
    "nxg.add_edges_from(zip(e[\"src\"], e[\"dst\"]))\n",
    "\n",
    "# Draw the graph using NetworkX\n",
    "pos = nx.spring_layout(nxg)\n",
    "nx.draw_networkx(nxg, pos)"
   ]
  },
  {
   "cell_type": "code",
   "execution_count": null,
   "id": "d94a8e16-917d-483d-9bfc-f4e981f3831e",
   "metadata": {
    "tags": []
   },
   "outputs": [],
   "source": [
    "# find all paths of length 6 in the graph\n",
    "# Handling null values in shorter length \n",
    "motifs2 = m.find(\"(a)-[e1]->(b); (b)-[e2]->(c)\")\n",
    "#motifs6 = g.find(\"(a)-[e1]->(b); (b)-[e2]->(c); (c)-[e3]->(d)\")\n",
    "motifs6 = m.find(\"(a)-[e1]->(b); (b)-[e2]->(c); (c)-[e3]->(d); (d)-[e4]->(e); (e)-[e5]->(f); (f)-[e6]->(g)\")"
   ]
  },
  {
   "cell_type": "code",
   "execution_count": null,
   "id": "50096577-33fc-4e06-b65b-3b3bec159fe2",
   "metadata": {
    "tags": []
   },
   "outputs": [],
   "source": [
    "motifs2.toPandas()"
   ]
  },
  {
   "cell_type": "code",
   "execution_count": null,
   "id": "61ae9fc6-9550-4217-a55f-d4234a71e366",
   "metadata": {
    "tags": []
   },
   "outputs": [],
   "source": [
    "motifs6.toPandas()"
   ]
  },
  {
   "cell_type": "code",
   "execution_count": null,
   "id": "ce165835-1eb6-445f-870f-4fc8d92ac78e",
   "metadata": {},
   "outputs": [],
   "source": []
  },
  {
   "cell_type": "code",
   "execution_count": null,
   "id": "b1ac5c36-d60e-43cb-8510-e22e1d68d527",
   "metadata": {},
   "outputs": [],
   "source": []
  },
  {
   "cell_type": "code",
   "execution_count": null,
   "id": "1e3adb2a-6535-4d86-b201-29c4e0e2111a",
   "metadata": {
    "tags": []
   },
   "outputs": [],
   "source": [
    "# filter paths to only those where all edges are connected\n",
    "connected_paths_2 = motifs2.filter(\"e1.dst = e2.src\")# and e2.dst = e3.src and e3.dst = e4.src and e4.dst = e5.src and e5.dst = e6.src\")\n",
    "\n",
    "connected_paths_2.count()"
   ]
  },
  {
   "cell_type": "code",
   "execution_count": null,
   "id": "9aa00d2b-2f75-4997-b738-5f496d1527c0",
   "metadata": {
    "tags": []
   },
   "outputs": [],
   "source": [
    "# filter paths to only those where all edges are connected\n",
    "connected_paths = motifs6.filter(\"e1.dst = e2.src and e2.dst = e3.src and e3.dst = e4.src and e4.dst = e5.src and e5.dst = e6.src\")\n",
    "connected_paths.count()\n",
    "#interesting that motif of 6 returns so many more\n",
    "#for everyone's awareness, this took a long long time with 500000 benign events, so long that I had to shut it down\n"
   ]
  },
  {
   "cell_type": "code",
   "execution_count": null,
   "id": "4297ae5c-802a-4084-be1c-43c643a04114",
   "metadata": {},
   "outputs": [],
   "source": []
  },
  {
   "cell_type": "code",
   "execution_count": null,
   "id": "c1330b55-8ca0-42d1-abc9-8e98182c5bc5",
   "metadata": {
    "tags": []
   },
   "outputs": [],
   "source": [
    "# get the 6 edges in each path and convert to a pandas dataframe\n",
    "connected_paths.select(\"e1\").limit(1).collect()"
   ]
  },
  {
   "cell_type": "code",
   "execution_count": null,
   "id": "a74c3dd0-0e37-47d2-a603-bf0469abdfdb",
   "metadata": {
    "tags": []
   },
   "outputs": [],
   "source": [
    "type(connected_paths)"
   ]
  },
  {
   "cell_type": "markdown",
   "id": "936c4dfe-79c1-43ce-9058-4f380b5b397f",
   "metadata": {
    "tags": []
   },
   "source": [
    "## DO NOT OVERWRITE /TEST_BIG. Please change the file path before saving again. "
   ]
  },
  {
   "cell_type": "code",
   "execution_count": null,
   "id": "140b9481-5dec-479a-b362-1992f8c8db67",
   "metadata": {
    "tags": []
   },
   "outputs": [],
   "source": [
    "connected_paths.write.option(\"maxRecordsPerFile\", 300000).mode(\"overwrite\").parquet(f\"{s3_url_trusted}/prod/graph/test_big\")"
   ]
  },
  {
   "cell_type": "code",
   "execution_count": null,
   "id": "2e04b021-682e-4444-9f9c-fc910fd48550",
   "metadata": {
    "tags": []
   },
   "outputs": [],
   "source": [
    "connected_paths = spark.read.parquet(f\"{s3_url_trusted}/prod/graph/test\").cache()"
   ]
  },
  {
   "cell_type": "code",
   "execution_count": null,
   "id": "b22697e6-5408-4c34-aab0-879f8e6d8131",
   "metadata": {
    "tags": []
   },
   "outputs": [],
   "source": [
    "connected_paths.limit(5).toPandas()"
   ]
  },
  {
   "cell_type": "code",
   "execution_count": null,
   "id": "0ffa4c9d-6925-4124-be37-f4121bbacd7d",
   "metadata": {
    "tags": []
   },
   "outputs": [],
   "source": [
    "#transpose values first by creating a trace column\n",
    "# Add a new column \"new_col\" with ascending values starting at 1 before all other columns\n",
    "df_transp = connected_paths.withColumn(\"Trace\", (monotonically_increasing_id() + 1))\n",
    "df_transp = df_transp.select(\"Trace\", \n",
    "                             *[col for col in df_transp.columns if col != \"Trace\"])\n"
   ]
  },
  {
   "cell_type": "code",
   "execution_count": null,
   "id": "9dcae884-ea9d-40dd-aa0d-7d67d29c7c45",
   "metadata": {
    "tags": []
   },
   "outputs": [],
   "source": [
    "df_transp.limit(1).toPandas()"
   ]
  },
  {
   "cell_type": "code",
   "execution_count": null,
   "id": "30ed3b3f-3d86-4ade-bb32-c91ffa1dd4df",
   "metadata": {
    "tags": []
   },
   "outputs": [],
   "source": [
    "#drop all vertices\n",
    "df_transp = df_transp.drop('a','b','c','d','e','f','g')"
   ]
  },
  {
   "cell_type": "code",
   "execution_count": null,
   "id": "de4df892-e988-4bbf-82cf-b9aca719cc92",
   "metadata": {
    "tags": []
   },
   "outputs": [],
   "source": [
    "df_transp.printSchema()"
   ]
  },
  {
   "cell_type": "code",
   "execution_count": null,
   "id": "f6e50e89-b45c-463e-ba11-a5a00b90c3ec",
   "metadata": {
    "tags": []
   },
   "outputs": [],
   "source": [
    "#transpose rows \n",
    "stacked_df = df_transp.selectExpr(\n",
    "    \"Trace\", \n",
    "    \"posexplode(array(e1, e2, e3, e4, e5, e6)) as (pos, col)\"\n",
    ").select(\n",
    "    \"Trace\", \n",
    "    expr('''CASE pos \n",
    "    WHEN 0 THEN 'e1' \n",
    "    WHEN 1 THEN 'e2'\n",
    "    WHEN 2 THEN 'e3'\n",
    "    WHEN 3 THEN 'e4'\n",
    "    WHEN 4 THEN 'e5'\n",
    "    ELSE 'e6' END''').alias(\"event\"),\n",
    "    \"col\"\n",
    ").orderBy(\"Trace\",\"event\")\n",
    "\n",
    "stacked_df.limit(7).toPandas()"
   ]
  },
  {
   "cell_type": "code",
   "execution_count": null,
   "id": "4de7ca59-d090-4feb-addb-01e2f62ccccf",
   "metadata": {
    "tags": []
   },
   "outputs": [],
   "source": [
    "#explode columns\n",
    "stacked_df.printSchema()"
   ]
  },
  {
   "cell_type": "code",
   "execution_count": null,
   "id": "1154667e-75dc-466a-8094-4dac946de6f2",
   "metadata": {
    "tags": []
   },
   "outputs": [],
   "source": [
    "#explode columns\n",
    "stacked_df = stacked_df.select(*stacked_df.columns, \"col.*\").drop('col')"
   ]
  },
  {
   "cell_type": "code",
   "execution_count": null,
   "id": "9da2343d-25eb-4dfa-b1c7-3492cf11df81",
   "metadata": {
    "tags": []
   },
   "outputs": [],
   "source": [
    "stacked_df.printSchema()"
   ]
  },
  {
   "cell_type": "code",
   "execution_count": null,
   "id": "258683ae-1171-4fa7-8dcf-c3b39f96bc98",
   "metadata": {
    "tags": []
   },
   "outputs": [],
   "source": [
    "stacked_df.limit(10).toPandas()\n",
    "#TODO: we have a problem with graphframes, need to remove all traces that loop to themselves. "
   ]
  },
  {
   "cell_type": "code",
   "execution_count": null,
   "id": "c64763eb-608d-4071-a81a-4176505d02b4",
   "metadata": {
    "tags": []
   },
   "outputs": [],
   "source": [
    "#lets do some onehot encoding. let's start with object. \n",
    "\n",
    "#create sparse vecotrs for child objects\n",
    "from pyspark.ml.feature import OneHotEncoder\n",
    "from pyspark.ml import Pipeline\n",
    "from pyspark.ml.feature import StringIndexer\n",
    "#turn into numeric index before encoding\n",
    "indexer = StringIndexer(inputCol='new_path', outputCol='np_numeric')\n",
    "indexer_fitted = indexer.fit(stacked_df)\n",
    "df_indexed = indexer_fitted.transform(stacked_df)\n",
    "\n",
    "if len(indexer_fitted.labels) > 0:\n",
    "\n",
    "    encoder = OneHotEncoder(inputCols=['np_numeric'], outputCols=['np_sparse'],dropLast=False)\n",
    "    df_onehot_np = encoder.fit(df_indexed).transform(df_indexed)\n",
    "    df_onehot_np = df_onehot_np.drop('np_numeric')\n",
    "    print(indexer_fitted.labels)\n",
    "    df_onehot_np.limit(1).show()\n",
    "else:\n",
    "    print('only none')\n",
    "\n"
   ]
  },
  {
   "cell_type": "code",
   "execution_count": null,
   "id": "1b07defa-5132-4219-ba8e-df52cb387b9b",
   "metadata": {
    "tags": []
   },
   "outputs": [],
   "source": [
    "def oneHotCol(df, colm, dict_mapping):\n",
    "    \n",
    "    #now action\n",
    "    #turn into numeric index before encoding\n",
    "    \n",
    "    num = colm+'_numeric'\n",
    "    sparse = colm+'_sparse'\n",
    "    indexer = StringIndexer(inputCol=colm, outputCol=num, handleInvalid=\"keep\")\n",
    "    indexer_fitted = indexer.fit(df)\n",
    "    df_indexed = indexer_fitted.transform(df)\n",
    "\n",
    "    encoder = OneHotEncoder(inputCols=[num], outputCols=[sparse],dropLast=False)\n",
    "    df_onehot = encoder.fit(df_indexed).transform(df_indexed)\n",
    "    df_onehot = df_onehot.drop(colm, num)\n",
    "\n",
    "    #set dict to mapping\n",
    "    dict_mapping[colm] = indexer_fitted.labels\n",
    "        \n",
    "    return df_onehot, dict_mapping\n",
    "    "
   ]
  },
  {
   "cell_type": "code",
   "execution_count": null,
   "id": "1d1d2b94-daf8-47c3-a61b-1a756be51b0e",
   "metadata": {
    "tags": []
   },
   "outputs": [],
   "source": [
    "#use function to create object ohe\n",
    "dict_mapping = {}\n",
    "df_onehot, dict_mapping = oneHotCol(stacked_df,'object', dict_mapping)\n",
    "print(dict_mapping['object'])\n",
    "df_onehot.limit(1).toPandas()"
   ]
  },
  {
   "cell_type": "code",
   "execution_count": null,
   "id": "7bf4d96b-ae8f-4353-93ca-a9100c897bfb",
   "metadata": {
    "tags": []
   },
   "outputs": [],
   "source": [
    "#now do it for all other columns\n",
    "list_cols = ['object','action','user_name', 'privileges',\n",
    "             'image_path','parent_image_path','new_path',\n",
    "             'direction','logon_id','requesting_domain',\n",
    "             'requesting_user','file_path']\n",
    "df_onehot = stacked_df\n",
    "for colm in list_cols:\n",
    "    df_onehot, dict_mapping = oneHotCol(df_onehot,colm, dict_mapping)\n",
    "    #print(dict_mapping[colm])\n",
    "    print(colm)\n",
    "\n",
    "print(dict_mapping.keys())\n",
    "df_onehot.limit(1).toPandas()\n",
    "    "
   ]
  },
  {
   "cell_type": "code",
   "execution_count": null,
   "id": "a3d98dc8-2ce9-4ee4-bc7e-e8c97257e48b",
   "metadata": {
    "tags": []
   },
   "outputs": [],
   "source": [
    "dict_mapping['file_path']"
   ]
  },
  {
   "cell_type": "code",
   "execution_count": null,
   "id": "f4777825-a2fa-43db-8d03-8f7a74292311",
   "metadata": {
    "tags": []
   },
   "outputs": [],
   "source": [
    "#use new function to transpose and explode trace and then one hot all the columns you want. Return encoded df \n",
    "#and dropped columns. \n",
    "%run trace_encode.ipynb"
   ]
  },
  {
   "cell_type": "code",
   "execution_count": null,
   "id": "6ded6d3f-e66e-4fa9-bc58-7cb298f16e9f",
   "metadata": {
    "tags": []
   },
   "outputs": [],
   "source": [
    "list_cols = ['object','action','user_name', 'privileges',\n",
    "             'image_path','parent_image_path','new_path',\n",
    "             'direction','logon_id','requesting_domain',\n",
    "             'requesting_user']\n",
    "df_test, dict_test = trace_encode(connected_paths,list_cols)"
   ]
  },
  {
   "cell_type": "code",
   "execution_count": null,
   "id": "55ead8ed-42d2-4d1b-888e-c6947ead5e59",
   "metadata": {
    "tags": []
   },
   "outputs": [],
   "source": [
    "print(dict_test.keys())\n",
    "df_test.limit(1).toPandas()"
   ]
  },
  {
   "cell_type": "code",
   "execution_count": null,
   "id": "0957137d-43d8-44ec-a9b2-8764771fe8f4",
   "metadata": {
    "tags": []
   },
   "outputs": [],
   "source": [
    "dict_test['image_path']"
   ]
  },
  {
   "cell_type": "code",
   "execution_count": null,
   "id": "7c76aa64-e357-4d69-8e38-cdaa6eb0fdfb",
   "metadata": {},
   "outputs": [],
   "source": [
    "#so this is pretty fast for malicious connected, what about benign\n"
   ]
  },
  {
   "cell_type": "raw",
   "id": "3f0fbde2-3630-47d4-a987-b688e6e4c41c",
   "metadata": {
    "tags": []
   },
   "source": [
    "#combined code for transposing and exploding:\n",
    "\n",
    "#add \"trace index\" to keep track of traces. important for transposing back\n",
    "df_transp = connected_paths.withColumn(\"Trace\", (monotonically_increasing_id() + 1))\n",
    "df_transp = df_transp.select(\"Trace\", \n",
    "                             *[col for col in df_transp.columns if col != \"Trace\"])\n",
    "                             \n",
    "#drop all vertices\n",
    "df_transp = df_transp.drop('a','b','c','d','e','f','g')\n",
    "\n",
    "#transpose rows \n",
    "stacked_df = df_transp.selectExpr(\n",
    "    \"Trace\", \n",
    "    \"posexplode(array(e1, e2, e3, e4, e5, e6)) as (pos, col)\"\n",
    ").select(\n",
    "    \"Trace\", \n",
    "    expr('''CASE pos \n",
    "    WHEN 0 THEN 'e1' \n",
    "    WHEN 1 THEN 'e2'\n",
    "    WHEN 2 THEN 'e3'\n",
    "    WHEN 3 THEN 'e4'\n",
    "    WHEN 4 THEN 'e5'\n",
    "    ELSE 'e6' END''').alias(\"event\"),\n",
    "    \"col\"\n",
    ").orderBy(\"Trace\",\"event\")\n",
    "\n",
    "#explode columns\n",
    "stacked_df = stacked_df.select(*stacked_df.columns, \"col.*\").drop('col')\n"
   ]
  },
  {
   "cell_type": "code",
   "execution_count": null,
   "id": "cf6cccdc-2427-460e-97a7-c5cda79f7de9",
   "metadata": {
    "tags": []
   },
   "outputs": [],
   "source": [
    "# using split and applying in ml with pypark\n",
    "train, test, val = connected_paths.randomSplit([0.80, 0.15, 0.05], seed=12345)"
   ]
  },
  {
   "cell_type": "code",
   "execution_count": null,
   "id": "ac08c41e-e588-4bb1-8520-b46c1467e018",
   "metadata": {
    "tags": []
   },
   "outputs": [],
   "source": [
    "val.count()"
   ]
  },
  {
   "cell_type": "code",
   "execution_count": null,
   "id": "52501454-e7dc-413c-890c-d5a4676d996e",
   "metadata": {},
   "outputs": [],
   "source": []
  },
  {
   "cell_type": "code",
   "execution_count": null,
   "id": "63672d40-ca27-4e80-9092-251214d6621f",
   "metadata": {},
   "outputs": [],
   "source": []
  },
  {
   "cell_type": "code",
   "execution_count": null,
   "id": "c042a899-4b99-45a4-a13d-90c4e2861f76",
   "metadata": {
    "tags": []
   },
   "outputs": [],
   "source": [
    "# create new dataframe to union and create duplicate rows\n",
    "df_dup = df.withColumn('id', lit(None).cast(StringType()))"
   ]
  },
  {
   "cell_type": "code",
   "execution_count": null,
   "id": "e5d4873c-793e-40ba-8b0a-e62b72ec9a48",
   "metadata": {
    "tags": []
   },
   "outputs": [],
   "source": [
    "df_dup.limit(5).toPandas()"
   ]
  },
  {
   "cell_type": "code",
   "execution_count": null,
   "id": "0a2ef262-3b4b-4659-9e5a-ad65cd30257f",
   "metadata": {
    "tags": []
   },
   "outputs": [],
   "source": [
    "df_new = df.union(df_dup).sort(\"timestamp\").cache()\n",
    "df.unpersist()"
   ]
  },
  {
   "cell_type": "code",
   "execution_count": null,
   "id": "d5da3e36-2e52-47b1-a84f-5eefcb4bc16b",
   "metadata": {
    "tags": []
   },
   "outputs": [],
   "source": [
    "df_new.limit(5).toPandas()"
   ]
  },
  {
   "cell_type": "code",
   "execution_count": null,
   "id": "fb3abb18-b762-4e7d-b466-d9e5ee31f9f3",
   "metadata": {
    "tags": []
   },
   "outputs": [],
   "source": [
    "# len(df_new.select('relationship').distinct().collect())"
   ]
  },
  {
   "cell_type": "code",
   "execution_count": null,
   "id": "7b2bfd54-47a1-4b4c-8953-575c2d68c98f",
   "metadata": {
    "tags": []
   },
   "outputs": [],
   "source": [
    "tot = df_new.count()"
   ]
  },
  {
   "cell_type": "code",
   "execution_count": null,
   "id": "464deab4-13be-4bb9-a48a-4d66d4384b0b",
   "metadata": {},
   "outputs": [],
   "source": [
    "df_ratios = df_new.groupBy(\"object\") \\\n",
    "              .count() \\\n",
    "              .withColumnRenamed('count', 'cnt_per_group') \\\n",
    "              .withColumn('perc_of_count_total', (col('cnt_per_group') / tot) * 100 ) \\\n",
    "              .cache()"
   ]
  },
  {
   "cell_type": "code",
   "execution_count": null,
   "id": "b25931e3-928c-4b1f-920b-79132f35b1e4",
   "metadata": {},
   "outputs": [],
   "source": [
    "df_ratios.limit(5).toPandas()"
   ]
  },
  {
   "cell_type": "code",
   "execution_count": null,
   "id": "8ec07a31-d23e-4d12-a41b-dd1898d38078",
   "metadata": {
    "tags": []
   },
   "outputs": [],
   "source": [
    "df_new.limit(5).toPandas()"
   ]
  },
  {
   "cell_type": "code",
   "execution_count": null,
   "id": "a0e1ad06-7612-48ed-b9bc-9ace19b7545f",
   "metadata": {},
   "outputs": [],
   "source": []
  },
  {
   "cell_type": "code",
   "execution_count": null,
   "id": "cce447ff-155c-42cf-ab20-911e59a77fd1",
   "metadata": {
    "tags": []
   },
   "outputs": [],
   "source": [
    "connected_paths.write.option(\"maxRecordsPerFile\", 300000).mode(\"overwrite\").parquet(f\"{s3_url_trusted}/prod/graph/test\")"
   ]
  },
  {
   "cell_type": "code",
   "execution_count": null,
   "id": "9a210e73-7628-485d-b723-523a4b68d349",
   "metadata": {},
   "outputs": [],
   "source": []
  },
  {
   "cell_type": "code",
   "execution_count": null,
   "id": "8ff07183-ebc7-4ee3-bb4f-13da0f123bb8",
   "metadata": {},
   "outputs": [],
   "source": []
  },
  {
   "cell_type": "code",
   "execution_count": null,
   "id": "a1eb8476-2e41-4c5d-a53c-88d13e423c04",
   "metadata": {
    "tags": []
   },
   "outputs": [],
   "source": [
    "stacked_df.limit(10).toPandas()"
   ]
  },
  {
   "cell_type": "code",
   "execution_count": null,
   "id": "6ef9de32-b384-49af-9264-6e09833b29f7",
   "metadata": {
    "tags": []
   },
   "outputs": [],
   "source": [
    "# Reference: https://stackoverflow.com/questions/36725353/applying-a-window-function-to-calculate-differences-in-pyspark\n",
    "\n",
    "from pyspark.sql import Window\n",
    "from pyspark.sql.functions import lag, col, coalesce, lit\n",
    "\n",
    "# Define the window specification\n",
    "window_spec = Window.partitionBy(\"Trace\").orderBy(\"timestamp\")\n",
    "\n",
    "# Calculate the timestamp difference between the current event and the preceding event\n",
    "stacked_df = stacked_df.withColumn(\n",
    "    \"timestamp_difference\",\n",
    "    coalesce(\n",
    "        (col(\"timestamp\").cast(\"long\") - lag(col(\"timestamp\").cast(\"long\")).over(window_spec)) * 1000\n",
    "        + (col(\"timestamp\").cast(\"double\") % 1 - lag(col(\"timestamp\").cast(\"double\")).over(window_spec) % 1) * 1000,\n",
    "        lit(None).cast(\"double\")\n",
    "    )\n",
    ")\n",
    "\n",
    "stacked_df.limit(10).toPandas()\n"
   ]
  },
  {
   "cell_type": "code",
   "execution_count": null,
   "id": "04f6f884-f02a-47b9-9d6e-90962dc88633",
   "metadata": {
    "tags": []
   },
   "outputs": [],
   "source": [
    "# filter rows where 'Trace' equals 642 to test code\n",
    "filtered_df = stacked_df.filter(stacked_df.Trace == 642)\n",
    "filtered_df.toPandas()"
   ]
  },
  {
   "cell_type": "code",
   "execution_count": null,
   "id": "fd7aa5b0-a121-4ae4-99fa-de3148e99a87",
   "metadata": {
    "tags": []
   },
   "outputs": [],
   "source": [
    "# Check above code\n",
    "\n",
    "from datetime import datetime\n",
    "\n",
    "timestamp1 = \"2019-09-23 17:34:20.279\"\n",
    "timestamp2 = \"2019-09-23 17:43:13.564\"\n",
    "\n",
    "# Convert the string timestamps to datetime objects\n",
    "dt1 = datetime.strptime(timestamp1, \"%Y-%m-%d %H:%M:%S.%f\")\n",
    "dt2 = datetime.strptime(timestamp2, \"%Y-%m-%d %H:%M:%S.%f\")\n",
    "\n",
    "# Calculate the time difference\n",
    "time_difference = dt2 - dt1\n",
    "\n",
    "# Convert the time difference to milliseconds\n",
    "time_difference_ms = time_difference.total_seconds() * 1000\n",
    "\n",
    "print(\"Time difference (in milliseconds):\", time_difference_ms)"
   ]
  },
  {
   "cell_type": "code",
   "execution_count": null,
   "id": "92799db9-d034-43b8-b270-e73e99fc1021",
   "metadata": {
    "tags": []
   },
   "outputs": [],
   "source": [
    "# Above code in function format\n",
    "\n",
    "from pyspark.sql import Window\n",
    "from pyspark.sql.functions import lag, col, coalesce, lit\n",
    "\n",
    "def calculate_timestamp_difference(stacked_df):\n",
    "    # Define the window specification\n",
    "    window_spec = Window.partitionBy(\"Trace\").orderBy(\"timestamp\")\n",
    "\n",
    "    # Calculate the timestamp difference between the current event and the preceding event\n",
    "    result_df = stacked_df.withColumn(\n",
    "        \"timestamp_difference\",\n",
    "        coalesce(\n",
    "            (col(\"timestamp\").cast(\"long\") - lag(col(\"timestamp\").cast(\"long\")).over(window_spec)) * 1000\n",
    "            + (col(\"timestamp\").cast(\"double\") % 1 - lag(col(\"timestamp\").cast(\"double\")).over(window_spec) % 1) * 1000,\n",
    "            lit(None).cast(\"double\")\n",
    "        )\n",
    "    )\n",
    "\n",
    "    return result_df\n",
    "\n",
    "# Usage example\n",
    "result_df = calculate_timestamp_difference(stacked_df)\n",
    "result_df.limit(10).toPandas()\n"
   ]
  },
  {
   "cell_type": "code",
   "execution_count": null,
   "id": "eee8f61c-0510-4c54-94fc-1ade03a596cb",
   "metadata": {
    "tags": []
   },
   "outputs": [],
   "source": [
    "# Reference for Bucketizer: https://stackoverflow.com/questions/46225587/how-to-bin-in-pyspark\n",
    "# Leveraged ChatGPT 4 to create bin edges to feed into Bucketizer\n",
    "\n",
    "from pyspark.ml.feature import Bucketizer\n",
    "from pyspark.sql.functions import col, when\n",
    "from pyspark.sql import functions as F\n",
    "\n",
    "# if timestamp_bins exists then drop the column\n",
    "stacked_df = stacked_df.drop(\"timestamp_bins\")\n",
    "\n",
    "# calculate the min and max values of the timestamp_difference column\n",
    "min_max = stacked_df.agg(F.min(\"timestamp_difference\").alias(\"min\"), F.max(\"timestamp_difference\").alias(\"max\")).collect()\n",
    "min_val = min_max[0][\"min\"]\n",
    "max_val = min_max[0][\"max\"]\n",
    "\n",
    "# calculate the bin width\n",
    "bin_width = (max_val - min_val) / 10\n",
    "\n",
    "# create the bin edges by starting from negative infinity to capture\n",
    "# the smallest values. Subsequently, add that to the minimum value to\n",
    "# create a list of the ending points for each group. It starts from the \n",
    "# minimum value (min_val) and adds the size of each group (bin_width) \n",
    "# multiplied by a number i from 1 to 10.\n",
    "bins = [float('-inf')] + [min_val + i * bin_width for i in range(1, 11)]\n",
    "\n",
    "# print the bins\n",
    "bin_ranges = [f\"{lower:.2f} - {upper:.2f}\" for lower, upper in zip(bins[:-1], bins[1:])]\n",
    "print(\"Bins:\", bin_ranges)\n",
    "\n",
    "# create a Bucketizer instance\n",
    "bucketizer = Bucketizer(splits=bins, inputCol=\"timestamp_difference\", outputCol=\"timestamp_bins\")\n",
    "\n",
    "# transform the DataFrame\n",
    "stacked_df = bucketizer.transform(stacked_df)\n",
    "\n",
    "# increment the bin index by 1 to start from bin 1 instead of 0,\n",
    "# code was initially putting timestamp differences of 0 in bin 0,\n",
    "# thus code is needed to correctly bin these items to bin 1\n",
    "stacked_df = stacked_df.withColumn(\"timestamp_bins\", F.col(\"timestamp_bins\") + 1)\n",
    "\n",
    "\n",
    "stacked_df.limit(10).toPandas()"
   ]
  },
  {
   "cell_type": "code",
   "execution_count": null,
   "id": "6924cf9e-88b3-4137-8f7a-cc110ce3aa95",
   "metadata": {
    "tags": []
   },
   "outputs": [],
   "source": [
    "# show records in bin 9 for testing\n",
    "\n",
    "bin_9_records = stacked_df.filter(stacked_df.timestamp_bins == 9)\n",
    "\n",
    "# Show the result\n",
    "bin_9_records.limit(10).toPandas()"
   ]
  },
  {
   "cell_type": "code",
   "execution_count": null,
   "id": "4964faa6-0eb6-47e0-9787-6f139dd12ab0",
   "metadata": {
    "tags": []
   },
   "outputs": [],
   "source": [
    "# histogram to show bin distribution\n",
    "\n",
    "import matplotlib.pyplot as plt\n",
    "\n",
    "# Convert Spark DataFrame to Pandas DataFrame\n",
    "pandas_df = stacked_df.select(\"timestamp_bins\").toPandas()\n",
    "\n",
    "# Plot a histogram\n",
    "plt.figure(figsize=(10, 6))\n",
    "plt.hist(pandas_df[\"timestamp_bins\"], bins=10, edgecolor=\"black\")\n",
    "plt.xlabel(\"Bins\")\n",
    "plt.ylabel(\"Frequency\")\n",
    "plt.title(\"Histogram of Timestamp Bins\")\n",
    "plt.show()\n"
   ]
  },
  {
   "cell_type": "code",
   "execution_count": null,
   "id": "772ac017-4ac8-4c06-912a-06e8c4698dec",
   "metadata": {},
   "outputs": [],
   "source": []
  },
  {
   "cell_type": "markdown",
   "id": "67b436c1-07ef-41ab-9832-822d206f2a3f",
   "metadata": {},
   "source": [
    "## Code to test Motifs"
   ]
  },
  {
   "cell_type": "code",
   "execution_count": null,
   "id": "1438175b-69e6-4fca-9f36-c927715fe8ba",
   "metadata": {
    "tags": []
   },
   "outputs": [],
   "source": [
    "from graphframes import GraphFrame\n",
    "\n",
    "# Define the vertices (nodes)\n",
    "vertices = spark.createDataFrame([\n",
    "    (\"A\", \"Node A\"),\n",
    "    (\"B\", \"Node B\"),\n",
    "    (\"C\", \"Node C\"),\n",
    "    (\"D\", \"Node D\"),\n",
    "    (\"E\", \"Node E\"),\n",
    "    (\"F\", \"Node F\")\n",
    "], [\"id\", \"name\"])\n",
    "\n",
    "# Define the edges (connections)\n",
    "edges = spark.createDataFrame([\n",
    "    (\"A\", \"B\"),\n",
    "    (\"B\", \"C\"),\n",
    "    (\"C\", \"D\"),\n",
    "    (\"D\", \"E\"),\n",
    "    (\"E\", \"F\")\n",
    "], [\"src\", \"dst\"])\n",
    "\n",
    "# Create a GraphFrame\n",
    "g = GraphFrame(vertices, edges)\n",
    "\n",
    "# Find all paths of length 6 in the graph\n",
    "motifs2 = g.find(\"(a)-[e1]->(b); (b)-[e2]->(c)\")\n",
    "motifs6 = g.find(\"(a)-[e1]->(b); (b)-[e2]->(c); (c)-[e3]->(d); (d)-[e4]->(e); (e)-[e5]->(f)\")\n"
   ]
  },
  {
   "cell_type": "code",
   "execution_count": null,
   "id": "268a7671-3a67-4f87-83ff-4c8d16c3aefd",
   "metadata": {
    "tags": []
   },
   "outputs": [],
   "source": [
    "# Print the results\n",
    "motifs2.toPandas()\n"
   ]
  },
  {
   "cell_type": "code",
   "execution_count": null,
   "id": "4420aed3-99ed-4ed9-8436-d4b655151fa9",
   "metadata": {
    "tags": []
   },
   "outputs": [],
   "source": [
    "motifs6.toPandas()"
   ]
  },
  {
   "cell_type": "code",
   "execution_count": null,
   "id": "d16ce541-61cd-42f9-8098-7416de1ad7b5",
   "metadata": {
    "tags": []
   },
   "outputs": [],
   "source": [
    "import networkx as nx\n",
    "import matplotlib.pyplot as plt\n",
    "\n",
    "# Create a directed graph\n",
    "G = nx.DiGraph()\n",
    "\n",
    "# Add nodes\n",
    "nodes = ['A', 'B1', 'B2', 'C1', 'C2', 'D1', 'D2']\n",
    "G.add_nodes_from(nodes)\n",
    "\n",
    "# Add edges\n",
    "edges = [\n",
    "    ('A', 'B1'),\n",
    "    ('A', 'B2'),\n",
    "    ('B1', 'C1'),\n",
    "    ('B1', 'C2'),\n",
    "    ('B2', 'C1'),\n",
    "    ('B2', 'C2'),\n",
    "    ('C1', 'D1'),\n",
    "    ('C1', 'D2'),\n",
    "    ('C2', 'D1'),\n",
    "    ('C2', 'D2'),\n",
    "]\n",
    "G.add_edges_from(edges)\n",
    "\n",
    "# Define a hierarchical layout\n",
    "pos = {\n",
    "    'A': (0, 3),\n",
    "    'B1': (-1, 2),\n",
    "    'B2': (1, 2),\n",
    "    'C1': (-1, 1),\n",
    "    'C2': (1, 1),\n",
    "    'D1': (0, 0),\n",
    "    'D2': (2, 0),\n",
    "}\n",
    "\n",
    "# Draw the graph\n",
    "nx.draw(G, pos, with_labels=True, node_color='lightblue', node_size=2000, font_size=16, font_weight='bold', arrowsize=30)\n",
    "plt.show()\n",
    "\n",
    "\n"
   ]
  },
  {
   "cell_type": "code",
   "execution_count": null,
   "id": "5f2af56d-5908-4250-bd61-c6dd4c1a0f6f",
   "metadata": {
    "tags": []
   },
   "outputs": [],
   "source": [
    "# Find all paths of length 6 in the graph\n",
    "\n",
    "from graphframes import GraphFrame\n",
    "from pyspark.sql.functions import col\n",
    "\n",
    "# Create the vertices DataFrame\n",
    "vertices = spark.createDataFrame([\n",
    "    ('A',),\n",
    "    ('B1',),\n",
    "    ('B2',),\n",
    "    ('C1',),\n",
    "    ('C2',),\n",
    "    ('D1',),\n",
    "    ('D2',)\n",
    "], ['id'])\n",
    "\n",
    "# Create the edges DataFrame\n",
    "edges = spark.createDataFrame([\n",
    "    ('A', 'B1'),\n",
    "    ('A', 'B2'),\n",
    "    ('B1', 'C1'),\n",
    "    ('B1', 'C2'),\n",
    "    ('B2', 'C1'),\n",
    "    ('B2', 'C2'),\n",
    "    ('C1', 'D1'),\n",
    "    ('C1', 'D2'),\n",
    "    ('C2', 'D1'),\n",
    "    ('C2', 'D2')\n",
    "], ['src', 'dst'])\n",
    "\n",
    "# Create the GraphFrame\n",
    "g = GraphFrame(vertices, edges)\n",
    "\n",
    "# Show the vertices and edges\n",
    "print(\"Vertices:\")\n",
    "g.vertices.show()\n",
    "print(\"Edges:\")\n",
    "g.edges.show()\n",
    "\n",
    "# Find all the paths of length 3\n",
    "paths = g.find(\"(a)-[]->(b); (b)-[]->(c)\")\n",
    "paths.show()\n",
    "\n",
    "motifs2 = g.find(\"(a)-[e1]->(b); (b)-[e2]->(c)\")\n",
    "motifs6 = g.find(\"(a)-[e1]->(b); (b)-[e2]->(c); (c)-[e3]->(d)\")\n"
   ]
  },
  {
   "cell_type": "code",
   "execution_count": null,
   "id": "417a7ead-11e0-4daa-9d53-bb629a3755d0",
   "metadata": {
    "tags": []
   },
   "outputs": [],
   "source": [
    "# Print the results\n",
    "motifs2.toPandas()"
   ]
  },
  {
   "cell_type": "code",
   "execution_count": null,
   "id": "86f51c2e-d564-4693-be94-b8907a39a93b",
   "metadata": {
    "tags": []
   },
   "outputs": [],
   "source": [
    "# Print the results\n",
    "motifs6.toPandas()"
   ]
  },
  {
   "cell_type": "code",
   "execution_count": null,
   "id": "a29eee6f-9e59-4e41-87d6-9f4f3bc92952",
   "metadata": {},
   "outputs": [],
   "source": []
  }
 ],
 "metadata": {
  "kernelspec": {
   "display_name": "conda_python3",
   "language": "python",
   "name": "conda_python3"
  },
  "language_info": {
   "codemirror_mode": {
    "name": "ipython",
    "version": 3
   },
   "file_extension": ".py",
   "mimetype": "text/x-python",
   "name": "python",
   "nbconvert_exporter": "python",
   "pygments_lexer": "ipython3",
   "version": "3.10.8"
  }
 },
 "nbformat": 4,
 "nbformat_minor": 5
}
