{
 "cells": [
  {
   "cell_type": "markdown",
   "id": "f69ad54b-7bbf-4b57-87ad-96b0fe577c51",
   "metadata": {
    "tags": []
   },
   "source": [
    "# One Hot Encoding! "
   ]
  },
  {
   "cell_type": "code",
   "execution_count": 1,
   "id": "4d2cae5b-4520-4627-a7a8-fdb630e146f5",
   "metadata": {
    "collapsed": true,
    "jupyter": {
     "outputs_hidden": true
    },
    "tags": []
   },
   "outputs": [
    {
     "name": "stderr",
     "output_type": "stream",
     "text": [
      "Warning: Ignoring non-Spark config property: fs.s3a.access.key\n",
      "Warning: Ignoring non-Spark config property: fs.s3a.secret.key\n"
     ]
    },
    {
     "name": "stdout",
     "output_type": "stream",
     "text": [
      ":: loading settings :: url = jar:file:/home/ec2-user/anaconda3/envs/python3/lib/python3.10/site-packages/pyspark/jars/ivy-2.5.0.jar!/org/apache/ivy/core/settings/ivysettings.xml\n"
     ]
    },
    {
     "name": "stderr",
     "output_type": "stream",
     "text": [
      "Ivy Default Cache set to: /home/ec2-user/.ivy2/cache\n",
      "The jars for the packages stored in: /home/ec2-user/.ivy2/jars\n",
      "graphframes#graphframes added as a dependency\n",
      ":: resolving dependencies :: org.apache.spark#spark-submit-parent-31203ca8-2dea-4494-9f15-386a1c7c4d52;1.0\n",
      "\tconfs: [default]\n",
      "\tfound graphframes#graphframes;0.8.2-spark3.2-s_2.12 in spark-packages\n",
      "\tfound org.slf4j#slf4j-api;1.7.16 in central\n",
      "downloading https://repos.spark-packages.org/graphframes/graphframes/0.8.2-spark3.2-s_2.12/graphframes-0.8.2-spark3.2-s_2.12.jar ...\n",
      "\t[SUCCESSFUL ] graphframes#graphframes;0.8.2-spark3.2-s_2.12!graphframes.jar (64ms)\n",
      "downloading https://repo1.maven.org/maven2/org/slf4j/slf4j-api/1.7.16/slf4j-api-1.7.16.jar ...\n",
      "\t[SUCCESSFUL ] org.slf4j#slf4j-api;1.7.16!slf4j-api.jar (25ms)\n",
      ":: resolution report :: resolve 638ms :: artifacts dl 92ms\n",
      "\t:: modules in use:\n",
      "\tgraphframes#graphframes;0.8.2-spark3.2-s_2.12 from spark-packages in [default]\n",
      "\torg.slf4j#slf4j-api;1.7.16 from central in [default]\n",
      "\t---------------------------------------------------------------------\n",
      "\t|                  |            modules            ||   artifacts   |\n",
      "\t|       conf       | number| search|dwnlded|evicted|| number|dwnlded|\n",
      "\t---------------------------------------------------------------------\n",
      "\t|      default     |   2   |   2   |   2   |   0   ||   2   |   2   |\n",
      "\t---------------------------------------------------------------------\n",
      ":: retrieving :: org.apache.spark#spark-submit-parent-31203ca8-2dea-4494-9f15-386a1c7c4d52\n",
      "\tconfs: [default]\n",
      "\t2 artifacts copied, 0 already retrieved (281kB/5ms)\n"
     ]
    },
    {
     "name": "stdout",
     "output_type": "stream",
     "text": [
      "23/04/13 02:01:36 WARN NativeCodeLoader: Unable to load native-hadoop library for your platform... using builtin-java classes where applicable\n"
     ]
    },
    {
     "name": "stderr",
     "output_type": "stream",
     "text": [
      "Setting default log level to \"WARN\".\n",
      "To adjust logging level use sc.setLogLevel(newLevel). For SparkR, use setLogLevel(newLevel).\n"
     ]
    },
    {
     "name": "stdout",
     "output_type": "stream",
     "text": [
      "23/04/13 02:01:37 WARN SparkConf: Note that spark.local.dir will be overridden by the value set by the cluster manager (via SPARK_LOCAL_DIRS in mesos/standalone/kubernetes and LOCAL_DIRS in YARN).\n"
     ]
    }
   ],
   "source": [
    "%run trace_encode.ipynb\n",
    "s3_url_trusted = \"s3a://sapient-bucket-trusted/\""
   ]
  },
  {
   "cell_type": "markdown",
   "id": "b7da2228-04f2-41ff-ab2b-5a28b134a2e9",
   "metadata": {},
   "source": [
    "## Read in filter df and onehot"
   ]
  },
  {
   "cell_type": "code",
   "execution_count": 2,
   "id": "aad5e8b0-ba1a-4438-a043-df01857cb7b0",
   "metadata": {
    "tags": []
   },
   "outputs": [
    {
     "name": "stdout",
     "output_type": "stream",
     "text": [
      "1681332754.598298\n"
     ]
    },
    {
     "name": "stderr",
     "output_type": "stream",
     "text": [
      "                                                                                \r"
     ]
    },
    {
     "name": "stdout",
     "output_type": "stream",
     "text": [
      "read time join: 6.217851638793945\n"
     ]
    }
   ],
   "source": [
    "#try to filter motif 5, if not we may have an issue\n",
    "start_time = time.time()\n",
    "print(start_time)\n",
    "df_join_oh = spark.read.parquet(f\"{s3_url_trusted}/prod/graph/filters_all/one_hot\").cache()\n",
    "print(\"read time join: \"+ str(time.time() - start_time))"
   ]
  },
  {
   "cell_type": "code",
   "execution_count": 3,
   "id": "45321c90-a098-43f9-a8f9-42382fe73d6f",
   "metadata": {
    "tags": []
   },
   "outputs": [
    {
     "name": "stdout",
     "output_type": "stream",
     "text": [
      "1681332760.8208025\n"
     ]
    },
    {
     "name": "stderr",
     "output_type": "stream",
     "text": [
      "[Stage 1:=======================================================> (33 + 1) / 34]\r"
     ]
    },
    {
     "name": "stdout",
     "output_type": "stream",
     "text": [
      "2299172\n",
      "count time join: 9.127640724182129\n"
     ]
    },
    {
     "name": "stderr",
     "output_type": "stream",
     "text": [
      "                                                                                \r"
     ]
    }
   ],
   "source": [
    "start_time = time.time()\n",
    "print(start_time)\n",
    "print(df_join_oh.count())\n",
    "print(\"count time join: \"+ str(time.time() - start_time))"
   ]
  },
  {
   "cell_type": "markdown",
   "id": "48e049e8-ff40-4a0e-a80f-c703fef1a940",
   "metadata": {},
   "source": [
    "#### check the vitals of the df to make sure the filtering didn't screw anything up"
   ]
  },
  {
   "cell_type": "code",
   "execution_count": 6,
   "id": "302853f3-eab7-48b8-b410-ee08f902ea81",
   "metadata": {
    "collapsed": true,
    "jupyter": {
     "outputs_hidden": true
    },
    "tags": []
   },
   "outputs": [
    {
     "name": "stdout",
     "output_type": "stream",
     "text": [
      "root\n",
      " |-- Trace: string (nullable = true)\n",
      " |-- event: string (nullable = true)\n",
      " |-- src: string (nullable = true)\n",
      " |-- dst: string (nullable = true)\n",
      " |-- timestamp: timestamp (nullable = true)\n",
      " |-- object: string (nullable = true)\n",
      " |-- action: string (nullable = true)\n",
      " |-- hostname: string (nullable = true)\n",
      " |-- user_name: string (nullable = true)\n",
      " |-- privileges: string (nullable = true)\n",
      " |-- image_path: string (nullable = true)\n",
      " |-- parent_image_path: string (nullable = true)\n",
      " |-- new_path: string (nullable = true)\n",
      " |-- file_path: string (nullable = true)\n",
      " |-- direction: string (nullable = true)\n",
      " |-- logon_id: string (nullable = true)\n",
      " |-- requesting_domain: string (nullable = true)\n",
      " |-- requesting_user: string (nullable = true)\n",
      " |-- malicious: integer (nullable = true)\n",
      " |-- file_path_ext: string (nullable = true)\n",
      " |-- motif: integer (nullable = true)\n",
      " |-- timestamp_bins: double (nullable = true)\n",
      " |-- relationship: array (nullable = true)\n",
      " |    |-- element: string (containsNull = true)\n",
      "\n"
     ]
    }
   ],
   "source": [
    "df_join_oh.printSchema()"
   ]
  },
  {
   "cell_type": "code",
   "execution_count": 9,
   "id": "fb2168ad-94f7-4b2b-8e1e-c842c4be08df",
   "metadata": {
    "collapsed": true,
    "jupyter": {
     "outputs_hidden": true
    },
    "tags": []
   },
   "outputs": [
    {
     "name": "stdout",
     "output_type": "stream",
     "text": [
      "+-----------------+\n",
      "|parent_image_path|\n",
      "+-----------------+\n",
      "|             None|\n",
      "|            other|\n",
      "|        csrss.exe|\n",
      "|      svchost.exe|\n",
      "|          cmd.exe|\n",
      "|      conhost.exe|\n",
      "| GoogleUpdate.exe|\n",
      "+-----------------+\n",
      "\n"
     ]
    }
   ],
   "source": [
    "df_join_oh.select('parent_image_path').distinct().show()"
   ]
  },
  {
   "cell_type": "code",
   "execution_count": 11,
   "id": "f8e24929-f8bd-4588-a9a4-cc62a964c3ab",
   "metadata": {
    "collapsed": true,
    "jupyter": {
     "outputs_hidden": true
    },
    "tags": []
   },
   "outputs": [
    {
     "name": "stdout",
     "output_type": "stream",
     "text": [
      "+--------------------+\n",
      "|          image_path|\n",
      "+--------------------+\n",
      "|                None|\n",
      "|          python.EXE|\n",
      "|          python.exe|\n",
      "|        Explorer.EXE|\n",
      "|       taskhostw.exe|\n",
      "|               other|\n",
      "|            PING.EXE|\n",
      "|     geckodriver.exe|\n",
      "|           csrss.exe|\n",
      "|         svchost.exe|\n",
      "|             cmd.exe|\n",
      "|         conhost.exe|\n",
      "|         firefox.exe|\n",
      "|    GoogleUpdate.exe|\n",
      "| CompatTelRunner.exe|\n",
      "|              System|\n",
      "|backgroundTaskHos...|\n",
      "+--------------------+\n",
      "\n"
     ]
    }
   ],
   "source": [
    "df_join_oh.select('image_path').distinct().show()"
   ]
  },
  {
   "cell_type": "code",
   "execution_count": 12,
   "id": "e3204d75-9caa-4377-812a-2aaa94726f9d",
   "metadata": {
    "collapsed": true,
    "jupyter": {
     "outputs_hidden": true
    },
    "tags": []
   },
   "outputs": [
    {
     "name": "stdout",
     "output_type": "stream",
     "text": [
      "+-------------+\n",
      "|file_path_ext|\n",
      "+-------------+\n",
      "|         .ini|\n",
      "|         None|\n",
      "|          .pf|\n",
      "|        other|\n",
      "|         .pyc|\n",
      "|         .tmp|\n",
      "|         .bat|\n",
      "|         .exe|\n",
      "|         .dll|\n",
      "|        empty|\n",
      "+-------------+\n",
      "\n"
     ]
    }
   ],
   "source": [
    "df_join_oh.select('file_path_ext').distinct().show()"
   ]
  },
  {
   "cell_type": "markdown",
   "id": "eea7acd4-358f-4470-9609-285aa1560d2b",
   "metadata": {
    "tags": []
   },
   "source": [
    "#### now start one hot encoding"
   ]
  },
  {
   "cell_type": "code",
   "execution_count": 41,
   "id": "5b157350-2dcf-43e6-ae98-be78f15f5c1c",
   "metadata": {
    "tags": []
   },
   "outputs": [],
   "source": [
    "dict_mapping = {}\n",
    "list_sparse = []"
   ]
  },
  {
   "cell_type": "code",
   "execution_count": 42,
   "id": "435541ee-b014-402c-88ba-9de6c25edf9f",
   "metadata": {
    "collapsed": true,
    "jupyter": {
     "outputs_hidden": true
    },
    "tags": []
   },
   "outputs": [
    {
     "name": "stdout",
     "output_type": "stream",
     "text": [
      "1681263954.19483\n",
      "\n",
      "file_path_ext start\n",
      "file_path_ext one hot time: 0.18106818199157715\n",
      "\n",
      "image_path start\n"
     ]
    },
    {
     "name": "stderr",
     "output_type": "stream",
     "text": [
      "                                                                                \r"
     ]
    },
    {
     "name": "stdout",
     "output_type": "stream",
     "text": [
      "image_path one hot time: 2.8104522228240967\n",
      "\n",
      "parent_image_path start\n"
     ]
    },
    {
     "name": "stderr",
     "output_type": "stream",
     "text": [
      "                                                                                \r"
     ]
    },
    {
     "name": "stdout",
     "output_type": "stream",
     "text": [
      "parent_image_path one hot time: 4.666041135787964\n",
      "\n",
      "object start\n"
     ]
    },
    {
     "name": "stderr",
     "output_type": "stream",
     "text": [
      "                                                                                \r"
     ]
    },
    {
     "name": "stdout",
     "output_type": "stream",
     "text": [
      "object one hot time: 6.730767488479614\n",
      "\n",
      "action start\n"
     ]
    },
    {
     "name": "stderr",
     "output_type": "stream",
     "text": [
      "                                                                                \r"
     ]
    },
    {
     "name": "stdout",
     "output_type": "stream",
     "text": [
      "action one hot time: 8.581156015396118\n",
      "\n",
      "timestamp_bins start\n"
     ]
    },
    {
     "name": "stderr",
     "output_type": "stream",
     "text": [
      "[Stage 101:=====================================================> (33 + 1) / 34]\r"
     ]
    },
    {
     "name": "stdout",
     "output_type": "stream",
     "text": [
      "timestamp_bins one hot time: 11.233512878417969\n"
     ]
    },
    {
     "name": "stderr",
     "output_type": "stream",
     "text": [
      "                                                                                \r"
     ]
    }
   ],
   "source": [
    "#for all columns to one hot, one hot, preserve mapping\n",
    "start_time = time.time()\n",
    "print(start_time)\n",
    "\n",
    "for colm in ['file_path_ext','image_path',\n",
    "                                    'parent_image_path','object','action',\"timestamp_bins\"]:\n",
    "    print(\"\\n\"+colm+ \" start\")\n",
    "    df_join_oh, dict_mapping, list_sparse = oneHotCol(df_join_oh,colm, dict_mapping, list_sparse)\n",
    "    print(colm + \" one hot time: \" + str(time.time()-start_time))\n"
   ]
  },
  {
   "cell_type": "code",
   "execution_count": 43,
   "id": "939bb8de-7484-4ee0-abcf-46ffab5f28bf",
   "metadata": {
    "tags": []
   },
   "outputs": [
    {
     "name": "stdout",
     "output_type": "stream",
     "text": [
      "1681263965.4328718\n"
     ]
    },
    {
     "name": "stderr",
     "output_type": "stream",
     "text": [
      "[Stage 104:======================================>               (24 + 10) / 34]\r"
     ]
    },
    {
     "name": "stdout",
     "output_type": "stream",
     "text": [
      "2299172\n",
      "count time join: 2.7587552070617676\n"
     ]
    },
    {
     "name": "stderr",
     "output_type": "stream",
     "text": [
      "                                                                                \r"
     ]
    }
   ],
   "source": [
    "#first count onehot\n",
    "start_time = time.time()\n",
    "print(start_time)\n",
    "print(df_join_oh.count())\n",
    "print(\"count time join: \"+ str(time.time() - start_time))"
   ]
  },
  {
   "cell_type": "code",
   "execution_count": 44,
   "id": "68b0172b-0fad-4792-af42-b6d61a3848da",
   "metadata": {
    "tags": []
   },
   "outputs": [],
   "source": [
    "#now drop all the irrlevant columns\n",
    "keep_cols = ['relationship']\n",
    "drop_cols = [col for col in df_join_oh.columns  \n",
    "             if col not in list_sparse and col not in keep_cols]\n",
    "\n",
    "#i want to drop any columnn not in the column list or is the malicious column\n",
    "df_join_oh = df_join_oh.drop(*drop_cols).cache()"
   ]
  },
  {
   "cell_type": "code",
   "execution_count": 45,
   "id": "82580fec-6958-435c-96c8-257a58904ce0",
   "metadata": {
    "tags": []
   },
   "outputs": [
    {
     "name": "stdout",
     "output_type": "stream",
     "text": [
      "1681263968.21468\n"
     ]
    },
    {
     "name": "stderr",
     "output_type": "stream",
     "text": [
      "[Stage 107:==============================>                       (19 + 15) / 34]\r"
     ]
    },
    {
     "name": "stdout",
     "output_type": "stream",
     "text": [
      "2299172\n",
      "count time join: 3.3776869773864746\n"
     ]
    },
    {
     "name": "stderr",
     "output_type": "stream",
     "text": [
      "                                                                                \r"
     ]
    }
   ],
   "source": [
    "#first count onehot\n",
    "start_time = time.time()\n",
    "print(start_time)\n",
    "print(df_join_oh.count())\n",
    "print(\"count time join: \"+ str(time.time() - start_time))"
   ]
  },
  {
   "cell_type": "code",
   "execution_count": 35,
   "id": "be0dd4d2-9a5a-46dc-9a7a-dd63b0c02a03",
   "metadata": {},
   "outputs": [
    {
     "name": "stdout",
     "output_type": "stream",
     "text": [
      "root\n",
      " |-- relationship: array (nullable = true)\n",
      " |    |-- element: string (containsNull = true)\n",
      " |-- file_path_ext_sparse: vector (nullable = true)\n",
      " |-- image_path_sparse: vector (nullable = true)\n",
      " |-- parent_image_path_sparse: vector (nullable = true)\n",
      " |-- object_sparse: vector (nullable = true)\n",
      " |-- action_sparse: vector (nullable = true)\n",
      " |-- timestamp_bins_sparse: vector (nullable = true)\n",
      "\n"
     ]
    }
   ],
   "source": [
    "df_join_oh.printSchema()"
   ]
  },
  {
   "cell_type": "code",
   "execution_count": 46,
   "id": "7bd209a0-2876-40fa-ab03-d09360b084e9",
   "metadata": {
    "tags": []
   },
   "outputs": [],
   "source": [
    "#combine relationship\n",
    "df_join_oh = df_join_oh.withColumn('relationship', concat_ws('::',col('relationship')))"
   ]
  },
  {
   "cell_type": "code",
   "execution_count": 47,
   "id": "8f432a10-3ba0-4587-878a-3622d9069136",
   "metadata": {
    "tags": []
   },
   "outputs": [
    {
     "name": "stdout",
     "output_type": "stream",
     "text": [
      "1681263979.3015542\n",
      "2299172\n",
      "count time join: 0.0707082748413086\n"
     ]
    }
   ],
   "source": [
    "#first count onehot\n",
    "start_time = time.time()\n",
    "print(start_time)\n",
    "print(df_join_oh.count())\n",
    "print(\"count time join: \"+ str(time.time() - start_time))"
   ]
  },
  {
   "cell_type": "code",
   "execution_count": 6,
   "id": "0588db93-d609-401c-91b2-93b4d0af9ece",
   "metadata": {
    "tags": []
   },
   "outputs": [
    {
     "name": "stderr",
     "output_type": "stream",
     "text": [
      "/home/ec2-user/anaconda3/envs/python3/lib/python3.10/site-packages/pyspark/sql/pandas/conversion.py:248: FutureWarning: Passing unit-less datetime64 dtype to .astype is deprecated and will raise in a future version. Pass 'datetime64[ns]' instead\n",
      "  series = series.astype(t, copy=False)\n"
     ]
    },
    {
     "data": {
      "text/html": [
       "<div>\n",
       "<style scoped>\n",
       "    .dataframe tbody tr th:only-of-type {\n",
       "        vertical-align: middle;\n",
       "    }\n",
       "\n",
       "    .dataframe tbody tr th {\n",
       "        vertical-align: top;\n",
       "    }\n",
       "\n",
       "    .dataframe thead th {\n",
       "        text-align: right;\n",
       "    }\n",
       "</style>\n",
       "<table border=\"1\" class=\"dataframe\">\n",
       "  <thead>\n",
       "    <tr style=\"text-align: right;\">\n",
       "      <th></th>\n",
       "      <th>Trace</th>\n",
       "      <th>event</th>\n",
       "      <th>src</th>\n",
       "      <th>dst</th>\n",
       "      <th>timestamp</th>\n",
       "      <th>object</th>\n",
       "      <th>action</th>\n",
       "      <th>hostname</th>\n",
       "      <th>user_name</th>\n",
       "      <th>privileges</th>\n",
       "      <th>...</th>\n",
       "      <th>file_path</th>\n",
       "      <th>direction</th>\n",
       "      <th>logon_id</th>\n",
       "      <th>requesting_domain</th>\n",
       "      <th>requesting_user</th>\n",
       "      <th>malicious</th>\n",
       "      <th>file_path_ext</th>\n",
       "      <th>motif</th>\n",
       "      <th>timestamp_bins</th>\n",
       "      <th>relationship</th>\n",
       "    </tr>\n",
       "  </thead>\n",
       "  <tbody>\n",
       "    <tr>\n",
       "      <th>0</th>\n",
       "      <td>1245541090864-4</td>\n",
       "      <td>e1</td>\n",
       "      <td>0005435a-f24d-4abe-9795-ddab0f2d729d</td>\n",
       "      <td>4fc0c60c-ff08-4373-99c7-f3896e96759a</td>\n",
       "      <td>2019-09-23 17:22:43.908</td>\n",
       "      <td>FILE</td>\n",
       "      <td>READ</td>\n",
       "      <td>SysClient0874.systemia.com</td>\n",
       "      <td>None</td>\n",
       "      <td>None</td>\n",
       "      <td>...</td>\n",
       "      <td>\\Device\\HarddiskVolume1\\Program Files\\VMware\\V...</td>\n",
       "      <td>None</td>\n",
       "      <td>None</td>\n",
       "      <td>None</td>\n",
       "      <td>None</td>\n",
       "      <td>0</td>\n",
       "      <td>empty</td>\n",
       "      <td>4</td>\n",
       "      <td>NaN</td>\n",
       "      <td>[0005435a-f24d-4abe-9795-ddab0f2d729d, 4fc0c60...</td>\n",
       "    </tr>\n",
       "  </tbody>\n",
       "</table>\n",
       "<p>1 rows × 23 columns</p>\n",
       "</div>"
      ],
      "text/plain": [
       "             Trace event                                   src  \\\n",
       "0  1245541090864-4    e1  0005435a-f24d-4abe-9795-ddab0f2d729d   \n",
       "\n",
       "                                    dst               timestamp object action  \\\n",
       "0  4fc0c60c-ff08-4373-99c7-f3896e96759a 2019-09-23 17:22:43.908   FILE   READ   \n",
       "\n",
       "                     hostname user_name privileges  ...  \\\n",
       "0  SysClient0874.systemia.com      None       None  ...   \n",
       "\n",
       "                                           file_path direction logon_id  \\\n",
       "0  \\Device\\HarddiskVolume1\\Program Files\\VMware\\V...      None     None   \n",
       "\n",
       "  requesting_domain requesting_user malicious file_path_ext motif  \\\n",
       "0              None            None         0         empty     4   \n",
       "\n",
       "   timestamp_bins                                       relationship  \n",
       "0             NaN  [0005435a-f24d-4abe-9795-ddab0f2d729d, 4fc0c60...  \n",
       "\n",
       "[1 rows x 23 columns]"
      ]
     },
     "execution_count": 6,
     "metadata": {},
     "output_type": "execute_result"
    }
   ],
   "source": [
    "df_join_oh.limit(1).toPandas()"
   ]
  },
  {
   "cell_type": "code",
   "execution_count": 49,
   "id": "65c3e39a-63fc-4f63-8c4a-2e9e881dbbba",
   "metadata": {
    "collapsed": true,
    "jupyter": {
     "outputs_hidden": true
    },
    "tags": []
   },
   "outputs": [
    {
     "data": {
      "text/plain": [
       "{'file_path_ext': ['None',\n",
       "  'empty',\n",
       "  '.dll',\n",
       "  'other',\n",
       "  '.pyc',\n",
       "  '.pf',\n",
       "  '.ini',\n",
       "  '.tmp',\n",
       "  '.exe',\n",
       "  '.bat'],\n",
       " 'image_path': ['svchost.exe',\n",
       "  'other',\n",
       "  'None',\n",
       "  'python.exe',\n",
       "  'System',\n",
       "  'firefox.exe',\n",
       "  'GoogleUpdate.exe',\n",
       "  'cmd.exe',\n",
       "  'backgroundTaskHost.exe',\n",
       "  'conhost.exe',\n",
       "  'csrss.exe',\n",
       "  'Explorer.EXE',\n",
       "  'taskhostw.exe',\n",
       "  'PING.EXE',\n",
       "  'geckodriver.exe',\n",
       "  'CompatTelRunner.exe',\n",
       "  'python.EXE'],\n",
       " 'parent_image_path': ['None',\n",
       "  'svchost.exe',\n",
       "  'other',\n",
       "  'GoogleUpdate.exe',\n",
       "  'conhost.exe',\n",
       "  'cmd.exe',\n",
       "  'csrss.exe'],\n",
       " 'object': ['FILE', 'PROCESS', 'FLOW', 'SHELL'],\n",
       " 'action': ['READ',\n",
       "  'OPEN',\n",
       "  'MODIFY',\n",
       "  'INFO',\n",
       "  'CREATE',\n",
       "  'WRITE',\n",
       "  'DELETE',\n",
       "  'RENAME',\n",
       "  'COMMAND'],\n",
       " 'timestamp_bins': ['0.0', '1.0', '2.0', '4.0', '3.0']}"
      ]
     },
     "execution_count": 49,
     "metadata": {},
     "output_type": "execute_result"
    }
   ],
   "source": [
    "#show dict_map\n",
    "dict_mapping"
   ]
  },
  {
   "cell_type": "code",
   "execution_count": 50,
   "id": "8ff14f84-e193-404b-91bf-e46ab0844cc1",
   "metadata": {
    "tags": []
   },
   "outputs": [
    {
     "name": "stdout",
     "output_type": "stream",
     "text": [
      "1681264516.3864973\n"
     ]
    },
    {
     "name": "stderr",
     "output_type": "stream",
     "text": [
      "                                                                                \r"
     ]
    },
    {
     "name": "stdout",
     "output_type": "stream",
     "text": [
      "write time: 24.21475124359131\n"
     ]
    }
   ],
   "source": [
    "#write this filter for later use\n",
    "#write to parquet and unpersist\n",
    "start_time = time.time()\n",
    "print(start_time)\n",
    "df_join_oh.write.option(\"maxRecordsPerFile\", 300000).mode(\"overwrite\").parquet(f\"{s3_url_trusted}/prod/graph/filters_all/join_oh_enc\")\n",
    "print(\"write time: \"+ str(time.time() - start_time))"
   ]
  },
  {
   "cell_type": "code",
   "execution_count": 8,
   "id": "a6cce5fc-80b9-443e-a00d-bb2443f8bac1",
   "metadata": {
    "tags": []
   },
   "outputs": [
    {
     "data": {
      "text/plain": [
       "DataFrame[Trace: string, event: string, src: string, dst: string, timestamp: timestamp, object: string, action: string, hostname: string, user_name: string, privileges: string, image_path: string, parent_image_path: string, new_path: string, file_path: string, direction: string, logon_id: string, requesting_domain: string, requesting_user: string, malicious: int, file_path_ext: string, motif: int, timestamp_bins: double, relationship: array<string>]"
      ]
     },
     "execution_count": 8,
     "metadata": {},
     "output_type": "execute_result"
    }
   ],
   "source": [
    "#clear what you don't need\n",
    "#dict_mapping.clear()\n",
    "df_join_oh.unpersist()"
   ]
  },
  {
   "cell_type": "markdown",
   "id": "571047cc-0811-461a-b09b-6061e02aa908",
   "metadata": {},
   "source": [
    "### Read in trace six and start the encoding process. "
   ]
  },
  {
   "cell_type": "markdown",
   "id": "db1f41b3-9792-43ed-ae30-6f00b497bdaa",
   "metadata": {
    "tags": []
   },
   "source": [
    "#### Split motif 6 into quarters and write into S3. "
   ]
  },
  {
   "cell_type": "code",
   "execution_count": 1,
   "id": "60be5df7-6577-4f13-84a8-2852de9c47eb",
   "metadata": {
    "collapsed": true,
    "jupyter": {
     "outputs_hidden": true
    },
    "tags": []
   },
   "outputs": [
    {
     "name": "stderr",
     "output_type": "stream",
     "text": [
      "Warning: Ignoring non-Spark config property: fs.s3a.access.key\n",
      "Warning: Ignoring non-Spark config property: fs.s3a.secret.key\n"
     ]
    },
    {
     "name": "stdout",
     "output_type": "stream",
     "text": [
      ":: loading settings :: url = jar:file:/home/ec2-user/anaconda3/envs/python3/lib/python3.10/site-packages/pyspark/jars/ivy-2.5.0.jar!/org/apache/ivy/core/settings/ivysettings.xml\n"
     ]
    },
    {
     "name": "stderr",
     "output_type": "stream",
     "text": [
      "Ivy Default Cache set to: /home/ec2-user/.ivy2/cache\n",
      "The jars for the packages stored in: /home/ec2-user/.ivy2/jars\n",
      "graphframes#graphframes added as a dependency\n",
      ":: resolving dependencies :: org.apache.spark#spark-submit-parent-648a090e-6f7b-4fcb-b7a0-11286cb3d19f;1.0\n",
      "\tconfs: [default]\n",
      "\tfound graphframes#graphframes;0.8.2-spark3.2-s_2.12 in spark-packages\n",
      "\tfound org.slf4j#slf4j-api;1.7.16 in central\n",
      ":: resolution report :: resolve 103ms :: artifacts dl 3ms\n",
      "\t:: modules in use:\n",
      "\tgraphframes#graphframes;0.8.2-spark3.2-s_2.12 from spark-packages in [default]\n",
      "\torg.slf4j#slf4j-api;1.7.16 from central in [default]\n",
      "\t---------------------------------------------------------------------\n",
      "\t|                  |            modules            ||   artifacts   |\n",
      "\t|       conf       | number| search|dwnlded|evicted|| number|dwnlded|\n",
      "\t---------------------------------------------------------------------\n",
      "\t|      default     |   2   |   0   |   0   |   0   ||   2   |   0   |\n",
      "\t---------------------------------------------------------------------\n",
      ":: retrieving :: org.apache.spark#spark-submit-parent-648a090e-6f7b-4fcb-b7a0-11286cb3d19f\n",
      "\tconfs: [default]\n",
      "\t0 artifacts copied, 2 already retrieved (0kB/4ms)\n"
     ]
    },
    {
     "name": "stdout",
     "output_type": "stream",
     "text": [
      "23/04/13 02:46:51 WARN NativeCodeLoader: Unable to load native-hadoop library for your platform... using builtin-java classes where applicable\n"
     ]
    },
    {
     "name": "stderr",
     "output_type": "stream",
     "text": [
      "Setting default log level to \"WARN\".\n",
      "To adjust logging level use sc.setLogLevel(newLevel). For SparkR, use setLogLevel(newLevel).\n"
     ]
    },
    {
     "name": "stdout",
     "output_type": "stream",
     "text": [
      "23/04/13 02:46:51 WARN SparkConf: Note that spark.local.dir will be overridden by the value set by the cluster manager (via SPARK_LOCAL_DIRS in mesos/standalone/kubernetes and LOCAL_DIRS in YARN).\n"
     ]
    }
   ],
   "source": [
    "%run trace_encode.ipynb\n",
    "s3_url_trusted = \"s3a://sapient-bucket-trusted/\""
   ]
  },
  {
   "cell_type": "code",
   "execution_count": 2,
   "id": "26090775-6220-4d5c-a061-f0db689159fb",
   "metadata": {
    "tags": []
   },
   "outputs": [
    {
     "name": "stdout",
     "output_type": "stream",
     "text": [
      "1681354013.0282285\n"
     ]
    },
    {
     "name": "stderr",
     "output_type": "stream",
     "text": [
      "                                                                                \r"
     ]
    },
    {
     "name": "stdout",
     "output_type": "stream",
     "text": [
      "read time 6: 5.514738321304321\n"
     ]
    }
   ],
   "source": [
    "#read in motif6\n",
    "start_time = time.time()\n",
    "print(start_time)\n",
    "motif_6 = spark.read.parquet(f\"{s3_url_trusted}/prod/graph/motifs/filtered/6\").cache()\n",
    "print(\"read time 6: \"+ str(time.time() - start_time))"
   ]
  },
  {
   "cell_type": "code",
   "execution_count": 3,
   "id": "1e54e842-d579-445f-962c-c1715938a4ea",
   "metadata": {
    "tags": []
   },
   "outputs": [
    {
     "name": "stdout",
     "output_type": "stream",
     "text": [
      "1681354018.547565\n"
     ]
    },
    {
     "name": "stderr",
     "output_type": "stream",
     "text": [
      "[Stage 1:======================================================>(182 + 1) / 183]\r"
     ]
    },
    {
     "name": "stdout",
     "output_type": "stream",
     "text": [
      "766213434\n",
      "count time m6: 300.44925022125244\n"
     ]
    },
    {
     "name": "stderr",
     "output_type": "stream",
     "text": [
      "                                                                                \r"
     ]
    }
   ],
   "source": [
    "#first count onehot\n",
    "start_time = time.time()\n",
    "print(start_time)\n",
    "print(motif_6.count())\n",
    "print(\"count time m6: \"+ str(time.time() - start_time))"
   ]
  },
  {
   "cell_type": "code",
   "execution_count": 4,
   "id": "f71b39dc-b987-4062-b2b5-37b6b8deabc8",
   "metadata": {
    "tags": []
   },
   "outputs": [
    {
     "name": "stdout",
     "output_type": "stream",
     "text": [
      "1681354319.0027528\n",
      "split time: 0.07036209106445312\n"
     ]
    }
   ],
   "source": [
    "#grab distinct traces. \n",
    "start_time = time.time()\n",
    "print(start_time)\n",
    "splits = motif_6.select('Trace').distinct().randomSplit([.25, .25, .25, .25], 42)\n",
    "print(\"split time: \"+ str(time.time() - start_time))"
   ]
  },
  {
   "cell_type": "code",
   "execution_count": 5,
   "id": "c18e1a53-0760-4bd2-be3a-002a550ef992",
   "metadata": {
    "tags": []
   },
   "outputs": [
    {
     "name": "stdout",
     "output_type": "stream",
     "text": [
      "1681354319.0774043\n"
     ]
    },
    {
     "name": "stderr",
     "output_type": "stream",
     "text": [
      "[Stage 6:=======================================================> (33 + 1) / 34]\r"
     ]
    },
    {
     "name": "stdout",
     "output_type": "stream",
     "text": [
      "31924209\n",
      "count: 19.311486959457397\n"
     ]
    },
    {
     "name": "stderr",
     "output_type": "stream",
     "text": [
      "                                                                                \r"
     ]
    }
   ],
   "source": [
    "#now count each one and write to S3\n",
    "#grab distinct traces. \n",
    "start_time = time.time()\n",
    "print(start_time)\n",
    "print(splits[0].count())\n",
    "print(\"count: \"+ str(time.time() - start_time))"
   ]
  },
  {
   "cell_type": "code",
   "execution_count": 6,
   "id": "d8726863-033a-4251-9e96-85ad983458fd",
   "metadata": {
    "tags": []
   },
   "outputs": [
    {
     "name": "stdout",
     "output_type": "stream",
     "text": [
      "1681354338.394129\n"
     ]
    },
    {
     "name": "stderr",
     "output_type": "stream",
     "text": [
      "[Stage 12:======================================================> (33 + 1) / 34]\r"
     ]
    },
    {
     "name": "stdout",
     "output_type": "stream",
     "text": [
      "31916718\n",
      "count: 17.87901997566223\n"
     ]
    },
    {
     "name": "stderr",
     "output_type": "stream",
     "text": [
      "                                                                                \r"
     ]
    }
   ],
   "source": [
    "#now count each one and write to S3\n",
    "#grab distinct traces. \n",
    "start_time = time.time()\n",
    "print(start_time)\n",
    "print(splits[1].count())\n",
    "print(\"count: \"+ str(time.time() - start_time))"
   ]
  },
  {
   "cell_type": "code",
   "execution_count": 7,
   "id": "340f6e73-8f00-45aa-bdba-f34cf888f5b2",
   "metadata": {
    "tags": []
   },
   "outputs": [
    {
     "name": "stdout",
     "output_type": "stream",
     "text": [
      "1681354356.2778778\n"
     ]
    },
    {
     "name": "stderr",
     "output_type": "stream",
     "text": [
      "[Stage 18:======================================================> (33 + 1) / 34]\r"
     ]
    },
    {
     "name": "stdout",
     "output_type": "stream",
     "text": [
      "31926117\n",
      "count: 17.895513772964478\n"
     ]
    },
    {
     "name": "stderr",
     "output_type": "stream",
     "text": [
      "                                                                                \r"
     ]
    }
   ],
   "source": [
    "#now count each one and write to S3\n",
    "#grab distinct traces. \n",
    "start_time = time.time()\n",
    "print(start_time)\n",
    "print(splits[2].count())\n",
    "print(\"count: \"+ str(time.time() - start_time))"
   ]
  },
  {
   "cell_type": "code",
   "execution_count": 8,
   "id": "6169aa95-2d99-4bc5-8b88-1b708c891883",
   "metadata": {
    "tags": []
   },
   "outputs": [
    {
     "name": "stdout",
     "output_type": "stream",
     "text": [
      "1681354374.1778948\n"
     ]
    },
    {
     "name": "stderr",
     "output_type": "stream",
     "text": [
      "[Stage 24:======================================================> (33 + 1) / 34]\r"
     ]
    },
    {
     "name": "stdout",
     "output_type": "stream",
     "text": [
      "31935195\n",
      "count: 17.744043588638306\n"
     ]
    },
    {
     "name": "stderr",
     "output_type": "stream",
     "text": [
      "                                                                                \r"
     ]
    }
   ],
   "source": [
    "#now count each one and write to S3\n",
    "#grab distinct traces. \n",
    "start_time = time.time()\n",
    "print(start_time)\n",
    "print(splits[3].count())\n",
    "print(\"count: \"+ str(time.time() - start_time))"
   ]
  },
  {
   "cell_type": "code",
   "execution_count": 9,
   "id": "a9e09ea4-e3eb-43a4-aaab-eb7b5a36682c",
   "metadata": {
    "tags": []
   },
   "outputs": [
    {
     "name": "stdout",
     "output_type": "stream",
     "text": [
      "split time: 0.024806976318359375\n"
     ]
    }
   ],
   "source": [
    "#now, union 3 dfs\n",
    "start_time = time.time()\n",
    "split_61 = splits[1].union(splits[2]).union(splits[3])\n",
    "print(\"split time: \"+ str(time.time() - start_time))"
   ]
  },
  {
   "cell_type": "code",
   "execution_count": 10,
   "id": "bd234dd2-8359-4779-8dc9-87d01fc22a42",
   "metadata": {
    "tags": []
   },
   "outputs": [
    {
     "name": "stdout",
     "output_type": "stream",
     "text": [
      "1681354391.9565582\n"
     ]
    },
    {
     "name": "stderr",
     "output_type": "stream",
     "text": [
      "[Stage 34:==========================================>            (35 + 10) / 45]\r"
     ]
    },
    {
     "name": "stdout",
     "output_type": "stream",
     "text": [
      "95770551\n",
      "count: 51.540607929229736\n"
     ]
    },
    {
     "name": "stderr",
     "output_type": "stream",
     "text": [
      "                                                                                \r"
     ]
    }
   ],
   "source": [
    "#count\n",
    "start_time = time.time()\n",
    "print(start_time)\n",
    "print(split_61.count())\n",
    "print(\"count: \"+ str(time.time() - start_time))"
   ]
  },
  {
   "cell_type": "code",
   "execution_count": 33,
   "id": "292dcdb0-1e21-4143-9ac6-b756203fa9bd",
   "metadata": {
    "collapsed": true,
    "jupyter": {
     "outputs_hidden": true
    },
    "tags": []
   },
   "outputs": [
    {
     "name": "stderr",
     "output_type": "stream",
     "text": [
      "[Stage 81:>                                                         (0 + 1) / 1]\r"
     ]
    },
    {
     "name": "stdout",
     "output_type": "stream",
     "text": [
      "+--------+\n",
      "|   Trace|\n",
      "+--------+\n",
      "|100042-6|\n",
      "|100137-6|\n",
      "|100145-6|\n",
      "|100186-6|\n",
      "|100242-6|\n",
      "+--------+\n",
      "\n"
     ]
    },
    {
     "name": "stderr",
     "output_type": "stream",
     "text": [
      "                                                                                \r"
     ]
    }
   ],
   "source": [
    "split_61.limit(5).show()"
   ]
  },
  {
   "cell_type": "code",
   "execution_count": 12,
   "id": "76008a7f-47f5-459a-8957-e4a77f3b8545",
   "metadata": {
    "tags": []
   },
   "outputs": [],
   "source": [
    "filter_trace = splits[0].select(\"Trace\")"
   ]
  },
  {
   "cell_type": "code",
   "execution_count": 19,
   "id": "96da501d-6438-4b03-a213-4eca4272b1d1",
   "metadata": {
    "tags": []
   },
   "outputs": [
    {
     "name": "stdout",
     "output_type": "stream",
     "text": [
      "1681355588.2900038\n",
      "inner join: 0.016067981719970703\n"
     ]
    }
   ],
   "source": [
    "start = time.time()\n",
    "print(start)\n",
    "motif_6_1 = motif_6.join(broadcast(filter_trace), motif_6.Trace == filter_trace.Trace)\n",
    "print(\"inner join: \"+ str(time.time() - start))"
   ]
  },
  {
   "cell_type": "code",
   "execution_count": null,
   "id": "a0429c46-609e-4b06-a4f4-7681be8096c9",
   "metadata": {
    "tags": []
   },
   "outputs": [],
   "source": [
    "#now left anit join for split 6-1\n",
    "start = time.time()\n",
    "print(start)\n",
    "motif_6_1 = motif_6.filter(col('Trace').isin(broadcast(splits[0].Trace)))\n",
    "print(\"antijoin: \"+ str(time.time() - start))"
   ]
  },
  {
   "cell_type": "code",
   "execution_count": 36,
   "id": "c715294d-d9c5-4a39-ac9c-57d087a8452e",
   "metadata": {
    "tags": []
   },
   "outputs": [
    {
     "name": "stdout",
     "output_type": "stream",
     "text": [
      "1681353953.163909\n",
      "antijoin: 0.020625829696655273\n"
     ]
    }
   ],
   "source": [
    "#now left anit join for split 6-1\n",
    "start = time.time()\n",
    "print(start)\n",
    "motif_6_1 = motif_6.join(broadcast(split_61), [\"Trace\"], \"leftanti\").cache()\n",
    "print(\"antijoin: \"+ str(time.time() - start))"
   ]
  },
  {
   "cell_type": "code",
   "execution_count": 20,
   "id": "b8d1b15b-ac34-452b-b783-c4409f4443fb",
   "metadata": {
    "tags": []
   },
   "outputs": [
    {
     "name": "stdout",
     "output_type": "stream",
     "text": [
      "1681355606.1192946\n"
     ]
    },
    {
     "name": "stderr",
     "output_type": "stream",
     "text": [
      "[Stage 53:===================================================>  (176 + 7) / 183]\r"
     ]
    },
    {
     "name": "stdout",
     "output_type": "stream",
     "text": [
      "191545254\n",
      "count: 113.22172784805298\n"
     ]
    },
    {
     "name": "stderr",
     "output_type": "stream",
     "text": [
      "                                                                                \r"
     ]
    }
   ],
   "source": [
    "#count\n",
    "start_time = time.time()\n",
    "print(start_time)\n",
    "print(motif_6_1.count())\n",
    "print(\"count: \"+ str(time.time() - start_time))"
   ]
  },
  {
   "cell_type": "code",
   "execution_count": 26,
   "id": "8dadb19a-f10a-4303-bfa9-8f2613c6b198",
   "metadata": {
    "collapsed": true,
    "jupyter": {
     "outputs_hidden": true
    },
    "tags": []
   },
   "outputs": [
    {
     "name": "stdout",
     "output_type": "stream",
     "text": [
      "root\n",
      " |-- Trace: string (nullable = true)\n",
      " |-- event: string (nullable = true)\n",
      " |-- src: string (nullable = true)\n",
      " |-- dst: string (nullable = true)\n",
      " |-- timestamp: timestamp (nullable = true)\n",
      " |-- object: string (nullable = true)\n",
      " |-- action: string (nullable = true)\n",
      " |-- hostname: string (nullable = true)\n",
      " |-- user_name: string (nullable = true)\n",
      " |-- privileges: string (nullable = true)\n",
      " |-- image_path: string (nullable = true)\n",
      " |-- parent_image_path: string (nullable = true)\n",
      " |-- new_path: string (nullable = true)\n",
      " |-- file_path: string (nullable = true)\n",
      " |-- direction: string (nullable = true)\n",
      " |-- logon_id: string (nullable = true)\n",
      " |-- requesting_domain: string (nullable = true)\n",
      " |-- requesting_user: string (nullable = true)\n",
      " |-- malicious: integer (nullable = true)\n",
      " |-- file_path_ext: string (nullable = true)\n",
      " |-- motif: integer (nullable = true)\n",
      " |-- timestamp_bins: double (nullable = true)\n",
      " |-- Trace: string (nullable = true)\n",
      "\n"
     ]
    }
   ],
   "source": [
    "motif_6_1.printSchema()"
   ]
  },
  {
   "cell_type": "code",
   "execution_count": 27,
   "id": "32abd27b-6b0b-424d-91f9-c9fd73432f2e",
   "metadata": {
    "tags": []
   },
   "outputs": [],
   "source": [
    "motif_6_1 = motif_6_1.toDF(\"Trace\", \"event\",\n",
    "                           'src','dst','timestamp',\n",
    "                          'object','action','hostname','user_name','privileges',\n",
    "                          'image_path','parent_image_path','new_path','file_path','direction','logon_id','requesting_domain',\n",
    "                          'requesting_user','malicious','file_path_ext','motif','timestamp_bins','Trace2')"
   ]
  },
  {
   "cell_type": "code",
   "execution_count": 28,
   "id": "a068b339-a30d-420a-95fb-0731309bdf62",
   "metadata": {
    "tags": []
   },
   "outputs": [
    {
     "name": "stdout",
     "output_type": "stream",
     "text": [
      "1681356493.8392742\n"
     ]
    },
    {
     "name": "stderr",
     "output_type": "stream",
     "text": [
      "[Stage 63:===================================================>  (176 + 7) / 183]\r"
     ]
    },
    {
     "name": "stdout",
     "output_type": "stream",
     "text": [
      "191545254\n",
      "count: 98.75374507904053\n"
     ]
    },
    {
     "name": "stderr",
     "output_type": "stream",
     "text": [
      "                                                                                \r"
     ]
    }
   ],
   "source": [
    "#count\n",
    "start_time = time.time()\n",
    "print(start_time)\n",
    "print(motif_6_1.count())\n",
    "print(\"count: \"+ str(time.time() - start_time))"
   ]
  },
  {
   "cell_type": "code",
   "execution_count": 29,
   "id": "84d6fc20-6ec9-47c7-ae1d-0005acf3f615",
   "metadata": {
    "tags": []
   },
   "outputs": [
    {
     "name": "stdout",
     "output_type": "stream",
     "text": [
      "1681356592.5977156\n"
     ]
    },
    {
     "name": "stderr",
     "output_type": "stream",
     "text": [
      "                                                                                \r"
     ]
    },
    {
     "name": "stdout",
     "output_type": "stream",
     "text": [
      "write time: 549.1572496891022\n"
     ]
    }
   ],
   "source": [
    "#write to parquet and unpersist\n",
    "start_time = time.time()\n",
    "print(start_time)\n",
    "motif_6_1.write.option(\"maxRecordsPerFile\", 300000).mode(\"overwrite\").parquet(f\"{s3_url_trusted}/prod/graph/motif-subs/6-1\")\n",
    "print(\"write time: \"+ str(time.time() - start_time))"
   ]
  },
  {
   "cell_type": "code",
   "execution_count": 30,
   "id": "bb61994b-7bdc-4b01-9484-ea51d121c92a",
   "metadata": {
    "tags": []
   },
   "outputs": [
    {
     "data": {
      "text/plain": [
       "DataFrame[Trace: string, event: string, src: string, dst: string, timestamp: timestamp, object: string, action: string, hostname: string, user_name: string, privileges: string, image_path: string, parent_image_path: string, new_path: string, file_path: string, direction: string, logon_id: string, requesting_domain: string, requesting_user: string, malicious: int, file_path_ext: string, motif: int, timestamp_bins: double, Trace2: string]"
      ]
     },
     "execution_count": 30,
     "metadata": {},
     "output_type": "execute_result"
    }
   ],
   "source": [
    "motif_6_1.unpersist()"
   ]
  },
  {
   "cell_type": "code",
   "execution_count": 31,
   "id": "b56c54f1-c4f3-4c4f-8380-432824876c4f",
   "metadata": {
    "tags": []
   },
   "outputs": [
    {
     "data": {
      "text/plain": [
       "DataFrame[Trace: string]"
      ]
     },
     "execution_count": 31,
     "metadata": {},
     "output_type": "execute_result"
    }
   ],
   "source": [
    "splits[0].unpersist()"
   ]
  },
  {
   "cell_type": "code",
   "execution_count": 32,
   "id": "5a2ea2d3-f867-45d9-932c-1dd0cd092fef",
   "metadata": {
    "tags": []
   },
   "outputs": [
    {
     "data": {
      "text/plain": [
       "DataFrame[Trace: string]"
      ]
     },
     "execution_count": 32,
     "metadata": {},
     "output_type": "execute_result"
    }
   ],
   "source": [
    "split_61.unpersist()"
   ]
  },
  {
   "cell_type": "code",
   "execution_count": 33,
   "id": "0b74a722-ccab-42be-8074-eba3660aebc2",
   "metadata": {
    "tags": []
   },
   "outputs": [],
   "source": [
    "#now do 6-2\n",
    "filter_trace = splits[1].select(\"Trace\").cache()"
   ]
  },
  {
   "cell_type": "code",
   "execution_count": 34,
   "id": "3e27037f-83e0-47d0-acef-6a3f9dcbf934",
   "metadata": {
    "tags": []
   },
   "outputs": [
    {
     "name": "stdout",
     "output_type": "stream",
     "text": [
      "1681357141.8116884\n",
      "inner join: 0.03121209144592285\n"
     ]
    }
   ],
   "source": [
    "start = time.time()\n",
    "print(start)\n",
    "motif_6_2 = motif_6.join(broadcast(filter_trace),['Trace'] ,'inner').cache()\n",
    "print(\"inner join: \"+ str(time.time() - start))"
   ]
  },
  {
   "cell_type": "code",
   "execution_count": 35,
   "id": "6fc46e77-cdeb-48bf-92b7-b00456dd664d",
   "metadata": {
    "tags": []
   },
   "outputs": [
    {
     "name": "stdout",
     "output_type": "stream",
     "text": [
      "1681357141.8470972\n"
     ]
    },
    {
     "name": "stderr",
     "output_type": "stream",
     "text": [
      "[Stage 72:=====================================================>(182 + 1) / 183]\r"
     ]
    },
    {
     "name": "stdout",
     "output_type": "stream",
     "text": [
      "191521374\n",
      "count: 213.85586023330688\n"
     ]
    },
    {
     "name": "stderr",
     "output_type": "stream",
     "text": [
      "                                                                                \r"
     ]
    }
   ],
   "source": [
    "#count\n",
    "start_time = time.time()\n",
    "print(start_time)\n",
    "print(motif_6_2.count())\n",
    "print(\"count: \"+ str(time.time() - start_time))"
   ]
  },
  {
   "cell_type": "code",
   "execution_count": 36,
   "id": "535342ed-e20d-488d-9a9f-bda6a77f040e",
   "metadata": {
    "collapsed": true,
    "jupyter": {
     "outputs_hidden": true
    },
    "tags": []
   },
   "outputs": [
    {
     "name": "stdout",
     "output_type": "stream",
     "text": [
      "root\n",
      " |-- Trace: string (nullable = true)\n",
      " |-- event: string (nullable = true)\n",
      " |-- src: string (nullable = true)\n",
      " |-- dst: string (nullable = true)\n",
      " |-- timestamp: timestamp (nullable = true)\n",
      " |-- object: string (nullable = true)\n",
      " |-- action: string (nullable = true)\n",
      " |-- hostname: string (nullable = true)\n",
      " |-- user_name: string (nullable = true)\n",
      " |-- privileges: string (nullable = true)\n",
      " |-- image_path: string (nullable = true)\n",
      " |-- parent_image_path: string (nullable = true)\n",
      " |-- new_path: string (nullable = true)\n",
      " |-- file_path: string (nullable = true)\n",
      " |-- direction: string (nullable = true)\n",
      " |-- logon_id: string (nullable = true)\n",
      " |-- requesting_domain: string (nullable = true)\n",
      " |-- requesting_user: string (nullable = true)\n",
      " |-- malicious: integer (nullable = true)\n",
      " |-- file_path_ext: string (nullable = true)\n",
      " |-- motif: integer (nullable = true)\n",
      " |-- timestamp_bins: double (nullable = true)\n",
      "\n"
     ]
    }
   ],
   "source": [
    "motif_6_2.printSchema()"
   ]
  },
  {
   "cell_type": "code",
   "execution_count": 37,
   "id": "4995d5c8-bf1a-4daa-88e6-640ce252a640",
   "metadata": {
    "tags": []
   },
   "outputs": [
    {
     "name": "stdout",
     "output_type": "stream",
     "text": [
      "1681357541.0932312\n"
     ]
    },
    {
     "name": "stderr",
     "output_type": "stream",
     "text": [
      "                                                                                \r"
     ]
    },
    {
     "name": "stdout",
     "output_type": "stream",
     "text": [
      "write time: 507.204354763031\n"
     ]
    }
   ],
   "source": [
    "#write to parquet and unpersist\n",
    "start_time = time.time()\n",
    "print(start_time)\n",
    "motif_6_2.write.option(\"maxRecordsPerFile\", 300000).mode(\"overwrite\").parquet(f\"{s3_url_trusted}/prod/graph/motif-subs/6-2\")\n",
    "print(\"write time: \"+ str(time.time() - start_time))"
   ]
  },
  {
   "cell_type": "code",
   "execution_count": 38,
   "id": "05a24f4d-2b70-4fc7-b93b-6160d2153776",
   "metadata": {
    "tags": []
   },
   "outputs": [
    {
     "data": {
      "text/plain": [
       "DataFrame[Trace: string]"
      ]
     },
     "execution_count": 38,
     "metadata": {},
     "output_type": "execute_result"
    }
   ],
   "source": [
    "motif_6_2.unpersist()\n",
    "splits[1].unpersist()"
   ]
  },
  {
   "cell_type": "code",
   "execution_count": 39,
   "id": "aea99254-3160-4708-929c-509ada301d48",
   "metadata": {
    "tags": []
   },
   "outputs": [],
   "source": [
    "#now do 6-3\n",
    "filter_trace = splits[2].select(\"Trace\").cache()"
   ]
  },
  {
   "cell_type": "code",
   "execution_count": 40,
   "id": "22bbffb9-d8bf-4943-adbf-2b349493257b",
   "metadata": {
    "tags": []
   },
   "outputs": [
    {
     "name": "stdout",
     "output_type": "stream",
     "text": [
      "1681358048.359222\n",
      "inner join: 0.0263979434967041\n"
     ]
    }
   ],
   "source": [
    "start = time.time()\n",
    "print(start)\n",
    "motif_6_3 = motif_6.join(broadcast(filter_trace),['Trace'] ,'inner').cache()\n",
    "print(\"inner join: \"+ str(time.time() - start))"
   ]
  },
  {
   "cell_type": "code",
   "execution_count": 41,
   "id": "ab19098b-a9f5-47cb-97d2-1d2c09c4aa9a",
   "metadata": {
    "tags": []
   },
   "outputs": [
    {
     "name": "stdout",
     "output_type": "stream",
     "text": [
      "1681358048.3898547\n"
     ]
    },
    {
     "name": "stderr",
     "output_type": "stream",
     "text": [
      "[Stage 78:=====================================================>(180 + 3) / 183]\r"
     ]
    },
    {
     "name": "stdout",
     "output_type": "stream",
     "text": [
      "191521290\n",
      "count: 182.17591643333435\n"
     ]
    },
    {
     "name": "stderr",
     "output_type": "stream",
     "text": [
      "                                                                                \r"
     ]
    }
   ],
   "source": [
    "#count\n",
    "start_time = time.time()\n",
    "print(start_time)\n",
    "print(motif_6_3.count())\n",
    "print(\"count: \"+ str(time.time() - start_time))"
   ]
  },
  {
   "cell_type": "code",
   "execution_count": 42,
   "id": "49beb7e4-a004-4f1d-82d7-f739c0b54d78",
   "metadata": {
    "tags": []
   },
   "outputs": [
    {
     "name": "stdout",
     "output_type": "stream",
     "text": [
      "1681358230.5704741\n"
     ]
    },
    {
     "name": "stderr",
     "output_type": "stream",
     "text": [
      "                                                                                \r"
     ]
    },
    {
     "name": "stdout",
     "output_type": "stream",
     "text": [
      "write time: 529.6540560722351\n"
     ]
    }
   ],
   "source": [
    "#write to parquet and unpersist\n",
    "start_time = time.time()\n",
    "print(start_time)\n",
    "motif_6_3.write.option(\"maxRecordsPerFile\", 300000).mode(\"overwrite\").parquet(f\"{s3_url_trusted}/prod/graph/motif-subs/6-3\")\n",
    "print(\"write time: \"+ str(time.time() - start_time))"
   ]
  },
  {
   "cell_type": "code",
   "execution_count": 43,
   "id": "ecc35863-1e87-4b82-a8e5-cce51339e78b",
   "metadata": {
    "tags": []
   },
   "outputs": [
    {
     "data": {
      "text/plain": [
       "DataFrame[Trace: string]"
      ]
     },
     "execution_count": 43,
     "metadata": {},
     "output_type": "execute_result"
    }
   ],
   "source": [
    "motif_6_3.unpersist()\n",
    "splits[2].unpersist()"
   ]
  },
  {
   "cell_type": "code",
   "execution_count": 44,
   "id": "a168ad85-7742-44e8-9fc1-defe43dcf702",
   "metadata": {
    "tags": []
   },
   "outputs": [],
   "source": [
    "#now do 6-4\n",
    "filter_trace = splits[3].select(\"Trace\").cache()"
   ]
  },
  {
   "cell_type": "code",
   "execution_count": 45,
   "id": "1912eb38-796e-4495-bcbc-e84120ed6678",
   "metadata": {
    "tags": []
   },
   "outputs": [
    {
     "name": "stdout",
     "output_type": "stream",
     "text": [
      "1681358760.269228\n",
      "inner join: 0.024412870407104492\n"
     ]
    }
   ],
   "source": [
    "start = time.time()\n",
    "print(start)\n",
    "motif_6_4 = motif_6.join(broadcast(filter_trace),['Trace'] ,'inner').cache()\n",
    "print(\"inner join: \"+ str(time.time() - start))"
   ]
  },
  {
   "cell_type": "code",
   "execution_count": null,
   "id": "6ec4493f-c51d-42b2-a1e7-963b3a166351",
   "metadata": {},
   "outputs": [],
   "source": [
    "splits[3].limit(5).show()"
   ]
  },
  {
   "cell_type": "code",
   "execution_count": null,
   "id": "4a7b6513-b17a-4ce7-bd4a-32e557258508",
   "metadata": {
    "tags": []
   },
   "outputs": [
    {
     "name": "stderr",
     "output_type": "stream",
     "text": [
      "                                                                                \r"
     ]
    }
   ],
   "source": [
    "#count\n",
    "start_time = time.time()\n",
    "print(start_time)\n",
    "print(motif_6_4.count())\n",
    "print(\"count: \"+ str(time.time() - start_time))"
   ]
  },
  {
   "cell_type": "code",
   "execution_count": 47,
   "id": "43a7b375-d944-4149-a9f4-2c0dd6f88ac0",
   "metadata": {
    "tags": []
   },
   "outputs": [
    {
     "name": "stdout",
     "output_type": "stream",
     "text": [
      "1681358949.682862\n"
     ]
    },
    {
     "name": "stderr",
     "output_type": "stream",
     "text": [
      "                                                                                \r"
     ]
    },
    {
     "name": "stdout",
     "output_type": "stream",
     "text": [
      "write time: 502.7249984741211\n"
     ]
    }
   ],
   "source": [
    "#write to parquet and unpersist\n",
    "start_time = time.time()\n",
    "print(start_time)\n",
    "motif_6_4.write.option(\"maxRecordsPerFile\", 300000).mode(\"overwrite\").parquet(f\"{s3_url_trusted}/prod/graph/motif-subs/6-4\")\n",
    "print(\"write time: \"+ str(time.time() - start_time))"
   ]
  },
  {
   "cell_type": "code",
   "execution_count": 48,
   "id": "0bfeefed-c279-477f-941e-f88434a9e22f",
   "metadata": {
    "tags": []
   },
   "outputs": [],
   "source": [
    "motif_6_4.unpersist()\n",
    "splits[3].unpersist()\n",
    "motif_6.unpersist()\n",
    "splits.clear()"
   ]
  },
  {
   "cell_type": "markdown",
   "id": "3b13083c-26db-4f2e-9085-bc3aaea04aff",
   "metadata": {
    "tags": []
   },
   "source": [
    "#### Motif 6: Start with 2"
   ]
  },
  {
   "cell_type": "code",
   "execution_count": 9,
   "id": "05d256b5-ded9-4cec-aaec-693d459798c4",
   "metadata": {
    "collapsed": true,
    "jupyter": {
     "outputs_hidden": true
    },
    "tags": []
   },
   "outputs": [],
   "source": [
    "%run trace_encode.ipynb\n",
    "s3_url_trusted = \"s3a://sapient-bucket-trusted/\""
   ]
  },
  {
   "cell_type": "code",
   "execution_count": 4,
   "id": "87e17c7d-21a0-4fc0-a8f8-1ce9b3fd04ec",
   "metadata": {
    "tags": []
   },
   "outputs": [
    {
     "name": "stdout",
     "output_type": "stream",
     "text": [
      "1681361159.2555141\n",
      "read time: 2.9028491973876953\n"
     ]
    }
   ],
   "source": [
    "#read in motif6\n",
    "start_time = time.time()\n",
    "print(start_time)\n",
    "motif_6_2 = spark.read.parquet(f\"{s3_url_trusted}/prod/graph/motif-subs/6-2\").cache()\n",
    "print(\"read time: \"+ str(time.time() - start_time))"
   ]
  },
  {
   "cell_type": "code",
   "execution_count": 5,
   "id": "c266fa8b-5817-476b-a94f-cf2507642bf7",
   "metadata": {
    "tags": []
   },
   "outputs": [
    {
     "name": "stdout",
     "output_type": "stream",
     "text": [
      "1681361169.427934\n"
     ]
    },
    {
     "name": "stderr",
     "output_type": "stream",
     "text": [
      "[Stage 2:=======================================================> (51 + 1) / 52]\r"
     ]
    },
    {
     "name": "stdout",
     "output_type": "stream",
     "text": [
      "191521374\n",
      "count time m6: 93.42988872528076\n"
     ]
    },
    {
     "name": "stderr",
     "output_type": "stream",
     "text": [
      "                                                                                \r"
     ]
    }
   ],
   "source": [
    "#first count onehot\n",
    "start_time = time.time()\n",
    "print(start_time)\n",
    "print(motif_6_2.count())\n",
    "print(\"count time m6: \"+ str(time.time() - start_time))"
   ]
  },
  {
   "cell_type": "markdown",
   "id": "1783e9ec-f92e-444a-9261-f68042a86361",
   "metadata": {},
   "source": [
    "##### One-Hot with broadcast join.  "
   ]
  },
  {
   "cell_type": "code",
   "execution_count": 6,
   "id": "7d96b752-af40-476d-9223-8f0408836697",
   "metadata": {
    "tags": []
   },
   "outputs": [
    {
     "name": "stdout",
     "output_type": "stream",
     "text": [
      "1681361262.862513\n",
      "read join oh: 0.395998477935791\n"
     ]
    }
   ],
   "source": [
    "#read in motif6\n",
    "start_time = time.time()\n",
    "print(start_time)\n",
    "df_join_oh = spark.read.parquet(f\"{s3_url_trusted}/prod/graph/filters_all/join_oh_enc\").cache()\n",
    "print(\"read join oh: \"+ str(time.time() - start_time))"
   ]
  },
  {
   "cell_type": "code",
   "execution_count": 8,
   "id": "0e80fc18-5c4f-4bfc-afb0-e22b737e55b1",
   "metadata": {
    "tags": []
   },
   "outputs": [
    {
     "name": "stdout",
     "output_type": "stream",
     "text": [
      "1681361268.175701\n",
      "2299172\n",
      "count join oh: 0.08635616302490234\n"
     ]
    }
   ],
   "source": [
    "#first count onehot\n",
    "start_time = time.time()\n",
    "print(start_time)\n",
    "print(df_join_oh.count())\n",
    "print(\"count join oh: \"+ str(time.time() - start_time))"
   ]
  },
  {
   "cell_type": "code",
   "execution_count": 9,
   "id": "4cca846a-62f4-458d-ad20-84adbeb250ea",
   "metadata": {
    "tags": []
   },
   "outputs": [
    {
     "name": "stdout",
     "output_type": "stream",
     "text": [
      "root\n",
      " |-- Trace: string (nullable = true)\n",
      " |-- event: string (nullable = true)\n",
      " |-- src: string (nullable = true)\n",
      " |-- dst: string (nullable = true)\n",
      " |-- timestamp: timestamp (nullable = true)\n",
      " |-- object: string (nullable = true)\n",
      " |-- action: string (nullable = true)\n",
      " |-- hostname: string (nullable = true)\n",
      " |-- user_name: string (nullable = true)\n",
      " |-- privileges: string (nullable = true)\n",
      " |-- image_path: string (nullable = true)\n",
      " |-- parent_image_path: string (nullable = true)\n",
      " |-- new_path: string (nullable = true)\n",
      " |-- file_path: string (nullable = true)\n",
      " |-- direction: string (nullable = true)\n",
      " |-- logon_id: string (nullable = true)\n",
      " |-- requesting_domain: string (nullable = true)\n",
      " |-- requesting_user: string (nullable = true)\n",
      " |-- malicious: integer (nullable = true)\n",
      " |-- file_path_ext: string (nullable = true)\n",
      " |-- motif: integer (nullable = true)\n",
      " |-- timestamp_bins: double (nullable = true)\n",
      "\n"
     ]
    }
   ],
   "source": [
    "motif_6_2.printSchema()"
   ]
  },
  {
   "cell_type": "code",
   "execution_count": null,
   "id": "f1ee55f0-f70c-4bdf-a854-fd9305a0d399",
   "metadata": {
    "tags": []
   },
   "outputs": [],
   "source": [
    "motif_6_2.limit(1).toPandas()"
   ]
  },
  {
   "cell_type": "code",
   "execution_count": 10,
   "id": "37de66cb-a12f-40fb-a21c-79a553657f60",
   "metadata": {
    "tags": []
   },
   "outputs": [
    {
     "name": "stdout",
     "output_type": "stream",
     "text": [
      "relationship: 0.12168240547180176\n"
     ]
    }
   ],
   "source": [
    "#create relationship for motif_6\n",
    "#now add relationship column and combine\n",
    "start_time = time.time()\n",
    "motif_6_2 = motif_6_2.withColumn(\"relationship\", array(\"src\", \"dst\"))\\\n",
    "                    .withColumn(\"relationship\", concat_ws(\"::\",col(\"relationship\"))).cache()\n",
    "print(\"relationship: \"+ str(time.time() - start_time))"
   ]
  },
  {
   "cell_type": "code",
   "execution_count": 11,
   "id": "695e1f34-2986-404b-9484-77ad5b7ac7ff",
   "metadata": {
    "tags": []
   },
   "outputs": [
    {
     "name": "stdout",
     "output_type": "stream",
     "text": [
      "1681361292.5594885\n"
     ]
    },
    {
     "name": "stderr",
     "output_type": "stream",
     "text": [
      "[Stage 12:====================================================>   (49 + 3) / 52]\r"
     ]
    },
    {
     "name": "stdout",
     "output_type": "stream",
     "text": [
      "191521374\n",
      "count time: 94.43246579170227\n"
     ]
    },
    {
     "name": "stderr",
     "output_type": "stream",
     "text": [
      "                                                                                \r"
     ]
    }
   ],
   "source": [
    "#first count onehot\n",
    "start_time = time.time()\n",
    "print(start_time)\n",
    "print(motif_6_2.count())\n",
    "print(\"count time: \"+ str(time.time() - start_time))"
   ]
  },
  {
   "cell_type": "code",
   "execution_count": 12,
   "id": "aa1fdfb7-a6d6-44d9-b53a-9e94e01f57d7",
   "metadata": {
    "tags": []
   },
   "outputs": [
    {
     "name": "stdout",
     "output_type": "stream",
     "text": [
      "1681361386.9966998\n",
      "join: 0.03528118133544922\n"
     ]
    }
   ],
   "source": [
    "#execute broadcast join and count\n",
    "# Explain broadcast join\n",
    "start_time = time.time()\n",
    "print(start_time)\n",
    "motif_6_2 = motif_6_2.join(broadcast(df_join_oh),[\"relationship\"])\n",
    "print('join: ' + str(time.time()-start_time))"
   ]
  },
  {
   "cell_type": "code",
   "execution_count": 13,
   "id": "46da36d9-bffc-47b9-aaaf-3a13e3355427",
   "metadata": {
    "tags": []
   },
   "outputs": [
    {
     "name": "stdout",
     "output_type": "stream",
     "text": [
      "1681361387.0361595\n"
     ]
    },
    {
     "name": "stderr",
     "output_type": "stream",
     "text": [
      "[Stage 16:================================================>       (45 + 7) / 52]\r"
     ]
    },
    {
     "name": "stdout",
     "output_type": "stream",
     "text": [
      "191521374\n",
      "count time: 17.651797771453857\n"
     ]
    },
    {
     "name": "stderr",
     "output_type": "stream",
     "text": [
      "                                                                                \r"
     ]
    }
   ],
   "source": [
    "#first count onehot\n",
    "start_time = time.time()\n",
    "print(start_time)\n",
    "print(motif_6_2.count())\n",
    "print(\"count time: \"+ str(time.time() - start_time))"
   ]
  },
  {
   "cell_type": "code",
   "execution_count": 12,
   "id": "1e11b4dd-8c71-4684-860c-b7061295870f",
   "metadata": {
    "tags": []
   },
   "outputs": [
    {
     "name": "stderr",
     "output_type": "stream",
     "text": [
      "/home/ec2-user/anaconda3/envs/python3/lib/python3.10/site-packages/pyspark/sql/pandas/conversion.py:248: FutureWarning: Passing unit-less datetime64 dtype to .astype is deprecated and will raise in a future version. Pass 'datetime64[ns]' instead\n",
      "  series = series.astype(t, copy=False)\n"
     ]
    },
    {
     "data": {
      "text/html": [
       "<div>\n",
       "<style scoped>\n",
       "    .dataframe tbody tr th:only-of-type {\n",
       "        vertical-align: middle;\n",
       "    }\n",
       "\n",
       "    .dataframe tbody tr th {\n",
       "        vertical-align: top;\n",
       "    }\n",
       "\n",
       "    .dataframe thead th {\n",
       "        text-align: right;\n",
       "    }\n",
       "</style>\n",
       "<table border=\"1\" class=\"dataframe\">\n",
       "  <thead>\n",
       "    <tr style=\"text-align: right;\">\n",
       "      <th></th>\n",
       "      <th>relationship</th>\n",
       "      <th>Trace</th>\n",
       "      <th>event</th>\n",
       "      <th>src</th>\n",
       "      <th>dst</th>\n",
       "      <th>timestamp</th>\n",
       "      <th>object</th>\n",
       "      <th>action</th>\n",
       "      <th>hostname</th>\n",
       "      <th>user_name</th>\n",
       "      <th>...</th>\n",
       "      <th>file_path_ext</th>\n",
       "      <th>motif</th>\n",
       "      <th>timestamp_bins</th>\n",
       "      <th>Trace2</th>\n",
       "      <th>file_path_ext_sparse</th>\n",
       "      <th>image_path_sparse</th>\n",
       "      <th>parent_image_path_sparse</th>\n",
       "      <th>object_sparse</th>\n",
       "      <th>action_sparse</th>\n",
       "      <th>timestamp_bins_sparse</th>\n",
       "    </tr>\n",
       "  </thead>\n",
       "  <tbody>\n",
       "    <tr>\n",
       "      <th>0</th>\n",
       "      <td>05e6d567-0157-40ef-9661-69fbb76264f1::57060c5f...</td>\n",
       "      <td>1632088059046-6</td>\n",
       "      <td>e1</td>\n",
       "      <td>05e6d567-0157-40ef-9661-69fbb76264f1</td>\n",
       "      <td>57060c5f-266c-491c-a1d6-b91735388a97</td>\n",
       "      <td>2019-09-24 14:57:40.255</td>\n",
       "      <td>FILE</td>\n",
       "      <td>READ</td>\n",
       "      <td>SysClient0771.systemia.com</td>\n",
       "      <td>None</td>\n",
       "      <td>...</td>\n",
       "      <td>.dll</td>\n",
       "      <td>6</td>\n",
       "      <td>NaN</td>\n",
       "      <td>1632088059046-6</td>\n",
       "      <td>(0.0, 0.0, 1.0, 0.0, 0.0, 0.0, 0.0, 0.0, 0.0, ...</td>\n",
       "      <td>(0.0, 0.0, 0.0, 0.0, 0.0, 1.0, 0.0, 0.0, 0.0, ...</td>\n",
       "      <td>(1.0, 0.0, 0.0, 0.0, 0.0, 0.0, 0.0, 0.0)</td>\n",
       "      <td>(1.0, 0.0, 0.0, 0.0, 0.0)</td>\n",
       "      <td>(1.0, 0.0, 0.0, 0.0, 0.0, 0.0, 0.0, 0.0, 0.0, ...</td>\n",
       "      <td>(0.0, 0.0, 0.0, 0.0, 0.0, 1.0)</td>\n",
       "    </tr>\n",
       "  </tbody>\n",
       "</table>\n",
       "<p>1 rows × 30 columns</p>\n",
       "</div>"
      ],
      "text/plain": [
       "                                        relationship            Trace event  \\\n",
       "0  05e6d567-0157-40ef-9661-69fbb76264f1::57060c5f...  1632088059046-6    e1   \n",
       "\n",
       "                                    src                                   dst  \\\n",
       "0  05e6d567-0157-40ef-9661-69fbb76264f1  57060c5f-266c-491c-a1d6-b91735388a97   \n",
       "\n",
       "                timestamp object action                    hostname user_name  \\\n",
       "0 2019-09-24 14:57:40.255   FILE   READ  SysClient0771.systemia.com      None   \n",
       "\n",
       "   ... file_path_ext motif timestamp_bins           Trace2  \\\n",
       "0  ...          .dll     6            NaN  1632088059046-6   \n",
       "\n",
       "                                file_path_ext_sparse  \\\n",
       "0  (0.0, 0.0, 1.0, 0.0, 0.0, 0.0, 0.0, 0.0, 0.0, ...   \n",
       "\n",
       "                                   image_path_sparse  \\\n",
       "0  (0.0, 0.0, 0.0, 0.0, 0.0, 1.0, 0.0, 0.0, 0.0, ...   \n",
       "\n",
       "                   parent_image_path_sparse              object_sparse  \\\n",
       "0  (1.0, 0.0, 0.0, 0.0, 0.0, 0.0, 0.0, 0.0)  (1.0, 0.0, 0.0, 0.0, 0.0)   \n",
       "\n",
       "                                       action_sparse  \\\n",
       "0  (1.0, 0.0, 0.0, 0.0, 0.0, 0.0, 0.0, 0.0, 0.0, ...   \n",
       "\n",
       "            timestamp_bins_sparse  \n",
       "0  (0.0, 0.0, 0.0, 0.0, 0.0, 1.0)  \n",
       "\n",
       "[1 rows x 30 columns]"
      ]
     },
     "execution_count": 12,
     "metadata": {},
     "output_type": "execute_result"
    }
   ],
   "source": [
    "motif_6_1.limit(1).toPandas()"
   ]
  },
  {
   "cell_type": "code",
   "execution_count": null,
   "id": "850f2b9d-6313-4d29-8d94-a0df3bef70cb",
   "metadata": {
    "tags": []
   },
   "outputs": [],
   "source": [
    "df_join_oh.unpersist()"
   ]
  },
  {
   "cell_type": "markdown",
   "id": "4244e74f-bba9-41ed-9918-06b51f79759f",
   "metadata": {
    "tags": []
   },
   "source": [
    "##### now drop cols and do everything else"
   ]
  },
  {
   "cell_type": "code",
   "execution_count": 6,
   "id": "e6aaedf4-fd30-4013-8220-1cdbb75ad09a",
   "metadata": {
    "tags": []
   },
   "outputs": [],
   "source": [
    "list_sparse = ['file_path_ext_sparse','image_path_sparse',\n",
    "              'parent_image_path_sparse','object_sparse',\n",
    "              'action_sparse','timestamp_bins_sparse']"
   ]
  },
  {
   "cell_type": "code",
   "execution_count": 21,
   "id": "0c50c550-e831-4451-bdf4-a9af9eae46af",
   "metadata": {
    "tags": []
   },
   "outputs": [
    {
     "name": "stdout",
     "output_type": "stream",
     "text": [
      "1681333587.080506\n",
      "drop time: 0.04308795928955078\n"
     ]
    }
   ],
   "source": [
    "#drop cols\n",
    "start_time = time.time()\n",
    "print(start_time)\n",
    "#Generate a list of columns to drop\n",
    "keep_cols = ['Trace','event', 'malicious','motif']\n",
    "drop_cols = [col for col in motif_6.columns  \n",
    "             if col not in keep_cols and col not in list_sparse]\n",
    "\n",
    "#i want to drop any columnn not in the column list or is the malicious column\n",
    "motif_6 = motif_6.drop(*drop_cols).cache()\n",
    "print(\"drop time: \"+ str(time.time() - start_time))"
   ]
  },
  {
   "cell_type": "code",
   "execution_count": 22,
   "id": "b5a892a7-4ecb-4d3c-95ca-095c50cc2fc9",
   "metadata": {
    "tags": []
   },
   "outputs": [
    {
     "name": "stdout",
     "output_type": "stream",
     "text": [
      "1681333592.3526347\n"
     ]
    },
    {
     "name": "stderr",
     "output_type": "stream",
     "text": [
      "[Stage 24:=====================================================>(182 + 1) / 183]\r"
     ]
    },
    {
     "name": "stdout",
     "output_type": "stream",
     "text": [
      "766213434\n",
      "count time m6: 768.0026433467865\n"
     ]
    },
    {
     "name": "stderr",
     "output_type": "stream",
     "text": [
      "                                                                                \r"
     ]
    }
   ],
   "source": [
    "#first count onehot\n",
    "start_time = time.time()\n",
    "print(start_time)\n",
    "print(motif_6.count())\n",
    "print(\"count time m6: \"+ str(time.time() - start_time))"
   ]
  },
  {
   "cell_type": "code",
   "execution_count": 15,
   "id": "8b1aa54c-c3af-47aa-8196-aec92b5ec5df",
   "metadata": {
    "tags": []
   },
   "outputs": [
    {
     "name": "stdout",
     "output_type": "stream",
     "text": [
      "1681361404.7000308\n",
      "vec assemble: 0.23842120170593262\n"
     ]
    }
   ],
   "source": [
    "#next vector assemble\n",
    "start_time = time.time()\n",
    "print(start_time)\n",
    "#assemble vectors for all sparse columns - this might be enough for our ML algorithms\n",
    "assembler = VectorAssembler(inputCols=list_sparse, \n",
    "                        outputCol=\"final_vec\")\n",
    "motif_6_2 = assembler.transform(motif_6_2).cache()\n",
    "print(\"vec assemble: \"+ str(time.time() - start_time))"
   ]
  },
  {
   "cell_type": "code",
   "execution_count": 16,
   "id": "ee49be20-d664-411d-8032-08aedc857f7d",
   "metadata": {
    "tags": []
   },
   "outputs": [
    {
     "name": "stdout",
     "output_type": "stream",
     "text": [
      "1681361404.9440928\n"
     ]
    },
    {
     "name": "stderr",
     "output_type": "stream",
     "text": [
      "[Stage 20:======================================================> (51 + 1) / 52]\r"
     ]
    },
    {
     "name": "stdout",
     "output_type": "stream",
     "text": [
      "191521374\n",
      "count: 248.51026439666748\n"
     ]
    },
    {
     "name": "stderr",
     "output_type": "stream",
     "text": [
      "                                                                                \r"
     ]
    }
   ],
   "source": [
    "#first count onehot\n",
    "start_time = time.time()\n",
    "print(start_time)\n",
    "print(motif_6_2.count())\n",
    "print(\"count: \"+ str(time.time() - start_time))"
   ]
  },
  {
   "cell_type": "code",
   "execution_count": 17,
   "id": "c4f283eb-f578-487a-a4f8-5326e12570ae",
   "metadata": {
    "tags": []
   },
   "outputs": [
    {
     "name": "stdout",
     "output_type": "stream",
     "text": [
      "1681361653.4597707\n"
     ]
    },
    {
     "name": "stderr",
     "output_type": "stream",
     "text": [
      "                                                                                \r"
     ]
    },
    {
     "name": "stdout",
     "output_type": "stream",
     "text": [
      "write time: 636.6844384670258\n"
     ]
    }
   ],
   "source": [
    "#write to parquet and unpersist\n",
    "start_time = time.time()\n",
    "print(start_time)\n",
    "motif_6_2.write.option(\"maxRecordsPerFile\", 300000).mode(\"overwrite\").parquet(f\"{s3_url_trusted}/prod/graph/motif-subs/6-2\")\n",
    "print(\"write time: \"+ str(time.time() - start_time))"
   ]
  },
  {
   "cell_type": "code",
   "execution_count": 18,
   "id": "bbe025bf-79b8-4475-bd6a-a683d2f12b88",
   "metadata": {
    "tags": []
   },
   "outputs": [
    {
     "data": {
      "text/plain": [
       "DataFrame[relationship: string, Trace: string, event: string, src: string, dst: string, timestamp: timestamp, object: string, action: string, hostname: string, user_name: string, privileges: string, image_path: string, parent_image_path: string, new_path: string, file_path: string, direction: string, logon_id: string, requesting_domain: string, requesting_user: string, malicious: int, file_path_ext: string, motif: int, timestamp_bins: double, file_path_ext_sparse: vector, image_path_sparse: vector, parent_image_path_sparse: vector, object_sparse: vector, action_sparse: vector, timestamp_bins_sparse: vector, final_vec: vector]"
      ]
     },
     "execution_count": 18,
     "metadata": {},
     "output_type": "execute_result"
    }
   ],
   "source": [
    "motif_6_2.unpersist()"
   ]
  },
  {
   "cell_type": "code",
   "execution_count": 1,
   "id": "f219b98a-7077-4198-8a1d-ec5e5640c9dc",
   "metadata": {
    "collapsed": true,
    "jupyter": {
     "outputs_hidden": true
    },
    "tags": []
   },
   "outputs": [
    {
     "name": "stderr",
     "output_type": "stream",
     "text": [
      "Warning: Ignoring non-Spark config property: fs.s3a.access.key\n",
      "Warning: Ignoring non-Spark config property: fs.s3a.secret.key\n"
     ]
    },
    {
     "name": "stdout",
     "output_type": "stream",
     "text": [
      ":: loading settings :: url = jar:file:/home/ec2-user/anaconda3/envs/python3/lib/python3.10/site-packages/pyspark/jars/ivy-2.5.0.jar!/org/apache/ivy/core/settings/ivysettings.xml\n"
     ]
    },
    {
     "name": "stderr",
     "output_type": "stream",
     "text": [
      "Ivy Default Cache set to: /home/ec2-user/.ivy2/cache\n",
      "The jars for the packages stored in: /home/ec2-user/.ivy2/jars\n",
      "graphframes#graphframes added as a dependency\n",
      ":: resolving dependencies :: org.apache.spark#spark-submit-parent-ca82569d-aa0c-4c8f-a8cb-ee7ce918a89c;1.0\n",
      "\tconfs: [default]\n",
      "\tfound graphframes#graphframes;0.8.2-spark3.2-s_2.12 in spark-packages\n",
      "\tfound org.slf4j#slf4j-api;1.7.16 in central\n",
      ":: resolution report :: resolve 101ms :: artifacts dl 3ms\n",
      "\t:: modules in use:\n",
      "\tgraphframes#graphframes;0.8.2-spark3.2-s_2.12 from spark-packages in [default]\n",
      "\torg.slf4j#slf4j-api;1.7.16 from central in [default]\n",
      "\t---------------------------------------------------------------------\n",
      "\t|                  |            modules            ||   artifacts   |\n",
      "\t|       conf       | number| search|dwnlded|evicted|| number|dwnlded|\n",
      "\t---------------------------------------------------------------------\n",
      "\t|      default     |   2   |   0   |   0   |   0   ||   2   |   0   |\n",
      "\t---------------------------------------------------------------------\n",
      ":: retrieving :: org.apache.spark#spark-submit-parent-ca82569d-aa0c-4c8f-a8cb-ee7ce918a89c\n",
      "\tconfs: [default]\n",
      "\t0 artifacts copied, 2 already retrieved (0kB/4ms)\n"
     ]
    },
    {
     "name": "stdout",
     "output_type": "stream",
     "text": [
      "23/04/13 14:49:06 WARN NativeCodeLoader: Unable to load native-hadoop library for your platform... using builtin-java classes where applicable\n"
     ]
    },
    {
     "name": "stderr",
     "output_type": "stream",
     "text": [
      "Setting default log level to \"WARN\".\n",
      "To adjust logging level use sc.setLogLevel(newLevel). For SparkR, use setLogLevel(newLevel).\n"
     ]
    },
    {
     "name": "stdout",
     "output_type": "stream",
     "text": [
      "23/04/13 14:49:06 WARN SparkConf: Note that spark.local.dir will be overridden by the value set by the cluster manager (via SPARK_LOCAL_DIRS in mesos/standalone/kubernetes and LOCAL_DIRS in YARN).\n",
      "23/04/13 14:49:07 WARN Utils: Service 'SparkUI' could not bind on port 4040. Attempting port 4041.\n"
     ]
    }
   ],
   "source": [
    "%run trace_encode.ipynb\n",
    "s3_url_trusted = \"s3a://sapient-bucket-trusted/\""
   ]
  },
  {
   "cell_type": "code",
   "execution_count": 2,
   "id": "4c23f30b-40fa-454d-a4ba-2667d19fbe28",
   "metadata": {
    "tags": []
   },
   "outputs": [
    {
     "name": "stdout",
     "output_type": "stream",
     "text": [
      "1681393321.5076973\n"
     ]
    },
    {
     "name": "stderr",
     "output_type": "stream",
     "text": [
      "                                                                                \r"
     ]
    },
    {
     "name": "stdout",
     "output_type": "stream",
     "text": [
      "read time: 7.95035982131958\n"
     ]
    }
   ],
   "source": [
    "#read in motif6\n",
    "start_time = time.time()\n",
    "print(start_time)\n",
    "motif_6_2 = spark.read.parquet(f\"{s3_url_trusted}/prod/graph/motif-subs/6-2\").cache()\n",
    "print(\"read time: \"+ str(time.time() - start_time))"
   ]
  },
  {
   "cell_type": "code",
   "execution_count": 3,
   "id": "42bafadf-46dd-41cc-8c2e-5742c9cd7396",
   "metadata": {
    "tags": []
   },
   "outputs": [
    {
     "name": "stdout",
     "output_type": "stream",
     "text": [
      "1681393335.1687183\n"
     ]
    },
    {
     "name": "stderr",
     "output_type": "stream",
     "text": [
      "[Stage 1:========================================================>(76 + 1) / 77]\r"
     ]
    },
    {
     "name": "stdout",
     "output_type": "stream",
     "text": [
      "191521374\n",
      "count: 431.4762399196625\n"
     ]
    },
    {
     "name": "stderr",
     "output_type": "stream",
     "text": [
      "                                                                                \r"
     ]
    }
   ],
   "source": [
    "#first count onehot\n",
    "start_time = time.time()\n",
    "print(start_time)\n",
    "print(motif_6_2.count())\n",
    "print(\"count: \"+ str(time.time() - start_time))"
   ]
  },
  {
   "cell_type": "code",
   "execution_count": 4,
   "id": "5a2aa2c4-c502-4fda-8a30-0720ae1091be",
   "metadata": {
    "collapsed": true,
    "jupyter": {
     "outputs_hidden": true
    },
    "tags": []
   },
   "outputs": [
    {
     "name": "stdout",
     "output_type": "stream",
     "text": [
      "root\n",
      " |-- relationship: string (nullable = true)\n",
      " |-- Trace: string (nullable = true)\n",
      " |-- event: string (nullable = true)\n",
      " |-- src: string (nullable = true)\n",
      " |-- dst: string (nullable = true)\n",
      " |-- timestamp: timestamp (nullable = true)\n",
      " |-- object: string (nullable = true)\n",
      " |-- action: string (nullable = true)\n",
      " |-- hostname: string (nullable = true)\n",
      " |-- user_name: string (nullable = true)\n",
      " |-- privileges: string (nullable = true)\n",
      " |-- image_path: string (nullable = true)\n",
      " |-- parent_image_path: string (nullable = true)\n",
      " |-- new_path: string (nullable = true)\n",
      " |-- file_path: string (nullable = true)\n",
      " |-- direction: string (nullable = true)\n",
      " |-- logon_id: string (nullable = true)\n",
      " |-- requesting_domain: string (nullable = true)\n",
      " |-- requesting_user: string (nullable = true)\n",
      " |-- malicious: integer (nullable = true)\n",
      " |-- file_path_ext: string (nullable = true)\n",
      " |-- motif: integer (nullable = true)\n",
      " |-- timestamp_bins: double (nullable = true)\n",
      " |-- file_path_ext_sparse: vector (nullable = true)\n",
      " |-- image_path_sparse: vector (nullable = true)\n",
      " |-- parent_image_path_sparse: vector (nullable = true)\n",
      " |-- object_sparse: vector (nullable = true)\n",
      " |-- action_sparse: vector (nullable = true)\n",
      " |-- timestamp_bins_sparse: vector (nullable = true)\n",
      " |-- final_vec: vector (nullable = true)\n",
      "\n"
     ]
    }
   ],
   "source": [
    "#Let's drop some cols and make this easier\n",
    "motif_6_2.printSchema()"
   ]
  },
  {
   "cell_type": "code",
   "execution_count": 7,
   "id": "e5305d58-7c3a-4b76-bbd8-b88b8251b072",
   "metadata": {
    "tags": []
   },
   "outputs": [],
   "source": [
    "list_sparse = ['file_path_ext_sparse','image_path_sparse',\n",
    "              'parent_image_path_sparse','object_sparse',\n",
    "              'action_sparse','timestamp_bins_sparse']"
   ]
  },
  {
   "cell_type": "code",
   "execution_count": 7,
   "id": "d89d70b7-b20d-42ff-ab15-d8d48a71af06",
   "metadata": {
    "tags": []
   },
   "outputs": [],
   "source": [
    "#Generate a list of columns to drop\n",
    "keep_cols = ['Trace','event','malicious','motif']\n",
    "drop_cols = [col for col in motif_6_2.columns  \n",
    "             if col not in keep_cols and col not in list_sparse]\n",
    "#drop_cols = broadcast(drop_cols)\n",
    "keep_cols = keep_cols + list_sparse"
   ]
  },
  {
   "cell_type": "code",
   "execution_count": 15,
   "id": "8eaf1509-9593-4747-845d-9b8c60ace19d",
   "metadata": {
    "tags": []
   },
   "outputs": [
    {
     "name": "stdout",
     "output_type": "stream",
     "text": [
      "1681392116.1509392\n",
      "drop time: 0.08568501472473145\n"
     ]
    }
   ],
   "source": [
    "#drop cols again\n",
    "start_time = time.time()\n",
    "print(start_time)\n",
    "#i want to drop any columnn not in the column list or is the malicious column\n",
    "#motif_6_2 = motif_6_2.drop(*broadcast(drop_cols)).cache()\n",
    "motif_6_2 = motif_6_2.select(*keep_cols).cache() # .drop(*broadcast(drop_cols)).cache()\n",
    "print(\"drop time: \"+ str(time.time() - start_time))"
   ]
  },
  {
   "cell_type": "code",
   "execution_count": 16,
   "id": "9ef1b5f6-ff3e-4a9c-bce5-43b76954fb68",
   "metadata": {
    "tags": []
   },
   "outputs": [
    {
     "name": "stdout",
     "output_type": "stream",
     "text": [
      "1681392126.2599192\n"
     ]
    },
    {
     "name": "stderr",
     "output_type": "stream",
     "text": [
      "[Stage 4:=======================================================> (75 + 2) / 77]\r"
     ]
    },
    {
     "name": "stdout",
     "output_type": "stream",
     "text": [
      "191521374\n",
      "count: 179.33009934425354\n"
     ]
    },
    {
     "name": "stderr",
     "output_type": "stream",
     "text": [
      "                                                                                \r"
     ]
    }
   ],
   "source": [
    "#first count onehot\n",
    "start_time = time.time()\n",
    "print(start_time)\n",
    "print(motif_6_2.count())\n",
    "print(\"count: \"+ str(time.time() - start_time))"
   ]
  },
  {
   "cell_type": "code",
   "execution_count": 17,
   "id": "228fb4e2-bea0-4fcf-a7a2-4e5ea2e51fe0",
   "metadata": {
    "tags": []
   },
   "outputs": [
    {
     "name": "stdout",
     "output_type": "stream",
     "text": [
      "1681392305.5946138\n"
     ]
    },
    {
     "name": "stderr",
     "output_type": "stream",
     "text": [
      "                                                                                \r"
     ]
    },
    {
     "name": "stdout",
     "output_type": "stream",
     "text": [
      "write time: 420.9260139465332\n"
     ]
    }
   ],
   "source": [
    "#write to parquet and unpersist\n",
    "start_time = time.time()\n",
    "print(start_time)\n",
    "motif_6_2.write.option(\"maxRecordsPerFile\", 300000).mode(\"overwrite\").parquet(f\"{s3_url_trusted}/prod/graph/motif-subs/enc/6/6-2\")\n",
    "print(\"write time: \"+ str(time.time() - start_time))"
   ]
  },
  {
   "cell_type": "code",
   "execution_count": 18,
   "id": "eae30e49-0395-4d4d-a0dc-8dd0d8b30938",
   "metadata": {
    "tags": []
   },
   "outputs": [
    {
     "data": {
      "text/plain": [
       "DataFrame[Trace: string, event: string, malicious: int, motif: int, file_path_ext_sparse: vector, image_path_sparse: vector, parent_image_path_sparse: vector, object_sparse: vector, action_sparse: vector, timestamp_bins_sparse: vector]"
      ]
     },
     "execution_count": 18,
     "metadata": {},
     "output_type": "execute_result"
    }
   ],
   "source": [
    "motif_6_2.unpersist()"
   ]
  },
  {
   "cell_type": "code",
   "execution_count": 2,
   "id": "9be8b5f9-cf74-448d-a06a-0857684c5e1d",
   "metadata": {
    "tags": []
   },
   "outputs": [
    {
     "name": "stdout",
     "output_type": "stream",
     "text": [
      "1681397383.5594716\n"
     ]
    },
    {
     "name": "stderr",
     "output_type": "stream",
     "text": [
      "                                                                                \r"
     ]
    },
    {
     "name": "stdout",
     "output_type": "stream",
     "text": [
      "read time: 5.600620985031128\n"
     ]
    }
   ],
   "source": [
    "#read in motif6\n",
    "start_time = time.time()\n",
    "print(start_time)\n",
    "motif_6_2 = spark.read.parquet(f\"{s3_url_trusted}/prod/graph/motif-subs/enc/6/6-2\").cache()\n",
    "print(\"read time: \"+ str(time.time() - start_time))"
   ]
  },
  {
   "cell_type": "code",
   "execution_count": 3,
   "id": "cadf5d63-543e-4a88-b39f-249c0c4c3b75",
   "metadata": {
    "tags": []
   },
   "outputs": [
    {
     "name": "stdout",
     "output_type": "stream",
     "text": [
      "1681397391.0690439\n"
     ]
    },
    {
     "name": "stderr",
     "output_type": "stream",
     "text": [
      "[Stage 1:=====================================================>   (30 + 2) / 32]\r"
     ]
    },
    {
     "name": "stdout",
     "output_type": "stream",
     "text": [
      "191521374\n",
      "count: 92.0152645111084\n"
     ]
    },
    {
     "name": "stderr",
     "output_type": "stream",
     "text": [
      "                                                                                \r"
     ]
    }
   ],
   "source": [
    "#first count onehot\n",
    "start_time = time.time()\n",
    "print(start_time)\n",
    "print(motif_6_2.count())\n",
    "print(\"count: \"+ str(time.time() - start_time))"
   ]
  },
  {
   "cell_type": "code",
   "execution_count": 6,
   "id": "197c8830-e3d7-4e81-941e-af14fc64ee31",
   "metadata": {
    "tags": []
   },
   "outputs": [
    {
     "name": "stdout",
     "output_type": "stream",
     "text": [
      "root\n",
      " |-- Trace: string (nullable = true)\n",
      " |-- event: string (nullable = true)\n",
      " |-- malicious: integer (nullable = true)\n",
      " |-- motif: integer (nullable = true)\n",
      " |-- file_path_ext_sparse: vector (nullable = true)\n",
      " |-- image_path_sparse: vector (nullable = true)\n",
      " |-- parent_image_path_sparse: vector (nullable = true)\n",
      " |-- object_sparse: vector (nullable = true)\n",
      " |-- action_sparse: vector (nullable = true)\n",
      " |-- timestamp_bins_sparse: vector (nullable = true)\n",
      " |-- final_vec: vector (nullable = true)\n",
      "\n"
     ]
    }
   ],
   "source": [
    "motif_6_2.printSchema()"
   ]
  },
  {
   "cell_type": "code",
   "execution_count": 7,
   "id": "035fb309-3d42-4e9e-b87d-8aa2cd56176e",
   "metadata": {
    "tags": []
   },
   "outputs": [
    {
     "name": "stderr",
     "output_type": "stream",
     "text": [
      "                                                                                \r"
     ]
    },
    {
     "data": {
      "text/html": [
       "<div>\n",
       "<style scoped>\n",
       "    .dataframe tbody tr th:only-of-type {\n",
       "        vertical-align: middle;\n",
       "    }\n",
       "\n",
       "    .dataframe tbody tr th {\n",
       "        vertical-align: top;\n",
       "    }\n",
       "\n",
       "    .dataframe thead th {\n",
       "        text-align: right;\n",
       "    }\n",
       "</style>\n",
       "<table border=\"1\" class=\"dataframe\">\n",
       "  <thead>\n",
       "    <tr style=\"text-align: right;\">\n",
       "      <th></th>\n",
       "      <th>Trace</th>\n",
       "      <th>event</th>\n",
       "      <th>malicious</th>\n",
       "      <th>motif</th>\n",
       "      <th>file_path_ext_sparse</th>\n",
       "      <th>image_path_sparse</th>\n",
       "      <th>parent_image_path_sparse</th>\n",
       "      <th>object_sparse</th>\n",
       "      <th>action_sparse</th>\n",
       "      <th>timestamp_bins_sparse</th>\n",
       "      <th>final_vec</th>\n",
       "    </tr>\n",
       "  </thead>\n",
       "  <tbody>\n",
       "    <tr>\n",
       "      <th>0</th>\n",
       "      <td>60129561799-6</td>\n",
       "      <td>e1</td>\n",
       "      <td>0</td>\n",
       "      <td>6</td>\n",
       "      <td>(0.0, 0.0, 0.0, 0.0, 0.0, 0.0, 1.0, 0.0, 0.0, ...</td>\n",
       "      <td>(0.0, 1.0, 0.0, 0.0, 0.0, 0.0, 0.0, 0.0, 0.0, ...</td>\n",
       "      <td>(1.0, 0.0, 0.0, 0.0, 0.0, 0.0, 0.0, 0.0)</td>\n",
       "      <td>(1.0, 0.0, 0.0, 0.0, 0.0)</td>\n",
       "      <td>(1.0, 0.0, 0.0, 0.0, 0.0, 0.0, 0.0, 0.0, 0.0, ...</td>\n",
       "      <td>(0.0, 0.0, 0.0, 0.0, 0.0, 1.0)</td>\n",
       "      <td>(0.0, 0.0, 0.0, 0.0, 0.0, 0.0, 1.0, 0.0, 0.0, ...</td>\n",
       "    </tr>\n",
       "  </tbody>\n",
       "</table>\n",
       "</div>"
      ],
      "text/plain": [
       "           Trace event  malicious  motif  \\\n",
       "0  60129561799-6    e1          0      6   \n",
       "\n",
       "                                file_path_ext_sparse  \\\n",
       "0  (0.0, 0.0, 0.0, 0.0, 0.0, 0.0, 1.0, 0.0, 0.0, ...   \n",
       "\n",
       "                                   image_path_sparse  \\\n",
       "0  (0.0, 1.0, 0.0, 0.0, 0.0, 0.0, 0.0, 0.0, 0.0, ...   \n",
       "\n",
       "                   parent_image_path_sparse              object_sparse  \\\n",
       "0  (1.0, 0.0, 0.0, 0.0, 0.0, 0.0, 0.0, 0.0)  (1.0, 0.0, 0.0, 0.0, 0.0)   \n",
       "\n",
       "                                       action_sparse  \\\n",
       "0  (1.0, 0.0, 0.0, 0.0, 0.0, 0.0, 0.0, 0.0, 0.0, ...   \n",
       "\n",
       "            timestamp_bins_sparse  \\\n",
       "0  (0.0, 0.0, 0.0, 0.0, 0.0, 1.0)   \n",
       "\n",
       "                                           final_vec  \n",
       "0  (0.0, 0.0, 0.0, 0.0, 0.0, 0.0, 1.0, 0.0, 0.0, ...  "
      ]
     },
     "execution_count": 7,
     "metadata": {},
     "output_type": "execute_result"
    }
   ],
   "source": [
    "motif_6_2.limit(1).toPandas()"
   ]
  },
  {
   "cell_type": "code",
   "execution_count": 5,
   "id": "84ad4e04-9e52-4701-94ba-ed526c4d6e89",
   "metadata": {
    "tags": []
   },
   "outputs": [
    {
     "name": "stdout",
     "output_type": "stream",
     "text": [
      "1681397504.0507534\n",
      "vec assemble: 0.26070070266723633\n"
     ]
    }
   ],
   "source": [
    "#now we need to recreate the final vec\n",
    "#next vector assemble\n",
    "start_time = time.time()\n",
    "print(start_time)\n",
    "list_sparse = ['file_path_ext_sparse','image_path_sparse',\n",
    "              'parent_image_path_sparse','object_sparse',\n",
    "              'action_sparse','timestamp_bins_sparse']\n",
    "#assemble vectors for all sparse columns - this might be enough for our ML algorithms\n",
    "assembler = VectorAssembler(inputCols=list_sparse, \n",
    "                        outputCol=\"final_vec\")\n",
    "motif_6_2 = assembler.transform(motif_6_2).cache()\n",
    "print(\"vec assemble: \"+ str(time.time() - start_time))"
   ]
  },
  {
   "cell_type": "code",
   "execution_count": 8,
   "id": "21ff55da-b48f-49ac-b9f0-5323a814504f",
   "metadata": {
    "tags": []
   },
   "outputs": [
    {
     "name": "stdout",
     "output_type": "stream",
     "text": [
      "1681397549.4356234\n"
     ]
    },
    {
     "name": "stderr",
     "output_type": "stream",
     "text": [
      "[Stage 5:=======================================================> (31 + 1) / 32]\r"
     ]
    },
    {
     "name": "stdout",
     "output_type": "stream",
     "text": [
      "191521374\n",
      "count: 245.4598970413208\n"
     ]
    },
    {
     "name": "stderr",
     "output_type": "stream",
     "text": [
      "                                                                                \r"
     ]
    }
   ],
   "source": [
    "#first count onehot\n",
    "start_time = time.time()\n",
    "print(start_time)\n",
    "print(motif_6_2.count())\n",
    "print(\"count: \"+ str(time.time() - start_time))"
   ]
  },
  {
   "cell_type": "code",
   "execution_count": null,
   "id": "d2650e39-fd4f-4045-9f0f-c3eb3005d181",
   "metadata": {
    "tags": []
   },
   "outputs": [
    {
     "name": "stdout",
     "output_type": "stream",
     "text": [
      "1681397794.9003763\n"
     ]
    },
    {
     "name": "stderr",
     "output_type": "stream",
     "text": [
      "                                                                                \r"
     ]
    }
   ],
   "source": [
    "#write to parquet and unpersist\n",
    "start_time = time.time()\n",
    "print(start_time)\n",
    "motif_6_2.write.option(\"maxRecordsPerFile\", 300000).mode(\"overwrite\").parquet(f\"{s3_url_trusted}/prod/graph/motif-subs/enc/6/6-2\")\n",
    "print(\"write time: \"+ str(time.time() - start_time))"
   ]
  },
  {
   "cell_type": "code",
   "execution_count": null,
   "id": "a8c93c9b-b1da-4f47-8118-2b4822a61933",
   "metadata": {
    "tags": []
   },
   "outputs": [],
   "source": [
    "motif_6_2.unpersist()"
   ]
  },
  {
   "cell_type": "code",
   "execution_count": null,
   "id": "f53591b2-7c61-4bb7-a510-b73bd0a18f72",
   "metadata": {
    "tags": []
   },
   "outputs": [],
   "source": [
    "#read in motif6\n",
    "start_time = time.time()\n",
    "print(start_time)\n",
    "motif_6_2 = spark.read.parquet(f\"{s3_url_trusted}/prod/graph/motif-subs/enc/6/6-2\").cache()\n",
    "print(\"read time: \"+ str(time.time() - start_time))"
   ]
  },
  {
   "cell_type": "code",
   "execution_count": null,
   "id": "01f88b50-2f23-4228-9b30-948fbca0353f",
   "metadata": {
    "tags": []
   },
   "outputs": [],
   "source": [
    "#first count onehot\n",
    "start_time = time.time()\n",
    "print(start_time)\n",
    "print(motif_6_2.count())\n",
    "print(\"count: \"+ str(time.time() - start_time))"
   ]
  },
  {
   "cell_type": "code",
   "execution_count": null,
   "id": "2888622a-10c9-4efd-8075-7f31bad59174",
   "metadata": {},
   "outputs": [],
   "source": []
  },
  {
   "cell_type": "code",
   "execution_count": null,
   "id": "67f01b81-0e93-4128-8f2f-a7b1e0875f0f",
   "metadata": {},
   "outputs": [],
   "source": []
  },
  {
   "cell_type": "code",
   "execution_count": 13,
   "id": "47f3357a-7f1d-4fe7-abf6-60e0034f333d",
   "metadata": {
    "tags": []
   },
   "outputs": [
    {
     "name": "stdout",
     "output_type": "stream",
     "text": [
      "1681395739.5157473\n",
      "drop time: 0.08246755599975586\n"
     ]
    }
   ],
   "source": [
    "#drop cols again\n",
    "start_time = time.time()\n",
    "print(start_time)\n",
    "#i want to drop any columnn not in the column list or is the malicious column\n",
    "#motif_6_2 = motif_6_2.drop(*broadcast(drop_cols)).cache()\n",
    "motif_6_2 = motif_6_2.select(*keep_cols).cache() # .drop(*broadcast(drop_cols)).cache()\n",
    "print(\"drop time: \"+ str(time.time() - start_time))"
   ]
  },
  {
   "cell_type": "code",
   "execution_count": 14,
   "id": "e1f4b498-3065-468d-a8b4-be2955e55e25",
   "metadata": {
    "tags": []
   },
   "outputs": [
    {
     "name": "stdout",
     "output_type": "stream",
     "text": [
      "1681395756.3650596\n"
     ]
    },
    {
     "name": "stderr",
     "output_type": "stream",
     "text": [
      "[Stage 5:========================================================>(76 + 1) / 77]\r"
     ]
    },
    {
     "name": "stdout",
     "output_type": "stream",
     "text": [
      "191521374\n",
      "count: 70.03514313697815\n"
     ]
    },
    {
     "name": "stderr",
     "output_type": "stream",
     "text": [
      "                                                                                \r"
     ]
    }
   ],
   "source": [
    "start_time = time.time()\n",
    "print(start_time)\n",
    "print(motif_6_2.count())\n",
    "print(\"count: \"+ str(time.time() - start_time))"
   ]
  },
  {
   "cell_type": "code",
   "execution_count": null,
   "id": "892d2612-af83-4d90-ac90-c046c1cc41ce",
   "metadata": {
    "tags": []
   },
   "outputs": [],
   "source": [
    "#write to parquet and unpersist\n",
    "start_time = time.time()\n",
    "print(start_time)\n",
    "motif_6_2.write.option(\"maxRecordsPerFile\", 300000).mode(\"overwrite\").parquet(f\"{s3_url_trusted}/prod/graph/motif-subs/enc/6/6-2\")\n",
    "print(\"write time: \"+ str(time.time() - start_time))"
   ]
  },
  {
   "cell_type": "code",
   "execution_count": null,
   "id": "8590fb5d-52aa-4f8a-a166-68f9f8f86867",
   "metadata": {
    "tags": []
   },
   "outputs": [],
   "source": [
    "motif_6_2.unpersist()"
   ]
  },
  {
   "cell_type": "code",
   "execution_count": null,
   "id": "9646c56d-f222-4568-bf0e-6611e9e102e4",
   "metadata": {
    "tags": []
   },
   "outputs": [],
   "source": [
    "#read in motif6\n",
    "start_time = time.time()\n",
    "print(start_time)\n",
    "motif_6_2 = spark.read.parquet(f\"{s3_url_trusted}/prod/graph/motif-subs/enc/6/6-2\").cache()\n",
    "print(\"read time: \"+ str(time.time() - start_time))"
   ]
  },
  {
   "cell_type": "code",
   "execution_count": null,
   "id": "c3d7fc42-3031-48fa-9c47-928cd9e3fb0e",
   "metadata": {
    "tags": []
   },
   "outputs": [],
   "source": [
    "#first count onehot\n",
    "start_time = time.time()\n",
    "print(start_time)\n",
    "print(motif_6_2.count())\n",
    "print(\"count: \"+ str(time.time() - start_time))"
   ]
  },
  {
   "cell_type": "code",
   "execution_count": null,
   "id": "1a597a49-6f45-409c-a6bb-89e1fffb1606",
   "metadata": {},
   "outputs": [],
   "source": []
  },
  {
   "cell_type": "code",
   "execution_count": 15,
   "id": "9eb78545-68d3-47b5-8475-827fbc3adb65",
   "metadata": {
    "tags": []
   },
   "outputs": [
    {
     "name": "stdout",
     "output_type": "stream",
     "text": [
      "1681395855.583914\n",
      "turn into a string: 0.08121180534362793\n"
     ]
    }
   ],
   "source": [
    "start_time = time.time()\n",
    "print(start_time)\n",
    "#turn into string\n",
    "motif_6_2 = motif_6_2.withColumn(\"vec2string\", binary_to_string_array_udf(\"final_vec\")).cache()\n",
    "print(\"turn into a string: \"+ str(time.time() - start_time))"
   ]
  },
  {
   "cell_type": "code",
   "execution_count": 16,
   "id": "ad1c2d4f-3839-4018-bb8d-2fed3905b0af",
   "metadata": {
    "collapsed": true,
    "jupyter": {
     "outputs_hidden": true
    },
    "tags": []
   },
   "outputs": [
    {
     "name": "stdout",
     "output_type": "stream",
     "text": [
      "1681395859.7926571\n"
     ]
    },
    {
     "name": "stderr",
     "output_type": "stream",
     "text": [
      "ERROR:root:KeyboardInterrupt while sending command.               (0 + 32) / 77]\n",
      "Traceback (most recent call last):\n",
      "  File \"/home/ec2-user/anaconda3/envs/python3/lib/python3.10/site-packages/py4j/java_gateway.py\", line 1038, in send_command\n",
      "    response = connection.send_command(command)\n",
      "  File \"/home/ec2-user/anaconda3/envs/python3/lib/python3.10/site-packages/py4j/clientserver.py\", line 511, in send_command\n",
      "    answer = smart_decode(self.stream.readline()[:-1])\n",
      "  File \"/home/ec2-user/anaconda3/envs/python3/lib/python3.10/socket.py\", line 705, in readinto\n",
      "    return self._sock.recv_into(b)\n",
      "KeyboardInterrupt\n"
     ]
    },
    {
     "ename": "KeyboardInterrupt",
     "evalue": "",
     "output_type": "error",
     "traceback": [
      "\u001b[0;31m---------------------------------------------------------------------------\u001b[0m",
      "\u001b[0;31mKeyboardInterrupt\u001b[0m                         Traceback (most recent call last)",
      "Cell \u001b[0;32mIn[16], line 3\u001b[0m\n\u001b[1;32m      1\u001b[0m start_time \u001b[38;5;241m=\u001b[39m time\u001b[38;5;241m.\u001b[39mtime()\n\u001b[1;32m      2\u001b[0m \u001b[38;5;28mprint\u001b[39m(start_time)\n\u001b[0;32m----> 3\u001b[0m \u001b[38;5;28mprint\u001b[39m(\u001b[43mmotif_6_2\u001b[49m\u001b[38;5;241;43m.\u001b[39;49m\u001b[43mcount\u001b[49m\u001b[43m(\u001b[49m\u001b[43m)\u001b[49m)\n\u001b[1;32m      4\u001b[0m \u001b[38;5;28mprint\u001b[39m(\u001b[38;5;124m\"\u001b[39m\u001b[38;5;124mcount: \u001b[39m\u001b[38;5;124m\"\u001b[39m\u001b[38;5;241m+\u001b[39m \u001b[38;5;28mstr\u001b[39m(time\u001b[38;5;241m.\u001b[39mtime() \u001b[38;5;241m-\u001b[39m start_time))\n",
      "File \u001b[0;32m~/anaconda3/envs/python3/lib/python3.10/site-packages/pyspark/sql/dataframe.py:804\u001b[0m, in \u001b[0;36mDataFrame.count\u001b[0;34m(self)\u001b[0m\n\u001b[1;32m    794\u001b[0m \u001b[38;5;28;01mdef\u001b[39;00m \u001b[38;5;21mcount\u001b[39m(\u001b[38;5;28mself\u001b[39m) \u001b[38;5;241m-\u001b[39m\u001b[38;5;241m>\u001b[39m \u001b[38;5;28mint\u001b[39m:\n\u001b[1;32m    795\u001b[0m \u001b[38;5;250m    \u001b[39m\u001b[38;5;124;03m\"\"\"Returns the number of rows in this :class:`DataFrame`.\u001b[39;00m\n\u001b[1;32m    796\u001b[0m \n\u001b[1;32m    797\u001b[0m \u001b[38;5;124;03m    .. versionadded:: 1.3.0\u001b[39;00m\n\u001b[0;32m   (...)\u001b[0m\n\u001b[1;32m    802\u001b[0m \u001b[38;5;124;03m    2\u001b[39;00m\n\u001b[1;32m    803\u001b[0m \u001b[38;5;124;03m    \"\"\"\u001b[39;00m\n\u001b[0;32m--> 804\u001b[0m     \u001b[38;5;28;01mreturn\u001b[39;00m \u001b[38;5;28mint\u001b[39m(\u001b[38;5;28;43mself\u001b[39;49m\u001b[38;5;241;43m.\u001b[39;49m\u001b[43m_jdf\u001b[49m\u001b[38;5;241;43m.\u001b[39;49m\u001b[43mcount\u001b[49m\u001b[43m(\u001b[49m\u001b[43m)\u001b[49m)\n",
      "File \u001b[0;32m~/anaconda3/envs/python3/lib/python3.10/site-packages/py4j/java_gateway.py:1320\u001b[0m, in \u001b[0;36mJavaMember.__call__\u001b[0;34m(self, *args)\u001b[0m\n\u001b[1;32m   1313\u001b[0m args_command, temp_args \u001b[38;5;241m=\u001b[39m \u001b[38;5;28mself\u001b[39m\u001b[38;5;241m.\u001b[39m_build_args(\u001b[38;5;241m*\u001b[39margs)\n\u001b[1;32m   1315\u001b[0m command \u001b[38;5;241m=\u001b[39m proto\u001b[38;5;241m.\u001b[39mCALL_COMMAND_NAME \u001b[38;5;241m+\u001b[39m\\\n\u001b[1;32m   1316\u001b[0m     \u001b[38;5;28mself\u001b[39m\u001b[38;5;241m.\u001b[39mcommand_header \u001b[38;5;241m+\u001b[39m\\\n\u001b[1;32m   1317\u001b[0m     args_command \u001b[38;5;241m+\u001b[39m\\\n\u001b[1;32m   1318\u001b[0m     proto\u001b[38;5;241m.\u001b[39mEND_COMMAND_PART\n\u001b[0;32m-> 1320\u001b[0m answer \u001b[38;5;241m=\u001b[39m \u001b[38;5;28;43mself\u001b[39;49m\u001b[38;5;241;43m.\u001b[39;49m\u001b[43mgateway_client\u001b[49m\u001b[38;5;241;43m.\u001b[39;49m\u001b[43msend_command\u001b[49m\u001b[43m(\u001b[49m\u001b[43mcommand\u001b[49m\u001b[43m)\u001b[49m\n\u001b[1;32m   1321\u001b[0m return_value \u001b[38;5;241m=\u001b[39m get_return_value(\n\u001b[1;32m   1322\u001b[0m     answer, \u001b[38;5;28mself\u001b[39m\u001b[38;5;241m.\u001b[39mgateway_client, \u001b[38;5;28mself\u001b[39m\u001b[38;5;241m.\u001b[39mtarget_id, \u001b[38;5;28mself\u001b[39m\u001b[38;5;241m.\u001b[39mname)\n\u001b[1;32m   1324\u001b[0m \u001b[38;5;28;01mfor\u001b[39;00m temp_arg \u001b[38;5;129;01min\u001b[39;00m temp_args:\n",
      "File \u001b[0;32m~/anaconda3/envs/python3/lib/python3.10/site-packages/py4j/java_gateway.py:1038\u001b[0m, in \u001b[0;36mGatewayClient.send_command\u001b[0;34m(self, command, retry, binary)\u001b[0m\n\u001b[1;32m   1036\u001b[0m connection \u001b[38;5;241m=\u001b[39m \u001b[38;5;28mself\u001b[39m\u001b[38;5;241m.\u001b[39m_get_connection()\n\u001b[1;32m   1037\u001b[0m \u001b[38;5;28;01mtry\u001b[39;00m:\n\u001b[0;32m-> 1038\u001b[0m     response \u001b[38;5;241m=\u001b[39m \u001b[43mconnection\u001b[49m\u001b[38;5;241;43m.\u001b[39;49m\u001b[43msend_command\u001b[49m\u001b[43m(\u001b[49m\u001b[43mcommand\u001b[49m\u001b[43m)\u001b[49m\n\u001b[1;32m   1039\u001b[0m     \u001b[38;5;28;01mif\u001b[39;00m binary:\n\u001b[1;32m   1040\u001b[0m         \u001b[38;5;28;01mreturn\u001b[39;00m response, \u001b[38;5;28mself\u001b[39m\u001b[38;5;241m.\u001b[39m_create_connection_guard(connection)\n",
      "File \u001b[0;32m~/anaconda3/envs/python3/lib/python3.10/site-packages/py4j/clientserver.py:511\u001b[0m, in \u001b[0;36mClientServerConnection.send_command\u001b[0;34m(self, command)\u001b[0m\n\u001b[1;32m    509\u001b[0m \u001b[38;5;28;01mtry\u001b[39;00m:\n\u001b[1;32m    510\u001b[0m     \u001b[38;5;28;01mwhile\u001b[39;00m \u001b[38;5;28;01mTrue\u001b[39;00m:\n\u001b[0;32m--> 511\u001b[0m         answer \u001b[38;5;241m=\u001b[39m smart_decode(\u001b[38;5;28;43mself\u001b[39;49m\u001b[38;5;241;43m.\u001b[39;49m\u001b[43mstream\u001b[49m\u001b[38;5;241;43m.\u001b[39;49m\u001b[43mreadline\u001b[49m\u001b[43m(\u001b[49m\u001b[43m)\u001b[49m[:\u001b[38;5;241m-\u001b[39m\u001b[38;5;241m1\u001b[39m])\n\u001b[1;32m    512\u001b[0m         logger\u001b[38;5;241m.\u001b[39mdebug(\u001b[38;5;124m\"\u001b[39m\u001b[38;5;124mAnswer received: \u001b[39m\u001b[38;5;132;01m{0}\u001b[39;00m\u001b[38;5;124m\"\u001b[39m\u001b[38;5;241m.\u001b[39mformat(answer))\n\u001b[1;32m    513\u001b[0m         \u001b[38;5;66;03m# Happens when a the other end is dead. There might be an empty\u001b[39;00m\n\u001b[1;32m    514\u001b[0m         \u001b[38;5;66;03m# answer before the socket raises an error.\u001b[39;00m\n",
      "File \u001b[0;32m~/anaconda3/envs/python3/lib/python3.10/socket.py:705\u001b[0m, in \u001b[0;36mSocketIO.readinto\u001b[0;34m(self, b)\u001b[0m\n\u001b[1;32m    703\u001b[0m \u001b[38;5;28;01mwhile\u001b[39;00m \u001b[38;5;28;01mTrue\u001b[39;00m:\n\u001b[1;32m    704\u001b[0m     \u001b[38;5;28;01mtry\u001b[39;00m:\n\u001b[0;32m--> 705\u001b[0m         \u001b[38;5;28;01mreturn\u001b[39;00m \u001b[38;5;28;43mself\u001b[39;49m\u001b[38;5;241;43m.\u001b[39;49m\u001b[43m_sock\u001b[49m\u001b[38;5;241;43m.\u001b[39;49m\u001b[43mrecv_into\u001b[49m\u001b[43m(\u001b[49m\u001b[43mb\u001b[49m\u001b[43m)\u001b[49m\n\u001b[1;32m    706\u001b[0m     \u001b[38;5;28;01mexcept\u001b[39;00m timeout:\n\u001b[1;32m    707\u001b[0m         \u001b[38;5;28mself\u001b[39m\u001b[38;5;241m.\u001b[39m_timeout_occurred \u001b[38;5;241m=\u001b[39m \u001b[38;5;28;01mTrue\u001b[39;00m\n",
      "\u001b[0;31mKeyboardInterrupt\u001b[0m: "
     ]
    }
   ],
   "source": [
    "start_time = time.time()\n",
    "print(start_time)\n",
    "print(motif_6_2.count())\n",
    "print(\"count: \"+ str(time.time() - start_time))"
   ]
  },
  {
   "cell_type": "code",
   "execution_count": null,
   "id": "1f9aace1-1717-4c1c-adb1-92ff8fdcbb28",
   "metadata": {
    "tags": []
   },
   "outputs": [],
   "source": [
    "#write to parquet and unpersist\n",
    "start_time = time.time()\n",
    "print(start_time)\n",
    "motif_6_2.write.option(\"maxRecordsPerFile\", 300000).mode(\"overwrite\").parquet(f\"{s3_url_trusted}/prod/graph/motif-subs/enc/6/6-2\")\n",
    "print(\"write time: \"+ str(time.time() - start_time))"
   ]
  },
  {
   "cell_type": "code",
   "execution_count": null,
   "id": "fb6cf099-34f6-4043-ad38-428fe77a0d1a",
   "metadata": {
    "tags": []
   },
   "outputs": [],
   "source": [
    "motif_6_2.unpersist()"
   ]
  },
  {
   "cell_type": "code",
   "execution_count": null,
   "id": "cc9c2537-6e61-4988-8b34-d084e0a55757",
   "metadata": {
    "tags": []
   },
   "outputs": [],
   "source": [
    "#read in motif6\n",
    "start_time = time.time()\n",
    "print(start_time)\n",
    "motif_6_2 = spark.read.parquet(f\"{s3_url_trusted}/prod/graph/motif-subs/enc/6/6-2\").cache()\n",
    "print(\"read time: \"+ str(time.time() - start_time))"
   ]
  },
  {
   "cell_type": "code",
   "execution_count": null,
   "id": "daf74a4b-99b0-4797-9a54-e883ee1694c4",
   "metadata": {
    "tags": []
   },
   "outputs": [],
   "source": [
    "#first count onehot\n",
    "start_time = time.time()\n",
    "print(start_time)\n",
    "print(motif_6_2.count())\n",
    "print(\"count: \"+ str(time.time() - start_time))"
   ]
  },
  {
   "cell_type": "code",
   "execution_count": null,
   "id": "bb2004b0-d1e4-4e30-a1cb-2fc7f7a06164",
   "metadata": {
    "tags": []
   },
   "outputs": [],
   "source": [
    "motif_6_2.printSchema()"
   ]
  },
  {
   "cell_type": "code",
   "execution_count": null,
   "id": "8c19b5c8-0b3a-4950-ae8a-0899ccddedff",
   "metadata": {
    "tags": []
   },
   "outputs": [
    {
     "name": "stderr",
     "output_type": "stream",
     "text": [
      "[Stage 8:>                                                        (0 + 32) / 77]\r"
     ]
    }
   ],
   "source": [
    "motif_6_2.limit(1).toPandas()"
   ]
  },
  {
   "cell_type": "code",
   "execution_count": null,
   "id": "8c9d110d-e74a-4a85-8f05-e5225cc901ef",
   "metadata": {
    "tags": []
   },
   "outputs": [],
   "source": [
    "#add mal trace \n",
    "w = Window.partitionBy(\"Trace\")\n",
    "motif_6_2 = motif_6_2.withColumn('mal_trace', when(sum('malicious').over(w) > 0, 1).otherwise(0)).cache()"
   ]
  },
  {
   "cell_type": "code",
   "execution_count": null,
   "id": "64f70cf3-81c0-4b05-9bf8-53db45c1f0cf",
   "metadata": {
    "tags": []
   },
   "outputs": [],
   "source": [
    "start_time = time.time()\n",
    "print(start_time)\n",
    "print(motif_6_2.count())\n",
    "print(\"count: \"+ str(time.time() - start_time))"
   ]
  },
  {
   "cell_type": "code",
   "execution_count": null,
   "id": "1c3e3b57-b928-4a5a-9a78-5146964ad0d6",
   "metadata": {
    "tags": []
   },
   "outputs": [],
   "source": [
    "#write to parquet and unpersist\n",
    "start_time = time.time()\n",
    "print(start_time)\n",
    "motif_6_2.write.option(\"maxRecordsPerFile\", 300000).mode(\"overwrite\").parquet(f\"{s3_url_trusted}/prod/graph/motif-subs/enc/6/6-2\")\n",
    "print(\"write time: \"+ str(time.time() - start_time))"
   ]
  },
  {
   "cell_type": "code",
   "execution_count": null,
   "id": "b948d647-2f4b-4d14-87c3-b894fd3ae47b",
   "metadata": {
    "tags": []
   },
   "outputs": [],
   "source": [
    "motif_6_2.unpersist()"
   ]
  },
  {
   "cell_type": "code",
   "execution_count": null,
   "id": "33c35ff9-427d-4867-b762-1453bbf588ef",
   "metadata": {
    "tags": []
   },
   "outputs": [],
   "source": [
    "#read in motif6\n",
    "start_time = time.time()\n",
    "print(start_time)\n",
    "motif_6_2 = spark.read.parquet(f\"{s3_url_trusted}/prod/graph/motif-subs/enc/6/6-2\").cache()\n",
    "print(\"read time: \"+ str(time.time() - start_time))"
   ]
  },
  {
   "cell_type": "code",
   "execution_count": null,
   "id": "79dfafc7-07ed-45e3-b931-4e4be42b791b",
   "metadata": {
    "tags": []
   },
   "outputs": [],
   "source": [
    "motif_6_2.printSchema()"
   ]
  },
  {
   "cell_type": "code",
   "execution_count": null,
   "id": "bfb2e06d-96da-4e35-8722-5091c2d6c51c",
   "metadata": {
    "tags": []
   },
   "outputs": [],
   "source": [
    "motif_6_2.limit(1).toPandas()"
   ]
  },
  {
   "cell_type": "code",
   "execution_count": null,
   "id": "24686b34-e7ba-42d8-8bad-f49261bb1342",
   "metadata": {
    "tags": []
   },
   "outputs": [],
   "source": [
    "#Generate a list of columns to drop\n",
    "keep_cols = ['mal_trace','motif','Trace','event','vec2string']\n",
    "drop_cols = [col for col in motif_6_2.columns  \n",
    "             if col not in keep_cols]"
   ]
  },
  {
   "cell_type": "code",
   "execution_count": null,
   "id": "282b1fa1-9ef7-4ff7-9050-01a4b5b40130",
   "metadata": {
    "tags": []
   },
   "outputs": [],
   "source": [
    "#drop cols again\n",
    "start_time = time.time()\n",
    "print(start_time)\n",
    "#i want to drop any columnn not in the column list or is the malicious column\n",
    "motif_6_2 = motif_6_2.drop(*drop_cols).cache()\n",
    "print(\"drop time: \"+ str(time.time() - start_time))"
   ]
  },
  {
   "cell_type": "code",
   "execution_count": null,
   "id": "86cd752c-cdf7-4450-8e0c-bfd6a90b9753",
   "metadata": {
    "tags": []
   },
   "outputs": [],
   "source": [
    "start_time = time.time()\n",
    "print(start_time)\n",
    "print(motif_6_2.count())\n",
    "print(\"count: \"+ str(time.time() - start_time))"
   ]
  },
  {
   "cell_type": "code",
   "execution_count": null,
   "id": "372ad0ac-385b-4b8a-b577-d44b97d0e29d",
   "metadata": {
    "tags": []
   },
   "outputs": [],
   "source": [
    "motif_6_2.limit(1).toPandas()"
   ]
  },
  {
   "cell_type": "code",
   "execution_count": null,
   "id": "f6b3c1fc-2837-4ee2-8dd1-23f99ae7d30d",
   "metadata": {
    "tags": []
   },
   "outputs": [],
   "source": [
    "#write to parquet and unpersist\n",
    "start_time = time.time()\n",
    "print(start_time)\n",
    "motif_6_2.write.option(\"maxRecordsPerFile\", 300000).mode(\"overwrite\").parquet(f\"{s3_url_trusted}/prod/graph/motif-subs/enc/6/6-2\")\n",
    "print(\"write time: \"+ str(time.time() - start_time))"
   ]
  },
  {
   "cell_type": "code",
   "execution_count": null,
   "id": "573861a4-45f3-40ca-95d6-644d75263df7",
   "metadata": {
    "tags": []
   },
   "outputs": [],
   "source": [
    "motif_6_2.unpersist()"
   ]
  },
  {
   "cell_type": "code",
   "execution_count": null,
   "id": "7d2982ae-6270-497a-84c6-b29c03a4cc98",
   "metadata": {
    "tags": []
   },
   "outputs": [],
   "source": [
    "#read in motif6\n",
    "start_time = time.time()\n",
    "print(start_time)\n",
    "motif_6_2 = spark.read.parquet(f\"{s3_url_trusted}/prod/graph/motif-subs/enc/6/6-2\").cache()\n",
    "print(\"read time: \"+ str(time.time() - start_time))"
   ]
  },
  {
   "cell_type": "code",
   "execution_count": null,
   "id": "afefbe79-8b76-4fbd-a660-6d431d8d223d",
   "metadata": {
    "tags": []
   },
   "outputs": [],
   "source": [
    "start_time = time.time()\n",
    "print(start_time)\n",
    "print(motif_6_2.count())\n",
    "print(\"count: \"+ str(time.time() - start_time))"
   ]
  },
  {
   "cell_type": "code",
   "execution_count": null,
   "id": "13c65a90-4373-43bf-b101-3d172795ef46",
   "metadata": {
    "tags": []
   },
   "outputs": [],
   "source": [
    "#first pivot aka transpose and keep all events\n",
    "motif_6_2 = motif_6_2.groupBy('Trace').pivot('event')\\\n",
    ".agg(first('mal_trace'),first('vec2string')).cache()"
   ]
  },
  {
   "cell_type": "code",
   "execution_count": null,
   "id": "5bd27e6c-bc25-46b4-97fd-37de0da3e6ff",
   "metadata": {
    "tags": []
   },
   "outputs": [],
   "source": [
    "start_time = time.time()\n",
    "print(start_time)\n",
    "print(motif_6_2.count())\n",
    "print(\"count: \"+ str(time.time() - start_time))"
   ]
  },
  {
   "cell_type": "code",
   "execution_count": null,
   "id": "fa9bcb26-a594-4827-a956-f190bc4245fb",
   "metadata": {
    "tags": []
   },
   "outputs": [],
   "source": [
    "#then consolidate the columns into a single event sequence\n",
    "motif_6_2 = motif_6_2.select('Trace',col('e1_first(mal_trace)').alias('mal_trace'),\n",
    "                          array('e1_first(vec2string)', 'e2_first(vec2string)',\n",
    "                   'e3_first(vec2string)','e4_first(vec2string)', \n",
    "                   'e5_first(vec2string)', 'e6_first(vec2string)').alias('event_sequence')).cache()"
   ]
  },
  {
   "cell_type": "code",
   "execution_count": null,
   "id": "bb984bcd-84a9-43b6-920c-6098be0e7a9b",
   "metadata": {
    "tags": []
   },
   "outputs": [],
   "source": [
    "#count\n",
    "start_time = time.time()\n",
    "print(start_time)\n",
    "print(motif_6_2.count())\n",
    "print(\"count time: \"+ str(time.time() - start_time))"
   ]
  },
  {
   "cell_type": "code",
   "execution_count": null,
   "id": "5608f376-3824-4e04-8436-4a52ca682314",
   "metadata": {
    "tags": []
   },
   "outputs": [],
   "source": [
    "motif_6_2.limit(5).toPandas()"
   ]
  },
  {
   "cell_type": "code",
   "execution_count": null,
   "id": "cb9499ee-d6a4-4826-b2b6-7494dfb5ab53",
   "metadata": {
    "tags": []
   },
   "outputs": [],
   "source": [
    "#write to parquet and unpersist\n",
    "start_time = time.time()\n",
    "print(start_time)\n",
    "motif_6_2.write.option(\"maxRecordsPerFile\", 300000).mode(\"overwrite\").parquet(f\"{s3_url_trusted}/prod/graph/motif-subs/enc/6/6-2\")\n",
    "print(\"write time: \"+ str(time.time() - start_time))"
   ]
  },
  {
   "cell_type": "code",
   "execution_count": null,
   "id": "8e81c53e-ac04-44b5-b627-1bb0d8fb2867",
   "metadata": {
    "tags": []
   },
   "outputs": [],
   "source": [
    "motif_6_2.unpersist()"
   ]
  }
 ],
 "metadata": {
  "kernelspec": {
   "display_name": "conda_python3",
   "language": "python",
   "name": "conda_python3"
  },
  "language_info": {
   "codemirror_mode": {
    "name": "ipython",
    "version": 3
   },
   "file_extension": ".py",
   "mimetype": "text/x-python",
   "name": "python",
   "nbconvert_exporter": "python",
   "pygments_lexer": "ipython3",
   "version": "3.10.8"
  }
 },
 "nbformat": 4,
 "nbformat_minor": 5
}
