{
 "cells": [
  {
   "cell_type": "markdown",
   "id": "a1c854dc-47fd-4dbc-b005-d9806f698d40",
   "metadata": {
    "tags": []
   },
   "source": [
    "### File to begin basic work on building the provenance graph and event distributions."
   ]
  },
  {
   "cell_type": "code",
   "execution_count": 1,
   "id": "5ce1d9d1-2b90-44d8-9d29-951fac8eb7ab",
   "metadata": {
    "tags": []
   },
   "outputs": [
    {
     "name": "stderr",
     "output_type": "stream",
     "text": [
      "Warning: Ignoring non-Spark config property: fs.s3a.access.key\n",
      "Warning: Ignoring non-Spark config property: fs.s3a.secret.key\n"
     ]
    },
    {
     "name": "stdout",
     "output_type": "stream",
     "text": [
      ":: loading settings :: url = jar:file:/home/ec2-user/anaconda3/envs/python3/lib/python3.10/site-packages/pyspark/jars/ivy-2.5.0.jar!/org/apache/ivy/core/settings/ivysettings.xml\n"
     ]
    },
    {
     "name": "stderr",
     "output_type": "stream",
     "text": [
      "Ivy Default Cache set to: /home/ec2-user/.ivy2/cache\n",
      "The jars for the packages stored in: /home/ec2-user/.ivy2/jars\n",
      "graphframes#graphframes added as a dependency\n",
      ":: resolving dependencies :: org.apache.spark#spark-submit-parent-d470c532-fb71-40c5-b712-357f8401e98c;1.0\n",
      "\tconfs: [default]\n",
      "\tfound graphframes#graphframes;0.8.2-spark3.2-s_2.12 in spark-packages\n",
      "\tfound org.slf4j#slf4j-api;1.7.16 in central\n",
      "downloading https://repos.spark-packages.org/graphframes/graphframes/0.8.2-spark3.2-s_2.12/graphframes-0.8.2-spark3.2-s_2.12.jar ...\n",
      "\t[SUCCESSFUL ] graphframes#graphframes;0.8.2-spark3.2-s_2.12!graphframes.jar (39ms)\n",
      "downloading https://repo1.maven.org/maven2/org/slf4j/slf4j-api/1.7.16/slf4j-api-1.7.16.jar ...\n",
      "\t[SUCCESSFUL ] org.slf4j#slf4j-api;1.7.16!slf4j-api.jar (29ms)\n",
      ":: resolution report :: resolve 804ms :: artifacts dl 73ms\n",
      "\t:: modules in use:\n",
      "\tgraphframes#graphframes;0.8.2-spark3.2-s_2.12 from spark-packages in [default]\n",
      "\torg.slf4j#slf4j-api;1.7.16 from central in [default]\n",
      "\t---------------------------------------------------------------------\n",
      "\t|                  |            modules            ||   artifacts   |\n",
      "\t|       conf       | number| search|dwnlded|evicted|| number|dwnlded|\n",
      "\t---------------------------------------------------------------------\n",
      "\t|      default     |   2   |   2   |   2   |   0   ||   2   |   2   |\n",
      "\t---------------------------------------------------------------------\n",
      ":: retrieving :: org.apache.spark#spark-submit-parent-d470c532-fb71-40c5-b712-357f8401e98c\n",
      "\tconfs: [default]\n",
      "\t2 artifacts copied, 0 already retrieved (281kB/7ms)\n"
     ]
    },
    {
     "name": "stdout",
     "output_type": "stream",
     "text": [
      "23/03/05 14:57:22 WARN NativeCodeLoader: Unable to load native-hadoop library for your platform... using builtin-java classes where applicable\n"
     ]
    },
    {
     "name": "stderr",
     "output_type": "stream",
     "text": [
      "Setting default log level to \"WARN\".\n",
      "To adjust logging level use sc.setLogLevel(newLevel). For SparkR, use setLogLevel(newLevel).\n"
     ]
    },
    {
     "name": "stdout",
     "output_type": "stream",
     "text": [
      "23/03/05 14:57:23 WARN SparkConf: Note that spark.local.dir will be overridden by the value set by the cluster manager (via SPARK_LOCAL_DIRS in mesos/standalone/kubernetes and LOCAL_DIRS in YARN).\n"
     ]
    }
   ],
   "source": [
    "%run ./read_file.ipynb "
   ]
  },
  {
   "cell_type": "code",
   "execution_count": 113,
   "id": "25675854-b0c7-41f7-bb4b-c7380bfe531c",
   "metadata": {
    "tags": []
   },
   "outputs": [
    {
     "name": "stdout",
     "output_type": "stream",
     "text": [
      " 5:00PM UTC on Mar 05, 2023 --- read and cache time: 0.46138644218444824 seconds ---\n"
     ]
    }
   ],
   "source": [
    "df_labels = readCheckpoint('labels')"
   ]
  },
  {
   "cell_type": "code",
   "execution_count": 114,
   "id": "d2c2306d-8814-4b36-8a2c-242f6243baca",
   "metadata": {
    "tags": []
   },
   "outputs": [
    {
     "name": "stdout",
     "output_type": "stream",
     "text": [
      "root\n",
      " |-- id: string (nullable = true)\n",
      " |-- timestamp: string (nullable = true)\n",
      " |-- objectID: string (nullable = true)\n",
      " |-- actorID: string (nullable = true)\n",
      " |-- object: string (nullable = true)\n",
      " |-- action: string (nullable = true)\n",
      " |-- hostname: string (nullable = true)\n",
      "\n"
     ]
    }
   ],
   "source": [
    "df_labels.printSchema()"
   ]
  },
  {
   "cell_type": "code",
   "execution_count": 29,
   "id": "9187143b-953e-41c2-b13b-dcecce900b8c",
   "metadata": {
    "tags": []
   },
   "outputs": [
    {
     "data": {
      "text/html": [
       "<div>\n",
       "<style scoped>\n",
       "    .dataframe tbody tr th:only-of-type {\n",
       "        vertical-align: middle;\n",
       "    }\n",
       "\n",
       "    .dataframe tbody tr th {\n",
       "        vertical-align: top;\n",
       "    }\n",
       "\n",
       "    .dataframe thead th {\n",
       "        text-align: right;\n",
       "    }\n",
       "</style>\n",
       "<table border=\"1\" class=\"dataframe\">\n",
       "  <thead>\n",
       "    <tr style=\"text-align: right;\">\n",
       "      <th></th>\n",
       "      <th>id</th>\n",
       "      <th>timestamp</th>\n",
       "      <th>objectID</th>\n",
       "      <th>actorID</th>\n",
       "      <th>object</th>\n",
       "      <th>action</th>\n",
       "      <th>hostname</th>\n",
       "    </tr>\n",
       "  </thead>\n",
       "  <tbody>\n",
       "    <tr>\n",
       "      <th>0</th>\n",
       "      <td>56036068-0c69-49ff-9630-6c402031fc7f</td>\n",
       "      <td>2019-09-25T01:28:37.665-04:00</td>\n",
       "      <td>8b335bf1-f27e-42ff-80b9-8c60c25eb212</td>\n",
       "      <td>3a3de01b-44d0-4a13-95fb-d6c2c318ec3d</td>\n",
       "      <td>SHELL</td>\n",
       "      <td>COMMAND</td>\n",
       "      <td>SysClient0010.systemia.com</td>\n",
       "    </tr>\n",
       "  </tbody>\n",
       "</table>\n",
       "</div>"
      ],
      "text/plain": [
       "                                     id                      timestamp  \\\n",
       "0  56036068-0c69-49ff-9630-6c402031fc7f  2019-09-25T01:28:37.665-04:00   \n",
       "\n",
       "                               objectID                               actorID  \\\n",
       "0  8b335bf1-f27e-42ff-80b9-8c60c25eb212  3a3de01b-44d0-4a13-95fb-d6c2c318ec3d   \n",
       "\n",
       "  object   action                    hostname  \n",
       "0  SHELL  COMMAND  SysClient0010.systemia.com  "
      ]
     },
     "execution_count": 29,
     "metadata": {},
     "output_type": "execute_result"
    }
   ],
   "source": [
    "df_labels.limit(1).toPandas()"
   ]
  },
  {
   "cell_type": "code",
   "execution_count": 4,
   "id": "30b59fd3-0759-4000-9a85-1f28bc0ca0b2",
   "metadata": {
    "collapsed": true,
    "jupyter": {
     "outputs_hidden": true
    },
    "tags": []
   },
   "outputs": [
    {
     "ename": "AnalysisException",
     "evalue": "Column 'timestamp' does not exist. Did you mean one of the following? [hostname, object, objectID, ts2, action, id, actorID];\n'Project [id#1, objectID#2, actorID#3, object#5, action#6, hostname#0, to_timestamp('timestamp, None, TimestampType, Some(UTC)) AS ts2#73]\n+- Project [id#1, objectID#2, actorID#3, object#5, action#6, hostname#0, ts2#57]\n   +- Project [id#1, timestamp#4, objectID#2, actorID#3, object#5, action#6, hostname#0, to_timestamp(timestamp#4, None, TimestampType, Some(UTC)) AS ts2#57]\n      +- Project [id#1, timestamp#4, objectID#2, actorID#3, object#5, action#6, hostname#0]\n         +- Relation [hostname#0,id#1,objectID#2,actorID#3,timestamp#4,object#5,action#6] parquet\n",
     "output_type": "error",
     "traceback": [
      "\u001b[0;31m---------------------------------------------------------------------------\u001b[0m",
      "\u001b[0;31mAnalysisException\u001b[0m                         Traceback (most recent call last)",
      "Cell \u001b[0;32mIn[4], line 2\u001b[0m\n\u001b[1;32m      1\u001b[0m \u001b[38;5;66;03m#create a timestamp column and drop the old timestamp\u001b[39;00m\n\u001b[0;32m----> 2\u001b[0m df_labels \u001b[38;5;241m=\u001b[39m \u001b[43mdf_labels\u001b[49m\u001b[38;5;241;43m.\u001b[39;49m\u001b[43mwithColumn\u001b[49m\u001b[43m(\u001b[49m\u001b[38;5;124;43m'\u001b[39;49m\u001b[38;5;124;43mts2\u001b[39;49m\u001b[38;5;124;43m'\u001b[39;49m\u001b[43m,\u001b[49m\u001b[43m \u001b[49m\u001b[43mto_timestamp\u001b[49m\u001b[43m(\u001b[49m\u001b[43mcol\u001b[49m\u001b[43m(\u001b[49m\u001b[38;5;124;43m'\u001b[39;49m\u001b[38;5;124;43mtimestamp\u001b[39;49m\u001b[38;5;124;43m'\u001b[39;49m\u001b[43m)\u001b[49m\u001b[43m)\u001b[49m\u001b[43m)\u001b[49m\u001b[38;5;241m.\u001b[39mdrop(\u001b[38;5;124m'\u001b[39m\u001b[38;5;124mtimestamp\u001b[39m\u001b[38;5;124m'\u001b[39m)\n",
      "File \u001b[0;32m~/anaconda3/envs/python3/lib/python3.10/site-packages/pyspark/sql/dataframe.py:3036\u001b[0m, in \u001b[0;36mDataFrame.withColumn\u001b[0;34m(self, colName, col)\u001b[0m\n\u001b[1;32m   3034\u001b[0m \u001b[38;5;28;01mif\u001b[39;00m \u001b[38;5;129;01mnot\u001b[39;00m \u001b[38;5;28misinstance\u001b[39m(col, Column):\n\u001b[1;32m   3035\u001b[0m     \u001b[38;5;28;01mraise\u001b[39;00m \u001b[38;5;167;01mTypeError\u001b[39;00m(\u001b[38;5;124m\"\u001b[39m\u001b[38;5;124mcol should be Column\u001b[39m\u001b[38;5;124m\"\u001b[39m)\n\u001b[0;32m-> 3036\u001b[0m \u001b[38;5;28;01mreturn\u001b[39;00m DataFrame(\u001b[38;5;28;43mself\u001b[39;49m\u001b[38;5;241;43m.\u001b[39;49m\u001b[43m_jdf\u001b[49m\u001b[38;5;241;43m.\u001b[39;49m\u001b[43mwithColumn\u001b[49m\u001b[43m(\u001b[49m\u001b[43mcolName\u001b[49m\u001b[43m,\u001b[49m\u001b[43m \u001b[49m\u001b[43mcol\u001b[49m\u001b[38;5;241;43m.\u001b[39;49m\u001b[43m_jc\u001b[49m\u001b[43m)\u001b[49m, \u001b[38;5;28mself\u001b[39m\u001b[38;5;241m.\u001b[39msparkSession)\n",
      "File \u001b[0;32m~/anaconda3/envs/python3/lib/python3.10/site-packages/py4j/java_gateway.py:1321\u001b[0m, in \u001b[0;36mJavaMember.__call__\u001b[0;34m(self, *args)\u001b[0m\n\u001b[1;32m   1315\u001b[0m command \u001b[38;5;241m=\u001b[39m proto\u001b[38;5;241m.\u001b[39mCALL_COMMAND_NAME \u001b[38;5;241m+\u001b[39m\\\n\u001b[1;32m   1316\u001b[0m     \u001b[38;5;28mself\u001b[39m\u001b[38;5;241m.\u001b[39mcommand_header \u001b[38;5;241m+\u001b[39m\\\n\u001b[1;32m   1317\u001b[0m     args_command \u001b[38;5;241m+\u001b[39m\\\n\u001b[1;32m   1318\u001b[0m     proto\u001b[38;5;241m.\u001b[39mEND_COMMAND_PART\n\u001b[1;32m   1320\u001b[0m answer \u001b[38;5;241m=\u001b[39m \u001b[38;5;28mself\u001b[39m\u001b[38;5;241m.\u001b[39mgateway_client\u001b[38;5;241m.\u001b[39msend_command(command)\n\u001b[0;32m-> 1321\u001b[0m return_value \u001b[38;5;241m=\u001b[39m \u001b[43mget_return_value\u001b[49m\u001b[43m(\u001b[49m\n\u001b[1;32m   1322\u001b[0m \u001b[43m    \u001b[49m\u001b[43manswer\u001b[49m\u001b[43m,\u001b[49m\u001b[43m \u001b[49m\u001b[38;5;28;43mself\u001b[39;49m\u001b[38;5;241;43m.\u001b[39;49m\u001b[43mgateway_client\u001b[49m\u001b[43m,\u001b[49m\u001b[43m \u001b[49m\u001b[38;5;28;43mself\u001b[39;49m\u001b[38;5;241;43m.\u001b[39;49m\u001b[43mtarget_id\u001b[49m\u001b[43m,\u001b[49m\u001b[43m \u001b[49m\u001b[38;5;28;43mself\u001b[39;49m\u001b[38;5;241;43m.\u001b[39;49m\u001b[43mname\u001b[49m\u001b[43m)\u001b[49m\n\u001b[1;32m   1324\u001b[0m \u001b[38;5;28;01mfor\u001b[39;00m temp_arg \u001b[38;5;129;01min\u001b[39;00m temp_args:\n\u001b[1;32m   1325\u001b[0m     temp_arg\u001b[38;5;241m.\u001b[39m_detach()\n",
      "File \u001b[0;32m~/anaconda3/envs/python3/lib/python3.10/site-packages/pyspark/sql/utils.py:196\u001b[0m, in \u001b[0;36mcapture_sql_exception.<locals>.deco\u001b[0;34m(*a, **kw)\u001b[0m\n\u001b[1;32m    192\u001b[0m converted \u001b[38;5;241m=\u001b[39m convert_exception(e\u001b[38;5;241m.\u001b[39mjava_exception)\n\u001b[1;32m    193\u001b[0m \u001b[38;5;28;01mif\u001b[39;00m \u001b[38;5;129;01mnot\u001b[39;00m \u001b[38;5;28misinstance\u001b[39m(converted, UnknownException):\n\u001b[1;32m    194\u001b[0m     \u001b[38;5;66;03m# Hide where the exception came from that shows a non-Pythonic\u001b[39;00m\n\u001b[1;32m    195\u001b[0m     \u001b[38;5;66;03m# JVM exception message.\u001b[39;00m\n\u001b[0;32m--> 196\u001b[0m     \u001b[38;5;28;01mraise\u001b[39;00m converted \u001b[38;5;28;01mfrom\u001b[39;00m \u001b[38;5;28mNone\u001b[39m\n\u001b[1;32m    197\u001b[0m \u001b[38;5;28;01melse\u001b[39;00m:\n\u001b[1;32m    198\u001b[0m     \u001b[38;5;28;01mraise\u001b[39;00m\n",
      "\u001b[0;31mAnalysisException\u001b[0m: Column 'timestamp' does not exist. Did you mean one of the following? [hostname, object, objectID, ts2, action, id, actorID];\n'Project [id#1, objectID#2, actorID#3, object#5, action#6, hostname#0, to_timestamp('timestamp, None, TimestampType, Some(UTC)) AS ts2#73]\n+- Project [id#1, objectID#2, actorID#3, object#5, action#6, hostname#0, ts2#57]\n   +- Project [id#1, timestamp#4, objectID#2, actorID#3, object#5, action#6, hostname#0, to_timestamp(timestamp#4, None, TimestampType, Some(UTC)) AS ts2#57]\n      +- Project [id#1, timestamp#4, objectID#2, actorID#3, object#5, action#6, hostname#0]\n         +- Relation [hostname#0,id#1,objectID#2,actorID#3,timestamp#4,object#5,action#6] parquet\n"
     ]
    }
   ],
   "source": [
    "#create a timestamp column and drop the old timestamp - does not appear necessary\n",
    "df_labels = df_labels.withColumn('ts2', to_timestamp(col('timestamp'))).drop('timestamp')"
   ]
  },
  {
   "cell_type": "code",
   "execution_count": 36,
   "id": "4eb0fbe2-882b-48ee-9d78-3a255cfb0a04",
   "metadata": {
    "tags": []
   },
   "outputs": [
    {
     "name": "stdout",
     "output_type": "stream",
     "text": [
      "root\n",
      " |-- id: string (nullable = true)\n",
      " |-- objectID: string (nullable = true)\n",
      " |-- actorID: string (nullable = true)\n",
      " |-- object: string (nullable = true)\n",
      " |-- action: string (nullable = true)\n",
      " |-- hostname: string (nullable = true)\n",
      " |-- ts2: timestamp (nullable = true)\n",
      "\n"
     ]
    }
   ],
   "source": [
    "#check new col data types\n",
    "df_labels.printSchema()"
   ]
  },
  {
   "cell_type": "code",
   "execution_count": 6,
   "id": "041ad384-6bb5-4ee9-b4f9-64f1c5261988",
   "metadata": {
    "tags": []
   },
   "outputs": [
    {
     "name": "stderr",
     "output_type": "stream",
     "text": [
      "/home/ec2-user/anaconda3/envs/python3/lib/python3.10/site-packages/pyspark/sql/pandas/conversion.py:248: FutureWarning: Passing unit-less datetime64 dtype to .astype is deprecated and will raise in a future version. Pass 'datetime64[ns]' instead\n",
      "  series = series.astype(t, copy=False)\n"
     ]
    },
    {
     "data": {
      "text/html": [
       "<div>\n",
       "<style scoped>\n",
       "    .dataframe tbody tr th:only-of-type {\n",
       "        vertical-align: middle;\n",
       "    }\n",
       "\n",
       "    .dataframe tbody tr th {\n",
       "        vertical-align: top;\n",
       "    }\n",
       "\n",
       "    .dataframe thead th {\n",
       "        text-align: right;\n",
       "    }\n",
       "</style>\n",
       "<table border=\"1\" class=\"dataframe\">\n",
       "  <thead>\n",
       "    <tr style=\"text-align: right;\">\n",
       "      <th></th>\n",
       "      <th>id</th>\n",
       "      <th>objectID</th>\n",
       "      <th>actorID</th>\n",
       "      <th>object</th>\n",
       "      <th>action</th>\n",
       "      <th>hostname</th>\n",
       "      <th>ts2</th>\n",
       "    </tr>\n",
       "  </thead>\n",
       "  <tbody>\n",
       "    <tr>\n",
       "      <th>0</th>\n",
       "      <td>43fb9623-3cd1-45ec-ab22-dbe46e75240e</td>\n",
       "      <td>96913629-c1c9-4503-9586-4a91de0e7311</td>\n",
       "      <td>af6b49d5-f648-41a4-946d-d92b174bae47</td>\n",
       "      <td>PROCESS</td>\n",
       "      <td>CREATE</td>\n",
       "      <td>SysClient0201.systemia.com</td>\n",
       "      <td>2019-09-23 15:23:55.857</td>\n",
       "    </tr>\n",
       "  </tbody>\n",
       "</table>\n",
       "</div>"
      ],
      "text/plain": [
       "                                     id                              objectID  \\\n",
       "0  43fb9623-3cd1-45ec-ab22-dbe46e75240e  96913629-c1c9-4503-9586-4a91de0e7311   \n",
       "\n",
       "                                actorID   object  action  \\\n",
       "0  af6b49d5-f648-41a4-946d-d92b174bae47  PROCESS  CREATE   \n",
       "\n",
       "                     hostname                     ts2  \n",
       "0  SysClient0201.systemia.com 2019-09-23 15:23:55.857  "
      ]
     },
     "execution_count": 6,
     "metadata": {},
     "output_type": "execute_result"
    }
   ],
   "source": [
    "df_labels.limit(1).toPandas()"
   ]
  },
  {
   "cell_type": "code",
   "execution_count": 6,
   "id": "867065bc-54de-40fb-8f8b-f4fbaa235c04",
   "metadata": {
    "tags": []
   },
   "outputs": [
    {
     "name": "stderr",
     "output_type": "stream",
     "text": [
      "                                                                                \r"
     ]
    },
    {
     "data": {
      "text/plain": [
       "292367"
      ]
     },
     "execution_count": 6,
     "metadata": {},
     "output_type": "execute_result"
    }
   ],
   "source": [
    "df_labels.count() "
   ]
  },
  {
   "cell_type": "code",
   "execution_count": 7,
   "id": "4a7e3fd5-9687-48d2-ac0b-f152ebb57473",
   "metadata": {
    "tags": []
   },
   "outputs": [],
   "source": [
    "#filter labeled events for just 23Sep and recount\n",
    "df_labels = df_labels.where(dayofmonth(col('timestamp')) == 23)"
   ]
  },
  {
   "cell_type": "code",
   "execution_count": 8,
   "id": "5f3a7782-5188-4a3f-8f82-2a45ccdde274",
   "metadata": {
    "tags": []
   },
   "outputs": [
    {
     "name": "stderr",
     "output_type": "stream",
     "text": [
      "                                                                                \r"
     ]
    },
    {
     "data": {
      "text/plain": [
       "105587"
      ]
     },
     "execution_count": 8,
     "metadata": {},
     "output_type": "execute_result"
    }
   ],
   "source": [
    "df_labels.count()"
   ]
  },
  {
   "cell_type": "code",
   "execution_count": 39,
   "id": "1b1ceee1-8741-46e9-89aa-9a4b6af22105",
   "metadata": {
    "tags": []
   },
   "outputs": [
    {
     "name": "stderr",
     "output_type": "stream",
     "text": [
      "/home/ec2-user/anaconda3/envs/python3/lib/python3.10/site-packages/pyspark/sql/pandas/conversion.py:248: FutureWarning: Passing unit-less datetime64 dtype to .astype is deprecated and will raise in a future version. Pass 'datetime64[ns]' instead\n",
      "  series = series.astype(t, copy=False)\n"
     ]
    },
    {
     "data": {
      "text/html": [
       "<div>\n",
       "<style scoped>\n",
       "    .dataframe tbody tr th:only-of-type {\n",
       "        vertical-align: middle;\n",
       "    }\n",
       "\n",
       "    .dataframe tbody tr th {\n",
       "        vertical-align: top;\n",
       "    }\n",
       "\n",
       "    .dataframe thead th {\n",
       "        text-align: right;\n",
       "    }\n",
       "</style>\n",
       "<table border=\"1\" class=\"dataframe\">\n",
       "  <thead>\n",
       "    <tr style=\"text-align: right;\">\n",
       "      <th></th>\n",
       "      <th>id</th>\n",
       "      <th>objectID</th>\n",
       "      <th>actorID</th>\n",
       "      <th>object</th>\n",
       "      <th>action</th>\n",
       "      <th>hostname</th>\n",
       "      <th>ts2</th>\n",
       "    </tr>\n",
       "  </thead>\n",
       "  <tbody>\n",
       "    <tr>\n",
       "      <th>0</th>\n",
       "      <td>43fb9623-3cd1-45ec-ab22-dbe46e75240e</td>\n",
       "      <td>96913629-c1c9-4503-9586-4a91de0e7311</td>\n",
       "      <td>af6b49d5-f648-41a4-946d-d92b174bae47</td>\n",
       "      <td>PROCESS</td>\n",
       "      <td>CREATE</td>\n",
       "      <td>SysClient0201.systemia.com</td>\n",
       "      <td>2019-09-23 15:23:55.857</td>\n",
       "    </tr>\n",
       "  </tbody>\n",
       "</table>\n",
       "</div>"
      ],
      "text/plain": [
       "                                     id                              objectID  \\\n",
       "0  43fb9623-3cd1-45ec-ab22-dbe46e75240e  96913629-c1c9-4503-9586-4a91de0e7311   \n",
       "\n",
       "                                actorID   object  action  \\\n",
       "0  af6b49d5-f648-41a4-946d-d92b174bae47  PROCESS  CREATE   \n",
       "\n",
       "                     hostname                     ts2  \n",
       "0  SysClient0201.systemia.com 2019-09-23 15:23:55.857  "
      ]
     },
     "execution_count": 39,
     "metadata": {},
     "output_type": "execute_result"
    }
   ],
   "source": [
    "#show me the first row to check\n",
    "df_labels.limit(1).toPandas()"
   ]
  },
  {
   "cell_type": "code",
   "execution_count": 7,
   "id": "d859b7d2-2ca5-4f54-92ef-82f78a15aa32",
   "metadata": {
    "tags": []
   },
   "outputs": [
    {
     "name": "stderr",
     "output_type": "stream",
     "text": [
      "                                                                                \r"
     ]
    },
    {
     "data": {
      "text/plain": [
       "69876"
      ]
     },
     "execution_count": 7,
     "metadata": {},
     "output_type": "execute_result"
    }
   ],
   "source": [
    "#how many objID in labels\n",
    "df_labels.select('objectID').distinct().count()"
   ]
  },
  {
   "cell_type": "code",
   "execution_count": 8,
   "id": "0c1d5c91-2800-4084-a7a5-0522279355f6",
   "metadata": {
    "tags": []
   },
   "outputs": [
    {
     "data": {
      "text/plain": [
       "150"
      ]
     },
     "execution_count": 8,
     "metadata": {},
     "output_type": "execute_result"
    }
   ],
   "source": [
    "#how many actIDs in labels\n",
    "df_labels.select('actorID').distinct().count()"
   ]
  },
  {
   "cell_type": "code",
   "execution_count": null,
   "id": "8730f02a-5d0f-416c-8717-3c1e81cf9b94",
   "metadata": {},
   "outputs": [],
   "source": [
    "#convert timestamp field into something useable\n"
   ]
  },
  {
   "cell_type": "code",
   "execution_count": 2,
   "id": "b4c8e885-2e44-42cf-b295-2235f419ced0",
   "metadata": {
    "tags": []
   },
   "outputs": [
    {
     "name": "stderr",
     "output_type": "stream",
     "text": [
      "                                                                                \r"
     ]
    },
    {
     "name": "stdout",
     "output_type": "stream",
     "text": [
      "10:58PM UTC on Mar 03, 2023 --- read and cache time: 16.875566005706787 seconds ---\n"
     ]
    }
   ],
   "source": [
    "df = readCheckpoint('ecar', 'prod', 'small')"
   ]
  },
  {
   "cell_type": "code",
   "execution_count": 5,
   "id": "d63f42d1-6eda-4805-b076-b135e8d4c2d0",
   "metadata": {
    "collapsed": true,
    "jupyter": {
     "outputs_hidden": true
    },
    "tags": []
   },
   "outputs": [
    {
     "name": "stdout",
     "output_type": "stream",
     "text": [
      "root\n",
      " |-- action: string (nullable = true)\n",
      " |-- actorID: string (nullable = true)\n",
      " |-- hostname: string (nullable = true)\n",
      " |-- id: string (nullable = true)\n",
      " |-- object: string (nullable = true)\n",
      " |-- objectID: string (nullable = true)\n",
      " |-- pid: integer (nullable = true)\n",
      " |-- ppid: integer (nullable = true)\n",
      " |-- principal: string (nullable = true)\n",
      " |-- tid: integer (nullable = true)\n",
      " |-- timestamp: timestamp (nullable = true)\n",
      " |-- acuity_level: string (nullable = true)\n",
      " |-- base_address: string (nullable = true)\n",
      " |-- command_line: string (nullable = true)\n",
      " |-- context_info: string (nullable = true)\n",
      " |-- data: string (nullable = true)\n",
      " |-- dest_port: integer (nullable = true)\n",
      " |-- direction: string (nullable = true)\n",
      " |-- end_time: timestamp (nullable = true)\n",
      " |-- file_path: string (nullable = true)\n",
      " |-- image_path: string (nullable = true)\n",
      " |-- info_class: string (nullable = true)\n",
      " |-- key: string (nullable = true)\n",
      " |-- l4protocol: string (nullable = true)\n",
      " |-- logon_id: string (nullable = true)\n",
      " |-- module_path: string (nullable = true)\n",
      " |-- new_path: string (nullable = true)\n",
      " |-- parent_image_path: string (nullable = true)\n",
      " |-- path: string (nullable = true)\n",
      " |-- payload: string (nullable = true)\n",
      " |-- privileges: string (nullable = true)\n",
      " |-- requesting_domain: string (nullable = true)\n",
      " |-- requesting_logon_id: string (nullable = true)\n",
      " |-- requesting_user: string (nullable = true)\n",
      " |-- sid: string (nullable = true)\n",
      " |-- size: string (nullable = true)\n",
      " |-- src_ip: string (nullable = true)\n",
      " |-- src_pid: integer (nullable = true)\n",
      " |-- src_port: integer (nullable = true)\n",
      " |-- src_tid: string (nullable = true)\n",
      " |-- stack_base: string (nullable = true)\n",
      " |-- stack_limit: string (nullable = true)\n",
      " |-- start_address: string (nullable = true)\n",
      " |-- start_time: timestamp (nullable = true)\n",
      " |-- subprocess_tag: string (nullable = true)\n",
      " |-- task_name: string (nullable = true)\n",
      " |-- task_pid: integer (nullable = true)\n",
      " |-- task_process_uuid: string (nullable = true)\n",
      " |-- tgt_pid: integer (nullable = true)\n",
      " |-- tgt_pid_uuid: string (nullable = true)\n",
      " |-- tgt_tid: integer (nullable = true)\n",
      " |-- type: string (nullable = true)\n",
      " |-- user: string (nullable = true)\n",
      " |-- user_name: string (nullable = true)\n",
      " |-- user_stack_base: string (nullable = true)\n",
      " |-- user_stack_limit: string (nullable = true)\n",
      " |-- value: string (nullable = true)\n",
      " |-- event_day: integer (nullable = true)\n",
      " |-- event_hour: integer (nullable = true)\n",
      " |-- event_minute: integer (nullable = true)\n",
      "\n"
     ]
    }
   ],
   "source": [
    "df.printSchema()"
   ]
  },
  {
   "cell_type": "code",
   "execution_count": 3,
   "id": "0aac7c99-c799-4c82-a71f-de8cd960bbdd",
   "metadata": {
    "tags": []
   },
   "outputs": [
    {
     "name": "stderr",
     "output_type": "stream",
     "text": [
      "                                                                                \r"
     ]
    },
    {
     "data": {
      "text/plain": [
       "1000000"
      ]
     },
     "execution_count": 3,
     "metadata": {},
     "output_type": "execute_result"
    }
   ],
   "source": [
    "df.count()"
   ]
  },
  {
   "cell_type": "code",
   "execution_count": 12,
   "id": "5e1419f5-9115-45de-bf80-6304f8261129",
   "metadata": {
    "tags": []
   },
   "outputs": [
    {
     "data": {
      "text/plain": [
       "844172"
      ]
     },
     "execution_count": 12,
     "metadata": {},
     "output_type": "execute_result"
    }
   ],
   "source": [
    "df.where(col(\"event_day\").isNull()).count()"
   ]
  },
  {
   "cell_type": "code",
   "execution_count": 16,
   "id": "cbeedfe2-9e73-4a05-9137-9350f6c3b784",
   "metadata": {
    "tags": []
   },
   "outputs": [
    {
     "name": "stdout",
     "output_type": "stream",
     "text": [
      "+--------------------+\n",
      "|           timestamp|\n",
      "+--------------------+\n",
      "|2019-09-23 13:09:...|\n",
      "|2019-09-23 13:09:...|\n",
      "|2019-09-23 13:09:...|\n",
      "|2019-09-23 13:09:...|\n",
      "|2019-09-23 13:09:...|\n",
      "+--------------------+\n",
      "\n"
     ]
    }
   ],
   "source": [
    "#remove any values where timestamp was NA and check\n",
    "df = df.where(col(\"event_day\").isNotNull())\n",
    "df.select(\"timestamp\").limit(5).show()"
   ]
  },
  {
   "cell_type": "code",
   "execution_count": 17,
   "id": "ced23378-2867-413a-aa54-afa2d9927c25",
   "metadata": {
    "tags": []
   },
   "outputs": [
    {
     "name": "stderr",
     "output_type": "stream",
     "text": [
      "                                                                                \r"
     ]
    },
    {
     "data": {
      "text/plain": [
       "155828"
      ]
     },
     "execution_count": 17,
     "metadata": {},
     "output_type": "execute_result"
    }
   ],
   "source": [
    "df.count()"
   ]
  },
  {
   "cell_type": "code",
   "execution_count": 4,
   "id": "625ed9dc-f224-4978-a715-92f214aa9b40",
   "metadata": {
    "tags": []
   },
   "outputs": [
    {
     "name": "stdout",
     "output_type": "stream",
     "text": [
      "+-------+\n",
      "| object|\n",
      "+-------+\n",
      "|  SHELL|\n",
      "|   FLOW|\n",
      "|   FILE|\n",
      "|PROCESS|\n",
      "+-------+\n",
      "\n"
     ]
    }
   ],
   "source": [
    "df.select(\"object\").distinct().show()"
   ]
  },
  {
   "cell_type": "code",
   "execution_count": 46,
   "id": "c3dd1bbe-8037-4db1-a0bf-eb40144f829c",
   "metadata": {
    "tags": []
   },
   "outputs": [
    {
     "name": "stderr",
     "output_type": "stream",
     "text": [
      "/home/ec2-user/anaconda3/envs/python3/lib/python3.10/site-packages/pyspark/sql/pandas/conversion.py:248: FutureWarning: Passing unit-less datetime64 dtype to .astype is deprecated and will raise in a future version. Pass 'datetime64[ns]' instead\n",
      "  series = series.astype(t, copy=False)\n"
     ]
    },
    {
     "data": {
      "text/html": [
       "<div>\n",
       "<style scoped>\n",
       "    .dataframe tbody tr th:only-of-type {\n",
       "        vertical-align: middle;\n",
       "    }\n",
       "\n",
       "    .dataframe tbody tr th {\n",
       "        vertical-align: top;\n",
       "    }\n",
       "\n",
       "    .dataframe thead th {\n",
       "        text-align: right;\n",
       "    }\n",
       "</style>\n",
       "<table border=\"1\" class=\"dataframe\">\n",
       "  <thead>\n",
       "    <tr style=\"text-align: right;\">\n",
       "      <th></th>\n",
       "      <th>objectID</th>\n",
       "      <th>actorID</th>\n",
       "      <th>timestamp</th>\n",
       "      <th>object</th>\n",
       "      <th>action</th>\n",
       "    </tr>\n",
       "  </thead>\n",
       "  <tbody>\n",
       "    <tr>\n",
       "      <th>0</th>\n",
       "      <td>eeee9e56-df6e-476c-bfc7-03d507dbd8e7</td>\n",
       "      <td>c183f6f4-e83e-4d05-98df-6cafce2ec010</td>\n",
       "      <td>2019-09-23 13:11:02.370</td>\n",
       "      <td>FLOW</td>\n",
       "      <td>INFO</td>\n",
       "    </tr>\n",
       "    <tr>\n",
       "      <th>1</th>\n",
       "      <td>c7bfc171-627d-4103-b883-d5c3d4fd2f4d</td>\n",
       "      <td>c183f6f4-e83e-4d05-98df-6cafce2ec010</td>\n",
       "      <td>2019-09-23 13:11:02.375</td>\n",
       "      <td>FLOW</td>\n",
       "      <td>INFO</td>\n",
       "    </tr>\n",
       "    <tr>\n",
       "      <th>2</th>\n",
       "      <td>da018e32-281d-4a74-83cc-c113fc70900b</td>\n",
       "      <td>c183f6f4-e83e-4d05-98df-6cafce2ec010</td>\n",
       "      <td>2019-09-23 13:11:02.385</td>\n",
       "      <td>FLOW</td>\n",
       "      <td>INFO</td>\n",
       "    </tr>\n",
       "    <tr>\n",
       "      <th>3</th>\n",
       "      <td>b48bef19-32d5-4727-9a29-4e0186dcffe0</td>\n",
       "      <td>c183f6f4-e83e-4d05-98df-6cafce2ec010</td>\n",
       "      <td>2019-09-23 13:11:02.409</td>\n",
       "      <td>FLOW</td>\n",
       "      <td>INFO</td>\n",
       "    </tr>\n",
       "    <tr>\n",
       "      <th>4</th>\n",
       "      <td>cd7be00d-3691-484c-aedb-954582d6353c</td>\n",
       "      <td>c183f6f4-e83e-4d05-98df-6cafce2ec010</td>\n",
       "      <td>2019-09-23 13:11:02.414</td>\n",
       "      <td>FLOW</td>\n",
       "      <td>INFO</td>\n",
       "    </tr>\n",
       "  </tbody>\n",
       "</table>\n",
       "</div>"
      ],
      "text/plain": [
       "                               objectID                               actorID  \\\n",
       "0  eeee9e56-df6e-476c-bfc7-03d507dbd8e7  c183f6f4-e83e-4d05-98df-6cafce2ec010   \n",
       "1  c7bfc171-627d-4103-b883-d5c3d4fd2f4d  c183f6f4-e83e-4d05-98df-6cafce2ec010   \n",
       "2  da018e32-281d-4a74-83cc-c113fc70900b  c183f6f4-e83e-4d05-98df-6cafce2ec010   \n",
       "3  b48bef19-32d5-4727-9a29-4e0186dcffe0  c183f6f4-e83e-4d05-98df-6cafce2ec010   \n",
       "4  cd7be00d-3691-484c-aedb-954582d6353c  c183f6f4-e83e-4d05-98df-6cafce2ec010   \n",
       "\n",
       "                timestamp object action  \n",
       "0 2019-09-23 13:11:02.370   FLOW   INFO  \n",
       "1 2019-09-23 13:11:02.375   FLOW   INFO  \n",
       "2 2019-09-23 13:11:02.385   FLOW   INFO  \n",
       "3 2019-09-23 13:11:02.409   FLOW   INFO  \n",
       "4 2019-09-23 13:11:02.414   FLOW   INFO  "
      ]
     },
     "execution_count": 46,
     "metadata": {},
     "output_type": "execute_result"
    }
   ],
   "source": [
    "df.select([\"objectID\", \"actorID\",\"timestamp\", \"object\",\"action\"]).limit(5).toPandas()"
   ]
  },
  {
   "cell_type": "code",
   "execution_count": 47,
   "id": "1079bf0f-f26b-4fd3-be78-c0f893ae7be7",
   "metadata": {
    "tags": []
   },
   "outputs": [
    {
     "name": "stderr",
     "output_type": "stream",
     "text": [
      "                                                                                \r"
     ]
    },
    {
     "data": {
      "text/plain": [
       "1"
      ]
     },
     "execution_count": 47,
     "metadata": {},
     "output_type": "execute_result"
    }
   ],
   "source": [
    "#what objects are represented\n",
    "df.select(col(\"object\")).distinct().count()"
   ]
  },
  {
   "cell_type": "code",
   "execution_count": 49,
   "id": "1532efab-97a2-40bd-bb6e-ee8e3e2ccee4",
   "metadata": {
    "tags": []
   },
   "outputs": [
    {
     "name": "stderr",
     "output_type": "stream",
     "text": [
      "                                                                                \r"
     ]
    },
    {
     "data": {
      "text/plain": [
       "7"
      ]
     },
     "execution_count": 49,
     "metadata": {},
     "output_type": "execute_result"
    }
   ],
   "source": [
    "#how many event hours are represented\n",
    "df.select(col(\"event_hour\")).distinct().count()"
   ]
  },
  {
   "cell_type": "code",
   "execution_count": 6,
   "id": "4407b771-357e-4519-9327-851e67483c31",
   "metadata": {
    "tags": []
   },
   "outputs": [
    {
     "name": "stderr",
     "output_type": "stream",
     "text": [
      "[Stage 10:===================================================>    (12 + 1) / 13]\r"
     ]
    },
    {
     "name": "stdout",
     "output_type": "stream",
     "text": [
      "+---+\n",
      "|day|\n",
      "+---+\n",
      "| 23|\n",
      "+---+\n",
      "\n"
     ]
    },
    {
     "name": "stderr",
     "output_type": "stream",
     "text": [
      "                                                                                \r"
     ]
    }
   ],
   "source": [
    "#create column of month days to determine which days are represented. \n",
    "df = df.withColumn(\"day\", dayofmonth(col(\"timestamp\")))\n",
    "df.select(col(\"day\")).distinct().show()"
   ]
  },
  {
   "cell_type": "markdown",
   "id": "5187feab-5d3e-43ee-a7c2-e9297712cbc7",
   "metadata": {},
   "source": [
    "#### so we see only that the 23 is represented. "
   ]
  },
  {
   "cell_type": "code",
   "execution_count": 17,
   "id": "a7595f27-8416-4bb5-a801-17367391383a",
   "metadata": {
    "tags": []
   },
   "outputs": [
    {
     "name": "stderr",
     "output_type": "stream",
     "text": [
      "                                                                                \r"
     ]
    },
    {
     "data": {
      "text/plain": [
       "1000000"
      ]
     },
     "execution_count": 17,
     "metadata": {},
     "output_type": "execute_result"
    }
   ],
   "source": [
    "#what is the size of the dataset? \n",
    "df.count()"
   ]
  },
  {
   "cell_type": "code",
   "execution_count": 23,
   "id": "d3eb7df8-c99e-4acb-a31b-658d6fe050e0",
   "metadata": {
    "tags": []
   },
   "outputs": [
    {
     "name": "stderr",
     "output_type": "stream",
     "text": [
      "                                                                                \r"
     ]
    },
    {
     "data": {
      "text/plain": [
       "68"
      ]
     },
     "execution_count": 23,
     "metadata": {},
     "output_type": "execute_result"
    }
   ],
   "source": [
    "#make a very small data set and see how many distinct actorIDs there are\n",
    "df_vsmall = df.limit(10000)\n",
    "df_vsmall.select(col(\"actorID\")).distinct().count()"
   ]
  },
  {
   "cell_type": "code",
   "execution_count": 28,
   "id": "2802b04b-5427-40c1-9ca6-fa03ee477620",
   "metadata": {
    "tags": []
   },
   "outputs": [
    {
     "name": "stderr",
     "output_type": "stream",
     "text": [
      "/home/ec2-user/anaconda3/envs/python3/lib/python3.10/site-packages/pyspark/sql/pandas/conversion.py:248: FutureWarning: Passing unit-less datetime64 dtype to .astype is deprecated and will raise in a future version. Pass 'datetime64[ns]' instead\n",
      "  series = series.astype(t, copy=False)\n"
     ]
    },
    {
     "data": {
      "text/html": [
       "<div>\n",
       "<style scoped>\n",
       "    .dataframe tbody tr th:only-of-type {\n",
       "        vertical-align: middle;\n",
       "    }\n",
       "\n",
       "    .dataframe tbody tr th {\n",
       "        vertical-align: top;\n",
       "    }\n",
       "\n",
       "    .dataframe thead th {\n",
       "        text-align: right;\n",
       "    }\n",
       "</style>\n",
       "<table border=\"1\" class=\"dataframe\">\n",
       "  <thead>\n",
       "    <tr style=\"text-align: right;\">\n",
       "      <th></th>\n",
       "      <th>timestamp</th>\n",
       "    </tr>\n",
       "  </thead>\n",
       "  <tbody>\n",
       "    <tr>\n",
       "      <th>0</th>\n",
       "      <td>2019-09-23 13:12:56.806</td>\n",
       "    </tr>\n",
       "    <tr>\n",
       "      <th>1</th>\n",
       "      <td>2019-09-23 13:12:56.806</td>\n",
       "    </tr>\n",
       "  </tbody>\n",
       "</table>\n",
       "</div>"
      ],
      "text/plain": [
       "                timestamp\n",
       "0 2019-09-23 13:12:56.806\n",
       "1 2019-09-23 13:12:56.806"
      ]
     },
     "execution_count": 28,
     "metadata": {},
     "output_type": "execute_result"
    }
   ],
   "source": [
    "#great now order v_small dataset by time\n",
    "df_vsmall.sort(col(\"timestamp\").desc()).select(\"timestamp\").limit(2).toPandas()"
   ]
  },
  {
   "cell_type": "code",
   "execution_count": 29,
   "id": "2e9bcf5a-38bd-406d-b0f4-edefa32eb800",
   "metadata": {
    "tags": []
   },
   "outputs": [
    {
     "name": "stderr",
     "output_type": "stream",
     "text": [
      "/home/ec2-user/anaconda3/envs/python3/lib/python3.10/site-packages/pyspark/sql/pandas/conversion.py:248: FutureWarning: Passing unit-less datetime64 dtype to .astype is deprecated and will raise in a future version. Pass 'datetime64[ns]' instead\n",
      "  series = series.astype(t, copy=False)\n"
     ]
    },
    {
     "data": {
      "text/html": [
       "<div>\n",
       "<style scoped>\n",
       "    .dataframe tbody tr th:only-of-type {\n",
       "        vertical-align: middle;\n",
       "    }\n",
       "\n",
       "    .dataframe tbody tr th {\n",
       "        vertical-align: top;\n",
       "    }\n",
       "\n",
       "    .dataframe thead th {\n",
       "        text-align: right;\n",
       "    }\n",
       "</style>\n",
       "<table border=\"1\" class=\"dataframe\">\n",
       "  <thead>\n",
       "    <tr style=\"text-align: right;\">\n",
       "      <th></th>\n",
       "      <th>timestamp</th>\n",
       "    </tr>\n",
       "  </thead>\n",
       "  <tbody>\n",
       "    <tr>\n",
       "      <th>0</th>\n",
       "      <td>2019-09-23 13:12:01.622</td>\n",
       "    </tr>\n",
       "    <tr>\n",
       "      <th>1</th>\n",
       "      <td>2019-09-23 13:12:01.622</td>\n",
       "    </tr>\n",
       "  </tbody>\n",
       "</table>\n",
       "</div>"
      ],
      "text/plain": [
       "                timestamp\n",
       "0 2019-09-23 13:12:01.622\n",
       "1 2019-09-23 13:12:01.622"
      ]
     },
     "execution_count": 29,
     "metadata": {},
     "output_type": "execute_result"
    }
   ],
   "source": [
    "#sort by ascending to see difference\n",
    "df_vsmall.sort(col(\"timestamp\").asc()).select(\"timestamp\").limit(2).toPandas()"
   ]
  },
  {
   "cell_type": "code",
   "execution_count": 31,
   "id": "27e0c404-ca85-4889-b96e-d5ad4d0cb9d7",
   "metadata": {
    "collapsed": true,
    "jupyter": {
     "outputs_hidden": true
    },
    "tags": []
   },
   "outputs": [
    {
     "name": "stderr",
     "output_type": "stream",
     "text": [
      "/home/ec2-user/anaconda3/envs/python3/lib/python3.10/site-packages/pyspark/sql/pandas/conversion.py:248: FutureWarning: Passing unit-less datetime64 dtype to .astype is deprecated and will raise in a future version. Pass 'datetime64[ns]' instead\n",
      "  series = series.astype(t, copy=False)\n"
     ]
    },
    {
     "data": {
      "text/html": [
       "<div>\n",
       "<style scoped>\n",
       "    .dataframe tbody tr th:only-of-type {\n",
       "        vertical-align: middle;\n",
       "    }\n",
       "\n",
       "    .dataframe tbody tr th {\n",
       "        vertical-align: top;\n",
       "    }\n",
       "\n",
       "    .dataframe thead th {\n",
       "        text-align: right;\n",
       "    }\n",
       "</style>\n",
       "<table border=\"1\" class=\"dataframe\">\n",
       "  <thead>\n",
       "    <tr style=\"text-align: right;\">\n",
       "      <th></th>\n",
       "      <th>timestamp</th>\n",
       "    </tr>\n",
       "  </thead>\n",
       "  <tbody>\n",
       "    <tr>\n",
       "      <th>0</th>\n",
       "      <td>2019-09-23 13:12:01.622</td>\n",
       "    </tr>\n",
       "    <tr>\n",
       "      <th>1</th>\n",
       "      <td>2019-09-23 13:12:01.723</td>\n",
       "    </tr>\n",
       "  </tbody>\n",
       "</table>\n",
       "</div>"
      ],
      "text/plain": [
       "                timestamp\n",
       "0 2019-09-23 13:12:01.622\n",
       "1 2019-09-23 13:12:01.723"
      ]
     },
     "execution_count": 31,
     "metadata": {},
     "output_type": "execute_result"
    }
   ],
   "source": [
    "df_vsmall.select(\"timestamp\").limit(2).toPandas()"
   ]
  },
  {
   "cell_type": "code",
   "execution_count": 24,
   "id": "f774fef5-6ee6-47dc-bbb8-03ab1ae06e32",
   "metadata": {
    "tags": []
   },
   "outputs": [],
   "source": [
    "#k so I have to sort the df and keep it that way. \n",
    "df_vsmall = df_vsmall.sort(col(\"timestamp\").asc())"
   ]
  },
  {
   "cell_type": "code",
   "execution_count": 25,
   "id": "b6089ab5-e928-4e15-917e-5a03b8bd1577",
   "metadata": {
    "tags": []
   },
   "outputs": [
    {
     "name": "stderr",
     "output_type": "stream",
     "text": [
      "/home/ec2-user/anaconda3/envs/python3/lib/python3.10/site-packages/pyspark/sql/pandas/conversion.py:248: FutureWarning: Passing unit-less datetime64 dtype to .astype is deprecated and will raise in a future version. Pass 'datetime64[ns]' instead\n",
      "  series = series.astype(t, copy=False)\n"
     ]
    },
    {
     "data": {
      "text/html": [
       "<div>\n",
       "<style scoped>\n",
       "    .dataframe tbody tr th:only-of-type {\n",
       "        vertical-align: middle;\n",
       "    }\n",
       "\n",
       "    .dataframe tbody tr th {\n",
       "        vertical-align: top;\n",
       "    }\n",
       "\n",
       "    .dataframe thead th {\n",
       "        text-align: right;\n",
       "    }\n",
       "</style>\n",
       "<table border=\"1\" class=\"dataframe\">\n",
       "  <thead>\n",
       "    <tr style=\"text-align: right;\">\n",
       "      <th></th>\n",
       "      <th>id</th>\n",
       "      <th>timestamp</th>\n",
       "    </tr>\n",
       "  </thead>\n",
       "  <tbody>\n",
       "    <tr>\n",
       "      <th>0</th>\n",
       "      <td>76f6091b-412f-41eb-bcd3-9184aeac62a1</td>\n",
       "      <td>2019-09-23 13:11:00.145</td>\n",
       "    </tr>\n",
       "    <tr>\n",
       "      <th>1</th>\n",
       "      <td>17af483c-22ca-4710-b26c-f35924056575</td>\n",
       "      <td>2019-09-23 13:11:00.164</td>\n",
       "    </tr>\n",
       "    <tr>\n",
       "      <th>2</th>\n",
       "      <td>e6651435-1708-4c87-9478-f84ee9f5569c</td>\n",
       "      <td>2019-09-23 13:11:00.168</td>\n",
       "    </tr>\n",
       "    <tr>\n",
       "      <th>3</th>\n",
       "      <td>7309e9fd-9315-4200-b2d7-5a2ae29d92d4</td>\n",
       "      <td>2019-09-23 13:11:00.168</td>\n",
       "    </tr>\n",
       "    <tr>\n",
       "      <th>4</th>\n",
       "      <td>336c4edd-85b3-4694-909a-325b55b256e3</td>\n",
       "      <td>2019-09-23 13:11:00.171</td>\n",
       "    </tr>\n",
       "  </tbody>\n",
       "</table>\n",
       "</div>"
      ],
      "text/plain": [
       "                                     id               timestamp\n",
       "0  76f6091b-412f-41eb-bcd3-9184aeac62a1 2019-09-23 13:11:00.145\n",
       "1  17af483c-22ca-4710-b26c-f35924056575 2019-09-23 13:11:00.164\n",
       "2  e6651435-1708-4c87-9478-f84ee9f5569c 2019-09-23 13:11:00.168\n",
       "3  7309e9fd-9315-4200-b2d7-5a2ae29d92d4 2019-09-23 13:11:00.168\n",
       "4  336c4edd-85b3-4694-909a-325b55b256e3 2019-09-23 13:11:00.171"
      ]
     },
     "execution_count": 25,
     "metadata": {},
     "output_type": "execute_result"
    }
   ],
   "source": [
    "#check order\n",
    "df_vsmall.select([\"id\",\"timestamp\"]).limit(5).toPandas()"
   ]
  },
  {
   "cell_type": "code",
   "execution_count": 36,
   "id": "9429fd26-94a9-4dd9-a19b-76931c9157be",
   "metadata": {
    "tags": []
   },
   "outputs": [
    {
     "name": "stdout",
     "output_type": "stream",
     "text": [
      "['89f91b70-9613-4e70-9473-23bb029e3889', 'e518426c-0868-49c2-a424-f22273343f80', '099b52e3-caf5-487d-bb04-5d5380049562', 'aa240ddc-17cd-4f29-bb39-e40a51f088b2', '095b125e-695e-456d-b962-7e3a131ff689', 'b81fd4f9-3e18-4260-9145-c14f68146fd9', 'a42bf7c9-bc3b-435a-891a-f1de9d8590aa']\n"
     ]
    }
   ],
   "source": [
    "#extract list of unique actor ids \n",
    "actIDs = [row.actorID for row in df_vsmall.select(\"actorID\").distinct().collect()]\n",
    "print(actIDs)"
   ]
  },
  {
   "cell_type": "code",
   "execution_count": 26,
   "id": "4ea98555-6d37-4c65-9ac3-bcdcca06f23f",
   "metadata": {
    "tags": []
   },
   "outputs": [
    {
     "name": "stderr",
     "output_type": "stream",
     "text": [
      "                                                                                \r"
     ]
    }
   ],
   "source": [
    "#create an array of unique values for speed and then creat proof of concept iteration\n",
    "test_ID_arr = df_vsmall.select(\"actorID\").distinct().collect()\n",
    "#for row in test_ID_arr: \n",
    " #   print(row.actorID)"
   ]
  },
  {
   "cell_type": "code",
   "execution_count": 12,
   "id": "3db1a379-371a-42dd-81fb-656f2ec58bbf",
   "metadata": {
    "tags": []
   },
   "outputs": [
    {
     "name": "stderr",
     "output_type": "stream",
     "text": [
      "                                                                                \r"
     ]
    },
    {
     "data": {
      "text/plain": [
       "1000"
      ]
     },
     "execution_count": 12,
     "metadata": {},
     "output_type": "execute_result"
    }
   ],
   "source": [
    "#confirm that event IDs are all unique. This should return a count of 50. \n",
    "df_vsmall.select(\"id\").distinct().count()"
   ]
  },
  {
   "cell_type": "code",
   "execution_count": 13,
   "id": "84ca7a36-015c-4e1c-afeb-8fb42585b134",
   "metadata": {
    "tags": []
   },
   "outputs": [
    {
     "data": {
      "text/plain": [
       "'c183f6f4-e83e-4d05-98df-6cafce2ec010'"
      ]
     },
     "execution_count": 13,
     "metadata": {},
     "output_type": "execute_result"
    }
   ],
   "source": [
    "test_ID_arr[0].actorID"
   ]
  },
  {
   "cell_type": "code",
   "execution_count": 27,
   "id": "d8a0c7db-7744-44d1-9e1e-6b0a43134f73",
   "metadata": {
    "tags": []
   },
   "outputs": [
    {
     "name": "stderr",
     "output_type": "stream",
     "text": [
      "                                                                                \r"
     ]
    }
   ],
   "source": [
    "#objID collection\n",
    "test_objID = df_vsmall.select(\"objectID\").distinct().collect()"
   ]
  },
  {
   "cell_type": "code",
   "execution_count": 15,
   "id": "41eac927-4794-47f9-8fc5-5654cce59287",
   "metadata": {
    "tags": []
   },
   "outputs": [
    {
     "name": "stderr",
     "output_type": "stream",
     "text": [
      "                                                                                \r"
     ]
    },
    {
     "data": {
      "text/plain": [
       "1"
      ]
     },
     "execution_count": 15,
     "metadata": {},
     "output_type": "execute_result"
    }
   ],
   "source": [
    "#so there are nine examples of the same objID in the dataset\n",
    "df_vsmall.where(col(\"objectID\") == test_objID[0].objectID).count()"
   ]
  },
  {
   "cell_type": "code",
   "execution_count": 33,
   "id": "067bec4a-83e8-4fa7-923f-58656bf0edda",
   "metadata": {
    "tags": []
   },
   "outputs": [
    {
     "name": "stderr",
     "output_type": "stream",
     "text": [
      "                                                                                \r"
     ]
    },
    {
     "data": {
      "text/plain": [
       "0"
      ]
     },
     "execution_count": 33,
     "metadata": {},
     "output_type": "execute_result"
    }
   ],
   "source": [
    "#but the obj ID appears 10 times in the actor ID...I think it's starting to make sense. \n",
    "df_vsmall.where(col(\"actorID\") == test_objID[0].objectID).count()"
   ]
  },
  {
   "cell_type": "code",
   "execution_count": 28,
   "id": "627a204e-f10d-47b1-baf9-d5cdbd69e3ac",
   "metadata": {
    "tags": []
   },
   "outputs": [
    {
     "name": "stdout",
     "output_type": "stream",
     "text": [
      "Objects: 10000\n",
      "Actors: 68\n"
     ]
    }
   ],
   "source": [
    "#are there more objIDs or actorIDs\n",
    "print(\"Objects: \" + str(len(test_objID)))\n",
    "print(\"Actors: \" + str(len(test_ID_arr)))"
   ]
  },
  {
   "cell_type": "code",
   "execution_count": 29,
   "id": "45844f82-cba6-4383-863c-4e67d52c6308",
   "metadata": {
    "tags": []
   },
   "outputs": [
    {
     "name": "stderr",
     "output_type": "stream",
     "text": [
      "                                                                                \r"
     ]
    },
    {
     "data": {
      "text/plain": [
       "10000"
      ]
     },
     "execution_count": 29,
     "metadata": {},
     "output_type": "execute_result"
    }
   ],
   "source": [
    "df_vsmall.select(\"objectID\").distinct().count()"
   ]
  },
  {
   "cell_type": "code",
   "execution_count": 30,
   "id": "f76ae738-d85a-490a-bf22-627fa52fc6f6",
   "metadata": {
    "tags": []
   },
   "outputs": [
    {
     "data": {
      "text/plain": [
       "'2b8a82ef-89df-4e07-b6a3-00c9e904d348'"
      ]
     },
     "execution_count": 30,
     "metadata": {},
     "output_type": "execute_result"
    }
   ],
   "source": [
    "test_ID_arr[1].actorID"
   ]
  },
  {
   "cell_type": "code",
   "execution_count": 32,
   "id": "bb178e9d-8cfe-4eef-8a7c-9b5d68a8ae8a",
   "metadata": {
    "tags": []
   },
   "outputs": [
    {
     "name": "stderr",
     "output_type": "stream",
     "text": [
      "                                                                                \r"
     ]
    },
    {
     "data": {
      "text/html": [
       "<div>\n",
       "<style scoped>\n",
       "    .dataframe tbody tr th:only-of-type {\n",
       "        vertical-align: middle;\n",
       "    }\n",
       "\n",
       "    .dataframe tbody tr th {\n",
       "        vertical-align: top;\n",
       "    }\n",
       "\n",
       "    .dataframe thead th {\n",
       "        text-align: right;\n",
       "    }\n",
       "</style>\n",
       "<table border=\"1\" class=\"dataframe\">\n",
       "  <thead>\n",
       "    <tr style=\"text-align: right;\">\n",
       "      <th></th>\n",
       "      <th>objectID</th>\n",
       "      <th>actorID</th>\n",
       "      <th>timestamp</th>\n",
       "      <th>object</th>\n",
       "      <th>action</th>\n",
       "    </tr>\n",
       "  </thead>\n",
       "  <tbody>\n",
       "  </tbody>\n",
       "</table>\n",
       "</div>"
      ],
      "text/plain": [
       "Empty DataFrame\n",
       "Columns: [objectID, actorID, timestamp, object, action]\n",
       "Index: []"
      ]
     },
     "execution_count": 32,
     "metadata": {},
     "output_type": "execute_result"
    }
   ],
   "source": [
    "#k this is obvious now, i was seeing the first actor 0 times in objID because it was the first event\n",
    "df_vsmall.select([\"objectID\", \"actorID\",\"timestamp\", \"object\",\"action\"]).where(col(\"objectID\") == test_ID_arr[10].actorID).toPandas()"
   ]
  },
  {
   "cell_type": "code",
   "execution_count": 20,
   "id": "715fe667-2eb8-4a51-b26a-8dc6971ab48f",
   "metadata": {
    "tags": []
   },
   "outputs": [
    {
     "name": "stderr",
     "output_type": "stream",
     "text": [
      "                                                                                \r"
     ]
    },
    {
     "data": {
      "text/html": [
       "<div>\n",
       "<style scoped>\n",
       "    .dataframe tbody tr th:only-of-type {\n",
       "        vertical-align: middle;\n",
       "    }\n",
       "\n",
       "    .dataframe tbody tr th {\n",
       "        vertical-align: top;\n",
       "    }\n",
       "\n",
       "    .dataframe thead th {\n",
       "        text-align: right;\n",
       "    }\n",
       "</style>\n",
       "<table border=\"1\" class=\"dataframe\">\n",
       "  <thead>\n",
       "    <tr style=\"text-align: right;\">\n",
       "      <th></th>\n",
       "      <th>objectID</th>\n",
       "      <th>actorID</th>\n",
       "      <th>timestamp</th>\n",
       "      <th>object</th>\n",
       "      <th>action</th>\n",
       "    </tr>\n",
       "  </thead>\n",
       "  <tbody>\n",
       "  </tbody>\n",
       "</table>\n",
       "</div>"
      ],
      "text/plain": [
       "Empty DataFrame\n",
       "Columns: [objectID, actorID, timestamp, object, action]\n",
       "Index: []"
      ]
     },
     "execution_count": 20,
     "metadata": {},
     "output_type": "execute_result"
    }
   ],
   "source": [
    "#k this is obvious now, i was seeing the first actor 0 times in objID because it was the first event\n",
    "df_vsmall.select([\"objectID\", \"actorID\",\"timestamp\", \"object\",\"action\"]).where(col(\"objectID\") == test_ID_arr[2].actorID).toPandas()"
   ]
  },
  {
   "cell_type": "code",
   "execution_count": 51,
   "id": "c814b428-417d-4029-96d1-08653425ff8e",
   "metadata": {
    "tags": []
   },
   "outputs": [
    {
     "name": "stderr",
     "output_type": "stream",
     "text": [
      "                                                                                \r"
     ]
    }
   ],
   "source": [
    "for i in range(len(test_ID_arr)):\n",
    "    if df_vsmall.where(col(\"objectID\") == test_ID_arr[i].actorID).count() > 0: \n",
    "        print(\"yes\")\n"
   ]
  },
  {
   "cell_type": "code",
   "execution_count": 18,
   "id": "4a96a13c-f91d-4c7a-90cc-bb1cb5bb55be",
   "metadata": {
    "tags": []
   },
   "outputs": [
    {
     "name": "stderr",
     "output_type": "stream",
     "text": [
      "[Stage 29:=============================>                            (2 + 2) / 4]\r"
     ]
    },
    {
     "name": "stdout",
     "output_type": "stream",
     "text": [
      "Objects: 48622\n",
      "Actors: 2327\n"
     ]
    },
    {
     "name": "stderr",
     "output_type": "stream",
     "text": [
      "                                                                                \r"
     ]
    }
   ],
   "source": [
    "#alright so the truncated data isn't working let's expand to 2 hours worth of data and see how many actor ids are in the\n",
    "#obj ID collection. \n",
    "\n",
    "#objID collection\n",
    "test_objID_big = df.select(\"objectID\").distinct().collect()\n",
    "test_ID_arr_big = df.select(\"actorID\").distinct().collect()\n",
    "\n",
    "print(\"Objects: \" + str(len(test_objID_big)))\n",
    "print(\"Actors: \" + str(len(test_ID_arr_big)))\n"
   ]
  },
  {
   "cell_type": "code",
   "execution_count": 19,
   "id": "7560f64c-0d6c-40fd-b1e1-0766c5f8c784",
   "metadata": {
    "tags": []
   },
   "outputs": [
    {
     "name": "stderr",
     "output_type": "stream",
     "text": [
      "[Stage 32:=============================>                            (2 + 2) / 4]\r"
     ]
    },
    {
     "name": "stdout",
     "output_type": "stream",
     "text": [
      "+-------+\n",
      "| object|\n",
      "+-------+\n",
      "|  SHELL|\n",
      "|   FLOW|\n",
      "|   FILE|\n",
      "|PROCESS|\n",
      "+-------+\n",
      "\n"
     ]
    },
    {
     "name": "stderr",
     "output_type": "stream",
     "text": [
      "                                                                                \r"
     ]
    }
   ],
   "source": [
    "#what events are in the \"full dataset\"\n",
    "df.select(\"object\").distinct().show()"
   ]
  },
  {
   "cell_type": "code",
   "execution_count": 31,
   "id": "c7d072a6-ca4e-46c2-9d06-b00ca7f0a389",
   "metadata": {
    "tags": []
   },
   "outputs": [
    {
     "name": "stderr",
     "output_type": "stream",
     "text": [
      "[Stage 52:===================================================>    (12 + 1) / 13]\r"
     ]
    },
    {
     "name": "stdout",
     "output_type": "stream",
     "text": [
      "+------+\n",
      "|object|\n",
      "+------+\n",
      "|  FLOW|\n",
      "+------+\n",
      "\n"
     ]
    },
    {
     "name": "stderr",
     "output_type": "stream",
     "text": [
      "                                                                                \r"
     ]
    }
   ],
   "source": [
    "df_eps.select(\"object\").distinct().show()"
   ]
  },
  {
   "cell_type": "code",
   "execution_count": 15,
   "id": "e34bd08b-fbbb-4df8-aef3-afa7ec8b6ace",
   "metadata": {
    "tags": []
   },
   "outputs": [
    {
     "name": "stdout",
     "output_type": "stream",
     "text": [
      "+---------+---------+------+\n",
      "| actorIDs|objectIDs|id_int|\n",
      "+---------+---------+------+\n",
      "|[a, b, c]|   [c, d]|   [c]|\n",
      "+---------+---------+------+\n",
      "\n"
     ]
    }
   ],
   "source": [
    "#proof of concept\n",
    "\n",
    "samp = [{\"actorIDs\" : ['a','b','c'], \\\n",
    "               \"objectIDs\" : ['c','d']}]\n",
    "id_intersect = spark.createDataFrame(samp)\n",
    "id_intersect = (id_intersect.withColumn(\"id_int\", \\\n",
    "                                        array_intersect(col(\"actorIDs\"), col(\"objectIDs\"))))\n",
    "id_intersect.show()"
   ]
  },
  {
   "cell_type": "code",
   "execution_count": 4,
   "id": "1d9f74cd-c351-444b-ae84-22671c8cc136",
   "metadata": {
    "tags": []
   },
   "outputs": [
    {
     "ename": "NameError",
     "evalue": "name 'test_ID_arr_big' is not defined",
     "output_type": "error",
     "traceback": [
      "\u001b[0;31m---------------------------------------------------------------------------\u001b[0m",
      "\u001b[0;31mNameError\u001b[0m                                 Traceback (most recent call last)",
      "Cell \u001b[0;32mIn[4], line 6\u001b[0m\n\u001b[1;32m      1\u001b[0m \u001b[38;5;66;03m#so I used the wrong code to find the overlap between the two \"sets\" of ids. instead\u001b[39;00m\n\u001b[1;32m      2\u001b[0m \u001b[38;5;66;03m#I need to create an array with one row and two columns. the columns will contain lists of Obj and\u001b[39;00m\n\u001b[1;32m      3\u001b[0m \u001b[38;5;66;03m#actor IDs. I will create a spark df with that array. I will then create another column with array interesct, which\u001b[39;00m\n\u001b[1;32m      4\u001b[0m \u001b[38;5;66;03m#will give me a list of the common elements. I can then use the overlapping elements to build traces.\u001b[39;00m\n\u001b[0;32m----> 6\u001b[0m data \u001b[38;5;241m=\u001b[39m [{\u001b[38;5;124m\"\u001b[39m\u001b[38;5;124mactorIDs\u001b[39m\u001b[38;5;124m\"\u001b[39m : [row\u001b[38;5;241m.\u001b[39mactorID \u001b[38;5;28;01mfor\u001b[39;00m row \u001b[38;5;129;01min\u001b[39;00m \u001b[43mtest_ID_arr_big\u001b[49m], \\\n\u001b[1;32m      7\u001b[0m                \u001b[38;5;124m\"\u001b[39m\u001b[38;5;124mobjectIDs\u001b[39m\u001b[38;5;124m\"\u001b[39m : [row\u001b[38;5;241m.\u001b[39mobjectID \u001b[38;5;28;01mfor\u001b[39;00m row \u001b[38;5;129;01min\u001b[39;00m test_objID_big]}]\n\u001b[1;32m      8\u001b[0m id_intersect \u001b[38;5;241m=\u001b[39m spark\u001b[38;5;241m.\u001b[39mcreateDataFrame(data)\n",
      "\u001b[0;31mNameError\u001b[0m: name 'test_ID_arr_big' is not defined"
     ]
    }
   ],
   "source": [
    "#so I used the wrong code to find the overlap between the two \"sets\" of ids. instead\n",
    "#I need to create an array with one row and two columns. the columns will contain lists of Obj and\n",
    "#actor IDs. I will create a spark df with that array. I will then create another column with array interesct, which\n",
    "#will give me a list of the common elements. I can then use the overlapping elements to build traces.\n",
    "\n",
    "data = [{\"actorIDs\" : [row.actorID for row in test_ID_arr_big], \\\n",
    "               \"objectIDs\" : [row.objectID for row in test_objID_big]}]\n",
    "id_intersect = spark.createDataFrame(data)\n"
   ]
  },
  {
   "cell_type": "code",
   "execution_count": 21,
   "id": "414ef3ef-289d-4a2a-96ab-24b7423295b9",
   "metadata": {
    "tags": []
   },
   "outputs": [],
   "source": [
    "#what is the overlap\n",
    "id_intersect = (id_intersect.withColumn(\"id_int\", \\\n",
    "                                        array_intersect(col(\"actorIDs\"), col(\"objectIDs\"))))"
   ]
  },
  {
   "cell_type": "code",
   "execution_count": 25,
   "id": "63cf7333-ea52-4d7a-a9fc-9b37d7a4f19c",
   "metadata": {
    "tags": []
   },
   "outputs": [
    {
     "data": {
      "text/html": [
       "<div>\n",
       "<style scoped>\n",
       "    .dataframe tbody tr th:only-of-type {\n",
       "        vertical-align: middle;\n",
       "    }\n",
       "\n",
       "    .dataframe tbody tr th {\n",
       "        vertical-align: top;\n",
       "    }\n",
       "\n",
       "    .dataframe thead th {\n",
       "        text-align: right;\n",
       "    }\n",
       "</style>\n",
       "<table border=\"1\" class=\"dataframe\">\n",
       "  <thead>\n",
       "    <tr style=\"text-align: right;\">\n",
       "      <th></th>\n",
       "      <th>id_int</th>\n",
       "    </tr>\n",
       "  </thead>\n",
       "  <tbody>\n",
       "    <tr>\n",
       "      <th>0</th>\n",
       "      <td>[86d3fc1e-dfe9-4482-a888-527838b43f77, 49b0ed0...</td>\n",
       "    </tr>\n",
       "  </tbody>\n",
       "</table>\n",
       "</div>"
      ],
      "text/plain": [
       "                                              id_int\n",
       "0  [86d3fc1e-dfe9-4482-a888-527838b43f77, 49b0ed0..."
      ]
     },
     "execution_count": 25,
     "metadata": {},
     "output_type": "execute_result"
    }
   ],
   "source": [
    "id_intersect.select(\"id_int\").toPandas()"
   ]
  },
  {
   "cell_type": "code",
   "execution_count": 29,
   "id": "24e94a70-9c5f-4aad-9f0d-559055fcc200",
   "metadata": {
    "tags": []
   },
   "outputs": [
    {
     "name": "stdout",
     "output_type": "stream",
     "text": [
      "1715\n"
     ]
    }
   ],
   "source": [
    "#extract the overlap list and turn it into a column\n",
    "overlap = id_intersect.select(\"id_int\").collect()\n",
    "overlap = [row.id_int for row in overlap][0]\n",
    "print(len(overlap))"
   ]
  },
  {
   "cell_type": "markdown",
   "id": "64a47666-ceb9-4455-aad4-5b85487c4e7b",
   "metadata": {},
   "source": [
    "#### We show 1715 actor ids that are in the object IDs! huzzah! I probably have to sort and then run this all again."
   ]
  },
  {
   "cell_type": "code",
   "execution_count": 5,
   "id": "dd49ea43-4d7a-406e-a21d-63deaa03a2b8",
   "metadata": {
    "tags": []
   },
   "outputs": [
    {
     "name": "stdout",
     "output_type": "stream",
     "text": [
      "root\n",
      " |-- action: string (nullable = true)\n",
      " |-- actorID: string (nullable = true)\n",
      " |-- hostname: string (nullable = true)\n",
      " |-- id: string (nullable = true)\n",
      " |-- object: string (nullable = true)\n",
      " |-- objectID: string (nullable = true)\n",
      " |-- pid: long (nullable = true)\n",
      " |-- ppid: long (nullable = true)\n",
      " |-- principal: string (nullable = true)\n",
      " |-- tid: long (nullable = true)\n",
      " |-- timestamp: string (nullable = true)\n",
      " |-- acuity_level: string (nullable = true)\n",
      " |-- base_address: string (nullable = true)\n",
      " |-- command_line: string (nullable = true)\n",
      " |-- context_info: string (nullable = true)\n",
      " |-- data: string (nullable = true)\n",
      " |-- dest_ip: string (nullable = true)\n",
      " |-- dest_port: string (nullable = true)\n",
      " |-- direction: string (nullable = true)\n",
      " |-- end_time: string (nullable = true)\n",
      " |-- file_path: string (nullable = true)\n",
      " |-- image_path: string (nullable = true)\n",
      " |-- info_class: string (nullable = true)\n",
      " |-- key: string (nullable = true)\n",
      " |-- l4protocol: string (nullable = true)\n",
      " |-- logon_id: string (nullable = true)\n",
      " |-- module_path: string (nullable = true)\n",
      " |-- new_path: string (nullable = true)\n",
      " |-- parent_image_path: string (nullable = true)\n",
      " |-- path: string (nullable = true)\n",
      " |-- payload: string (nullable = true)\n",
      " |-- privileges: string (nullable = true)\n",
      " |-- requesting_domain: string (nullable = true)\n",
      " |-- requesting_logon_id: string (nullable = true)\n",
      " |-- requesting_user: string (nullable = true)\n",
      " |-- sid: string (nullable = true)\n",
      " |-- size: string (nullable = true)\n",
      " |-- src_ip: string (nullable = true)\n",
      " |-- src_pid: string (nullable = true)\n",
      " |-- src_port: string (nullable = true)\n",
      " |-- src_tid: string (nullable = true)\n",
      " |-- stack_base: string (nullable = true)\n",
      " |-- stack_limit: string (nullable = true)\n",
      " |-- start_address: string (nullable = true)\n",
      " |-- start_time: string (nullable = true)\n",
      " |-- subprocess_tag: string (nullable = true)\n",
      " |-- task_name: string (nullable = true)\n",
      " |-- task_pid: string (nullable = true)\n",
      " |-- task_process_uuid: string (nullable = true)\n",
      " |-- tgt_pid: string (nullable = true)\n",
      " |-- tgt_pid_uuid: string (nullable = true)\n",
      " |-- tgt_tid: string (nullable = true)\n",
      " |-- type: string (nullable = true)\n",
      " |-- user: string (nullable = true)\n",
      " |-- user_name: string (nullable = true)\n",
      " |-- user_stack_base: string (nullable = true)\n",
      " |-- user_stack_limit: string (nullable = true)\n",
      " |-- value: string (nullable = true)\n",
      "\n"
     ]
    }
   ],
   "source": [
    "df.printSchema()"
   ]
  },
  {
   "cell_type": "code",
   "execution_count": 5,
   "id": "68b54f51-c24a-461a-a845-02ae078be541",
   "metadata": {
    "collapsed": true,
    "jupyter": {
     "outputs_hidden": true
    },
    "tags": []
   },
   "outputs": [
    {
     "name": "stderr",
     "output_type": "stream",
     "text": [
      "/home/ec2-user/anaconda3/envs/python3/lib/python3.10/site-packages/pyspark/sql/pandas/conversion.py:248: FutureWarning: Passing unit-less datetime64 dtype to .astype is deprecated and will raise in a future version. Pass 'datetime64[ns]' instead\n",
      "  series = series.astype(t, copy=False)\n"
     ]
    },
    {
     "data": {
      "text/html": [
       "<div>\n",
       "<style scoped>\n",
       "    .dataframe tbody tr th:only-of-type {\n",
       "        vertical-align: middle;\n",
       "    }\n",
       "\n",
       "    .dataframe tbody tr th {\n",
       "        vertical-align: top;\n",
       "    }\n",
       "\n",
       "    .dataframe thead th {\n",
       "        text-align: right;\n",
       "    }\n",
       "</style>\n",
       "<table border=\"1\" class=\"dataframe\">\n",
       "  <thead>\n",
       "    <tr style=\"text-align: right;\">\n",
       "      <th></th>\n",
       "      <th>timestamp</th>\n",
       "    </tr>\n",
       "  </thead>\n",
       "  <tbody>\n",
       "    <tr>\n",
       "      <th>0</th>\n",
       "      <td>2019-09-23 13:06:09.180</td>\n",
       "    </tr>\n",
       "    <tr>\n",
       "      <th>1</th>\n",
       "      <td>2019-09-23 13:06:09.182</td>\n",
       "    </tr>\n",
       "    <tr>\n",
       "      <th>2</th>\n",
       "      <td>2019-09-23 13:06:09.185</td>\n",
       "    </tr>\n",
       "    <tr>\n",
       "      <th>3</th>\n",
       "      <td>2019-09-23 13:06:09.187</td>\n",
       "    </tr>\n",
       "    <tr>\n",
       "      <th>4</th>\n",
       "      <td>2019-09-23 13:06:09.189</td>\n",
       "    </tr>\n",
       "    <tr>\n",
       "      <th>5</th>\n",
       "      <td>2019-09-23 13:06:09.192</td>\n",
       "    </tr>\n",
       "    <tr>\n",
       "      <th>6</th>\n",
       "      <td>2019-09-23 13:06:09.753</td>\n",
       "    </tr>\n",
       "    <tr>\n",
       "      <th>7</th>\n",
       "      <td>2019-09-23 13:06:09.755</td>\n",
       "    </tr>\n",
       "    <tr>\n",
       "      <th>8</th>\n",
       "      <td>2019-09-23 13:06:09.756</td>\n",
       "    </tr>\n",
       "    <tr>\n",
       "      <th>9</th>\n",
       "      <td>2019-09-23 13:06:09.758</td>\n",
       "    </tr>\n",
       "  </tbody>\n",
       "</table>\n",
       "</div>"
      ],
      "text/plain": [
       "                timestamp\n",
       "0 2019-09-23 13:06:09.180\n",
       "1 2019-09-23 13:06:09.182\n",
       "2 2019-09-23 13:06:09.185\n",
       "3 2019-09-23 13:06:09.187\n",
       "4 2019-09-23 13:06:09.189\n",
       "5 2019-09-23 13:06:09.192\n",
       "6 2019-09-23 13:06:09.753\n",
       "7 2019-09-23 13:06:09.755\n",
       "8 2019-09-23 13:06:09.756\n",
       "9 2019-09-23 13:06:09.758"
      ]
     },
     "execution_count": 5,
     "metadata": {},
     "output_type": "execute_result"
    }
   ],
   "source": [
    "#sort the column by timestamp, re-run intersect, then find the first actor ID\n",
    "#in the object ID column, and not the actor ID column, and add that to a dictionary as a key, or a node. \n",
    "\n",
    "#first step sort the data and check\n",
    "df = df.sort(col(\"timestamp\").asc())\n",
    "df.select(\"timestamp\").limit(10).toPandas()\n"
   ]
  },
  {
   "cell_type": "code",
   "execution_count": 6,
   "id": "91b3122d-c599-4375-aea6-f09ba4f7a8e1",
   "metadata": {
    "tags": []
   },
   "outputs": [
    {
     "name": "stderr",
     "output_type": "stream",
     "text": [
      "[Stage 18:===========================================>              (3 + 1) / 4]\r"
     ]
    },
    {
     "name": "stdout",
     "output_type": "stream",
     "text": [
      "0\n"
     ]
    },
    {
     "name": "stderr",
     "output_type": "stream",
     "text": [
      "                                                                                \r"
     ]
    }
   ],
   "source": [
    "#now get overlapping connections\n",
    "\n",
    "#build collections of each type of ID\n",
    "col_objID = df.select(\"objectID\").distinct().collect()\n",
    "col_actID = df.select(\"actorID\").distinct().collect()\n",
    "\n",
    "#put these columns into a dictionary and turn into a spark data frame\n",
    "data = [{\"actorIDs\" : [row.actorID for row in col_actID], \\\n",
    "               \"objectIDs\" : [row.objectID for row in col_objID]}]\n",
    "\n",
    "id_intersect = spark.createDataFrame(data)\n",
    "\n",
    "#compare ID pools to find actIDs that are nodes\n",
    "id_intersect = id_intersect.withColumn(\"id_int\", \\\n",
    "                                       array_intersect(col(\"actorIDs\"),col(\"objectIDs\")))\n",
    "\n",
    "#now build a list of the nodal actIDs and print the length\n",
    "actIDs = [row.id_int for row in id_intersect.select(\"id_int\").collect()][0]\n",
    "\n",
    "print(len(actIDs))\n"
   ]
  },
  {
   "cell_type": "code",
   "execution_count": 27,
   "id": "31a47ebb-ead2-431a-9806-1d2a5be50231",
   "metadata": {
    "collapsed": true,
    "jupyter": {
     "outputs_hidden": true
    },
    "tags": []
   },
   "outputs": [
    {
     "name": "stdout",
     "output_type": "stream",
     "text": [
      "86d3fc1e-dfe9-4482-a888-527838b43f77\n"
     ]
    },
    {
     "name": "stderr",
     "output_type": "stream",
     "text": [
      "                                                                                \r"
     ]
    },
    {
     "name": "stdout",
     "output_type": "stream",
     "text": [
      "29\n"
     ]
    },
    {
     "name": "stderr",
     "output_type": "stream",
     "text": [
      "/home/ec2-user/anaconda3/envs/python3/lib/python3.10/site-packages/pyspark/sql/pandas/conversion.py:248: FutureWarning: Passing unit-less datetime64 dtype to .astype is deprecated and will raise in a future version. Pass 'datetime64[ns]' instead\n",
      "  series = series.astype(t, copy=False)\n"
     ]
    },
    {
     "data": {
      "text/html": [
       "<div>\n",
       "<style scoped>\n",
       "    .dataframe tbody tr th:only-of-type {\n",
       "        vertical-align: middle;\n",
       "    }\n",
       "\n",
       "    .dataframe tbody tr th {\n",
       "        vertical-align: top;\n",
       "    }\n",
       "\n",
       "    .dataframe thead th {\n",
       "        text-align: right;\n",
       "    }\n",
       "</style>\n",
       "<table border=\"1\" class=\"dataframe\">\n",
       "  <thead>\n",
       "    <tr style=\"text-align: right;\">\n",
       "      <th></th>\n",
       "      <th>id</th>\n",
       "      <th>timestamp</th>\n",
       "      <th>objectID</th>\n",
       "      <th>actorID</th>\n",
       "      <th>object</th>\n",
       "    </tr>\n",
       "  </thead>\n",
       "  <tbody>\n",
       "    <tr>\n",
       "      <th>0</th>\n",
       "      <td>fee5a6ee-0036-4f5b-8707-44b743034244</td>\n",
       "      <td>2019-09-23 13:09:35.268</td>\n",
       "      <td>86d3fc1e-dfe9-4482-a888-527838b43f77</td>\n",
       "      <td>bc3f9532-bc1a-4dae-8755-aaf459bb1f03</td>\n",
       "      <td>PROCESS</td>\n",
       "    </tr>\n",
       "    <tr>\n",
       "      <th>1</th>\n",
       "      <td>3333b6c3-9b38-4b0e-ad5a-ac8587ebce79</td>\n",
       "      <td>2019-09-23 13:09:35.268</td>\n",
       "      <td>86d3fc1e-dfe9-4482-a888-527838b43f77</td>\n",
       "      <td>bc3f9532-bc1a-4dae-8755-aaf459bb1f03</td>\n",
       "      <td>PROCESS</td>\n",
       "    </tr>\n",
       "    <tr>\n",
       "      <th>2</th>\n",
       "      <td>331957dc-d998-4332-9455-abd7518bfbdc</td>\n",
       "      <td>2019-09-23 13:09:35.268</td>\n",
       "      <td>86d3fc1e-dfe9-4482-a888-527838b43f77</td>\n",
       "      <td>bc3f9532-bc1a-4dae-8755-aaf459bb1f03</td>\n",
       "      <td>PROCESS</td>\n",
       "    </tr>\n",
       "    <tr>\n",
       "      <th>3</th>\n",
       "      <td>e8901f25-9ec9-438e-a0ed-c4cf8fca6fb0</td>\n",
       "      <td>2019-09-23 13:09:35.269</td>\n",
       "      <td>86d3fc1e-dfe9-4482-a888-527838b43f77</td>\n",
       "      <td>e5c55ff3-46a7-487f-a035-7bf01013a36b</td>\n",
       "      <td>PROCESS</td>\n",
       "    </tr>\n",
       "    <tr>\n",
       "      <th>4</th>\n",
       "      <td>bc0515ee-fc61-47cb-b41c-fb8e87a4c206</td>\n",
       "      <td>2019-09-23 13:09:35.271</td>\n",
       "      <td>86d3fc1e-dfe9-4482-a888-527838b43f77</td>\n",
       "      <td>86d3fc1e-dfe9-4482-a888-527838b43f77</td>\n",
       "      <td>PROCESS</td>\n",
       "    </tr>\n",
       "    <tr>\n",
       "      <th>5</th>\n",
       "      <td>72e6cc1e-de4f-4249-a7e2-0a962dbc67c5</td>\n",
       "      <td>2019-09-23 13:09:35.294</td>\n",
       "      <td>86d3fc1e-dfe9-4482-a888-527838b43f77</td>\n",
       "      <td>39ea8e1f-669c-401e-a5ae-f163698dda21</td>\n",
       "      <td>PROCESS</td>\n",
       "    </tr>\n",
       "    <tr>\n",
       "      <th>6</th>\n",
       "      <td>9984eddc-da7b-4363-8602-8d045d3a722d</td>\n",
       "      <td>2019-09-23 13:09:35.297</td>\n",
       "      <td>86d3fc1e-dfe9-4482-a888-527838b43f77</td>\n",
       "      <td>86d3fc1e-dfe9-4482-a888-527838b43f77</td>\n",
       "      <td>PROCESS</td>\n",
       "    </tr>\n",
       "    <tr>\n",
       "      <th>7</th>\n",
       "      <td>2c6e4ffb-358d-475e-adf7-d02cb4e357b4</td>\n",
       "      <td>2019-09-23 13:09:35.321</td>\n",
       "      <td>86d3fc1e-dfe9-4482-a888-527838b43f77</td>\n",
       "      <td>86d3fc1e-dfe9-4482-a888-527838b43f77</td>\n",
       "      <td>PROCESS</td>\n",
       "    </tr>\n",
       "    <tr>\n",
       "      <th>8</th>\n",
       "      <td>3bd03030-9d8b-4ec5-a991-1d9aaf19f383</td>\n",
       "      <td>2019-09-23 13:09:35.326</td>\n",
       "      <td>86d3fc1e-dfe9-4482-a888-527838b43f77</td>\n",
       "      <td>86d3fc1e-dfe9-4482-a888-527838b43f77</td>\n",
       "      <td>PROCESS</td>\n",
       "    </tr>\n",
       "    <tr>\n",
       "      <th>9</th>\n",
       "      <td>21c3458c-90f3-4401-a36e-27b9cc48ca2e</td>\n",
       "      <td>2019-09-23 13:09:35.333</td>\n",
       "      <td>86d3fc1e-dfe9-4482-a888-527838b43f77</td>\n",
       "      <td>86d3fc1e-dfe9-4482-a888-527838b43f77</td>\n",
       "      <td>PROCESS</td>\n",
       "    </tr>\n",
       "    <tr>\n",
       "      <th>10</th>\n",
       "      <td>763608ac-d769-457b-a53b-cf4220be4403</td>\n",
       "      <td>2019-09-23 13:09:35.333</td>\n",
       "      <td>86d3fc1e-dfe9-4482-a888-527838b43f77</td>\n",
       "      <td>86d3fc1e-dfe9-4482-a888-527838b43f77</td>\n",
       "      <td>PROCESS</td>\n",
       "    </tr>\n",
       "    <tr>\n",
       "      <th>11</th>\n",
       "      <td>97613312-3378-42c7-bdd6-615849672a24</td>\n",
       "      <td>2019-09-23 13:09:35.340</td>\n",
       "      <td>86d3fc1e-dfe9-4482-a888-527838b43f77</td>\n",
       "      <td>86d3fc1e-dfe9-4482-a888-527838b43f77</td>\n",
       "      <td>PROCESS</td>\n",
       "    </tr>\n",
       "    <tr>\n",
       "      <th>12</th>\n",
       "      <td>6f4c7d3e-492e-4481-961b-a25b1dd96514</td>\n",
       "      <td>2019-09-23 13:09:35.356</td>\n",
       "      <td>86d3fc1e-dfe9-4482-a888-527838b43f77</td>\n",
       "      <td>86d3fc1e-dfe9-4482-a888-527838b43f77</td>\n",
       "      <td>PROCESS</td>\n",
       "    </tr>\n",
       "    <tr>\n",
       "      <th>13</th>\n",
       "      <td>0ae556ff-44f9-44e0-9c18-b28ca50144ce</td>\n",
       "      <td>2019-09-23 13:09:35.399</td>\n",
       "      <td>86d3fc1e-dfe9-4482-a888-527838b43f77</td>\n",
       "      <td>10ca3280-2e31-45c2-859c-45674b12dce2</td>\n",
       "      <td>PROCESS</td>\n",
       "    </tr>\n",
       "    <tr>\n",
       "      <th>14</th>\n",
       "      <td>96af70c8-5c6b-440c-82b8-c4a7ebb1db01</td>\n",
       "      <td>2019-09-23 13:09:35.419</td>\n",
       "      <td>86d3fc1e-dfe9-4482-a888-527838b43f77</td>\n",
       "      <td>86d3fc1e-dfe9-4482-a888-527838b43f77</td>\n",
       "      <td>PROCESS</td>\n",
       "    </tr>\n",
       "    <tr>\n",
       "      <th>15</th>\n",
       "      <td>04eca8e0-d197-4ff0-b8b9-f5617e1706b7</td>\n",
       "      <td>2019-09-23 13:09:35.419</td>\n",
       "      <td>86d3fc1e-dfe9-4482-a888-527838b43f77</td>\n",
       "      <td>86d3fc1e-dfe9-4482-a888-527838b43f77</td>\n",
       "      <td>PROCESS</td>\n",
       "    </tr>\n",
       "    <tr>\n",
       "      <th>16</th>\n",
       "      <td>16c71256-fd97-4ad1-a582-a1130c1f6967</td>\n",
       "      <td>2019-09-23 13:09:35.542</td>\n",
       "      <td>86d3fc1e-dfe9-4482-a888-527838b43f77</td>\n",
       "      <td>86d3fc1e-dfe9-4482-a888-527838b43f77</td>\n",
       "      <td>PROCESS</td>\n",
       "    </tr>\n",
       "    <tr>\n",
       "      <th>17</th>\n",
       "      <td>d70f8e2a-1533-4cf0-bd7f-9cc011f719e7</td>\n",
       "      <td>2019-09-23 13:09:35.735</td>\n",
       "      <td>86d3fc1e-dfe9-4482-a888-527838b43f77</td>\n",
       "      <td>86d3fc1e-dfe9-4482-a888-527838b43f77</td>\n",
       "      <td>PROCESS</td>\n",
       "    </tr>\n",
       "    <tr>\n",
       "      <th>18</th>\n",
       "      <td>ba503a75-b6a9-40dd-829d-45b96d0e6352</td>\n",
       "      <td>2019-09-23 13:09:35.771</td>\n",
       "      <td>86d3fc1e-dfe9-4482-a888-527838b43f77</td>\n",
       "      <td>86d3fc1e-dfe9-4482-a888-527838b43f77</td>\n",
       "      <td>PROCESS</td>\n",
       "    </tr>\n",
       "    <tr>\n",
       "      <th>19</th>\n",
       "      <td>49aac060-83c0-4c96-bfaa-016ecf175aad</td>\n",
       "      <td>2019-09-23 13:09:35.877</td>\n",
       "      <td>86d3fc1e-dfe9-4482-a888-527838b43f77</td>\n",
       "      <td>db6c9a7c-66be-4333-8d51-82f248e55a00</td>\n",
       "      <td>PROCESS</td>\n",
       "    </tr>\n",
       "    <tr>\n",
       "      <th>20</th>\n",
       "      <td>a8c2955f-6558-4e2b-be49-b7c080b07c63</td>\n",
       "      <td>2019-09-23 13:09:35.877</td>\n",
       "      <td>86d3fc1e-dfe9-4482-a888-527838b43f77</td>\n",
       "      <td>db6c9a7c-66be-4333-8d51-82f248e55a00</td>\n",
       "      <td>PROCESS</td>\n",
       "    </tr>\n",
       "    <tr>\n",
       "      <th>21</th>\n",
       "      <td>98c496e3-a029-4db1-b265-24e7d343e966</td>\n",
       "      <td>2019-09-23 13:09:35.939</td>\n",
       "      <td>86d3fc1e-dfe9-4482-a888-527838b43f77</td>\n",
       "      <td>86d3fc1e-dfe9-4482-a888-527838b43f77</td>\n",
       "      <td>PROCESS</td>\n",
       "    </tr>\n",
       "    <tr>\n",
       "      <th>22</th>\n",
       "      <td>bc238e1a-269c-4b21-b3b9-063f56ebc0ad</td>\n",
       "      <td>2019-09-23 13:09:36.193</td>\n",
       "      <td>86d3fc1e-dfe9-4482-a888-527838b43f77</td>\n",
       "      <td>86d3fc1e-dfe9-4482-a888-527838b43f77</td>\n",
       "      <td>PROCESS</td>\n",
       "    </tr>\n",
       "    <tr>\n",
       "      <th>23</th>\n",
       "      <td>c2ece8a4-bd45-42db-b9af-1363aa81d65d</td>\n",
       "      <td>2019-09-23 13:09:36.200</td>\n",
       "      <td>86d3fc1e-dfe9-4482-a888-527838b43f77</td>\n",
       "      <td>86d3fc1e-dfe9-4482-a888-527838b43f77</td>\n",
       "      <td>PROCESS</td>\n",
       "    </tr>\n",
       "    <tr>\n",
       "      <th>24</th>\n",
       "      <td>31c23c1c-5db8-46c5-ae53-f8a871e4ce17</td>\n",
       "      <td>2019-09-23 13:09:36.272</td>\n",
       "      <td>86d3fc1e-dfe9-4482-a888-527838b43f77</td>\n",
       "      <td>86d3fc1e-dfe9-4482-a888-527838b43f77</td>\n",
       "      <td>PROCESS</td>\n",
       "    </tr>\n",
       "    <tr>\n",
       "      <th>25</th>\n",
       "      <td>97dd03b9-f386-4cc7-9b54-3ac99ce47c06</td>\n",
       "      <td>2019-09-23 13:09:36.288</td>\n",
       "      <td>86d3fc1e-dfe9-4482-a888-527838b43f77</td>\n",
       "      <td>86d3fc1e-dfe9-4482-a888-527838b43f77</td>\n",
       "      <td>PROCESS</td>\n",
       "    </tr>\n",
       "    <tr>\n",
       "      <th>26</th>\n",
       "      <td>ed3142bf-833c-4bbb-adce-9553c1a39a9f</td>\n",
       "      <td>2019-09-23 13:09:57.322</td>\n",
       "      <td>86d3fc1e-dfe9-4482-a888-527838b43f77</td>\n",
       "      <td>ae2158f6-296e-4710-87f7-797fad201948</td>\n",
       "      <td>PROCESS</td>\n",
       "    </tr>\n",
       "    <tr>\n",
       "      <th>27</th>\n",
       "      <td>cd96d8dc-6a3e-48e6-979e-11f5860e4533</td>\n",
       "      <td>2019-09-23 13:09:57.322</td>\n",
       "      <td>86d3fc1e-dfe9-4482-a888-527838b43f77</td>\n",
       "      <td>ae2158f6-296e-4710-87f7-797fad201948</td>\n",
       "      <td>PROCESS</td>\n",
       "    </tr>\n",
       "    <tr>\n",
       "      <th>28</th>\n",
       "      <td>6c42e5e4-c0e6-4154-8487-e8b58a3f75df</td>\n",
       "      <td>2019-09-23 13:09:57.323</td>\n",
       "      <td>86d3fc1e-dfe9-4482-a888-527838b43f77</td>\n",
       "      <td>e5c55ff3-46a7-487f-a035-7bf01013a36b</td>\n",
       "      <td>PROCESS</td>\n",
       "    </tr>\n",
       "  </tbody>\n",
       "</table>\n",
       "</div>"
      ],
      "text/plain": [
       "                                      id               timestamp  \\\n",
       "0   fee5a6ee-0036-4f5b-8707-44b743034244 2019-09-23 13:09:35.268   \n",
       "1   3333b6c3-9b38-4b0e-ad5a-ac8587ebce79 2019-09-23 13:09:35.268   \n",
       "2   331957dc-d998-4332-9455-abd7518bfbdc 2019-09-23 13:09:35.268   \n",
       "3   e8901f25-9ec9-438e-a0ed-c4cf8fca6fb0 2019-09-23 13:09:35.269   \n",
       "4   bc0515ee-fc61-47cb-b41c-fb8e87a4c206 2019-09-23 13:09:35.271   \n",
       "5   72e6cc1e-de4f-4249-a7e2-0a962dbc67c5 2019-09-23 13:09:35.294   \n",
       "6   9984eddc-da7b-4363-8602-8d045d3a722d 2019-09-23 13:09:35.297   \n",
       "7   2c6e4ffb-358d-475e-adf7-d02cb4e357b4 2019-09-23 13:09:35.321   \n",
       "8   3bd03030-9d8b-4ec5-a991-1d9aaf19f383 2019-09-23 13:09:35.326   \n",
       "9   21c3458c-90f3-4401-a36e-27b9cc48ca2e 2019-09-23 13:09:35.333   \n",
       "10  763608ac-d769-457b-a53b-cf4220be4403 2019-09-23 13:09:35.333   \n",
       "11  97613312-3378-42c7-bdd6-615849672a24 2019-09-23 13:09:35.340   \n",
       "12  6f4c7d3e-492e-4481-961b-a25b1dd96514 2019-09-23 13:09:35.356   \n",
       "13  0ae556ff-44f9-44e0-9c18-b28ca50144ce 2019-09-23 13:09:35.399   \n",
       "14  96af70c8-5c6b-440c-82b8-c4a7ebb1db01 2019-09-23 13:09:35.419   \n",
       "15  04eca8e0-d197-4ff0-b8b9-f5617e1706b7 2019-09-23 13:09:35.419   \n",
       "16  16c71256-fd97-4ad1-a582-a1130c1f6967 2019-09-23 13:09:35.542   \n",
       "17  d70f8e2a-1533-4cf0-bd7f-9cc011f719e7 2019-09-23 13:09:35.735   \n",
       "18  ba503a75-b6a9-40dd-829d-45b96d0e6352 2019-09-23 13:09:35.771   \n",
       "19  49aac060-83c0-4c96-bfaa-016ecf175aad 2019-09-23 13:09:35.877   \n",
       "20  a8c2955f-6558-4e2b-be49-b7c080b07c63 2019-09-23 13:09:35.877   \n",
       "21  98c496e3-a029-4db1-b265-24e7d343e966 2019-09-23 13:09:35.939   \n",
       "22  bc238e1a-269c-4b21-b3b9-063f56ebc0ad 2019-09-23 13:09:36.193   \n",
       "23  c2ece8a4-bd45-42db-b9af-1363aa81d65d 2019-09-23 13:09:36.200   \n",
       "24  31c23c1c-5db8-46c5-ae53-f8a871e4ce17 2019-09-23 13:09:36.272   \n",
       "25  97dd03b9-f386-4cc7-9b54-3ac99ce47c06 2019-09-23 13:09:36.288   \n",
       "26  ed3142bf-833c-4bbb-adce-9553c1a39a9f 2019-09-23 13:09:57.322   \n",
       "27  cd96d8dc-6a3e-48e6-979e-11f5860e4533 2019-09-23 13:09:57.322   \n",
       "28  6c42e5e4-c0e6-4154-8487-e8b58a3f75df 2019-09-23 13:09:57.323   \n",
       "\n",
       "                                objectID  \\\n",
       "0   86d3fc1e-dfe9-4482-a888-527838b43f77   \n",
       "1   86d3fc1e-dfe9-4482-a888-527838b43f77   \n",
       "2   86d3fc1e-dfe9-4482-a888-527838b43f77   \n",
       "3   86d3fc1e-dfe9-4482-a888-527838b43f77   \n",
       "4   86d3fc1e-dfe9-4482-a888-527838b43f77   \n",
       "5   86d3fc1e-dfe9-4482-a888-527838b43f77   \n",
       "6   86d3fc1e-dfe9-4482-a888-527838b43f77   \n",
       "7   86d3fc1e-dfe9-4482-a888-527838b43f77   \n",
       "8   86d3fc1e-dfe9-4482-a888-527838b43f77   \n",
       "9   86d3fc1e-dfe9-4482-a888-527838b43f77   \n",
       "10  86d3fc1e-dfe9-4482-a888-527838b43f77   \n",
       "11  86d3fc1e-dfe9-4482-a888-527838b43f77   \n",
       "12  86d3fc1e-dfe9-4482-a888-527838b43f77   \n",
       "13  86d3fc1e-dfe9-4482-a888-527838b43f77   \n",
       "14  86d3fc1e-dfe9-4482-a888-527838b43f77   \n",
       "15  86d3fc1e-dfe9-4482-a888-527838b43f77   \n",
       "16  86d3fc1e-dfe9-4482-a888-527838b43f77   \n",
       "17  86d3fc1e-dfe9-4482-a888-527838b43f77   \n",
       "18  86d3fc1e-dfe9-4482-a888-527838b43f77   \n",
       "19  86d3fc1e-dfe9-4482-a888-527838b43f77   \n",
       "20  86d3fc1e-dfe9-4482-a888-527838b43f77   \n",
       "21  86d3fc1e-dfe9-4482-a888-527838b43f77   \n",
       "22  86d3fc1e-dfe9-4482-a888-527838b43f77   \n",
       "23  86d3fc1e-dfe9-4482-a888-527838b43f77   \n",
       "24  86d3fc1e-dfe9-4482-a888-527838b43f77   \n",
       "25  86d3fc1e-dfe9-4482-a888-527838b43f77   \n",
       "26  86d3fc1e-dfe9-4482-a888-527838b43f77   \n",
       "27  86d3fc1e-dfe9-4482-a888-527838b43f77   \n",
       "28  86d3fc1e-dfe9-4482-a888-527838b43f77   \n",
       "\n",
       "                                 actorID   object  \n",
       "0   bc3f9532-bc1a-4dae-8755-aaf459bb1f03  PROCESS  \n",
       "1   bc3f9532-bc1a-4dae-8755-aaf459bb1f03  PROCESS  \n",
       "2   bc3f9532-bc1a-4dae-8755-aaf459bb1f03  PROCESS  \n",
       "3   e5c55ff3-46a7-487f-a035-7bf01013a36b  PROCESS  \n",
       "4   86d3fc1e-dfe9-4482-a888-527838b43f77  PROCESS  \n",
       "5   39ea8e1f-669c-401e-a5ae-f163698dda21  PROCESS  \n",
       "6   86d3fc1e-dfe9-4482-a888-527838b43f77  PROCESS  \n",
       "7   86d3fc1e-dfe9-4482-a888-527838b43f77  PROCESS  \n",
       "8   86d3fc1e-dfe9-4482-a888-527838b43f77  PROCESS  \n",
       "9   86d3fc1e-dfe9-4482-a888-527838b43f77  PROCESS  \n",
       "10  86d3fc1e-dfe9-4482-a888-527838b43f77  PROCESS  \n",
       "11  86d3fc1e-dfe9-4482-a888-527838b43f77  PROCESS  \n",
       "12  86d3fc1e-dfe9-4482-a888-527838b43f77  PROCESS  \n",
       "13  10ca3280-2e31-45c2-859c-45674b12dce2  PROCESS  \n",
       "14  86d3fc1e-dfe9-4482-a888-527838b43f77  PROCESS  \n",
       "15  86d3fc1e-dfe9-4482-a888-527838b43f77  PROCESS  \n",
       "16  86d3fc1e-dfe9-4482-a888-527838b43f77  PROCESS  \n",
       "17  86d3fc1e-dfe9-4482-a888-527838b43f77  PROCESS  \n",
       "18  86d3fc1e-dfe9-4482-a888-527838b43f77  PROCESS  \n",
       "19  db6c9a7c-66be-4333-8d51-82f248e55a00  PROCESS  \n",
       "20  db6c9a7c-66be-4333-8d51-82f248e55a00  PROCESS  \n",
       "21  86d3fc1e-dfe9-4482-a888-527838b43f77  PROCESS  \n",
       "22  86d3fc1e-dfe9-4482-a888-527838b43f77  PROCESS  \n",
       "23  86d3fc1e-dfe9-4482-a888-527838b43f77  PROCESS  \n",
       "24  86d3fc1e-dfe9-4482-a888-527838b43f77  PROCESS  \n",
       "25  86d3fc1e-dfe9-4482-a888-527838b43f77  PROCESS  \n",
       "26  ae2158f6-296e-4710-87f7-797fad201948  PROCESS  \n",
       "27  ae2158f6-296e-4710-87f7-797fad201948  PROCESS  \n",
       "28  e5c55ff3-46a7-487f-a035-7bf01013a36b  PROCESS  "
      ]
     },
     "execution_count": 27,
     "metadata": {},
     "output_type": "execute_result"
    }
   ],
   "source": [
    "#find first instance of first actID in objIDs\n",
    "first_actor = actIDs[0]\n",
    "print(first_actor)\n",
    "print(df.where(col(\"objectID\") == first_actor).count())\n",
    "df.select('id','timestamp','objectID','actorID', 'object').where(col(\"objectID\") == first_actor).toPandas()"
   ]
  },
  {
   "cell_type": "code",
   "execution_count": 31,
   "id": "142b0f1a-997a-40ce-b64c-f82314484e70",
   "metadata": {
    "collapsed": true,
    "jupyter": {
     "outputs_hidden": true
    },
    "tags": []
   },
   "outputs": [
    {
     "name": "stderr",
     "output_type": "stream",
     "text": [
      "/home/ec2-user/anaconda3/envs/python3/lib/python3.10/site-packages/pyspark/sql/pandas/conversion.py:248: FutureWarning: Passing unit-less datetime64 dtype to .astype is deprecated and will raise in a future version. Pass 'datetime64[ns]' instead\n",
      "  series = series.astype(t, copy=False)\n"
     ]
    },
    {
     "data": {
      "text/html": [
       "<div>\n",
       "<style scoped>\n",
       "    .dataframe tbody tr th:only-of-type {\n",
       "        vertical-align: middle;\n",
       "    }\n",
       "\n",
       "    .dataframe tbody tr th {\n",
       "        vertical-align: top;\n",
       "    }\n",
       "\n",
       "    .dataframe thead th {\n",
       "        text-align: right;\n",
       "    }\n",
       "</style>\n",
       "<table border=\"1\" class=\"dataframe\">\n",
       "  <thead>\n",
       "    <tr style=\"text-align: right;\">\n",
       "      <th></th>\n",
       "      <th>id</th>\n",
       "      <th>timestamp</th>\n",
       "      <th>objectID</th>\n",
       "      <th>actorID</th>\n",
       "      <th>object</th>\n",
       "      <th>action</th>\n",
       "    </tr>\n",
       "  </thead>\n",
       "  <tbody>\n",
       "    <tr>\n",
       "      <th>0</th>\n",
       "      <td>fee5a6ee-0036-4f5b-8707-44b743034244</td>\n",
       "      <td>2019-09-23 13:09:35.268</td>\n",
       "      <td>86d3fc1e-dfe9-4482-a888-527838b43f77</td>\n",
       "      <td>bc3f9532-bc1a-4dae-8755-aaf459bb1f03</td>\n",
       "      <td>PROCESS</td>\n",
       "      <td>CREATE</td>\n",
       "    </tr>\n",
       "    <tr>\n",
       "      <th>1</th>\n",
       "      <td>3333b6c3-9b38-4b0e-ad5a-ac8587ebce79</td>\n",
       "      <td>2019-09-23 13:09:35.268</td>\n",
       "      <td>86d3fc1e-dfe9-4482-a888-527838b43f77</td>\n",
       "      <td>bc3f9532-bc1a-4dae-8755-aaf459bb1f03</td>\n",
       "      <td>PROCESS</td>\n",
       "      <td>OPEN</td>\n",
       "    </tr>\n",
       "    <tr>\n",
       "      <th>2</th>\n",
       "      <td>331957dc-d998-4332-9455-abd7518bfbdc</td>\n",
       "      <td>2019-09-23 13:09:35.268</td>\n",
       "      <td>86d3fc1e-dfe9-4482-a888-527838b43f77</td>\n",
       "      <td>bc3f9532-bc1a-4dae-8755-aaf459bb1f03</td>\n",
       "      <td>PROCESS</td>\n",
       "      <td>OPEN</td>\n",
       "    </tr>\n",
       "    <tr>\n",
       "      <th>3</th>\n",
       "      <td>e8901f25-9ec9-438e-a0ed-c4cf8fca6fb0</td>\n",
       "      <td>2019-09-23 13:09:35.269</td>\n",
       "      <td>86d3fc1e-dfe9-4482-a888-527838b43f77</td>\n",
       "      <td>e5c55ff3-46a7-487f-a035-7bf01013a36b</td>\n",
       "      <td>PROCESS</td>\n",
       "      <td>OPEN</td>\n",
       "    </tr>\n",
       "    <tr>\n",
       "      <th>4</th>\n",
       "      <td>72e6cc1e-de4f-4249-a7e2-0a962dbc67c5</td>\n",
       "      <td>2019-09-23 13:09:35.294</td>\n",
       "      <td>86d3fc1e-dfe9-4482-a888-527838b43f77</td>\n",
       "      <td>39ea8e1f-669c-401e-a5ae-f163698dda21</td>\n",
       "      <td>PROCESS</td>\n",
       "      <td>OPEN</td>\n",
       "    </tr>\n",
       "    <tr>\n",
       "      <th>5</th>\n",
       "      <td>0ae556ff-44f9-44e0-9c18-b28ca50144ce</td>\n",
       "      <td>2019-09-23 13:09:35.399</td>\n",
       "      <td>86d3fc1e-dfe9-4482-a888-527838b43f77</td>\n",
       "      <td>10ca3280-2e31-45c2-859c-45674b12dce2</td>\n",
       "      <td>PROCESS</td>\n",
       "      <td>OPEN</td>\n",
       "    </tr>\n",
       "    <tr>\n",
       "      <th>6</th>\n",
       "      <td>49aac060-83c0-4c96-bfaa-016ecf175aad</td>\n",
       "      <td>2019-09-23 13:09:35.877</td>\n",
       "      <td>86d3fc1e-dfe9-4482-a888-527838b43f77</td>\n",
       "      <td>db6c9a7c-66be-4333-8d51-82f248e55a00</td>\n",
       "      <td>PROCESS</td>\n",
       "      <td>OPEN</td>\n",
       "    </tr>\n",
       "    <tr>\n",
       "      <th>7</th>\n",
       "      <td>a8c2955f-6558-4e2b-be49-b7c080b07c63</td>\n",
       "      <td>2019-09-23 13:09:35.877</td>\n",
       "      <td>86d3fc1e-dfe9-4482-a888-527838b43f77</td>\n",
       "      <td>db6c9a7c-66be-4333-8d51-82f248e55a00</td>\n",
       "      <td>PROCESS</td>\n",
       "      <td>OPEN</td>\n",
       "    </tr>\n",
       "    <tr>\n",
       "      <th>8</th>\n",
       "      <td>ed3142bf-833c-4bbb-adce-9553c1a39a9f</td>\n",
       "      <td>2019-09-23 13:09:57.322</td>\n",
       "      <td>86d3fc1e-dfe9-4482-a888-527838b43f77</td>\n",
       "      <td>ae2158f6-296e-4710-87f7-797fad201948</td>\n",
       "      <td>PROCESS</td>\n",
       "      <td>OPEN</td>\n",
       "    </tr>\n",
       "    <tr>\n",
       "      <th>9</th>\n",
       "      <td>cd96d8dc-6a3e-48e6-979e-11f5860e4533</td>\n",
       "      <td>2019-09-23 13:09:57.322</td>\n",
       "      <td>86d3fc1e-dfe9-4482-a888-527838b43f77</td>\n",
       "      <td>ae2158f6-296e-4710-87f7-797fad201948</td>\n",
       "      <td>PROCESS</td>\n",
       "      <td>OPEN</td>\n",
       "    </tr>\n",
       "    <tr>\n",
       "      <th>10</th>\n",
       "      <td>6c42e5e4-c0e6-4154-8487-e8b58a3f75df</td>\n",
       "      <td>2019-09-23 13:09:57.323</td>\n",
       "      <td>86d3fc1e-dfe9-4482-a888-527838b43f77</td>\n",
       "      <td>e5c55ff3-46a7-487f-a035-7bf01013a36b</td>\n",
       "      <td>PROCESS</td>\n",
       "      <td>OPEN</td>\n",
       "    </tr>\n",
       "  </tbody>\n",
       "</table>\n",
       "</div>"
      ],
      "text/plain": [
       "                                      id               timestamp  \\\n",
       "0   fee5a6ee-0036-4f5b-8707-44b743034244 2019-09-23 13:09:35.268   \n",
       "1   3333b6c3-9b38-4b0e-ad5a-ac8587ebce79 2019-09-23 13:09:35.268   \n",
       "2   331957dc-d998-4332-9455-abd7518bfbdc 2019-09-23 13:09:35.268   \n",
       "3   e8901f25-9ec9-438e-a0ed-c4cf8fca6fb0 2019-09-23 13:09:35.269   \n",
       "4   72e6cc1e-de4f-4249-a7e2-0a962dbc67c5 2019-09-23 13:09:35.294   \n",
       "5   0ae556ff-44f9-44e0-9c18-b28ca50144ce 2019-09-23 13:09:35.399   \n",
       "6   49aac060-83c0-4c96-bfaa-016ecf175aad 2019-09-23 13:09:35.877   \n",
       "7   a8c2955f-6558-4e2b-be49-b7c080b07c63 2019-09-23 13:09:35.877   \n",
       "8   ed3142bf-833c-4bbb-adce-9553c1a39a9f 2019-09-23 13:09:57.322   \n",
       "9   cd96d8dc-6a3e-48e6-979e-11f5860e4533 2019-09-23 13:09:57.322   \n",
       "10  6c42e5e4-c0e6-4154-8487-e8b58a3f75df 2019-09-23 13:09:57.323   \n",
       "\n",
       "                                objectID  \\\n",
       "0   86d3fc1e-dfe9-4482-a888-527838b43f77   \n",
       "1   86d3fc1e-dfe9-4482-a888-527838b43f77   \n",
       "2   86d3fc1e-dfe9-4482-a888-527838b43f77   \n",
       "3   86d3fc1e-dfe9-4482-a888-527838b43f77   \n",
       "4   86d3fc1e-dfe9-4482-a888-527838b43f77   \n",
       "5   86d3fc1e-dfe9-4482-a888-527838b43f77   \n",
       "6   86d3fc1e-dfe9-4482-a888-527838b43f77   \n",
       "7   86d3fc1e-dfe9-4482-a888-527838b43f77   \n",
       "8   86d3fc1e-dfe9-4482-a888-527838b43f77   \n",
       "9   86d3fc1e-dfe9-4482-a888-527838b43f77   \n",
       "10  86d3fc1e-dfe9-4482-a888-527838b43f77   \n",
       "\n",
       "                                 actorID   object  action  \n",
       "0   bc3f9532-bc1a-4dae-8755-aaf459bb1f03  PROCESS  CREATE  \n",
       "1   bc3f9532-bc1a-4dae-8755-aaf459bb1f03  PROCESS    OPEN  \n",
       "2   bc3f9532-bc1a-4dae-8755-aaf459bb1f03  PROCESS    OPEN  \n",
       "3   e5c55ff3-46a7-487f-a035-7bf01013a36b  PROCESS    OPEN  \n",
       "4   39ea8e1f-669c-401e-a5ae-f163698dda21  PROCESS    OPEN  \n",
       "5   10ca3280-2e31-45c2-859c-45674b12dce2  PROCESS    OPEN  \n",
       "6   db6c9a7c-66be-4333-8d51-82f248e55a00  PROCESS    OPEN  \n",
       "7   db6c9a7c-66be-4333-8d51-82f248e55a00  PROCESS    OPEN  \n",
       "8   ae2158f6-296e-4710-87f7-797fad201948  PROCESS    OPEN  \n",
       "9   ae2158f6-296e-4710-87f7-797fad201948  PROCESS    OPEN  \n",
       "10  e5c55ff3-46a7-487f-a035-7bf01013a36b  PROCESS    OPEN  "
      ]
     },
     "execution_count": 31,
     "metadata": {},
     "output_type": "execute_result"
    }
   ],
   "source": [
    "#now show me where the actorID was not the same as the object ID\n",
    "df.select('id','timestamp','objectID','actorID', 'object','action').where((col(\"objectID\") == first_actor) \\\n",
    "                                                                 & (col(\"actorID\")!=first_actor)).toPandas()"
   ]
  },
  {
   "cell_type": "code",
   "execution_count": 32,
   "id": "e874210b-cc88-460c-ac76-408e2f52a215",
   "metadata": {
    "tags": []
   },
   "outputs": [
    {
     "name": "stderr",
     "output_type": "stream",
     "text": [
      "/home/ec2-user/anaconda3/envs/python3/lib/python3.10/site-packages/pyspark/sql/pandas/conversion.py:248: FutureWarning: Passing unit-less datetime64 dtype to .astype is deprecated and will raise in a future version. Pass 'datetime64[ns]' instead\n",
      "  series = series.astype(t, copy=False)\n"
     ]
    },
    {
     "data": {
      "text/html": [
       "<div>\n",
       "<style scoped>\n",
       "    .dataframe tbody tr th:only-of-type {\n",
       "        vertical-align: middle;\n",
       "    }\n",
       "\n",
       "    .dataframe tbody tr th {\n",
       "        vertical-align: top;\n",
       "    }\n",
       "\n",
       "    .dataframe thead th {\n",
       "        text-align: right;\n",
       "    }\n",
       "</style>\n",
       "<table border=\"1\" class=\"dataframe\">\n",
       "  <thead>\n",
       "    <tr style=\"text-align: right;\">\n",
       "      <th></th>\n",
       "      <th>id</th>\n",
       "      <th>timestamp</th>\n",
       "      <th>objectID</th>\n",
       "      <th>actorID</th>\n",
       "      <th>object</th>\n",
       "      <th>action</th>\n",
       "    </tr>\n",
       "  </thead>\n",
       "  <tbody>\n",
       "    <tr>\n",
       "      <th>0</th>\n",
       "      <td>fee5a6ee-0036-4f5b-8707-44b743034244</td>\n",
       "      <td>2019-09-23 13:09:35.268</td>\n",
       "      <td>86d3fc1e-dfe9-4482-a888-527838b43f77</td>\n",
       "      <td>bc3f9532-bc1a-4dae-8755-aaf459bb1f03</td>\n",
       "      <td>PROCESS</td>\n",
       "      <td>CREATE</td>\n",
       "    </tr>\n",
       "  </tbody>\n",
       "</table>\n",
       "</div>"
      ],
      "text/plain": [
       "                                     id               timestamp  \\\n",
       "0  fee5a6ee-0036-4f5b-8707-44b743034244 2019-09-23 13:09:35.268   \n",
       "\n",
       "                               objectID                               actorID  \\\n",
       "0  86d3fc1e-dfe9-4482-a888-527838b43f77  bc3f9532-bc1a-4dae-8755-aaf459bb1f03   \n",
       "\n",
       "    object  action  \n",
       "0  PROCESS  CREATE  "
      ]
     },
     "execution_count": 32,
     "metadata": {},
     "output_type": "execute_result"
    }
   ],
   "source": [
    "#add the first example of all of these. \n",
    "df.select('id','timestamp','objectID','actorID', 'object','action').where((col(\"objectID\") == first_actor) \\\n",
    "                                                                 & (col(\"actorID\")!=first_actor)).limit(1).toPandas()"
   ]
  },
  {
   "cell_type": "code",
   "execution_count": 52,
   "id": "ad67dbdc-bdf5-40a8-af5a-a5fd02823a27",
   "metadata": {
    "tags": []
   },
   "outputs": [
    {
     "name": "stderr",
     "output_type": "stream",
     "text": [
      "                                                                                \r"
     ]
    },
    {
     "data": {
      "text/plain": [
       "'fee5a6ee-0036-4f5b-8707-44b743034244'"
      ]
     },
     "execution_count": 52,
     "metadata": {},
     "output_type": "execute_result"
    }
   ],
   "source": [
    "first_event = df.where((col(\"objectID\") == first_actor) & (col(\"actorID\")!=first_actor)).limit(1).collect()[0]['id']"
   ]
  },
  {
   "cell_type": "code",
   "execution_count": 53,
   "id": "51e66168-60a1-414e-a310-04cc97d140e6",
   "metadata": {
    "tags": []
   },
   "outputs": [
    {
     "name": "stdout",
     "output_type": "stream",
     "text": [
      "{'fee5a6ee-0036-4f5b-8707-44b743034244': []}\n"
     ]
    }
   ],
   "source": [
    "#now add this to the dictionary as a key\n",
    "dict_node_edge_events = {first_event:[]}# for row in \\\n",
    "                # df.where((col(\"objectID\") == first_actor) & (col(\"actorID\")!=first_actor)).limit(1).collect()}\n",
    "print(dict_node_edge)"
   ]
  },
  {
   "cell_type": "code",
   "execution_count": 44,
   "id": "a43b25ac-0a9f-4466-b31c-6d50e23b7df4",
   "metadata": {
    "tags": []
   },
   "outputs": [
    {
     "name": "stderr",
     "output_type": "stream",
     "text": [
      "[Stage 69:==============>                                           (1 + 3) / 4]\r"
     ]
    },
    {
     "name": "stdout",
     "output_type": "stream",
     "text": [
      "{'86d3fc1e-dfe9-4482-a888-527838b43f77': []}\n",
      "<class 'datetime.datetime'>\n"
     ]
    },
    {
     "name": "stderr",
     "output_type": "stream",
     "text": [
      "                                                                                \r"
     ]
    }
   ],
   "source": [
    "#build a second dictionary for objIDs\n",
    "select_col = df.where((col(\"objectID\") == first_actor) & (col(\"actorID\")!=first_actor)).limit(1).collect()\n",
    "dict_node_edge_objects = {row['objectID']:[] for row in select_col}\n",
    "print(dict_node_edge_objects)"
   ]
  },
  {
   "cell_type": "code",
   "execution_count": 45,
   "id": "39a8c161-1d09-4764-acf6-ea4f5f71efb2",
   "metadata": {
    "tags": []
   },
   "outputs": [],
   "source": [
    "#get birth time\n",
    "birth_time = select_col[0]['timestamp']"
   ]
  },
  {
   "cell_type": "code",
   "execution_count": 49,
   "id": "ba8989aa-d257-4154-99b5-ecf9badca201",
   "metadata": {
    "tags": []
   },
   "outputs": [
    {
     "name": "stderr",
     "output_type": "stream",
     "text": [
      "/home/ec2-user/anaconda3/envs/python3/lib/python3.10/site-packages/pyspark/sql/pandas/conversion.py:248: FutureWarning: Passing unit-less datetime64 dtype to .astype is deprecated and will raise in a future version. Pass 'datetime64[ns]' instead\n",
      "  series = series.astype(t, copy=False)\n"
     ]
    },
    {
     "data": {
      "text/html": [
       "<div>\n",
       "<style scoped>\n",
       "    .dataframe tbody tr th:only-of-type {\n",
       "        vertical-align: middle;\n",
       "    }\n",
       "\n",
       "    .dataframe tbody tr th {\n",
       "        vertical-align: top;\n",
       "    }\n",
       "\n",
       "    .dataframe thead th {\n",
       "        text-align: right;\n",
       "    }\n",
       "</style>\n",
       "<table border=\"1\" class=\"dataframe\">\n",
       "  <thead>\n",
       "    <tr style=\"text-align: right;\">\n",
       "      <th></th>\n",
       "      <th>id</th>\n",
       "      <th>timestamp</th>\n",
       "      <th>objectID</th>\n",
       "      <th>actorID</th>\n",
       "      <th>object</th>\n",
       "      <th>action</th>\n",
       "    </tr>\n",
       "  </thead>\n",
       "  <tbody>\n",
       "    <tr>\n",
       "      <th>0</th>\n",
       "      <td>6dc12614-a924-43dc-88b8-0fffa899db3c</td>\n",
       "      <td>2019-09-23 13:09:35.327</td>\n",
       "      <td>01fbf4f7-53f9-464a-86d9-3cd4f582cd89</td>\n",
       "      <td>86d3fc1e-dfe9-4482-a888-527838b43f77</td>\n",
       "      <td>FILE</td>\n",
       "      <td>READ</td>\n",
       "    </tr>\n",
       "    <tr>\n",
       "      <th>1</th>\n",
       "      <td>7088ed35-22d7-481d-926f-487bbadacbb7</td>\n",
       "      <td>2019-09-23 13:09:35.347</td>\n",
       "      <td>01fbf4f7-53f9-464a-86d9-3cd4f582cd89</td>\n",
       "      <td>86d3fc1e-dfe9-4482-a888-527838b43f77</td>\n",
       "      <td>FILE</td>\n",
       "      <td>READ</td>\n",
       "    </tr>\n",
       "    <tr>\n",
       "      <th>2</th>\n",
       "      <td>8eba18e2-dad5-4620-b66b-7e5d56afb811</td>\n",
       "      <td>2019-09-23 13:09:35.358</td>\n",
       "      <td>01fbf4f7-53f9-464a-86d9-3cd4f582cd89</td>\n",
       "      <td>86d3fc1e-dfe9-4482-a888-527838b43f77</td>\n",
       "      <td>FILE</td>\n",
       "      <td>READ</td>\n",
       "    </tr>\n",
       "    <tr>\n",
       "      <th>3</th>\n",
       "      <td>c74ca1e2-76a1-48ae-93b5-6712f74837af</td>\n",
       "      <td>2019-09-23 13:09:35.360</td>\n",
       "      <td>d535bf11-aa9c-4cbf-942f-e72aadf1fbb7</td>\n",
       "      <td>86d3fc1e-dfe9-4482-a888-527838b43f77</td>\n",
       "      <td>FILE</td>\n",
       "      <td>READ</td>\n",
       "    </tr>\n",
       "    <tr>\n",
       "      <th>4</th>\n",
       "      <td>c48114e7-c0aa-42da-a3ba-cb84e3333b83</td>\n",
       "      <td>2019-09-23 13:09:35.362</td>\n",
       "      <td>01fbf4f7-53f9-464a-86d9-3cd4f582cd89</td>\n",
       "      <td>86d3fc1e-dfe9-4482-a888-527838b43f77</td>\n",
       "      <td>FILE</td>\n",
       "      <td>READ</td>\n",
       "    </tr>\n",
       "  </tbody>\n",
       "</table>\n",
       "</div>"
      ],
      "text/plain": [
       "                                     id               timestamp  \\\n",
       "0  6dc12614-a924-43dc-88b8-0fffa899db3c 2019-09-23 13:09:35.327   \n",
       "1  7088ed35-22d7-481d-926f-487bbadacbb7 2019-09-23 13:09:35.347   \n",
       "2  8eba18e2-dad5-4620-b66b-7e5d56afb811 2019-09-23 13:09:35.358   \n",
       "3  c74ca1e2-76a1-48ae-93b5-6712f74837af 2019-09-23 13:09:35.360   \n",
       "4  c48114e7-c0aa-42da-a3ba-cb84e3333b83 2019-09-23 13:09:35.362   \n",
       "\n",
       "                               objectID                               actorID  \\\n",
       "0  01fbf4f7-53f9-464a-86d9-3cd4f582cd89  86d3fc1e-dfe9-4482-a888-527838b43f77   \n",
       "1  01fbf4f7-53f9-464a-86d9-3cd4f582cd89  86d3fc1e-dfe9-4482-a888-527838b43f77   \n",
       "2  01fbf4f7-53f9-464a-86d9-3cd4f582cd89  86d3fc1e-dfe9-4482-a888-527838b43f77   \n",
       "3  d535bf11-aa9c-4cbf-942f-e72aadf1fbb7  86d3fc1e-dfe9-4482-a888-527838b43f77   \n",
       "4  01fbf4f7-53f9-464a-86d9-3cd4f582cd89  86d3fc1e-dfe9-4482-a888-527838b43f77   \n",
       "\n",
       "  object action  \n",
       "0   FILE   READ  \n",
       "1   FILE   READ  \n",
       "2   FILE   READ  \n",
       "3   FILE   READ  \n",
       "4   FILE   READ  "
      ]
     },
     "execution_count": 49,
     "metadata": {},
     "output_type": "execute_result"
    }
   ],
   "source": [
    "#now we need to add children to the dict. First let's look for the kids.\n",
    "df.select('id','timestamp','objectID','actorID', 'object','action') \\\n",
    ".where((col(\"actorID\") == first_actor) & \\\n",
    "         (col(\"objectID\") != first_actor) & \\\n",
    "         (col(\"timestamp\") > birth_time)).limit(5).toPandas()"
   ]
  },
  {
   "cell_type": "code",
   "execution_count": 51,
   "id": "9742a050-d038-4b0c-ab49-2bc932a24b26",
   "metadata": {
    "tags": []
   },
   "outputs": [
    {
     "name": "stderr",
     "output_type": "stream",
     "text": [
      "                                                                                \r"
     ]
    },
    {
     "data": {
      "text/plain": [
       "['43e14e5b-2ac3-499b-aaa3-9fdd6a448804',\n",
       " 'fb8e27f4-86f1-43d5-96b4-79a0e76877eb',\n",
       " '01fbf4f7-53f9-464a-86d9-3cd4f582cd89',\n",
       " 'd535bf11-aa9c-4cbf-942f-e72aadf1fbb7',\n",
       " '8d1158d0-d024-408f-b59c-f22686805855',\n",
       " '1bc903d2-fe12-4122-8a34-439004ece4c6',\n",
       " '29fb215d-b60e-4200-8fec-7eda31def2b5',\n",
       " '6ed12a08-24fe-404b-a2ce-e6e2c6f80562',\n",
       " 'bc3f9532-bc1a-4dae-8755-aaf459bb1f03',\n",
       " '8c308e7d-c348-49aa-9ceb-813baee03793',\n",
       " 'f4cfac3d-7e49-47ba-a13c-bddc4758734d',\n",
       " '954fa393-2384-4f8f-8d0e-0afdc7f51fcb']"
      ]
     },
     "execution_count": 51,
     "metadata": {},
     "output_type": "execute_result"
    }
   ],
   "source": [
    "#so I think we should add all events to the event matrix and only the column IDs to the column matrix\n",
    "#for objects\n",
    "col_select_children_obj = df.select('objectID').where((col(\"actorID\") == first_actor) & \\\n",
    "         (col(\"objectID\") != first_actor) & \\\n",
    "         (col(\"timestamp\") > birth_time)).distinct().collect()\n",
    "\n",
    "#add distinct objects as edges to the node_edge dict\n",
    "dict_node_edge_objects[first_actor] = [row[\"objectID\"] for row in col_select_children_obj]\n",
    "\n",
    "dict_node_edge_objects[first_actor]"
   ]
  },
  {
   "cell_type": "code",
   "execution_count": null,
   "id": "a6a6c93a-f848-4144-a151-4fd2344c6803",
   "metadata": {
    "tags": []
   },
   "outputs": [
    {
     "name": "stderr",
     "output_type": "stream",
     "text": [
      "                                                                                \r"
     ]
    },
    {
     "data": {
      "text/plain": [
       "{'fee5a6ee-0036-4f5b-8707-44b743034244': ['c351114f-86a0-4272-8508-cb0ed69b5bea',\n",
       "  '1e430436-1780-4132-a0f8-92c8b040e75a',\n",
       "  'e38650a2-621c-40fa-b113-de199c1560ee',\n",
       "  '0da95059-6a3f-4915-83f6-b5ff24a7548e',\n",
       "  '5c24b6fa-9c6a-4da9-b70e-0cda026696e6',\n",
       "  '06413f60-0a95-411f-8e9f-8e5b5e93dc48',\n",
       "  '9d9248c7-957b-401c-a08b-73a68433342d',\n",
       "  '285dc11d-eed4-4530-a500-a13767229b5d',\n",
       "  '19a0afee-725f-436c-8eef-2deb9dcc0608',\n",
       "  '1d781e24-8615-450f-87c5-1fa111090d4d',\n",
       "  '7218f136-92b7-45d9-aecc-2590566f01a1',\n",
       "  '7088ed35-22d7-481d-926f-487bbadacbb7',\n",
       "  '3eacec4c-bdec-457a-8745-6a87bac1dc79',\n",
       "  'c6d67c38-2639-4d96-998c-9733862e1c5d',\n",
       "  '3c8887b6-f3bf-4c63-9f7b-0fcddfd4982e',\n",
       "  '130c15da-1275-4dbb-b95c-b47e2fef541c',\n",
       "  'e818521a-415a-4ede-b09d-f68c083c8564',\n",
       "  '4a6dcd97-da48-4dfb-9d69-45b3dd43c538',\n",
       "  '189a75e5-c4ae-4844-8482-953f5d116a8b',\n",
       "  'd9d7b6fc-7b28-4681-a291-7ca0279c652c',\n",
       "  'c74ca1e2-76a1-48ae-93b5-6712f74837af',\n",
       "  '87ec5961-69c8-44d8-a5d0-23c2bf040690',\n",
       "  '50ca61cc-5e01-4fae-ae8b-e9b3d4a6b2ed',\n",
       "  '01e762d0-0032-4afe-823d-a75b3e568d91',\n",
       "  '7ce15e81-f375-4ac8-b0cc-5dcae876df51',\n",
       "  '7bed89c9-b307-486a-95b9-261a9f572aea',\n",
       "  'b126fba2-13c3-4160-9120-4b5495b97508',\n",
       "  '6dc12614-a924-43dc-88b8-0fffa899db3c',\n",
       "  '96829be1-bfd1-4800-b381-734ec0e3b9b3',\n",
       "  '8eba18e2-dad5-4620-b66b-7e5d56afb811',\n",
       "  'c91de26f-e01c-4720-be38-47dc6d7190b2',\n",
       "  '2397c8f2-7ebd-4b90-9745-ab5cfcb65ad1',\n",
       "  '5a1bf653-cd5c-4303-b93e-f156e4e1175c',\n",
       "  '125afce0-49f3-442c-81bc-ca161d7b7948',\n",
       "  '9f1cb90f-bde3-4095-bff6-a7b472de947c',\n",
       "  '7ef9125d-3715-41d5-9210-7e484e390e17',\n",
       "  '11643760-2b60-47b9-b374-c9fdb9390887',\n",
       "  '2535a8ac-93a9-41fb-820a-2e24b6a48301',\n",
       "  '4e762976-389c-424f-a1f2-c8a9c0203018',\n",
       "  '9cb950c8-ec9c-498a-aef4-fdb38c239f5f',\n",
       "  'b4ff0cae-dd5f-48a1-9123-9ffa20f40c79',\n",
       "  '7d1773fb-1d1e-4da5-b0bc-fb10bac00719',\n",
       "  'c48114e7-c0aa-42da-a3ba-cb84e3333b83',\n",
       "  'fdec5723-1c66-4936-8d4b-564ba6606597',\n",
       "  '9c2b149a-19d2-4a30-a7aa-f6a1b67cf8e6',\n",
       "  '3930bf50-bdb4-4b0c-be72-bc1e624b6a26',\n",
       "  '69475c08-9c7d-430b-9d28-89e41437b7d9']}"
      ]
     },
     "execution_count": 54,
     "metadata": {},
     "output_type": "execute_result"
    }
   ],
   "source": [
    "#now add all the events in the event shaboops\n",
    "col_select_children_events = df.select('id').where((col(\"actorID\") == first_actor) & \\\n",
    "         (col(\"objectID\") != first_actor) & \\\n",
    "         (col(\"timestamp\") > birth_time)).distinct().collect()\n",
    "\n",
    "dict_node_edge_events[first_event] = [row[\"id\"] for row in col_select_children_events]\n"
   ]
  },
  {
   "cell_type": "code",
   "execution_count": 55,
   "id": "345030e1-d623-444f-9746-b91b64ca9856",
   "metadata": {
    "tags": []
   },
   "outputs": [
    {
     "data": {
      "text/plain": [
       "['c351114f-86a0-4272-8508-cb0ed69b5bea',\n",
       " '1e430436-1780-4132-a0f8-92c8b040e75a',\n",
       " 'e38650a2-621c-40fa-b113-de199c1560ee',\n",
       " '0da95059-6a3f-4915-83f6-b5ff24a7548e',\n",
       " '5c24b6fa-9c6a-4da9-b70e-0cda026696e6',\n",
       " '06413f60-0a95-411f-8e9f-8e5b5e93dc48',\n",
       " '9d9248c7-957b-401c-a08b-73a68433342d',\n",
       " '285dc11d-eed4-4530-a500-a13767229b5d',\n",
       " '19a0afee-725f-436c-8eef-2deb9dcc0608',\n",
       " '1d781e24-8615-450f-87c5-1fa111090d4d',\n",
       " '7218f136-92b7-45d9-aecc-2590566f01a1',\n",
       " '7088ed35-22d7-481d-926f-487bbadacbb7',\n",
       " '3eacec4c-bdec-457a-8745-6a87bac1dc79',\n",
       " 'c6d67c38-2639-4d96-998c-9733862e1c5d',\n",
       " '3c8887b6-f3bf-4c63-9f7b-0fcddfd4982e',\n",
       " '130c15da-1275-4dbb-b95c-b47e2fef541c',\n",
       " 'e818521a-415a-4ede-b09d-f68c083c8564',\n",
       " '4a6dcd97-da48-4dfb-9d69-45b3dd43c538',\n",
       " '189a75e5-c4ae-4844-8482-953f5d116a8b',\n",
       " 'd9d7b6fc-7b28-4681-a291-7ca0279c652c',\n",
       " 'c74ca1e2-76a1-48ae-93b5-6712f74837af',\n",
       " '87ec5961-69c8-44d8-a5d0-23c2bf040690',\n",
       " '50ca61cc-5e01-4fae-ae8b-e9b3d4a6b2ed',\n",
       " '01e762d0-0032-4afe-823d-a75b3e568d91',\n",
       " '7ce15e81-f375-4ac8-b0cc-5dcae876df51',\n",
       " '7bed89c9-b307-486a-95b9-261a9f572aea',\n",
       " 'b126fba2-13c3-4160-9120-4b5495b97508',\n",
       " '6dc12614-a924-43dc-88b8-0fffa899db3c',\n",
       " '96829be1-bfd1-4800-b381-734ec0e3b9b3',\n",
       " '8eba18e2-dad5-4620-b66b-7e5d56afb811',\n",
       " 'c91de26f-e01c-4720-be38-47dc6d7190b2',\n",
       " '2397c8f2-7ebd-4b90-9745-ab5cfcb65ad1',\n",
       " '5a1bf653-cd5c-4303-b93e-f156e4e1175c',\n",
       " '125afce0-49f3-442c-81bc-ca161d7b7948',\n",
       " '9f1cb90f-bde3-4095-bff6-a7b472de947c',\n",
       " '7ef9125d-3715-41d5-9210-7e484e390e17',\n",
       " '11643760-2b60-47b9-b374-c9fdb9390887',\n",
       " '2535a8ac-93a9-41fb-820a-2e24b6a48301',\n",
       " '4e762976-389c-424f-a1f2-c8a9c0203018',\n",
       " '9cb950c8-ec9c-498a-aef4-fdb38c239f5f',\n",
       " 'b4ff0cae-dd5f-48a1-9123-9ffa20f40c79',\n",
       " '7d1773fb-1d1e-4da5-b0bc-fb10bac00719',\n",
       " 'c48114e7-c0aa-42da-a3ba-cb84e3333b83',\n",
       " 'fdec5723-1c66-4936-8d4b-564ba6606597',\n",
       " '9c2b149a-19d2-4a30-a7aa-f6a1b67cf8e6',\n",
       " '3930bf50-bdb4-4b0c-be72-bc1e624b6a26',\n",
       " '69475c08-9c7d-430b-9d28-89e41437b7d9']"
      ]
     },
     "execution_count": 55,
     "metadata": {},
     "output_type": "execute_result"
    }
   ],
   "source": [
    "dict_node_edge_events[first_event]"
   ]
  },
  {
   "cell_type": "code",
   "execution_count": null,
   "id": "97662b13-d21e-48f1-b362-79ed1607620a",
   "metadata": {
    "tags": []
   },
   "outputs": [],
   "source": [
    "#awesome!! now I just need to put all that together in a for loop. and then we will have our \n",
    "#edge table etc"
   ]
  },
  {
   "cell_type": "code",
   "execution_count": 81,
   "id": "3caaf51e-ed25-45ba-8f0c-aede932c3004",
   "metadata": {
    "tags": []
   },
   "outputs": [],
   "source": [
    "#work on grouping and pulling first row. \n",
    "df_labels = df_labels.sort(col('ts2').asc())"
   ]
  },
  {
   "cell_type": "code",
   "execution_count": 82,
   "id": "0b1eaa40-b7ce-4b13-be7d-d81201fa2575",
   "metadata": {
    "tags": []
   },
   "outputs": [],
   "source": [
    "col_IDs_b = df_labels.select(\"actorID\",\"objectID\").distinct().collect()"
   ]
  },
  {
   "cell_type": "code",
   "execution_count": 86,
   "id": "873e9663-41b2-437f-beb0-57594c4ebd78",
   "metadata": {
    "tags": []
   },
   "outputs": [],
   "source": [
    "#build collectioins of obj and act IDs\n",
    "col_IDs_a = df_labels.select(\"actorID\").distinct().collect()\n",
    "col_IDs_o = df_labels.select(\"objectID\").distinct().collect()"
   ]
  },
  {
   "cell_type": "code",
   "execution_count": 87,
   "id": "b273f971-b7bd-4cfb-9959-15d2964d7b87",
   "metadata": {
    "tags": []
   },
   "outputs": [
    {
     "name": "stdout",
     "output_type": "stream",
     "text": [
      "36\n",
      "25760\n"
     ]
    }
   ],
   "source": [
    "print(len(col_IDs_a))\n",
    "print(len(col_IDs_o))"
   ]
  },
  {
   "cell_type": "code",
   "execution_count": 92,
   "id": "7147f372-5754-4b24-8049-f74a244ed729",
   "metadata": {
    "tags": []
   },
   "outputs": [
    {
     "data": {
      "text/plain": [
       "'96913629-c1c9-4503-9586-4a91de0e7311'"
      ]
     },
     "execution_count": 92,
     "metadata": {},
     "output_type": "execute_result"
    }
   ],
   "source": [
    "actIDs = [row.actorID for row in col_IDs_b]\n",
    "actIDs[0]"
   ]
  },
  {
   "cell_type": "code",
   "execution_count": 89,
   "id": "e3505578-f654-4864-8887-136fe545172e",
   "metadata": {
    "tags": []
   },
   "outputs": [
    {
     "data": {
      "text/plain": [
       "36"
      ]
     },
     "execution_count": 89,
     "metadata": {},
     "output_type": "execute_result"
    }
   ],
   "source": [
    "len(actIDs)"
   ]
  },
  {
   "cell_type": "code",
   "execution_count": 94,
   "id": "31143fb2-e56d-4278-bfa5-fde42c729094",
   "metadata": {
    "tags": []
   },
   "outputs": [
    {
     "name": "stdout",
     "output_type": "stream",
     "text": [
      "20\n"
     ]
    }
   ],
   "source": [
    "#find overlap\n",
    "#put these columns into a dictionary and turn into a spark data frame\n",
    "data = [{\"actorIDs\" : [row.actorID for row in col_IDs_a], \\\n",
    "                   \"objectIDs\" : [row.objectID for row in col_IDs_o]}]\n",
    "\n",
    "id_intersect = spark.createDataFrame(data)\n",
    "\n",
    "#compare ID pools to find actIDs that are nodes\n",
    "id_intersect = id_intersect.withColumn(\"id_int\", \\\n",
    "                                           array_intersect(col(\"actorIDs\"),col(\"objectIDs\")))\n",
    "\n",
    "#now build a list of the nodal actIDs and print the length\n",
    "actIDs_2 = [row.id_int for row in id_intersect.select(\"id_int\").collect()][0]\n",
    "\n",
    "print(len(actIDs_2))"
   ]
  },
  {
   "cell_type": "code",
   "execution_count": 95,
   "id": "5e47e5e9-cc47-42b8-8544-7a87146cfdcb",
   "metadata": {
    "tags": []
   },
   "outputs": [
    {
     "data": {
      "text/plain": [
       "'d5846376-9596-4283-8505-8e6112abf1f2'"
      ]
     },
     "execution_count": 95,
     "metadata": {},
     "output_type": "execute_result"
    }
   ],
   "source": [
    "actIDs_2[0]"
   ]
  },
  {
   "cell_type": "code",
   "execution_count": 16,
   "id": "ac0c9b50-bd4b-4e06-a19d-4fab5b69eb67",
   "metadata": {
    "tags": []
   },
   "outputs": [],
   "source": [
    "#show me the collection of events created by the first actor\n",
    "first_actor = actIDs[0]\n",
    "col_select_children_events = df_labels.select('id','ts2','objectID')\\\n",
    "        .where((col(\"actorID\") == first_actor) & \\\n",
    "                 (col(\"objectID\") != first_actor))"
   ]
  },
  {
   "cell_type": "code",
   "execution_count": 109,
   "id": "99fda136-9655-4f5e-a1d5-800ed9bb16ba",
   "metadata": {
    "tags": []
   },
   "outputs": [
    {
     "name": "stdout",
     "output_type": "stream",
     "text": [
      "408\n",
      "846\n"
     ]
    },
    {
     "name": "stderr",
     "output_type": "stream",
     "text": [
      "/home/ec2-user/anaconda3/envs/python3/lib/python3.10/site-packages/pyspark/sql/pandas/conversion.py:248: FutureWarning: Passing unit-less datetime64 dtype to .astype is deprecated and will raise in a future version. Pass 'datetime64[ns]' instead\n",
      "  series = series.astype(t, copy=False)\n"
     ]
    },
    {
     "data": {
      "text/html": [
       "<div>\n",
       "<style scoped>\n",
       "    .dataframe tbody tr th:only-of-type {\n",
       "        vertical-align: middle;\n",
       "    }\n",
       "\n",
       "    .dataframe tbody tr th {\n",
       "        vertical-align: top;\n",
       "    }\n",
       "\n",
       "    .dataframe thead th {\n",
       "        text-align: right;\n",
       "    }\n",
       "</style>\n",
       "<table border=\"1\" class=\"dataframe\">\n",
       "  <thead>\n",
       "    <tr style=\"text-align: right;\">\n",
       "      <th></th>\n",
       "      <th>objectID</th>\n",
       "      <th>ts2</th>\n",
       "    </tr>\n",
       "  </thead>\n",
       "  <tbody>\n",
       "    <tr>\n",
       "      <th>0</th>\n",
       "      <td>78039857-c291-4da1-b4bf-813dd445f1b7</td>\n",
       "      <td>2019-09-23 15:23:55.877</td>\n",
       "    </tr>\n",
       "    <tr>\n",
       "      <th>1</th>\n",
       "      <td>dba6afc8-9654-4236-b754-ecfeb4a547d3</td>\n",
       "      <td>2019-09-23 15:23:55.877</td>\n",
       "    </tr>\n",
       "    <tr>\n",
       "      <th>2</th>\n",
       "      <td>b2ea44d9-a15e-4e7e-87b6-3eaa674cb04a</td>\n",
       "      <td>2019-09-23 15:23:55.877</td>\n",
       "    </tr>\n",
       "    <tr>\n",
       "      <th>3</th>\n",
       "      <td>9bcf3f74-b4a0-4240-8efe-fd9d4939dce4</td>\n",
       "      <td>2019-09-23 15:23:56.051</td>\n",
       "    </tr>\n",
       "    <tr>\n",
       "      <th>4</th>\n",
       "      <td>8a7a7c79-93d7-4d88-b129-5221daf9a193</td>\n",
       "      <td>2019-09-23 15:23:56.051</td>\n",
       "    </tr>\n",
       "  </tbody>\n",
       "</table>\n",
       "</div>"
      ],
      "text/plain": [
       "                               objectID                     ts2\n",
       "0  78039857-c291-4da1-b4bf-813dd445f1b7 2019-09-23 15:23:55.877\n",
       "1  dba6afc8-9654-4236-b754-ecfeb4a547d3 2019-09-23 15:23:55.877\n",
       "2  b2ea44d9-a15e-4e7e-87b6-3eaa674cb04a 2019-09-23 15:23:55.877\n",
       "3  9bcf3f74-b4a0-4240-8efe-fd9d4939dce4 2019-09-23 15:23:56.051\n",
       "4  8a7a7c79-93d7-4d88-b129-5221daf9a193 2019-09-23 15:23:56.051"
      ]
     },
     "execution_count": 109,
     "metadata": {},
     "output_type": "execute_result"
    }
   ],
   "source": [
    "#what is the count and how many objects are there\n",
    "print(col_select_children_events.select(\"objectID\").distinct().count())\n",
    "print(col_select_children_events.select(\"objectID\").count())\n",
    "#show me ts's to demonstrate if ordering remains intact\n",
    "col_select_children_events.select(\"objectID\",\"ts2\").limit(5).toPandas()"
   ]
  },
  {
   "cell_type": "code",
   "execution_count": 19,
   "id": "a33c66ee-c4e4-46f7-b740-60b207e31455",
   "metadata": {
    "collapsed": true,
    "jupyter": {
     "outputs_hidden": true,
     "source_hidden": true
    },
    "tags": []
   },
   "outputs": [
    {
     "name": "stdout",
     "output_type": "stream",
     "text": [
      "+-----+-------------------+\n",
      "|objID|                ts2|\n",
      "+-----+-------------------+\n",
      "|    1|2021-01-01 00:00:00|\n",
      "|    1|2021-01-01 00:01:00|\n",
      "|    2|2021-01-01 00:02:00|\n",
      "|    2|2021-01-01 00:03:00|\n",
      "|    1|2021-01-01 00:06:00|\n",
      "|    1|2021-01-01 00:12:00|\n",
      "+-----+-------------------+\n",
      "\n",
      "+-----+-------------------+\n",
      "|objID|         first(ts2)|\n",
      "+-----+-------------------+\n",
      "|    1|2021-01-01 00:00:00|\n",
      "|    2|2021-01-01 00:02:00|\n",
      "+-----+-------------------+\n",
      "\n"
     ]
    }
   ],
   "source": [
    "#sample group by \n",
    "data = [(\"2021-01-01 00:00:00\", 1),\n",
    "        (\"2021-01-01 00:01:00\", 1),\n",
    "        (\"2021-01-01 00:03:00\", 2),\n",
    "        (\"2021-01-01 00:02:00\", 2),\n",
    "        (\"2021-01-01 00:12:00\", 1),\n",
    "        (\"2021-01-01 00:06:00\", 1)]\n",
    "\n",
    "df = spark.createDataFrame(data, [\"timestamp\", \"objID\"])\n",
    "df = df.withColumn(\"ts2\", to_timestamp(\"timestamp\")).drop(\"timestamp\")\n",
    "df = df.sort(col(\"ts2\").asc())\n",
    "df.show()\n",
    "df.groupBy(\"objID\").agg(first(\"ts2\")).show()"
   ]
  },
  {
   "cell_type": "code",
   "execution_count": 53,
   "id": "3e52a2de-9a7d-4c35-83c4-7fcf5a8f60b4",
   "metadata": {
    "tags": []
   },
   "outputs": [],
   "source": [
    "#I need to know if the events are still time sorted after being grouped\n",
    "grouped = col_select_children_events.groupBy(\"objectID\")"
   ]
  },
  {
   "cell_type": "code",
   "execution_count": 42,
   "id": "9cc0ce48-755b-4714-906c-e538e8ad51ca",
   "metadata": {
    "tags": []
   },
   "outputs": [
    {
     "data": {
      "text/plain": [
       "pyspark.sql.group.GroupedData"
      ]
     },
     "execution_count": 42,
     "metadata": {},
     "output_type": "execute_result"
    }
   ],
   "source": []
  },
  {
   "cell_type": "code",
   "execution_count": 50,
   "id": "b2bc43cc-e1ed-4ca9-9d9f-2e900ec0e1e3",
   "metadata": {
    "tags": []
   },
   "outputs": [
    {
     "ename": "AttributeError",
     "evalue": "'GroupedData' object has no attribute 'get_group'",
     "output_type": "error",
     "traceback": [
      "\u001b[0;31m---------------------------------------------------------------------------\u001b[0m",
      "\u001b[0;31mAttributeError\u001b[0m                            Traceback (most recent call last)",
      "Cell \u001b[0;32mIn[50], line 1\u001b[0m\n\u001b[0;32m----> 1\u001b[0m \u001b[43mgrouped\u001b[49m\u001b[38;5;241;43m.\u001b[39;49m\u001b[43mget_group\u001b[49m(\u001b[38;5;124m'\u001b[39m\u001b[38;5;124m003e2ae0-3708-4dc0-b151-5106570db83d\u001b[39m\u001b[38;5;124m'\u001b[39m)\u001b[38;5;241m.\u001b[39mlimit(\u001b[38;5;241m5\u001b[39m)\u001b[38;5;241m.\u001b[39mshow()\n",
      "\u001b[0;31mAttributeError\u001b[0m: 'GroupedData' object has no attribute 'get_group'"
     ]
    }
   ],
   "source": [
    "grouped.get_group('003e2ae0-3708-4dc0-b151-5106570db83d').limit(5).show()"
   ]
  },
  {
   "cell_type": "code",
   "execution_count": 55,
   "id": "e605b81c-a780-4535-bad0-151715589a21",
   "metadata": {
    "tags": []
   },
   "outputs": [
    {
     "name": "stdout",
     "output_type": "stream",
     "text": [
      "408\n"
     ]
    },
    {
     "name": "stderr",
     "output_type": "stream",
     "text": [
      "/home/ec2-user/anaconda3/envs/python3/lib/python3.10/site-packages/pyspark/sql/pandas/conversion.py:248: FutureWarning: Passing unit-less datetime64 dtype to .astype is deprecated and will raise in a future version. Pass 'datetime64[ns]' instead\n",
      "  series = series.astype(t, copy=False)\n"
     ]
    },
    {
     "data": {
      "text/html": [
       "<div>\n",
       "<style scoped>\n",
       "    .dataframe tbody tr th:only-of-type {\n",
       "        vertical-align: middle;\n",
       "    }\n",
       "\n",
       "    .dataframe tbody tr th {\n",
       "        vertical-align: top;\n",
       "    }\n",
       "\n",
       "    .dataframe thead th {\n",
       "        text-align: right;\n",
       "    }\n",
       "</style>\n",
       "<table border=\"1\" class=\"dataframe\">\n",
       "  <thead>\n",
       "    <tr style=\"text-align: right;\">\n",
       "      <th></th>\n",
       "      <th>objectID</th>\n",
       "      <th>first(ts2)</th>\n",
       "      <th>first(id)</th>\n",
       "    </tr>\n",
       "  </thead>\n",
       "  <tbody>\n",
       "    <tr>\n",
       "      <th>0</th>\n",
       "      <td>003e2ae0-3708-4dc0-b151-5106570db83d</td>\n",
       "      <td>2019-09-23 15:23:59.484</td>\n",
       "      <td>d03f212e-d54d-444c-9fb7-f88ff9d90b0c</td>\n",
       "    </tr>\n",
       "    <tr>\n",
       "      <th>1</th>\n",
       "      <td>0058bdde-e83c-4fdb-b74f-5a0167fad237</td>\n",
       "      <td>2019-09-23 15:23:56.065</td>\n",
       "      <td>7bc30055-9f61-482f-9f2d-875a8fbb50b8</td>\n",
       "    </tr>\n",
       "  </tbody>\n",
       "</table>\n",
       "</div>"
      ],
      "text/plain": [
       "                               objectID              first(ts2)  \\\n",
       "0  003e2ae0-3708-4dc0-b151-5106570db83d 2019-09-23 15:23:59.484   \n",
       "1  0058bdde-e83c-4fdb-b74f-5a0167fad237 2019-09-23 15:23:56.065   \n",
       "\n",
       "                              first(id)  \n",
       "0  d03f212e-d54d-444c-9fb7-f88ff9d90b0c  \n",
       "1  7bc30055-9f61-482f-9f2d-875a8fbb50b8  "
      ]
     },
     "execution_count": 55,
     "metadata": {},
     "output_type": "execute_result"
    }
   ],
   "source": [
    "grouped = col_select_children_events.groupBy(\"objectID\").agg(first(\"ts2\"),first(\"id\"))\n",
    "print(grouped.count())\n",
    "grouped.limit(2).toPandas()\n"
   ]
  },
  {
   "cell_type": "code",
   "execution_count": 61,
   "id": "53dd29b0-ff21-42cf-8018-9953ea2c3022",
   "metadata": {
    "tags": []
   },
   "outputs": [],
   "source": [
    "col2 = col_select_children_events.groupBy(\"objectID\").agg(first(\"ts2\"),first(\"id\")).collect()\n",
    "samp_list = [str(row[\"objectID\"]+':'+row[\"first(id)\"]) for row in col2]"
   ]
  },
  {
   "cell_type": "code",
   "execution_count": 96,
   "id": "761a0b1a-a253-45e1-bd2c-ff699155dd14",
   "metadata": {
    "tags": []
   },
   "outputs": [
    {
     "name": "stdout",
     "output_type": "stream",
     "text": [
      "408\n",
      "['003e2ae0-3708-4dc0-b151-5106570db83d:d03f212e-d54d-444c-9fb7-f88ff9d90b0c', '0058bdde-e83c-4fdb-b74f-5a0167fad237:7bc30055-9f61-482f-9f2d-875a8fbb50b8']\n"
     ]
    }
   ],
   "source": [
    "print(len(samp_list))\n",
    "print(samp_list[0:2])"
   ]
  },
  {
   "cell_type": "code",
   "execution_count": null,
   "id": "5eec93fe-47cd-4d5f-b303-868600182e38",
   "metadata": {},
   "outputs": [],
   "source": [
    "#select children events and pull unique events in one line\n"
   ]
  },
  {
   "cell_type": "code",
   "execution_count": 98,
   "id": "d78207c2-7b93-475c-bc9d-42c1d8b6fb89",
   "metadata": {
    "tags": []
   },
   "outputs": [],
   "source": [
    "def build_adgaceny(df, dataset = 'ecar'):\n",
    "    \n",
    "    if dataset == 'labels':\n",
    "        df = df.sort(col(\"ts2\").asc())\n",
    "    else : \n",
    "        #first step sort the data and check\n",
    "        df = df.sort(col(\"timestamp\").asc())\n",
    "    \n",
    "    #now get overlapping connections\n",
    "\n",
    "    #build collections of each type of ID\n",
    "    #TODO make this one select statement\n",
    "    col_objID = df.select(\"objectID\").distinct().collect()\n",
    "    col_actID = df.select(\"actorID\").distinct().collect()\n",
    "\n",
    "    #put these columns into a dictionary and turn into a spark data frame\n",
    "    data = [{\"actorIDs\" : [row.actorID for row in col_actID], \\\n",
    "                   \"objectIDs\" : [row.objectID for row in col_objID]}]\n",
    "\n",
    "    id_intersect = spark.createDataFrame(data)\n",
    "\n",
    "    #compare ID pools to find actIDs that are nodes\n",
    "    id_intersect = id_intersect.withColumn(\"id_int\", \\\n",
    "                                           array_intersect(col(\"actorIDs\"),col(\"objectIDs\")))\n",
    "\n",
    "    #now build a list of the nodal actIDs and print the length\n",
    "    actIDs = [row.id_int for row in id_intersect.select(\"id_int\").collect()][0]\n",
    "    \n",
    "    #create ref dict\n",
    "    dict_node_edge_events = {}\n",
    "    \n",
    "    #for all actors in actIDs\n",
    "    for aID in actIDs: \n",
    "        first_id = df.where((col(\"objectID\") == aID) \\\n",
    "                               & (col(\"actorID\")!= aID)).limit(1).collect()[0]['id']\n",
    "        \n",
    "        #now add this to the dictionary as a key\n",
    "        first_event = str(aID+':'+first_id)\n",
    "        dict_node_edge_events[first_event] = []\n",
    "        \n",
    "        #now add all the events where the actorID is present but not the objectID, group by unique object ID\n",
    "        #and pull out the first event - and I checked and believe the sorting holds through grouping\n",
    "        col_select_children_events = df.select('objectID','id')\\\n",
    "        .where((col(\"actorID\") == aID) & \\\n",
    "                 (col(\"objectID\") != aID)).groupBy(\"objectID\").agg(first(\"id\")).collect() \n",
    "        \n",
    "        #add children objects into dictioinary \n",
    "        dict_node_edge_events[first_event] = [str(row[\"objectID\"]+':'+row[\"first(id)\"]) for row in col_select_children_events]\n",
    "        \n",
    "    return dict_node_edge_events\n",
    "    "
   ]
  },
  {
   "cell_type": "code",
   "execution_count": 99,
   "id": "8c4ad694-7b02-4454-a334-37d451feb6ba",
   "metadata": {
    "tags": []
   },
   "outputs": [],
   "source": [
    "test_dict = build_adgaceny(df_labels, \"labels\")"
   ]
  },
  {
   "cell_type": "code",
   "execution_count": 107,
   "id": "a110a08d-311c-4935-9776-ac2d65a1f170",
   "metadata": {
    "collapsed": true,
    "jupyter": {
     "outputs_hidden": true
    },
    "tags": []
   },
   "outputs": [
    {
     "name": "stdout",
     "output_type": "stream",
     "text": [
      "20\n",
      "1139\n",
      "d5846376-9596-4283-8505-8e6112abf1f2\n",
      "d5846376-9596-4283-8505-8e6112abf1f2:e15537fe-fdb0-49d4-a1fd-de34e8215617\n",
      "64c0966e-66f8-452a-b8d9-ced3e2220a18:13ae9c93-f636-4d3e-9c74-63d79af1e428\n",
      "bff0865c-96aa-4fb9-902b-d0493b6c8b14:bea73615-2519-4802-9958-98f50ab8eef1\n",
      "96913629-c1c9-4503-9586-4a91de0e7311:43fb9623-3cd1-45ec-ab22-dbe46e75240e\n",
      "473d7954-6271-43b8-9984-702378220af2:0c3eed6b-da4c-44a4-9057-590ab3de0d9f\n",
      "2d02ab42-4400-4049-baad-6dfae19c3c4c:e8cd79b8-6d34-4e34-8771-535c38cc5178\n",
      "70ba4f9c-e27b-4a34-8dce-303c00c227c2:f3815ab9-206c-4072-8a50-46a1d62e10f6\n",
      "8c371c26-73a6-420e-ae6c-24a2386849df:86bbfaf7-855b-4eac-bf26-ddb1aca83ca2\n",
      "e490633e-4e82-4bbc-b5bb-38f61777c4f7:7db901fd-e1bf-4c38-9833-b4d0cba08633\n",
      "ee99fcf7-84fa-49fe-a78c-7bd0f13e3b78:ecbc8959-5d6c-45f0-b166-9efeb772a0cb\n",
      "53efe8c9-3c95-4dfc-aa2f-c75ae4b92a9f:1c46f2f7-132e-4b3b-9bdb-cea1140db1fc\n",
      "83279f19-6af6-4532-bef4-f7a20e47ab4c:545069e6-8c99-43c8-9a18-9bdb9d33584c\n",
      "d359ffa5-8bf5-4f1c-81c2-ca0dda3f59a6:f3986ce9-5921-43e4-abc3-a49b069db040\n",
      "f5d1c003-1f65-4a8a-ba8c-413da99d70f2:e7dde154-f6f7-4a0d-96c5-43a4ac1cc82c\n",
      "d057ca93-553e-46fc-a4df-aabe1ee5cbc6:9decc021-64b4-4e72-93d3-9c5a2f617837\n",
      "a52f6519-6265-4437-9f6c-3402fb245cc7:55afc144-b943-4211-8ac1-2e7b75de69e0\n",
      "3eea9071-9ceb-468a-ad89-9e3890833e52:97c516eb-9a25-4512-8c6d-9759bb747b74\n",
      "4aec5900-4572-4d09-81e6-fbc227a7f58d:89ca215d-9782-45a0-aa75-7694f0e56015\n",
      "b5a0a459-229f-4e49-9783-e39a150804e6:61c961ae-bd19-49f0-a7d7-2f3551339a55\n",
      "4a3392b6-acc8-4c2e-9edf-e48077459dd5:45ea6896-5423-468e-abbf-00d109a009ce\n"
     ]
    }
   ],
   "source": [
    "print(len(test_dict))\n",
    "print(len(test_dict['d5846376-9596-4283-8505-8e6112abf1f2:e15537fe-fdb0-49d4-a1fd-de34e8215617']))\n",
    "print(first_actor)\n",
    "for key in test_dict.keys():\n",
    "    print(key)"
   ]
  },
  {
   "cell_type": "code",
   "execution_count": 111,
   "id": "7b153c72-06b0-43ad-9ef5-7a06984d8f3d",
   "metadata": {
    "tags": []
   },
   "outputs": [
    {
     "data": {
      "text/plain": [
       "1139"
      ]
     },
     "execution_count": 111,
     "metadata": {},
     "output_type": "execute_result"
    }
   ],
   "source": [
    "test_actor = 'd5846376-9596-4283-8505-8e6112abf1f2'\n",
    "len(df_labels.select('objectID','id')\\\n",
    "        .where((col(\"actorID\") == test_actor) & \\\n",
    "                 (col(\"objectID\") != test_actor)).groupBy(\"objectID\").agg(first(\"id\")).collect())"
   ]
  },
  {
   "cell_type": "code",
   "execution_count": 112,
   "id": "eba4d964-d869-4005-843f-6611a78cb660",
   "metadata": {
    "tags": []
   },
   "outputs": [
    {
     "data": {
      "text/plain": [
       "4362"
      ]
     },
     "execution_count": 112,
     "metadata": {},
     "output_type": "execute_result"
    }
   ],
   "source": [
    "df_labels.select('objectID','id')\\\n",
    "        .where((col(\"actorID\") == test_actor) & \\\n",
    "                 (col(\"objectID\") != test_actor)).count()"
   ]
  }
 ],
 "metadata": {
  "kernelspec": {
   "display_name": "conda_python3",
   "language": "python",
   "name": "conda_python3"
  },
  "language_info": {
   "codemirror_mode": {
    "name": "ipython",
    "version": 3
   },
   "file_extension": ".py",
   "mimetype": "text/x-python",
   "name": "python",
   "nbconvert_exporter": "python",
   "pygments_lexer": "ipython3",
   "version": "3.10.8"
  }
 },
 "nbformat": 4,
 "nbformat_minor": 5
}
