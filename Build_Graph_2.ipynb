{
 "cells": [
  {
   "cell_type": "markdown",
   "id": "a1c854dc-47fd-4dbc-b005-d9806f698d40",
   "metadata": {
    "tags": []
   },
   "source": [
    "### File to begin basic work on building the provenance graph and event distributions."
   ]
  },
  {
   "cell_type": "code",
   "execution_count": 1,
   "id": "5ce1d9d1-2b90-44d8-9d29-951fac8eb7ab",
   "metadata": {
    "tags": []
   },
   "outputs": [
    {
     "name": "stderr",
     "output_type": "stream",
     "text": [
      "Warning: Ignoring non-Spark config property: fs.s3a.access.key\n",
      "Warning: Ignoring non-Spark config property: fs.s3a.secret.key\n",
      "Setting default log level to \"WARN\".\n",
      "To adjust logging level use sc.setLogLevel(newLevel). For SparkR, use setLogLevel(newLevel).\n"
     ]
    },
    {
     "name": "stdout",
     "output_type": "stream",
     "text": [
      "23/02/26 19:40:36 WARN NativeCodeLoader: Unable to load native-hadoop library for your platform... using builtin-java classes where applicable\n",
      "23/02/26 19:40:36 WARN SparkConf: Note that spark.local.dir will be overridden by the value set by the cluster manager (via SPARK_LOCAL_DIRS in mesos/standalone/kubernetes and LOCAL_DIRS in YARN).\n"
     ]
    }
   ],
   "source": [
    "%run ./read_file.ipynb "
   ]
  },
  {
   "cell_type": "code",
   "execution_count": 30,
   "id": "b4c8e885-2e44-42cf-b295-2235f419ced0",
   "metadata": {
    "tags": []
   },
   "outputs": [
    {
     "name": "stdout",
     "output_type": "stream",
     "text": [
      "--- 2.9945085048675537 seconds ---\n"
     ]
    }
   ],
   "source": [
    "df_eps = readCheckpoint('ecar', 'prod', 'small')"
   ]
  },
  {
   "cell_type": "code",
   "execution_count": 16,
   "id": "8c657ef8-632a-4604-bd77-00fe0212fd64",
   "metadata": {
    "tags": []
   },
   "outputs": [
    {
     "name": "stdout",
     "output_type": "stream",
     "text": [
      "--- 0.9164233207702637 seconds ---\n"
     ]
    }
   ],
   "source": [
    "df = readCheckpoint('ecar', 'dev', 'small')"
   ]
  },
  {
   "cell_type": "code",
   "execution_count": 4,
   "id": "d63f42d1-6eda-4805-b076-b135e8d4c2d0",
   "metadata": {
    "tags": []
   },
   "outputs": [
    {
     "name": "stdout",
     "output_type": "stream",
     "text": [
      "root\n",
      " |-- action: string (nullable = true)\n",
      " |-- actorID: string (nullable = true)\n",
      " |-- hostname: string (nullable = true)\n",
      " |-- id: string (nullable = true)\n",
      " |-- object: string (nullable = true)\n",
      " |-- objectID: string (nullable = true)\n",
      " |-- pid: integer (nullable = true)\n",
      " |-- ppid: integer (nullable = true)\n",
      " |-- principal: string (nullable = true)\n",
      " |-- tid: integer (nullable = true)\n",
      " |-- timestamp: timestamp (nullable = true)\n",
      " |-- acuity_level: string (nullable = true)\n",
      " |-- base_address: string (nullable = true)\n",
      " |-- command_line: string (nullable = true)\n",
      " |-- context_info: string (nullable = true)\n",
      " |-- data: string (nullable = true)\n",
      " |-- dest_port: integer (nullable = true)\n",
      " |-- direction: string (nullable = true)\n",
      " |-- end_time: timestamp (nullable = true)\n",
      " |-- file_path: string (nullable = true)\n",
      " |-- image_path: string (nullable = true)\n",
      " |-- info_class: string (nullable = true)\n",
      " |-- key: string (nullable = true)\n",
      " |-- l4protocol: string (nullable = true)\n",
      " |-- logon_id: string (nullable = true)\n",
      " |-- module_path: string (nullable = true)\n",
      " |-- new_path: string (nullable = true)\n",
      " |-- parent_image_path: string (nullable = true)\n",
      " |-- path: string (nullable = true)\n",
      " |-- payload: string (nullable = true)\n",
      " |-- privileges: string (nullable = true)\n",
      " |-- requesting_domain: string (nullable = true)\n",
      " |-- requesting_logon_id: string (nullable = true)\n",
      " |-- requesting_user: string (nullable = true)\n",
      " |-- sid: string (nullable = true)\n",
      " |-- size: string (nullable = true)\n",
      " |-- src_ip: string (nullable = true)\n",
      " |-- src_pid: integer (nullable = true)\n",
      " |-- src_port: integer (nullable = true)\n",
      " |-- src_tid: string (nullable = true)\n",
      " |-- stack_base: string (nullable = true)\n",
      " |-- stack_limit: string (nullable = true)\n",
      " |-- start_address: string (nullable = true)\n",
      " |-- start_time: timestamp (nullable = true)\n",
      " |-- subprocess_tag: string (nullable = true)\n",
      " |-- task_name: string (nullable = true)\n",
      " |-- task_pid: integer (nullable = true)\n",
      " |-- task_process_uuid: string (nullable = true)\n",
      " |-- tgt_pid: integer (nullable = true)\n",
      " |-- tgt_pid_uuid: string (nullable = true)\n",
      " |-- tgt_tid: integer (nullable = true)\n",
      " |-- type: string (nullable = true)\n",
      " |-- user: string (nullable = true)\n",
      " |-- user_name: string (nullable = true)\n",
      " |-- user_stack_base: string (nullable = true)\n",
      " |-- user_stack_limit: string (nullable = true)\n",
      " |-- value: string (nullable = true)\n",
      " |-- event_day: integer (nullable = true)\n",
      " |-- event_hour: integer (nullable = true)\n",
      " |-- event_minute: integer (nullable = true)\n",
      "\n"
     ]
    }
   ],
   "source": [
    "df.printSchema()"
   ]
  },
  {
   "cell_type": "code",
   "execution_count": 45,
   "id": "5e1419f5-9115-45de-bf80-6304f8261129",
   "metadata": {
    "tags": []
   },
   "outputs": [
    {
     "name": "stderr",
     "output_type": "stream",
     "text": [
      "/home/ec2-user/anaconda3/envs/python3/lib/python3.10/site-packages/pyspark/sql/pandas/conversion.py:248: FutureWarning: Passing unit-less datetime64 dtype to .astype is deprecated and will raise in a future version. Pass 'datetime64[ns]' instead\n",
      "  series = series.astype(t, copy=False)\n"
     ]
    },
    {
     "data": {
      "text/html": [
       "<div>\n",
       "<style scoped>\n",
       "    .dataframe tbody tr th:only-of-type {\n",
       "        vertical-align: middle;\n",
       "    }\n",
       "\n",
       "    .dataframe tbody tr th {\n",
       "        vertical-align: top;\n",
       "    }\n",
       "\n",
       "    .dataframe thead th {\n",
       "        text-align: right;\n",
       "    }\n",
       "</style>\n",
       "<table border=\"1\" class=\"dataframe\">\n",
       "  <thead>\n",
       "    <tr style=\"text-align: right;\">\n",
       "      <th></th>\n",
       "      <th>timestamp</th>\n",
       "    </tr>\n",
       "  </thead>\n",
       "  <tbody>\n",
       "    <tr>\n",
       "      <th>0</th>\n",
       "      <td>2019-09-23 13:11:02.370</td>\n",
       "    </tr>\n",
       "    <tr>\n",
       "      <th>1</th>\n",
       "      <td>2019-09-23 13:11:02.375</td>\n",
       "    </tr>\n",
       "    <tr>\n",
       "      <th>2</th>\n",
       "      <td>2019-09-23 13:11:02.385</td>\n",
       "    </tr>\n",
       "    <tr>\n",
       "      <th>3</th>\n",
       "      <td>2019-09-23 13:11:02.409</td>\n",
       "    </tr>\n",
       "    <tr>\n",
       "      <th>4</th>\n",
       "      <td>2019-09-23 13:11:02.414</td>\n",
       "    </tr>\n",
       "  </tbody>\n",
       "</table>\n",
       "</div>"
      ],
      "text/plain": [
       "                timestamp\n",
       "0 2019-09-23 13:11:02.370\n",
       "1 2019-09-23 13:11:02.375\n",
       "2 2019-09-23 13:11:02.385\n",
       "3 2019-09-23 13:11:02.409\n",
       "4 2019-09-23 13:11:02.414"
      ]
     },
     "execution_count": 45,
     "metadata": {},
     "output_type": "execute_result"
    }
   ],
   "source": [
    "df.select(\"timestamp\").limit(5).toPandas()"
   ]
  },
  {
   "cell_type": "code",
   "execution_count": 46,
   "id": "c3dd1bbe-8037-4db1-a0bf-eb40144f829c",
   "metadata": {
    "jupyter": {
     "source_hidden": true
    },
    "tags": []
   },
   "outputs": [
    {
     "name": "stderr",
     "output_type": "stream",
     "text": [
      "/home/ec2-user/anaconda3/envs/python3/lib/python3.10/site-packages/pyspark/sql/pandas/conversion.py:248: FutureWarning: Passing unit-less datetime64 dtype to .astype is deprecated and will raise in a future version. Pass 'datetime64[ns]' instead\n",
      "  series = series.astype(t, copy=False)\n"
     ]
    },
    {
     "data": {
      "text/html": [
       "<div>\n",
       "<style scoped>\n",
       "    .dataframe tbody tr th:only-of-type {\n",
       "        vertical-align: middle;\n",
       "    }\n",
       "\n",
       "    .dataframe tbody tr th {\n",
       "        vertical-align: top;\n",
       "    }\n",
       "\n",
       "    .dataframe thead th {\n",
       "        text-align: right;\n",
       "    }\n",
       "</style>\n",
       "<table border=\"1\" class=\"dataframe\">\n",
       "  <thead>\n",
       "    <tr style=\"text-align: right;\">\n",
       "      <th></th>\n",
       "      <th>objectID</th>\n",
       "      <th>actorID</th>\n",
       "      <th>timestamp</th>\n",
       "      <th>object</th>\n",
       "      <th>action</th>\n",
       "    </tr>\n",
       "  </thead>\n",
       "  <tbody>\n",
       "    <tr>\n",
       "      <th>0</th>\n",
       "      <td>eeee9e56-df6e-476c-bfc7-03d507dbd8e7</td>\n",
       "      <td>c183f6f4-e83e-4d05-98df-6cafce2ec010</td>\n",
       "      <td>2019-09-23 13:11:02.370</td>\n",
       "      <td>FLOW</td>\n",
       "      <td>INFO</td>\n",
       "    </tr>\n",
       "    <tr>\n",
       "      <th>1</th>\n",
       "      <td>c7bfc171-627d-4103-b883-d5c3d4fd2f4d</td>\n",
       "      <td>c183f6f4-e83e-4d05-98df-6cafce2ec010</td>\n",
       "      <td>2019-09-23 13:11:02.375</td>\n",
       "      <td>FLOW</td>\n",
       "      <td>INFO</td>\n",
       "    </tr>\n",
       "    <tr>\n",
       "      <th>2</th>\n",
       "      <td>da018e32-281d-4a74-83cc-c113fc70900b</td>\n",
       "      <td>c183f6f4-e83e-4d05-98df-6cafce2ec010</td>\n",
       "      <td>2019-09-23 13:11:02.385</td>\n",
       "      <td>FLOW</td>\n",
       "      <td>INFO</td>\n",
       "    </tr>\n",
       "    <tr>\n",
       "      <th>3</th>\n",
       "      <td>b48bef19-32d5-4727-9a29-4e0186dcffe0</td>\n",
       "      <td>c183f6f4-e83e-4d05-98df-6cafce2ec010</td>\n",
       "      <td>2019-09-23 13:11:02.409</td>\n",
       "      <td>FLOW</td>\n",
       "      <td>INFO</td>\n",
       "    </tr>\n",
       "    <tr>\n",
       "      <th>4</th>\n",
       "      <td>cd7be00d-3691-484c-aedb-954582d6353c</td>\n",
       "      <td>c183f6f4-e83e-4d05-98df-6cafce2ec010</td>\n",
       "      <td>2019-09-23 13:11:02.414</td>\n",
       "      <td>FLOW</td>\n",
       "      <td>INFO</td>\n",
       "    </tr>\n",
       "  </tbody>\n",
       "</table>\n",
       "</div>"
      ],
      "text/plain": [
       "                               objectID                               actorID  \\\n",
       "0  eeee9e56-df6e-476c-bfc7-03d507dbd8e7  c183f6f4-e83e-4d05-98df-6cafce2ec010   \n",
       "1  c7bfc171-627d-4103-b883-d5c3d4fd2f4d  c183f6f4-e83e-4d05-98df-6cafce2ec010   \n",
       "2  da018e32-281d-4a74-83cc-c113fc70900b  c183f6f4-e83e-4d05-98df-6cafce2ec010   \n",
       "3  b48bef19-32d5-4727-9a29-4e0186dcffe0  c183f6f4-e83e-4d05-98df-6cafce2ec010   \n",
       "4  cd7be00d-3691-484c-aedb-954582d6353c  c183f6f4-e83e-4d05-98df-6cafce2ec010   \n",
       "\n",
       "                timestamp object action  \n",
       "0 2019-09-23 13:11:02.370   FLOW   INFO  \n",
       "1 2019-09-23 13:11:02.375   FLOW   INFO  \n",
       "2 2019-09-23 13:11:02.385   FLOW   INFO  \n",
       "3 2019-09-23 13:11:02.409   FLOW   INFO  \n",
       "4 2019-09-23 13:11:02.414   FLOW   INFO  "
      ]
     },
     "execution_count": 46,
     "metadata": {},
     "output_type": "execute_result"
    }
   ],
   "source": [
    "df.select([\"objectID\", \"actorID\",\"timestamp\", \"object\",\"action\"]).limit(5).toPandas()"
   ]
  },
  {
   "cell_type": "code",
   "execution_count": 47,
   "id": "1079bf0f-f26b-4fd3-be78-c0f893ae7be7",
   "metadata": {
    "tags": []
   },
   "outputs": [
    {
     "name": "stderr",
     "output_type": "stream",
     "text": [
      "                                                                                \r"
     ]
    },
    {
     "data": {
      "text/plain": [
       "1"
      ]
     },
     "execution_count": 47,
     "metadata": {},
     "output_type": "execute_result"
    }
   ],
   "source": [
    "#what objects are represented\n",
    "df.select(col(\"object\")).distinct().count()"
   ]
  },
  {
   "cell_type": "code",
   "execution_count": 49,
   "id": "1532efab-97a2-40bd-bb6e-ee8e3e2ccee4",
   "metadata": {
    "tags": []
   },
   "outputs": [
    {
     "name": "stderr",
     "output_type": "stream",
     "text": [
      "                                                                                \r"
     ]
    },
    {
     "data": {
      "text/plain": [
       "7"
      ]
     },
     "execution_count": 49,
     "metadata": {},
     "output_type": "execute_result"
    }
   ],
   "source": [
    "#how many event hours are represented\n",
    "df.select(col(\"event_hour\")).distinct().count()"
   ]
  },
  {
   "cell_type": "code",
   "execution_count": 6,
   "id": "4407b771-357e-4519-9327-851e67483c31",
   "metadata": {
    "tags": []
   },
   "outputs": [
    {
     "name": "stderr",
     "output_type": "stream",
     "text": [
      "[Stage 10:===================================================>    (12 + 1) / 13]\r"
     ]
    },
    {
     "name": "stdout",
     "output_type": "stream",
     "text": [
      "+---+\n",
      "|day|\n",
      "+---+\n",
      "| 23|\n",
      "+---+\n",
      "\n"
     ]
    },
    {
     "name": "stderr",
     "output_type": "stream",
     "text": [
      "                                                                                \r"
     ]
    }
   ],
   "source": [
    "#create column of month days to determine which days are represented. \n",
    "df = df.withColumn(\"day\", dayofmonth(col(\"timestamp\")))\n",
    "df.select(col(\"day\")).distinct().show()"
   ]
  },
  {
   "cell_type": "markdown",
   "id": "5187feab-5d3e-43ee-a7c2-e9297712cbc7",
   "metadata": {},
   "source": [
    "#### so we see only that the 23 is represented. "
   ]
  },
  {
   "cell_type": "code",
   "execution_count": 17,
   "id": "a7595f27-8416-4bb5-a801-17367391383a",
   "metadata": {
    "tags": []
   },
   "outputs": [
    {
     "name": "stderr",
     "output_type": "stream",
     "text": [
      "                                                                                \r"
     ]
    },
    {
     "data": {
      "text/plain": [
       "1000000"
      ]
     },
     "execution_count": 17,
     "metadata": {},
     "output_type": "execute_result"
    }
   ],
   "source": [
    "#what is the size of the dataset? \n",
    "df.count()"
   ]
  },
  {
   "cell_type": "code",
   "execution_count": 23,
   "id": "d3eb7df8-c99e-4acb-a31b-658d6fe050e0",
   "metadata": {
    "tags": []
   },
   "outputs": [
    {
     "name": "stderr",
     "output_type": "stream",
     "text": [
      "                                                                                \r"
     ]
    },
    {
     "data": {
      "text/plain": [
       "68"
      ]
     },
     "execution_count": 23,
     "metadata": {},
     "output_type": "execute_result"
    }
   ],
   "source": [
    "#make a very small data set and see how many distinct actorIDs there are\n",
    "df_vsmall = df.limit(10000)\n",
    "df_vsmall.select(col(\"actorID\")).distinct().count()"
   ]
  },
  {
   "cell_type": "code",
   "execution_count": 28,
   "id": "2802b04b-5427-40c1-9ca6-fa03ee477620",
   "metadata": {
    "tags": []
   },
   "outputs": [
    {
     "name": "stderr",
     "output_type": "stream",
     "text": [
      "/home/ec2-user/anaconda3/envs/python3/lib/python3.10/site-packages/pyspark/sql/pandas/conversion.py:248: FutureWarning: Passing unit-less datetime64 dtype to .astype is deprecated and will raise in a future version. Pass 'datetime64[ns]' instead\n",
      "  series = series.astype(t, copy=False)\n"
     ]
    },
    {
     "data": {
      "text/html": [
       "<div>\n",
       "<style scoped>\n",
       "    .dataframe tbody tr th:only-of-type {\n",
       "        vertical-align: middle;\n",
       "    }\n",
       "\n",
       "    .dataframe tbody tr th {\n",
       "        vertical-align: top;\n",
       "    }\n",
       "\n",
       "    .dataframe thead th {\n",
       "        text-align: right;\n",
       "    }\n",
       "</style>\n",
       "<table border=\"1\" class=\"dataframe\">\n",
       "  <thead>\n",
       "    <tr style=\"text-align: right;\">\n",
       "      <th></th>\n",
       "      <th>timestamp</th>\n",
       "    </tr>\n",
       "  </thead>\n",
       "  <tbody>\n",
       "    <tr>\n",
       "      <th>0</th>\n",
       "      <td>2019-09-23 13:12:56.806</td>\n",
       "    </tr>\n",
       "    <tr>\n",
       "      <th>1</th>\n",
       "      <td>2019-09-23 13:12:56.806</td>\n",
       "    </tr>\n",
       "  </tbody>\n",
       "</table>\n",
       "</div>"
      ],
      "text/plain": [
       "                timestamp\n",
       "0 2019-09-23 13:12:56.806\n",
       "1 2019-09-23 13:12:56.806"
      ]
     },
     "execution_count": 28,
     "metadata": {},
     "output_type": "execute_result"
    }
   ],
   "source": [
    "#great now order v_small dataset by time\n",
    "df_vsmall.sort(col(\"timestamp\").desc()).select(\"timestamp\").limit(2).toPandas()"
   ]
  },
  {
   "cell_type": "code",
   "execution_count": 29,
   "id": "2e9bcf5a-38bd-406d-b0f4-edefa32eb800",
   "metadata": {
    "tags": []
   },
   "outputs": [
    {
     "name": "stderr",
     "output_type": "stream",
     "text": [
      "/home/ec2-user/anaconda3/envs/python3/lib/python3.10/site-packages/pyspark/sql/pandas/conversion.py:248: FutureWarning: Passing unit-less datetime64 dtype to .astype is deprecated and will raise in a future version. Pass 'datetime64[ns]' instead\n",
      "  series = series.astype(t, copy=False)\n"
     ]
    },
    {
     "data": {
      "text/html": [
       "<div>\n",
       "<style scoped>\n",
       "    .dataframe tbody tr th:only-of-type {\n",
       "        vertical-align: middle;\n",
       "    }\n",
       "\n",
       "    .dataframe tbody tr th {\n",
       "        vertical-align: top;\n",
       "    }\n",
       "\n",
       "    .dataframe thead th {\n",
       "        text-align: right;\n",
       "    }\n",
       "</style>\n",
       "<table border=\"1\" class=\"dataframe\">\n",
       "  <thead>\n",
       "    <tr style=\"text-align: right;\">\n",
       "      <th></th>\n",
       "      <th>timestamp</th>\n",
       "    </tr>\n",
       "  </thead>\n",
       "  <tbody>\n",
       "    <tr>\n",
       "      <th>0</th>\n",
       "      <td>2019-09-23 13:12:01.622</td>\n",
       "    </tr>\n",
       "    <tr>\n",
       "      <th>1</th>\n",
       "      <td>2019-09-23 13:12:01.622</td>\n",
       "    </tr>\n",
       "  </tbody>\n",
       "</table>\n",
       "</div>"
      ],
      "text/plain": [
       "                timestamp\n",
       "0 2019-09-23 13:12:01.622\n",
       "1 2019-09-23 13:12:01.622"
      ]
     },
     "execution_count": 29,
     "metadata": {},
     "output_type": "execute_result"
    }
   ],
   "source": [
    "#sort by ascending to see difference\n",
    "df_vsmall.sort(col(\"timestamp\").asc()).select(\"timestamp\").limit(2).toPandas()"
   ]
  },
  {
   "cell_type": "code",
   "execution_count": 31,
   "id": "27e0c404-ca85-4889-b96e-d5ad4d0cb9d7",
   "metadata": {
    "collapsed": true,
    "jupyter": {
     "outputs_hidden": true
    },
    "tags": []
   },
   "outputs": [
    {
     "name": "stderr",
     "output_type": "stream",
     "text": [
      "/home/ec2-user/anaconda3/envs/python3/lib/python3.10/site-packages/pyspark/sql/pandas/conversion.py:248: FutureWarning: Passing unit-less datetime64 dtype to .astype is deprecated and will raise in a future version. Pass 'datetime64[ns]' instead\n",
      "  series = series.astype(t, copy=False)\n"
     ]
    },
    {
     "data": {
      "text/html": [
       "<div>\n",
       "<style scoped>\n",
       "    .dataframe tbody tr th:only-of-type {\n",
       "        vertical-align: middle;\n",
       "    }\n",
       "\n",
       "    .dataframe tbody tr th {\n",
       "        vertical-align: top;\n",
       "    }\n",
       "\n",
       "    .dataframe thead th {\n",
       "        text-align: right;\n",
       "    }\n",
       "</style>\n",
       "<table border=\"1\" class=\"dataframe\">\n",
       "  <thead>\n",
       "    <tr style=\"text-align: right;\">\n",
       "      <th></th>\n",
       "      <th>timestamp</th>\n",
       "    </tr>\n",
       "  </thead>\n",
       "  <tbody>\n",
       "    <tr>\n",
       "      <th>0</th>\n",
       "      <td>2019-09-23 13:12:01.622</td>\n",
       "    </tr>\n",
       "    <tr>\n",
       "      <th>1</th>\n",
       "      <td>2019-09-23 13:12:01.723</td>\n",
       "    </tr>\n",
       "  </tbody>\n",
       "</table>\n",
       "</div>"
      ],
      "text/plain": [
       "                timestamp\n",
       "0 2019-09-23 13:12:01.622\n",
       "1 2019-09-23 13:12:01.723"
      ]
     },
     "execution_count": 31,
     "metadata": {},
     "output_type": "execute_result"
    }
   ],
   "source": [
    "df_vsmall.select(\"timestamp\").limit(2).toPandas()"
   ]
  },
  {
   "cell_type": "code",
   "execution_count": 24,
   "id": "f774fef5-6ee6-47dc-bbb8-03ab1ae06e32",
   "metadata": {
    "tags": []
   },
   "outputs": [],
   "source": [
    "#k so I have to sort the df and keep it that way. \n",
    "df_vsmall = df_vsmall.sort(col(\"timestamp\").asc())"
   ]
  },
  {
   "cell_type": "code",
   "execution_count": 25,
   "id": "b6089ab5-e928-4e15-917e-5a03b8bd1577",
   "metadata": {
    "tags": []
   },
   "outputs": [
    {
     "name": "stderr",
     "output_type": "stream",
     "text": [
      "/home/ec2-user/anaconda3/envs/python3/lib/python3.10/site-packages/pyspark/sql/pandas/conversion.py:248: FutureWarning: Passing unit-less datetime64 dtype to .astype is deprecated and will raise in a future version. Pass 'datetime64[ns]' instead\n",
      "  series = series.astype(t, copy=False)\n"
     ]
    },
    {
     "data": {
      "text/html": [
       "<div>\n",
       "<style scoped>\n",
       "    .dataframe tbody tr th:only-of-type {\n",
       "        vertical-align: middle;\n",
       "    }\n",
       "\n",
       "    .dataframe tbody tr th {\n",
       "        vertical-align: top;\n",
       "    }\n",
       "\n",
       "    .dataframe thead th {\n",
       "        text-align: right;\n",
       "    }\n",
       "</style>\n",
       "<table border=\"1\" class=\"dataframe\">\n",
       "  <thead>\n",
       "    <tr style=\"text-align: right;\">\n",
       "      <th></th>\n",
       "      <th>id</th>\n",
       "      <th>timestamp</th>\n",
       "    </tr>\n",
       "  </thead>\n",
       "  <tbody>\n",
       "    <tr>\n",
       "      <th>0</th>\n",
       "      <td>76f6091b-412f-41eb-bcd3-9184aeac62a1</td>\n",
       "      <td>2019-09-23 13:11:00.145</td>\n",
       "    </tr>\n",
       "    <tr>\n",
       "      <th>1</th>\n",
       "      <td>17af483c-22ca-4710-b26c-f35924056575</td>\n",
       "      <td>2019-09-23 13:11:00.164</td>\n",
       "    </tr>\n",
       "    <tr>\n",
       "      <th>2</th>\n",
       "      <td>e6651435-1708-4c87-9478-f84ee9f5569c</td>\n",
       "      <td>2019-09-23 13:11:00.168</td>\n",
       "    </tr>\n",
       "    <tr>\n",
       "      <th>3</th>\n",
       "      <td>7309e9fd-9315-4200-b2d7-5a2ae29d92d4</td>\n",
       "      <td>2019-09-23 13:11:00.168</td>\n",
       "    </tr>\n",
       "    <tr>\n",
       "      <th>4</th>\n",
       "      <td>336c4edd-85b3-4694-909a-325b55b256e3</td>\n",
       "      <td>2019-09-23 13:11:00.171</td>\n",
       "    </tr>\n",
       "  </tbody>\n",
       "</table>\n",
       "</div>"
      ],
      "text/plain": [
       "                                     id               timestamp\n",
       "0  76f6091b-412f-41eb-bcd3-9184aeac62a1 2019-09-23 13:11:00.145\n",
       "1  17af483c-22ca-4710-b26c-f35924056575 2019-09-23 13:11:00.164\n",
       "2  e6651435-1708-4c87-9478-f84ee9f5569c 2019-09-23 13:11:00.168\n",
       "3  7309e9fd-9315-4200-b2d7-5a2ae29d92d4 2019-09-23 13:11:00.168\n",
       "4  336c4edd-85b3-4694-909a-325b55b256e3 2019-09-23 13:11:00.171"
      ]
     },
     "execution_count": 25,
     "metadata": {},
     "output_type": "execute_result"
    }
   ],
   "source": [
    "#check order\n",
    "df_vsmall.select([\"id\",\"timestamp\"]).limit(5).toPandas()"
   ]
  },
  {
   "cell_type": "code",
   "execution_count": 36,
   "id": "9429fd26-94a9-4dd9-a19b-76931c9157be",
   "metadata": {
    "tags": []
   },
   "outputs": [
    {
     "name": "stdout",
     "output_type": "stream",
     "text": [
      "['89f91b70-9613-4e70-9473-23bb029e3889', 'e518426c-0868-49c2-a424-f22273343f80', '099b52e3-caf5-487d-bb04-5d5380049562', 'aa240ddc-17cd-4f29-bb39-e40a51f088b2', '095b125e-695e-456d-b962-7e3a131ff689', 'b81fd4f9-3e18-4260-9145-c14f68146fd9', 'a42bf7c9-bc3b-435a-891a-f1de9d8590aa']\n"
     ]
    }
   ],
   "source": [
    "#extract list of unique actor ids \n",
    "actIDs = [row.actorID for row in df_vsmall.select(\"actorID\").distinct().collect()]\n",
    "print(actIDs)"
   ]
  },
  {
   "cell_type": "code",
   "execution_count": 26,
   "id": "4ea98555-6d37-4c65-9ac3-bcdcca06f23f",
   "metadata": {
    "tags": []
   },
   "outputs": [
    {
     "name": "stderr",
     "output_type": "stream",
     "text": [
      "                                                                                \r"
     ]
    }
   ],
   "source": [
    "#create an array of unique values for speed and then creat proof of concept iteration\n",
    "test_ID_arr = df_vsmall.select(\"actorID\").distinct().collect()\n",
    "#for row in test_ID_arr: \n",
    " #   print(row.actorID)"
   ]
  },
  {
   "cell_type": "code",
   "execution_count": 12,
   "id": "3db1a379-371a-42dd-81fb-656f2ec58bbf",
   "metadata": {
    "tags": []
   },
   "outputs": [
    {
     "name": "stderr",
     "output_type": "stream",
     "text": [
      "                                                                                \r"
     ]
    },
    {
     "data": {
      "text/plain": [
       "1000"
      ]
     },
     "execution_count": 12,
     "metadata": {},
     "output_type": "execute_result"
    }
   ],
   "source": [
    "#confirm that event IDs are all unique. This should return a count of 50. \n",
    "df_vsmall.select(\"id\").distinct().count()"
   ]
  },
  {
   "cell_type": "code",
   "execution_count": 13,
   "id": "84ca7a36-015c-4e1c-afeb-8fb42585b134",
   "metadata": {
    "tags": []
   },
   "outputs": [
    {
     "data": {
      "text/plain": [
       "'c183f6f4-e83e-4d05-98df-6cafce2ec010'"
      ]
     },
     "execution_count": 13,
     "metadata": {},
     "output_type": "execute_result"
    }
   ],
   "source": [
    "test_ID_arr[0].actorID"
   ]
  },
  {
   "cell_type": "code",
   "execution_count": 27,
   "id": "d8a0c7db-7744-44d1-9e1e-6b0a43134f73",
   "metadata": {
    "tags": []
   },
   "outputs": [
    {
     "name": "stderr",
     "output_type": "stream",
     "text": [
      "                                                                                \r"
     ]
    }
   ],
   "source": [
    "#objID collection\n",
    "test_objID = df_vsmall.select(\"objectID\").distinct().collect()"
   ]
  },
  {
   "cell_type": "code",
   "execution_count": 15,
   "id": "41eac927-4794-47f9-8fc5-5654cce59287",
   "metadata": {
    "tags": []
   },
   "outputs": [
    {
     "name": "stderr",
     "output_type": "stream",
     "text": [
      "                                                                                \r"
     ]
    },
    {
     "data": {
      "text/plain": [
       "1"
      ]
     },
     "execution_count": 15,
     "metadata": {},
     "output_type": "execute_result"
    }
   ],
   "source": [
    "#so there are nine examples of the same objID in the dataset\n",
    "df_vsmall.where(col(\"objectID\") == test_objID[0].objectID).count()"
   ]
  },
  {
   "cell_type": "code",
   "execution_count": 33,
   "id": "067bec4a-83e8-4fa7-923f-58656bf0edda",
   "metadata": {
    "tags": []
   },
   "outputs": [
    {
     "name": "stderr",
     "output_type": "stream",
     "text": [
      "                                                                                \r"
     ]
    },
    {
     "data": {
      "text/plain": [
       "0"
      ]
     },
     "execution_count": 33,
     "metadata": {},
     "output_type": "execute_result"
    }
   ],
   "source": [
    "#but the obj ID appears 10 times in the actor ID...I think it's starting to make sense. \n",
    "df_vsmall.where(col(\"actorID\") == test_objID[0].objectID).count()"
   ]
  },
  {
   "cell_type": "code",
   "execution_count": 28,
   "id": "627a204e-f10d-47b1-baf9-d5cdbd69e3ac",
   "metadata": {
    "tags": []
   },
   "outputs": [
    {
     "name": "stdout",
     "output_type": "stream",
     "text": [
      "Objects: 10000\n",
      "Actors: 68\n"
     ]
    }
   ],
   "source": [
    "#are there more objIDs or actorIDs\n",
    "print(\"Objects: \" + str(len(test_objID)))\n",
    "print(\"Actors: \" + str(len(test_ID_arr)))"
   ]
  },
  {
   "cell_type": "code",
   "execution_count": 29,
   "id": "45844f82-cba6-4383-863c-4e67d52c6308",
   "metadata": {
    "tags": []
   },
   "outputs": [
    {
     "name": "stderr",
     "output_type": "stream",
     "text": [
      "                                                                                \r"
     ]
    },
    {
     "data": {
      "text/plain": [
       "10000"
      ]
     },
     "execution_count": 29,
     "metadata": {},
     "output_type": "execute_result"
    }
   ],
   "source": [
    "df_vsmall.select(\"objectID\").distinct().count()"
   ]
  },
  {
   "cell_type": "code",
   "execution_count": 30,
   "id": "f76ae738-d85a-490a-bf22-627fa52fc6f6",
   "metadata": {
    "tags": []
   },
   "outputs": [
    {
     "data": {
      "text/plain": [
       "'2b8a82ef-89df-4e07-b6a3-00c9e904d348'"
      ]
     },
     "execution_count": 30,
     "metadata": {},
     "output_type": "execute_result"
    }
   ],
   "source": [
    "test_ID_arr[1].actorID"
   ]
  },
  {
   "cell_type": "code",
   "execution_count": 32,
   "id": "bb178e9d-8cfe-4eef-8a7c-9b5d68a8ae8a",
   "metadata": {
    "tags": []
   },
   "outputs": [
    {
     "name": "stderr",
     "output_type": "stream",
     "text": [
      "                                                                                \r"
     ]
    },
    {
     "data": {
      "text/html": [
       "<div>\n",
       "<style scoped>\n",
       "    .dataframe tbody tr th:only-of-type {\n",
       "        vertical-align: middle;\n",
       "    }\n",
       "\n",
       "    .dataframe tbody tr th {\n",
       "        vertical-align: top;\n",
       "    }\n",
       "\n",
       "    .dataframe thead th {\n",
       "        text-align: right;\n",
       "    }\n",
       "</style>\n",
       "<table border=\"1\" class=\"dataframe\">\n",
       "  <thead>\n",
       "    <tr style=\"text-align: right;\">\n",
       "      <th></th>\n",
       "      <th>objectID</th>\n",
       "      <th>actorID</th>\n",
       "      <th>timestamp</th>\n",
       "      <th>object</th>\n",
       "      <th>action</th>\n",
       "    </tr>\n",
       "  </thead>\n",
       "  <tbody>\n",
       "  </tbody>\n",
       "</table>\n",
       "</div>"
      ],
      "text/plain": [
       "Empty DataFrame\n",
       "Columns: [objectID, actorID, timestamp, object, action]\n",
       "Index: []"
      ]
     },
     "execution_count": 32,
     "metadata": {},
     "output_type": "execute_result"
    }
   ],
   "source": [
    "#k this is obvious now, i was seeing the first actor 0 times in objID because it was the first event\n",
    "df_vsmall.select([\"objectID\", \"actorID\",\"timestamp\", \"object\",\"action\"]).where(col(\"objectID\") == test_ID_arr[10].actorID).toPandas()"
   ]
  },
  {
   "cell_type": "code",
   "execution_count": 20,
   "id": "715fe667-2eb8-4a51-b26a-8dc6971ab48f",
   "metadata": {
    "tags": []
   },
   "outputs": [
    {
     "name": "stderr",
     "output_type": "stream",
     "text": [
      "                                                                                \r"
     ]
    },
    {
     "data": {
      "text/html": [
       "<div>\n",
       "<style scoped>\n",
       "    .dataframe tbody tr th:only-of-type {\n",
       "        vertical-align: middle;\n",
       "    }\n",
       "\n",
       "    .dataframe tbody tr th {\n",
       "        vertical-align: top;\n",
       "    }\n",
       "\n",
       "    .dataframe thead th {\n",
       "        text-align: right;\n",
       "    }\n",
       "</style>\n",
       "<table border=\"1\" class=\"dataframe\">\n",
       "  <thead>\n",
       "    <tr style=\"text-align: right;\">\n",
       "      <th></th>\n",
       "      <th>objectID</th>\n",
       "      <th>actorID</th>\n",
       "      <th>timestamp</th>\n",
       "      <th>object</th>\n",
       "      <th>action</th>\n",
       "    </tr>\n",
       "  </thead>\n",
       "  <tbody>\n",
       "  </tbody>\n",
       "</table>\n",
       "</div>"
      ],
      "text/plain": [
       "Empty DataFrame\n",
       "Columns: [objectID, actorID, timestamp, object, action]\n",
       "Index: []"
      ]
     },
     "execution_count": 20,
     "metadata": {},
     "output_type": "execute_result"
    }
   ],
   "source": [
    "#k this is obvious now, i was seeing the first actor 0 times in objID because it was the first event\n",
    "df_vsmall.select([\"objectID\", \"actorID\",\"timestamp\", \"object\",\"action\"]).where(col(\"objectID\") == test_ID_arr[2].actorID).toPandas()"
   ]
  },
  {
   "cell_type": "code",
   "execution_count": 51,
   "id": "c814b428-417d-4029-96d1-08653425ff8e",
   "metadata": {
    "tags": []
   },
   "outputs": [
    {
     "name": "stderr",
     "output_type": "stream",
     "text": [
      "                                                                                \r"
     ]
    }
   ],
   "source": [
    "for i in range(len(test_ID_arr)):\n",
    "    if df_vsmall.where(col(\"objectID\") == test_ID_arr[i].actorID).count() > 0: \n",
    "        print(\"yes\")\n"
   ]
  },
  {
   "cell_type": "code",
   "execution_count": 18,
   "id": "4a96a13c-f91d-4c7a-90cc-bb1cb5bb55be",
   "metadata": {
    "tags": []
   },
   "outputs": [
    {
     "name": "stderr",
     "output_type": "stream",
     "text": [
      "[Stage 29:=============================>                            (2 + 2) / 4]\r"
     ]
    },
    {
     "name": "stdout",
     "output_type": "stream",
     "text": [
      "Objects: 48622\n",
      "Actors: 2327\n"
     ]
    },
    {
     "name": "stderr",
     "output_type": "stream",
     "text": [
      "                                                                                \r"
     ]
    }
   ],
   "source": [
    "#alright so the truncated data isn't working let's expand to 2 hours worth of data and see how many actor ids are in the\n",
    "#obj ID collection. \n",
    "\n",
    "#objID collection\n",
    "test_objID_big = df.select(\"objectID\").distinct().collect()\n",
    "test_ID_arr_big = df.select(\"actorID\").distinct().collect()\n",
    "\n",
    "print(\"Objects: \" + str(len(test_objID_big)))\n",
    "print(\"Actors: \" + str(len(test_ID_arr_big)))\n"
   ]
  },
  {
   "cell_type": "code",
   "execution_count": 19,
   "id": "7560f64c-0d6c-40fd-b1e1-0766c5f8c784",
   "metadata": {
    "tags": []
   },
   "outputs": [
    {
     "name": "stderr",
     "output_type": "stream",
     "text": [
      "[Stage 32:=============================>                            (2 + 2) / 4]\r"
     ]
    },
    {
     "name": "stdout",
     "output_type": "stream",
     "text": [
      "+-------+\n",
      "| object|\n",
      "+-------+\n",
      "|  SHELL|\n",
      "|   FLOW|\n",
      "|   FILE|\n",
      "|PROCESS|\n",
      "+-------+\n",
      "\n"
     ]
    },
    {
     "name": "stderr",
     "output_type": "stream",
     "text": [
      "                                                                                \r"
     ]
    }
   ],
   "source": [
    "#what events are in the \"full dataset\"\n",
    "df.select(\"object\").distinct().show()"
   ]
  },
  {
   "cell_type": "code",
   "execution_count": 31,
   "id": "c7d072a6-ca4e-46c2-9d06-b00ca7f0a389",
   "metadata": {
    "tags": []
   },
   "outputs": [
    {
     "name": "stderr",
     "output_type": "stream",
     "text": [
      "[Stage 52:===================================================>    (12 + 1) / 13]\r"
     ]
    },
    {
     "name": "stdout",
     "output_type": "stream",
     "text": [
      "+------+\n",
      "|object|\n",
      "+------+\n",
      "|  FLOW|\n",
      "+------+\n",
      "\n"
     ]
    },
    {
     "name": "stderr",
     "output_type": "stream",
     "text": [
      "                                                                                \r"
     ]
    }
   ],
   "source": [
    "df_eps.select(\"object\").distinct().show()"
   ]
  },
  {
   "cell_type": "code",
   "execution_count": 15,
   "id": "e34bd08b-fbbb-4df8-aef3-afa7ec8b6ace",
   "metadata": {
    "tags": []
   },
   "outputs": [
    {
     "name": "stdout",
     "output_type": "stream",
     "text": [
      "+---------+---------+------+\n",
      "| actorIDs|objectIDs|id_int|\n",
      "+---------+---------+------+\n",
      "|[a, b, c]|   [c, d]|   [c]|\n",
      "+---------+---------+------+\n",
      "\n"
     ]
    }
   ],
   "source": [
    "#proof of concept\n",
    "\n",
    "samp = [{\"actorIDs\" : ['a','b','c'], \\\n",
    "               \"objectIDs\" : ['c','d']}]\n",
    "id_intersect = spark.createDataFrame(samp)\n",
    "id_intersect = (id_intersect.withColumn(\"id_int\", \\\n",
    "                                        array_intersect(col(\"actorIDs\"), col(\"objectIDs\"))))\n",
    "id_intersect.show()"
   ]
  },
  {
   "cell_type": "code",
   "execution_count": 20,
   "id": "1d9f74cd-c351-444b-ae84-22671c8cc136",
   "metadata": {
    "tags": []
   },
   "outputs": [],
   "source": [
    "#so I used the wrong code to find the overlap between the two \"sets\" of ids. instead\n",
    "#I need to create an array with one row and two columns. the columns will contain lists of Obj and\n",
    "#actor IDs. I will create a spark df with that array. I will then create another column with array interesct, which\n",
    "#will give me a list of the common elements. I can then use the overlapping elements to build traces.\n",
    "\n",
    "data = [{\"actorIDs\" : [row.actorID for row in test_ID_arr_big], \\\n",
    "               \"objectIDs\" : [row.objectID for row in test_objID_big]}]\n",
    "id_intersect = spark.createDataFrame(data)\n"
   ]
  },
  {
   "cell_type": "code",
   "execution_count": 21,
   "id": "414ef3ef-289d-4a2a-96ab-24b7423295b9",
   "metadata": {
    "tags": []
   },
   "outputs": [],
   "source": [
    "#what is the overlap\n",
    "id_intersect = (id_intersect.withColumn(\"id_int\", \\\n",
    "                                        array_intersect(col(\"actorIDs\"), col(\"objectIDs\"))))"
   ]
  },
  {
   "cell_type": "code",
   "execution_count": 25,
   "id": "63cf7333-ea52-4d7a-a9fc-9b37d7a4f19c",
   "metadata": {
    "tags": []
   },
   "outputs": [
    {
     "data": {
      "text/html": [
       "<div>\n",
       "<style scoped>\n",
       "    .dataframe tbody tr th:only-of-type {\n",
       "        vertical-align: middle;\n",
       "    }\n",
       "\n",
       "    .dataframe tbody tr th {\n",
       "        vertical-align: top;\n",
       "    }\n",
       "\n",
       "    .dataframe thead th {\n",
       "        text-align: right;\n",
       "    }\n",
       "</style>\n",
       "<table border=\"1\" class=\"dataframe\">\n",
       "  <thead>\n",
       "    <tr style=\"text-align: right;\">\n",
       "      <th></th>\n",
       "      <th>id_int</th>\n",
       "    </tr>\n",
       "  </thead>\n",
       "  <tbody>\n",
       "    <tr>\n",
       "      <th>0</th>\n",
       "      <td>[86d3fc1e-dfe9-4482-a888-527838b43f77, 49b0ed0...</td>\n",
       "    </tr>\n",
       "  </tbody>\n",
       "</table>\n",
       "</div>"
      ],
      "text/plain": [
       "                                              id_int\n",
       "0  [86d3fc1e-dfe9-4482-a888-527838b43f77, 49b0ed0..."
      ]
     },
     "execution_count": 25,
     "metadata": {},
     "output_type": "execute_result"
    }
   ],
   "source": [
    "id_intersect.select(\"id_int\").toPandas()"
   ]
  },
  {
   "cell_type": "code",
   "execution_count": 29,
   "id": "24e94a70-9c5f-4aad-9f0d-559055fcc200",
   "metadata": {
    "tags": []
   },
   "outputs": [
    {
     "name": "stdout",
     "output_type": "stream",
     "text": [
      "1715\n"
     ]
    }
   ],
   "source": [
    "#extract the overlap list and turn it into a column\n",
    "overlap = id_intersect.select(\"id_int\").collect()\n",
    "overlap = [row.id_int for row in overlap][0]\n",
    "print(len(overlap))"
   ]
  },
  {
   "cell_type": "markdown",
   "id": "64a47666-ceb9-4455-aad4-5b85487c4e7b",
   "metadata": {},
   "source": [
    "#### We show 1715 actor ids that are in the object IDs! huzzah! I probably have to sort and then run this all again."
   ]
  },
  {
   "cell_type": "code",
   "execution_count": 33,
   "id": "dd49ea43-4d7a-406e-a21d-63deaa03a2b8",
   "metadata": {
    "collapsed": true,
    "jupyter": {
     "outputs_hidden": true
    },
    "tags": []
   },
   "outputs": [
    {
     "name": "stdout",
     "output_type": "stream",
     "text": [
      "root\n",
      " |-- action: string (nullable = true)\n",
      " |-- actorID: string (nullable = true)\n",
      " |-- hostname: string (nullable = true)\n",
      " |-- id: string (nullable = true)\n",
      " |-- object: string (nullable = true)\n",
      " |-- objectID: string (nullable = true)\n",
      " |-- pid: integer (nullable = true)\n",
      " |-- ppid: integer (nullable = true)\n",
      " |-- principal: string (nullable = true)\n",
      " |-- tid: integer (nullable = true)\n",
      " |-- timestamp: timestamp (nullable = true)\n",
      " |-- acuity_level: string (nullable = true)\n",
      " |-- base_address: string (nullable = true)\n",
      " |-- command_line: string (nullable = true)\n",
      " |-- context_info: string (nullable = true)\n",
      " |-- data: string (nullable = true)\n",
      " |-- dest_port: integer (nullable = true)\n",
      " |-- direction: string (nullable = true)\n",
      " |-- end_time: timestamp (nullable = true)\n",
      " |-- file_path: string (nullable = true)\n",
      " |-- image_path: string (nullable = true)\n",
      " |-- info_class: string (nullable = true)\n",
      " |-- key: string (nullable = true)\n",
      " |-- l4protocol: string (nullable = true)\n",
      " |-- logon_id: string (nullable = true)\n",
      " |-- module_path: string (nullable = true)\n",
      " |-- new_path: string (nullable = true)\n",
      " |-- parent_image_path: string (nullable = true)\n",
      " |-- path: string (nullable = true)\n",
      " |-- payload: string (nullable = true)\n",
      " |-- privileges: string (nullable = true)\n",
      " |-- requesting_domain: string (nullable = true)\n",
      " |-- requesting_logon_id: string (nullable = true)\n",
      " |-- requesting_user: string (nullable = true)\n",
      " |-- sid: string (nullable = true)\n",
      " |-- size: string (nullable = true)\n",
      " |-- src_ip: string (nullable = true)\n",
      " |-- src_pid: integer (nullable = true)\n",
      " |-- src_port: integer (nullable = true)\n",
      " |-- src_tid: string (nullable = true)\n",
      " |-- stack_base: string (nullable = true)\n",
      " |-- stack_limit: string (nullable = true)\n",
      " |-- start_address: string (nullable = true)\n",
      " |-- start_time: timestamp (nullable = true)\n",
      " |-- subprocess_tag: string (nullable = true)\n",
      " |-- task_name: string (nullable = true)\n",
      " |-- task_pid: integer (nullable = true)\n",
      " |-- task_process_uuid: string (nullable = true)\n",
      " |-- tgt_pid: integer (nullable = true)\n",
      " |-- tgt_pid_uuid: string (nullable = true)\n",
      " |-- tgt_tid: integer (nullable = true)\n",
      " |-- type: string (nullable = true)\n",
      " |-- user: string (nullable = true)\n",
      " |-- user_name: string (nullable = true)\n",
      " |-- user_stack_base: string (nullable = true)\n",
      " |-- user_stack_limit: string (nullable = true)\n",
      " |-- value: string (nullable = true)\n",
      " |-- event_day: integer (nullable = true)\n",
      " |-- event_hour: integer (nullable = true)\n",
      " |-- event_minute: integer (nullable = true)\n",
      "\n"
     ]
    }
   ],
   "source": [
    "df.printSchema()"
   ]
  },
  {
   "cell_type": "code",
   "execution_count": null,
   "id": "68b54f51-c24a-461a-a845-02ae078be541",
   "metadata": {},
   "outputs": [],
   "source": [
    "#sort the column by timestamp, re-run intersect, then find the first actor ID\n",
    "#in the object ID column, and not the actor ID column, and add that to a dictionary as a key, or a node. \n"
   ]
  }
 ],
 "metadata": {
  "kernelspec": {
   "display_name": "conda_python3",
   "language": "python",
   "name": "conda_python3"
  },
  "language_info": {
   "codemirror_mode": {
    "name": "ipython",
    "version": 3
   },
   "file_extension": ".py",
   "mimetype": "text/x-python",
   "name": "python",
   "nbconvert_exporter": "python",
   "pygments_lexer": "ipython3",
   "version": "3.10.8"
  }
 },
 "nbformat": 4,
 "nbformat_minor": 5
}
