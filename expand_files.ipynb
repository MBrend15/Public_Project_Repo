{
 "cells": [
  {
   "cell_type": "code",
   "execution_count": 2,
   "id": "970130b0-b08c-4536-936e-ca923cc595a9",
   "metadata": {},
   "outputs": [],
   "source": [
    "#setup based on this: https://t-redactyl.io/blog/2020/08/reading-s3-data-into-a-spark-dataframe-using-sagemaker.html\n",
    "import boto3\n",
    "import json \n",
    "import time\n",
    "import pandas as pd\n",
    "from pyspark import SparkConf\n",
    "from pyspark.sql import SparkSession\n",
    "from pyspark.sql.functions import explode, split, isnan, when, count, col\n",
    "import matplotlib.pyplot as plt\n",
    "import sagemaker_pyspark\n",
    "import botocore.session"
   ]
  },
  {
   "cell_type": "markdown",
   "id": "1e5ef5d6-368f-43af-b519-ba5112c87b79",
   "metadata": {},
   "source": [
    "## Set Spark Session Configuration"
   ]
  },
  {
   "cell_type": "code",
   "execution_count": 3,
   "id": "6d8e9008-6651-4c17-8c12-eef2b18e10fe",
   "metadata": {
    "tags": []
   },
   "outputs": [],
   "source": [
    "session = botocore.session.get_session()\n",
    "credentials = session.get_credentials()"
   ]
  },
  {
   "cell_type": "code",
   "execution_count": 4,
   "id": "7486ea00-f477-4f51-bf6e-b66a57f1a557",
   "metadata": {
    "tags": []
   },
   "outputs": [],
   "source": [
    "client = boto3.client('secretsmanager')\n",
    "response = client.get_secret_value(\n",
    "    SecretId='sapient-s3-access'\n",
    ")\n",
    "response = json.loads(response['SecretString'])\n",
    "access_key = response[\"aws_access_key_id\"]\n",
    "secret_key = response[\"aws_secret_access_key\"]"
   ]
  },
  {
   "cell_type": "code",
   "execution_count": 5,
   "id": "372553c2-9f17-4c4f-b253-275e30a1ef35",
   "metadata": {
    "tags": []
   },
   "outputs": [],
   "source": [
    "conf = (SparkConf()\n",
    "        .set(\"spark.driver.extraClassPath\", \":\".join(sagemaker_pyspark.classpath_jars())))"
   ]
  },
  {
   "cell_type": "code",
   "execution_count": 6,
   "id": "9392e443-f6d6-4a54-bbb8-2972eafaf97e",
   "metadata": {
    "tags": []
   },
   "outputs": [
    {
     "name": "stderr",
     "output_type": "stream",
     "text": [
      "Warning: Ignoring non-Spark config property: fs.s3a.access.key\n",
      "Warning: Ignoring non-Spark config property: fs.s3a.secret.key\n",
      "Setting default log level to \"WARN\".\n",
      "To adjust logging level use sc.setLogLevel(newLevel). For SparkR, use setLogLevel(newLevel).\n"
     ]
    },
    {
     "name": "stdout",
     "output_type": "stream",
     "text": [
      "23/02/19 16:13:52 WARN NativeCodeLoader: Unable to load native-hadoop library for your platform... using builtin-java classes where applicable\n"
     ]
    }
   ],
   "source": [
    "spark = (\n",
    "    SparkSession\n",
    "    .builder\n",
    "    .config(conf=conf) \\\n",
    "    .config('fs.s3a.access.key', access_key)\n",
    "    .config('fs.s3a.secret.key', secret_key)\n",
    "    .config('spark.network.timeout', 300)\n",
    "    .config('spark.memory.offHeap.size','4g')\n",
    "    .config('spark.executor.memory', '16g')\n",
    "    .appName(\"sapient\")\n",
    "    .getOrCreate()\n",
    ")"
   ]
  },
  {
   "cell_type": "markdown",
   "id": "322f0acc-5281-4b73-a33b-67ac7c05b96a",
   "metadata": {},
   "source": [
    "## Functions to Load and Read Data"
   ]
  },
  {
   "cell_type": "code",
   "execution_count": 7,
   "id": "4a5e8ea5-b6a8-4fdd-84d5-22e3b31c7340",
   "metadata": {},
   "outputs": [],
   "source": [
    "# read from raw bucket + write to refined bucket + aggregate final to the trusted bucket\n",
    "s3_url_raw = \"s3a://sapient-bucket-raw/\"\n",
    "s3_url_refined = \"s3a://sapient-bucket-refined/\"\n",
    "s3_url_trusted = \"s3a://sapient-bucket-trusted/\"\n",
    "bro_cols_conn = ['ts', 'uid', 'id.orig_h', 'id.orig_p', 'id.resp_', 'id.resp_p', 'proto', 'service', 'duration', 'orig_bytes', 'resp_bytes', 'conn_state', \n",
    "                 'local_orig', 'local_resp', 'missed_bytes', 'history', 'orig_pkts', 'orig_ip_bytes', 'resp_pkts', 'resp_ip_bytes', 'tunnel_parents']\n",
    "bro_cols_rep = ['ts', 'level', 'message', 'location']"
   ]
  },
  {
   "cell_type": "code",
   "execution_count": 8,
   "id": "948047f5-3308-49ad-b9c7-f281aabb8c6d",
   "metadata": {},
   "outputs": [],
   "source": [
    "def loadAndCheckpoint(type):\n",
    "    \"\"\"\n",
    "    type: ecar, ecar-bro, bro, labels\n",
    "    This function reads a file from json or log text and writes it as a parquet.\n",
    "    \"\"\"\n",
    "    start_time = time.time()\n",
    "    if type == 'ecar':\n",
    "        df = spark.read.json(f\"{s3_url_raw}/{env}/{type}/**/**/**/*.json\")\n",
    "        df = df.limit(1000)\n",
    "        df = df.select(*df.columns, \"properties.*\").drop('properties')\n",
    "        df.write.option(\"maxRecordsPerFile\", 100000).mode(\"overwrite\").parquet(f\"{s3_url_refined}/{env}/{type}\")\n",
    "    elif type == 'ecar-bro':\n",
    "        df = spark.read.json(f\"{s3_url_raw}/{env}/{type}/**/**/**/*.json\")\n",
    "        # this will extract and flatten nested properties column\n",
    "        df = df.limit(1000)\n",
    "        df = df.select(*df.columns, \"properties.*\").drop('properties')\n",
    "        df.write.option(\"maxRecordsPerFile\", 100000).mode(\"overwrite\").parquet(f\"{s3_url_refined}/{env}/{type}\")\n",
    "    elif type == 'bro':\n",
    "        df = spark.read.csv(f\"{s3_url_raw}/{env}/**/**/*.log\", sep=\"\\t\", comment=\"#\", header=False)\n",
    "        df = df.limit(1000)\n",
    "        df = df.toDF(*bro_cols_conn)\n",
    "        df.write.option(\"maxRecordsPerFile\", 100000).mode(\"overwrite\").parquet(f\"{s3_url_refined}/{env}/{type}\")\n",
    "    elif type == 'labels':\n",
    "        df = spark.read.csv(f\"{s3_url_raw}/{env}/{type}/*.csv\", sep=\",\", header=True)\n",
    "        df.write.option(\"maxRecordsPerFile\", 100000).mode(\"overwrite\").parquet(f\"{s3_url_refined}/{env}/{type}\")\n",
    "    print(\"--- %s seconds ---\" % (time.time() - start_time))\n",
    "    df.unpersist()"
   ]
  },
  {
   "cell_type": "code",
   "execution_count": null,
   "id": "c5ee57e1-0d17-4b96-bdc9-ce32d2d2e9b0",
   "metadata": {},
   "outputs": [],
   "source": []
  },
  {
   "cell_type": "code",
   "execution_count": null,
   "id": "b5b7a8c8-e1fc-45d9-a8ff-72d9fabc2474",
   "metadata": {},
   "outputs": [],
   "source": []
  },
  {
   "cell_type": "code",
   "execution_count": null,
   "id": "8aa96722-457e-4ccb-a7fd-3858e33acd04",
   "metadata": {},
   "outputs": [],
   "source": []
  },
  {
   "cell_type": "code",
   "execution_count": 9,
   "id": "53879374-d9e3-490d-99d2-905878d27948",
   "metadata": {},
   "outputs": [
    {
     "name": "stdout",
     "output_type": "stream",
     "text": [
      "--- 3.814697265625e-05 seconds ---\n"
     ]
    }
   ],
   "source": [
    "start_time = time.time()\n",
    "# df = spark.read.json(f\"{s3_url_raw}/dev/ecar/evaluation/23Sep19-red/AIA-1-25/AIA-1-25.ecar.json\")\n",
    "print(\"--- %s seconds ---\" % (time.time() - start_time))"
   ]
  },
  {
   "cell_type": "code",
   "execution_count": 10,
   "id": "3a585447-d68b-4eb2-9e01-c054b9187f57",
   "metadata": {},
   "outputs": [
    {
     "name": "stdout",
     "output_type": "stream",
     "text": [
      "--- 3.123283386230469e-05 seconds ---\n"
     ]
    }
   ],
   "source": [
    "start_time = time.time()\n",
    "# df = spark.read.format(\"json\").load(f\"{s3_url_raw}/dev/ecar/evaluation/23Sep19-red/AIA-1-25/AIA-1-25.ecar.json\")\n",
    "print(\"--- %s seconds ---\" % (time.time() - start_time))"
   ]
  },
  {
   "cell_type": "code",
   "execution_count": 11,
   "id": "6168070d-17b2-4993-9d18-646781acdf5d",
   "metadata": {},
   "outputs": [],
   "source": [
    "import boto3\n",
    "s3 = boto3.resource('s3')"
   ]
  },
  {
   "cell_type": "code",
   "execution_count": 12,
   "id": "ca818e3e-f8b2-412b-9d64-7f19d9a19344",
   "metadata": {},
   "outputs": [],
   "source": [
    "bucket = s3.Bucket(s3_url_raw)\n",
    "prefix=\"dev\""
   ]
  },
  {
   "cell_type": "code",
   "execution_count": 13,
   "id": "8a9f4a94-09b7-4b6d-8a8c-331eb88080cf",
   "metadata": {},
   "outputs": [],
   "source": [
    "# https://medium.com/towards-data-engineering/get-keys-inside-an-s3-bucket-at-the-subfolder-level-7be42d858372\n",
    "def get_matching_s3_objects(bucket, prefix=\"\", suffix=\"\"):\n",
    "    \"\"\"\n",
    "    Generate objects in an S3 bucket.\n",
    "    :param bucket: Name of the S3 bucket.\n",
    "    :type bucket: str\n",
    "    :param prefix: Only fetch objects whose key starts with this prefix (optional).\n",
    "    :type prefix: tuple, list, str\n",
    "    :param suffix: Only fetch objects whose keys end with this suffix (optional).\n",
    "    :type suffix: str\n",
    "    :return: None\n",
    "    :rtype:\n",
    "    \"\"\"\n",
    "\n",
    "    if isinstance(prefix, str):\n",
    "        prefixes = (prefix, )\n",
    "    else:\n",
    "        prefixes = prefix\n",
    "\n",
    "    s3 = boto3.resource('s3')\n",
    "    my_bucket = s3.Bucket(bucket)\n",
    "    \n",
    "    count = 0\n",
    "    files_list = []\n",
    "    \n",
    "    for key_prefix in prefixes:\n",
    "        for object_summary in my_bucket.objects.filter(Prefix=key_prefix):\n",
    "            key = object_summary.key\n",
    "            if key.endswith(suffix):\n",
    "                count += 1\n",
    "                files_list.append(key)\n",
    "    print(f\"count of total objects is {count}.\")\n",
    "    print(f\"guesstimated time is \" + str(round(178*count/60/60, 0)) + \" hours.\")\n",
    "    return count, files_list"
   ]
  },
  {
   "cell_type": "code",
   "execution_count": null,
   "id": "2a2f02a4-e470-48bd-ab66-e52496443f6d",
   "metadata": {},
   "outputs": [],
   "source": []
  },
  {
   "cell_type": "code",
   "execution_count": null,
   "id": "61b5d3db-0fcc-4fdb-acbf-45a904f9182e",
   "metadata": {},
   "outputs": [],
   "source": []
  },
  {
   "cell_type": "code",
   "execution_count": 14,
   "id": "27f4e106-0963-4074-815f-0540febb602d",
   "metadata": {},
   "outputs": [],
   "source": [
    "import io\n",
    "import os\n",
    "import gzip\n",
    "import boto3\n",
    "import shutil\n",
    "from boto3.s3.transfer import TransferConfig"
   ]
  },
  {
   "cell_type": "code",
   "execution_count": 15,
   "id": "d082d7ef-55a5-4097-856e-31e7cfd29756",
   "metadata": {
    "tags": []
   },
   "outputs": [],
   "source": [
    "config = TransferConfig(multipart_threshold=1024 * 300, \n",
    "                        max_concurrency=10,\n",
    "                        multipart_chunksize=1024 * 300,\n",
    "                        use_threads=True)"
   ]
  },
  {
   "cell_type": "code",
   "execution_count": 31,
   "id": "a8804fd6-0d97-4fc1-87a2-e599135b4117",
   "metadata": {
    "tags": []
   },
   "outputs": [],
   "source": [
    "# https://medium.com/analytics-vidhya/aws-s3-multipart-upload-download-using-boto3-python-sdk-2dedb0945f11\n",
    "# https://stackoverflow.com/questions/48466421/python-how-to-decompress-a-gzip-file-to-an-uncompressed-file-on-disk\n",
    "def expand_json_gz(bucket, key):\n",
    "    ''' download gzipped json file from s3, expand, and send to s3 '''\n",
    "    s3 = boto3.resource('s3')\n",
    "    client = boto3.client('s3')\n",
    "    tmp_loc = f'/home/ec2-user/SageMaker/tmp/{key}'\n",
    "    new_dir = os.path.dirname(tmp_loc)\n",
    "    start_time = time.time()\n",
    "    try: \n",
    "        os.makedirs(new_dir)\n",
    "    except:\n",
    "        pass\n",
    "    # download gz file\n",
    "    response = s3.meta.client.download_file(Bucket=bucket, Key=key, Filename=tmp_loc)\n",
    "    exp_loc = tmp_loc.replace(\".gz\", \"\")\n",
    "    key_exp = key.replace(file_pre, \"\").replace(\".gz\", \"\")\n",
    "    print(exp_loc)\n",
    "    with gzip.open(tmp_loc, 'r') as f_in: \n",
    "        with open(exp_loc, 'wb') as f_out:\n",
    "            try:\n",
    "                shutil.copyfileobj(f_in, f_out)\n",
    "                response = client.upload_file(\n",
    "                                Filename = exp_loc,\n",
    "                                Bucket=bucket,\n",
    "                                Key= 'prod/'+ key_exp.lstrip(file_pre),\n",
    "                                Config=config\n",
    "        )\n",
    "                print(\"file upload complete\")\n",
    "            except Exception as e:\n",
    "                print(e)\n",
    "                print(\"failed file: \" + file_pre)\n",
    "                pass\n",
    "    try: \n",
    "        os.remove(tmp_loc)\n",
    "        os.remove(exp_loc)\n",
    "    except Exception as e:\n",
    "        print(e)\n",
    "    print(\"--- %s seconds ---\" % (time.time() - start_time))"
   ]
  },
  {
   "cell_type": "code",
   "execution_count": null,
   "id": "63e033e1-bae8-40af-84e5-18a540ec481d",
   "metadata": {},
   "outputs": [],
   "source": []
  },
  {
   "cell_type": "code",
   "execution_count": 32,
   "id": "04bc58e1-25d4-477e-a6c6-85c1a8a5ce09",
   "metadata": {
    "tags": []
   },
   "outputs": [],
   "source": [
    "file_pre = \"pre_prod/\"\n",
    "file_prod = \"prod\"\n",
    "log_type = \"bro\"\n",
    "bucket = \"sapient-bucket-raw\""
   ]
  },
  {
   "cell_type": "code",
   "execution_count": null,
   "id": "3d329490-63dc-4130-a5d4-8ff7ccd2ec50",
   "metadata": {},
   "outputs": [],
   "source": []
  },
  {
   "cell_type": "code",
   "execution_count": 33,
   "id": "05632fba-9d61-424e-a095-938f01bd08ee",
   "metadata": {
    "tags": []
   },
   "outputs": [
    {
     "name": "stdout",
     "output_type": "stream",
     "text": [
      "/home/ec2-user/SageMaker/tmp/pre_prod/ecar/benign/18-19Sep19/AIA-451-475/AIA-451-475.ecar-2019-12-07T01-28-46.139.json\n",
      "Not a gzipped file (b'<!')\n",
      "failed file: pre_prod/\n",
      "--- 0.12856626510620117 seconds ---\n"
     ]
    }
   ],
   "source": [
    "# Single file test expansion\n",
    "bucketname = 'sapient-bucket-raw'      # input for your bucketname\n",
    "key = 'pre_prod/ecar/benign/18-19Sep19/AIA-451-475/AIA-451-475.ecar-2019-12-07T01-28-46.139.json.gz'  # input for your key on S3 (means S3 object fullpath)\n",
    "actual = expand_json_gz(bucketname, key)"
   ]
  },
  {
   "cell_type": "code",
   "execution_count": null,
   "id": "4bfb6f07-08c7-4e9a-bf01-609bbff39d58",
   "metadata": {},
   "outputs": [],
   "source": []
  },
  {
   "cell_type": "code",
   "execution_count": null,
   "id": "f1f29cdc-0041-42e8-bc9e-88f3483a0f65",
   "metadata": {},
   "outputs": [],
   "source": []
  },
  {
   "cell_type": "code",
   "execution_count": 50,
   "id": "16cd74bd-64a5-4d7e-a3cd-a96031fdba7b",
   "metadata": {},
   "outputs": [
    {
     "name": "stdout",
     "output_type": "stream",
     "text": [
      "start time at 4:41PM UTC on Feb 19, 2023\n",
      "count of total objects is 213.\n",
      "guesstimated time is 11.0 hours.\n",
      "pre_prod/ecar/benign/18-19Sep19/AIA-51-75/AIA-51-75.ecar-2019-12-07T07-21-29.412.json.gz\n",
      "pre_prod/ecar/benign/18-19Sep19/AIA-51-75/AIA-51-75.ecar-2019-12-07T11-29-04.652.json.gz\n",
      "pre_prod/ecar/benign/18-19Sep19/AIA-51-75/AIA-51-75.ecar-last.json.gz\n",
      "pre_prod/ecar/evaluation/23Sep-Night/AIA-1-25/AIA-1-25.ecar-2019-12-07T01-05-16.619.json.gz\n",
      "pre_prod/ecar/evaluation/23Sep-Night/AIA-1-25/AIA-1-25.ecar-last.json.gz\n",
      "pre_prod/ecar/evaluation/23Sep-Night/AIA-101-125/AIA-101-125.ecar-last.json.gz\n",
      "pre_prod/ecar/evaluation/23Sep-Night/AIA-151-175/AIA-151-175.ecar-2019-12-08T16-55-16.971.json.gz\n",
      "pre_prod/ecar/evaluation/23Sep-Night/AIA-151-175/AIA-151-175.ecar-last.json.gz\n",
      "pre_prod/ecar/evaluation/23Sep-Night/AIA-201-225/AIA-201-225.ecar-2019-12-08T14-19-51.427.json.gz\n",
      "pre_prod/ecar/evaluation/23Sep-Night/AIA-201-225/AIA-201-225.ecar-last.json.gz\n",
      "pre_prod/ecar/evaluation/23Sep-Night/AIA-251-275/AIA-251-275.ecar-last.json.gz\n",
      "pre_prod/ecar/evaluation/23Sep-Night/AIA-301-325/AIA-301-325.ecar-last.json.gz\n",
      "pre_prod/ecar/evaluation/23Sep-Night/AIA-351-375/AIA-351-375.ecar-last.json.gz\n",
      "pre_prod/ecar/evaluation/23Sep-Night/AIA-401-425/AIA-401-425.ecar-2019-12-08T04-06-31.326.json.gz\n",
      "pre_prod/ecar/evaluation/23Sep-Night/AIA-401-425/AIA-401-425.ecar-last.json.gz\n",
      "pre_prod/ecar/evaluation/23Sep-Night/AIA-451-475/AIA-451-475.ecar-2019-12-08T04-15-07.354.json.gz\n",
      "pre_prod/ecar/evaluation/23Sep-Night/AIA-451-475/AIA-451-475.ecar-last.json.gz\n",
      "pre_prod/ecar/evaluation/23Sep-Night/AIA-51-75/AIA-51-75.ecar-2019-12-08T10-19-52.584.json.gz\n",
      "pre_prod/ecar/evaluation/23Sep-Night/AIA-51-75/AIA-51-75.ecar-last.json.gz\n",
      "pre_prod/ecar/evaluation/23Sep-night/AIA-501-525/AIA-501-525.ecar-2019-11-16T23-22-29.234.json.gz\n",
      "pre_prod/ecar/evaluation/23Sep-night/AIA-501-525/AIA-501-525.ecar-last.json.gz\n",
      "pre_prod/ecar/evaluation/23Sep-night/AIA-551-575/AIA-551-575.ecar-2019-11-16T23-17-39.123.json.gz\n",
      "pre_prod/ecar/evaluation/23Sep-night/AIA-551-575/AIA-551-575.ecar-last.json.gz\n",
      "pre_prod/ecar/evaluation/23Sep-night/AIA-601-625/AIA-601-625.ecar-2019-11-16T23-02-54.544.json.gz\n",
      "pre_prod/ecar/evaluation/23Sep-night/AIA-601-625/AIA-601-625.ecar-last.json.gz\n",
      "pre_prod/ecar/evaluation/23Sep-night/AIA-651-675/AIA-651-675.ecar-2019-11-16T23-07-40.716.json.gz\n",
      "pre_prod/ecar/evaluation/23Sep-night/AIA-651-675/AIA-651-675.ecar-last.json.gz\n",
      "pre_prod/ecar/evaluation/23Sep-night/AIA-701-725/AIA-701-725.ecar-2019-11-16T23-06-03.518.json.gz\n",
      "pre_prod/ecar/evaluation/23Sep-night/AIA-701-725/AIA-701-725.ecar-last.json.gz\n",
      "pre_prod/ecar/evaluation/23Sep-night/AIA-751-775/AIA-751-775.ecar-2019-11-16T23-15-07.659.json.gz\n",
      "pre_prod/ecar/evaluation/23Sep-night/AIA-751-775/AIA-751-775.ecar-last.json.gz\n",
      "pre_prod/ecar/evaluation/23Sep-night/AIA-801-825/AIA-801-825.ecar-2019-11-16T23-12-08.045.json.gz\n",
      "pre_prod/ecar/evaluation/23Sep-night/AIA-801-825/AIA-801-825.ecar-last.json.gz\n",
      "pre_prod/ecar/evaluation/23Sep-night/AIA-851-875/AIA-851-875.ecar-2019-11-16T23-08-09.870.json.gz\n",
      "pre_prod/ecar/evaluation/23Sep-night/AIA-851-875/AIA-851-875.ecar-last.json.gz\n",
      "pre_prod/ecar/evaluation/23Sep19-red/AIA-101-125/._AIA-101-125.ecar-2019-12-08T11-51-21.763.json.gz\n",
      "pre_prod/ecar/evaluation/23Sep19-red/AIA-101-125/AIA-101-125.ecar-2019-12-08T11-51-21.763.json.gz\n",
      "pre_prod/ecar/evaluation/23Sep19-red/AIA-151-175/AIA-151-175.ecar-last.json.gz\n",
      "pre_prod/ecar/evaluation/23Sep19-red/AIA-251-275/._AIA-251-275.ecar-2019-12-08T02-32-17.888.json.gz\n",
      "pre_prod/ecar/evaluation/23Sep19-red/AIA-251-275/._AIA-251-275.ecar-last.json.gz\n",
      "pre_prod/ecar/evaluation/23Sep19-red/AIA-251-275/AIA-251-275.ecar-2019-12-08T02-32-17.888.json.gz\n",
      "pre_prod/ecar/evaluation/23Sep19-red/AIA-251-275/AIA-251-275.ecar-last.json.gz\n",
      "pre_prod/ecar/evaluation/23Sep19-red/AIA-301-325/._AIA-301-325.ecar-2019-12-08T01-56-44.012.json.gz\n",
      "pre_prod/ecar/evaluation/23Sep19-red/AIA-301-325/._AIA-301-325.ecar-last.json.gz\n",
      "pre_prod/ecar/evaluation/23Sep19-red/AIA-301-325/AIA-301-325.ecar-2019-12-08T01-56-44.012.json.gz\n",
      "pre_prod/ecar/evaluation/23Sep19-red/AIA-301-325/AIA-301-325.ecar-last.json.gz\n",
      "pre_prod/ecar/evaluation/23Sep19-red/AIA-351-375/._AIA-351-375.ecar-2019-12-08T01-48-29.200.json.gz\n",
      "pre_prod/ecar/evaluation/23Sep19-red/AIA-351-375/AIA-351-375.ecar-2019-12-08T01-48-29.200.json.gz\n",
      "pre_prod/ecar/evaluation/23Sep19-red/AIA-401-425/._AIA-401-425.ecar-2019-12-08T01-29-39.403.json.gz\n",
      "pre_prod/ecar/evaluation/23Sep19-red/AIA-401-425/._AIA-401-425.ecar-last.json.gz\n",
      "pre_prod/ecar/evaluation/23Sep19-red/AIA-401-425/AIA-401-425.ecar-2019-12-08T01-29-39.403.json.gz\n",
      "pre_prod/ecar/evaluation/23Sep19-red/AIA-401-425/AIA-401-425.ecar-last.json.gz\n",
      "pre_prod/ecar/evaluation/23Sep19-red/AIA-451-475/._AIA-451-475.ecar-2019-12-08T01-37-45.578.json.gz\n",
      "pre_prod/ecar/evaluation/23Sep19-red/AIA-451-475/._AIA-451-475.ecar-last.json.gz\n",
      "pre_prod/ecar/evaluation/23Sep19-red/AIA-451-475/AIA-451-475.ecar-2019-12-08T01-37-45.578.json.gz\n",
      "pre_prod/ecar/evaluation/23Sep19-red/AIA-451-475/AIA-451-475.ecar-last.json.gz\n",
      "pre_prod/ecar/evaluation/23Sep19-red/AIA-501-525/._AIA-501-525.ecar-last.json.gz\n",
      "pre_prod/ecar/evaluation/23Sep19-red/AIA-501-525/AIA-501-525.ecar-last.json.gz\n",
      "pre_prod/ecar/evaluation/23Sep19-red/AIA-51-75/._AIA-51-75.ecar-last.json.gz\n",
      "pre_prod/ecar/evaluation/23Sep19-red/AIA-51-75/AIA-51-75.ecar-last.json.gz\n",
      "pre_prod/ecar/evaluation/23Sep19-red/AIA-551-575/._AIA-551-575.ecar-last.json.gz\n",
      "pre_prod/ecar/evaluation/23Sep19-red/AIA-551-575/AIA-551-575.ecar-last.json.gz\n",
      "pre_prod/ecar/evaluation/23Sep19-red/AIA-701-725/._AIA-701-725.ecar-last.json.gz\n",
      "pre_prod/ecar/evaluation/23Sep19-red/AIA-701-725/AIA-701-725.ecar-last.json.gz\n",
      "pre_prod/ecar/evaluation/23Sep19-red/AIA-751-775/._AIA-751-775.ecar-last.json.gz\n",
      "pre_prod/ecar/evaluation/23Sep19-red/AIA-751-775/AIA-751-775.ecar-last.json.gz\n",
      "pre_prod/ecar/evaluation/23Sep19-red/AIA-801-825/._AIA-801-825.ecar-last.json.gz\n",
      "pre_prod/ecar/evaluation/23Sep19-red/AIA-801-825/AIA-801-825.ecar-last.json.gz\n",
      "pre_prod/ecar/evaluation/23Sep19-red/AIA-851-875/._AIA-851-875.ecar-last.json.gz\n",
      "pre_prod/ecar/evaluation/23Sep19-red/AIA-851-875/AIA-851-875.ecar-last.json.gz\n",
      "pre_prod/ecar/evaluation/23Sep19-red/AIA-951-975/._AIA-951-975.ecar-last.json.gz\n",
      "pre_prod/ecar/evaluation/23Sep19-red/AIA-951-975/AIA-951-975.ecar-last.json.gz\n",
      "pre_prod/ecar/evaluation/24Sep19/AIA-1-25/AIA-1-25.ecar-2019-12-07T04-59-48.561.json.gz\n",
      "pre_prod/ecar/evaluation/24Sep19/AIA-1-25/AIA-1-25.ecar-last.json.gz\n",
      "pre_prod/ecar/evaluation/24Sep19/AIA-101-125/AIA-101-125.ecar-2019-12-08T15-07-15.038.json.gz\n",
      "pre_prod/ecar/evaluation/24Sep19/AIA-101-125/AIA-101-125.ecar-2019-12-08T17-35-16.485.json.gz\n",
      "pre_prod/ecar/evaluation/24Sep19/AIA-101-125/AIA-101-125.ecar-last.json.gz\n",
      "pre_prod/ecar/evaluation/24Sep19/AIA-151-175/AIA-151-175.ecar-2019-12-08T20-05-31.427.json.gz\n",
      "pre_prod/ecar/evaluation/24Sep19/AIA-151-175/AIA-151-175.ecar-last.json.gz\n",
      "pre_prod/ecar/evaluation/24Sep19/AIA-201-225/AIA-201-225.ecar-2019-12-08T17-41-18.327.json.gz\n",
      "pre_prod/ecar/evaluation/24Sep19/AIA-201-225/AIA-201-225.ecar-last.json.gz\n",
      "pre_prod/ecar/evaluation/24Sep19/AIA-251-275/AIA-251-275.ecar-2019-12-08T05-58-43.334.json.gz\n",
      "pre_prod/ecar/evaluation/24Sep19/AIA-251-275/AIA-251-275.ecar-2019-12-08T08-36-58.596.json.gz\n",
      "pre_prod/ecar/evaluation/24Sep19/AIA-251-275/AIA-251-275.ecar-last.json.gz\n",
      "pre_prod/ecar/evaluation/24Sep19/AIA-301-325/AIA-301-325.ecar-2019-12-08T05-22-26.282.json.gz\n",
      "pre_prod/ecar/evaluation/24Sep19/AIA-301-325/AIA-301-325.ecar-2019-12-08T07-56-14.536.json.gz\n",
      "pre_prod/ecar/evaluation/24Sep19/AIA-301-325/AIA-301-325.ecar-last.json.gz\n",
      "pre_prod/ecar/evaluation/24Sep19/AIA-351-375/AIA-351-375.ecar-2019-12-08T05-14-59.635.json.gz\n",
      "pre_prod/ecar/evaluation/24Sep19/AIA-351-375/AIA-351-375.ecar-2019-12-08T07-54-46.264.json.gz\n",
      "pre_prod/ecar/evaluation/24Sep19/AIA-351-375/AIA-351-375.ecar-last.json.gz\n",
      "pre_prod/ecar/evaluation/24Sep19/AIA-401-425/AIA-401-425.ecar-2019-12-08T07-35-11.579.json.gz\n",
      "pre_prod/ecar/evaluation/24Sep19/AIA-401-425/AIA-401-425.ecar-last.json.gz\n",
      "pre_prod/ecar/evaluation/24Sep19/AIA-451-475/AIA-451-475.ecar-2019-12-08T07-39-21.188.json.gz\n",
      "pre_prod/ecar/evaluation/24Sep19/AIA-451-475/AIA-451-475.ecar-last.json.gz\n",
      "pre_prod/ecar/evaluation/24Sep19/AIA-501-525/AIA-501-525.ecar-2019-11-17T04-01-58.625.json.gz\n",
      "pre_prod/ecar/evaluation/24Sep19/AIA-501-525/AIA-501-525.ecar-last.json.gz\n",
      "pre_prod/ecar/evaluation/24Sep19/AIA-51-75/AIA-51-75.ecar-2019-12-08T12-56-31.374.json.gz\n",
      "pre_prod/ecar/evaluation/24Sep19/AIA-51-75/AIA-51-75.ecar-2019-12-08T15-24-26.681.json.gz\n",
      "pre_prod/ecar/evaluation/24Sep19/AIA-51-75/AIA-51-75.ecar-last.json.gz\n",
      "pre_prod/ecar/evaluation/24Sep19/AIA-551-575/AIA-551-575.ecar-2019-11-17T03-46-32.865.json.gz\n",
      "pre_prod/ecar/evaluation/24Sep19/AIA-551-575/AIA-551-575.ecar-last.json.gz\n",
      "pre_prod/ecar/evaluation/24Sep19/AIA-601-625/AIA-601-625.ecar-2019-11-17T03-08-11.236.json.gz\n",
      "pre_prod/ecar/evaluation/24Sep19/AIA-601-625/AIA-601-625.ecar-2019-11-17T05-25-27.401.json.gz\n",
      "pre_prod/ecar/evaluation/24Sep19/AIA-601-625/AIA-601-625.ecar-last.json.gz\n",
      "pre_prod/ecar/evaluation/24Sep19/AIA-651-675/AIA-651-675.ecar-2019-11-17T03-25-23.290.json.gz\n",
      "pre_prod/ecar/evaluation/24Sep19/AIA-651-675/AIA-651-675.ecar-last.json.gz\n",
      "pre_prod/ecar/evaluation/24Sep19/AIA-701-725/AIA-701-725.ecar-2019-11-17T03-13-02.972.json.gz\n",
      "pre_prod/ecar/evaluation/24Sep19/AIA-701-725/AIA-701-725.ecar-2019-11-17T05-19-33.951.json.gz\n",
      "pre_prod/ecar/evaluation/24Sep19/AIA-701-725/AIA-701-725.ecar-last.json.gz\n",
      "pre_prod/ecar/evaluation/24Sep19/AIA-751-775/AIA-751-775.ecar-2019-11-17T03-46-00.341.json.gz\n",
      "pre_prod/ecar/evaluation/24Sep19/AIA-751-775/AIA-751-775.ecar-last.json.gz\n",
      "pre_prod/ecar/evaluation/24Sep19/AIA-801-825/AIA-801-825.ecar-2019-11-17T03-32-07.566.json.gz\n",
      "pre_prod/ecar/evaluation/24Sep19/AIA-801-825/AIA-801-825.ecar-last.json.gz\n",
      "pre_prod/ecar/evaluation/24Sep19/AIA-851-875/AIA-851-875.ecar-2019-11-17T03-15-04.213.json.gz\n",
      "pre_prod/ecar/evaluation/24Sep19/AIA-851-875/AIA-851-875.ecar-last.json.gz\n",
      "pre_prod/ecar/evaluation/24Sep19/AIA-901-925/AIA-901-925.ecar-2019-11-17T03-25-25.098.json.gz\n",
      "pre_prod/ecar/evaluation/24Sep19/AIA-901-925/AIA-901-925.ecar-last.json.gz\n",
      "pre_prod/ecar/evaluation/24Sep19/AIA-951-975/AIA-951-975.ecar-2019-11-17T03-39-14.070.json.gz\n",
      "pre_prod/ecar/evaluation/24Sep19/AIA-951-975/AIA-951-975.ecar-last.json.gz\n",
      "pre_prod/ecar/evaluation/25Sept/AIA-1-25/AIA-1-25.ecar-last.json.gz\n",
      "pre_prod/ecar/evaluation/25Sept/AIA-101-125/AIA-101-125.ecar-last.json.gz\n",
      "pre_prod/ecar/evaluation/25Sept/AIA-151-175/AIA-151-175.ecar-2019-12-08T22-39-56.146.json.gz\n",
      "pre_prod/ecar/evaluation/25Sept/AIA-151-175/AIA-151-175.ecar-last.json.gz\n",
      "pre_prod/ecar/evaluation/25Sept/AIA-201-225/AIA-201-225.ecar-last.json.gz\n",
      "pre_prod/ecar/evaluation/25Sept/AIA-251-275/AIA-251-275.ecar-last.json.gz\n",
      "pre_prod/ecar/evaluation/25Sept/AIA-301-325/AIA-301-325.ecar-last.json.gz\n",
      "pre_prod/ecar/evaluation/25Sept/AIA-351-375/AIA-351-375.ecar-last.json.gz\n",
      "pre_prod/ecar/evaluation/25Sept/AIA-401-425/AIA-401-425.ecar-last.json.gz\n",
      "pre_prod/ecar/evaluation/25Sept/AIA-451-475/AIA-451-475.ecar-last.json.gz\n",
      "pre_prod/ecar/evaluation/25Sept/AIA-501-525/AIA-501-525.ecar-2019-11-17T15-04-02.073.json.gz\n",
      "pre_prod/ecar/evaluation/25Sept/AIA-501-525/AIA-501-525.ecar-last.json.gz\n",
      "pre_prod/ecar/evaluation/25Sept/AIA-51-75/AIA-51-75.ecar-last.json.gz\n",
      "pre_prod/ecar/evaluation/25Sept/AIA-551-575/AIA-551-575.ecar-2019-11-17T15-01-05.424.json.gz\n",
      "pre_prod/ecar/evaluation/25Sept/AIA-551-575/AIA-551-575.ecar-last.json.gz\n",
      "pre_prod/ecar/evaluation/25Sept/AIA-601-625/AIA-601-625.ecar-last.json.gz\n",
      "pre_prod/ecar/evaluation/25Sept/AIA-651-675/AIA-651-675.ecar-2019-11-17T14-50-25.754.json.gz\n",
      "pre_prod/ecar/evaluation/25Sept/AIA-651-675/AIA-651-675.ecar-last.json.gz\n",
      "pre_prod/ecar/evaluation/25Sept/AIA-701-725/AIA-701-725.ecar-last.json.gz\n",
      "pre_prod/ecar/evaluation/25Sept/AIA-751-775/AIA-751-775.ecar-2019-11-17T15-01-52.207.json.gz\n",
      "pre_prod/ecar/evaluation/25Sept/AIA-751-775/AIA-751-775.ecar-last.json.gz\n",
      "pre_prod/ecar/evaluation/25Sept/AIA-801-825/AIA-801-825.ecar-2019-11-17T14-58-10.730.json.gz\n",
      "pre_prod/ecar/evaluation/25Sept/AIA-801-825/AIA-801-825.ecar-last.json.gz\n",
      "pre_prod/ecar/evaluation/25Sept/AIA-851-875/AIA-851-875.ecar-2019-11-17T14-52-46.525.json.gz\n",
      "pre_prod/ecar/evaluation/25Sept/AIA-851-875/AIA-851-875.ecar-last.json.gz\n",
      "pre_prod/ecar/evaluation/25Sept/AIA-901-925/AIA-901-925.ecar-2019-11-17T14-55-40.578.json.gz\n",
      "pre_prod/ecar/evaluation/25Sept/AIA-901-925/AIA-901-925.ecar-last.json.gz\n",
      "pre_prod/ecar/evaluation/25Sept/AIA-951-975/AIA-951-975.ecar-2019-11-17T15-01-51.274.json.gz\n",
      "pre_prod/ecar/evaluation/25Sept/AIA-951-975/AIA-951-975.ecar-last.json.gz\n",
      "pre_prod/ecar/short/17-18Sep19/AIA-126-150/AIA-126-150.ecar-2019-11-19T03-12-39.668.json.gz\n",
      "pre_prod/ecar/short/17-18Sep19/AIA-126-150/AIA-126-150.ecar-last.json.gz\n",
      "pre_prod/ecar/short/17-18Sep19/AIA-176-200/AIA-176-200.ecar-2019-11-19T03-05-13.738.json.gz\n",
      "pre_prod/ecar/short/17-18Sep19/AIA-176-200/AIA-176-200.ecar-2019-11-19T07-02-54.176.json.gz\n",
      "pre_prod/ecar/short/17-18Sep19/AIA-176-200/AIA-176-200.ecar-last.json.gz\n",
      "pre_prod/ecar/short/17-18Sep19/AIA-226-250/AIA-226-250.ecar-2019-11-19T03-27-03.715.json.gz\n",
      "pre_prod/ecar/short/17-18Sep19/AIA-226-250/AIA-226-250.ecar-2019-11-19T07-41-29.409.json.gz\n",
      "pre_prod/ecar/short/17-18Sep19/AIA-226-250/AIA-226-250.ecar-last.json.gz\n",
      "pre_prod/ecar/short/17-18Sep19/AIA-26-50/AIA-26-50.ecar-2019-11-19T03-33-43.917.json.gz\n",
      "pre_prod/ecar/short/17-18Sep19/AIA-26-50/AIA-26-50.ecar-2019-11-19T07-25-33.886.json.gz\n",
      "pre_prod/ecar/short/17-18Sep19/AIA-26-50/AIA-26-50.ecar-last.json.gz\n",
      "pre_prod/ecar/short/17-18Sep19/AIA-76-100/AIA-76-100.ecar-2019-11-19T03-21-34.998.json.gz\n",
      "pre_prod/ecar/short/17-18Sep19/AIA-76-100/AIA-76-100.ecar-last.json.gz\n",
      "total time was  --- 0.2118217945098877 seconds ---\n"
     ]
    }
   ],
   "source": [
    "print(\"start time at\" + time.strftime('%l:%M%p %Z on %b %d, %Y'))\n",
    "# ignore completed files previously logged\n",
    "infile = r\"/home/ec2-user/SageMaker/sapient/expand_files.log\"\n",
    "fs = \".json\"\n",
    "\n",
    "with open(infile) as f:\n",
    "    f = f.readlines()\n",
    "    \n",
    "completed = [x.replace(\"/home/ec2-user/SageMaker/tmp/\", \"\").replace(\"\\n\", \"\") for x in f if \".json\" in x]\n",
    "start_time = time.time()\n",
    "s3_count, s3_files = get_matching_s3_objects(bucket = bucket, prefix = file_pre + \"ecar/\", suffix=\"gz\")\n",
    "for f in s3_files:\n",
    "    if f.replace(\".gz\", \"\") not in completed:\n",
    "        print(f)\n",
    "        s3_count -= 1\n",
    "    # expand_json_gz(bucketname, f)\n",
    "    # print(\"There are \" + str(s3_count) + \" files remaining to convert\")\n",
    "print(\"total time was  --- %s seconds ---\" % (time.time() - start_time))"
   ]
  },
  {
   "cell_type": "code",
   "execution_count": null,
   "id": "b2150e66-7137-427f-8b2c-bca8bb39f6bf",
   "metadata": {},
   "outputs": [],
   "source": []
  },
  {
   "cell_type": "code",
   "execution_count": 46,
   "id": "5d65127a-59c9-4376-a6b2-bee6ae07fe29",
   "metadata": {
    "tags": []
   },
   "outputs": [
    {
     "data": {
      "text/plain": [
       "['pre_prod/ecar/benign/17-18Sep19/AIA-101-125/AIA-101-125.ecar-2019-12-07T02-20-06.258.json',\n",
       " 'pre_prod/ecar/benign/17-18Sep19/AIA-101-125/AIA-101-125.ecar-last.json',\n",
       " 'pre_prod/ecar/benign/17-18Sep19/AIA-151-175/AIA-151-175.ecar-2019-12-07T03-08-28.178.json',\n",
       " 'pre_prod/ecar/benign/17-18Sep19/AIA-151-175/AIA-151-175.ecar-2019-12-07T07-14-17.002.json',\n",
       " 'pre_prod/ecar/benign/17-18Sep19/AIA-151-175/AIA-151-175.ecar-last.json',\n",
       " 'pre_prod/ecar/benign/17-18Sep19/AIA-201-225/AIA-201-225.ecar-2019-12-07T01-57-49.366.json',\n",
       " 'pre_prod/ecar/benign/17-18Sep19/AIA-201-225/AIA-201-225.ecar-2019-12-07T06-00-00.251.json',\n",
       " 'pre_prod/ecar/benign/17-18Sep19/AIA-201-225/AIA-201-225.ecar-last.json',\n",
       " 'pre_prod/ecar/benign/17-18Sep19/AIA-251-275/AIA-251-275.ecar-2019-11-14T04-53-29.913.json',\n",
       " 'pre_prod/ecar/benign/17-18Sep19/AIA-251-275/AIA-251-275.ecar-2019-11-14T09-23-46.063.json',\n",
       " 'pre_prod/ecar/benign/17-18Sep19/AIA-251-275/AIA-251-275.ecar-last.json',\n",
       " 'pre_prod/ecar/benign/17-18Sep19/AIA-276-300/AIA-276-300.ecar-2019-11-14T05-06-51.745.json',\n",
       " 'pre_prod/ecar/benign/17-18Sep19/AIA-276-300/AIA-276-300.ecar-2019-11-14T09-41-54.267.json',\n",
       " 'pre_prod/ecar/benign/17-18Sep19/AIA-276-300/AIA-276-300.ecar-last.json',\n",
       " 'pre_prod/ecar/benign/17-18Sep19/AIA-301-325/AIA-301-325.ecar-2019-11-14T04-37-46.774.json',\n",
       " 'pre_prod/ecar/benign/17-18Sep19/AIA-301-325/AIA-301-325.ecar-2019-11-14T08-58-42.682.json',\n",
       " 'pre_prod/ecar/benign/17-18Sep19/AIA-301-325/AIA-301-325.ecar-last.json',\n",
       " 'pre_prod/ecar/benign/17-18Sep19/AIA-326-350/AIA-326-350.ecar-2019-11-14T04-32-10.723.json',\n",
       " 'pre_prod/ecar/benign/17-18Sep19/AIA-326-350/AIA-326-350.ecar-2019-11-14T08-52-55.093.json',\n",
       " 'pre_prod/ecar/benign/17-18Sep19/AIA-326-350/AIA-326-350.ecar-last.json',\n",
       " 'pre_prod/ecar/benign/17-18Sep19/AIA-351-375/AIA-351-375.ecar-2019-11-14T04-46-00.161.json',\n",
       " 'pre_prod/ecar/benign/17-18Sep19/AIA-351-375/AIA-351-375.ecar-2019-11-14T08-31-23.760.json',\n",
       " 'pre_prod/ecar/benign/17-18Sep19/AIA-351-375/AIA-351-375.ecar-last.json',\n",
       " 'pre_prod/ecar/benign/17-18Sep19/AIA-376-400/AIA-376-400.ecar-2019-11-14T03-44-44.049.json',\n",
       " 'pre_prod/ecar/benign/17-18Sep19/AIA-376-400/AIA-376-400.ecar-2019-11-14T07-24-51.025.json',\n",
       " 'pre_prod/ecar/benign/17-18Sep19/AIA-376-400/AIA-376-400.ecar-last.json',\n",
       " 'pre_prod/ecar/benign/17-18Sep19/AIA-401-425/AIA-401-425.ecar-2019-11-14T04-57-33.351.json',\n",
       " 'pre_prod/ecar/benign/17-18Sep19/AIA-401-425/AIA-401-425.ecar-2019-11-14T09-11-52.388.json',\n",
       " 'pre_prod/ecar/benign/17-18Sep19/AIA-401-425/AIA-401-425.ecar-last.json',\n",
       " 'pre_prod/ecar/benign/17-18Sep19/AIA-426-450/AIA-426-450.ecar-2019-11-14T05-11-32.774.json',\n",
       " 'pre_prod/ecar/benign/17-18Sep19/AIA-426-450/AIA-426-450.ecar-2019-11-14T09-17-55.474.json',\n",
       " 'pre_prod/ecar/benign/17-18Sep19/AIA-426-450/AIA-426-450.ecar-last.json',\n",
       " 'pre_prod/ecar/benign/17-18Sep19/AIA-451-475/AIA-451-475.ecar-2019-11-14T05-09-52.999.json',\n",
       " 'pre_prod/ecar/benign/17-18Sep19/AIA-451-475/AIA-451-475.ecar-2019-11-14T09-36-12.466.json',\n",
       " 'pre_prod/ecar/benign/17-18Sep19/AIA-451-475/AIA-451-475.ecar-last.json',\n",
       " 'pre_prod/ecar/benign/17-18Sep19/AIA-476-500/AIA-476-500.ecar-2019-11-14T04-08-00.855.json',\n",
       " 'pre_prod/ecar/benign/17-18Sep19/AIA-476-500/AIA-476-500.ecar-2019-11-14T08-37-15.830.json',\n",
       " 'pre_prod/ecar/benign/17-18Sep19/AIA-476-500/AIA-476-500.ecar-last.json',\n",
       " 'pre_prod/ecar/benign/17-18Sep19/AIA-51-75/AIA-51-75.ecar-2019-12-07T02-25-57.487.json',\n",
       " 'pre_prod/ecar/benign/17-18Sep19/AIA-51-75/AIA-51-75.ecar-last.json',\n",
       " 'pre_prod/ecar/benign/18-19Sep19/AIA-101-125/AIA-101-125.ecar-2019-12-07T07-12-39.259.json',\n",
       " 'pre_prod/ecar/benign/18-19Sep19/AIA-101-125/AIA-101-125.ecar-2019-12-07T11-26-37.718.json',\n",
       " 'pre_prod/ecar/benign/18-19Sep19/AIA-101-125/AIA-101-125.ecar-last.json',\n",
       " 'pre_prod/ecar/benign/18-19Sep19/AIA-151-175/AIA-151-175.ecar-2019-12-07T11-58-35.920.json',\n",
       " 'pre_prod/ecar/benign/18-19Sep19/AIA-151-175/AIA-151-175.ecar-last.json',\n",
       " 'pre_prod/ecar/benign/18-19Sep19/AIA-201-275/AIA-251-275.ecar-2019-12-07T01-59-02.707.json',\n",
       " 'pre_prod/ecar/benign/18-19Sep19/AIA-201-275/AIA-251-275.ecar-last.json',\n",
       " 'pre_prod/ecar/benign/18-19Sep19/AIA-301-325/AIA-301-325.ecar-2019-12-07T01-37-12.574.json',\n",
       " 'pre_prod/ecar/benign/18-19Sep19/AIA-301-325/AIA-301-325.ecar-last.json',\n",
       " 'pre_prod/ecar/benign/18-19Sep19/AIA-401-425/AIA-401-425.ecar-2019-12-07T01-16-29.473.json',\n",
       " 'pre_prod/ecar/benign/18-19Sep19/AIA-401-425/AIA-401-425.ecar-last.json',\n",
       " 'pre_prod/ecar/benign/18-19Sep19/AIA-451-475/AIA-451-475.ecar-2019-12-07T01-28-46.139.json']"
      ]
     },
     "execution_count": 46,
     "metadata": {},
     "output_type": "execute_result"
    }
   ],
   "source": [
    "infile = r\"/home/ec2-user/SageMaker/sapient/expand_files.log\"\n",
    "fs = \".json\"\n",
    "\n",
    "with open(infile) as f:\n",
    "    f = f.readlines()\n",
    "    \n",
    "completed = [x.replace(\"/home/ec2-user/SageMaker/tmp/\", \"\").replace(\"\\n\", \"\") for x in f if \".json\" in x]\n",
    "\n",
    "completed"
   ]
  },
  {
   "cell_type": "code",
   "execution_count": null,
   "id": "b733d708-308c-4f6a-9db0-537639beabd8",
   "metadata": {},
   "outputs": [],
   "source": []
  }
 ],
 "metadata": {
  "kernelspec": {
   "display_name": "conda_python3",
   "language": "python",
   "name": "conda_python3"
  },
  "language_info": {
   "codemirror_mode": {
    "name": "ipython",
    "version": 3
   },
   "file_extension": ".py",
   "mimetype": "text/x-python",
   "name": "python",
   "nbconvert_exporter": "python",
   "pygments_lexer": "ipython3",
   "version": "3.10.8"
  }
 },
 "nbformat": 4,
 "nbformat_minor": 5
}
