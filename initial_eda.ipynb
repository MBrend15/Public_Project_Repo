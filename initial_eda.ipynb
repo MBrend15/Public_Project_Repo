{
 "cells": [
  {
   "cell_type": "markdown",
   "id": "4bf5c4bf-fb79-4859-9252-8bce5d1a274a",
   "metadata": {},
   "source": [
    "## Import Functions and Spark Config"
   ]
  },
  {
   "cell_type": "code",
   "execution_count": 1,
   "id": "23f44f59-fff5-41aa-9be8-02412de8c4ec",
   "metadata": {
    "tags": []
   },
   "outputs": [
    {
     "name": "stderr",
     "output_type": "stream",
     "text": [
      "Warning: Ignoring non-Spark config property: fs.s3a.access.key\n",
      "Warning: Ignoring non-Spark config property: fs.s3a.secret.key\n",
      "Setting default log level to \"WARN\".\n",
      "To adjust logging level use sc.setLogLevel(newLevel). For SparkR, use setLogLevel(newLevel).\n"
     ]
    },
    {
     "name": "stdout",
     "output_type": "stream",
     "text": [
      "23/02/27 18:53:11 WARN NativeCodeLoader: Unable to load native-hadoop library for your platform... using builtin-java classes where applicable\n",
      "23/02/27 18:53:11 WARN SparkConf: Note that spark.local.dir will be overridden by the value set by the cluster manager (via SPARK_LOCAL_DIRS in mesos/standalone/kubernetes and LOCAL_DIRS in YARN).\n",
      "23/02/27 18:53:12 WARN Utils: Service 'SparkUI' could not bind on port 4040. Attempting port 4041.\n"
     ]
    }
   ],
   "source": [
    "%run ./read_file.ipynb"
   ]
  },
  {
   "cell_type": "markdown",
   "id": "322f0acc-5281-4b73-a33b-67ac7c05b96a",
   "metadata": {},
   "source": [
    "## Set Environment"
   ]
  },
  {
   "cell_type": "code",
   "execution_count": 4,
   "id": "3660605e-699c-4b64-b7c4-2211454666a6",
   "metadata": {
    "tags": []
   },
   "outputs": [],
   "source": [
    "# env - dev / prod\n",
    "# size - small / medium / large\n",
    "env='prod'\n",
    "size='medium'"
   ]
  },
  {
   "cell_type": "markdown",
   "id": "c8ecd4b8-755b-404f-8fd0-42b934bdef28",
   "metadata": {},
   "source": [
    "## Data Processing"
   ]
  },
  {
   "cell_type": "code",
   "execution_count": 5,
   "id": "85ea208b-c82a-45f8-ad13-e2d76e35d3fa",
   "metadata": {
    "tags": []
   },
   "outputs": [
    {
     "name": "stderr",
     "output_type": "stream",
     "text": [
      "                                                                                \r"
     ]
    },
    {
     "name": "stdout",
     "output_type": "stream",
     "text": [
      "--- 4.473739147186279 seconds ---\n"
     ]
    }
   ],
   "source": [
    "df_ecarbro = readCheckpoint('ecar-bro', env, size).cache()"
   ]
  },
  {
   "cell_type": "code",
   "execution_count": null,
   "id": "5cdbab49-aa87-43dc-a8bb-2c4137909923",
   "metadata": {
    "tags": []
   },
   "outputs": [],
   "source": [
    "df_ecar = readCheckpoint('ecar', env, size).cache()"
   ]
  },
  {
   "cell_type": "code",
   "execution_count": null,
   "id": "7e7db4b7-1a55-4945-bf40-eb74d46e2c9b",
   "metadata": {
    "tags": []
   },
   "outputs": [],
   "source": []
  },
  {
   "cell_type": "code",
   "execution_count": null,
   "id": "3bec6ff7-a944-4eb4-a1b7-50483a891419",
   "metadata": {
    "tags": []
   },
   "outputs": [],
   "source": [
    "df_ecarbro = df_ecarbro.join(df_ecar, df_ecarbro[\"id\"] ==  df_ecar[\"id\"], \"inner\").cache()\n",
    "df_ecar.unpersist()\n",
    "df_ecarbro.unpersist()"
   ]
  },
  {
   "cell_type": "code",
   "execution_count": null,
   "id": "6a0bc3ab-21e1-4968-8f05-a34b7374544b",
   "metadata": {
    "tags": []
   },
   "outputs": [],
   "source": [
    "df_ecarbro"
   ]
  },
  {
   "cell_type": "code",
   "execution_count": null,
   "id": "273e51a0-3bdc-45ce-9df3-8d0739587d1e",
   "metadata": {
    "tags": []
   },
   "outputs": [],
   "source": [
    "df_ecarbro.limit(2).show()"
   ]
  },
  {
   "cell_type": "code",
   "execution_count": null,
   "id": "b60d4d48-deb2-46a3-8cd0-6e2138c5afb8",
   "metadata": {},
   "outputs": [],
   "source": []
  },
  {
   "cell_type": "code",
   "execution_count": null,
   "id": "e7ed54bf-cb23-48a2-9c0b-1b4aa8520d5a",
   "metadata": {},
   "outputs": [],
   "source": []
  },
  {
   "cell_type": "code",
   "execution_count": null,
   "id": "4cbf63f7-e77c-4d68-a45e-876923aaf2c4",
   "metadata": {
    "tags": []
   },
   "outputs": [],
   "source": [
    "df_labels = readCheckpoint('labels', env, size='large')"
   ]
  },
  {
   "cell_type": "code",
   "execution_count": null,
   "id": "27a7fe54-1d71-4435-bf33-84542fa09b2d",
   "metadata": {
    "tags": []
   },
   "outputs": [],
   "source": [
    "df_labels.count()"
   ]
  },
  {
   "cell_type": "code",
   "execution_count": null,
   "id": "118f2dfd-1164-46bc-90c9-52b2e83504f2",
   "metadata": {
    "tags": []
   },
   "outputs": [],
   "source": [
    "df_labels.limit(5).toPandas()"
   ]
  },
  {
   "cell_type": "code",
   "execution_count": null,
   "id": "2cc6ccfc-1630-46ba-a179-ee23d00d018f",
   "metadata": {},
   "outputs": [],
   "source": [
    "df_labels.toPandas().groupby('hostname')['id'].count().sort_values(ascending=False).plot(kind='bar')"
   ]
  },
  {
   "cell_type": "code",
   "execution_count": null,
   "id": "9e9cb41f-6cc5-4228-b026-fdee531757cb",
   "metadata": {},
   "outputs": [],
   "source": [
    "df_labels.toPandas().groupby('action')['id'].count().sort_values(ascending=False).plot(kind='bar')"
   ]
  },
  {
   "cell_type": "code",
   "execution_count": null,
   "id": "3a6f6b22-5ad9-4942-9af7-3c999052a4e8",
   "metadata": {},
   "outputs": [],
   "source": [
    "df_labels.toPandas().groupby('object')['id'].count().sort_values(ascending=False).plot(kind='bar')"
   ]
  },
  {
   "cell_type": "code",
   "execution_count": null,
   "id": "894032f2-5192-4e87-8c56-074ed27b81a7",
   "metadata": {},
   "outputs": [],
   "source": [
    "df_labels.distinct()"
   ]
  },
  {
   "cell_type": "code",
   "execution_count": null,
   "id": "5cb4fd45-de31-47ec-a891-c2107234406b",
   "metadata": {},
   "outputs": [],
   "source": []
  },
  {
   "cell_type": "code",
   "execution_count": null,
   "id": "20c9cf8d-174d-4cd1-a2a1-37f0413c60d2",
   "metadata": {},
   "outputs": [],
   "source": []
  },
  {
   "cell_type": "code",
   "execution_count": null,
   "id": "0ca0e50e-c82a-484e-ac92-99f2cb4a4f8e",
   "metadata": {},
   "outputs": [],
   "source": []
  }
 ],
 "metadata": {
  "kernelspec": {
   "display_name": "conda_python3",
   "language": "python",
   "name": "conda_python3"
  },
  "language_info": {
   "codemirror_mode": {
    "name": "ipython",
    "version": 3
   },
   "file_extension": ".py",
   "mimetype": "text/x-python",
   "name": "python",
   "nbconvert_exporter": "python",
   "pygments_lexer": "ipython3",
   "version": "3.10.8"
  }
 },
 "nbformat": 4,
 "nbformat_minor": 5
}
