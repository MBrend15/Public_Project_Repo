{
 "cells": [
  {
   "cell_type": "markdown",
   "id": "4bf5c4bf-fb79-4859-9252-8bce5d1a274a",
   "metadata": {},
   "source": [
    "## Import Functions and Spark Config"
   ]
  },
  {
   "cell_type": "code",
   "execution_count": 3,
   "id": "23f44f59-fff5-41aa-9be8-02412de8c4ec",
   "metadata": {
    "tags": []
   },
   "outputs": [
    {
     "name": "stderr",
     "output_type": "stream",
     "text": [
      "Warning: Ignoring non-Spark config property: fs.s3a.access.key\n",
      "Warning: Ignoring non-Spark config property: fs.s3a.secret.key\n",
      "Setting default log level to \"WARN\".\n",
      "To adjust logging level use sc.setLogLevel(newLevel). For SparkR, use setLogLevel(newLevel).\n"
     ]
    },
    {
     "name": "stdout",
     "output_type": "stream",
     "text": [
      "23/02/23 23:35:44 WARN NativeCodeLoader: Unable to load native-hadoop library for your platform... using builtin-java classes where applicable\n",
      "23/02/23 23:35:45 WARN Utils: Service 'SparkUI' could not bind on port 4040. Attempting port 4041.\n"
     ]
    }
   ],
   "source": [
    "%run ./read_file.ipynb"
   ]
  },
  {
   "cell_type": "markdown",
   "id": "322f0acc-5281-4b73-a33b-67ac7c05b96a",
   "metadata": {},
   "source": [
    "## Set Environment"
   ]
  },
  {
   "cell_type": "code",
   "execution_count": 4,
   "id": "3660605e-699c-4b64-b7c4-2211454666a6",
   "metadata": {
    "tags": []
   },
   "outputs": [],
   "source": [
    "# env - dev / prod\n",
    "# size - small / medium / large\n",
    "env='prod'\n",
    "size='medium'"
   ]
  },
  {
   "cell_type": "markdown",
   "id": "c8ecd4b8-755b-404f-8fd0-42b934bdef28",
   "metadata": {},
   "source": [
    "## Data Processing"
   ]
  },
  {
   "cell_type": "code",
   "execution_count": 5,
   "id": "85ea208b-c82a-45f8-ad13-e2d76e35d3fa",
   "metadata": {
    "tags": []
   },
   "outputs": [
    {
     "name": "stdout",
     "output_type": "stream",
     "text": [
      "23/02/23 23:35:47 WARN MetricsConfig: Cannot locate configuration: tried hadoop-metrics2-s3a-file-system.properties,hadoop-metrics2.properties\n"
     ]
    },
    {
     "name": "stderr",
     "output_type": "stream",
     "text": [
      "                                                                                \r"
     ]
    },
    {
     "name": "stdout",
     "output_type": "stream",
     "text": [
      "--- 9.35029935836792 seconds ---\n"
     ]
    }
   ],
   "source": [
    "df_ecarbro = readCheckpoint('ecar-bro', env, size)"
   ]
  },
  {
   "cell_type": "code",
   "execution_count": 7,
   "id": "0cfdcbdb-2856-47e7-be5d-57fcb0bf471b",
   "metadata": {
    "tags": []
   },
   "outputs": [
    {
     "name": "stderr",
     "output_type": "stream",
     "text": [
      "/home/ec2-user/anaconda3/envs/python3/lib/python3.10/site-packages/pyspark/sql/pandas/conversion.py:248: FutureWarning: Passing unit-less datetime64 dtype to .astype is deprecated and will raise in a future version. Pass 'datetime64[ns]' instead\n",
      "  series = series.astype(t, copy=False)\n"
     ]
    },
    {
     "data": {
      "text/html": [
       "<div>\n",
       "<style scoped>\n",
       "    .dataframe tbody tr th:only-of-type {\n",
       "        vertical-align: middle;\n",
       "    }\n",
       "\n",
       "    .dataframe tbody tr th {\n",
       "        vertical-align: top;\n",
       "    }\n",
       "\n",
       "    .dataframe thead th {\n",
       "        text-align: right;\n",
       "    }\n",
       "</style>\n",
       "<table border=\"1\" class=\"dataframe\">\n",
       "  <thead>\n",
       "    <tr style=\"text-align: right;\">\n",
       "      <th></th>\n",
       "      <th>action</th>\n",
       "      <th>actorID</th>\n",
       "      <th>hostname</th>\n",
       "      <th>id</th>\n",
       "      <th>object</th>\n",
       "      <th>objectID</th>\n",
       "      <th>pid</th>\n",
       "      <th>ppid</th>\n",
       "      <th>principal</th>\n",
       "      <th>tid</th>\n",
       "      <th>...</th>\n",
       "      <th>dest_ip</th>\n",
       "      <th>dest_port</th>\n",
       "      <th>direction</th>\n",
       "      <th>image_path</th>\n",
       "      <th>l4protocol</th>\n",
       "      <th>src_ip</th>\n",
       "      <th>src_port</th>\n",
       "      <th>event_minute</th>\n",
       "      <th>event_day</th>\n",
       "      <th>event_hour</th>\n",
       "    </tr>\n",
       "  </thead>\n",
       "  <tbody>\n",
       "    <tr>\n",
       "      <th>0</th>\n",
       "      <td>INFO</td>\n",
       "      <td>4dcada9c-8adf-4a97-8a4b-0bf825772242</td>\n",
       "      <td>SysClient0117.systemia.com</td>\n",
       "      <td>397822bf-c119-4e5e-a753-18dbc0cfe5fb</td>\n",
       "      <td>FLOW</td>\n",
       "      <td>55f24ac8-35b3-4304-ae3e-f443da4d4069</td>\n",
       "      <td>2484</td>\n",
       "      <td>3852</td>\n",
       "      <td>SYSTEMIACOM\\scrazymindz</td>\n",
       "      <td>-1</td>\n",
       "      <td>...</td>\n",
       "      <td>None</td>\n",
       "      <td>NaN</td>\n",
       "      <td>None</td>\n",
       "      <td>None</td>\n",
       "      <td>None</td>\n",
       "      <td>None</td>\n",
       "      <td>NaN</td>\n",
       "      <td>0</td>\n",
       "      <td>17</td>\n",
       "      <td>16</td>\n",
       "    </tr>\n",
       "    <tr>\n",
       "      <th>1</th>\n",
       "      <td>INFO</td>\n",
       "      <td>4dcada9c-8adf-4a97-8a4b-0bf825772242</td>\n",
       "      <td>SysClient0117.systemia.com</td>\n",
       "      <td>5c0c257e-596d-4853-930d-f1bed67fa8dc</td>\n",
       "      <td>FLOW</td>\n",
       "      <td>484f9f85-8697-4a8b-a780-cc3cf41b789a</td>\n",
       "      <td>2484</td>\n",
       "      <td>3852</td>\n",
       "      <td>SYSTEMIACOM\\scrazymindz</td>\n",
       "      <td>-1</td>\n",
       "      <td>...</td>\n",
       "      <td>None</td>\n",
       "      <td>NaN</td>\n",
       "      <td>None</td>\n",
       "      <td>None</td>\n",
       "      <td>None</td>\n",
       "      <td>None</td>\n",
       "      <td>NaN</td>\n",
       "      <td>0</td>\n",
       "      <td>17</td>\n",
       "      <td>16</td>\n",
       "    </tr>\n",
       "    <tr>\n",
       "      <th>2</th>\n",
       "      <td>INFO</td>\n",
       "      <td>4dcada9c-8adf-4a97-8a4b-0bf825772242</td>\n",
       "      <td>SysClient0117.systemia.com</td>\n",
       "      <td>00eece7f-2434-441d-80fc-1fb982557ad7</td>\n",
       "      <td>FLOW</td>\n",
       "      <td>b8bf74ec-0fa7-42d3-a3a0-7dc6348a3bbf</td>\n",
       "      <td>2484</td>\n",
       "      <td>3852</td>\n",
       "      <td>SYSTEMIACOM\\scrazymindz</td>\n",
       "      <td>-1</td>\n",
       "      <td>...</td>\n",
       "      <td>None</td>\n",
       "      <td>NaN</td>\n",
       "      <td>None</td>\n",
       "      <td>None</td>\n",
       "      <td>None</td>\n",
       "      <td>None</td>\n",
       "      <td>NaN</td>\n",
       "      <td>0</td>\n",
       "      <td>17</td>\n",
       "      <td>16</td>\n",
       "    </tr>\n",
       "    <tr>\n",
       "      <th>3</th>\n",
       "      <td>INFO</td>\n",
       "      <td>4dcada9c-8adf-4a97-8a4b-0bf825772242</td>\n",
       "      <td>SysClient0117.systemia.com</td>\n",
       "      <td>f384bd99-5c62-44d3-90b8-1822d3c0fc7c</td>\n",
       "      <td>FLOW</td>\n",
       "      <td>284eff49-1c9c-4b13-a505-972f767e8272</td>\n",
       "      <td>2484</td>\n",
       "      <td>3852</td>\n",
       "      <td>SYSTEMIACOM\\scrazymindz</td>\n",
       "      <td>-1</td>\n",
       "      <td>...</td>\n",
       "      <td>None</td>\n",
       "      <td>NaN</td>\n",
       "      <td>None</td>\n",
       "      <td>None</td>\n",
       "      <td>None</td>\n",
       "      <td>None</td>\n",
       "      <td>NaN</td>\n",
       "      <td>0</td>\n",
       "      <td>17</td>\n",
       "      <td>16</td>\n",
       "    </tr>\n",
       "    <tr>\n",
       "      <th>4</th>\n",
       "      <td>INFO</td>\n",
       "      <td>4dcada9c-8adf-4a97-8a4b-0bf825772242</td>\n",
       "      <td>SysClient0117.systemia.com</td>\n",
       "      <td>9eb98404-8ddc-430c-966d-809be35bc737</td>\n",
       "      <td>FLOW</td>\n",
       "      <td>68dc3bf4-930c-46c3-9847-d2b51e004b2a</td>\n",
       "      <td>2484</td>\n",
       "      <td>3852</td>\n",
       "      <td>SYSTEMIACOM\\scrazymindz</td>\n",
       "      <td>-1</td>\n",
       "      <td>...</td>\n",
       "      <td>None</td>\n",
       "      <td>NaN</td>\n",
       "      <td>None</td>\n",
       "      <td>None</td>\n",
       "      <td>None</td>\n",
       "      <td>None</td>\n",
       "      <td>NaN</td>\n",
       "      <td>0</td>\n",
       "      <td>17</td>\n",
       "      <td>16</td>\n",
       "    </tr>\n",
       "  </tbody>\n",
       "</table>\n",
       "<p>5 rows × 23 columns</p>\n",
       "</div>"
      ],
      "text/plain": [
       "  action                               actorID                    hostname  \\\n",
       "0   INFO  4dcada9c-8adf-4a97-8a4b-0bf825772242  SysClient0117.systemia.com   \n",
       "1   INFO  4dcada9c-8adf-4a97-8a4b-0bf825772242  SysClient0117.systemia.com   \n",
       "2   INFO  4dcada9c-8adf-4a97-8a4b-0bf825772242  SysClient0117.systemia.com   \n",
       "3   INFO  4dcada9c-8adf-4a97-8a4b-0bf825772242  SysClient0117.systemia.com   \n",
       "4   INFO  4dcada9c-8adf-4a97-8a4b-0bf825772242  SysClient0117.systemia.com   \n",
       "\n",
       "                                     id object  \\\n",
       "0  397822bf-c119-4e5e-a753-18dbc0cfe5fb   FLOW   \n",
       "1  5c0c257e-596d-4853-930d-f1bed67fa8dc   FLOW   \n",
       "2  00eece7f-2434-441d-80fc-1fb982557ad7   FLOW   \n",
       "3  f384bd99-5c62-44d3-90b8-1822d3c0fc7c   FLOW   \n",
       "4  9eb98404-8ddc-430c-966d-809be35bc737   FLOW   \n",
       "\n",
       "                               objectID   pid  ppid                principal  \\\n",
       "0  55f24ac8-35b3-4304-ae3e-f443da4d4069  2484  3852  SYSTEMIACOM\\scrazymindz   \n",
       "1  484f9f85-8697-4a8b-a780-cc3cf41b789a  2484  3852  SYSTEMIACOM\\scrazymindz   \n",
       "2  b8bf74ec-0fa7-42d3-a3a0-7dc6348a3bbf  2484  3852  SYSTEMIACOM\\scrazymindz   \n",
       "3  284eff49-1c9c-4b13-a505-972f767e8272  2484  3852  SYSTEMIACOM\\scrazymindz   \n",
       "4  68dc3bf4-930c-46c3-9847-d2b51e004b2a  2484  3852  SYSTEMIACOM\\scrazymindz   \n",
       "\n",
       "   tid  ... dest_ip dest_port direction image_path  l4protocol src_ip  \\\n",
       "0   -1  ...    None       NaN      None       None        None   None   \n",
       "1   -1  ...    None       NaN      None       None        None   None   \n",
       "2   -1  ...    None       NaN      None       None        None   None   \n",
       "3   -1  ...    None       NaN      None       None        None   None   \n",
       "4   -1  ...    None       NaN      None       None        None   None   \n",
       "\n",
       "  src_port event_minute event_day  event_hour  \n",
       "0      NaN            0        17          16  \n",
       "1      NaN            0        17          16  \n",
       "2      NaN            0        17          16  \n",
       "3      NaN            0        17          16  \n",
       "4      NaN            0        17          16  \n",
       "\n",
       "[5 rows x 23 columns]"
      ]
     },
     "execution_count": 7,
     "metadata": {},
     "output_type": "execute_result"
    }
   ],
   "source": [
    "df_ecarbro.limit(5).toPandas()"
   ]
  },
  {
   "cell_type": "code",
   "execution_count": 62,
   "id": "5cdbab49-aa87-43dc-a8bb-2c4137909923",
   "metadata": {
    "tags": []
   },
   "outputs": [
    {
     "name": "stdout",
     "output_type": "stream",
     "text": [
      "--- 2.324241876602173 seconds ---\n"
     ]
    }
   ],
   "source": [
    "df_ecar = readCheckpoint('ecar', env, size)"
   ]
  },
  {
   "cell_type": "code",
   "execution_count": 63,
   "id": "28bd13e6-ccea-4a93-89b0-1772256378b9",
   "metadata": {
    "tags": []
   },
   "outputs": [
    {
     "name": "stderr",
     "output_type": "stream",
     "text": [
      "                                                                                \r"
     ]
    },
    {
     "data": {
      "text/html": [
       "<div>\n",
       "<style scoped>\n",
       "    .dataframe tbody tr th:only-of-type {\n",
       "        vertical-align: middle;\n",
       "    }\n",
       "\n",
       "    .dataframe tbody tr th {\n",
       "        vertical-align: top;\n",
       "    }\n",
       "\n",
       "    .dataframe thead th {\n",
       "        text-align: right;\n",
       "    }\n",
       "</style>\n",
       "<table border=\"1\" class=\"dataframe\">\n",
       "  <thead>\n",
       "    <tr style=\"text-align: right;\">\n",
       "      <th></th>\n",
       "      <th>action</th>\n",
       "      <th>actorID</th>\n",
       "      <th>hostname</th>\n",
       "      <th>id</th>\n",
       "      <th>object</th>\n",
       "      <th>objectID</th>\n",
       "      <th>pid</th>\n",
       "      <th>ppid</th>\n",
       "      <th>principal</th>\n",
       "      <th>tid</th>\n",
       "      <th>...</th>\n",
       "      <th>tgt_tid</th>\n",
       "      <th>type</th>\n",
       "      <th>user</th>\n",
       "      <th>user_name</th>\n",
       "      <th>user_stack_base</th>\n",
       "      <th>user_stack_limit</th>\n",
       "      <th>value</th>\n",
       "      <th>event_day</th>\n",
       "      <th>event_hour</th>\n",
       "      <th>event_minute</th>\n",
       "    </tr>\n",
       "  </thead>\n",
       "  <tbody>\n",
       "    <tr>\n",
       "      <th>0</th>\n",
       "      <td>MESSAGE</td>\n",
       "      <td>67c2aece-1d55-4946-a469-6f9739f21631</td>\n",
       "      <td>SysClient0006.systemia.com</td>\n",
       "      <td>1abf67a2-0daa-44f5-a643-4f5651de889a</td>\n",
       "      <td>FLOW</td>\n",
       "      <td>b249c793-403f-48e6-a20d-2830d1dab7c7</td>\n",
       "      <td>1092</td>\n",
       "      <td>2024</td>\n",
       "      <td>SYSTEMIACOM\\jheeg</td>\n",
       "      <td>NaN</td>\n",
       "      <td>...</td>\n",
       "      <td>NaN</td>\n",
       "      <td>None</td>\n",
       "      <td>None</td>\n",
       "      <td>None</td>\n",
       "      <td>None</td>\n",
       "      <td>None</td>\n",
       "      <td>None</td>\n",
       "      <td>NaN</td>\n",
       "      <td>NaN</td>\n",
       "      <td>NaN</td>\n",
       "    </tr>\n",
       "    <tr>\n",
       "      <th>1</th>\n",
       "      <td>START</td>\n",
       "      <td>5254db60-ba25-48e3-87c6-d48718bd4ce7</td>\n",
       "      <td>SysClient0023.systemia.com</td>\n",
       "      <td>a59cc9a2-1c94-4f94-8edf-5e26297f4db6</td>\n",
       "      <td>FLOW</td>\n",
       "      <td>c0e436e0-9066-4131-b8b8-496bfb11e731</td>\n",
       "      <td>872</td>\n",
       "      <td>-1</td>\n",
       "      <td></td>\n",
       "      <td>NaN</td>\n",
       "      <td>...</td>\n",
       "      <td>NaN</td>\n",
       "      <td>None</td>\n",
       "      <td>None</td>\n",
       "      <td>None</td>\n",
       "      <td>None</td>\n",
       "      <td>None</td>\n",
       "      <td>None</td>\n",
       "      <td>NaN</td>\n",
       "      <td>NaN</td>\n",
       "      <td>NaN</td>\n",
       "    </tr>\n",
       "    <tr>\n",
       "      <th>2</th>\n",
       "      <td>MESSAGE</td>\n",
       "      <td>67c2aece-1d55-4946-a469-6f9739f21631</td>\n",
       "      <td>SysClient0006.systemia.com</td>\n",
       "      <td>0e24a10b-29ec-4bed-92b4-62c13b428dcb</td>\n",
       "      <td>FLOW</td>\n",
       "      <td>51703b17-30ec-40b1-a78f-d7c3d9fa7357</td>\n",
       "      <td>1092</td>\n",
       "      <td>2024</td>\n",
       "      <td>SYSTEMIACOM\\jheeg</td>\n",
       "      <td>NaN</td>\n",
       "      <td>...</td>\n",
       "      <td>NaN</td>\n",
       "      <td>None</td>\n",
       "      <td>None</td>\n",
       "      <td>None</td>\n",
       "      <td>None</td>\n",
       "      <td>None</td>\n",
       "      <td>None</td>\n",
       "      <td>NaN</td>\n",
       "      <td>NaN</td>\n",
       "      <td>NaN</td>\n",
       "    </tr>\n",
       "    <tr>\n",
       "      <th>3</th>\n",
       "      <td>START</td>\n",
       "      <td>5254db60-ba25-48e3-87c6-d48718bd4ce7</td>\n",
       "      <td>SysClient0023.systemia.com</td>\n",
       "      <td>05bac553-8765-4fee-9e51-175d2b22c576</td>\n",
       "      <td>FLOW</td>\n",
       "      <td>82d191ca-88af-4c04-96b1-ead2b34fe442</td>\n",
       "      <td>872</td>\n",
       "      <td>-1</td>\n",
       "      <td></td>\n",
       "      <td>NaN</td>\n",
       "      <td>...</td>\n",
       "      <td>NaN</td>\n",
       "      <td>None</td>\n",
       "      <td>None</td>\n",
       "      <td>None</td>\n",
       "      <td>None</td>\n",
       "      <td>None</td>\n",
       "      <td>None</td>\n",
       "      <td>NaN</td>\n",
       "      <td>NaN</td>\n",
       "      <td>NaN</td>\n",
       "    </tr>\n",
       "    <tr>\n",
       "      <th>4</th>\n",
       "      <td>MESSAGE</td>\n",
       "      <td>67c2aece-1d55-4946-a469-6f9739f21631</td>\n",
       "      <td>SysClient0006.systemia.com</td>\n",
       "      <td>e3169315-1007-40e4-9d80-229906273713</td>\n",
       "      <td>FLOW</td>\n",
       "      <td>a217f789-ef9b-4d2c-a045-b83f9e191b90</td>\n",
       "      <td>1092</td>\n",
       "      <td>2024</td>\n",
       "      <td>SYSTEMIACOM\\jheeg</td>\n",
       "      <td>NaN</td>\n",
       "      <td>...</td>\n",
       "      <td>NaN</td>\n",
       "      <td>None</td>\n",
       "      <td>None</td>\n",
       "      <td>None</td>\n",
       "      <td>None</td>\n",
       "      <td>None</td>\n",
       "      <td>None</td>\n",
       "      <td>NaN</td>\n",
       "      <td>NaN</td>\n",
       "      <td>NaN</td>\n",
       "    </tr>\n",
       "  </tbody>\n",
       "</table>\n",
       "<p>5 rows × 60 columns</p>\n",
       "</div>"
      ],
      "text/plain": [
       "    action                               actorID                    hostname  \\\n",
       "0  MESSAGE  67c2aece-1d55-4946-a469-6f9739f21631  SysClient0006.systemia.com   \n",
       "1    START  5254db60-ba25-48e3-87c6-d48718bd4ce7  SysClient0023.systemia.com   \n",
       "2  MESSAGE  67c2aece-1d55-4946-a469-6f9739f21631  SysClient0006.systemia.com   \n",
       "3    START  5254db60-ba25-48e3-87c6-d48718bd4ce7  SysClient0023.systemia.com   \n",
       "4  MESSAGE  67c2aece-1d55-4946-a469-6f9739f21631  SysClient0006.systemia.com   \n",
       "\n",
       "                                     id object  \\\n",
       "0  1abf67a2-0daa-44f5-a643-4f5651de889a   FLOW   \n",
       "1  a59cc9a2-1c94-4f94-8edf-5e26297f4db6   FLOW   \n",
       "2  0e24a10b-29ec-4bed-92b4-62c13b428dcb   FLOW   \n",
       "3  05bac553-8765-4fee-9e51-175d2b22c576   FLOW   \n",
       "4  e3169315-1007-40e4-9d80-229906273713   FLOW   \n",
       "\n",
       "                               objectID   pid  ppid          principal  tid  \\\n",
       "0  b249c793-403f-48e6-a20d-2830d1dab7c7  1092  2024  SYSTEMIACOM\\jheeg  NaN   \n",
       "1  c0e436e0-9066-4131-b8b8-496bfb11e731   872    -1                     NaN   \n",
       "2  51703b17-30ec-40b1-a78f-d7c3d9fa7357  1092  2024  SYSTEMIACOM\\jheeg  NaN   \n",
       "3  82d191ca-88af-4c04-96b1-ead2b34fe442   872    -1                     NaN   \n",
       "4  a217f789-ef9b-4d2c-a045-b83f9e191b90  1092  2024  SYSTEMIACOM\\jheeg  NaN   \n",
       "\n",
       "   ... tgt_tid  type  user user_name user_stack_base user_stack_limit  value  \\\n",
       "0  ...     NaN  None  None      None            None             None   None   \n",
       "1  ...     NaN  None  None      None            None             None   None   \n",
       "2  ...     NaN  None  None      None            None             None   None   \n",
       "3  ...     NaN  None  None      None            None             None   None   \n",
       "4  ...     NaN  None  None      None            None             None   None   \n",
       "\n",
       "  event_day event_hour event_minute  \n",
       "0       NaN        NaN          NaN  \n",
       "1       NaN        NaN          NaN  \n",
       "2       NaN        NaN          NaN  \n",
       "3       NaN        NaN          NaN  \n",
       "4       NaN        NaN          NaN  \n",
       "\n",
       "[5 rows x 60 columns]"
      ]
     },
     "execution_count": 63,
     "metadata": {},
     "output_type": "execute_result"
    }
   ],
   "source": [
    "df_ecar.limit(5).toPandas()"
   ]
  },
  {
   "cell_type": "code",
   "execution_count": null,
   "id": "7e7db4b7-1a55-4945-bf40-eb74d46e2c9b",
   "metadata": {},
   "outputs": [],
   "source": []
  },
  {
   "cell_type": "code",
   "execution_count": 64,
   "id": "3bec6ff7-a944-4eb4-a1b7-50483a891419",
   "metadata": {
    "tags": []
   },
   "outputs": [],
   "source": [
    "df_ecarbro = df_ecarbro.join(df_bro, df_ecarbro[\"bro_uid\"] ==  df_bro[\"uid\"], \"inner\").drop(col('uid'))"
   ]
  },
  {
   "cell_type": "code",
   "execution_count": 65,
   "id": "6a0bc3ab-21e1-4968-8f05-a34b7374544b",
   "metadata": {
    "tags": []
   },
   "outputs": [
    {
     "data": {
      "text/plain": [
       "DataFrame[action: string, actorID: string, hostname: string, id: string, object: string, objectID: string, pid: int, ppid: int, principal: string, tid: int, timestamp: timestamp, acuity_level: string, bro_uid: string, dest_ip: string, dest_port: int, direction: string, image_path: string, l4protocol: string, src_ip: string, src_port: int, event_minute: int, event_day: int, event_hour: int, ts: string, id.orig_h: string, id.orig_p: string, id.resp_: string, id.resp_p: string, proto: string, service: string, duration: string, orig_bytes: string, resp_bytes: string, conn_state: string, local_orig: string, local_resp: string, missed_bytes: string, history: string, orig_pkts: string, orig_ip_bytes: string, resp_pkts: string, resp_ip_bytes: string, tunnel_parents: string]"
      ]
     },
     "execution_count": 65,
     "metadata": {},
     "output_type": "execute_result"
    }
   ],
   "source": [
    "df_ecarbro"
   ]
  },
  {
   "cell_type": "code",
   "execution_count": 66,
   "id": "273e51a0-3bdc-45ce-9df3-8d0739587d1e",
   "metadata": {
    "tags": []
   },
   "outputs": [
    {
     "name": "stdout",
     "output_type": "stream",
     "text": [
      "+-------+\n",
      "|bro_uid|\n",
      "+-------+\n",
      "+-------+\n",
      "\n"
     ]
    }
   ],
   "source": [
    "df_ecarbro.select('bro_uid').show(2)"
   ]
  },
  {
   "cell_type": "code",
   "execution_count": null,
   "id": "b60d4d48-deb2-46a3-8cd0-6e2138c5afb8",
   "metadata": {},
   "outputs": [],
   "source": []
  },
  {
   "cell_type": "code",
   "execution_count": 70,
   "id": "4cbf63f7-e77c-4d68-a45e-876923aaf2c4",
   "metadata": {
    "tags": []
   },
   "outputs": [
    {
     "name": "stdout",
     "output_type": "stream",
     "text": [
      "--- 0.22254157066345215 seconds ---\n"
     ]
    }
   ],
   "source": [
    "df_labels = readCheckpoint('labels', env, size='large')"
   ]
  },
  {
   "cell_type": "code",
   "execution_count": 71,
   "id": "27a7fe54-1d71-4435-bf33-84542fa09b2d",
   "metadata": {
    "tags": []
   },
   "outputs": [
    {
     "data": {
      "text/plain": [
       "292367"
      ]
     },
     "execution_count": 71,
     "metadata": {},
     "output_type": "execute_result"
    }
   ],
   "source": [
    "df_labels.count()"
   ]
  },
  {
   "cell_type": "code",
   "execution_count": 72,
   "id": "118f2dfd-1164-46bc-90c9-52b2e83504f2",
   "metadata": {
    "tags": []
   },
   "outputs": [
    {
     "data": {
      "text/html": [
       "<div>\n",
       "<style scoped>\n",
       "    .dataframe tbody tr th:only-of-type {\n",
       "        vertical-align: middle;\n",
       "    }\n",
       "\n",
       "    .dataframe tbody tr th {\n",
       "        vertical-align: top;\n",
       "    }\n",
       "\n",
       "    .dataframe thead th {\n",
       "        text-align: right;\n",
       "    }\n",
       "</style>\n",
       "<table border=\"1\" class=\"dataframe\">\n",
       "  <thead>\n",
       "    <tr style=\"text-align: right;\">\n",
       "      <th></th>\n",
       "      <th>hostname</th>\n",
       "      <th>id</th>\n",
       "      <th>objectID</th>\n",
       "      <th>actorID</th>\n",
       "      <th>timestamp</th>\n",
       "      <th>object</th>\n",
       "      <th>action</th>\n",
       "    </tr>\n",
       "  </thead>\n",
       "  <tbody>\n",
       "    <tr>\n",
       "      <th>0</th>\n",
       "      <td>SysClient0955.systemia.com</td>\n",
       "      <td>3e350ce3-c4b3-4640-92d9-feaea0274cab</td>\n",
       "      <td>83f11800-88a3-4fa9-8c51-a469d66fca16</td>\n",
       "      <td>473d7954-6271-43b8-9984-702378220af2</td>\n",
       "      <td>2019-09-23T14:58:28.051-04:00</td>\n",
       "      <td>SHELL</td>\n",
       "      <td>COMMAND</td>\n",
       "    </tr>\n",
       "    <tr>\n",
       "      <th>1</th>\n",
       "      <td>SysClient0955.systemia.com</td>\n",
       "      <td>7a396cde-6485-40b4-baa2-8d7848fa02a3</td>\n",
       "      <td>83f11800-88a3-4fa9-8c51-a469d66fca16</td>\n",
       "      <td>473d7954-6271-43b8-9984-702378220af2</td>\n",
       "      <td>2019-09-23T14:58:33.139-04:00</td>\n",
       "      <td>SHELL</td>\n",
       "      <td>COMMAND</td>\n",
       "    </tr>\n",
       "    <tr>\n",
       "      <th>2</th>\n",
       "      <td>SysClient0955.systemia.com</td>\n",
       "      <td>2f33f5e3-1714-4069-850f-863680edbdef</td>\n",
       "      <td>83f11800-88a3-4fa9-8c51-a469d66fca16</td>\n",
       "      <td>473d7954-6271-43b8-9984-702378220af2</td>\n",
       "      <td>2019-09-23T14:58:33.141-04:00</td>\n",
       "      <td>SHELL</td>\n",
       "      <td>COMMAND</td>\n",
       "    </tr>\n",
       "    <tr>\n",
       "      <th>3</th>\n",
       "      <td>SysClient0955.systemia.com</td>\n",
       "      <td>725ad9a5-c876-4dc2-9c32-12dc6bb4da66</td>\n",
       "      <td>83f11800-88a3-4fa9-8c51-a469d66fca16</td>\n",
       "      <td>473d7954-6271-43b8-9984-702378220af2</td>\n",
       "      <td>2019-09-23T14:58:33.159-04:00</td>\n",
       "      <td>SHELL</td>\n",
       "      <td>COMMAND</td>\n",
       "    </tr>\n",
       "    <tr>\n",
       "      <th>4</th>\n",
       "      <td>SysClient0955.systemia.com</td>\n",
       "      <td>a8a78df2-a996-4c16-90f7-6455091eb91d</td>\n",
       "      <td>83f11800-88a3-4fa9-8c51-a469d66fca16</td>\n",
       "      <td>473d7954-6271-43b8-9984-702378220af2</td>\n",
       "      <td>2019-09-23T14:58:33.158-04:00</td>\n",
       "      <td>SHELL</td>\n",
       "      <td>COMMAND</td>\n",
       "    </tr>\n",
       "  </tbody>\n",
       "</table>\n",
       "</div>"
      ],
      "text/plain": [
       "                     hostname                                    id  \\\n",
       "0  SysClient0955.systemia.com  3e350ce3-c4b3-4640-92d9-feaea0274cab   \n",
       "1  SysClient0955.systemia.com  7a396cde-6485-40b4-baa2-8d7848fa02a3   \n",
       "2  SysClient0955.systemia.com  2f33f5e3-1714-4069-850f-863680edbdef   \n",
       "3  SysClient0955.systemia.com  725ad9a5-c876-4dc2-9c32-12dc6bb4da66   \n",
       "4  SysClient0955.systemia.com  a8a78df2-a996-4c16-90f7-6455091eb91d   \n",
       "\n",
       "                               objectID                               actorID  \\\n",
       "0  83f11800-88a3-4fa9-8c51-a469d66fca16  473d7954-6271-43b8-9984-702378220af2   \n",
       "1  83f11800-88a3-4fa9-8c51-a469d66fca16  473d7954-6271-43b8-9984-702378220af2   \n",
       "2  83f11800-88a3-4fa9-8c51-a469d66fca16  473d7954-6271-43b8-9984-702378220af2   \n",
       "3  83f11800-88a3-4fa9-8c51-a469d66fca16  473d7954-6271-43b8-9984-702378220af2   \n",
       "4  83f11800-88a3-4fa9-8c51-a469d66fca16  473d7954-6271-43b8-9984-702378220af2   \n",
       "\n",
       "                       timestamp object   action  \n",
       "0  2019-09-23T14:58:28.051-04:00  SHELL  COMMAND  \n",
       "1  2019-09-23T14:58:33.139-04:00  SHELL  COMMAND  \n",
       "2  2019-09-23T14:58:33.141-04:00  SHELL  COMMAND  \n",
       "3  2019-09-23T14:58:33.159-04:00  SHELL  COMMAND  \n",
       "4  2019-09-23T14:58:33.158-04:00  SHELL  COMMAND  "
      ]
     },
     "execution_count": 72,
     "metadata": {},
     "output_type": "execute_result"
    }
   ],
   "source": [
    "df_labels.limit(5).toPandas()"
   ]
  },
  {
   "cell_type": "code",
   "execution_count": 17,
   "id": "2cc6ccfc-1630-46ba-a179-ee23d00d018f",
   "metadata": {},
   "outputs": [
    {
     "name": "stderr",
     "output_type": "stream",
     "text": [
      "                                                                                \r"
     ]
    },
    {
     "data": {
      "text/plain": [
       "<AxesSubplot: xlabel='hostname'>"
      ]
     },
     "execution_count": 17,
     "metadata": {},
     "output_type": "execute_result"
    },
    {
     "data": {
      "image/png": "[encoded data removed]",
      "text/plain": [
       "<Figure size 640x480 with 1 Axes>"
      ]
     },
     "metadata": {},
     "output_type": "display_data"
    }
   ],
   "source": [
    "df_labels.toPandas().groupby('hostname')['id'].count().sort_values(ascending=False).plot(kind='bar')"
   ]
  },
  {
   "cell_type": "code",
   "execution_count": 18,
   "id": "9e9cb41f-6cc5-4228-b026-fdee531757cb",
   "metadata": {},
   "outputs": [
    {
     "data": {
      "text/plain": [
       "<AxesSubplot: xlabel='action'>"
      ]
     },
     "execution_count": 18,
     "metadata": {},
     "output_type": "execute_result"
    },
    {
     "data": {
      "image/png": "[encoded data removed]",
      "text/plain": [
       "<Figure size 640x480 with 1 Axes>"
      ]
     },
     "metadata": {},
     "output_type": "display_data"
    }
   ],
   "source": [
    "df_labels.toPandas().groupby('action')['id'].count().sort_values(ascending=False).plot(kind='bar')"
   ]
  },
  {
   "cell_type": "code",
   "execution_count": 19,
   "id": "3a6f6b22-5ad9-4942-9af7-3c999052a4e8",
   "metadata": {},
   "outputs": [
    {
     "data": {
      "text/plain": [
       "<AxesSubplot: xlabel='object'>"
      ]
     },
     "execution_count": 19,
     "metadata": {},
     "output_type": "execute_result"
    },
    {
     "data": {
      "image/png": "[encoded data removed]",
      "text/plain": [
       "<Figure size 640x480 with 1 Axes>"
      ]
     },
     "metadata": {},
     "output_type": "display_data"
    }
   ],
   "source": [
    "df_labels.toPandas().groupby('object')['id'].count().sort_values(ascending=False).plot(kind='bar')"
   ]
  },
  {
   "cell_type": "code",
   "execution_count": 20,
   "id": "894032f2-5192-4e87-8c56-074ed27b81a7",
   "metadata": {},
   "outputs": [
    {
     "data": {
      "text/plain": [
       "DataFrame[hostname: string, id: string, objectID: string, actorID: string, timestamp: string, object: string, action: string]"
      ]
     },
     "execution_count": 20,
     "metadata": {},
     "output_type": "execute_result"
    }
   ],
   "source": [
    "df_labels.distinct()"
   ]
  },
  {
   "cell_type": "code",
   "execution_count": null,
   "id": "5cb4fd45-de31-47ec-a891-c2107234406b",
   "metadata": {},
   "outputs": [],
   "source": []
  },
  {
   "cell_type": "code",
   "execution_count": null,
   "id": "20c9cf8d-174d-4cd1-a2a1-37f0413c60d2",
   "metadata": {},
   "outputs": [],
   "source": []
  },
  {
   "cell_type": "code",
   "execution_count": null,
   "id": "0ca0e50e-c82a-484e-ac92-99f2cb4a4f8e",
   "metadata": {},
   "outputs": [],
   "source": []
  }
 ],
 "metadata": {
  "kernelspec": {
   "display_name": "conda_python3",
   "language": "python",
   "name": "conda_python3"
  },
  "language_info": {
   "codemirror_mode": {
    "name": "ipython",
    "version": 3
   },
   "file_extension": ".py",
   "mimetype": "text/x-python",
   "name": "python",
   "nbconvert_exporter": "python",
   "pygments_lexer": "ipython3",
   "version": "3.10.8"
  }
 },
 "nbformat": 4,
 "nbformat_minor": 5
}
