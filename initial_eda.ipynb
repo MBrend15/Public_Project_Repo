{
 "cells": [
  {
   "cell_type": "code",
   "execution_count": 1,
   "id": "970130b0-b08c-4536-936e-ca923cc595a9",
   "metadata": {},
   "outputs": [],
   "source": [
    "#setup based on this: https://t-redactyl.io/blog/2020/08/reading-s3-data-into-a-spark-dataframe-using-sagemaker.html\n",
    "import boto3\n",
    "import json \n",
    "import time\n",
    "from pyspark import SparkConf\n",
    "from pyspark.sql import SparkSession\n",
    "from pyspark.sql.functions import explode, split, col\n",
    "import matplotlib.pyplot as plt\n",
    "import sagemaker_pyspark\n",
    "import botocore.session"
   ]
  },
  {
   "cell_type": "markdown",
   "id": "1e5ef5d6-368f-43af-b519-ba5112c87b79",
   "metadata": {},
   "source": [
    "## Set Spark Session Configuration"
   ]
  },
  {
   "cell_type": "code",
   "execution_count": 2,
   "id": "6d8e9008-6651-4c17-8c12-eef2b18e10fe",
   "metadata": {
    "tags": []
   },
   "outputs": [],
   "source": [
    "session = botocore.session.get_session()\n",
    "credentials = session.get_credentials()"
   ]
  },
  {
   "cell_type": "code",
   "execution_count": 3,
   "id": "7486ea00-f477-4f51-bf6e-b66a57f1a557",
   "metadata": {
    "tags": []
   },
   "outputs": [],
   "source": [
    "client = boto3.client('secretsmanager')\n",
    "response = client.get_secret_value(\n",
    "    SecretId='sapient-s3-access'\n",
    ")\n",
    "response = json.loads(response['SecretString'])\n",
    "access_key = response[\"aws_access_key_id\"]\n",
    "secret_key = response[\"aws_secret_access_key\"]"
   ]
  },
  {
   "cell_type": "code",
   "execution_count": 4,
   "id": "372553c2-9f17-4c4f-b253-275e30a1ef35",
   "metadata": {
    "tags": []
   },
   "outputs": [],
   "source": [
    "conf = (SparkConf()\n",
    "        .set(\"spark.driver.extraClassPath\", \":\".join(sagemaker_pyspark.classpath_jars())))"
   ]
  },
  {
   "cell_type": "code",
   "execution_count": 5,
   "id": "9392e443-f6d6-4a54-bbb8-2972eafaf97e",
   "metadata": {
    "tags": []
   },
   "outputs": [
    {
     "name": "stderr",
     "output_type": "stream",
     "text": [
      "Warning: Ignoring non-Spark config property: fs.s3a.access.key\n",
      "Warning: Ignoring non-Spark config property: fs.s3a.secret.key\n",
      "Setting default log level to \"WARN\".\n",
      "To adjust logging level use sc.setLogLevel(newLevel). For SparkR, use setLogLevel(newLevel).\n"
     ]
    },
    {
     "name": "stdout",
     "output_type": "stream",
     "text": [
      "23/02/13 07:36:04 WARN NativeCodeLoader: Unable to load native-hadoop library for your platform... using builtin-java classes where applicable\n"
     ]
    }
   ],
   "source": [
    "spark = (\n",
    "    SparkSession\n",
    "    .builder\n",
    "    .config(conf=conf) \\\n",
    "    .config('fs.s3a.access.key', access_key)\n",
    "    .config('fs.s3a.secret.key', secret_key)\n",
    "    .config('spark.network.timeout', 300)\n",
    "    .config('spark.memory.offHeap.size','4g')\n",
    "    .config('spark.executor.memory', '16g')\n",
    "    .appName(\"sapient\")\n",
    "    .getOrCreate()\n",
    ")"
   ]
  },
  {
   "cell_type": "markdown",
   "id": "322f0acc-5281-4b73-a33b-67ac7c05b96a",
   "metadata": {},
   "source": [
    "## Functions to Load and Read Data"
   ]
  },
  {
   "cell_type": "code",
   "execution_count": 6,
   "id": "4a5e8ea5-b6a8-4fdd-84d5-22e3b31c7340",
   "metadata": {},
   "outputs": [],
   "source": [
    "# read from raw bucket + write to refined bucket + aggregate final to the trusted bucket\n",
    "s3_url_raw = \"s3a://sapient-bucket-raw/\"\n",
    "s3_url_refined = \"s3a://sapient-bucket-refined/\"\n",
    "s3_url_trusted = \"s3a://sapient-bucket-trusted/\"\n",
    "bro_cols_conn = ['ts', 'uid', 'id.orig_h', 'id.orig_p', 'id.resp_', 'id.resp_p', 'proto', 'service', 'duration', 'orig_bytes', 'resp_bytes', 'conn_state', \n",
    "                 'local_orig', 'local_resp', 'missed_bytes', 'history', 'orig_pkts', 'orig_ip_bytes', 'resp_pkts', 'resp_ip_bytes', 'tunnel_parents']\n",
    "bro_cols_rep = ['ts', 'level', 'message', 'location']"
   ]
  },
  {
   "cell_type": "code",
   "execution_count": 7,
   "id": "4dff8a6f-87ed-4b8c-a119-9ceeaaaa9e85",
   "metadata": {},
   "outputs": [],
   "source": [
    "# ecarbro.json, AIA-1-25.ecar.json, conn.09_00_00-10_00_00.log\n",
    "def s3_file(file):\n",
    "    dev_file = f\"{s3_url_raw}/{env}/{file}\"\n",
    "    prod_file = \"\"\n",
    "    if env == \"prod\":\n",
    "      filename = prod_file\n",
    "    else:\n",
    "      filename = dev_file\n",
    "    return filename"
   ]
  },
  {
   "cell_type": "code",
   "execution_count": 8,
   "id": "948047f5-3308-49ad-b9c7-f281aabb8c6d",
   "metadata": {},
   "outputs": [],
   "source": [
    "def loadAndCheckpoint(type):\n",
    "    \"\"\"\n",
    "    type: ecar, ecar-bro, bro\n",
    "    This function reads a file from json or log text and writes it as a parquet.\n",
    "    \"\"\"\n",
    "    start_time = time.time()\n",
    "    if type == 'ecar':\n",
    "        df = spark.read.json(f\"{s3_url_raw}/{env}/{type}/**/**/**/*.json\")\n",
    "        df = df.limit(1000)\n",
    "        df = df.select(*df.columns, \"properties.*\").drop('properties')\n",
    "        df.write.option(\"maxRecordsPerFile\", 100000).mode(\"overwrite\").parquet(f\"{s3_url_refined}/{env}/{type}\")\n",
    "    elif type == 'ecar-bro':\n",
    "        df = spark.read.json(f\"{s3_url_raw}/{env}/{type}/**/**/**/*.json\")\n",
    "        # this will extract and flatten nested properties column\n",
    "        df = df.limit(1000)\n",
    "        df = df.select(*df.columns, \"properties.*\").drop('properties')\n",
    "        df.write.option(\"maxRecordsPerFile\", 100000).mode(\"overwrite\").parquet(f\"{s3_url_refined}/{env}/{type}\")\n",
    "    elif type == 'bro':\n",
    "        df = spark.read.csv(f\"{s3_url_raw}/{env}/**/**/*.log\", sep=\"\\t\", comment=\"#\", header=False)\n",
    "        df = df.limit(1000)\n",
    "        df = df.toDF(*bro_cols_conn)\n",
    "        df.write.option(\"maxRecordsPerFile\", 100000).mode(\"overwrite\").parquet(f\"{s3_url_refined}/{env}/{type}\")\n",
    "    print(\"--- %s seconds ---\" % (time.time() - start_time))\n",
    "    df.unpersist()"
   ]
  },
  {
   "cell_type": "code",
   "execution_count": 9,
   "id": "22f40b57-7603-413d-881e-fd397b934503",
   "metadata": {},
   "outputs": [],
   "source": [
    "def readCheckpoint(file_type):\n",
    "    \"\"\"\n",
    "    type: ecar, ecar-bro, bro\n",
    "    \"\"\"\n",
    "    s3_parquet_loc = f\"{s3_url_refined}/{env}/{file_type}\"\n",
    "    start_time = time.time()\n",
    "    df = spark.read.parquet(s3_parquet_loc)\n",
    "    # rdd = spark.sparkContext.parallelize(df.take(1000))\n",
    "    # print(f\"Your dataframe has {rdd.count():,} rows.\")\n",
    "    print(\"--- %s seconds ---\" % (time.time() - start_time))\n",
    "    return df"
   ]
  },
  {
   "cell_type": "markdown",
   "id": "c3052d07-eb5d-4d2c-9b96-ff8e8fcf8baa",
   "metadata": {},
   "source": [
    "## Environment configuration"
   ]
  },
  {
   "cell_type": "code",
   "execution_count": 10,
   "id": "3660605e-699c-4b64-b7c4-2211454666a6",
   "metadata": {},
   "outputs": [],
   "source": [
    "# env can be dev or prod\n",
    "env = \"dev\""
   ]
  },
  {
   "cell_type": "markdown",
   "id": "c8ecd4b8-755b-404f-8fd0-42b934bdef28",
   "metadata": {},
   "source": [
    "## Data Processing"
   ]
  },
  {
   "cell_type": "code",
   "execution_count": 11,
   "id": "672bc4ff-6fdf-44ce-b00f-c7b50e43563d",
   "metadata": {},
   "outputs": [
    {
     "name": "stdout",
     "output_type": "stream",
     "text": [
      "23/02/13 07:36:07 WARN MetricsConfig: Cannot locate configuration: tried hadoop-metrics2-s3a-file-system.properties,hadoop-metrics2.properties\n"
     ]
    },
    {
     "name": "stderr",
     "output_type": "stream",
     "text": [
      "                                                                                \r"
     ]
    },
    {
     "name": "stdout",
     "output_type": "stream",
     "text": [
      "--- 12.691768407821655 seconds ---\n"
     ]
    }
   ],
   "source": [
    "loadAndCheckpoint('bro')"
   ]
  },
  {
   "cell_type": "code",
   "execution_count": 12,
   "id": "2d2b2c39-6d40-48c9-b62a-8999d776c31f",
   "metadata": {},
   "outputs": [
    {
     "name": "stdout",
     "output_type": "stream",
     "text": [
      "--- 0.38132190704345703 seconds ---\n"
     ]
    }
   ],
   "source": [
    "df_bro = readCheckpoint('bro')"
   ]
  },
  {
   "cell_type": "code",
   "execution_count": 22,
   "id": "37ad8cbc-ae4b-4c5a-b39b-53d104e412f2",
   "metadata": {},
   "outputs": [
    {
     "name": "stdout",
     "output_type": "stream",
     "text": [
      "root\n",
      " |-- ts: string (nullable = true)\n",
      " |-- uid: string (nullable = true)\n",
      " |-- id.orig_h: string (nullable = true)\n",
      " |-- id.orig_p: string (nullable = true)\n",
      " |-- id.resp_: string (nullable = true)\n",
      " |-- id.resp_p: string (nullable = true)\n",
      " |-- proto: string (nullable = true)\n",
      " |-- service: string (nullable = true)\n",
      " |-- duration: string (nullable = true)\n",
      " |-- orig_bytes: string (nullable = true)\n",
      " |-- resp_bytes: string (nullable = true)\n",
      " |-- conn_state: string (nullable = true)\n",
      " |-- local_orig: string (nullable = true)\n",
      " |-- local_resp: string (nullable = true)\n",
      " |-- missed_bytes: string (nullable = true)\n",
      " |-- history: string (nullable = true)\n",
      " |-- orig_pkts: string (nullable = true)\n",
      " |-- orig_ip_bytes: string (nullable = true)\n",
      " |-- resp_pkts: string (nullable = true)\n",
      " |-- resp_ip_bytes: string (nullable = true)\n",
      " |-- tunnel_parents: string (nullable = true)\n",
      "\n"
     ]
    }
   ],
   "source": [
    "df_bro.printSchema()"
   ]
  },
  {
   "cell_type": "code",
   "execution_count": 13,
   "id": "178a87e0-1884-4d2d-98da-5947392bc25c",
   "metadata": {},
   "outputs": [
    {
     "data": {
      "text/html": [
       "<div>\n",
       "<style scoped>\n",
       "    .dataframe tbody tr th:only-of-type {\n",
       "        vertical-align: middle;\n",
       "    }\n",
       "\n",
       "    .dataframe tbody tr th {\n",
       "        vertical-align: top;\n",
       "    }\n",
       "\n",
       "    .dataframe thead th {\n",
       "        text-align: right;\n",
       "    }\n",
       "</style>\n",
       "<table border=\"1\" class=\"dataframe\">\n",
       "  <thead>\n",
       "    <tr style=\"text-align: right;\">\n",
       "      <th></th>\n",
       "      <th>uid</th>\n",
       "      <th>id.orig_h</th>\n",
       "      <th>id.orig_p</th>\n",
       "      <th>id.resp_</th>\n",
       "      <th>id.resp_p</th>\n",
       "    </tr>\n",
       "  </thead>\n",
       "  <tbody>\n",
       "    <tr>\n",
       "      <th>0</th>\n",
       "      <td>CXjvkk4Cn2Z9gtezOk</td>\n",
       "      <td>142.20.58.111</td>\n",
       "      <td>52559</td>\n",
       "      <td>165.101.35.5</td>\n",
       "      <td>443</td>\n",
       "    </tr>\n",
       "    <tr>\n",
       "      <th>1</th>\n",
       "      <td>CJtLsd15U6DBxokNYk</td>\n",
       "      <td>142.20.57.118</td>\n",
       "      <td>52465</td>\n",
       "      <td>153.129.45.5</td>\n",
       "      <td>443</td>\n",
       "    </tr>\n",
       "    <tr>\n",
       "      <th>2</th>\n",
       "      <td>CadbW9GsF5vphwxGl</td>\n",
       "      <td>142.20.57.62</td>\n",
       "      <td>50181</td>\n",
       "      <td>86.62.223.5</td>\n",
       "      <td>443</td>\n",
       "    </tr>\n",
       "    <tr>\n",
       "      <th>3</th>\n",
       "      <td>C2GVgr1qQ7xf9uE2Aj</td>\n",
       "      <td>142.20.57.62</td>\n",
       "      <td>50185</td>\n",
       "      <td>86.62.223.5</td>\n",
       "      <td>443</td>\n",
       "    </tr>\n",
       "    <tr>\n",
       "      <th>4</th>\n",
       "      <td>CagHOu3mFWXRh2gr47</td>\n",
       "      <td>142.20.58.38</td>\n",
       "      <td>62734</td>\n",
       "      <td>165.101.35.5</td>\n",
       "      <td>443</td>\n",
       "    </tr>\n",
       "  </tbody>\n",
       "</table>\n",
       "</div>"
      ],
      "text/plain": [
       "                  uid      id.orig_h id.orig_p      id.resp_ id.resp_p\n",
       "0  CXjvkk4Cn2Z9gtezOk  142.20.58.111     52559  165.101.35.5       443\n",
       "1  CJtLsd15U6DBxokNYk  142.20.57.118     52465  153.129.45.5       443\n",
       "2   CadbW9GsF5vphwxGl   142.20.57.62     50181   86.62.223.5       443\n",
       "3  C2GVgr1qQ7xf9uE2Aj   142.20.57.62     50185   86.62.223.5       443\n",
       "4  CagHOu3mFWXRh2gr47   142.20.58.38     62734  165.101.35.5       443"
      ]
     },
     "execution_count": 13,
     "metadata": {},
     "output_type": "execute_result"
    }
   ],
   "source": [
    "df_bro.select(\"uid\", \"`id.orig_h`\", \"`id.orig_p`\", \"`id.resp_`\", \"`id.resp_p`\").limit(5).toPandas()"
   ]
  },
  {
   "cell_type": "code",
   "execution_count": 14,
   "id": "765dcd63-8412-4127-81fe-b66233ae150b",
   "metadata": {},
   "outputs": [
    {
     "name": "stderr",
     "output_type": "stream",
     "text": [
      "                                                                                \r"
     ]
    },
    {
     "name": "stdout",
     "output_type": "stream",
     "text": [
      "--- 5.213835716247559 seconds ---\n"
     ]
    }
   ],
   "source": [
    "loadAndCheckpoint('ecar-bro')"
   ]
  },
  {
   "cell_type": "code",
   "execution_count": 15,
   "id": "85ea208b-c82a-45f8-ad13-e2d76e35d3fa",
   "metadata": {},
   "outputs": [
    {
     "name": "stdout",
     "output_type": "stream",
     "text": [
      "--- 0.24833250045776367 seconds ---\n"
     ]
    }
   ],
   "source": [
    "df_ecarbro = readCheckpoint('ecar-bro')"
   ]
  },
  {
   "cell_type": "code",
   "execution_count": 16,
   "id": "0cfdcbdb-2856-47e7-be5d-57fcb0bf471b",
   "metadata": {},
   "outputs": [
    {
     "data": {
      "text/html": [
       "<div>\n",
       "<style scoped>\n",
       "    .dataframe tbody tr th:only-of-type {\n",
       "        vertical-align: middle;\n",
       "    }\n",
       "\n",
       "    .dataframe tbody tr th {\n",
       "        vertical-align: top;\n",
       "    }\n",
       "\n",
       "    .dataframe thead th {\n",
       "        text-align: right;\n",
       "    }\n",
       "</style>\n",
       "<table border=\"1\" class=\"dataframe\">\n",
       "  <thead>\n",
       "    <tr style=\"text-align: right;\">\n",
       "      <th></th>\n",
       "      <th>action</th>\n",
       "      <th>actorID</th>\n",
       "      <th>hostname</th>\n",
       "      <th>id</th>\n",
       "      <th>object</th>\n",
       "      <th>objectID</th>\n",
       "      <th>pid</th>\n",
       "      <th>ppid</th>\n",
       "      <th>principal</th>\n",
       "      <th>tid</th>\n",
       "      <th>timestamp</th>\n",
       "      <th>acuity_level</th>\n",
       "      <th>bro_uid</th>\n",
       "      <th>dest_ip</th>\n",
       "      <th>dest_port</th>\n",
       "      <th>direction</th>\n",
       "      <th>image_path</th>\n",
       "      <th>l4protocol</th>\n",
       "      <th>src_ip</th>\n",
       "      <th>src_port</th>\n",
       "    </tr>\n",
       "  </thead>\n",
       "  <tbody>\n",
       "    <tr>\n",
       "      <th>0</th>\n",
       "      <td>INFO</td>\n",
       "      <td>4767c80e-1e6b-412e-9432-fad5898fa7db</td>\n",
       "      <td>SysClient0024.systemia.com</td>\n",
       "      <td>2ea7d45b-0a28-4d92-8ca7-58502d1ba631</td>\n",
       "      <td>FLOW</td>\n",
       "      <td>dfaf05b2-4d7c-408d-bb0f-d56f52b07f12</td>\n",
       "      <td>5920</td>\n",
       "      <td>-1</td>\n",
       "      <td></td>\n",
       "      <td>-1</td>\n",
       "      <td>2019-09-23T09:10:15.593-04:00</td>\n",
       "      <td>1</td>\n",
       "      <td>C46Z8E9qAFrZ8Iks4</td>\n",
       "      <td>195.219.101.2</td>\n",
       "      <td>80</td>\n",
       "      <td>outbound</td>\n",
       "      <td>None</td>\n",
       "      <td>6</td>\n",
       "      <td>142.20.56.25</td>\n",
       "      <td>63394</td>\n",
       "    </tr>\n",
       "    <tr>\n",
       "      <th>1</th>\n",
       "      <td>INFO</td>\n",
       "      <td>4767c80e-1e6b-412e-9432-fad5898fa7db</td>\n",
       "      <td>SysClient0024.systemia.com</td>\n",
       "      <td>264c42c4-7914-4e76-809f-982fe0b241d0</td>\n",
       "      <td>FLOW</td>\n",
       "      <td>6ea8ef0c-6450-4e39-b473-c7d3d53578f3</td>\n",
       "      <td>5920</td>\n",
       "      <td>-1</td>\n",
       "      <td></td>\n",
       "      <td>-1</td>\n",
       "      <td>2019-09-23T09:10:15.623-04:00</td>\n",
       "      <td>1</td>\n",
       "      <td>Chrr5B4nTDEYBgYjme</td>\n",
       "      <td>195.219.101.5</td>\n",
       "      <td>80</td>\n",
       "      <td>outbound</td>\n",
       "      <td>None</td>\n",
       "      <td>6</td>\n",
       "      <td>142.20.56.25</td>\n",
       "      <td>63395</td>\n",
       "    </tr>\n",
       "    <tr>\n",
       "      <th>2</th>\n",
       "      <td>INFO</td>\n",
       "      <td>4767c80e-1e6b-412e-9432-fad5898fa7db</td>\n",
       "      <td>SysClient0024.systemia.com</td>\n",
       "      <td>3f057bc7-a39e-487e-8490-eb77f5bb6ed6</td>\n",
       "      <td>FLOW</td>\n",
       "      <td>6558c991-e5a0-409d-b5b9-96a3e44c747a</td>\n",
       "      <td>5920</td>\n",
       "      <td>-1</td>\n",
       "      <td></td>\n",
       "      <td>-1</td>\n",
       "      <td>2019-09-23T09:10:15.635-04:00</td>\n",
       "      <td>1</td>\n",
       "      <td>CvZy4E919XjWUGVD4</td>\n",
       "      <td>195.219.101.5</td>\n",
       "      <td>443</td>\n",
       "      <td>outbound</td>\n",
       "      <td>None</td>\n",
       "      <td>6</td>\n",
       "      <td>142.20.56.25</td>\n",
       "      <td>63396</td>\n",
       "    </tr>\n",
       "    <tr>\n",
       "      <th>3</th>\n",
       "      <td>INFO</td>\n",
       "      <td>4767c80e-1e6b-412e-9432-fad5898fa7db</td>\n",
       "      <td>SysClient0024.systemia.com</td>\n",
       "      <td>71978192-53c8-4cfa-a79f-193d760c3b01</td>\n",
       "      <td>FLOW</td>\n",
       "      <td>d57caaa4-66ec-400a-b305-049fa912b1dd</td>\n",
       "      <td>5920</td>\n",
       "      <td>-1</td>\n",
       "      <td></td>\n",
       "      <td>-1</td>\n",
       "      <td>2019-09-23T09:10:15.789-04:00</td>\n",
       "      <td>1</td>\n",
       "      <td>CXUYLX9hxem2or1bh</td>\n",
       "      <td>195.219.101.5</td>\n",
       "      <td>443</td>\n",
       "      <td>outbound</td>\n",
       "      <td>None</td>\n",
       "      <td>6</td>\n",
       "      <td>142.20.56.25</td>\n",
       "      <td>63397</td>\n",
       "    </tr>\n",
       "    <tr>\n",
       "      <th>4</th>\n",
       "      <td>INFO</td>\n",
       "      <td>4767c80e-1e6b-412e-9432-fad5898fa7db</td>\n",
       "      <td>SysClient0024.systemia.com</td>\n",
       "      <td>d02151e6-c183-46e2-82e0-0ed9eded3c92</td>\n",
       "      <td>FLOW</td>\n",
       "      <td>54530c7c-0b65-4ba9-a0c1-891d3e4e4efa</td>\n",
       "      <td>5920</td>\n",
       "      <td>-1</td>\n",
       "      <td></td>\n",
       "      <td>-1</td>\n",
       "      <td>2019-09-23T09:10:15.79-04:00</td>\n",
       "      <td>1</td>\n",
       "      <td>Cv9qwV2jFSOU4wpBu9</td>\n",
       "      <td>195.219.101.5</td>\n",
       "      <td>443</td>\n",
       "      <td>outbound</td>\n",
       "      <td>None</td>\n",
       "      <td>6</td>\n",
       "      <td>142.20.56.25</td>\n",
       "      <td>63398</td>\n",
       "    </tr>\n",
       "  </tbody>\n",
       "</table>\n",
       "</div>"
      ],
      "text/plain": [
       "  action                               actorID                    hostname  \\\n",
       "0   INFO  4767c80e-1e6b-412e-9432-fad5898fa7db  SysClient0024.systemia.com   \n",
       "1   INFO  4767c80e-1e6b-412e-9432-fad5898fa7db  SysClient0024.systemia.com   \n",
       "2   INFO  4767c80e-1e6b-412e-9432-fad5898fa7db  SysClient0024.systemia.com   \n",
       "3   INFO  4767c80e-1e6b-412e-9432-fad5898fa7db  SysClient0024.systemia.com   \n",
       "4   INFO  4767c80e-1e6b-412e-9432-fad5898fa7db  SysClient0024.systemia.com   \n",
       "\n",
       "                                     id object  \\\n",
       "0  2ea7d45b-0a28-4d92-8ca7-58502d1ba631   FLOW   \n",
       "1  264c42c4-7914-4e76-809f-982fe0b241d0   FLOW   \n",
       "2  3f057bc7-a39e-487e-8490-eb77f5bb6ed6   FLOW   \n",
       "3  71978192-53c8-4cfa-a79f-193d760c3b01   FLOW   \n",
       "4  d02151e6-c183-46e2-82e0-0ed9eded3c92   FLOW   \n",
       "\n",
       "                               objectID   pid  ppid principal  tid  \\\n",
       "0  dfaf05b2-4d7c-408d-bb0f-d56f52b07f12  5920    -1             -1   \n",
       "1  6ea8ef0c-6450-4e39-b473-c7d3d53578f3  5920    -1             -1   \n",
       "2  6558c991-e5a0-409d-b5b9-96a3e44c747a  5920    -1             -1   \n",
       "3  d57caaa4-66ec-400a-b305-049fa912b1dd  5920    -1             -1   \n",
       "4  54530c7c-0b65-4ba9-a0c1-891d3e4e4efa  5920    -1             -1   \n",
       "\n",
       "                       timestamp acuity_level             bro_uid  \\\n",
       "0  2019-09-23T09:10:15.593-04:00            1   C46Z8E9qAFrZ8Iks4   \n",
       "1  2019-09-23T09:10:15.623-04:00            1  Chrr5B4nTDEYBgYjme   \n",
       "2  2019-09-23T09:10:15.635-04:00            1   CvZy4E919XjWUGVD4   \n",
       "3  2019-09-23T09:10:15.789-04:00            1   CXUYLX9hxem2or1bh   \n",
       "4   2019-09-23T09:10:15.79-04:00            1  Cv9qwV2jFSOU4wpBu9   \n",
       "\n",
       "         dest_ip dest_port direction image_path l4protocol        src_ip  \\\n",
       "0  195.219.101.2        80  outbound       None          6  142.20.56.25   \n",
       "1  195.219.101.5        80  outbound       None          6  142.20.56.25   \n",
       "2  195.219.101.5       443  outbound       None          6  142.20.56.25   \n",
       "3  195.219.101.5       443  outbound       None          6  142.20.56.25   \n",
       "4  195.219.101.5       443  outbound       None          6  142.20.56.25   \n",
       "\n",
       "  src_port  \n",
       "0    63394  \n",
       "1    63395  \n",
       "2    63396  \n",
       "3    63397  \n",
       "4    63398  "
      ]
     },
     "execution_count": 16,
     "metadata": {},
     "output_type": "execute_result"
    }
   ],
   "source": [
    "df_ecarbro.limit(5).toPandas()"
   ]
  },
  {
   "cell_type": "code",
   "execution_count": 17,
   "id": "3e0e5582-fba9-4932-a3f8-6796b236e98d",
   "metadata": {},
   "outputs": [
    {
     "name": "stderr",
     "output_type": "stream",
     "text": [
      "                                                                                \r"
     ]
    },
    {
     "name": "stdout",
     "output_type": "stream",
     "text": [
      "23/02/13 07:41:00 WARN package: Truncated the string representation of a plan since it was too large. This behavior can be adjusted by setting 'spark.sql.debug.maxToStringFields'.\n"
     ]
    },
    {
     "name": "stderr",
     "output_type": "stream",
     "text": [
      "                                                                                \r"
     ]
    },
    {
     "name": "stdout",
     "output_type": "stream",
     "text": [
      "--- 283.63865780830383 seconds ---\n"
     ]
    }
   ],
   "source": [
    "loadAndCheckpoint('ecar')"
   ]
  },
  {
   "cell_type": "code",
   "execution_count": 18,
   "id": "5cdbab49-aa87-43dc-a8bb-2c4137909923",
   "metadata": {},
   "outputs": [
    {
     "name": "stdout",
     "output_type": "stream",
     "text": [
      "--- 0.22626137733459473 seconds ---\n"
     ]
    }
   ],
   "source": [
    "df_ecar = readCheckpoint('ecar')"
   ]
  },
  {
   "cell_type": "code",
   "execution_count": 19,
   "id": "1dc73a86-49e0-46cf-924e-5a02e956a685",
   "metadata": {},
   "outputs": [
    {
     "name": "stdout",
     "output_type": "stream",
     "text": [
      "root\n",
      " |-- action: string (nullable = true)\n",
      " |-- actorID: string (nullable = true)\n",
      " |-- hostname: string (nullable = true)\n",
      " |-- id: string (nullable = true)\n",
      " |-- object: string (nullable = true)\n",
      " |-- objectID: string (nullable = true)\n",
      " |-- pid: long (nullable = true)\n",
      " |-- ppid: long (nullable = true)\n",
      " |-- principal: string (nullable = true)\n",
      " |-- tid: long (nullable = true)\n",
      " |-- timestamp: string (nullable = true)\n",
      " |-- acuity_level: string (nullable = true)\n",
      " |-- base_address: string (nullable = true)\n",
      " |-- command_line: string (nullable = true)\n",
      " |-- context_info: string (nullable = true)\n",
      " |-- data: string (nullable = true)\n",
      " |-- dest_ip: string (nullable = true)\n",
      " |-- dest_port: string (nullable = true)\n",
      " |-- direction: string (nullable = true)\n",
      " |-- end_time: string (nullable = true)\n",
      " |-- file_path: string (nullable = true)\n",
      " |-- image_path: string (nullable = true)\n",
      " |-- info_class: string (nullable = true)\n",
      " |-- key: string (nullable = true)\n",
      " |-- l4protocol: string (nullable = true)\n",
      " |-- logon_id: string (nullable = true)\n",
      " |-- module_path: string (nullable = true)\n",
      " |-- new_path: string (nullable = true)\n",
      " |-- parent_image_path: string (nullable = true)\n",
      " |-- path: string (nullable = true)\n",
      " |-- payload: string (nullable = true)\n",
      " |-- privileges: string (nullable = true)\n",
      " |-- requesting_domain: string (nullable = true)\n",
      " |-- requesting_logon_id: string (nullable = true)\n",
      " |-- requesting_user: string (nullable = true)\n",
      " |-- sid: string (nullable = true)\n",
      " |-- size: string (nullable = true)\n",
      " |-- src_ip: string (nullable = true)\n",
      " |-- src_pid: string (nullable = true)\n",
      " |-- src_port: string (nullable = true)\n",
      " |-- src_tid: string (nullable = true)\n",
      " |-- stack_base: string (nullable = true)\n",
      " |-- stack_limit: string (nullable = true)\n",
      " |-- start_address: string (nullable = true)\n",
      " |-- start_time: string (nullable = true)\n",
      " |-- subprocess_tag: string (nullable = true)\n",
      " |-- task_name: string (nullable = true)\n",
      " |-- task_pid: string (nullable = true)\n",
      " |-- task_process_uuid: string (nullable = true)\n",
      " |-- tgt_pid: string (nullable = true)\n",
      " |-- tgt_pid_uuid: string (nullable = true)\n",
      " |-- tgt_tid: string (nullable = true)\n",
      " |-- type: string (nullable = true)\n",
      " |-- user: string (nullable = true)\n",
      " |-- user_name: string (nullable = true)\n",
      " |-- user_stack_base: string (nullable = true)\n",
      " |-- user_stack_limit: string (nullable = true)\n",
      " |-- value: string (nullable = true)\n",
      "\n"
     ]
    }
   ],
   "source": [
    "df_ecar.printSchema()"
   ]
  },
  {
   "cell_type": "code",
   "execution_count": 20,
   "id": "28bd13e6-ccea-4a93-89b0-1772256378b9",
   "metadata": {},
   "outputs": [
    {
     "data": {
      "text/html": [
       "<div>\n",
       "<style scoped>\n",
       "    .dataframe tbody tr th:only-of-type {\n",
       "        vertical-align: middle;\n",
       "    }\n",
       "\n",
       "    .dataframe tbody tr th {\n",
       "        vertical-align: top;\n",
       "    }\n",
       "\n",
       "    .dataframe thead th {\n",
       "        text-align: right;\n",
       "    }\n",
       "</style>\n",
       "<table border=\"1\" class=\"dataframe\">\n",
       "  <thead>\n",
       "    <tr style=\"text-align: right;\">\n",
       "      <th></th>\n",
       "      <th>action</th>\n",
       "      <th>actorID</th>\n",
       "      <th>hostname</th>\n",
       "      <th>id</th>\n",
       "      <th>object</th>\n",
       "      <th>objectID</th>\n",
       "      <th>pid</th>\n",
       "      <th>ppid</th>\n",
       "      <th>principal</th>\n",
       "      <th>tid</th>\n",
       "      <th>...</th>\n",
       "      <th>task_process_uuid</th>\n",
       "      <th>tgt_pid</th>\n",
       "      <th>tgt_pid_uuid</th>\n",
       "      <th>tgt_tid</th>\n",
       "      <th>type</th>\n",
       "      <th>user</th>\n",
       "      <th>user_name</th>\n",
       "      <th>user_stack_base</th>\n",
       "      <th>user_stack_limit</th>\n",
       "      <th>value</th>\n",
       "    </tr>\n",
       "  </thead>\n",
       "  <tbody>\n",
       "    <tr>\n",
       "      <th>0</th>\n",
       "      <td>CREATE</td>\n",
       "      <td>89f91b70-9613-4e70-9473-23bb029e3889</td>\n",
       "      <td>SysClient0004.systemia.com</td>\n",
       "      <td>97e0d110-cc53-4baf-a293-4646e6d967a9</td>\n",
       "      <td>THREAD</td>\n",
       "      <td>9e902e20-df97-4120-8ed5-01b61980bab8</td>\n",
       "      <td>312</td>\n",
       "      <td>-1</td>\n",
       "      <td></td>\n",
       "      <td>4548</td>\n",
       "      <td>...</td>\n",
       "      <td>None</td>\n",
       "      <td>312</td>\n",
       "      <td>None</td>\n",
       "      <td>3332</td>\n",
       "      <td>None</td>\n",
       "      <td>None</td>\n",
       "      <td>None</td>\n",
       "      <td>3631f00000</td>\n",
       "      <td>3631ef8000</td>\n",
       "      <td>None</td>\n",
       "    </tr>\n",
       "    <tr>\n",
       "      <th>1</th>\n",
       "      <td>CREATE</td>\n",
       "      <td>89f91b70-9613-4e70-9473-23bb029e3889</td>\n",
       "      <td>SysClient0004.systemia.com</td>\n",
       "      <td>9adb7fc5-73f3-4567-8f6b-adbbc4a9ba3d</td>\n",
       "      <td>THREAD</td>\n",
       "      <td>bafe59cd-d8af-4be1-96b1-e7c727c1aec8</td>\n",
       "      <td>312</td>\n",
       "      <td>-1</td>\n",
       "      <td></td>\n",
       "      <td>4548</td>\n",
       "      <td>...</td>\n",
       "      <td>None</td>\n",
       "      <td>312</td>\n",
       "      <td>None</td>\n",
       "      <td>3188</td>\n",
       "      <td>None</td>\n",
       "      <td>None</td>\n",
       "      <td>None</td>\n",
       "      <td>3632000000</td>\n",
       "      <td>3631ff8000</td>\n",
       "      <td>None</td>\n",
       "    </tr>\n",
       "    <tr>\n",
       "      <th>2</th>\n",
       "      <td>CREATE</td>\n",
       "      <td>89f91b70-9613-4e70-9473-23bb029e3889</td>\n",
       "      <td>SysClient0004.systemia.com</td>\n",
       "      <td>4fc209b1-c5e4-49a2-94ec-d2310f211a02</td>\n",
       "      <td>THREAD</td>\n",
       "      <td>99e6ee71-6469-421e-b0c4-198a8e508488</td>\n",
       "      <td>312</td>\n",
       "      <td>-1</td>\n",
       "      <td></td>\n",
       "      <td>1640</td>\n",
       "      <td>...</td>\n",
       "      <td>None</td>\n",
       "      <td>312</td>\n",
       "      <td>None</td>\n",
       "      <td>2140</td>\n",
       "      <td>None</td>\n",
       "      <td>None</td>\n",
       "      <td>None</td>\n",
       "      <td>3632100000</td>\n",
       "      <td>36320f8000</td>\n",
       "      <td>None</td>\n",
       "    </tr>\n",
       "    <tr>\n",
       "      <th>3</th>\n",
       "      <td>REMOTE_CREATE</td>\n",
       "      <td>ff8a4d62-eb4a-4cfc-aea2-1870d4dba3f1</td>\n",
       "      <td>SysClient0004.systemia.com</td>\n",
       "      <td>a7624d42-57d8-4c31-bc71-191f8be09a49</td>\n",
       "      <td>THREAD</td>\n",
       "      <td>2d085a9f-c563-4fad-b86c-b035ba199f0b</td>\n",
       "      <td>1880</td>\n",
       "      <td>-1</td>\n",
       "      <td></td>\n",
       "      <td>2776</td>\n",
       "      <td>...</td>\n",
       "      <td>None</td>\n",
       "      <td>4</td>\n",
       "      <td>aa240ddc-17cd-4f29-bb39-e40a51f088b2</td>\n",
       "      <td>3676</td>\n",
       "      <td>None</td>\n",
       "      <td>None</td>\n",
       "      <td>None</td>\n",
       "      <td>0</td>\n",
       "      <td>0</td>\n",
       "      <td>None</td>\n",
       "    </tr>\n",
       "    <tr>\n",
       "      <th>4</th>\n",
       "      <td>CREATE</td>\n",
       "      <td>88984aa1-d004-41d9-a498-8e9eab111f62</td>\n",
       "      <td>SysClient0022.systemia.com</td>\n",
       "      <td>77bb2643-59a8-45e0-ad50-b198a4d8e5f0</td>\n",
       "      <td>THREAD</td>\n",
       "      <td>0ef70c6e-6aa3-4d5c-b74a-e902b630b25d</td>\n",
       "      <td>364</td>\n",
       "      <td>-1</td>\n",
       "      <td></td>\n",
       "      <td>2612</td>\n",
       "      <td>...</td>\n",
       "      <td>None</td>\n",
       "      <td>364</td>\n",
       "      <td>None</td>\n",
       "      <td>4352</td>\n",
       "      <td>None</td>\n",
       "      <td>None</td>\n",
       "      <td>None</td>\n",
       "      <td>6b08500000</td>\n",
       "      <td>6b084f8000</td>\n",
       "      <td>None</td>\n",
       "    </tr>\n",
       "  </tbody>\n",
       "</table>\n",
       "<p>5 rows × 58 columns</p>\n",
       "</div>"
      ],
      "text/plain": [
       "          action                               actorID  \\\n",
       "0         CREATE  89f91b70-9613-4e70-9473-23bb029e3889   \n",
       "1         CREATE  89f91b70-9613-4e70-9473-23bb029e3889   \n",
       "2         CREATE  89f91b70-9613-4e70-9473-23bb029e3889   \n",
       "3  REMOTE_CREATE  ff8a4d62-eb4a-4cfc-aea2-1870d4dba3f1   \n",
       "4         CREATE  88984aa1-d004-41d9-a498-8e9eab111f62   \n",
       "\n",
       "                     hostname                                    id  object  \\\n",
       "0  SysClient0004.systemia.com  97e0d110-cc53-4baf-a293-4646e6d967a9  THREAD   \n",
       "1  SysClient0004.systemia.com  9adb7fc5-73f3-4567-8f6b-adbbc4a9ba3d  THREAD   \n",
       "2  SysClient0004.systemia.com  4fc209b1-c5e4-49a2-94ec-d2310f211a02  THREAD   \n",
       "3  SysClient0004.systemia.com  a7624d42-57d8-4c31-bc71-191f8be09a49  THREAD   \n",
       "4  SysClient0022.systemia.com  77bb2643-59a8-45e0-ad50-b198a4d8e5f0  THREAD   \n",
       "\n",
       "                               objectID   pid  ppid principal   tid  ...  \\\n",
       "0  9e902e20-df97-4120-8ed5-01b61980bab8   312    -1            4548  ...   \n",
       "1  bafe59cd-d8af-4be1-96b1-e7c727c1aec8   312    -1            4548  ...   \n",
       "2  99e6ee71-6469-421e-b0c4-198a8e508488   312    -1            1640  ...   \n",
       "3  2d085a9f-c563-4fad-b86c-b035ba199f0b  1880    -1            2776  ...   \n",
       "4  0ef70c6e-6aa3-4d5c-b74a-e902b630b25d   364    -1            2612  ...   \n",
       "\n",
       "  task_process_uuid tgt_pid                          tgt_pid_uuid tgt_tid  \\\n",
       "0              None     312                                  None    3332   \n",
       "1              None     312                                  None    3188   \n",
       "2              None     312                                  None    2140   \n",
       "3              None       4  aa240ddc-17cd-4f29-bb39-e40a51f088b2    3676   \n",
       "4              None     364                                  None    4352   \n",
       "\n",
       "   type  user user_name user_stack_base user_stack_limit value  \n",
       "0  None  None      None      3631f00000       3631ef8000  None  \n",
       "1  None  None      None      3632000000       3631ff8000  None  \n",
       "2  None  None      None      3632100000       36320f8000  None  \n",
       "3  None  None      None               0                0  None  \n",
       "4  None  None      None      6b08500000       6b084f8000  None  \n",
       "\n",
       "[5 rows x 58 columns]"
      ]
     },
     "execution_count": 20,
     "metadata": {},
     "output_type": "execute_result"
    }
   ],
   "source": [
    "df_ecar.limit(5).toPandas()"
   ]
  },
  {
   "cell_type": "code",
   "execution_count": null,
   "id": "7e7db4b7-1a55-4945-bf40-eb74d46e2c9b",
   "metadata": {},
   "outputs": [],
   "source": []
  },
  {
   "cell_type": "code",
   "execution_count": 23,
   "id": "3bec6ff7-a944-4eb4-a1b7-50483a891419",
   "metadata": {},
   "outputs": [],
   "source": [
    "df_ecarbro = df_ecarbro.join(df_bro, df_ecarbro[\"bro_uid\"] ==  df_bro[\"uid\"], \"inner\").drop(col('uid'))"
   ]
  },
  {
   "cell_type": "code",
   "execution_count": 24,
   "id": "6a0bc3ab-21e1-4968-8f05-a34b7374544b",
   "metadata": {},
   "outputs": [
    {
     "data": {
      "text/plain": [
       "DataFrame[action: string, actorID: string, hostname: string, id: string, object: string, objectID: string, pid: bigint, ppid: bigint, principal: string, tid: bigint, timestamp: string, acuity_level: string, bro_uid: string, dest_ip: string, dest_port: string, direction: string, image_path: string, l4protocol: string, src_ip: string, src_port: string, ts: string, id.orig_h: string, id.orig_p: string, id.resp_: string, id.resp_p: string, proto: string, service: string, duration: string, orig_bytes: string, resp_bytes: string, conn_state: string, local_orig: string, local_resp: string, missed_bytes: string, history: string, orig_pkts: string, orig_ip_bytes: string, resp_pkts: string, resp_ip_bytes: string, tunnel_parents: string]"
      ]
     },
     "execution_count": 24,
     "metadata": {},
     "output_type": "execute_result"
    }
   ],
   "source": [
    "df_ecarbro"
   ]
  },
  {
   "cell_type": "code",
   "execution_count": 26,
   "id": "273e51a0-3bdc-45ce-9df3-8d0739587d1e",
   "metadata": {},
   "outputs": [
    {
     "name": "stdout",
     "output_type": "stream",
     "text": [
      "+-------+\n",
      "|bro_uid|\n",
      "+-------+\n",
      "+-------+\n",
      "\n"
     ]
    }
   ],
   "source": [
    "df_ecarbro.select('bro_uid').show(2)"
   ]
  },
  {
   "cell_type": "code",
   "execution_count": null,
   "id": "7a00a6fa-a785-4227-bb9d-d07ae2e66233",
   "metadata": {},
   "outputs": [],
   "source": []
  }
 ],
 "metadata": {
  "kernelspec": {
   "display_name": "conda_python3",
   "language": "python",
   "name": "conda_python3"
  },
  "language_info": {
   "codemirror_mode": {
    "name": "ipython",
    "version": 3
   },
   "file_extension": ".py",
   "mimetype": "text/x-python",
   "name": "python",
   "nbconvert_exporter": "python",
   "pygments_lexer": "ipython3",
   "version": "3.10.6"
  }
 },
 "nbformat": 4,
 "nbformat_minor": 5
}
