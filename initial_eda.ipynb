{
 "cells": [
  {
   "cell_type": "markdown",
   "id": "4bf5c4bf-fb79-4859-9252-8bce5d1a274a",
   "metadata": {},
   "source": [
    "## Import Functions and Spark Config"
   ]
  },
  {
   "cell_type": "code",
   "execution_count": 1,
   "id": "85fe9d04-685f-4b42-af4f-103f5fb7698e",
   "metadata": {
    "tags": []
   },
   "outputs": [
    {
     "name": "stderr",
     "output_type": "stream",
     "text": [
      "Warning: Ignoring non-Spark config property: fs.s3a.access.key\n",
      "Warning: Ignoring non-Spark config property: fs.s3a.secret.key\n"
     ]
    },
    {
     "name": "stdout",
     "output_type": "stream",
     "text": [
      ":: loading settings :: url = jar:file:/home/ec2-user/anaconda3/envs/python3/lib/python3.10/site-packages/pyspark/jars/ivy-2.5.0.jar!/org/apache/ivy/core/settings/ivysettings.xml\n"
     ]
    },
    {
     "name": "stderr",
     "output_type": "stream",
     "text": [
      "Ivy Default Cache set to: /home/ec2-user/.ivy2/cache\n",
      "The jars for the packages stored in: /home/ec2-user/.ivy2/jars\n",
      "graphframes#graphframes added as a dependency\n",
      ":: resolving dependencies :: org.apache.spark#spark-submit-parent-fe1f13bc-b63d-4a9f-aea7-14716fc04a49;1.0\n",
      "\tconfs: [default]\n",
      "\tfound graphframes#graphframes;0.8.2-spark3.2-s_2.12 in spark-packages\n",
      "\tfound org.slf4j#slf4j-api;1.7.16 in central\n",
      "downloading https://repos.spark-packages.org/graphframes/graphframes/0.8.2-spark3.2-s_2.12/graphframes-0.8.2-spark3.2-s_2.12.jar ...\n",
      "\t[SUCCESSFUL ] graphframes#graphframes;0.8.2-spark3.2-s_2.12!graphframes.jar (47ms)\n",
      "downloading https://repo1.maven.org/maven2/org/slf4j/slf4j-api/1.7.16/slf4j-api-1.7.16.jar ...\n",
      "\t[SUCCESSFUL ] org.slf4j#slf4j-api;1.7.16!slf4j-api.jar (33ms)\n",
      ":: resolution report :: resolve 741ms :: artifacts dl 85ms\n",
      "\t:: modules in use:\n",
      "\tgraphframes#graphframes;0.8.2-spark3.2-s_2.12 from spark-packages in [default]\n",
      "\torg.slf4j#slf4j-api;1.7.16 from central in [default]\n",
      "\t---------------------------------------------------------------------\n",
      "\t|                  |            modules            ||   artifacts   |\n",
      "\t|       conf       | number| search|dwnlded|evicted|| number|dwnlded|\n",
      "\t---------------------------------------------------------------------\n",
      "\t|      default     |   2   |   2   |   2   |   0   ||   2   |   2   |\n",
      "\t---------------------------------------------------------------------\n",
      ":: retrieving :: org.apache.spark#spark-submit-parent-fe1f13bc-b63d-4a9f-aea7-14716fc04a49\n",
      "\tconfs: [default]\n",
      "\t2 artifacts copied, 0 already retrieved (281kB/6ms)\n"
     ]
    },
    {
     "name": "stdout",
     "output_type": "stream",
     "text": [
      "23/03/07 14:57:37 WARN NativeCodeLoader: Unable to load native-hadoop library for your platform... using builtin-java classes where applicable\n"
     ]
    },
    {
     "name": "stderr",
     "output_type": "stream",
     "text": [
      "Setting default log level to \"WARN\".\n",
      "To adjust logging level use sc.setLogLevel(newLevel). For SparkR, use setLogLevel(newLevel).\n"
     ]
    },
    {
     "name": "stdout",
     "output_type": "stream",
     "text": [
      "23/03/07 14:57:38 WARN SparkConf: Note that spark.local.dir will be overridden by the value set by the cluster manager (via SPARK_LOCAL_DIRS in mesos/standalone/kubernetes and LOCAL_DIRS in YARN).\n"
     ]
    }
   ],
   "source": [
    "%run ./read_file.ipynb"
   ]
  },
  {
   "cell_type": "code",
   "execution_count": 2,
   "id": "092b18da-7e92-465c-9de8-18811a7f4302",
   "metadata": {
    "tags": []
   },
   "outputs": [
    {
     "name": "stdout",
     "output_type": "stream",
     "text": [
      "PySpark Version :3.3.0\n"
     ]
    }
   ],
   "source": [
    "print('PySpark Version :'+spark.version)"
   ]
  },
  {
   "cell_type": "code",
   "execution_count": 5,
   "id": "f088f038-767c-4778-8f24-8e4aa4155ddb",
   "metadata": {
    "tags": []
   },
   "outputs": [
    {
     "name": "stdout",
     "output_type": "stream",
     "text": [
      " 3:00PM UTC on Mar 07, 2023 --- read and cache time: 0.8267385959625244 seconds ---\n"
     ]
    }
   ],
   "source": [
    "df = readCheckpoint(size='medium')"
   ]
  },
  {
   "cell_type": "code",
   "execution_count": 6,
   "id": "8d9a1b20-e935-409e-a5ea-2b9f2dfe0a90",
   "metadata": {
    "tags": []
   },
   "outputs": [
    {
     "name": "stderr",
     "output_type": "stream",
     "text": [
      "/home/ec2-user/anaconda3/envs/python3/lib/python3.10/site-packages/pyspark/sql/pandas/conversion.py:248: FutureWarning: Passing unit-less datetime64 dtype to .astype is deprecated and will raise in a future version. Pass 'datetime64[ns]' instead\n",
      "  series = series.astype(t, copy=False)\n"
     ]
    },
    {
     "data": {
      "text/html": [
       "<div>\n",
       "<style scoped>\n",
       "    .dataframe tbody tr th:only-of-type {\n",
       "        vertical-align: middle;\n",
       "    }\n",
       "\n",
       "    .dataframe tbody tr th {\n",
       "        vertical-align: top;\n",
       "    }\n",
       "\n",
       "    .dataframe thead th {\n",
       "        text-align: right;\n",
       "    }\n",
       "</style>\n",
       "<table border=\"1\" class=\"dataframe\">\n",
       "  <thead>\n",
       "    <tr style=\"text-align: right;\">\n",
       "      <th></th>\n",
       "      <th>id</th>\n",
       "      <th>timestamp</th>\n",
       "      <th>objectID</th>\n",
       "      <th>actorID</th>\n",
       "      <th>object</th>\n",
       "      <th>action</th>\n",
       "      <th>hostname</th>\n",
       "      <th>user_name</th>\n",
       "      <th>event_minute</th>\n",
       "      <th>event_day</th>\n",
       "      <th>event_hour</th>\n",
       "    </tr>\n",
       "  </thead>\n",
       "  <tbody>\n",
       "    <tr>\n",
       "      <th>0</th>\n",
       "      <td>6deb415a-8b9a-4e71-b87f-f211a5429dea</td>\n",
       "      <td>2019-09-23 16:00:00.148</td>\n",
       "      <td>ece01c15-d27b-4995-9774-6eca17cf610c</td>\n",
       "      <td>2243a0c5-744a-4db8-8ccc-b17da6329c29</td>\n",
       "      <td>PROCESS</td>\n",
       "      <td>OPEN</td>\n",
       "      <td>SysClient0171.systemia.com</td>\n",
       "      <td>None</td>\n",
       "      <td>0</td>\n",
       "      <td>23</td>\n",
       "      <td>16</td>\n",
       "    </tr>\n",
       "    <tr>\n",
       "      <th>1</th>\n",
       "      <td>205b6acd-8d16-464c-a10f-8bb3090d185b</td>\n",
       "      <td>2019-09-23 16:00:00.118</td>\n",
       "      <td>1dc5145c-480d-4987-b943-35b85429dd8d</td>\n",
       "      <td>3c2b2502-2e63-4da5-9bfb-26e4ebde1427</td>\n",
       "      <td>FLOW</td>\n",
       "      <td>INFO</td>\n",
       "      <td>SysClient0115.systemia.com</td>\n",
       "      <td>None</td>\n",
       "      <td>0</td>\n",
       "      <td>23</td>\n",
       "      <td>16</td>\n",
       "    </tr>\n",
       "    <tr>\n",
       "      <th>2</th>\n",
       "      <td>7f1b20af-ecf1-41de-8b8a-e12b20b6aa16</td>\n",
       "      <td>2019-09-23 16:00:00.148</td>\n",
       "      <td>ece01c15-d27b-4995-9774-6eca17cf610c</td>\n",
       "      <td>2243a0c5-744a-4db8-8ccc-b17da6329c29</td>\n",
       "      <td>PROCESS</td>\n",
       "      <td>OPEN</td>\n",
       "      <td>SysClient0171.systemia.com</td>\n",
       "      <td>None</td>\n",
       "      <td>0</td>\n",
       "      <td>23</td>\n",
       "      <td>16</td>\n",
       "    </tr>\n",
       "    <tr>\n",
       "      <th>3</th>\n",
       "      <td>3567c018-e128-468b-82cd-6f6054d04ce0</td>\n",
       "      <td>2019-09-23 16:00:00.124</td>\n",
       "      <td>1534ff40-2ac0-4f9a-af9e-937e372eab46</td>\n",
       "      <td>3c2b2502-2e63-4da5-9bfb-26e4ebde1427</td>\n",
       "      <td>FLOW</td>\n",
       "      <td>INFO</td>\n",
       "      <td>SysClient0115.systemia.com</td>\n",
       "      <td>None</td>\n",
       "      <td>0</td>\n",
       "      <td>23</td>\n",
       "      <td>16</td>\n",
       "    </tr>\n",
       "    <tr>\n",
       "      <th>4</th>\n",
       "      <td>1dba1e26-d169-4f4d-aead-45059fc758a6</td>\n",
       "      <td>2019-09-23 16:00:00.151</td>\n",
       "      <td>3ca1712a-aee0-4360-8ae5-fbf7e86adfc6</td>\n",
       "      <td>ece01c15-d27b-4995-9774-6eca17cf610c</td>\n",
       "      <td>PROCESS</td>\n",
       "      <td>OPEN</td>\n",
       "      <td>SysClient0171.systemia.com</td>\n",
       "      <td>None</td>\n",
       "      <td>0</td>\n",
       "      <td>23</td>\n",
       "      <td>16</td>\n",
       "    </tr>\n",
       "  </tbody>\n",
       "</table>\n",
       "</div>"
      ],
      "text/plain": [
       "                                     id               timestamp  \\\n",
       "0  6deb415a-8b9a-4e71-b87f-f211a5429dea 2019-09-23 16:00:00.148   \n",
       "1  205b6acd-8d16-464c-a10f-8bb3090d185b 2019-09-23 16:00:00.118   \n",
       "2  7f1b20af-ecf1-41de-8b8a-e12b20b6aa16 2019-09-23 16:00:00.148   \n",
       "3  3567c018-e128-468b-82cd-6f6054d04ce0 2019-09-23 16:00:00.124   \n",
       "4  1dba1e26-d169-4f4d-aead-45059fc758a6 2019-09-23 16:00:00.151   \n",
       "\n",
       "                               objectID                               actorID  \\\n",
       "0  ece01c15-d27b-4995-9774-6eca17cf610c  2243a0c5-744a-4db8-8ccc-b17da6329c29   \n",
       "1  1dc5145c-480d-4987-b943-35b85429dd8d  3c2b2502-2e63-4da5-9bfb-26e4ebde1427   \n",
       "2  ece01c15-d27b-4995-9774-6eca17cf610c  2243a0c5-744a-4db8-8ccc-b17da6329c29   \n",
       "3  1534ff40-2ac0-4f9a-af9e-937e372eab46  3c2b2502-2e63-4da5-9bfb-26e4ebde1427   \n",
       "4  3ca1712a-aee0-4360-8ae5-fbf7e86adfc6  ece01c15-d27b-4995-9774-6eca17cf610c   \n",
       "\n",
       "    object action                    hostname user_name  event_minute  \\\n",
       "0  PROCESS   OPEN  SysClient0171.systemia.com      None             0   \n",
       "1     FLOW   INFO  SysClient0115.systemia.com      None             0   \n",
       "2  PROCESS   OPEN  SysClient0171.systemia.com      None             0   \n",
       "3     FLOW   INFO  SysClient0115.systemia.com      None             0   \n",
       "4  PROCESS   OPEN  SysClient0171.systemia.com      None             0   \n",
       "\n",
       "   event_day  event_hour  \n",
       "0         23          16  \n",
       "1         23          16  \n",
       "2         23          16  \n",
       "3         23          16  \n",
       "4         23          16  "
      ]
     },
     "execution_count": 6,
     "metadata": {},
     "output_type": "execute_result"
    }
   ],
   "source": [
    "df.limit(5).toPandas()"
   ]
  },
  {
   "cell_type": "code",
   "execution_count": null,
   "id": "c743a320-9ec5-4ab0-acf5-9be60fdedd05",
   "metadata": {},
   "outputs": [],
   "source": []
  },
  {
   "cell_type": "code",
   "execution_count": 3,
   "id": "7d218529-1a93-46e4-9f74-b388c9891572",
   "metadata": {
    "tags": []
   },
   "outputs": [
    {
     "name": "stderr",
     "output_type": "stream",
     "text": [
      "/home/ec2-user/anaconda3/envs/python3/lib/python3.10/site-packages/pyspark/sql/dataframe.py:148: UserWarning: DataFrame.sql_ctx is an internal property, and will be removed in future releases. Use DataFrame.sparkSession instead.\n",
      "  warnings.warn(\n",
      "/home/ec2-user/anaconda3/envs/python3/lib/python3.10/site-packages/pyspark/sql/dataframe.py:127: UserWarning: DataFrame constructor is internal. Do not directly use it.\n",
      "  warnings.warn(\"DataFrame constructor is internal. Do not directly use it.\")\n",
      "[Stage 0:>                                                        (0 + 96) / 96]\r"
     ]
    },
    {
     "name": "stdout",
     "output_type": "stream",
     "text": [
      "+---+--------+\n",
      "| id|inDegree|\n",
      "+---+--------+\n",
      "|  b|       2|\n",
      "|  c|       1|\n",
      "+---+--------+\n",
      "\n"
     ]
    },
    {
     "name": "stderr",
     "output_type": "stream",
     "text": [
      "                                                                                \r"
     ]
    }
   ],
   "source": [
    "# Create a Vertex DataFrame with unique ID column \"id\"\n",
    "v = spark.createDataFrame([\n",
    "  (\"a\", \"Alice\", 34),\n",
    "  (\"b\", \"Bob\", 36),\n",
    "  (\"c\", \"Charlie\", 30),\n",
    "], [\"id\", \"name\", \"age\"])\n",
    "# Create an Edge DataFrame with \"src\" and \"dst\" columns\n",
    "e = spark.createDataFrame([\n",
    "  (\"a\", \"b\", \"friend\"),\n",
    "  (\"b\", \"c\", \"follow\"),\n",
    "  (\"c\", \"b\", \"follow\"),\n",
    "], [\"src\", \"dst\", \"relationship\"])\n",
    "# Create a GraphFrame\n",
    "from graphframes import *\n",
    "g = GraphFrame(v, e)\n",
    "\n",
    "# Query: Get in-degree of each vertex.\n",
    "g.inDegrees.show()"
   ]
  },
  {
   "cell_type": "code",
   "execution_count": 4,
   "id": "75906b2e-b8fd-40be-a503-25cf920fdc4d",
   "metadata": {
    "tags": []
   },
   "outputs": [
    {
     "data": {
      "text/plain": [
       "2"
      ]
     },
     "execution_count": 4,
     "metadata": {},
     "output_type": "execute_result"
    }
   ],
   "source": [
    "# Query: Count the number of \"follow\" connections in the graph.\n",
    "g.edges.filter(\"relationship = 'follow'\").count()"
   ]
  },
  {
   "cell_type": "code",
   "execution_count": 5,
   "id": "8fd53cf9-956b-45f4-8eee-30fa94c924ed",
   "metadata": {
    "tags": []
   },
   "outputs": [
    {
     "name": "stdout",
     "output_type": "stream",
     "text": [
      "+---+------------------+\n",
      "| id|          pagerank|\n",
      "+---+------------------+\n",
      "|  c|1.8994109890559092|\n",
      "|  b|1.0905890109440908|\n",
      "|  a|              0.01|\n",
      "+---+------------------+\n",
      "\n"
     ]
    }
   ],
   "source": [
    "# Run PageRank algorithm, and show results.\n",
    "results = g.pageRank(resetProbability=0.01, maxIter=20)\n",
    "results.vertices.select(\"id\", \"pagerank\").show()"
   ]
  },
  {
   "cell_type": "code",
   "execution_count": 8,
   "id": "d50bbc1c-5f47-4d69-81ec-950b062679e4",
   "metadata": {
    "tags": []
   },
   "outputs": [],
   "source": [
    "s3_url_refined = \"s3a://sapient-bucket-refined/\"\n",
    "s3_read_loc = f\"{s3_url_refined}/prod/ecar\"\n",
    "df = spark.read.parquet(s3_read_loc)\\\n",
    "                    .filter((dayofmonth(col('timestamp')) == 23)) \\\n",
    "                    .cache()"
   ]
  },
  {
   "cell_type": "code",
   "execution_count": null,
   "id": "dfeaadba-d557-4d54-bea6-d670f0b5d120",
   "metadata": {
    "tags": []
   },
   "outputs": [
    {
     "name": "stderr",
     "output_type": "stream",
     "text": [
      "[Stage 864:===============================>                   (933 + 96) / 1499]\r"
     ]
    }
   ],
   "source": [
    "df.count()"
   ]
  },
  {
   "cell_type": "markdown",
   "id": "322f0acc-5281-4b73-a33b-67ac7c05b96a",
   "metadata": {},
   "source": [
    "## Set Environment"
   ]
  },
  {
   "cell_type": "code",
   "execution_count": 6,
   "id": "3660605e-699c-4b64-b7c4-2211454666a6",
   "metadata": {
    "tags": []
   },
   "outputs": [],
   "source": [
    "# env - dev / prod\n",
    "# size - small / medium / large / all\n",
    "# readCheckpoint automatically caches. use df.unpersist() to release from memory.\n",
    "env='prod'\n",
    "size='small'"
   ]
  },
  {
   "cell_type": "markdown",
   "id": "c8ecd4b8-755b-404f-8fd0-42b934bdef28",
   "metadata": {},
   "source": [
    "## Data Processing"
   ]
  },
  {
   "cell_type": "code",
   "execution_count": 7,
   "id": "5cdbab49-aa87-43dc-a8bb-2c4137909923",
   "metadata": {
    "tags": []
   },
   "outputs": [
    {
     "name": "stderr",
     "output_type": "stream",
     "text": [
      "[Stage 862:>                                                        (0 + 1) / 1]\r"
     ]
    },
    {
     "name": "stdout",
     "output_type": "stream",
     "text": [
      " 4:33AM UTC on Mar 06, 2023 --- read and cache time: 3.26792573928833 seconds ---\n"
     ]
    },
    {
     "name": "stderr",
     "output_type": "stream",
     "text": [
      "                                                                                \r"
     ]
    }
   ],
   "source": [
    "df_ecar = readCheckpoint('ecar', env, size).cache()"
   ]
  },
  {
   "cell_type": "code",
   "execution_count": 8,
   "id": "7e7db4b7-1a55-4945-bf40-eb74d46e2c9b",
   "metadata": {
    "tags": []
   },
   "outputs": [
    {
     "name": "stderr",
     "output_type": "stream",
     "text": [
      "/home/ec2-user/anaconda3/envs/python3/lib/python3.10/site-packages/pyspark/sql/pandas/conversion.py:248: FutureWarning: Passing unit-less datetime64 dtype to .astype is deprecated and will raise in a future version. Pass 'datetime64[ns]' instead\n",
      "  series = series.astype(t, copy=False)\n"
     ]
    },
    {
     "data": {
      "text/html": [
       "<div>\n",
       "<style scoped>\n",
       "    .dataframe tbody tr th:only-of-type {\n",
       "        vertical-align: middle;\n",
       "    }\n",
       "\n",
       "    .dataframe tbody tr th {\n",
       "        vertical-align: top;\n",
       "    }\n",
       "\n",
       "    .dataframe thead th {\n",
       "        text-align: right;\n",
       "    }\n",
       "</style>\n",
       "<table border=\"1\" class=\"dataframe\">\n",
       "  <thead>\n",
       "    <tr style=\"text-align: right;\">\n",
       "      <th></th>\n",
       "      <th>id</th>\n",
       "      <th>timestamp</th>\n",
       "      <th>objectID</th>\n",
       "      <th>actorID</th>\n",
       "      <th>object</th>\n",
       "      <th>action</th>\n",
       "      <th>hostname</th>\n",
       "    </tr>\n",
       "  </thead>\n",
       "  <tbody>\n",
       "    <tr>\n",
       "      <th>0</th>\n",
       "      <td>5c3a15bc-bdca-46e3-bada-498e5a478ee3</td>\n",
       "      <td>2019-09-23 15:02:07.532</td>\n",
       "      <td>2ae55613-0147-4d2c-b52b-0edf1491e44d</td>\n",
       "      <td>7c94aca1-79c5-4880-b865-e44ebb3c28c4</td>\n",
       "      <td>FLOW</td>\n",
       "      <td>INFO</td>\n",
       "      <td>SysClient0125.systemia.com</td>\n",
       "    </tr>\n",
       "    <tr>\n",
       "      <th>1</th>\n",
       "      <td>71a51854-7640-4122-87a9-b97dc34f5b23</td>\n",
       "      <td>2019-09-23 15:02:07.742</td>\n",
       "      <td>844557f7-57c1-426f-8f33-e674b374b2c3</td>\n",
       "      <td>7c94aca1-79c5-4880-b865-e44ebb3c28c4</td>\n",
       "      <td>FLOW</td>\n",
       "      <td>INFO</td>\n",
       "      <td>SysClient0125.systemia.com</td>\n",
       "    </tr>\n",
       "    <tr>\n",
       "      <th>2</th>\n",
       "      <td>04afacdd-f053-4d62-8c49-4ad9fff8c4ab</td>\n",
       "      <td>2019-09-23 15:02:07.809</td>\n",
       "      <td>fdf101f7-fded-4eae-bfba-80b719042f18</td>\n",
       "      <td>7c94aca1-79c5-4880-b865-e44ebb3c28c4</td>\n",
       "      <td>FLOW</td>\n",
       "      <td>INFO</td>\n",
       "      <td>SysClient0125.systemia.com</td>\n",
       "    </tr>\n",
       "    <tr>\n",
       "      <th>3</th>\n",
       "      <td>5313313e-e19a-4f71-aaf6-3b8c57f4f61d</td>\n",
       "      <td>2019-09-23 15:02:07.853</td>\n",
       "      <td>f41f1bde-bedf-4891-82aa-e48b6aa0d87b</td>\n",
       "      <td>7c94aca1-79c5-4880-b865-e44ebb3c28c4</td>\n",
       "      <td>FLOW</td>\n",
       "      <td>INFO</td>\n",
       "      <td>SysClient0125.systemia.com</td>\n",
       "    </tr>\n",
       "    <tr>\n",
       "      <th>4</th>\n",
       "      <td>4846ee65-6990-4c35-b1d8-55da9587cc6f</td>\n",
       "      <td>2019-09-23 15:02:07.853</td>\n",
       "      <td>902a6d9e-85c3-47dc-98bb-4aedae291e72</td>\n",
       "      <td>7c94aca1-79c5-4880-b865-e44ebb3c28c4</td>\n",
       "      <td>FLOW</td>\n",
       "      <td>INFO</td>\n",
       "      <td>SysClient0125.systemia.com</td>\n",
       "    </tr>\n",
       "    <tr>\n",
       "      <th>5</th>\n",
       "      <td>dd42effc-a40a-4f77-b939-488337ca4c28</td>\n",
       "      <td>2019-09-23 15:02:07.854</td>\n",
       "      <td>6abaf4fa-ffbc-4fd6-9e18-11f4c016615f</td>\n",
       "      <td>7c94aca1-79c5-4880-b865-e44ebb3c28c4</td>\n",
       "      <td>FLOW</td>\n",
       "      <td>INFO</td>\n",
       "      <td>SysClient0125.systemia.com</td>\n",
       "    </tr>\n",
       "    <tr>\n",
       "      <th>6</th>\n",
       "      <td>420b7bd8-722b-42d7-9f6d-5b9c607eed45</td>\n",
       "      <td>2019-09-23 15:02:07.855</td>\n",
       "      <td>099a3e5c-afa4-4cc3-8115-573453fb6d36</td>\n",
       "      <td>7c94aca1-79c5-4880-b865-e44ebb3c28c4</td>\n",
       "      <td>FLOW</td>\n",
       "      <td>INFO</td>\n",
       "      <td>SysClient0125.systemia.com</td>\n",
       "    </tr>\n",
       "    <tr>\n",
       "      <th>7</th>\n",
       "      <td>1b5effb5-119a-4085-9b76-b1da5272e90a</td>\n",
       "      <td>2019-09-23 15:02:07.855</td>\n",
       "      <td>10f26cda-1067-4f67-9fbb-e6cb03870eb1</td>\n",
       "      <td>7c94aca1-79c5-4880-b865-e44ebb3c28c4</td>\n",
       "      <td>FLOW</td>\n",
       "      <td>INFO</td>\n",
       "      <td>SysClient0125.systemia.com</td>\n",
       "    </tr>\n",
       "    <tr>\n",
       "      <th>8</th>\n",
       "      <td>c98b7f25-c4d3-40eb-8135-bb73394c119f</td>\n",
       "      <td>2019-09-23 15:02:07.857</td>\n",
       "      <td>dfe5a399-ddce-4c22-9f1b-242a9a45b57a</td>\n",
       "      <td>7c94aca1-79c5-4880-b865-e44ebb3c28c4</td>\n",
       "      <td>FLOW</td>\n",
       "      <td>INFO</td>\n",
       "      <td>SysClient0125.systemia.com</td>\n",
       "    </tr>\n",
       "    <tr>\n",
       "      <th>9</th>\n",
       "      <td>dfc39da1-a20f-4163-8bec-5bd84ead0180</td>\n",
       "      <td>2019-09-23 15:02:07.866</td>\n",
       "      <td>59aa38e2-1dfb-4f09-9fcb-a66828ca65c5</td>\n",
       "      <td>7c94aca1-79c5-4880-b865-e44ebb3c28c4</td>\n",
       "      <td>FLOW</td>\n",
       "      <td>INFO</td>\n",
       "      <td>SysClient0125.systemia.com</td>\n",
       "    </tr>\n",
       "    <tr>\n",
       "      <th>10</th>\n",
       "      <td>5160eaa5-fa77-462c-a05f-c7522f5146a3</td>\n",
       "      <td>2019-09-23 15:02:07.869</td>\n",
       "      <td>fb6112fc-997c-4ac7-b113-935895b060c2</td>\n",
       "      <td>7c94aca1-79c5-4880-b865-e44ebb3c28c4</td>\n",
       "      <td>FLOW</td>\n",
       "      <td>INFO</td>\n",
       "      <td>SysClient0125.systemia.com</td>\n",
       "    </tr>\n",
       "    <tr>\n",
       "      <th>11</th>\n",
       "      <td>5a4f89d8-b22b-4075-965b-a2e9c5de557a</td>\n",
       "      <td>2019-09-23 15:02:07.870</td>\n",
       "      <td>2e367ed9-46f9-401f-8c94-d1e28b06dccc</td>\n",
       "      <td>7c94aca1-79c5-4880-b865-e44ebb3c28c4</td>\n",
       "      <td>FLOW</td>\n",
       "      <td>INFO</td>\n",
       "      <td>SysClient0125.systemia.com</td>\n",
       "    </tr>\n",
       "    <tr>\n",
       "      <th>12</th>\n",
       "      <td>b156cbfa-f4f1-4ab3-ade3-9207506bad7d</td>\n",
       "      <td>2019-09-23 15:02:08.168</td>\n",
       "      <td>0df5cad7-ae79-4351-abba-d28ba7b7fd24</td>\n",
       "      <td>7c94aca1-79c5-4880-b865-e44ebb3c28c4</td>\n",
       "      <td>FLOW</td>\n",
       "      <td>INFO</td>\n",
       "      <td>SysClient0125.systemia.com</td>\n",
       "    </tr>\n",
       "    <tr>\n",
       "      <th>13</th>\n",
       "      <td>916f3233-fea9-4f88-9ccd-9db5b4f61a7d</td>\n",
       "      <td>2019-09-23 15:02:08.190</td>\n",
       "      <td>8207c427-ec45-4ee2-a8a6-a21105eb6723</td>\n",
       "      <td>7c94aca1-79c5-4880-b865-e44ebb3c28c4</td>\n",
       "      <td>FLOW</td>\n",
       "      <td>INFO</td>\n",
       "      <td>SysClient0125.systemia.com</td>\n",
       "    </tr>\n",
       "    <tr>\n",
       "      <th>14</th>\n",
       "      <td>9bcd7837-f1ea-48f6-a14e-4e25df8a38bb</td>\n",
       "      <td>2019-09-23 15:02:08.191</td>\n",
       "      <td>3998cc1f-d9c7-4d3d-8aad-74fe28a3c29c</td>\n",
       "      <td>7c94aca1-79c5-4880-b865-e44ebb3c28c4</td>\n",
       "      <td>FLOW</td>\n",
       "      <td>INFO</td>\n",
       "      <td>SysClient0125.systemia.com</td>\n",
       "    </tr>\n",
       "    <tr>\n",
       "      <th>15</th>\n",
       "      <td>8b9754b2-b5f9-4009-bd11-fee8be54abec</td>\n",
       "      <td>2019-09-23 15:02:08.214</td>\n",
       "      <td>63adb05f-25cd-481f-ac2a-89dfff15c2cd</td>\n",
       "      <td>7c94aca1-79c5-4880-b865-e44ebb3c28c4</td>\n",
       "      <td>FLOW</td>\n",
       "      <td>INFO</td>\n",
       "      <td>SysClient0125.systemia.com</td>\n",
       "    </tr>\n",
       "    <tr>\n",
       "      <th>16</th>\n",
       "      <td>40858d33-2683-46d4-bb97-a4e5c6f387b1</td>\n",
       "      <td>2019-09-23 15:02:08.233</td>\n",
       "      <td>52bfdb1c-bcd8-45c5-9ee1-52a076672445</td>\n",
       "      <td>7c94aca1-79c5-4880-b865-e44ebb3c28c4</td>\n",
       "      <td>FLOW</td>\n",
       "      <td>INFO</td>\n",
       "      <td>SysClient0125.systemia.com</td>\n",
       "    </tr>\n",
       "    <tr>\n",
       "      <th>17</th>\n",
       "      <td>0608e6fa-bb0e-4ce9-9298-5b53d6f50037</td>\n",
       "      <td>2019-09-23 15:02:08.315</td>\n",
       "      <td>5b790f23-2d16-4564-b1b7-890df810b5c6</td>\n",
       "      <td>7c94aca1-79c5-4880-b865-e44ebb3c28c4</td>\n",
       "      <td>FLOW</td>\n",
       "      <td>INFO</td>\n",
       "      <td>SysClient0125.systemia.com</td>\n",
       "    </tr>\n",
       "    <tr>\n",
       "      <th>18</th>\n",
       "      <td>36a46306-d65b-47b1-8520-8c64da79a8df</td>\n",
       "      <td>2019-09-23 15:02:08.324</td>\n",
       "      <td>0fe1a175-8825-475f-aeda-8e38a8ec2ee8</td>\n",
       "      <td>7c94aca1-79c5-4880-b865-e44ebb3c28c4</td>\n",
       "      <td>FLOW</td>\n",
       "      <td>INFO</td>\n",
       "      <td>SysClient0125.systemia.com</td>\n",
       "    </tr>\n",
       "    <tr>\n",
       "      <th>19</th>\n",
       "      <td>e112224d-3c5e-4ddc-9fd2-295111fbee85</td>\n",
       "      <td>2019-09-23 15:02:08.337</td>\n",
       "      <td>efa6147f-589b-4990-a59a-d91a92144c60</td>\n",
       "      <td>7c94aca1-79c5-4880-b865-e44ebb3c28c4</td>\n",
       "      <td>FLOW</td>\n",
       "      <td>INFO</td>\n",
       "      <td>SysClient0125.systemia.com</td>\n",
       "    </tr>\n",
       "    <tr>\n",
       "      <th>20</th>\n",
       "      <td>2169c1e4-1717-4d95-9f07-ed67c6a91ad1</td>\n",
       "      <td>2019-09-23 15:02:08.365</td>\n",
       "      <td>a1ee8a35-1711-49fe-a4a9-7b186228eba0</td>\n",
       "      <td>7c94aca1-79c5-4880-b865-e44ebb3c28c4</td>\n",
       "      <td>FLOW</td>\n",
       "      <td>INFO</td>\n",
       "      <td>SysClient0125.systemia.com</td>\n",
       "    </tr>\n",
       "    <tr>\n",
       "      <th>21</th>\n",
       "      <td>e1f2cbdc-75a6-41a5-a31c-e7036026dcc5</td>\n",
       "      <td>2019-09-23 15:02:08.380</td>\n",
       "      <td>94a6de77-0d9c-4dea-9db5-683be42dd23c</td>\n",
       "      <td>7c94aca1-79c5-4880-b865-e44ebb3c28c4</td>\n",
       "      <td>FLOW</td>\n",
       "      <td>INFO</td>\n",
       "      <td>SysClient0125.systemia.com</td>\n",
       "    </tr>\n",
       "    <tr>\n",
       "      <th>22</th>\n",
       "      <td>590c80ab-1e65-4a27-9193-4559569eb85a</td>\n",
       "      <td>2019-09-23 15:02:08.412</td>\n",
       "      <td>51727952-5af2-4a98-838a-9965c722ad83</td>\n",
       "      <td>7c94aca1-79c5-4880-b865-e44ebb3c28c4</td>\n",
       "      <td>FLOW</td>\n",
       "      <td>INFO</td>\n",
       "      <td>SysClient0125.systemia.com</td>\n",
       "    </tr>\n",
       "    <tr>\n",
       "      <th>23</th>\n",
       "      <td>e9515607-5b00-4cc5-bebb-e747517360b4</td>\n",
       "      <td>2019-09-23 15:02:08.412</td>\n",
       "      <td>40a7e7d4-acf8-44a1-8d29-035b44e36f22</td>\n",
       "      <td>7c94aca1-79c5-4880-b865-e44ebb3c28c4</td>\n",
       "      <td>FLOW</td>\n",
       "      <td>INFO</td>\n",
       "      <td>SysClient0125.systemia.com</td>\n",
       "    </tr>\n",
       "    <tr>\n",
       "      <th>24</th>\n",
       "      <td>77256a4f-58d1-4f8d-8173-18ce2983546e</td>\n",
       "      <td>2019-09-23 15:02:08.413</td>\n",
       "      <td>7f3020e6-ab9b-41b2-a4f2-181346210dfa</td>\n",
       "      <td>7c94aca1-79c5-4880-b865-e44ebb3c28c4</td>\n",
       "      <td>FLOW</td>\n",
       "      <td>INFO</td>\n",
       "      <td>SysClient0125.systemia.com</td>\n",
       "    </tr>\n",
       "  </tbody>\n",
       "</table>\n",
       "</div>"
      ],
      "text/plain": [
       "                                      id               timestamp  \\\n",
       "0   5c3a15bc-bdca-46e3-bada-498e5a478ee3 2019-09-23 15:02:07.532   \n",
       "1   71a51854-7640-4122-87a9-b97dc34f5b23 2019-09-23 15:02:07.742   \n",
       "2   04afacdd-f053-4d62-8c49-4ad9fff8c4ab 2019-09-23 15:02:07.809   \n",
       "3   5313313e-e19a-4f71-aaf6-3b8c57f4f61d 2019-09-23 15:02:07.853   \n",
       "4   4846ee65-6990-4c35-b1d8-55da9587cc6f 2019-09-23 15:02:07.853   \n",
       "5   dd42effc-a40a-4f77-b939-488337ca4c28 2019-09-23 15:02:07.854   \n",
       "6   420b7bd8-722b-42d7-9f6d-5b9c607eed45 2019-09-23 15:02:07.855   \n",
       "7   1b5effb5-119a-4085-9b76-b1da5272e90a 2019-09-23 15:02:07.855   \n",
       "8   c98b7f25-c4d3-40eb-8135-bb73394c119f 2019-09-23 15:02:07.857   \n",
       "9   dfc39da1-a20f-4163-8bec-5bd84ead0180 2019-09-23 15:02:07.866   \n",
       "10  5160eaa5-fa77-462c-a05f-c7522f5146a3 2019-09-23 15:02:07.869   \n",
       "11  5a4f89d8-b22b-4075-965b-a2e9c5de557a 2019-09-23 15:02:07.870   \n",
       "12  b156cbfa-f4f1-4ab3-ade3-9207506bad7d 2019-09-23 15:02:08.168   \n",
       "13  916f3233-fea9-4f88-9ccd-9db5b4f61a7d 2019-09-23 15:02:08.190   \n",
       "14  9bcd7837-f1ea-48f6-a14e-4e25df8a38bb 2019-09-23 15:02:08.191   \n",
       "15  8b9754b2-b5f9-4009-bd11-fee8be54abec 2019-09-23 15:02:08.214   \n",
       "16  40858d33-2683-46d4-bb97-a4e5c6f387b1 2019-09-23 15:02:08.233   \n",
       "17  0608e6fa-bb0e-4ce9-9298-5b53d6f50037 2019-09-23 15:02:08.315   \n",
       "18  36a46306-d65b-47b1-8520-8c64da79a8df 2019-09-23 15:02:08.324   \n",
       "19  e112224d-3c5e-4ddc-9fd2-295111fbee85 2019-09-23 15:02:08.337   \n",
       "20  2169c1e4-1717-4d95-9f07-ed67c6a91ad1 2019-09-23 15:02:08.365   \n",
       "21  e1f2cbdc-75a6-41a5-a31c-e7036026dcc5 2019-09-23 15:02:08.380   \n",
       "22  590c80ab-1e65-4a27-9193-4559569eb85a 2019-09-23 15:02:08.412   \n",
       "23  e9515607-5b00-4cc5-bebb-e747517360b4 2019-09-23 15:02:08.412   \n",
       "24  77256a4f-58d1-4f8d-8173-18ce2983546e 2019-09-23 15:02:08.413   \n",
       "\n",
       "                                objectID  \\\n",
       "0   2ae55613-0147-4d2c-b52b-0edf1491e44d   \n",
       "1   844557f7-57c1-426f-8f33-e674b374b2c3   \n",
       "2   fdf101f7-fded-4eae-bfba-80b719042f18   \n",
       "3   f41f1bde-bedf-4891-82aa-e48b6aa0d87b   \n",
       "4   902a6d9e-85c3-47dc-98bb-4aedae291e72   \n",
       "5   6abaf4fa-ffbc-4fd6-9e18-11f4c016615f   \n",
       "6   099a3e5c-afa4-4cc3-8115-573453fb6d36   \n",
       "7   10f26cda-1067-4f67-9fbb-e6cb03870eb1   \n",
       "8   dfe5a399-ddce-4c22-9f1b-242a9a45b57a   \n",
       "9   59aa38e2-1dfb-4f09-9fcb-a66828ca65c5   \n",
       "10  fb6112fc-997c-4ac7-b113-935895b060c2   \n",
       "11  2e367ed9-46f9-401f-8c94-d1e28b06dccc   \n",
       "12  0df5cad7-ae79-4351-abba-d28ba7b7fd24   \n",
       "13  8207c427-ec45-4ee2-a8a6-a21105eb6723   \n",
       "14  3998cc1f-d9c7-4d3d-8aad-74fe28a3c29c   \n",
       "15  63adb05f-25cd-481f-ac2a-89dfff15c2cd   \n",
       "16  52bfdb1c-bcd8-45c5-9ee1-52a076672445   \n",
       "17  5b790f23-2d16-4564-b1b7-890df810b5c6   \n",
       "18  0fe1a175-8825-475f-aeda-8e38a8ec2ee8   \n",
       "19  efa6147f-589b-4990-a59a-d91a92144c60   \n",
       "20  a1ee8a35-1711-49fe-a4a9-7b186228eba0   \n",
       "21  94a6de77-0d9c-4dea-9db5-683be42dd23c   \n",
       "22  51727952-5af2-4a98-838a-9965c722ad83   \n",
       "23  40a7e7d4-acf8-44a1-8d29-035b44e36f22   \n",
       "24  7f3020e6-ab9b-41b2-a4f2-181346210dfa   \n",
       "\n",
       "                                 actorID object action  \\\n",
       "0   7c94aca1-79c5-4880-b865-e44ebb3c28c4   FLOW   INFO   \n",
       "1   7c94aca1-79c5-4880-b865-e44ebb3c28c4   FLOW   INFO   \n",
       "2   7c94aca1-79c5-4880-b865-e44ebb3c28c4   FLOW   INFO   \n",
       "3   7c94aca1-79c5-4880-b865-e44ebb3c28c4   FLOW   INFO   \n",
       "4   7c94aca1-79c5-4880-b865-e44ebb3c28c4   FLOW   INFO   \n",
       "5   7c94aca1-79c5-4880-b865-e44ebb3c28c4   FLOW   INFO   \n",
       "6   7c94aca1-79c5-4880-b865-e44ebb3c28c4   FLOW   INFO   \n",
       "7   7c94aca1-79c5-4880-b865-e44ebb3c28c4   FLOW   INFO   \n",
       "8   7c94aca1-79c5-4880-b865-e44ebb3c28c4   FLOW   INFO   \n",
       "9   7c94aca1-79c5-4880-b865-e44ebb3c28c4   FLOW   INFO   \n",
       "10  7c94aca1-79c5-4880-b865-e44ebb3c28c4   FLOW   INFO   \n",
       "11  7c94aca1-79c5-4880-b865-e44ebb3c28c4   FLOW   INFO   \n",
       "12  7c94aca1-79c5-4880-b865-e44ebb3c28c4   FLOW   INFO   \n",
       "13  7c94aca1-79c5-4880-b865-e44ebb3c28c4   FLOW   INFO   \n",
       "14  7c94aca1-79c5-4880-b865-e44ebb3c28c4   FLOW   INFO   \n",
       "15  7c94aca1-79c5-4880-b865-e44ebb3c28c4   FLOW   INFO   \n",
       "16  7c94aca1-79c5-4880-b865-e44ebb3c28c4   FLOW   INFO   \n",
       "17  7c94aca1-79c5-4880-b865-e44ebb3c28c4   FLOW   INFO   \n",
       "18  7c94aca1-79c5-4880-b865-e44ebb3c28c4   FLOW   INFO   \n",
       "19  7c94aca1-79c5-4880-b865-e44ebb3c28c4   FLOW   INFO   \n",
       "20  7c94aca1-79c5-4880-b865-e44ebb3c28c4   FLOW   INFO   \n",
       "21  7c94aca1-79c5-4880-b865-e44ebb3c28c4   FLOW   INFO   \n",
       "22  7c94aca1-79c5-4880-b865-e44ebb3c28c4   FLOW   INFO   \n",
       "23  7c94aca1-79c5-4880-b865-e44ebb3c28c4   FLOW   INFO   \n",
       "24  7c94aca1-79c5-4880-b865-e44ebb3c28c4   FLOW   INFO   \n",
       "\n",
       "                      hostname  \n",
       "0   SysClient0125.systemia.com  \n",
       "1   SysClient0125.systemia.com  \n",
       "2   SysClient0125.systemia.com  \n",
       "3   SysClient0125.systemia.com  \n",
       "4   SysClient0125.systemia.com  \n",
       "5   SysClient0125.systemia.com  \n",
       "6   SysClient0125.systemia.com  \n",
       "7   SysClient0125.systemia.com  \n",
       "8   SysClient0125.systemia.com  \n",
       "9   SysClient0125.systemia.com  \n",
       "10  SysClient0125.systemia.com  \n",
       "11  SysClient0125.systemia.com  \n",
       "12  SysClient0125.systemia.com  \n",
       "13  SysClient0125.systemia.com  \n",
       "14  SysClient0125.systemia.com  \n",
       "15  SysClient0125.systemia.com  \n",
       "16  SysClient0125.systemia.com  \n",
       "17  SysClient0125.systemia.com  \n",
       "18  SysClient0125.systemia.com  \n",
       "19  SysClient0125.systemia.com  \n",
       "20  SysClient0125.systemia.com  \n",
       "21  SysClient0125.systemia.com  \n",
       "22  SysClient0125.systemia.com  \n",
       "23  SysClient0125.systemia.com  \n",
       "24  SysClient0125.systemia.com  "
      ]
     },
     "execution_count": 8,
     "metadata": {},
     "output_type": "execute_result"
    }
   ],
   "source": [
    "df_ecar.limit(25).toPandas()"
   ]
  },
  {
   "cell_type": "code",
   "execution_count": null,
   "id": "e7ed54bf-cb23-48a2-9c0b-1b4aa8520d5a",
   "metadata": {},
   "outputs": [],
   "source": []
  },
  {
   "cell_type": "code",
   "execution_count": 5,
   "id": "4cbf63f7-e77c-4d68-a45e-876923aaf2c4",
   "metadata": {
    "tags": []
   },
   "outputs": [
    {
     "name": "stdout",
     "output_type": "stream",
     "text": [
      " 8:45AM UTC on Feb 28, 2023 --- read and cache time: 0.2422952651977539 seconds ---\n"
     ]
    }
   ],
   "source": [
    "df_labels = readCheckpoint('labels', env)"
   ]
  },
  {
   "cell_type": "code",
   "execution_count": 6,
   "id": "118f2dfd-1164-46bc-90c9-52b2e83504f2",
   "metadata": {
    "tags": []
   },
   "outputs": [
    {
     "name": "stderr",
     "output_type": "stream",
     "text": [
      "                                                                                \r"
     ]
    },
    {
     "data": {
      "text/html": [
       "<div>\n",
       "<style scoped>\n",
       "    .dataframe tbody tr th:only-of-type {\n",
       "        vertical-align: middle;\n",
       "    }\n",
       "\n",
       "    .dataframe tbody tr th {\n",
       "        vertical-align: top;\n",
       "    }\n",
       "\n",
       "    .dataframe thead th {\n",
       "        text-align: right;\n",
       "    }\n",
       "</style>\n",
       "<table border=\"1\" class=\"dataframe\">\n",
       "  <thead>\n",
       "    <tr style=\"text-align: right;\">\n",
       "      <th></th>\n",
       "      <th>hostname</th>\n",
       "      <th>id</th>\n",
       "      <th>objectID</th>\n",
       "      <th>actorID</th>\n",
       "      <th>timestamp</th>\n",
       "      <th>object</th>\n",
       "      <th>action</th>\n",
       "    </tr>\n",
       "  </thead>\n",
       "  <tbody>\n",
       "    <tr>\n",
       "      <th>0</th>\n",
       "      <td>SysClient0955.systemia.com</td>\n",
       "      <td>3e350ce3-c4b3-4640-92d9-feaea0274cab</td>\n",
       "      <td>83f11800-88a3-4fa9-8c51-a469d66fca16</td>\n",
       "      <td>473d7954-6271-43b8-9984-702378220af2</td>\n",
       "      <td>2019-09-23T14:58:28.051-04:00</td>\n",
       "      <td>SHELL</td>\n",
       "      <td>COMMAND</td>\n",
       "    </tr>\n",
       "    <tr>\n",
       "      <th>1</th>\n",
       "      <td>SysClient0955.systemia.com</td>\n",
       "      <td>7a396cde-6485-40b4-baa2-8d7848fa02a3</td>\n",
       "      <td>83f11800-88a3-4fa9-8c51-a469d66fca16</td>\n",
       "      <td>473d7954-6271-43b8-9984-702378220af2</td>\n",
       "      <td>2019-09-23T14:58:33.139-04:00</td>\n",
       "      <td>SHELL</td>\n",
       "      <td>COMMAND</td>\n",
       "    </tr>\n",
       "    <tr>\n",
       "      <th>2</th>\n",
       "      <td>SysClient0955.systemia.com</td>\n",
       "      <td>2f33f5e3-1714-4069-850f-863680edbdef</td>\n",
       "      <td>83f11800-88a3-4fa9-8c51-a469d66fca16</td>\n",
       "      <td>473d7954-6271-43b8-9984-702378220af2</td>\n",
       "      <td>2019-09-23T14:58:33.141-04:00</td>\n",
       "      <td>SHELL</td>\n",
       "      <td>COMMAND</td>\n",
       "    </tr>\n",
       "    <tr>\n",
       "      <th>3</th>\n",
       "      <td>SysClient0955.systemia.com</td>\n",
       "      <td>725ad9a5-c876-4dc2-9c32-12dc6bb4da66</td>\n",
       "      <td>83f11800-88a3-4fa9-8c51-a469d66fca16</td>\n",
       "      <td>473d7954-6271-43b8-9984-702378220af2</td>\n",
       "      <td>2019-09-23T14:58:33.159-04:00</td>\n",
       "      <td>SHELL</td>\n",
       "      <td>COMMAND</td>\n",
       "    </tr>\n",
       "    <tr>\n",
       "      <th>4</th>\n",
       "      <td>SysClient0955.systemia.com</td>\n",
       "      <td>a8a78df2-a996-4c16-90f7-6455091eb91d</td>\n",
       "      <td>83f11800-88a3-4fa9-8c51-a469d66fca16</td>\n",
       "      <td>473d7954-6271-43b8-9984-702378220af2</td>\n",
       "      <td>2019-09-23T14:58:33.158-04:00</td>\n",
       "      <td>SHELL</td>\n",
       "      <td>COMMAND</td>\n",
       "    </tr>\n",
       "  </tbody>\n",
       "</table>\n",
       "</div>"
      ],
      "text/plain": [
       "                     hostname                                    id  \\\n",
       "0  SysClient0955.systemia.com  3e350ce3-c4b3-4640-92d9-feaea0274cab   \n",
       "1  SysClient0955.systemia.com  7a396cde-6485-40b4-baa2-8d7848fa02a3   \n",
       "2  SysClient0955.systemia.com  2f33f5e3-1714-4069-850f-863680edbdef   \n",
       "3  SysClient0955.systemia.com  725ad9a5-c876-4dc2-9c32-12dc6bb4da66   \n",
       "4  SysClient0955.systemia.com  a8a78df2-a996-4c16-90f7-6455091eb91d   \n",
       "\n",
       "                               objectID                               actorID  \\\n",
       "0  83f11800-88a3-4fa9-8c51-a469d66fca16  473d7954-6271-43b8-9984-702378220af2   \n",
       "1  83f11800-88a3-4fa9-8c51-a469d66fca16  473d7954-6271-43b8-9984-702378220af2   \n",
       "2  83f11800-88a3-4fa9-8c51-a469d66fca16  473d7954-6271-43b8-9984-702378220af2   \n",
       "3  83f11800-88a3-4fa9-8c51-a469d66fca16  473d7954-6271-43b8-9984-702378220af2   \n",
       "4  83f11800-88a3-4fa9-8c51-a469d66fca16  473d7954-6271-43b8-9984-702378220af2   \n",
       "\n",
       "                       timestamp object   action  \n",
       "0  2019-09-23T14:58:28.051-04:00  SHELL  COMMAND  \n",
       "1  2019-09-23T14:58:33.139-04:00  SHELL  COMMAND  \n",
       "2  2019-09-23T14:58:33.141-04:00  SHELL  COMMAND  \n",
       "3  2019-09-23T14:58:33.159-04:00  SHELL  COMMAND  \n",
       "4  2019-09-23T14:58:33.158-04:00  SHELL  COMMAND  "
      ]
     },
     "execution_count": 6,
     "metadata": {},
     "output_type": "execute_result"
    }
   ],
   "source": [
    "df_labels.limit(5).toPandas()"
   ]
  },
  {
   "cell_type": "code",
   "execution_count": null,
   "id": "5cb4fd45-de31-47ec-a891-c2107234406b",
   "metadata": {},
   "outputs": [],
   "source": []
  },
  {
   "cell_type": "code",
   "execution_count": 7,
   "id": "20c9cf8d-174d-4cd1-a2a1-37f0413c60d2",
   "metadata": {
    "tags": []
   },
   "outputs": [
    {
     "name": "stderr",
     "output_type": "stream",
     "text": [
      "[Stage 11:===========================================>              (3 + 1) / 4]\r"
     ]
    },
    {
     "name": "stdout",
     "output_type": "stream",
     "text": [
      "+------------------------+\n",
      "|count(DISTINCT objectID)|\n",
      "+------------------------+\n",
      "|                   69876|\n",
      "+------------------------+\n",
      "\n"
     ]
    },
    {
     "name": "stderr",
     "output_type": "stream",
     "text": [
      "                                                                                \r"
     ]
    }
   ],
   "source": [
    "df_labels.select(countDistinct(\"objectID\")).show()"
   ]
  },
  {
   "cell_type": "code",
   "execution_count": 8,
   "id": "cd914c8e-01ee-441a-86b1-c3e958898ab4",
   "metadata": {
    "tags": []
   },
   "outputs": [
    {
     "name": "stdout",
     "output_type": "stream",
     "text": [
      "+-----------------------+\n",
      "|count(DISTINCT actorID)|\n",
      "+-----------------------+\n",
      "|                    150|\n",
      "+-----------------------+\n",
      "\n"
     ]
    }
   ],
   "source": [
    "df_labels.select(countDistinct(\"actorID\")).show()"
   ]
  },
  {
   "cell_type": "code",
   "execution_count": 9,
   "id": "21589238-d504-4d45-8973-526da27c40c1",
   "metadata": {
    "tags": []
   },
   "outputs": [
    {
     "name": "stdout",
     "output_type": "stream",
     "text": [
      "+--------+\n",
      "|  object|\n",
      "+--------+\n",
      "|   SHELL|\n",
      "|REGISTRY|\n",
      "|    FLOW|\n",
      "|  THREAD|\n",
      "|    FILE|\n",
      "|  MODULE|\n",
      "| PROCESS|\n",
      "+--------+\n",
      "\n"
     ]
    }
   ],
   "source": [
    "df_labels.select(\"object\").distinct().show()"
   ]
  },
  {
   "cell_type": "code",
   "execution_count": 10,
   "id": "b264f723-9b40-409a-9889-0e67d538efba",
   "metadata": {
    "tags": []
   },
   "outputs": [
    {
     "name": "stdout",
     "output_type": "stream",
     "text": [
      "+--------+------+\n",
      "|  object| count|\n",
      "+--------+------+\n",
      "|   SHELL|165473|\n",
      "|    FLOW| 80436|\n",
      "|    FILE| 22485|\n",
      "|  THREAD| 11283|\n",
      "| PROCESS|  7908|\n",
      "|  MODULE|  4570|\n",
      "|REGISTRY|   109|\n",
      "+--------+------+\n",
      "\n"
     ]
    }
   ],
   "source": [
    "df_labels.groupby(\"object\",\"id\").count().groupBy(\"object\").count().orderBy(col(\"count\").desc()).show()"
   ]
  },
  {
   "cell_type": "code",
   "execution_count": 11,
   "id": "7f9c9baa-6b07-43bf-a8fc-33643535d354",
   "metadata": {
    "tags": []
   },
   "outputs": [
    {
     "name": "stdout",
     "output_type": "stream",
     "text": [
      "+-------------+------+\n",
      "|       action| count|\n",
      "+-------------+------+\n",
      "|      COMMAND|165473|\n",
      "|      MESSAGE| 55781|\n",
      "|        START| 24652|\n",
      "|         READ| 10567|\n",
      "|       CREATE|  8967|\n",
      "|         OPEN|  7218|\n",
      "|    TERMINATE|  6555|\n",
      "|        WRITE|  5079|\n",
      "|         LOAD|  4570|\n",
      "|       RENAME|  1846|\n",
      "|REMOTE_CREATE|   614|\n",
      "|       MODIFY|   515|\n",
      "|       DELETE|   318|\n",
      "|         EDIT|    61|\n",
      "|          ADD|    31|\n",
      "|       REMOVE|    17|\n",
      "+-------------+------+\n",
      "\n"
     ]
    }
   ],
   "source": [
    "df_labels.groupby(\"action\",\"id\").count().groupBy(\"action\").count().orderBy(col(\"count\").desc()).show()"
   ]
  },
  {
   "cell_type": "code",
   "execution_count": 12,
   "id": "3866b141-e1e8-405f-bebf-3e1baa53bbc4",
   "metadata": {
    "tags": []
   },
   "outputs": [
    {
     "name": "stdout",
     "output_type": "stream",
     "text": [
      "+--------------------+--------------------+-----+\n",
      "|            hostname|             actorID|count|\n",
      "+--------------------+--------------------+-----+\n",
      "|SysClient0201.sys...|a52f6519-6265-443...|25809|\n",
      "|SysClient0010.sys...|3a3de01b-44d0-4a1...|19453|\n",
      "|SysClient0069.sys...|a80f73dc-5713-460...|19438|\n",
      "|SysClient0203.sys...|c2730252-3ab3-40f...|19433|\n",
      "|SysClient0358.sys...|f247d0d1-6ce4-4f8...|19398|\n",
      "|SysClient0851.sys...|266392d7-012e-479...|19352|\n",
      "|SysClient0618.sys...|9211f414-ef00-4aa...|19274|\n",
      "|SysClient0811.sys...|60f28094-a2f7-49e...|17706|\n",
      "|SysClient0351.sys...|903916d0-e580-45e...|16857|\n",
      "|SysClient0501.sys...|054df7d9-801e-49d...|13673|\n",
      "|SysClient0501.sys...|281edc04-1ee7-4f6...|10561|\n",
      "|SysClient0660.sys...|3eea9071-9ceb-468...| 9189|\n",
      "|SysClient0402.sys...|e490633e-4e82-4bb...| 8065|\n",
      "|SysClient0355.sys...|d359ffa5-8bf5-4f1...| 4621|\n",
      "|SysClient0559.sys...|53efe8c9-3c95-4df...| 4396|\n",
      "|SysClient0255.sys...|b5a0a459-229f-4e4...| 4393|\n",
      "|SysClient0874.sys...|ee99fcf7-84fa-49f...| 4392|\n",
      "|SysClient0609.sys...|2d02ab42-4400-404...| 4390|\n",
      "|SysClient0104.sys...|70ba4f9c-e27b-4a3...| 4390|\n",
      "|SysClient0955.sys...|473d7954-6271-43b...| 4388|\n",
      "+--------------------+--------------------+-----+\n",
      "only showing top 20 rows\n",
      "\n"
     ]
    }
   ],
   "source": [
    "df_labels.groupby(\"hostname\",\"actorID\",\"id\").count().groupBy(\"hostname\",\"actorID\").count().orderBy(col(\"count\").desc()).show()"
   ]
  },
  {
   "cell_type": "code",
   "execution_count": 13,
   "id": "c0a20d66-d466-4362-ac6b-eaa7277c5e90",
   "metadata": {
    "tags": []
   },
   "outputs": [
    {
     "name": "stderr",
     "output_type": "stream",
     "text": [
      "[Stage 44:===============================================>        (11 + 2) / 13]\r"
     ]
    },
    {
     "name": "stdout",
     "output_type": "stream",
     "text": [
      "+------------+\n",
      "|acuity_level|\n",
      "+------------+\n",
      "|        null|\n",
      "+------------+\n",
      "\n"
     ]
    },
    {
     "name": "stderr",
     "output_type": "stream",
     "text": [
      "                                                                                \r"
     ]
    }
   ],
   "source": [
    "df_ecar.select(\"acuity_level\").distinct().show()"
   ]
  },
  {
   "cell_type": "code",
   "execution_count": null,
   "id": "5fb90e29-cf40-4e70-93b2-44ced28669e9",
   "metadata": {},
   "outputs": [],
   "source": [
    "nodes = df_ecar.select("
   ]
  }
 ],
 "metadata": {
  "kernelspec": {
   "display_name": "conda_python3",
   "language": "python",
   "name": "conda_python3"
  },
  "language_info": {
   "codemirror_mode": {
    "name": "ipython",
    "version": 3
   },
   "file_extension": ".py",
   "mimetype": "text/x-python",
   "name": "python",
   "nbconvert_exporter": "python",
   "pygments_lexer": "ipython3",
   "version": "3.10.8"
  }
 },
 "nbformat": 4,
 "nbformat_minor": 5
}
