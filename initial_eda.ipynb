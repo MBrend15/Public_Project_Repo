{
 "cells": [
  {
   "cell_type": "code",
   "execution_count": 1,
   "id": "970130b0-b08c-4536-936e-ca923cc595a9",
   "metadata": {},
   "outputs": [],
   "source": [
    "#setup based on this: https://t-redactyl.io/blog/2020/08/reading-s3-data-into-a-spark-dataframe-using-sagemaker.html\n",
    "import boto3\n",
    "import json \n",
    "import time\n",
    "from pyspark import SparkConf\n",
    "from pyspark.sql import SparkSession\n",
    "import matplotlib.pyplot as plt\n",
    "import sagemaker_pyspark\n",
    "import botocore.session"
   ]
  },
  {
   "cell_type": "markdown",
   "id": "1e5ef5d6-368f-43af-b519-ba5112c87b79",
   "metadata": {},
   "source": [
    "## Set Spark Session Configuration"
   ]
  },
  {
   "cell_type": "code",
   "execution_count": 2,
   "id": "6d8e9008-6651-4c17-8c12-eef2b18e10fe",
   "metadata": {
    "jupyter": {
     "source_hidden": true
    },
    "tags": []
   },
   "outputs": [],
   "source": [
    "session = botocore.session.get_session()\n",
    "credentials = session.get_credentials()"
   ]
  },
  {
   "cell_type": "code",
   "execution_count": 3,
   "id": "7486ea00-f477-4f51-bf6e-b66a57f1a557",
   "metadata": {
    "jupyter": {
     "source_hidden": true
    },
    "tags": []
   },
   "outputs": [],
   "source": [
    "client = boto3.client('secretsmanager')\n",
    "response = client.get_secret_value(\n",
    "    SecretId='sapient-s3-access'\n",
    ")\n",
    "response = json.loads(response['SecretString'])\n",
    "access_key = response[\"aws_access_key_id\"]\n",
    "secret_key = response[\"aws_secret_access_key\"]"
   ]
  },
  {
   "cell_type": "code",
   "execution_count": 4,
   "id": "372553c2-9f17-4c4f-b253-275e30a1ef35",
   "metadata": {
    "jupyter": {
     "source_hidden": true
    },
    "tags": []
   },
   "outputs": [],
   "source": [
    "conf = (SparkConf()\n",
    "        .set(\"spark.driver.extraClassPath\", \":\".join(sagemaker_pyspark.classpath_jars())))"
   ]
  },
  {
   "cell_type": "code",
   "execution_count": 5,
   "id": "9392e443-f6d6-4a54-bbb8-2972eafaf97e",
   "metadata": {
    "jupyter": {
     "source_hidden": true
    },
    "tags": []
   },
   "outputs": [
    {
     "name": "stderr",
     "output_type": "stream",
     "text": [
      "Warning: Ignoring non-Spark config property: fs.s3a.access.key\n",
      "Warning: Ignoring non-Spark config property: fs.s3a.secret.key\n",
      "Setting default log level to \"WARN\".\n",
      "To adjust logging level use sc.setLogLevel(newLevel). For SparkR, use setLogLevel(newLevel).\n"
     ]
    },
    {
     "name": "stdout",
     "output_type": "stream",
     "text": [
      "23/02/10 18:19:24 WARN NativeCodeLoader: Unable to load native-hadoop library for your platform... using builtin-java classes where applicable\n"
     ]
    }
   ],
   "source": [
    "spark = (\n",
    "    SparkSession\n",
    "    .builder\n",
    "    .config(conf=conf) \\\n",
    "    .config('fs.s3a.access.key', access_key)\n",
    "    .config('fs.s3a.secret.key', secret_key)\n",
    "    .appName(\"sapient\")\n",
    "    .getOrCreate()\n",
    ")"
   ]
  },
  {
   "cell_type": "markdown",
   "id": "c3052d07-eb5d-4d2c-9b96-ff8e8fcf8baa",
   "metadata": {},
   "source": [
    "## Environment configuration"
   ]
  },
  {
   "cell_type": "code",
   "execution_count": 6,
   "id": "3660605e-699c-4b64-b7c4-2211454666a6",
   "metadata": {},
   "outputs": [],
   "source": [
    "env = \"dev\"\n",
    "# read from raw bucket + write to refined bucket\n",
    "s3_url_raw = \"s3a://sapient-bucket-raw/\"\n",
    "s3_url_refined = \"s3a://sapient-bucket-refined/\""
   ]
  },
  {
   "cell_type": "code",
   "execution_count": 7,
   "id": "4dff8a6f-87ed-4b8c-a119-9ceeaaaa9e85",
   "metadata": {},
   "outputs": [],
   "source": [
    "# ecarbro.json, AIA-1-25.ecar.json, conn.09_00_00-10_00_00.log\n",
    "dev_file = f\"{s3_url_raw}/ecarbro.json\"\n",
    "prod_file = \"\"\n",
    "if env == \"prod\":\n",
    "  filename = prod_file\n",
    "else:\n",
    "  filename = dev_file"
   ]
  },
  {
   "cell_type": "code",
   "execution_count": 8,
   "id": "f45aa4a4-30aa-418b-bee6-86276759755f",
   "metadata": {},
   "outputs": [
    {
     "name": "stdout",
     "output_type": "stream",
     "text": [
      "23/02/10 18:19:27 WARN MetricsConfig: Cannot locate configuration: tried hadoop-metrics2-s3a-file-system.properties,hadoop-metrics2.properties\n"
     ]
    },
    {
     "name": "stderr",
     "output_type": "stream",
     "text": [
      "                                                                                \r"
     ]
    },
    {
     "name": "stdout",
     "output_type": "stream",
     "text": [
      "--- 11.702203750610352 seconds ---\n"
     ]
    }
   ],
   "source": [
    "start_time = time.time()\n",
    "df_ecar_bro = spark.read.json(filename).cache()\n",
    "print(\"--- %s seconds ---\" % (time.time() - start_time))"
   ]
  },
  {
   "cell_type": "code",
   "execution_count": 9,
   "id": "351c8bcc-8063-4611-b816-14aaa0f68f78",
   "metadata": {},
   "outputs": [
    {
     "name": "stderr",
     "output_type": "stream",
     "text": [
      "                                                                                \r"
     ]
    },
    {
     "data": {
      "text/html": [
       "<div>\n",
       "<style scoped>\n",
       "    .dataframe tbody tr th:only-of-type {\n",
       "        vertical-align: middle;\n",
       "    }\n",
       "\n",
       "    .dataframe tbody tr th {\n",
       "        vertical-align: top;\n",
       "    }\n",
       "\n",
       "    .dataframe thead th {\n",
       "        text-align: right;\n",
       "    }\n",
       "</style>\n",
       "<table border=\"1\" class=\"dataframe\">\n",
       "  <thead>\n",
       "    <tr style=\"text-align: right;\">\n",
       "      <th></th>\n",
       "      <th>action</th>\n",
       "      <th>actorID</th>\n",
       "      <th>hostname</th>\n",
       "      <th>id</th>\n",
       "      <th>object</th>\n",
       "      <th>objectID</th>\n",
       "      <th>pid</th>\n",
       "      <th>ppid</th>\n",
       "      <th>principal</th>\n",
       "      <th>properties</th>\n",
       "      <th>tid</th>\n",
       "      <th>timestamp</th>\n",
       "    </tr>\n",
       "  </thead>\n",
       "  <tbody>\n",
       "    <tr>\n",
       "      <th>0</th>\n",
       "      <td>INFO</td>\n",
       "      <td>4767c80e-1e6b-412e-9432-fad5898fa7db</td>\n",
       "      <td>SysClient0024.systemia.com</td>\n",
       "      <td>2ea7d45b-0a28-4d92-8ca7-58502d1ba631</td>\n",
       "      <td>FLOW</td>\n",
       "      <td>dfaf05b2-4d7c-408d-bb0f-d56f52b07f12</td>\n",
       "      <td>5920</td>\n",
       "      <td>-1</td>\n",
       "      <td></td>\n",
       "      <td>(1, C46Z8E9qAFrZ8Iks4, 195.219.101.2, 80, outb...</td>\n",
       "      <td>-1</td>\n",
       "      <td>2019-09-23T09:10:15.593-04:00</td>\n",
       "    </tr>\n",
       "    <tr>\n",
       "      <th>1</th>\n",
       "      <td>INFO</td>\n",
       "      <td>4767c80e-1e6b-412e-9432-fad5898fa7db</td>\n",
       "      <td>SysClient0024.systemia.com</td>\n",
       "      <td>264c42c4-7914-4e76-809f-982fe0b241d0</td>\n",
       "      <td>FLOW</td>\n",
       "      <td>6ea8ef0c-6450-4e39-b473-c7d3d53578f3</td>\n",
       "      <td>5920</td>\n",
       "      <td>-1</td>\n",
       "      <td></td>\n",
       "      <td>(1, Chrr5B4nTDEYBgYjme, 195.219.101.5, 80, out...</td>\n",
       "      <td>-1</td>\n",
       "      <td>2019-09-23T09:10:15.623-04:00</td>\n",
       "    </tr>\n",
       "    <tr>\n",
       "      <th>2</th>\n",
       "      <td>INFO</td>\n",
       "      <td>4767c80e-1e6b-412e-9432-fad5898fa7db</td>\n",
       "      <td>SysClient0024.systemia.com</td>\n",
       "      <td>3f057bc7-a39e-487e-8490-eb77f5bb6ed6</td>\n",
       "      <td>FLOW</td>\n",
       "      <td>6558c991-e5a0-409d-b5b9-96a3e44c747a</td>\n",
       "      <td>5920</td>\n",
       "      <td>-1</td>\n",
       "      <td></td>\n",
       "      <td>(1, CvZy4E919XjWUGVD4, 195.219.101.5, 443, out...</td>\n",
       "      <td>-1</td>\n",
       "      <td>2019-09-23T09:10:15.635-04:00</td>\n",
       "    </tr>\n",
       "    <tr>\n",
       "      <th>3</th>\n",
       "      <td>INFO</td>\n",
       "      <td>4767c80e-1e6b-412e-9432-fad5898fa7db</td>\n",
       "      <td>SysClient0024.systemia.com</td>\n",
       "      <td>71978192-53c8-4cfa-a79f-193d760c3b01</td>\n",
       "      <td>FLOW</td>\n",
       "      <td>d57caaa4-66ec-400a-b305-049fa912b1dd</td>\n",
       "      <td>5920</td>\n",
       "      <td>-1</td>\n",
       "      <td></td>\n",
       "      <td>(1, CXUYLX9hxem2or1bh, 195.219.101.5, 443, out...</td>\n",
       "      <td>-1</td>\n",
       "      <td>2019-09-23T09:10:15.789-04:00</td>\n",
       "    </tr>\n",
       "    <tr>\n",
       "      <th>4</th>\n",
       "      <td>INFO</td>\n",
       "      <td>4767c80e-1e6b-412e-9432-fad5898fa7db</td>\n",
       "      <td>SysClient0024.systemia.com</td>\n",
       "      <td>d02151e6-c183-46e2-82e0-0ed9eded3c92</td>\n",
       "      <td>FLOW</td>\n",
       "      <td>54530c7c-0b65-4ba9-a0c1-891d3e4e4efa</td>\n",
       "      <td>5920</td>\n",
       "      <td>-1</td>\n",
       "      <td></td>\n",
       "      <td>(1, Cv9qwV2jFSOU4wpBu9, 195.219.101.5, 443, ou...</td>\n",
       "      <td>-1</td>\n",
       "      <td>2019-09-23T09:10:15.79-04:00</td>\n",
       "    </tr>\n",
       "  </tbody>\n",
       "</table>\n",
       "</div>"
      ],
      "text/plain": [
       "  action                               actorID                    hostname  \\\n",
       "0   INFO  4767c80e-1e6b-412e-9432-fad5898fa7db  SysClient0024.systemia.com   \n",
       "1   INFO  4767c80e-1e6b-412e-9432-fad5898fa7db  SysClient0024.systemia.com   \n",
       "2   INFO  4767c80e-1e6b-412e-9432-fad5898fa7db  SysClient0024.systemia.com   \n",
       "3   INFO  4767c80e-1e6b-412e-9432-fad5898fa7db  SysClient0024.systemia.com   \n",
       "4   INFO  4767c80e-1e6b-412e-9432-fad5898fa7db  SysClient0024.systemia.com   \n",
       "\n",
       "                                     id object  \\\n",
       "0  2ea7d45b-0a28-4d92-8ca7-58502d1ba631   FLOW   \n",
       "1  264c42c4-7914-4e76-809f-982fe0b241d0   FLOW   \n",
       "2  3f057bc7-a39e-487e-8490-eb77f5bb6ed6   FLOW   \n",
       "3  71978192-53c8-4cfa-a79f-193d760c3b01   FLOW   \n",
       "4  d02151e6-c183-46e2-82e0-0ed9eded3c92   FLOW   \n",
       "\n",
       "                               objectID   pid  ppid principal  \\\n",
       "0  dfaf05b2-4d7c-408d-bb0f-d56f52b07f12  5920    -1             \n",
       "1  6ea8ef0c-6450-4e39-b473-c7d3d53578f3  5920    -1             \n",
       "2  6558c991-e5a0-409d-b5b9-96a3e44c747a  5920    -1             \n",
       "3  d57caaa4-66ec-400a-b305-049fa912b1dd  5920    -1             \n",
       "4  54530c7c-0b65-4ba9-a0c1-891d3e4e4efa  5920    -1             \n",
       "\n",
       "                                          properties  tid  \\\n",
       "0  (1, C46Z8E9qAFrZ8Iks4, 195.219.101.2, 80, outb...   -1   \n",
       "1  (1, Chrr5B4nTDEYBgYjme, 195.219.101.5, 80, out...   -1   \n",
       "2  (1, CvZy4E919XjWUGVD4, 195.219.101.5, 443, out...   -1   \n",
       "3  (1, CXUYLX9hxem2or1bh, 195.219.101.5, 443, out...   -1   \n",
       "4  (1, Cv9qwV2jFSOU4wpBu9, 195.219.101.5, 443, ou...   -1   \n",
       "\n",
       "                       timestamp  \n",
       "0  2019-09-23T09:10:15.593-04:00  \n",
       "1  2019-09-23T09:10:15.623-04:00  \n",
       "2  2019-09-23T09:10:15.635-04:00  \n",
       "3  2019-09-23T09:10:15.789-04:00  \n",
       "4   2019-09-23T09:10:15.79-04:00  "
      ]
     },
     "execution_count": 9,
     "metadata": {},
     "output_type": "execute_result"
    }
   ],
   "source": [
    "df_ecar_bro.limit(5).toPandas()"
   ]
  },
  {
   "cell_type": "code",
   "execution_count": 10,
   "id": "b88b6eea-0e41-408b-aeb8-ee9e1487999a",
   "metadata": {},
   "outputs": [
    {
     "name": "stderr",
     "output_type": "stream",
     "text": [
      "[Stage 3:>                                                          (0 + 2) / 2]\r"
     ]
    },
    {
     "name": "stdout",
     "output_type": "stream",
     "text": [
      "--- 10.557655572891235 seconds ---\n"
     ]
    },
    {
     "name": "stderr",
     "output_type": "stream",
     "text": [
      "                                                                                \r"
     ]
    }
   ],
   "source": [
    "# checkpoint loaded json to parquet\n",
    "start_time = time.time()\n",
    "df_ecar_bro.write.mode(\"overwrite\").parquet(f\"{s3_url_refined}/df_ecar_bro\")\n",
    "df_ecar_bro.write.saveAsTable(\"df_ecar_bro\")\n",
    "print(\"--- %s seconds ---\" % (time.time() - start_time))"
   ]
  },
  {
   "cell_type": "code",
   "execution_count": 11,
   "id": "5e6322e0-5f2d-4a7d-ae0b-ae5a88655435",
   "metadata": {},
   "outputs": [
    {
     "name": "stdout",
     "output_type": "stream",
     "text": [
      "--- 0.40232110023498535 seconds ---\n"
     ]
    }
   ],
   "source": [
    "# load checkpointed data as new dataframe\n",
    "start_time = time.time()\n",
    "df_ecar_bro = spark.read.parquet(f\"{s3_url_refined}/df_ecar_bro\").cache()\n",
    "print(\"--- %s seconds ---\" % (time.time() - start_time))"
   ]
  },
  {
   "cell_type": "code",
   "execution_count": 12,
   "id": "f85db115-0d30-47a2-bb64-dae47d3a8a8d",
   "metadata": {},
   "outputs": [
    {
     "name": "stderr",
     "output_type": "stream",
     "text": [
      "                                                                                \r"
     ]
    },
    {
     "data": {
      "text/html": [
       "<div>\n",
       "<style scoped>\n",
       "    .dataframe tbody tr th:only-of-type {\n",
       "        vertical-align: middle;\n",
       "    }\n",
       "\n",
       "    .dataframe tbody tr th {\n",
       "        vertical-align: top;\n",
       "    }\n",
       "\n",
       "    .dataframe thead th {\n",
       "        text-align: right;\n",
       "    }\n",
       "</style>\n",
       "<table border=\"1\" class=\"dataframe\">\n",
       "  <thead>\n",
       "    <tr style=\"text-align: right;\">\n",
       "      <th></th>\n",
       "      <th>action</th>\n",
       "      <th>actorID</th>\n",
       "      <th>hostname</th>\n",
       "      <th>id</th>\n",
       "      <th>object</th>\n",
       "      <th>objectID</th>\n",
       "      <th>pid</th>\n",
       "      <th>ppid</th>\n",
       "      <th>principal</th>\n",
       "      <th>properties</th>\n",
       "      <th>tid</th>\n",
       "      <th>timestamp</th>\n",
       "    </tr>\n",
       "  </thead>\n",
       "  <tbody>\n",
       "    <tr>\n",
       "      <th>0</th>\n",
       "      <td>INFO</td>\n",
       "      <td>4767c80e-1e6b-412e-9432-fad5898fa7db</td>\n",
       "      <td>SysClient0024.systemia.com</td>\n",
       "      <td>2ea7d45b-0a28-4d92-8ca7-58502d1ba631</td>\n",
       "      <td>FLOW</td>\n",
       "      <td>dfaf05b2-4d7c-408d-bb0f-d56f52b07f12</td>\n",
       "      <td>5920</td>\n",
       "      <td>-1</td>\n",
       "      <td></td>\n",
       "      <td>(1, C46Z8E9qAFrZ8Iks4, 195.219.101.2, 80, outb...</td>\n",
       "      <td>-1</td>\n",
       "      <td>2019-09-23T09:10:15.593-04:00</td>\n",
       "    </tr>\n",
       "    <tr>\n",
       "      <th>1</th>\n",
       "      <td>INFO</td>\n",
       "      <td>4767c80e-1e6b-412e-9432-fad5898fa7db</td>\n",
       "      <td>SysClient0024.systemia.com</td>\n",
       "      <td>264c42c4-7914-4e76-809f-982fe0b241d0</td>\n",
       "      <td>FLOW</td>\n",
       "      <td>6ea8ef0c-6450-4e39-b473-c7d3d53578f3</td>\n",
       "      <td>5920</td>\n",
       "      <td>-1</td>\n",
       "      <td></td>\n",
       "      <td>(1, Chrr5B4nTDEYBgYjme, 195.219.101.5, 80, out...</td>\n",
       "      <td>-1</td>\n",
       "      <td>2019-09-23T09:10:15.623-04:00</td>\n",
       "    </tr>\n",
       "    <tr>\n",
       "      <th>2</th>\n",
       "      <td>INFO</td>\n",
       "      <td>4767c80e-1e6b-412e-9432-fad5898fa7db</td>\n",
       "      <td>SysClient0024.systemia.com</td>\n",
       "      <td>3f057bc7-a39e-487e-8490-eb77f5bb6ed6</td>\n",
       "      <td>FLOW</td>\n",
       "      <td>6558c991-e5a0-409d-b5b9-96a3e44c747a</td>\n",
       "      <td>5920</td>\n",
       "      <td>-1</td>\n",
       "      <td></td>\n",
       "      <td>(1, CvZy4E919XjWUGVD4, 195.219.101.5, 443, out...</td>\n",
       "      <td>-1</td>\n",
       "      <td>2019-09-23T09:10:15.635-04:00</td>\n",
       "    </tr>\n",
       "    <tr>\n",
       "      <th>3</th>\n",
       "      <td>INFO</td>\n",
       "      <td>4767c80e-1e6b-412e-9432-fad5898fa7db</td>\n",
       "      <td>SysClient0024.systemia.com</td>\n",
       "      <td>71978192-53c8-4cfa-a79f-193d760c3b01</td>\n",
       "      <td>FLOW</td>\n",
       "      <td>d57caaa4-66ec-400a-b305-049fa912b1dd</td>\n",
       "      <td>5920</td>\n",
       "      <td>-1</td>\n",
       "      <td></td>\n",
       "      <td>(1, CXUYLX9hxem2or1bh, 195.219.101.5, 443, out...</td>\n",
       "      <td>-1</td>\n",
       "      <td>2019-09-23T09:10:15.789-04:00</td>\n",
       "    </tr>\n",
       "    <tr>\n",
       "      <th>4</th>\n",
       "      <td>INFO</td>\n",
       "      <td>4767c80e-1e6b-412e-9432-fad5898fa7db</td>\n",
       "      <td>SysClient0024.systemia.com</td>\n",
       "      <td>d02151e6-c183-46e2-82e0-0ed9eded3c92</td>\n",
       "      <td>FLOW</td>\n",
       "      <td>54530c7c-0b65-4ba9-a0c1-891d3e4e4efa</td>\n",
       "      <td>5920</td>\n",
       "      <td>-1</td>\n",
       "      <td></td>\n",
       "      <td>(1, Cv9qwV2jFSOU4wpBu9, 195.219.101.5, 443, ou...</td>\n",
       "      <td>-1</td>\n",
       "      <td>2019-09-23T09:10:15.79-04:00</td>\n",
       "    </tr>\n",
       "  </tbody>\n",
       "</table>\n",
       "</div>"
      ],
      "text/plain": [
       "  action                               actorID                    hostname  \\\n",
       "0   INFO  4767c80e-1e6b-412e-9432-fad5898fa7db  SysClient0024.systemia.com   \n",
       "1   INFO  4767c80e-1e6b-412e-9432-fad5898fa7db  SysClient0024.systemia.com   \n",
       "2   INFO  4767c80e-1e6b-412e-9432-fad5898fa7db  SysClient0024.systemia.com   \n",
       "3   INFO  4767c80e-1e6b-412e-9432-fad5898fa7db  SysClient0024.systemia.com   \n",
       "4   INFO  4767c80e-1e6b-412e-9432-fad5898fa7db  SysClient0024.systemia.com   \n",
       "\n",
       "                                     id object  \\\n",
       "0  2ea7d45b-0a28-4d92-8ca7-58502d1ba631   FLOW   \n",
       "1  264c42c4-7914-4e76-809f-982fe0b241d0   FLOW   \n",
       "2  3f057bc7-a39e-487e-8490-eb77f5bb6ed6   FLOW   \n",
       "3  71978192-53c8-4cfa-a79f-193d760c3b01   FLOW   \n",
       "4  d02151e6-c183-46e2-82e0-0ed9eded3c92   FLOW   \n",
       "\n",
       "                               objectID   pid  ppid principal  \\\n",
       "0  dfaf05b2-4d7c-408d-bb0f-d56f52b07f12  5920    -1             \n",
       "1  6ea8ef0c-6450-4e39-b473-c7d3d53578f3  5920    -1             \n",
       "2  6558c991-e5a0-409d-b5b9-96a3e44c747a  5920    -1             \n",
       "3  d57caaa4-66ec-400a-b305-049fa912b1dd  5920    -1             \n",
       "4  54530c7c-0b65-4ba9-a0c1-891d3e4e4efa  5920    -1             \n",
       "\n",
       "                                          properties  tid  \\\n",
       "0  (1, C46Z8E9qAFrZ8Iks4, 195.219.101.2, 80, outb...   -1   \n",
       "1  (1, Chrr5B4nTDEYBgYjme, 195.219.101.5, 80, out...   -1   \n",
       "2  (1, CvZy4E919XjWUGVD4, 195.219.101.5, 443, out...   -1   \n",
       "3  (1, CXUYLX9hxem2or1bh, 195.219.101.5, 443, out...   -1   \n",
       "4  (1, Cv9qwV2jFSOU4wpBu9, 195.219.101.5, 443, ou...   -1   \n",
       "\n",
       "                       timestamp  \n",
       "0  2019-09-23T09:10:15.593-04:00  \n",
       "1  2019-09-23T09:10:15.623-04:00  \n",
       "2  2019-09-23T09:10:15.635-04:00  \n",
       "3  2019-09-23T09:10:15.789-04:00  \n",
       "4   2019-09-23T09:10:15.79-04:00  "
      ]
     },
     "execution_count": 12,
     "metadata": {},
     "output_type": "execute_result"
    }
   ],
   "source": [
    "df_ecar_bro.limit(5).toPandas()"
   ]
  },
  {
   "cell_type": "code",
   "execution_count": null,
   "id": "672bc4ff-6fdf-44ce-b00f-c7b50e43563d",
   "metadata": {},
   "outputs": [],
   "source": []
  },
  {
   "cell_type": "code",
   "execution_count": null,
   "id": "2d2b2c39-6d40-48c9-b62a-8999d776c31f",
   "metadata": {},
   "outputs": [],
   "source": []
  }
 ],
 "metadata": {
  "kernelspec": {
   "display_name": "conda_python3",
   "language": "python",
   "name": "conda_python3"
  },
  "language_info": {
   "codemirror_mode": {
    "name": "ipython",
    "version": 3
   },
   "file_extension": ".py",
   "mimetype": "text/x-python",
   "name": "python",
   "nbconvert_exporter": "python",
   "pygments_lexer": "ipython3",
   "version": "3.10.6"
  }
 },
 "nbformat": 4,
 "nbformat_minor": 5
}
