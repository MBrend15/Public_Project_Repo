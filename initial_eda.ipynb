{
 "cells": [
  {
   "cell_type": "code",
   "execution_count": 1,
   "id": "970130b0-b08c-4536-936e-ca923cc595a9",
   "metadata": {},
   "outputs": [],
   "source": [
    "#setup based on this: https://t-redactyl.io/blog/2020/08/reading-s3-data-into-a-spark-dataframe-using-sagemaker.html\n",
    "import boto3\n",
    "import json \n",
    "import time\n",
    "from pyspark import SparkConf\n",
    "from pyspark.sql import SparkSession\n",
    "from pyspark.sql.functions import countDistinct\n",
    "import matplotlib.pyplot as plt\n",
    "import sagemaker_pyspark\n",
    "import botocore.session"
   ]
  },
  {
   "cell_type": "markdown",
   "id": "1e5ef5d6-368f-43af-b519-ba5112c87b79",
   "metadata": {},
   "source": [
    "## Set Spark Session Configuration"
   ]
  },
  {
   "cell_type": "code",
   "execution_count": 2,
   "id": "6d8e9008-6651-4c17-8c12-eef2b18e10fe",
   "metadata": {
    "tags": []
   },
   "outputs": [],
   "source": [
    "session = botocore.session.get_session()\n",
    "credentials = session.get_credentials()"
   ]
  },
  {
   "cell_type": "code",
   "execution_count": 3,
   "id": "7486ea00-f477-4f51-bf6e-b66a57f1a557",
   "metadata": {
    "tags": []
   },
   "outputs": [],
   "source": [
    "client = boto3.client('secretsmanager')\n",
    "response = client.get_secret_value(\n",
    "    SecretId='sapient-s3-access'\n",
    ")\n",
    "response = json.loads(response['SecretString'])\n",
    "access_key = response[\"aws_access_key_id\"]\n",
    "secret_key = response[\"aws_secret_access_key\"]"
   ]
  },
  {
   "cell_type": "code",
   "execution_count": 4,
   "id": "372553c2-9f17-4c4f-b253-275e30a1ef35",
   "metadata": {
    "tags": []
   },
   "outputs": [],
   "source": [
    "conf = (SparkConf()\n",
    "        .set(\"spark.driver.extraClassPath\", \":\".join(sagemaker_pyspark.classpath_jars())))"
   ]
  },
  {
   "cell_type": "code",
   "execution_count": 5,
   "id": "9392e443-f6d6-4a54-bbb8-2972eafaf97e",
   "metadata": {
    "tags": []
   },
   "outputs": [
    {
     "name": "stderr",
     "output_type": "stream",
     "text": [
      "Warning: Ignoring non-Spark config property: fs.s3a.access.key\n",
      "Warning: Ignoring non-Spark config property: fs.s3a.secret.key\n",
      "Setting default log level to \"WARN\".\n",
      "To adjust logging level use sc.setLogLevel(newLevel). For SparkR, use setLogLevel(newLevel).\n"
     ]
    },
    {
     "name": "stdout",
     "output_type": "stream",
     "text": [
      "23/02/11 18:14:09 WARN NativeCodeLoader: Unable to load native-hadoop library for your platform... using builtin-java classes where applicable\n"
     ]
    }
   ],
   "source": [
    "spark = (\n",
    "    SparkSession\n",
    "    .builder\n",
    "    .config(conf=conf) \\\n",
    "    .config('fs.s3a.access.key', access_key)\n",
    "    .config('fs.s3a.secret.key', secret_key)\n",
    "    .config('spark.network.timeout', 300)\n",
    "    .config('spark.memory.offHeap.size','4g')\n",
    "    .config('spark.executor.memory', '16g')\n",
    "    .appName(\"sapient\")\n",
    "    .getOrCreate()\n",
    ")"
   ]
  },
  {
   "cell_type": "markdown",
   "id": "c3052d07-eb5d-4d2c-9b96-ff8e8fcf8baa",
   "metadata": {},
   "source": [
    "## Environment configuration"
   ]
  },
  {
   "cell_type": "code",
   "execution_count": 56,
   "id": "3660605e-699c-4b64-b7c4-2211454666a6",
   "metadata": {},
   "outputs": [],
   "source": [
    "# env can be dev or prod\n",
    "env = \"dev\""
   ]
  },
  {
   "cell_type": "code",
   "execution_count": 7,
   "id": "4a5e8ea5-b6a8-4fdd-84d5-22e3b31c7340",
   "metadata": {},
   "outputs": [],
   "source": [
    "# read from raw bucket + write to refined bucket + aggregate final to the trusted bucket\n",
    "s3_url_raw = \"s3a://sapient-bucket-raw/\"\n",
    "s3_url_refined = \"s3a://sapient-bucket-refined/\"\n",
    "s3_url_trusted = \"s3a://sapient-bucket-trusted/\""
   ]
  },
  {
   "cell_type": "markdown",
   "id": "322f0acc-5281-4b73-a33b-67ac7c05b96a",
   "metadata": {},
   "source": [
    "## Functions to Load and Read Data"
   ]
  },
  {
   "cell_type": "code",
   "execution_count": 9,
   "id": "4dff8a6f-87ed-4b8c-a119-9ceeaaaa9e85",
   "metadata": {},
   "outputs": [],
   "source": [
    "# ecarbro.json, AIA-1-25.ecar.json, conn.09_00_00-10_00_00.log\n",
    "def s3_file(file):\n",
    "    dev_file = f\"{s3_url_raw}/{env}/{file}\"\n",
    "    prod_file = \"\"\n",
    "    if env == \"prod\":\n",
    "      filename = prod_file\n",
    "    else:\n",
    "      filename = dev_file\n",
    "    return filename"
   ]
  },
  {
   "cell_type": "code",
   "execution_count": 46,
   "id": "948047f5-3308-49ad-b9c7-f281aabb8c6d",
   "metadata": {},
   "outputs": [],
   "source": [
    "def loadAndCheckpoint(type, filename, format):\n",
    "    \"\"\"\n",
    "    type: ecar, ecar_bro, bro\n",
    "    filename: name of file. only does one at a time\n",
    "    format: 'json' or 'log'\n",
    "    \"\"\"\n",
    "    start_time = time.time()\n",
    "    if format == 'json':\n",
    "        df = spark.read.json(f\"{s3_url_raw}/{env}/{type}/**/**/**/*.json\")\n",
    "        df.write.mode(\"overwrite\").partitionBy(\"hostname\").parquet(f\"{s3_url_refined}/{env}/{type}\")\n",
    "    elif format == 'log':\n",
    "        df = spark.read.text(f\"{s3_url_raw}/{env}/**/**/*.log\")\n",
    "        # print(f\"Your dataframe has {df.count():,} rows.\")\n",
    "        df.write.mode(\"overwrite\").parquet(f\"{s3_url_refined}/{env}/{type}\")\n",
    "    print(\"--- %s seconds ---\" % (time.time() - start_time))\n",
    "    df.unpersist()"
   ]
  },
  {
   "cell_type": "code",
   "execution_count": 47,
   "id": "22f40b57-7603-413d-881e-fd397b934503",
   "metadata": {},
   "outputs": [],
   "source": [
    "def readCheckpoint(file_type):\n",
    "    \"\"\"\n",
    "    type: ecar, ecar-bro, bro\n",
    "    \"\"\"\n",
    "    s3_parquet_loc = f\"{s3_url_refined}/{env}/{file_type}\"\n",
    "    start_time = time.time()\n",
    "    df = spark.read.parquet(s3_parquet_loc).cache()\n",
    "    print(f\"Your dataframe has {df.count():,} rows.\")\n",
    "    print(\"--- %s seconds ---\" % (time.time() - start_time))\n",
    "    return df"
   ]
  },
  {
   "cell_type": "markdown",
   "id": "c8ecd4b8-755b-404f-8fd0-42b934bdef28",
   "metadata": {},
   "source": [
    "## Data Processing"
   ]
  },
  {
   "cell_type": "code",
   "execution_count": 48,
   "id": "765dcd63-8412-4127-81fe-b66233ae150b",
   "metadata": {},
   "outputs": [
    {
     "name": "stderr",
     "output_type": "stream",
     "text": [
      "                                                                                \r"
     ]
    },
    {
     "name": "stdout",
     "output_type": "stream",
     "text": [
      "--- 45.427204608917236 seconds ---\n"
     ]
    }
   ],
   "source": [
    "loadAndCheckpoint('ecar-bro', 'ecarbro.json', 'json')"
   ]
  },
  {
   "cell_type": "code",
   "execution_count": 49,
   "id": "85ea208b-c82a-45f8-ad13-e2d76e35d3fa",
   "metadata": {},
   "outputs": [
    {
     "name": "stdout",
     "output_type": "stream",
     "text": [
      "23/02/11 19:11:04 WARN CacheManager: Asked to cache already cached data.\n"
     ]
    },
    {
     "name": "stderr",
     "output_type": "stream",
     "text": [
      "[Stage 44:===========================================>              (3 + 1) / 4]\r"
     ]
    },
    {
     "name": "stdout",
     "output_type": "stream",
     "text": [
      "Your dataframe has 175,840 rows.\n",
      "--- 4.731751918792725 seconds ---\n"
     ]
    },
    {
     "name": "stderr",
     "output_type": "stream",
     "text": [
      "                                                                                \r"
     ]
    }
   ],
   "source": [
    "df_ecarbro = readCheckpoint('ecar-bro')"
   ]
  },
  {
   "cell_type": "code",
   "execution_count": 50,
   "id": "351c8bcc-8063-4611-b816-14aaa0f68f78",
   "metadata": {},
   "outputs": [
    {
     "data": {
      "text/html": [
       "<div>\n",
       "<style scoped>\n",
       "    .dataframe tbody tr th:only-of-type {\n",
       "        vertical-align: middle;\n",
       "    }\n",
       "\n",
       "    .dataframe tbody tr th {\n",
       "        vertical-align: top;\n",
       "    }\n",
       "\n",
       "    .dataframe thead th {\n",
       "        text-align: right;\n",
       "    }\n",
       "</style>\n",
       "<table border=\"1\" class=\"dataframe\">\n",
       "  <thead>\n",
       "    <tr style=\"text-align: right;\">\n",
       "      <th></th>\n",
       "      <th>action</th>\n",
       "      <th>actorID</th>\n",
       "      <th>id</th>\n",
       "      <th>object</th>\n",
       "      <th>objectID</th>\n",
       "      <th>pid</th>\n",
       "      <th>ppid</th>\n",
       "      <th>principal</th>\n",
       "      <th>properties</th>\n",
       "      <th>tid</th>\n",
       "      <th>timestamp</th>\n",
       "      <th>hostname</th>\n",
       "    </tr>\n",
       "  </thead>\n",
       "  <tbody>\n",
       "    <tr>\n",
       "      <th>0</th>\n",
       "      <td>INFO</td>\n",
       "      <td>9e2dcfd0-7c69-4955-b3bc-0ba80d19e54f</td>\n",
       "      <td>88336986-8b3c-4b2a-95d2-322bd942ebc6</td>\n",
       "      <td>FLOW</td>\n",
       "      <td>5b568c6b-7923-4b22-afb1-2e4b934f0b55</td>\n",
       "      <td>5928</td>\n",
       "      <td>5188</td>\n",
       "      <td>SYSTEMIACOM\\syamamori</td>\n",
       "      <td>(1, C7ZGVe3gZhlaDh9w85, 165.101.35.5, 443, out...</td>\n",
       "      <td>-1</td>\n",
       "      <td>2019-09-23T14:58:40.808-04:00</td>\n",
       "      <td>SysClient0016.systemia.com</td>\n",
       "    </tr>\n",
       "    <tr>\n",
       "      <th>1</th>\n",
       "      <td>INFO</td>\n",
       "      <td>9e2dcfd0-7c69-4955-b3bc-0ba80d19e54f</td>\n",
       "      <td>b197e093-5c0a-4ead-8692-98d73f42c4e3</td>\n",
       "      <td>FLOW</td>\n",
       "      <td>62317d1b-e0f3-4d7b-ab55-24c625c23950</td>\n",
       "      <td>5928</td>\n",
       "      <td>5188</td>\n",
       "      <td>SYSTEMIACOM\\syamamori</td>\n",
       "      <td>(1, C9dFtb4uitSXUzcdWc, 165.101.35.5, 443, out...</td>\n",
       "      <td>-1</td>\n",
       "      <td>2019-09-23T14:58:40.819-04:00</td>\n",
       "      <td>SysClient0016.systemia.com</td>\n",
       "    </tr>\n",
       "    <tr>\n",
       "      <th>2</th>\n",
       "      <td>INFO</td>\n",
       "      <td>9e2dcfd0-7c69-4955-b3bc-0ba80d19e54f</td>\n",
       "      <td>3520c984-ac3d-46a4-a29e-3a956f3f5289</td>\n",
       "      <td>FLOW</td>\n",
       "      <td>0d734c8c-b93f-4a6c-a242-76fa4d9ca282</td>\n",
       "      <td>5928</td>\n",
       "      <td>5188</td>\n",
       "      <td>SYSTEMIACOM\\syamamori</td>\n",
       "      <td>(1, CzwkjJ3Crv3HFrugrd, 165.101.35.5, 443, out...</td>\n",
       "      <td>-1</td>\n",
       "      <td>2019-09-23T14:58:40.833-04:00</td>\n",
       "      <td>SysClient0016.systemia.com</td>\n",
       "    </tr>\n",
       "    <tr>\n",
       "      <th>3</th>\n",
       "      <td>INFO</td>\n",
       "      <td>9e2dcfd0-7c69-4955-b3bc-0ba80d19e54f</td>\n",
       "      <td>9dd35179-cff2-49ef-87e5-e74a9c40f96f</td>\n",
       "      <td>FLOW</td>\n",
       "      <td>ae868dc1-05aa-4108-8f0b-95688c3d987c</td>\n",
       "      <td>5928</td>\n",
       "      <td>5188</td>\n",
       "      <td>SYSTEMIACOM\\syamamori</td>\n",
       "      <td>(1, CAJ3urNkIIlXGf3Fk, 165.101.35.5, 443, outb...</td>\n",
       "      <td>-1</td>\n",
       "      <td>2019-09-23T14:58:40.843-04:00</td>\n",
       "      <td>SysClient0016.systemia.com</td>\n",
       "    </tr>\n",
       "    <tr>\n",
       "      <th>4</th>\n",
       "      <td>INFO</td>\n",
       "      <td>9e2dcfd0-7c69-4955-b3bc-0ba80d19e54f</td>\n",
       "      <td>9ed02891-3b5b-4de3-9bd5-7d1fe68ac63b</td>\n",
       "      <td>FLOW</td>\n",
       "      <td>84477621-a0bb-4252-8a5c-2cf4f9171ac9</td>\n",
       "      <td>5928</td>\n",
       "      <td>5188</td>\n",
       "      <td>SYSTEMIACOM\\syamamori</td>\n",
       "      <td>(1, CeG0vk1NgaAAUOh1c, 165.101.35.5, 443, outb...</td>\n",
       "      <td>-1</td>\n",
       "      <td>2019-09-23T14:58:41.084-04:00</td>\n",
       "      <td>SysClient0016.systemia.com</td>\n",
       "    </tr>\n",
       "  </tbody>\n",
       "</table>\n",
       "</div>"
      ],
      "text/plain": [
       "  action                               actorID  \\\n",
       "0   INFO  9e2dcfd0-7c69-4955-b3bc-0ba80d19e54f   \n",
       "1   INFO  9e2dcfd0-7c69-4955-b3bc-0ba80d19e54f   \n",
       "2   INFO  9e2dcfd0-7c69-4955-b3bc-0ba80d19e54f   \n",
       "3   INFO  9e2dcfd0-7c69-4955-b3bc-0ba80d19e54f   \n",
       "4   INFO  9e2dcfd0-7c69-4955-b3bc-0ba80d19e54f   \n",
       "\n",
       "                                     id object  \\\n",
       "0  88336986-8b3c-4b2a-95d2-322bd942ebc6   FLOW   \n",
       "1  b197e093-5c0a-4ead-8692-98d73f42c4e3   FLOW   \n",
       "2  3520c984-ac3d-46a4-a29e-3a956f3f5289   FLOW   \n",
       "3  9dd35179-cff2-49ef-87e5-e74a9c40f96f   FLOW   \n",
       "4  9ed02891-3b5b-4de3-9bd5-7d1fe68ac63b   FLOW   \n",
       "\n",
       "                               objectID   pid  ppid              principal  \\\n",
       "0  5b568c6b-7923-4b22-afb1-2e4b934f0b55  5928  5188  SYSTEMIACOM\\syamamori   \n",
       "1  62317d1b-e0f3-4d7b-ab55-24c625c23950  5928  5188  SYSTEMIACOM\\syamamori   \n",
       "2  0d734c8c-b93f-4a6c-a242-76fa4d9ca282  5928  5188  SYSTEMIACOM\\syamamori   \n",
       "3  ae868dc1-05aa-4108-8f0b-95688c3d987c  5928  5188  SYSTEMIACOM\\syamamori   \n",
       "4  84477621-a0bb-4252-8a5c-2cf4f9171ac9  5928  5188  SYSTEMIACOM\\syamamori   \n",
       "\n",
       "                                          properties  tid  \\\n",
       "0  (1, C7ZGVe3gZhlaDh9w85, 165.101.35.5, 443, out...   -1   \n",
       "1  (1, C9dFtb4uitSXUzcdWc, 165.101.35.5, 443, out...   -1   \n",
       "2  (1, CzwkjJ3Crv3HFrugrd, 165.101.35.5, 443, out...   -1   \n",
       "3  (1, CAJ3urNkIIlXGf3Fk, 165.101.35.5, 443, outb...   -1   \n",
       "4  (1, CeG0vk1NgaAAUOh1c, 165.101.35.5, 443, outb...   -1   \n",
       "\n",
       "                       timestamp                    hostname  \n",
       "0  2019-09-23T14:58:40.808-04:00  SysClient0016.systemia.com  \n",
       "1  2019-09-23T14:58:40.819-04:00  SysClient0016.systemia.com  \n",
       "2  2019-09-23T14:58:40.833-04:00  SysClient0016.systemia.com  \n",
       "3  2019-09-23T14:58:40.843-04:00  SysClient0016.systemia.com  \n",
       "4  2019-09-23T14:58:41.084-04:00  SysClient0016.systemia.com  "
      ]
     },
     "execution_count": 50,
     "metadata": {},
     "output_type": "execute_result"
    }
   ],
   "source": [
    "df_ecarbro.limit(5).toPandas()"
   ]
  },
  {
   "cell_type": "code",
   "execution_count": 51,
   "id": "4038ea5c-8e1d-4621-9f79-8fa757bcbbc0",
   "metadata": {},
   "outputs": [
    {
     "name": "stdout",
     "output_type": "stream",
     "text": [
      "+------------------------+\n",
      "|count(DISTINCT hostname)|\n",
      "+------------------------+\n",
      "|                      23|\n",
      "+------------------------+\n",
      "\n"
     ]
    }
   ],
   "source": [
    "df_ecarbro.select(countDistinct(\"hostname\")).show()"
   ]
  },
  {
   "cell_type": "code",
   "execution_count": 52,
   "id": "6423d02c-a600-48df-9dcc-a767e3d845a1",
   "metadata": {},
   "outputs": [
    {
     "data": {
      "text/plain": [
       "[Row(action='INFO')]"
      ]
     },
     "execution_count": 52,
     "metadata": {},
     "output_type": "execute_result"
    }
   ],
   "source": [
    "df_ecarbro.select('action').distinct().collect()"
   ]
  },
  {
   "cell_type": "code",
   "execution_count": 53,
   "id": "672bc4ff-6fdf-44ce-b00f-c7b50e43563d",
   "metadata": {},
   "outputs": [
    {
     "name": "stderr",
     "output_type": "stream",
     "text": [
      "                                                                                \r"
     ]
    },
    {
     "name": "stdout",
     "output_type": "stream",
     "text": [
      "--- 7.9849817752838135 seconds ---\n"
     ]
    }
   ],
   "source": [
    "loadAndCheckpoint('bro', 'conn.09_00_00-10_00_00.log', 'log')"
   ]
  },
  {
   "cell_type": "code",
   "execution_count": 54,
   "id": "2d2b2c39-6d40-48c9-b62a-8999d776c31f",
   "metadata": {},
   "outputs": [
    {
     "name": "stdout",
     "output_type": "stream",
     "text": [
      "23/02/11 19:11:26 WARN CacheManager: Asked to cache already cached data.\n"
     ]
    },
    {
     "name": "stderr",
     "output_type": "stream",
     "text": [
      "[Stage 59:>                                                         (0 + 4) / 4]\r"
     ]
    },
    {
     "name": "stdout",
     "output_type": "stream",
     "text": [
      "Your dataframe has 1,638,521 rows.\n",
      "--- 2.1504507064819336 seconds ---\n"
     ]
    },
    {
     "name": "stderr",
     "output_type": "stream",
     "text": [
      "                                                                                \r"
     ]
    }
   ],
   "source": [
    "df_bro = readCheckpoint('bro')"
   ]
  },
  {
   "cell_type": "code",
   "execution_count": 55,
   "id": "178a87e0-1884-4d2d-98da-5947392bc25c",
   "metadata": {},
   "outputs": [
    {
     "data": {
      "text/html": [
       "<div>\n",
       "<style scoped>\n",
       "    .dataframe tbody tr th:only-of-type {\n",
       "        vertical-align: middle;\n",
       "    }\n",
       "\n",
       "    .dataframe tbody tr th {\n",
       "        vertical-align: top;\n",
       "    }\n",
       "\n",
       "    .dataframe thead th {\n",
       "        text-align: right;\n",
       "    }\n",
       "</style>\n",
       "<table border=\"1\" class=\"dataframe\">\n",
       "  <thead>\n",
       "    <tr style=\"text-align: right;\">\n",
       "      <th></th>\n",
       "      <th>value</th>\n",
       "    </tr>\n",
       "  </thead>\n",
       "  <tbody>\n",
       "    <tr>\n",
       "      <th>0</th>\n",
       "      <td>1569230193.550518\\tCKPrPt3L4VSAVVODHi\\t46.143....</td>\n",
       "    </tr>\n",
       "    <tr>\n",
       "      <th>1</th>\n",
       "      <td>1569230193.614852\\tCU16Ab2bJSshPdlVka\\t142.20....</td>\n",
       "    </tr>\n",
       "    <tr>\n",
       "      <th>2</th>\n",
       "      <td>1569230193.667477\\tCQoLEJ1M8wo0u1kpxf\\t142.20....</td>\n",
       "    </tr>\n",
       "    <tr>\n",
       "      <th>3</th>\n",
       "      <td>1569230192.827132\\tCoUN297UhM6izGwLc\\t142.20.5...</td>\n",
       "    </tr>\n",
       "    <tr>\n",
       "      <th>4</th>\n",
       "      <td>1569230187.517345\\tCTk5ld2wT6l3uNjPOb\\t142.20....</td>\n",
       "    </tr>\n",
       "  </tbody>\n",
       "</table>\n",
       "</div>"
      ],
      "text/plain": [
       "                                               value\n",
       "0  1569230193.550518\\tCKPrPt3L4VSAVVODHi\\t46.143....\n",
       "1  1569230193.614852\\tCU16Ab2bJSshPdlVka\\t142.20....\n",
       "2  1569230193.667477\\tCQoLEJ1M8wo0u1kpxf\\t142.20....\n",
       "3  1569230192.827132\\tCoUN297UhM6izGwLc\\t142.20.5...\n",
       "4  1569230187.517345\\tCTk5ld2wT6l3uNjPOb\\t142.20...."
      ]
     },
     "execution_count": 55,
     "metadata": {},
     "output_type": "execute_result"
    }
   ],
   "source": [
    "df_bro.limit(5).toPandas()"
   ]
  },
  {
   "cell_type": "code",
   "execution_count": null,
   "id": "0bb8db77-4371-4255-a9df-b11447ffc3db",
   "metadata": {},
   "outputs": [],
   "source": []
  },
  {
   "cell_type": "code",
   "execution_count": null,
   "id": "806259aa-45bb-4762-861e-03b66590c028",
   "metadata": {},
   "outputs": [],
   "source": []
  },
  {
   "cell_type": "code",
   "execution_count": null,
   "id": "38381396-0607-478f-ad1a-f3e2e1ce97ed",
   "metadata": {},
   "outputs": [],
   "source": []
  }
 ],
 "metadata": {
  "kernelspec": {
   "display_name": "conda_python3",
   "language": "python",
   "name": "conda_python3"
  },
  "language_info": {
   "codemirror_mode": {
    "name": "ipython",
    "version": 3
   },
   "file_extension": ".py",
   "mimetype": "text/x-python",
   "name": "python",
   "nbconvert_exporter": "python",
   "pygments_lexer": "ipython3",
   "version": "3.10.6"
  }
 },
 "nbformat": 4,
 "nbformat_minor": 5
}
