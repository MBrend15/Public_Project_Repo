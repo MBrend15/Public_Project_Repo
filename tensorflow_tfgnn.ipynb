{
 "cells": [
  {
   "cell_type": "code",
   "execution_count": 1,
   "id": "509d01c3-ad52-45ec-8c7b-865fccc42229",
   "metadata": {
    "tags": []
   },
   "outputs": [
    {
     "name": "stderr",
     "output_type": "stream",
     "text": [
      "Warning: Ignoring non-Spark config property: fs.s3a.access.key\n",
      "Warning: Ignoring non-Spark config property: fs.s3a.secret.key\n",
      "Setting default log level to \"WARN\".\n",
      "To adjust logging level use sc.setLogLevel(newLevel). For SparkR, use setLogLevel(newLevel).\n"
     ]
    },
    {
     "name": "stdout",
     "output_type": "stream",
     "text": [
      "23/03/19 18:46:22 WARN NativeCodeLoader: Unable to load native-hadoop library for your platform... using builtin-java classes where applicable\n",
      "23/03/19 18:46:22 WARN SparkConf: Note that spark.local.dir will be overridden by the value set by the cluster manager (via SPARK_LOCAL_DIRS in mesos/standalone/kubernetes and LOCAL_DIRS in YARN).\n"
     ]
    },
    {
     "name": "stderr",
     "output_type": "stream",
     "text": [
      "                                                                                \r"
     ]
    }
   ],
   "source": [
    "%run ./etl_trusted_features.ipynb"
   ]
  },
  {
   "cell_type": "code",
   "execution_count": 2,
   "id": "a42f0df4-2e40-4ba1-b377-67488d80a85f",
   "metadata": {
    "tags": []
   },
   "outputs": [
    {
     "name": "stdout",
     "output_type": "stream",
     "text": [
      "Note: you may need to restart the kernel to use updated packages.\n",
      "\u001b[31mERROR: pip's dependency resolver does not currently take into account all the packages that are installed. This behaviour is the source of the following dependency conflicts.\n",
      "pathos 0.3.0 requires dill>=0.3.6, but you have dill 0.3.1.1 which is incompatible.\n",
      "multiprocess 0.70.14 requires dill>=0.3.6, but you have dill 0.3.1.1 which is incompatible.\u001b[0m\u001b[31m\n",
      "\u001b[0mNote: you may need to restart the kernel to use updated packages.\n",
      "Note: you may need to restart the kernel to use updated packages.\n"
     ]
    }
   ],
   "source": [
    "%pip install tensorflow --quiet\n",
    "%pip install tensorflow_gnn --quiet\n",
    "%pip install tensorflow_io --quiet"
   ]
  },
  {
   "cell_type": "code",
   "execution_count": 3,
   "id": "dc3aecd8-3df6-4dfd-b6ac-bf81e2ede490",
   "metadata": {
    "tags": []
   },
   "outputs": [
    {
     "name": "stderr",
     "output_type": "stream",
     "text": [
      "2023-03-19 18:47:53.983196: I tensorflow/core/platform/cpu_feature_guard.cc:193] This TensorFlow binary is optimized with oneAPI Deep Neural Network Library (oneDNN) to use the following CPU instructions in performance-critical operations:  AVX2 FMA\n",
      "To enable them in other operations, rebuild TensorFlow with the appropriate compiler flags.\n"
     ]
    }
   ],
   "source": [
    "import boto3\n",
    "import numpy as np\n",
    "import tensorflow as tf\n",
    "import tensorflow_io as tfio\n",
    "from tensorflow import keras\n",
    "import tensorflow_gnn as tfgnn\n",
    "from tensorflow_gnn import runner\n",
    "from tensorflow.keras import layers\n",
    "import matplotlib.pyplot as plt\n",
    "from sklearn.preprocessing import LabelBinarizer\n",
    "from sklearn.preprocessing import LabelEncoder\n",
    "from sklearn.preprocessing import MultiLabelBinarizer"
   ]
  },
  {
   "cell_type": "code",
   "execution_count": 4,
   "id": "b09761f9-cb24-4097-860a-251fc341aabb",
   "metadata": {
    "tags": []
   },
   "outputs": [],
   "source": [
    "def getFirstEventFiles():\n",
    "    s3 = boto3.client('s3')\n",
    "    response = s3.list_objects_v2(\n",
    "        Bucket = 'sapient-bucket-trusted',\n",
    "        Prefix = f'prod/graph/first_events')\n",
    "    all_files = []\n",
    "    for content in response.get('Contents', []):\n",
    "        all_files.append(content['Key'])\n",
    "        # print(content['Key'])\n",
    "    files = [f\"s3://sapient-bucket-trusted/\" + f for f in all_files if 'parquet' in f]\n",
    "\n",
    "    return files"
   ]
  },
  {
   "cell_type": "code",
   "execution_count": 5,
   "id": "dffc173e-bdcf-4fc1-8c58-6b1404ddcdcc",
   "metadata": {
    "tags": []
   },
   "outputs": [],
   "source": [
    "# https://towardsdatascience.com/how-to-split-a-tensorflow-dataset-into-train-validation-and-test-sets-526c8dd29438\n",
    "def get_dataset_partitions_tf(ds, ds_size, train_split=0.8, test_split=0.1, val_split=0.1, shuffle=True, shuffle_size=10000):\n",
    "    assert (train_split + test_split + val_split) == 1\n",
    "    \n",
    "    if shuffle:\n",
    "        # Specify seed to always have the same split distribution between runs\n",
    "        ds = ds.shuffle(shuffle_size, seed=12)\n",
    "    \n",
    "    train_size = int(train_split * ds_size)\n",
    "    val_size = int(val_split * ds_size)\n",
    "    \n",
    "    train_ds = ds.take(train_size)    \n",
    "    val_ds = ds.skip(train_size).take(val_size)\n",
    "    test_ds = ds.skip(train_size).skip(val_size)\n",
    "    \n",
    "    return train_ds, val_ds, test_ds"
   ]
  },
  {
   "cell_type": "code",
   "execution_count": 6,
   "id": "4ba38be2-a9d5-49c8-9f29-d87ab931e7e4",
   "metadata": {
    "tags": []
   },
   "outputs": [],
   "source": [
    "columns = {\"event_minute\": tf.TensorSpec(tf.TensorShape([]), tf.int32),\n",
    "           \"event_day\": tf.TensorSpec(tf.TensorShape([]), tf.int32), \n",
    "           \"event_hour\": tf.TensorSpec(tf.TensorShape([]), tf.int32)\n",
    "                          }"
   ]
  },
  {
   "cell_type": "code",
   "execution_count": null,
   "id": "d01a8ba1-5219-492b-9fa3-c583484353fc",
   "metadata": {
    "tags": []
   },
   "outputs": [],
   "source": []
  },
  {
   "cell_type": "code",
   "execution_count": 7,
   "id": "c339aa6f-e25d-453b-8d68-67928bd82e69",
   "metadata": {
    "tags": []
   },
   "outputs": [],
   "source": [
    "# c_col = len(df.columns)"
   ]
  },
  {
   "cell_type": "code",
   "execution_count": null,
   "id": "be526c43-eda2-4080-9b63-3970730b8998",
   "metadata": {},
   "outputs": [],
   "source": []
  },
  {
   "cell_type": "code",
   "execution_count": 8,
   "id": "c7fecd91-1b0b-4296-a3f8-98fb7085cee5",
   "metadata": {
    "tags": []
   },
   "outputs": [],
   "source": [
    "# import pyarrow.parquet as pq\n",
    "# import s3fs\n",
    "# s3 = s3fs.S3FileSystem()"
   ]
  },
  {
   "cell_type": "code",
   "execution_count": 9,
   "id": "6ab7121b-8fe1-4ec8-9403-1d6818fd3426",
   "metadata": {
    "tags": []
   },
   "outputs": [],
   "source": [
    "# pandas_dataframe = pq.ParquetDataset('s3://sapient-bucket-trusted/prod/graph/first_events', filesystem=s3).read_pandas().to_pandas()"
   ]
  },
  {
   "cell_type": "code",
   "execution_count": null,
   "id": "33a5a7fd-3bae-4f76-8b7a-4af72b2996d6",
   "metadata": {},
   "outputs": [],
   "source": []
  },
  {
   "cell_type": "code",
   "execution_count": 10,
   "id": "de091740-cc2d-475e-905f-919bbfe816d0",
   "metadata": {
    "tags": []
   },
   "outputs": [],
   "source": [
    "# TENSORFLOW CONFIGURATION\n",
    "TRAIN_SIZE = 640\n",
    "SHUFFLE_BUFFER = 500\n",
    "BATCH_SIZE = 32\n",
    "AUTO = tf.data.experimental.AUTOTUNE\n",
    "tf.config.threading.set_inter_op_parallelism_threads(16)\n",
    "pd.set_option('display.max_columns', None)"
   ]
  },
  {
   "cell_type": "code",
   "execution_count": 11,
   "id": "f1142c6b-5a01-4896-adc0-d5b95aa897d5",
   "metadata": {
    "tags": []
   },
   "outputs": [],
   "source": [
    "nonnull_ecar_cols = [\n",
    "    'id', 'objectID','actorID','object','action','hostname', 'image_path', \n",
    "    'parent_image_path', 'new_path', 'file_path', 'malicious'\n",
    "            ]"
   ]
  },
  {
   "cell_type": "code",
   "execution_count": 12,
   "id": "6e2e3a69-ada6-49f7-b9f5-576eae3e63d0",
   "metadata": {
    "tags": []
   },
   "outputs": [],
   "source": [
    "lb = LabelBinarizer()\n",
    "mlb = MultiLabelBinarizer(sparse_output=True)"
   ]
  },
  {
   "cell_type": "code",
   "execution_count": 13,
   "id": "50ce2eb1-ac9e-48d6-bb27-174a4d3ff6fc",
   "metadata": {
    "tags": []
   },
   "outputs": [
    {
     "name": "stderr",
     "output_type": "stream",
     "text": [
      "                                                                                \r"
     ]
    },
    {
     "name": "stdout",
     "output_type": "stream",
     "text": [
      " 6:48PM UTC on Mar 19, 2023 --- read time: 10.430203676223755 seconds ---\n"
     ]
    },
    {
     "name": "stderr",
     "output_type": "stream",
     "text": [
      "[Stage 5:======================================================>  (48 + 2) / 50]\r"
     ]
    },
    {
     "name": "stdout",
     "output_type": "stream",
     "text": [
      "+---------+------+\n",
      "|malicious| count|\n",
      "+---------+------+\n",
      "|   benign|981985|\n",
      "|malicious|  3642|\n",
      "+---------+------+\n",
      "\n"
     ]
    },
    {
     "name": "stderr",
     "output_type": "stream",
     "text": [
      "                                                                                \r"
     ]
    }
   ],
   "source": [
    "readFirstEvents().withColumn(\"malicious\", when(col('malicious') == 1, \"malicious\")\n",
    "                                            .otherwise(\"benign\")) \\\n",
    "                .groupBy(\"malicious\").count().show()"
   ]
  },
  {
   "cell_type": "code",
   "execution_count": 14,
   "id": "c8e3cd8b-5c86-4ddd-bc99-d1177cb2fd77",
   "metadata": {
    "tags": []
   },
   "outputs": [
    {
     "name": "stderr",
     "output_type": "stream",
     "text": [
      "                                                                                \r"
     ]
    },
    {
     "name": "stdout",
     "output_type": "stream",
     "text": [
      " 6:48PM UTC on Mar 19, 2023 --- read time: 5.302300453186035 seconds ---\n"
     ]
    },
    {
     "name": "stderr",
     "output_type": "stream",
     "text": [
      "                                                                                \r"
     ]
    }
   ],
   "source": [
    "df = readFirstEvents().select(*nonnull_ecar_cols).cache() \\\n",
    "                    .withColumn(\"malicious\", when(col('malicious') == 1, \"malicious\")\n",
    "                                            .otherwise(\"benign\")) \\\n",
    "                    .toPandas()"
   ]
  },
  {
   "cell_type": "code",
   "execution_count": 15,
   "id": "0ab300c7-84fe-4663-a560-1cd4a0e2ae31",
   "metadata": {
    "tags": []
   },
   "outputs": [
    {
     "data": {
      "text/plain": [
       "Index(['id', 'objectID', 'actorID', 'object', 'action', 'hostname',\n",
       "       'image_path', 'parent_image_path', 'new_path', 'file_path',\n",
       "       'malicious'],\n",
       "      dtype='object')"
      ]
     },
     "execution_count": 15,
     "metadata": {},
     "output_type": "execute_result"
    }
   ],
   "source": [
    "df.columns"
   ]
  },
  {
   "cell_type": "code",
   "execution_count": 16,
   "id": "ffcb0a8a-1d4a-494c-94e2-c17ed68f46ea",
   "metadata": {
    "tags": []
   },
   "outputs": [
    {
     "name": "stderr",
     "output_type": "stream",
     "text": [
      "2023-03-19 18:48:58.070616: I tensorflow/compiler/xla/stream_executor/cuda/cuda_gpu_executor.cc:981] successful NUMA node read from SysFS had negative value (-1), but there must be at least one NUMA node, so returning NUMA node zero\n",
      "2023-03-19 18:49:00.060273: I tensorflow/compiler/xla/stream_executor/cuda/cuda_gpu_executor.cc:981] successful NUMA node read from SysFS had negative value (-1), but there must be at least one NUMA node, so returning NUMA node zero\n",
      "2023-03-19 18:49:00.062136: I tensorflow/compiler/xla/stream_executor/cuda/cuda_gpu_executor.cc:981] successful NUMA node read from SysFS had negative value (-1), but there must be at least one NUMA node, so returning NUMA node zero\n",
      "2023-03-19 18:49:00.064273: I tensorflow/core/platform/cpu_feature_guard.cc:193] This TensorFlow binary is optimized with oneAPI Deep Neural Network Library (oneDNN) to use the following CPU instructions in performance-critical operations:  AVX2 FMA\n",
      "To enable them in other operations, rebuild TensorFlow with the appropriate compiler flags.\n",
      "2023-03-19 18:49:00.064986: I tensorflow/compiler/xla/stream_executor/cuda/cuda_gpu_executor.cc:981] successful NUMA node read from SysFS had negative value (-1), but there must be at least one NUMA node, so returning NUMA node zero\n",
      "2023-03-19 18:49:00.066450: I tensorflow/compiler/xla/stream_executor/cuda/cuda_gpu_executor.cc:981] successful NUMA node read from SysFS had negative value (-1), but there must be at least one NUMA node, so returning NUMA node zero\n",
      "2023-03-19 18:49:00.067837: I tensorflow/compiler/xla/stream_executor/cuda/cuda_gpu_executor.cc:981] successful NUMA node read from SysFS had negative value (-1), but there must be at least one NUMA node, so returning NUMA node zero\n",
      "2023-03-19 18:49:00.707461: I tensorflow/compiler/xla/stream_executor/cuda/cuda_gpu_executor.cc:981] successful NUMA node read from SysFS had negative value (-1), but there must be at least one NUMA node, so returning NUMA node zero\n",
      "2023-03-19 18:49:00.708267: I tensorflow/compiler/xla/stream_executor/cuda/cuda_gpu_executor.cc:981] successful NUMA node read from SysFS had negative value (-1), but there must be at least one NUMA node, so returning NUMA node zero\n",
      "2023-03-19 18:49:00.708853: I tensorflow/compiler/xla/stream_executor/cuda/cuda_gpu_executor.cc:981] successful NUMA node read from SysFS had negative value (-1), but there must be at least one NUMA node, so returning NUMA node zero\n",
      "2023-03-19 18:49:00.709422: I tensorflow/core/common_runtime/gpu/gpu_device.cc:1613] Created device /job:localhost/replica:0/task:0/device:GPU:0 with 20624 MB memory:  -> device: 0, name: NVIDIA A10G, pci bus id: 0000:00:1e.0, compute capability: 8.6\n"
     ]
    }
   ],
   "source": [
    "list_ds = tf.convert_to_tensor(df.fillna('unknown'))"
   ]
  },
  {
   "cell_type": "code",
   "execution_count": 17,
   "id": "995e1845-f9d1-4c37-a91b-e3a6cd8a0515",
   "metadata": {
    "tags": []
   },
   "outputs": [],
   "source": [
    "event_count = list_ds.shape[0]"
   ]
  },
  {
   "cell_type": "code",
   "execution_count": 18,
   "id": "a9f2c214-ee39-4a31-bf4f-30fbf3f09efc",
   "metadata": {
    "tags": []
   },
   "outputs": [],
   "source": [
    "numeric_dataset = tf.data.Dataset.from_tensor_slices(list_ds)"
   ]
  },
  {
   "cell_type": "code",
   "execution_count": 19,
   "id": "089b7203-0f38-424d-a78a-b084d4c2bac3",
   "metadata": {
    "tags": []
   },
   "outputs": [],
   "source": [
    "# shuffle the data\n",
    "numeric_dataset = numeric_dataset.shuffle(event_count, reshuffle_each_iteration=False)"
   ]
  },
  {
   "cell_type": "code",
   "execution_count": 20,
   "id": "5cab49f9-53a8-4fee-96fb-a382839cc8cb",
   "metadata": {
    "tags": []
   },
   "outputs": [],
   "source": [
    "train_ds, test_ds, val_ds = get_dataset_partitions_tf(numeric_dataset, ds_size=event_count, train_split=0.8, test_split=0.1, val_split=0.1, \n",
    "                                                      shuffle=True, shuffle_size=10000)"
   ]
  },
  {
   "cell_type": "code",
   "execution_count": 21,
   "id": "b9182196-e8e1-4802-9def-cd6a8f62c8b0",
   "metadata": {
    "tags": []
   },
   "outputs": [
    {
     "name": "stdout",
     "output_type": "stream",
     "text": [
      "Number of batches in train:  788501\n",
      "Number of batches in test:  98562\n",
      "Number of batches in val:  98564\n"
     ]
    }
   ],
   "source": [
    "print(\"Number of batches in train: \", train_ds.cardinality().numpy())\n",
    "print(\"Number of batches in test: \", test_ds.cardinality().numpy())\n",
    "print(\"Number of batches in val: \", val_ds.cardinality().numpy())"
   ]
  },
  {
   "cell_type": "code",
   "execution_count": 22,
   "id": "24b9d569-7dc6-48ad-a421-e108bca7cb20",
   "metadata": {
    "tags": []
   },
   "outputs": [
    {
     "data": {
      "text/plain": [
       "<TakeDataset element_spec=TensorSpec(shape=(11,), dtype=tf.string, name=None)>"
      ]
     },
     "execution_count": 22,
     "metadata": {},
     "output_type": "execute_result"
    }
   ],
   "source": [
    "train_ds"
   ]
  },
  {
   "cell_type": "code",
   "execution_count": 23,
   "id": "576ef88e-f13e-4297-bfa7-6339e1dc556a",
   "metadata": {
    "tags": []
   },
   "outputs": [
    {
     "data": {
      "text/plain": [
       "<tf.Tensor: shape=(11,), dtype=string, numpy=\n",
       "array([b'8a9b561f-c730-4cb0-9dd4-9d779f86ad23',\n",
       "       b'c1939a02-704c-4c5d-8974-be980e9b7fd6',\n",
       "       b'27413c5c-8b59-49e5-802b-583c184769e6', b'FLOW', b'INFO',\n",
       "       b'SysClient0321.systemia.com', b'unknown', b'unknown', b'unknown',\n",
       "       b'unknown', b'benign'], dtype=object)>"
      ]
     },
     "execution_count": 23,
     "metadata": {},
     "output_type": "execute_result"
    }
   ],
   "source": [
    "next(iter(train_ds))"
   ]
  },
  {
   "cell_type": "code",
   "execution_count": 24,
   "id": "8b2c0594-eb94-4df9-bf7b-5294e478c257",
   "metadata": {
    "tags": []
   },
   "outputs": [],
   "source": [
    "# convert the tensor object to a graph tensor object\n",
    "gnn_ds = tf.identity(list_ds)"
   ]
  },
  {
   "cell_type": "code",
   "execution_count": null,
   "id": "ccf92ece-65db-4ef5-91d8-27ce08f43202",
   "metadata": {},
   "outputs": [],
   "source": []
  },
  {
   "cell_type": "code",
   "execution_count": null,
   "id": "47def20e-eaeb-4888-ba4d-983b8d146dd5",
   "metadata": {
    "tags": []
   },
   "outputs": [],
   "source": []
  },
  {
   "cell_type": "code",
   "execution_count": null,
   "id": "d3002198-012c-48ab-a8d4-007e7af962ee",
   "metadata": {
    "tags": []
   },
   "outputs": [],
   "source": []
  },
  {
   "cell_type": "code",
   "execution_count": null,
   "id": "14c38c88-cf0e-44b4-b6b8-682bd8bd6f80",
   "metadata": {},
   "outputs": [],
   "source": []
  },
  {
   "cell_type": "code",
   "execution_count": null,
   "id": "f1982638-b6e8-4d6e-a9f1-b38165dacb02",
   "metadata": {},
   "outputs": [],
   "source": []
  },
  {
   "cell_type": "code",
   "execution_count": null,
   "id": "d79d32d6-d0a1-472b-ba38-a26b4550470c",
   "metadata": {},
   "outputs": [],
   "source": []
  },
  {
   "cell_type": "code",
   "execution_count": null,
   "id": "becb360a-867a-420a-a489-7b5bf3b9afa7",
   "metadata": {},
   "outputs": [],
   "source": [
    "# create graph with tensorflow gnn"
   ]
  },
  {
   "cell_type": "code",
   "execution_count": null,
   "id": "423cfb7a-c798-4ce5-99db-f8732847b8d8",
   "metadata": {
    "tags": []
   },
   "outputs": [],
   "source": [
    "graph_schema = tfgnn.read_schema(\"./graph_schema.pbtxt\")"
   ]
  },
  {
   "cell_type": "code",
   "execution_count": null,
   "id": "fee9a932-91c1-4eb2-a0fe-9e279fc25d22",
   "metadata": {
    "tags": []
   },
   "outputs": [],
   "source": [
    "gtspec = tfgnn.create_graph_spec_from_schema_pb(graph_schema)"
   ]
  },
  {
   "cell_type": "code",
   "execution_count": null,
   "id": "b22a0296-0e82-4955-84c6-9d173e87848a",
   "metadata": {
    "tags": []
   },
   "outputs": [],
   "source": [
    "dataset = numeric_dataset.map(tfgnn.keras.layers.ParseExample(gtspec))"
   ]
  },
  {
   "cell_type": "code",
   "execution_count": null,
   "id": "7b144573-aaa8-448c-998b-350ce29deb46",
   "metadata": {
    "tags": []
   },
   "outputs": [],
   "source": [
    "preproc_input_spec = dataset.element_spec"
   ]
  },
  {
   "cell_type": "code",
   "execution_count": null,
   "id": "d1fe7225-06f8-4ecb-8b42-cf6d3fcff281",
   "metadata": {
    "tags": []
   },
   "outputs": [],
   "source": [
    "# Define and apply the preprocessing model.\n",
    "preproc_input = tf.keras.layers.Input(type_spec=preproc_input_spec)"
   ]
  },
  {
   "cell_type": "code",
   "execution_count": null,
   "id": "c1e29ccd-d195-4ac2-99fa-65ef270d78f5",
   "metadata": {
    "tags": []
   },
   "outputs": [],
   "source": [
    "preproc_input"
   ]
  },
  {
   "cell_type": "code",
   "execution_count": null,
   "id": "ec25dd52-2517-4782-b4c7-bd0982825040",
   "metadata": {},
   "outputs": [],
   "source": []
  },
  {
   "cell_type": "code",
   "execution_count": null,
   "id": "709db261-565d-492b-b192-7603b18d3670",
   "metadata": {},
   "outputs": [],
   "source": []
  }
 ],
 "metadata": {
  "kernelspec": {
   "display_name": "conda_python3",
   "language": "python",
   "name": "conda_python3"
  },
  "language_info": {
   "codemirror_mode": {
    "name": "ipython",
    "version": 3
   },
   "file_extension": ".py",
   "mimetype": "text/x-python",
   "name": "python",
   "nbconvert_exporter": "python",
   "pygments_lexer": "ipython3",
   "version": "3.10.8"
  }
 },
 "nbformat": 4,
 "nbformat_minor": 5
}
