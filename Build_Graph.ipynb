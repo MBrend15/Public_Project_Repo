{
 "cells": [
  {
   "cell_type": "code",
   "execution_count": 16,
   "id": "d16b8eb5-80f6-4b4d-adec-917bad921ce4",
   "metadata": {
    "tags": []
   },
   "outputs": [],
   "source": [
    "#setup based on this: https://t-redactyl.io/blog/2020/08/reading-s3-data-into-a-spark-dataframe-using-sagemaker.html\n",
    "import boto3\n",
    "import json \n",
    "import time\n",
    "import pandas as pd\n",
    "from pyspark import SparkConf\n",
    "from pyspark.sql import SparkSession\n",
    "from pyspark.sql.functions import explode, split, isnan, when, count, col, to_date\n",
    "import matplotlib.pyplot as plt\n",
    "import sagemaker_pyspark\n",
    "import botocore.session"
   ]
  },
  {
   "cell_type": "code",
   "execution_count": 2,
   "id": "428156e5-0f82-423d-8df9-ca1b1b9e3ae1",
   "metadata": {
    "tags": []
   },
   "outputs": [
    {
     "name": "stderr",
     "output_type": "stream",
     "text": [
      "Warning: Ignoring non-Spark config property: fs.s3a.access.key\n",
      "Warning: Ignoring non-Spark config property: fs.s3a.secret.key\n",
      "Setting default log level to \"WARN\".\n",
      "To adjust logging level use sc.setLogLevel(newLevel). For SparkR, use setLogLevel(newLevel).\n"
     ]
    },
    {
     "name": "stdout",
     "output_type": "stream",
     "text": [
      "23/02/20 21:37:02 WARN NativeCodeLoader: Unable to load native-hadoop library for your platform... using builtin-java classes where applicable\n",
      "23/02/20 21:37:04 WARN Utils: Service 'SparkUI' could not bind on port 4040. Attempting port 4041.\n"
     ]
    }
   ],
   "source": [
    "session = botocore.session.get_session()\n",
    "credentials = session.get_credentials()\n",
    "\n",
    "client = boto3.client('secretsmanager')\n",
    "response = client.get_secret_value(\n",
    "    SecretId='sapient-s3-access'\n",
    ")\n",
    "response = json.loads(response['SecretString'])\n",
    "access_key = response[\"aws_access_key_id\"]\n",
    "secret_key = response[\"aws_secret_access_key\"]\n",
    "\n",
    "conf = (SparkConf()\n",
    "        .set(\"spark.driver.extraClassPath\", \":\".join(sagemaker_pyspark.classpath_jars())))\n",
    "\n",
    "spark = (\n",
    "    SparkSession\n",
    "    .builder\n",
    "    .config(conf=conf) \\\n",
    "    .config('fs.s3a.access.key', access_key)\n",
    "    .config('fs.s3a.secret.key', secret_key)\n",
    "    .config('spark.network.timeout', 300)\n",
    "    .config('spark.memory.offHeap.size','4g')\n",
    "    .config('spark.executor.memory', '16g')\n",
    "    .appName(\"sapient\")\n",
    "    .getOrCreate()\n",
    ")\n",
    "\n"
   ]
  },
  {
   "cell_type": "code",
   "execution_count": 3,
   "id": "71f7970c-6179-4c0c-8af2-cb85a6bfbe81",
   "metadata": {
    "tags": []
   },
   "outputs": [],
   "source": [
    "# read from raw bucket + write to refined bucket + aggregate final to the trusted bucket\n",
    "s3_url_raw = \"s3a://sapient-bucket-raw/\"\n",
    "s3_url_refined = \"s3a://sapient-bucket-refined/\"\n",
    "s3_url_trusted = \"s3a://sapient-bucket-trusted/\"\n",
    "bro_cols_conn = ['ts', 'uid', 'id.orig_h', 'id.orig_p', 'id.resp_', 'id.resp_p', 'proto', 'service', 'duration', 'orig_bytes', 'resp_bytes', 'conn_state', \n",
    "                 'local_orig', 'local_resp', 'missed_bytes', 'history', 'orig_pkts', 'orig_ip_bytes', 'resp_pkts', 'resp_ip_bytes', 'tunnel_parents']\n",
    "bro_cols_rep = ['ts', 'level', 'message', 'location']\n",
    "\n",
    "# ecarbro.json, AIA-1-25.ecar.json, conn.09_00_00-10_00_00.log\n",
    "def s3_file(file):\n",
    "    dev_file = f\"{s3_url_raw}/{env}/{file}\"\n",
    "    prod_file = \"\"\n",
    "    if env == \"prod\":\n",
    "      filename = prod_file\n",
    "    else:\n",
    "      filename = dev_file\n",
    "    return filename\n",
    "\n",
    "def loadAndCheckpoint(type):\n",
    "    \"\"\"\n",
    "    type: ecar, ecar-bro, bro, labels\n",
    "    This function reads a file from json or log text and writes it as a parquet.\n",
    "    \"\"\"\n",
    "    ecar_fil = [(\"FLOW\"), (\"PROCESS\"), (\"FILE\"),(\"SHELL\")]\n",
    "    start_time = time.time()\n",
    "    if type == 'ecar':\n",
    "        #adding filter to dispense objects not included in the list above. \n",
    "        df = spark.read.json(f\"{s3_url_raw}/{env}/{type}/**/**/**/*.json\").filter(col(\"Object\").isin(ecar_fil)) #.filter((col(\"object\") == \"FILE\") | (col(\"object\") == \"FLOW\") \n",
    "                                #| (col(\"object\") == \"PROCESS\") | (col(\"object\") == \"SHELL\"))\n",
    "        df = df.limit(5000)\n",
    "        df = df.select(*df.columns, \"properties.*\").drop('properties')\n",
    "        df.write.option(\"maxRecordsPerFile\", 100000).mode(\"overwrite\").parquet(f\"{s3_url_refined}/{env}/{type}\")\n",
    "    elif type == 'ecar-bro':\n",
    "        df = spark.read.json(f\"{s3_url_raw}/{env}/{type}/**/**/**/*.json\")#.filter((col(\"object\") == \"FILE\") | (col(\"object\") == \"FLOW\") \n",
    "                                #| (col(\"object\") == \"PROCESS\") | (col(\"object\") == \"SHELL\"))\n",
    "        # this will extract and flatten nested properties column\n",
    "        df = df.limit(1000)\n",
    "        df = df.select(*df.columns, \"properties.*\").drop('properties')\n",
    "        df.write.option(\"maxRecordsPerFile\", 100000).mode(\"overwrite\").parquet(f\"{s3_url_refined}/{env}/{type}\")\n",
    "    elif type == 'bro':\n",
    "        df = spark.read.csv(f\"{s3_url_raw}/{env}/**/**/*.log\", sep=\"\\t\", comment=\"#\", header=False)#.filter(col(\"`id.resp_p`\") != 443)\n",
    "        #df = df.limit(1000)\n",
    "        df = df.toDF(*bro_cols_conn)\n",
    "        df.write.option(\"maxRecordsPerFile\", 100000).mode(\"overwrite\").parquet(f\"{s3_url_refined}/{env}/{type}\")\n",
    "    elif type == 'labels':\n",
    "        df = spark.read.csv(f\"{s3_url_raw}/{env}/{type}/*.csv\", sep=\",\", header=True)\n",
    "        df.write.option(\"maxRecordsPerFile\", 100000).mode(\"overwrite\").parquet(f\"{s3_url_refined}/{env}/{type}\")\n",
    "    print(\"--- %s seconds ---\" % (time.time() - start_time))\n",
    "    df.unpersist()\n",
    "    \n",
    "def readCheckpoint(file_type):\n",
    "    \"\"\"\n",
    "    type: ecar, ecar-bro, bro\n",
    "    \"\"\"\n",
    "    s3_parquet_loc = f\"{s3_url_refined}/{env}/{file_type}\"\n",
    "    start_time = time.time()\n",
    "    df = spark.read.parquet(s3_parquet_loc)\n",
    "    # rdd = spark.sparkContext.parallelize(df.take(1000))\n",
    "    # print(f\"Your dataframe has {rdd.count():,} rows.\")\n",
    "    print(\"--- %s seconds ---\" % (time.time() - start_time))\n",
    "    return df\n",
    "\n",
    "# env can be dev or prod\n",
    "env = \"dev\"\n"
   ]
  },
  {
   "cell_type": "code",
   "execution_count": 5,
   "id": "e542b85e-de89-48d5-924b-7f55170d2a8c",
   "metadata": {
    "tags": []
   },
   "outputs": [
    {
     "name": "stderr",
     "output_type": "stream",
     "text": [
      "                                                                                \r"
     ]
    },
    {
     "name": "stdout",
     "output_type": "stream",
     "text": [
      "--- 6.91527795791626 seconds ---\n",
      "--- 0.2581140995025635 seconds ---\n"
     ]
    }
   ],
   "source": [
    "loadAndCheckpoint(\"labels\")\n",
    "df_labels = readCheckpoint('labels')"
   ]
  },
  {
   "cell_type": "code",
   "execution_count": 7,
   "id": "b5f1b8d8-ce59-414b-ac0b-9662ef942a2b",
   "metadata": {
    "tags": []
   },
   "outputs": [
    {
     "name": "stdout",
     "output_type": "stream",
     "text": [
      "root\n",
      " |-- hostname: string (nullable = true)\n",
      " |-- id: string (nullable = true)\n",
      " |-- objectID: string (nullable = true)\n",
      " |-- actorID: string (nullable = true)\n",
      " |-- timestamp: string (nullable = true)\n",
      " |-- object: string (nullable = true)\n",
      " |-- action: string (nullable = true)\n",
      "\n"
     ]
    }
   ],
   "source": [
    "df_labels.printSchema()"
   ]
  },
  {
   "cell_type": "code",
   "execution_count": 8,
   "id": "608d0cb2-e1e7-46d3-8d81-a1e1fcf06e0b",
   "metadata": {
    "tags": []
   },
   "outputs": [
    {
     "name": "stderr",
     "output_type": "stream",
     "text": [
      "                                                                                \r"
     ]
    },
    {
     "data": {
      "text/html": [
       "<div>\n",
       "<style scoped>\n",
       "    .dataframe tbody tr th:only-of-type {\n",
       "        vertical-align: middle;\n",
       "    }\n",
       "\n",
       "    .dataframe tbody tr th {\n",
       "        vertical-align: top;\n",
       "    }\n",
       "\n",
       "    .dataframe thead th {\n",
       "        text-align: right;\n",
       "    }\n",
       "</style>\n",
       "<table border=\"1\" class=\"dataframe\">\n",
       "  <thead>\n",
       "    <tr style=\"text-align: right;\">\n",
       "      <th></th>\n",
       "      <th>hostname</th>\n",
       "      <th>id</th>\n",
       "      <th>objectID</th>\n",
       "      <th>actorID</th>\n",
       "      <th>timestamp</th>\n",
       "      <th>object</th>\n",
       "      <th>action</th>\n",
       "    </tr>\n",
       "  </thead>\n",
       "  <tbody>\n",
       "    <tr>\n",
       "      <th>0</th>\n",
       "      <td>SysClient0010.systemia.com</td>\n",
       "      <td>56036068-0c69-49ff-9630-6c402031fc7f</td>\n",
       "      <td>8b335bf1-f27e-42ff-80b9-8c60c25eb212</td>\n",
       "      <td>3a3de01b-44d0-4a13-95fb-d6c2c318ec3d</td>\n",
       "      <td>2019-09-25T01:28:37.665-04:00</td>\n",
       "      <td>SHELL</td>\n",
       "      <td>COMMAND</td>\n",
       "    </tr>\n",
       "    <tr>\n",
       "      <th>1</th>\n",
       "      <td>SysClient0010.systemia.com</td>\n",
       "      <td>89e62e88-a429-4e8b-a334-27c8b7276ba3</td>\n",
       "      <td>8b335bf1-f27e-42ff-80b9-8c60c25eb212</td>\n",
       "      <td>3a3de01b-44d0-4a13-95fb-d6c2c318ec3d</td>\n",
       "      <td>2019-09-25T01:28:37.666-04:00</td>\n",
       "      <td>SHELL</td>\n",
       "      <td>COMMAND</td>\n",
       "    </tr>\n",
       "    <tr>\n",
       "      <th>2</th>\n",
       "      <td>SysClient0010.systemia.com</td>\n",
       "      <td>f2265f4a-fa24-46b2-98e3-51c19b85f446</td>\n",
       "      <td>244580f1-dd97-4afc-a249-4ed571a0cd77</td>\n",
       "      <td>3a3de01b-44d0-4a13-95fb-d6c2c318ec3d</td>\n",
       "      <td>2019-09-25T01:28:37.963-04:00</td>\n",
       "      <td>FLOW</td>\n",
       "      <td>MESSAGE</td>\n",
       "    </tr>\n",
       "    <tr>\n",
       "      <th>3</th>\n",
       "      <td>SysClient0010.systemia.com</td>\n",
       "      <td>98f2c5b5-0a43-420e-9201-cecba96624b8</td>\n",
       "      <td>1829c1a0-a7b0-4cbb-843a-5b947a744500</td>\n",
       "      <td>3a3de01b-44d0-4a13-95fb-d6c2c318ec3d</td>\n",
       "      <td>2019-09-25T01:28:37.964-04:00</td>\n",
       "      <td>FLOW</td>\n",
       "      <td>MESSAGE</td>\n",
       "    </tr>\n",
       "    <tr>\n",
       "      <th>4</th>\n",
       "      <td>SysClient0010.systemia.com</td>\n",
       "      <td>587fd978-0239-44a3-9780-d3fe3bbd2e72</td>\n",
       "      <td>8b335bf1-f27e-42ff-80b9-8c60c25eb212</td>\n",
       "      <td>3a3de01b-44d0-4a13-95fb-d6c2c318ec3d</td>\n",
       "      <td>2019-09-25T01:29:07.75-04:00</td>\n",
       "      <td>SHELL</td>\n",
       "      <td>COMMAND</td>\n",
       "    </tr>\n",
       "  </tbody>\n",
       "</table>\n",
       "</div>"
      ],
      "text/plain": [
       "                     hostname                                    id  \\\n",
       "0  SysClient0010.systemia.com  56036068-0c69-49ff-9630-6c402031fc7f   \n",
       "1  SysClient0010.systemia.com  89e62e88-a429-4e8b-a334-27c8b7276ba3   \n",
       "2  SysClient0010.systemia.com  f2265f4a-fa24-46b2-98e3-51c19b85f446   \n",
       "3  SysClient0010.systemia.com  98f2c5b5-0a43-420e-9201-cecba96624b8   \n",
       "4  SysClient0010.systemia.com  587fd978-0239-44a3-9780-d3fe3bbd2e72   \n",
       "\n",
       "                               objectID                               actorID  \\\n",
       "0  8b335bf1-f27e-42ff-80b9-8c60c25eb212  3a3de01b-44d0-4a13-95fb-d6c2c318ec3d   \n",
       "1  8b335bf1-f27e-42ff-80b9-8c60c25eb212  3a3de01b-44d0-4a13-95fb-d6c2c318ec3d   \n",
       "2  244580f1-dd97-4afc-a249-4ed571a0cd77  3a3de01b-44d0-4a13-95fb-d6c2c318ec3d   \n",
       "3  1829c1a0-a7b0-4cbb-843a-5b947a744500  3a3de01b-44d0-4a13-95fb-d6c2c318ec3d   \n",
       "4  8b335bf1-f27e-42ff-80b9-8c60c25eb212  3a3de01b-44d0-4a13-95fb-d6c2c318ec3d   \n",
       "\n",
       "                       timestamp object   action  \n",
       "0  2019-09-25T01:28:37.665-04:00  SHELL  COMMAND  \n",
       "1  2019-09-25T01:28:37.666-04:00  SHELL  COMMAND  \n",
       "2  2019-09-25T01:28:37.963-04:00   FLOW  MESSAGE  \n",
       "3  2019-09-25T01:28:37.964-04:00   FLOW  MESSAGE  \n",
       "4   2019-09-25T01:29:07.75-04:00  SHELL  COMMAND  "
      ]
     },
     "execution_count": 8,
     "metadata": {},
     "output_type": "execute_result"
    }
   ],
   "source": [
    "df_labels.limit(5).toPandas()"
   ]
  },
  {
   "cell_type": "code",
   "execution_count": 27,
   "id": "f7befb42-3cc1-45b7-956f-090cc9a3033d",
   "metadata": {
    "tags": []
   },
   "outputs": [],
   "source": [
    "#pull out malicious events from first day and count those events.\n",
    "df_labels_date = df_labels.withColumn(\"date\",to_date(\"timestamp\")) #df_labels.select(col(\"timestamp\"),to_date(col(\"timestamp\")).alias(\"date\")).show(5)"
   ]
  },
  {
   "cell_type": "code",
   "execution_count": 24,
   "id": "aa237b93-a0ce-499f-bd34-8c45addda1bf",
   "metadata": {
    "tags": []
   },
   "outputs": [
    {
     "name": "stdout",
     "output_type": "stream",
     "text": [
      "root\n",
      " |-- hostname: string (nullable = true)\n",
      " |-- id: string (nullable = true)\n",
      " |-- objectID: string (nullable = true)\n",
      " |-- actorID: string (nullable = true)\n",
      " |-- timestamp: string (nullable = true)\n",
      " |-- object: string (nullable = true)\n",
      " |-- action: string (nullable = true)\n",
      "\n"
     ]
    }
   ],
   "source": [
    "df_labels.printSchema()"
   ]
  },
  {
   "cell_type": "code",
   "execution_count": 29,
   "id": "f7f13129-0435-49ea-a548-8ce4e94a47da",
   "metadata": {
    "tags": []
   },
   "outputs": [
    {
     "name": "stderr",
     "output_type": "stream",
     "text": [
      "[Stage 8:>                                                          (0 + 1) / 1]\r"
     ]
    },
    {
     "name": "stdout",
     "output_type": "stream",
     "text": [
      "+--------------------+--------------------+--------------------+--------------------+--------------------+------+-------+----------+\n",
      "|            hostname|                  id|            objectID|             actorID|           timestamp|object| action|      date|\n",
      "+--------------------+--------------------+--------------------+--------------------+--------------------+------+-------+----------+\n",
      "|SysClient0010.sys...|56036068-0c69-49f...|8b335bf1-f27e-42f...|3a3de01b-44d0-4a1...|2019-09-25T01:28:...| SHELL|COMMAND|2019-09-25|\n",
      "|SysClient0010.sys...|89e62e88-a429-4e8...|8b335bf1-f27e-42f...|3a3de01b-44d0-4a1...|2019-09-25T01:28:...| SHELL|COMMAND|2019-09-25|\n",
      "|SysClient0010.sys...|f2265f4a-fa24-46b...|244580f1-dd97-4af...|3a3de01b-44d0-4a1...|2019-09-25T01:28:...|  FLOW|MESSAGE|2019-09-25|\n",
      "|SysClient0010.sys...|98f2c5b5-0a43-420...|1829c1a0-a7b0-4cb...|3a3de01b-44d0-4a1...|2019-09-25T01:28:...|  FLOW|MESSAGE|2019-09-25|\n",
      "|SysClient0010.sys...|587fd978-0239-44a...|8b335bf1-f27e-42f...|3a3de01b-44d0-4a1...|2019-09-25T01:29:...| SHELL|COMMAND|2019-09-25|\n",
      "+--------------------+--------------------+--------------------+--------------------+--------------------+------+-------+----------+\n",
      "only showing top 5 rows\n",
      "\n"
     ]
    },
    {
     "name": "stderr",
     "output_type": "stream",
     "text": [
      "                                                                                \r"
     ]
    }
   ],
   "source": [
    "df_labels_date.show(5)"
   ]
  }
 ],
 "metadata": {
  "kernelspec": {
   "display_name": "conda_python3",
   "language": "python",
   "name": "conda_python3"
  },
  "language_info": {
   "codemirror_mode": {
    "name": "ipython",
    "version": 3
   },
   "file_extension": ".py",
   "mimetype": "text/x-python",
   "name": "python",
   "nbconvert_exporter": "python",
   "pygments_lexer": "ipython3",
   "version": "3.10.8"
  }
 },
 "nbformat": 4,
 "nbformat_minor": 5
}
