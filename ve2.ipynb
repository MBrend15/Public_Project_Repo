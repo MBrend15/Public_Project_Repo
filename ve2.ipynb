{
 "cells": [
  {
   "cell_type": "code",
   "execution_count": 1,
   "id": "e431368d-df60-47bb-9e4b-787c63fd1531",
   "metadata": {
    "tags": []
   },
   "outputs": [
    {
     "name": "stderr",
     "output_type": "stream",
     "text": [
      "Matplotlib is building the font cache; this may take a moment.\n",
      "Warning: Ignoring non-Spark config property: fs.s3a.access.key\n",
      "Warning: Ignoring non-Spark config property: fs.s3a.secret.key\n"
     ]
    },
    {
     "name": "stdout",
     "output_type": "stream",
     "text": [
      ":: loading settings :: url = jar:file:/home/ec2-user/anaconda3/envs/python3/lib/python3.10/site-packages/pyspark/jars/ivy-2.5.0.jar!/org/apache/ivy/core/settings/ivysettings.xml\n"
     ]
    },
    {
     "name": "stderr",
     "output_type": "stream",
     "text": [
      "Ivy Default Cache set to: /home/ec2-user/.ivy2/cache\n",
      "The jars for the packages stored in: /home/ec2-user/.ivy2/jars\n",
      "graphframes#graphframes added as a dependency\n",
      ":: resolving dependencies :: org.apache.spark#spark-submit-parent-84047dd5-525b-43ae-b809-77e671d451b0;1.0\n",
      "\tconfs: [default]\n",
      "\tfound graphframes#graphframes;0.8.2-spark3.2-s_2.12 in spark-packages\n",
      "\tfound org.slf4j#slf4j-api;1.7.16 in central\n",
      "downloading https://repos.spark-packages.org/graphframes/graphframes/0.8.2-spark3.2-s_2.12/graphframes-0.8.2-spark3.2-s_2.12.jar ...\n",
      "\t[SUCCESSFUL ] graphframes#graphframes;0.8.2-spark3.2-s_2.12!graphframes.jar (40ms)\n",
      "downloading https://repo1.maven.org/maven2/org/slf4j/slf4j-api/1.7.16/slf4j-api-1.7.16.jar ...\n",
      "\t[SUCCESSFUL ] org.slf4j#slf4j-api;1.7.16!slf4j-api.jar (22ms)\n",
      ":: resolution report :: resolve 667ms :: artifacts dl 63ms\n",
      "\t:: modules in use:\n",
      "\tgraphframes#graphframes;0.8.2-spark3.2-s_2.12 from spark-packages in [default]\n",
      "\torg.slf4j#slf4j-api;1.7.16 from central in [default]\n",
      "\t---------------------------------------------------------------------\n",
      "\t|                  |            modules            ||   artifacts   |\n",
      "\t|       conf       | number| search|dwnlded|evicted|| number|dwnlded|\n",
      "\t---------------------------------------------------------------------\n",
      "\t|      default     |   2   |   2   |   2   |   0   ||   2   |   2   |\n",
      "\t---------------------------------------------------------------------\n",
      ":: retrieving :: org.apache.spark#spark-submit-parent-84047dd5-525b-43ae-b809-77e671d451b0\n",
      "\tconfs: [default]\n",
      "\t2 artifacts copied, 0 already retrieved (281kB/6ms)\n"
     ]
    },
    {
     "name": "stdout",
     "output_type": "stream",
     "text": [
      "23/03/24 01:38:55 WARN NativeCodeLoader: Unable to load native-hadoop library for your platform... using builtin-java classes where applicable\n"
     ]
    },
    {
     "name": "stderr",
     "output_type": "stream",
     "text": [
      "Setting default log level to \"WARN\".\n",
      "To adjust logging level use sc.setLogLevel(newLevel). For SparkR, use setLogLevel(newLevel).\n"
     ]
    },
    {
     "name": "stdout",
     "output_type": "stream",
     "text": [
      "23/03/24 01:38:56 WARN SparkConf: Note that spark.local.dir will be overridden by the value set by the cluster manager (via SPARK_LOCAL_DIRS in mesos/standalone/kubernetes and LOCAL_DIRS in YARN).\n"
     ]
    }
   ],
   "source": [
    "%run read_file.ipynb\n"
   ]
  },
  {
   "cell_type": "code",
   "execution_count": 3,
   "id": "58538063-4347-4fee-b6ad-0ee65a4cd5ef",
   "metadata": {
    "tags": []
   },
   "outputs": [],
   "source": [
    "%run build_adjacency.ipynb"
   ]
  },
  {
   "cell_type": "code",
   "execution_count": 8,
   "id": "7eb6f5c5-4a98-41ca-a180-f7eb6be18a20",
   "metadata": {
    "tags": []
   },
   "outputs": [
    {
     "name": "stdout",
     "output_type": "stream",
     "text": [
      " 1:25AM UTC on Mar 13, 2023 --- read and cache time: 0.3010730743408203 seconds ---\n",
      "397\n",
      "length actIDs: 125\n",
      "elapsed time: 1.6015713214874268\n",
      "8f18426d-d87e-479f-802d-d6f49a34a1e1\n"
     ]
    },
    {
     "name": "stderr",
     "output_type": "stream",
     "text": [
      "                                                                                \r"
     ]
    },
    {
     "name": "stdout",
     "output_type": "stream",
     "text": [
      "no birth event for 17 events.\n",
      "elapsed time 2: 253.75643801689148\n"
     ]
    }
   ],
   "source": [
    "df_epm = readCheckpoint(size = \"medium\")\n",
    "df_epm = df_epm.limit(50000)\n",
    "df_ohe_test = build_adjaceny(df_epm)"
   ]
  },
  {
   "cell_type": "code",
   "execution_count": 9,
   "id": "6c4fbe99-bca2-4b75-9823-92eb4bb8b370",
   "metadata": {
    "tags": []
   },
   "outputs": [
    {
     "name": "stdout",
     "output_type": "stream",
     "text": [
      "root\n",
      " |-- order: integer (nullable = false)\n",
      " |-- parent_objectid: string (nullable = true)\n",
      " |-- parent_timestamp: string (nullable = true)\n",
      " |-- parent_object: string (nullable = true)\n",
      " |-- parent_parent_image_path: string (nullable = true)\n",
      " |-- parent_image_path: string (nullable = true)\n",
      " |-- parent_USER: string (nullable = true)\n",
      " |-- child_objectid: string (nullable = true)\n",
      " |-- child_timestamp: string (nullable = true)\n",
      " |-- child_object: string (nullable = true)\n",
      " |-- child_parent_image_path: string (nullable = true)\n",
      " |-- child_image_path: string (nullable = true)\n",
      " |-- child_USER: string (nullable = true)\n",
      "\n"
     ]
    }
   ],
   "source": [
    "df_ohe_test.printSchema()"
   ]
  },
  {
   "cell_type": "code",
   "execution_count": 10,
   "id": "671620c1-a669-40a6-81da-8725aaf7abeb",
   "metadata": {
    "tags": []
   },
   "outputs": [
    {
     "name": "stdout",
     "output_type": "stream",
     "text": [
      "+--------------------+\n",
      "|    child_image_path|\n",
      "+--------------------+\n",
      "|\\Device\\HarddiskV...|\n",
      "|              System|\n",
      "|\\Device\\HarddiskV...|\n",
      "|\\Device\\HarddiskV...|\n",
      "|\\Device\\HarddiskV...|\n",
      "|\\Device\\HarddiskV...|\n",
      "|\\Device\\HarddiskV...|\n",
      "|\\Device\\HarddiskV...|\n",
      "|\\Device\\HarddiskV...|\n",
      "|\\\\?\\C:\\Program Fi...|\n",
      "|\\Device\\HarddiskV...|\n",
      "|\\Device\\HarddiskV...|\n",
      "|            PING.EXE|\n",
      "+--------------------+\n",
      "\n"
     ]
    }
   ],
   "source": [
    "df_ohe_test.select(col(\"child_image_path\") == \"PING.EXE\").count()"
   ]
  },
  {
   "cell_type": "code",
   "execution_count": 11,
   "id": "7af478e6-e059-446b-91fc-6608630b42dc",
   "metadata": {
    "tags": []
   },
   "outputs": [
    {
     "data": {
      "text/plain": [
       "431"
      ]
     },
     "execution_count": 11,
     "metadata": {},
     "output_type": "execute_result"
    }
   ],
   "source": [
    "df_ohe_test.select(col(\"child_image_path\") == \"PING.EXE\").count()"
   ]
  },
  {
   "cell_type": "code",
   "execution_count": 21,
   "id": "fa06a9f4-81d7-4cec-9a93-56cea1ad3703",
   "metadata": {
    "tags": []
   },
   "outputs": [
    {
     "name": "stdout",
     "output_type": "stream",
     "text": [
      "+-------------+-------------+\n",
      "|parent_object| p_obj_sparse|\n",
      "+-------------+-------------+\n",
      "|      PROCESS|(1,[0],[1.0])|\n",
      "|      PROCESS|(1,[0],[1.0])|\n",
      "|      PROCESS|(1,[0],[1.0])|\n",
      "|      PROCESS|(1,[0],[1.0])|\n",
      "|      PROCESS|(1,[0],[1.0])|\n",
      "|      PROCESS|(1,[0],[1.0])|\n",
      "|      PROCESS|(1,[0],[1.0])|\n",
      "|      PROCESS|(1,[0],[1.0])|\n",
      "|      PROCESS|(1,[0],[1.0])|\n",
      "|      PROCESS|(1,[0],[1.0])|\n",
      "|      PROCESS|(1,[0],[1.0])|\n",
      "|      PROCESS|(1,[0],[1.0])|\n",
      "|      PROCESS|(1,[0],[1.0])|\n",
      "|      PROCESS|(1,[0],[1.0])|\n",
      "|      PROCESS|(1,[0],[1.0])|\n",
      "|      PROCESS|(1,[0],[1.0])|\n",
      "|      PROCESS|(1,[0],[1.0])|\n",
      "|      PROCESS|(1,[0],[1.0])|\n",
      "|      PROCESS|(1,[0],[1.0])|\n",
      "|      PROCESS|(1,[0],[1.0])|\n",
      "+-------------+-------------+\n",
      "\n"
     ]
    }
   ],
   "source": [
    "from pyspark.ml.feature import OneHotEncoder\n",
    "from pyspark.ml import Pipeline\n",
    "from pyspark.ml.feature import StringIndexer\n",
    "#turn into numeric index before encoding\n",
    "indexer = StringIndexer(inputCol='parent_object', outputCol='p_obj_numeric')\n",
    "indexer_fitted = indexer.fit(df_ohe_test)\n",
    "df_indexed = indexer_fitted.transform(df_ohe_test)\n",
    "\n",
    "encoder = OneHotEncoder(inputCols=['p_obj_numeric'], outputCols=['p_obj_sparse'],dropLast=False)\n",
    "df_onehot = encoder.fit(df_indexed).transform(df_indexed)\n",
    "df_onehot.select('parent_object','p_obj_sparse').limit(20).show()"
   ]
  },
  {
   "cell_type": "code",
   "execution_count": 18,
   "id": "49c96770-f194-4ed1-9f14-3a6d33556511",
   "metadata": {
    "tags": []
   },
   "outputs": [
    {
     "name": "stdout",
     "output_type": "stream",
     "text": [
      "root\n",
      " |-- order: integer (nullable = false)\n",
      " |-- parent_objectid: string (nullable = true)\n",
      " |-- parent_timestamp: string (nullable = true)\n",
      " |-- parent_object: string (nullable = true)\n",
      " |-- parent_parent_image_path: string (nullable = true)\n",
      " |-- parent_image_path: string (nullable = true)\n",
      " |-- parent_USER: string (nullable = true)\n",
      " |-- child_objectid: string (nullable = true)\n",
      " |-- child_timestamp: string (nullable = true)\n",
      " |-- child_object: string (nullable = true)\n",
      " |-- child_parent_image_path: string (nullable = true)\n",
      " |-- child_image_path: string (nullable = true)\n",
      " |-- child_USER: string (nullable = true)\n",
      " |-- p_obj_numeric: double (nullable = false)\n",
      " |-- p_obj_sparse: vector (nullable = true)\n",
      "\n"
     ]
    }
   ],
   "source": [
    "df_onehot.printSchema()"
   ]
  },
  {
   "cell_type": "code",
   "execution_count": 22,
   "id": "b1f9f726-4ddc-46c1-ab08-fc7140ba6130",
   "metadata": {
    "tags": []
   },
   "outputs": [
    {
     "name": "stdout",
     "output_type": "stream",
     "text": [
      "+-------------+-------------+\n",
      "| p_obj_sparse| c_obj_sparse|\n",
      "+-------------+-------------+\n",
      "|(1,[0],[1.0])|(2,[0],[1.0])|\n",
      "|(1,[0],[1.0])|(2,[0],[1.0])|\n",
      "|(1,[0],[1.0])|(2,[1],[1.0])|\n",
      "|(1,[0],[1.0])|(2,[0],[1.0])|\n",
      "|(1,[0],[1.0])|(2,[0],[1.0])|\n",
      "|(1,[0],[1.0])|(2,[0],[1.0])|\n",
      "|(1,[0],[1.0])|(2,[1],[1.0])|\n",
      "|(1,[0],[1.0])|(2,[0],[1.0])|\n",
      "|(1,[0],[1.0])|(2,[0],[1.0])|\n",
      "|(1,[0],[1.0])|(2,[0],[1.0])|\n",
      "|(1,[0],[1.0])|(2,[0],[1.0])|\n",
      "|(1,[0],[1.0])|(2,[0],[1.0])|\n",
      "|(1,[0],[1.0])|(2,[1],[1.0])|\n",
      "|(1,[0],[1.0])|(2,[0],[1.0])|\n",
      "|(1,[0],[1.0])|(2,[0],[1.0])|\n",
      "|(1,[0],[1.0])|(2,[0],[1.0])|\n",
      "|(1,[0],[1.0])|(2,[0],[1.0])|\n",
      "|(1,[0],[1.0])|(2,[0],[1.0])|\n",
      "|(1,[0],[1.0])|(2,[0],[1.0])|\n",
      "|(1,[0],[1.0])|(2,[0],[1.0])|\n",
      "+-------------+-------------+\n",
      "\n"
     ]
    }
   ],
   "source": [
    "#create sparse vecotrs for child objects\n",
    "from pyspark.ml.feature import OneHotEncoder\n",
    "from pyspark.ml import Pipeline\n",
    "from pyspark.ml.feature import StringIndexer\n",
    "#turn into numeric index before encoding\n",
    "indexer = StringIndexer(inputCol='child_object', outputCol='c_obj_numeric')\n",
    "indexer_fitted = indexer.fit(df_onehot)\n",
    "df_indexed = indexer_fitted.transform(df_onehot)\n",
    "\n",
    "encoder = OneHotEncoder(inputCols=['c_obj_numeric'], outputCols=['c_obj_sparse'],dropLast=False)\n",
    "df_onehot = encoder.fit(df_indexed).transform(df_indexed)\n",
    "df_onehot = df_onehot.drop('c_obj_numeric', 'p_obj_numeric')\n",
    "df_onehot.select('p_obj_sparse','c_obj_sparse').limit(20).show()"
   ]
  },
  {
   "cell_type": "code",
   "execution_count": 23,
   "id": "26299d84-227f-4f49-9306-725f0fd538e5",
   "metadata": {
    "tags": []
   },
   "outputs": [],
   "source": [
    "#combine sparse vectors and turn into string\n",
    "from pyspark.ml.feature import VectorAssembler\n",
    "# Use VectorAssembler to concatenate the two sparse vectors\n",
    "assembler = VectorAssembler(inputCols=['p_obj_sparse', 'c_obj_sparse'], outputCol=\"comb_sparse\")\n",
    "df_onehot_comb = assembler.transform(df_onehot)"
   ]
  },
  {
   "cell_type": "code",
   "execution_count": 24,
   "id": "5e34d7b2-b38c-4a51-a332-5e8a63f8bc82",
   "metadata": {
    "collapsed": true,
    "jupyter": {
     "outputs_hidden": true
    },
    "tags": []
   },
   "outputs": [
    {
     "name": "stdout",
     "output_type": "stream",
     "text": [
      "+-------------+\n",
      "|  comb_sparse|\n",
      "+-------------+\n",
      "|[1.0,1.0,0.0]|\n",
      "|[1.0,1.0,0.0]|\n",
      "|[1.0,0.0,1.0]|\n",
      "|[1.0,1.0,0.0]|\n",
      "|[1.0,1.0,0.0]|\n",
      "+-------------+\n",
      "\n"
     ]
    }
   ],
   "source": [
    "df_onehot_comb.select('comb_sparse').limit(5).show()"
   ]
  },
  {
   "cell_type": "code",
   "execution_count": 25,
   "id": "38bc2ce3-b4be-42f6-8b42-f10b1c14cf1f",
   "metadata": {
    "tags": []
   },
   "outputs": [],
   "source": [
    "#create a timestamp timediff, bucketize, and then create a one hot vector, and then combine all three\n",
    "#question: does order matter\n",
    "\n",
    "df_onehot_comb = df_onehot_comb.withColumn('from_timestamp',to_timestamp(col('parent_timestamp')))\\\n",
    "  .withColumn('end_timestamp', to_timestamp(col('child_timestamp')))\\\n",
    "  .withColumn('DiffInSeconds',col(\"end_timestamp\").cast(\"long\") - col('from_timestamp').cast(\"long\")) \n",
    "                                           "
   ]
  },
  {
   "cell_type": "code",
   "execution_count": null,
   "id": "aa0fe0bd-18dc-48ee-9336-0a30220396ec",
   "metadata": {
    "tags": []
   },
   "outputs": [],
   "source": [
    "# Use QuantileDiscretizer to calculate the bin boundaries\n",
    "quantile_discretizer = QuantileDiscretizer(numBuckets=5, inputCol=\"DiffInSeconds\", outputCol=\"binned_diff\")\n",
    "df_onehot_comb = quantile_discretizer.fit(df_onehot_comb).transform(df_onehot_comb)\n",
    "\n",
    "# Convert the binned column to a sparse vector -> may want to consider a different method for this.\n",
    "sparse_vectors = df_onehot_comb.rdd.map(lambda x: (x[0], Vectors.sparse(5, {x[2]: 1.0})))\n",
    "sparse_df = spark.createDataFrame(sparse_vectors, [\"id\", \"sparse_vector\"])\n",
    "\n",
    "# Show the resulting sparse vectors\n",
    "sparse_df.show()"
   ]
  },
  {
   "cell_type": "code",
   "execution_count": null,
   "id": "33d44e67-0e88-473b-94b7-cb998d6188c9",
   "metadata": {},
   "outputs": [],
   "source": []
  },
  {
   "cell_type": "code",
   "execution_count": null,
   "id": "97839585-fc90-4e71-8022-01039cfcf5c7",
   "metadata": {
    "tags": []
   },
   "outputs": [],
   "source": [
    "#function to accept an event trace data frame and then encode it. Ideally we run this twice, once on the malicious\n",
    "#traces and again on benign traces. This implies that we run graphframes on both sets of events independently. \n",
    "\n",
    "def trace_encode(df, col_list):\n",
    "    \n",
    "    #step one accept the event trace transpose it, and explode it. \n",
    "\n",
    "    #add \"trace index\" to keep track of traces. important for transposing back\n",
    "    df_transp = df.withColumn(\"Trace\", (monotonically_increasing_id() + 1))\n",
    "    df_transp = df_transp.select(\"Trace\", \n",
    "                                 *[col for col in df_transp.columns if col != \"Trace\"])\n",
    "\n",
    "    #drop all vertices\n",
    "    df_transp = df_transp.drop('a','b','c','d','e','f','g')\n",
    "\n",
    "    #transpose rows \n",
    "    stacked_df = df_transp.selectExpr(\n",
    "        \"Trace\", \n",
    "        \"posexplode(array(e1, e2, e3, e4, e5, e6)) as (pos, col)\"\n",
    "    ).select(\n",
    "        \"Trace\", \n",
    "        expr('''CASE pos \n",
    "        WHEN 0 THEN 'e1' \n",
    "        WHEN 1 THEN 'e2'\n",
    "        WHEN 2 THEN 'e3'\n",
    "        WHEN 3 THEN 'e4'\n",
    "        WHEN 4 THEN 'e5'\n",
    "        ELSE 'e6' END''').alias(\"event\"),\n",
    "        \"col\"\n",
    "    ).orderBy(\"Trace\",\"event\")\n",
    "\n",
    "    #explode columns\n",
    "    stacked_df = stacked_df.select(*stacked_df.columns, \"col.*\").drop('col')\n",
    "    \n",
    "    \n",
    "    \n",
    "    \n",
    "    \n",
    "    return df"
   ]
  },
  {
   "cell_type": "code",
   "execution_count": 3,
   "id": "adfd939e-0987-4aee-9afb-4708127b578f",
   "metadata": {
    "tags": []
   },
   "outputs": [
    {
     "name": "stderr",
     "output_type": "stream",
     "text": [
      "                                                                                \r"
     ]
    }
   ],
   "source": [
    "#start work on concatenating columns and then string vector. \n",
    "#first read in dataframe and check to see if the duplicate events are gone (w/o mike for the last part). \n",
    "\n",
    "df = spark.read.parquet(f\"{s3_url_trusted}/prod/graph/first_events\")\\\n",
    "            .withColumn(\"image_path\", getFileUDF(col(\"image_path\"))) \\\n",
    "            .withColumn(\"parent_image_path\", getFileUDF(col(\"parent_image_path\"))) \\\n",
    "            .withColumn(\"new_path\", getFileUDF(col(\"new_path\"))) \\\n",
    "            .withColumn(\"file_path\", getFileUDF(col(\"file_path\"))) \\\n",
    "            .cache()"
   ]
  },
  {
   "cell_type": "code",
   "execution_count": 110,
   "id": "cc39eba9-6086-4307-be5b-5963aaa92cd4",
   "metadata": {
    "tags": []
   },
   "outputs": [
    {
     "name": "stdout",
     "output_type": "stream",
     "text": [
      "10:33PM UTC on Mar 18, 2023 --- read time: 0.5996990203857422 seconds ---\n",
      "malicious count: 3642\n"
     ]
    }
   ],
   "source": [
    "%run ./etl_trusted_features.ipynb\n",
    "df = readFirstEvents()\n",
    "#split into malicious and benign and count\n",
    "df_mal = df.where(col('malicious') == 1)\n",
    "print(\"malicious count: \" + str(df_mal.count()))"
   ]
  },
  {
   "cell_type": "code",
   "execution_count": 111,
   "id": "0dc5f925-38bc-41b8-bb44-e4ea2a69318b",
   "metadata": {
    "tags": []
   },
   "outputs": [
    {
     "name": "stderr",
     "output_type": "stream",
     "text": [
      "/home/ec2-user/anaconda3/envs/python3/lib/python3.10/site-packages/pyspark/sql/dataframe.py:148: UserWarning: DataFrame.sql_ctx is an internal property, and will be removed in future releases. Use DataFrame.sparkSession instead.\n",
      "  warnings.warn(\n",
      "/home/ec2-user/anaconda3/envs/python3/lib/python3.10/site-packages/pyspark/sql/dataframe.py:127: UserWarning: DataFrame constructor is internal. Do not directly use it.\n",
      "  warnings.warn(\"DataFrame constructor is internal. Do not directly use it.\")\n",
      "[Stage 13829:==================================>               (137 + 16) / 200]]]]\r"
     ]
    },
    {
     "name": "stdout",
     "output_type": "stream",
     "text": [
      "event traces: 21135\n"
     ]
    },
    {
     "name": "stderr",
     "output_type": "stream",
     "text": [
      "                                                                                \r"
     ]
    }
   ],
   "source": [
    "from graphframes import GraphFrame\n",
    "\n",
    "#create trace matrix from malicious events for speed. \n",
    "# Create distinct vertices with source as actorid, destination as objectid for malicious\n",
    "src_vertices = df_mal.selectExpr('actorID as id').distinct()\n",
    "dst_vertices = df_mal.selectExpr('objectID as id').distinct()\n",
    "vertices = src_vertices.union(dst_vertices).distinct()\n",
    "\n",
    "# Create edges by using timestamp as an edge\n",
    "edges = df_mal.selectExpr('actorID as src', 'objectID as dst', 'timestamp', 'object', 'action', 'hostname', 'user_name', 'privileges', 'image_path',\n",
    "                      'parent_image_path', 'new_path', 'file_path', 'direction', 'logon_id', 'requesting_domain', 'requesting_user', 'malicious')\n",
    "\n",
    "# Create GraphFrame\n",
    "g = GraphFrame(vertices, edges)\n",
    "motifs6 = g.find(\"(a)-[e1]->(b); (b)-[e2]->(c); (c)-[e3]->(d); (d)-[e4]->(e); (e)-[e5]->(f); (f)-[e6]->(g)\")\n",
    "\n",
    "#create paths and count\n",
    "# filter paths to only those where all edges are connected\n",
    "connected_paths = motifs6.filter(\"e1.dst = e2.src and e2.dst = e3.src and e3.dst = e4.src and e4.dst = e5.src and e5.dst = e6.src\").cache()\n",
    "print(\"event traces: \"+str(connected_paths.count()))"
   ]
  },
  {
   "cell_type": "code",
   "execution_count": 36,
   "id": "07f1b687-211a-43da-9b43-63dddd36a846",
   "metadata": {
    "tags": []
   },
   "outputs": [],
   "source": [
    "#run connected_paths through trace and encode.\n",
    "%run trace_encode.ipynb"
   ]
  },
  {
   "cell_type": "code",
   "execution_count": 37,
   "id": "c1d5a05b-c850-49e0-bad9-8030d3b234a5",
   "metadata": {
    "tags": []
   },
   "outputs": [
    {
     "name": "stdout",
     "output_type": "stream",
     "text": [
      "['event', 'src', 'dst', 'hostname', 'user_name', 'privileges', 'new_path', 'file_path', 'direction', 'logon_id', 'requesting_domain', 'requesting_user']\n"
     ]
    },
    {
     "name": "stderr",
     "output_type": "stream",
     "text": [
      "                                                                                \r"
     ]
    },
    {
     "name": "stdout",
     "output_type": "stream",
     "text": [
      "elapsed time: 5.628903388977051\n"
     ]
    }
   ],
   "source": [
    "list_cols = ['object','action',\n",
    "             'image_path','parent_image_path']\n",
    "df_test, dict_test = trace_encode(connected_paths,list_cols)"
   ]
  },
  {
   "cell_type": "code",
   "execution_count": 38,
   "id": "6b84681e-33c9-4ce9-866b-92c79c56311d",
   "metadata": {
    "collapsed": true,
    "jupyter": {
     "outputs_hidden": true
    },
    "tags": []
   },
   "outputs": [
    {
     "name": "stderr",
     "output_type": "stream",
     "text": [
      "/home/ec2-user/anaconda3/envs/python3/lib/python3.10/site-packages/pyspark/sql/pandas/conversion.py:248: FutureWarning: Passing unit-less datetime64 dtype to .astype is deprecated and will raise in a future version. Pass 'datetime64[ns]' instead\n",
      "  series = series.astype(t, copy=False)\n"
     ]
    },
    {
     "data": {
      "text/html": [
       "<div>\n",
       "<style scoped>\n",
       "    .dataframe tbody tr th:only-of-type {\n",
       "        vertical-align: middle;\n",
       "    }\n",
       "\n",
       "    .dataframe tbody tr th {\n",
       "        vertical-align: top;\n",
       "    }\n",
       "\n",
       "    .dataframe thead th {\n",
       "        text-align: right;\n",
       "    }\n",
       "</style>\n",
       "<table border=\"1\" class=\"dataframe\">\n",
       "  <thead>\n",
       "    <tr style=\"text-align: right;\">\n",
       "      <th></th>\n",
       "      <th>Trace</th>\n",
       "      <th>timestamp</th>\n",
       "      <th>malicious</th>\n",
       "      <th>object_sparse</th>\n",
       "      <th>action_sparse</th>\n",
       "      <th>image_path_sparse</th>\n",
       "      <th>parent_image_path_sparse</th>\n",
       "    </tr>\n",
       "  </thead>\n",
       "  <tbody>\n",
       "    <tr>\n",
       "      <th>0</th>\n",
       "      <td>1</td>\n",
       "      <td>2019-09-23 18:44:59.171</td>\n",
       "      <td>1</td>\n",
       "      <td>(1.0, 0.0, 0.0, 0.0)</td>\n",
       "      <td>(0.0, 1.0, 0.0, 0.0, 0.0, 0.0, 0.0, 0.0)</td>\n",
       "      <td>(1.0, 0.0, 0.0, 0.0, 0.0, 0.0, 0.0, 0.0, 0.0, ...</td>\n",
       "      <td>(0.0, 1.0, 0.0, 0.0)</td>\n",
       "    </tr>\n",
       "    <tr>\n",
       "      <th>1</th>\n",
       "      <td>1</td>\n",
       "      <td>2019-09-23 18:44:59.307</td>\n",
       "      <td>1</td>\n",
       "      <td>(1.0, 0.0, 0.0, 0.0)</td>\n",
       "      <td>(1.0, 0.0, 0.0, 0.0, 0.0, 0.0, 0.0, 0.0)</td>\n",
       "      <td>(1.0, 0.0, 0.0, 0.0, 0.0, 0.0, 0.0, 0.0, 0.0, ...</td>\n",
       "      <td>(1.0, 0.0, 0.0, 0.0)</td>\n",
       "    </tr>\n",
       "    <tr>\n",
       "      <th>2</th>\n",
       "      <td>1</td>\n",
       "      <td>2019-09-23 18:44:59.307</td>\n",
       "      <td>1</td>\n",
       "      <td>(1.0, 0.0, 0.0, 0.0)</td>\n",
       "      <td>(1.0, 0.0, 0.0, 0.0, 0.0, 0.0, 0.0, 0.0)</td>\n",
       "      <td>(1.0, 0.0, 0.0, 0.0, 0.0, 0.0, 0.0, 0.0, 0.0, ...</td>\n",
       "      <td>(1.0, 0.0, 0.0, 0.0)</td>\n",
       "    </tr>\n",
       "    <tr>\n",
       "      <th>3</th>\n",
       "      <td>1</td>\n",
       "      <td>2019-09-23 18:44:59.307</td>\n",
       "      <td>1</td>\n",
       "      <td>(1.0, 0.0, 0.0, 0.0)</td>\n",
       "      <td>(1.0, 0.0, 0.0, 0.0, 0.0, 0.0, 0.0, 0.0)</td>\n",
       "      <td>(1.0, 0.0, 0.0, 0.0, 0.0, 0.0, 0.0, 0.0, 0.0, ...</td>\n",
       "      <td>(1.0, 0.0, 0.0, 0.0)</td>\n",
       "    </tr>\n",
       "    <tr>\n",
       "      <th>4</th>\n",
       "      <td>1</td>\n",
       "      <td>2019-09-23 18:44:59.307</td>\n",
       "      <td>1</td>\n",
       "      <td>(1.0, 0.0, 0.0, 0.0)</td>\n",
       "      <td>(1.0, 0.0, 0.0, 0.0, 0.0, 0.0, 0.0, 0.0)</td>\n",
       "      <td>(1.0, 0.0, 0.0, 0.0, 0.0, 0.0, 0.0, 0.0, 0.0, ...</td>\n",
       "      <td>(1.0, 0.0, 0.0, 0.0)</td>\n",
       "    </tr>\n",
       "    <tr>\n",
       "      <th>5</th>\n",
       "      <td>1</td>\n",
       "      <td>2019-09-23 18:44:59.515</td>\n",
       "      <td>1</td>\n",
       "      <td>(0.0, 1.0, 0.0, 0.0)</td>\n",
       "      <td>(0.0, 0.0, 1.0, 0.0, 0.0, 0.0, 0.0, 0.0)</td>\n",
       "      <td>(1.0, 0.0, 0.0, 0.0, 0.0, 0.0, 0.0, 0.0, 0.0, ...</td>\n",
       "      <td>(0.0, 0.0, 0.0, 1.0)</td>\n",
       "    </tr>\n",
       "    <tr>\n",
       "      <th>6</th>\n",
       "      <td>2</td>\n",
       "      <td>2019-09-23 18:44:59.307</td>\n",
       "      <td>1</td>\n",
       "      <td>(1.0, 0.0, 0.0, 0.0)</td>\n",
       "      <td>(1.0, 0.0, 0.0, 0.0, 0.0, 0.0, 0.0, 0.0)</td>\n",
       "      <td>(1.0, 0.0, 0.0, 0.0, 0.0, 0.0, 0.0, 0.0, 0.0, ...</td>\n",
       "      <td>(1.0, 0.0, 0.0, 0.0)</td>\n",
       "    </tr>\n",
       "    <tr>\n",
       "      <th>7</th>\n",
       "      <td>2</td>\n",
       "      <td>2019-09-23 18:44:59.307</td>\n",
       "      <td>1</td>\n",
       "      <td>(1.0, 0.0, 0.0, 0.0)</td>\n",
       "      <td>(1.0, 0.0, 0.0, 0.0, 0.0, 0.0, 0.0, 0.0)</td>\n",
       "      <td>(1.0, 0.0, 0.0, 0.0, 0.0, 0.0, 0.0, 0.0, 0.0, ...</td>\n",
       "      <td>(1.0, 0.0, 0.0, 0.0)</td>\n",
       "    </tr>\n",
       "    <tr>\n",
       "      <th>8</th>\n",
       "      <td>2</td>\n",
       "      <td>2019-09-23 18:44:59.307</td>\n",
       "      <td>1</td>\n",
       "      <td>(1.0, 0.0, 0.0, 0.0)</td>\n",
       "      <td>(1.0, 0.0, 0.0, 0.0, 0.0, 0.0, 0.0, 0.0)</td>\n",
       "      <td>(1.0, 0.0, 0.0, 0.0, 0.0, 0.0, 0.0, 0.0, 0.0, ...</td>\n",
       "      <td>(1.0, 0.0, 0.0, 0.0)</td>\n",
       "    </tr>\n",
       "    <tr>\n",
       "      <th>9</th>\n",
       "      <td>2</td>\n",
       "      <td>2019-09-23 18:44:59.307</td>\n",
       "      <td>1</td>\n",
       "      <td>(1.0, 0.0, 0.0, 0.0)</td>\n",
       "      <td>(1.0, 0.0, 0.0, 0.0, 0.0, 0.0, 0.0, 0.0)</td>\n",
       "      <td>(1.0, 0.0, 0.0, 0.0, 0.0, 0.0, 0.0, 0.0, 0.0, ...</td>\n",
       "      <td>(1.0, 0.0, 0.0, 0.0)</td>\n",
       "    </tr>\n",
       "    <tr>\n",
       "      <th>10</th>\n",
       "      <td>2</td>\n",
       "      <td>2019-09-23 18:44:59.307</td>\n",
       "      <td>1</td>\n",
       "      <td>(1.0, 0.0, 0.0, 0.0)</td>\n",
       "      <td>(1.0, 0.0, 0.0, 0.0, 0.0, 0.0, 0.0, 0.0)</td>\n",
       "      <td>(1.0, 0.0, 0.0, 0.0, 0.0, 0.0, 0.0, 0.0, 0.0, ...</td>\n",
       "      <td>(1.0, 0.0, 0.0, 0.0)</td>\n",
       "    </tr>\n",
       "    <tr>\n",
       "      <th>11</th>\n",
       "      <td>2</td>\n",
       "      <td>2019-09-23 18:44:59.515</td>\n",
       "      <td>1</td>\n",
       "      <td>(0.0, 1.0, 0.0, 0.0)</td>\n",
       "      <td>(0.0, 0.0, 1.0, 0.0, 0.0, 0.0, 0.0, 0.0)</td>\n",
       "      <td>(1.0, 0.0, 0.0, 0.0, 0.0, 0.0, 0.0, 0.0, 0.0, ...</td>\n",
       "      <td>(0.0, 0.0, 0.0, 1.0)</td>\n",
       "    </tr>\n",
       "    <tr>\n",
       "      <th>12</th>\n",
       "      <td>3</td>\n",
       "      <td>2019-09-23 17:23:30.850</td>\n",
       "      <td>1</td>\n",
       "      <td>(1.0, 0.0, 0.0, 0.0)</td>\n",
       "      <td>(1.0, 0.0, 0.0, 0.0, 0.0, 0.0, 0.0, 0.0)</td>\n",
       "      <td>(1.0, 0.0, 0.0, 0.0, 0.0, 0.0, 0.0, 0.0, 0.0, ...</td>\n",
       "      <td>(1.0, 0.0, 0.0, 0.0)</td>\n",
       "    </tr>\n",
       "    <tr>\n",
       "      <th>13</th>\n",
       "      <td>3</td>\n",
       "      <td>2019-09-23 17:23:30.850</td>\n",
       "      <td>1</td>\n",
       "      <td>(1.0, 0.0, 0.0, 0.0)</td>\n",
       "      <td>(1.0, 0.0, 0.0, 0.0, 0.0, 0.0, 0.0, 0.0)</td>\n",
       "      <td>(1.0, 0.0, 0.0, 0.0, 0.0, 0.0, 0.0, 0.0, 0.0, ...</td>\n",
       "      <td>(1.0, 0.0, 0.0, 0.0)</td>\n",
       "    </tr>\n",
       "    <tr>\n",
       "      <th>14</th>\n",
       "      <td>3</td>\n",
       "      <td>2019-09-23 17:23:30.850</td>\n",
       "      <td>1</td>\n",
       "      <td>(1.0, 0.0, 0.0, 0.0)</td>\n",
       "      <td>(1.0, 0.0, 0.0, 0.0, 0.0, 0.0, 0.0, 0.0)</td>\n",
       "      <td>(1.0, 0.0, 0.0, 0.0, 0.0, 0.0, 0.0, 0.0, 0.0, ...</td>\n",
       "      <td>(1.0, 0.0, 0.0, 0.0)</td>\n",
       "    </tr>\n",
       "  </tbody>\n",
       "</table>\n",
       "</div>"
      ],
      "text/plain": [
       "    Trace               timestamp  malicious         object_sparse  \\\n",
       "0       1 2019-09-23 18:44:59.171          1  (1.0, 0.0, 0.0, 0.0)   \n",
       "1       1 2019-09-23 18:44:59.307          1  (1.0, 0.0, 0.0, 0.0)   \n",
       "2       1 2019-09-23 18:44:59.307          1  (1.0, 0.0, 0.0, 0.0)   \n",
       "3       1 2019-09-23 18:44:59.307          1  (1.0, 0.0, 0.0, 0.0)   \n",
       "4       1 2019-09-23 18:44:59.307          1  (1.0, 0.0, 0.0, 0.0)   \n",
       "5       1 2019-09-23 18:44:59.515          1  (0.0, 1.0, 0.0, 0.0)   \n",
       "6       2 2019-09-23 18:44:59.307          1  (1.0, 0.0, 0.0, 0.0)   \n",
       "7       2 2019-09-23 18:44:59.307          1  (1.0, 0.0, 0.0, 0.0)   \n",
       "8       2 2019-09-23 18:44:59.307          1  (1.0, 0.0, 0.0, 0.0)   \n",
       "9       2 2019-09-23 18:44:59.307          1  (1.0, 0.0, 0.0, 0.0)   \n",
       "10      2 2019-09-23 18:44:59.307          1  (1.0, 0.0, 0.0, 0.0)   \n",
       "11      2 2019-09-23 18:44:59.515          1  (0.0, 1.0, 0.0, 0.0)   \n",
       "12      3 2019-09-23 17:23:30.850          1  (1.0, 0.0, 0.0, 0.0)   \n",
       "13      3 2019-09-23 17:23:30.850          1  (1.0, 0.0, 0.0, 0.0)   \n",
       "14      3 2019-09-23 17:23:30.850          1  (1.0, 0.0, 0.0, 0.0)   \n",
       "\n",
       "                               action_sparse  \\\n",
       "0   (0.0, 1.0, 0.0, 0.0, 0.0, 0.0, 0.0, 0.0)   \n",
       "1   (1.0, 0.0, 0.0, 0.0, 0.0, 0.0, 0.0, 0.0)   \n",
       "2   (1.0, 0.0, 0.0, 0.0, 0.0, 0.0, 0.0, 0.0)   \n",
       "3   (1.0, 0.0, 0.0, 0.0, 0.0, 0.0, 0.0, 0.0)   \n",
       "4   (1.0, 0.0, 0.0, 0.0, 0.0, 0.0, 0.0, 0.0)   \n",
       "5   (0.0, 0.0, 1.0, 0.0, 0.0, 0.0, 0.0, 0.0)   \n",
       "6   (1.0, 0.0, 0.0, 0.0, 0.0, 0.0, 0.0, 0.0)   \n",
       "7   (1.0, 0.0, 0.0, 0.0, 0.0, 0.0, 0.0, 0.0)   \n",
       "8   (1.0, 0.0, 0.0, 0.0, 0.0, 0.0, 0.0, 0.0)   \n",
       "9   (1.0, 0.0, 0.0, 0.0, 0.0, 0.0, 0.0, 0.0)   \n",
       "10  (1.0, 0.0, 0.0, 0.0, 0.0, 0.0, 0.0, 0.0)   \n",
       "11  (0.0, 0.0, 1.0, 0.0, 0.0, 0.0, 0.0, 0.0)   \n",
       "12  (1.0, 0.0, 0.0, 0.0, 0.0, 0.0, 0.0, 0.0)   \n",
       "13  (1.0, 0.0, 0.0, 0.0, 0.0, 0.0, 0.0, 0.0)   \n",
       "14  (1.0, 0.0, 0.0, 0.0, 0.0, 0.0, 0.0, 0.0)   \n",
       "\n",
       "                                    image_path_sparse parent_image_path_sparse  \n",
       "0   (1.0, 0.0, 0.0, 0.0, 0.0, 0.0, 0.0, 0.0, 0.0, ...     (0.0, 1.0, 0.0, 0.0)  \n",
       "1   (1.0, 0.0, 0.0, 0.0, 0.0, 0.0, 0.0, 0.0, 0.0, ...     (1.0, 0.0, 0.0, 0.0)  \n",
       "2   (1.0, 0.0, 0.0, 0.0, 0.0, 0.0, 0.0, 0.0, 0.0, ...     (1.0, 0.0, 0.0, 0.0)  \n",
       "3   (1.0, 0.0, 0.0, 0.0, 0.0, 0.0, 0.0, 0.0, 0.0, ...     (1.0, 0.0, 0.0, 0.0)  \n",
       "4   (1.0, 0.0, 0.0, 0.0, 0.0, 0.0, 0.0, 0.0, 0.0, ...     (1.0, 0.0, 0.0, 0.0)  \n",
       "5   (1.0, 0.0, 0.0, 0.0, 0.0, 0.0, 0.0, 0.0, 0.0, ...     (0.0, 0.0, 0.0, 1.0)  \n",
       "6   (1.0, 0.0, 0.0, 0.0, 0.0, 0.0, 0.0, 0.0, 0.0, ...     (1.0, 0.0, 0.0, 0.0)  \n",
       "7   (1.0, 0.0, 0.0, 0.0, 0.0, 0.0, 0.0, 0.0, 0.0, ...     (1.0, 0.0, 0.0, 0.0)  \n",
       "8   (1.0, 0.0, 0.0, 0.0, 0.0, 0.0, 0.0, 0.0, 0.0, ...     (1.0, 0.0, 0.0, 0.0)  \n",
       "9   (1.0, 0.0, 0.0, 0.0, 0.0, 0.0, 0.0, 0.0, 0.0, ...     (1.0, 0.0, 0.0, 0.0)  \n",
       "10  (1.0, 0.0, 0.0, 0.0, 0.0, 0.0, 0.0, 0.0, 0.0, ...     (1.0, 0.0, 0.0, 0.0)  \n",
       "11  (1.0, 0.0, 0.0, 0.0, 0.0, 0.0, 0.0, 0.0, 0.0, ...     (0.0, 0.0, 0.0, 1.0)  \n",
       "12  (1.0, 0.0, 0.0, 0.0, 0.0, 0.0, 0.0, 0.0, 0.0, ...     (1.0, 0.0, 0.0, 0.0)  \n",
       "13  (1.0, 0.0, 0.0, 0.0, 0.0, 0.0, 0.0, 0.0, 0.0, ...     (1.0, 0.0, 0.0, 0.0)  \n",
       "14  (1.0, 0.0, 0.0, 0.0, 0.0, 0.0, 0.0, 0.0, 0.0, ...     (1.0, 0.0, 0.0, 0.0)  "
      ]
     },
     "execution_count": 38,
     "metadata": {},
     "output_type": "execute_result"
    }
   ],
   "source": [
    "df_test.limit(15).toPandas()"
   ]
  },
  {
   "cell_type": "code",
   "execution_count": 41,
   "id": "f0a62d94-cfa7-40c0-b560-ca07aab0ecc0",
   "metadata": {
    "tags": []
   },
   "outputs": [],
   "source": [
    "#now let's figure out how to string concatenate and then index\n",
    "#I think we're going to want to assemble the vectors, turn into a string, then string index\n",
    "#first vector assemble\n",
    "\n",
    "#combine sparse vectors and turn into string\n",
    "from pyspark.ml.feature import VectorAssembler\n",
    "# Use VectorAssembler to concatenate the two sparse vectors\n",
    "assembler = VectorAssembler(inputCols=['object_sparse', 'action_sparse',\n",
    "                                       'image_path_sparse', 'parent_image_path_sparse'], \n",
    "                            outputCol=\"final_vec\")\n",
    "df_test_final = assembler.transform(df_test)"
   ]
  },
  {
   "cell_type": "code",
   "execution_count": 42,
   "id": "28f06473-ec9e-4796-87fe-49a78f24b4c9",
   "metadata": {
    "tags": []
   },
   "outputs": [
    {
     "name": "stderr",
     "output_type": "stream",
     "text": [
      "/home/ec2-user/anaconda3/envs/python3/lib/python3.10/site-packages/pyspark/sql/pandas/conversion.py:248: FutureWarning: Passing unit-less datetime64 dtype to .astype is deprecated and will raise in a future version. Pass 'datetime64[ns]' instead\n",
      "  series = series.astype(t, copy=False)\n"
     ]
    },
    {
     "data": {
      "text/html": [
       "<div>\n",
       "<style scoped>\n",
       "    .dataframe tbody tr th:only-of-type {\n",
       "        vertical-align: middle;\n",
       "    }\n",
       "\n",
       "    .dataframe tbody tr th {\n",
       "        vertical-align: top;\n",
       "    }\n",
       "\n",
       "    .dataframe thead th {\n",
       "        text-align: right;\n",
       "    }\n",
       "</style>\n",
       "<table border=\"1\" class=\"dataframe\">\n",
       "  <thead>\n",
       "    <tr style=\"text-align: right;\">\n",
       "      <th></th>\n",
       "      <th>Trace</th>\n",
       "      <th>timestamp</th>\n",
       "      <th>malicious</th>\n",
       "      <th>object_sparse</th>\n",
       "      <th>action_sparse</th>\n",
       "      <th>image_path_sparse</th>\n",
       "      <th>parent_image_path_sparse</th>\n",
       "      <th>final_vec</th>\n",
       "    </tr>\n",
       "  </thead>\n",
       "  <tbody>\n",
       "    <tr>\n",
       "      <th>0</th>\n",
       "      <td>1</td>\n",
       "      <td>2019-09-23 18:44:59.171</td>\n",
       "      <td>1</td>\n",
       "      <td>(1.0, 0.0, 0.0, 0.0)</td>\n",
       "      <td>(0.0, 1.0, 0.0, 0.0, 0.0, 0.0, 0.0, 0.0)</td>\n",
       "      <td>(1.0, 0.0, 0.0, 0.0, 0.0, 0.0, 0.0, 0.0, 0.0, ...</td>\n",
       "      <td>(0.0, 1.0, 0.0, 0.0)</td>\n",
       "      <td>(1.0, 0.0, 0.0, 0.0, 0.0, 1.0, 0.0, 0.0, 0.0, ...</td>\n",
       "    </tr>\n",
       "  </tbody>\n",
       "</table>\n",
       "</div>"
      ],
      "text/plain": [
       "   Trace               timestamp  malicious         object_sparse  \\\n",
       "0      1 2019-09-23 18:44:59.171          1  (1.0, 0.0, 0.0, 0.0)   \n",
       "\n",
       "                              action_sparse  \\\n",
       "0  (0.0, 1.0, 0.0, 0.0, 0.0, 0.0, 0.0, 0.0)   \n",
       "\n",
       "                                   image_path_sparse parent_image_path_sparse  \\\n",
       "0  (1.0, 0.0, 0.0, 0.0, 0.0, 0.0, 0.0, 0.0, 0.0, ...     (0.0, 1.0, 0.0, 0.0)   \n",
       "\n",
       "                                           final_vec  \n",
       "0  (1.0, 0.0, 0.0, 0.0, 0.0, 1.0, 0.0, 0.0, 0.0, ...  "
      ]
     },
     "execution_count": 42,
     "metadata": {},
     "output_type": "execute_result"
    }
   ],
   "source": [
    "df_test_final.limit(1).toPandas()"
   ]
  },
  {
   "cell_type": "code",
   "execution_count": 70,
   "id": "701bb8d5-a249-4f4c-b534-4b302493b527",
   "metadata": {},
   "outputs": [],
   "source": [
    "from pyspark.sql.functions import udf\n",
    "from pyspark.sql.types import ArrayType, StringType\n",
    "\n",
    "# assume 'binary_column' is a DataFrame with a column named 'binary_int_array' containing dense binary int arrays\n",
    "\n",
    "# define a user-defined function to convert binary int array to string array\n",
    "def binary_to_string_array(binary_int_array):\n",
    "    string_array = []\n",
    "    for i in binary_int_array:\n",
    "        string_array.append(str(int(i)))\n",
    "    return ''.join(string_array)\n",
    "\n",
    "# register the user-defined function as a UDF\n",
    "binary_to_string_array_udf = udf(binary_to_string_array, StringType())\n",
    "\n",
    "# use the UDF to create a new DataFrame column with string arrays\n",
    "df_test_final = df_test_final.withColumn(\"string_array\", binary_to_string_array_udf(\"final_vec\"))"
   ]
  },
  {
   "cell_type": "code",
   "execution_count": 71,
   "id": "728ddca7-cffd-41dc-b218-a4a8b5119632",
   "metadata": {
    "tags": []
   },
   "outputs": [
    {
     "name": "stderr",
     "output_type": "stream",
     "text": [
      "/home/ec2-user/anaconda3/envs/python3/lib/python3.10/site-packages/pyspark/sql/pandas/conversion.py:248: FutureWarning: Passing unit-less datetime64 dtype to .astype is deprecated and will raise in a future version. Pass 'datetime64[ns]' instead\n",
      "  series = series.astype(t, copy=False)\n"
     ]
    },
    {
     "data": {
      "text/html": [
       "<div>\n",
       "<style scoped>\n",
       "    .dataframe tbody tr th:only-of-type {\n",
       "        vertical-align: middle;\n",
       "    }\n",
       "\n",
       "    .dataframe tbody tr th {\n",
       "        vertical-align: top;\n",
       "    }\n",
       "\n",
       "    .dataframe thead th {\n",
       "        text-align: right;\n",
       "    }\n",
       "</style>\n",
       "<table border=\"1\" class=\"dataframe\">\n",
       "  <thead>\n",
       "    <tr style=\"text-align: right;\">\n",
       "      <th></th>\n",
       "      <th>Trace</th>\n",
       "      <th>timestamp</th>\n",
       "      <th>malicious</th>\n",
       "      <th>object_sparse</th>\n",
       "      <th>action_sparse</th>\n",
       "      <th>image_path_sparse</th>\n",
       "      <th>parent_image_path_sparse</th>\n",
       "      <th>final_vec</th>\n",
       "      <th>string_array</th>\n",
       "      <th>vec2str</th>\n",
       "      <th>event_index</th>\n",
       "    </tr>\n",
       "  </thead>\n",
       "  <tbody>\n",
       "    <tr>\n",
       "      <th>0</th>\n",
       "      <td>1</td>\n",
       "      <td>2019-09-23 18:44:59.171</td>\n",
       "      <td>1</td>\n",
       "      <td>(1.0, 0.0, 0.0, 0.0)</td>\n",
       "      <td>(0.0, 1.0, 0.0, 0.0, 0.0, 0.0, 0.0, 0.0)</td>\n",
       "      <td>(1.0, 0.0, 0.0, 0.0, 0.0, 0.0, 0.0, 0.0, 0.0, ...</td>\n",
       "      <td>(0.0, 1.0, 0.0, 0.0)</td>\n",
       "      <td>(1.0, 0.0, 0.0, 0.0, 0.0, 1.0, 0.0, 0.0, 0.0, ...</td>\n",
       "      <td>10000100000010000000000100</td>\n",
       "      <td>1.00.00.00.00.01.00.00.00.00.00.00.01.00.00.00...</td>\n",
       "      <td>3.0</td>\n",
       "    </tr>\n",
       "  </tbody>\n",
       "</table>\n",
       "</div>"
      ],
      "text/plain": [
       "   Trace               timestamp  malicious         object_sparse  \\\n",
       "0      1 2019-09-23 18:44:59.171          1  (1.0, 0.0, 0.0, 0.0)   \n",
       "\n",
       "                              action_sparse  \\\n",
       "0  (0.0, 1.0, 0.0, 0.0, 0.0, 0.0, 0.0, 0.0)   \n",
       "\n",
       "                                   image_path_sparse parent_image_path_sparse  \\\n",
       "0  (1.0, 0.0, 0.0, 0.0, 0.0, 0.0, 0.0, 0.0, 0.0, ...     (0.0, 1.0, 0.0, 0.0)   \n",
       "\n",
       "                                           final_vec  \\\n",
       "0  (1.0, 0.0, 0.0, 0.0, 0.0, 1.0, 0.0, 0.0, 0.0, ...   \n",
       "\n",
       "                 string_array  \\\n",
       "0  10000100000010000000000100   \n",
       "\n",
       "                                             vec2str  event_index  \n",
       "0  1.00.00.00.00.01.00.00.00.00.00.00.01.00.00.00...          3.0  "
      ]
     },
     "execution_count": 71,
     "metadata": {},
     "output_type": "execute_result"
    }
   ],
   "source": [
    "df_test_final.limit(1).toPandas()"
   ]
  },
  {
   "cell_type": "code",
   "execution_count": 62,
   "id": "9070bffb-d1f8-4842-bf35-7e01486890d6",
   "metadata": {
    "tags": []
   },
   "outputs": [
    {
     "name": "stderr",
     "output_type": "stream",
     "text": [
      "/home/ec2-user/anaconda3/envs/python3/lib/python3.10/site-packages/pyspark/sql/pandas/conversion.py:248: FutureWarning: Passing unit-less datetime64 dtype to .astype is deprecated and will raise in a future version. Pass 'datetime64[ns]' instead\n",
      "  series = series.astype(t, copy=False)\n"
     ]
    },
    {
     "data": {
      "text/html": [
       "<div>\n",
       "<style scoped>\n",
       "    .dataframe tbody tr th:only-of-type {\n",
       "        vertical-align: middle;\n",
       "    }\n",
       "\n",
       "    .dataframe tbody tr th {\n",
       "        vertical-align: top;\n",
       "    }\n",
       "\n",
       "    .dataframe thead th {\n",
       "        text-align: right;\n",
       "    }\n",
       "</style>\n",
       "<table border=\"1\" class=\"dataframe\">\n",
       "  <thead>\n",
       "    <tr style=\"text-align: right;\">\n",
       "      <th></th>\n",
       "      <th>Trace</th>\n",
       "      <th>timestamp</th>\n",
       "      <th>malicious</th>\n",
       "      <th>object_sparse</th>\n",
       "      <th>action_sparse</th>\n",
       "      <th>image_path_sparse</th>\n",
       "      <th>parent_image_path_sparse</th>\n",
       "      <th>final_vec</th>\n",
       "      <th>string_array</th>\n",
       "      <th>vec2str</th>\n",
       "      <th>event_index</th>\n",
       "    </tr>\n",
       "  </thead>\n",
       "  <tbody>\n",
       "    <tr>\n",
       "      <th>0</th>\n",
       "      <td>1</td>\n",
       "      <td>2019-09-23 18:44:59.171</td>\n",
       "      <td>1</td>\n",
       "      <td>(1.0, 0.0, 0.0, 0.0)</td>\n",
       "      <td>(0.0, 1.0, 0.0, 0.0, 0.0, 0.0, 0.0, 0.0)</td>\n",
       "      <td>(1.0, 0.0, 0.0, 0.0, 0.0, 0.0, 0.0, 0.0, 0.0, ...</td>\n",
       "      <td>(0.0, 1.0, 0.0, 0.0)</td>\n",
       "      <td>(1.0, 0.0, 0.0, 0.0, 0.0, 1.0, 0.0, 0.0, 0.0, ...</td>\n",
       "      <td>[1.0, 0.0, 0.0, 0.0, 0.0, 1.0, 0.0, 0.0, 0.0, ...</td>\n",
       "      <td>1.00.00.00.00.01.00.00.00.00.00.00.01.00.00.00...</td>\n",
       "      <td>3.0</td>\n",
       "    </tr>\n",
       "  </tbody>\n",
       "</table>\n",
       "</div>"
      ],
      "text/plain": [
       "   Trace               timestamp  malicious         object_sparse  \\\n",
       "0      1 2019-09-23 18:44:59.171          1  (1.0, 0.0, 0.0, 0.0)   \n",
       "\n",
       "                              action_sparse  \\\n",
       "0  (0.0, 1.0, 0.0, 0.0, 0.0, 0.0, 0.0, 0.0)   \n",
       "\n",
       "                                   image_path_sparse parent_image_path_sparse  \\\n",
       "0  (1.0, 0.0, 0.0, 0.0, 0.0, 0.0, 0.0, 0.0, 0.0, ...     (0.0, 1.0, 0.0, 0.0)   \n",
       "\n",
       "                                           final_vec  \\\n",
       "0  (1.0, 0.0, 0.0, 0.0, 0.0, 1.0, 0.0, 0.0, 0.0, ...   \n",
       "\n",
       "                                        string_array  \\\n",
       "0  [1.0, 0.0, 0.0, 0.0, 0.0, 1.0, 0.0, 0.0, 0.0, ...   \n",
       "\n",
       "                                             vec2str  event_index  \n",
       "0  1.00.00.00.00.01.00.00.00.00.00.00.01.00.00.00...          3.0  "
      ]
     },
     "execution_count": 62,
     "metadata": {},
     "output_type": "execute_result"
    }
   ],
   "source": [
    "df_test_final = df_test_final.withColumn('vec2str',concat_ws('',col('string_array')))\n",
    "df_test_final.limit(1).toPandas()"
   ]
  },
  {
   "cell_type": "code",
   "execution_count": 75,
   "id": "f5ac1802-aa46-466a-ad22-b2f569c6c436",
   "metadata": {
    "tags": []
   },
   "outputs": [],
   "source": [
    "#now we string index and we get the hell out of here\n",
    "\n",
    "#indexer = StringIndexer(inputCol='string_array', outputCol='event_index_2')\n",
    "#indexer_fitted = indexer.fit(df_test_final)\n",
    "#df_test_final = indexer_fitted.transform(df_test_final)\n",
    "def int_cast(num):\n",
    "    return int(num)\n",
    "int_cast_udf = udf(int_cast, IntegerType())\n",
    "df_test_final = df_test_final.withColumn(\"ind_event\", int_cast_udf(\"event_index_2\"))"
   ]
  },
  {
   "cell_type": "code",
   "execution_count": 76,
   "id": "cff37c97-12b6-48c3-9e7e-546db43a3fcd",
   "metadata": {
    "tags": []
   },
   "outputs": [
    {
     "name": "stderr",
     "output_type": "stream",
     "text": [
      "/home/ec2-user/anaconda3/envs/python3/lib/python3.10/site-packages/pyspark/sql/pandas/conversion.py:248: FutureWarning: Passing unit-less datetime64 dtype to .astype is deprecated and will raise in a future version. Pass 'datetime64[ns]' instead\n",
      "  series = series.astype(t, copy=False)\n"
     ]
    },
    {
     "data": {
      "text/html": [
       "<div>\n",
       "<style scoped>\n",
       "    .dataframe tbody tr th:only-of-type {\n",
       "        vertical-align: middle;\n",
       "    }\n",
       "\n",
       "    .dataframe tbody tr th {\n",
       "        vertical-align: top;\n",
       "    }\n",
       "\n",
       "    .dataframe thead th {\n",
       "        text-align: right;\n",
       "    }\n",
       "</style>\n",
       "<table border=\"1\" class=\"dataframe\">\n",
       "  <thead>\n",
       "    <tr style=\"text-align: right;\">\n",
       "      <th></th>\n",
       "      <th>Trace</th>\n",
       "      <th>timestamp</th>\n",
       "      <th>malicious</th>\n",
       "      <th>object_sparse</th>\n",
       "      <th>action_sparse</th>\n",
       "      <th>image_path_sparse</th>\n",
       "      <th>parent_image_path_sparse</th>\n",
       "      <th>final_vec</th>\n",
       "      <th>string_array</th>\n",
       "      <th>vec2str</th>\n",
       "      <th>event_index</th>\n",
       "      <th>event_index_2</th>\n",
       "      <th>ind_event</th>\n",
       "    </tr>\n",
       "  </thead>\n",
       "  <tbody>\n",
       "    <tr>\n",
       "      <th>0</th>\n",
       "      <td>1</td>\n",
       "      <td>2019-09-23 18:44:59.171</td>\n",
       "      <td>1</td>\n",
       "      <td>(1.0, 0.0, 0.0, 0.0)</td>\n",
       "      <td>(0.0, 1.0, 0.0, 0.0, 0.0, 0.0, 0.0, 0.0)</td>\n",
       "      <td>(1.0, 0.0, 0.0, 0.0, 0.0, 0.0, 0.0, 0.0, 0.0, ...</td>\n",
       "      <td>(0.0, 1.0, 0.0, 0.0)</td>\n",
       "      <td>(1.0, 0.0, 0.0, 0.0, 0.0, 1.0, 0.0, 0.0, 0.0, ...</td>\n",
       "      <td>10000100000010000000000100</td>\n",
       "      <td>1.00.00.00.00.01.00.00.00.00.00.00.01.00.00.00...</td>\n",
       "      <td>3.0</td>\n",
       "      <td>3.0</td>\n",
       "      <td>3</td>\n",
       "    </tr>\n",
       "  </tbody>\n",
       "</table>\n",
       "</div>"
      ],
      "text/plain": [
       "   Trace               timestamp  malicious         object_sparse  \\\n",
       "0      1 2019-09-23 18:44:59.171          1  (1.0, 0.0, 0.0, 0.0)   \n",
       "\n",
       "                              action_sparse  \\\n",
       "0  (0.0, 1.0, 0.0, 0.0, 0.0, 0.0, 0.0, 0.0)   \n",
       "\n",
       "                                   image_path_sparse parent_image_path_sparse  \\\n",
       "0  (1.0, 0.0, 0.0, 0.0, 0.0, 0.0, 0.0, 0.0, 0.0, ...     (0.0, 1.0, 0.0, 0.0)   \n",
       "\n",
       "                                           final_vec  \\\n",
       "0  (1.0, 0.0, 0.0, 0.0, 0.0, 1.0, 0.0, 0.0, 0.0, ...   \n",
       "\n",
       "                 string_array  \\\n",
       "0  10000100000010000000000100   \n",
       "\n",
       "                                             vec2str  event_index  \\\n",
       "0  1.00.00.00.00.01.00.00.00.00.00.00.01.00.00.00...          3.0   \n",
       "\n",
       "   event_index_2  ind_event  \n",
       "0            3.0          3  "
      ]
     },
     "execution_count": 76,
     "metadata": {},
     "output_type": "execute_result"
    }
   ],
   "source": [
    "df_test_final.limit(1).toPandas()"
   ]
  },
  {
   "cell_type": "code",
   "execution_count": 81,
   "id": "337639e8-ca51-4bff-8571-4a3596c50e65",
   "metadata": {
    "tags": []
   },
   "outputs": [
    {
     "name": "stdout",
     "output_type": "stream",
     "text": [
      "Column<'max(ind_event)'>\n"
     ]
    },
    {
     "name": "stderr",
     "output_type": "stream",
     "text": [
      "                                                                                \r"
     ]
    },
    {
     "name": "stdout",
     "output_type": "stream",
     "text": [
      "+--------------+\n",
      "|max(ind_event)|\n",
      "+--------------+\n",
      "|            17|\n",
      "+--------------+\n",
      "\n"
     ]
    },
    {
     "name": "stderr",
     "output_type": "stream",
     "text": [
      "[Stage 10271:>                                                      (0 + 1) / 1]\r"
     ]
    },
    {
     "name": "stdout",
     "output_type": "stream",
     "text": [
      "+--------------+\n",
      "|max(ind_event)|\n",
      "+--------------+\n",
      "|            17|\n",
      "+--------------+\n",
      "\n"
     ]
    },
    {
     "name": "stderr",
     "output_type": "stream",
     "text": [
      "                                                                                \r"
     ]
    }
   ],
   "source": [
    "#what is the range of vlaues in ind_event\n",
    "print(str(max(df_test_final.ind_event)))\n",
    "df_test_final.agg(max(col('ind_event'))).show()\n",
    "\n"
   ]
  },
  {
   "cell_type": "code",
   "execution_count": 82,
   "id": "be84b9fd-6c9f-4baf-848b-b3f50244a219",
   "metadata": {
    "tags": []
   },
   "outputs": [
    {
     "name": "stderr",
     "output_type": "stream",
     "text": [
      "[Stage 10458:>                                                      (0 + 1) / 1]\r"
     ]
    },
    {
     "name": "stdout",
     "output_type": "stream",
     "text": [
      "+--------------+\n",
      "|min(ind_event)|\n",
      "+--------------+\n",
      "|             0|\n",
      "+--------------+\n",
      "\n"
     ]
    },
    {
     "name": "stderr",
     "output_type": "stream",
     "text": [
      "                                                                                \r"
     ]
    }
   ],
   "source": [
    "df_test_final.agg(min(col('ind_event'))).show()"
   ]
  },
  {
   "cell_type": "code",
   "execution_count": 88,
   "id": "0c87fa5e-ff64-4a1c-a41c-259fb6439112",
   "metadata": {
    "tags": []
   },
   "outputs": [
    {
     "name": "stdout",
     "output_type": "stream",
     "text": [
      "transposed explode: 0.22954916954040527\n",
      "one-hot time: 5.508583068847656\n"
     ]
    },
    {
     "name": "stderr",
     "output_type": "stream",
     "text": [
      "[Stage 13354:>                                                      (0 + 1) / 1]\r"
     ]
    },
    {
     "name": "stdout",
     "output_type": "stream",
     "text": [
      "indexing time: 26.78142738342285\n",
      "total elapsed time: 26.79460382461548\n"
     ]
    },
    {
     "name": "stderr",
     "output_type": "stream",
     "text": [
      "                                                                                \r"
     ]
    }
   ],
   "source": [
    "%run trace_encode.ipynb\n",
    "df_test, dict_test = trace_encode(connected_paths,list_cols)"
   ]
  },
  {
   "cell_type": "code",
   "execution_count": 87,
   "id": "399bed14-89c0-4427-ad89-1d2f0f0bf193",
   "metadata": {
    "tags": []
   },
   "outputs": [
    {
     "name": "stderr",
     "output_type": "stream",
     "text": [
      "                                                                                \r"
     ]
    },
    {
     "data": {
      "text/html": [
       "<div>\n",
       "<style scoped>\n",
       "    .dataframe tbody tr th:only-of-type {\n",
       "        vertical-align: middle;\n",
       "    }\n",
       "\n",
       "    .dataframe tbody tr th {\n",
       "        vertical-align: top;\n",
       "    }\n",
       "\n",
       "    .dataframe thead th {\n",
       "        text-align: right;\n",
       "    }\n",
       "</style>\n",
       "<table border=\"1\" class=\"dataframe\">\n",
       "  <thead>\n",
       "    <tr style=\"text-align: right;\">\n",
       "      <th></th>\n",
       "      <th>Trace</th>\n",
       "      <th>malicious</th>\n",
       "      <th>vec2string</th>\n",
       "      <th>event_index</th>\n",
       "    </tr>\n",
       "  </thead>\n",
       "  <tbody>\n",
       "    <tr>\n",
       "      <th>0</th>\n",
       "      <td>1</td>\n",
       "      <td>1</td>\n",
       "      <td>10000100000010000000000100</td>\n",
       "      <td>3</td>\n",
       "    </tr>\n",
       "    <tr>\n",
       "      <th>1</th>\n",
       "      <td>1</td>\n",
       "      <td>1</td>\n",
       "      <td>10001000000010000000001000</td>\n",
       "      <td>0</td>\n",
       "    </tr>\n",
       "    <tr>\n",
       "      <th>2</th>\n",
       "      <td>1</td>\n",
       "      <td>1</td>\n",
       "      <td>10001000000010000000001000</td>\n",
       "      <td>0</td>\n",
       "    </tr>\n",
       "    <tr>\n",
       "      <th>3</th>\n",
       "      <td>1</td>\n",
       "      <td>1</td>\n",
       "      <td>10001000000010000000001000</td>\n",
       "      <td>0</td>\n",
       "    </tr>\n",
       "    <tr>\n",
       "      <th>4</th>\n",
       "      <td>1</td>\n",
       "      <td>1</td>\n",
       "      <td>10001000000010000000001000</td>\n",
       "      <td>0</td>\n",
       "    </tr>\n",
       "    <tr>\n",
       "      <th>5</th>\n",
       "      <td>1</td>\n",
       "      <td>1</td>\n",
       "      <td>01000010000010000000000001</td>\n",
       "      <td>2</td>\n",
       "    </tr>\n",
       "    <tr>\n",
       "      <th>6</th>\n",
       "      <td>2</td>\n",
       "      <td>1</td>\n",
       "      <td>10001000000010000000001000</td>\n",
       "      <td>0</td>\n",
       "    </tr>\n",
       "    <tr>\n",
       "      <th>7</th>\n",
       "      <td>2</td>\n",
       "      <td>1</td>\n",
       "      <td>10001000000010000000001000</td>\n",
       "      <td>0</td>\n",
       "    </tr>\n",
       "    <tr>\n",
       "      <th>8</th>\n",
       "      <td>2</td>\n",
       "      <td>1</td>\n",
       "      <td>10001000000010000000001000</td>\n",
       "      <td>0</td>\n",
       "    </tr>\n",
       "    <tr>\n",
       "      <th>9</th>\n",
       "      <td>2</td>\n",
       "      <td>1</td>\n",
       "      <td>10001000000010000000001000</td>\n",
       "      <td>0</td>\n",
       "    </tr>\n",
       "    <tr>\n",
       "      <th>10</th>\n",
       "      <td>2</td>\n",
       "      <td>1</td>\n",
       "      <td>10001000000010000000001000</td>\n",
       "      <td>0</td>\n",
       "    </tr>\n",
       "    <tr>\n",
       "      <th>11</th>\n",
       "      <td>2</td>\n",
       "      <td>1</td>\n",
       "      <td>01000010000010000000000001</td>\n",
       "      <td>2</td>\n",
       "    </tr>\n",
       "    <tr>\n",
       "      <th>12</th>\n",
       "      <td>3</td>\n",
       "      <td>1</td>\n",
       "      <td>10001000000010000000001000</td>\n",
       "      <td>0</td>\n",
       "    </tr>\n",
       "    <tr>\n",
       "      <th>13</th>\n",
       "      <td>3</td>\n",
       "      <td>1</td>\n",
       "      <td>10001000000010000000001000</td>\n",
       "      <td>0</td>\n",
       "    </tr>\n",
       "    <tr>\n",
       "      <th>14</th>\n",
       "      <td>3</td>\n",
       "      <td>1</td>\n",
       "      <td>10001000000010000000001000</td>\n",
       "      <td>0</td>\n",
       "    </tr>\n",
       "  </tbody>\n",
       "</table>\n",
       "</div>"
      ],
      "text/plain": [
       "    Trace  malicious                  vec2string  event_index\n",
       "0       1          1  10000100000010000000000100            3\n",
       "1       1          1  10001000000010000000001000            0\n",
       "2       1          1  10001000000010000000001000            0\n",
       "3       1          1  10001000000010000000001000            0\n",
       "4       1          1  10001000000010000000001000            0\n",
       "5       1          1  01000010000010000000000001            2\n",
       "6       2          1  10001000000010000000001000            0\n",
       "7       2          1  10001000000010000000001000            0\n",
       "8       2          1  10001000000010000000001000            0\n",
       "9       2          1  10001000000010000000001000            0\n",
       "10      2          1  10001000000010000000001000            0\n",
       "11      2          1  01000010000010000000000001            2\n",
       "12      3          1  10001000000010000000001000            0\n",
       "13      3          1  10001000000010000000001000            0\n",
       "14      3          1  10001000000010000000001000            0"
      ]
     },
     "execution_count": 87,
     "metadata": {},
     "output_type": "execute_result"
    }
   ],
   "source": [
    "df_test.limit(15).toPandas()"
   ]
  },
  {
   "cell_type": "code",
   "execution_count": 1,
   "id": "0d307f59-942d-4b80-8693-82aad3cf9517",
   "metadata": {
    "tags": []
   },
   "outputs": [
    {
     "name": "stderr",
     "output_type": "stream",
     "text": [
      "Warning: Ignoring non-Spark config property: fs.s3a.access.key\n",
      "Warning: Ignoring non-Spark config property: fs.s3a.secret.key\n",
      "Setting default log level to \"WARN\".\n",
      "To adjust logging level use sc.setLogLevel(newLevel). For SparkR, use setLogLevel(newLevel).\n"
     ]
    },
    {
     "name": "stdout",
     "output_type": "stream",
     "text": [
      "23/03/19 14:17:38 WARN NativeCodeLoader: Unable to load native-hadoop library for your platform... using builtin-java classes where applicable\n",
      "23/03/19 14:17:38 WARN SparkConf: Note that spark.local.dir will be overridden by the value set by the cluster manager (via SPARK_LOCAL_DIRS in mesos/standalone/kubernetes and LOCAL_DIRS in YARN).\n"
     ]
    },
    {
     "name": "stderr",
     "output_type": "stream",
     "text": [
      "                                                                                \r"
     ]
    }
   ],
   "source": [
    "#new test df\n",
    "%run ./etl_trusted_features.ipynb"
   ]
  },
  {
   "cell_type": "code",
   "execution_count": 3,
   "id": "917b3870-620f-40f4-9a4b-70962697d247",
   "metadata": {
    "tags": []
   },
   "outputs": [
    {
     "name": "stderr",
     "output_type": "stream",
     "text": [
      "[Stage 6:=======================================================> (49 + 1) / 50]\r"
     ]
    },
    {
     "name": "stdout",
     "output_type": "stream",
     "text": [
      " 2:18PM UTC on Mar 19, 2023 --- read time: 6.950451135635376 seconds ---\n"
     ]
    },
    {
     "name": "stderr",
     "output_type": "stream",
     "text": [
      "                                                                                \r"
     ]
    }
   ],
   "source": [
    "df = readFirstEvents()"
   ]
  },
  {
   "cell_type": "code",
   "execution_count": 4,
   "id": "edfb2527-b81d-4788-a388-2f7cea8b5b50",
   "metadata": {
    "tags": []
   },
   "outputs": [
    {
     "name": "stderr",
     "output_type": "stream",
     "text": [
      "[Stage 9:=======================================================> (49 + 1) / 50]\r"
     ]
    },
    {
     "name": "stdout",
     "output_type": "stream",
     "text": [
      "981985\n",
      "mal count: 3642\n"
     ]
    },
    {
     "name": "stderr",
     "output_type": "stream",
     "text": [
      "                                                                                \r"
     ]
    }
   ],
   "source": [
    "df_ben = df.where(col('malicious') == 0)\n",
    "print(df_ben.count())\n",
    "df_mal = df.where(col('malicious') == 1)\n",
    "print(\"mal count: \"+str(df_mal.count()))"
   ]
  },
  {
   "cell_type": "code",
   "execution_count": 112,
   "id": "6c40abfa-d11d-43ca-90cc-9fa7d6ade511",
   "metadata": {
    "tags": []
   },
   "outputs": [],
   "source": [
    "df_benign = df_benign.limit(30000)"
   ]
  },
  {
   "cell_type": "code",
   "execution_count": 113,
   "id": "05330455-2b31-4829-8b6a-3b46a0723094",
   "metadata": {
    "tags": []
   },
   "outputs": [
    {
     "name": "stderr",
     "output_type": "stream",
     "text": [
      "[Stage 13916:>                                                      (0 + 1) / 1]\r"
     ]
    },
    {
     "name": "stdout",
     "output_type": "stream",
     "text": [
      "event traces: 16244380\n"
     ]
    },
    {
     "name": "stderr",
     "output_type": "stream",
     "text": [
      "                                                                                \r"
     ]
    }
   ],
   "source": [
    "from graphframes import GraphFrame\n",
    "\n",
    "#create trace matrix from malicious events for speed. \n",
    "# Create distinct vertices with source as actorid, destination as objectid for malicious\n",
    "src_vertices = df_benign.selectExpr('actorID as id').distinct()\n",
    "dst_vertices = df_benign.selectExpr('objectID as id').distinct()\n",
    "vertices = src_vertices.union(dst_vertices).distinct()\n",
    "\n",
    "# Create edges by using timestamp as an edge\n",
    "edges = df_benign.selectExpr('actorID as src', 'objectID as dst', 'timestamp', 'object', 'action', 'hostname', 'user_name', 'privileges', 'image_path',\n",
    "                      'parent_image_path', 'new_path', 'file_path', 'direction', 'logon_id', 'requesting_domain', 'requesting_user', 'malicious')\n",
    "\n",
    "# Create GraphFrame\n",
    "g = GraphFrame(vertices, edges)\n",
    "motifs6 = g.find(\"(a)-[e1]->(b); (b)-[e2]->(c); (c)-[e3]->(d); (d)-[e4]->(e); (e)-[e5]->(f); (f)-[e6]->(g)\")\n",
    "\n",
    "#create paths and count\n",
    "# filter paths to only those where all edges are connected\n",
    "connected_paths = motifs6.filter(\"e1.dst = e2.src and e2.dst = e3.src and e3.dst = e4.src and e4.dst = e5.src and e5.dst = e6.src\").cache()\n",
    "print(\"event traces: \"+str(connected_paths.count()))"
   ]
  },
  {
   "cell_type": "code",
   "execution_count": 6,
   "id": "b559964d-36ec-4e2e-9447-8db99aa6849d",
   "metadata": {
    "tags": []
   },
   "outputs": [
    {
     "name": "stderr",
     "output_type": "stream",
     "text": [
      "                                                                                \r"
     ]
    },
    {
     "name": "stdout",
     "output_type": "stream",
     "text": [
      "21135\n"
     ]
    },
    {
     "data": {
      "text/html": [
       "<div>\n",
       "<style scoped>\n",
       "    .dataframe tbody tr th:only-of-type {\n",
       "        vertical-align: middle;\n",
       "    }\n",
       "\n",
       "    .dataframe tbody tr th {\n",
       "        vertical-align: top;\n",
       "    }\n",
       "\n",
       "    .dataframe thead th {\n",
       "        text-align: right;\n",
       "    }\n",
       "</style>\n",
       "<table border=\"1\" class=\"dataframe\">\n",
       "  <thead>\n",
       "    <tr style=\"text-align: right;\">\n",
       "      <th></th>\n",
       "      <th>a</th>\n",
       "      <th>e1</th>\n",
       "      <th>b</th>\n",
       "      <th>e2</th>\n",
       "      <th>c</th>\n",
       "      <th>e3</th>\n",
       "      <th>d</th>\n",
       "      <th>e4</th>\n",
       "      <th>e</th>\n",
       "      <th>e5</th>\n",
       "      <th>f</th>\n",
       "      <th>e6</th>\n",
       "      <th>g</th>\n",
       "    </tr>\n",
       "  </thead>\n",
       "  <tbody>\n",
       "    <tr>\n",
       "      <th>0</th>\n",
       "      <td>(2d02ab42-4400-4049-baad-6dfae19c3c4c,)</td>\n",
       "      <td>(2d02ab42-4400-4049-baad-6dfae19c3c4c, 2d02ab4...</td>\n",
       "      <td>(2d02ab42-4400-4049-baad-6dfae19c3c4c,)</td>\n",
       "      <td>(2d02ab42-4400-4049-baad-6dfae19c3c4c, 2d02ab4...</td>\n",
       "      <td>(2d02ab42-4400-4049-baad-6dfae19c3c4c,)</td>\n",
       "      <td>(2d02ab42-4400-4049-baad-6dfae19c3c4c, 2d02ab4...</td>\n",
       "      <td>(2d02ab42-4400-4049-baad-6dfae19c3c4c,)</td>\n",
       "      <td>(2d02ab42-4400-4049-baad-6dfae19c3c4c, 2d02ab4...</td>\n",
       "      <td>(2d02ab42-4400-4049-baad-6dfae19c3c4c,)</td>\n",
       "      <td>(2d02ab42-4400-4049-baad-6dfae19c3c4c, 2d02ab4...</td>\n",
       "      <td>(2d02ab42-4400-4049-baad-6dfae19c3c4c,)</td>\n",
       "      <td>(2d02ab42-4400-4049-baad-6dfae19c3c4c, c3d7e86...</td>\n",
       "      <td>(c3d7e86e-fd61-4980-a2a4-8ddb7d5ce080,)</td>\n",
       "    </tr>\n",
       "    <tr>\n",
       "      <th>1</th>\n",
       "      <td>(2d02ab42-4400-4049-baad-6dfae19c3c4c,)</td>\n",
       "      <td>(2d02ab42-4400-4049-baad-6dfae19c3c4c, 2d02ab4...</td>\n",
       "      <td>(2d02ab42-4400-4049-baad-6dfae19c3c4c,)</td>\n",
       "      <td>(2d02ab42-4400-4049-baad-6dfae19c3c4c, 2d02ab4...</td>\n",
       "      <td>(2d02ab42-4400-4049-baad-6dfae19c3c4c,)</td>\n",
       "      <td>(2d02ab42-4400-4049-baad-6dfae19c3c4c, 2d02ab4...</td>\n",
       "      <td>(2d02ab42-4400-4049-baad-6dfae19c3c4c,)</td>\n",
       "      <td>(2d02ab42-4400-4049-baad-6dfae19c3c4c, 2d02ab4...</td>\n",
       "      <td>(2d02ab42-4400-4049-baad-6dfae19c3c4c,)</td>\n",
       "      <td>(2d02ab42-4400-4049-baad-6dfae19c3c4c, 2d02ab4...</td>\n",
       "      <td>(2d02ab42-4400-4049-baad-6dfae19c3c4c,)</td>\n",
       "      <td>(2d02ab42-4400-4049-baad-6dfae19c3c4c, 8ae4dd9...</td>\n",
       "      <td>(8ae4dd98-1e4c-4269-bba8-2823e84b439b,)</td>\n",
       "    </tr>\n",
       "  </tbody>\n",
       "</table>\n",
       "</div>"
      ],
      "text/plain": [
       "                                         a  \\\n",
       "0  (2d02ab42-4400-4049-baad-6dfae19c3c4c,)   \n",
       "1  (2d02ab42-4400-4049-baad-6dfae19c3c4c,)   \n",
       "\n",
       "                                                  e1  \\\n",
       "0  (2d02ab42-4400-4049-baad-6dfae19c3c4c, 2d02ab4...   \n",
       "1  (2d02ab42-4400-4049-baad-6dfae19c3c4c, 2d02ab4...   \n",
       "\n",
       "                                         b  \\\n",
       "0  (2d02ab42-4400-4049-baad-6dfae19c3c4c,)   \n",
       "1  (2d02ab42-4400-4049-baad-6dfae19c3c4c,)   \n",
       "\n",
       "                                                  e2  \\\n",
       "0  (2d02ab42-4400-4049-baad-6dfae19c3c4c, 2d02ab4...   \n",
       "1  (2d02ab42-4400-4049-baad-6dfae19c3c4c, 2d02ab4...   \n",
       "\n",
       "                                         c  \\\n",
       "0  (2d02ab42-4400-4049-baad-6dfae19c3c4c,)   \n",
       "1  (2d02ab42-4400-4049-baad-6dfae19c3c4c,)   \n",
       "\n",
       "                                                  e3  \\\n",
       "0  (2d02ab42-4400-4049-baad-6dfae19c3c4c, 2d02ab4...   \n",
       "1  (2d02ab42-4400-4049-baad-6dfae19c3c4c, 2d02ab4...   \n",
       "\n",
       "                                         d  \\\n",
       "0  (2d02ab42-4400-4049-baad-6dfae19c3c4c,)   \n",
       "1  (2d02ab42-4400-4049-baad-6dfae19c3c4c,)   \n",
       "\n",
       "                                                  e4  \\\n",
       "0  (2d02ab42-4400-4049-baad-6dfae19c3c4c, 2d02ab4...   \n",
       "1  (2d02ab42-4400-4049-baad-6dfae19c3c4c, 2d02ab4...   \n",
       "\n",
       "                                         e  \\\n",
       "0  (2d02ab42-4400-4049-baad-6dfae19c3c4c,)   \n",
       "1  (2d02ab42-4400-4049-baad-6dfae19c3c4c,)   \n",
       "\n",
       "                                                  e5  \\\n",
       "0  (2d02ab42-4400-4049-baad-6dfae19c3c4c, 2d02ab4...   \n",
       "1  (2d02ab42-4400-4049-baad-6dfae19c3c4c, 2d02ab4...   \n",
       "\n",
       "                                         f  \\\n",
       "0  (2d02ab42-4400-4049-baad-6dfae19c3c4c,)   \n",
       "1  (2d02ab42-4400-4049-baad-6dfae19c3c4c,)   \n",
       "\n",
       "                                                  e6  \\\n",
       "0  (2d02ab42-4400-4049-baad-6dfae19c3c4c, c3d7e86...   \n",
       "1  (2d02ab42-4400-4049-baad-6dfae19c3c4c, 8ae4dd9...   \n",
       "\n",
       "                                         g  \n",
       "0  (c3d7e86e-fd61-4980-a2a4-8ddb7d5ce080,)  \n",
       "1  (8ae4dd98-1e4c-4269-bba8-2823e84b439b,)  "
      ]
     },
     "execution_count": 6,
     "metadata": {},
     "output_type": "execute_result"
    }
   ],
   "source": [
    "#read in connected paths from parquet because of graphframes issues\n",
    "connected_paths = spark.read.parquet(f\"{s3_url_trusted}/prod/graph/test\").cache()\n",
    "print(connected_paths.count())\n",
    "connected_paths.limit(2).toPandas()"
   ]
  },
  {
   "cell_type": "code",
   "execution_count": 115,
   "id": "8e81c63d-9a1a-4312-b70f-c98495a4c416",
   "metadata": {
    "tags": []
   },
   "outputs": [
    {
     "name": "stdout",
     "output_type": "stream",
     "text": [
      "transposed explode: 0.28693699836730957\n"
     ]
    },
    {
     "name": "stderr",
     "output_type": "stream",
     "text": [
      "                                                                                \r"
     ]
    },
    {
     "name": "stdout",
     "output_type": "stream",
     "text": [
      "one-hot time: 26.595794677734375\n"
     ]
    },
    {
     "name": "stderr",
     "output_type": "stream",
     "text": [
      "[Stage 13926:>                                                      (0 + 1) / 1]\r"
     ]
    },
    {
     "name": "stdout",
     "output_type": "stream",
     "text": [
      "indexing time: 220.06580138206482\n",
      "total elapsed time: 220.12458777427673\n"
     ]
    },
    {
     "name": "stderr",
     "output_type": "stream",
     "text": [
      "                                                                                \r"
     ]
    }
   ],
   "source": [
    "#generate a test data frame to re-transpose\n",
    "%run trace_encode.ipynb\n",
    "df_test, dict_test = trace_encode(connected_paths,list_cols)"
   ]
  },
  {
   "cell_type": "code",
   "execution_count": 21,
   "id": "c2146dad-5fc3-4e23-901c-33dfb3afe9e3",
   "metadata": {
    "tags": []
   },
   "outputs": [
    {
     "name": "stdout",
     "output_type": "stream",
     "text": [
      "transposed explode: 0.12774348258972168\n",
      "one-hot time: 1.9131495952606201\n"
     ]
    },
    {
     "name": "stderr",
     "output_type": "stream",
     "text": [
      "[Stage 143:>                                                        (0 + 1) / 1]\r"
     ]
    },
    {
     "name": "stdout",
     "output_type": "stream",
     "text": [
      "indexing time: 22.757339000701904\n",
      "total elapsed time: 22.762881755828857\n"
     ]
    },
    {
     "name": "stderr",
     "output_type": "stream",
     "text": [
      "                                                                                \r"
     ]
    }
   ],
   "source": [
    "#generate a test data frame to re-transpose\n",
    "%run trace_encode.ipynb\n",
    "list_cols = ['object','action',\n",
    "             'image_path','parent_image_path']\n",
    "df_test, dict_test = trace_encode(connected_paths,list_cols)"
   ]
  },
  {
   "cell_type": "code",
   "execution_count": null,
   "id": "1090c4cb-748e-4331-afd7-44911b4e5f5a",
   "metadata": {},
   "outputs": [],
   "source": []
  },
  {
   "cell_type": "code",
   "execution_count": 11,
   "id": "406c1fe7-ee8b-41c5-ba54-aae82cdcad85",
   "metadata": {
    "tags": []
   },
   "outputs": [
    {
     "name": "stdout",
     "output_type": "stream",
     "text": [
      "+---+---------------+---------------+---------------+---------------+\n",
      "| id|A_first(value1)|A_first(value2)|B_first(value1)|B_first(value2)|\n",
      "+---+---------------+---------------+---------------+---------------+\n",
      "|  1|             10|            100|             20|            200|\n",
      "|  2|             30|            300|             40|            400|\n",
      "+---+---------------+---------------+---------------+---------------+\n",
      "\n"
     ]
    }
   ],
   "source": [
    "#run sample code from chat GPT\n",
    "# Create a sample dataframe\n",
    "df = spark.createDataFrame([(1, 'A', 10, 100),\n",
    "                            (1, 'B', 20, 200),\n",
    "                            (2, 'A', 30, 300),\n",
    "                            (2, 'B', 40, 400)],\n",
    "                           ['id', 'series', 'value1', 'value2'])\n",
    "\n",
    "# Pivot the dataframe\n",
    "pivoted_df = df.groupBy('id').pivot('series').agg(first('value1'), first('value2'))\n",
    "\n",
    "# Show the pivoted dataframe\n",
    "pivoted_df.show()"
   ]
  },
  {
   "cell_type": "code",
   "execution_count": 25,
   "id": "d875be61-a1ee-42ed-9df1-3744e1523dfc",
   "metadata": {
    "tags": []
   },
   "outputs": [
    {
     "name": "stderr",
     "output_type": "stream",
     "text": [
      "                                                                                \r"
     ]
    },
    {
     "data": {
      "text/html": [
       "<div>\n",
       "<style scoped>\n",
       "    .dataframe tbody tr th:only-of-type {\n",
       "        vertical-align: middle;\n",
       "    }\n",
       "\n",
       "    .dataframe tbody tr th {\n",
       "        vertical-align: top;\n",
       "    }\n",
       "\n",
       "    .dataframe thead th {\n",
       "        text-align: right;\n",
       "    }\n",
       "</style>\n",
       "<table border=\"1\" class=\"dataframe\">\n",
       "  <thead>\n",
       "    <tr style=\"text-align: right;\">\n",
       "      <th></th>\n",
       "      <th>Trace</th>\n",
       "      <th>event</th>\n",
       "      <th>malicious</th>\n",
       "      <th>vec2string</th>\n",
       "      <th>event_index</th>\n",
       "    </tr>\n",
       "  </thead>\n",
       "  <tbody>\n",
       "    <tr>\n",
       "      <th>0</th>\n",
       "      <td>1</td>\n",
       "      <td>e1</td>\n",
       "      <td>1</td>\n",
       "      <td>10001000000010000000001000</td>\n",
       "      <td>0</td>\n",
       "    </tr>\n",
       "    <tr>\n",
       "      <th>1</th>\n",
       "      <td>1</td>\n",
       "      <td>e2</td>\n",
       "      <td>1</td>\n",
       "      <td>10001000000010000000001000</td>\n",
       "      <td>0</td>\n",
       "    </tr>\n",
       "    <tr>\n",
       "      <th>2</th>\n",
       "      <td>1</td>\n",
       "      <td>e3</td>\n",
       "      <td>1</td>\n",
       "      <td>10001000000010000000001000</td>\n",
       "      <td>0</td>\n",
       "    </tr>\n",
       "    <tr>\n",
       "      <th>3</th>\n",
       "      <td>1</td>\n",
       "      <td>e4</td>\n",
       "      <td>1</td>\n",
       "      <td>10001000000010000000001000</td>\n",
       "      <td>0</td>\n",
       "    </tr>\n",
       "    <tr>\n",
       "      <th>4</th>\n",
       "      <td>1</td>\n",
       "      <td>e5</td>\n",
       "      <td>1</td>\n",
       "      <td>10001000000010000000001000</td>\n",
       "      <td>0</td>\n",
       "    </tr>\n",
       "    <tr>\n",
       "      <th>5</th>\n",
       "      <td>1</td>\n",
       "      <td>e6</td>\n",
       "      <td>1</td>\n",
       "      <td>01000010000010000000000001</td>\n",
       "      <td>2</td>\n",
       "    </tr>\n",
       "    <tr>\n",
       "      <th>6</th>\n",
       "      <td>2</td>\n",
       "      <td>e1</td>\n",
       "      <td>1</td>\n",
       "      <td>10001000000010000000001000</td>\n",
       "      <td>0</td>\n",
       "    </tr>\n",
       "    <tr>\n",
       "      <th>7</th>\n",
       "      <td>2</td>\n",
       "      <td>e2</td>\n",
       "      <td>1</td>\n",
       "      <td>10001000000010000000001000</td>\n",
       "      <td>0</td>\n",
       "    </tr>\n",
       "    <tr>\n",
       "      <th>8</th>\n",
       "      <td>2</td>\n",
       "      <td>e3</td>\n",
       "      <td>1</td>\n",
       "      <td>10001000000010000000001000</td>\n",
       "      <td>0</td>\n",
       "    </tr>\n",
       "    <tr>\n",
       "      <th>9</th>\n",
       "      <td>2</td>\n",
       "      <td>e4</td>\n",
       "      <td>1</td>\n",
       "      <td>10001000000010000000001000</td>\n",
       "      <td>0</td>\n",
       "    </tr>\n",
       "    <tr>\n",
       "      <th>10</th>\n",
       "      <td>2</td>\n",
       "      <td>e5</td>\n",
       "      <td>1</td>\n",
       "      <td>10001000000010000000001000</td>\n",
       "      <td>0</td>\n",
       "    </tr>\n",
       "    <tr>\n",
       "      <th>11</th>\n",
       "      <td>2</td>\n",
       "      <td>e6</td>\n",
       "      <td>1</td>\n",
       "      <td>01000010000010000000000001</td>\n",
       "      <td>2</td>\n",
       "    </tr>\n",
       "    <tr>\n",
       "      <th>12</th>\n",
       "      <td>3</td>\n",
       "      <td>e1</td>\n",
       "      <td>1</td>\n",
       "      <td>10001000000010000000001000</td>\n",
       "      <td>0</td>\n",
       "    </tr>\n",
       "    <tr>\n",
       "      <th>13</th>\n",
       "      <td>3</td>\n",
       "      <td>e2</td>\n",
       "      <td>1</td>\n",
       "      <td>10001000000010000000001000</td>\n",
       "      <td>0</td>\n",
       "    </tr>\n",
       "    <tr>\n",
       "      <th>14</th>\n",
       "      <td>3</td>\n",
       "      <td>e3</td>\n",
       "      <td>1</td>\n",
       "      <td>10001000000010000000001000</td>\n",
       "      <td>0</td>\n",
       "    </tr>\n",
       "  </tbody>\n",
       "</table>\n",
       "</div>"
      ],
      "text/plain": [
       "    Trace event  malicious                  vec2string  event_index\n",
       "0       1    e1          1  10001000000010000000001000            0\n",
       "1       1    e2          1  10001000000010000000001000            0\n",
       "2       1    e3          1  10001000000010000000001000            0\n",
       "3       1    e4          1  10001000000010000000001000            0\n",
       "4       1    e5          1  10001000000010000000001000            0\n",
       "5       1    e6          1  01000010000010000000000001            2\n",
       "6       2    e1          1  10001000000010000000001000            0\n",
       "7       2    e2          1  10001000000010000000001000            0\n",
       "8       2    e3          1  10001000000010000000001000            0\n",
       "9       2    e4          1  10001000000010000000001000            0\n",
       "10      2    e5          1  10001000000010000000001000            0\n",
       "11      2    e6          1  01000010000010000000000001            2\n",
       "12      3    e1          1  10001000000010000000001000            0\n",
       "13      3    e2          1  10001000000010000000001000            0\n",
       "14      3    e3          1  10001000000010000000001000            0"
      ]
     },
     "execution_count": 25,
     "metadata": {},
     "output_type": "execute_result"
    }
   ],
   "source": [
    "df_test.limit(15).toPandas()"
   ]
  },
  {
   "cell_type": "code",
   "execution_count": 45,
   "id": "65231dc6-faf1-4e2d-8d3c-b000ac2ac4a1",
   "metadata": {
    "tags": []
   },
   "outputs": [
    {
     "name": "stderr",
     "output_type": "stream",
     "text": [
      "                                                                                \r"
     ]
    },
    {
     "data": {
      "text/html": [
       "<div>\n",
       "<style scoped>\n",
       "    .dataframe tbody tr th:only-of-type {\n",
       "        vertical-align: middle;\n",
       "    }\n",
       "\n",
       "    .dataframe tbody tr th {\n",
       "        vertical-align: top;\n",
       "    }\n",
       "\n",
       "    .dataframe thead th {\n",
       "        text-align: right;\n",
       "    }\n",
       "</style>\n",
       "<table border=\"1\" class=\"dataframe\">\n",
       "  <thead>\n",
       "    <tr style=\"text-align: right;\">\n",
       "      <th></th>\n",
       "      <th>Trace</th>\n",
       "      <th>e1_first(malicious)</th>\n",
       "      <th>e1_first(vec2string)</th>\n",
       "      <th>e1_first(event_index)</th>\n",
       "      <th>e2_first(malicious)</th>\n",
       "      <th>e2_first(vec2string)</th>\n",
       "      <th>e2_first(event_index)</th>\n",
       "      <th>e3_first(malicious)</th>\n",
       "      <th>e3_first(vec2string)</th>\n",
       "      <th>e3_first(event_index)</th>\n",
       "      <th>e4_first(malicious)</th>\n",
       "      <th>e4_first(vec2string)</th>\n",
       "      <th>e4_first(event_index)</th>\n",
       "      <th>e5_first(malicious)</th>\n",
       "      <th>e5_first(vec2string)</th>\n",
       "      <th>e5_first(event_index)</th>\n",
       "      <th>e6_first(malicious)</th>\n",
       "      <th>e6_first(vec2string)</th>\n",
       "      <th>e6_first(event_index)</th>\n",
       "    </tr>\n",
       "  </thead>\n",
       "  <tbody>\n",
       "    <tr>\n",
       "      <th>0</th>\n",
       "      <td>1</td>\n",
       "      <td>1</td>\n",
       "      <td>10001000000010000000001000</td>\n",
       "      <td>0</td>\n",
       "      <td>1</td>\n",
       "      <td>10001000000010000000001000</td>\n",
       "      <td>0</td>\n",
       "      <td>1</td>\n",
       "      <td>10001000000010000000001000</td>\n",
       "      <td>0</td>\n",
       "      <td>1</td>\n",
       "      <td>10001000000010000000001000</td>\n",
       "      <td>0</td>\n",
       "      <td>1</td>\n",
       "      <td>10001000000010000000001000</td>\n",
       "      <td>0</td>\n",
       "      <td>1</td>\n",
       "      <td>01000010000010000000000001</td>\n",
       "      <td>2</td>\n",
       "    </tr>\n",
       "    <tr>\n",
       "      <th>1</th>\n",
       "      <td>2</td>\n",
       "      <td>1</td>\n",
       "      <td>10001000000010000000001000</td>\n",
       "      <td>0</td>\n",
       "      <td>1</td>\n",
       "      <td>10001000000010000000001000</td>\n",
       "      <td>0</td>\n",
       "      <td>1</td>\n",
       "      <td>10001000000010000000001000</td>\n",
       "      <td>0</td>\n",
       "      <td>1</td>\n",
       "      <td>10001000000010000000001000</td>\n",
       "      <td>0</td>\n",
       "      <td>1</td>\n",
       "      <td>10001000000010000000001000</td>\n",
       "      <td>0</td>\n",
       "      <td>1</td>\n",
       "      <td>01000010000010000000000001</td>\n",
       "      <td>2</td>\n",
       "    </tr>\n",
       "    <tr>\n",
       "      <th>2</th>\n",
       "      <td>3</td>\n",
       "      <td>1</td>\n",
       "      <td>10001000000010000000001000</td>\n",
       "      <td>0</td>\n",
       "      <td>1</td>\n",
       "      <td>10001000000010000000001000</td>\n",
       "      <td>0</td>\n",
       "      <td>1</td>\n",
       "      <td>10001000000010000000001000</td>\n",
       "      <td>0</td>\n",
       "      <td>1</td>\n",
       "      <td>10001000000010000000001000</td>\n",
       "      <td>0</td>\n",
       "      <td>1</td>\n",
       "      <td>10001000000010000000001000</td>\n",
       "      <td>0</td>\n",
       "      <td>1</td>\n",
       "      <td>01000010000010000000000001</td>\n",
       "      <td>2</td>\n",
       "    </tr>\n",
       "  </tbody>\n",
       "</table>\n",
       "</div>"
      ],
      "text/plain": [
       "   Trace  e1_first(malicious)        e1_first(vec2string)  \\\n",
       "0      1                    1  10001000000010000000001000   \n",
       "1      2                    1  10001000000010000000001000   \n",
       "2      3                    1  10001000000010000000001000   \n",
       "\n",
       "   e1_first(event_index)  e2_first(malicious)        e2_first(vec2string)  \\\n",
       "0                      0                    1  10001000000010000000001000   \n",
       "1                      0                    1  10001000000010000000001000   \n",
       "2                      0                    1  10001000000010000000001000   \n",
       "\n",
       "   e2_first(event_index)  e3_first(malicious)        e3_first(vec2string)  \\\n",
       "0                      0                    1  10001000000010000000001000   \n",
       "1                      0                    1  10001000000010000000001000   \n",
       "2                      0                    1  10001000000010000000001000   \n",
       "\n",
       "   e3_first(event_index)  e4_first(malicious)        e4_first(vec2string)  \\\n",
       "0                      0                    1  10001000000010000000001000   \n",
       "1                      0                    1  10001000000010000000001000   \n",
       "2                      0                    1  10001000000010000000001000   \n",
       "\n",
       "   e4_first(event_index)  e5_first(malicious)        e5_first(vec2string)  \\\n",
       "0                      0                    1  10001000000010000000001000   \n",
       "1                      0                    1  10001000000010000000001000   \n",
       "2                      0                    1  10001000000010000000001000   \n",
       "\n",
       "   e5_first(event_index)  e6_first(malicious)        e6_first(vec2string)  \\\n",
       "0                      0                    1  01000010000010000000000001   \n",
       "1                      0                    1  01000010000010000000000001   \n",
       "2                      0                    1  01000010000010000000000001   \n",
       "\n",
       "   e6_first(event_index)  \n",
       "0                      2  \n",
       "1                      2  \n",
       "2                      2  "
      ]
     },
     "execution_count": 45,
     "metadata": {},
     "output_type": "execute_result"
    }
   ],
   "source": [
    "#Todo set max pivot values\n",
    "#spark.sql.pivotMaxValues = df_test.select('Trace').distinct().count()\n",
    "\n",
    "pivot_test = df_test.groupBy('Trace').pivot('event').agg(first('malicious'),\n",
    "                                        first('vec2string'),\n",
    "                                        first('event_index'))\n",
    "pivot_test.limit(3).toPandas()"
   ]
  },
  {
   "cell_type": "code",
   "execution_count": null,
   "id": "b8223d58-d7dc-49f6-9fb0-0de2f324e220",
   "metadata": {},
   "outputs": [],
   "source": []
  },
  {
   "cell_type": "code",
   "execution_count": 46,
   "id": "9479a52e-13a5-46ed-9f4e-c7acaad43244",
   "metadata": {
    "tags": []
   },
   "outputs": [
    {
     "name": "stderr",
     "output_type": "stream",
     "text": [
      "                                                                                \r"
     ]
    },
    {
     "data": {
      "text/html": [
       "<div>\n",
       "<style scoped>\n",
       "    .dataframe tbody tr th:only-of-type {\n",
       "        vertical-align: middle;\n",
       "    }\n",
       "\n",
       "    .dataframe tbody tr th {\n",
       "        vertical-align: top;\n",
       "    }\n",
       "\n",
       "    .dataframe thead th {\n",
       "        text-align: right;\n",
       "    }\n",
       "</style>\n",
       "<table border=\"1\" class=\"dataframe\">\n",
       "  <thead>\n",
       "    <tr style=\"text-align: right;\">\n",
       "      <th></th>\n",
       "      <th>Trace</th>\n",
       "      <th>e1_first(malicious)</th>\n",
       "      <th>e1_first(vec2string)</th>\n",
       "      <th>e2_first(malicious)</th>\n",
       "      <th>e2_first(vec2string)</th>\n",
       "      <th>e3_first(malicious)</th>\n",
       "      <th>e3_first(vec2string)</th>\n",
       "      <th>e4_first(malicious)</th>\n",
       "      <th>e4_first(vec2string)</th>\n",
       "      <th>e5_first(malicious)</th>\n",
       "      <th>e5_first(vec2string)</th>\n",
       "      <th>e6_first(malicious)</th>\n",
       "      <th>e6_first(vec2string)</th>\n",
       "    </tr>\n",
       "  </thead>\n",
       "  <tbody>\n",
       "    <tr>\n",
       "      <th>0</th>\n",
       "      <td>1</td>\n",
       "      <td>1</td>\n",
       "      <td>10001000000010000000001000</td>\n",
       "      <td>1</td>\n",
       "      <td>10001000000010000000001000</td>\n",
       "      <td>1</td>\n",
       "      <td>10001000000010000000001000</td>\n",
       "      <td>1</td>\n",
       "      <td>10001000000010000000001000</td>\n",
       "      <td>1</td>\n",
       "      <td>10001000000010000000001000</td>\n",
       "      <td>1</td>\n",
       "      <td>01000010000010000000000001</td>\n",
       "    </tr>\n",
       "    <tr>\n",
       "      <th>1</th>\n",
       "      <td>2</td>\n",
       "      <td>1</td>\n",
       "      <td>10001000000010000000001000</td>\n",
       "      <td>1</td>\n",
       "      <td>10001000000010000000001000</td>\n",
       "      <td>1</td>\n",
       "      <td>10001000000010000000001000</td>\n",
       "      <td>1</td>\n",
       "      <td>10001000000010000000001000</td>\n",
       "      <td>1</td>\n",
       "      <td>10001000000010000000001000</td>\n",
       "      <td>1</td>\n",
       "      <td>01000010000010000000000001</td>\n",
       "    </tr>\n",
       "    <tr>\n",
       "      <th>2</th>\n",
       "      <td>3</td>\n",
       "      <td>1</td>\n",
       "      <td>10001000000010000000001000</td>\n",
       "      <td>1</td>\n",
       "      <td>10001000000010000000001000</td>\n",
       "      <td>1</td>\n",
       "      <td>10001000000010000000001000</td>\n",
       "      <td>1</td>\n",
       "      <td>10001000000010000000001000</td>\n",
       "      <td>1</td>\n",
       "      <td>10001000000010000000001000</td>\n",
       "      <td>1</td>\n",
       "      <td>01000010000010000000000001</td>\n",
       "    </tr>\n",
       "    <tr>\n",
       "      <th>3</th>\n",
       "      <td>4</td>\n",
       "      <td>1</td>\n",
       "      <td>10001000000010000000001000</td>\n",
       "      <td>1</td>\n",
       "      <td>10001000000010000000001000</td>\n",
       "      <td>1</td>\n",
       "      <td>10001000000010000000001000</td>\n",
       "      <td>1</td>\n",
       "      <td>10001000000010000000001000</td>\n",
       "      <td>1</td>\n",
       "      <td>10001000000010000000001000</td>\n",
       "      <td>1</td>\n",
       "      <td>01000010000010000000000001</td>\n",
       "    </tr>\n",
       "    <tr>\n",
       "      <th>4</th>\n",
       "      <td>5</td>\n",
       "      <td>1</td>\n",
       "      <td>10001000000010000000001000</td>\n",
       "      <td>1</td>\n",
       "      <td>10001000000010000000001000</td>\n",
       "      <td>1</td>\n",
       "      <td>10001000000010000000001000</td>\n",
       "      <td>1</td>\n",
       "      <td>10001000000010000000001000</td>\n",
       "      <td>1</td>\n",
       "      <td>10001000000010000000001000</td>\n",
       "      <td>1</td>\n",
       "      <td>10000100000000100000001000</td>\n",
       "    </tr>\n",
       "    <tr>\n",
       "      <th>5</th>\n",
       "      <td>6</td>\n",
       "      <td>1</td>\n",
       "      <td>10001000000010000000001000</td>\n",
       "      <td>1</td>\n",
       "      <td>10001000000010000000001000</td>\n",
       "      <td>1</td>\n",
       "      <td>10001000000010000000001000</td>\n",
       "      <td>1</td>\n",
       "      <td>10001000000010000000001000</td>\n",
       "      <td>1</td>\n",
       "      <td>10001000000010000000001000</td>\n",
       "      <td>1</td>\n",
       "      <td>10001000000010000000001000</td>\n",
       "    </tr>\n",
       "    <tr>\n",
       "      <th>6</th>\n",
       "      <td>7</td>\n",
       "      <td>1</td>\n",
       "      <td>10001000000010000000001000</td>\n",
       "      <td>1</td>\n",
       "      <td>10001000000010000000001000</td>\n",
       "      <td>1</td>\n",
       "      <td>10001000000010000000001000</td>\n",
       "      <td>1</td>\n",
       "      <td>10001000000010000000001000</td>\n",
       "      <td>1</td>\n",
       "      <td>10001000000010000000001000</td>\n",
       "      <td>1</td>\n",
       "      <td>01000010000010000000000001</td>\n",
       "    </tr>\n",
       "    <tr>\n",
       "      <th>7</th>\n",
       "      <td>8</td>\n",
       "      <td>1</td>\n",
       "      <td>10001000000010000000001000</td>\n",
       "      <td>1</td>\n",
       "      <td>10001000000010000000001000</td>\n",
       "      <td>1</td>\n",
       "      <td>10001000000010000000001000</td>\n",
       "      <td>1</td>\n",
       "      <td>10001000000010000000001000</td>\n",
       "      <td>1</td>\n",
       "      <td>10001000000010000000001000</td>\n",
       "      <td>1</td>\n",
       "      <td>01000010000010000000000001</td>\n",
       "    </tr>\n",
       "    <tr>\n",
       "      <th>8</th>\n",
       "      <td>9</td>\n",
       "      <td>1</td>\n",
       "      <td>10001000000010000000001000</td>\n",
       "      <td>1</td>\n",
       "      <td>10001000000010000000001000</td>\n",
       "      <td>1</td>\n",
       "      <td>10001000000010000000001000</td>\n",
       "      <td>1</td>\n",
       "      <td>10001000000010000000001000</td>\n",
       "      <td>1</td>\n",
       "      <td>10001000000010000000001000</td>\n",
       "      <td>1</td>\n",
       "      <td>01000010000010000000000001</td>\n",
       "    </tr>\n",
       "    <tr>\n",
       "      <th>9</th>\n",
       "      <td>10</td>\n",
       "      <td>1</td>\n",
       "      <td>10001000000010000000001000</td>\n",
       "      <td>1</td>\n",
       "      <td>10001000000010000000001000</td>\n",
       "      <td>1</td>\n",
       "      <td>10001000000010000000001000</td>\n",
       "      <td>1</td>\n",
       "      <td>10001000000010000000001000</td>\n",
       "      <td>1</td>\n",
       "      <td>10001000000010000000001000</td>\n",
       "      <td>1</td>\n",
       "      <td>01000010000010000000000001</td>\n",
       "    </tr>\n",
       "  </tbody>\n",
       "</table>\n",
       "</div>"
      ],
      "text/plain": [
       "   Trace  e1_first(malicious)        e1_first(vec2string)  \\\n",
       "0      1                    1  10001000000010000000001000   \n",
       "1      2                    1  10001000000010000000001000   \n",
       "2      3                    1  10001000000010000000001000   \n",
       "3      4                    1  10001000000010000000001000   \n",
       "4      5                    1  10001000000010000000001000   \n",
       "5      6                    1  10001000000010000000001000   \n",
       "6      7                    1  10001000000010000000001000   \n",
       "7      8                    1  10001000000010000000001000   \n",
       "8      9                    1  10001000000010000000001000   \n",
       "9     10                    1  10001000000010000000001000   \n",
       "\n",
       "   e2_first(malicious)        e2_first(vec2string)  e3_first(malicious)  \\\n",
       "0                    1  10001000000010000000001000                    1   \n",
       "1                    1  10001000000010000000001000                    1   \n",
       "2                    1  10001000000010000000001000                    1   \n",
       "3                    1  10001000000010000000001000                    1   \n",
       "4                    1  10001000000010000000001000                    1   \n",
       "5                    1  10001000000010000000001000                    1   \n",
       "6                    1  10001000000010000000001000                    1   \n",
       "7                    1  10001000000010000000001000                    1   \n",
       "8                    1  10001000000010000000001000                    1   \n",
       "9                    1  10001000000010000000001000                    1   \n",
       "\n",
       "         e3_first(vec2string)  e4_first(malicious)  \\\n",
       "0  10001000000010000000001000                    1   \n",
       "1  10001000000010000000001000                    1   \n",
       "2  10001000000010000000001000                    1   \n",
       "3  10001000000010000000001000                    1   \n",
       "4  10001000000010000000001000                    1   \n",
       "5  10001000000010000000001000                    1   \n",
       "6  10001000000010000000001000                    1   \n",
       "7  10001000000010000000001000                    1   \n",
       "8  10001000000010000000001000                    1   \n",
       "9  10001000000010000000001000                    1   \n",
       "\n",
       "         e4_first(vec2string)  e5_first(malicious)  \\\n",
       "0  10001000000010000000001000                    1   \n",
       "1  10001000000010000000001000                    1   \n",
       "2  10001000000010000000001000                    1   \n",
       "3  10001000000010000000001000                    1   \n",
       "4  10001000000010000000001000                    1   \n",
       "5  10001000000010000000001000                    1   \n",
       "6  10001000000010000000001000                    1   \n",
       "7  10001000000010000000001000                    1   \n",
       "8  10001000000010000000001000                    1   \n",
       "9  10001000000010000000001000                    1   \n",
       "\n",
       "         e5_first(vec2string)  e6_first(malicious)        e6_first(vec2string)  \n",
       "0  10001000000010000000001000                    1  01000010000010000000000001  \n",
       "1  10001000000010000000001000                    1  01000010000010000000000001  \n",
       "2  10001000000010000000001000                    1  01000010000010000000000001  \n",
       "3  10001000000010000000001000                    1  01000010000010000000000001  \n",
       "4  10001000000010000000001000                    1  10000100000000100000001000  \n",
       "5  10001000000010000000001000                    1  10001000000010000000001000  \n",
       "6  10001000000010000000001000                    1  01000010000010000000000001  \n",
       "7  10001000000010000000001000                    1  01000010000010000000000001  \n",
       "8  10001000000010000000001000                    1  01000010000010000000000001  \n",
       "9  10001000000010000000001000                    1  01000010000010000000000001  "
      ]
     },
     "execution_count": 46,
     "metadata": {},
     "output_type": "execute_result"
    }
   ],
   "source": [
    "pivot_test_vec = df_test.groupBy('Trace').pivot('event').agg(first('malicious'),\n",
    "                                        first('vec2string'))\n",
    "                                    \n",
    "pivot_test_vec.limit(10).toPandas()"
   ]
  },
  {
   "cell_type": "code",
   "execution_count": 47,
   "id": "1e12dd7e-40de-4fff-b0ff-3e094d58fad5",
   "metadata": {
    "tags": []
   },
   "outputs": [
    {
     "data": {
      "text/plain": [
       "21135"
      ]
     },
     "execution_count": 47,
     "metadata": {},
     "output_type": "execute_result"
    }
   ],
   "source": [
    "pivot_test_ind = df_test.groupBy('Trace').pivot('event').agg(first('malicious'),\n",
    "                                        first('event_index'))\n",
    "pivot_test_ind.count()\n",
    "#now I just have to drop a rename the columns and I am good \n"
   ]
  },
  {
   "cell_type": "code",
   "execution_count": 51,
   "id": "1039fb14-b68b-43a2-9192-187056cbc66b",
   "metadata": {
    "tags": []
   },
   "outputs": [
    {
     "name": "stderr",
     "output_type": "stream",
     "text": [
      "                                                                                \r"
     ]
    },
    {
     "data": {
      "text/html": [
       "<div>\n",
       "<style scoped>\n",
       "    .dataframe tbody tr th:only-of-type {\n",
       "        vertical-align: middle;\n",
       "    }\n",
       "\n",
       "    .dataframe tbody tr th {\n",
       "        vertical-align: top;\n",
       "    }\n",
       "\n",
       "    .dataframe thead th {\n",
       "        text-align: right;\n",
       "    }\n",
       "</style>\n",
       "<table border=\"1\" class=\"dataframe\">\n",
       "  <thead>\n",
       "    <tr style=\"text-align: right;\">\n",
       "      <th></th>\n",
       "      <th>Trace</th>\n",
       "      <th>malicious</th>\n",
       "      <th>event_sequence</th>\n",
       "    </tr>\n",
       "  </thead>\n",
       "  <tbody>\n",
       "    <tr>\n",
       "      <th>0</th>\n",
       "      <td>1</td>\n",
       "      <td>1</td>\n",
       "      <td>[0, 0, 0, 0, 0, 2]</td>\n",
       "    </tr>\n",
       "    <tr>\n",
       "      <th>1</th>\n",
       "      <td>2</td>\n",
       "      <td>1</td>\n",
       "      <td>[0, 0, 0, 0, 0, 2]</td>\n",
       "    </tr>\n",
       "    <tr>\n",
       "      <th>2</th>\n",
       "      <td>3</td>\n",
       "      <td>1</td>\n",
       "      <td>[0, 0, 0, 0, 0, 2]</td>\n",
       "    </tr>\n",
       "    <tr>\n",
       "      <th>3</th>\n",
       "      <td>4</td>\n",
       "      <td>1</td>\n",
       "      <td>[0, 0, 0, 0, 0, 2]</td>\n",
       "    </tr>\n",
       "    <tr>\n",
       "      <th>4</th>\n",
       "      <td>5</td>\n",
       "      <td>1</td>\n",
       "      <td>[0, 0, 0, 0, 0, 10]</td>\n",
       "    </tr>\n",
       "    <tr>\n",
       "      <th>5</th>\n",
       "      <td>6</td>\n",
       "      <td>1</td>\n",
       "      <td>[0, 0, 0, 0, 0, 0]</td>\n",
       "    </tr>\n",
       "    <tr>\n",
       "      <th>6</th>\n",
       "      <td>7</td>\n",
       "      <td>1</td>\n",
       "      <td>[0, 0, 0, 0, 0, 2]</td>\n",
       "    </tr>\n",
       "    <tr>\n",
       "      <th>7</th>\n",
       "      <td>8</td>\n",
       "      <td>1</td>\n",
       "      <td>[0, 0, 0, 0, 0, 2]</td>\n",
       "    </tr>\n",
       "    <tr>\n",
       "      <th>8</th>\n",
       "      <td>9</td>\n",
       "      <td>1</td>\n",
       "      <td>[0, 0, 0, 0, 0, 2]</td>\n",
       "    </tr>\n",
       "    <tr>\n",
       "      <th>9</th>\n",
       "      <td>10</td>\n",
       "      <td>1</td>\n",
       "      <td>[0, 0, 0, 0, 0, 2]</td>\n",
       "    </tr>\n",
       "  </tbody>\n",
       "</table>\n",
       "</div>"
      ],
      "text/plain": [
       "   Trace  malicious       event_sequence\n",
       "0      1          1   [0, 0, 0, 0, 0, 2]\n",
       "1      2          1   [0, 0, 0, 0, 0, 2]\n",
       "2      3          1   [0, 0, 0, 0, 0, 2]\n",
       "3      4          1   [0, 0, 0, 0, 0, 2]\n",
       "4      5          1  [0, 0, 0, 0, 0, 10]\n",
       "5      6          1   [0, 0, 0, 0, 0, 0]\n",
       "6      7          1   [0, 0, 0, 0, 0, 2]\n",
       "7      8          1   [0, 0, 0, 0, 0, 2]\n",
       "8      9          1   [0, 0, 0, 0, 0, 2]\n",
       "9     10          1   [0, 0, 0, 0, 0, 2]"
      ]
     },
     "execution_count": 51,
     "metadata": {},
     "output_type": "execute_result"
    }
   ],
   "source": [
    "#now add all the columns into a single array and drop everything else\n",
    "ind_final = pivot_test_ind.select('Trace',col('e1_first(malicious)').alias('malicious'),\n",
    "                                  array('e1_first(event_index)', 'e2_first(event_index)',\n",
    "                           'e3_first(event_index)','e4_first(event_index)', \n",
    "                           'e5_first(event_index)', 'e6_first(event_index)').alias('event_sequence'))\n",
    "ind_final.sort('Trace').limit(10).toPandas()"
   ]
  },
  {
   "cell_type": "code",
   "execution_count": 49,
   "id": "e248d6f3-6a1c-4d9e-a3aa-24921fa6a360",
   "metadata": {
    "tags": []
   },
   "outputs": [
    {
     "name": "stderr",
     "output_type": "stream",
     "text": [
      "                                                                                \r"
     ]
    },
    {
     "data": {
      "text/html": [
       "<div>\n",
       "<style scoped>\n",
       "    .dataframe tbody tr th:only-of-type {\n",
       "        vertical-align: middle;\n",
       "    }\n",
       "\n",
       "    .dataframe tbody tr th {\n",
       "        vertical-align: top;\n",
       "    }\n",
       "\n",
       "    .dataframe thead th {\n",
       "        text-align: right;\n",
       "    }\n",
       "</style>\n",
       "<table border=\"1\" class=\"dataframe\">\n",
       "  <thead>\n",
       "    <tr style=\"text-align: right;\">\n",
       "      <th></th>\n",
       "      <th>Trace</th>\n",
       "      <th>malicious</th>\n",
       "      <th>event_sequence</th>\n",
       "    </tr>\n",
       "  </thead>\n",
       "  <tbody>\n",
       "    <tr>\n",
       "      <th>0</th>\n",
       "      <td>1</td>\n",
       "      <td>1</td>\n",
       "      <td>[10001000000010000000001000, 10001000000010000...</td>\n",
       "    </tr>\n",
       "    <tr>\n",
       "      <th>1</th>\n",
       "      <td>2</td>\n",
       "      <td>1</td>\n",
       "      <td>[10001000000010000000001000, 10001000000010000...</td>\n",
       "    </tr>\n",
       "    <tr>\n",
       "      <th>2</th>\n",
       "      <td>3</td>\n",
       "      <td>1</td>\n",
       "      <td>[10001000000010000000001000, 10001000000010000...</td>\n",
       "    </tr>\n",
       "    <tr>\n",
       "      <th>3</th>\n",
       "      <td>4</td>\n",
       "      <td>1</td>\n",
       "      <td>[10001000000010000000001000, 10001000000010000...</td>\n",
       "    </tr>\n",
       "    <tr>\n",
       "      <th>4</th>\n",
       "      <td>5</td>\n",
       "      <td>1</td>\n",
       "      <td>[10001000000010000000001000, 10001000000010000...</td>\n",
       "    </tr>\n",
       "    <tr>\n",
       "      <th>5</th>\n",
       "      <td>6</td>\n",
       "      <td>1</td>\n",
       "      <td>[10001000000010000000001000, 10001000000010000...</td>\n",
       "    </tr>\n",
       "    <tr>\n",
       "      <th>6</th>\n",
       "      <td>7</td>\n",
       "      <td>1</td>\n",
       "      <td>[10001000000010000000001000, 10001000000010000...</td>\n",
       "    </tr>\n",
       "    <tr>\n",
       "      <th>7</th>\n",
       "      <td>8</td>\n",
       "      <td>1</td>\n",
       "      <td>[10001000000010000000001000, 10001000000010000...</td>\n",
       "    </tr>\n",
       "    <tr>\n",
       "      <th>8</th>\n",
       "      <td>9</td>\n",
       "      <td>1</td>\n",
       "      <td>[10001000000010000000001000, 10001000000010000...</td>\n",
       "    </tr>\n",
       "    <tr>\n",
       "      <th>9</th>\n",
       "      <td>10</td>\n",
       "      <td>1</td>\n",
       "      <td>[10001000000010000000001000, 10001000000010000...</td>\n",
       "    </tr>\n",
       "  </tbody>\n",
       "</table>\n",
       "</div>"
      ],
      "text/plain": [
       "   Trace  malicious                                     event_sequence\n",
       "0      1          1  [10001000000010000000001000, 10001000000010000...\n",
       "1      2          1  [10001000000010000000001000, 10001000000010000...\n",
       "2      3          1  [10001000000010000000001000, 10001000000010000...\n",
       "3      4          1  [10001000000010000000001000, 10001000000010000...\n",
       "4      5          1  [10001000000010000000001000, 10001000000010000...\n",
       "5      6          1  [10001000000010000000001000, 10001000000010000...\n",
       "6      7          1  [10001000000010000000001000, 10001000000010000...\n",
       "7      8          1  [10001000000010000000001000, 10001000000010000...\n",
       "8      9          1  [10001000000010000000001000, 10001000000010000...\n",
       "9     10          1  [10001000000010000000001000, 10001000000010000..."
      ]
     },
     "execution_count": 49,
     "metadata": {},
     "output_type": "execute_result"
    }
   ],
   "source": [
    "vec_final = pivot_test_vec.select('Trace',col('e1_first(malicious)').alias('malicious'),\n",
    "                                  array('e1_first(vec2string)', 'e2_first(vec2string)',\n",
    "                           'e3_first(vec2string)','e4_first(vec2string)', \n",
    "                           'e5_first(vec2string)', 'e6_first(vec2string)').alias('event_sequence'))\n",
    "\n",
    "vec_final.limit(10).toPandas()"
   ]
  },
  {
   "cell_type": "code",
   "execution_count": 53,
   "id": "63776029-0bc6-4db2-b4e9-1c6f02d26b3a",
   "metadata": {
    "tags": []
   },
   "outputs": [
    {
     "name": "stdout",
     "output_type": "stream",
     "text": [
      "transposed explode: 0.12270402908325195\n",
      "one-hot time: 1.8612608909606934\n"
     ]
    },
    {
     "name": "stderr",
     "output_type": "stream",
     "text": [
      "                                                                                \r"
     ]
    },
    {
     "name": "stdout",
     "output_type": "stream",
     "text": [
      "indexing time: 22.65959358215332\n",
      "total elapsed time: 22.86321783065796\n"
     ]
    }
   ],
   "source": [
    "#now let's test it for index\n",
    "%run trace_encode.ipynb\n",
    "list_cols = ['object','action',\n",
    "             'image_path','parent_image_path']\n",
    "df_test, dict_test = trace_encode(connected_paths,list_cols)"
   ]
  },
  {
   "cell_type": "code",
   "execution_count": 59,
   "id": "ee06bc1f-4e1e-41db-8a07-6569e337f71b",
   "metadata": {
    "tags": []
   },
   "outputs": [
    {
     "name": "stdout",
     "output_type": "stream",
     "text": [
      "21135\n"
     ]
    },
    {
     "name": "stderr",
     "output_type": "stream",
     "text": [
      "                                                                                \r"
     ]
    },
    {
     "data": {
      "text/html": [
       "<div>\n",
       "<style scoped>\n",
       "    .dataframe tbody tr th:only-of-type {\n",
       "        vertical-align: middle;\n",
       "    }\n",
       "\n",
       "    .dataframe tbody tr th {\n",
       "        vertical-align: top;\n",
       "    }\n",
       "\n",
       "    .dataframe thead th {\n",
       "        text-align: right;\n",
       "    }\n",
       "</style>\n",
       "<table border=\"1\" class=\"dataframe\">\n",
       "  <thead>\n",
       "    <tr style=\"text-align: right;\">\n",
       "      <th></th>\n",
       "      <th>Trace</th>\n",
       "      <th>malicious</th>\n",
       "      <th>event_sequence</th>\n",
       "    </tr>\n",
       "  </thead>\n",
       "  <tbody>\n",
       "    <tr>\n",
       "      <th>0</th>\n",
       "      <td>4590</td>\n",
       "      <td>1</td>\n",
       "      <td>[3, 0, 0, 0, 3, 6]</td>\n",
       "    </tr>\n",
       "    <tr>\n",
       "      <th>1</th>\n",
       "      <td>5409</td>\n",
       "      <td>1</td>\n",
       "      <td>[3, 0, 3, 0, 3, 2]</td>\n",
       "    </tr>\n",
       "    <tr>\n",
       "      <th>2</th>\n",
       "      <td>11190</td>\n",
       "      <td>1</td>\n",
       "      <td>[1, 0, 0, 1, 0, 0]</td>\n",
       "    </tr>\n",
       "    <tr>\n",
       "      <th>3</th>\n",
       "      <td>11567</td>\n",
       "      <td>1</td>\n",
       "      <td>[0, 0, 0, 1, 0, 0]</td>\n",
       "    </tr>\n",
       "    <tr>\n",
       "      <th>4</th>\n",
       "      <td>7747</td>\n",
       "      <td>1</td>\n",
       "      <td>[0, 0, 1, 0, 0, 0]</td>\n",
       "    </tr>\n",
       "    <tr>\n",
       "      <th>5</th>\n",
       "      <td>8589935298</td>\n",
       "      <td>1</td>\n",
       "      <td>[0, 0, 0, 0, 0, 2]</td>\n",
       "    </tr>\n",
       "    <tr>\n",
       "      <th>6</th>\n",
       "      <td>8589935936</td>\n",
       "      <td>1</td>\n",
       "      <td>[0, 0, 0, 0, 0, 2]</td>\n",
       "    </tr>\n",
       "    <tr>\n",
       "      <th>7</th>\n",
       "      <td>8589936424</td>\n",
       "      <td>1</td>\n",
       "      <td>[0, 0, 0, 0, 0, 2]</td>\n",
       "    </tr>\n",
       "    <tr>\n",
       "      <th>8</th>\n",
       "      <td>1950</td>\n",
       "      <td>1</td>\n",
       "      <td>[0, 0, 0, 0, 0, 0]</td>\n",
       "    </tr>\n",
       "    <tr>\n",
       "      <th>9</th>\n",
       "      <td>2509</td>\n",
       "      <td>1</td>\n",
       "      <td>[3, 0, 0, 0, 0, 2]</td>\n",
       "    </tr>\n",
       "  </tbody>\n",
       "</table>\n",
       "</div>"
      ],
      "text/plain": [
       "        Trace  malicious      event_sequence\n",
       "0        4590          1  [3, 0, 0, 0, 3, 6]\n",
       "1        5409          1  [3, 0, 3, 0, 3, 2]\n",
       "2       11190          1  [1, 0, 0, 1, 0, 0]\n",
       "3       11567          1  [0, 0, 0, 1, 0, 0]\n",
       "4        7747          1  [0, 0, 1, 0, 0, 0]\n",
       "5  8589935298          1  [0, 0, 0, 0, 0, 2]\n",
       "6  8589935936          1  [0, 0, 0, 0, 0, 2]\n",
       "7  8589936424          1  [0, 0, 0, 0, 0, 2]\n",
       "8        1950          1  [0, 0, 0, 0, 0, 0]\n",
       "9        2509          1  [3, 0, 0, 0, 0, 2]"
      ]
     },
     "execution_count": 59,
     "metadata": {},
     "output_type": "execute_result"
    }
   ],
   "source": [
    "print(df_test.count())\n",
    "df_test.limit(10).toPandas()"
   ]
  },
  {
   "cell_type": "code",
   "execution_count": 54,
   "id": "506af103-71d6-4c5c-8feb-59aaaa11b84f",
   "metadata": {
    "tags": []
   },
   "outputs": [
    {
     "name": "stdout",
     "output_type": "stream",
     "text": [
      "transposed explode: 0.11651253700256348\n",
      "one-hot time: 1.6763536930084229\n",
      "total elapsed time: 1.8925683498382568\n"
     ]
    }
   ],
   "source": [
    "#now test it for vec\n",
    "%run trace_encode.ipynb\n",
    "list_cols = ['object','action',\n",
    "             'image_path','parent_image_path']\n",
    "df_test_vec, dict_test = trace_encode(connected_paths,list_cols, output = 'vec')"
   ]
  },
  {
   "cell_type": "code",
   "execution_count": 58,
   "id": "7d4f0105-516c-4812-a257-8d0b70329cce",
   "metadata": {
    "tags": []
   },
   "outputs": [
    {
     "name": "stdout",
     "output_type": "stream",
     "text": [
      "21135\n"
     ]
    },
    {
     "name": "stderr",
     "output_type": "stream",
     "text": [
      "                                                                                \r"
     ]
    },
    {
     "data": {
      "text/html": [
       "<div>\n",
       "<style scoped>\n",
       "    .dataframe tbody tr th:only-of-type {\n",
       "        vertical-align: middle;\n",
       "    }\n",
       "\n",
       "    .dataframe tbody tr th {\n",
       "        vertical-align: top;\n",
       "    }\n",
       "\n",
       "    .dataframe thead th {\n",
       "        text-align: right;\n",
       "    }\n",
       "</style>\n",
       "<table border=\"1\" class=\"dataframe\">\n",
       "  <thead>\n",
       "    <tr style=\"text-align: right;\">\n",
       "      <th></th>\n",
       "      <th>Trace</th>\n",
       "      <th>malicious</th>\n",
       "      <th>event_sequence</th>\n",
       "    </tr>\n",
       "  </thead>\n",
       "  <tbody>\n",
       "    <tr>\n",
       "      <th>0</th>\n",
       "      <td>1</td>\n",
       "      <td>1</td>\n",
       "      <td>[10001000000010000000001000, 10001000000010000...</td>\n",
       "    </tr>\n",
       "    <tr>\n",
       "      <th>1</th>\n",
       "      <td>2</td>\n",
       "      <td>1</td>\n",
       "      <td>[10001000000010000000001000, 10001000000010000...</td>\n",
       "    </tr>\n",
       "    <tr>\n",
       "      <th>2</th>\n",
       "      <td>3</td>\n",
       "      <td>1</td>\n",
       "      <td>[10001000000010000000001000, 10001000000010000...</td>\n",
       "    </tr>\n",
       "    <tr>\n",
       "      <th>3</th>\n",
       "      <td>4</td>\n",
       "      <td>1</td>\n",
       "      <td>[10001000000010000000001000, 10001000000010000...</td>\n",
       "    </tr>\n",
       "    <tr>\n",
       "      <th>4</th>\n",
       "      <td>5</td>\n",
       "      <td>1</td>\n",
       "      <td>[10001000000010000000001000, 10001000000010000...</td>\n",
       "    </tr>\n",
       "    <tr>\n",
       "      <th>5</th>\n",
       "      <td>6</td>\n",
       "      <td>1</td>\n",
       "      <td>[10001000000010000000001000, 10001000000010000...</td>\n",
       "    </tr>\n",
       "    <tr>\n",
       "      <th>6</th>\n",
       "      <td>7</td>\n",
       "      <td>1</td>\n",
       "      <td>[10001000000010000000001000, 10001000000010000...</td>\n",
       "    </tr>\n",
       "    <tr>\n",
       "      <th>7</th>\n",
       "      <td>8</td>\n",
       "      <td>1</td>\n",
       "      <td>[10001000000010000000001000, 10001000000010000...</td>\n",
       "    </tr>\n",
       "    <tr>\n",
       "      <th>8</th>\n",
       "      <td>9</td>\n",
       "      <td>1</td>\n",
       "      <td>[10001000000010000000001000, 10001000000010000...</td>\n",
       "    </tr>\n",
       "    <tr>\n",
       "      <th>9</th>\n",
       "      <td>10</td>\n",
       "      <td>1</td>\n",
       "      <td>[10001000000010000000001000, 10001000000010000...</td>\n",
       "    </tr>\n",
       "  </tbody>\n",
       "</table>\n",
       "</div>"
      ],
      "text/plain": [
       "   Trace  malicious                                     event_sequence\n",
       "0      1          1  [10001000000010000000001000, 10001000000010000...\n",
       "1      2          1  [10001000000010000000001000, 10001000000010000...\n",
       "2      3          1  [10001000000010000000001000, 10001000000010000...\n",
       "3      4          1  [10001000000010000000001000, 10001000000010000...\n",
       "4      5          1  [10001000000010000000001000, 10001000000010000...\n",
       "5      6          1  [10001000000010000000001000, 10001000000010000...\n",
       "6      7          1  [10001000000010000000001000, 10001000000010000...\n",
       "7      8          1  [10001000000010000000001000, 10001000000010000...\n",
       "8      9          1  [10001000000010000000001000, 10001000000010000...\n",
       "9     10          1  [10001000000010000000001000, 10001000000010000..."
      ]
     },
     "execution_count": 58,
     "metadata": {},
     "output_type": "execute_result"
    }
   ],
   "source": [
    "print(df_test_vec.count())\n",
    "df_test_vec.limit(10).toPandas()"
   ]
  },
  {
   "cell_type": "code",
   "execution_count": 2,
   "id": "d028b289-8434-47aa-9552-12629f9c1152",
   "metadata": {
    "tags": []
   },
   "outputs": [
    {
     "name": "stderr",
     "output_type": "stream",
     "text": [
      "                                                                                \r"
     ]
    },
    {
     "name": "stdout",
     "output_type": "stream",
     "text": [
      " 1:40AM UTC on Mar 24, 2023 --- read time: 7.3005523681640625 seconds ---\n"
     ]
    }
   ],
   "source": [
    "#experiment with binning first to make sure it's read in, and then to make sure we have the right amount \n",
    "#of bins\n",
    "df = readFirstEvents()"
   ]
  },
  {
   "cell_type": "code",
   "execution_count": 3,
   "id": "9171b3b9-970d-45b8-8f0d-fc36a2646993",
   "metadata": {
    "tags": []
   },
   "outputs": [],
   "source": [
    "df_m_23 = df.where((col('malicious') == 1) & (col('event_day')==23))"
   ]
  },
  {
   "cell_type": "code",
   "execution_count": 4,
   "id": "04191af1-d0fe-46b7-acc5-06d2e8d5b924",
   "metadata": {
    "tags": []
   },
   "outputs": [
    {
     "name": "stderr",
     "output_type": "stream",
     "text": [
      "                                                                                \r"
     ]
    },
    {
     "data": {
      "text/plain": [
       "3624"
      ]
     },
     "execution_count": 4,
     "metadata": {},
     "output_type": "execute_result"
    }
   ],
   "source": [
    "df_m_23.count()"
   ]
  },
  {
   "cell_type": "code",
   "execution_count": 12,
   "id": "c99b1778-7394-4d15-beee-76fc6c9c1006",
   "metadata": {
    "tags": []
   },
   "outputs": [],
   "source": [
    "%run trace_encode.ipynb"
   ]
  },
  {
   "cell_type": "code",
   "execution_count": 6,
   "id": "745c5cbc-d5a1-4d0a-a04a-6c3f96ed744a",
   "metadata": {
    "tags": []
   },
   "outputs": [
    {
     "name": "stderr",
     "output_type": "stream",
     "text": [
      "/home/ec2-user/anaconda3/envs/python3/lib/python3.10/site-packages/pyspark/sql/dataframe.py:148: UserWarning: DataFrame.sql_ctx is an internal property, and will be removed in future releases. Use DataFrame.sparkSession instead.\n",
      "  warnings.warn(\n",
      "/home/ec2-user/anaconda3/envs/python3/lib/python3.10/site-packages/pyspark/sql/dataframe.py:127: UserWarning: DataFrame constructor is internal. Do not directly use it.\n",
      "  warnings.warn(\"DataFrame constructor is internal. Do not directly use it.\")\n",
      "[Stage 21:=======================================>             (148 + 16) / 200]\r"
     ]
    },
    {
     "name": "stdout",
     "output_type": "stream",
     "text": [
      "event traces: 1261\n"
     ]
    },
    {
     "name": "stderr",
     "output_type": "stream",
     "text": [
      "                                                                                \r"
     ]
    }
   ],
   "source": [
    "df_graph = create_graph(df_m_23)"
   ]
  },
  {
   "cell_type": "code",
   "execution_count": 8,
   "id": "b1f92211-0f75-4372-8750-e23f3bf833e5",
   "metadata": {
    "tags": []
   },
   "outputs": [],
   "source": [
    "#add \"trace index\" to keep track of traces. important for transposing back\n",
    "df_transp = df_graph.withColumn(\"Trace\", (monotonically_increasing_id() + 1))\n",
    "df_transp = df_transp.select(\"Trace\", \n",
    "                             *[col for col in df_transp.columns if col != \"Trace\"])\n",
    "\n",
    "#drop all vertices\n",
    "df_transp = df_transp.drop('a','b','c','d','e','f','g')\n",
    "\n",
    "#transpose rows \n",
    "stacked_df = df_transp.selectExpr(\n",
    "    \"Trace\", \n",
    "    \"posexplode(array(e1, e2, e3, e4, e5, e6)) as (pos, col)\"\n",
    ").select(\n",
    "    \"Trace\", \n",
    "    expr('''CASE pos \n",
    "    WHEN 0 THEN 'e1' \n",
    "    WHEN 1 THEN 'e2'\n",
    "    WHEN 2 THEN 'e3'\n",
    "    WHEN 3 THEN 'e4'\n",
    "    WHEN 4 THEN 'e5'\n",
    "    ELSE 'e6' END''').alias(\"event\"),\n",
    "    \"col\"\n",
    ").orderBy(\"Trace\",\"event\")\n",
    "\n",
    "#explode columns\n",
    "df_onehot = stacked_df.select(*stacked_df.columns, \"col.*\").drop('col')"
   ]
  },
  {
   "cell_type": "code",
   "execution_count": 11,
   "id": "20447b70-af0b-4bf4-a094-5eb082970d74",
   "metadata": {
    "collapsed": true,
    "jupyter": {
     "outputs_hidden": true
    },
    "tags": []
   },
   "outputs": [
    {
     "name": "stderr",
     "output_type": "stream",
     "text": [
      "/home/ec2-user/anaconda3/envs/python3/lib/python3.10/site-packages/pyspark/sql/pandas/conversion.py:248: FutureWarning: Passing unit-less datetime64 dtype to .astype is deprecated and will raise in a future version. Pass 'datetime64[ns]' instead\n",
      "  series = series.astype(t, copy=False)\n"
     ]
    },
    {
     "data": {
      "text/html": [
       "<div>\n",
       "<style scoped>\n",
       "    .dataframe tbody tr th:only-of-type {\n",
       "        vertical-align: middle;\n",
       "    }\n",
       "\n",
       "    .dataframe tbody tr th {\n",
       "        vertical-align: top;\n",
       "    }\n",
       "\n",
       "    .dataframe thead th {\n",
       "        text-align: right;\n",
       "    }\n",
       "</style>\n",
       "<table border=\"1\" class=\"dataframe\">\n",
       "  <thead>\n",
       "    <tr style=\"text-align: right;\">\n",
       "      <th></th>\n",
       "      <th>Trace</th>\n",
       "      <th>event</th>\n",
       "      <th>src</th>\n",
       "      <th>dst</th>\n",
       "      <th>timestamp</th>\n",
       "      <th>object</th>\n",
       "      <th>action</th>\n",
       "      <th>hostname</th>\n",
       "      <th>user_name</th>\n",
       "      <th>privileges</th>\n",
       "      <th>image_path</th>\n",
       "      <th>parent_image_path</th>\n",
       "      <th>new_path</th>\n",
       "      <th>file_path</th>\n",
       "      <th>direction</th>\n",
       "      <th>logon_id</th>\n",
       "      <th>requesting_domain</th>\n",
       "      <th>requesting_user</th>\n",
       "      <th>malicious</th>\n",
       "      <th>timestamp_difference</th>\n",
       "    </tr>\n",
       "  </thead>\n",
       "  <tbody>\n",
       "    <tr>\n",
       "      <th>0</th>\n",
       "      <td>1</td>\n",
       "      <td>e1</td>\n",
       "      <td>f5d1c003-1f65-4a8a-ba8c-413da99d70f2</td>\n",
       "      <td>a52f6519-6265-4437-9f6c-3402fb245cc7</td>\n",
       "      <td>2019-09-23 15:25:52.486</td>\n",
       "      <td>PROCESS</td>\n",
       "      <td>CREATE</td>\n",
       "      <td>SysClient0201.systemia.com</td>\n",
       "      <td>None</td>\n",
       "      <td>None</td>\n",
       "      <td>\\Device\\HarddiskVolume1\\Windows\\System32\\Windo...</td>\n",
       "      <td>\\Device\\HarddiskVolume1\\Windows\\System32\\Windo...</td>\n",
       "      <td>None</td>\n",
       "      <td>None</td>\n",
       "      <td>None</td>\n",
       "      <td>None</td>\n",
       "      <td>None</td>\n",
       "      <td>None</td>\n",
       "      <td>1</td>\n",
       "      <td>NaN</td>\n",
       "    </tr>\n",
       "    <tr>\n",
       "      <th>1</th>\n",
       "      <td>1</td>\n",
       "      <td>e3</td>\n",
       "      <td>f5d1c003-1f65-4a8a-ba8c-413da99d70f2</td>\n",
       "      <td>a52f6519-6265-4437-9f6c-3402fb245cc7</td>\n",
       "      <td>2019-09-23 15:25:52.486</td>\n",
       "      <td>PROCESS</td>\n",
       "      <td>CREATE</td>\n",
       "      <td>SysClient0201.systemia.com</td>\n",
       "      <td>None</td>\n",
       "      <td>None</td>\n",
       "      <td>\\Device\\HarddiskVolume1\\Windows\\System32\\Windo...</td>\n",
       "      <td>\\Device\\HarddiskVolume1\\Windows\\System32\\Windo...</td>\n",
       "      <td>None</td>\n",
       "      <td>None</td>\n",
       "      <td>None</td>\n",
       "      <td>None</td>\n",
       "      <td>None</td>\n",
       "      <td>None</td>\n",
       "      <td>1</td>\n",
       "      <td>0.000000e+00</td>\n",
       "    </tr>\n",
       "    <tr>\n",
       "      <th>2</th>\n",
       "      <td>1</td>\n",
       "      <td>e5</td>\n",
       "      <td>f5d1c003-1f65-4a8a-ba8c-413da99d70f2</td>\n",
       "      <td>a52f6519-6265-4437-9f6c-3402fb245cc7</td>\n",
       "      <td>2019-09-23 15:25:52.486</td>\n",
       "      <td>PROCESS</td>\n",
       "      <td>CREATE</td>\n",
       "      <td>SysClient0201.systemia.com</td>\n",
       "      <td>None</td>\n",
       "      <td>None</td>\n",
       "      <td>\\Device\\HarddiskVolume1\\Windows\\System32\\Windo...</td>\n",
       "      <td>\\Device\\HarddiskVolume1\\Windows\\System32\\Windo...</td>\n",
       "      <td>None</td>\n",
       "      <td>None</td>\n",
       "      <td>None</td>\n",
       "      <td>None</td>\n",
       "      <td>None</td>\n",
       "      <td>None</td>\n",
       "      <td>1</td>\n",
       "      <td>0.000000e+00</td>\n",
       "    </tr>\n",
       "    <tr>\n",
       "      <th>3</th>\n",
       "      <td>1</td>\n",
       "      <td>e2</td>\n",
       "      <td>a52f6519-6265-4437-9f6c-3402fb245cc7</td>\n",
       "      <td>f5d1c003-1f65-4a8a-ba8c-413da99d70f2</td>\n",
       "      <td>2019-09-23 15:40:21.404</td>\n",
       "      <td>PROCESS</td>\n",
       "      <td>OPEN</td>\n",
       "      <td>SysClient0201.systemia.com</td>\n",
       "      <td>None</td>\n",
       "      <td>None</td>\n",
       "      <td>\\Device\\HarddiskVolume1\\Windows\\System32\\Windo...</td>\n",
       "      <td>\\Device\\HarddiskVolume1\\Windows\\System32\\Windo...</td>\n",
       "      <td>None</td>\n",
       "      <td>None</td>\n",
       "      <td>None</td>\n",
       "      <td>None</td>\n",
       "      <td>None</td>\n",
       "      <td>None</td>\n",
       "      <td>1</td>\n",
       "      <td>8.689180e+05</td>\n",
       "    </tr>\n",
       "    <tr>\n",
       "      <th>4</th>\n",
       "      <td>1</td>\n",
       "      <td>e4</td>\n",
       "      <td>a52f6519-6265-4437-9f6c-3402fb245cc7</td>\n",
       "      <td>f5d1c003-1f65-4a8a-ba8c-413da99d70f2</td>\n",
       "      <td>2019-09-23 15:40:21.404</td>\n",
       "      <td>PROCESS</td>\n",
       "      <td>OPEN</td>\n",
       "      <td>SysClient0201.systemia.com</td>\n",
       "      <td>None</td>\n",
       "      <td>None</td>\n",
       "      <td>\\Device\\HarddiskVolume1\\Windows\\System32\\Windo...</td>\n",
       "      <td>\\Device\\HarddiskVolume1\\Windows\\System32\\Windo...</td>\n",
       "      <td>None</td>\n",
       "      <td>None</td>\n",
       "      <td>None</td>\n",
       "      <td>None</td>\n",
       "      <td>None</td>\n",
       "      <td>None</td>\n",
       "      <td>1</td>\n",
       "      <td>0.000000e+00</td>\n",
       "    </tr>\n",
       "    <tr>\n",
       "      <th>5</th>\n",
       "      <td>1</td>\n",
       "      <td>e6</td>\n",
       "      <td>a52f6519-6265-4437-9f6c-3402fb245cc7</td>\n",
       "      <td>36d062d4-1f69-4dcc-9791-46b5c07dadef</td>\n",
       "      <td>2019-09-23 17:21:39.921</td>\n",
       "      <td>FILE</td>\n",
       "      <td>READ</td>\n",
       "      <td>SysClient0201.systemia.com</td>\n",
       "      <td>None</td>\n",
       "      <td>None</td>\n",
       "      <td>\\Device\\HarddiskVolume1\\Windows\\System32\\Windo...</td>\n",
       "      <td>None</td>\n",
       "      <td>None</td>\n",
       "      <td>\\Device\\HarddiskVolume1\\Windows\\system32\\Windo...</td>\n",
       "      <td>None</td>\n",
       "      <td>None</td>\n",
       "      <td>None</td>\n",
       "      <td>None</td>\n",
       "      <td>1</td>\n",
       "      <td>6.078517e+06</td>\n",
       "    </tr>\n",
       "    <tr>\n",
       "      <th>6</th>\n",
       "      <td>2</td>\n",
       "      <td>e1</td>\n",
       "      <td>4aec5900-4572-4d09-81e6-fbc227a7f58d</td>\n",
       "      <td>3eea9071-9ceb-468a-ad89-9e3890833e52</td>\n",
       "      <td>2019-09-23 17:34:17.240</td>\n",
       "      <td>PROCESS</td>\n",
       "      <td>CREATE</td>\n",
       "      <td>SysClient0660.systemia.com</td>\n",
       "      <td>None</td>\n",
       "      <td>None</td>\n",
       "      <td>powershell.exe</td>\n",
       "      <td>\\Device\\HarddiskVolume1\\Windows\\system32\\wbem\\...</td>\n",
       "      <td>None</td>\n",
       "      <td>None</td>\n",
       "      <td>None</td>\n",
       "      <td>None</td>\n",
       "      <td>None</td>\n",
       "      <td>None</td>\n",
       "      <td>1</td>\n",
       "      <td>NaN</td>\n",
       "    </tr>\n",
       "    <tr>\n",
       "      <th>7</th>\n",
       "      <td>2</td>\n",
       "      <td>e3</td>\n",
       "      <td>4aec5900-4572-4d09-81e6-fbc227a7f58d</td>\n",
       "      <td>3eea9071-9ceb-468a-ad89-9e3890833e52</td>\n",
       "      <td>2019-09-23 17:34:17.240</td>\n",
       "      <td>PROCESS</td>\n",
       "      <td>CREATE</td>\n",
       "      <td>SysClient0660.systemia.com</td>\n",
       "      <td>None</td>\n",
       "      <td>None</td>\n",
       "      <td>powershell.exe</td>\n",
       "      <td>\\Device\\HarddiskVolume1\\Windows\\system32\\wbem\\...</td>\n",
       "      <td>None</td>\n",
       "      <td>None</td>\n",
       "      <td>None</td>\n",
       "      <td>None</td>\n",
       "      <td>None</td>\n",
       "      <td>None</td>\n",
       "      <td>1</td>\n",
       "      <td>0.000000e+00</td>\n",
       "    </tr>\n",
       "    <tr>\n",
       "      <th>8</th>\n",
       "      <td>2</td>\n",
       "      <td>e5</td>\n",
       "      <td>4aec5900-4572-4d09-81e6-fbc227a7f58d</td>\n",
       "      <td>3eea9071-9ceb-468a-ad89-9e3890833e52</td>\n",
       "      <td>2019-09-23 17:34:17.240</td>\n",
       "      <td>PROCESS</td>\n",
       "      <td>CREATE</td>\n",
       "      <td>SysClient0660.systemia.com</td>\n",
       "      <td>None</td>\n",
       "      <td>None</td>\n",
       "      <td>powershell.exe</td>\n",
       "      <td>\\Device\\HarddiskVolume1\\Windows\\system32\\wbem\\...</td>\n",
       "      <td>None</td>\n",
       "      <td>None</td>\n",
       "      <td>None</td>\n",
       "      <td>None</td>\n",
       "      <td>None</td>\n",
       "      <td>None</td>\n",
       "      <td>1</td>\n",
       "      <td>0.000000e+00</td>\n",
       "    </tr>\n",
       "    <tr>\n",
       "      <th>9</th>\n",
       "      <td>2</td>\n",
       "      <td>e2</td>\n",
       "      <td>3eea9071-9ceb-468a-ad89-9e3890833e52</td>\n",
       "      <td>4aec5900-4572-4d09-81e6-fbc227a7f58d</td>\n",
       "      <td>2019-09-23 17:43:13.564</td>\n",
       "      <td>PROCESS</td>\n",
       "      <td>OPEN</td>\n",
       "      <td>SysClient0660.systemia.com</td>\n",
       "      <td>None</td>\n",
       "      <td>None</td>\n",
       "      <td>powershell.exe</td>\n",
       "      <td>powershell.exe</td>\n",
       "      <td>None</td>\n",
       "      <td>None</td>\n",
       "      <td>None</td>\n",
       "      <td>None</td>\n",
       "      <td>None</td>\n",
       "      <td>None</td>\n",
       "      <td>1</td>\n",
       "      <td>5.363240e+05</td>\n",
       "    </tr>\n",
       "    <tr>\n",
       "      <th>10</th>\n",
       "      <td>2</td>\n",
       "      <td>e4</td>\n",
       "      <td>3eea9071-9ceb-468a-ad89-9e3890833e52</td>\n",
       "      <td>4aec5900-4572-4d09-81e6-fbc227a7f58d</td>\n",
       "      <td>2019-09-23 17:43:13.564</td>\n",
       "      <td>PROCESS</td>\n",
       "      <td>OPEN</td>\n",
       "      <td>SysClient0660.systemia.com</td>\n",
       "      <td>None</td>\n",
       "      <td>None</td>\n",
       "      <td>powershell.exe</td>\n",
       "      <td>powershell.exe</td>\n",
       "      <td>None</td>\n",
       "      <td>None</td>\n",
       "      <td>None</td>\n",
       "      <td>None</td>\n",
       "      <td>None</td>\n",
       "      <td>None</td>\n",
       "      <td>1</td>\n",
       "      <td>0.000000e+00</td>\n",
       "    </tr>\n",
       "    <tr>\n",
       "      <th>11</th>\n",
       "      <td>2</td>\n",
       "      <td>e6</td>\n",
       "      <td>3eea9071-9ceb-468a-ad89-9e3890833e52</td>\n",
       "      <td>4b9755ad-05bb-458e-b9ff-27852eb51860</td>\n",
       "      <td>2019-09-23 17:55:57.368</td>\n",
       "      <td>FILE</td>\n",
       "      <td>READ</td>\n",
       "      <td>SysClient0660.systemia.com</td>\n",
       "      <td>None</td>\n",
       "      <td>None</td>\n",
       "      <td>powershell.exe</td>\n",
       "      <td>None</td>\n",
       "      <td>None</td>\n",
       "      <td>\\Device\\HarddiskVolume1\\Windows\\system32\\Windo...</td>\n",
       "      <td>None</td>\n",
       "      <td>None</td>\n",
       "      <td>None</td>\n",
       "      <td>None</td>\n",
       "      <td>1</td>\n",
       "      <td>7.638040e+05</td>\n",
       "    </tr>\n",
       "    <tr>\n",
       "      <th>12</th>\n",
       "      <td>3</td>\n",
       "      <td>e1</td>\n",
       "      <td>4aec5900-4572-4d09-81e6-fbc227a7f58d</td>\n",
       "      <td>3eea9071-9ceb-468a-ad89-9e3890833e52</td>\n",
       "      <td>2019-09-23 17:34:17.240</td>\n",
       "      <td>PROCESS</td>\n",
       "      <td>CREATE</td>\n",
       "      <td>SysClient0660.systemia.com</td>\n",
       "      <td>None</td>\n",
       "      <td>None</td>\n",
       "      <td>powershell.exe</td>\n",
       "      <td>\\Device\\HarddiskVolume1\\Windows\\system32\\wbem\\...</td>\n",
       "      <td>None</td>\n",
       "      <td>None</td>\n",
       "      <td>None</td>\n",
       "      <td>None</td>\n",
       "      <td>None</td>\n",
       "      <td>None</td>\n",
       "      <td>1</td>\n",
       "      <td>NaN</td>\n",
       "    </tr>\n",
       "    <tr>\n",
       "      <th>13</th>\n",
       "      <td>3</td>\n",
       "      <td>e3</td>\n",
       "      <td>4aec5900-4572-4d09-81e6-fbc227a7f58d</td>\n",
       "      <td>3eea9071-9ceb-468a-ad89-9e3890833e52</td>\n",
       "      <td>2019-09-23 17:34:17.240</td>\n",
       "      <td>PROCESS</td>\n",
       "      <td>CREATE</td>\n",
       "      <td>SysClient0660.systemia.com</td>\n",
       "      <td>None</td>\n",
       "      <td>None</td>\n",
       "      <td>powershell.exe</td>\n",
       "      <td>\\Device\\HarddiskVolume1\\Windows\\system32\\wbem\\...</td>\n",
       "      <td>None</td>\n",
       "      <td>None</td>\n",
       "      <td>None</td>\n",
       "      <td>None</td>\n",
       "      <td>None</td>\n",
       "      <td>None</td>\n",
       "      <td>1</td>\n",
       "      <td>0.000000e+00</td>\n",
       "    </tr>\n",
       "    <tr>\n",
       "      <th>14</th>\n",
       "      <td>3</td>\n",
       "      <td>e5</td>\n",
       "      <td>4aec5900-4572-4d09-81e6-fbc227a7f58d</td>\n",
       "      <td>3eea9071-9ceb-468a-ad89-9e3890833e52</td>\n",
       "      <td>2019-09-23 17:34:17.240</td>\n",
       "      <td>PROCESS</td>\n",
       "      <td>CREATE</td>\n",
       "      <td>SysClient0660.systemia.com</td>\n",
       "      <td>None</td>\n",
       "      <td>None</td>\n",
       "      <td>powershell.exe</td>\n",
       "      <td>\\Device\\HarddiskVolume1\\Windows\\system32\\wbem\\...</td>\n",
       "      <td>None</td>\n",
       "      <td>None</td>\n",
       "      <td>None</td>\n",
       "      <td>None</td>\n",
       "      <td>None</td>\n",
       "      <td>None</td>\n",
       "      <td>1</td>\n",
       "      <td>0.000000e+00</td>\n",
       "    </tr>\n",
       "    <tr>\n",
       "      <th>15</th>\n",
       "      <td>3</td>\n",
       "      <td>e6</td>\n",
       "      <td>3eea9071-9ceb-468a-ad89-9e3890833e52</td>\n",
       "      <td>50ac366a-4500-4ef0-8579-22adacaf6438</td>\n",
       "      <td>2019-09-23 17:40:59.882</td>\n",
       "      <td>FILE</td>\n",
       "      <td>READ</td>\n",
       "      <td>SysClient0660.systemia.com</td>\n",
       "      <td>None</td>\n",
       "      <td>None</td>\n",
       "      <td>powershell.exe</td>\n",
       "      <td>None</td>\n",
       "      <td>None</td>\n",
       "      <td>\\Device\\HarddiskVolume1\\Windows\\System32\\vault...</td>\n",
       "      <td>None</td>\n",
       "      <td>None</td>\n",
       "      <td>None</td>\n",
       "      <td>None</td>\n",
       "      <td>1</td>\n",
       "      <td>4.026420e+05</td>\n",
       "    </tr>\n",
       "    <tr>\n",
       "      <th>16</th>\n",
       "      <td>3</td>\n",
       "      <td>e2</td>\n",
       "      <td>3eea9071-9ceb-468a-ad89-9e3890833e52</td>\n",
       "      <td>4aec5900-4572-4d09-81e6-fbc227a7f58d</td>\n",
       "      <td>2019-09-23 17:43:13.564</td>\n",
       "      <td>PROCESS</td>\n",
       "      <td>OPEN</td>\n",
       "      <td>SysClient0660.systemia.com</td>\n",
       "      <td>None</td>\n",
       "      <td>None</td>\n",
       "      <td>powershell.exe</td>\n",
       "      <td>powershell.exe</td>\n",
       "      <td>None</td>\n",
       "      <td>None</td>\n",
       "      <td>None</td>\n",
       "      <td>None</td>\n",
       "      <td>None</td>\n",
       "      <td>None</td>\n",
       "      <td>1</td>\n",
       "      <td>1.336820e+05</td>\n",
       "    </tr>\n",
       "    <tr>\n",
       "      <th>17</th>\n",
       "      <td>3</td>\n",
       "      <td>e4</td>\n",
       "      <td>3eea9071-9ceb-468a-ad89-9e3890833e52</td>\n",
       "      <td>4aec5900-4572-4d09-81e6-fbc227a7f58d</td>\n",
       "      <td>2019-09-23 17:43:13.564</td>\n",
       "      <td>PROCESS</td>\n",
       "      <td>OPEN</td>\n",
       "      <td>SysClient0660.systemia.com</td>\n",
       "      <td>None</td>\n",
       "      <td>None</td>\n",
       "      <td>powershell.exe</td>\n",
       "      <td>powershell.exe</td>\n",
       "      <td>None</td>\n",
       "      <td>None</td>\n",
       "      <td>None</td>\n",
       "      <td>None</td>\n",
       "      <td>None</td>\n",
       "      <td>None</td>\n",
       "      <td>1</td>\n",
       "      <td>0.000000e+00</td>\n",
       "    </tr>\n",
       "    <tr>\n",
       "      <th>18</th>\n",
       "      <td>4</td>\n",
       "      <td>e1</td>\n",
       "      <td>4aec5900-4572-4d09-81e6-fbc227a7f58d</td>\n",
       "      <td>3eea9071-9ceb-468a-ad89-9e3890833e52</td>\n",
       "      <td>2019-09-23 17:34:17.240</td>\n",
       "      <td>PROCESS</td>\n",
       "      <td>CREATE</td>\n",
       "      <td>SysClient0660.systemia.com</td>\n",
       "      <td>None</td>\n",
       "      <td>None</td>\n",
       "      <td>powershell.exe</td>\n",
       "      <td>\\Device\\HarddiskVolume1\\Windows\\system32\\wbem\\...</td>\n",
       "      <td>None</td>\n",
       "      <td>None</td>\n",
       "      <td>None</td>\n",
       "      <td>None</td>\n",
       "      <td>None</td>\n",
       "      <td>None</td>\n",
       "      <td>1</td>\n",
       "      <td>NaN</td>\n",
       "    </tr>\n",
       "    <tr>\n",
       "      <th>19</th>\n",
       "      <td>4</td>\n",
       "      <td>e3</td>\n",
       "      <td>4aec5900-4572-4d09-81e6-fbc227a7f58d</td>\n",
       "      <td>3eea9071-9ceb-468a-ad89-9e3890833e52</td>\n",
       "      <td>2019-09-23 17:34:17.240</td>\n",
       "      <td>PROCESS</td>\n",
       "      <td>CREATE</td>\n",
       "      <td>SysClient0660.systemia.com</td>\n",
       "      <td>None</td>\n",
       "      <td>None</td>\n",
       "      <td>powershell.exe</td>\n",
       "      <td>\\Device\\HarddiskVolume1\\Windows\\system32\\wbem\\...</td>\n",
       "      <td>None</td>\n",
       "      <td>None</td>\n",
       "      <td>None</td>\n",
       "      <td>None</td>\n",
       "      <td>None</td>\n",
       "      <td>None</td>\n",
       "      <td>1</td>\n",
       "      <td>0.000000e+00</td>\n",
       "    </tr>\n",
       "    <tr>\n",
       "      <th>20</th>\n",
       "      <td>4</td>\n",
       "      <td>e5</td>\n",
       "      <td>4aec5900-4572-4d09-81e6-fbc227a7f58d</td>\n",
       "      <td>3eea9071-9ceb-468a-ad89-9e3890833e52</td>\n",
       "      <td>2019-09-23 17:34:17.240</td>\n",
       "      <td>PROCESS</td>\n",
       "      <td>CREATE</td>\n",
       "      <td>SysClient0660.systemia.com</td>\n",
       "      <td>None</td>\n",
       "      <td>None</td>\n",
       "      <td>powershell.exe</td>\n",
       "      <td>\\Device\\HarddiskVolume1\\Windows\\system32\\wbem\\...</td>\n",
       "      <td>None</td>\n",
       "      <td>None</td>\n",
       "      <td>None</td>\n",
       "      <td>None</td>\n",
       "      <td>None</td>\n",
       "      <td>None</td>\n",
       "      <td>1</td>\n",
       "      <td>0.000000e+00</td>\n",
       "    </tr>\n",
       "    <tr>\n",
       "      <th>21</th>\n",
       "      <td>4</td>\n",
       "      <td>e2</td>\n",
       "      <td>3eea9071-9ceb-468a-ad89-9e3890833e52</td>\n",
       "      <td>4aec5900-4572-4d09-81e6-fbc227a7f58d</td>\n",
       "      <td>2019-09-23 17:43:13.564</td>\n",
       "      <td>PROCESS</td>\n",
       "      <td>OPEN</td>\n",
       "      <td>SysClient0660.systemia.com</td>\n",
       "      <td>None</td>\n",
       "      <td>None</td>\n",
       "      <td>powershell.exe</td>\n",
       "      <td>powershell.exe</td>\n",
       "      <td>None</td>\n",
       "      <td>None</td>\n",
       "      <td>None</td>\n",
       "      <td>None</td>\n",
       "      <td>None</td>\n",
       "      <td>None</td>\n",
       "      <td>1</td>\n",
       "      <td>5.363240e+05</td>\n",
       "    </tr>\n",
       "    <tr>\n",
       "      <th>22</th>\n",
       "      <td>4</td>\n",
       "      <td>e4</td>\n",
       "      <td>3eea9071-9ceb-468a-ad89-9e3890833e52</td>\n",
       "      <td>4aec5900-4572-4d09-81e6-fbc227a7f58d</td>\n",
       "      <td>2019-09-23 17:43:13.564</td>\n",
       "      <td>PROCESS</td>\n",
       "      <td>OPEN</td>\n",
       "      <td>SysClient0660.systemia.com</td>\n",
       "      <td>None</td>\n",
       "      <td>None</td>\n",
       "      <td>powershell.exe</td>\n",
       "      <td>powershell.exe</td>\n",
       "      <td>None</td>\n",
       "      <td>None</td>\n",
       "      <td>None</td>\n",
       "      <td>None</td>\n",
       "      <td>None</td>\n",
       "      <td>None</td>\n",
       "      <td>1</td>\n",
       "      <td>0.000000e+00</td>\n",
       "    </tr>\n",
       "    <tr>\n",
       "      <th>23</th>\n",
       "      <td>4</td>\n",
       "      <td>e6</td>\n",
       "      <td>3eea9071-9ceb-468a-ad89-9e3890833e52</td>\n",
       "      <td>6fba2e2c-1552-41ad-80ee-fffdfbe58d29</td>\n",
       "      <td>2019-09-23 17:43:42.454</td>\n",
       "      <td>SHELL</td>\n",
       "      <td>COMMAND</td>\n",
       "      <td>SysClient0660.systemia.com</td>\n",
       "      <td>None</td>\n",
       "      <td>None</td>\n",
       "      <td>powershell.exe</td>\n",
       "      <td>None</td>\n",
       "      <td>None</td>\n",
       "      <td>None</td>\n",
       "      <td>None</td>\n",
       "      <td>None</td>\n",
       "      <td>None</td>\n",
       "      <td>None</td>\n",
       "      <td>1</td>\n",
       "      <td>2.889000e+04</td>\n",
       "    </tr>\n",
       "  </tbody>\n",
       "</table>\n",
       "</div>"
      ],
      "text/plain": [
       "    Trace event                                   src  \\\n",
       "0       1    e1  f5d1c003-1f65-4a8a-ba8c-413da99d70f2   \n",
       "1       1    e3  f5d1c003-1f65-4a8a-ba8c-413da99d70f2   \n",
       "2       1    e5  f5d1c003-1f65-4a8a-ba8c-413da99d70f2   \n",
       "3       1    e2  a52f6519-6265-4437-9f6c-3402fb245cc7   \n",
       "4       1    e4  a52f6519-6265-4437-9f6c-3402fb245cc7   \n",
       "5       1    e6  a52f6519-6265-4437-9f6c-3402fb245cc7   \n",
       "6       2    e1  4aec5900-4572-4d09-81e6-fbc227a7f58d   \n",
       "7       2    e3  4aec5900-4572-4d09-81e6-fbc227a7f58d   \n",
       "8       2    e5  4aec5900-4572-4d09-81e6-fbc227a7f58d   \n",
       "9       2    e2  3eea9071-9ceb-468a-ad89-9e3890833e52   \n",
       "10      2    e4  3eea9071-9ceb-468a-ad89-9e3890833e52   \n",
       "11      2    e6  3eea9071-9ceb-468a-ad89-9e3890833e52   \n",
       "12      3    e1  4aec5900-4572-4d09-81e6-fbc227a7f58d   \n",
       "13      3    e3  4aec5900-4572-4d09-81e6-fbc227a7f58d   \n",
       "14      3    e5  4aec5900-4572-4d09-81e6-fbc227a7f58d   \n",
       "15      3    e6  3eea9071-9ceb-468a-ad89-9e3890833e52   \n",
       "16      3    e2  3eea9071-9ceb-468a-ad89-9e3890833e52   \n",
       "17      3    e4  3eea9071-9ceb-468a-ad89-9e3890833e52   \n",
       "18      4    e1  4aec5900-4572-4d09-81e6-fbc227a7f58d   \n",
       "19      4    e3  4aec5900-4572-4d09-81e6-fbc227a7f58d   \n",
       "20      4    e5  4aec5900-4572-4d09-81e6-fbc227a7f58d   \n",
       "21      4    e2  3eea9071-9ceb-468a-ad89-9e3890833e52   \n",
       "22      4    e4  3eea9071-9ceb-468a-ad89-9e3890833e52   \n",
       "23      4    e6  3eea9071-9ceb-468a-ad89-9e3890833e52   \n",
       "\n",
       "                                     dst               timestamp   object  \\\n",
       "0   a52f6519-6265-4437-9f6c-3402fb245cc7 2019-09-23 15:25:52.486  PROCESS   \n",
       "1   a52f6519-6265-4437-9f6c-3402fb245cc7 2019-09-23 15:25:52.486  PROCESS   \n",
       "2   a52f6519-6265-4437-9f6c-3402fb245cc7 2019-09-23 15:25:52.486  PROCESS   \n",
       "3   f5d1c003-1f65-4a8a-ba8c-413da99d70f2 2019-09-23 15:40:21.404  PROCESS   \n",
       "4   f5d1c003-1f65-4a8a-ba8c-413da99d70f2 2019-09-23 15:40:21.404  PROCESS   \n",
       "5   36d062d4-1f69-4dcc-9791-46b5c07dadef 2019-09-23 17:21:39.921     FILE   \n",
       "6   3eea9071-9ceb-468a-ad89-9e3890833e52 2019-09-23 17:34:17.240  PROCESS   \n",
       "7   3eea9071-9ceb-468a-ad89-9e3890833e52 2019-09-23 17:34:17.240  PROCESS   \n",
       "8   3eea9071-9ceb-468a-ad89-9e3890833e52 2019-09-23 17:34:17.240  PROCESS   \n",
       "9   4aec5900-4572-4d09-81e6-fbc227a7f58d 2019-09-23 17:43:13.564  PROCESS   \n",
       "10  4aec5900-4572-4d09-81e6-fbc227a7f58d 2019-09-23 17:43:13.564  PROCESS   \n",
       "11  4b9755ad-05bb-458e-b9ff-27852eb51860 2019-09-23 17:55:57.368     FILE   \n",
       "12  3eea9071-9ceb-468a-ad89-9e3890833e52 2019-09-23 17:34:17.240  PROCESS   \n",
       "13  3eea9071-9ceb-468a-ad89-9e3890833e52 2019-09-23 17:34:17.240  PROCESS   \n",
       "14  3eea9071-9ceb-468a-ad89-9e3890833e52 2019-09-23 17:34:17.240  PROCESS   \n",
       "15  50ac366a-4500-4ef0-8579-22adacaf6438 2019-09-23 17:40:59.882     FILE   \n",
       "16  4aec5900-4572-4d09-81e6-fbc227a7f58d 2019-09-23 17:43:13.564  PROCESS   \n",
       "17  4aec5900-4572-4d09-81e6-fbc227a7f58d 2019-09-23 17:43:13.564  PROCESS   \n",
       "18  3eea9071-9ceb-468a-ad89-9e3890833e52 2019-09-23 17:34:17.240  PROCESS   \n",
       "19  3eea9071-9ceb-468a-ad89-9e3890833e52 2019-09-23 17:34:17.240  PROCESS   \n",
       "20  3eea9071-9ceb-468a-ad89-9e3890833e52 2019-09-23 17:34:17.240  PROCESS   \n",
       "21  4aec5900-4572-4d09-81e6-fbc227a7f58d 2019-09-23 17:43:13.564  PROCESS   \n",
       "22  4aec5900-4572-4d09-81e6-fbc227a7f58d 2019-09-23 17:43:13.564  PROCESS   \n",
       "23  6fba2e2c-1552-41ad-80ee-fffdfbe58d29 2019-09-23 17:43:42.454    SHELL   \n",
       "\n",
       "     action                    hostname user_name privileges  \\\n",
       "0    CREATE  SysClient0201.systemia.com      None       None   \n",
       "1    CREATE  SysClient0201.systemia.com      None       None   \n",
       "2    CREATE  SysClient0201.systemia.com      None       None   \n",
       "3      OPEN  SysClient0201.systemia.com      None       None   \n",
       "4      OPEN  SysClient0201.systemia.com      None       None   \n",
       "5      READ  SysClient0201.systemia.com      None       None   \n",
       "6    CREATE  SysClient0660.systemia.com      None       None   \n",
       "7    CREATE  SysClient0660.systemia.com      None       None   \n",
       "8    CREATE  SysClient0660.systemia.com      None       None   \n",
       "9      OPEN  SysClient0660.systemia.com      None       None   \n",
       "10     OPEN  SysClient0660.systemia.com      None       None   \n",
       "11     READ  SysClient0660.systemia.com      None       None   \n",
       "12   CREATE  SysClient0660.systemia.com      None       None   \n",
       "13   CREATE  SysClient0660.systemia.com      None       None   \n",
       "14   CREATE  SysClient0660.systemia.com      None       None   \n",
       "15     READ  SysClient0660.systemia.com      None       None   \n",
       "16     OPEN  SysClient0660.systemia.com      None       None   \n",
       "17     OPEN  SysClient0660.systemia.com      None       None   \n",
       "18   CREATE  SysClient0660.systemia.com      None       None   \n",
       "19   CREATE  SysClient0660.systemia.com      None       None   \n",
       "20   CREATE  SysClient0660.systemia.com      None       None   \n",
       "21     OPEN  SysClient0660.systemia.com      None       None   \n",
       "22     OPEN  SysClient0660.systemia.com      None       None   \n",
       "23  COMMAND  SysClient0660.systemia.com      None       None   \n",
       "\n",
       "                                           image_path  \\\n",
       "0   \\Device\\HarddiskVolume1\\Windows\\System32\\Windo...   \n",
       "1   \\Device\\HarddiskVolume1\\Windows\\System32\\Windo...   \n",
       "2   \\Device\\HarddiskVolume1\\Windows\\System32\\Windo...   \n",
       "3   \\Device\\HarddiskVolume1\\Windows\\System32\\Windo...   \n",
       "4   \\Device\\HarddiskVolume1\\Windows\\System32\\Windo...   \n",
       "5   \\Device\\HarddiskVolume1\\Windows\\System32\\Windo...   \n",
       "6                                      powershell.exe   \n",
       "7                                      powershell.exe   \n",
       "8                                      powershell.exe   \n",
       "9                                      powershell.exe   \n",
       "10                                     powershell.exe   \n",
       "11                                     powershell.exe   \n",
       "12                                     powershell.exe   \n",
       "13                                     powershell.exe   \n",
       "14                                     powershell.exe   \n",
       "15                                     powershell.exe   \n",
       "16                                     powershell.exe   \n",
       "17                                     powershell.exe   \n",
       "18                                     powershell.exe   \n",
       "19                                     powershell.exe   \n",
       "20                                     powershell.exe   \n",
       "21                                     powershell.exe   \n",
       "22                                     powershell.exe   \n",
       "23                                     powershell.exe   \n",
       "\n",
       "                                    parent_image_path new_path  \\\n",
       "0   \\Device\\HarddiskVolume1\\Windows\\System32\\Windo...     None   \n",
       "1   \\Device\\HarddiskVolume1\\Windows\\System32\\Windo...     None   \n",
       "2   \\Device\\HarddiskVolume1\\Windows\\System32\\Windo...     None   \n",
       "3   \\Device\\HarddiskVolume1\\Windows\\System32\\Windo...     None   \n",
       "4   \\Device\\HarddiskVolume1\\Windows\\System32\\Windo...     None   \n",
       "5                                                None     None   \n",
       "6   \\Device\\HarddiskVolume1\\Windows\\system32\\wbem\\...     None   \n",
       "7   \\Device\\HarddiskVolume1\\Windows\\system32\\wbem\\...     None   \n",
       "8   \\Device\\HarddiskVolume1\\Windows\\system32\\wbem\\...     None   \n",
       "9                                      powershell.exe     None   \n",
       "10                                     powershell.exe     None   \n",
       "11                                               None     None   \n",
       "12  \\Device\\HarddiskVolume1\\Windows\\system32\\wbem\\...     None   \n",
       "13  \\Device\\HarddiskVolume1\\Windows\\system32\\wbem\\...     None   \n",
       "14  \\Device\\HarddiskVolume1\\Windows\\system32\\wbem\\...     None   \n",
       "15                                               None     None   \n",
       "16                                     powershell.exe     None   \n",
       "17                                     powershell.exe     None   \n",
       "18  \\Device\\HarddiskVolume1\\Windows\\system32\\wbem\\...     None   \n",
       "19  \\Device\\HarddiskVolume1\\Windows\\system32\\wbem\\...     None   \n",
       "20  \\Device\\HarddiskVolume1\\Windows\\system32\\wbem\\...     None   \n",
       "21                                     powershell.exe     None   \n",
       "22                                     powershell.exe     None   \n",
       "23                                               None     None   \n",
       "\n",
       "                                            file_path direction logon_id  \\\n",
       "0                                                None      None     None   \n",
       "1                                                None      None     None   \n",
       "2                                                None      None     None   \n",
       "3                                                None      None     None   \n",
       "4                                                None      None     None   \n",
       "5   \\Device\\HarddiskVolume1\\Windows\\system32\\Windo...      None     None   \n",
       "6                                                None      None     None   \n",
       "7                                                None      None     None   \n",
       "8                                                None      None     None   \n",
       "9                                                None      None     None   \n",
       "10                                               None      None     None   \n",
       "11  \\Device\\HarddiskVolume1\\Windows\\system32\\Windo...      None     None   \n",
       "12                                               None      None     None   \n",
       "13                                               None      None     None   \n",
       "14                                               None      None     None   \n",
       "15  \\Device\\HarddiskVolume1\\Windows\\System32\\vault...      None     None   \n",
       "16                                               None      None     None   \n",
       "17                                               None      None     None   \n",
       "18                                               None      None     None   \n",
       "19                                               None      None     None   \n",
       "20                                               None      None     None   \n",
       "21                                               None      None     None   \n",
       "22                                               None      None     None   \n",
       "23                                               None      None     None   \n",
       "\n",
       "   requesting_domain requesting_user  malicious  timestamp_difference  \n",
       "0               None            None          1                   NaN  \n",
       "1               None            None          1          0.000000e+00  \n",
       "2               None            None          1          0.000000e+00  \n",
       "3               None            None          1          8.689180e+05  \n",
       "4               None            None          1          0.000000e+00  \n",
       "5               None            None          1          6.078517e+06  \n",
       "6               None            None          1                   NaN  \n",
       "7               None            None          1          0.000000e+00  \n",
       "8               None            None          1          0.000000e+00  \n",
       "9               None            None          1          5.363240e+05  \n",
       "10              None            None          1          0.000000e+00  \n",
       "11              None            None          1          7.638040e+05  \n",
       "12              None            None          1                   NaN  \n",
       "13              None            None          1          0.000000e+00  \n",
       "14              None            None          1          0.000000e+00  \n",
       "15              None            None          1          4.026420e+05  \n",
       "16              None            None          1          1.336820e+05  \n",
       "17              None            None          1          0.000000e+00  \n",
       "18              None            None          1                   NaN  \n",
       "19              None            None          1          0.000000e+00  \n",
       "20              None            None          1          0.000000e+00  \n",
       "21              None            None          1          5.363240e+05  \n",
       "22              None            None          1          0.000000e+00  \n",
       "23              None            None          1          2.889000e+04  "
      ]
     },
     "execution_count": 11,
     "metadata": {},
     "output_type": "execute_result"
    }
   ],
   "source": [
    "df_ts = ts_diff(df_onehot)\n",
    "df_ts.limit(24).toPandas()"
   ]
  },
  {
   "cell_type": "code",
   "execution_count": 13,
   "id": "dfc7b3d9-1bd5-4466-936d-de1df5e34102",
   "metadata": {
    "tags": []
   },
   "outputs": [
    {
     "name": "stderr",
     "output_type": "stream",
     "text": [
      "/home/ec2-user/anaconda3/envs/python3/lib/python3.10/site-packages/pyspark/sql/pandas/conversion.py:248: FutureWarning: Passing unit-less datetime64 dtype to .astype is deprecated and will raise in a future version. Pass 'datetime64[ns]' instead\n",
      "  series = series.astype(t, copy=False)\n"
     ]
    },
    {
     "data": {
      "text/html": [
       "<div>\n",
       "<style scoped>\n",
       "    .dataframe tbody tr th:only-of-type {\n",
       "        vertical-align: middle;\n",
       "    }\n",
       "\n",
       "    .dataframe tbody tr th {\n",
       "        vertical-align: top;\n",
       "    }\n",
       "\n",
       "    .dataframe thead th {\n",
       "        text-align: right;\n",
       "    }\n",
       "</style>\n",
       "<table border=\"1\" class=\"dataframe\">\n",
       "  <thead>\n",
       "    <tr style=\"text-align: right;\">\n",
       "      <th></th>\n",
       "      <th>Trace</th>\n",
       "      <th>event</th>\n",
       "      <th>src</th>\n",
       "      <th>dst</th>\n",
       "      <th>timestamp</th>\n",
       "      <th>object</th>\n",
       "      <th>action</th>\n",
       "      <th>hostname</th>\n",
       "      <th>user_name</th>\n",
       "      <th>privileges</th>\n",
       "      <th>...</th>\n",
       "      <th>parent_image_path</th>\n",
       "      <th>new_path</th>\n",
       "      <th>file_path</th>\n",
       "      <th>direction</th>\n",
       "      <th>logon_id</th>\n",
       "      <th>requesting_domain</th>\n",
       "      <th>requesting_user</th>\n",
       "      <th>malicious</th>\n",
       "      <th>timestamp_difference</th>\n",
       "      <th>timestamp_bins</th>\n",
       "    </tr>\n",
       "  </thead>\n",
       "  <tbody>\n",
       "    <tr>\n",
       "      <th>0</th>\n",
       "      <td>1</td>\n",
       "      <td>e1</td>\n",
       "      <td>f5d1c003-1f65-4a8a-ba8c-413da99d70f2</td>\n",
       "      <td>a52f6519-6265-4437-9f6c-3402fb245cc7</td>\n",
       "      <td>2019-09-23 15:25:52.486</td>\n",
       "      <td>PROCESS</td>\n",
       "      <td>CREATE</td>\n",
       "      <td>SysClient0201.systemia.com</td>\n",
       "      <td>None</td>\n",
       "      <td>None</td>\n",
       "      <td>...</td>\n",
       "      <td>\\Device\\HarddiskVolume1\\Windows\\System32\\Windo...</td>\n",
       "      <td>None</td>\n",
       "      <td>None</td>\n",
       "      <td>None</td>\n",
       "      <td>None</td>\n",
       "      <td>None</td>\n",
       "      <td>None</td>\n",
       "      <td>1</td>\n",
       "      <td>NaN</td>\n",
       "      <td>NaN</td>\n",
       "    </tr>\n",
       "    <tr>\n",
       "      <th>1</th>\n",
       "      <td>1</td>\n",
       "      <td>e3</td>\n",
       "      <td>f5d1c003-1f65-4a8a-ba8c-413da99d70f2</td>\n",
       "      <td>a52f6519-6265-4437-9f6c-3402fb245cc7</td>\n",
       "      <td>2019-09-23 15:25:52.486</td>\n",
       "      <td>PROCESS</td>\n",
       "      <td>CREATE</td>\n",
       "      <td>SysClient0201.systemia.com</td>\n",
       "      <td>None</td>\n",
       "      <td>None</td>\n",
       "      <td>...</td>\n",
       "      <td>\\Device\\HarddiskVolume1\\Windows\\System32\\Windo...</td>\n",
       "      <td>None</td>\n",
       "      <td>None</td>\n",
       "      <td>None</td>\n",
       "      <td>None</td>\n",
       "      <td>None</td>\n",
       "      <td>None</td>\n",
       "      <td>1</td>\n",
       "      <td>0.0</td>\n",
       "      <td>1.0</td>\n",
       "    </tr>\n",
       "  </tbody>\n",
       "</table>\n",
       "<p>2 rows × 21 columns</p>\n",
       "</div>"
      ],
      "text/plain": [
       "   Trace event                                   src  \\\n",
       "0      1    e1  f5d1c003-1f65-4a8a-ba8c-413da99d70f2   \n",
       "1      1    e3  f5d1c003-1f65-4a8a-ba8c-413da99d70f2   \n",
       "\n",
       "                                    dst               timestamp   object  \\\n",
       "0  a52f6519-6265-4437-9f6c-3402fb245cc7 2019-09-23 15:25:52.486  PROCESS   \n",
       "1  a52f6519-6265-4437-9f6c-3402fb245cc7 2019-09-23 15:25:52.486  PROCESS   \n",
       "\n",
       "   action                    hostname user_name privileges  ...  \\\n",
       "0  CREATE  SysClient0201.systemia.com      None       None  ...   \n",
       "1  CREATE  SysClient0201.systemia.com      None       None  ...   \n",
       "\n",
       "                                   parent_image_path new_path file_path  \\\n",
       "0  \\Device\\HarddiskVolume1\\Windows\\System32\\Windo...     None      None   \n",
       "1  \\Device\\HarddiskVolume1\\Windows\\System32\\Windo...     None      None   \n",
       "\n",
       "  direction logon_id requesting_domain requesting_user malicious  \\\n",
       "0      None     None              None            None         1   \n",
       "1      None     None              None            None         1   \n",
       "\n",
       "   timestamp_difference  timestamp_bins  \n",
       "0                   NaN             NaN  \n",
       "1                   0.0             1.0  \n",
       "\n",
       "[2 rows x 21 columns]"
      ]
     },
     "execution_count": 13,
     "metadata": {},
     "output_type": "execute_result"
    }
   ],
   "source": [
    "#last function to test\n",
    "df_m = bin_it(df_ts)\n",
    "df_m.limit(2).toPandas()"
   ]
  },
  {
   "cell_type": "code",
   "execution_count": 7,
   "id": "6a2fed98-d2f5-4766-a552-016bf6655cba",
   "metadata": {
    "jupyter": {
     "source_hidden": true
    },
    "tags": []
   },
   "outputs": [
    {
     "name": "stderr",
     "output_type": "stream",
     "text": [
      "                                                                                \r"
     ]
    },
    {
     "data": {
      "text/plain": [
       "3608"
      ]
     },
     "execution_count": 7,
     "metadata": {},
     "output_type": "execute_result"
    }
   ],
   "source": [
    "#testing to see if motif2 produces more graphs than 6 and here it did.\n",
    "# Create distinct vertices with source as actorid, destination as objectid\n",
    "src_vertices = df_m_23.selectExpr('actorID as id').distinct()\n",
    "dst_vertices = df_m_23.selectExpr('objectID as id').distinct()\n",
    "vertices = src_vertices.union(dst_vertices).distinct()\n",
    "\n",
    "# Create edges by using timestamp as an edge\n",
    "edges = df_m_23.selectExpr('actorID as src', 'objectID as dst', 'timestamp', 'object', 'action', 'hostname', 'user_name', 'privileges', 'image_path',\n",
    "                      'parent_image_path', 'new_path', 'file_path', 'direction', 'logon_id', 'requesting_domain', 'requesting_user', 'malicious')\n",
    "\n",
    "# Create GraphFrame\n",
    "g = GraphFrame(vertices, edges)\n",
    "\n",
    "# find all paths of length 6 in the graph\n",
    "# Handling null values in shorter length \n",
    "motifs2 = g.find(\"(a)-[e1]->(b); (b)-[e2]->(c)\")\n",
    "\n",
    "motifs2.count()"
   ]
  }
 ],
 "metadata": {
  "kernelspec": {
   "display_name": "conda_python3",
   "language": "python",
   "name": "conda_python3"
  },
  "language_info": {
   "codemirror_mode": {
    "name": "ipython",
    "version": 3
   },
   "file_extension": ".py",
   "mimetype": "text/x-python",
   "name": "python",
   "nbconvert_exporter": "python",
   "pygments_lexer": "ipython3",
   "version": "3.10.8"
  }
 },
 "nbformat": 4,
 "nbformat_minor": 5
}
