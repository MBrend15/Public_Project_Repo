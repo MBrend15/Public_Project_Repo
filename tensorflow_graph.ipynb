{
 "cells": [
  {
   "cell_type": "code",
   "execution_count": 1,
   "id": "509d01c3-ad52-45ec-8c7b-865fccc42229",
   "metadata": {
    "tags": []
   },
   "outputs": [
    {
     "name": "stderr",
     "output_type": "stream",
     "text": [
      "Warning: Ignoring non-Spark config property: fs.s3a.access.key\n",
      "Warning: Ignoring non-Spark config property: fs.s3a.secret.key\n"
     ]
    },
    {
     "name": "stdout",
     "output_type": "stream",
     "text": [
      ":: loading settings :: url = jar:file:/home/ec2-user/anaconda3/envs/python3/lib/python3.10/site-packages/pyspark/jars/ivy-2.5.0.jar!/org/apache/ivy/core/settings/ivysettings.xml\n"
     ]
    },
    {
     "name": "stderr",
     "output_type": "stream",
     "text": [
      "Ivy Default Cache set to: /home/ec2-user/.ivy2/cache\n",
      "The jars for the packages stored in: /home/ec2-user/.ivy2/jars\n",
      "graphframes#graphframes added as a dependency\n",
      ":: resolving dependencies :: org.apache.spark#spark-submit-parent-f33c4ef1-0717-4275-83bf-ea589347711c;1.0\n",
      "\tconfs: [default]\n",
      "\tfound graphframes#graphframes;0.8.2-spark3.2-s_2.12 in spark-packages\n",
      "\tfound org.slf4j#slf4j-api;1.7.16 in central\n",
      "downloading https://repos.spark-packages.org/graphframes/graphframes/0.8.2-spark3.2-s_2.12/graphframes-0.8.2-spark3.2-s_2.12.jar ...\n",
      "\t[SUCCESSFUL ] graphframes#graphframes;0.8.2-spark3.2-s_2.12!graphframes.jar (51ms)\n",
      "downloading https://repo1.maven.org/maven2/org/slf4j/slf4j-api/1.7.16/slf4j-api-1.7.16.jar ...\n",
      "\t[SUCCESSFUL ] org.slf4j#slf4j-api;1.7.16!slf4j-api.jar (32ms)\n",
      ":: resolution report :: resolve 717ms :: artifacts dl 86ms\n",
      "\t:: modules in use:\n",
      "\tgraphframes#graphframes;0.8.2-spark3.2-s_2.12 from spark-packages in [default]\n",
      "\torg.slf4j#slf4j-api;1.7.16 from central in [default]\n",
      "\t---------------------------------------------------------------------\n",
      "\t|                  |            modules            ||   artifacts   |\n",
      "\t|       conf       | number| search|dwnlded|evicted|| number|dwnlded|\n",
      "\t---------------------------------------------------------------------\n",
      "\t|      default     |   2   |   2   |   2   |   0   ||   2   |   2   |\n",
      "\t---------------------------------------------------------------------\n",
      ":: retrieving :: org.apache.spark#spark-submit-parent-f33c4ef1-0717-4275-83bf-ea589347711c\n",
      "\tconfs: [default]\n",
      "\t2 artifacts copied, 0 already retrieved (281kB/6ms)\n"
     ]
    },
    {
     "name": "stdout",
     "output_type": "stream",
     "text": [
      "23/03/14 04:52:37 WARN NativeCodeLoader: Unable to load native-hadoop library for your platform... using builtin-java classes where applicable\n"
     ]
    },
    {
     "name": "stderr",
     "output_type": "stream",
     "text": [
      "Setting default log level to \"WARN\".\n",
      "To adjust logging level use sc.setLogLevel(newLevel). For SparkR, use setLogLevel(newLevel).\n"
     ]
    },
    {
     "name": "stdout",
     "output_type": "stream",
     "text": [
      "23/03/14 04:52:38 WARN SparkConf: Note that spark.local.dir will be overridden by the value set by the cluster manager (via SPARK_LOCAL_DIRS in mesos/standalone/kubernetes and LOCAL_DIRS in YARN).\n"
     ]
    }
   ],
   "source": [
    "%run ./read_file.ipynb"
   ]
  },
  {
   "cell_type": "code",
   "execution_count": 18,
   "id": "a42f0df4-2e40-4ba1-b377-67488d80a85f",
   "metadata": {
    "tags": []
   },
   "outputs": [
    {
     "name": "stdout",
     "output_type": "stream",
     "text": [
      "Note: you may need to restart the kernel to use updated packages.\n",
      "Note: you may need to restart the kernel to use updated packages.\n",
      "Looking in indexes: https://pypi.org/simple, https://pip.repos.neuron.amazonaws.com\n",
      "Requirement already satisfied: tensorflow_io in /home/ec2-user/anaconda3/envs/python3/lib/python3.10/site-packages (0.31.0)\n",
      "Requirement already satisfied: tensorflow-io-gcs-filesystem==0.31.0 in /home/ec2-user/anaconda3/envs/python3/lib/python3.10/site-packages (from tensorflow_io) (0.31.0)\n",
      "Note: you may need to restart the kernel to use updated packages.\n"
     ]
    }
   ],
   "source": [
    "%pip install tensorflow --quiet\n",
    "%pip install tensorflow_gnn --quiet\n",
    "%pip install tensorflow_io --quiet"
   ]
  },
  {
   "cell_type": "code",
   "execution_count": 27,
   "id": "dc3aecd8-3df6-4dfd-b6ac-bf81e2ede490",
   "metadata": {
    "tags": []
   },
   "outputs": [],
   "source": [
    "import numpy as np\n",
    "import tensorflow as tf\n",
    "import tensorflow_io as tfio\n",
    "from tensorflow import keras\n",
    "import tensorflow_gnn as tfgnn\n",
    "from tensorflow_gnn import runner\n",
    "from tensorflow.keras import layers\n",
    "import matplotlib.pyplot as plt"
   ]
  },
  {
   "cell_type": "code",
   "execution_count": 40,
   "id": "423cfb7a-c798-4ce5-99db-f8732847b8d8",
   "metadata": {
    "tags": []
   },
   "outputs": [],
   "source": [
    "graph_schema = tfgnn.read_schema(\"./graph_schema.pbtxt\")\n",
    "gtspec = tfgnn.create_graph_spec_from_schema_pb(graph_schema)"
   ]
  },
  {
   "cell_type": "code",
   "execution_count": 41,
   "id": "4911158e-1c45-49a9-a822-59439d33611c",
   "metadata": {
    "tags": []
   },
   "outputs": [
    {
     "data": {
      "text/plain": [
       "GraphTensorSpec({'context': ContextSpec({'features': {'malicious': RaggedTensorSpec(TensorShape([1, None]), tf.string, 1, tf.int32)}, 'sizes': TensorSpec(shape=(1,), dtype=tf.int32, name=None)}, TensorShape([]), tf.int32, None), 'node_sets': {'actorID': NodeSetSpec({'features': {'parent_image_path': RaggedTensorSpec(TensorShape([None, None]), tf.string, 1, tf.int32)}, 'sizes': TensorSpec(shape=(1,), dtype=tf.int32, name=None)}, TensorShape([]), tf.int32, None), 'objectID': NodeSetSpec({'features': {'base_address': RaggedTensorSpec(TensorShape([None, None]), tf.string, 1, tf.int32), 'file_path': RaggedTensorSpec(TensorShape([None, None]), tf.string, 1, tf.int32), 'image_path': RaggedTensorSpec(TensorShape([None, None]), tf.string, 1, tf.int32)}, 'sizes': TensorSpec(shape=(1,), dtype=tf.int32, name=None)}, TensorShape([]), tf.int32, None)}, 'edge_sets': {'id': EdgeSetSpec({'features': {'event_day': TensorSpec(shape=(None,), dtype=tf.int64, name=None), 'event_hour': TensorSpec(shape=(None,), dtype=tf.int64, name=None), 'event_minute': TensorSpec(shape=(None,), dtype=tf.int64, name=None)}, 'sizes': TensorSpec(shape=(1,), dtype=tf.int32, name=None), 'adjacency': AdjacencySpec({'#index.0': TensorSpec(shape=(None,), dtype=tf.int32, name=None), '#index.1': TensorSpec(shape=(None,), dtype=tf.int32, name=None)}, TensorShape([]), tf.int32, {'#index.0': 'actorID', '#index.1': 'objectID'})}, TensorShape([]), tf.int32, None)}}, TensorShape([]), tf.int32, None)"
      ]
     },
     "execution_count": 41,
     "metadata": {},
     "output_type": "execute_result"
    }
   ],
   "source": [
    "gtspec"
   ]
  },
  {
   "cell_type": "code",
   "execution_count": 37,
   "id": "d598878b-28df-48f0-96e8-17193bc877a1",
   "metadata": {
    "tags": []
   },
   "outputs": [],
   "source": [
    "train_ds_provider = runner.TFRecordDatasetProvider(file_pattern=\"s3://sapient-bucket-trusted/prod/graph/first_events/\")"
   ]
  },
  {
   "cell_type": "code",
   "execution_count": 38,
   "id": "4ee5c54d-29ed-486c-a6ef-87f7fef7969a",
   "metadata": {
    "tags": []
   },
   "outputs": [],
   "source": [
    "valid_ds_provider = runner.TFRecordDatasetProvider(file_pattern=\"s3://sapient-bucket-trusted/prod/graph/first_events/\")"
   ]
  },
  {
   "cell_type": "code",
   "execution_count": null,
   "id": "942989a2-0afb-4154-86e7-2ba5010b79c4",
   "metadata": {},
   "outputs": [],
   "source": []
  },
  {
   "cell_type": "code",
   "execution_count": 53,
   "id": "92b86c1a-6604-4182-a151-566e11914ff3",
   "metadata": {
    "tags": []
   },
   "outputs": [
    {
     "ename": "NameError",
     "evalue": "name 'dataset' is not defined",
     "output_type": "error",
     "traceback": [
      "\u001b[0;31m---------------------------------------------------------------------------\u001b[0m",
      "\u001b[0;31mNameError\u001b[0m                                 Traceback (most recent call last)",
      "Cell \u001b[0;32mIn[53], line 2\u001b[0m\n\u001b[1;32m      1\u001b[0m graph_tensor_spec \u001b[38;5;241m=\u001b[39m tfgnn\u001b[38;5;241m.\u001b[39mcreate_graph_spec_from_schema_pb(graph_schema)\n\u001b[0;32m----> 2\u001b[0m dataset \u001b[38;5;241m=\u001b[39m \u001b[43mdataset\u001b[49m\u001b[38;5;241m.\u001b[39mmap(\n\u001b[1;32m      3\u001b[0m     \u001b[38;5;28;01mlambda\u001b[39;00m serialized: tfgnn\u001b[38;5;241m.\u001b[39mparse_single_example(graph_tensor_spec, serialized))\n\u001b[1;32m      5\u001b[0m \u001b[38;5;28;01mfor\u001b[39;00m i, graph \u001b[38;5;129;01min\u001b[39;00m \u001b[38;5;28menumerate\u001b[39m(dataset\u001b[38;5;241m.\u001b[39mtake(\u001b[38;5;241m3\u001b[39m)):\n\u001b[1;32m      6\u001b[0m   \u001b[38;5;28mprint\u001b[39m(\u001b[38;5;124mf\u001b[39m\u001b[38;5;124m\"\u001b[39m\u001b[38;5;124mInput \u001b[39m\u001b[38;5;132;01m{\u001b[39;00mi\u001b[38;5;132;01m}\u001b[39;00m\u001b[38;5;124m: \u001b[39m\u001b[38;5;132;01m{\u001b[39;00mgraph\u001b[38;5;132;01m}\u001b[39;00m\u001b[38;5;124m\"\u001b[39m)\n",
      "\u001b[0;31mNameError\u001b[0m: name 'dataset' is not defined"
     ]
    }
   ],
   "source": [
    "graph_tensor_spec = tfgnn.create_graph_spec_from_schema_pb(graph_schema)\n",
    "dataset = dataset.map(\n",
    "    lambda serialized: tfgnn.parse_single_example(graph_tensor_spec, serialized))\n",
    "\n",
    "for i, graph in enumerate(dataset.take(3)):\n",
    "  print(f\"Input {i}: {graph}\")"
   ]
  },
  {
   "cell_type": "code",
   "execution_count": 77,
   "id": "a004c8f0-5c1c-4463-b54c-927aab7493e7",
   "metadata": {
    "tags": []
   },
   "outputs": [],
   "source": [
    "def getFirstEventFiles():\n",
    "    s3 = boto3.client('s3')\n",
    "    response = s3.list_objects_v2(\n",
    "        Bucket = 'sapient-bucket-trusted',\n",
    "        Prefix = 'prod/graph/first_events')\n",
    "\n",
    "    all_files = []\n",
    "    for content in response.get('Contents', []):\n",
    "        all_files.append(content['Key'])\n",
    "        all_files = [f\"sapient-bucket-trusted/\" + f for f in content['Key'] if \"parquet\" in f]\n",
    "\n",
    "    return all_files"
   ]
  },
  {
   "cell_type": "code",
   "execution_count": 78,
   "id": "8fcec98b-a836-4111-89a7-11e8444059b5",
   "metadata": {
    "tags": []
   },
   "outputs": [
    {
     "data": {
      "text/plain": [
       "['prod/graph/first_events/_SUCCESS',\n",
       " 'prod/graph/first_events/part-00000-0d6be2ab-d553-4885-be78-abb9efceecc7-c000.snappy.parquet',\n",
       " 'prod/graph/first_events/part-00001-0d6be2ab-d553-4885-be78-abb9efceecc7-c000.snappy.parquet',\n",
       " 'prod/graph/first_events/part-00002-0d6be2ab-d553-4885-be78-abb9efceecc7-c000.snappy.parquet',\n",
       " 'prod/graph/first_events/part-00003-0d6be2ab-d553-4885-be78-abb9efceecc7-c000.snappy.parquet',\n",
       " 'prod/graph/first_events/part-00004-0d6be2ab-d553-4885-be78-abb9efceecc7-c000.snappy.parquet',\n",
       " 'prod/graph/first_events/part-00005-0d6be2ab-d553-4885-be78-abb9efceecc7-c000.snappy.parquet',\n",
       " 'prod/graph/first_events/part-00006-0d6be2ab-d553-4885-be78-abb9efceecc7-c000.snappy.parquet',\n",
       " 'prod/graph/first_events/part-00007-0d6be2ab-d553-4885-be78-abb9efceecc7-c000.snappy.parquet',\n",
       " 'prod/graph/first_events/part-00008-0d6be2ab-d553-4885-be78-abb9efceecc7-c000.snappy.parquet',\n",
       " 'prod/graph/first_events/part-00009-0d6be2ab-d553-4885-be78-abb9efceecc7-c000.snappy.parquet',\n",
       " 'prod/graph/first_events/part-00010-0d6be2ab-d553-4885-be78-abb9efceecc7-c000.snappy.parquet',\n",
       " 'prod/graph/first_events/part-00011-0d6be2ab-d553-4885-be78-abb9efceecc7-c000.snappy.parquet',\n",
       " 'prod/graph/first_events/part-00012-0d6be2ab-d553-4885-be78-abb9efceecc7-c000.snappy.parquet',\n",
       " 'prod/graph/first_events/part-00013-0d6be2ab-d553-4885-be78-abb9efceecc7-c000.snappy.parquet',\n",
       " 'prod/graph/first_events/part-00014-0d6be2ab-d553-4885-be78-abb9efceecc7-c000.snappy.parquet',\n",
       " 'prod/graph/first_events/part-00015-0d6be2ab-d553-4885-be78-abb9efceecc7-c000.snappy.parquet',\n",
       " 'prod/graph/first_events/part-00016-0d6be2ab-d553-4885-be78-abb9efceecc7-c000.snappy.parquet',\n",
       " 'prod/graph/first_events/part-00017-0d6be2ab-d553-4885-be78-abb9efceecc7-c000.snappy.parquet',\n",
       " 'prod/graph/first_events/part-00018-0d6be2ab-d553-4885-be78-abb9efceecc7-c000.snappy.parquet',\n",
       " 'prod/graph/first_events/part-00019-0d6be2ab-d553-4885-be78-abb9efceecc7-c000.snappy.parquet',\n",
       " 'prod/graph/first_events/part-00020-0d6be2ab-d553-4885-be78-abb9efceecc7-c000.snappy.parquet',\n",
       " 'prod/graph/first_events/part-00021-0d6be2ab-d553-4885-be78-abb9efceecc7-c000.snappy.parquet',\n",
       " 'prod/graph/first_events/part-00022-0d6be2ab-d553-4885-be78-abb9efceecc7-c000.snappy.parquet',\n",
       " 'prod/graph/first_events/part-00023-0d6be2ab-d553-4885-be78-abb9efceecc7-c000.snappy.parquet',\n",
       " 'prod/graph/first_events/part-00024-0d6be2ab-d553-4885-be78-abb9efceecc7-c000.snappy.parquet',\n",
       " 'prod/graph/first_events/part-00025-0d6be2ab-d553-4885-be78-abb9efceecc7-c000.snappy.parquet',\n",
       " 'prod/graph/first_events/part-00026-0d6be2ab-d553-4885-be78-abb9efceecc7-c000.snappy.parquet',\n",
       " 'prod/graph/first_events/part-00027-0d6be2ab-d553-4885-be78-abb9efceecc7-c000.snappy.parquet',\n",
       " 'prod/graph/first_events/part-00028-0d6be2ab-d553-4885-be78-abb9efceecc7-c000.snappy.parquet',\n",
       " 'prod/graph/first_events/part-00029-0d6be2ab-d553-4885-be78-abb9efceecc7-c000.snappy.parquet',\n",
       " 'prod/graph/first_events/part-00030-0d6be2ab-d553-4885-be78-abb9efceecc7-c000.snappy.parquet',\n",
       " 'prod/graph/first_events/part-00031-0d6be2ab-d553-4885-be78-abb9efceecc7-c000.snappy.parquet',\n",
       " 'prod/graph/first_events/part-00032-0d6be2ab-d553-4885-be78-abb9efceecc7-c000.snappy.parquet',\n",
       " 'prod/graph/first_events/part-00033-0d6be2ab-d553-4885-be78-abb9efceecc7-c000.snappy.parquet',\n",
       " 'prod/graph/first_events/part-00034-0d6be2ab-d553-4885-be78-abb9efceecc7-c000.snappy.parquet',\n",
       " 'prod/graph/first_events/part-00035-0d6be2ab-d553-4885-be78-abb9efceecc7-c000.snappy.parquet',\n",
       " 'prod/graph/first_events/part-00036-0d6be2ab-d553-4885-be78-abb9efceecc7-c000.snappy.parquet',\n",
       " 'prod/graph/first_events/part-00037-0d6be2ab-d553-4885-be78-abb9efceecc7-c000.snappy.parquet',\n",
       " 'prod/graph/first_events/part-00038-0d6be2ab-d553-4885-be78-abb9efceecc7-c000.snappy.parquet',\n",
       " 'prod/graph/first_events/part-00039-0d6be2ab-d553-4885-be78-abb9efceecc7-c000.snappy.parquet',\n",
       " 'prod/graph/first_events/part-00040-0d6be2ab-d553-4885-be78-abb9efceecc7-c000.snappy.parquet',\n",
       " 'prod/graph/first_events/part-00041-0d6be2ab-d553-4885-be78-abb9efceecc7-c000.snappy.parquet',\n",
       " 'prod/graph/first_events/part-00042-0d6be2ab-d553-4885-be78-abb9efceecc7-c000.snappy.parquet',\n",
       " 'prod/graph/first_events/part-00043-0d6be2ab-d553-4885-be78-abb9efceecc7-c000.snappy.parquet',\n",
       " 'prod/graph/first_events/part-00044-0d6be2ab-d553-4885-be78-abb9efceecc7-c000.snappy.parquet',\n",
       " 'prod/graph/first_events/part-00045-0d6be2ab-d553-4885-be78-abb9efceecc7-c000.snappy.parquet',\n",
       " 'prod/graph/first_events/part-00046-0d6be2ab-d553-4885-be78-abb9efceecc7-c000.snappy.parquet',\n",
       " 'prod/graph/first_events/part-00047-0d6be2ab-d553-4885-be78-abb9efceecc7-c000.snappy.parquet',\n",
       " 'prod/graph/first_events/part-00048-0d6be2ab-d553-4885-be78-abb9efceecc7-c000.snappy.parquet',\n",
       " 'prod/graph/first_events/part-00049-0d6be2ab-d553-4885-be78-abb9efceecc7-c000.snappy.parquet',\n",
       " 'prod/graph/first_events/part-00050-0d6be2ab-d553-4885-be78-abb9efceecc7-c000.snappy.parquet',\n",
       " 'prod/graph/first_events/part-00051-0d6be2ab-d553-4885-be78-abb9efceecc7-c000.snappy.parquet',\n",
       " 'prod/graph/first_events/part-00052-0d6be2ab-d553-4885-be78-abb9efceecc7-c000.snappy.parquet',\n",
       " 'prod/graph/first_events/part-00053-0d6be2ab-d553-4885-be78-abb9efceecc7-c000.snappy.parquet',\n",
       " 'prod/graph/first_events/part-00054-0d6be2ab-d553-4885-be78-abb9efceecc7-c000.snappy.parquet',\n",
       " 'prod/graph/first_events/part-00055-0d6be2ab-d553-4885-be78-abb9efceecc7-c000.snappy.parquet',\n",
       " 'prod/graph/first_events/part-00056-0d6be2ab-d553-4885-be78-abb9efceecc7-c000.snappy.parquet',\n",
       " 'prod/graph/first_events/part-00057-0d6be2ab-d553-4885-be78-abb9efceecc7-c000.snappy.parquet',\n",
       " 'prod/graph/first_events/part-00058-0d6be2ab-d553-4885-be78-abb9efceecc7-c000.snappy.parquet',\n",
       " 'prod/graph/first_events/part-00059-0d6be2ab-d553-4885-be78-abb9efceecc7-c000.snappy.parquet',\n",
       " 'prod/graph/first_events/part-00060-0d6be2ab-d553-4885-be78-abb9efceecc7-c000.snappy.parquet',\n",
       " 'prod/graph/first_events/part-00061-0d6be2ab-d553-4885-be78-abb9efceecc7-c000.snappy.parquet',\n",
       " 'prod/graph/first_events/part-00062-0d6be2ab-d553-4885-be78-abb9efceecc7-c000.snappy.parquet',\n",
       " 'prod/graph/first_events/part-00063-0d6be2ab-d553-4885-be78-abb9efceecc7-c000.snappy.parquet',\n",
       " 'prod/graph/first_events/part-00064-0d6be2ab-d553-4885-be78-abb9efceecc7-c000.snappy.parquet',\n",
       " 'prod/graph/first_events/part-00065-0d6be2ab-d553-4885-be78-abb9efceecc7-c000.snappy.parquet',\n",
       " 'prod/graph/first_events/part-00066-0d6be2ab-d553-4885-be78-abb9efceecc7-c000.snappy.parquet',\n",
       " 'prod/graph/first_events/part-00067-0d6be2ab-d553-4885-be78-abb9efceecc7-c000.snappy.parquet',\n",
       " 'prod/graph/first_events/part-00068-0d6be2ab-d553-4885-be78-abb9efceecc7-c000.snappy.parquet',\n",
       " 'prod/graph/first_events/part-00069-0d6be2ab-d553-4885-be78-abb9efceecc7-c000.snappy.parquet',\n",
       " 'prod/graph/first_events/part-00070-0d6be2ab-d553-4885-be78-abb9efceecc7-c000.snappy.parquet',\n",
       " 'prod/graph/first_events/part-00071-0d6be2ab-d553-4885-be78-abb9efceecc7-c000.snappy.parquet',\n",
       " 'prod/graph/first_events/part-00072-0d6be2ab-d553-4885-be78-abb9efceecc7-c000.snappy.parquet',\n",
       " 'prod/graph/first_events/part-00073-0d6be2ab-d553-4885-be78-abb9efceecc7-c000.snappy.parquet',\n",
       " 'prod/graph/first_events/part-00074-0d6be2ab-d553-4885-be78-abb9efceecc7-c000.snappy.parquet',\n",
       " 'prod/graph/first_events/part-00075-0d6be2ab-d553-4885-be78-abb9efceecc7-c000.snappy.parquet',\n",
       " 'prod/graph/first_events/part-00076-0d6be2ab-d553-4885-be78-abb9efceecc7-c000.snappy.parquet',\n",
       " 'prod/graph/first_events/part-00077-0d6be2ab-d553-4885-be78-abb9efceecc7-c000.snappy.parquet',\n",
       " 'prod/graph/first_events/part-00078-0d6be2ab-d553-4885-be78-abb9efceecc7-c000.snappy.parquet',\n",
       " 'prod/graph/first_events/part-00079-0d6be2ab-d553-4885-be78-abb9efceecc7-c000.snappy.parquet',\n",
       " 'prod/graph/first_events/part-00080-0d6be2ab-d553-4885-be78-abb9efceecc7-c000.snappy.parquet',\n",
       " 'prod/graph/first_events/part-00081-0d6be2ab-d553-4885-be78-abb9efceecc7-c000.snappy.parquet',\n",
       " 'prod/graph/first_events/part-00082-0d6be2ab-d553-4885-be78-abb9efceecc7-c000.snappy.parquet',\n",
       " 'prod/graph/first_events/part-00083-0d6be2ab-d553-4885-be78-abb9efceecc7-c000.snappy.parquet',\n",
       " 'prod/graph/first_events/part-00084-0d6be2ab-d553-4885-be78-abb9efceecc7-c000.snappy.parquet',\n",
       " 'prod/graph/first_events/part-00085-0d6be2ab-d553-4885-be78-abb9efceecc7-c000.snappy.parquet',\n",
       " 'prod/graph/first_events/part-00086-0d6be2ab-d553-4885-be78-abb9efceecc7-c000.snappy.parquet',\n",
       " 'prod/graph/first_events/part-00087-0d6be2ab-d553-4885-be78-abb9efceecc7-c000.snappy.parquet',\n",
       " 'prod/graph/first_events/part-00088-0d6be2ab-d553-4885-be78-abb9efceecc7-c000.snappy.parquet',\n",
       " 'prod/graph/first_events/part-00089-0d6be2ab-d553-4885-be78-abb9efceecc7-c000.snappy.parquet',\n",
       " 'prod/graph/first_events/part-00090-0d6be2ab-d553-4885-be78-abb9efceecc7-c000.snappy.parquet',\n",
       " 'prod/graph/first_events/part-00091-0d6be2ab-d553-4885-be78-abb9efceecc7-c000.snappy.parquet',\n",
       " 'prod/graph/first_events/part-00092-0d6be2ab-d553-4885-be78-abb9efceecc7-c000.snappy.parquet',\n",
       " 'prod/graph/first_events/part-00093-0d6be2ab-d553-4885-be78-abb9efceecc7-c000.snappy.parquet',\n",
       " 'prod/graph/first_events/part-00094-0d6be2ab-d553-4885-be78-abb9efceecc7-c000.snappy.parquet',\n",
       " 'prod/graph/first_events/part-00095-0d6be2ab-d553-4885-be78-abb9efceecc7-c000.snappy.parquet',\n",
       " 'prod/graph/first_events/part-00096-0d6be2ab-d553-4885-be78-abb9efceecc7-c000.snappy.parquet',\n",
       " 'prod/graph/first_events/part-00097-0d6be2ab-d553-4885-be78-abb9efceecc7-c000.snappy.parquet',\n",
       " 'prod/graph/first_events/part-00098-0d6be2ab-d553-4885-be78-abb9efceecc7-c000.snappy.parquet',\n",
       " 'prod/graph/first_events/part-00099-0d6be2ab-d553-4885-be78-abb9efceecc7-c000.snappy.parquet',\n",
       " 'prod/graph/first_events/part-00100-0d6be2ab-d553-4885-be78-abb9efceecc7-c000.snappy.parquet',\n",
       " 'prod/graph/first_events/part-00101-0d6be2ab-d553-4885-be78-abb9efceecc7-c000.snappy.parquet',\n",
       " 'prod/graph/first_events/part-00102-0d6be2ab-d553-4885-be78-abb9efceecc7-c000.snappy.parquet',\n",
       " 'prod/graph/first_events/part-00103-0d6be2ab-d553-4885-be78-abb9efceecc7-c000.snappy.parquet',\n",
       " 'prod/graph/first_events/part-00104-0d6be2ab-d553-4885-be78-abb9efceecc7-c000.snappy.parquet',\n",
       " 'prod/graph/first_events/part-00105-0d6be2ab-d553-4885-be78-abb9efceecc7-c000.snappy.parquet',\n",
       " 'prod/graph/first_events/part-00106-0d6be2ab-d553-4885-be78-abb9efceecc7-c000.snappy.parquet',\n",
       " 'prod/graph/first_events/part-00107-0d6be2ab-d553-4885-be78-abb9efceecc7-c000.snappy.parquet',\n",
       " 'prod/graph/first_events/part-00108-0d6be2ab-d553-4885-be78-abb9efceecc7-c000.snappy.parquet',\n",
       " 'prod/graph/first_events/part-00109-0d6be2ab-d553-4885-be78-abb9efceecc7-c000.snappy.parquet',\n",
       " 'prod/graph/first_events/part-00110-0d6be2ab-d553-4885-be78-abb9efceecc7-c000.snappy.parquet',\n",
       " 'prod/graph/first_events/part-00111-0d6be2ab-d553-4885-be78-abb9efceecc7-c000.snappy.parquet',\n",
       " 'prod/graph/first_events/part-00112-0d6be2ab-d553-4885-be78-abb9efceecc7-c000.snappy.parquet',\n",
       " 'prod/graph/first_events/part-00113-0d6be2ab-d553-4885-be78-abb9efceecc7-c000.snappy.parquet',\n",
       " 'prod/graph/first_events/part-00114-0d6be2ab-d553-4885-be78-abb9efceecc7-c000.snappy.parquet',\n",
       " 'prod/graph/first_events/part-00115-0d6be2ab-d553-4885-be78-abb9efceecc7-c000.snappy.parquet',\n",
       " 'prod/graph/first_events/part-00116-0d6be2ab-d553-4885-be78-abb9efceecc7-c000.snappy.parquet',\n",
       " 'prod/graph/first_events/part-00117-0d6be2ab-d553-4885-be78-abb9efceecc7-c000.snappy.parquet',\n",
       " 'prod/graph/first_events/part-00118-0d6be2ab-d553-4885-be78-abb9efceecc7-c000.snappy.parquet',\n",
       " 'prod/graph/first_events/part-00119-0d6be2ab-d553-4885-be78-abb9efceecc7-c000.snappy.parquet',\n",
       " 'prod/graph/first_events/part-00120-0d6be2ab-d553-4885-be78-abb9efceecc7-c000.snappy.parquet',\n",
       " 'prod/graph/first_events/part-00121-0d6be2ab-d553-4885-be78-abb9efceecc7-c000.snappy.parquet',\n",
       " 'prod/graph/first_events/part-00122-0d6be2ab-d553-4885-be78-abb9efceecc7-c000.snappy.parquet',\n",
       " 'prod/graph/first_events/part-00123-0d6be2ab-d553-4885-be78-abb9efceecc7-c000.snappy.parquet',\n",
       " 'prod/graph/first_events/part-00124-0d6be2ab-d553-4885-be78-abb9efceecc7-c000.snappy.parquet',\n",
       " 'prod/graph/first_events/part-00125-0d6be2ab-d553-4885-be78-abb9efceecc7-c000.snappy.parquet',\n",
       " 'prod/graph/first_events/part-00126-0d6be2ab-d553-4885-be78-abb9efceecc7-c000.snappy.parquet',\n",
       " 'prod/graph/first_events/part-00127-0d6be2ab-d553-4885-be78-abb9efceecc7-c000.snappy.parquet',\n",
       " 'prod/graph/first_events/part-00128-0d6be2ab-d553-4885-be78-abb9efceecc7-c000.snappy.parquet',\n",
       " 'prod/graph/first_events/part-00129-0d6be2ab-d553-4885-be78-abb9efceecc7-c000.snappy.parquet',\n",
       " 'prod/graph/first_events/part-00130-0d6be2ab-d553-4885-be78-abb9efceecc7-c000.snappy.parquet',\n",
       " 'prod/graph/first_events/part-00131-0d6be2ab-d553-4885-be78-abb9efceecc7-c000.snappy.parquet',\n",
       " 'prod/graph/first_events/part-00132-0d6be2ab-d553-4885-be78-abb9efceecc7-c000.snappy.parquet',\n",
       " 'prod/graph/first_events/part-00133-0d6be2ab-d553-4885-be78-abb9efceecc7-c000.snappy.parquet',\n",
       " 'prod/graph/first_events/part-00134-0d6be2ab-d553-4885-be78-abb9efceecc7-c000.snappy.parquet',\n",
       " 'prod/graph/first_events/part-00135-0d6be2ab-d553-4885-be78-abb9efceecc7-c000.snappy.parquet',\n",
       " 'prod/graph/first_events/part-00136-0d6be2ab-d553-4885-be78-abb9efceecc7-c000.snappy.parquet',\n",
       " 'prod/graph/first_events/part-00137-0d6be2ab-d553-4885-be78-abb9efceecc7-c000.snappy.parquet',\n",
       " 'prod/graph/first_events/part-00138-0d6be2ab-d553-4885-be78-abb9efceecc7-c000.snappy.parquet',\n",
       " 'prod/graph/first_events/part-00139-0d6be2ab-d553-4885-be78-abb9efceecc7-c000.snappy.parquet',\n",
       " 'prod/graph/first_events/part-00140-0d6be2ab-d553-4885-be78-abb9efceecc7-c000.snappy.parquet',\n",
       " 'prod/graph/first_events/part-00141-0d6be2ab-d553-4885-be78-abb9efceecc7-c000.snappy.parquet',\n",
       " 'prod/graph/first_events/part-00142-0d6be2ab-d553-4885-be78-abb9efceecc7-c000.snappy.parquet',\n",
       " 'prod/graph/first_events/part-00143-0d6be2ab-d553-4885-be78-abb9efceecc7-c000.snappy.parquet',\n",
       " 'prod/graph/first_events/part-00144-0d6be2ab-d553-4885-be78-abb9efceecc7-c000.snappy.parquet',\n",
       " 'prod/graph/first_events/part-00145-0d6be2ab-d553-4885-be78-abb9efceecc7-c000.snappy.parquet',\n",
       " 'prod/graph/first_events/part-00146-0d6be2ab-d553-4885-be78-abb9efceecc7-c000.snappy.parquet',\n",
       " 'prod/graph/first_events/part-00147-0d6be2ab-d553-4885-be78-abb9efceecc7-c000.snappy.parquet',\n",
       " 'prod/graph/first_events/part-00148-0d6be2ab-d553-4885-be78-abb9efceecc7-c000.snappy.parquet',\n",
       " 'prod/graph/first_events/part-00149-0d6be2ab-d553-4885-be78-abb9efceecc7-c000.snappy.parquet',\n",
       " 'prod/graph/first_events/part-00150-0d6be2ab-d553-4885-be78-abb9efceecc7-c000.snappy.parquet',\n",
       " 'prod/graph/first_events/part-00151-0d6be2ab-d553-4885-be78-abb9efceecc7-c000.snappy.parquet',\n",
       " 'prod/graph/first_events/part-00152-0d6be2ab-d553-4885-be78-abb9efceecc7-c000.snappy.parquet',\n",
       " 'prod/graph/first_events/part-00153-0d6be2ab-d553-4885-be78-abb9efceecc7-c000.snappy.parquet',\n",
       " 'prod/graph/first_events/part-00154-0d6be2ab-d553-4885-be78-abb9efceecc7-c000.snappy.parquet',\n",
       " 'prod/graph/first_events/part-00155-0d6be2ab-d553-4885-be78-abb9efceecc7-c000.snappy.parquet',\n",
       " 'prod/graph/first_events/part-00156-0d6be2ab-d553-4885-be78-abb9efceecc7-c000.snappy.parquet',\n",
       " 'prod/graph/first_events/part-00157-0d6be2ab-d553-4885-be78-abb9efceecc7-c000.snappy.parquet',\n",
       " 'prod/graph/first_events/part-00158-0d6be2ab-d553-4885-be78-abb9efceecc7-c000.snappy.parquet',\n",
       " 'prod/graph/first_events/part-00159-0d6be2ab-d553-4885-be78-abb9efceecc7-c000.snappy.parquet',\n",
       " 'prod/graph/first_events/part-00160-0d6be2ab-d553-4885-be78-abb9efceecc7-c000.snappy.parquet',\n",
       " 'prod/graph/first_events/part-00161-0d6be2ab-d553-4885-be78-abb9efceecc7-c000.snappy.parquet',\n",
       " 'prod/graph/first_events/part-00162-0d6be2ab-d553-4885-be78-abb9efceecc7-c000.snappy.parquet',\n",
       " 'prod/graph/first_events/part-00163-0d6be2ab-d553-4885-be78-abb9efceecc7-c000.snappy.parquet',\n",
       " 'prod/graph/first_events/part-00164-0d6be2ab-d553-4885-be78-abb9efceecc7-c000.snappy.parquet',\n",
       " 'prod/graph/first_events/part-00165-0d6be2ab-d553-4885-be78-abb9efceecc7-c000.snappy.parquet',\n",
       " 'prod/graph/first_events/part-00166-0d6be2ab-d553-4885-be78-abb9efceecc7-c000.snappy.parquet',\n",
       " 'prod/graph/first_events/part-00167-0d6be2ab-d553-4885-be78-abb9efceecc7-c000.snappy.parquet',\n",
       " 'prod/graph/first_events/part-00168-0d6be2ab-d553-4885-be78-abb9efceecc7-c000.snappy.parquet',\n",
       " 'prod/graph/first_events/part-00169-0d6be2ab-d553-4885-be78-abb9efceecc7-c000.snappy.parquet',\n",
       " 'prod/graph/first_events/part-00170-0d6be2ab-d553-4885-be78-abb9efceecc7-c000.snappy.parquet',\n",
       " 'prod/graph/first_events/part-00171-0d6be2ab-d553-4885-be78-abb9efceecc7-c000.snappy.parquet',\n",
       " 'prod/graph/first_events/part-00172-0d6be2ab-d553-4885-be78-abb9efceecc7-c000.snappy.parquet',\n",
       " 'prod/graph/first_events/part-00173-0d6be2ab-d553-4885-be78-abb9efceecc7-c000.snappy.parquet',\n",
       " 'prod/graph/first_events/part-00174-0d6be2ab-d553-4885-be78-abb9efceecc7-c000.snappy.parquet',\n",
       " 'prod/graph/first_events/part-00175-0d6be2ab-d553-4885-be78-abb9efceecc7-c000.snappy.parquet',\n",
       " 'prod/graph/first_events/part-00176-0d6be2ab-d553-4885-be78-abb9efceecc7-c000.snappy.parquet',\n",
       " 'prod/graph/first_events/part-00177-0d6be2ab-d553-4885-be78-abb9efceecc7-c000.snappy.parquet',\n",
       " 'prod/graph/first_events/part-00178-0d6be2ab-d553-4885-be78-abb9efceecc7-c000.snappy.parquet',\n",
       " 'prod/graph/first_events/part-00179-0d6be2ab-d553-4885-be78-abb9efceecc7-c000.snappy.parquet',\n",
       " 'prod/graph/first_events/part-00180-0d6be2ab-d553-4885-be78-abb9efceecc7-c000.snappy.parquet',\n",
       " 'prod/graph/first_events/part-00181-0d6be2ab-d553-4885-be78-abb9efceecc7-c000.snappy.parquet',\n",
       " 'prod/graph/first_events/part-00182-0d6be2ab-d553-4885-be78-abb9efceecc7-c000.snappy.parquet',\n",
       " 'prod/graph/first_events/part-00183-0d6be2ab-d553-4885-be78-abb9efceecc7-c000.snappy.parquet',\n",
       " 'prod/graph/first_events/part-00184-0d6be2ab-d553-4885-be78-abb9efceecc7-c000.snappy.parquet',\n",
       " 'prod/graph/first_events/part-00185-0d6be2ab-d553-4885-be78-abb9efceecc7-c000.snappy.parquet',\n",
       " 'prod/graph/first_events/part-00186-0d6be2ab-d553-4885-be78-abb9efceecc7-c000.snappy.parquet',\n",
       " 'prod/graph/first_events/part-00187-0d6be2ab-d553-4885-be78-abb9efceecc7-c000.snappy.parquet',\n",
       " 'prod/graph/first_events/part-00188-0d6be2ab-d553-4885-be78-abb9efceecc7-c000.snappy.parquet',\n",
       " 'prod/graph/first_events/part-00189-0d6be2ab-d553-4885-be78-abb9efceecc7-c000.snappy.parquet',\n",
       " 'prod/graph/first_events/part-00190-0d6be2ab-d553-4885-be78-abb9efceecc7-c000.snappy.parquet',\n",
       " 'prod/graph/first_events/part-00191-0d6be2ab-d553-4885-be78-abb9efceecc7-c000.snappy.parquet',\n",
       " 'prod/graph/first_events/part-00192-0d6be2ab-d553-4885-be78-abb9efceecc7-c000.snappy.parquet',\n",
       " 'prod/graph/first_events/part-00193-0d6be2ab-d553-4885-be78-abb9efceecc7-c000.snappy.parquet',\n",
       " 'prod/graph/first_events/part-00194-0d6be2ab-d553-4885-be78-abb9efceecc7-c000.snappy.parquet',\n",
       " 'prod/graph/first_events/part-00195-0d6be2ab-d553-4885-be78-abb9efceecc7-c000.snappy.parquet',\n",
       " 'prod/graph/first_events/part-00196-0d6be2ab-d553-4885-be78-abb9efceecc7-c000.snappy.parquet',\n",
       " 'prod/graph/first_events/part-00197-0d6be2ab-d553-4885-be78-abb9efceecc7-c000.snappy.parquet',\n",
       " 'prod/graph/first_events/part-00198-0d6be2ab-d553-4885-be78-abb9efceecc7-c000.snappy.parquet',\n",
       " 'prod/graph/first_events/part-00199-0d6be2ab-d553-4885-be78-abb9efceecc7-c000.snappy.parquet']"
      ]
     },
     "execution_count": 78,
     "metadata": {},
     "output_type": "execute_result"
    }
   ],
   "source": [
    "getFirstEventFiles()"
   ]
  },
  {
   "cell_type": "code",
   "execution_count": 55,
   "id": "80e12534-0bcf-4ca7-ba02-769bd75158d4",
   "metadata": {
    "tags": []
   },
   "outputs": [],
   "source": [
    "def map_fn(file_location):\n",
    "    return tfio.IODataset.from_parquet(file_location, columns=columns)"
   ]
  },
  {
   "cell_type": "code",
   "execution_count": null,
   "id": "0f44b4a7-744b-451d-b1bb-1e9f4d8b3e91",
   "metadata": {},
   "outputs": [],
   "source": [
    "train_files = [ s3bucket + \"/path/file_{}.parquet\".format(i) for i in range(train_size) ]"
   ]
  },
  {
   "cell_type": "code",
   "execution_count": null,
   "id": "b5947801-4aea-47ad-a83b-1622e476bc86",
   "metadata": {},
   "outputs": [],
   "source": [
    "train_size = 640\n",
    "batch_size = 32"
   ]
  },
  {
   "cell_type": "code",
   "execution_count": null,
   "id": "22fbefa1-852f-42c8-949b-453f0912e256",
   "metadata": {},
   "outputs": [],
   "source": [
    "train_ds = tf.data.Dataset.from_tensor_slices((train_files, train_labels))"
   ]
  },
  {
   "cell_type": "code",
   "execution_count": null,
   "id": "1785d219-a663-42d6-9384-5d930aded069",
   "metadata": {},
   "outputs": [],
   "source": []
  },
  {
   "cell_type": "code",
   "execution_count": null,
   "id": "2ebf2f89-68a9-4a57-a925-f375bf6424de",
   "metadata": {},
   "outputs": [],
   "source": [
    "files = [ s3bucket + \"/path/file_{}.parquet\".format(i) for i in range(5) ]\n",
    "ds = tf.data.Dataset.from_tensor_slices(files).map(map_fn)"
   ]
  },
  {
   "cell_type": "code",
   "execution_count": null,
   "id": "9f2dfffb-736e-4be7-851d-3105e9d56186",
   "metadata": {},
   "outputs": [],
   "source": []
  },
  {
   "cell_type": "code",
   "execution_count": null,
   "id": "baf26b43-e2db-4852-8281-7963110dbcd5",
   "metadata": {},
   "outputs": [],
   "source": []
  },
  {
   "cell_type": "code",
   "execution_count": null,
   "id": "31e0fd74-44fc-44df-8906-c2afbb9123a5",
   "metadata": {},
   "outputs": [],
   "source": []
  }
 ],
 "metadata": {
  "kernelspec": {
   "display_name": "conda_python3",
   "language": "python",
   "name": "conda_python3"
  },
  "language_info": {
   "codemirror_mode": {
    "name": "ipython",
    "version": 3
   },
   "file_extension": ".py",
   "mimetype": "text/x-python",
   "name": "python",
   "nbconvert_exporter": "python",
   "pygments_lexer": "ipython3",
   "version": "3.10.8"
  }
 },
 "nbformat": 4,
 "nbformat_minor": 5
}
