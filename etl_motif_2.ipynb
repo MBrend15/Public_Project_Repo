{
 "cells": [
  {
   "cell_type": "code",
   "execution_count": 2,
   "id": "126b0424-6e71-41d9-bc3f-c0919d0be6c2",
   "metadata": {
    "collapsed": true,
    "jupyter": {
     "outputs_hidden": true
    },
    "tags": []
   },
   "outputs": [
    {
     "name": "stderr",
     "output_type": "stream",
     "text": [
      "Matplotlib is building the font cache; this may take a moment.\n",
      "Warning: Ignoring non-Spark config property: fs.s3a.access.key\n",
      "Warning: Ignoring non-Spark config property: fs.s3a.secret.key\n"
     ]
    },
    {
     "name": "stdout",
     "output_type": "stream",
     "text": [
      ":: loading settings :: url = jar:file:/home/ec2-user/anaconda3/envs/python3/lib/python3.10/site-packages/pyspark/jars/ivy-2.5.0.jar!/org/apache/ivy/core/settings/ivysettings.xml\n"
     ]
    },
    {
     "name": "stderr",
     "output_type": "stream",
     "text": [
      "Ivy Default Cache set to: /home/ec2-user/.ivy2/cache\n",
      "The jars for the packages stored in: /home/ec2-user/.ivy2/jars\n",
      "graphframes#graphframes added as a dependency\n",
      ":: resolving dependencies :: org.apache.spark#spark-submit-parent-06df0f2d-ce64-46a5-b7ae-1dd39fe72551;1.0\n",
      "\tconfs: [default]\n",
      "\tfound graphframes#graphframes;0.8.2-spark3.2-s_2.12 in spark-packages\n",
      "\tfound org.slf4j#slf4j-api;1.7.16 in central\n",
      "downloading https://repos.spark-packages.org/graphframes/graphframes/0.8.2-spark3.2-s_2.12/graphframes-0.8.2-spark3.2-s_2.12.jar ...\n",
      "\t[SUCCESSFUL ] graphframes#graphframes;0.8.2-spark3.2-s_2.12!graphframes.jar (37ms)\n",
      "downloading https://repo1.maven.org/maven2/org/slf4j/slf4j-api/1.7.16/slf4j-api-1.7.16.jar ...\n",
      "\t[SUCCESSFUL ] org.slf4j#slf4j-api;1.7.16!slf4j-api.jar (22ms)\n",
      ":: resolution report :: resolve 617ms :: artifacts dl 62ms\n",
      "\t:: modules in use:\n",
      "\tgraphframes#graphframes;0.8.2-spark3.2-s_2.12 from spark-packages in [default]\n",
      "\torg.slf4j#slf4j-api;1.7.16 from central in [default]\n",
      "\t---------------------------------------------------------------------\n",
      "\t|                  |            modules            ||   artifacts   |\n",
      "\t|       conf       | number| search|dwnlded|evicted|| number|dwnlded|\n",
      "\t---------------------------------------------------------------------\n",
      "\t|      default     |   2   |   2   |   2   |   0   ||   2   |   2   |\n",
      "\t---------------------------------------------------------------------\n",
      ":: retrieving :: org.apache.spark#spark-submit-parent-06df0f2d-ce64-46a5-b7ae-1dd39fe72551\n",
      "\tconfs: [default]\n",
      "\t2 artifacts copied, 0 already retrieved (281kB/6ms)\n"
     ]
    },
    {
     "name": "stdout",
     "output_type": "stream",
     "text": [
      "23/04/17 01:07:39 WARN NativeCodeLoader: Unable to load native-hadoop library for your platform... using builtin-java classes where applicable\n"
     ]
    },
    {
     "name": "stderr",
     "output_type": "stream",
     "text": [
      "Setting default log level to \"WARN\".\n",
      "To adjust logging level use sc.setLogLevel(newLevel). For SparkR, use setLogLevel(newLevel).\n"
     ]
    },
    {
     "name": "stdout",
     "output_type": "stream",
     "text": [
      "23/04/17 01:07:40 WARN SparkConf: Note that spark.local.dir will be overridden by the value set by the cluster manager (via SPARK_LOCAL_DIRS in mesos/standalone/kubernetes and LOCAL_DIRS in YARN).\n"
     ]
    }
   ],
   "source": [
    "%run trace_encode.ipynb\n",
    "s3_url_trusted = \"s3a://sapient-bucket-trusted/\""
   ]
  },
  {
   "cell_type": "markdown",
   "id": "8e5633c6-92f5-44ae-99c5-78835b7ff6a5",
   "metadata": {},
   "source": [
    "## One hot encoding motif 2"
   ]
  },
  {
   "cell_type": "markdown",
   "id": "0cf799a9-bbe8-451a-8e79-1227376b944b",
   "metadata": {},
   "source": [
    "### I want to count malicious traces for each motif. "
   ]
  },
  {
   "cell_type": "code",
   "execution_count": 4,
   "id": "1347d67b-001d-4004-a9c7-4b2477adc825",
   "metadata": {
    "tags": []
   },
   "outputs": [
    {
     "name": "stdout",
     "output_type": "stream",
     "text": [
      "1681693748.6689312\n",
      "read time 2: 0.37091588973999023\n"
     ]
    }
   ],
   "source": [
    "#read in motif 2\n",
    "start_time = time.time()\n",
    "print(start_time)\n",
    "motif_2 = spark.read.parquet(f\"{s3_url_trusted}/prod/graph/motifs/filtered/2\").cache()\n",
    "print(\"read time 2: \"+ str(time.time() - start_time))"
   ]
  },
  {
   "cell_type": "code",
   "execution_count": 7,
   "id": "116a0797-b9b1-4642-8216-c69255b10b48",
   "metadata": {
    "tags": []
   },
   "outputs": [
    {
     "name": "stdout",
     "output_type": "stream",
     "text": [
      "1681693794.0512934\n"
     ]
    },
    {
     "name": "stderr",
     "output_type": "stream",
     "text": [
      "[Stage 2:=======================================================> (33 + 1) / 34]\r"
     ]
    },
    {
     "name": "stdout",
     "output_type": "stream",
     "text": [
      "46496898\n",
      "count time: 5.1239471435546875\n"
     ]
    },
    {
     "name": "stderr",
     "output_type": "stream",
     "text": [
      "                                                                                \r"
     ]
    }
   ],
   "source": [
    "#first count onehot\n",
    "start_time = time.time()\n",
    "print(start_time)\n",
    "print(motif_2.count())\n",
    "print(\"count time: \"+ str(time.time() - start_time))"
   ]
  },
  {
   "cell_type": "code",
   "execution_count": 8,
   "id": "0becc679-c2cc-4df1-9f40-aa35d5209ccb",
   "metadata": {
    "tags": []
   },
   "outputs": [],
   "source": [
    "#add mal trace \n",
    "w = Window.partitionBy(\"Trace\")\n",
    "motif_2 = motif_2.withColumn('mal_trace', when(sum('malicious').over(w) > 0, 1).otherwise(0)).cache()"
   ]
  },
  {
   "cell_type": "code",
   "execution_count": 11,
   "id": "f90f3ae6-13cc-4d1b-89ff-3dbfdd2e582a",
   "metadata": {
    "tags": []
   },
   "outputs": [
    {
     "name": "stdout",
     "output_type": "stream",
     "text": [
      "1681694807.2066197\n",
      "+---------+--------+\n",
      "|mal_trace|   count|\n",
      "+---------+--------+\n",
      "|        1|  503918|\n",
      "|        0|45992980|\n",
      "+---------+--------+\n",
      "\n",
      "mal_trace count time: 0.5392019748687744\n"
     ]
    }
   ],
   "source": [
    "#check days and malicious counts\n",
    "start_time = time.time()\n",
    "print(start_time)\n",
    "motif_2.groupBy(\"mal_trace\").count().show()\n",
    "print(\"mal_trace count time: \"+ str(time.time() - start_time))"
   ]
  },
  {
   "cell_type": "code",
   "execution_count": 12,
   "id": "39925a31-bd76-4ace-9aa0-d5be9cdf30a0",
   "metadata": {
    "tags": []
   },
   "outputs": [
    {
     "data": {
      "text/plain": [
       "DataFrame[Trace: string, event: string, src: string, dst: string, timestamp: timestamp, object: string, action: string, hostname: string, user_name: string, privileges: string, image_path: string, parent_image_path: string, new_path: string, file_path: string, direction: string, logon_id: string, requesting_domain: string, requesting_user: string, malicious: int, file_path_ext: string, motif: int, timestamp_bins: double, mal_trace: int]"
      ]
     },
     "execution_count": 12,
     "metadata": {},
     "output_type": "execute_result"
    }
   ],
   "source": [
    "motif_2.unpersist()"
   ]
  },
  {
   "cell_type": "markdown",
   "id": "96e51d46-e5cc-4346-bdd4-9ac75266996a",
   "metadata": {},
   "source": [
    "### now count mal_trace for motif 3"
   ]
  },
  {
   "cell_type": "code",
   "execution_count": 13,
   "id": "36018c11-0e1f-43a3-a52c-ca6c665e02dc",
   "metadata": {
    "tags": []
   },
   "outputs": [
    {
     "name": "stdout",
     "output_type": "stream",
     "text": [
      "1681694976.998779\n",
      "read time 2: 0.5058119297027588\n"
     ]
    }
   ],
   "source": [
    "#read in motif 2\n",
    "start_time = time.time()\n",
    "print(start_time)\n",
    "motif_3 = spark.read.parquet(f\"{s3_url_trusted}/prod/graph/motifs/filtered/3\").cache()\n",
    "print(\"read time 2: \"+ str(time.time() - start_time))"
   ]
  },
  {
   "cell_type": "code",
   "execution_count": 14,
   "id": "c98a058e-fe33-450a-993d-412d49623865",
   "metadata": {
    "tags": []
   },
   "outputs": [
    {
     "name": "stdout",
     "output_type": "stream",
     "text": [
      "1681694979.2834718\n"
     ]
    },
    {
     "name": "stderr",
     "output_type": "stream",
     "text": [
      "[Stage 29:====================================================> (104 + 2) / 106]\r"
     ]
    },
    {
     "name": "stdout",
     "output_type": "stream",
     "text": [
      "278393280\n",
      "count time: 153.31249856948853\n"
     ]
    },
    {
     "name": "stderr",
     "output_type": "stream",
     "text": [
      "                                                                                \r"
     ]
    }
   ],
   "source": [
    "#first count onehot\n",
    "start_time = time.time()\n",
    "print(start_time)\n",
    "print(motif_3.count())\n",
    "print(\"count time: \"+ str(time.time() - start_time))"
   ]
  },
  {
   "cell_type": "code",
   "execution_count": 15,
   "id": "f56b0100-5e88-449c-8a2c-eb10a51d0638",
   "metadata": {
    "tags": []
   },
   "outputs": [],
   "source": [
    "#add mal trace \n",
    "w = Window.partitionBy(\"Trace\")\n",
    "motif_3 = motif_3.withColumn('mal_trace', when(sum('malicious').over(w) > 0, 1).otherwise(0)).cache()"
   ]
  },
  {
   "cell_type": "code",
   "execution_count": 16,
   "id": "48d9e901-f1f5-4cea-8b21-367d9f9fa99f",
   "metadata": {
    "tags": []
   },
   "outputs": [
    {
     "name": "stdout",
     "output_type": "stream",
     "text": [
      "1681695132.6713603\n"
     ]
    },
    {
     "name": "stderr",
     "output_type": "stream",
     "text": [
      "[Stage 33:=====================================================>(199 + 1) / 200]\r"
     ]
    },
    {
     "name": "stdout",
     "output_type": "stream",
     "text": [
      "+---------+---------+\n",
      "|mal_trace|    count|\n",
      "+---------+---------+\n",
      "|        1|  1600848|\n",
      "|        0|276792432|\n",
      "+---------+---------+\n",
      "\n",
      "mal_trace count time: 554.8560664653778\n"
     ]
    },
    {
     "name": "stderr",
     "output_type": "stream",
     "text": [
      "                                                                                \r"
     ]
    }
   ],
   "source": [
    "#check days and malicious counts\n",
    "start_time = time.time()\n",
    "print(start_time)\n",
    "motif_3.groupBy(\"mal_trace\").count().show()\n",
    "print(\"mal_trace count time: \"+ str(time.time() - start_time))"
   ]
  },
  {
   "cell_type": "code",
   "execution_count": 17,
   "id": "5511a179-5ee3-46c6-ab94-7032c34a838c",
   "metadata": {
    "tags": []
   },
   "outputs": [
    {
     "data": {
      "text/plain": [
       "DataFrame[Trace: string, event: string, src: string, dst: string, timestamp: timestamp, object: string, action: string, hostname: string, user_name: string, privileges: string, image_path: string, parent_image_path: string, new_path: string, file_path: string, direction: string, logon_id: string, requesting_domain: string, requesting_user: string, malicious: int, file_path_ext: string, motif: int, timestamp_bins: double, mal_trace: int]"
      ]
     },
     "execution_count": 17,
     "metadata": {},
     "output_type": "execute_result"
    }
   ],
   "source": [
    "motif_3.unpersist()"
   ]
  },
  {
   "cell_type": "markdown",
   "id": "26d02112-15b0-4b76-9c32-9dd5ee94a18f",
   "metadata": {
    "tags": []
   },
   "source": [
    "### now count for motif 4"
   ]
  },
  {
   "cell_type": "code",
   "execution_count": 18,
   "id": "dc81f305-7339-46ed-b90a-ccd4f848046a",
   "metadata": {
    "tags": []
   },
   "outputs": [
    {
     "name": "stdout",
     "output_type": "stream",
     "text": [
      "1681695687.5417802\n",
      "read time 2: 0.6231417655944824\n"
     ]
    }
   ],
   "source": [
    "#read in motif 4\n",
    "start_time = time.time()\n",
    "print(start_time)\n",
    "motif_4 = spark.read.parquet(f\"{s3_url_trusted}/prod/graph/motifs/filtered/4\").cache()\n",
    "print(\"read time 2: \"+ str(time.time() - start_time))"
   ]
  },
  {
   "cell_type": "code",
   "execution_count": 19,
   "id": "27e42466-d3c6-4bce-8e77-03bba065af02",
   "metadata": {
    "tags": []
   },
   "outputs": [
    {
     "name": "stdout",
     "output_type": "stream",
     "text": [
      "1681695688.169312\n"
     ]
    },
    {
     "name": "stderr",
     "output_type": "stream",
     "text": [
      "[Stage 38:===================================================>  (116 + 5) / 121]\r"
     ]
    },
    {
     "name": "stdout",
     "output_type": "stream",
     "text": [
      "389553016\n",
      "count time: 186.72757840156555\n"
     ]
    },
    {
     "name": "stderr",
     "output_type": "stream",
     "text": [
      "                                                                                \r"
     ]
    }
   ],
   "source": [
    "#first count onehot\n",
    "start_time = time.time()\n",
    "print(start_time)\n",
    "print(motif_4.count())\n",
    "print(\"count time: \"+ str(time.time() - start_time))"
   ]
  },
  {
   "cell_type": "code",
   "execution_count": 20,
   "id": "22f7913d-93a3-4618-a1fb-c3c0ef76d539",
   "metadata": {
    "tags": []
   },
   "outputs": [],
   "source": [
    "#add mal trace \n",
    "w = Window.partitionBy(\"Trace\")\n",
    "motif_4 = motif_4.withColumn('mal_trace', when(sum('malicious').over(w) > 0, 1).otherwise(0)).cache()"
   ]
  },
  {
   "cell_type": "code",
   "execution_count": 21,
   "id": "15ebf89d-015d-4f02-bec8-77077c9db148",
   "metadata": {
    "tags": []
   },
   "outputs": [
    {
     "name": "stdout",
     "output_type": "stream",
     "text": [
      "1681695875.0214682\n"
     ]
    },
    {
     "name": "stderr",
     "output_type": "stream",
     "text": [
      "[Stage 42:=====================================================>(199 + 1) / 200]\r"
     ]
    },
    {
     "name": "stdout",
     "output_type": "stream",
     "text": [
      "+---------+---------+\n",
      "|mal_trace|    count|\n",
      "+---------+---------+\n",
      "|        1|  1842084|\n",
      "|        0|387710932|\n",
      "+---------+---------+\n",
      "\n",
      "mal_trace count time: 872.9097189903259\n"
     ]
    },
    {
     "name": "stderr",
     "output_type": "stream",
     "text": [
      "                                                                                \r"
     ]
    }
   ],
   "source": [
    "#check days and malicious counts\n",
    "start_time = time.time()\n",
    "print(start_time)\n",
    "motif_4.groupBy(\"mal_trace\").count().show()\n",
    "print(\"mal_trace count time: \"+ str(time.time() - start_time))"
   ]
  },
  {
   "cell_type": "code",
   "execution_count": 22,
   "id": "5e66962a-ea66-4218-9458-726172293a85",
   "metadata": {
    "tags": []
   },
   "outputs": [
    {
     "data": {
      "text/plain": [
       "DataFrame[Trace: string, event: string, src: string, dst: string, timestamp: timestamp, object: string, action: string, hostname: string, user_name: string, privileges: string, image_path: string, parent_image_path: string, new_path: string, file_path: string, direction: string, logon_id: string, requesting_domain: string, requesting_user: string, malicious: int, file_path_ext: string, motif: int, timestamp_bins: double, mal_trace: int]"
      ]
     },
     "execution_count": 22,
     "metadata": {},
     "output_type": "execute_result"
    }
   ],
   "source": [
    "motif_4.unpersist()"
   ]
  },
  {
   "cell_type": "markdown",
   "id": "34d13473-6fcd-47f7-9745-648292ba629f",
   "metadata": {
    "tags": []
   },
   "source": [
    "### now count for motif 5"
   ]
  },
  {
   "cell_type": "code",
   "execution_count": 23,
   "id": "717077e0-8f03-4824-9cbf-c6d7172cfddd",
   "metadata": {
    "tags": []
   },
   "outputs": [
    {
     "name": "stdout",
     "output_type": "stream",
     "text": [
      "1681696747.9445927\n",
      "read time 2: 0.5548651218414307\n"
     ]
    }
   ],
   "source": [
    "#read in motif 5\n",
    "start_time = time.time()\n",
    "print(start_time)\n",
    "motif_5 = spark.read.parquet(f\"{s3_url_trusted}/prod/graph/motifs/filtered/5\").cache()\n",
    "print(\"read time 2: \"+ str(time.time() - start_time))"
   ]
  },
  {
   "cell_type": "code",
   "execution_count": 24,
   "id": "a85ac077-c048-48f4-9b5b-ce9dc14c2c10",
   "metadata": {
    "tags": []
   },
   "outputs": [
    {
     "name": "stdout",
     "output_type": "stream",
     "text": [
      "1681696748.50376\n"
     ]
    },
    {
     "name": "stderr",
     "output_type": "stream",
     "text": [
      "[Stage 47:=====================================================>(106 + 1) / 107]\r"
     ]
    },
    {
     "name": "stdout",
     "output_type": "stream",
     "text": [
      "396210335\n",
      "count time: 178.17052698135376\n"
     ]
    },
    {
     "name": "stderr",
     "output_type": "stream",
     "text": [
      "                                                                                \r"
     ]
    }
   ],
   "source": [
    "#first count onehot\n",
    "start_time = time.time()\n",
    "print(start_time)\n",
    "print(motif_5.count())\n",
    "print(\"count time: \"+ str(time.time() - start_time))"
   ]
  },
  {
   "cell_type": "code",
   "execution_count": 25,
   "id": "55d2a3fd-8c81-4d34-a83e-a1e1a794c086",
   "metadata": {
    "tags": []
   },
   "outputs": [],
   "source": [
    "#add mal trace \n",
    "w = Window.partitionBy(\"Trace\")\n",
    "motif_5 = motif_5.withColumn('mal_trace', when(sum('malicious').over(w) > 0, 1).otherwise(0)).cache()"
   ]
  },
  {
   "cell_type": "code",
   "execution_count": 26,
   "id": "bad47593-61a4-4246-802e-68dcb67a9d56",
   "metadata": {
    "tags": []
   },
   "outputs": [
    {
     "name": "stdout",
     "output_type": "stream",
     "text": [
      "1681696926.7346992\n"
     ]
    },
    {
     "name": "stderr",
     "output_type": "stream",
     "text": [
      "[Stage 51:===================================================>  (192 + 8) / 200]\r"
     ]
    },
    {
     "name": "stdout",
     "output_type": "stream",
     "text": [
      "+---------+---------+\n",
      "|mal_trace|    count|\n",
      "+---------+---------+\n",
      "|        1|  2337245|\n",
      "|        0|393873090|\n",
      "+---------+---------+\n",
      "\n",
      "mal_trace count time: 461.26322078704834\n"
     ]
    },
    {
     "name": "stderr",
     "output_type": "stream",
     "text": [
      "                                                                                \r"
     ]
    }
   ],
   "source": [
    "#check days and malicious counts\n",
    "start_time = time.time()\n",
    "print(start_time)\n",
    "motif_5.groupBy(\"mal_trace\").count().show()\n",
    "print(\"mal_trace count time: \"+ str(time.time() - start_time))"
   ]
  },
  {
   "cell_type": "code",
   "execution_count": 27,
   "id": "cca294c5-3df9-42da-9322-3129646e5124",
   "metadata": {
    "tags": []
   },
   "outputs": [
    {
     "data": {
      "text/plain": [
       "DataFrame[Trace: string, event: string, src: string, dst: string, timestamp: timestamp, object: string, action: string, hostname: string, user_name: string, privileges: string, image_path: string, parent_image_path: string, new_path: string, file_path: string, direction: string, logon_id: string, requesting_domain: string, requesting_user: string, malicious: int, file_path_ext: string, motif: int, timestamp_bins: double, mal_trace: int]"
      ]
     },
     "execution_count": 27,
     "metadata": {},
     "output_type": "execute_result"
    }
   ],
   "source": [
    "motif_5.unpersist()"
   ]
  },
  {
   "cell_type": "markdown",
   "id": "ba9f1d43-ab13-4ef7-8cf9-bfbf9c4d3323",
   "metadata": {
    "tags": []
   },
   "source": [
    "### now count for motif 6"
   ]
  },
  {
   "cell_type": "code",
   "execution_count": 28,
   "id": "4f586ca3-6d54-4a79-b1b3-bda5e6760554",
   "metadata": {
    "tags": []
   },
   "outputs": [
    {
     "name": "stdout",
     "output_type": "stream",
     "text": [
      "1681697388.01042\n",
      "read time 2: 0.7209506034851074\n"
     ]
    }
   ],
   "source": [
    "#read in motif 6\n",
    "start_time = time.time()\n",
    "print(start_time)\n",
    "motif_6 = spark.read.parquet(f\"{s3_url_trusted}/prod/graph/motifs/filtered/6\").cache()\n",
    "print(\"read time 2: \"+ str(time.time() - start_time))"
   ]
  },
  {
   "cell_type": "code",
   "execution_count": 29,
   "id": "93742170-97b6-4d7a-b9e3-6a36d0937bc5",
   "metadata": {
    "tags": []
   },
   "outputs": [
    {
     "name": "stdout",
     "output_type": "stream",
     "text": [
      "1681697388.7356472\n"
     ]
    },
    {
     "name": "stderr",
     "output_type": "stream",
     "text": [
      "[Stage 56:=====================================================>(181 + 2) / 183]\r"
     ]
    },
    {
     "name": "stdout",
     "output_type": "stream",
     "text": [
      "766213434\n",
      "count time: 313.2185640335083\n"
     ]
    },
    {
     "name": "stderr",
     "output_type": "stream",
     "text": [
      "                                                                                \r"
     ]
    }
   ],
   "source": [
    "#first count onehot\n",
    "start_time = time.time()\n",
    "print(start_time)\n",
    "print(motif_6.count())\n",
    "print(\"count time: \"+ str(time.time() - start_time))"
   ]
  },
  {
   "cell_type": "code",
   "execution_count": 30,
   "id": "faa344e9-a5f2-4ded-a92b-cd350d2f975b",
   "metadata": {
    "tags": []
   },
   "outputs": [],
   "source": [
    "#add mal trace \n",
    "w = Window.partitionBy(\"Trace\")\n",
    "motif_6 = motif_6.withColumn('mal_trace', when(sum('malicious').over(w) > 0, 1).otherwise(0)).cache()"
   ]
  },
  {
   "cell_type": "code",
   "execution_count": 31,
   "id": "c172a8ce-64c1-438e-8aef-b8d827fcc309",
   "metadata": {
    "tags": []
   },
   "outputs": [
    {
     "name": "stdout",
     "output_type": "stream",
     "text": [
      "1681697702.013674\n"
     ]
    },
    {
     "name": "stderr",
     "output_type": "stream",
     "text": [
      "[Stage 60:=====================================================>(199 + 1) / 200]\r"
     ]
    },
    {
     "name": "stdout",
     "output_type": "stream",
     "text": [
      "+---------+---------+\n",
      "|mal_trace|    count|\n",
      "+---------+---------+\n",
      "|        1|  3369360|\n",
      "|        0|762844074|\n",
      "+---------+---------+\n",
      "\n",
      "mal_trace count time: 1882.5138199329376\n"
     ]
    },
    {
     "name": "stderr",
     "output_type": "stream",
     "text": [
      "                                                                                \r"
     ]
    }
   ],
   "source": [
    "#check days and malicious counts\n",
    "start_time = time.time()\n",
    "print(start_time)\n",
    "motif_6.groupBy(\"mal_trace\").count().show()\n",
    "print(\"mal_trace count time: \"+ str(time.time() - start_time))"
   ]
  },
  {
   "cell_type": "code",
   "execution_count": 32,
   "id": "a38f7418-7565-409b-b121-dfb4b32a7f26",
   "metadata": {
    "tags": []
   },
   "outputs": [
    {
     "data": {
      "text/plain": [
       "DataFrame[Trace: string, event: string, src: string, dst: string, timestamp: timestamp, object: string, action: string, hostname: string, user_name: string, privileges: string, image_path: string, parent_image_path: string, new_path: string, file_path: string, direction: string, logon_id: string, requesting_domain: string, requesting_user: string, malicious: int, file_path_ext: string, motif: int, timestamp_bins: double, mal_trace: int]"
      ]
     },
     "execution_count": 32,
     "metadata": {},
     "output_type": "execute_result"
    }
   ],
   "source": [
    "motif_6.unpersist()"
   ]
  },
  {
   "cell_type": "markdown",
   "id": "090da340-c67d-4278-b7a6-ce92f48d9e05",
   "metadata": {
    "tags": []
   },
   "source": [
    "### now count for 23Sep trace 6"
   ]
  },
  {
   "cell_type": "code",
   "execution_count": null,
   "id": "ee28396c-8806-4168-ab58-6dedd326851a",
   "metadata": {
    "tags": []
   },
   "outputs": [],
   "source": [
    "#read in motif 6\n",
    "start_time = time.time()\n",
    "print(start_time)\n",
    "day_one = spark.read.parquet(f\"{s3_url_trusted}/prod/graph/motifs/filtered/6\").cache()\n",
    "print(\"read time 2: \"+ str(time.time() - start_time))"
   ]
  },
  {
   "cell_type": "code",
   "execution_count": null,
   "id": "bc730156-9fe9-4ffe-83ac-0dac2c1dee06",
   "metadata": {
    "tags": []
   },
   "outputs": [],
   "source": [
    "#first count onehot\n",
    "start_time = time.time()\n",
    "print(start_time)\n",
    "print(motif_6.count())\n",
    "print(\"count time: \"+ str(time.time() - start_time))"
   ]
  },
  {
   "cell_type": "code",
   "execution_count": null,
   "id": "b27dfd8b-7b20-4d17-b06a-c8310eaa6c13",
   "metadata": {
    "tags": []
   },
   "outputs": [],
   "source": [
    "#add mal trace \n",
    "w = Window.partitionBy(\"Trace\")\n",
    "motif_6 = motif_6.withColumn('mal_trace', when(sum('malicious').over(w) > 0, 1).otherwise(0)).cache()"
   ]
  },
  {
   "cell_type": "code",
   "execution_count": null,
   "id": "cee171f7-ab57-455f-ab1d-df7c1f7d3996",
   "metadata": {
    "tags": []
   },
   "outputs": [],
   "source": [
    "#check days and malicious counts\n",
    "start_time = time.time()\n",
    "print(start_time)\n",
    "motif_6.groupBy(\"mal_trace\").count().show()\n",
    "print(\"mal_trace count time: \"+ str(time.time() - start_time))"
   ]
  },
  {
   "cell_type": "code",
   "execution_count": null,
   "id": "e629b312-e9b9-433e-9a19-0a88bb1c0634",
   "metadata": {
    "tags": []
   },
   "outputs": [],
   "source": [
    "motif_6.unpersist()"
   ]
  }
 ],
 "metadata": {
  "kernelspec": {
   "display_name": "conda_python3",
   "language": "python",
   "name": "conda_python3"
  },
  "language_info": {
   "codemirror_mode": {
    "name": "ipython",
    "version": 3
   },
   "file_extension": ".py",
   "mimetype": "text/x-python",
   "name": "python",
   "nbconvert_exporter": "python",
   "pygments_lexer": "ipython3",
   "version": "3.10.8"
  }
 },
 "nbformat": 4,
 "nbformat_minor": 5
}
