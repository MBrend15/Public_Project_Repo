{
 "cells": [
  {
   "cell_type": "code",
   "execution_count": 1,
   "id": "509d01c3-ad52-45ec-8c7b-865fccc42229",
   "metadata": {
    "tags": []
   },
   "outputs": [
    {
     "name": "stderr",
     "output_type": "stream",
     "text": [
      "Warning: Ignoring non-Spark config property: fs.s3a.access.key\n",
      "Warning: Ignoring non-Spark config property: fs.s3a.secret.key\n"
     ]
    },
    {
     "name": "stdout",
     "output_type": "stream",
     "text": [
      ":: loading settings :: url = jar:file:/home/ec2-user/anaconda3/envs/python3/lib/python3.10/site-packages/pyspark/jars/ivy-2.5.0.jar!/org/apache/ivy/core/settings/ivysettings.xml\n"
     ]
    },
    {
     "name": "stderr",
     "output_type": "stream",
     "text": [
      "Ivy Default Cache set to: /home/ec2-user/.ivy2/cache\n",
      "The jars for the packages stored in: /home/ec2-user/.ivy2/jars\n",
      "graphframes#graphframes added as a dependency\n",
      ":: resolving dependencies :: org.apache.spark#spark-submit-parent-373eac13-4641-43e1-bb7f-6dfaaf91c5d7;1.0\n",
      "\tconfs: [default]\n",
      "\tfound graphframes#graphframes;0.8.2-spark3.2-s_2.12 in spark-packages\n",
      "\tfound org.slf4j#slf4j-api;1.7.16 in central\n",
      "downloading https://repos.spark-packages.org/graphframes/graphframes/0.8.2-spark3.2-s_2.12/graphframes-0.8.2-spark3.2-s_2.12.jar ...\n",
      "\t[SUCCESSFUL ] graphframes#graphframes;0.8.2-spark3.2-s_2.12!graphframes.jar (44ms)\n",
      "downloading https://repo1.maven.org/maven2/org/slf4j/slf4j-api/1.7.16/slf4j-api-1.7.16.jar ...\n",
      "\t[SUCCESSFUL ] org.slf4j#slf4j-api;1.7.16!slf4j-api.jar (30ms)\n",
      ":: resolution report :: resolve 628ms :: artifacts dl 77ms\n",
      "\t:: modules in use:\n",
      "\tgraphframes#graphframes;0.8.2-spark3.2-s_2.12 from spark-packages in [default]\n",
      "\torg.slf4j#slf4j-api;1.7.16 from central in [default]\n",
      "\t---------------------------------------------------------------------\n",
      "\t|                  |            modules            ||   artifacts   |\n",
      "\t|       conf       | number| search|dwnlded|evicted|| number|dwnlded|\n",
      "\t---------------------------------------------------------------------\n",
      "\t|      default     |   2   |   2   |   2   |   0   ||   2   |   2   |\n",
      "\t---------------------------------------------------------------------\n",
      ":: retrieving :: org.apache.spark#spark-submit-parent-373eac13-4641-43e1-bb7f-6dfaaf91c5d7\n",
      "\tconfs: [default]\n",
      "\t2 artifacts copied, 0 already retrieved (281kB/5ms)\n"
     ]
    },
    {
     "name": "stdout",
     "output_type": "stream",
     "text": [
      "23/03/24 02:41:39 WARN NativeCodeLoader: Unable to load native-hadoop library for your platform... using builtin-java classes where applicable\n"
     ]
    },
    {
     "name": "stderr",
     "output_type": "stream",
     "text": [
      "Setting default log level to \"WARN\".\n",
      "To adjust logging level use sc.setLogLevel(newLevel). For SparkR, use setLogLevel(newLevel).\n"
     ]
    },
    {
     "name": "stdout",
     "output_type": "stream",
     "text": [
      "23/03/24 02:41:39 WARN SparkConf: Note that spark.local.dir will be overridden by the value set by the cluster manager (via SPARK_LOCAL_DIRS in mesos/standalone/kubernetes and LOCAL_DIRS in YARN).\n"
     ]
    }
   ],
   "source": [
    "%run ./read_file.ipynb"
   ]
  },
  {
   "cell_type": "code",
   "execution_count": 2,
   "id": "a42f0df4-2e40-4ba1-b377-67488d80a85f",
   "metadata": {
    "tags": []
   },
   "outputs": [
    {
     "name": "stdout",
     "output_type": "stream",
     "text": [
      "Note: you may need to restart the kernel to use updated packages.\n",
      "\u001b[31mERROR: pip's dependency resolver does not currently take into account all the packages that are installed. This behaviour is the source of the following dependency conflicts.\n",
      "pathos 0.3.0 requires dill>=0.3.6, but you have dill 0.3.1.1 which is incompatible.\n",
      "multiprocess 0.70.14 requires dill>=0.3.6, but you have dill 0.3.1.1 which is incompatible.\u001b[0m\u001b[31m\n",
      "\u001b[0mNote: you may need to restart the kernel to use updated packages.\n",
      "Note: you may need to restart the kernel to use updated packages.\n"
     ]
    }
   ],
   "source": [
    "%pip install tensorflow --quiet\n",
    "%pip install tensorflow_gnn --quiet\n",
    "%pip install tensorflow_io --quiet"
   ]
  },
  {
   "cell_type": "code",
   "execution_count": 3,
   "id": "dc3aecd8-3df6-4dfd-b6ac-bf81e2ede490",
   "metadata": {
    "tags": []
   },
   "outputs": [
    {
     "name": "stderr",
     "output_type": "stream",
     "text": [
      "2023-03-24 02:42:19.197182: I tensorflow/core/platform/cpu_feature_guard.cc:182] This TensorFlow binary is optimized to use available CPU instructions in performance-critical operations.\n",
      "To enable the following instructions: AVX2 FMA, in other operations, rebuild TensorFlow with the appropriate compiler flags.\n",
      "2023-03-24 02:42:19.873681: W tensorflow/compiler/tf2tensorrt/utils/py_utils.cc:38] TF-TRT Warning: Could not find TensorRT\n",
      "/home/ec2-user/anaconda3/envs/python3/lib/python3.10/site-packages/tensorflow_io/python/ops/__init__.py:98: UserWarning: unable to load libtensorflow_io_plugins.so: unable to open file: libtensorflow_io_plugins.so, from paths: ['/home/ec2-user/anaconda3/envs/python3/lib/python3.10/site-packages/tensorflow_io/python/ops/libtensorflow_io_plugins.so']\n",
      "caused by: ['/home/ec2-user/anaconda3/envs/python3/lib/python3.10/site-packages/tensorflow_io/python/ops/libtensorflow_io_plugins.so: undefined symbol: _ZN3tsl6StatusC1EN10tensorflow5error4CodeESt17basic_string_viewIcSt11char_traitsIcEENS_14SourceLocationE']\n",
      "  warnings.warn(f\"unable to load libtensorflow_io_plugins.so: {e}\")\n",
      "/home/ec2-user/anaconda3/envs/python3/lib/python3.10/site-packages/tensorflow_io/python/ops/__init__.py:104: UserWarning: file system plugins are not loaded: unable to open file: libtensorflow_io.so, from paths: ['/home/ec2-user/anaconda3/envs/python3/lib/python3.10/site-packages/tensorflow_io/python/ops/libtensorflow_io.so']\n",
      "caused by: ['/home/ec2-user/anaconda3/envs/python3/lib/python3.10/site-packages/tensorflow_io/python/ops/libtensorflow_io.so: undefined symbol: _ZTVN10tensorflow13GcsFileSystemE']\n",
      "  warnings.warn(f\"file system plugins are not loaded: {e}\")\n"
     ]
    }
   ],
   "source": [
    "import boto3\n",
    "import numpy as np\n",
    "import tensorflow as tf\n",
    "import tensorflow_io as tfio\n",
    "from tensorflow import keras\n",
    "import tensorflow_gnn as tfgnn\n",
    "from tensorflow_gnn import runner\n",
    "from tensorflow.keras import layers\n",
    "import matplotlib.pyplot as plt\n",
    "from sklearn.preprocessing import LabelBinarizer\n",
    "from sklearn.preprocessing import LabelEncoder\n",
    "from sklearn.preprocessing import MultiLabelBinarizer"
   ]
  },
  {
   "cell_type": "code",
   "execution_count": 4,
   "id": "b09761f9-cb24-4097-860a-251fc341aabb",
   "metadata": {
    "tags": []
   },
   "outputs": [],
   "source": [
    "def getFirstEventFiles():\n",
    "    s3 = boto3.client('s3')\n",
    "    response = s3.list_objects_v2(\n",
    "        Bucket = 'sapient-bucket-trusted',\n",
    "        Prefix = f'prod/graph/first_events')\n",
    "    all_files = []\n",
    "    for content in response.get('Contents', []):\n",
    "        all_files.append(content['Key'])\n",
    "        # print(content['Key'])\n",
    "    files = [f\"s3://sapient-bucket-trusted/\" + f for f in all_files if 'parquet' in f]\n",
    "\n",
    "    return files"
   ]
  },
  {
   "cell_type": "code",
   "execution_count": 5,
   "id": "dffc173e-bdcf-4fc1-8c58-6b1404ddcdcc",
   "metadata": {
    "tags": []
   },
   "outputs": [],
   "source": [
    "# https://towardsdatascience.com/how-to-split-a-tensorflow-dataset-into-train-validation-and-test-sets-526c8dd29438\n",
    "def get_dataset_partitions_tf(ds, ds_size, train_split=0.8, test_split=0.1, val_split=0.1, shuffle=True, shuffle_size=10000):\n",
    "    assert (train_split + test_split + val_split) == 1\n",
    "    \n",
    "    if shuffle:\n",
    "        # Specify seed to always have the same split distribution between runs\n",
    "        ds = ds.shuffle(shuffle_size, seed=12)\n",
    "    \n",
    "    train_size = int(train_split * ds_size)\n",
    "    val_size = int(val_split * ds_size)\n",
    "    \n",
    "    train_ds = ds.take(train_size)    \n",
    "    val_ds = ds.skip(train_size).take(val_size)\n",
    "    test_ds = ds.skip(train_size).skip(val_size)\n",
    "    \n",
    "    return train_ds, val_ds, test_ds"
   ]
  },
  {
   "cell_type": "code",
   "execution_count": null,
   "id": "d01a8ba1-5219-492b-9fa3-c583484353fc",
   "metadata": {
    "tags": []
   },
   "outputs": [],
   "source": []
  },
  {
   "cell_type": "code",
   "execution_count": 6,
   "id": "c339aa6f-e25d-453b-8d68-67928bd82e69",
   "metadata": {
    "tags": []
   },
   "outputs": [],
   "source": [
    "# c_col = len(df.columns)"
   ]
  },
  {
   "cell_type": "code",
   "execution_count": null,
   "id": "be526c43-eda2-4080-9b63-3970730b8998",
   "metadata": {},
   "outputs": [],
   "source": []
  },
  {
   "cell_type": "code",
   "execution_count": 7,
   "id": "c7fecd91-1b0b-4296-a3f8-98fb7085cee5",
   "metadata": {
    "tags": []
   },
   "outputs": [],
   "source": [
    "# import pyarrow.parquet as pq\n",
    "# import s3fs\n",
    "# s3 = s3fs.S3FileSystem()"
   ]
  },
  {
   "cell_type": "code",
   "execution_count": 8,
   "id": "6ab7121b-8fe1-4ec8-9403-1d6818fd3426",
   "metadata": {
    "tags": []
   },
   "outputs": [],
   "source": [
    "# pandas_dataframe = pq.ParquetDataset('s3://sapient-bucket-trusted/prod/graph/first_events', filesystem=s3).read_pandas().to_pandas()"
   ]
  },
  {
   "cell_type": "code",
   "execution_count": null,
   "id": "33a5a7fd-3bae-4f76-8b7a-4af72b2996d6",
   "metadata": {},
   "outputs": [],
   "source": []
  },
  {
   "cell_type": "code",
   "execution_count": 9,
   "id": "de091740-cc2d-475e-905f-919bbfe816d0",
   "metadata": {
    "tags": []
   },
   "outputs": [],
   "source": [
    "# TENSORFLOW CONFIGURATION\n",
    "TRAIN_SIZE = 640\n",
    "SHUFFLE_BUFFER = 500\n",
    "BATCH_SIZE = 32\n",
    "AUTO = tf.data.experimental.AUTOTUNE\n",
    "tf.config.threading.set_inter_op_parallelism_threads(16)\n",
    "pd.set_option('display.max_columns', None)"
   ]
  },
  {
   "cell_type": "code",
   "execution_count": 10,
   "id": "f1142c6b-5a01-4896-adc0-d5b95aa897d5",
   "metadata": {
    "tags": []
   },
   "outputs": [],
   "source": [
    "nonnull_ecar_cols = [\n",
    "    'id', 'objectID','actorID','object','action','hostname', 'image_path', \n",
    "    'parent_image_path', 'new_path', 'file_path', 'malicious'\n",
    "            ]"
   ]
  },
  {
   "cell_type": "code",
   "execution_count": 11,
   "id": "6e2e3a69-ada6-49f7-b9f5-576eae3e63d0",
   "metadata": {
    "tags": []
   },
   "outputs": [],
   "source": [
    "lb = LabelBinarizer()\n",
    "mlb = MultiLabelBinarizer(sparse_output=True)"
   ]
  },
  {
   "cell_type": "code",
   "execution_count": 12,
   "id": "50ce2eb1-ac9e-48d6-bb27-174a4d3ff6fc",
   "metadata": {
    "tags": []
   },
   "outputs": [
    {
     "name": "stderr",
     "output_type": "stream",
     "text": [
      "                                                                                \r"
     ]
    },
    {
     "name": "stdout",
     "output_type": "stream",
     "text": [
      " 2:42AM UTC on Mar 24, 2023 --- read time: 4.292840242385864 seconds ---\n"
     ]
    },
    {
     "name": "stderr",
     "output_type": "stream",
     "text": [
      "[Stage 1:===================================>                     (10 + 6) / 16]\r"
     ]
    },
    {
     "name": "stdout",
     "output_type": "stream",
     "text": [
      "+---------+-------+\n",
      "|malicious|  count|\n",
      "+---------+-------+\n",
      "|   benign|4587096|\n",
      "|malicious|   8596|\n",
      "+---------+-------+\n",
      "\n"
     ]
    },
    {
     "name": "stderr",
     "output_type": "stream",
     "text": [
      "                                                                                \r"
     ]
    }
   ],
   "source": [
    "readFirstEvents().withColumn(\"malicious\", when(col('malicious') == 1, \"malicious\")\n",
    "                                            .otherwise(\"benign\")) \\\n",
    "                .groupBy(\"malicious\").count().show()"
   ]
  },
  {
   "cell_type": "code",
   "execution_count": 13,
   "id": "c8e3cd8b-5c86-4ddd-bc99-d1177cb2fd77",
   "metadata": {
    "tags": []
   },
   "outputs": [
    {
     "name": "stdout",
     "output_type": "stream",
     "text": [
      " 2:42AM UTC on Mar 24, 2023 --- read time: 0.241257905960083 seconds ---\n"
     ]
    },
    {
     "name": "stderr",
     "output_type": "stream",
     "text": [
      "                                                                                \r"
     ]
    }
   ],
   "source": [
    "df = readFirstEvents().select(*nonnull_ecar_cols).cache() \\\n",
    "                    .withColumn(\"malicious\", when(col('malicious') == 1, \"malicious\")\n",
    "                                            .otherwise(\"benign\")) \\\n",
    "                    .withColumn('order', row_number().over(Window.partitionBy(lit('1')).orderBy(lit('1')))) \\\n",
    "                    .withColumn('actorUID', dense_rank().over(Window.partitionBy().orderBy('actorID'))-1).orderBy('order') \\\n",
    "                    .withColumn('objectUID', dense_rank().over(Window.partitionBy().orderBy('objectID'))-1).orderBy('order') \\\n",
    "                    .withColumn('UID', dense_rank().over(Window.partitionBy().orderBy('id'))-1).orderBy('order') \\\n",
    "                    .drop('order') \\\n",
    "                    .toPandas()"
   ]
  },
  {
   "cell_type": "code",
   "execution_count": 14,
   "id": "940f2d0f-3a87-4eed-a680-64fc58564399",
   "metadata": {
    "tags": []
   },
   "outputs": [],
   "source": [
    "# df.isna().sum()"
   ]
  },
  {
   "cell_type": "code",
   "execution_count": 15,
   "id": "293751ff-22df-40bc-9634-5017541a28a0",
   "metadata": {
    "tags": []
   },
   "outputs": [],
   "source": [
    "# df = df.fillna('unknown')"
   ]
  },
  {
   "cell_type": "code",
   "execution_count": 16,
   "id": "d23fb1a1-0f36-47a4-80c8-dda3dc79118c",
   "metadata": {
    "tags": []
   },
   "outputs": [],
   "source": [
    "df = df.fillna(0)"
   ]
  },
  {
   "cell_type": "code",
   "execution_count": 17,
   "id": "0ab300c7-84fe-4663-a560-1cd4a0e2ae31",
   "metadata": {
    "tags": []
   },
   "outputs": [
    {
     "data": {
      "text/plain": [
       "Index(['id', 'objectID', 'actorID', 'object', 'action', 'hostname',\n",
       "       'image_path', 'parent_image_path', 'new_path', 'file_path', 'malicious',\n",
       "       'actorUID', 'objectUID', 'UID'],\n",
       "      dtype='object')"
      ]
     },
     "execution_count": 17,
     "metadata": {},
     "output_type": "execute_result"
    }
   ],
   "source": [
    "df.columns"
   ]
  },
  {
   "cell_type": "code",
   "execution_count": 18,
   "id": "ec25dd52-2517-4782-b4c7-bd0982825040",
   "metadata": {
    "tags": []
   },
   "outputs": [
    {
     "data": {
      "text/html": [
       "<div>\n",
       "<style scoped>\n",
       "    .dataframe tbody tr th:only-of-type {\n",
       "        vertical-align: middle;\n",
       "    }\n",
       "\n",
       "    .dataframe tbody tr th {\n",
       "        vertical-align: top;\n",
       "    }\n",
       "\n",
       "    .dataframe thead th {\n",
       "        text-align: right;\n",
       "    }\n",
       "</style>\n",
       "<table border=\"1\" class=\"dataframe\">\n",
       "  <thead>\n",
       "    <tr style=\"text-align: right;\">\n",
       "      <th></th>\n",
       "      <th>actorUID</th>\n",
       "      <th>objectUID</th>\n",
       "      <th>UID</th>\n",
       "    </tr>\n",
       "  </thead>\n",
       "  <tbody>\n",
       "    <tr>\n",
       "      <th>0</th>\n",
       "      <td>0</td>\n",
       "      <td>1494892</td>\n",
       "      <td>1641234</td>\n",
       "    </tr>\n",
       "    <tr>\n",
       "      <th>1</th>\n",
       "      <td>1</td>\n",
       "      <td>314298</td>\n",
       "      <td>1842141</td>\n",
       "    </tr>\n",
       "    <tr>\n",
       "      <th>2</th>\n",
       "      <td>1</td>\n",
       "      <td>473607</td>\n",
       "      <td>3502615</td>\n",
       "    </tr>\n",
       "    <tr>\n",
       "      <th>3</th>\n",
       "      <td>1</td>\n",
       "      <td>564548</td>\n",
       "      <td>1574180</td>\n",
       "    </tr>\n",
       "    <tr>\n",
       "      <th>4</th>\n",
       "      <td>1</td>\n",
       "      <td>1610008</td>\n",
       "      <td>1734479</td>\n",
       "    </tr>\n",
       "  </tbody>\n",
       "</table>\n",
       "</div>"
      ],
      "text/plain": [
       "   actorUID  objectUID      UID\n",
       "0         0    1494892  1641234\n",
       "1         1     314298  1842141\n",
       "2         1     473607  3502615\n",
       "3         1     564548  1574180\n",
       "4         1    1610008  1734479"
      ]
     },
     "execution_count": 18,
     "metadata": {},
     "output_type": "execute_result"
    }
   ],
   "source": [
    "# check number representation worked\n",
    "df[['actorUID','objectUID', 'UID']].head()"
   ]
  },
  {
   "cell_type": "code",
   "execution_count": null,
   "id": "9767a442-ef70-4bb7-8163-7b804c720a41",
   "metadata": {},
   "outputs": [],
   "source": []
  },
  {
   "cell_type": "code",
   "execution_count": null,
   "id": "826c1c0b-3163-46dd-aaba-59937f8f9db0",
   "metadata": {},
   "outputs": [],
   "source": []
  },
  {
   "cell_type": "code",
   "execution_count": 19,
   "id": "1b41311e-3d5f-4aff-8689-3d37b3209dad",
   "metadata": {
    "tags": []
   },
   "outputs": [],
   "source": [
    "num_nodes = len(set(df['actorUID']).union(set(df['objectUID'])))"
   ]
  },
  {
   "cell_type": "code",
   "execution_count": 20,
   "id": "21df8513-5f70-4c16-8f65-12eebe2173dd",
   "metadata": {
    "tags": []
   },
   "outputs": [],
   "source": [
    "num_edges = len(set(df['UID']))"
   ]
  },
  {
   "cell_type": "code",
   "execution_count": 21,
   "id": "b8941c9d-8ec2-4cbb-ae2d-dce4f7703883",
   "metadata": {
    "tags": []
   },
   "outputs": [],
   "source": [
    "num_node_features = len(set(df['parent_image_path']))"
   ]
  },
  {
   "cell_type": "code",
   "execution_count": 22,
   "id": "366e16ba-0230-46a6-a293-0e7a53a19c5d",
   "metadata": {
    "tags": []
   },
   "outputs": [],
   "source": [
    "# num_edge_features = len( set(df['base_address']).union(set(df['file_path'])).union(set(df['image_path'])) )\n",
    "num_edge_features = len(set(df['UID']))"
   ]
  },
  {
   "cell_type": "code",
   "execution_count": 23,
   "id": "8327c5b2-b9fc-4816-8b34-ca48a5a54f16",
   "metadata": {
    "tags": []
   },
   "outputs": [],
   "source": [
    "node_feature_shape = (num_nodes, num_node_features)\n",
    "edge_feature_shape = (num_edges, num_edge_features)"
   ]
  },
  {
   "cell_type": "code",
   "execution_count": null,
   "id": "821b8a03-fd1f-4605-b3cf-95f439ddcda5",
   "metadata": {},
   "outputs": [],
   "source": []
  },
  {
   "cell_type": "code",
   "execution_count": 24,
   "id": "7c267493-3521-4ea4-bb12-45bc8e5dbb8c",
   "metadata": {
    "tags": []
   },
   "outputs": [],
   "source": [
    "# Create a dictionary to store the node and edge features\n",
    "node_features = {}\n",
    "for row in df.itertuples():\n",
    "    source_node = row.actorID\n",
    "    target_node = row.objectID\n",
    "    source_node_features = row.UID\n",
    "    target_node_features = row.objectID\n",
    "    \n",
    "    # Add node features for source node\n",
    "    if source_node not in node_features:\n",
    "        node_features[source_node] = source_node_features\n",
    "    \n",
    "    # Add node features for target node\n",
    "    if target_node not in node_features:\n",
    "        node_features[target_node] = target_node_features"
   ]
  },
  {
   "cell_type": "code",
   "execution_count": 25,
   "id": "7152753b-3bc9-4b22-8ffe-385302d8289b",
   "metadata": {
    "tags": []
   },
   "outputs": [],
   "source": [
    "edges = []\n",
    "for row in df.itertuples():\n",
    "    source_node = row.actorID\n",
    "    target_node = row.objectID\n",
    "    edge_features = row.UID\n",
    "    \n",
    "    edges.append((source_node, target_node, edge_features))"
   ]
  },
  {
   "cell_type": "code",
   "execution_count": null,
   "id": "819b957e-05fe-41f6-b9be-2823531d526e",
   "metadata": {},
   "outputs": [],
   "source": []
  },
  {
   "cell_type": "code",
   "execution_count": 26,
   "id": "2e91c751-55ea-4a11-b480-c8d5f89d59aa",
   "metadata": {
    "tags": []
   },
   "outputs": [
    {
     "name": "stderr",
     "output_type": "stream",
     "text": [
      "2023-03-24 02:44:46.366025: I tensorflow/compiler/xla/stream_executor/cuda/cuda_gpu_executor.cc:996] successful NUMA node read from SysFS had negative value (-1), but there must be at least one NUMA node, so returning NUMA node zero. See more at https://github.com/torvalds/linux/blob/v6.0/Documentation/ABI/testing/sysfs-bus-pci#L344-L355\n",
      "2023-03-24 02:44:46.371205: I tensorflow/compiler/xla/stream_executor/cuda/cuda_gpu_executor.cc:996] successful NUMA node read from SysFS had negative value (-1), but there must be at least one NUMA node, so returning NUMA node zero. See more at https://github.com/torvalds/linux/blob/v6.0/Documentation/ABI/testing/sysfs-bus-pci#L344-L355\n",
      "2023-03-24 02:44:46.371842: I tensorflow/compiler/xla/stream_executor/cuda/cuda_gpu_executor.cc:996] successful NUMA node read from SysFS had negative value (-1), but there must be at least one NUMA node, so returning NUMA node zero. See more at https://github.com/torvalds/linux/blob/v6.0/Documentation/ABI/testing/sysfs-bus-pci#L344-L355\n",
      "2023-03-24 02:44:46.373693: I tensorflow/compiler/xla/stream_executor/cuda/cuda_gpu_executor.cc:996] successful NUMA node read from SysFS had negative value (-1), but there must be at least one NUMA node, so returning NUMA node zero. See more at https://github.com/torvalds/linux/blob/v6.0/Documentation/ABI/testing/sysfs-bus-pci#L344-L355\n",
      "2023-03-24 02:44:46.374306: I tensorflow/compiler/xla/stream_executor/cuda/cuda_gpu_executor.cc:996] successful NUMA node read from SysFS had negative value (-1), but there must be at least one NUMA node, so returning NUMA node zero. See more at https://github.com/torvalds/linux/blob/v6.0/Documentation/ABI/testing/sysfs-bus-pci#L344-L355\n",
      "2023-03-24 02:44:46.374895: I tensorflow/compiler/xla/stream_executor/cuda/cuda_gpu_executor.cc:996] successful NUMA node read from SysFS had negative value (-1), but there must be at least one NUMA node, so returning NUMA node zero. See more at https://github.com/torvalds/linux/blob/v6.0/Documentation/ABI/testing/sysfs-bus-pci#L344-L355\n",
      "2023-03-24 02:44:46.871510: I tensorflow/compiler/xla/stream_executor/cuda/cuda_gpu_executor.cc:996] successful NUMA node read from SysFS had negative value (-1), but there must be at least one NUMA node, so returning NUMA node zero. See more at https://github.com/torvalds/linux/blob/v6.0/Documentation/ABI/testing/sysfs-bus-pci#L344-L355\n",
      "2023-03-24 02:44:46.872342: I tensorflow/compiler/xla/stream_executor/cuda/cuda_gpu_executor.cc:996] successful NUMA node read from SysFS had negative value (-1), but there must be at least one NUMA node, so returning NUMA node zero. See more at https://github.com/torvalds/linux/blob/v6.0/Documentation/ABI/testing/sysfs-bus-pci#L344-L355\n",
      "2023-03-24 02:44:46.872969: I tensorflow/compiler/xla/stream_executor/cuda/cuda_gpu_executor.cc:996] successful NUMA node read from SysFS had negative value (-1), but there must be at least one NUMA node, so returning NUMA node zero. See more at https://github.com/torvalds/linux/blob/v6.0/Documentation/ABI/testing/sysfs-bus-pci#L344-L355\n",
      "2023-03-24 02:44:46.873536: I tensorflow/core/common_runtime/gpu/gpu_device.cc:1635] Created device /job:localhost/replica:0/task:0/device:GPU:0 with 19825 MB memory:  -> device: 0, name: NVIDIA A10G, pci bus id: 0000:00:1e.0, compute capability: 8.6\n"
     ]
    }
   ],
   "source": [
    "graph_tensor = tfgnn.GraphTensor.from_pieces(\n",
    "    node_sets = {\n",
    "        \"actorUID\": tfgnn.NodeSet.from_fields(\n",
    "            sizes = [len(df)],\n",
    "            features ={\n",
    "                'parent_image_path': np.array(df['parent_image_path'],\n",
    "                                dtype='str').reshape(len(df),1)\n",
    "            }),\n",
    "        \"objectID\": tfgnn.NodeSet.from_fields(\n",
    "            sizes = [len(df)],\n",
    "            features ={\n",
    "                'file_path': np.array(df['file_path'],\n",
    "                                   dtype='str').reshape(len(df),1),\n",
    "                'image_path': np.array(df['image_path'],\n",
    "                                   dtype='str').reshape(len(df),1),\n",
    "            })\n",
    "    },\n",
    "    edge_sets ={\n",
    "        \"id\": tfgnn.EdgeSet.from_fields(\n",
    "            sizes = [len(df)],\n",
    "            features = {\n",
    "                'id': np.array(df['UID'],\n",
    "                                  dtype='str').reshape(len(df),1)},\n",
    "            adjacency = tfgnn.Adjacency.from_indices(\n",
    "                source = (\"actorUID\", np.array(df['actorUID'], dtype='int32')),\n",
    "                target = (\"objectUID\", np.array(df['objectUID'], dtype='int32')))),\n",
    "})"
   ]
  },
  {
   "cell_type": "code",
   "execution_count": 27,
   "id": "b27b84e5-6e34-4029-ac8b-642f7dcb4d0a",
   "metadata": {
    "tags": []
   },
   "outputs": [
    {
     "data": {
      "text/plain": [
       "GraphTensor(\n",
       "  context=Context(features={}, sizes=[1], shape=(), indices_dtype=tf.int32),\n",
       "  node_set_names=['actorUID', 'objectID'],\n",
       "  edge_set_names=['id'])"
      ]
     },
     "execution_count": 27,
     "metadata": {},
     "output_type": "execute_result"
    }
   ],
   "source": [
    "graph_tensor"
   ]
  },
  {
   "cell_type": "code",
   "execution_count": null,
   "id": "e54cd8dd-916f-489f-88fb-215df9bdff5f",
   "metadata": {
    "tags": []
   },
   "outputs": [],
   "source": []
  },
  {
   "cell_type": "code",
   "execution_count": null,
   "id": "00bbd9cf-a3d8-47bb-a2be-12f2f5e322f7",
   "metadata": {},
   "outputs": [],
   "source": []
  },
  {
   "cell_type": "code",
   "execution_count": 28,
   "id": "7117fcde-59d4-4e26-b53e-e8b7262f09a2",
   "metadata": {
    "tags": []
   },
   "outputs": [
    {
     "name": "stdout",
     "output_type": "stream",
     "text": [
      " 2:44AM UTC on Mar 24, 2023 --- read time: 0.283799409866333 seconds ---\n"
     ]
    },
    {
     "name": "stderr",
     "output_type": "stream",
     "text": [
      "/home/ec2-user/anaconda3/envs/python3/lib/python3.10/site-packages/pyspark/sql/pandas/conversion.py:248: FutureWarning: Passing unit-less datetime64 dtype to .astype is deprecated and will raise in a future version. Pass 'datetime64[ns]' instead\n",
      "  series = series.astype(t, copy=False)\n"
     ]
    }
   ],
   "source": [
    "df = readFirstEvents().withColumn(\"malicious\", when(col('malicious') == 1, \"malicious\")\n",
    "                                            .otherwise(\"benign\")) \\\n",
    "                    .withColumn('order', row_number().over(Window.partitionBy(lit('1')).orderBy(lit('1')))) \\\n",
    "                    .withColumn('actorUID', dense_rank().over(Window.partitionBy().orderBy('actorID'))-1).orderBy('order') \\\n",
    "                    .withColumn('objectUID', dense_rank().over(Window.partitionBy().orderBy('objectID'))-1).orderBy('order') \\\n",
    "                    .drop('order') \\\n",
    "                    .toPandas()"
   ]
  },
  {
   "cell_type": "code",
   "execution_count": 29,
   "id": "7262db81-69a6-44be-9eac-6a142bde5097",
   "metadata": {
    "tags": []
   },
   "outputs": [
    {
     "data": {
      "text/plain": [
       "id                   4595692\n",
       "timestamp            4595692\n",
       "objectID             4595692\n",
       "actorID              4595692\n",
       "object               4595692\n",
       "action               4595692\n",
       "hostname             4595692\n",
       "user_name                  0\n",
       "privileges                 0\n",
       "image_path           4255823\n",
       "parent_image_path    1440450\n",
       "new_path               22696\n",
       "file_path            2806788\n",
       "direction                  0\n",
       "logon_id                   0\n",
       "requesting_domain          0\n",
       "requesting_user            0\n",
       "event_minute         4595692\n",
       "event_day            4595692\n",
       "event_hour           4595692\n",
       "malicious            4595692\n",
       "relationship         4595692\n",
       "actorUID             4595692\n",
       "objectUID            4595692\n",
       "dtype: int64"
      ]
     },
     "execution_count": 29,
     "metadata": {},
     "output_type": "execute_result"
    }
   ],
   "source": [
    "df.count()"
   ]
  },
  {
   "cell_type": "code",
   "execution_count": 30,
   "id": "f8fc84e9-e713-44f9-89f9-ea4e50170c10",
   "metadata": {
    "tags": []
   },
   "outputs": [
    {
     "data": {
      "text/plain": [
       "id                         0\n",
       "timestamp                  0\n",
       "objectID                   0\n",
       "actorID                    0\n",
       "object                     0\n",
       "action                     0\n",
       "hostname                   0\n",
       "user_name            4595692\n",
       "privileges           4595692\n",
       "image_path            339869\n",
       "parent_image_path    3155242\n",
       "new_path             4572996\n",
       "file_path            1788904\n",
       "direction            4595692\n",
       "logon_id             4595692\n",
       "requesting_domain    4595692\n",
       "requesting_user      4595692\n",
       "event_minute               0\n",
       "event_day                  0\n",
       "event_hour                 0\n",
       "malicious                  0\n",
       "relationship               0\n",
       "actorUID                   0\n",
       "objectUID                  0\n",
       "dtype: int64"
      ]
     },
     "execution_count": 30,
     "metadata": {},
     "output_type": "execute_result"
    }
   ],
   "source": [
    "df.isna().sum()"
   ]
  },
  {
   "cell_type": "code",
   "execution_count": 31,
   "id": "3a3edead-a346-4512-ac9a-43bb105e10ac",
   "metadata": {
    "tags": []
   },
   "outputs": [],
   "source": [
    "df = df.fillna(0)"
   ]
  },
  {
   "cell_type": "code",
   "execution_count": null,
   "id": "77f3050b-dd42-4b1f-8402-c86f6dc807d6",
   "metadata": {
    "tags": []
   },
   "outputs": [],
   "source": []
  },
  {
   "cell_type": "code",
   "execution_count": 32,
   "id": "aeabbd6e-917f-4d15-a7b3-79e36df76794",
   "metadata": {
    "tags": []
   },
   "outputs": [],
   "source": [
    "# Extract the source and destination indices\n",
    "src_idx = df['actorUID'].tolist()\n",
    "dst_idx = df['objectUID'].tolist()"
   ]
  },
  {
   "cell_type": "code",
   "execution_count": 33,
   "id": "8e99fae4-a53a-4774-8afa-618ff1e51cb4",
   "metadata": {
    "tags": []
   },
   "outputs": [],
   "source": [
    "# Extract the node features\n",
    "node_features = df[['parent_image_path', 'file_path']].values"
   ]
  },
  {
   "cell_type": "code",
   "execution_count": 34,
   "id": "c087e541-acac-4291-ae23-bef99fe56acc",
   "metadata": {
    "tags": []
   },
   "outputs": [],
   "source": [
    "# Extract the edge features\n",
    "edge_features = df[['id']].values"
   ]
  },
  {
   "cell_type": "code",
   "execution_count": 35,
   "id": "634148aa-d648-4887-98d4-d55bd6af0b46",
   "metadata": {
    "tags": []
   },
   "outputs": [],
   "source": [
    "# Create the sparse adjacency matrix\n",
    "num_nodes = len(set(src_idx + dst_idx))\n",
    "indices = list(zip(src_idx, dst_idx))\n",
    "values = [1] * len(indices)\n",
    "adj_matrix = tf.sparse.SparseTensor(\n",
    "    indices=indices,\n",
    "    values=values,\n",
    "    dense_shape=[num_nodes, num_nodes]\n",
    ")"
   ]
  },
  {
   "cell_type": "code",
   "execution_count": 36,
   "id": "561061a8-cb9c-4f70-a5d3-e61d66cfc334",
   "metadata": {
    "tags": []
   },
   "outputs": [],
   "source": [
    "# Create the sparse tensor for the edge features\n",
    "edge_feature_tensor = tf.SparseTensor(\n",
    "    indices=indices,\n",
    "    values=tf.reshape(edge_features, [-1]),\n",
    "    dense_shape=[num_nodes, edge_features.shape[1]]\n",
    ")"
   ]
  },
  {
   "cell_type": "code",
   "execution_count": null,
   "id": "f45725fd-3888-4337-bdaf-d25d5d0f8bda",
   "metadata": {},
   "outputs": [],
   "source": []
  },
  {
   "cell_type": "code",
   "execution_count": 38,
   "id": "cac177d2-e6d2-4aa8-8187-01fcd5fee787",
   "metadata": {
    "tags": []
   },
   "outputs": [],
   "source": [
    "# sparse_graph = adj_matrix + edge_feature_tensor"
   ]
  },
  {
   "cell_type": "code",
   "execution_count": null,
   "id": "607606cd-5ad7-496e-9ba6-b55f57614e70",
   "metadata": {},
   "outputs": [],
   "source": []
  },
  {
   "cell_type": "code",
   "execution_count": null,
   "id": "d2612a47-a4c4-410a-badf-012121748778",
   "metadata": {},
   "outputs": [],
   "source": []
  },
  {
   "cell_type": "code",
   "execution_count": 39,
   "id": "b607bc68-7b85-44d6-a2a7-2db6f10e2e19",
   "metadata": {
    "tags": []
   },
   "outputs": [],
   "source": [
    "nodes = dict()\n",
    "nodes_list = list(set(df['actorUID'].unique()) | set(df['objectUID'].unique()))\n",
    "for i, node in enumerate(nodes_list):\n",
    "    nodes[node] = i"
   ]
  },
  {
   "cell_type": "code",
   "execution_count": 40,
   "id": "589623ac-97a6-407b-ac10-220bbdf59d51",
   "metadata": {
    "tags": []
   },
   "outputs": [],
   "source": [
    "edges = []\n",
    "for index, row in df.iterrows():\n",
    "    source = nodes[row['actorUID']]\n",
    "    destination = nodes[row['objectUID']]\n",
    "    features = row.id\n",
    "    edges.append((source, destination, features))"
   ]
  },
  {
   "cell_type": "code",
   "execution_count": null,
   "id": "c83ef004-f9af-4896-aa66-31328f829f20",
   "metadata": {},
   "outputs": [],
   "source": []
  },
  {
   "cell_type": "code",
   "execution_count": 41,
   "id": "dcb46f2a-f275-4345-8d05-4fc776cbf7d6",
   "metadata": {
    "tags": []
   },
   "outputs": [],
   "source": [
    "indices = [(edge[0], edge[1]) for edge in edges]\n",
    "values = [edge[2] for edge in edges]\n",
    "dense_shape = (len(nodes), len(nodes))"
   ]
  },
  {
   "cell_type": "code",
   "execution_count": 42,
   "id": "bd8e9780-c27d-40e1-b7bc-bd261403b99b",
   "metadata": {
    "tags": []
   },
   "outputs": [],
   "source": [
    "sparse_tensor = tf.SparseTensor(\n",
    "    indices=indices,\n",
    "    values=values,\n",
    "    dense_shape=dense_shape\n",
    ")"
   ]
  },
  {
   "cell_type": "code",
   "execution_count": null,
   "id": "45d7fb8f-2985-4481-919e-d2efc38df9a1",
   "metadata": {
    "tags": []
   },
   "outputs": [],
   "source": []
  },
  {
   "cell_type": "code",
   "execution_count": 43,
   "id": "7a8280d0-2f9a-4426-b112-4afa292a9e85",
   "metadata": {
    "tags": []
   },
   "outputs": [],
   "source": [
    "# Create input data\n",
    "inputs = [[edge[0], edge[1]] for edge in edges]"
   ]
  },
  {
   "cell_type": "code",
   "execution_count": 44,
   "id": "5ba0851c-633e-425d-bc93-2f06a869c413",
   "metadata": {
    "tags": []
   },
   "outputs": [],
   "source": [
    "inputs = tf.ragged.constant(inputs)"
   ]
  },
  {
   "cell_type": "code",
   "execution_count": 45,
   "id": "221e255b-1a46-4dea-8532-55a03ec71bd4",
   "metadata": {
    "tags": []
   },
   "outputs": [],
   "source": [
    "event_count = inputs.shape[0]"
   ]
  },
  {
   "cell_type": "code",
   "execution_count": 46,
   "id": "555dffe9-d51e-4e99-b62d-14ade9ff2f94",
   "metadata": {
    "tags": []
   },
   "outputs": [],
   "source": [
    "# Create output data\n",
    "# outputs = np.array([label])"
   ]
  },
  {
   "cell_type": "code",
   "execution_count": 47,
   "id": "0df14804-9db6-4b57-b020-aca4ba00115f",
   "metadata": {
    "tags": []
   },
   "outputs": [
    {
     "ename": "NameError",
     "evalue": "name 'outputs' is not defined",
     "output_type": "error",
     "traceback": [
      "\u001b[0;31m---------------------------------------------------------------------------\u001b[0m",
      "\u001b[0;31mNameError\u001b[0m                                 Traceback (most recent call last)",
      "Cell \u001b[0;32mIn[47], line 3\u001b[0m\n\u001b[1;32m      1\u001b[0m \u001b[38;5;66;03m# Reshape input and output data for LSTM\u001b[39;00m\n\u001b[1;32m      2\u001b[0m inputs \u001b[38;5;241m=\u001b[39m tf\u001b[38;5;241m.\u001b[39mexpand_dims(inputs, axis\u001b[38;5;241m=\u001b[39m\u001b[38;5;241m0\u001b[39m)\n\u001b[0;32m----> 3\u001b[0m outputs \u001b[38;5;241m=\u001b[39m tf\u001b[38;5;241m.\u001b[39mexpand_dims(\u001b[43moutputs\u001b[49m, axis\u001b[38;5;241m=\u001b[39m\u001b[38;5;241m0\u001b[39m)\n",
      "\u001b[0;31mNameError\u001b[0m: name 'outputs' is not defined"
     ]
    }
   ],
   "source": [
    "# Reshape input and output data for LSTM\n",
    "inputs = tf.expand_dims(inputs, axis=0)\n",
    "outputs = tf.expand_dims(outputs, axis=0)"
   ]
  },
  {
   "cell_type": "code",
   "execution_count": null,
   "id": "84e90040-93e1-4aaf-9c7a-0b56b4f04b5b",
   "metadata": {},
   "outputs": [],
   "source": []
  },
  {
   "cell_type": "code",
   "execution_count": 48,
   "id": "79698a48-a81d-4b67-b82d-a15ff456f145",
   "metadata": {
    "tags": []
   },
   "outputs": [],
   "source": [
    "# Define LSTM model\n",
    "model = keras.Sequential([\n",
    "    keras.layers.LSTM(64),\n",
    "    keras.layers.Dense(1, activation='sigmoid')\n",
    "])"
   ]
  },
  {
   "cell_type": "code",
   "execution_count": null,
   "id": "1c8ad0d2-76a5-48de-964e-093a71d35d17",
   "metadata": {},
   "outputs": [],
   "source": []
  },
  {
   "cell_type": "code",
   "execution_count": 49,
   "id": "0d59e884-ecb7-4239-a2f4-4cfb572481c7",
   "metadata": {
    "tags": []
   },
   "outputs": [
    {
     "ename": "NameError",
     "evalue": "name 'outputs' is not defined",
     "output_type": "error",
     "traceback": [
      "\u001b[0;31m---------------------------------------------------------------------------\u001b[0m",
      "\u001b[0;31mNameError\u001b[0m                                 Traceback (most recent call last)",
      "Cell \u001b[0;32mIn[49], line 3\u001b[0m\n\u001b[1;32m      1\u001b[0m \u001b[38;5;66;03m# Compile and fit model\u001b[39;00m\n\u001b[1;32m      2\u001b[0m model\u001b[38;5;241m.\u001b[39mcompile(loss\u001b[38;5;241m=\u001b[39m\u001b[38;5;124m'\u001b[39m\u001b[38;5;124mbinary_crossentropy\u001b[39m\u001b[38;5;124m'\u001b[39m, optimizer\u001b[38;5;241m=\u001b[39m\u001b[38;5;124m'\u001b[39m\u001b[38;5;124madam\u001b[39m\u001b[38;5;124m'\u001b[39m, metrics\u001b[38;5;241m=\u001b[39m[\u001b[38;5;124m'\u001b[39m\u001b[38;5;124maccuracy\u001b[39m\u001b[38;5;124m'\u001b[39m])\n\u001b[0;32m----> 3\u001b[0m model\u001b[38;5;241m.\u001b[39mfit(inputs, \u001b[43moutputs\u001b[49m, epochs\u001b[38;5;241m=\u001b[39m\u001b[38;5;241m10\u001b[39m, batch_size\u001b[38;5;241m=\u001b[39m\u001b[38;5;241m1\u001b[39m)\n",
      "\u001b[0;31mNameError\u001b[0m: name 'outputs' is not defined"
     ]
    }
   ],
   "source": [
    "# Compile and fit model\n",
    "model.compile(loss='binary_crossentropy', optimizer='adam', metrics=['accuracy'])\n",
    "model.fit(inputs, outputs, epochs=10, batch_size=1)"
   ]
  },
  {
   "cell_type": "code",
   "execution_count": null,
   "id": "1d7d86fb-d8a7-4b9f-8d01-f510f0f14ed1",
   "metadata": {},
   "outputs": [],
   "source": []
  },
  {
   "cell_type": "markdown",
   "id": "c5d36626-27b5-4f04-ae0f-7d7fab0fd268",
   "metadata": {},
   "source": [
    "Data -> Sparse or Ragged Tensor -> Split -> Input -> Model"
   ]
  },
  {
   "cell_type": "code",
   "execution_count": 50,
   "id": "f4e54dfd-b6b5-4151-9f3c-90bc3c18d2b1",
   "metadata": {
    "tags": []
   },
   "outputs": [],
   "source": [
    "x = tf.keras.Input(shape=(4,), sparse=True)\n",
    "y = tf.keras.layers.Dense(4)(x)"
   ]
  },
  {
   "cell_type": "code",
   "execution_count": 51,
   "id": "e15718a6-d67e-499c-a195-92b5899a90c5",
   "metadata": {
    "tags": []
   },
   "outputs": [],
   "source": [
    "model = tf.keras.Model(x, y)"
   ]
  },
  {
   "cell_type": "code",
   "execution_count": 52,
   "id": "fb3e51bc-1117-4f4e-a2f8-d88be8e5d1bb",
   "metadata": {
    "tags": []
   },
   "outputs": [],
   "source": [
    "sparse_data = tf.sparse.SparseTensor(\n",
    "    indices = [(0,0),(0,1),(0,2),\n",
    "               (4,3),(5,0),(5,1)],\n",
    "    values = [1,1,1,1,1,1],\n",
    "    dense_shape = (6,4)\n",
    ")"
   ]
  },
  {
   "cell_type": "code",
   "execution_count": 53,
   "id": "87001bcf-6ec9-4323-9e2b-6a304c1aa454",
   "metadata": {
    "tags": []
   },
   "outputs": [
    {
     "data": {
      "text/plain": [
       "<tf.Tensor: shape=(6, 4), dtype=float32, numpy=\n",
       "array([[ 0.01671338, -0.19815761, -0.33072704, -0.7705123 ],\n",
       "       [ 0.        ,  0.        ,  0.        ,  0.        ],\n",
       "       [ 0.        ,  0.        ,  0.        ,  0.        ],\n",
       "       [ 0.        ,  0.        ,  0.        ,  0.        ],\n",
       "       [ 0.15675229,  0.803876  ,  0.14709634,  0.16671842],\n",
       "       [-0.11896354, -0.5517801 ,  0.14482683, -0.6927439 ]],\n",
       "      dtype=float32)>"
      ]
     },
     "execution_count": 53,
     "metadata": {},
     "output_type": "execute_result"
    }
   ],
   "source": [
    "model(sparse_data)"
   ]
  },
  {
   "cell_type": "code",
   "execution_count": 54,
   "id": "426c0e37-2892-416b-bbac-97db45326167",
   "metadata": {
    "tags": []
   },
   "outputs": [
    {
     "name": "stdout",
     "output_type": "stream",
     "text": [
      "1/1 [==============================] - 0s 89ms/step\n"
     ]
    },
    {
     "name": "stderr",
     "output_type": "stream",
     "text": [
      "2023-03-24 02:57:03.472557: I tensorflow/core/common_runtime/executor.cc:1197] [/device:CPU:0] (DEBUG INFO) Executor start aborting (this does not indicate an error and you can ignore this message): INVALID_ARGUMENT: You must feed a value for placeholder tensor 'Placeholder/_0' with dtype variant and shape [6,3]\n",
      "\t [[{{node Placeholder/_0}}]]\n"
     ]
    },
    {
     "data": {
      "text/plain": [
       "array([[ 0.01671338, -0.19815761, -0.33072704, -0.7705123 ],\n",
       "       [ 0.        ,  0.        ,  0.        ,  0.        ],\n",
       "       [ 0.        ,  0.        ,  0.        ,  0.        ],\n",
       "       [ 0.        ,  0.        ,  0.        ,  0.        ],\n",
       "       [ 0.15675229,  0.803876  ,  0.14709634,  0.16671842],\n",
       "       [-0.11896354, -0.5517801 ,  0.14482683, -0.6927439 ]],\n",
       "      dtype=float32)"
      ]
     },
     "execution_count": 54,
     "metadata": {},
     "output_type": "execute_result"
    }
   ],
   "source": [
    "model.predict(sparse_data)"
   ]
  },
  {
   "cell_type": "code",
   "execution_count": null,
   "id": "9194c779-86bf-46f5-92fb-c9640cfad939",
   "metadata": {},
   "outputs": [],
   "source": []
  },
  {
   "cell_type": "code",
   "execution_count": 55,
   "id": "10788d1c-50c5-40f4-a929-5fd46a885383",
   "metadata": {
    "tags": []
   },
   "outputs": [],
   "source": [
    "data = tf.ragged.constant([ [[940, 203, 668, 387, 790, 320, 939, 185],[315, 515, 791, 181, 939, 787]], \n",
    "                             [[564, 205], [820, 180, 993, 739]] ]) "
   ]
  },
  {
   "cell_type": "code",
   "execution_count": 56,
   "id": "395d5d9d-7e06-4ac7-9aa6-d43ca827b52d",
   "metadata": {
    "tags": []
   },
   "outputs": [
    {
     "name": "stderr",
     "output_type": "stream",
     "text": [
      "WARNING:tensorflow:Layer lstm_1 will not use cuDNN kernels since it doesn't meet the criteria. It will use a generic GPU kernel as fallback when running on GPU.\n"
     ]
    }
   ],
   "source": [
    "# https://stackoverflow.com/questions/70399367/sparse-feature-vector-sequence-as-input-to-lstm\n",
    "X = keras.Input(shape=[inputs.shape[0], inputs.shape[1]], dtype=tf.int64, ragged=True)\n",
    "l1 = keras.layers.Embedding(inputs.shape[0], 16)(X)\n",
    "l2 = tf.reduce_sum(l1, axis=2) #To calculate the dense feature vector for each timestep.\n",
    "l3 = keras.layers.LSTM(32, use_bias=False)(l2)\n",
    "l4 = keras.layers.Dense(32, activation='sigmoid')(l3)\n",
    "l5 = keras.layers.Activation(tf.nn.relu)(l4)\n",
    "output = tf.keras.layers.Dense(1)(l5)"
   ]
  },
  {
   "cell_type": "code",
   "execution_count": 57,
   "id": "97d6da95-33bc-474f-badb-c65c91584228",
   "metadata": {
    "tags": []
   },
   "outputs": [
    {
     "name": "stdout",
     "output_type": "stream",
     "text": [
      "Model: \"model_1\"\n",
      "_________________________________________________________________\n",
      " Layer (type)                Output Shape              Param #   \n",
      "=================================================================\n",
      " input_2 (InputLayer)        [(None, 1, 4595692)]      0         \n",
      "                                                                 \n",
      " embedding (Embedding)       (None, 1, 4595692, 16)    16        \n",
      "                                                                 \n",
      " tf.math.reduce_sum (TFOpLam  (None, 1, 16)            0         \n",
      " bda)                                                            \n",
      "                                                                 \n",
      " lstm_1 (LSTM)               (None, 32)                6144      \n",
      "                                                                 \n",
      " dense_2 (Dense)             (None, 32)                1056      \n",
      "                                                                 \n",
      " activation (Activation)     (None, 32)                0         \n",
      "                                                                 \n",
      " dense_3 (Dense)             (None, 1)                 33        \n",
      "                                                                 \n",
      "=================================================================\n",
      "Total params: 7,249\n",
      "Trainable params: 7,249\n",
      "Non-trainable params: 0\n",
      "_________________________________________________________________\n",
      "None\n"
     ]
    }
   ],
   "source": [
    "model = tf.keras.Model(X, output)\n",
    "print(model.summary())\n",
    "model.compile(loss='binary_crossentropy', optimizer='adam', metrics=['accuracy'])"
   ]
  },
  {
   "cell_type": "code",
   "execution_count": 58,
   "id": "959ea489-b1e1-4357-9124-a21b42920058",
   "metadata": {
    "tags": []
   },
   "outputs": [
    {
     "name": "stderr",
     "output_type": "stream",
     "text": [
      "2023-03-24 02:57:09.254299: I tensorflow/compiler/xla/stream_executor/cuda/cuda_blas.cc:637] TensorFloat-32 will be used for the matrix multiplication. This will only be logged once.\n"
     ]
    },
    {
     "name": "stdout",
     "output_type": "stream",
     "text": [
      "tf.Tensor(\n",
      "[[-0.17234889]\n",
      " [-0.17234889]], shape=(2, 1), dtype=float32)\n"
     ]
    }
   ],
   "source": [
    "print(model(data))  "
   ]
  },
  {
   "cell_type": "code",
   "execution_count": 59,
   "id": "325c3168-9aef-4fff-8802-5431cff2a664",
   "metadata": {
    "tags": []
   },
   "outputs": [
    {
     "name": "stdout",
     "output_type": "stream",
     "text": [
      "1/1 [==============================] - 0s 192ms/step\n"
     ]
    },
    {
     "name": "stderr",
     "output_type": "stream",
     "text": [
      "2023-03-24 02:57:09.655249: I tensorflow/core/common_runtime/executor.cc:1197] [/device:CPU:0] (DEBUG INFO) Executor start aborting (this does not indicate an error and you can ignore this message): INVALID_ARGUMENT: You must feed a value for placeholder tensor 'Placeholder/_0' with dtype variant and shape [2]\n",
      "\t [[{{node Placeholder/_0}}]]\n"
     ]
    },
    {
     "data": {
      "text/plain": [
       "array([[-0.17234889],\n",
       "       [-0.17234889]], dtype=float32)"
      ]
     },
     "execution_count": 59,
     "metadata": {},
     "output_type": "execute_result"
    }
   ],
   "source": [
    "model.predict(data)"
   ]
  },
  {
   "cell_type": "code",
   "execution_count": 60,
   "id": "9427ca43-02f7-4d48-9721-c872925dc24d",
   "metadata": {
    "tags": []
   },
   "outputs": [
    {
     "data": {
      "text/plain": [
       "TensorShape([1, 4595692, None])"
      ]
     },
     "execution_count": 60,
     "metadata": {},
     "output_type": "execute_result"
    }
   ],
   "source": [
    "inputs.shape"
   ]
  },
  {
   "cell_type": "code",
   "execution_count": null,
   "id": "11f63814-1eec-473c-86d7-fc477c80db2d",
   "metadata": {},
   "outputs": [],
   "source": []
  },
  {
   "cell_type": "code",
   "execution_count": null,
   "id": "4e1f0f80-1aa3-48db-8fab-8806e89a11a4",
   "metadata": {},
   "outputs": [],
   "source": []
  },
  {
   "cell_type": "code",
   "execution_count": 63,
   "id": "cb0c1b49-c2d2-4d51-9a21-a2e2c9ed770e",
   "metadata": {
    "tags": []
   },
   "outputs": [],
   "source": []
  },
  {
   "cell_type": "code",
   "execution_count": 65,
   "id": "82f9c27e-741c-4352-93a3-5b53f4eb5df5",
   "metadata": {
    "tags": []
   },
   "outputs": [
    {
     "name": "stderr",
     "output_type": "stream",
     "text": [
      "                                                                                \r"
     ]
    },
    {
     "data": {
      "text/plain": [
       "2598111"
      ]
     },
     "execution_count": 65,
     "metadata": {},
     "output_type": "execute_result"
    }
   ],
   "source": [
    "df.count()"
   ]
  },
  {
   "cell_type": "code",
   "execution_count": 67,
   "id": "4caeff3e-955a-43b3-a8c5-542ab331f2eb",
   "metadata": {
    "tags": []
   },
   "outputs": [
    {
     "data": {
      "text/plain": [
       "['Trace', 'malicious', 'event_sequence']"
      ]
     },
     "execution_count": 67,
     "metadata": {},
     "output_type": "execute_result"
    }
   ],
   "source": [
    "df.columns"
   ]
  },
  {
   "cell_type": "code",
   "execution_count": 68,
   "id": "c54fc993-c85d-4bf0-a897-73a034ee26c7",
   "metadata": {
    "tags": []
   },
   "outputs": [
    {
     "data": {
      "text/html": [
       "<div>\n",
       "<style scoped>\n",
       "    .dataframe tbody tr th:only-of-type {\n",
       "        vertical-align: middle;\n",
       "    }\n",
       "\n",
       "    .dataframe tbody tr th {\n",
       "        vertical-align: top;\n",
       "    }\n",
       "\n",
       "    .dataframe thead th {\n",
       "        text-align: right;\n",
       "    }\n",
       "</style>\n",
       "<table border=\"1\" class=\"dataframe\">\n",
       "  <thead>\n",
       "    <tr style=\"text-align: right;\">\n",
       "      <th></th>\n",
       "      <th>Trace</th>\n",
       "      <th>malicious</th>\n",
       "      <th>event_sequence</th>\n",
       "    </tr>\n",
       "  </thead>\n",
       "  <tbody>\n",
       "    <tr>\n",
       "      <th>0</th>\n",
       "      <td>111669149697</td>\n",
       "      <td>0</td>\n",
       "      <td>[1000111000000111001000001, 111001001111100110...</td>\n",
       "    </tr>\n",
       "    <tr>\n",
       "      <th>1</th>\n",
       "      <td>111669149698</td>\n",
       "      <td>0</td>\n",
       "      <td>[1111011111100100111000000, 001001100010110101...</td>\n",
       "    </tr>\n",
       "    <tr>\n",
       "      <th>2</th>\n",
       "      <td>111669149699</td>\n",
       "      <td>0</td>\n",
       "      <td>[0011010000010001001100010, 011001110100101000...</td>\n",
       "    </tr>\n",
       "  </tbody>\n",
       "</table>\n",
       "</div>"
      ],
      "text/plain": [
       "          Trace  malicious                                     event_sequence\n",
       "0  111669149697          0  [1000111000000111001000001, 111001001111100110...\n",
       "1  111669149698          0  [1111011111100100111000000, 001001100010110101...\n",
       "2  111669149699          0  [0011010000010001001100010, 011001110100101000..."
      ]
     },
     "execution_count": 68,
     "metadata": {},
     "output_type": "execute_result"
    }
   ],
   "source": [
    "df.limit(3).toPandas()"
   ]
  },
  {
   "cell_type": "code",
   "execution_count": null,
   "id": "c1b4a1e6-9a1f-40cd-954a-295b0c99f947",
   "metadata": {},
   "outputs": [],
   "source": []
  },
  {
   "cell_type": "code",
   "execution_count": null,
   "id": "6f74678a-6f37-4596-9809-82ae69430662",
   "metadata": {},
   "outputs": [],
   "source": []
  },
  {
   "cell_type": "code",
   "execution_count": null,
   "id": "e5116eba-e747-450b-9894-9b7c80c30a22",
   "metadata": {},
   "outputs": [],
   "source": []
  },
  {
   "cell_type": "code",
   "execution_count": null,
   "id": "7a235fc0-dbdd-4b32-8647-154bd1d03329",
   "metadata": {},
   "outputs": [],
   "source": []
  }
 ],
 "metadata": {
  "kernelspec": {
   "display_name": "conda_python3",
   "language": "python",
   "name": "conda_python3"
  },
  "language_info": {
   "codemirror_mode": {
    "name": "ipython",
    "version": 3
   },
   "file_extension": ".py",
   "mimetype": "text/x-python",
   "name": "python",
   "nbconvert_exporter": "python",
   "pygments_lexer": "ipython3",
   "version": "3.10.8"
  }
 },
 "nbformat": 4,
 "nbformat_minor": 5
}
