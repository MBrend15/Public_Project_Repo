{
 "cells": [
  {
   "cell_type": "markdown",
   "id": "a68a996a-cf43-4787-8cd2-a8216a97cf3b",
   "metadata": {
    "tags": []
   },
   "source": [
    "### Use kernel conda_tensorflow2_p310"
   ]
  },
  {
   "cell_type": "code",
   "execution_count": 1,
   "id": "b8d7fa78-5461-4d9a-897d-b14452f45396",
   "metadata": {
    "tags": []
   },
   "outputs": [],
   "source": [
    "import os\n",
    "import boto3\n",
    "import pickle\n",
    "import numpy as np\n",
    "import pandas as pd\n",
    "import seaborn as sns\n",
    "from collections import Counter\n",
    "import tensorflow as tf\n",
    "from tensorflow import keras\n",
    "from tensorflow.keras import layers\n",
    "from tensorflow import feature_column\n",
    "from sklearn.utils import resample\n",
    "from sklearn.model_selection import KFold\n",
    "from sklearn.model_selection import train_test_split\n",
    "from sklearn.preprocessing import LabelBinarizer\n",
    "from sklearn.preprocessing import LabelEncoder\n",
    "from sklearn.metrics import classification_report\n",
    "from sklearn.metrics import plot_confusion_matrix"
   ]
  },
  {
   "cell_type": "code",
   "execution_count": 2,
   "id": "f876fa6b-6c75-4b3e-9bf2-4f664f948320",
   "metadata": {
    "tags": []
   },
   "outputs": [
    {
     "name": "stdout",
     "output_type": "stream",
     "text": [
      "2.11.0\n"
     ]
    }
   ],
   "source": [
    "print(tf.__version__)"
   ]
  },
  {
   "cell_type": "code",
   "execution_count": 3,
   "id": "f953d05f-dcf9-4a60-8583-245b47ed15e7",
   "metadata": {
    "tags": []
   },
   "outputs": [
    {
     "name": "stderr",
     "output_type": "stream",
     "text": [
      "Warning: Ignoring non-Spark config property: fs.s3a.access.key\n",
      "Warning: Ignoring non-Spark config property: fs.s3a.secret.key\n"
     ]
    },
    {
     "name": "stdout",
     "output_type": "stream",
     "text": [
      ":: loading settings :: url = jar:file:/home/ec2-user/anaconda3/envs/tensorflow2_p310/lib/python3.10/site-packages/pyspark/jars/ivy-2.5.0.jar!/org/apache/ivy/core/settings/ivysettings.xml\n"
     ]
    },
    {
     "name": "stderr",
     "output_type": "stream",
     "text": [
      "Ivy Default Cache set to: /home/ec2-user/.ivy2/cache\n",
      "The jars for the packages stored in: /home/ec2-user/.ivy2/jars\n",
      "graphframes#graphframes added as a dependency\n",
      ":: resolving dependencies :: org.apache.spark#spark-submit-parent-2b661c22-5e3b-4161-81fa-12a901a769c9;1.0\n",
      "\tconfs: [default]\n",
      "\tfound graphframes#graphframes;0.8.2-spark3.2-s_2.12 in spark-packages\n",
      "\tfound org.slf4j#slf4j-api;1.7.16 in central\n",
      ":: resolution report :: resolve 132ms :: artifacts dl 4ms\n",
      "\t:: modules in use:\n",
      "\tgraphframes#graphframes;0.8.2-spark3.2-s_2.12 from spark-packages in [default]\n",
      "\torg.slf4j#slf4j-api;1.7.16 from central in [default]\n",
      "\t---------------------------------------------------------------------\n",
      "\t|                  |            modules            ||   artifacts   |\n",
      "\t|       conf       | number| search|dwnlded|evicted|| number|dwnlded|\n",
      "\t---------------------------------------------------------------------\n",
      "\t|      default     |   2   |   0   |   0   |   0   ||   2   |   0   |\n",
      "\t---------------------------------------------------------------------\n",
      ":: retrieving :: org.apache.spark#spark-submit-parent-2b661c22-5e3b-4161-81fa-12a901a769c9\n",
      "\tconfs: [default]\n",
      "\t0 artifacts copied, 2 already retrieved (0kB/4ms)\n"
     ]
    },
    {
     "name": "stdout",
     "output_type": "stream",
     "text": [
      "23/04/17 21:06:40 WARN NativeCodeLoader: Unable to load native-hadoop library for your platform... using builtin-java classes where applicable\n"
     ]
    },
    {
     "name": "stderr",
     "output_type": "stream",
     "text": [
      "Setting default log level to \"WARN\".\n",
      "To adjust logging level use sc.setLogLevel(newLevel). For SparkR, use setLogLevel(newLevel).\n"
     ]
    },
    {
     "name": "stdout",
     "output_type": "stream",
     "text": [
      "23/04/17 21:06:40 WARN SparkConf: Note that spark.local.dir will be overridden by the value set by the cluster manager (via SPARK_LOCAL_DIRS in mesos/standalone/kubernetes and LOCAL_DIRS in YARN).\n"
     ]
    }
   ],
   "source": [
    "%run ./read_file.ipynb"
   ]
  },
  {
   "cell_type": "code",
   "execution_count": 4,
   "id": "2463851b-bfd8-40a2-8f3a-e9f9fd96faa8",
   "metadata": {
    "tags": []
   },
   "outputs": [],
   "source": [
    "# https://stackoverflow.com/questions/68036975/valueerror-shape-must-be-at-least-rank-3-but-is-rank-2-for-node-biasadd\n",
    "# config for rank error in lstm\n",
    "tf.config.threading.set_inter_op_parallelism_threads(16)\n",
    "pd.set_option('display.max_columns', None)\n",
    "tf.keras.backend.set_image_data_format(\"channels_last\")"
   ]
  },
  {
   "cell_type": "code",
   "execution_count": 5,
   "id": "0bb4fe4d-f90f-4bec-8e95-0132f34e0306",
   "metadata": {
    "tags": []
   },
   "outputs": [],
   "source": [
    "# Set Config\n",
    "embedding_dim = 64\n",
    "max_length = 6\n",
    "sequence_length = 6\n",
    "max_features = 10000\n",
    "padding_type = 'post'\n",
    "trunc_type = 'post'\n",
    "training_portion = 0.8\n",
    "\n",
    "# place to load models from\n",
    "ckt_path_generator = 'saved_model/generator'\n",
    "ckt_path_tokenizer = 'saved_model/tokenizer'\n",
    "ckt_path_lstm = 'saved_model/lstm'\n",
    "ckt_path_lstm_gen = 'saved_model/lstm_gen'\n",
    "ckt_path_lstm_kf = 'saved_model/lstm_kf'\n",
    "ckt_path_lstm_kf_gen = 'saved_model/lstm_kf_gen'"
   ]
  },
  {
   "cell_type": "code",
   "execution_count": 6,
   "id": "2e983d02-5280-46ca-800c-2bd1be6f9c82",
   "metadata": {
    "tags": []
   },
   "outputs": [],
   "source": [
    "METRICS = [\n",
    "        keras.metrics.TruePositives(name='tp'),\n",
    "        keras.metrics.FalsePositives(name='fp'),\n",
    "        keras.metrics.TrueNegatives(name='tn'),\n",
    "        keras.metrics.FalseNegatives(name='fn'), \n",
    "        keras.metrics.BinaryAccuracy(name='accuracy'),\n",
    "        keras.metrics.BinaryCrossentropy(name='binary cross entropy'),\n",
    "        keras.metrics.Precision(name='precision'),\n",
    "        keras.metrics.Recall(name='recall'),\n",
    "        keras.metrics.AUC(name='auc'),\n",
    "        keras.metrics.AUC(name='prc', curve='PR'), # precision-recall curve\n",
    "]"
   ]
  },
  {
   "cell_type": "code",
   "execution_count": 7,
   "id": "f2069773-8276-40a4-b274-ff3bb2444f81",
   "metadata": {
    "tags": []
   },
   "outputs": [
    {
     "name": "stderr",
     "output_type": "stream",
     "text": [
      "                                                                                \r"
     ]
    }
   ],
   "source": [
    "ds = spark.read.parquet(*[\"s3a://sapient-bucket-trusted/prod/graph/encoded/real/23Sep3/*\"]).cache()"
   ]
  },
  {
   "cell_type": "code",
   "execution_count": 8,
   "id": "6f1a4171-e551-450c-9fd2-5e00fab51b31",
   "metadata": {
    "tags": []
   },
   "outputs": [
    {
     "name": "stderr",
     "output_type": "stream",
     "text": [
      "                                                                                \r"
     ]
    }
   ],
   "source": [
    "tot = ds.count()"
   ]
  },
  {
   "cell_type": "code",
   "execution_count": 9,
   "id": "ece39c3b-b3e0-465e-be27-c25cad010917",
   "metadata": {
    "tags": []
   },
   "outputs": [
    {
     "name": "stdout",
     "output_type": "stream",
     "text": [
      "+---------+-------------+-------------------+\n",
      "|mal_trace|cnt_per_group|perc_of_count_total|\n",
      "+---------+-------------+-------------------+\n",
      "|        1|       118763| 0.6835843967111419|\n",
      "|        0|     17254805|  99.31641560328886|\n",
      "+---------+-------------+-------------------+\n",
      "\n"
     ]
    }
   ],
   "source": [
    "ds.groupBy(\"mal_trace\") \\\n",
    "    .count() \\\n",
    "    .withColumnRenamed('count', 'cnt_per_group') \\\n",
    "    .withColumn('perc_of_count_total', (col('cnt_per_group') / tot) * 100 ) \\\n",
    "    .sort(\"perc_of_count_total\").show()"
   ]
  },
  {
   "cell_type": "code",
   "execution_count": 10,
   "id": "feb0450d-cc3d-4628-8df0-81e08e83076d",
   "metadata": {
    "tags": []
   },
   "outputs": [],
   "source": [
    "def balance_dataframe(ds, ratio):\n",
    "    # Calculate the number of malicious and non-malicious records\n",
    "    malicious_count = ds.filter(col(\"mal_trace\") == 1).count()\n",
    "    non_malicious_count = ds.filter(col(\"mal_trace\") == 0).count()\n",
    "\n",
    "    target_non_malicious_count = malicious_count * ratio\n",
    "\n",
    "    fraction_non_malicious = target_non_malicious_count / non_malicious_count\n",
    "    \n",
    "    # Sample the records based on the calculated fractions\n",
    "    malicious_ds = ds.filter(col(\"mal_trace\") == 1)\n",
    "    non_malicious_ds = ds.filter(col(\"mal_trace\") == 0).sample(fraction_non_malicious)\n",
    "\n",
    "    # Combine the datasets\n",
    "    balanced_ds = malicious_ds.union(non_malicious_ds)\n",
    "\n",
    "    return balanced_ds"
   ]
  },
  {
   "cell_type": "code",
   "execution_count": 11,
   "id": "5da80c00-68a0-471f-b39f-5d2febe07857",
   "metadata": {
    "tags": []
   },
   "outputs": [],
   "source": [
    "# Replace this with ratio of distribution, e.g. ratio of 2 non malicious records to 1 malicious record (1, 2, or 3)\n",
    "ratio = 5"
   ]
  },
  {
   "cell_type": "code",
   "execution_count": 12,
   "id": "949612a2-aafc-44ad-89cb-bf934f62d26f",
   "metadata": {
    "tags": []
   },
   "outputs": [],
   "source": [
    "balanced_ds = balance_dataframe(ds, ratio)"
   ]
  },
  {
   "cell_type": "code",
   "execution_count": 13,
   "id": "d46695a8-a170-4037-997d-90c9d20d2ca4",
   "metadata": {
    "tags": []
   },
   "outputs": [
    {
     "name": "stderr",
     "output_type": "stream",
     "text": [
      "                                                                                \r"
     ]
    },
    {
     "data": {
      "text/plain": [
       "711314"
      ]
     },
     "execution_count": 13,
     "metadata": {},
     "output_type": "execute_result"
    }
   ],
   "source": [
    "balanced_ds.count()"
   ]
  },
  {
   "cell_type": "code",
   "execution_count": 14,
   "id": "4c3cf2a8-790c-4cdf-aac5-d63c6152af16",
   "metadata": {
    "tags": []
   },
   "outputs": [
    {
     "data": {
      "text/plain": [
       "DataFrame[Trace: bigint, mal_trace: int, malicious: int, event_sequence: array<string>]"
      ]
     },
     "execution_count": 14,
     "metadata": {},
     "output_type": "execute_result"
    }
   ],
   "source": [
    "ds.unpersist()"
   ]
  },
  {
   "cell_type": "code",
   "execution_count": 15,
   "id": "96377d94-89ad-4045-b444-2ea49a06e866",
   "metadata": {
    "tags": []
   },
   "outputs": [
    {
     "data": {
      "text/html": [
       "<div>\n",
       "<style scoped>\n",
       "    .dataframe tbody tr th:only-of-type {\n",
       "        vertical-align: middle;\n",
       "    }\n",
       "\n",
       "    .dataframe tbody tr th {\n",
       "        vertical-align: top;\n",
       "    }\n",
       "\n",
       "    .dataframe thead th {\n",
       "        text-align: right;\n",
       "    }\n",
       "</style>\n",
       "<table border=\"1\" class=\"dataframe\">\n",
       "  <thead>\n",
       "    <tr style=\"text-align: right;\">\n",
       "      <th></th>\n",
       "      <th>Trace</th>\n",
       "      <th>mal_trace</th>\n",
       "      <th>malicious</th>\n",
       "      <th>event_sequence</th>\n",
       "    </tr>\n",
       "  </thead>\n",
       "  <tbody>\n",
       "    <tr>\n",
       "      <th>0</th>\n",
       "      <td>86473</td>\n",
       "      <td>1</td>\n",
       "      <td>1</td>\n",
       "      <td>[01000000000100000100010000100000000000001, 10...</td>\n",
       "    </tr>\n",
       "    <tr>\n",
       "      <th>1</th>\n",
       "      <td>98458</td>\n",
       "      <td>1</td>\n",
       "      <td>1</td>\n",
       "      <td>[00010000000100000100010000100000000000001, 10...</td>\n",
       "    </tr>\n",
       "    <tr>\n",
       "      <th>2</th>\n",
       "      <td>132328</td>\n",
       "      <td>1</td>\n",
       "      <td>1</td>\n",
       "      <td>[00010000000100000100010000100000000000001, 10...</td>\n",
       "    </tr>\n",
       "    <tr>\n",
       "      <th>3</th>\n",
       "      <td>8589966649</td>\n",
       "      <td>1</td>\n",
       "      <td>1</td>\n",
       "      <td>[00010000000100000100010000100000000000001, 10...</td>\n",
       "    </tr>\n",
       "    <tr>\n",
       "      <th>4</th>\n",
       "      <td>8589966809</td>\n",
       "      <td>1</td>\n",
       "      <td>1</td>\n",
       "      <td>[00100000000100000100010000100000000000001, 10...</td>\n",
       "    </tr>\n",
       "  </tbody>\n",
       "</table>\n",
       "</div>"
      ],
      "text/plain": [
       "        Trace  mal_trace  malicious  \\\n",
       "0       86473          1          1   \n",
       "1       98458          1          1   \n",
       "2      132328          1          1   \n",
       "3  8589966649          1          1   \n",
       "4  8589966809          1          1   \n",
       "\n",
       "                                      event_sequence  \n",
       "0  [01000000000100000100010000100000000000001, 10...  \n",
       "1  [00010000000100000100010000100000000000001, 10...  \n",
       "2  [00010000000100000100010000100000000000001, 10...  \n",
       "3  [00010000000100000100010000100000000000001, 10...  \n",
       "4  [00100000000100000100010000100000000000001, 10...  "
      ]
     },
     "execution_count": 15,
     "metadata": {},
     "output_type": "execute_result"
    }
   ],
   "source": [
    "balanced_ds.limit(5).toPandas()"
   ]
  },
  {
   "cell_type": "code",
   "execution_count": 16,
   "id": "acdcbae7-4b27-40f7-9c37-0308b6ddea54",
   "metadata": {
    "tags": []
   },
   "outputs": [
    {
     "name": "stderr",
     "output_type": "stream",
     "text": [
      "                                                                                \r"
     ]
    }
   ],
   "source": [
    "ds_events = balanced_ds.select('event_sequence').rdd.flatMap(lambda x: x).collect()"
   ]
  },
  {
   "cell_type": "code",
   "execution_count": 17,
   "id": "82dedf36-699b-44ae-9753-bd9715aaef0a",
   "metadata": {
    "tags": []
   },
   "outputs": [
    {
     "name": "stderr",
     "output_type": "stream",
     "text": [
      "                                                                                \r"
     ]
    }
   ],
   "source": [
    "ds_labels = balanced_ds.select('mal_trace').rdd.flatMap(lambda x: x).collect()"
   ]
  },
  {
   "cell_type": "code",
   "execution_count": null,
   "id": "b3d757b6-54a4-4d92-bab5-72df7471154d",
   "metadata": {},
   "outputs": [],
   "source": []
  },
  {
   "cell_type": "code",
   "execution_count": 18,
   "id": "13d4e17e-9b71-4125-9cd4-fee8242b6a8b",
   "metadata": {},
   "outputs": [],
   "source": [
    "tokenizer = tf.keras.preprocessing.text.Tokenizer(num_words=1000)\n",
    "tokenizer.fit_on_texts(ds_events)"
   ]
  },
  {
   "cell_type": "code",
   "execution_count": null,
   "id": "c43c2345-3da4-417e-b3f3-89d9172d0c55",
   "metadata": {},
   "outputs": [],
   "source": []
  },
  {
   "cell_type": "code",
   "execution_count": 19,
   "id": "34bd9378-fc59-4931-ada6-d98111025172",
   "metadata": {},
   "outputs": [],
   "source": [
    "# # load saved tokenizer\n",
    "# tokenizer = tf.keras.preprocessing.text.Tokenizer()\n",
    "# with open(ckt_path_tokenizer, 'rb') as f:\n",
    "#     tokenizer = pickle.load(f)"
   ]
  },
  {
   "cell_type": "code",
   "execution_count": 20,
   "id": "a3054c2b-6e5f-4835-9c92-d8a830c6fa86",
   "metadata": {
    "tags": []
   },
   "outputs": [],
   "source": [
    "# Get our training data word index\n",
    "word_index = tokenizer.word_index\n",
    "vocab_count = len(word_index)"
   ]
  },
  {
   "cell_type": "code",
   "execution_count": null,
   "id": "254b42de-1fa7-46a5-bc78-ef0974579eb7",
   "metadata": {
    "tags": []
   },
   "outputs": [],
   "source": []
  },
  {
   "cell_type": "code",
   "execution_count": 21,
   "id": "6b173e8e-fa2a-456c-bd9e-d06584d48bb3",
   "metadata": {
    "tags": []
   },
   "outputs": [],
   "source": [
    "# train test split data\n",
    "train_set, validation_set, train_labels, validation_labels = train_test_split(ds_events, ds_labels,\n",
    "                                                    stratify=ds_labels, \n",
    "                                                    test_size=0.2)"
   ]
  },
  {
   "cell_type": "code",
   "execution_count": 22,
   "id": "89599879-190a-4a20-943c-a6e7ca52e30f",
   "metadata": {
    "tags": []
   },
   "outputs": [
    {
     "data": {
      "text/plain": [
       "Counter({0: 474041, 1: 95010})"
      ]
     },
     "execution_count": 22,
     "metadata": {},
     "output_type": "execute_result"
    }
   ],
   "source": [
    "Counter(train_labels)"
   ]
  },
  {
   "cell_type": "code",
   "execution_count": 23,
   "id": "e2bb27c9-bf73-43fc-9836-5237db243af8",
   "metadata": {
    "tags": []
   },
   "outputs": [
    {
     "data": {
      "text/plain": [
       "Counter({0: 118510, 1: 23753})"
      ]
     },
     "execution_count": 23,
     "metadata": {},
     "output_type": "execute_result"
    }
   ],
   "source": [
    "Counter(validation_labels)"
   ]
  },
  {
   "cell_type": "code",
   "execution_count": null,
   "id": "1ff37e76-c6bc-46da-8a72-00cc3da89c4c",
   "metadata": {},
   "outputs": [],
   "source": []
  },
  {
   "cell_type": "code",
   "execution_count": 24,
   "id": "c8122f80-6f2b-4cd8-bc07-3a05679892b3",
   "metadata": {
    "tags": []
   },
   "outputs": [],
   "source": [
    "train_sequences = tokenizer.texts_to_sequences(train_set)\n",
    "train_padded = tf.keras.utils.pad_sequences(train_sequences, maxlen=max_length, padding=padding_type, truncating=trunc_type)"
   ]
  },
  {
   "cell_type": "code",
   "execution_count": 25,
   "id": "c2e27a69-e616-4749-91f5-eaa734d351cc",
   "metadata": {
    "tags": []
   },
   "outputs": [],
   "source": [
    "validation_sequences = tokenizer.texts_to_sequences(validation_set)\n",
    "validation_padded = tf.keras.utils.pad_sequences(validation_sequences, maxlen=max_length, padding=padding_type, truncating=trunc_type)"
   ]
  },
  {
   "cell_type": "code",
   "execution_count": 26,
   "id": "20a85a86-767e-400f-9ce3-81c4fe49da71",
   "metadata": {
    "tags": []
   },
   "outputs": [
    {
     "data": {
      "text/plain": [
       "[29, 4, 1]"
      ]
     },
     "execution_count": 26,
     "metadata": {},
     "output_type": "execute_result"
    }
   ],
   "source": [
    "validation_sequences[0]"
   ]
  },
  {
   "cell_type": "code",
   "execution_count": 27,
   "id": "2956ebec-6469-4eed-a381-aa6b21c42940",
   "metadata": {
    "tags": []
   },
   "outputs": [
    {
     "data": {
      "text/plain": [
       "array([29,  4,  1,  0,  0,  0], dtype=int32)"
      ]
     },
     "execution_count": 27,
     "metadata": {},
     "output_type": "execute_result"
    }
   ],
   "source": [
    "validation_padded[0]"
   ]
  },
  {
   "cell_type": "code",
   "execution_count": 28,
   "id": "29722db5-1a09-4859-a597-41d9269bc238",
   "metadata": {
    "tags": []
   },
   "outputs": [
    {
     "data": {
      "text/plain": [
       "(569051, 6)"
      ]
     },
     "execution_count": 28,
     "metadata": {},
     "output_type": "execute_result"
    }
   ],
   "source": [
    "train_padded.shape"
   ]
  },
  {
   "cell_type": "code",
   "execution_count": 29,
   "id": "3916d14c-59b3-40be-bc85-5fa4245c7c9a",
   "metadata": {
    "tags": []
   },
   "outputs": [
    {
     "data": {
      "text/plain": [
       "(142263, 6)"
      ]
     },
     "execution_count": 29,
     "metadata": {},
     "output_type": "execute_result"
    }
   ],
   "source": [
    "validation_padded.shape"
   ]
  },
  {
   "cell_type": "code",
   "execution_count": 30,
   "id": "d6489d93-f1c8-4c66-8386-ba0e9028b181",
   "metadata": {
    "tags": []
   },
   "outputs": [],
   "source": [
    "train_ds = tf.reshape(train_padded, (len(train_padded),6,1))"
   ]
  },
  {
   "cell_type": "code",
   "execution_count": 31,
   "id": "1e10d08f-5439-4a78-811b-7f8a625c5b69",
   "metadata": {
    "tags": []
   },
   "outputs": [],
   "source": [
    "validation_ds = tf.reshape(validation_padded, (len(validation_padded),6,1))"
   ]
  },
  {
   "cell_type": "code",
   "execution_count": 32,
   "id": "e02a3627-b45c-4362-a7eb-0742ee49131c",
   "metadata": {
    "tags": []
   },
   "outputs": [],
   "source": [
    "train_labels_ds = tf.ragged.constant(train_labels)\n",
    "validation_labels_ds = tf.ragged.constant(validation_labels)"
   ]
  },
  {
   "cell_type": "code",
   "execution_count": 33,
   "id": "6623d73d-440a-4955-8851-447033fbc72c",
   "metadata": {
    "tags": []
   },
   "outputs": [
    {
     "data": {
      "text/plain": [
       "TensorShape([569051, 6, 1])"
      ]
     },
     "execution_count": 33,
     "metadata": {},
     "output_type": "execute_result"
    }
   ],
   "source": [
    "train_ds.shape"
   ]
  },
  {
   "cell_type": "code",
   "execution_count": 34,
   "id": "d50ba257-4a77-4b99-beb9-7d8ece95b11b",
   "metadata": {
    "tags": []
   },
   "outputs": [
    {
     "data": {
      "text/plain": [
       "TensorShape([569051])"
      ]
     },
     "execution_count": 34,
     "metadata": {},
     "output_type": "execute_result"
    }
   ],
   "source": [
    "train_labels_ds.shape"
   ]
  },
  {
   "cell_type": "code",
   "execution_count": 35,
   "id": "b0ea8277-6b5f-4ba2-b3d2-f3ed2d5678a5",
   "metadata": {
    "tags": []
   },
   "outputs": [
    {
     "data": {
      "text/plain": [
       "TensorShape([142263, 6, 1])"
      ]
     },
     "execution_count": 35,
     "metadata": {},
     "output_type": "execute_result"
    }
   ],
   "source": [
    "validation_ds.shape"
   ]
  },
  {
   "cell_type": "code",
   "execution_count": 36,
   "id": "797b3cc0-18cc-4da5-85f3-f4f0b3640903",
   "metadata": {
    "tags": []
   },
   "outputs": [
    {
     "data": {
      "text/plain": [
       "TensorShape([142263])"
      ]
     },
     "execution_count": 36,
     "metadata": {},
     "output_type": "execute_result"
    }
   ],
   "source": [
    "validation_labels_ds.shape"
   ]
  },
  {
   "cell_type": "code",
   "execution_count": 37,
   "id": "d810fd02-4edb-4ef3-b1c7-e916aa70bf92",
   "metadata": {
    "tags": []
   },
   "outputs": [
    {
     "data": {
      "text/plain": [
       "<tf.Tensor: shape=(6, 1), dtype=int32, numpy=\n",
       "array([[29],\n",
       "       [ 4],\n",
       "       [ 1],\n",
       "       [ 0],\n",
       "       [ 0],\n",
       "       [ 0]], dtype=int32)>"
      ]
     },
     "execution_count": 37,
     "metadata": {},
     "output_type": "execute_result"
    }
   ],
   "source": [
    "validation_ds[0]"
   ]
  },
  {
   "cell_type": "code",
   "execution_count": null,
   "id": "27c2fa82-e1ea-4721-8d22-789811a4b41e",
   "metadata": {},
   "outputs": [],
   "source": []
  },
  {
   "cell_type": "code",
   "execution_count": 38,
   "id": "ee5f14c9-383e-4f88-9cd0-ace2e657b0ab",
   "metadata": {
    "tags": []
   },
   "outputs": [],
   "source": [
    "def create_lstm():\n",
    "    model = tf.keras.models.Sequential()\n",
    "    model.add(layers.Embedding(vocab_count + 1, 16))\n",
    "    model.add(keras.layers.LSTM(500, input_shape=(train_ds.shape[1], train_ds.shape[2]), return_sequences=True))\n",
    "    model.add(keras.layers.LSTM(300, return_sequences=True))\n",
    "    model.add(keras.layers.LSTM(200))\n",
    "    model.add(keras.layers.Dense(train_ds.shape[2], activation='tanh'))\n",
    "    model.compile(loss='binary_crossentropy', \n",
    "              optimizer='adam',\n",
    "              metrics=METRICS)\n",
    "    return model"
   ]
  },
  {
   "cell_type": "code",
   "execution_count": 39,
   "id": "baa784d5-f7df-4ccc-9952-be2478b9775f",
   "metadata": {
    "tags": []
   },
   "outputs": [],
   "source": [
    "model = create_lstm()"
   ]
  },
  {
   "cell_type": "code",
   "execution_count": 40,
   "id": "ecb79f49-7b94-43b8-8e06-73763a49df23",
   "metadata": {
    "tags": []
   },
   "outputs": [
    {
     "name": "stdout",
     "output_type": "stream",
     "text": [
      "Model: \"sequential\"\n",
      "_________________________________________________________________\n",
      " Layer (type)                Output Shape              Param #   \n",
      "=================================================================\n",
      " embedding (Embedding)       (None, None, 16)          1632      \n",
      "                                                                 \n",
      " lstm (LSTM)                 (None, None, 500)         1034000   \n",
      "                                                                 \n",
      " lstm_1 (LSTM)               (None, None, 300)         961200    \n",
      "                                                                 \n",
      " lstm_2 (LSTM)               (None, 200)               400800    \n",
      "                                                                 \n",
      " dense (Dense)               (None, 1)                 201       \n",
      "                                                                 \n",
      "=================================================================\n",
      "Total params: 2,397,833\n",
      "Trainable params: 2,397,833\n",
      "Non-trainable params: 0\n",
      "_________________________________________________________________\n"
     ]
    }
   ],
   "source": [
    "model.summary()"
   ]
  },
  {
   "cell_type": "code",
   "execution_count": 41,
   "id": "45acbd23-bc46-487a-b3cc-aad2a7fe31a7",
   "metadata": {
    "tags": []
   },
   "outputs": [],
   "source": [
    "cp_callback = tf.keras.callbacks.ModelCheckpoint(filepath=ckt_path_lstm,\n",
    "                                                 save_weights_only=True,\n",
    "                                                 verbose=1)"
   ]
  },
  {
   "cell_type": "code",
   "execution_count": null,
   "id": "e892dda7-4340-4232-b8a9-48878c17a056",
   "metadata": {
    "tags": []
   },
   "outputs": [
    {
     "name": "stdout",
     "output_type": "stream",
     "text": [
      "Epoch 1/11\n",
      "4444/4446 [============================>.] - ETA: 0s - loss: 0.3349 - tp: 30421.0000 - fp: 15155.0000 - tn: 458710.0000 - fn: 64546.0000 - accuracy: 0.8599 - binary cross entropy: 0.3349 - precision: 0.6675 - recall: 0.3203 - auc: 0.8408 - prc: 0.5542\n",
      "Epoch 1: saving model to saved_model/lstm\n",
      "4446/4446 [==============================] - 68s 13ms/step - loss: 0.3349 - tp: 30437.0000 - fp: 15160.0000 - tn: 458881.0000 - fn: 64573.0000 - accuracy: 0.8599 - binary cross entropy: 0.3349 - precision: 0.6675 - recall: 0.3204 - auc: 0.8408 - prc: 0.5543 - val_loss: 0.3074 - val_tp: 9296.0000 - val_fp: 3527.0000 - val_tn: 114983.0000 - val_fn: 14457.0000 - val_accuracy: 0.8736 - val_binary cross entropy: 0.3074 - val_precision: 0.7249 - val_recall: 0.3914 - val_auc: 0.8671 - val_prc: 0.6275\n",
      "Epoch 2/11\n",
      "3771/4446 [========================>.....] - ETA: 7s - loss: 0.3008 - tp: 34399.0000 - fp: 14316.0000 - tn: 387789.0000 - fn: 46184.0000 - accuracy: 0.8747 - binary cross entropy: 0.3008 - precision: 0.7061 - recall: 0.4269 - auc: 0.8770 - prc: 0.6415"
     ]
    }
   ],
   "source": [
    "history = model.fit(\n",
    "                x=train_ds,\n",
    "                y=train_labels_ds,\n",
    "                batch_size=128,\n",
    "                epochs=11,\n",
    "                verbose=1,\n",
    "                validation_split=0.0,\n",
    "                validation_data=(validation_ds, validation_labels_ds),\n",
    "                shuffle=True,\n",
    "                class_weight=None,\n",
    "                sample_weight=None,\n",
    "                initial_epoch=0,\n",
    "                steps_per_epoch=None,\n",
    "                validation_steps=None,\n",
    "                validation_batch_size=None,\n",
    "                validation_freq=1,\n",
    "                max_queue_size=10,\n",
    "                workers=1,\n",
    "                use_multiprocessing=False,\n",
    "                callbacks=[cp_callback]\n",
    "                )"
   ]
  },
  {
   "cell_type": "code",
   "execution_count": null,
   "id": "83e9bd45-1da2-41f3-b619-75c9e0c5261a",
   "metadata": {},
   "outputs": [],
   "source": [
    "model.save('lstm.h5')"
   ]
  },
  {
   "cell_type": "code",
   "execution_count": null,
   "id": "d97c0d6c-ecd7-4fee-b711-168681194c01",
   "metadata": {
    "tags": []
   },
   "outputs": [],
   "source": [
    "def plot_graphs(history, metrics):\n",
    "    fig, axs = plt.subplots(nrows = 2, ncols=3, figsize=(12, 6), layout=\"constrained\")\n",
    "    for ax, m in zip(axs.flat, metrics):\n",
    "        ax.plot(history.history[m])\n",
    "        ax.plot(history.history['val_'+ m])\n",
    "        ax.set_title(f'{m}')\n",
    "        # ax.xlabel(\"Epochs\")\n",
    "        # ax.ylabel(m)\n",
    "        # ax.legend([m, 'val_'+ m])\n",
    "        # ax.show()"
   ]
  },
  {
   "cell_type": "code",
   "execution_count": null,
   "id": "746a2a00-8837-479e-af64-faa6bf2322b7",
   "metadata": {
    "tags": []
   },
   "outputs": [],
   "source": [
    "metrics = [\"accuracy\", \"loss\", \"prc\", \"recall\", \"auc\", \"precision\"]"
   ]
  },
  {
   "cell_type": "code",
   "execution_count": null,
   "id": "08ce2e90-3f9b-46ed-936a-a3ef1494850b",
   "metadata": {
    "tags": []
   },
   "outputs": [],
   "source": [
    "plot_graphs(history, metrics)"
   ]
  },
  {
   "cell_type": "code",
   "execution_count": null,
   "id": "84bd8f52-8de3-4ed3-b8ca-68bccbdf9ce5",
   "metadata": {},
   "outputs": [],
   "source": [
    "class estimator:\n",
    "  _estimator_type = ''\n",
    "  classes_=[]\n",
    "  def __init__(self, model, classes):\n",
    "    self.model = model\n",
    "    self._estimator_type = 'classifier'\n",
    "    self.classes_ = classes\n",
    "  def predict(self, X):\n",
    "    y_prob= self.model.predict(X)\n",
    "    y_pred = y_prob.argmax(axis=1)\n",
    "    return y_pred\n",
    "\n",
    "classifier = estimator(model, ['benign','malicious'])"
   ]
  },
  {
   "cell_type": "code",
   "execution_count": null,
   "id": "96df16b8-1771-459b-b12c-f3b1e0ff167e",
   "metadata": {},
   "outputs": [],
   "source": [
    "plot_confusion_matrix(estimator=classifier, X=validation_ds, y_true=validation_labels_ds)"
   ]
  },
  {
   "cell_type": "code",
   "execution_count": null,
   "id": "cee1aa84-6d01-4ad4-8144-ab2061000ec5",
   "metadata": {},
   "outputs": [],
   "source": [
    "# Create a basic model instance\n",
    "model = create_lstm()\n",
    "model.load_weights(ckt_path_lstm)"
   ]
  },
  {
   "cell_type": "code",
   "execution_count": null,
   "id": "9c7be7bf-fe5a-4248-bba1-a0f3b930cb61",
   "metadata": {
    "tags": []
   },
   "outputs": [],
   "source": [
    "# Re-evaluate the model\n",
    "loss, tp, fp, tn, fn, accuracy, bin_ce, precision, recall, auc, prc = model.evaluate(validation_ds, validation_labels_ds, verbose=1)"
   ]
  },
  {
   "cell_type": "code",
   "execution_count": null,
   "id": "26c4d9d8-62af-465b-939c-f6c3c942a5db",
   "metadata": {
    "tags": []
   },
   "outputs": [],
   "source": [
    "print(\"Restored model, accuracy: {:5.2f}%\".format(100 * accuracy))"
   ]
  },
  {
   "cell_type": "code",
   "execution_count": null,
   "id": "833ca34a-ba1a-457d-9645-a3efc25c6914",
   "metadata": {},
   "outputs": [],
   "source": [
    "pred = model.predict(validation_ds)"
   ]
  },
  {
   "cell_type": "code",
   "execution_count": null,
   "id": "ddefa985-505b-41dc-ab72-594af96d463d",
   "metadata": {
    "tags": []
   },
   "outputs": [],
   "source": [
    "pred_class = np.argmax(pred, axis=-1)"
   ]
  },
  {
   "cell_type": "code",
   "execution_count": null,
   "id": "baedf61e-7405-4142-aaa2-a8f4d3205bea",
   "metadata": {
    "tags": []
   },
   "outputs": [],
   "source": [
    "pred_class = list(pred_class)"
   ]
  },
  {
   "cell_type": "code",
   "execution_count": null,
   "id": "bf6dcff9-3e8e-4d5c-9125-44f941872fda",
   "metadata": {
    "tags": []
   },
   "outputs": [],
   "source": [
    "correct_len = len([i for i, j in zip(pred_class, validation_labels) if i == j])\n",
    "total_len = len(pred_class) \n",
    "incorrect_len = total_len - correct_len"
   ]
  },
  {
   "cell_type": "code",
   "execution_count": null,
   "id": "6b795f7a-f986-48e0-be05-011f5ad2cd72",
   "metadata": {
    "tags": []
   },
   "outputs": [],
   "source": [
    "print(f'From a total of {total_len} traces, we correctly predicted {correct_len} and incorrectly predicted {incorrect_len}')"
   ]
  },
  {
   "cell_type": "code",
   "execution_count": null,
   "id": "53970db1-3f74-4e8c-801f-1058051e59b3",
   "metadata": {
    "tags": []
   },
   "outputs": [],
   "source": [
    "# https://www.tensorflow.org/tutorials/video/video_classification\n",
    "def plot_confusion_matrix(actual, predicted, labels):\n",
    "  cm = tf.math.confusion_matrix(actual, predicted)\n",
    "  ax = sns.heatmap(cm, annot=True, fmt='g')\n",
    "  sns.set(rc={'figure.figsize':(12, 12)})\n",
    "  sns.set(font_scale=1.4)\n",
    "  ax.set_title('Confusion matrix of malicious trace recognition')\n",
    "  ax.set_xlabel('Predicted Action')\n",
    "  ax.set_ylabel('Actual Action')\n",
    "  plt.xticks(rotation=90)\n",
    "  plt.yticks(rotation=0)\n",
    "  ax.xaxis.set_ticklabels(labels)\n",
    "  ax.yaxis.set_ticklabels(labels)"
   ]
  },
  {
   "cell_type": "code",
   "execution_count": null,
   "id": "0ddf4341-fb6c-4c79-a5b1-0f0ee6a32a97",
   "metadata": {
    "tags": []
   },
   "outputs": [],
   "source": [
    "labels = [\"benign\", \"malicious\"]"
   ]
  },
  {
   "cell_type": "code",
   "execution_count": null,
   "id": "424c1876-6b49-41a1-89f5-e40a51e002b8",
   "metadata": {
    "tags": []
   },
   "outputs": [],
   "source": [
    "Counter(pred_class)"
   ]
  },
  {
   "cell_type": "code",
   "execution_count": null,
   "id": "551fbe33-5ba9-4e6d-999f-14a8b4f05825",
   "metadata": {
    "tags": []
   },
   "outputs": [],
   "source": [
    "plot_confusion_matrix(validation_labels, pred_class, labels)"
   ]
  },
  {
   "cell_type": "code",
   "execution_count": null,
   "id": "b1ec5907-d94a-40da-b93f-959ed6aecf78",
   "metadata": {},
   "outputs": [],
   "source": []
  },
  {
   "cell_type": "code",
   "execution_count": null,
   "id": "f5c61772-2835-4276-b9aa-5d3f1af2b3ca",
   "metadata": {},
   "outputs": [],
   "source": []
  },
  {
   "cell_type": "code",
   "execution_count": null,
   "id": "3ba9542f-b32e-4be8-8051-f93fd8a7ad16",
   "metadata": {},
   "outputs": [],
   "source": [
    "# labels for the data - "
   ]
  },
  {
   "cell_type": "code",
   "execution_count": null,
   "id": "5499ce4c-9627-4a04-a5d0-567c7d2f0c48",
   "metadata": {},
   "outputs": [],
   "source": [
    "# if theyre predicted to be malicious, add trace ids to a list of values "
   ]
  },
  {
   "cell_type": "code",
   "execution_count": null,
   "id": "0a371f8e-63ac-4a4d-a2d6-85d3b3f65c82",
   "metadata": {},
   "outputs": [],
   "source": [
    "# trace, malicious_trace"
   ]
  },
  {
   "cell_type": "code",
   "execution_count": null,
   "id": "2736f048-6568-44ec-bde1-e8696bedcc7f",
   "metadata": {
    "tags": []
   },
   "outputs": [],
   "source": [
    "# "
   ]
  }
 ],
 "metadata": {
  "kernelspec": {
   "display_name": "conda_tensorflow2_p310",
   "language": "python",
   "name": "conda_tensorflow2_p310"
  },
  "language_info": {
   "codemirror_mode": {
    "name": "ipython",
    "version": 3
   },
   "file_extension": ".py",
   "mimetype": "text/x-python",
   "name": "python",
   "nbconvert_exporter": "python",
   "pygments_lexer": "ipython3",
   "version": "3.10.8"
  }
 },
 "nbformat": 4,
 "nbformat_minor": 5
}
