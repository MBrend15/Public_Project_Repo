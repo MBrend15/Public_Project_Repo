{
 "cells": [
  {
   "cell_type": "code",
   "execution_count": null,
   "id": "c605132c-ae51-48ff-98bf-b7028d120233",
   "metadata": {
    "tags": []
   },
   "outputs": [],
   "source": [
    "# https://towardsdatascience.com/hands-on-generative-adversarial-networks-gan-for-signal-processing-with-python-ff5b8d78bd28"
   ]
  },
  {
   "cell_type": "code",
   "execution_count": 15,
   "id": "8a675010-0fd6-47bf-b96f-8f2bb887bc15",
   "metadata": {
    "tags": []
   },
   "outputs": [],
   "source": [
    "import time\n",
    "from numpy import hstack\n",
    "from numpy import zeros\n",
    "from numpy import ones\n",
    "from numpy.random import rand\n",
    "from numpy.random import randn\n",
    "import numpy as np\n",
    "import pandas as pd\n",
    "from sklearn.utils import resample\n",
    "from sklearn.model_selection import KFold\n",
    "from sklearn.model_selection import train_test_split\n",
    "from sklearn.preprocessing import LabelBinarizer\n",
    "from sklearn.preprocessing import LabelEncoder\n",
    "from collections import Counter\n",
    "import tensorflow as tf\n",
    "from tensorflow import keras\n",
    "from tensorflow.keras import Input\n",
    "from tensorflow.keras import layers\n",
    "from tensorflow.keras.models import Sequential\n",
    "from tensorflow.keras.layers import Dense,LSTM\n",
    "from matplotlib import pyplot\n",
    "import matplotlib.pyplot as plt\n",
    "from pyspark.sql.window import Window"
   ]
  },
  {
   "cell_type": "code",
   "execution_count": 3,
   "id": "1bb956bf-6baa-4f8e-9c83-406b29f6d49f",
   "metadata": {
    "tags": []
   },
   "outputs": [
    {
     "name": "stderr",
     "output_type": "stream",
     "text": [
      "Warning: Ignoring non-Spark config property: fs.s3a.access.key\n",
      "Warning: Ignoring non-Spark config property: fs.s3a.secret.key\n"
     ]
    },
    {
     "name": "stdout",
     "output_type": "stream",
     "text": [
      ":: loading settings :: url = jar:file:/home/ec2-user/anaconda3/envs/tensorflow2_p310/lib/python3.10/site-packages/pyspark/jars/ivy-2.5.0.jar!/org/apache/ivy/core/settings/ivysettings.xml\n"
     ]
    },
    {
     "name": "stderr",
     "output_type": "stream",
     "text": [
      "Ivy Default Cache set to: /home/ec2-user/.ivy2/cache\n",
      "The jars for the packages stored in: /home/ec2-user/.ivy2/jars\n",
      "graphframes#graphframes added as a dependency\n",
      ":: resolving dependencies :: org.apache.spark#spark-submit-parent-6c4b9636-1bc4-40d7-988f-4598ab74dafd;1.0\n",
      "\tconfs: [default]\n",
      "\tfound graphframes#graphframes;0.8.2-spark3.2-s_2.12 in spark-packages\n",
      "\tfound org.slf4j#slf4j-api;1.7.16 in central\n",
      ":: resolution report :: resolve 104ms :: artifacts dl 4ms\n",
      "\t:: modules in use:\n",
      "\tgraphframes#graphframes;0.8.2-spark3.2-s_2.12 from spark-packages in [default]\n",
      "\torg.slf4j#slf4j-api;1.7.16 from central in [default]\n",
      "\t---------------------------------------------------------------------\n",
      "\t|                  |            modules            ||   artifacts   |\n",
      "\t|       conf       | number| search|dwnlded|evicted|| number|dwnlded|\n",
      "\t---------------------------------------------------------------------\n",
      "\t|      default     |   2   |   0   |   0   |   0   ||   2   |   0   |\n",
      "\t---------------------------------------------------------------------\n",
      ":: retrieving :: org.apache.spark#spark-submit-parent-6c4b9636-1bc4-40d7-988f-4598ab74dafd\n",
      "\tconfs: [default]\n",
      "\t0 artifacts copied, 2 already retrieved (0kB/4ms)\n"
     ]
    },
    {
     "name": "stdout",
     "output_type": "stream",
     "text": [
      "23/04/15 16:19:38 WARN NativeCodeLoader: Unable to load native-hadoop library for your platform... using builtin-java classes where applicable\n"
     ]
    },
    {
     "name": "stderr",
     "output_type": "stream",
     "text": [
      "Setting default log level to \"WARN\".\n",
      "To adjust logging level use sc.setLogLevel(newLevel). For SparkR, use setLogLevel(newLevel).\n"
     ]
    },
    {
     "name": "stdout",
     "output_type": "stream",
     "text": [
      "23/04/15 16:19:38 WARN SparkConf: Note that spark.local.dir will be overridden by the value set by the cluster manager (via SPARK_LOCAL_DIRS in mesos/standalone/kubernetes and LOCAL_DIRS in YARN).\n"
     ]
    }
   ],
   "source": [
    "# prepare real data\n",
    "%run ./read_file.ipynb"
   ]
  },
  {
   "cell_type": "code",
   "execution_count": 4,
   "id": "4d0d1926-c076-4cd4-85dc-a0067ffccd68",
   "metadata": {},
   "outputs": [],
   "source": [
    "def read_motifs():\n",
    "    data = spark.read.parquet(*[\"s3a://sapient-bucket-trusted/prod/graph/motifs/filtered/*\"]).cache()\n",
    "    # about 13 minutes to read\n",
    "    start_time = time.time()\n",
    "    print(data.count())\n",
    "    print(time.strftime('%l:%M%p %Z on %b %d, %Y') + \" --- read and cache time: %s seconds ---\" % (time.time() - start_time))"
   ]
  },
  {
   "cell_type": "code",
   "execution_count": 5,
   "id": "be109d3f-9bf6-429c-985c-a7738febeabd",
   "metadata": {
    "tags": []
   },
   "outputs": [],
   "source": [
    "def write_malicious(ds):\n",
    "    ds_mal = ds.filter(col(\"malicious\") == 1).cache()\n",
    "    ds_mal.count()\n",
    "    ds_mal.write.option(\"maxRecordsPerFile\", 300000).mode(\"overwrite\").partitionBy(\"motif\").parquet(\"s3a://sapient-bucket-trusted/prod/graph/motifs/malicious/\")\n",
    "    ds.unpersist()\n",
    "    ds_mal.unpersist()"
   ]
  },
  {
   "cell_type": "code",
   "execution_count": 28,
   "id": "bf683956-38a3-45dc-bf13-be509907101f",
   "metadata": {
    "tags": []
   },
   "outputs": [],
   "source": [
    "def create_plot_data():\n",
    "    data = spark.read.parquet(*[\"s3a://sapient-bucket-trusted/prod/graph/motifs/malicious/*\"]).cache()\n",
    "    start_time = time.time()\n",
    "    print(data.count())\n",
    "    print(time.strftime('%l:%M%p %Z on %b %d, %Y') + \" --- read and cache time: %s seconds ---\" % (time.time() - start_time))\n",
    "    # create duplicate data and swap columns\n",
    "    data2 = data.cache()\n",
    "    data2.count()\n",
    "    data2 = data2.withColumnRenamed(\"src\", \"temp\")\n",
    "    data2 = data2.withColumnRenamed(\"dst\", \"src\")\n",
    "    data2 = data2.withColumnRenamed(\"temp\", \"dst\")\n",
    "    plot_data = data.union(data2).cache()\n",
    "    plot_data.count()\n",
    "    hrWindow = Window.partitionBy(hour(\"timestamp\")).orderBy(\"timestamp\")\n",
    "    traceWindow = Window.partitionBy().orderBy(\"Trace\")\n",
    "    plot_data = plot_data.withColumn(\"x_val\", row_number().over(hrWindow)).cache()\n",
    "    plot_data = plot_data.withColumn(\"y_val\", row_number().over(traceWindow)).cache()\n",
    "    plot_data.count()\n",
    "    plot_data.write.option(\"maxRecordsPerFile\", 300000).mode(\"overwrite\").parquet(\"s3a://sapient-bucket-trusted/prod/graph/motifs/plot/\")\n",
    "    plot_data.unpersist()\n",
    "    data.unpersist()\n",
    "    data2.unpersist()"
   ]
  },
  {
   "cell_type": "code",
   "execution_count": null,
   "id": "04079d0d-b8f3-4793-810d-c670ceb60435",
   "metadata": {},
   "outputs": [],
   "source": []
  },
  {
   "cell_type": "code",
   "execution_count": 56,
   "id": "6cac1fb4-af87-43e5-9e54-d7ed4357ecfd",
   "metadata": {
    "tags": []
   },
   "outputs": [
    {
     "name": "stderr",
     "output_type": "stream",
     "text": [
      "[Stage 52:=====================================================>(538 + 1) / 539]\r"
     ]
    },
    {
     "name": "stdout",
     "output_type": "stream",
     "text": [
      "1876866963\n",
      " 7:01PM UTC on Apr 15, 2023 --- read and cache time: 809.0210809707642 seconds ---\n"
     ]
    },
    {
     "name": "stderr",
     "output_type": "stream",
     "text": [
      "                                                                                \r"
     ]
    }
   ],
   "source": [
    "dm = read_motifs()"
   ]
  },
  {
   "cell_type": "code",
   "execution_count": 57,
   "id": "5daebafd-1db7-4a0a-ad8d-f1fcf5dcc45e",
   "metadata": {
    "tags": []
   },
   "outputs": [
    {
     "ename": "NameError",
     "evalue": "name 'df' is not defined",
     "output_type": "error",
     "traceback": [
      "\u001b[0;31m---------------------------------------------------------------------------\u001b[0m",
      "\u001b[0;31mNameError\u001b[0m                                 Traceback (most recent call last)",
      "\u001b[0;32m/tmp/ipykernel_30726/1771151720.py\u001b[0m in \u001b[0;36m<cell line: 1>\u001b[0;34m()\u001b[0m\n\u001b[0;32m----> 1\u001b[0;31m \u001b[0mdf\u001b[0m\u001b[0;34m.\u001b[0m\u001b[0mgroupBy\u001b[0m\u001b[0;34m(\u001b[0m \u001b[0mcol\u001b[0m\u001b[0;34m(\u001b[0m\u001b[0;34m'even'\u001b[0m\u001b[0;34m)\u001b[0m \u001b[0;34m)\u001b[0m\u001b[0;34m.\u001b[0m\u001b[0magg\u001b[0m\u001b[0;34m(\u001b[0m \u001b[0mcount\u001b[0m\u001b[0;34m(\u001b[0m\u001b[0;34m(\u001b[0m\u001b[0mcol\u001b[0m\u001b[0;34m(\u001b[0m\u001b[0;34m'event'\u001b[0m\u001b[0;34m)\u001b[0m\u001b[0;34m)\u001b[0m\u001b[0;34m)\u001b[0m\u001b[0;34m)\u001b[0m\u001b[0;34m.\u001b[0m\u001b[0morderBy\u001b[0m\u001b[0;34m(\u001b[0m \u001b[0mcol\u001b[0m\u001b[0;34m(\u001b[0m\u001b[0;34m\"count(event)\"\u001b[0m\u001b[0;34m)\u001b[0m\u001b[0;34m.\u001b[0m\u001b[0mdesc\u001b[0m\u001b[0;34m(\u001b[0m\u001b[0;34m)\u001b[0m \u001b[0;34m)\u001b[0m\u001b[0;34m.\u001b[0m\u001b[0mlimit\u001b[0m\u001b[0;34m(\u001b[0m\u001b[0;36m15\u001b[0m\u001b[0;34m)\u001b[0m\u001b[0;34m.\u001b[0m\u001b[0mtoPandas\u001b[0m\u001b[0;34m(\u001b[0m\u001b[0;34m)\u001b[0m\u001b[0;34m\u001b[0m\u001b[0;34m\u001b[0m\u001b[0m\n\u001b[0m",
      "\u001b[0;31mNameError\u001b[0m: name 'df' is not defined"
     ]
    }
   ],
   "source": [
    "df.groupBy( col('even') ).agg( count((col('event')))).orderBy( col(\"count(event)\").desc() ).limit(15).toPandas()"
   ]
  },
  {
   "cell_type": "code",
   "execution_count": 31,
   "id": "a7780d8d-a920-4efb-bc65-35c20eb99075",
   "metadata": {
    "tags": []
   },
   "outputs": [],
   "source": [
    "# write_malicious(data)"
   ]
  },
  {
   "cell_type": "code",
   "execution_count": 32,
   "id": "5d7cff3b-a1d0-4745-9702-a5efd259aa21",
   "metadata": {},
   "outputs": [],
   "source": [
    "# create_plot_data()"
   ]
  },
  {
   "cell_type": "code",
   "execution_count": null,
   "id": "6de0d0aa-9538-4425-9bf0-ffe7ae94e321",
   "metadata": {
    "tags": []
   },
   "outputs": [],
   "source": []
  },
  {
   "cell_type": "code",
   "execution_count": 26,
   "id": "71d4a454-fca4-424c-91b0-27e6570e3491",
   "metadata": {
    "tags": []
   },
   "outputs": [],
   "source": [
    "plot_data = spark.read.parquet(\"s3a://sapient-bucket-trusted/prod/graph/motifs/plot/*\").cache()"
   ]
  },
  {
   "cell_type": "code",
   "execution_count": 27,
   "id": "eb205853-b02b-45a1-9085-7d3e4a08496f",
   "metadata": {
    "tags": []
   },
   "outputs": [
    {
     "name": "stderr",
     "output_type": "stream",
     "text": [
      "[Stage 24:============================>                          (16 + 15) / 31]\r"
     ]
    },
    {
     "name": "stdout",
     "output_type": "stream",
     "text": [
      "4587520\n",
      " 4:51PM UTC on Apr 15, 2023 --- read and cache time: 4.176474571228027 seconds ---\n"
     ]
    },
    {
     "name": "stderr",
     "output_type": "stream",
     "text": [
      "                                                                                \r"
     ]
    }
   ],
   "source": [
    "start_time = time.time()\n",
    "print(plot_data.count())\n",
    "print(time.strftime('%l:%M%p %Z on %b %d, %Y') + \" --- read and cache time: %s seconds ---\" % (time.time() - start_time))"
   ]
  },
  {
   "cell_type": "code",
   "execution_count": 35,
   "id": "9a2f1bfe-40cc-42cd-a34b-b0498fa7f805",
   "metadata": {
    "tags": []
   },
   "outputs": [],
   "source": [
    "plot_data = plot_data.orderBy( col('Trace').asc()).limit(300000).cache()"
   ]
  },
  {
   "cell_type": "code",
   "execution_count": 36,
   "id": "55ef9203-d788-4f99-b0e5-b97bcba6b9e0",
   "metadata": {
    "tags": []
   },
   "outputs": [
    {
     "name": "stderr",
     "output_type": "stream",
     "text": [
      "                                                                                \r"
     ]
    },
    {
     "data": {
      "text/plain": [
       "300000"
      ]
     },
     "execution_count": 36,
     "metadata": {},
     "output_type": "execute_result"
    }
   ],
   "source": [
    "plot_data.count()"
   ]
  },
  {
   "cell_type": "code",
   "execution_count": 38,
   "id": "7037d6e9-e068-4894-ab00-81ef3a9b52cc",
   "metadata": {
    "tags": []
   },
   "outputs": [
    {
     "name": "stderr",
     "output_type": "stream",
     "text": [
      "                                                                                \r"
     ]
    }
   ],
   "source": [
    "plot_data.write.option(\"header\",True).mode(\"overwrite\").csv(\"s3a://sapient-bucket-trusted/prod/graph/motifs/plot_csv/\")"
   ]
  },
  {
   "cell_type": "code",
   "execution_count": 55,
   "id": "57b6cb5c-2c02-47e5-8e64-1145b8f65716",
   "metadata": {
    "tags": []
   },
   "outputs": [
    {
     "data": {
      "text/html": [
       "<div>\n",
       "<style scoped>\n",
       "    .dataframe tbody tr th:only-of-type {\n",
       "        vertical-align: middle;\n",
       "    }\n",
       "\n",
       "    .dataframe tbody tr th {\n",
       "        vertical-align: top;\n",
       "    }\n",
       "\n",
       "    .dataframe thead th {\n",
       "        text-align: right;\n",
       "    }\n",
       "</style>\n",
       "<table border=\"1\" class=\"dataframe\">\n",
       "  <thead>\n",
       "    <tr style=\"text-align: right;\">\n",
       "      <th></th>\n",
       "      <th>Trace</th>\n",
       "      <th>count(hostname)</th>\n",
       "    </tr>\n",
       "  </thead>\n",
       "  <tbody>\n",
       "    <tr>\n",
       "      <th>0</th>\n",
       "      <td>1005022455044-2</td>\n",
       "      <td>1</td>\n",
       "    </tr>\n",
       "    <tr>\n",
       "      <th>1</th>\n",
       "      <td>1005022456260-2</td>\n",
       "      <td>1</td>\n",
       "    </tr>\n",
       "    <tr>\n",
       "      <th>2</th>\n",
       "      <td>1005022456264-2</td>\n",
       "      <td>1</td>\n",
       "    </tr>\n",
       "    <tr>\n",
       "      <th>3</th>\n",
       "      <td>1005022456267-2</td>\n",
       "      <td>1</td>\n",
       "    </tr>\n",
       "    <tr>\n",
       "      <th>4</th>\n",
       "      <td>1005022456272-2</td>\n",
       "      <td>1</td>\n",
       "    </tr>\n",
       "    <tr>\n",
       "      <th>5</th>\n",
       "      <td>1005022456276-2</td>\n",
       "      <td>1</td>\n",
       "    </tr>\n",
       "    <tr>\n",
       "      <th>6</th>\n",
       "      <td>1005022456277-2</td>\n",
       "      <td>1</td>\n",
       "    </tr>\n",
       "    <tr>\n",
       "      <th>7</th>\n",
       "      <td>1005022456278-2</td>\n",
       "      <td>1</td>\n",
       "    </tr>\n",
       "    <tr>\n",
       "      <th>8</th>\n",
       "      <td>1005022456281-2</td>\n",
       "      <td>1</td>\n",
       "    </tr>\n",
       "    <tr>\n",
       "      <th>9</th>\n",
       "      <td>1005022456282-2</td>\n",
       "      <td>1</td>\n",
       "    </tr>\n",
       "    <tr>\n",
       "      <th>10</th>\n",
       "      <td>1005022456286-2</td>\n",
       "      <td>1</td>\n",
       "    </tr>\n",
       "    <tr>\n",
       "      <th>11</th>\n",
       "      <td>1005022456287-2</td>\n",
       "      <td>1</td>\n",
       "    </tr>\n",
       "    <tr>\n",
       "      <th>12</th>\n",
       "      <td>1005022456290-2</td>\n",
       "      <td>1</td>\n",
       "    </tr>\n",
       "    <tr>\n",
       "      <th>13</th>\n",
       "      <td>1005022456300-2</td>\n",
       "      <td>1</td>\n",
       "    </tr>\n",
       "    <tr>\n",
       "      <th>14</th>\n",
       "      <td>1005022456305-2</td>\n",
       "      <td>1</td>\n",
       "    </tr>\n",
       "  </tbody>\n",
       "</table>\n",
       "</div>"
      ],
      "text/plain": [
       "              Trace  count(hostname)\n",
       "0   1005022455044-2                1\n",
       "1   1005022456260-2                1\n",
       "2   1005022456264-2                1\n",
       "3   1005022456267-2                1\n",
       "4   1005022456272-2                1\n",
       "5   1005022456276-2                1\n",
       "6   1005022456277-2                1\n",
       "7   1005022456278-2                1\n",
       "8   1005022456281-2                1\n",
       "9   1005022456282-2                1\n",
       "10  1005022456286-2                1\n",
       "11  1005022456287-2                1\n",
       "12  1005022456290-2                1\n",
       "13  1005022456300-2                1\n",
       "14  1005022456305-2                1"
      ]
     },
     "execution_count": 55,
     "metadata": {},
     "output_type": "execute_result"
    }
   ],
   "source": [
    "plot_data.groupBy( col('Trace') ).agg( countDistinct((col('hostname')))).orderBy( col(\"count(hostname)\").desc() ).limit(15).toPandas()"
   ]
  },
  {
   "cell_type": "code",
   "execution_count": null,
   "id": "4dca0567-379b-4456-8abf-79647714cbd0",
   "metadata": {},
   "outputs": [],
   "source": []
  },
  {
   "cell_type": "code",
   "execution_count": 48,
   "id": "53cbf5b0-9645-4d67-9e55-3c1d95d07057",
   "metadata": {
    "tags": []
   },
   "outputs": [
    {
     "data": {
      "text/html": [
       "<div>\n",
       "<style scoped>\n",
       "    .dataframe tbody tr th:only-of-type {\n",
       "        vertical-align: middle;\n",
       "    }\n",
       "\n",
       "    .dataframe tbody tr th {\n",
       "        vertical-align: top;\n",
       "    }\n",
       "\n",
       "    .dataframe thead th {\n",
       "        text-align: right;\n",
       "    }\n",
       "</style>\n",
       "<table border=\"1\" class=\"dataframe\">\n",
       "  <thead>\n",
       "    <tr style=\"text-align: right;\">\n",
       "      <th></th>\n",
       "      <th>Trace</th>\n",
       "      <th>event</th>\n",
       "      <th>src</th>\n",
       "      <th>dst</th>\n",
       "      <th>timestamp</th>\n",
       "      <th>object</th>\n",
       "      <th>action</th>\n",
       "      <th>hostname</th>\n",
       "      <th>user_name</th>\n",
       "      <th>privileges</th>\n",
       "      <th>...</th>\n",
       "      <th>file_path</th>\n",
       "      <th>direction</th>\n",
       "      <th>logon_id</th>\n",
       "      <th>requesting_domain</th>\n",
       "      <th>requesting_user</th>\n",
       "      <th>malicious</th>\n",
       "      <th>file_path_ext</th>\n",
       "      <th>timestamp_bins</th>\n",
       "      <th>x_val</th>\n",
       "      <th>y_val</th>\n",
       "    </tr>\n",
       "  </thead>\n",
       "  <tbody>\n",
       "    <tr>\n",
       "      <th>0</th>\n",
       "      <td>1005022798242-3</td>\n",
       "      <td>e2</td>\n",
       "      <td>9a017fd4-947f-4890-af69-adce16d81e74</td>\n",
       "      <td>a52f6519-6265-4437-9f6c-3402fb245cc7</td>\n",
       "      <td>2019-09-23 15:40:20.828</td>\n",
       "      <td>PROCESS</td>\n",
       "      <td>OPEN</td>\n",
       "      <td>SysClient0201.systemia.com</td>\n",
       "      <td>None</td>\n",
       "      <td>None</td>\n",
       "      <td>...</td>\n",
       "      <td>None</td>\n",
       "      <td>None</td>\n",
       "      <td>None</td>\n",
       "      <td>None</td>\n",
       "      <td>None</td>\n",
       "      <td>1</td>\n",
       "      <td>None</td>\n",
       "      <td>1.0</td>\n",
       "      <td>95504</td>\n",
       "      <td>31281</td>\n",
       "    </tr>\n",
       "    <tr>\n",
       "      <th>1</th>\n",
       "      <td>1005022798242-3</td>\n",
       "      <td>e2</td>\n",
       "      <td>9a017fd4-947f-4890-af69-adce16d81e74</td>\n",
       "      <td>a52f6519-6265-4437-9f6c-3402fb245cc7</td>\n",
       "      <td>2019-09-23 15:40:20.828</td>\n",
       "      <td>PROCESS</td>\n",
       "      <td>OPEN</td>\n",
       "      <td>SysClient0201.systemia.com</td>\n",
       "      <td>None</td>\n",
       "      <td>None</td>\n",
       "      <td>...</td>\n",
       "      <td>None</td>\n",
       "      <td>None</td>\n",
       "      <td>None</td>\n",
       "      <td>None</td>\n",
       "      <td>None</td>\n",
       "      <td>1</td>\n",
       "      <td>None</td>\n",
       "      <td>1.0</td>\n",
       "      <td>95624</td>\n",
       "      <td>31282</td>\n",
       "    </tr>\n",
       "    <tr>\n",
       "      <th>2</th>\n",
       "      <td>1005022798243-3</td>\n",
       "      <td>e2</td>\n",
       "      <td>9a017fd4-947f-4890-af69-adce16d81e74</td>\n",
       "      <td>a52f6519-6265-4437-9f6c-3402fb245cc7</td>\n",
       "      <td>2019-09-23 15:40:20.828</td>\n",
       "      <td>PROCESS</td>\n",
       "      <td>OPEN</td>\n",
       "      <td>SysClient0201.systemia.com</td>\n",
       "      <td>None</td>\n",
       "      <td>None</td>\n",
       "      <td>...</td>\n",
       "      <td>None</td>\n",
       "      <td>None</td>\n",
       "      <td>None</td>\n",
       "      <td>None</td>\n",
       "      <td>None</td>\n",
       "      <td>1</td>\n",
       "      <td>None</td>\n",
       "      <td>1.0</td>\n",
       "      <td>95484</td>\n",
       "      <td>31283</td>\n",
       "    </tr>\n",
       "    <tr>\n",
       "      <th>3</th>\n",
       "      <td>1005022798243-3</td>\n",
       "      <td>e2</td>\n",
       "      <td>9a017fd4-947f-4890-af69-adce16d81e74</td>\n",
       "      <td>a52f6519-6265-4437-9f6c-3402fb245cc7</td>\n",
       "      <td>2019-09-23 15:40:20.828</td>\n",
       "      <td>PROCESS</td>\n",
       "      <td>OPEN</td>\n",
       "      <td>SysClient0201.systemia.com</td>\n",
       "      <td>None</td>\n",
       "      <td>None</td>\n",
       "      <td>...</td>\n",
       "      <td>None</td>\n",
       "      <td>None</td>\n",
       "      <td>None</td>\n",
       "      <td>None</td>\n",
       "      <td>None</td>\n",
       "      <td>1</td>\n",
       "      <td>None</td>\n",
       "      <td>1.0</td>\n",
       "      <td>95604</td>\n",
       "      <td>31284</td>\n",
       "    </tr>\n",
       "  </tbody>\n",
       "</table>\n",
       "<p>4 rows × 23 columns</p>\n",
       "</div>"
      ],
      "text/plain": [
       "             Trace event                                   src  \\\n",
       "0  1005022798242-3    e2  9a017fd4-947f-4890-af69-adce16d81e74   \n",
       "1  1005022798242-3    e2  9a017fd4-947f-4890-af69-adce16d81e74   \n",
       "2  1005022798243-3    e2  9a017fd4-947f-4890-af69-adce16d81e74   \n",
       "3  1005022798243-3    e2  9a017fd4-947f-4890-af69-adce16d81e74   \n",
       "\n",
       "                                    dst               timestamp   object  \\\n",
       "0  a52f6519-6265-4437-9f6c-3402fb245cc7 2019-09-23 15:40:20.828  PROCESS   \n",
       "1  a52f6519-6265-4437-9f6c-3402fb245cc7 2019-09-23 15:40:20.828  PROCESS   \n",
       "2  a52f6519-6265-4437-9f6c-3402fb245cc7 2019-09-23 15:40:20.828  PROCESS   \n",
       "3  a52f6519-6265-4437-9f6c-3402fb245cc7 2019-09-23 15:40:20.828  PROCESS   \n",
       "\n",
       "  action                    hostname user_name privileges  ... file_path  \\\n",
       "0   OPEN  SysClient0201.systemia.com      None       None  ...      None   \n",
       "1   OPEN  SysClient0201.systemia.com      None       None  ...      None   \n",
       "2   OPEN  SysClient0201.systemia.com      None       None  ...      None   \n",
       "3   OPEN  SysClient0201.systemia.com      None       None  ...      None   \n",
       "\n",
       "  direction logon_id requesting_domain requesting_user malicious  \\\n",
       "0      None     None              None            None         1   \n",
       "1      None     None              None            None         1   \n",
       "2      None     None              None            None         1   \n",
       "3      None     None              None            None         1   \n",
       "\n",
       "  file_path_ext timestamp_bins  x_val  y_val  \n",
       "0          None            1.0  95504  31281  \n",
       "1          None            1.0  95624  31282  \n",
       "2          None            1.0  95484  31283  \n",
       "3          None            1.0  95604  31284  \n",
       "\n",
       "[4 rows x 23 columns]"
      ]
     },
     "execution_count": 48,
     "metadata": {},
     "output_type": "execute_result"
    }
   ],
   "source": [
    "plot_data.filter( col('event') == 'e2').limit(4).toPandas()"
   ]
  },
  {
   "cell_type": "code",
   "execution_count": 47,
   "id": "310f826f-7975-4b8b-9736-d70726799af7",
   "metadata": {
    "tags": []
   },
   "outputs": [
    {
     "data": {
      "text/html": [
       "<div>\n",
       "<style scoped>\n",
       "    .dataframe tbody tr th:only-of-type {\n",
       "        vertical-align: middle;\n",
       "    }\n",
       "\n",
       "    .dataframe tbody tr th {\n",
       "        vertical-align: top;\n",
       "    }\n",
       "\n",
       "    .dataframe thead th {\n",
       "        text-align: right;\n",
       "    }\n",
       "</style>\n",
       "<table border=\"1\" class=\"dataframe\">\n",
       "  <thead>\n",
       "    <tr style=\"text-align: right;\">\n",
       "      <th></th>\n",
       "      <th>Trace</th>\n",
       "      <th>event</th>\n",
       "      <th>src</th>\n",
       "      <th>dst</th>\n",
       "      <th>timestamp</th>\n",
       "      <th>object</th>\n",
       "      <th>action</th>\n",
       "      <th>hostname</th>\n",
       "      <th>user_name</th>\n",
       "      <th>privileges</th>\n",
       "      <th>...</th>\n",
       "      <th>file_path</th>\n",
       "      <th>direction</th>\n",
       "      <th>logon_id</th>\n",
       "      <th>requesting_domain</th>\n",
       "      <th>requesting_user</th>\n",
       "      <th>malicious</th>\n",
       "      <th>file_path_ext</th>\n",
       "      <th>timestamp_bins</th>\n",
       "      <th>x_val</th>\n",
       "      <th>y_val</th>\n",
       "    </tr>\n",
       "  </thead>\n",
       "  <tbody>\n",
       "    <tr>\n",
       "      <th>0</th>\n",
       "      <td>1005022567347-5</td>\n",
       "      <td>e1</td>\n",
       "      <td>78039857-c291-4da1-b4bf-813dd445f1b7</td>\n",
       "      <td>96913629-c1c9-4503-9586-4a91de0e7311</td>\n",
       "      <td>2019-09-23 15:23:55.877</td>\n",
       "      <td>FILE</td>\n",
       "      <td>READ</td>\n",
       "      <td>SysClient0201.systemia.com</td>\n",
       "      <td>None</td>\n",
       "      <td>None</td>\n",
       "      <td>...</td>\n",
       "      <td>\\Device\\HarddiskVolume1\\Windows\\Prefetch\\POWER...</td>\n",
       "      <td>None</td>\n",
       "      <td>None</td>\n",
       "      <td>None</td>\n",
       "      <td>None</td>\n",
       "      <td>1</td>\n",
       "      <td>.pf</td>\n",
       "      <td>NaN</td>\n",
       "      <td>28</td>\n",
       "      <td>12515</td>\n",
       "    </tr>\n",
       "    <tr>\n",
       "      <th>1</th>\n",
       "      <td>1005022567347-5</td>\n",
       "      <td>e1</td>\n",
       "      <td>78039857-c291-4da1-b4bf-813dd445f1b7</td>\n",
       "      <td>96913629-c1c9-4503-9586-4a91de0e7311</td>\n",
       "      <td>2019-09-23 15:23:55.877</td>\n",
       "      <td>FILE</td>\n",
       "      <td>READ</td>\n",
       "      <td>SysClient0201.systemia.com</td>\n",
       "      <td>None</td>\n",
       "      <td>None</td>\n",
       "      <td>...</td>\n",
       "      <td>\\Device\\HarddiskVolume1\\Windows\\Prefetch\\POWER...</td>\n",
       "      <td>None</td>\n",
       "      <td>None</td>\n",
       "      <td>None</td>\n",
       "      <td>None</td>\n",
       "      <td>1</td>\n",
       "      <td>.pf</td>\n",
       "      <td>NaN</td>\n",
       "      <td>104</td>\n",
       "      <td>12516</td>\n",
       "    </tr>\n",
       "    <tr>\n",
       "      <th>2</th>\n",
       "      <td>1005022567347-5</td>\n",
       "      <td>e4</td>\n",
       "      <td>1404b405-e255-488d-ae49-069307de36a4</td>\n",
       "      <td>a52f6519-6265-4437-9f6c-3402fb245cc7</td>\n",
       "      <td>2019-09-23 15:40:27.474</td>\n",
       "      <td>PROCESS</td>\n",
       "      <td>OPEN</td>\n",
       "      <td>SysClient0201.systemia.com</td>\n",
       "      <td>None</td>\n",
       "      <td>None</td>\n",
       "      <td>...</td>\n",
       "      <td>None</td>\n",
       "      <td>None</td>\n",
       "      <td>None</td>\n",
       "      <td>None</td>\n",
       "      <td>None</td>\n",
       "      <td>1</td>\n",
       "      <td>None</td>\n",
       "      <td>0.0</td>\n",
       "      <td>251795</td>\n",
       "      <td>12517</td>\n",
       "    </tr>\n",
       "    <tr>\n",
       "      <th>3</th>\n",
       "      <td>1005022567347-5</td>\n",
       "      <td>e4</td>\n",
       "      <td>1404b405-e255-488d-ae49-069307de36a4</td>\n",
       "      <td>a52f6519-6265-4437-9f6c-3402fb245cc7</td>\n",
       "      <td>2019-09-23 15:40:27.474</td>\n",
       "      <td>PROCESS</td>\n",
       "      <td>OPEN</td>\n",
       "      <td>SysClient0201.systemia.com</td>\n",
       "      <td>None</td>\n",
       "      <td>None</td>\n",
       "      <td>...</td>\n",
       "      <td>None</td>\n",
       "      <td>None</td>\n",
       "      <td>None</td>\n",
       "      <td>None</td>\n",
       "      <td>None</td>\n",
       "      <td>1</td>\n",
       "      <td>None</td>\n",
       "      <td>0.0</td>\n",
       "      <td>273115</td>\n",
       "      <td>12518</td>\n",
       "    </tr>\n",
       "  </tbody>\n",
       "</table>\n",
       "<p>4 rows × 23 columns</p>\n",
       "</div>"
      ],
      "text/plain": [
       "             Trace event                                   src  \\\n",
       "0  1005022567347-5    e1  78039857-c291-4da1-b4bf-813dd445f1b7   \n",
       "1  1005022567347-5    e1  78039857-c291-4da1-b4bf-813dd445f1b7   \n",
       "2  1005022567347-5    e4  1404b405-e255-488d-ae49-069307de36a4   \n",
       "3  1005022567347-5    e4  1404b405-e255-488d-ae49-069307de36a4   \n",
       "\n",
       "                                    dst               timestamp   object  \\\n",
       "0  96913629-c1c9-4503-9586-4a91de0e7311 2019-09-23 15:23:55.877     FILE   \n",
       "1  96913629-c1c9-4503-9586-4a91de0e7311 2019-09-23 15:23:55.877     FILE   \n",
       "2  a52f6519-6265-4437-9f6c-3402fb245cc7 2019-09-23 15:40:27.474  PROCESS   \n",
       "3  a52f6519-6265-4437-9f6c-3402fb245cc7 2019-09-23 15:40:27.474  PROCESS   \n",
       "\n",
       "  action                    hostname user_name privileges  ...  \\\n",
       "0   READ  SysClient0201.systemia.com      None       None  ...   \n",
       "1   READ  SysClient0201.systemia.com      None       None  ...   \n",
       "2   OPEN  SysClient0201.systemia.com      None       None  ...   \n",
       "3   OPEN  SysClient0201.systemia.com      None       None  ...   \n",
       "\n",
       "                                           file_path direction logon_id  \\\n",
       "0  \\Device\\HarddiskVolume1\\Windows\\Prefetch\\POWER...      None     None   \n",
       "1  \\Device\\HarddiskVolume1\\Windows\\Prefetch\\POWER...      None     None   \n",
       "2                                               None      None     None   \n",
       "3                                               None      None     None   \n",
       "\n",
       "  requesting_domain requesting_user malicious file_path_ext timestamp_bins  \\\n",
       "0              None            None         1           .pf            NaN   \n",
       "1              None            None         1           .pf            NaN   \n",
       "2              None            None         1          None            0.0   \n",
       "3              None            None         1          None            0.0   \n",
       "\n",
       "    x_val  y_val  \n",
       "0      28  12515  \n",
       "1     104  12516  \n",
       "2  251795  12517  \n",
       "3  273115  12518  \n",
       "\n",
       "[4 rows x 23 columns]"
      ]
     },
     "execution_count": 47,
     "metadata": {},
     "output_type": "execute_result"
    }
   ],
   "source": [
    "plot_data.filter( col('Trace') == '1005022567347-5').toPandas()"
   ]
  },
  {
   "cell_type": "code",
   "execution_count": null,
   "id": "900fc223-6aac-4b2c-a933-11360aaf5f0b",
   "metadata": {},
   "outputs": [],
   "source": []
  }
 ],
 "metadata": {
  "kernelspec": {
   "display_name": "conda_tensorflow2_p310",
   "language": "python",
   "name": "conda_tensorflow2_p310"
  },
  "language_info": {
   "codemirror_mode": {
    "name": "ipython",
    "version": 3
   },
   "file_extension": ".py",
   "mimetype": "text/x-python",
   "name": "python",
   "nbconvert_exporter": "python",
   "pygments_lexer": "ipython3",
   "version": "3.10.8"
  }
 },
 "nbformat": 4,
 "nbformat_minor": 5
}
